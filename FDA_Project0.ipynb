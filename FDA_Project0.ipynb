{
  "nbformat": 4,
  "nbformat_minor": 0,
  "metadata": {
    "colab": {
      "name": "FDA Project.ipynb",
      "provenance": [],
      "collapsed_sections": []
    },
    "kernelspec": {
      "name": "ir",
      "display_name": "R"
    },
    "language_info": {
      "name": "R"
    }
  },
  "cells": [
    {
      "cell_type": "code",
      "metadata": {
        "colab": {
          "base_uri": "https://localhost:8080/",
          "height": 34
        },
        "id": "Wh3aHJW22hnt",
        "outputId": "680c21ce-132f-4690-b112-80a56b1e0f80"
      },
      "source": [
        "R.version.string"
      ],
      "execution_count": null,
      "outputs": [
        {
          "output_type": "display_data",
          "data": {
            "text/plain": [
              "[1] \"R version 4.1.1 (2021-08-10)\""
            ],
            "text/latex": "'R version 4.1.1 (2021-08-10)'",
            "text/markdown": "'R version 4.1.1 (2021-08-10)'",
            "text/html": [
              "'R version 4.1.1 (2021-08-10)'"
            ]
          },
          "metadata": {}
        }
      ]
    },
    {
      "cell_type": "code",
      "metadata": {
        "id": "cnLY8Cro5Xzg",
        "colab": {
          "base_uri": "https://localhost:8080/"
        },
        "outputId": "66ac1b5a-5a97-4367-b8a1-518a64f0c7f7"
      },
      "source": [
        "# Library block\n",
        "library(readr)\n",
        "library(ggplot2)\n",
        "library(tidyverse)\n",
        "library(rpart)"
      ],
      "execution_count": 1,
      "outputs": [
        {
          "output_type": "stream",
          "name": "stderr",
          "text": [
            "Warning message in system(\"timedatectl\", intern = TRUE):\n",
            "“running command 'timedatectl' had status 1”\n",
            "── \u001b[1mAttaching packages\u001b[22m ─────────────────────────────────────── tidyverse 1.3.1 ──\n",
            "\n",
            "\u001b[32m✔\u001b[39m \u001b[34mtibble \u001b[39m 3.1.4     \u001b[32m✔\u001b[39m \u001b[34mdplyr  \u001b[39m 1.0.7\n",
            "\u001b[32m✔\u001b[39m \u001b[34mtidyr  \u001b[39m 1.1.3     \u001b[32m✔\u001b[39m \u001b[34mstringr\u001b[39m 1.4.0\n",
            "\u001b[32m✔\u001b[39m \u001b[34mpurrr  \u001b[39m 0.3.4     \u001b[32m✔\u001b[39m \u001b[34mforcats\u001b[39m 0.5.1\n",
            "\n",
            "── \u001b[1mConflicts\u001b[22m ────────────────────────────────────────── tidyverse_conflicts() ──\n",
            "\u001b[31m✖\u001b[39m \u001b[34mdplyr\u001b[39m::\u001b[32mfilter()\u001b[39m masks \u001b[34mstats\u001b[39m::filter()\n",
            "\u001b[31m✖\u001b[39m \u001b[34mdplyr\u001b[39m::\u001b[32mlag()\u001b[39m    masks \u001b[34mstats\u001b[39m::lag()\n",
            "\n"
          ]
        }
      ]
    },
    {
      "cell_type": "code",
      "metadata": {
        "colab": {
          "base_uri": "https://localhost:8080/",
          "height": 221
        },
        "id": "okX7t9YO4OUU",
        "outputId": "46a1d23f-f9d5-42d4-caa4-b921a26cefe3"
      },
      "source": [
        "train = read_csv(\"train.csv\")\n",
        "dim(train)"
      ],
      "execution_count": 27,
      "outputs": [
        {
          "output_type": "stream",
          "name": "stderr",
          "text": [
            "\u001b[1m\u001b[1mRows: \u001b[1m\u001b[22m\u001b[34m\u001b[34m3070\u001b[34m\u001b[39m \u001b[1m\u001b[1mColumns: \u001b[1m\u001b[22m\u001b[34m\u001b[34m143\u001b[34m\u001b[39m\n",
            "\n",
            "\u001b[36m──\u001b[39m \u001b[1m\u001b[1mColumn specification\u001b[1m\u001b[22m \u001b[36m────────────────────────────────────────────────────────\u001b[39m\n",
            "\u001b[1mDelimiter:\u001b[22m \",\"\n",
            "\u001b[31mchr\u001b[39m   (5): Id, idhogar, dependency, edjefe, edjefa\n",
            "\u001b[32mdbl\u001b[39m (138): v2a1, hacdor, rooms, hacapo, v14a, refrig, v18q, v18q1, r4h1, r4h...\n",
            "\n",
            "\n",
            "\u001b[36mℹ\u001b[39m Use \u001b[30m\u001b[47m\u001b[30m\u001b[47m`spec()`\u001b[47m\u001b[30m\u001b[49m\u001b[39m to retrieve the full column specification for this data.\n",
            "\u001b[36mℹ\u001b[39m Specify the column types or set \u001b[30m\u001b[47m\u001b[30m\u001b[47m`show_col_types = FALSE`\u001b[47m\u001b[30m\u001b[49m\u001b[39m to quiet this message.\n",
            "\n"
          ]
        },
        {
          "output_type": "display_data",
          "data": {
            "text/plain": [
              "[1] 3070  143"
            ],
            "text/latex": "\\begin{enumerate*}\n\\item 3070\n\\item 143\n\\end{enumerate*}\n",
            "text/markdown": "1. 3070\n2. 143\n\n\n",
            "text/html": [
              "<style>\n",
              ".list-inline {list-style: none; margin:0; padding: 0}\n",
              ".list-inline>li {display: inline-block}\n",
              ".list-inline>li:not(:last-child)::after {content: \"\\00b7\"; padding: 0 .5ex}\n",
              "</style>\n",
              "<ol class=list-inline><li>3070</li><li>143</li></ol>\n"
            ]
          },
          "metadata": {}
        }
      ]
    },
    {
      "cell_type": "code",
      "metadata": {
        "colab": {
          "base_uri": "https://localhost:8080/",
          "height": 303
        },
        "id": "XNe-DBl85g_B",
        "outputId": "c3901639-4aa6-4ae7-b970-8be3b0e92b5c"
      },
      "source": [
        "head(train)"
      ],
      "execution_count": 11,
      "outputs": [
        {
          "output_type": "display_data",
          "data": {
            "text/plain": [
              "  Id           v2a1   hacdor rooms hacapo v14a refrig v18q v18q1 r4h1 r4h2 r4h3\n",
              "1 ID_279628684 190000 0      3     0      1    1      0    NA    0    1    1   \n",
              "2 ID_f29eb3ddd 135000 0      4     0      1    1      1     1    0    1    1   \n",
              "3 ID_68de51c94     NA 0      8     0      1    1      0    NA    0    0    0   \n",
              "4 ID_d671db89c 180000 0      5     0      1    1      1     1    0    2    2   \n",
              "5 ID_d56d6f5f5 180000 0      5     0      1    1      1     1    0    2    2   \n",
              "6 ID_ec05b1a7b 180000 0      5     0      1    1      1     1    0    2    2   \n",
              "  r4m1 r4m2 r4m3 r4t1 r4t2 r4t3 tamhog tamviv escolari rez_esc hhsize\n",
              "1 0    0    0    0    1    1    1      1      10       NA      1     \n",
              "2 0    0    0    0    1    1    1      1      12       NA      1     \n",
              "3 0    1    1    0    1    1    1      1      11       NA      1     \n",
              "4 1    1    2    1    3    4    4      4       9        1      4     \n",
              "5 1    1    2    1    3    4    4      4      11       NA      4     \n",
              "6 1    1    2    1    3    4    4      4      11       NA      4     \n",
              "  paredblolad paredzocalo paredpreb pareddes paredmad paredzinc paredfibras\n",
              "1 1           0           0         0        0        0         0          \n",
              "2 0           0           0         0        1        0         0          \n",
              "3 0           0           0         0        1        0         0          \n",
              "4 1           0           0         0        0        0         0          \n",
              "5 1           0           0         0        0        0         0          \n",
              "6 1           0           0         0        0        0         0          \n",
              "  paredother pisomoscer pisocemento pisoother pisonatur pisonotiene pisomadera\n",
              "1 0          1          0           0         0         0           0         \n",
              "2 0          0          0           0         0         0           1         \n",
              "3 0          1          0           0         0         0           0         \n",
              "4 0          1          0           0         0         0           0         \n",
              "5 0          1          0           0         0         0           0         \n",
              "6 0          1          0           0         0         0           0         \n",
              "  techozinc techoentrepiso techocane techootro cielorazo abastaguadentro\n",
              "1 0         1              0         0         1         1              \n",
              "2 1         0              0         0         1         1              \n",
              "3 1         0              0         0         1         1              \n",
              "4 1         0              0         0         1         1              \n",
              "5 1         0              0         0         1         1              \n",
              "6 1         0              0         0         1         1              \n",
              "  abastaguafuera abastaguano public planpri noelec coopele sanitario1\n",
              "1 0              0           1      0       0      0       0         \n",
              "2 0              0           1      0       0      0       0         \n",
              "3 0              0           1      0       0      0       0         \n",
              "4 0              0           1      0       0      0       0         \n",
              "5 0              0           1      0       0      0       0         \n",
              "6 0              0           1      0       0      0       0         \n",
              "  sanitario2 sanitario3 sanitario5 sanitario6 energcocinar1 energcocinar2\n",
              "1 1          0          0          0          0             0            \n",
              "2 1          0          0          0          0             1            \n",
              "3 1          0          0          0          0             1            \n",
              "4 1          0          0          0          0             1            \n",
              "5 1          0          0          0          0             1            \n",
              "6 1          0          0          0          0             1            \n",
              "  energcocinar3 energcocinar4 elimbasu1 elimbasu2 elimbasu3 elimbasu4 elimbasu5\n",
              "1 1             0             1         0         0         0         0        \n",
              "2 0             0             1         0         0         0         0        \n",
              "3 0             0             1         0         0         0         0        \n",
              "4 0             0             1         0         0         0         0        \n",
              "5 0             0             1         0         0         0         0        \n",
              "6 0             0             1         0         0         0         0        \n",
              "  elimbasu6 epared1 epared2 epared3 etecho1 etecho2 etecho3 eviv1 eviv2 eviv3\n",
              "1 0         0       1       0       1       0       0       1     0     0    \n",
              "2 0         0       1       0       0       1       0       0     1     0    \n",
              "3 0         0       1       0       0       0       1       0     0     1    \n",
              "4 0         0       0       1       0       0       1       0     0     1    \n",
              "5 0         0       0       1       0       0       1       0     0     1    \n",
              "6 0         0       0       1       0       0       1       0     0     1    \n",
              "  dis male female estadocivil1 estadocivil2 estadocivil3 estadocivil4\n",
              "1 0   1    0      0            0            0            1           \n",
              "2 0   1    0      0            0            0            1           \n",
              "3 1   0    1      0            0            0            0           \n",
              "4 0   1    0      0            0            0            0           \n",
              "5 0   0    1      0            1            0            0           \n",
              "6 0   1    0      0            1            0            0           \n",
              "  estadocivil5 estadocivil6 estadocivil7 parentesco1 parentesco2 parentesco3\n",
              "1 0            0            0            1           0           0          \n",
              "2 0            0            0            1           0           0          \n",
              "3 0            1            0            1           0           0          \n",
              "4 0            0            1            0           0           1          \n",
              "5 0            0            0            0           1           0          \n",
              "6 0            0            0            1           0           0          \n",
              "  parentesco4 parentesco5 parentesco6 parentesco7 parentesco8 parentesco9\n",
              "1 0           0           0           0           0           0          \n",
              "2 0           0           0           0           0           0          \n",
              "3 0           0           0           0           0           0          \n",
              "4 0           0           0           0           0           0          \n",
              "5 0           0           0           0           0           0          \n",
              "6 0           0           0           0           0           0          \n",
              "  parentesco10 parentesco11 parentesco12 idhogar   hogar_nin hogar_adul\n",
              "1 0            0            0            21eb7fcc1 0         1         \n",
              "2 0            0            0            0e5d7a658 0         1         \n",
              "3 0            0            0            2c7317ea8 0         1         \n",
              "4 0            0            0            2b58d945f 2         2         \n",
              "5 0            0            0            2b58d945f 2         2         \n",
              "6 0            0            0            2b58d945f 2         2         \n",
              "  hogar_mayor hogar_total dependency edjefe edjefa meaneduc instlevel1\n",
              "1 0           1           no         10     no     10       0         \n",
              "2 1           1           8          12     no     12       0         \n",
              "3 1           1           8          no     11     11       0         \n",
              "4 0           4           yes        11     no     11       0         \n",
              "5 0           4           yes        11     no     11       0         \n",
              "6 0           4           yes        11     no     11       0         \n",
              "  instlevel2 instlevel3 instlevel4 instlevel5 instlevel6 instlevel7 instlevel8\n",
              "1 0          0          1          0          0          0          0         \n",
              "2 0          0          0          0          0          0          1         \n",
              "3 0          0          0          1          0          0          0         \n",
              "4 0          0          1          0          0          0          0         \n",
              "5 0          0          0          1          0          0          0         \n",
              "6 0          0          0          1          0          0          0         \n",
              "  instlevel9 bedrooms overcrowding tipovivi1 tipovivi2 tipovivi3 tipovivi4\n",
              "1 0          1        1.000000     0         0         1         0        \n",
              "2 0          1        1.000000     0         0         1         0        \n",
              "3 0          2        0.500000     1         0         0         0        \n",
              "4 0          3        1.333333     0         0         1         0        \n",
              "5 0          3        1.333333     0         0         1         0        \n",
              "6 0          3        1.333333     0         0         1         0        \n",
              "  tipovivi5 computer television mobilephone qmobilephone lugar1 lugar2 lugar3\n",
              "1 0         0        0          1           1            1      0      0     \n",
              "2 0         0        0          1           1            1      0      0     \n",
              "3 0         0        0          0           0            1      0      0     \n",
              "4 0         0        0          1           3            1      0      0     \n",
              "5 0         0        0          1           3            1      0      0     \n",
              "6 0         0        0          1           3            1      0      0     \n",
              "  lugar4 lugar5 lugar6 area1 area2 age SQBescolari SQBage SQBhogar_total\n",
              "1 0      0      0      1     0     43  100         1849    1            \n",
              "2 0      0      0      1     0     67  144         4489    1            \n",
              "3 0      0      0      1     0     92  121         8464    1            \n",
              "4 0      0      0      1     0     17   81          289   16            \n",
              "5 0      0      0      1     0     37  121         1369   16            \n",
              "6 0      0      0      1     0     38  121         1444   16            \n",
              "  SQBedjefe SQBhogar_nin SQBovercrowding SQBdependency SQBmeaned agesq Target\n",
              "1 100       0            1.000000         0            100       1849  4     \n",
              "2 144       0            1.000000        64            144       4489  4     \n",
              "3   0       0            0.250000        64            121       8464  4     \n",
              "4 121       4            1.777778         1            121        289  4     \n",
              "5 121       4            1.777778         1            121       1369  4     \n",
              "6 121       4            1.777778         1            121       1444  4     "
            ],
            "text/latex": "A tibble: 6 × 143\n\\begin{tabular}{lllllllllllllllllllllllllllllllllllllllllllllllllllllllllllllllllllllllllllllllllllllllllllllllllllllllllllllllllllllllllllllllllllllllllllllll}\n Id & v2a1 & hacdor & rooms & hacapo & v14a & refrig & v18q & v18q1 & r4h1 & r4h2 & r4h3 & r4m1 & r4m2 & r4m3 & r4t1 & r4t2 & r4t3 & tamhog & tamviv & escolari & rez\\_esc & hhsize & paredblolad & paredzocalo & paredpreb & pareddes & paredmad & paredzinc & paredfibras & paredother & pisomoscer & pisocemento & pisoother & pisonatur & pisonotiene & pisomadera & techozinc & techoentrepiso & techocane & techootro & cielorazo & abastaguadentro & abastaguafuera & abastaguano & public & planpri & noelec & coopele & sanitario1 & sanitario2 & sanitario3 & sanitario5 & sanitario6 & energcocinar1 & energcocinar2 & energcocinar3 & energcocinar4 & elimbasu1 & elimbasu2 & elimbasu3 & elimbasu4 & elimbasu5 & elimbasu6 & epared1 & epared2 & epared3 & etecho1 & etecho2 & etecho3 & eviv1 & eviv2 & eviv3 & dis & male & female & estadocivil1 & estadocivil2 & estadocivil3 & estadocivil4 & estadocivil5 & estadocivil6 & estadocivil7 & parentesco1 & parentesco2 & parentesco3 & parentesco4 & parentesco5 & parentesco6 & parentesco7 & parentesco8 & parentesco9 & parentesco10 & parentesco11 & parentesco12 & idhogar & hogar\\_nin & hogar\\_adul & hogar\\_mayor & hogar\\_total & dependency & edjefe & edjefa & meaneduc & instlevel1 & instlevel2 & instlevel3 & instlevel4 & instlevel5 & instlevel6 & instlevel7 & instlevel8 & instlevel9 & bedrooms & overcrowding & tipovivi1 & tipovivi2 & tipovivi3 & tipovivi4 & tipovivi5 & computer & television & mobilephone & qmobilephone & lugar1 & lugar2 & lugar3 & lugar4 & lugar5 & lugar6 & area1 & area2 & age & SQBescolari & SQBage & SQBhogar\\_total & SQBedjefe & SQBhogar\\_nin & SQBovercrowding & SQBdependency & SQBmeaned & agesq & Target\\\\\n <chr> & <dbl> & <dbl> & <dbl> & <dbl> & <dbl> & <dbl> & <dbl> & <dbl> & <dbl> & <dbl> & <dbl> & <dbl> & <dbl> & <dbl> & <dbl> & <dbl> & <dbl> & <dbl> & <dbl> & <dbl> & <dbl> & <dbl> & <dbl> & <dbl> & <dbl> & <dbl> & <dbl> & <dbl> & <dbl> & <dbl> & <dbl> & <dbl> & <dbl> & <dbl> & <dbl> & <dbl> & <dbl> & <dbl> & <dbl> & <dbl> & <dbl> & <dbl> & <dbl> & <dbl> & <dbl> & <dbl> & <dbl> & <dbl> & <dbl> & <dbl> & <dbl> & <dbl> & <dbl> & <dbl> & <dbl> & <dbl> & <dbl> & <dbl> & <dbl> & <dbl> & <dbl> & <dbl> & <dbl> & <dbl> & <dbl> & <dbl> & <dbl> & <dbl> & <dbl> & <dbl> & <dbl> & <dbl> & <dbl> & <dbl> & <dbl> & <dbl> & <dbl> & <dbl> & <dbl> & <dbl> & <dbl> & <dbl> & <dbl> & <dbl> & <dbl> & <dbl> & <dbl> & <dbl> & <dbl> & <dbl> & <dbl> & <dbl> & <dbl> & <dbl> & <chr> & <dbl> & <dbl> & <dbl> & <dbl> & <chr> & <chr> & <chr> & <dbl> & <dbl> & <dbl> & <dbl> & <dbl> & <dbl> & <dbl> & <dbl> & <dbl> & <dbl> & <dbl> & <dbl> & <dbl> & <dbl> & <dbl> & <dbl> & <dbl> & <dbl> & <dbl> & <dbl> & <dbl> & <dbl> & <dbl> & <dbl> & <dbl> & <dbl> & <dbl> & <dbl> & <dbl> & <dbl> & <dbl> & <dbl> & <dbl> & <dbl> & <dbl> & <dbl> & <dbl> & <dbl> & <dbl> & <dbl>\\\\\n\\hline\n\t ID\\_279628684 & 190000 & 0 & 3 & 0 & 1 & 1 & 0 & NA & 0 & 1 & 1 & 0 & 0 & 0 & 0 & 1 & 1 & 1 & 1 & 10 & NA & 1 & 1 & 0 & 0 & 0 & 0 & 0 & 0 & 0 & 1 & 0 & 0 & 0 & 0 & 0 & 0 & 1 & 0 & 0 & 1 & 1 & 0 & 0 & 1 & 0 & 0 & 0 & 0 & 1 & 0 & 0 & 0 & 0 & 0 & 1 & 0 & 1 & 0 & 0 & 0 & 0 & 0 & 0 & 1 & 0 & 1 & 0 & 0 & 1 & 0 & 0 & 0 & 1 & 0 & 0 & 0 & 0 & 1 & 0 & 0 & 0 & 1 & 0 & 0 & 0 & 0 & 0 & 0 & 0 & 0 & 0 & 0 & 0 & 21eb7fcc1 & 0 & 1 & 0 & 1 & no  & 10 & no & 10 & 0 & 0 & 0 & 1 & 0 & 0 & 0 & 0 & 0 & 1 & 1.000000 & 0 & 0 & 1 & 0 & 0 & 0 & 0 & 1 & 1 & 1 & 0 & 0 & 0 & 0 & 0 & 1 & 0 & 43 & 100 & 1849 &  1 & 100 & 0 & 1.000000 &  0 & 100 & 1849 & 4\\\\\n\t ID\\_f29eb3ddd & 135000 & 0 & 4 & 0 & 1 & 1 & 1 &  1 & 0 & 1 & 1 & 0 & 0 & 0 & 0 & 1 & 1 & 1 & 1 & 12 & NA & 1 & 0 & 0 & 0 & 0 & 1 & 0 & 0 & 0 & 0 & 0 & 0 & 0 & 0 & 1 & 1 & 0 & 0 & 0 & 1 & 1 & 0 & 0 & 1 & 0 & 0 & 0 & 0 & 1 & 0 & 0 & 0 & 0 & 1 & 0 & 0 & 1 & 0 & 0 & 0 & 0 & 0 & 0 & 1 & 0 & 0 & 1 & 0 & 0 & 1 & 0 & 0 & 1 & 0 & 0 & 0 & 0 & 1 & 0 & 0 & 0 & 1 & 0 & 0 & 0 & 0 & 0 & 0 & 0 & 0 & 0 & 0 & 0 & 0e5d7a658 & 0 & 1 & 1 & 1 & 8   & 12 & no & 12 & 0 & 0 & 0 & 0 & 0 & 0 & 0 & 1 & 0 & 1 & 1.000000 & 0 & 0 & 1 & 0 & 0 & 0 & 0 & 1 & 1 & 1 & 0 & 0 & 0 & 0 & 0 & 1 & 0 & 67 & 144 & 4489 &  1 & 144 & 0 & 1.000000 & 64 & 144 & 4489 & 4\\\\\n\t ID\\_68de51c94 &     NA & 0 & 8 & 0 & 1 & 1 & 0 & NA & 0 & 0 & 0 & 0 & 1 & 1 & 0 & 1 & 1 & 1 & 1 & 11 & NA & 1 & 0 & 0 & 0 & 0 & 1 & 0 & 0 & 0 & 1 & 0 & 0 & 0 & 0 & 0 & 1 & 0 & 0 & 0 & 1 & 1 & 0 & 0 & 1 & 0 & 0 & 0 & 0 & 1 & 0 & 0 & 0 & 0 & 1 & 0 & 0 & 1 & 0 & 0 & 0 & 0 & 0 & 0 & 1 & 0 & 0 & 0 & 1 & 0 & 0 & 1 & 1 & 0 & 1 & 0 & 0 & 0 & 0 & 0 & 1 & 0 & 1 & 0 & 0 & 0 & 0 & 0 & 0 & 0 & 0 & 0 & 0 & 0 & 2c7317ea8 & 0 & 1 & 1 & 1 & 8   & no & 11 & 11 & 0 & 0 & 0 & 0 & 1 & 0 & 0 & 0 & 0 & 2 & 0.500000 & 1 & 0 & 0 & 0 & 0 & 0 & 0 & 0 & 0 & 1 & 0 & 0 & 0 & 0 & 0 & 1 & 0 & 92 & 121 & 8464 &  1 &   0 & 0 & 0.250000 & 64 & 121 & 8464 & 4\\\\\n\t ID\\_d671db89c & 180000 & 0 & 5 & 0 & 1 & 1 & 1 &  1 & 0 & 2 & 2 & 1 & 1 & 2 & 1 & 3 & 4 & 4 & 4 &  9 &  1 & 4 & 1 & 0 & 0 & 0 & 0 & 0 & 0 & 0 & 1 & 0 & 0 & 0 & 0 & 0 & 1 & 0 & 0 & 0 & 1 & 1 & 0 & 0 & 1 & 0 & 0 & 0 & 0 & 1 & 0 & 0 & 0 & 0 & 1 & 0 & 0 & 1 & 0 & 0 & 0 & 0 & 0 & 0 & 0 & 1 & 0 & 0 & 1 & 0 & 0 & 1 & 0 & 1 & 0 & 0 & 0 & 0 & 0 & 0 & 0 & 1 & 0 & 0 & 1 & 0 & 0 & 0 & 0 & 0 & 0 & 0 & 0 & 0 & 2b58d945f & 2 & 2 & 0 & 4 & yes & 11 & no & 11 & 0 & 0 & 0 & 1 & 0 & 0 & 0 & 0 & 0 & 3 & 1.333333 & 0 & 0 & 1 & 0 & 0 & 0 & 0 & 1 & 3 & 1 & 0 & 0 & 0 & 0 & 0 & 1 & 0 & 17 &  81 &  289 & 16 & 121 & 4 & 1.777778 &  1 & 121 &  289 & 4\\\\\n\t ID\\_d56d6f5f5 & 180000 & 0 & 5 & 0 & 1 & 1 & 1 &  1 & 0 & 2 & 2 & 1 & 1 & 2 & 1 & 3 & 4 & 4 & 4 & 11 & NA & 4 & 1 & 0 & 0 & 0 & 0 & 0 & 0 & 0 & 1 & 0 & 0 & 0 & 0 & 0 & 1 & 0 & 0 & 0 & 1 & 1 & 0 & 0 & 1 & 0 & 0 & 0 & 0 & 1 & 0 & 0 & 0 & 0 & 1 & 0 & 0 & 1 & 0 & 0 & 0 & 0 & 0 & 0 & 0 & 1 & 0 & 0 & 1 & 0 & 0 & 1 & 0 & 0 & 1 & 0 & 1 & 0 & 0 & 0 & 0 & 0 & 0 & 1 & 0 & 0 & 0 & 0 & 0 & 0 & 0 & 0 & 0 & 0 & 2b58d945f & 2 & 2 & 0 & 4 & yes & 11 & no & 11 & 0 & 0 & 0 & 0 & 1 & 0 & 0 & 0 & 0 & 3 & 1.333333 & 0 & 0 & 1 & 0 & 0 & 0 & 0 & 1 & 3 & 1 & 0 & 0 & 0 & 0 & 0 & 1 & 0 & 37 & 121 & 1369 & 16 & 121 & 4 & 1.777778 &  1 & 121 & 1369 & 4\\\\\n\t ID\\_ec05b1a7b & 180000 & 0 & 5 & 0 & 1 & 1 & 1 &  1 & 0 & 2 & 2 & 1 & 1 & 2 & 1 & 3 & 4 & 4 & 4 & 11 & NA & 4 & 1 & 0 & 0 & 0 & 0 & 0 & 0 & 0 & 1 & 0 & 0 & 0 & 0 & 0 & 1 & 0 & 0 & 0 & 1 & 1 & 0 & 0 & 1 & 0 & 0 & 0 & 0 & 1 & 0 & 0 & 0 & 0 & 1 & 0 & 0 & 1 & 0 & 0 & 0 & 0 & 0 & 0 & 0 & 1 & 0 & 0 & 1 & 0 & 0 & 1 & 0 & 1 & 0 & 0 & 1 & 0 & 0 & 0 & 0 & 0 & 1 & 0 & 0 & 0 & 0 & 0 & 0 & 0 & 0 & 0 & 0 & 0 & 2b58d945f & 2 & 2 & 0 & 4 & yes & 11 & no & 11 & 0 & 0 & 0 & 0 & 1 & 0 & 0 & 0 & 0 & 3 & 1.333333 & 0 & 0 & 1 & 0 & 0 & 0 & 0 & 1 & 3 & 1 & 0 & 0 & 0 & 0 & 0 & 1 & 0 & 38 & 121 & 1444 & 16 & 121 & 4 & 1.777778 &  1 & 121 & 1444 & 4\\\\\n\\end{tabular}\n",
            "text/markdown": "\nA tibble: 6 × 143\n\n| Id &lt;chr&gt; | v2a1 &lt;dbl&gt; | hacdor &lt;dbl&gt; | rooms &lt;dbl&gt; | hacapo &lt;dbl&gt; | v14a &lt;dbl&gt; | refrig &lt;dbl&gt; | v18q &lt;dbl&gt; | v18q1 &lt;dbl&gt; | r4h1 &lt;dbl&gt; | r4h2 &lt;dbl&gt; | r4h3 &lt;dbl&gt; | r4m1 &lt;dbl&gt; | r4m2 &lt;dbl&gt; | r4m3 &lt;dbl&gt; | r4t1 &lt;dbl&gt; | r4t2 &lt;dbl&gt; | r4t3 &lt;dbl&gt; | tamhog &lt;dbl&gt; | tamviv &lt;dbl&gt; | escolari &lt;dbl&gt; | rez_esc &lt;dbl&gt; | hhsize &lt;dbl&gt; | paredblolad &lt;dbl&gt; | paredzocalo &lt;dbl&gt; | paredpreb &lt;dbl&gt; | pareddes &lt;dbl&gt; | paredmad &lt;dbl&gt; | paredzinc &lt;dbl&gt; | paredfibras &lt;dbl&gt; | paredother &lt;dbl&gt; | pisomoscer &lt;dbl&gt; | pisocemento &lt;dbl&gt; | pisoother &lt;dbl&gt; | pisonatur &lt;dbl&gt; | pisonotiene &lt;dbl&gt; | pisomadera &lt;dbl&gt; | techozinc &lt;dbl&gt; | techoentrepiso &lt;dbl&gt; | techocane &lt;dbl&gt; | techootro &lt;dbl&gt; | cielorazo &lt;dbl&gt; | abastaguadentro &lt;dbl&gt; | abastaguafuera &lt;dbl&gt; | abastaguano &lt;dbl&gt; | public &lt;dbl&gt; | planpri &lt;dbl&gt; | noelec &lt;dbl&gt; | coopele &lt;dbl&gt; | sanitario1 &lt;dbl&gt; | sanitario2 &lt;dbl&gt; | sanitario3 &lt;dbl&gt; | sanitario5 &lt;dbl&gt; | sanitario6 &lt;dbl&gt; | energcocinar1 &lt;dbl&gt; | energcocinar2 &lt;dbl&gt; | energcocinar3 &lt;dbl&gt; | energcocinar4 &lt;dbl&gt; | elimbasu1 &lt;dbl&gt; | elimbasu2 &lt;dbl&gt; | elimbasu3 &lt;dbl&gt; | elimbasu4 &lt;dbl&gt; | elimbasu5 &lt;dbl&gt; | elimbasu6 &lt;dbl&gt; | epared1 &lt;dbl&gt; | epared2 &lt;dbl&gt; | epared3 &lt;dbl&gt; | etecho1 &lt;dbl&gt; | etecho2 &lt;dbl&gt; | etecho3 &lt;dbl&gt; | eviv1 &lt;dbl&gt; | eviv2 &lt;dbl&gt; | eviv3 &lt;dbl&gt; | dis &lt;dbl&gt; | male &lt;dbl&gt; | female &lt;dbl&gt; | estadocivil1 &lt;dbl&gt; | estadocivil2 &lt;dbl&gt; | estadocivil3 &lt;dbl&gt; | estadocivil4 &lt;dbl&gt; | estadocivil5 &lt;dbl&gt; | estadocivil6 &lt;dbl&gt; | estadocivil7 &lt;dbl&gt; | parentesco1 &lt;dbl&gt; | parentesco2 &lt;dbl&gt; | parentesco3 &lt;dbl&gt; | parentesco4 &lt;dbl&gt; | parentesco5 &lt;dbl&gt; | parentesco6 &lt;dbl&gt; | parentesco7 &lt;dbl&gt; | parentesco8 &lt;dbl&gt; | parentesco9 &lt;dbl&gt; | parentesco10 &lt;dbl&gt; | parentesco11 &lt;dbl&gt; | parentesco12 &lt;dbl&gt; | idhogar &lt;chr&gt; | hogar_nin &lt;dbl&gt; | hogar_adul &lt;dbl&gt; | hogar_mayor &lt;dbl&gt; | hogar_total &lt;dbl&gt; | dependency &lt;chr&gt; | edjefe &lt;chr&gt; | edjefa &lt;chr&gt; | meaneduc &lt;dbl&gt; | instlevel1 &lt;dbl&gt; | instlevel2 &lt;dbl&gt; | instlevel3 &lt;dbl&gt; | instlevel4 &lt;dbl&gt; | instlevel5 &lt;dbl&gt; | instlevel6 &lt;dbl&gt; | instlevel7 &lt;dbl&gt; | instlevel8 &lt;dbl&gt; | instlevel9 &lt;dbl&gt; | bedrooms &lt;dbl&gt; | overcrowding &lt;dbl&gt; | tipovivi1 &lt;dbl&gt; | tipovivi2 &lt;dbl&gt; | tipovivi3 &lt;dbl&gt; | tipovivi4 &lt;dbl&gt; | tipovivi5 &lt;dbl&gt; | computer &lt;dbl&gt; | television &lt;dbl&gt; | mobilephone &lt;dbl&gt; | qmobilephone &lt;dbl&gt; | lugar1 &lt;dbl&gt; | lugar2 &lt;dbl&gt; | lugar3 &lt;dbl&gt; | lugar4 &lt;dbl&gt; | lugar5 &lt;dbl&gt; | lugar6 &lt;dbl&gt; | area1 &lt;dbl&gt; | area2 &lt;dbl&gt; | age &lt;dbl&gt; | SQBescolari &lt;dbl&gt; | SQBage &lt;dbl&gt; | SQBhogar_total &lt;dbl&gt; | SQBedjefe &lt;dbl&gt; | SQBhogar_nin &lt;dbl&gt; | SQBovercrowding &lt;dbl&gt; | SQBdependency &lt;dbl&gt; | SQBmeaned &lt;dbl&gt; | agesq &lt;dbl&gt; | Target &lt;dbl&gt; |\n|---|---|---|---|---|---|---|---|---|---|---|---|---|---|---|---|---|---|---|---|---|---|---|---|---|---|---|---|---|---|---|---|---|---|---|---|---|---|---|---|---|---|---|---|---|---|---|---|---|---|---|---|---|---|---|---|---|---|---|---|---|---|---|---|---|---|---|---|---|---|---|---|---|---|---|---|---|---|---|---|---|---|---|---|---|---|---|---|---|---|---|---|---|---|---|---|---|---|---|---|---|---|---|---|---|---|---|---|---|---|---|---|---|---|---|---|---|---|---|---|---|---|---|---|---|---|---|---|---|---|---|---|---|---|---|---|---|---|---|---|---|---|---|\n| ID_279628684 | 190000 | 0 | 3 | 0 | 1 | 1 | 0 | NA | 0 | 1 | 1 | 0 | 0 | 0 | 0 | 1 | 1 | 1 | 1 | 10 | NA | 1 | 1 | 0 | 0 | 0 | 0 | 0 | 0 | 0 | 1 | 0 | 0 | 0 | 0 | 0 | 0 | 1 | 0 | 0 | 1 | 1 | 0 | 0 | 1 | 0 | 0 | 0 | 0 | 1 | 0 | 0 | 0 | 0 | 0 | 1 | 0 | 1 | 0 | 0 | 0 | 0 | 0 | 0 | 1 | 0 | 1 | 0 | 0 | 1 | 0 | 0 | 0 | 1 | 0 | 0 | 0 | 0 | 1 | 0 | 0 | 0 | 1 | 0 | 0 | 0 | 0 | 0 | 0 | 0 | 0 | 0 | 0 | 0 | 21eb7fcc1 | 0 | 1 | 0 | 1 | no  | 10 | no | 10 | 0 | 0 | 0 | 1 | 0 | 0 | 0 | 0 | 0 | 1 | 1.000000 | 0 | 0 | 1 | 0 | 0 | 0 | 0 | 1 | 1 | 1 | 0 | 0 | 0 | 0 | 0 | 1 | 0 | 43 | 100 | 1849 |  1 | 100 | 0 | 1.000000 |  0 | 100 | 1849 | 4 |\n| ID_f29eb3ddd | 135000 | 0 | 4 | 0 | 1 | 1 | 1 |  1 | 0 | 1 | 1 | 0 | 0 | 0 | 0 | 1 | 1 | 1 | 1 | 12 | NA | 1 | 0 | 0 | 0 | 0 | 1 | 0 | 0 | 0 | 0 | 0 | 0 | 0 | 0 | 1 | 1 | 0 | 0 | 0 | 1 | 1 | 0 | 0 | 1 | 0 | 0 | 0 | 0 | 1 | 0 | 0 | 0 | 0 | 1 | 0 | 0 | 1 | 0 | 0 | 0 | 0 | 0 | 0 | 1 | 0 | 0 | 1 | 0 | 0 | 1 | 0 | 0 | 1 | 0 | 0 | 0 | 0 | 1 | 0 | 0 | 0 | 1 | 0 | 0 | 0 | 0 | 0 | 0 | 0 | 0 | 0 | 0 | 0 | 0e5d7a658 | 0 | 1 | 1 | 1 | 8   | 12 | no | 12 | 0 | 0 | 0 | 0 | 0 | 0 | 0 | 1 | 0 | 1 | 1.000000 | 0 | 0 | 1 | 0 | 0 | 0 | 0 | 1 | 1 | 1 | 0 | 0 | 0 | 0 | 0 | 1 | 0 | 67 | 144 | 4489 |  1 | 144 | 0 | 1.000000 | 64 | 144 | 4489 | 4 |\n| ID_68de51c94 |     NA | 0 | 8 | 0 | 1 | 1 | 0 | NA | 0 | 0 | 0 | 0 | 1 | 1 | 0 | 1 | 1 | 1 | 1 | 11 | NA | 1 | 0 | 0 | 0 | 0 | 1 | 0 | 0 | 0 | 1 | 0 | 0 | 0 | 0 | 0 | 1 | 0 | 0 | 0 | 1 | 1 | 0 | 0 | 1 | 0 | 0 | 0 | 0 | 1 | 0 | 0 | 0 | 0 | 1 | 0 | 0 | 1 | 0 | 0 | 0 | 0 | 0 | 0 | 1 | 0 | 0 | 0 | 1 | 0 | 0 | 1 | 1 | 0 | 1 | 0 | 0 | 0 | 0 | 0 | 1 | 0 | 1 | 0 | 0 | 0 | 0 | 0 | 0 | 0 | 0 | 0 | 0 | 0 | 2c7317ea8 | 0 | 1 | 1 | 1 | 8   | no | 11 | 11 | 0 | 0 | 0 | 0 | 1 | 0 | 0 | 0 | 0 | 2 | 0.500000 | 1 | 0 | 0 | 0 | 0 | 0 | 0 | 0 | 0 | 1 | 0 | 0 | 0 | 0 | 0 | 1 | 0 | 92 | 121 | 8464 |  1 |   0 | 0 | 0.250000 | 64 | 121 | 8464 | 4 |\n| ID_d671db89c | 180000 | 0 | 5 | 0 | 1 | 1 | 1 |  1 | 0 | 2 | 2 | 1 | 1 | 2 | 1 | 3 | 4 | 4 | 4 |  9 |  1 | 4 | 1 | 0 | 0 | 0 | 0 | 0 | 0 | 0 | 1 | 0 | 0 | 0 | 0 | 0 | 1 | 0 | 0 | 0 | 1 | 1 | 0 | 0 | 1 | 0 | 0 | 0 | 0 | 1 | 0 | 0 | 0 | 0 | 1 | 0 | 0 | 1 | 0 | 0 | 0 | 0 | 0 | 0 | 0 | 1 | 0 | 0 | 1 | 0 | 0 | 1 | 0 | 1 | 0 | 0 | 0 | 0 | 0 | 0 | 0 | 1 | 0 | 0 | 1 | 0 | 0 | 0 | 0 | 0 | 0 | 0 | 0 | 0 | 2b58d945f | 2 | 2 | 0 | 4 | yes | 11 | no | 11 | 0 | 0 | 0 | 1 | 0 | 0 | 0 | 0 | 0 | 3 | 1.333333 | 0 | 0 | 1 | 0 | 0 | 0 | 0 | 1 | 3 | 1 | 0 | 0 | 0 | 0 | 0 | 1 | 0 | 17 |  81 |  289 | 16 | 121 | 4 | 1.777778 |  1 | 121 |  289 | 4 |\n| ID_d56d6f5f5 | 180000 | 0 | 5 | 0 | 1 | 1 | 1 |  1 | 0 | 2 | 2 | 1 | 1 | 2 | 1 | 3 | 4 | 4 | 4 | 11 | NA | 4 | 1 | 0 | 0 | 0 | 0 | 0 | 0 | 0 | 1 | 0 | 0 | 0 | 0 | 0 | 1 | 0 | 0 | 0 | 1 | 1 | 0 | 0 | 1 | 0 | 0 | 0 | 0 | 1 | 0 | 0 | 0 | 0 | 1 | 0 | 0 | 1 | 0 | 0 | 0 | 0 | 0 | 0 | 0 | 1 | 0 | 0 | 1 | 0 | 0 | 1 | 0 | 0 | 1 | 0 | 1 | 0 | 0 | 0 | 0 | 0 | 0 | 1 | 0 | 0 | 0 | 0 | 0 | 0 | 0 | 0 | 0 | 0 | 2b58d945f | 2 | 2 | 0 | 4 | yes | 11 | no | 11 | 0 | 0 | 0 | 0 | 1 | 0 | 0 | 0 | 0 | 3 | 1.333333 | 0 | 0 | 1 | 0 | 0 | 0 | 0 | 1 | 3 | 1 | 0 | 0 | 0 | 0 | 0 | 1 | 0 | 37 | 121 | 1369 | 16 | 121 | 4 | 1.777778 |  1 | 121 | 1369 | 4 |\n| ID_ec05b1a7b | 180000 | 0 | 5 | 0 | 1 | 1 | 1 |  1 | 0 | 2 | 2 | 1 | 1 | 2 | 1 | 3 | 4 | 4 | 4 | 11 | NA | 4 | 1 | 0 | 0 | 0 | 0 | 0 | 0 | 0 | 1 | 0 | 0 | 0 | 0 | 0 | 1 | 0 | 0 | 0 | 1 | 1 | 0 | 0 | 1 | 0 | 0 | 0 | 0 | 1 | 0 | 0 | 0 | 0 | 1 | 0 | 0 | 1 | 0 | 0 | 0 | 0 | 0 | 0 | 0 | 1 | 0 | 0 | 1 | 0 | 0 | 1 | 0 | 1 | 0 | 0 | 1 | 0 | 0 | 0 | 0 | 0 | 1 | 0 | 0 | 0 | 0 | 0 | 0 | 0 | 0 | 0 | 0 | 0 | 2b58d945f | 2 | 2 | 0 | 4 | yes | 11 | no | 11 | 0 | 0 | 0 | 0 | 1 | 0 | 0 | 0 | 0 | 3 | 1.333333 | 0 | 0 | 1 | 0 | 0 | 0 | 0 | 1 | 3 | 1 | 0 | 0 | 0 | 0 | 0 | 1 | 0 | 38 | 121 | 1444 | 16 | 121 | 4 | 1.777778 |  1 | 121 | 1444 | 4 |\n\n",
            "text/html": [
              "<table class=\"dataframe\">\n",
              "<caption>A tibble: 6 × 143</caption>\n",
              "<thead>\n",
              "\t<tr><th scope=col>Id</th><th scope=col>v2a1</th><th scope=col>hacdor</th><th scope=col>rooms</th><th scope=col>hacapo</th><th scope=col>v14a</th><th scope=col>refrig</th><th scope=col>v18q</th><th scope=col>v18q1</th><th scope=col>r4h1</th><th scope=col>r4h2</th><th scope=col>r4h3</th><th scope=col>r4m1</th><th scope=col>r4m2</th><th scope=col>r4m3</th><th scope=col>r4t1</th><th scope=col>r4t2</th><th scope=col>r4t3</th><th scope=col>tamhog</th><th scope=col>tamviv</th><th scope=col>escolari</th><th scope=col>rez_esc</th><th scope=col>hhsize</th><th scope=col>paredblolad</th><th scope=col>paredzocalo</th><th scope=col>paredpreb</th><th scope=col>pareddes</th><th scope=col>paredmad</th><th scope=col>paredzinc</th><th scope=col>paredfibras</th><th scope=col>paredother</th><th scope=col>pisomoscer</th><th scope=col>pisocemento</th><th scope=col>pisoother</th><th scope=col>pisonatur</th><th scope=col>pisonotiene</th><th scope=col>pisomadera</th><th scope=col>techozinc</th><th scope=col>techoentrepiso</th><th scope=col>techocane</th><th scope=col>techootro</th><th scope=col>cielorazo</th><th scope=col>abastaguadentro</th><th scope=col>abastaguafuera</th><th scope=col>abastaguano</th><th scope=col>public</th><th scope=col>planpri</th><th scope=col>noelec</th><th scope=col>coopele</th><th scope=col>sanitario1</th><th scope=col>sanitario2</th><th scope=col>sanitario3</th><th scope=col>sanitario5</th><th scope=col>sanitario6</th><th scope=col>energcocinar1</th><th scope=col>energcocinar2</th><th scope=col>energcocinar3</th><th scope=col>energcocinar4</th><th scope=col>elimbasu1</th><th scope=col>elimbasu2</th><th scope=col>elimbasu3</th><th scope=col>elimbasu4</th><th scope=col>elimbasu5</th><th scope=col>elimbasu6</th><th scope=col>epared1</th><th scope=col>epared2</th><th scope=col>epared3</th><th scope=col>etecho1</th><th scope=col>etecho2</th><th scope=col>etecho3</th><th scope=col>eviv1</th><th scope=col>eviv2</th><th scope=col>eviv3</th><th scope=col>dis</th><th scope=col>male</th><th scope=col>female</th><th scope=col>estadocivil1</th><th scope=col>estadocivil2</th><th scope=col>estadocivil3</th><th scope=col>estadocivil4</th><th scope=col>estadocivil5</th><th scope=col>estadocivil6</th><th scope=col>estadocivil7</th><th scope=col>parentesco1</th><th scope=col>parentesco2</th><th scope=col>parentesco3</th><th scope=col>parentesco4</th><th scope=col>parentesco5</th><th scope=col>parentesco6</th><th scope=col>parentesco7</th><th scope=col>parentesco8</th><th scope=col>parentesco9</th><th scope=col>parentesco10</th><th scope=col>parentesco11</th><th scope=col>parentesco12</th><th scope=col>idhogar</th><th scope=col>hogar_nin</th><th scope=col>hogar_adul</th><th scope=col>hogar_mayor</th><th scope=col>hogar_total</th><th scope=col>dependency</th><th scope=col>edjefe</th><th scope=col>edjefa</th><th scope=col>meaneduc</th><th scope=col>instlevel1</th><th scope=col>instlevel2</th><th scope=col>instlevel3</th><th scope=col>instlevel4</th><th scope=col>instlevel5</th><th scope=col>instlevel6</th><th scope=col>instlevel7</th><th scope=col>instlevel8</th><th scope=col>instlevel9</th><th scope=col>bedrooms</th><th scope=col>overcrowding</th><th scope=col>tipovivi1</th><th scope=col>tipovivi2</th><th scope=col>tipovivi3</th><th scope=col>tipovivi4</th><th scope=col>tipovivi5</th><th scope=col>computer</th><th scope=col>television</th><th scope=col>mobilephone</th><th scope=col>qmobilephone</th><th scope=col>lugar1</th><th scope=col>lugar2</th><th scope=col>lugar3</th><th scope=col>lugar4</th><th scope=col>lugar5</th><th scope=col>lugar6</th><th scope=col>area1</th><th scope=col>area2</th><th scope=col>age</th><th scope=col>SQBescolari</th><th scope=col>SQBage</th><th scope=col>SQBhogar_total</th><th scope=col>SQBedjefe</th><th scope=col>SQBhogar_nin</th><th scope=col>SQBovercrowding</th><th scope=col>SQBdependency</th><th scope=col>SQBmeaned</th><th scope=col>agesq</th><th scope=col>Target</th></tr>\n",
              "\t<tr><th scope=col>&lt;chr&gt;</th><th scope=col>&lt;dbl&gt;</th><th scope=col>&lt;dbl&gt;</th><th scope=col>&lt;dbl&gt;</th><th scope=col>&lt;dbl&gt;</th><th scope=col>&lt;dbl&gt;</th><th scope=col>&lt;dbl&gt;</th><th scope=col>&lt;dbl&gt;</th><th scope=col>&lt;dbl&gt;</th><th scope=col>&lt;dbl&gt;</th><th scope=col>&lt;dbl&gt;</th><th scope=col>&lt;dbl&gt;</th><th scope=col>&lt;dbl&gt;</th><th scope=col>&lt;dbl&gt;</th><th scope=col>&lt;dbl&gt;</th><th scope=col>&lt;dbl&gt;</th><th scope=col>&lt;dbl&gt;</th><th scope=col>&lt;dbl&gt;</th><th scope=col>&lt;dbl&gt;</th><th scope=col>&lt;dbl&gt;</th><th scope=col>&lt;dbl&gt;</th><th scope=col>&lt;dbl&gt;</th><th scope=col>&lt;dbl&gt;</th><th scope=col>&lt;dbl&gt;</th><th scope=col>&lt;dbl&gt;</th><th scope=col>&lt;dbl&gt;</th><th scope=col>&lt;dbl&gt;</th><th scope=col>&lt;dbl&gt;</th><th scope=col>&lt;dbl&gt;</th><th scope=col>&lt;dbl&gt;</th><th scope=col>&lt;dbl&gt;</th><th scope=col>&lt;dbl&gt;</th><th scope=col>&lt;dbl&gt;</th><th scope=col>&lt;dbl&gt;</th><th scope=col>&lt;dbl&gt;</th><th scope=col>&lt;dbl&gt;</th><th scope=col>&lt;dbl&gt;</th><th scope=col>&lt;dbl&gt;</th><th scope=col>&lt;dbl&gt;</th><th scope=col>&lt;dbl&gt;</th><th scope=col>&lt;dbl&gt;</th><th scope=col>&lt;dbl&gt;</th><th scope=col>&lt;dbl&gt;</th><th scope=col>&lt;dbl&gt;</th><th scope=col>&lt;dbl&gt;</th><th scope=col>&lt;dbl&gt;</th><th scope=col>&lt;dbl&gt;</th><th scope=col>&lt;dbl&gt;</th><th scope=col>&lt;dbl&gt;</th><th scope=col>&lt;dbl&gt;</th><th scope=col>&lt;dbl&gt;</th><th scope=col>&lt;dbl&gt;</th><th scope=col>&lt;dbl&gt;</th><th scope=col>&lt;dbl&gt;</th><th scope=col>&lt;dbl&gt;</th><th scope=col>&lt;dbl&gt;</th><th scope=col>&lt;dbl&gt;</th><th scope=col>&lt;dbl&gt;</th><th scope=col>&lt;dbl&gt;</th><th scope=col>&lt;dbl&gt;</th><th scope=col>&lt;dbl&gt;</th><th scope=col>&lt;dbl&gt;</th><th scope=col>&lt;dbl&gt;</th><th scope=col>&lt;dbl&gt;</th><th scope=col>&lt;dbl&gt;</th><th scope=col>&lt;dbl&gt;</th><th scope=col>&lt;dbl&gt;</th><th scope=col>&lt;dbl&gt;</th><th scope=col>&lt;dbl&gt;</th><th scope=col>&lt;dbl&gt;</th><th scope=col>&lt;dbl&gt;</th><th scope=col>&lt;dbl&gt;</th><th scope=col>&lt;dbl&gt;</th><th scope=col>&lt;dbl&gt;</th><th scope=col>&lt;dbl&gt;</th><th scope=col>&lt;dbl&gt;</th><th scope=col>&lt;dbl&gt;</th><th scope=col>&lt;dbl&gt;</th><th scope=col>&lt;dbl&gt;</th><th scope=col>&lt;dbl&gt;</th><th scope=col>&lt;dbl&gt;</th><th scope=col>&lt;dbl&gt;</th><th scope=col>&lt;dbl&gt;</th><th scope=col>&lt;dbl&gt;</th><th scope=col>&lt;dbl&gt;</th><th scope=col>&lt;dbl&gt;</th><th scope=col>&lt;dbl&gt;</th><th scope=col>&lt;dbl&gt;</th><th scope=col>&lt;dbl&gt;</th><th scope=col>&lt;dbl&gt;</th><th scope=col>&lt;dbl&gt;</th><th scope=col>&lt;dbl&gt;</th><th scope=col>&lt;dbl&gt;</th><th scope=col>&lt;dbl&gt;</th><th scope=col>&lt;dbl&gt;</th><th scope=col>&lt;chr&gt;</th><th scope=col>&lt;dbl&gt;</th><th scope=col>&lt;dbl&gt;</th><th scope=col>&lt;dbl&gt;</th><th scope=col>&lt;dbl&gt;</th><th scope=col>&lt;chr&gt;</th><th scope=col>&lt;chr&gt;</th><th scope=col>&lt;chr&gt;</th><th scope=col>&lt;dbl&gt;</th><th scope=col>&lt;dbl&gt;</th><th scope=col>&lt;dbl&gt;</th><th scope=col>&lt;dbl&gt;</th><th scope=col>&lt;dbl&gt;</th><th scope=col>&lt;dbl&gt;</th><th scope=col>&lt;dbl&gt;</th><th scope=col>&lt;dbl&gt;</th><th scope=col>&lt;dbl&gt;</th><th scope=col>&lt;dbl&gt;</th><th scope=col>&lt;dbl&gt;</th><th scope=col>&lt;dbl&gt;</th><th scope=col>&lt;dbl&gt;</th><th scope=col>&lt;dbl&gt;</th><th scope=col>&lt;dbl&gt;</th><th scope=col>&lt;dbl&gt;</th><th scope=col>&lt;dbl&gt;</th><th scope=col>&lt;dbl&gt;</th><th scope=col>&lt;dbl&gt;</th><th scope=col>&lt;dbl&gt;</th><th scope=col>&lt;dbl&gt;</th><th scope=col>&lt;dbl&gt;</th><th scope=col>&lt;dbl&gt;</th><th scope=col>&lt;dbl&gt;</th><th scope=col>&lt;dbl&gt;</th><th scope=col>&lt;dbl&gt;</th><th scope=col>&lt;dbl&gt;</th><th scope=col>&lt;dbl&gt;</th><th scope=col>&lt;dbl&gt;</th><th scope=col>&lt;dbl&gt;</th><th scope=col>&lt;dbl&gt;</th><th scope=col>&lt;dbl&gt;</th><th scope=col>&lt;dbl&gt;</th><th scope=col>&lt;dbl&gt;</th><th scope=col>&lt;dbl&gt;</th><th scope=col>&lt;dbl&gt;</th><th scope=col>&lt;dbl&gt;</th><th scope=col>&lt;dbl&gt;</th><th scope=col>&lt;dbl&gt;</th><th scope=col>&lt;dbl&gt;</th></tr>\n",
              "</thead>\n",
              "<tbody>\n",
              "\t<tr><td>ID_279628684</td><td>190000</td><td>0</td><td>3</td><td>0</td><td>1</td><td>1</td><td>0</td><td>NA</td><td>0</td><td>1</td><td>1</td><td>0</td><td>0</td><td>0</td><td>0</td><td>1</td><td>1</td><td>1</td><td>1</td><td>10</td><td>NA</td><td>1</td><td>1</td><td>0</td><td>0</td><td>0</td><td>0</td><td>0</td><td>0</td><td>0</td><td>1</td><td>0</td><td>0</td><td>0</td><td>0</td><td>0</td><td>0</td><td>1</td><td>0</td><td>0</td><td>1</td><td>1</td><td>0</td><td>0</td><td>1</td><td>0</td><td>0</td><td>0</td><td>0</td><td>1</td><td>0</td><td>0</td><td>0</td><td>0</td><td>0</td><td>1</td><td>0</td><td>1</td><td>0</td><td>0</td><td>0</td><td>0</td><td>0</td><td>0</td><td>1</td><td>0</td><td>1</td><td>0</td><td>0</td><td>1</td><td>0</td><td>0</td><td>0</td><td>1</td><td>0</td><td>0</td><td>0</td><td>0</td><td>1</td><td>0</td><td>0</td><td>0</td><td>1</td><td>0</td><td>0</td><td>0</td><td>0</td><td>0</td><td>0</td><td>0</td><td>0</td><td>0</td><td>0</td><td>0</td><td>21eb7fcc1</td><td>0</td><td>1</td><td>0</td><td>1</td><td>no </td><td>10</td><td>no</td><td>10</td><td>0</td><td>0</td><td>0</td><td>1</td><td>0</td><td>0</td><td>0</td><td>0</td><td>0</td><td>1</td><td>1.000000</td><td>0</td><td>0</td><td>1</td><td>0</td><td>0</td><td>0</td><td>0</td><td>1</td><td>1</td><td>1</td><td>0</td><td>0</td><td>0</td><td>0</td><td>0</td><td>1</td><td>0</td><td>43</td><td>100</td><td>1849</td><td> 1</td><td>100</td><td>0</td><td>1.000000</td><td> 0</td><td>100</td><td>1849</td><td>4</td></tr>\n",
              "\t<tr><td>ID_f29eb3ddd</td><td>135000</td><td>0</td><td>4</td><td>0</td><td>1</td><td>1</td><td>1</td><td> 1</td><td>0</td><td>1</td><td>1</td><td>0</td><td>0</td><td>0</td><td>0</td><td>1</td><td>1</td><td>1</td><td>1</td><td>12</td><td>NA</td><td>1</td><td>0</td><td>0</td><td>0</td><td>0</td><td>1</td><td>0</td><td>0</td><td>0</td><td>0</td><td>0</td><td>0</td><td>0</td><td>0</td><td>1</td><td>1</td><td>0</td><td>0</td><td>0</td><td>1</td><td>1</td><td>0</td><td>0</td><td>1</td><td>0</td><td>0</td><td>0</td><td>0</td><td>1</td><td>0</td><td>0</td><td>0</td><td>0</td><td>1</td><td>0</td><td>0</td><td>1</td><td>0</td><td>0</td><td>0</td><td>0</td><td>0</td><td>0</td><td>1</td><td>0</td><td>0</td><td>1</td><td>0</td><td>0</td><td>1</td><td>0</td><td>0</td><td>1</td><td>0</td><td>0</td><td>0</td><td>0</td><td>1</td><td>0</td><td>0</td><td>0</td><td>1</td><td>0</td><td>0</td><td>0</td><td>0</td><td>0</td><td>0</td><td>0</td><td>0</td><td>0</td><td>0</td><td>0</td><td>0e5d7a658</td><td>0</td><td>1</td><td>1</td><td>1</td><td>8  </td><td>12</td><td>no</td><td>12</td><td>0</td><td>0</td><td>0</td><td>0</td><td>0</td><td>0</td><td>0</td><td>1</td><td>0</td><td>1</td><td>1.000000</td><td>0</td><td>0</td><td>1</td><td>0</td><td>0</td><td>0</td><td>0</td><td>1</td><td>1</td><td>1</td><td>0</td><td>0</td><td>0</td><td>0</td><td>0</td><td>1</td><td>0</td><td>67</td><td>144</td><td>4489</td><td> 1</td><td>144</td><td>0</td><td>1.000000</td><td>64</td><td>144</td><td>4489</td><td>4</td></tr>\n",
              "\t<tr><td>ID_68de51c94</td><td>    NA</td><td>0</td><td>8</td><td>0</td><td>1</td><td>1</td><td>0</td><td>NA</td><td>0</td><td>0</td><td>0</td><td>0</td><td>1</td><td>1</td><td>0</td><td>1</td><td>1</td><td>1</td><td>1</td><td>11</td><td>NA</td><td>1</td><td>0</td><td>0</td><td>0</td><td>0</td><td>1</td><td>0</td><td>0</td><td>0</td><td>1</td><td>0</td><td>0</td><td>0</td><td>0</td><td>0</td><td>1</td><td>0</td><td>0</td><td>0</td><td>1</td><td>1</td><td>0</td><td>0</td><td>1</td><td>0</td><td>0</td><td>0</td><td>0</td><td>1</td><td>0</td><td>0</td><td>0</td><td>0</td><td>1</td><td>0</td><td>0</td><td>1</td><td>0</td><td>0</td><td>0</td><td>0</td><td>0</td><td>0</td><td>1</td><td>0</td><td>0</td><td>0</td><td>1</td><td>0</td><td>0</td><td>1</td><td>1</td><td>0</td><td>1</td><td>0</td><td>0</td><td>0</td><td>0</td><td>0</td><td>1</td><td>0</td><td>1</td><td>0</td><td>0</td><td>0</td><td>0</td><td>0</td><td>0</td><td>0</td><td>0</td><td>0</td><td>0</td><td>0</td><td>2c7317ea8</td><td>0</td><td>1</td><td>1</td><td>1</td><td>8  </td><td>no</td><td>11</td><td>11</td><td>0</td><td>0</td><td>0</td><td>0</td><td>1</td><td>0</td><td>0</td><td>0</td><td>0</td><td>2</td><td>0.500000</td><td>1</td><td>0</td><td>0</td><td>0</td><td>0</td><td>0</td><td>0</td><td>0</td><td>0</td><td>1</td><td>0</td><td>0</td><td>0</td><td>0</td><td>0</td><td>1</td><td>0</td><td>92</td><td>121</td><td>8464</td><td> 1</td><td>  0</td><td>0</td><td>0.250000</td><td>64</td><td>121</td><td>8464</td><td>4</td></tr>\n",
              "\t<tr><td>ID_d671db89c</td><td>180000</td><td>0</td><td>5</td><td>0</td><td>1</td><td>1</td><td>1</td><td> 1</td><td>0</td><td>2</td><td>2</td><td>1</td><td>1</td><td>2</td><td>1</td><td>3</td><td>4</td><td>4</td><td>4</td><td> 9</td><td> 1</td><td>4</td><td>1</td><td>0</td><td>0</td><td>0</td><td>0</td><td>0</td><td>0</td><td>0</td><td>1</td><td>0</td><td>0</td><td>0</td><td>0</td><td>0</td><td>1</td><td>0</td><td>0</td><td>0</td><td>1</td><td>1</td><td>0</td><td>0</td><td>1</td><td>0</td><td>0</td><td>0</td><td>0</td><td>1</td><td>0</td><td>0</td><td>0</td><td>0</td><td>1</td><td>0</td><td>0</td><td>1</td><td>0</td><td>0</td><td>0</td><td>0</td><td>0</td><td>0</td><td>0</td><td>1</td><td>0</td><td>0</td><td>1</td><td>0</td><td>0</td><td>1</td><td>0</td><td>1</td><td>0</td><td>0</td><td>0</td><td>0</td><td>0</td><td>0</td><td>0</td><td>1</td><td>0</td><td>0</td><td>1</td><td>0</td><td>0</td><td>0</td><td>0</td><td>0</td><td>0</td><td>0</td><td>0</td><td>0</td><td>2b58d945f</td><td>2</td><td>2</td><td>0</td><td>4</td><td>yes</td><td>11</td><td>no</td><td>11</td><td>0</td><td>0</td><td>0</td><td>1</td><td>0</td><td>0</td><td>0</td><td>0</td><td>0</td><td>3</td><td>1.333333</td><td>0</td><td>0</td><td>1</td><td>0</td><td>0</td><td>0</td><td>0</td><td>1</td><td>3</td><td>1</td><td>0</td><td>0</td><td>0</td><td>0</td><td>0</td><td>1</td><td>0</td><td>17</td><td> 81</td><td> 289</td><td>16</td><td>121</td><td>4</td><td>1.777778</td><td> 1</td><td>121</td><td> 289</td><td>4</td></tr>\n",
              "\t<tr><td>ID_d56d6f5f5</td><td>180000</td><td>0</td><td>5</td><td>0</td><td>1</td><td>1</td><td>1</td><td> 1</td><td>0</td><td>2</td><td>2</td><td>1</td><td>1</td><td>2</td><td>1</td><td>3</td><td>4</td><td>4</td><td>4</td><td>11</td><td>NA</td><td>4</td><td>1</td><td>0</td><td>0</td><td>0</td><td>0</td><td>0</td><td>0</td><td>0</td><td>1</td><td>0</td><td>0</td><td>0</td><td>0</td><td>0</td><td>1</td><td>0</td><td>0</td><td>0</td><td>1</td><td>1</td><td>0</td><td>0</td><td>1</td><td>0</td><td>0</td><td>0</td><td>0</td><td>1</td><td>0</td><td>0</td><td>0</td><td>0</td><td>1</td><td>0</td><td>0</td><td>1</td><td>0</td><td>0</td><td>0</td><td>0</td><td>0</td><td>0</td><td>0</td><td>1</td><td>0</td><td>0</td><td>1</td><td>0</td><td>0</td><td>1</td><td>0</td><td>0</td><td>1</td><td>0</td><td>1</td><td>0</td><td>0</td><td>0</td><td>0</td><td>0</td><td>0</td><td>1</td><td>0</td><td>0</td><td>0</td><td>0</td><td>0</td><td>0</td><td>0</td><td>0</td><td>0</td><td>0</td><td>2b58d945f</td><td>2</td><td>2</td><td>0</td><td>4</td><td>yes</td><td>11</td><td>no</td><td>11</td><td>0</td><td>0</td><td>0</td><td>0</td><td>1</td><td>0</td><td>0</td><td>0</td><td>0</td><td>3</td><td>1.333333</td><td>0</td><td>0</td><td>1</td><td>0</td><td>0</td><td>0</td><td>0</td><td>1</td><td>3</td><td>1</td><td>0</td><td>0</td><td>0</td><td>0</td><td>0</td><td>1</td><td>0</td><td>37</td><td>121</td><td>1369</td><td>16</td><td>121</td><td>4</td><td>1.777778</td><td> 1</td><td>121</td><td>1369</td><td>4</td></tr>\n",
              "\t<tr><td>ID_ec05b1a7b</td><td>180000</td><td>0</td><td>5</td><td>0</td><td>1</td><td>1</td><td>1</td><td> 1</td><td>0</td><td>2</td><td>2</td><td>1</td><td>1</td><td>2</td><td>1</td><td>3</td><td>4</td><td>4</td><td>4</td><td>11</td><td>NA</td><td>4</td><td>1</td><td>0</td><td>0</td><td>0</td><td>0</td><td>0</td><td>0</td><td>0</td><td>1</td><td>0</td><td>0</td><td>0</td><td>0</td><td>0</td><td>1</td><td>0</td><td>0</td><td>0</td><td>1</td><td>1</td><td>0</td><td>0</td><td>1</td><td>0</td><td>0</td><td>0</td><td>0</td><td>1</td><td>0</td><td>0</td><td>0</td><td>0</td><td>1</td><td>0</td><td>0</td><td>1</td><td>0</td><td>0</td><td>0</td><td>0</td><td>0</td><td>0</td><td>0</td><td>1</td><td>0</td><td>0</td><td>1</td><td>0</td><td>0</td><td>1</td><td>0</td><td>1</td><td>0</td><td>0</td><td>1</td><td>0</td><td>0</td><td>0</td><td>0</td><td>0</td><td>1</td><td>0</td><td>0</td><td>0</td><td>0</td><td>0</td><td>0</td><td>0</td><td>0</td><td>0</td><td>0</td><td>0</td><td>2b58d945f</td><td>2</td><td>2</td><td>0</td><td>4</td><td>yes</td><td>11</td><td>no</td><td>11</td><td>0</td><td>0</td><td>0</td><td>0</td><td>1</td><td>0</td><td>0</td><td>0</td><td>0</td><td>3</td><td>1.333333</td><td>0</td><td>0</td><td>1</td><td>0</td><td>0</td><td>0</td><td>0</td><td>1</td><td>3</td><td>1</td><td>0</td><td>0</td><td>0</td><td>0</td><td>0</td><td>1</td><td>0</td><td>38</td><td>121</td><td>1444</td><td>16</td><td>121</td><td>4</td><td>1.777778</td><td> 1</td><td>121</td><td>1444</td><td>4</td></tr>\n",
              "</tbody>\n",
              "</table>\n"
            ]
          },
          "metadata": {}
        }
      ]
    },
    {
      "cell_type": "code",
      "metadata": {
        "colab": {
          "base_uri": "https://localhost:8080/",
          "height": 221
        },
        "id": "4MYIlgL45qM4",
        "outputId": "a336b87b-a9ea-4f03-99ba-b11cc4e27d56"
      },
      "source": [
        "test = read_csv(\"test.csv\")\n",
        "dim(test)"
      ],
      "execution_count": null,
      "outputs": [
        {
          "output_type": "stream",
          "name": "stderr",
          "text": [
            "\u001b[1m\u001b[1mRows: \u001b[1m\u001b[22m\u001b[34m\u001b[34m23856\u001b[34m\u001b[39m \u001b[1m\u001b[1mColumns: \u001b[1m\u001b[22m\u001b[34m\u001b[34m142\u001b[34m\u001b[39m\n",
            "\n",
            "\u001b[36m──\u001b[39m \u001b[1m\u001b[1mColumn specification\u001b[1m\u001b[22m \u001b[36m────────────────────────────────────────────────────────\u001b[39m\n",
            "\u001b[1mDelimiter:\u001b[22m \",\"\n",
            "\u001b[31mchr\u001b[39m   (5): Id, idhogar, dependency, edjefe, edjefa\n",
            "\u001b[32mdbl\u001b[39m (137): v2a1, hacdor, rooms, hacapo, v14a, refrig, v18q, v18q1, r4h1, r4h...\n",
            "\n",
            "\n",
            "\u001b[36mℹ\u001b[39m Use \u001b[30m\u001b[47m\u001b[30m\u001b[47m`spec()`\u001b[47m\u001b[30m\u001b[49m\u001b[39m to retrieve the full column specification for this data.\n",
            "\u001b[36mℹ\u001b[39m Specify the column types or set \u001b[30m\u001b[47m\u001b[30m\u001b[47m`show_col_types = FALSE`\u001b[47m\u001b[30m\u001b[49m\u001b[39m to quiet this message.\n",
            "\n"
          ]
        },
        {
          "output_type": "display_data",
          "data": {
            "text/plain": [
              "[1] 23856   142"
            ],
            "text/latex": "\\begin{enumerate*}\n\\item 23856\n\\item 142\n\\end{enumerate*}\n",
            "text/markdown": "1. 23856\n2. 142\n\n\n",
            "text/html": [
              "<style>\n",
              ".list-inline {list-style: none; margin:0; padding: 0}\n",
              ".list-inline>li {display: inline-block}\n",
              ".list-inline>li:not(:last-child)::after {content: \"\\00b7\"; padding: 0 .5ex}\n",
              "</style>\n",
              "<ol class=list-inline><li>23856</li><li>142</li></ol>\n"
            ]
          },
          "metadata": {}
        }
      ]
    },
    {
      "cell_type": "code",
      "metadata": {
        "colab": {
          "base_uri": "https://localhost:8080/",
          "height": 303
        },
        "id": "cVpaQEIU_eVs",
        "outputId": "50d8c256-eab1-42a8-f283-067c21f06d5a"
      },
      "source": [
        "head(test)"
      ],
      "execution_count": null,
      "outputs": [
        {
          "output_type": "display_data",
          "data": {
            "text/plain": [
              "  Id           v2a1   hacdor rooms hacapo v14a refrig v18q v18q1 r4h1 ⋯ age\n",
              "1 ID_2f6873615     NA 0       5    0      1    1      0    NA    1    ⋯  4 \n",
              "2 ID_1c78846d2     NA 0       5    0      1    1      0    NA    1    ⋯ 41 \n",
              "3 ID_e5442cf6a     NA 0       5    0      1    1      0    NA    1    ⋯ 41 \n",
              "4 ID_a8db26a79     NA 0      14    0      1    1      1     1    0    ⋯ 59 \n",
              "5 ID_a62966799 175000 0       4    0      1    1      1     1    0    ⋯ 18 \n",
              "6 ID_e77d38d45 400000 0       3    0      1    1      1     1    0    ⋯ 38 \n",
              "  SQBescolari SQBage SQBhogar_total SQBedjefe SQBhogar_nin SQBovercrowding\n",
              "1   0           16   9                0       1            2.25           \n",
              "2 256         1681   9                0       1            2.25           \n",
              "3 289         1681   9                0       1            2.25           \n",
              "4 256         3481   1              256       0            1.00           \n",
              "5 121          324   1                0       1            0.25           \n",
              "6 256         1444   4                0       0            1.00           \n",
              "  SQBdependency SQBmeaned agesq\n",
              "1  0.25         272.25      16 \n",
              "2  0.25         272.25    1681 \n",
              "3  0.25         272.25    1681 \n",
              "4  0.00         256.00    3481 \n",
              "5 64.00             NA     324 \n",
              "6  0.00         182.25    1444 "
            ],
            "text/latex": "A tibble: 6 × 142\n\\begin{tabular}{lllllllllllllllllllll}\n Id & v2a1 & hacdor & rooms & hacapo & v14a & refrig & v18q & v18q1 & r4h1 & ⋯ & age & SQBescolari & SQBage & SQBhogar\\_total & SQBedjefe & SQBhogar\\_nin & SQBovercrowding & SQBdependency & SQBmeaned & agesq\\\\\n <chr> & <dbl> & <dbl> & <dbl> & <dbl> & <dbl> & <dbl> & <dbl> & <dbl> & <dbl> & ⋯ & <dbl> & <dbl> & <dbl> & <dbl> & <dbl> & <dbl> & <dbl> & <dbl> & <dbl> & <dbl>\\\\\n\\hline\n\t ID\\_2f6873615 &     NA & 0 &  5 & 0 & 1 & 1 & 0 & NA & 1 & ⋯ &  4 &   0 &   16 & 9 &   0 & 1 & 2.25 &  0.25 & 272.25 &   16\\\\\n\t ID\\_1c78846d2 &     NA & 0 &  5 & 0 & 1 & 1 & 0 & NA & 1 & ⋯ & 41 & 256 & 1681 & 9 &   0 & 1 & 2.25 &  0.25 & 272.25 & 1681\\\\\n\t ID\\_e5442cf6a &     NA & 0 &  5 & 0 & 1 & 1 & 0 & NA & 1 & ⋯ & 41 & 289 & 1681 & 9 &   0 & 1 & 2.25 &  0.25 & 272.25 & 1681\\\\\n\t ID\\_a8db26a79 &     NA & 0 & 14 & 0 & 1 & 1 & 1 &  1 & 0 & ⋯ & 59 & 256 & 3481 & 1 & 256 & 0 & 1.00 &  0.00 & 256.00 & 3481\\\\\n\t ID\\_a62966799 & 175000 & 0 &  4 & 0 & 1 & 1 & 1 &  1 & 0 & ⋯ & 18 & 121 &  324 & 1 &   0 & 1 & 0.25 & 64.00 &     NA &  324\\\\\n\t ID\\_e77d38d45 & 400000 & 0 &  3 & 0 & 1 & 1 & 1 &  1 & 0 & ⋯ & 38 & 256 & 1444 & 4 &   0 & 0 & 1.00 &  0.00 & 182.25 & 1444\\\\\n\\end{tabular}\n",
            "text/markdown": "\nA tibble: 6 × 142\n\n| Id &lt;chr&gt; | v2a1 &lt;dbl&gt; | hacdor &lt;dbl&gt; | rooms &lt;dbl&gt; | hacapo &lt;dbl&gt; | v14a &lt;dbl&gt; | refrig &lt;dbl&gt; | v18q &lt;dbl&gt; | v18q1 &lt;dbl&gt; | r4h1 &lt;dbl&gt; | ⋯ ⋯ | age &lt;dbl&gt; | SQBescolari &lt;dbl&gt; | SQBage &lt;dbl&gt; | SQBhogar_total &lt;dbl&gt; | SQBedjefe &lt;dbl&gt; | SQBhogar_nin &lt;dbl&gt; | SQBovercrowding &lt;dbl&gt; | SQBdependency &lt;dbl&gt; | SQBmeaned &lt;dbl&gt; | agesq &lt;dbl&gt; |\n|---|---|---|---|---|---|---|---|---|---|---|---|---|---|---|---|---|---|---|---|---|\n| ID_2f6873615 |     NA | 0 |  5 | 0 | 1 | 1 | 0 | NA | 1 | ⋯ |  4 |   0 |   16 | 9 |   0 | 1 | 2.25 |  0.25 | 272.25 |   16 |\n| ID_1c78846d2 |     NA | 0 |  5 | 0 | 1 | 1 | 0 | NA | 1 | ⋯ | 41 | 256 | 1681 | 9 |   0 | 1 | 2.25 |  0.25 | 272.25 | 1681 |\n| ID_e5442cf6a |     NA | 0 |  5 | 0 | 1 | 1 | 0 | NA | 1 | ⋯ | 41 | 289 | 1681 | 9 |   0 | 1 | 2.25 |  0.25 | 272.25 | 1681 |\n| ID_a8db26a79 |     NA | 0 | 14 | 0 | 1 | 1 | 1 |  1 | 0 | ⋯ | 59 | 256 | 3481 | 1 | 256 | 0 | 1.00 |  0.00 | 256.00 | 3481 |\n| ID_a62966799 | 175000 | 0 |  4 | 0 | 1 | 1 | 1 |  1 | 0 | ⋯ | 18 | 121 |  324 | 1 |   0 | 1 | 0.25 | 64.00 |     NA |  324 |\n| ID_e77d38d45 | 400000 | 0 |  3 | 0 | 1 | 1 | 1 |  1 | 0 | ⋯ | 38 | 256 | 1444 | 4 |   0 | 0 | 1.00 |  0.00 | 182.25 | 1444 |\n\n",
            "text/html": [
              "<table class=\"dataframe\">\n",
              "<caption>A tibble: 6 × 142</caption>\n",
              "<thead>\n",
              "\t<tr><th scope=col>Id</th><th scope=col>v2a1</th><th scope=col>hacdor</th><th scope=col>rooms</th><th scope=col>hacapo</th><th scope=col>v14a</th><th scope=col>refrig</th><th scope=col>v18q</th><th scope=col>v18q1</th><th scope=col>r4h1</th><th scope=col>⋯</th><th scope=col>age</th><th scope=col>SQBescolari</th><th scope=col>SQBage</th><th scope=col>SQBhogar_total</th><th scope=col>SQBedjefe</th><th scope=col>SQBhogar_nin</th><th scope=col>SQBovercrowding</th><th scope=col>SQBdependency</th><th scope=col>SQBmeaned</th><th scope=col>agesq</th></tr>\n",
              "\t<tr><th scope=col>&lt;chr&gt;</th><th scope=col>&lt;dbl&gt;</th><th scope=col>&lt;dbl&gt;</th><th scope=col>&lt;dbl&gt;</th><th scope=col>&lt;dbl&gt;</th><th scope=col>&lt;dbl&gt;</th><th scope=col>&lt;dbl&gt;</th><th scope=col>&lt;dbl&gt;</th><th scope=col>&lt;dbl&gt;</th><th scope=col>&lt;dbl&gt;</th><th scope=col>⋯</th><th scope=col>&lt;dbl&gt;</th><th scope=col>&lt;dbl&gt;</th><th scope=col>&lt;dbl&gt;</th><th scope=col>&lt;dbl&gt;</th><th scope=col>&lt;dbl&gt;</th><th scope=col>&lt;dbl&gt;</th><th scope=col>&lt;dbl&gt;</th><th scope=col>&lt;dbl&gt;</th><th scope=col>&lt;dbl&gt;</th><th scope=col>&lt;dbl&gt;</th></tr>\n",
              "</thead>\n",
              "<tbody>\n",
              "\t<tr><td>ID_2f6873615</td><td>    NA</td><td>0</td><td> 5</td><td>0</td><td>1</td><td>1</td><td>0</td><td>NA</td><td>1</td><td>⋯</td><td> 4</td><td>  0</td><td>  16</td><td>9</td><td>  0</td><td>1</td><td>2.25</td><td> 0.25</td><td>272.25</td><td>  16</td></tr>\n",
              "\t<tr><td>ID_1c78846d2</td><td>    NA</td><td>0</td><td> 5</td><td>0</td><td>1</td><td>1</td><td>0</td><td>NA</td><td>1</td><td>⋯</td><td>41</td><td>256</td><td>1681</td><td>9</td><td>  0</td><td>1</td><td>2.25</td><td> 0.25</td><td>272.25</td><td>1681</td></tr>\n",
              "\t<tr><td>ID_e5442cf6a</td><td>    NA</td><td>0</td><td> 5</td><td>0</td><td>1</td><td>1</td><td>0</td><td>NA</td><td>1</td><td>⋯</td><td>41</td><td>289</td><td>1681</td><td>9</td><td>  0</td><td>1</td><td>2.25</td><td> 0.25</td><td>272.25</td><td>1681</td></tr>\n",
              "\t<tr><td>ID_a8db26a79</td><td>    NA</td><td>0</td><td>14</td><td>0</td><td>1</td><td>1</td><td>1</td><td> 1</td><td>0</td><td>⋯</td><td>59</td><td>256</td><td>3481</td><td>1</td><td>256</td><td>0</td><td>1.00</td><td> 0.00</td><td>256.00</td><td>3481</td></tr>\n",
              "\t<tr><td>ID_a62966799</td><td>175000</td><td>0</td><td> 4</td><td>0</td><td>1</td><td>1</td><td>1</td><td> 1</td><td>0</td><td>⋯</td><td>18</td><td>121</td><td> 324</td><td>1</td><td>  0</td><td>1</td><td>0.25</td><td>64.00</td><td>    NA</td><td> 324</td></tr>\n",
              "\t<tr><td>ID_e77d38d45</td><td>400000</td><td>0</td><td> 3</td><td>0</td><td>1</td><td>1</td><td>1</td><td> 1</td><td>0</td><td>⋯</td><td>38</td><td>256</td><td>1444</td><td>4</td><td>  0</td><td>0</td><td>1.00</td><td> 0.00</td><td>182.25</td><td>1444</td></tr>\n",
              "</tbody>\n",
              "</table>\n"
            ]
          },
          "metadata": {}
        }
      ]
    },
    {
      "cell_type": "code",
      "metadata": {
        "colab": {
          "base_uri": "https://localhost:8080/",
          "height": 303
        },
        "id": "8Na5Z3FsVrAF",
        "outputId": "61ad57a3-0b8c-4f23-b254-36689b45317b"
      },
      "source": [
        "tail(test)"
      ],
      "execution_count": null,
      "outputs": [
        {
          "output_type": "display_data",
          "data": {
            "text/plain": [
              "  Id           v2a1 hacdor rooms hacapo v14a refrig v18q v18q1 r4h1 ⋯ age\n",
              "1 ID_ecdf63132 NA   1      2     1      1    1      0    NA    0    ⋯ 27 \n",
              "2 ID_a065a7cad NA   1      2     1      1    1      0    NA    0    ⋯ 10 \n",
              "3 ID_1a7c6953b NA   0      3     0      1    1      0    NA    0    ⋯ 54 \n",
              "4 ID_07dbb4be2 NA   0      3     0      1    1      0    NA    0    ⋯ 12 \n",
              "5 ID_34d2ed046 NA   0      3     0      1    1      0    NA    0    ⋯ 12 \n",
              "6 ID_34754556f NA   0      3     0      1    1      0    NA    0    ⋯ 51 \n",
              "  SQBescolari SQBage SQBhogar_total SQBedjefe SQBhogar_nin SQBovercrowding\n",
              "1 64           729   36             25        4            36             \n",
              "2  9           100   36             25        4            36             \n",
              "3 36          2916   16             36        4             4             \n",
              "4 16           144   16             36        4             4             \n",
              "5 25           144   16             36        4             4             \n",
              "6 36          2601   16             36        4             4             \n",
              "  SQBdependency SQBmeaned agesq\n",
              "1 0.25          33.0625    729 \n",
              "2 0.25          33.0625    100 \n",
              "3 1.00          36.0000   2916 \n",
              "4 1.00          36.0000    144 \n",
              "5 1.00          36.0000    144 \n",
              "6 1.00          36.0000   2601 "
            ],
            "text/latex": "A tibble: 6 × 142\n\\begin{tabular}{lllllllllllllllllllll}\n Id & v2a1 & hacdor & rooms & hacapo & v14a & refrig & v18q & v18q1 & r4h1 & ⋯ & age & SQBescolari & SQBage & SQBhogar\\_total & SQBedjefe & SQBhogar\\_nin & SQBovercrowding & SQBdependency & SQBmeaned & agesq\\\\\n <chr> & <dbl> & <dbl> & <dbl> & <dbl> & <dbl> & <dbl> & <dbl> & <dbl> & <dbl> & ⋯ & <dbl> & <dbl> & <dbl> & <dbl> & <dbl> & <dbl> & <dbl> & <dbl> & <dbl> & <dbl>\\\\\n\\hline\n\t ID\\_ecdf63132 & NA & 1 & 2 & 1 & 1 & 1 & 0 & NA & 0 & ⋯ & 27 & 64 &  729 & 36 & 25 & 4 & 36 & 0.25 & 33.0625 &  729\\\\\n\t ID\\_a065a7cad & NA & 1 & 2 & 1 & 1 & 1 & 0 & NA & 0 & ⋯ & 10 &  9 &  100 & 36 & 25 & 4 & 36 & 0.25 & 33.0625 &  100\\\\\n\t ID\\_1a7c6953b & NA & 0 & 3 & 0 & 1 & 1 & 0 & NA & 0 & ⋯ & 54 & 36 & 2916 & 16 & 36 & 4 &  4 & 1.00 & 36.0000 & 2916\\\\\n\t ID\\_07dbb4be2 & NA & 0 & 3 & 0 & 1 & 1 & 0 & NA & 0 & ⋯ & 12 & 16 &  144 & 16 & 36 & 4 &  4 & 1.00 & 36.0000 &  144\\\\\n\t ID\\_34d2ed046 & NA & 0 & 3 & 0 & 1 & 1 & 0 & NA & 0 & ⋯ & 12 & 25 &  144 & 16 & 36 & 4 &  4 & 1.00 & 36.0000 &  144\\\\\n\t ID\\_34754556f & NA & 0 & 3 & 0 & 1 & 1 & 0 & NA & 0 & ⋯ & 51 & 36 & 2601 & 16 & 36 & 4 &  4 & 1.00 & 36.0000 & 2601\\\\\n\\end{tabular}\n",
            "text/markdown": "\nA tibble: 6 × 142\n\n| Id &lt;chr&gt; | v2a1 &lt;dbl&gt; | hacdor &lt;dbl&gt; | rooms &lt;dbl&gt; | hacapo &lt;dbl&gt; | v14a &lt;dbl&gt; | refrig &lt;dbl&gt; | v18q &lt;dbl&gt; | v18q1 &lt;dbl&gt; | r4h1 &lt;dbl&gt; | ⋯ ⋯ | age &lt;dbl&gt; | SQBescolari &lt;dbl&gt; | SQBage &lt;dbl&gt; | SQBhogar_total &lt;dbl&gt; | SQBedjefe &lt;dbl&gt; | SQBhogar_nin &lt;dbl&gt; | SQBovercrowding &lt;dbl&gt; | SQBdependency &lt;dbl&gt; | SQBmeaned &lt;dbl&gt; | agesq &lt;dbl&gt; |\n|---|---|---|---|---|---|---|---|---|---|---|---|---|---|---|---|---|---|---|---|---|\n| ID_ecdf63132 | NA | 1 | 2 | 1 | 1 | 1 | 0 | NA | 0 | ⋯ | 27 | 64 |  729 | 36 | 25 | 4 | 36 | 0.25 | 33.0625 |  729 |\n| ID_a065a7cad | NA | 1 | 2 | 1 | 1 | 1 | 0 | NA | 0 | ⋯ | 10 |  9 |  100 | 36 | 25 | 4 | 36 | 0.25 | 33.0625 |  100 |\n| ID_1a7c6953b | NA | 0 | 3 | 0 | 1 | 1 | 0 | NA | 0 | ⋯ | 54 | 36 | 2916 | 16 | 36 | 4 |  4 | 1.00 | 36.0000 | 2916 |\n| ID_07dbb4be2 | NA | 0 | 3 | 0 | 1 | 1 | 0 | NA | 0 | ⋯ | 12 | 16 |  144 | 16 | 36 | 4 |  4 | 1.00 | 36.0000 |  144 |\n| ID_34d2ed046 | NA | 0 | 3 | 0 | 1 | 1 | 0 | NA | 0 | ⋯ | 12 | 25 |  144 | 16 | 36 | 4 |  4 | 1.00 | 36.0000 |  144 |\n| ID_34754556f | NA | 0 | 3 | 0 | 1 | 1 | 0 | NA | 0 | ⋯ | 51 | 36 | 2601 | 16 | 36 | 4 |  4 | 1.00 | 36.0000 | 2601 |\n\n",
            "text/html": [
              "<table class=\"dataframe\">\n",
              "<caption>A tibble: 6 × 142</caption>\n",
              "<thead>\n",
              "\t<tr><th scope=col>Id</th><th scope=col>v2a1</th><th scope=col>hacdor</th><th scope=col>rooms</th><th scope=col>hacapo</th><th scope=col>v14a</th><th scope=col>refrig</th><th scope=col>v18q</th><th scope=col>v18q1</th><th scope=col>r4h1</th><th scope=col>⋯</th><th scope=col>age</th><th scope=col>SQBescolari</th><th scope=col>SQBage</th><th scope=col>SQBhogar_total</th><th scope=col>SQBedjefe</th><th scope=col>SQBhogar_nin</th><th scope=col>SQBovercrowding</th><th scope=col>SQBdependency</th><th scope=col>SQBmeaned</th><th scope=col>agesq</th></tr>\n",
              "\t<tr><th scope=col>&lt;chr&gt;</th><th scope=col>&lt;dbl&gt;</th><th scope=col>&lt;dbl&gt;</th><th scope=col>&lt;dbl&gt;</th><th scope=col>&lt;dbl&gt;</th><th scope=col>&lt;dbl&gt;</th><th scope=col>&lt;dbl&gt;</th><th scope=col>&lt;dbl&gt;</th><th scope=col>&lt;dbl&gt;</th><th scope=col>&lt;dbl&gt;</th><th scope=col>⋯</th><th scope=col>&lt;dbl&gt;</th><th scope=col>&lt;dbl&gt;</th><th scope=col>&lt;dbl&gt;</th><th scope=col>&lt;dbl&gt;</th><th scope=col>&lt;dbl&gt;</th><th scope=col>&lt;dbl&gt;</th><th scope=col>&lt;dbl&gt;</th><th scope=col>&lt;dbl&gt;</th><th scope=col>&lt;dbl&gt;</th><th scope=col>&lt;dbl&gt;</th></tr>\n",
              "</thead>\n",
              "<tbody>\n",
              "\t<tr><td>ID_ecdf63132</td><td>NA</td><td>1</td><td>2</td><td>1</td><td>1</td><td>1</td><td>0</td><td>NA</td><td>0</td><td>⋯</td><td>27</td><td>64</td><td> 729</td><td>36</td><td>25</td><td>4</td><td>36</td><td>0.25</td><td>33.0625</td><td> 729</td></tr>\n",
              "\t<tr><td>ID_a065a7cad</td><td>NA</td><td>1</td><td>2</td><td>1</td><td>1</td><td>1</td><td>0</td><td>NA</td><td>0</td><td>⋯</td><td>10</td><td> 9</td><td> 100</td><td>36</td><td>25</td><td>4</td><td>36</td><td>0.25</td><td>33.0625</td><td> 100</td></tr>\n",
              "\t<tr><td>ID_1a7c6953b</td><td>NA</td><td>0</td><td>3</td><td>0</td><td>1</td><td>1</td><td>0</td><td>NA</td><td>0</td><td>⋯</td><td>54</td><td>36</td><td>2916</td><td>16</td><td>36</td><td>4</td><td> 4</td><td>1.00</td><td>36.0000</td><td>2916</td></tr>\n",
              "\t<tr><td>ID_07dbb4be2</td><td>NA</td><td>0</td><td>3</td><td>0</td><td>1</td><td>1</td><td>0</td><td>NA</td><td>0</td><td>⋯</td><td>12</td><td>16</td><td> 144</td><td>16</td><td>36</td><td>4</td><td> 4</td><td>1.00</td><td>36.0000</td><td> 144</td></tr>\n",
              "\t<tr><td>ID_34d2ed046</td><td>NA</td><td>0</td><td>3</td><td>0</td><td>1</td><td>1</td><td>0</td><td>NA</td><td>0</td><td>⋯</td><td>12</td><td>25</td><td> 144</td><td>16</td><td>36</td><td>4</td><td> 4</td><td>1.00</td><td>36.0000</td><td> 144</td></tr>\n",
              "\t<tr><td>ID_34754556f</td><td>NA</td><td>0</td><td>3</td><td>0</td><td>1</td><td>1</td><td>0</td><td>NA</td><td>0</td><td>⋯</td><td>51</td><td>36</td><td>2601</td><td>16</td><td>36</td><td>4</td><td> 4</td><td>1.00</td><td>36.0000</td><td>2601</td></tr>\n",
              "</tbody>\n",
              "</table>\n"
            ]
          },
          "metadata": {}
        }
      ]
    },
    {
      "cell_type": "code",
      "metadata": {
        "colab": {
          "base_uri": "https://localhost:8080/",
          "height": 1000
        },
        "id": "Biokw1okWkOC",
        "outputId": "c4ad48a1-da92-4a6f-b5d2-aa93ff29e677"
      },
      "source": [
        "features = read_csv(\"codebook.csv\")\n",
        "features"
      ],
      "execution_count": null,
      "outputs": [
        {
          "output_type": "stream",
          "name": "stderr",
          "text": [
            "\u001b[1m\u001b[1mRows: \u001b[1m\u001b[22m\u001b[34m\u001b[34m141\u001b[34m\u001b[39m \u001b[1m\u001b[1mColumns: \u001b[1m\u001b[22m\u001b[34m\u001b[34m2\u001b[34m\u001b[39m\n",
            "\n",
            "\u001b[36m──\u001b[39m \u001b[1m\u001b[1mColumn specification\u001b[1m\u001b[22m \u001b[36m────────────────────────────────────────────────────────\u001b[39m\n",
            "\u001b[1mDelimiter:\u001b[22m \",\"\n",
            "\u001b[31mchr\u001b[39m (2): Variable name, Variable description\n",
            "\n",
            "\n",
            "\u001b[36mℹ\u001b[39m Use \u001b[30m\u001b[47m\u001b[30m\u001b[47m`spec()`\u001b[47m\u001b[30m\u001b[49m\u001b[39m to retrieve the full column specification for this data.\n",
            "\u001b[36mℹ\u001b[39m Specify the column types or set \u001b[30m\u001b[47m\u001b[30m\u001b[47m`show_col_types = FALSE`\u001b[47m\u001b[30m\u001b[49m\u001b[39m to quiet this message.\n",
            "\n"
          ]
        },
        {
          "output_type": "display_data",
          "data": {
            "text/plain": [
              "    Variable name  \n",
              "1   v2a1           \n",
              "2   hacdor         \n",
              "3   rooms          \n",
              "4   hacapo         \n",
              "5   v14a           \n",
              "6   refrig         \n",
              "7   v18q           \n",
              "8   v18q1          \n",
              "9   r4h1           \n",
              "10  r4h2           \n",
              "11  r4h3           \n",
              "12  r4m1           \n",
              "13  r4m2           \n",
              "14  r4m3           \n",
              "15  r4t1           \n",
              "16  r4t2           \n",
              "17  r4t3           \n",
              "18  tamhog         \n",
              "19  tamviv         \n",
              "20  escolari       \n",
              "21  rez_esc        \n",
              "22  hhsize         \n",
              "23  paredblolad    \n",
              "24  paredzocalo    \n",
              "25  paredpreb      \n",
              "26  pareddes       \n",
              "27  paredmad       \n",
              "28  paredzinc      \n",
              "29  paredfibras    \n",
              "30  paredother     \n",
              "31  pisomoscer     \n",
              "32  pisocemento    \n",
              "33  pisoother      \n",
              "34  pisonatur      \n",
              "35  pisonotiene    \n",
              "36  pisomadera     \n",
              "37  techozinc      \n",
              "38  techoentrepiso \n",
              "39  techocane      \n",
              "40  techootro      \n",
              "41  cielorazo      \n",
              "42  abastaguadentro\n",
              "43  abastaguafuera \n",
              "44  abastaguano    \n",
              "45  public         \n",
              "46  planpri        \n",
              "47  noelec         \n",
              "48  coopele        \n",
              "49  sanitario1     \n",
              "50  sanitario2     \n",
              "51  sanitario3     \n",
              "52  sanitario5     \n",
              "53  sanitario6     \n",
              "54  energcocinar1  \n",
              "55  energcocinar2  \n",
              "56  energcocinar3  \n",
              "57  energcocinar4  \n",
              "58  elimbasu1      \n",
              "59  elimbasu2      \n",
              "60  elimbasu3      \n",
              "61  elimbasu4      \n",
              "62  elimbasu5      \n",
              "63  elimbasu6      \n",
              "64  epared1        \n",
              "65  epared2        \n",
              "66  epared3        \n",
              "67  etecho1        \n",
              "68  etecho2        \n",
              "69  etecho3        \n",
              "70  eviv1          \n",
              "71  eviv2          \n",
              "72  eviv3          \n",
              "73  dis            \n",
              "74  male           \n",
              "75  female         \n",
              "76  estadocivil1   \n",
              "77  estadocivil2   \n",
              "78  estadocivil3   \n",
              "79  estadocivil4   \n",
              "80  estadocivil5   \n",
              "81  estadocivil6   \n",
              "82  estadocivil7   \n",
              "83  parentesco1    \n",
              "84  parentesco2    \n",
              "85  parentesco3    \n",
              "86  parentesco4    \n",
              "87  parentesco5    \n",
              "88  parentesco6    \n",
              "89  parentesco7    \n",
              "90  parentesco8    \n",
              "91  parentesco9    \n",
              "92  parentesco10   \n",
              "93  parentesco11   \n",
              "94  parentesco12   \n",
              "95  idhogar        \n",
              "96  hogar_nin      \n",
              "97  hogar_adul     \n",
              "98  hogar_mayor    \n",
              "99  hogar_total    \n",
              "100 dependency     \n",
              "101 edjefe         \n",
              "102 edjefa         \n",
              "103 meaneduc       \n",
              "104 instlevel1     \n",
              "105 instlevel2     \n",
              "106 instlevel3     \n",
              "107 instlevel4     \n",
              "108 instlevel5     \n",
              "109 instlevel6     \n",
              "110 instlevel7     \n",
              "111 instlevel8     \n",
              "112 instlevel9     \n",
              "113 bedrooms       \n",
              "114 overcrowding   \n",
              "115 tipovivi1      \n",
              "116 tipovivi2      \n",
              "117 tipovivi3      \n",
              "118 tipovivi4      \n",
              "119 tipovivi5      \n",
              "120 computer       \n",
              "121 television     \n",
              "122 mobilephone    \n",
              "123 qmobilephone   \n",
              "124 lugar1         \n",
              "125 lugar2         \n",
              "126 lugar3         \n",
              "127 lugar4         \n",
              "128 lugar5         \n",
              "129 lugar6         \n",
              "130 area1          \n",
              "131 area2          \n",
              "132 age            \n",
              "133 SQBescolari    \n",
              "134 SQBage         \n",
              "135 SQBhogar_total \n",
              "136 SQBedjefe      \n",
              "137 SQBhogar_nin   \n",
              "138 SQBovercrowding\n",
              "139 SQBdependency  \n",
              "140 SQBmeaned      \n",
              "141 agesq          \n",
              "    Variable description                                                            \n",
              "1   Monthly rent payment                                                            \n",
              "2   =1 Overcrowding by bedrooms                                                     \n",
              "3   number of all rooms in the house                                                \n",
              "4   =1 Overcrowding by rooms                                                        \n",
              "5   =1 has toilet in the household                                                  \n",
              "6   =1 if the household has refrigerator                                            \n",
              "7   owns a tablet                                                                   \n",
              "8   number of tablets household owns                                                \n",
              "9   Males younger than 12 years of age                                              \n",
              "10  Males 12 years of age and older                                                 \n",
              "11  Total males in the household                                                    \n",
              "12  Females younger than 12 years of age                                            \n",
              "13  Females 12 years of age and older                                               \n",
              "14  Total females in the household                                                  \n",
              "15  persons younger than 12 years of age                                            \n",
              "16  persons 12 years of age and older                                               \n",
              "17  Total persons in the household                                                  \n",
              "18  size of the household                                                           \n",
              "19  TamViv                                                                          \n",
              "20  years of schooling                                                              \n",
              "21  Years behind in school                                                          \n",
              "22  household size                                                                  \n",
              "23  =1 if predominant material on the outside wall is block or brick                \n",
              "24  =1 if predominant material on the outside wall is socket (wood, zinc or absbesto\n",
              "25  =1 if predominant material on the outside wall is prefabricated or cement       \n",
              "26  =1 if predominant material on the outside wall is waste material                \n",
              "27  =1 if predominant material on the outside wall is wood                          \n",
              "28  =1 if predominant material on the outside wall is zink                          \n",
              "29  =1 if predominant material on the outside wall is natural fibers                \n",
              "30  =1 if predominant material on the outside wall is other                         \n",
              "31  =1 if predominant material on the floor is mosaic, ceramic, terrazo             \n",
              "32  =1 if predominant material on the floor is cement                               \n",
              "33  =1 if predominant material on the floor is other                                \n",
              "34  =1 if predominant material on the floor is  natural material                    \n",
              "35  =1 if no floor at the household                                                 \n",
              "36  =1 if predominant material on the floor is wood                                 \n",
              "37  =1 if predominant material on the roof is metal foil or zink                    \n",
              "38  =1 if predominant material on the roof is fiber cement, mezzanine               \n",
              "39  =1 if predominant material on the roof is natural fibers                        \n",
              "40  =1 if predominant material on the roof is other                                 \n",
              "41  =1 if the house has ceiling                                                     \n",
              "42  =1 if water provision inside the dwelling                                       \n",
              "43  =1 if water provision outside the dwelling                                      \n",
              "44  =1 if no water provision                                                        \n",
              "45  =1 electricity from CNFL, ICE, ESPH/JASEC                                       \n",
              "46  =1 electricity from private plant                                               \n",
              "47  =1 no electricity in the dwelling                                               \n",
              "48  =1 electricity from cooperative                                                 \n",
              "49  =1 no toilet in the dwelling                                                    \n",
              "50  =1 toilet connected to sewer or cesspool                                        \n",
              "51  =1 toilet connected to  septic tank                                             \n",
              "52  =1 toilet connected to black hole or letrine                                    \n",
              "53  =1 toilet connected to other system                                             \n",
              "54  =1 no main source of energy used for cooking (no kitchen)                       \n",
              "55  =1 main source of energy used for cooking electricity                           \n",
              "56  =1 main source of energy used for cooking gas                                   \n",
              "57  =1 main source of energy used for cooking wood charcoal                         \n",
              "58  =1 if rubbish disposal mainly by tanker truck                                   \n",
              "59  =1 if rubbish disposal mainly by botan hollow or buried                         \n",
              "60  =1 if rubbish disposal mainly by burning                                        \n",
              "61  =1 if rubbish disposal mainly by throwing in an unoccupied space                \n",
              "62  =1 if rubbish disposal mainly by throwing in river, creek or sea                \n",
              "63  =1 if rubbish disposal mainly other                                             \n",
              "64  =1 if walls are bad                                                             \n",
              "65  =1 if walls are regular                                                         \n",
              "66  =1 if walls are good                                                            \n",
              "67  =1 if roof are bad                                                              \n",
              "68  =1 if roof are regular                                                          \n",
              "69  =1 if roof are good                                                             \n",
              "70  =1 if floor are bad                                                             \n",
              "71  =1 if floor are regular                                                         \n",
              "72  =1 if floor are good                                                            \n",
              "73  =1 if disable person                                                            \n",
              "74  =1 if male                                                                      \n",
              "75  =1 if female                                                                    \n",
              "76  =1 if less than 10 years old                                                    \n",
              "77  =1 if free or coupled uunion                                                    \n",
              "78  =1 if married                                                                   \n",
              "79  =1 if divorced                                                                  \n",
              "80  =1 if separated                                                                 \n",
              "81  =1 if widow/er                                                                  \n",
              "82  =1 if single                                                                    \n",
              "83  =1 if household head                                                            \n",
              "84  =1 if spouse/partner                                                            \n",
              "85  =1 if son/doughter                                                              \n",
              "86  =1 if stepson/doughter                                                          \n",
              "87  =1 if son/doughter in law                                                       \n",
              "88  =1 if grandson/doughter                                                         \n",
              "89  =1 if mother/father                                                             \n",
              "90  =1 if father/mother in law                                                      \n",
              "91  =1 if brother/sister                                                            \n",
              "92  =1 if brother/sister in law                                                     \n",
              "93  =1 if other family member                                                       \n",
              "94  =1 if other non family member                                                   \n",
              "95  Household level identifier                                                      \n",
              "96  Number of children 0 to 19 in household                                         \n",
              "97  Number of adults in household                                                   \n",
              "98  # of individuals 65+ in the household                                           \n",
              "99  # of total individuals in the household                                         \n",
              "100 Dependency rate                                                                 \n",
              "101 years of education of male head of household                                    \n",
              "102 years of education of female head of household                                  \n",
              "103 average years of education for adults (18+)                                     \n",
              "104 =1 no level of education                                                        \n",
              "105 =1 incomplete primary                                                           \n",
              "106 =1 complete primary                                                             \n",
              "107 =1 incomplete academic secondary level                                          \n",
              "108 =1 complete academic secondary level                                            \n",
              "109 =1 incomplete technical secondary level                                         \n",
              "110 =1 complete technical secondary level                                           \n",
              "111 =1 undergraduate and higher education                                           \n",
              "112 =1 postgraduate higher education                                                \n",
              "113 number of bedrooms                                                              \n",
              "114 # persons per room                                                              \n",
              "115 =1 own and fully paid house                                                     \n",
              "116 =1 own, paying in installments                                                  \n",
              "117 =1 rented                                                                       \n",
              "118 =1 precarious                                                                   \n",
              "119 =1 other(assigned, borrowed)                                                    \n",
              "120 =1 if the household has notebook or desktop computer                            \n",
              "121 =1 if the household has TV                                                      \n",
              "122 =1 if mobile phone                                                              \n",
              "123 # of mobile phones                                                              \n",
              "124 =1 region Central                                                               \n",
              "125 =1 region Chorotega                                                             \n",
              "126 =1 region PacÃƒÂ­fico central                                                   \n",
              "127 =1 region Brunca                                                                \n",
              "128 =1 region Huetar AtlÃƒÂ¡ntica                                                   \n",
              "129 =1 region Huetar Norte                                                          \n",
              "130 =1 zona urbana                                                                  \n",
              "131 =2 zona rural                                                                   \n",
              "132 Age in years                                                                    \n",
              "133 escolari squared                                                                \n",
              "134 age squared                                                                     \n",
              "135 hogar_total squared                                                             \n",
              "136 edjefe squared                                                                  \n",
              "137 hogar_nin squared                                                               \n",
              "138 overcrowding squared                                                            \n",
              "139 dependency squared                                                              \n",
              "140 meaned squared                                                                  \n",
              "141 Age squared                                                                     "
            ],
            "text/latex": "A spec\\_tbl\\_df: 141 × 2\n\\begin{tabular}{ll}\n Variable name & Variable description\\\\\n <chr> & <chr>\\\\\n\\hline\n\t v2a1            & Monthly rent payment                                                            \\\\\n\t hacdor          & =1 Overcrowding by bedrooms                                                     \\\\\n\t rooms           & number of all rooms in the house                                                \\\\\n\t hacapo          & =1 Overcrowding by rooms                                                        \\\\\n\t v14a            & =1 has toilet in the household                                                  \\\\\n\t refrig          & =1 if the household has refrigerator                                            \\\\\n\t v18q            & owns a tablet                                                                   \\\\\n\t v18q1           & number of tablets household owns                                                \\\\\n\t r4h1            & Males younger than 12 years of age                                              \\\\\n\t r4h2            & Males 12 years of age and older                                                 \\\\\n\t r4h3            & Total males in the household                                                    \\\\\n\t r4m1            & Females younger than 12 years of age                                            \\\\\n\t r4m2            & Females 12 years of age and older                                               \\\\\n\t r4m3            & Total females in the household                                                  \\\\\n\t r4t1            & persons younger than 12 years of age                                            \\\\\n\t r4t2            & persons 12 years of age and older                                               \\\\\n\t r4t3            & Total persons in the household                                                  \\\\\n\t tamhog          & size of the household                                                           \\\\\n\t tamviv          & TamViv                                                                          \\\\\n\t escolari        & years of schooling                                                              \\\\\n\t rez\\_esc         & Years behind in school                                                          \\\\\n\t hhsize          & household size                                                                  \\\\\n\t paredblolad     & =1 if predominant material on the outside wall is block or brick                \\\\\n\t paredzocalo     & =1 if predominant material on the outside wall is socket (wood, zinc or absbesto\\\\\n\t paredpreb       & =1 if predominant material on the outside wall is prefabricated or cement       \\\\\n\t pareddes        & =1 if predominant material on the outside wall is waste material                \\\\\n\t paredmad        & =1 if predominant material on the outside wall is wood                          \\\\\n\t paredzinc       & =1 if predominant material on the outside wall is zink                          \\\\\n\t paredfibras     & =1 if predominant material on the outside wall is natural fibers                \\\\\n\t paredother      & =1 if predominant material on the outside wall is other                         \\\\\n\t pisomoscer      & =1 if predominant material on the floor is mosaic, ceramic, terrazo             \\\\\n\t pisocemento     & =1 if predominant material on the floor is cement                               \\\\\n\t pisoother       & =1 if predominant material on the floor is other                                \\\\\n\t pisonatur       & =1 if predominant material on the floor is  natural material                    \\\\\n\t pisonotiene     & =1 if no floor at the household                                                 \\\\\n\t pisomadera      & =1 if predominant material on the floor is wood                                 \\\\\n\t techozinc       & =1 if predominant material on the roof is metal foil or zink                    \\\\\n\t techoentrepiso  & =1 if predominant material on the roof is fiber cement, mezzanine               \\\\\n\t techocane       & =1 if predominant material on the roof is natural fibers                        \\\\\n\t techootro       & =1 if predominant material on the roof is other                                 \\\\\n\t cielorazo       & =1 if the house has ceiling                                                     \\\\\n\t abastaguadentro & =1 if water provision inside the dwelling                                       \\\\\n\t abastaguafuera  & =1 if water provision outside the dwelling                                      \\\\\n\t abastaguano     & =1 if no water provision                                                        \\\\\n\t public          & =1 electricity from CNFL, ICE, ESPH/JASEC                                       \\\\\n\t planpri         & =1 electricity from private plant                                               \\\\\n\t noelec          & =1 no electricity in the dwelling                                               \\\\\n\t coopele         & =1 electricity from cooperative                                                 \\\\\n\t sanitario1      & =1 no toilet in the dwelling                                                    \\\\\n\t sanitario2      & =1 toilet connected to sewer or cesspool                                        \\\\\n\t sanitario3      & =1 toilet connected to  septic tank                                             \\\\\n\t sanitario5      & =1 toilet connected to black hole or letrine                                    \\\\\n\t sanitario6      & =1 toilet connected to other system                                             \\\\\n\t energcocinar1   & =1 no main source of energy used for cooking (no kitchen)                       \\\\\n\t energcocinar2   & =1 main source of energy used for cooking electricity                           \\\\\n\t energcocinar3   & =1 main source of energy used for cooking gas                                   \\\\\n\t energcocinar4   & =1 main source of energy used for cooking wood charcoal                         \\\\\n\t elimbasu1       & =1 if rubbish disposal mainly by tanker truck                                   \\\\\n\t elimbasu2       & =1 if rubbish disposal mainly by botan hollow or buried                         \\\\\n\t elimbasu3       & =1 if rubbish disposal mainly by burning                                        \\\\\n\t elimbasu4       & =1 if rubbish disposal mainly by throwing in an unoccupied space                \\\\\n\t elimbasu5       & =1 if rubbish disposal mainly by throwing in river, creek or sea                \\\\\n\t elimbasu6       & =1 if rubbish disposal mainly other                                             \\\\\n\t epared1         & =1 if walls are bad                                                             \\\\\n\t epared2         & =1 if walls are regular                                                         \\\\\n\t epared3         & =1 if walls are good                                                            \\\\\n\t etecho1         & =1 if roof are bad                                                              \\\\\n\t etecho2         & =1 if roof are regular                                                          \\\\\n\t etecho3         & =1 if roof are good                                                             \\\\\n\t eviv1           & =1 if floor are bad                                                             \\\\\n\t eviv2           & =1 if floor are regular                                                         \\\\\n\t eviv3           & =1 if floor are good                                                            \\\\\n\t dis             & =1 if disable person                                                            \\\\\n\t male            & =1 if male                                                                      \\\\\n\t female          & =1 if female                                                                    \\\\\n\t estadocivil1    & =1 if less than 10 years old                                                    \\\\\n\t estadocivil2    & =1 if free or coupled uunion                                                    \\\\\n\t estadocivil3    & =1 if married                                                                   \\\\\n\t estadocivil4    & =1 if divorced                                                                  \\\\\n\t estadocivil5    & =1 if separated                                                                 \\\\\n\t estadocivil6    & =1 if widow/er                                                                  \\\\\n\t estadocivil7    & =1 if single                                                                    \\\\\n\t parentesco1     & =1 if household head                                                            \\\\\n\t parentesco2     & =1 if spouse/partner                                                            \\\\\n\t parentesco3     & =1 if son/doughter                                                              \\\\\n\t parentesco4     & =1 if stepson/doughter                                                          \\\\\n\t parentesco5     & =1 if son/doughter in law                                                       \\\\\n\t parentesco6     & =1 if grandson/doughter                                                         \\\\\n\t parentesco7     & =1 if mother/father                                                             \\\\\n\t parentesco8     & =1 if father/mother in law                                                      \\\\\n\t parentesco9     & =1 if brother/sister                                                            \\\\\n\t parentesco10    & =1 if brother/sister in law                                                     \\\\\n\t parentesco11    & =1 if other family member                                                       \\\\\n\t parentesco12    & =1 if other non family member                                                   \\\\\n\t idhogar         & Household level identifier                                                      \\\\\n\t hogar\\_nin       & Number of children 0 to 19 in household                                         \\\\\n\t hogar\\_adul      & Number of adults in household                                                   \\\\\n\t hogar\\_mayor     & \\# of individuals 65+ in the household                                           \\\\\n\t hogar\\_total     & \\# of total individuals in the household                                         \\\\\n\t dependency      & Dependency rate                                                                 \\\\\n\t edjefe          & years of education of male head of household                                    \\\\\n\t edjefa          & years of education of female head of household                                  \\\\\n\t meaneduc        & average years of education for adults (18+)                                     \\\\\n\t instlevel1      & =1 no level of education                                                        \\\\\n\t instlevel2      & =1 incomplete primary                                                           \\\\\n\t instlevel3      & =1 complete primary                                                             \\\\\n\t instlevel4      & =1 incomplete academic secondary level                                          \\\\\n\t instlevel5      & =1 complete academic secondary level                                            \\\\\n\t instlevel6      & =1 incomplete technical secondary level                                         \\\\\n\t instlevel7      & =1 complete technical secondary level                                           \\\\\n\t instlevel8      & =1 undergraduate and higher education                                           \\\\\n\t instlevel9      & =1 postgraduate higher education                                                \\\\\n\t bedrooms        & number of bedrooms                                                              \\\\\n\t overcrowding    & \\# persons per room                                                              \\\\\n\t tipovivi1       & =1 own and fully paid house                                                     \\\\\n\t tipovivi2       & =1 own, paying in installments                                                  \\\\\n\t tipovivi3       & =1 rented                                                                       \\\\\n\t tipovivi4       & =1 precarious                                                                   \\\\\n\t tipovivi5       & =1 other(assigned, borrowed)                                                    \\\\\n\t computer        & =1 if the household has notebook or desktop computer                            \\\\\n\t television      & =1 if the household has TV                                                      \\\\\n\t mobilephone     & =1 if mobile phone                                                              \\\\\n\t qmobilephone    & \\# of mobile phones                                                              \\\\\n\t lugar1          & =1 region Central                                                               \\\\\n\t lugar2          & =1 region Chorotega                                                             \\\\\n\t lugar3          & =1 region PacÃƒÂ­fico central                                                   \\\\\n\t lugar4          & =1 region Brunca                                                                \\\\\n\t lugar5          & =1 region Huetar AtlÃƒÂ¡ntica                                                   \\\\\n\t lugar6          & =1 region Huetar Norte                                                          \\\\\n\t area1           & =1 zona urbana                                                                  \\\\\n\t area2           & =2 zona rural                                                                   \\\\\n\t age             & Age in years                                                                    \\\\\n\t SQBescolari     & escolari squared                                                                \\\\\n\t SQBage          & age squared                                                                     \\\\\n\t SQBhogar\\_total  & hogar\\_total squared                                                             \\\\\n\t SQBedjefe       & edjefe squared                                                                  \\\\\n\t SQBhogar\\_nin    & hogar\\_nin squared                                                               \\\\\n\t SQBovercrowding & overcrowding squared                                                            \\\\\n\t SQBdependency   & dependency squared                                                              \\\\\n\t SQBmeaned       & meaned squared                                                                  \\\\\n\t agesq           & Age squared                                                                     \\\\\n\\end{tabular}\n",
            "text/markdown": "\nA spec_tbl_df: 141 × 2\n\n| Variable name &lt;chr&gt; | Variable description &lt;chr&gt; |\n|---|---|\n| v2a1            | Monthly rent payment                                                             |\n| hacdor          | =1 Overcrowding by bedrooms                                                      |\n| rooms           | number of all rooms in the house                                                 |\n| hacapo          | =1 Overcrowding by rooms                                                         |\n| v14a            | =1 has toilet in the household                                                   |\n| refrig          | =1 if the household has refrigerator                                             |\n| v18q            | owns a tablet                                                                    |\n| v18q1           | number of tablets household owns                                                 |\n| r4h1            | Males younger than 12 years of age                                               |\n| r4h2            | Males 12 years of age and older                                                  |\n| r4h3            | Total males in the household                                                     |\n| r4m1            | Females younger than 12 years of age                                             |\n| r4m2            | Females 12 years of age and older                                                |\n| r4m3            | Total females in the household                                                   |\n| r4t1            | persons younger than 12 years of age                                             |\n| r4t2            | persons 12 years of age and older                                                |\n| r4t3            | Total persons in the household                                                   |\n| tamhog          | size of the household                                                            |\n| tamviv          | TamViv                                                                           |\n| escolari        | years of schooling                                                               |\n| rez_esc         | Years behind in school                                                           |\n| hhsize          | household size                                                                   |\n| paredblolad     | =1 if predominant material on the outside wall is block or brick                 |\n| paredzocalo     | =1 if predominant material on the outside wall is socket (wood, zinc or absbesto |\n| paredpreb       | =1 if predominant material on the outside wall is prefabricated or cement        |\n| pareddes        | =1 if predominant material on the outside wall is waste material                 |\n| paredmad        | =1 if predominant material on the outside wall is wood                           |\n| paredzinc       | =1 if predominant material on the outside wall is zink                           |\n| paredfibras     | =1 if predominant material on the outside wall is natural fibers                 |\n| paredother      | =1 if predominant material on the outside wall is other                          |\n| pisomoscer      | =1 if predominant material on the floor is mosaic, ceramic, terrazo              |\n| pisocemento     | =1 if predominant material on the floor is cement                                |\n| pisoother       | =1 if predominant material on the floor is other                                 |\n| pisonatur       | =1 if predominant material on the floor is  natural material                     |\n| pisonotiene     | =1 if no floor at the household                                                  |\n| pisomadera      | =1 if predominant material on the floor is wood                                  |\n| techozinc       | =1 if predominant material on the roof is metal foil or zink                     |\n| techoentrepiso  | =1 if predominant material on the roof is fiber cement, mezzanine                |\n| techocane       | =1 if predominant material on the roof is natural fibers                         |\n| techootro       | =1 if predominant material on the roof is other                                  |\n| cielorazo       | =1 if the house has ceiling                                                      |\n| abastaguadentro | =1 if water provision inside the dwelling                                        |\n| abastaguafuera  | =1 if water provision outside the dwelling                                       |\n| abastaguano     | =1 if no water provision                                                         |\n| public          | =1 electricity from CNFL, ICE, ESPH/JASEC                                        |\n| planpri         | =1 electricity from private plant                                                |\n| noelec          | =1 no electricity in the dwelling                                                |\n| coopele         | =1 electricity from cooperative                                                  |\n| sanitario1      | =1 no toilet in the dwelling                                                     |\n| sanitario2      | =1 toilet connected to sewer or cesspool                                         |\n| sanitario3      | =1 toilet connected to  septic tank                                              |\n| sanitario5      | =1 toilet connected to black hole or letrine                                     |\n| sanitario6      | =1 toilet connected to other system                                              |\n| energcocinar1   | =1 no main source of energy used for cooking (no kitchen)                        |\n| energcocinar2   | =1 main source of energy used for cooking electricity                            |\n| energcocinar3   | =1 main source of energy used for cooking gas                                    |\n| energcocinar4   | =1 main source of energy used for cooking wood charcoal                          |\n| elimbasu1       | =1 if rubbish disposal mainly by tanker truck                                    |\n| elimbasu2       | =1 if rubbish disposal mainly by botan hollow or buried                          |\n| elimbasu3       | =1 if rubbish disposal mainly by burning                                         |\n| elimbasu4       | =1 if rubbish disposal mainly by throwing in an unoccupied space                 |\n| elimbasu5       | =1 if rubbish disposal mainly by throwing in river, creek or sea                 |\n| elimbasu6       | =1 if rubbish disposal mainly other                                              |\n| epared1         | =1 if walls are bad                                                              |\n| epared2         | =1 if walls are regular                                                          |\n| epared3         | =1 if walls are good                                                             |\n| etecho1         | =1 if roof are bad                                                               |\n| etecho2         | =1 if roof are regular                                                           |\n| etecho3         | =1 if roof are good                                                              |\n| eviv1           | =1 if floor are bad                                                              |\n| eviv2           | =1 if floor are regular                                                          |\n| eviv3           | =1 if floor are good                                                             |\n| dis             | =1 if disable person                                                             |\n| male            | =1 if male                                                                       |\n| female          | =1 if female                                                                     |\n| estadocivil1    | =1 if less than 10 years old                                                     |\n| estadocivil2    | =1 if free or coupled uunion                                                     |\n| estadocivil3    | =1 if married                                                                    |\n| estadocivil4    | =1 if divorced                                                                   |\n| estadocivil5    | =1 if separated                                                                  |\n| estadocivil6    | =1 if widow/er                                                                   |\n| estadocivil7    | =1 if single                                                                     |\n| parentesco1     | =1 if household head                                                             |\n| parentesco2     | =1 if spouse/partner                                                             |\n| parentesco3     | =1 if son/doughter                                                               |\n| parentesco4     | =1 if stepson/doughter                                                           |\n| parentesco5     | =1 if son/doughter in law                                                        |\n| parentesco6     | =1 if grandson/doughter                                                          |\n| parentesco7     | =1 if mother/father                                                              |\n| parentesco8     | =1 if father/mother in law                                                       |\n| parentesco9     | =1 if brother/sister                                                             |\n| parentesco10    | =1 if brother/sister in law                                                      |\n| parentesco11    | =1 if other family member                                                        |\n| parentesco12    | =1 if other non family member                                                    |\n| idhogar         | Household level identifier                                                       |\n| hogar_nin       | Number of children 0 to 19 in household                                          |\n| hogar_adul      | Number of adults in household                                                    |\n| hogar_mayor     | # of individuals 65+ in the household                                            |\n| hogar_total     | # of total individuals in the household                                          |\n| dependency      | Dependency rate                                                                  |\n| edjefe          | years of education of male head of household                                     |\n| edjefa          | years of education of female head of household                                   |\n| meaneduc        | average years of education for adults (18+)                                      |\n| instlevel1      | =1 no level of education                                                         |\n| instlevel2      | =1 incomplete primary                                                            |\n| instlevel3      | =1 complete primary                                                              |\n| instlevel4      | =1 incomplete academic secondary level                                           |\n| instlevel5      | =1 complete academic secondary level                                             |\n| instlevel6      | =1 incomplete technical secondary level                                          |\n| instlevel7      | =1 complete technical secondary level                                            |\n| instlevel8      | =1 undergraduate and higher education                                            |\n| instlevel9      | =1 postgraduate higher education                                                 |\n| bedrooms        | number of bedrooms                                                               |\n| overcrowding    | # persons per room                                                               |\n| tipovivi1       | =1 own and fully paid house                                                      |\n| tipovivi2       | =1 own, paying in installments                                                   |\n| tipovivi3       | =1 rented                                                                        |\n| tipovivi4       | =1 precarious                                                                    |\n| tipovivi5       | =1 other(assigned, borrowed)                                                     |\n| computer        | =1 if the household has notebook or desktop computer                             |\n| television      | =1 if the household has TV                                                       |\n| mobilephone     | =1 if mobile phone                                                               |\n| qmobilephone    | # of mobile phones                                                               |\n| lugar1          | =1 region Central                                                                |\n| lugar2          | =1 region Chorotega                                                              |\n| lugar3          | =1 region PacÃƒÂ­fico central                                                    |\n| lugar4          | =1 region Brunca                                                                 |\n| lugar5          | =1 region Huetar AtlÃƒÂ¡ntica                                                    |\n| lugar6          | =1 region Huetar Norte                                                           |\n| area1           | =1 zona urbana                                                                   |\n| area2           | =2 zona rural                                                                    |\n| age             | Age in years                                                                     |\n| SQBescolari     | escolari squared                                                                 |\n| SQBage          | age squared                                                                      |\n| SQBhogar_total  | hogar_total squared                                                              |\n| SQBedjefe       | edjefe squared                                                                   |\n| SQBhogar_nin    | hogar_nin squared                                                                |\n| SQBovercrowding | overcrowding squared                                                             |\n| SQBdependency   | dependency squared                                                               |\n| SQBmeaned       | meaned squared                                                                   |\n| agesq           | Age squared                                                                      |\n\n",
            "text/html": [
              "<table class=\"dataframe\">\n",
              "<caption>A spec_tbl_df: 141 × 2</caption>\n",
              "<thead>\n",
              "\t<tr><th scope=col>Variable name</th><th scope=col>Variable description</th></tr>\n",
              "\t<tr><th scope=col>&lt;chr&gt;</th><th scope=col>&lt;chr&gt;</th></tr>\n",
              "</thead>\n",
              "<tbody>\n",
              "\t<tr><td>v2a1           </td><td>Monthly rent payment                                                            </td></tr>\n",
              "\t<tr><td>hacdor         </td><td>=1 Overcrowding by bedrooms                                                     </td></tr>\n",
              "\t<tr><td>rooms          </td><td>number of all rooms in the house                                                </td></tr>\n",
              "\t<tr><td>hacapo         </td><td>=1 Overcrowding by rooms                                                        </td></tr>\n",
              "\t<tr><td>v14a           </td><td>=1 has toilet in the household                                                  </td></tr>\n",
              "\t<tr><td>refrig         </td><td>=1 if the household has refrigerator                                            </td></tr>\n",
              "\t<tr><td>v18q           </td><td>owns a tablet                                                                   </td></tr>\n",
              "\t<tr><td>v18q1          </td><td>number of tablets household owns                                                </td></tr>\n",
              "\t<tr><td>r4h1           </td><td>Males younger than 12 years of age                                              </td></tr>\n",
              "\t<tr><td>r4h2           </td><td>Males 12 years of age and older                                                 </td></tr>\n",
              "\t<tr><td>r4h3           </td><td>Total males in the household                                                    </td></tr>\n",
              "\t<tr><td>r4m1           </td><td>Females younger than 12 years of age                                            </td></tr>\n",
              "\t<tr><td>r4m2           </td><td>Females 12 years of age and older                                               </td></tr>\n",
              "\t<tr><td>r4m3           </td><td>Total females in the household                                                  </td></tr>\n",
              "\t<tr><td>r4t1           </td><td>persons younger than 12 years of age                                            </td></tr>\n",
              "\t<tr><td>r4t2           </td><td>persons 12 years of age and older                                               </td></tr>\n",
              "\t<tr><td>r4t3           </td><td>Total persons in the household                                                  </td></tr>\n",
              "\t<tr><td>tamhog         </td><td>size of the household                                                           </td></tr>\n",
              "\t<tr><td>tamviv         </td><td>TamViv                                                                          </td></tr>\n",
              "\t<tr><td>escolari       </td><td>years of schooling                                                              </td></tr>\n",
              "\t<tr><td>rez_esc        </td><td>Years behind in school                                                          </td></tr>\n",
              "\t<tr><td>hhsize         </td><td>household size                                                                  </td></tr>\n",
              "\t<tr><td>paredblolad    </td><td>=1 if predominant material on the outside wall is block or brick                </td></tr>\n",
              "\t<tr><td>paredzocalo    </td><td>=1 if predominant material on the outside wall is socket (wood, zinc or absbesto</td></tr>\n",
              "\t<tr><td>paredpreb      </td><td>=1 if predominant material on the outside wall is prefabricated or cement       </td></tr>\n",
              "\t<tr><td>pareddes       </td><td>=1 if predominant material on the outside wall is waste material                </td></tr>\n",
              "\t<tr><td>paredmad       </td><td>=1 if predominant material on the outside wall is wood                          </td></tr>\n",
              "\t<tr><td>paredzinc      </td><td>=1 if predominant material on the outside wall is zink                          </td></tr>\n",
              "\t<tr><td>paredfibras    </td><td>=1 if predominant material on the outside wall is natural fibers                </td></tr>\n",
              "\t<tr><td>paredother     </td><td>=1 if predominant material on the outside wall is other                         </td></tr>\n",
              "\t<tr><td>pisomoscer     </td><td>=1 if predominant material on the floor is mosaic, ceramic, terrazo             </td></tr>\n",
              "\t<tr><td>pisocemento    </td><td>=1 if predominant material on the floor is cement                               </td></tr>\n",
              "\t<tr><td>pisoother      </td><td>=1 if predominant material on the floor is other                                </td></tr>\n",
              "\t<tr><td>pisonatur      </td><td>=1 if predominant material on the floor is  natural material                    </td></tr>\n",
              "\t<tr><td>pisonotiene    </td><td>=1 if no floor at the household                                                 </td></tr>\n",
              "\t<tr><td>pisomadera     </td><td>=1 if predominant material on the floor is wood                                 </td></tr>\n",
              "\t<tr><td>techozinc      </td><td>=1 if predominant material on the roof is metal foil or zink                    </td></tr>\n",
              "\t<tr><td>techoentrepiso </td><td>=1 if predominant material on the roof is fiber cement, mezzanine               </td></tr>\n",
              "\t<tr><td>techocane      </td><td>=1 if predominant material on the roof is natural fibers                        </td></tr>\n",
              "\t<tr><td>techootro      </td><td>=1 if predominant material on the roof is other                                 </td></tr>\n",
              "\t<tr><td>cielorazo      </td><td>=1 if the house has ceiling                                                     </td></tr>\n",
              "\t<tr><td>abastaguadentro</td><td>=1 if water provision inside the dwelling                                       </td></tr>\n",
              "\t<tr><td>abastaguafuera </td><td>=1 if water provision outside the dwelling                                      </td></tr>\n",
              "\t<tr><td>abastaguano    </td><td>=1 if no water provision                                                        </td></tr>\n",
              "\t<tr><td>public         </td><td>=1 electricity from CNFL, ICE, ESPH/JASEC                                       </td></tr>\n",
              "\t<tr><td>planpri        </td><td>=1 electricity from private plant                                               </td></tr>\n",
              "\t<tr><td>noelec         </td><td>=1 no electricity in the dwelling                                               </td></tr>\n",
              "\t<tr><td>coopele        </td><td>=1 electricity from cooperative                                                 </td></tr>\n",
              "\t<tr><td>sanitario1     </td><td>=1 no toilet in the dwelling                                                    </td></tr>\n",
              "\t<tr><td>sanitario2     </td><td>=1 toilet connected to sewer or cesspool                                        </td></tr>\n",
              "\t<tr><td>sanitario3     </td><td>=1 toilet connected to  septic tank                                             </td></tr>\n",
              "\t<tr><td>sanitario5     </td><td>=1 toilet connected to black hole or letrine                                    </td></tr>\n",
              "\t<tr><td>sanitario6     </td><td>=1 toilet connected to other system                                             </td></tr>\n",
              "\t<tr><td>energcocinar1  </td><td>=1 no main source of energy used for cooking (no kitchen)                       </td></tr>\n",
              "\t<tr><td>energcocinar2  </td><td>=1 main source of energy used for cooking electricity                           </td></tr>\n",
              "\t<tr><td>energcocinar3  </td><td>=1 main source of energy used for cooking gas                                   </td></tr>\n",
              "\t<tr><td>energcocinar4  </td><td>=1 main source of energy used for cooking wood charcoal                         </td></tr>\n",
              "\t<tr><td>elimbasu1      </td><td>=1 if rubbish disposal mainly by tanker truck                                   </td></tr>\n",
              "\t<tr><td>elimbasu2      </td><td>=1 if rubbish disposal mainly by botan hollow or buried                         </td></tr>\n",
              "\t<tr><td>elimbasu3      </td><td>=1 if rubbish disposal mainly by burning                                        </td></tr>\n",
              "\t<tr><td>elimbasu4      </td><td>=1 if rubbish disposal mainly by throwing in an unoccupied space                </td></tr>\n",
              "\t<tr><td>elimbasu5      </td><td>=1 if rubbish disposal mainly by throwing in river, creek or sea                </td></tr>\n",
              "\t<tr><td>elimbasu6      </td><td>=1 if rubbish disposal mainly other                                             </td></tr>\n",
              "\t<tr><td>epared1        </td><td>=1 if walls are bad                                                             </td></tr>\n",
              "\t<tr><td>epared2        </td><td>=1 if walls are regular                                                         </td></tr>\n",
              "\t<tr><td>epared3        </td><td>=1 if walls are good                                                            </td></tr>\n",
              "\t<tr><td>etecho1        </td><td>=1 if roof are bad                                                              </td></tr>\n",
              "\t<tr><td>etecho2        </td><td>=1 if roof are regular                                                          </td></tr>\n",
              "\t<tr><td>etecho3        </td><td>=1 if roof are good                                                             </td></tr>\n",
              "\t<tr><td>eviv1          </td><td>=1 if floor are bad                                                             </td></tr>\n",
              "\t<tr><td>eviv2          </td><td>=1 if floor are regular                                                         </td></tr>\n",
              "\t<tr><td>eviv3          </td><td>=1 if floor are good                                                            </td></tr>\n",
              "\t<tr><td>dis            </td><td>=1 if disable person                                                            </td></tr>\n",
              "\t<tr><td>male           </td><td>=1 if male                                                                      </td></tr>\n",
              "\t<tr><td>female         </td><td>=1 if female                                                                    </td></tr>\n",
              "\t<tr><td>estadocivil1   </td><td>=1 if less than 10 years old                                                    </td></tr>\n",
              "\t<tr><td>estadocivil2   </td><td>=1 if free or coupled uunion                                                    </td></tr>\n",
              "\t<tr><td>estadocivil3   </td><td>=1 if married                                                                   </td></tr>\n",
              "\t<tr><td>estadocivil4   </td><td>=1 if divorced                                                                  </td></tr>\n",
              "\t<tr><td>estadocivil5   </td><td>=1 if separated                                                                 </td></tr>\n",
              "\t<tr><td>estadocivil6   </td><td>=1 if widow/er                                                                  </td></tr>\n",
              "\t<tr><td>estadocivil7   </td><td>=1 if single                                                                    </td></tr>\n",
              "\t<tr><td>parentesco1    </td><td>=1 if household head                                                            </td></tr>\n",
              "\t<tr><td>parentesco2    </td><td>=1 if spouse/partner                                                            </td></tr>\n",
              "\t<tr><td>parentesco3    </td><td>=1 if son/doughter                                                              </td></tr>\n",
              "\t<tr><td>parentesco4    </td><td>=1 if stepson/doughter                                                          </td></tr>\n",
              "\t<tr><td>parentesco5    </td><td>=1 if son/doughter in law                                                       </td></tr>\n",
              "\t<tr><td>parentesco6    </td><td>=1 if grandson/doughter                                                         </td></tr>\n",
              "\t<tr><td>parentesco7    </td><td>=1 if mother/father                                                             </td></tr>\n",
              "\t<tr><td>parentesco8    </td><td>=1 if father/mother in law                                                      </td></tr>\n",
              "\t<tr><td>parentesco9    </td><td>=1 if brother/sister                                                            </td></tr>\n",
              "\t<tr><td>parentesco10   </td><td>=1 if brother/sister in law                                                     </td></tr>\n",
              "\t<tr><td>parentesco11   </td><td>=1 if other family member                                                       </td></tr>\n",
              "\t<tr><td>parentesco12   </td><td>=1 if other non family member                                                   </td></tr>\n",
              "\t<tr><td>idhogar        </td><td>Household level identifier                                                      </td></tr>\n",
              "\t<tr><td>hogar_nin      </td><td>Number of children 0 to 19 in household                                         </td></tr>\n",
              "\t<tr><td>hogar_adul     </td><td>Number of adults in household                                                   </td></tr>\n",
              "\t<tr><td>hogar_mayor    </td><td># of individuals 65+ in the household                                           </td></tr>\n",
              "\t<tr><td>hogar_total    </td><td># of total individuals in the household                                         </td></tr>\n",
              "\t<tr><td>dependency     </td><td>Dependency rate                                                                 </td></tr>\n",
              "\t<tr><td>edjefe         </td><td>years of education of male head of household                                    </td></tr>\n",
              "\t<tr><td>edjefa         </td><td>years of education of female head of household                                  </td></tr>\n",
              "\t<tr><td>meaneduc       </td><td>average years of education for adults (18+)                                     </td></tr>\n",
              "\t<tr><td>instlevel1     </td><td>=1 no level of education                                                        </td></tr>\n",
              "\t<tr><td>instlevel2     </td><td>=1 incomplete primary                                                           </td></tr>\n",
              "\t<tr><td>instlevel3     </td><td>=1 complete primary                                                             </td></tr>\n",
              "\t<tr><td>instlevel4     </td><td>=1 incomplete academic secondary level                                          </td></tr>\n",
              "\t<tr><td>instlevel5     </td><td>=1 complete academic secondary level                                            </td></tr>\n",
              "\t<tr><td>instlevel6     </td><td>=1 incomplete technical secondary level                                         </td></tr>\n",
              "\t<tr><td>instlevel7     </td><td>=1 complete technical secondary level                                           </td></tr>\n",
              "\t<tr><td>instlevel8     </td><td>=1 undergraduate and higher education                                           </td></tr>\n",
              "\t<tr><td>instlevel9     </td><td>=1 postgraduate higher education                                                </td></tr>\n",
              "\t<tr><td>bedrooms       </td><td>number of bedrooms                                                              </td></tr>\n",
              "\t<tr><td>overcrowding   </td><td># persons per room                                                              </td></tr>\n",
              "\t<tr><td>tipovivi1      </td><td>=1 own and fully paid house                                                     </td></tr>\n",
              "\t<tr><td>tipovivi2      </td><td>=1 own, paying in installments                                                  </td></tr>\n",
              "\t<tr><td>tipovivi3      </td><td>=1 rented                                                                       </td></tr>\n",
              "\t<tr><td>tipovivi4      </td><td>=1 precarious                                                                   </td></tr>\n",
              "\t<tr><td>tipovivi5      </td><td>=1 other(assigned, borrowed)                                                    </td></tr>\n",
              "\t<tr><td>computer       </td><td>=1 if the household has notebook or desktop computer                            </td></tr>\n",
              "\t<tr><td>television     </td><td>=1 if the household has TV                                                      </td></tr>\n",
              "\t<tr><td>mobilephone    </td><td>=1 if mobile phone                                                              </td></tr>\n",
              "\t<tr><td>qmobilephone   </td><td># of mobile phones                                                              </td></tr>\n",
              "\t<tr><td>lugar1         </td><td>=1 region Central                                                               </td></tr>\n",
              "\t<tr><td>lugar2         </td><td>=1 region Chorotega                                                             </td></tr>\n",
              "\t<tr><td>lugar3         </td><td>=1 region PacÃƒÂ­fico central                                                   </td></tr>\n",
              "\t<tr><td>lugar4         </td><td>=1 region Brunca                                                                </td></tr>\n",
              "\t<tr><td>lugar5         </td><td>=1 region Huetar AtlÃƒÂ¡ntica                                                   </td></tr>\n",
              "\t<tr><td>lugar6         </td><td>=1 region Huetar Norte                                                          </td></tr>\n",
              "\t<tr><td>area1          </td><td>=1 zona urbana                                                                  </td></tr>\n",
              "\t<tr><td>area2          </td><td>=2 zona rural                                                                   </td></tr>\n",
              "\t<tr><td>age            </td><td>Age in years                                                                    </td></tr>\n",
              "\t<tr><td>SQBescolari    </td><td>escolari squared                                                                </td></tr>\n",
              "\t<tr><td>SQBage         </td><td>age squared                                                                     </td></tr>\n",
              "\t<tr><td>SQBhogar_total </td><td>hogar_total squared                                                             </td></tr>\n",
              "\t<tr><td>SQBedjefe      </td><td>edjefe squared                                                                  </td></tr>\n",
              "\t<tr><td>SQBhogar_nin   </td><td>hogar_nin squared                                                               </td></tr>\n",
              "\t<tr><td>SQBovercrowding</td><td>overcrowding squared                                                            </td></tr>\n",
              "\t<tr><td>SQBdependency  </td><td>dependency squared                                                              </td></tr>\n",
              "\t<tr><td>SQBmeaned      </td><td>meaned squared                                                                  </td></tr>\n",
              "\t<tr><td>agesq          </td><td>Age squared                                                                     </td></tr>\n",
              "</tbody>\n",
              "</table>\n"
            ]
          },
          "metadata": {}
        }
      ]
    },
    {
      "cell_type": "markdown",
      "metadata": {
        "id": "vH7tY3tUAQT7"
      },
      "source": [
        "## **Checking NA values**"
      ]
    },
    {
      "cell_type": "code",
      "metadata": {
        "colab": {
          "base_uri": "https://localhost:8080/",
          "height": 34
        },
        "id": "-QxisAgZDJjW",
        "outputId": "8c1a5605-20cd-4418-9a31-f81aad14cdf5"
      },
      "source": [
        "dim(train)"
      ],
      "execution_count": 28,
      "outputs": [
        {
          "output_type": "display_data",
          "data": {
            "text/plain": [
              "[1] 3070  143"
            ],
            "text/latex": "\\begin{enumerate*}\n\\item 3070\n\\item 143\n\\end{enumerate*}\n",
            "text/markdown": "1. 3070\n2. 143\n\n\n",
            "text/html": [
              "<style>\n",
              ".list-inline {list-style: none; margin:0; padding: 0}\n",
              ".list-inline>li {display: inline-block}\n",
              ".list-inline>li:not(:last-child)::after {content: \"\\00b7\"; padding: 0 .5ex}\n",
              "</style>\n",
              "<ol class=list-inline><li>3070</li><li>143</li></ol>\n"
            ]
          },
          "metadata": {}
        }
      ]
    },
    {
      "cell_type": "code",
      "metadata": {
        "colab": {
          "base_uri": "https://localhost:8080/",
          "height": 34
        },
        "id": "BUzKfH79JolC",
        "outputId": "abf94928-4c6b-45aa-f80d-9e7846c2a477"
      },
      "source": [
        "sum(is.na(train))"
      ],
      "execution_count": 21,
      "outputs": [
        {
          "output_type": "display_data",
          "data": {
            "text/plain": [
              "[1] 6532"
            ],
            "text/latex": "6532",
            "text/markdown": "6532",
            "text/html": [
              "6532"
            ]
          },
          "metadata": {}
        }
      ]
    },
    {
      "cell_type": "code",
      "metadata": {
        "id": "qZmTnzWzGRGo"
      },
      "source": [
        "options(repr.matrix.max.cols=150, repr.matrix.max.rows=200)"
      ],
      "execution_count": 22,
      "outputs": []
    },
    {
      "cell_type": "code",
      "metadata": {
        "colab": {
          "base_uri": "https://localhost:8080/",
          "height": 148
        },
        "id": "0S4O-GDUAHIV",
        "outputId": "fc06d005-3522-4a48-b26a-a891d0d26d82"
      },
      "source": [
        "df <- data.frame(t(colSums(is.na(train))))\n",
        "df"
      ],
      "execution_count": 23,
      "outputs": [
        {
          "output_type": "display_data",
          "data": {
            "text/plain": [
              "  Id v2a1 hacdor rooms hacapo v14a refrig v18q v18q1 r4h1 r4h2 r4h3 r4m1 r4m2\n",
              "1 0  1913 0      0     0      0    0      0    2004  0    0    0    0    0   \n",
              "  r4m3 r4t1 r4t2 r4t3 tamhog tamviv escolari rez_esc hhsize paredblolad\n",
              "1 0    0    0    0    0      0      0        2605    0      0          \n",
              "  paredzocalo paredpreb pareddes paredmad paredzinc paredfibras paredother\n",
              "1 0           0         0        0        0         0           0         \n",
              "  pisomoscer pisocemento pisoother pisonatur pisonotiene pisomadera techozinc\n",
              "1 0          0           0         0         0           0          0        \n",
              "  techoentrepiso techocane techootro cielorazo abastaguadentro abastaguafuera\n",
              "1 0              0         0         0         0               0             \n",
              "  abastaguano public planpri noelec coopele sanitario1 sanitario2 sanitario3\n",
              "1 0           0      0       0      0       0          0          0         \n",
              "  sanitario5 sanitario6 energcocinar1 energcocinar2 energcocinar3 energcocinar4\n",
              "1 0          0          0             0             0             0            \n",
              "  elimbasu1 elimbasu2 elimbasu3 elimbasu4 elimbasu5 elimbasu6 epared1 epared2\n",
              "1 0         0         0         0         0         0         0       0      \n",
              "  epared3 etecho1 etecho2 etecho3 eviv1 eviv2 eviv3 dis male female\n",
              "1 0       0       0       0       0     0     0     0   0    0     \n",
              "  estadocivil1 estadocivil2 estadocivil3 estadocivil4 estadocivil5 estadocivil6\n",
              "1 0            0            0            0            0            0           \n",
              "  estadocivil7 parentesco1 parentesco2 parentesco3 parentesco4 parentesco5\n",
              "1 0            0           0           0           0           0          \n",
              "  parentesco6 parentesco7 parentesco8 parentesco9 parentesco10 parentesco11\n",
              "1 0           0           0           0           0            0           \n",
              "  parentesco12 idhogar hogar_nin hogar_adul hogar_mayor hogar_total dependency\n",
              "1 0            0       0         0          0           0           0         \n",
              "  edjefe edjefa meaneduc instlevel1 instlevel2 instlevel3 instlevel4 instlevel5\n",
              "1 0      0      5        0          0          0          0          0         \n",
              "  instlevel6 instlevel7 instlevel8 instlevel9 bedrooms overcrowding tipovivi1\n",
              "1 0          0          0          0          0        0            0        \n",
              "  tipovivi2 tipovivi3 tipovivi4 tipovivi5 computer television mobilephone\n",
              "1 0         0         0         0         0        0          0          \n",
              "  qmobilephone lugar1 lugar2 lugar3 lugar4 lugar5 lugar6 area1 area2 age\n",
              "1 0            0      0      0      0      0      0      0     0     0  \n",
              "  SQBescolari SQBage SQBhogar_total SQBedjefe SQBhogar_nin SQBovercrowding\n",
              "1 0           0      0              0         0            0              \n",
              "  SQBdependency SQBmeaned agesq Target\n",
              "1 0             5         0     0     "
            ],
            "text/latex": "A data.frame: 1 × 143\n\\begin{tabular}{lllllllllllllllllllllllllllllllllllllllllllllllllllllllllllllllllllllllllllllllllllllllllllllllllllllllllllllllllllllllllllllllllllllllllllllll}\n Id & v2a1 & hacdor & rooms & hacapo & v14a & refrig & v18q & v18q1 & r4h1 & r4h2 & r4h3 & r4m1 & r4m2 & r4m3 & r4t1 & r4t2 & r4t3 & tamhog & tamviv & escolari & rez\\_esc & hhsize & paredblolad & paredzocalo & paredpreb & pareddes & paredmad & paredzinc & paredfibras & paredother & pisomoscer & pisocemento & pisoother & pisonatur & pisonotiene & pisomadera & techozinc & techoentrepiso & techocane & techootro & cielorazo & abastaguadentro & abastaguafuera & abastaguano & public & planpri & noelec & coopele & sanitario1 & sanitario2 & sanitario3 & sanitario5 & sanitario6 & energcocinar1 & energcocinar2 & energcocinar3 & energcocinar4 & elimbasu1 & elimbasu2 & elimbasu3 & elimbasu4 & elimbasu5 & elimbasu6 & epared1 & epared2 & epared3 & etecho1 & etecho2 & etecho3 & eviv1 & eviv2 & eviv3 & dis & male & female & estadocivil1 & estadocivil2 & estadocivil3 & estadocivil4 & estadocivil5 & estadocivil6 & estadocivil7 & parentesco1 & parentesco2 & parentesco3 & parentesco4 & parentesco5 & parentesco6 & parentesco7 & parentesco8 & parentesco9 & parentesco10 & parentesco11 & parentesco12 & idhogar & hogar\\_nin & hogar\\_adul & hogar\\_mayor & hogar\\_total & dependency & edjefe & edjefa & meaneduc & instlevel1 & instlevel2 & instlevel3 & instlevel4 & instlevel5 & instlevel6 & instlevel7 & instlevel8 & instlevel9 & bedrooms & overcrowding & tipovivi1 & tipovivi2 & tipovivi3 & tipovivi4 & tipovivi5 & computer & television & mobilephone & qmobilephone & lugar1 & lugar2 & lugar3 & lugar4 & lugar5 & lugar6 & area1 & area2 & age & SQBescolari & SQBage & SQBhogar\\_total & SQBedjefe & SQBhogar\\_nin & SQBovercrowding & SQBdependency & SQBmeaned & agesq & Target\\\\\n <dbl> & <dbl> & <dbl> & <dbl> & <dbl> & <dbl> & <dbl> & <dbl> & <dbl> & <dbl> & <dbl> & <dbl> & <dbl> & <dbl> & <dbl> & <dbl> & <dbl> & <dbl> & <dbl> & <dbl> & <dbl> & <dbl> & <dbl> & <dbl> & <dbl> & <dbl> & <dbl> & <dbl> & <dbl> & <dbl> & <dbl> & <dbl> & <dbl> & <dbl> & <dbl> & <dbl> & <dbl> & <dbl> & <dbl> & <dbl> & <dbl> & <dbl> & <dbl> & <dbl> & <dbl> & <dbl> & <dbl> & <dbl> & <dbl> & <dbl> & <dbl> & <dbl> & <dbl> & <dbl> & <dbl> & <dbl> & <dbl> & <dbl> & <dbl> & <dbl> & <dbl> & <dbl> & <dbl> & <dbl> & <dbl> & <dbl> & <dbl> & <dbl> & <dbl> & <dbl> & <dbl> & <dbl> & <dbl> & <dbl> & <dbl> & <dbl> & <dbl> & <dbl> & <dbl> & <dbl> & <dbl> & <dbl> & <dbl> & <dbl> & <dbl> & <dbl> & <dbl> & <dbl> & <dbl> & <dbl> & <dbl> & <dbl> & <dbl> & <dbl> & <dbl> & <dbl> & <dbl> & <dbl> & <dbl> & <dbl> & <dbl> & <dbl> & <dbl> & <dbl> & <dbl> & <dbl> & <dbl> & <dbl> & <dbl> & <dbl> & <dbl> & <dbl> & <dbl> & <dbl> & <dbl> & <dbl> & <dbl> & <dbl> & <dbl> & <dbl> & <dbl> & <dbl> & <dbl> & <dbl> & <dbl> & <dbl> & <dbl> & <dbl> & <dbl> & <dbl> & <dbl> & <dbl> & <dbl> & <dbl> & <dbl> & <dbl> & <dbl> & <dbl> & <dbl> & <dbl> & <dbl> & <dbl> & <dbl>\\\\\n\\hline\n\t 0 & 1913 & 0 & 0 & 0 & 0 & 0 & 0 & 2004 & 0 & 0 & 0 & 0 & 0 & 0 & 0 & 0 & 0 & 0 & 0 & 0 & 2605 & 0 & 0 & 0 & 0 & 0 & 0 & 0 & 0 & 0 & 0 & 0 & 0 & 0 & 0 & 0 & 0 & 0 & 0 & 0 & 0 & 0 & 0 & 0 & 0 & 0 & 0 & 0 & 0 & 0 & 0 & 0 & 0 & 0 & 0 & 0 & 0 & 0 & 0 & 0 & 0 & 0 & 0 & 0 & 0 & 0 & 0 & 0 & 0 & 0 & 0 & 0 & 0 & 0 & 0 & 0 & 0 & 0 & 0 & 0 & 0 & 0 & 0 & 0 & 0 & 0 & 0 & 0 & 0 & 0 & 0 & 0 & 0 & 0 & 0 & 0 & 0 & 0 & 0 & 0 & 0 & 0 & 5 & 0 & 0 & 0 & 0 & 0 & 0 & 0 & 0 & 0 & 0 & 0 & 0 & 0 & 0 & 0 & 0 & 0 & 0 & 0 & 0 & 0 & 0 & 0 & 0 & 0 & 0 & 0 & 0 & 0 & 0 & 0 & 0 & 0 & 0 & 0 & 0 & 5 & 0 & 0\\\\\n\\end{tabular}\n",
            "text/markdown": "\nA data.frame: 1 × 143\n\n| Id &lt;dbl&gt; | v2a1 &lt;dbl&gt; | hacdor &lt;dbl&gt; | rooms &lt;dbl&gt; | hacapo &lt;dbl&gt; | v14a &lt;dbl&gt; | refrig &lt;dbl&gt; | v18q &lt;dbl&gt; | v18q1 &lt;dbl&gt; | r4h1 &lt;dbl&gt; | r4h2 &lt;dbl&gt; | r4h3 &lt;dbl&gt; | r4m1 &lt;dbl&gt; | r4m2 &lt;dbl&gt; | r4m3 &lt;dbl&gt; | r4t1 &lt;dbl&gt; | r4t2 &lt;dbl&gt; | r4t3 &lt;dbl&gt; | tamhog &lt;dbl&gt; | tamviv &lt;dbl&gt; | escolari &lt;dbl&gt; | rez_esc &lt;dbl&gt; | hhsize &lt;dbl&gt; | paredblolad &lt;dbl&gt; | paredzocalo &lt;dbl&gt; | paredpreb &lt;dbl&gt; | pareddes &lt;dbl&gt; | paredmad &lt;dbl&gt; | paredzinc &lt;dbl&gt; | paredfibras &lt;dbl&gt; | paredother &lt;dbl&gt; | pisomoscer &lt;dbl&gt; | pisocemento &lt;dbl&gt; | pisoother &lt;dbl&gt; | pisonatur &lt;dbl&gt; | pisonotiene &lt;dbl&gt; | pisomadera &lt;dbl&gt; | techozinc &lt;dbl&gt; | techoentrepiso &lt;dbl&gt; | techocane &lt;dbl&gt; | techootro &lt;dbl&gt; | cielorazo &lt;dbl&gt; | abastaguadentro &lt;dbl&gt; | abastaguafuera &lt;dbl&gt; | abastaguano &lt;dbl&gt; | public &lt;dbl&gt; | planpri &lt;dbl&gt; | noelec &lt;dbl&gt; | coopele &lt;dbl&gt; | sanitario1 &lt;dbl&gt; | sanitario2 &lt;dbl&gt; | sanitario3 &lt;dbl&gt; | sanitario5 &lt;dbl&gt; | sanitario6 &lt;dbl&gt; | energcocinar1 &lt;dbl&gt; | energcocinar2 &lt;dbl&gt; | energcocinar3 &lt;dbl&gt; | energcocinar4 &lt;dbl&gt; | elimbasu1 &lt;dbl&gt; | elimbasu2 &lt;dbl&gt; | elimbasu3 &lt;dbl&gt; | elimbasu4 &lt;dbl&gt; | elimbasu5 &lt;dbl&gt; | elimbasu6 &lt;dbl&gt; | epared1 &lt;dbl&gt; | epared2 &lt;dbl&gt; | epared3 &lt;dbl&gt; | etecho1 &lt;dbl&gt; | etecho2 &lt;dbl&gt; | etecho3 &lt;dbl&gt; | eviv1 &lt;dbl&gt; | eviv2 &lt;dbl&gt; | eviv3 &lt;dbl&gt; | dis &lt;dbl&gt; | male &lt;dbl&gt; | female &lt;dbl&gt; | estadocivil1 &lt;dbl&gt; | estadocivil2 &lt;dbl&gt; | estadocivil3 &lt;dbl&gt; | estadocivil4 &lt;dbl&gt; | estadocivil5 &lt;dbl&gt; | estadocivil6 &lt;dbl&gt; | estadocivil7 &lt;dbl&gt; | parentesco1 &lt;dbl&gt; | parentesco2 &lt;dbl&gt; | parentesco3 &lt;dbl&gt; | parentesco4 &lt;dbl&gt; | parentesco5 &lt;dbl&gt; | parentesco6 &lt;dbl&gt; | parentesco7 &lt;dbl&gt; | parentesco8 &lt;dbl&gt; | parentesco9 &lt;dbl&gt; | parentesco10 &lt;dbl&gt; | parentesco11 &lt;dbl&gt; | parentesco12 &lt;dbl&gt; | idhogar &lt;dbl&gt; | hogar_nin &lt;dbl&gt; | hogar_adul &lt;dbl&gt; | hogar_mayor &lt;dbl&gt; | hogar_total &lt;dbl&gt; | dependency &lt;dbl&gt; | edjefe &lt;dbl&gt; | edjefa &lt;dbl&gt; | meaneduc &lt;dbl&gt; | instlevel1 &lt;dbl&gt; | instlevel2 &lt;dbl&gt; | instlevel3 &lt;dbl&gt; | instlevel4 &lt;dbl&gt; | instlevel5 &lt;dbl&gt; | instlevel6 &lt;dbl&gt; | instlevel7 &lt;dbl&gt; | instlevel8 &lt;dbl&gt; | instlevel9 &lt;dbl&gt; | bedrooms &lt;dbl&gt; | overcrowding &lt;dbl&gt; | tipovivi1 &lt;dbl&gt; | tipovivi2 &lt;dbl&gt; | tipovivi3 &lt;dbl&gt; | tipovivi4 &lt;dbl&gt; | tipovivi5 &lt;dbl&gt; | computer &lt;dbl&gt; | television &lt;dbl&gt; | mobilephone &lt;dbl&gt; | qmobilephone &lt;dbl&gt; | lugar1 &lt;dbl&gt; | lugar2 &lt;dbl&gt; | lugar3 &lt;dbl&gt; | lugar4 &lt;dbl&gt; | lugar5 &lt;dbl&gt; | lugar6 &lt;dbl&gt; | area1 &lt;dbl&gt; | area2 &lt;dbl&gt; | age &lt;dbl&gt; | SQBescolari &lt;dbl&gt; | SQBage &lt;dbl&gt; | SQBhogar_total &lt;dbl&gt; | SQBedjefe &lt;dbl&gt; | SQBhogar_nin &lt;dbl&gt; | SQBovercrowding &lt;dbl&gt; | SQBdependency &lt;dbl&gt; | SQBmeaned &lt;dbl&gt; | agesq &lt;dbl&gt; | Target &lt;dbl&gt; |\n|---|---|---|---|---|---|---|---|---|---|---|---|---|---|---|---|---|---|---|---|---|---|---|---|---|---|---|---|---|---|---|---|---|---|---|---|---|---|---|---|---|---|---|---|---|---|---|---|---|---|---|---|---|---|---|---|---|---|---|---|---|---|---|---|---|---|---|---|---|---|---|---|---|---|---|---|---|---|---|---|---|---|---|---|---|---|---|---|---|---|---|---|---|---|---|---|---|---|---|---|---|---|---|---|---|---|---|---|---|---|---|---|---|---|---|---|---|---|---|---|---|---|---|---|---|---|---|---|---|---|---|---|---|---|---|---|---|---|---|---|---|---|---|\n| 0 | 1913 | 0 | 0 | 0 | 0 | 0 | 0 | 2004 | 0 | 0 | 0 | 0 | 0 | 0 | 0 | 0 | 0 | 0 | 0 | 0 | 2605 | 0 | 0 | 0 | 0 | 0 | 0 | 0 | 0 | 0 | 0 | 0 | 0 | 0 | 0 | 0 | 0 | 0 | 0 | 0 | 0 | 0 | 0 | 0 | 0 | 0 | 0 | 0 | 0 | 0 | 0 | 0 | 0 | 0 | 0 | 0 | 0 | 0 | 0 | 0 | 0 | 0 | 0 | 0 | 0 | 0 | 0 | 0 | 0 | 0 | 0 | 0 | 0 | 0 | 0 | 0 | 0 | 0 | 0 | 0 | 0 | 0 | 0 | 0 | 0 | 0 | 0 | 0 | 0 | 0 | 0 | 0 | 0 | 0 | 0 | 0 | 0 | 0 | 0 | 0 | 0 | 0 | 5 | 0 | 0 | 0 | 0 | 0 | 0 | 0 | 0 | 0 | 0 | 0 | 0 | 0 | 0 | 0 | 0 | 0 | 0 | 0 | 0 | 0 | 0 | 0 | 0 | 0 | 0 | 0 | 0 | 0 | 0 | 0 | 0 | 0 | 0 | 0 | 0 | 5 | 0 | 0 |\n\n",
            "text/html": [
              "<table class=\"dataframe\">\n",
              "<caption>A data.frame: 1 × 143</caption>\n",
              "<thead>\n",
              "\t<tr><th scope=col>Id</th><th scope=col>v2a1</th><th scope=col>hacdor</th><th scope=col>rooms</th><th scope=col>hacapo</th><th scope=col>v14a</th><th scope=col>refrig</th><th scope=col>v18q</th><th scope=col>v18q1</th><th scope=col>r4h1</th><th scope=col>r4h2</th><th scope=col>r4h3</th><th scope=col>r4m1</th><th scope=col>r4m2</th><th scope=col>r4m3</th><th scope=col>r4t1</th><th scope=col>r4t2</th><th scope=col>r4t3</th><th scope=col>tamhog</th><th scope=col>tamviv</th><th scope=col>escolari</th><th scope=col>rez_esc</th><th scope=col>hhsize</th><th scope=col>paredblolad</th><th scope=col>paredzocalo</th><th scope=col>paredpreb</th><th scope=col>pareddes</th><th scope=col>paredmad</th><th scope=col>paredzinc</th><th scope=col>paredfibras</th><th scope=col>paredother</th><th scope=col>pisomoscer</th><th scope=col>pisocemento</th><th scope=col>pisoother</th><th scope=col>pisonatur</th><th scope=col>pisonotiene</th><th scope=col>pisomadera</th><th scope=col>techozinc</th><th scope=col>techoentrepiso</th><th scope=col>techocane</th><th scope=col>techootro</th><th scope=col>cielorazo</th><th scope=col>abastaguadentro</th><th scope=col>abastaguafuera</th><th scope=col>abastaguano</th><th scope=col>public</th><th scope=col>planpri</th><th scope=col>noelec</th><th scope=col>coopele</th><th scope=col>sanitario1</th><th scope=col>sanitario2</th><th scope=col>sanitario3</th><th scope=col>sanitario5</th><th scope=col>sanitario6</th><th scope=col>energcocinar1</th><th scope=col>energcocinar2</th><th scope=col>energcocinar3</th><th scope=col>energcocinar4</th><th scope=col>elimbasu1</th><th scope=col>elimbasu2</th><th scope=col>elimbasu3</th><th scope=col>elimbasu4</th><th scope=col>elimbasu5</th><th scope=col>elimbasu6</th><th scope=col>epared1</th><th scope=col>epared2</th><th scope=col>epared3</th><th scope=col>etecho1</th><th scope=col>etecho2</th><th scope=col>etecho3</th><th scope=col>eviv1</th><th scope=col>eviv2</th><th scope=col>eviv3</th><th scope=col>dis</th><th scope=col>male</th><th scope=col>female</th><th scope=col>estadocivil1</th><th scope=col>estadocivil2</th><th scope=col>estadocivil3</th><th scope=col>estadocivil4</th><th scope=col>estadocivil5</th><th scope=col>estadocivil6</th><th scope=col>estadocivil7</th><th scope=col>parentesco1</th><th scope=col>parentesco2</th><th scope=col>parentesco3</th><th scope=col>parentesco4</th><th scope=col>parentesco5</th><th scope=col>parentesco6</th><th scope=col>parentesco7</th><th scope=col>parentesco8</th><th scope=col>parentesco9</th><th scope=col>parentesco10</th><th scope=col>parentesco11</th><th scope=col>parentesco12</th><th scope=col>idhogar</th><th scope=col>hogar_nin</th><th scope=col>hogar_adul</th><th scope=col>hogar_mayor</th><th scope=col>hogar_total</th><th scope=col>dependency</th><th scope=col>edjefe</th><th scope=col>edjefa</th><th scope=col>meaneduc</th><th scope=col>instlevel1</th><th scope=col>instlevel2</th><th scope=col>instlevel3</th><th scope=col>instlevel4</th><th scope=col>instlevel5</th><th scope=col>instlevel6</th><th scope=col>instlevel7</th><th scope=col>instlevel8</th><th scope=col>instlevel9</th><th scope=col>bedrooms</th><th scope=col>overcrowding</th><th scope=col>tipovivi1</th><th scope=col>tipovivi2</th><th scope=col>tipovivi3</th><th scope=col>tipovivi4</th><th scope=col>tipovivi5</th><th scope=col>computer</th><th scope=col>television</th><th scope=col>mobilephone</th><th scope=col>qmobilephone</th><th scope=col>lugar1</th><th scope=col>lugar2</th><th scope=col>lugar3</th><th scope=col>lugar4</th><th scope=col>lugar5</th><th scope=col>lugar6</th><th scope=col>area1</th><th scope=col>area2</th><th scope=col>age</th><th scope=col>SQBescolari</th><th scope=col>SQBage</th><th scope=col>SQBhogar_total</th><th scope=col>SQBedjefe</th><th scope=col>SQBhogar_nin</th><th scope=col>SQBovercrowding</th><th scope=col>SQBdependency</th><th scope=col>SQBmeaned</th><th scope=col>agesq</th><th scope=col>Target</th></tr>\n",
              "\t<tr><th scope=col>&lt;dbl&gt;</th><th scope=col>&lt;dbl&gt;</th><th scope=col>&lt;dbl&gt;</th><th scope=col>&lt;dbl&gt;</th><th scope=col>&lt;dbl&gt;</th><th scope=col>&lt;dbl&gt;</th><th scope=col>&lt;dbl&gt;</th><th scope=col>&lt;dbl&gt;</th><th scope=col>&lt;dbl&gt;</th><th scope=col>&lt;dbl&gt;</th><th scope=col>&lt;dbl&gt;</th><th scope=col>&lt;dbl&gt;</th><th scope=col>&lt;dbl&gt;</th><th scope=col>&lt;dbl&gt;</th><th scope=col>&lt;dbl&gt;</th><th scope=col>&lt;dbl&gt;</th><th scope=col>&lt;dbl&gt;</th><th scope=col>&lt;dbl&gt;</th><th scope=col>&lt;dbl&gt;</th><th scope=col>&lt;dbl&gt;</th><th scope=col>&lt;dbl&gt;</th><th scope=col>&lt;dbl&gt;</th><th scope=col>&lt;dbl&gt;</th><th scope=col>&lt;dbl&gt;</th><th scope=col>&lt;dbl&gt;</th><th scope=col>&lt;dbl&gt;</th><th scope=col>&lt;dbl&gt;</th><th scope=col>&lt;dbl&gt;</th><th scope=col>&lt;dbl&gt;</th><th scope=col>&lt;dbl&gt;</th><th scope=col>&lt;dbl&gt;</th><th scope=col>&lt;dbl&gt;</th><th scope=col>&lt;dbl&gt;</th><th scope=col>&lt;dbl&gt;</th><th scope=col>&lt;dbl&gt;</th><th scope=col>&lt;dbl&gt;</th><th scope=col>&lt;dbl&gt;</th><th scope=col>&lt;dbl&gt;</th><th scope=col>&lt;dbl&gt;</th><th scope=col>&lt;dbl&gt;</th><th scope=col>&lt;dbl&gt;</th><th scope=col>&lt;dbl&gt;</th><th scope=col>&lt;dbl&gt;</th><th scope=col>&lt;dbl&gt;</th><th scope=col>&lt;dbl&gt;</th><th scope=col>&lt;dbl&gt;</th><th scope=col>&lt;dbl&gt;</th><th scope=col>&lt;dbl&gt;</th><th scope=col>&lt;dbl&gt;</th><th scope=col>&lt;dbl&gt;</th><th scope=col>&lt;dbl&gt;</th><th scope=col>&lt;dbl&gt;</th><th scope=col>&lt;dbl&gt;</th><th scope=col>&lt;dbl&gt;</th><th scope=col>&lt;dbl&gt;</th><th scope=col>&lt;dbl&gt;</th><th scope=col>&lt;dbl&gt;</th><th scope=col>&lt;dbl&gt;</th><th scope=col>&lt;dbl&gt;</th><th scope=col>&lt;dbl&gt;</th><th scope=col>&lt;dbl&gt;</th><th scope=col>&lt;dbl&gt;</th><th scope=col>&lt;dbl&gt;</th><th scope=col>&lt;dbl&gt;</th><th scope=col>&lt;dbl&gt;</th><th scope=col>&lt;dbl&gt;</th><th scope=col>&lt;dbl&gt;</th><th scope=col>&lt;dbl&gt;</th><th scope=col>&lt;dbl&gt;</th><th scope=col>&lt;dbl&gt;</th><th scope=col>&lt;dbl&gt;</th><th scope=col>&lt;dbl&gt;</th><th scope=col>&lt;dbl&gt;</th><th scope=col>&lt;dbl&gt;</th><th scope=col>&lt;dbl&gt;</th><th scope=col>&lt;dbl&gt;</th><th scope=col>&lt;dbl&gt;</th><th scope=col>&lt;dbl&gt;</th><th scope=col>&lt;dbl&gt;</th><th scope=col>&lt;dbl&gt;</th><th scope=col>&lt;dbl&gt;</th><th scope=col>&lt;dbl&gt;</th><th scope=col>&lt;dbl&gt;</th><th scope=col>&lt;dbl&gt;</th><th scope=col>&lt;dbl&gt;</th><th scope=col>&lt;dbl&gt;</th><th scope=col>&lt;dbl&gt;</th><th scope=col>&lt;dbl&gt;</th><th scope=col>&lt;dbl&gt;</th><th scope=col>&lt;dbl&gt;</th><th scope=col>&lt;dbl&gt;</th><th scope=col>&lt;dbl&gt;</th><th scope=col>&lt;dbl&gt;</th><th scope=col>&lt;dbl&gt;</th><th scope=col>&lt;dbl&gt;</th><th scope=col>&lt;dbl&gt;</th><th scope=col>&lt;dbl&gt;</th><th scope=col>&lt;dbl&gt;</th><th scope=col>&lt;dbl&gt;</th><th scope=col>&lt;dbl&gt;</th><th scope=col>&lt;dbl&gt;</th><th scope=col>&lt;dbl&gt;</th><th scope=col>&lt;dbl&gt;</th><th scope=col>&lt;dbl&gt;</th><th scope=col>&lt;dbl&gt;</th><th scope=col>&lt;dbl&gt;</th><th scope=col>&lt;dbl&gt;</th><th scope=col>&lt;dbl&gt;</th><th scope=col>&lt;dbl&gt;</th><th scope=col>&lt;dbl&gt;</th><th scope=col>&lt;dbl&gt;</th><th scope=col>&lt;dbl&gt;</th><th scope=col>&lt;dbl&gt;</th><th scope=col>&lt;dbl&gt;</th><th scope=col>&lt;dbl&gt;</th><th scope=col>&lt;dbl&gt;</th><th scope=col>&lt;dbl&gt;</th><th scope=col>&lt;dbl&gt;</th><th scope=col>&lt;dbl&gt;</th><th scope=col>&lt;dbl&gt;</th><th scope=col>&lt;dbl&gt;</th><th scope=col>&lt;dbl&gt;</th><th scope=col>&lt;dbl&gt;</th><th scope=col>&lt;dbl&gt;</th><th scope=col>&lt;dbl&gt;</th><th scope=col>&lt;dbl&gt;</th><th scope=col>&lt;dbl&gt;</th><th scope=col>&lt;dbl&gt;</th><th scope=col>&lt;dbl&gt;</th><th scope=col>&lt;dbl&gt;</th><th scope=col>&lt;dbl&gt;</th><th scope=col>&lt;dbl&gt;</th><th scope=col>&lt;dbl&gt;</th><th scope=col>&lt;dbl&gt;</th><th scope=col>&lt;dbl&gt;</th><th scope=col>&lt;dbl&gt;</th><th scope=col>&lt;dbl&gt;</th><th scope=col>&lt;dbl&gt;</th><th scope=col>&lt;dbl&gt;</th><th scope=col>&lt;dbl&gt;</th><th scope=col>&lt;dbl&gt;</th><th scope=col>&lt;dbl&gt;</th><th scope=col>&lt;dbl&gt;</th></tr>\n",
              "</thead>\n",
              "<tbody>\n",
              "\t<tr><td>0</td><td>1913</td><td>0</td><td>0</td><td>0</td><td>0</td><td>0</td><td>0</td><td>2004</td><td>0</td><td>0</td><td>0</td><td>0</td><td>0</td><td>0</td><td>0</td><td>0</td><td>0</td><td>0</td><td>0</td><td>0</td><td>2605</td><td>0</td><td>0</td><td>0</td><td>0</td><td>0</td><td>0</td><td>0</td><td>0</td><td>0</td><td>0</td><td>0</td><td>0</td><td>0</td><td>0</td><td>0</td><td>0</td><td>0</td><td>0</td><td>0</td><td>0</td><td>0</td><td>0</td><td>0</td><td>0</td><td>0</td><td>0</td><td>0</td><td>0</td><td>0</td><td>0</td><td>0</td><td>0</td><td>0</td><td>0</td><td>0</td><td>0</td><td>0</td><td>0</td><td>0</td><td>0</td><td>0</td><td>0</td><td>0</td><td>0</td><td>0</td><td>0</td><td>0</td><td>0</td><td>0</td><td>0</td><td>0</td><td>0</td><td>0</td><td>0</td><td>0</td><td>0</td><td>0</td><td>0</td><td>0</td><td>0</td><td>0</td><td>0</td><td>0</td><td>0</td><td>0</td><td>0</td><td>0</td><td>0</td><td>0</td><td>0</td><td>0</td><td>0</td><td>0</td><td>0</td><td>0</td><td>0</td><td>0</td><td>0</td><td>0</td><td>0</td><td>0</td><td>5</td><td>0</td><td>0</td><td>0</td><td>0</td><td>0</td><td>0</td><td>0</td><td>0</td><td>0</td><td>0</td><td>0</td><td>0</td><td>0</td><td>0</td><td>0</td><td>0</td><td>0</td><td>0</td><td>0</td><td>0</td><td>0</td><td>0</td><td>0</td><td>0</td><td>0</td><td>0</td><td>0</td><td>0</td><td>0</td><td>0</td><td>0</td><td>0</td><td>0</td><td>0</td><td>0</td><td>0</td><td>5</td><td>0</td><td>0</td></tr>\n",
              "</tbody>\n",
              "</table>\n"
            ]
          },
          "metadata": {}
        }
      ]
    },
    {
      "cell_type": "markdown",
      "metadata": {
        "id": "ofvfIvyqDjTZ"
      },
      "source": [
        "For 'rez_ecs' : Can drop column\n",
        "\n",
        "For 'v2a1', 'v18q1', 'SQBmeaned', 'meaneduc' : Replace NA with median value"
      ]
    },
    {
      "cell_type": "code",
      "metadata": {
        "id": "Xw8hI-oyEjv0"
      },
      "source": [
        "train <- subset(train, select = -c(rez_esc))\n",
        "train$v2a1[is.na(train$v2a1)] <- median(df$v2a1, na.rm=TRUE)\n",
        "train$v18q1[is.na(train$v18q1)] <- median(df$v18q1, na.rm=TRUE)\n",
        "train$SQBmeaned[is.na(train$SQBmeaned)] <- median(df$SQBmeaned, na.rm=TRUE)\n",
        "train$meaneduc[is.na(train$meaneduc)] <- median(df$meaneduc, na.rm=TRUE)"
      ],
      "execution_count": 29,
      "outputs": []
    },
    {
      "cell_type": "code",
      "metadata": {
        "colab": {
          "base_uri": "https://localhost:8080/",
          "height": 34
        },
        "id": "vpxw4ll0JJ97",
        "outputId": "34249019-12da-4156-8bec-afdd917a4e58"
      },
      "source": [
        "sum(is.na(train))"
      ],
      "execution_count": 30,
      "outputs": [
        {
          "output_type": "display_data",
          "data": {
            "text/plain": [
              "[1] 0"
            ],
            "text/latex": "0",
            "text/markdown": "0",
            "text/html": [
              "0"
            ]
          },
          "metadata": {}
        }
      ]
    },
    {
      "cell_type": "code",
      "metadata": {
        "colab": {
          "base_uri": "https://localhost:8080/",
          "height": 34
        },
        "id": "NhdZw4Bi6VQO",
        "outputId": "d64ede9c-879b-4cbf-dbaf-5e43044975e0"
      },
      "source": [
        "dim(train)"
      ],
      "execution_count": 35,
      "outputs": [
        {
          "output_type": "display_data",
          "data": {
            "text/plain": [
              "[1] 3070  142"
            ],
            "text/latex": "\\begin{enumerate*}\n\\item 3070\n\\item 142\n\\end{enumerate*}\n",
            "text/markdown": "1. 3070\n2. 142\n\n\n",
            "text/html": [
              "<style>\n",
              ".list-inline {list-style: none; margin:0; padding: 0}\n",
              ".list-inline>li {display: inline-block}\n",
              ".list-inline>li:not(:last-child)::after {content: \"\\00b7\"; padding: 0 .5ex}\n",
              "</style>\n",
              "<ol class=list-inline><li>3070</li><li>142</li></ol>\n"
            ]
          },
          "metadata": {}
        }
      ]
    },
    {
      "cell_type": "markdown",
      "metadata": {
        "id": "_mrfVYUu-M-v"
      },
      "source": [
        "## **Dealing with Categorical Data**"
      ]
    },
    {
      "cell_type": "code",
      "metadata": {
        "colab": {
          "base_uri": "https://localhost:8080/",
          "height": 427
        },
        "id": "D24O8ZS0-i4g",
        "outputId": "b7fa962c-176f-414b-aa8f-e9499d223f27"
      },
      "source": [
        "head(train, 10)"
      ],
      "execution_count": 37,
      "outputs": [
        {
          "output_type": "display_data",
          "data": {
            "text/plain": [
              "   Id           v2a1   hacdor rooms hacapo v14a refrig v18q v18q1 r4h1 r4h2\n",
              "1  ID_279628684 190000 0      3     0      1    1      0    2004  0    1   \n",
              "2  ID_f29eb3ddd 135000 0      4     0      1    1      1       1  0    1   \n",
              "3  ID_68de51c94   1913 0      8     0      1    1      0    2004  0    0   \n",
              "4  ID_d671db89c 180000 0      5     0      1    1      1       1  0    2   \n",
              "5  ID_d56d6f5f5 180000 0      5     0      1    1      1       1  0    2   \n",
              "6  ID_ec05b1a7b 180000 0      5     0      1    1      1       1  0    2   \n",
              "7  ID_e9e0c1100 180000 0      5     0      1    1      1       1  0    2   \n",
              "8  ID_3e04e571e 130000 1      2     0      1    1      0    2004  0    1   \n",
              "9  ID_1284f8aad 130000 1      2     0      1    1      0    2004  0    1   \n",
              "10 ID_51f52fdd2 130000 1      2     0      1    1      0    2004  0    1   \n",
              "   r4h3 r4m1 r4m2 r4m3 r4t1 r4t2 r4t3 tamhog tamviv escolari hhsize paredblolad\n",
              "1  1    0    0    0    0    1    1    1      1      10       1      1          \n",
              "2  1    0    0    0    0    1    1    1      1      12       1      0          \n",
              "3  0    0    1    1    0    1    1    1      1      11       1      0          \n",
              "4  2    1    1    2    1    3    4    4      4       9       4      1          \n",
              "5  2    1    1    2    1    3    4    4      4      11       4      1          \n",
              "6  2    1    1    2    1    3    4    4      4      11       4      1          \n",
              "7  2    1    1    2    1    3    4    4      4       2       4      1          \n",
              "8  1    2    1    3    2    2    4    4      4       0       4      1          \n",
              "9  1    2    1    3    2    2    4    4      4       9       4      1          \n",
              "10 1    2    1    3    2    2    4    4      4      11       4      1          \n",
              "   paredzocalo paredpreb pareddes paredmad paredzinc paredfibras paredother\n",
              "1  0           0         0        0        0         0           0         \n",
              "2  0           0         0        1        0         0           0         \n",
              "3  0           0         0        1        0         0           0         \n",
              "4  0           0         0        0        0         0           0         \n",
              "5  0           0         0        0        0         0           0         \n",
              "6  0           0         0        0        0         0           0         \n",
              "7  0           0         0        0        0         0           0         \n",
              "8  0           0         0        0        0         0           0         \n",
              "9  0           0         0        0        0         0           0         \n",
              "10 0           0         0        0        0         0           0         \n",
              "   pisomoscer pisocemento pisoother pisonatur pisonotiene pisomadera techozinc\n",
              "1  1          0           0         0         0           0          0        \n",
              "2  0          0           0         0         0           1          1        \n",
              "3  1          0           0         0         0           0          1        \n",
              "4  1          0           0         0         0           0          1        \n",
              "5  1          0           0         0         0           0          1        \n",
              "6  1          0           0         0         0           0          1        \n",
              "7  1          0           0         0         0           0          1        \n",
              "8  1          0           0         0         0           0          1        \n",
              "9  1          0           0         0         0           0          1        \n",
              "10 1          0           0         0         0           0          1        \n",
              "   techoentrepiso techocane techootro cielorazo abastaguadentro abastaguafuera\n",
              "1  1              0         0         1         1               0             \n",
              "2  0              0         0         1         1               0             \n",
              "3  0              0         0         1         1               0             \n",
              "4  0              0         0         1         1               0             \n",
              "5  0              0         0         1         1               0             \n",
              "6  0              0         0         1         1               0             \n",
              "7  0              0         0         1         1               0             \n",
              "8  0              0         0         1         1               0             \n",
              "9  0              0         0         1         1               0             \n",
              "10 0              0         0         1         1               0             \n",
              "   abastaguano public planpri noelec coopele sanitario1 sanitario2 sanitario3\n",
              "1  0           1      0       0      0       0          1          0         \n",
              "2  0           1      0       0      0       0          1          0         \n",
              "3  0           1      0       0      0       0          1          0         \n",
              "4  0           1      0       0      0       0          1          0         \n",
              "5  0           1      0       0      0       0          1          0         \n",
              "6  0           1      0       0      0       0          1          0         \n",
              "7  0           1      0       0      0       0          1          0         \n",
              "8  0           1      0       0      0       0          1          0         \n",
              "9  0           1      0       0      0       0          1          0         \n",
              "10 0           1      0       0      0       0          1          0         \n",
              "   sanitario5 sanitario6 energcocinar1 energcocinar2 energcocinar3\n",
              "1  0          0          0             0             1            \n",
              "2  0          0          0             1             0            \n",
              "3  0          0          0             1             0            \n",
              "4  0          0          0             1             0            \n",
              "5  0          0          0             1             0            \n",
              "6  0          0          0             1             0            \n",
              "7  0          0          0             1             0            \n",
              "8  0          0          0             0             1            \n",
              "9  0          0          0             0             1            \n",
              "10 0          0          0             0             1            \n",
              "   energcocinar4 elimbasu1 elimbasu2 elimbasu3 elimbasu4 elimbasu5 elimbasu6\n",
              "1  0             1         0         0         0         0         0        \n",
              "2  0             1         0         0         0         0         0        \n",
              "3  0             1         0         0         0         0         0        \n",
              "4  0             1         0         0         0         0         0        \n",
              "5  0             1         0         0         0         0         0        \n",
              "6  0             1         0         0         0         0         0        \n",
              "7  0             1         0         0         0         0         0        \n",
              "8  0             1         0         0         0         0         0        \n",
              "9  0             1         0         0         0         0         0        \n",
              "10 0             1         0         0         0         0         0        \n",
              "   epared1 epared2 epared3 etecho1 etecho2 etecho3 eviv1 eviv2 eviv3 dis male\n",
              "1  0       1       0       1       0       0       1     0     0     0   1   \n",
              "2  0       1       0       0       1       0       0     1     0     0   1   \n",
              "3  0       1       0       0       0       1       0     0     1     1   0   \n",
              "4  0       0       1       0       0       1       0     0     1     0   1   \n",
              "5  0       0       1       0       0       1       0     0     1     0   0   \n",
              "6  0       0       1       0       0       1       0     0     1     0   1   \n",
              "7  0       0       1       0       0       1       0     0     1     0   0   \n",
              "8  1       0       0       1       0       0       0     1     0     0   0   \n",
              "9  1       0       0       1       0       0       0     1     0     0   1   \n",
              "10 1       0       0       1       0       0       0     1     0     0   0   \n",
              "   female estadocivil1 estadocivil2 estadocivil3 estadocivil4 estadocivil5\n",
              "1  0      0            0            0            1            0           \n",
              "2  0      0            0            0            1            0           \n",
              "3  1      0            0            0            0            0           \n",
              "4  0      0            0            0            0            0           \n",
              "5  1      0            1            0            0            0           \n",
              "6  0      0            1            0            0            0           \n",
              "7  1      1            0            0            0            0           \n",
              "8  1      1            0            0            0            0           \n",
              "9  0      0            1            0            0            0           \n",
              "10 1      0            1            0            0            0           \n",
              "   estadocivil6 estadocivil7 parentesco1 parentesco2 parentesco3 parentesco4\n",
              "1  0            0            1           0           0           0          \n",
              "2  0            0            1           0           0           0          \n",
              "3  1            0            1           0           0           0          \n",
              "4  0            1            0           0           1           0          \n",
              "5  0            0            0           1           0           0          \n",
              "6  0            0            1           0           0           0          \n",
              "7  0            0            0           0           1           0          \n",
              "8  0            0            0           0           1           0          \n",
              "9  0            0            1           0           0           0          \n",
              "10 0            0            0           1           0           0          \n",
              "   parentesco5 parentesco6 parentesco7 parentesco8 parentesco9 parentesco10\n",
              "1  0           0           0           0           0           0           \n",
              "2  0           0           0           0           0           0           \n",
              "3  0           0           0           0           0           0           \n",
              "4  0           0           0           0           0           0           \n",
              "5  0           0           0           0           0           0           \n",
              "6  0           0           0           0           0           0           \n",
              "7  0           0           0           0           0           0           \n",
              "8  0           0           0           0           0           0           \n",
              "9  0           0           0           0           0           0           \n",
              "10 0           0           0           0           0           0           \n",
              "   parentesco11 parentesco12 idhogar   hogar_nin hogar_adul hogar_mayor\n",
              "1  0            0            21eb7fcc1 0         1          0          \n",
              "2  0            0            0e5d7a658 0         1          1          \n",
              "3  0            0            2c7317ea8 0         1          1          \n",
              "4  0            0            2b58d945f 2         2          0          \n",
              "5  0            0            2b58d945f 2         2          0          \n",
              "6  0            0            2b58d945f 2         2          0          \n",
              "7  0            0            2b58d945f 2         2          0          \n",
              "8  0            0            d6dae86b7 2         2          0          \n",
              "9  0            0            d6dae86b7 2         2          0          \n",
              "10 0            0            d6dae86b7 2         2          0          \n",
              "   hogar_total dependency edjefe edjefa meaneduc instlevel1 instlevel2\n",
              "1  1           no         10     no     10       0          0         \n",
              "2  1           8          12     no     12       0          0         \n",
              "3  1           8          no     11     11       0          0         \n",
              "4  4           yes        11     no     11       0          0         \n",
              "5  4           yes        11     no     11       0          0         \n",
              "6  4           yes        11     no     11       0          0         \n",
              "7  4           yes        11     no     11       0          1         \n",
              "8  4           yes        9      no     10       1          0         \n",
              "9  4           yes        9      no     10       0          0         \n",
              "10 4           yes        9      no     10       0          0         \n",
              "   instlevel3 instlevel4 instlevel5 instlevel6 instlevel7 instlevel8 instlevel9\n",
              "1  0          1          0          0          0          0          0         \n",
              "2  0          0          0          0          0          1          0         \n",
              "3  0          0          1          0          0          0          0         \n",
              "4  0          1          0          0          0          0          0         \n",
              "5  0          0          1          0          0          0          0         \n",
              "6  0          0          1          0          0          0          0         \n",
              "7  0          0          0          0          0          0          0         \n",
              "8  0          0          0          0          0          0          0         \n",
              "9  0          1          0          0          0          0          0         \n",
              "10 0          0          1          0          0          0          0         \n",
              "   bedrooms overcrowding tipovivi1 tipovivi2 tipovivi3 tipovivi4 tipovivi5\n",
              "1  1        1.000000     0         0         1         0         0        \n",
              "2  1        1.000000     0         0         1         0         0        \n",
              "3  2        0.500000     1         0         0         0         0        \n",
              "4  3        1.333333     0         0         1         0         0        \n",
              "5  3        1.333333     0         0         1         0         0        \n",
              "6  3        1.333333     0         0         1         0         0        \n",
              "7  3        1.333333     0         0         1         0         0        \n",
              "8  1        4.000000     0         0         1         0         0        \n",
              "9  1        4.000000     0         0         1         0         0        \n",
              "10 1        4.000000     0         0         1         0         0        \n",
              "   computer television mobilephone qmobilephone lugar1 lugar2 lugar3 lugar4\n",
              "1  0        0          1           1            1      0      0      0     \n",
              "2  0        0          1           1            1      0      0      0     \n",
              "3  0        0          0           0            1      0      0      0     \n",
              "4  0        0          1           3            1      0      0      0     \n",
              "5  0        0          1           3            1      0      0      0     \n",
              "6  0        0          1           3            1      0      0      0     \n",
              "7  0        0          1           3            1      0      0      0     \n",
              "8  0        0          1           1            1      0      0      0     \n",
              "9  0        0          1           1            1      0      0      0     \n",
              "10 0        0          1           1            1      0      0      0     \n",
              "   lugar5 lugar6 area1 area2 age SQBescolari SQBage SQBhogar_total SQBedjefe\n",
              "1  0      0      1     0     43  100         1849    1             100      \n",
              "2  0      0      1     0     67  144         4489    1             144      \n",
              "3  0      0      1     0     92  121         8464    1               0      \n",
              "4  0      0      1     0     17   81          289   16             121      \n",
              "5  0      0      1     0     37  121         1369   16             121      \n",
              "6  0      0      1     0     38  121         1444   16             121      \n",
              "7  0      0      1     0      8    4           64   16             121      \n",
              "8  0      0      1     0      7    0           49   16              81      \n",
              "9  0      0      1     0     30   81          900   16              81      \n",
              "10 0      0      1     0     28  121          784   16              81      \n",
              "   SQBhogar_nin SQBovercrowding SQBdependency SQBmeaned agesq Target\n",
              "1  0             1.000000        0            100       1849  4     \n",
              "2  0             1.000000       64            144       4489  4     \n",
              "3  0             0.250000       64            121       8464  4     \n",
              "4  4             1.777778        1            121        289  4     \n",
              "5  4             1.777778        1            121       1369  4     \n",
              "6  4             1.777778        1            121       1444  4     \n",
              "7  4             1.777778        1            121         64  4     \n",
              "8  4            16.000000        1            100         49  4     \n",
              "9  4            16.000000        1            100        900  4     \n",
              "10 4            16.000000        1            100        784  4     "
            ],
            "text/latex": "A tibble: 10 × 142\n\\begin{tabular}{llllllllllllllllllllllllllllllllllllllllllllllllllllllllllllllllllllllllllllllllllllllllllllllllllllllllllllllllllllllllllllllllllllllllllllll}\n Id & v2a1 & hacdor & rooms & hacapo & v14a & refrig & v18q & v18q1 & r4h1 & r4h2 & r4h3 & r4m1 & r4m2 & r4m3 & r4t1 & r4t2 & r4t3 & tamhog & tamviv & escolari & hhsize & paredblolad & paredzocalo & paredpreb & pareddes & paredmad & paredzinc & paredfibras & paredother & pisomoscer & pisocemento & pisoother & pisonatur & pisonotiene & pisomadera & techozinc & techoentrepiso & techocane & techootro & cielorazo & abastaguadentro & abastaguafuera & abastaguano & public & planpri & noelec & coopele & sanitario1 & sanitario2 & sanitario3 & sanitario5 & sanitario6 & energcocinar1 & energcocinar2 & energcocinar3 & energcocinar4 & elimbasu1 & elimbasu2 & elimbasu3 & elimbasu4 & elimbasu5 & elimbasu6 & epared1 & epared2 & epared3 & etecho1 & etecho2 & etecho3 & eviv1 & eviv2 & eviv3 & dis & male & female & estadocivil1 & estadocivil2 & estadocivil3 & estadocivil4 & estadocivil5 & estadocivil6 & estadocivil7 & parentesco1 & parentesco2 & parentesco3 & parentesco4 & parentesco5 & parentesco6 & parentesco7 & parentesco8 & parentesco9 & parentesco10 & parentesco11 & parentesco12 & idhogar & hogar\\_nin & hogar\\_adul & hogar\\_mayor & hogar\\_total & dependency & edjefe & edjefa & meaneduc & instlevel1 & instlevel2 & instlevel3 & instlevel4 & instlevel5 & instlevel6 & instlevel7 & instlevel8 & instlevel9 & bedrooms & overcrowding & tipovivi1 & tipovivi2 & tipovivi3 & tipovivi4 & tipovivi5 & computer & television & mobilephone & qmobilephone & lugar1 & lugar2 & lugar3 & lugar4 & lugar5 & lugar6 & area1 & area2 & age & SQBescolari & SQBage & SQBhogar\\_total & SQBedjefe & SQBhogar\\_nin & SQBovercrowding & SQBdependency & SQBmeaned & agesq & Target\\\\\n <chr> & <dbl> & <dbl> & <dbl> & <dbl> & <dbl> & <dbl> & <dbl> & <dbl> & <dbl> & <dbl> & <dbl> & <dbl> & <dbl> & <dbl> & <dbl> & <dbl> & <dbl> & <dbl> & <dbl> & <dbl> & <dbl> & <dbl> & <dbl> & <dbl> & <dbl> & <dbl> & <dbl> & <dbl> & <dbl> & <dbl> & <dbl> & <dbl> & <dbl> & <dbl> & <dbl> & <dbl> & <dbl> & <dbl> & <dbl> & <dbl> & <dbl> & <dbl> & <dbl> & <dbl> & <dbl> & <dbl> & <dbl> & <dbl> & <dbl> & <dbl> & <dbl> & <dbl> & <dbl> & <dbl> & <dbl> & <dbl> & <dbl> & <dbl> & <dbl> & <dbl> & <dbl> & <dbl> & <dbl> & <dbl> & <dbl> & <dbl> & <dbl> & <dbl> & <dbl> & <dbl> & <dbl> & <dbl> & <dbl> & <dbl> & <dbl> & <dbl> & <dbl> & <dbl> & <dbl> & <dbl> & <dbl> & <dbl> & <dbl> & <dbl> & <dbl> & <dbl> & <dbl> & <dbl> & <dbl> & <dbl> & <dbl> & <dbl> & <dbl> & <chr> & <dbl> & <dbl> & <dbl> & <dbl> & <chr> & <chr> & <chr> & <dbl> & <dbl> & <dbl> & <dbl> & <dbl> & <dbl> & <dbl> & <dbl> & <dbl> & <dbl> & <dbl> & <dbl> & <dbl> & <dbl> & <dbl> & <dbl> & <dbl> & <dbl> & <dbl> & <dbl> & <dbl> & <dbl> & <dbl> & <dbl> & <dbl> & <dbl> & <dbl> & <dbl> & <dbl> & <dbl> & <dbl> & <dbl> & <dbl> & <dbl> & <dbl> & <dbl> & <dbl> & <dbl> & <dbl> & <dbl>\\\\\n\\hline\n\t ID\\_279628684 & 190000 & 0 & 3 & 0 & 1 & 1 & 0 & 2004 & 0 & 1 & 1 & 0 & 0 & 0 & 0 & 1 & 1 & 1 & 1 & 10 & 1 & 1 & 0 & 0 & 0 & 0 & 0 & 0 & 0 & 1 & 0 & 0 & 0 & 0 & 0 & 0 & 1 & 0 & 0 & 1 & 1 & 0 & 0 & 1 & 0 & 0 & 0 & 0 & 1 & 0 & 0 & 0 & 0 & 0 & 1 & 0 & 1 & 0 & 0 & 0 & 0 & 0 & 0 & 1 & 0 & 1 & 0 & 0 & 1 & 0 & 0 & 0 & 1 & 0 & 0 & 0 & 0 & 1 & 0 & 0 & 0 & 1 & 0 & 0 & 0 & 0 & 0 & 0 & 0 & 0 & 0 & 0 & 0 & 21eb7fcc1 & 0 & 1 & 0 & 1 & no  & 10 & no & 10 & 0 & 0 & 0 & 1 & 0 & 0 & 0 & 0 & 0 & 1 & 1.000000 & 0 & 0 & 1 & 0 & 0 & 0 & 0 & 1 & 1 & 1 & 0 & 0 & 0 & 0 & 0 & 1 & 0 & 43 & 100 & 1849 &  1 & 100 & 0 &  1.000000 &  0 & 100 & 1849 & 4\\\\\n\t ID\\_f29eb3ddd & 135000 & 0 & 4 & 0 & 1 & 1 & 1 &    1 & 0 & 1 & 1 & 0 & 0 & 0 & 0 & 1 & 1 & 1 & 1 & 12 & 1 & 0 & 0 & 0 & 0 & 1 & 0 & 0 & 0 & 0 & 0 & 0 & 0 & 0 & 1 & 1 & 0 & 0 & 0 & 1 & 1 & 0 & 0 & 1 & 0 & 0 & 0 & 0 & 1 & 0 & 0 & 0 & 0 & 1 & 0 & 0 & 1 & 0 & 0 & 0 & 0 & 0 & 0 & 1 & 0 & 0 & 1 & 0 & 0 & 1 & 0 & 0 & 1 & 0 & 0 & 0 & 0 & 1 & 0 & 0 & 0 & 1 & 0 & 0 & 0 & 0 & 0 & 0 & 0 & 0 & 0 & 0 & 0 & 0e5d7a658 & 0 & 1 & 1 & 1 & 8   & 12 & no & 12 & 0 & 0 & 0 & 0 & 0 & 0 & 0 & 1 & 0 & 1 & 1.000000 & 0 & 0 & 1 & 0 & 0 & 0 & 0 & 1 & 1 & 1 & 0 & 0 & 0 & 0 & 0 & 1 & 0 & 67 & 144 & 4489 &  1 & 144 & 0 &  1.000000 & 64 & 144 & 4489 & 4\\\\\n\t ID\\_68de51c94 &   1913 & 0 & 8 & 0 & 1 & 1 & 0 & 2004 & 0 & 0 & 0 & 0 & 1 & 1 & 0 & 1 & 1 & 1 & 1 & 11 & 1 & 0 & 0 & 0 & 0 & 1 & 0 & 0 & 0 & 1 & 0 & 0 & 0 & 0 & 0 & 1 & 0 & 0 & 0 & 1 & 1 & 0 & 0 & 1 & 0 & 0 & 0 & 0 & 1 & 0 & 0 & 0 & 0 & 1 & 0 & 0 & 1 & 0 & 0 & 0 & 0 & 0 & 0 & 1 & 0 & 0 & 0 & 1 & 0 & 0 & 1 & 1 & 0 & 1 & 0 & 0 & 0 & 0 & 0 & 1 & 0 & 1 & 0 & 0 & 0 & 0 & 0 & 0 & 0 & 0 & 0 & 0 & 0 & 2c7317ea8 & 0 & 1 & 1 & 1 & 8   & no & 11 & 11 & 0 & 0 & 0 & 0 & 1 & 0 & 0 & 0 & 0 & 2 & 0.500000 & 1 & 0 & 0 & 0 & 0 & 0 & 0 & 0 & 0 & 1 & 0 & 0 & 0 & 0 & 0 & 1 & 0 & 92 & 121 & 8464 &  1 &   0 & 0 &  0.250000 & 64 & 121 & 8464 & 4\\\\\n\t ID\\_d671db89c & 180000 & 0 & 5 & 0 & 1 & 1 & 1 &    1 & 0 & 2 & 2 & 1 & 1 & 2 & 1 & 3 & 4 & 4 & 4 &  9 & 4 & 1 & 0 & 0 & 0 & 0 & 0 & 0 & 0 & 1 & 0 & 0 & 0 & 0 & 0 & 1 & 0 & 0 & 0 & 1 & 1 & 0 & 0 & 1 & 0 & 0 & 0 & 0 & 1 & 0 & 0 & 0 & 0 & 1 & 0 & 0 & 1 & 0 & 0 & 0 & 0 & 0 & 0 & 0 & 1 & 0 & 0 & 1 & 0 & 0 & 1 & 0 & 1 & 0 & 0 & 0 & 0 & 0 & 0 & 0 & 1 & 0 & 0 & 1 & 0 & 0 & 0 & 0 & 0 & 0 & 0 & 0 & 0 & 2b58d945f & 2 & 2 & 0 & 4 & yes & 11 & no & 11 & 0 & 0 & 0 & 1 & 0 & 0 & 0 & 0 & 0 & 3 & 1.333333 & 0 & 0 & 1 & 0 & 0 & 0 & 0 & 1 & 3 & 1 & 0 & 0 & 0 & 0 & 0 & 1 & 0 & 17 &  81 &  289 & 16 & 121 & 4 &  1.777778 &  1 & 121 &  289 & 4\\\\\n\t ID\\_d56d6f5f5 & 180000 & 0 & 5 & 0 & 1 & 1 & 1 &    1 & 0 & 2 & 2 & 1 & 1 & 2 & 1 & 3 & 4 & 4 & 4 & 11 & 4 & 1 & 0 & 0 & 0 & 0 & 0 & 0 & 0 & 1 & 0 & 0 & 0 & 0 & 0 & 1 & 0 & 0 & 0 & 1 & 1 & 0 & 0 & 1 & 0 & 0 & 0 & 0 & 1 & 0 & 0 & 0 & 0 & 1 & 0 & 0 & 1 & 0 & 0 & 0 & 0 & 0 & 0 & 0 & 1 & 0 & 0 & 1 & 0 & 0 & 1 & 0 & 0 & 1 & 0 & 1 & 0 & 0 & 0 & 0 & 0 & 0 & 1 & 0 & 0 & 0 & 0 & 0 & 0 & 0 & 0 & 0 & 0 & 2b58d945f & 2 & 2 & 0 & 4 & yes & 11 & no & 11 & 0 & 0 & 0 & 0 & 1 & 0 & 0 & 0 & 0 & 3 & 1.333333 & 0 & 0 & 1 & 0 & 0 & 0 & 0 & 1 & 3 & 1 & 0 & 0 & 0 & 0 & 0 & 1 & 0 & 37 & 121 & 1369 & 16 & 121 & 4 &  1.777778 &  1 & 121 & 1369 & 4\\\\\n\t ID\\_ec05b1a7b & 180000 & 0 & 5 & 0 & 1 & 1 & 1 &    1 & 0 & 2 & 2 & 1 & 1 & 2 & 1 & 3 & 4 & 4 & 4 & 11 & 4 & 1 & 0 & 0 & 0 & 0 & 0 & 0 & 0 & 1 & 0 & 0 & 0 & 0 & 0 & 1 & 0 & 0 & 0 & 1 & 1 & 0 & 0 & 1 & 0 & 0 & 0 & 0 & 1 & 0 & 0 & 0 & 0 & 1 & 0 & 0 & 1 & 0 & 0 & 0 & 0 & 0 & 0 & 0 & 1 & 0 & 0 & 1 & 0 & 0 & 1 & 0 & 1 & 0 & 0 & 1 & 0 & 0 & 0 & 0 & 0 & 1 & 0 & 0 & 0 & 0 & 0 & 0 & 0 & 0 & 0 & 0 & 0 & 2b58d945f & 2 & 2 & 0 & 4 & yes & 11 & no & 11 & 0 & 0 & 0 & 0 & 1 & 0 & 0 & 0 & 0 & 3 & 1.333333 & 0 & 0 & 1 & 0 & 0 & 0 & 0 & 1 & 3 & 1 & 0 & 0 & 0 & 0 & 0 & 1 & 0 & 38 & 121 & 1444 & 16 & 121 & 4 &  1.777778 &  1 & 121 & 1444 & 4\\\\\n\t ID\\_e9e0c1100 & 180000 & 0 & 5 & 0 & 1 & 1 & 1 &    1 & 0 & 2 & 2 & 1 & 1 & 2 & 1 & 3 & 4 & 4 & 4 &  2 & 4 & 1 & 0 & 0 & 0 & 0 & 0 & 0 & 0 & 1 & 0 & 0 & 0 & 0 & 0 & 1 & 0 & 0 & 0 & 1 & 1 & 0 & 0 & 1 & 0 & 0 & 0 & 0 & 1 & 0 & 0 & 0 & 0 & 1 & 0 & 0 & 1 & 0 & 0 & 0 & 0 & 0 & 0 & 0 & 1 & 0 & 0 & 1 & 0 & 0 & 1 & 0 & 0 & 1 & 1 & 0 & 0 & 0 & 0 & 0 & 0 & 0 & 0 & 1 & 0 & 0 & 0 & 0 & 0 & 0 & 0 & 0 & 0 & 2b58d945f & 2 & 2 & 0 & 4 & yes & 11 & no & 11 & 0 & 1 & 0 & 0 & 0 & 0 & 0 & 0 & 0 & 3 & 1.333333 & 0 & 0 & 1 & 0 & 0 & 0 & 0 & 1 & 3 & 1 & 0 & 0 & 0 & 0 & 0 & 1 & 0 &  8 &   4 &   64 & 16 & 121 & 4 &  1.777778 &  1 & 121 &   64 & 4\\\\\n\t ID\\_3e04e571e & 130000 & 1 & 2 & 0 & 1 & 1 & 0 & 2004 & 0 & 1 & 1 & 2 & 1 & 3 & 2 & 2 & 4 & 4 & 4 &  0 & 4 & 1 & 0 & 0 & 0 & 0 & 0 & 0 & 0 & 1 & 0 & 0 & 0 & 0 & 0 & 1 & 0 & 0 & 0 & 1 & 1 & 0 & 0 & 1 & 0 & 0 & 0 & 0 & 1 & 0 & 0 & 0 & 0 & 0 & 1 & 0 & 1 & 0 & 0 & 0 & 0 & 0 & 1 & 0 & 0 & 1 & 0 & 0 & 0 & 1 & 0 & 0 & 0 & 1 & 1 & 0 & 0 & 0 & 0 & 0 & 0 & 0 & 0 & 1 & 0 & 0 & 0 & 0 & 0 & 0 & 0 & 0 & 0 & d6dae86b7 & 2 & 2 & 0 & 4 & yes & 9  & no & 10 & 1 & 0 & 0 & 0 & 0 & 0 & 0 & 0 & 0 & 1 & 4.000000 & 0 & 0 & 1 & 0 & 0 & 0 & 0 & 1 & 1 & 1 & 0 & 0 & 0 & 0 & 0 & 1 & 0 &  7 &   0 &   49 & 16 &  81 & 4 & 16.000000 &  1 & 100 &   49 & 4\\\\\n\t ID\\_1284f8aad & 130000 & 1 & 2 & 0 & 1 & 1 & 0 & 2004 & 0 & 1 & 1 & 2 & 1 & 3 & 2 & 2 & 4 & 4 & 4 &  9 & 4 & 1 & 0 & 0 & 0 & 0 & 0 & 0 & 0 & 1 & 0 & 0 & 0 & 0 & 0 & 1 & 0 & 0 & 0 & 1 & 1 & 0 & 0 & 1 & 0 & 0 & 0 & 0 & 1 & 0 & 0 & 0 & 0 & 0 & 1 & 0 & 1 & 0 & 0 & 0 & 0 & 0 & 1 & 0 & 0 & 1 & 0 & 0 & 0 & 1 & 0 & 0 & 1 & 0 & 0 & 1 & 0 & 0 & 0 & 0 & 0 & 1 & 0 & 0 & 0 & 0 & 0 & 0 & 0 & 0 & 0 & 0 & 0 & d6dae86b7 & 2 & 2 & 0 & 4 & yes & 9  & no & 10 & 0 & 0 & 0 & 1 & 0 & 0 & 0 & 0 & 0 & 1 & 4.000000 & 0 & 0 & 1 & 0 & 0 & 0 & 0 & 1 & 1 & 1 & 0 & 0 & 0 & 0 & 0 & 1 & 0 & 30 &  81 &  900 & 16 &  81 & 4 & 16.000000 &  1 & 100 &  900 & 4\\\\\n\t ID\\_51f52fdd2 & 130000 & 1 & 2 & 0 & 1 & 1 & 0 & 2004 & 0 & 1 & 1 & 2 & 1 & 3 & 2 & 2 & 4 & 4 & 4 & 11 & 4 & 1 & 0 & 0 & 0 & 0 & 0 & 0 & 0 & 1 & 0 & 0 & 0 & 0 & 0 & 1 & 0 & 0 & 0 & 1 & 1 & 0 & 0 & 1 & 0 & 0 & 0 & 0 & 1 & 0 & 0 & 0 & 0 & 0 & 1 & 0 & 1 & 0 & 0 & 0 & 0 & 0 & 1 & 0 & 0 & 1 & 0 & 0 & 0 & 1 & 0 & 0 & 0 & 1 & 0 & 1 & 0 & 0 & 0 & 0 & 0 & 0 & 1 & 0 & 0 & 0 & 0 & 0 & 0 & 0 & 0 & 0 & 0 & d6dae86b7 & 2 & 2 & 0 & 4 & yes & 9  & no & 10 & 0 & 0 & 0 & 0 & 1 & 0 & 0 & 0 & 0 & 1 & 4.000000 & 0 & 0 & 1 & 0 & 0 & 0 & 0 & 1 & 1 & 1 & 0 & 0 & 0 & 0 & 0 & 1 & 0 & 28 & 121 &  784 & 16 &  81 & 4 & 16.000000 &  1 & 100 &  784 & 4\\\\\n\\end{tabular}\n",
            "text/markdown": "\nA tibble: 10 × 142\n\n| Id &lt;chr&gt; | v2a1 &lt;dbl&gt; | hacdor &lt;dbl&gt; | rooms &lt;dbl&gt; | hacapo &lt;dbl&gt; | v14a &lt;dbl&gt; | refrig &lt;dbl&gt; | v18q &lt;dbl&gt; | v18q1 &lt;dbl&gt; | r4h1 &lt;dbl&gt; | r4h2 &lt;dbl&gt; | r4h3 &lt;dbl&gt; | r4m1 &lt;dbl&gt; | r4m2 &lt;dbl&gt; | r4m3 &lt;dbl&gt; | r4t1 &lt;dbl&gt; | r4t2 &lt;dbl&gt; | r4t3 &lt;dbl&gt; | tamhog &lt;dbl&gt; | tamviv &lt;dbl&gt; | escolari &lt;dbl&gt; | hhsize &lt;dbl&gt; | paredblolad &lt;dbl&gt; | paredzocalo &lt;dbl&gt; | paredpreb &lt;dbl&gt; | pareddes &lt;dbl&gt; | paredmad &lt;dbl&gt; | paredzinc &lt;dbl&gt; | paredfibras &lt;dbl&gt; | paredother &lt;dbl&gt; | pisomoscer &lt;dbl&gt; | pisocemento &lt;dbl&gt; | pisoother &lt;dbl&gt; | pisonatur &lt;dbl&gt; | pisonotiene &lt;dbl&gt; | pisomadera &lt;dbl&gt; | techozinc &lt;dbl&gt; | techoentrepiso &lt;dbl&gt; | techocane &lt;dbl&gt; | techootro &lt;dbl&gt; | cielorazo &lt;dbl&gt; | abastaguadentro &lt;dbl&gt; | abastaguafuera &lt;dbl&gt; | abastaguano &lt;dbl&gt; | public &lt;dbl&gt; | planpri &lt;dbl&gt; | noelec &lt;dbl&gt; | coopele &lt;dbl&gt; | sanitario1 &lt;dbl&gt; | sanitario2 &lt;dbl&gt; | sanitario3 &lt;dbl&gt; | sanitario5 &lt;dbl&gt; | sanitario6 &lt;dbl&gt; | energcocinar1 &lt;dbl&gt; | energcocinar2 &lt;dbl&gt; | energcocinar3 &lt;dbl&gt; | energcocinar4 &lt;dbl&gt; | elimbasu1 &lt;dbl&gt; | elimbasu2 &lt;dbl&gt; | elimbasu3 &lt;dbl&gt; | elimbasu4 &lt;dbl&gt; | elimbasu5 &lt;dbl&gt; | elimbasu6 &lt;dbl&gt; | epared1 &lt;dbl&gt; | epared2 &lt;dbl&gt; | epared3 &lt;dbl&gt; | etecho1 &lt;dbl&gt; | etecho2 &lt;dbl&gt; | etecho3 &lt;dbl&gt; | eviv1 &lt;dbl&gt; | eviv2 &lt;dbl&gt; | eviv3 &lt;dbl&gt; | dis &lt;dbl&gt; | male &lt;dbl&gt; | female &lt;dbl&gt; | estadocivil1 &lt;dbl&gt; | estadocivil2 &lt;dbl&gt; | estadocivil3 &lt;dbl&gt; | estadocivil4 &lt;dbl&gt; | estadocivil5 &lt;dbl&gt; | estadocivil6 &lt;dbl&gt; | estadocivil7 &lt;dbl&gt; | parentesco1 &lt;dbl&gt; | parentesco2 &lt;dbl&gt; | parentesco3 &lt;dbl&gt; | parentesco4 &lt;dbl&gt; | parentesco5 &lt;dbl&gt; | parentesco6 &lt;dbl&gt; | parentesco7 &lt;dbl&gt; | parentesco8 &lt;dbl&gt; | parentesco9 &lt;dbl&gt; | parentesco10 &lt;dbl&gt; | parentesco11 &lt;dbl&gt; | parentesco12 &lt;dbl&gt; | idhogar &lt;chr&gt; | hogar_nin &lt;dbl&gt; | hogar_adul &lt;dbl&gt; | hogar_mayor &lt;dbl&gt; | hogar_total &lt;dbl&gt; | dependency &lt;chr&gt; | edjefe &lt;chr&gt; | edjefa &lt;chr&gt; | meaneduc &lt;dbl&gt; | instlevel1 &lt;dbl&gt; | instlevel2 &lt;dbl&gt; | instlevel3 &lt;dbl&gt; | instlevel4 &lt;dbl&gt; | instlevel5 &lt;dbl&gt; | instlevel6 &lt;dbl&gt; | instlevel7 &lt;dbl&gt; | instlevel8 &lt;dbl&gt; | instlevel9 &lt;dbl&gt; | bedrooms &lt;dbl&gt; | overcrowding &lt;dbl&gt; | tipovivi1 &lt;dbl&gt; | tipovivi2 &lt;dbl&gt; | tipovivi3 &lt;dbl&gt; | tipovivi4 &lt;dbl&gt; | tipovivi5 &lt;dbl&gt; | computer &lt;dbl&gt; | television &lt;dbl&gt; | mobilephone &lt;dbl&gt; | qmobilephone &lt;dbl&gt; | lugar1 &lt;dbl&gt; | lugar2 &lt;dbl&gt; | lugar3 &lt;dbl&gt; | lugar4 &lt;dbl&gt; | lugar5 &lt;dbl&gt; | lugar6 &lt;dbl&gt; | area1 &lt;dbl&gt; | area2 &lt;dbl&gt; | age &lt;dbl&gt; | SQBescolari &lt;dbl&gt; | SQBage &lt;dbl&gt; | SQBhogar_total &lt;dbl&gt; | SQBedjefe &lt;dbl&gt; | SQBhogar_nin &lt;dbl&gt; | SQBovercrowding &lt;dbl&gt; | SQBdependency &lt;dbl&gt; | SQBmeaned &lt;dbl&gt; | agesq &lt;dbl&gt; | Target &lt;dbl&gt; |\n|---|---|---|---|---|---|---|---|---|---|---|---|---|---|---|---|---|---|---|---|---|---|---|---|---|---|---|---|---|---|---|---|---|---|---|---|---|---|---|---|---|---|---|---|---|---|---|---|---|---|---|---|---|---|---|---|---|---|---|---|---|---|---|---|---|---|---|---|---|---|---|---|---|---|---|---|---|---|---|---|---|---|---|---|---|---|---|---|---|---|---|---|---|---|---|---|---|---|---|---|---|---|---|---|---|---|---|---|---|---|---|---|---|---|---|---|---|---|---|---|---|---|---|---|---|---|---|---|---|---|---|---|---|---|---|---|---|---|---|---|---|---|\n| ID_279628684 | 190000 | 0 | 3 | 0 | 1 | 1 | 0 | 2004 | 0 | 1 | 1 | 0 | 0 | 0 | 0 | 1 | 1 | 1 | 1 | 10 | 1 | 1 | 0 | 0 | 0 | 0 | 0 | 0 | 0 | 1 | 0 | 0 | 0 | 0 | 0 | 0 | 1 | 0 | 0 | 1 | 1 | 0 | 0 | 1 | 0 | 0 | 0 | 0 | 1 | 0 | 0 | 0 | 0 | 0 | 1 | 0 | 1 | 0 | 0 | 0 | 0 | 0 | 0 | 1 | 0 | 1 | 0 | 0 | 1 | 0 | 0 | 0 | 1 | 0 | 0 | 0 | 0 | 1 | 0 | 0 | 0 | 1 | 0 | 0 | 0 | 0 | 0 | 0 | 0 | 0 | 0 | 0 | 0 | 21eb7fcc1 | 0 | 1 | 0 | 1 | no  | 10 | no | 10 | 0 | 0 | 0 | 1 | 0 | 0 | 0 | 0 | 0 | 1 | 1.000000 | 0 | 0 | 1 | 0 | 0 | 0 | 0 | 1 | 1 | 1 | 0 | 0 | 0 | 0 | 0 | 1 | 0 | 43 | 100 | 1849 |  1 | 100 | 0 |  1.000000 |  0 | 100 | 1849 | 4 |\n| ID_f29eb3ddd | 135000 | 0 | 4 | 0 | 1 | 1 | 1 |    1 | 0 | 1 | 1 | 0 | 0 | 0 | 0 | 1 | 1 | 1 | 1 | 12 | 1 | 0 | 0 | 0 | 0 | 1 | 0 | 0 | 0 | 0 | 0 | 0 | 0 | 0 | 1 | 1 | 0 | 0 | 0 | 1 | 1 | 0 | 0 | 1 | 0 | 0 | 0 | 0 | 1 | 0 | 0 | 0 | 0 | 1 | 0 | 0 | 1 | 0 | 0 | 0 | 0 | 0 | 0 | 1 | 0 | 0 | 1 | 0 | 0 | 1 | 0 | 0 | 1 | 0 | 0 | 0 | 0 | 1 | 0 | 0 | 0 | 1 | 0 | 0 | 0 | 0 | 0 | 0 | 0 | 0 | 0 | 0 | 0 | 0e5d7a658 | 0 | 1 | 1 | 1 | 8   | 12 | no | 12 | 0 | 0 | 0 | 0 | 0 | 0 | 0 | 1 | 0 | 1 | 1.000000 | 0 | 0 | 1 | 0 | 0 | 0 | 0 | 1 | 1 | 1 | 0 | 0 | 0 | 0 | 0 | 1 | 0 | 67 | 144 | 4489 |  1 | 144 | 0 |  1.000000 | 64 | 144 | 4489 | 4 |\n| ID_68de51c94 |   1913 | 0 | 8 | 0 | 1 | 1 | 0 | 2004 | 0 | 0 | 0 | 0 | 1 | 1 | 0 | 1 | 1 | 1 | 1 | 11 | 1 | 0 | 0 | 0 | 0 | 1 | 0 | 0 | 0 | 1 | 0 | 0 | 0 | 0 | 0 | 1 | 0 | 0 | 0 | 1 | 1 | 0 | 0 | 1 | 0 | 0 | 0 | 0 | 1 | 0 | 0 | 0 | 0 | 1 | 0 | 0 | 1 | 0 | 0 | 0 | 0 | 0 | 0 | 1 | 0 | 0 | 0 | 1 | 0 | 0 | 1 | 1 | 0 | 1 | 0 | 0 | 0 | 0 | 0 | 1 | 0 | 1 | 0 | 0 | 0 | 0 | 0 | 0 | 0 | 0 | 0 | 0 | 0 | 2c7317ea8 | 0 | 1 | 1 | 1 | 8   | no | 11 | 11 | 0 | 0 | 0 | 0 | 1 | 0 | 0 | 0 | 0 | 2 | 0.500000 | 1 | 0 | 0 | 0 | 0 | 0 | 0 | 0 | 0 | 1 | 0 | 0 | 0 | 0 | 0 | 1 | 0 | 92 | 121 | 8464 |  1 |   0 | 0 |  0.250000 | 64 | 121 | 8464 | 4 |\n| ID_d671db89c | 180000 | 0 | 5 | 0 | 1 | 1 | 1 |    1 | 0 | 2 | 2 | 1 | 1 | 2 | 1 | 3 | 4 | 4 | 4 |  9 | 4 | 1 | 0 | 0 | 0 | 0 | 0 | 0 | 0 | 1 | 0 | 0 | 0 | 0 | 0 | 1 | 0 | 0 | 0 | 1 | 1 | 0 | 0 | 1 | 0 | 0 | 0 | 0 | 1 | 0 | 0 | 0 | 0 | 1 | 0 | 0 | 1 | 0 | 0 | 0 | 0 | 0 | 0 | 0 | 1 | 0 | 0 | 1 | 0 | 0 | 1 | 0 | 1 | 0 | 0 | 0 | 0 | 0 | 0 | 0 | 1 | 0 | 0 | 1 | 0 | 0 | 0 | 0 | 0 | 0 | 0 | 0 | 0 | 2b58d945f | 2 | 2 | 0 | 4 | yes | 11 | no | 11 | 0 | 0 | 0 | 1 | 0 | 0 | 0 | 0 | 0 | 3 | 1.333333 | 0 | 0 | 1 | 0 | 0 | 0 | 0 | 1 | 3 | 1 | 0 | 0 | 0 | 0 | 0 | 1 | 0 | 17 |  81 |  289 | 16 | 121 | 4 |  1.777778 |  1 | 121 |  289 | 4 |\n| ID_d56d6f5f5 | 180000 | 0 | 5 | 0 | 1 | 1 | 1 |    1 | 0 | 2 | 2 | 1 | 1 | 2 | 1 | 3 | 4 | 4 | 4 | 11 | 4 | 1 | 0 | 0 | 0 | 0 | 0 | 0 | 0 | 1 | 0 | 0 | 0 | 0 | 0 | 1 | 0 | 0 | 0 | 1 | 1 | 0 | 0 | 1 | 0 | 0 | 0 | 0 | 1 | 0 | 0 | 0 | 0 | 1 | 0 | 0 | 1 | 0 | 0 | 0 | 0 | 0 | 0 | 0 | 1 | 0 | 0 | 1 | 0 | 0 | 1 | 0 | 0 | 1 | 0 | 1 | 0 | 0 | 0 | 0 | 0 | 0 | 1 | 0 | 0 | 0 | 0 | 0 | 0 | 0 | 0 | 0 | 0 | 2b58d945f | 2 | 2 | 0 | 4 | yes | 11 | no | 11 | 0 | 0 | 0 | 0 | 1 | 0 | 0 | 0 | 0 | 3 | 1.333333 | 0 | 0 | 1 | 0 | 0 | 0 | 0 | 1 | 3 | 1 | 0 | 0 | 0 | 0 | 0 | 1 | 0 | 37 | 121 | 1369 | 16 | 121 | 4 |  1.777778 |  1 | 121 | 1369 | 4 |\n| ID_ec05b1a7b | 180000 | 0 | 5 | 0 | 1 | 1 | 1 |    1 | 0 | 2 | 2 | 1 | 1 | 2 | 1 | 3 | 4 | 4 | 4 | 11 | 4 | 1 | 0 | 0 | 0 | 0 | 0 | 0 | 0 | 1 | 0 | 0 | 0 | 0 | 0 | 1 | 0 | 0 | 0 | 1 | 1 | 0 | 0 | 1 | 0 | 0 | 0 | 0 | 1 | 0 | 0 | 0 | 0 | 1 | 0 | 0 | 1 | 0 | 0 | 0 | 0 | 0 | 0 | 0 | 1 | 0 | 0 | 1 | 0 | 0 | 1 | 0 | 1 | 0 | 0 | 1 | 0 | 0 | 0 | 0 | 0 | 1 | 0 | 0 | 0 | 0 | 0 | 0 | 0 | 0 | 0 | 0 | 0 | 2b58d945f | 2 | 2 | 0 | 4 | yes | 11 | no | 11 | 0 | 0 | 0 | 0 | 1 | 0 | 0 | 0 | 0 | 3 | 1.333333 | 0 | 0 | 1 | 0 | 0 | 0 | 0 | 1 | 3 | 1 | 0 | 0 | 0 | 0 | 0 | 1 | 0 | 38 | 121 | 1444 | 16 | 121 | 4 |  1.777778 |  1 | 121 | 1444 | 4 |\n| ID_e9e0c1100 | 180000 | 0 | 5 | 0 | 1 | 1 | 1 |    1 | 0 | 2 | 2 | 1 | 1 | 2 | 1 | 3 | 4 | 4 | 4 |  2 | 4 | 1 | 0 | 0 | 0 | 0 | 0 | 0 | 0 | 1 | 0 | 0 | 0 | 0 | 0 | 1 | 0 | 0 | 0 | 1 | 1 | 0 | 0 | 1 | 0 | 0 | 0 | 0 | 1 | 0 | 0 | 0 | 0 | 1 | 0 | 0 | 1 | 0 | 0 | 0 | 0 | 0 | 0 | 0 | 1 | 0 | 0 | 1 | 0 | 0 | 1 | 0 | 0 | 1 | 1 | 0 | 0 | 0 | 0 | 0 | 0 | 0 | 0 | 1 | 0 | 0 | 0 | 0 | 0 | 0 | 0 | 0 | 0 | 2b58d945f | 2 | 2 | 0 | 4 | yes | 11 | no | 11 | 0 | 1 | 0 | 0 | 0 | 0 | 0 | 0 | 0 | 3 | 1.333333 | 0 | 0 | 1 | 0 | 0 | 0 | 0 | 1 | 3 | 1 | 0 | 0 | 0 | 0 | 0 | 1 | 0 |  8 |   4 |   64 | 16 | 121 | 4 |  1.777778 |  1 | 121 |   64 | 4 |\n| ID_3e04e571e | 130000 | 1 | 2 | 0 | 1 | 1 | 0 | 2004 | 0 | 1 | 1 | 2 | 1 | 3 | 2 | 2 | 4 | 4 | 4 |  0 | 4 | 1 | 0 | 0 | 0 | 0 | 0 | 0 | 0 | 1 | 0 | 0 | 0 | 0 | 0 | 1 | 0 | 0 | 0 | 1 | 1 | 0 | 0 | 1 | 0 | 0 | 0 | 0 | 1 | 0 | 0 | 0 | 0 | 0 | 1 | 0 | 1 | 0 | 0 | 0 | 0 | 0 | 1 | 0 | 0 | 1 | 0 | 0 | 0 | 1 | 0 | 0 | 0 | 1 | 1 | 0 | 0 | 0 | 0 | 0 | 0 | 0 | 0 | 1 | 0 | 0 | 0 | 0 | 0 | 0 | 0 | 0 | 0 | d6dae86b7 | 2 | 2 | 0 | 4 | yes | 9  | no | 10 | 1 | 0 | 0 | 0 | 0 | 0 | 0 | 0 | 0 | 1 | 4.000000 | 0 | 0 | 1 | 0 | 0 | 0 | 0 | 1 | 1 | 1 | 0 | 0 | 0 | 0 | 0 | 1 | 0 |  7 |   0 |   49 | 16 |  81 | 4 | 16.000000 |  1 | 100 |   49 | 4 |\n| ID_1284f8aad | 130000 | 1 | 2 | 0 | 1 | 1 | 0 | 2004 | 0 | 1 | 1 | 2 | 1 | 3 | 2 | 2 | 4 | 4 | 4 |  9 | 4 | 1 | 0 | 0 | 0 | 0 | 0 | 0 | 0 | 1 | 0 | 0 | 0 | 0 | 0 | 1 | 0 | 0 | 0 | 1 | 1 | 0 | 0 | 1 | 0 | 0 | 0 | 0 | 1 | 0 | 0 | 0 | 0 | 0 | 1 | 0 | 1 | 0 | 0 | 0 | 0 | 0 | 1 | 0 | 0 | 1 | 0 | 0 | 0 | 1 | 0 | 0 | 1 | 0 | 0 | 1 | 0 | 0 | 0 | 0 | 0 | 1 | 0 | 0 | 0 | 0 | 0 | 0 | 0 | 0 | 0 | 0 | 0 | d6dae86b7 | 2 | 2 | 0 | 4 | yes | 9  | no | 10 | 0 | 0 | 0 | 1 | 0 | 0 | 0 | 0 | 0 | 1 | 4.000000 | 0 | 0 | 1 | 0 | 0 | 0 | 0 | 1 | 1 | 1 | 0 | 0 | 0 | 0 | 0 | 1 | 0 | 30 |  81 |  900 | 16 |  81 | 4 | 16.000000 |  1 | 100 |  900 | 4 |\n| ID_51f52fdd2 | 130000 | 1 | 2 | 0 | 1 | 1 | 0 | 2004 | 0 | 1 | 1 | 2 | 1 | 3 | 2 | 2 | 4 | 4 | 4 | 11 | 4 | 1 | 0 | 0 | 0 | 0 | 0 | 0 | 0 | 1 | 0 | 0 | 0 | 0 | 0 | 1 | 0 | 0 | 0 | 1 | 1 | 0 | 0 | 1 | 0 | 0 | 0 | 0 | 1 | 0 | 0 | 0 | 0 | 0 | 1 | 0 | 1 | 0 | 0 | 0 | 0 | 0 | 1 | 0 | 0 | 1 | 0 | 0 | 0 | 1 | 0 | 0 | 0 | 1 | 0 | 1 | 0 | 0 | 0 | 0 | 0 | 0 | 1 | 0 | 0 | 0 | 0 | 0 | 0 | 0 | 0 | 0 | 0 | d6dae86b7 | 2 | 2 | 0 | 4 | yes | 9  | no | 10 | 0 | 0 | 0 | 0 | 1 | 0 | 0 | 0 | 0 | 1 | 4.000000 | 0 | 0 | 1 | 0 | 0 | 0 | 0 | 1 | 1 | 1 | 0 | 0 | 0 | 0 | 0 | 1 | 0 | 28 | 121 |  784 | 16 |  81 | 4 | 16.000000 |  1 | 100 |  784 | 4 |\n\n",
            "text/html": [
              "<table class=\"dataframe\">\n",
              "<caption>A tibble: 10 × 142</caption>\n",
              "<thead>\n",
              "\t<tr><th scope=col>Id</th><th scope=col>v2a1</th><th scope=col>hacdor</th><th scope=col>rooms</th><th scope=col>hacapo</th><th scope=col>v14a</th><th scope=col>refrig</th><th scope=col>v18q</th><th scope=col>v18q1</th><th scope=col>r4h1</th><th scope=col>r4h2</th><th scope=col>r4h3</th><th scope=col>r4m1</th><th scope=col>r4m2</th><th scope=col>r4m3</th><th scope=col>r4t1</th><th scope=col>r4t2</th><th scope=col>r4t3</th><th scope=col>tamhog</th><th scope=col>tamviv</th><th scope=col>escolari</th><th scope=col>hhsize</th><th scope=col>paredblolad</th><th scope=col>paredzocalo</th><th scope=col>paredpreb</th><th scope=col>pareddes</th><th scope=col>paredmad</th><th scope=col>paredzinc</th><th scope=col>paredfibras</th><th scope=col>paredother</th><th scope=col>pisomoscer</th><th scope=col>pisocemento</th><th scope=col>pisoother</th><th scope=col>pisonatur</th><th scope=col>pisonotiene</th><th scope=col>pisomadera</th><th scope=col>techozinc</th><th scope=col>techoentrepiso</th><th scope=col>techocane</th><th scope=col>techootro</th><th scope=col>cielorazo</th><th scope=col>abastaguadentro</th><th scope=col>abastaguafuera</th><th scope=col>abastaguano</th><th scope=col>public</th><th scope=col>planpri</th><th scope=col>noelec</th><th scope=col>coopele</th><th scope=col>sanitario1</th><th scope=col>sanitario2</th><th scope=col>sanitario3</th><th scope=col>sanitario5</th><th scope=col>sanitario6</th><th scope=col>energcocinar1</th><th scope=col>energcocinar2</th><th scope=col>energcocinar3</th><th scope=col>energcocinar4</th><th scope=col>elimbasu1</th><th scope=col>elimbasu2</th><th scope=col>elimbasu3</th><th scope=col>elimbasu4</th><th scope=col>elimbasu5</th><th scope=col>elimbasu6</th><th scope=col>epared1</th><th scope=col>epared2</th><th scope=col>epared3</th><th scope=col>etecho1</th><th scope=col>etecho2</th><th scope=col>etecho3</th><th scope=col>eviv1</th><th scope=col>eviv2</th><th scope=col>eviv3</th><th scope=col>dis</th><th scope=col>male</th><th scope=col>female</th><th scope=col>estadocivil1</th><th scope=col>estadocivil2</th><th scope=col>estadocivil3</th><th scope=col>estadocivil4</th><th scope=col>estadocivil5</th><th scope=col>estadocivil6</th><th scope=col>estadocivil7</th><th scope=col>parentesco1</th><th scope=col>parentesco2</th><th scope=col>parentesco3</th><th scope=col>parentesco4</th><th scope=col>parentesco5</th><th scope=col>parentesco6</th><th scope=col>parentesco7</th><th scope=col>parentesco8</th><th scope=col>parentesco9</th><th scope=col>parentesco10</th><th scope=col>parentesco11</th><th scope=col>parentesco12</th><th scope=col>idhogar</th><th scope=col>hogar_nin</th><th scope=col>hogar_adul</th><th scope=col>hogar_mayor</th><th scope=col>hogar_total</th><th scope=col>dependency</th><th scope=col>edjefe</th><th scope=col>edjefa</th><th scope=col>meaneduc</th><th scope=col>instlevel1</th><th scope=col>instlevel2</th><th scope=col>instlevel3</th><th scope=col>instlevel4</th><th scope=col>instlevel5</th><th scope=col>instlevel6</th><th scope=col>instlevel7</th><th scope=col>instlevel8</th><th scope=col>instlevel9</th><th scope=col>bedrooms</th><th scope=col>overcrowding</th><th scope=col>tipovivi1</th><th scope=col>tipovivi2</th><th scope=col>tipovivi3</th><th scope=col>tipovivi4</th><th scope=col>tipovivi5</th><th scope=col>computer</th><th scope=col>television</th><th scope=col>mobilephone</th><th scope=col>qmobilephone</th><th scope=col>lugar1</th><th scope=col>lugar2</th><th scope=col>lugar3</th><th scope=col>lugar4</th><th scope=col>lugar5</th><th scope=col>lugar6</th><th scope=col>area1</th><th scope=col>area2</th><th scope=col>age</th><th scope=col>SQBescolari</th><th scope=col>SQBage</th><th scope=col>SQBhogar_total</th><th scope=col>SQBedjefe</th><th scope=col>SQBhogar_nin</th><th scope=col>SQBovercrowding</th><th scope=col>SQBdependency</th><th scope=col>SQBmeaned</th><th scope=col>agesq</th><th scope=col>Target</th></tr>\n",
              "\t<tr><th scope=col>&lt;chr&gt;</th><th scope=col>&lt;dbl&gt;</th><th scope=col>&lt;dbl&gt;</th><th scope=col>&lt;dbl&gt;</th><th scope=col>&lt;dbl&gt;</th><th scope=col>&lt;dbl&gt;</th><th scope=col>&lt;dbl&gt;</th><th scope=col>&lt;dbl&gt;</th><th scope=col>&lt;dbl&gt;</th><th scope=col>&lt;dbl&gt;</th><th scope=col>&lt;dbl&gt;</th><th scope=col>&lt;dbl&gt;</th><th scope=col>&lt;dbl&gt;</th><th scope=col>&lt;dbl&gt;</th><th scope=col>&lt;dbl&gt;</th><th scope=col>&lt;dbl&gt;</th><th scope=col>&lt;dbl&gt;</th><th scope=col>&lt;dbl&gt;</th><th scope=col>&lt;dbl&gt;</th><th scope=col>&lt;dbl&gt;</th><th scope=col>&lt;dbl&gt;</th><th scope=col>&lt;dbl&gt;</th><th scope=col>&lt;dbl&gt;</th><th scope=col>&lt;dbl&gt;</th><th scope=col>&lt;dbl&gt;</th><th scope=col>&lt;dbl&gt;</th><th scope=col>&lt;dbl&gt;</th><th scope=col>&lt;dbl&gt;</th><th scope=col>&lt;dbl&gt;</th><th scope=col>&lt;dbl&gt;</th><th scope=col>&lt;dbl&gt;</th><th scope=col>&lt;dbl&gt;</th><th scope=col>&lt;dbl&gt;</th><th scope=col>&lt;dbl&gt;</th><th scope=col>&lt;dbl&gt;</th><th scope=col>&lt;dbl&gt;</th><th scope=col>&lt;dbl&gt;</th><th scope=col>&lt;dbl&gt;</th><th scope=col>&lt;dbl&gt;</th><th scope=col>&lt;dbl&gt;</th><th scope=col>&lt;dbl&gt;</th><th scope=col>&lt;dbl&gt;</th><th scope=col>&lt;dbl&gt;</th><th scope=col>&lt;dbl&gt;</th><th scope=col>&lt;dbl&gt;</th><th scope=col>&lt;dbl&gt;</th><th scope=col>&lt;dbl&gt;</th><th scope=col>&lt;dbl&gt;</th><th scope=col>&lt;dbl&gt;</th><th scope=col>&lt;dbl&gt;</th><th scope=col>&lt;dbl&gt;</th><th scope=col>&lt;dbl&gt;</th><th scope=col>&lt;dbl&gt;</th><th scope=col>&lt;dbl&gt;</th><th scope=col>&lt;dbl&gt;</th><th scope=col>&lt;dbl&gt;</th><th scope=col>&lt;dbl&gt;</th><th scope=col>&lt;dbl&gt;</th><th scope=col>&lt;dbl&gt;</th><th scope=col>&lt;dbl&gt;</th><th scope=col>&lt;dbl&gt;</th><th scope=col>&lt;dbl&gt;</th><th scope=col>&lt;dbl&gt;</th><th scope=col>&lt;dbl&gt;</th><th scope=col>&lt;dbl&gt;</th><th scope=col>&lt;dbl&gt;</th><th scope=col>&lt;dbl&gt;</th><th scope=col>&lt;dbl&gt;</th><th scope=col>&lt;dbl&gt;</th><th scope=col>&lt;dbl&gt;</th><th scope=col>&lt;dbl&gt;</th><th scope=col>&lt;dbl&gt;</th><th scope=col>&lt;dbl&gt;</th><th scope=col>&lt;dbl&gt;</th><th scope=col>&lt;dbl&gt;</th><th scope=col>&lt;dbl&gt;</th><th scope=col>&lt;dbl&gt;</th><th scope=col>&lt;dbl&gt;</th><th scope=col>&lt;dbl&gt;</th><th scope=col>&lt;dbl&gt;</th><th scope=col>&lt;dbl&gt;</th><th scope=col>&lt;dbl&gt;</th><th scope=col>&lt;dbl&gt;</th><th scope=col>&lt;dbl&gt;</th><th scope=col>&lt;dbl&gt;</th><th scope=col>&lt;dbl&gt;</th><th scope=col>&lt;dbl&gt;</th><th scope=col>&lt;dbl&gt;</th><th scope=col>&lt;dbl&gt;</th><th scope=col>&lt;dbl&gt;</th><th scope=col>&lt;dbl&gt;</th><th scope=col>&lt;dbl&gt;</th><th scope=col>&lt;dbl&gt;</th><th scope=col>&lt;dbl&gt;</th><th scope=col>&lt;chr&gt;</th><th scope=col>&lt;dbl&gt;</th><th scope=col>&lt;dbl&gt;</th><th scope=col>&lt;dbl&gt;</th><th scope=col>&lt;dbl&gt;</th><th scope=col>&lt;chr&gt;</th><th scope=col>&lt;chr&gt;</th><th scope=col>&lt;chr&gt;</th><th scope=col>&lt;dbl&gt;</th><th scope=col>&lt;dbl&gt;</th><th scope=col>&lt;dbl&gt;</th><th scope=col>&lt;dbl&gt;</th><th scope=col>&lt;dbl&gt;</th><th scope=col>&lt;dbl&gt;</th><th scope=col>&lt;dbl&gt;</th><th scope=col>&lt;dbl&gt;</th><th scope=col>&lt;dbl&gt;</th><th scope=col>&lt;dbl&gt;</th><th scope=col>&lt;dbl&gt;</th><th scope=col>&lt;dbl&gt;</th><th scope=col>&lt;dbl&gt;</th><th scope=col>&lt;dbl&gt;</th><th scope=col>&lt;dbl&gt;</th><th scope=col>&lt;dbl&gt;</th><th scope=col>&lt;dbl&gt;</th><th scope=col>&lt;dbl&gt;</th><th scope=col>&lt;dbl&gt;</th><th scope=col>&lt;dbl&gt;</th><th scope=col>&lt;dbl&gt;</th><th scope=col>&lt;dbl&gt;</th><th scope=col>&lt;dbl&gt;</th><th scope=col>&lt;dbl&gt;</th><th scope=col>&lt;dbl&gt;</th><th scope=col>&lt;dbl&gt;</th><th scope=col>&lt;dbl&gt;</th><th scope=col>&lt;dbl&gt;</th><th scope=col>&lt;dbl&gt;</th><th scope=col>&lt;dbl&gt;</th><th scope=col>&lt;dbl&gt;</th><th scope=col>&lt;dbl&gt;</th><th scope=col>&lt;dbl&gt;</th><th scope=col>&lt;dbl&gt;</th><th scope=col>&lt;dbl&gt;</th><th scope=col>&lt;dbl&gt;</th><th scope=col>&lt;dbl&gt;</th><th scope=col>&lt;dbl&gt;</th><th scope=col>&lt;dbl&gt;</th><th scope=col>&lt;dbl&gt;</th></tr>\n",
              "</thead>\n",
              "<tbody>\n",
              "\t<tr><td>ID_279628684</td><td>190000</td><td>0</td><td>3</td><td>0</td><td>1</td><td>1</td><td>0</td><td>2004</td><td>0</td><td>1</td><td>1</td><td>0</td><td>0</td><td>0</td><td>0</td><td>1</td><td>1</td><td>1</td><td>1</td><td>10</td><td>1</td><td>1</td><td>0</td><td>0</td><td>0</td><td>0</td><td>0</td><td>0</td><td>0</td><td>1</td><td>0</td><td>0</td><td>0</td><td>0</td><td>0</td><td>0</td><td>1</td><td>0</td><td>0</td><td>1</td><td>1</td><td>0</td><td>0</td><td>1</td><td>0</td><td>0</td><td>0</td><td>0</td><td>1</td><td>0</td><td>0</td><td>0</td><td>0</td><td>0</td><td>1</td><td>0</td><td>1</td><td>0</td><td>0</td><td>0</td><td>0</td><td>0</td><td>0</td><td>1</td><td>0</td><td>1</td><td>0</td><td>0</td><td>1</td><td>0</td><td>0</td><td>0</td><td>1</td><td>0</td><td>0</td><td>0</td><td>0</td><td>1</td><td>0</td><td>0</td><td>0</td><td>1</td><td>0</td><td>0</td><td>0</td><td>0</td><td>0</td><td>0</td><td>0</td><td>0</td><td>0</td><td>0</td><td>0</td><td>21eb7fcc1</td><td>0</td><td>1</td><td>0</td><td>1</td><td>no </td><td>10</td><td>no</td><td>10</td><td>0</td><td>0</td><td>0</td><td>1</td><td>0</td><td>0</td><td>0</td><td>0</td><td>0</td><td>1</td><td>1.000000</td><td>0</td><td>0</td><td>1</td><td>0</td><td>0</td><td>0</td><td>0</td><td>1</td><td>1</td><td>1</td><td>0</td><td>0</td><td>0</td><td>0</td><td>0</td><td>1</td><td>0</td><td>43</td><td>100</td><td>1849</td><td> 1</td><td>100</td><td>0</td><td> 1.000000</td><td> 0</td><td>100</td><td>1849</td><td>4</td></tr>\n",
              "\t<tr><td>ID_f29eb3ddd</td><td>135000</td><td>0</td><td>4</td><td>0</td><td>1</td><td>1</td><td>1</td><td>   1</td><td>0</td><td>1</td><td>1</td><td>0</td><td>0</td><td>0</td><td>0</td><td>1</td><td>1</td><td>1</td><td>1</td><td>12</td><td>1</td><td>0</td><td>0</td><td>0</td><td>0</td><td>1</td><td>0</td><td>0</td><td>0</td><td>0</td><td>0</td><td>0</td><td>0</td><td>0</td><td>1</td><td>1</td><td>0</td><td>0</td><td>0</td><td>1</td><td>1</td><td>0</td><td>0</td><td>1</td><td>0</td><td>0</td><td>0</td><td>0</td><td>1</td><td>0</td><td>0</td><td>0</td><td>0</td><td>1</td><td>0</td><td>0</td><td>1</td><td>0</td><td>0</td><td>0</td><td>0</td><td>0</td><td>0</td><td>1</td><td>0</td><td>0</td><td>1</td><td>0</td><td>0</td><td>1</td><td>0</td><td>0</td><td>1</td><td>0</td><td>0</td><td>0</td><td>0</td><td>1</td><td>0</td><td>0</td><td>0</td><td>1</td><td>0</td><td>0</td><td>0</td><td>0</td><td>0</td><td>0</td><td>0</td><td>0</td><td>0</td><td>0</td><td>0</td><td>0e5d7a658</td><td>0</td><td>1</td><td>1</td><td>1</td><td>8  </td><td>12</td><td>no</td><td>12</td><td>0</td><td>0</td><td>0</td><td>0</td><td>0</td><td>0</td><td>0</td><td>1</td><td>0</td><td>1</td><td>1.000000</td><td>0</td><td>0</td><td>1</td><td>0</td><td>0</td><td>0</td><td>0</td><td>1</td><td>1</td><td>1</td><td>0</td><td>0</td><td>0</td><td>0</td><td>0</td><td>1</td><td>0</td><td>67</td><td>144</td><td>4489</td><td> 1</td><td>144</td><td>0</td><td> 1.000000</td><td>64</td><td>144</td><td>4489</td><td>4</td></tr>\n",
              "\t<tr><td>ID_68de51c94</td><td>  1913</td><td>0</td><td>8</td><td>0</td><td>1</td><td>1</td><td>0</td><td>2004</td><td>0</td><td>0</td><td>0</td><td>0</td><td>1</td><td>1</td><td>0</td><td>1</td><td>1</td><td>1</td><td>1</td><td>11</td><td>1</td><td>0</td><td>0</td><td>0</td><td>0</td><td>1</td><td>0</td><td>0</td><td>0</td><td>1</td><td>0</td><td>0</td><td>0</td><td>0</td><td>0</td><td>1</td><td>0</td><td>0</td><td>0</td><td>1</td><td>1</td><td>0</td><td>0</td><td>1</td><td>0</td><td>0</td><td>0</td><td>0</td><td>1</td><td>0</td><td>0</td><td>0</td><td>0</td><td>1</td><td>0</td><td>0</td><td>1</td><td>0</td><td>0</td><td>0</td><td>0</td><td>0</td><td>0</td><td>1</td><td>0</td><td>0</td><td>0</td><td>1</td><td>0</td><td>0</td><td>1</td><td>1</td><td>0</td><td>1</td><td>0</td><td>0</td><td>0</td><td>0</td><td>0</td><td>1</td><td>0</td><td>1</td><td>0</td><td>0</td><td>0</td><td>0</td><td>0</td><td>0</td><td>0</td><td>0</td><td>0</td><td>0</td><td>0</td><td>2c7317ea8</td><td>0</td><td>1</td><td>1</td><td>1</td><td>8  </td><td>no</td><td>11</td><td>11</td><td>0</td><td>0</td><td>0</td><td>0</td><td>1</td><td>0</td><td>0</td><td>0</td><td>0</td><td>2</td><td>0.500000</td><td>1</td><td>0</td><td>0</td><td>0</td><td>0</td><td>0</td><td>0</td><td>0</td><td>0</td><td>1</td><td>0</td><td>0</td><td>0</td><td>0</td><td>0</td><td>1</td><td>0</td><td>92</td><td>121</td><td>8464</td><td> 1</td><td>  0</td><td>0</td><td> 0.250000</td><td>64</td><td>121</td><td>8464</td><td>4</td></tr>\n",
              "\t<tr><td>ID_d671db89c</td><td>180000</td><td>0</td><td>5</td><td>0</td><td>1</td><td>1</td><td>1</td><td>   1</td><td>0</td><td>2</td><td>2</td><td>1</td><td>1</td><td>2</td><td>1</td><td>3</td><td>4</td><td>4</td><td>4</td><td> 9</td><td>4</td><td>1</td><td>0</td><td>0</td><td>0</td><td>0</td><td>0</td><td>0</td><td>0</td><td>1</td><td>0</td><td>0</td><td>0</td><td>0</td><td>0</td><td>1</td><td>0</td><td>0</td><td>0</td><td>1</td><td>1</td><td>0</td><td>0</td><td>1</td><td>0</td><td>0</td><td>0</td><td>0</td><td>1</td><td>0</td><td>0</td><td>0</td><td>0</td><td>1</td><td>0</td><td>0</td><td>1</td><td>0</td><td>0</td><td>0</td><td>0</td><td>0</td><td>0</td><td>0</td><td>1</td><td>0</td><td>0</td><td>1</td><td>0</td><td>0</td><td>1</td><td>0</td><td>1</td><td>0</td><td>0</td><td>0</td><td>0</td><td>0</td><td>0</td><td>0</td><td>1</td><td>0</td><td>0</td><td>1</td><td>0</td><td>0</td><td>0</td><td>0</td><td>0</td><td>0</td><td>0</td><td>0</td><td>0</td><td>2b58d945f</td><td>2</td><td>2</td><td>0</td><td>4</td><td>yes</td><td>11</td><td>no</td><td>11</td><td>0</td><td>0</td><td>0</td><td>1</td><td>0</td><td>0</td><td>0</td><td>0</td><td>0</td><td>3</td><td>1.333333</td><td>0</td><td>0</td><td>1</td><td>0</td><td>0</td><td>0</td><td>0</td><td>1</td><td>3</td><td>1</td><td>0</td><td>0</td><td>0</td><td>0</td><td>0</td><td>1</td><td>0</td><td>17</td><td> 81</td><td> 289</td><td>16</td><td>121</td><td>4</td><td> 1.777778</td><td> 1</td><td>121</td><td> 289</td><td>4</td></tr>\n",
              "\t<tr><td>ID_d56d6f5f5</td><td>180000</td><td>0</td><td>5</td><td>0</td><td>1</td><td>1</td><td>1</td><td>   1</td><td>0</td><td>2</td><td>2</td><td>1</td><td>1</td><td>2</td><td>1</td><td>3</td><td>4</td><td>4</td><td>4</td><td>11</td><td>4</td><td>1</td><td>0</td><td>0</td><td>0</td><td>0</td><td>0</td><td>0</td><td>0</td><td>1</td><td>0</td><td>0</td><td>0</td><td>0</td><td>0</td><td>1</td><td>0</td><td>0</td><td>0</td><td>1</td><td>1</td><td>0</td><td>0</td><td>1</td><td>0</td><td>0</td><td>0</td><td>0</td><td>1</td><td>0</td><td>0</td><td>0</td><td>0</td><td>1</td><td>0</td><td>0</td><td>1</td><td>0</td><td>0</td><td>0</td><td>0</td><td>0</td><td>0</td><td>0</td><td>1</td><td>0</td><td>0</td><td>1</td><td>0</td><td>0</td><td>1</td><td>0</td><td>0</td><td>1</td><td>0</td><td>1</td><td>0</td><td>0</td><td>0</td><td>0</td><td>0</td><td>0</td><td>1</td><td>0</td><td>0</td><td>0</td><td>0</td><td>0</td><td>0</td><td>0</td><td>0</td><td>0</td><td>0</td><td>2b58d945f</td><td>2</td><td>2</td><td>0</td><td>4</td><td>yes</td><td>11</td><td>no</td><td>11</td><td>0</td><td>0</td><td>0</td><td>0</td><td>1</td><td>0</td><td>0</td><td>0</td><td>0</td><td>3</td><td>1.333333</td><td>0</td><td>0</td><td>1</td><td>0</td><td>0</td><td>0</td><td>0</td><td>1</td><td>3</td><td>1</td><td>0</td><td>0</td><td>0</td><td>0</td><td>0</td><td>1</td><td>0</td><td>37</td><td>121</td><td>1369</td><td>16</td><td>121</td><td>4</td><td> 1.777778</td><td> 1</td><td>121</td><td>1369</td><td>4</td></tr>\n",
              "\t<tr><td>ID_ec05b1a7b</td><td>180000</td><td>0</td><td>5</td><td>0</td><td>1</td><td>1</td><td>1</td><td>   1</td><td>0</td><td>2</td><td>2</td><td>1</td><td>1</td><td>2</td><td>1</td><td>3</td><td>4</td><td>4</td><td>4</td><td>11</td><td>4</td><td>1</td><td>0</td><td>0</td><td>0</td><td>0</td><td>0</td><td>0</td><td>0</td><td>1</td><td>0</td><td>0</td><td>0</td><td>0</td><td>0</td><td>1</td><td>0</td><td>0</td><td>0</td><td>1</td><td>1</td><td>0</td><td>0</td><td>1</td><td>0</td><td>0</td><td>0</td><td>0</td><td>1</td><td>0</td><td>0</td><td>0</td><td>0</td><td>1</td><td>0</td><td>0</td><td>1</td><td>0</td><td>0</td><td>0</td><td>0</td><td>0</td><td>0</td><td>0</td><td>1</td><td>0</td><td>0</td><td>1</td><td>0</td><td>0</td><td>1</td><td>0</td><td>1</td><td>0</td><td>0</td><td>1</td><td>0</td><td>0</td><td>0</td><td>0</td><td>0</td><td>1</td><td>0</td><td>0</td><td>0</td><td>0</td><td>0</td><td>0</td><td>0</td><td>0</td><td>0</td><td>0</td><td>0</td><td>2b58d945f</td><td>2</td><td>2</td><td>0</td><td>4</td><td>yes</td><td>11</td><td>no</td><td>11</td><td>0</td><td>0</td><td>0</td><td>0</td><td>1</td><td>0</td><td>0</td><td>0</td><td>0</td><td>3</td><td>1.333333</td><td>0</td><td>0</td><td>1</td><td>0</td><td>0</td><td>0</td><td>0</td><td>1</td><td>3</td><td>1</td><td>0</td><td>0</td><td>0</td><td>0</td><td>0</td><td>1</td><td>0</td><td>38</td><td>121</td><td>1444</td><td>16</td><td>121</td><td>4</td><td> 1.777778</td><td> 1</td><td>121</td><td>1444</td><td>4</td></tr>\n",
              "\t<tr><td>ID_e9e0c1100</td><td>180000</td><td>0</td><td>5</td><td>0</td><td>1</td><td>1</td><td>1</td><td>   1</td><td>0</td><td>2</td><td>2</td><td>1</td><td>1</td><td>2</td><td>1</td><td>3</td><td>4</td><td>4</td><td>4</td><td> 2</td><td>4</td><td>1</td><td>0</td><td>0</td><td>0</td><td>0</td><td>0</td><td>0</td><td>0</td><td>1</td><td>0</td><td>0</td><td>0</td><td>0</td><td>0</td><td>1</td><td>0</td><td>0</td><td>0</td><td>1</td><td>1</td><td>0</td><td>0</td><td>1</td><td>0</td><td>0</td><td>0</td><td>0</td><td>1</td><td>0</td><td>0</td><td>0</td><td>0</td><td>1</td><td>0</td><td>0</td><td>1</td><td>0</td><td>0</td><td>0</td><td>0</td><td>0</td><td>0</td><td>0</td><td>1</td><td>0</td><td>0</td><td>1</td><td>0</td><td>0</td><td>1</td><td>0</td><td>0</td><td>1</td><td>1</td><td>0</td><td>0</td><td>0</td><td>0</td><td>0</td><td>0</td><td>0</td><td>0</td><td>1</td><td>0</td><td>0</td><td>0</td><td>0</td><td>0</td><td>0</td><td>0</td><td>0</td><td>0</td><td>2b58d945f</td><td>2</td><td>2</td><td>0</td><td>4</td><td>yes</td><td>11</td><td>no</td><td>11</td><td>0</td><td>1</td><td>0</td><td>0</td><td>0</td><td>0</td><td>0</td><td>0</td><td>0</td><td>3</td><td>1.333333</td><td>0</td><td>0</td><td>1</td><td>0</td><td>0</td><td>0</td><td>0</td><td>1</td><td>3</td><td>1</td><td>0</td><td>0</td><td>0</td><td>0</td><td>0</td><td>1</td><td>0</td><td> 8</td><td>  4</td><td>  64</td><td>16</td><td>121</td><td>4</td><td> 1.777778</td><td> 1</td><td>121</td><td>  64</td><td>4</td></tr>\n",
              "\t<tr><td>ID_3e04e571e</td><td>130000</td><td>1</td><td>2</td><td>0</td><td>1</td><td>1</td><td>0</td><td>2004</td><td>0</td><td>1</td><td>1</td><td>2</td><td>1</td><td>3</td><td>2</td><td>2</td><td>4</td><td>4</td><td>4</td><td> 0</td><td>4</td><td>1</td><td>0</td><td>0</td><td>0</td><td>0</td><td>0</td><td>0</td><td>0</td><td>1</td><td>0</td><td>0</td><td>0</td><td>0</td><td>0</td><td>1</td><td>0</td><td>0</td><td>0</td><td>1</td><td>1</td><td>0</td><td>0</td><td>1</td><td>0</td><td>0</td><td>0</td><td>0</td><td>1</td><td>0</td><td>0</td><td>0</td><td>0</td><td>0</td><td>1</td><td>0</td><td>1</td><td>0</td><td>0</td><td>0</td><td>0</td><td>0</td><td>1</td><td>0</td><td>0</td><td>1</td><td>0</td><td>0</td><td>0</td><td>1</td><td>0</td><td>0</td><td>0</td><td>1</td><td>1</td><td>0</td><td>0</td><td>0</td><td>0</td><td>0</td><td>0</td><td>0</td><td>0</td><td>1</td><td>0</td><td>0</td><td>0</td><td>0</td><td>0</td><td>0</td><td>0</td><td>0</td><td>0</td><td>d6dae86b7</td><td>2</td><td>2</td><td>0</td><td>4</td><td>yes</td><td>9 </td><td>no</td><td>10</td><td>1</td><td>0</td><td>0</td><td>0</td><td>0</td><td>0</td><td>0</td><td>0</td><td>0</td><td>1</td><td>4.000000</td><td>0</td><td>0</td><td>1</td><td>0</td><td>0</td><td>0</td><td>0</td><td>1</td><td>1</td><td>1</td><td>0</td><td>0</td><td>0</td><td>0</td><td>0</td><td>1</td><td>0</td><td> 7</td><td>  0</td><td>  49</td><td>16</td><td> 81</td><td>4</td><td>16.000000</td><td> 1</td><td>100</td><td>  49</td><td>4</td></tr>\n",
              "\t<tr><td>ID_1284f8aad</td><td>130000</td><td>1</td><td>2</td><td>0</td><td>1</td><td>1</td><td>0</td><td>2004</td><td>0</td><td>1</td><td>1</td><td>2</td><td>1</td><td>3</td><td>2</td><td>2</td><td>4</td><td>4</td><td>4</td><td> 9</td><td>4</td><td>1</td><td>0</td><td>0</td><td>0</td><td>0</td><td>0</td><td>0</td><td>0</td><td>1</td><td>0</td><td>0</td><td>0</td><td>0</td><td>0</td><td>1</td><td>0</td><td>0</td><td>0</td><td>1</td><td>1</td><td>0</td><td>0</td><td>1</td><td>0</td><td>0</td><td>0</td><td>0</td><td>1</td><td>0</td><td>0</td><td>0</td><td>0</td><td>0</td><td>1</td><td>0</td><td>1</td><td>0</td><td>0</td><td>0</td><td>0</td><td>0</td><td>1</td><td>0</td><td>0</td><td>1</td><td>0</td><td>0</td><td>0</td><td>1</td><td>0</td><td>0</td><td>1</td><td>0</td><td>0</td><td>1</td><td>0</td><td>0</td><td>0</td><td>0</td><td>0</td><td>1</td><td>0</td><td>0</td><td>0</td><td>0</td><td>0</td><td>0</td><td>0</td><td>0</td><td>0</td><td>0</td><td>0</td><td>d6dae86b7</td><td>2</td><td>2</td><td>0</td><td>4</td><td>yes</td><td>9 </td><td>no</td><td>10</td><td>0</td><td>0</td><td>0</td><td>1</td><td>0</td><td>0</td><td>0</td><td>0</td><td>0</td><td>1</td><td>4.000000</td><td>0</td><td>0</td><td>1</td><td>0</td><td>0</td><td>0</td><td>0</td><td>1</td><td>1</td><td>1</td><td>0</td><td>0</td><td>0</td><td>0</td><td>0</td><td>1</td><td>0</td><td>30</td><td> 81</td><td> 900</td><td>16</td><td> 81</td><td>4</td><td>16.000000</td><td> 1</td><td>100</td><td> 900</td><td>4</td></tr>\n",
              "\t<tr><td>ID_51f52fdd2</td><td>130000</td><td>1</td><td>2</td><td>0</td><td>1</td><td>1</td><td>0</td><td>2004</td><td>0</td><td>1</td><td>1</td><td>2</td><td>1</td><td>3</td><td>2</td><td>2</td><td>4</td><td>4</td><td>4</td><td>11</td><td>4</td><td>1</td><td>0</td><td>0</td><td>0</td><td>0</td><td>0</td><td>0</td><td>0</td><td>1</td><td>0</td><td>0</td><td>0</td><td>0</td><td>0</td><td>1</td><td>0</td><td>0</td><td>0</td><td>1</td><td>1</td><td>0</td><td>0</td><td>1</td><td>0</td><td>0</td><td>0</td><td>0</td><td>1</td><td>0</td><td>0</td><td>0</td><td>0</td><td>0</td><td>1</td><td>0</td><td>1</td><td>0</td><td>0</td><td>0</td><td>0</td><td>0</td><td>1</td><td>0</td><td>0</td><td>1</td><td>0</td><td>0</td><td>0</td><td>1</td><td>0</td><td>0</td><td>0</td><td>1</td><td>0</td><td>1</td><td>0</td><td>0</td><td>0</td><td>0</td><td>0</td><td>0</td><td>1</td><td>0</td><td>0</td><td>0</td><td>0</td><td>0</td><td>0</td><td>0</td><td>0</td><td>0</td><td>0</td><td>d6dae86b7</td><td>2</td><td>2</td><td>0</td><td>4</td><td>yes</td><td>9 </td><td>no</td><td>10</td><td>0</td><td>0</td><td>0</td><td>0</td><td>1</td><td>0</td><td>0</td><td>0</td><td>0</td><td>1</td><td>4.000000</td><td>0</td><td>0</td><td>1</td><td>0</td><td>0</td><td>0</td><td>0</td><td>1</td><td>1</td><td>1</td><td>0</td><td>0</td><td>0</td><td>0</td><td>0</td><td>1</td><td>0</td><td>28</td><td>121</td><td> 784</td><td>16</td><td> 81</td><td>4</td><td>16.000000</td><td> 1</td><td>100</td><td> 784</td><td>4</td></tr>\n",
              "</tbody>\n",
              "</table>\n"
            ]
          },
          "metadata": {}
        }
      ]
    },
    {
      "cell_type": "code",
      "metadata": {
        "colab": {
          "base_uri": "https://localhost:8080/",
          "height": 407
        },
        "id": "byXUq35zAtk7",
        "outputId": "8813496f-48e0-407f-82e0-26e1087acb2c"
      },
      "source": [
        "train %>%\n",
        "  select_if(is.character) %>%\n",
        "  head(10)"
      ],
      "execution_count": 40,
      "outputs": [
        {
          "output_type": "display_data",
          "data": {
            "text/plain": [
              "   Id           idhogar   dependency edjefe edjefa\n",
              "1  ID_279628684 21eb7fcc1 no         10     no    \n",
              "2  ID_f29eb3ddd 0e5d7a658 8          12     no    \n",
              "3  ID_68de51c94 2c7317ea8 8          no     11    \n",
              "4  ID_d671db89c 2b58d945f yes        11     no    \n",
              "5  ID_d56d6f5f5 2b58d945f yes        11     no    \n",
              "6  ID_ec05b1a7b 2b58d945f yes        11     no    \n",
              "7  ID_e9e0c1100 2b58d945f yes        11     no    \n",
              "8  ID_3e04e571e d6dae86b7 yes        9      no    \n",
              "9  ID_1284f8aad d6dae86b7 yes        9      no    \n",
              "10 ID_51f52fdd2 d6dae86b7 yes        9      no    "
            ],
            "text/latex": "A tibble: 10 × 5\n\\begin{tabular}{lllll}\n Id & idhogar & dependency & edjefe & edjefa\\\\\n <chr> & <chr> & <chr> & <chr> & <chr>\\\\\n\\hline\n\t ID\\_279628684 & 21eb7fcc1 & no  & 10 & no\\\\\n\t ID\\_f29eb3ddd & 0e5d7a658 & 8   & 12 & no\\\\\n\t ID\\_68de51c94 & 2c7317ea8 & 8   & no & 11\\\\\n\t ID\\_d671db89c & 2b58d945f & yes & 11 & no\\\\\n\t ID\\_d56d6f5f5 & 2b58d945f & yes & 11 & no\\\\\n\t ID\\_ec05b1a7b & 2b58d945f & yes & 11 & no\\\\\n\t ID\\_e9e0c1100 & 2b58d945f & yes & 11 & no\\\\\n\t ID\\_3e04e571e & d6dae86b7 & yes & 9  & no\\\\\n\t ID\\_1284f8aad & d6dae86b7 & yes & 9  & no\\\\\n\t ID\\_51f52fdd2 & d6dae86b7 & yes & 9  & no\\\\\n\\end{tabular}\n",
            "text/markdown": "\nA tibble: 10 × 5\n\n| Id &lt;chr&gt; | idhogar &lt;chr&gt; | dependency &lt;chr&gt; | edjefe &lt;chr&gt; | edjefa &lt;chr&gt; |\n|---|---|---|---|---|\n| ID_279628684 | 21eb7fcc1 | no  | 10 | no |\n| ID_f29eb3ddd | 0e5d7a658 | 8   | 12 | no |\n| ID_68de51c94 | 2c7317ea8 | 8   | no | 11 |\n| ID_d671db89c | 2b58d945f | yes | 11 | no |\n| ID_d56d6f5f5 | 2b58d945f | yes | 11 | no |\n| ID_ec05b1a7b | 2b58d945f | yes | 11 | no |\n| ID_e9e0c1100 | 2b58d945f | yes | 11 | no |\n| ID_3e04e571e | d6dae86b7 | yes | 9  | no |\n| ID_1284f8aad | d6dae86b7 | yes | 9  | no |\n| ID_51f52fdd2 | d6dae86b7 | yes | 9  | no |\n\n",
            "text/html": [
              "<table class=\"dataframe\">\n",
              "<caption>A tibble: 10 × 5</caption>\n",
              "<thead>\n",
              "\t<tr><th scope=col>Id</th><th scope=col>idhogar</th><th scope=col>dependency</th><th scope=col>edjefe</th><th scope=col>edjefa</th></tr>\n",
              "\t<tr><th scope=col>&lt;chr&gt;</th><th scope=col>&lt;chr&gt;</th><th scope=col>&lt;chr&gt;</th><th scope=col>&lt;chr&gt;</th><th scope=col>&lt;chr&gt;</th></tr>\n",
              "</thead>\n",
              "<tbody>\n",
              "\t<tr><td>ID_279628684</td><td>21eb7fcc1</td><td>no </td><td>10</td><td>no</td></tr>\n",
              "\t<tr><td>ID_f29eb3ddd</td><td>0e5d7a658</td><td>8  </td><td>12</td><td>no</td></tr>\n",
              "\t<tr><td>ID_68de51c94</td><td>2c7317ea8</td><td>8  </td><td>no</td><td>11</td></tr>\n",
              "\t<tr><td>ID_d671db89c</td><td>2b58d945f</td><td>yes</td><td>11</td><td>no</td></tr>\n",
              "\t<tr><td>ID_d56d6f5f5</td><td>2b58d945f</td><td>yes</td><td>11</td><td>no</td></tr>\n",
              "\t<tr><td>ID_ec05b1a7b</td><td>2b58d945f</td><td>yes</td><td>11</td><td>no</td></tr>\n",
              "\t<tr><td>ID_e9e0c1100</td><td>2b58d945f</td><td>yes</td><td>11</td><td>no</td></tr>\n",
              "\t<tr><td>ID_3e04e571e</td><td>d6dae86b7</td><td>yes</td><td>9 </td><td>no</td></tr>\n",
              "\t<tr><td>ID_1284f8aad</td><td>d6dae86b7</td><td>yes</td><td>9 </td><td>no</td></tr>\n",
              "\t<tr><td>ID_51f52fdd2</td><td>d6dae86b7</td><td>yes</td><td>9 </td><td>no</td></tr>\n",
              "</tbody>\n",
              "</table>\n"
            ]
          },
          "metadata": {}
        }
      ]
    },
    {
      "cell_type": "markdown",
      "metadata": {
        "id": "-Bfpm4dM-mE6"
      },
      "source": [
        "Id column not needed for classification, though keep for right now \n",
        "\n",
        "'idhogar' column : Household level identifier (find number of unique values and figure out)\n",
        "\n",
        "'dependency' : Dependency rate (no clue right now)\n",
        "\n",
        "'edjefe' : Years of education for male head of family (replace 'no' with zero)\n",
        "\n",
        "'edjefa' : Years of education for female head of family (replace 'no' with zero)\n"
      ]
    },
    {
      "cell_type": "code",
      "metadata": {
        "colab": {
          "base_uri": "https://localhost:8080/",
          "height": 145
        },
        "id": "Wawl_UlrBo_L",
        "outputId": "6401e7ec-eecb-40f7-9df6-f73c18dca1ce"
      },
      "source": [
        "count(unique(train[c('idhogar')]))"
      ],
      "execution_count": 43,
      "outputs": [
        {
          "output_type": "display_data",
          "data": {
            "text/plain": [
              "  n  \n",
              "1 987"
            ],
            "text/latex": "A tibble: 1 × 1\n\\begin{tabular}{l}\n n\\\\\n <int>\\\\\n\\hline\n\t 987\\\\\n\\end{tabular}\n",
            "text/markdown": "\nA tibble: 1 × 1\n\n| n &lt;int&gt; |\n|---|\n| 987 |\n\n",
            "text/html": [
              "<table class=\"dataframe\">\n",
              "<caption>A tibble: 1 × 1</caption>\n",
              "<thead>\n",
              "\t<tr><th scope=col>n</th></tr>\n",
              "\t<tr><th scope=col>&lt;int&gt;</th></tr>\n",
              "</thead>\n",
              "<tbody>\n",
              "\t<tr><td>987</td></tr>\n",
              "</tbody>\n",
              "</table>\n"
            ]
          },
          "metadata": {}
        }
      ]
    },
    {
      "cell_type": "code",
      "metadata": {
        "colab": {
          "base_uri": "https://localhost:8080/",
          "height": 717
        },
        "id": "5p9JBzDPB-f1",
        "outputId": "4f307e68-f5b6-498d-874f-21dde17d0f64"
      },
      "source": [
        "as.data.frame(table(train$dependency))"
      ],
      "execution_count": 47,
      "outputs": [
        {
          "output_type": "display_data",
          "data": {
            "text/plain": [
              "   Var1      Freq\n",
              "1  .2         24 \n",
              "2  .22222222  11 \n",
              "3  .25        85 \n",
              "4  .33333334 220 \n",
              "5  .40000001  49 \n",
              "6  .5        480 \n",
              "7  .66666669 160 \n",
              "8  .75        49 \n",
              "9  1.2        11 \n",
              "10 1.25        9 \n",
              "11 1.3333334  21 \n",
              "12 1.5       190 \n",
              "13 2         165 \n",
              "14 2.25       13 \n",
              "15 2.5        28 \n",
              "16 3          59 \n",
              "17 4          30 \n",
              "18 8         161 \n",
              "19 no        605 \n",
              "20 yes       700 "
            ],
            "text/latex": "A data.frame: 20 × 2\n\\begin{tabular}{ll}\n Var1 & Freq\\\\\n <fct> & <int>\\\\\n\\hline\n\t .2        &  24\\\\\n\t .22222222 &  11\\\\\n\t .25       &  85\\\\\n\t .33333334 & 220\\\\\n\t .40000001 &  49\\\\\n\t .5        & 480\\\\\n\t .66666669 & 160\\\\\n\t .75       &  49\\\\\n\t 1.2       &  11\\\\\n\t 1.25      &   9\\\\\n\t 1.3333334 &  21\\\\\n\t 1.5       & 190\\\\\n\t 2         & 165\\\\\n\t 2.25      &  13\\\\\n\t 2.5       &  28\\\\\n\t 3         &  59\\\\\n\t 4         &  30\\\\\n\t 8         & 161\\\\\n\t no        & 605\\\\\n\t yes       & 700\\\\\n\\end{tabular}\n",
            "text/markdown": "\nA data.frame: 20 × 2\n\n| Var1 &lt;fct&gt; | Freq &lt;int&gt; |\n|---|---|\n| .2        |  24 |\n| .22222222 |  11 |\n| .25       |  85 |\n| .33333334 | 220 |\n| .40000001 |  49 |\n| .5        | 480 |\n| .66666669 | 160 |\n| .75       |  49 |\n| 1.2       |  11 |\n| 1.25      |   9 |\n| 1.3333334 |  21 |\n| 1.5       | 190 |\n| 2         | 165 |\n| 2.25      |  13 |\n| 2.5       |  28 |\n| 3         |  59 |\n| 4         |  30 |\n| 8         | 161 |\n| no        | 605 |\n| yes       | 700 |\n\n",
            "text/html": [
              "<table class=\"dataframe\">\n",
              "<caption>A data.frame: 20 × 2</caption>\n",
              "<thead>\n",
              "\t<tr><th scope=col>Var1</th><th scope=col>Freq</th></tr>\n",
              "\t<tr><th scope=col>&lt;fct&gt;</th><th scope=col>&lt;int&gt;</th></tr>\n",
              "</thead>\n",
              "<tbody>\n",
              "\t<tr><td>.2       </td><td> 24</td></tr>\n",
              "\t<tr><td>.22222222</td><td> 11</td></tr>\n",
              "\t<tr><td>.25      </td><td> 85</td></tr>\n",
              "\t<tr><td>.33333334</td><td>220</td></tr>\n",
              "\t<tr><td>.40000001</td><td> 49</td></tr>\n",
              "\t<tr><td>.5       </td><td>480</td></tr>\n",
              "\t<tr><td>.66666669</td><td>160</td></tr>\n",
              "\t<tr><td>.75      </td><td> 49</td></tr>\n",
              "\t<tr><td>1.2      </td><td> 11</td></tr>\n",
              "\t<tr><td>1.25     </td><td>  9</td></tr>\n",
              "\t<tr><td>1.3333334</td><td> 21</td></tr>\n",
              "\t<tr><td>1.5      </td><td>190</td></tr>\n",
              "\t<tr><td>2        </td><td>165</td></tr>\n",
              "\t<tr><td>2.25     </td><td> 13</td></tr>\n",
              "\t<tr><td>2.5      </td><td> 28</td></tr>\n",
              "\t<tr><td>3        </td><td> 59</td></tr>\n",
              "\t<tr><td>4        </td><td> 30</td></tr>\n",
              "\t<tr><td>8        </td><td>161</td></tr>\n",
              "\t<tr><td>no       </td><td>605</td></tr>\n",
              "\t<tr><td>yes      </td><td>700</td></tr>\n",
              "</tbody>\n",
              "</table>\n"
            ]
          },
          "metadata": {}
        }
      ]
    },
    {
      "cell_type": "code",
      "metadata": {
        "colab": {
          "base_uri": "https://localhost:8080/",
          "height": 796
        },
        "id": "fB1RSx1TC02N",
        "outputId": "cce409f2-1d38-4135-9cd2-a2ce84efa14a"
      },
      "source": [
        "as.data.frame(table(train$edjefe))"
      ],
      "execution_count": 48,
      "outputs": [
        {
          "output_type": "display_data",
          "data": {
            "text/plain": [
              "   Var1 Freq\n",
              "1  10     58\n",
              "2  11    304\n",
              "3  12     30\n",
              "4  13     36\n",
              "5  14     83\n",
              "6  15    129\n",
              "7  16     41\n",
              "8  17     93\n",
              "9  18     13\n",
              "10 19      5\n",
              "11 2      16\n",
              "12 20      3\n",
              "13 21     26\n",
              "14 3      41\n",
              "15 4      43\n",
              "16 5      35\n",
              "17 6     409\n",
              "18 7      80\n",
              "19 8      87\n",
              "20 9     152\n",
              "21 no   1372\n",
              "22 yes    14"
            ],
            "text/latex": "A data.frame: 22 × 2\n\\begin{tabular}{ll}\n Var1 & Freq\\\\\n <fct> & <int>\\\\\n\\hline\n\t 10  &   58\\\\\n\t 11  &  304\\\\\n\t 12  &   30\\\\\n\t 13  &   36\\\\\n\t 14  &   83\\\\\n\t 15  &  129\\\\\n\t 16  &   41\\\\\n\t 17  &   93\\\\\n\t 18  &   13\\\\\n\t 19  &    5\\\\\n\t 2   &   16\\\\\n\t 20  &    3\\\\\n\t 21  &   26\\\\\n\t 3   &   41\\\\\n\t 4   &   43\\\\\n\t 5   &   35\\\\\n\t 6   &  409\\\\\n\t 7   &   80\\\\\n\t 8   &   87\\\\\n\t 9   &  152\\\\\n\t no  & 1372\\\\\n\t yes &   14\\\\\n\\end{tabular}\n",
            "text/markdown": "\nA data.frame: 22 × 2\n\n| Var1 &lt;fct&gt; | Freq &lt;int&gt; |\n|---|---|\n| 10  |   58 |\n| 11  |  304 |\n| 12  |   30 |\n| 13  |   36 |\n| 14  |   83 |\n| 15  |  129 |\n| 16  |   41 |\n| 17  |   93 |\n| 18  |   13 |\n| 19  |    5 |\n| 2   |   16 |\n| 20  |    3 |\n| 21  |   26 |\n| 3   |   41 |\n| 4   |   43 |\n| 5   |   35 |\n| 6   |  409 |\n| 7   |   80 |\n| 8   |   87 |\n| 9   |  152 |\n| no  | 1372 |\n| yes |   14 |\n\n",
            "text/html": [
              "<table class=\"dataframe\">\n",
              "<caption>A data.frame: 22 × 2</caption>\n",
              "<thead>\n",
              "\t<tr><th scope=col>Var1</th><th scope=col>Freq</th></tr>\n",
              "\t<tr><th scope=col>&lt;fct&gt;</th><th scope=col>&lt;int&gt;</th></tr>\n",
              "</thead>\n",
              "<tbody>\n",
              "\t<tr><td>10 </td><td>  58</td></tr>\n",
              "\t<tr><td>11 </td><td> 304</td></tr>\n",
              "\t<tr><td>12 </td><td>  30</td></tr>\n",
              "\t<tr><td>13 </td><td>  36</td></tr>\n",
              "\t<tr><td>14 </td><td>  83</td></tr>\n",
              "\t<tr><td>15 </td><td> 129</td></tr>\n",
              "\t<tr><td>16 </td><td>  41</td></tr>\n",
              "\t<tr><td>17 </td><td>  93</td></tr>\n",
              "\t<tr><td>18 </td><td>  13</td></tr>\n",
              "\t<tr><td>19 </td><td>   5</td></tr>\n",
              "\t<tr><td>2  </td><td>  16</td></tr>\n",
              "\t<tr><td>20 </td><td>   3</td></tr>\n",
              "\t<tr><td>21 </td><td>  26</td></tr>\n",
              "\t<tr><td>3  </td><td>  41</td></tr>\n",
              "\t<tr><td>4  </td><td>  43</td></tr>\n",
              "\t<tr><td>5  </td><td>  35</td></tr>\n",
              "\t<tr><td>6  </td><td> 409</td></tr>\n",
              "\t<tr><td>7  </td><td>  80</td></tr>\n",
              "\t<tr><td>8  </td><td>  87</td></tr>\n",
              "\t<tr><td>9  </td><td> 152</td></tr>\n",
              "\t<tr><td>no </td><td>1372</td></tr>\n",
              "\t<tr><td>yes</td><td>  14</td></tr>\n",
              "</tbody>\n",
              "</table>\n"
            ]
          },
          "metadata": {}
        }
      ]
    },
    {
      "cell_type": "code",
      "metadata": {
        "colab": {
          "base_uri": "https://localhost:8080/",
          "height": 765
        },
        "id": "bmDUqRsfDOVB",
        "outputId": "47f6cb83-79df-490c-b610-e03403ae823d"
      },
      "source": [
        "as.data.frame(table(train$edjefa))"
      ],
      "execution_count": 49,
      "outputs": [
        {
          "output_type": "display_data",
          "data": {
            "text/plain": [
              "   Var1 Freq\n",
              "1  10     43\n",
              "2  11    177\n",
              "3  12     37\n",
              "4  13     21\n",
              "5  14     64\n",
              "6  15     79\n",
              "7  16     49\n",
              "8  17     49\n",
              "9  19      4\n",
              "10 2      30\n",
              "11 20      2\n",
              "12 21      4\n",
              "13 3      55\n",
              "14 4      48\n",
              "15 5      52\n",
              "16 6     305\n",
              "17 7      73\n",
              "18 8      70\n",
              "19 9      81\n",
              "20 no   1805\n",
              "21 yes    22"
            ],
            "text/latex": "A data.frame: 21 × 2\n\\begin{tabular}{ll}\n Var1 & Freq\\\\\n <fct> & <int>\\\\\n\\hline\n\t 10  &   43\\\\\n\t 11  &  177\\\\\n\t 12  &   37\\\\\n\t 13  &   21\\\\\n\t 14  &   64\\\\\n\t 15  &   79\\\\\n\t 16  &   49\\\\\n\t 17  &   49\\\\\n\t 19  &    4\\\\\n\t 2   &   30\\\\\n\t 20  &    2\\\\\n\t 21  &    4\\\\\n\t 3   &   55\\\\\n\t 4   &   48\\\\\n\t 5   &   52\\\\\n\t 6   &  305\\\\\n\t 7   &   73\\\\\n\t 8   &   70\\\\\n\t 9   &   81\\\\\n\t no  & 1805\\\\\n\t yes &   22\\\\\n\\end{tabular}\n",
            "text/markdown": "\nA data.frame: 21 × 2\n\n| Var1 &lt;fct&gt; | Freq &lt;int&gt; |\n|---|---|\n| 10  |   43 |\n| 11  |  177 |\n| 12  |   37 |\n| 13  |   21 |\n| 14  |   64 |\n| 15  |   79 |\n| 16  |   49 |\n| 17  |   49 |\n| 19  |    4 |\n| 2   |   30 |\n| 20  |    2 |\n| 21  |    4 |\n| 3   |   55 |\n| 4   |   48 |\n| 5   |   52 |\n| 6   |  305 |\n| 7   |   73 |\n| 8   |   70 |\n| 9   |   81 |\n| no  | 1805 |\n| yes |   22 |\n\n",
            "text/html": [
              "<table class=\"dataframe\">\n",
              "<caption>A data.frame: 21 × 2</caption>\n",
              "<thead>\n",
              "\t<tr><th scope=col>Var1</th><th scope=col>Freq</th></tr>\n",
              "\t<tr><th scope=col>&lt;fct&gt;</th><th scope=col>&lt;int&gt;</th></tr>\n",
              "</thead>\n",
              "<tbody>\n",
              "\t<tr><td>10 </td><td>  43</td></tr>\n",
              "\t<tr><td>11 </td><td> 177</td></tr>\n",
              "\t<tr><td>12 </td><td>  37</td></tr>\n",
              "\t<tr><td>13 </td><td>  21</td></tr>\n",
              "\t<tr><td>14 </td><td>  64</td></tr>\n",
              "\t<tr><td>15 </td><td>  79</td></tr>\n",
              "\t<tr><td>16 </td><td>  49</td></tr>\n",
              "\t<tr><td>17 </td><td>  49</td></tr>\n",
              "\t<tr><td>19 </td><td>   4</td></tr>\n",
              "\t<tr><td>2  </td><td>  30</td></tr>\n",
              "\t<tr><td>20 </td><td>   2</td></tr>\n",
              "\t<tr><td>21 </td><td>   4</td></tr>\n",
              "\t<tr><td>3  </td><td>  55</td></tr>\n",
              "\t<tr><td>4  </td><td>  48</td></tr>\n",
              "\t<tr><td>5  </td><td>  52</td></tr>\n",
              "\t<tr><td>6  </td><td> 305</td></tr>\n",
              "\t<tr><td>7  </td><td>  73</td></tr>\n",
              "\t<tr><td>8  </td><td>  70</td></tr>\n",
              "\t<tr><td>9  </td><td>  81</td></tr>\n",
              "\t<tr><td>no </td><td>1805</td></tr>\n",
              "\t<tr><td>yes</td><td>  22</td></tr>\n",
              "</tbody>\n",
              "</table>\n"
            ]
          },
          "metadata": {}
        }
      ]
    },
    {
      "cell_type": "markdown",
      "metadata": {
        "id": "eIXmDucDDSTl"
      },
      "source": [
        "For 'dependency', 'edjefe', 'edejfa' : replace 'no' with zero and 'yes' with median value\n",
        "\n",
        "For 'idhogar' for now : do one hot encoding "
      ]
    },
    {
      "cell_type": "markdown",
      "metadata": {
        "id": "m3xyE-pE_j7k"
      },
      "source": [
        "## **Class Imbalance**"
      ]
    },
    {
      "cell_type": "code",
      "metadata": {
        "id": "hKduuC_r6Gzp"
      },
      "source": [
        "train1 <- train\n",
        "train1$Target[train1$Target == 1] = 'Extreme Poverty'\n",
        "train1$Target[train1$Target == 2] = 'Moderate Poverty'\n",
        "train1$Target[train1$Target == 3] = 'Vulnerable Household'\n",
        "train1$Target[train1$Target == 4] = 'Non-Vulnerable Household'"
      ],
      "execution_count": 32,
      "outputs": []
    },
    {
      "cell_type": "code",
      "metadata": {
        "colab": {
          "base_uri": "https://localhost:8080/",
          "height": 437
        },
        "id": "hprCjv4lOLmU",
        "outputId": "ca82069b-3f04-4f9c-c1c6-dfb0d68fde64"
      },
      "source": [
        "train1 %>%\n",
        "ggplot(aes(Target))+\n",
        "geom_bar(color = 'black', fill = 'orange')+\n",
        "xlab(\"Target Classes\")+\n",
        "ylab(\"Target Classes Count\")"
      ],
      "execution_count": 33,
      "outputs": [
        {
          "output_type": "display_data",
          "data": {
            "image/png": "[encoded data removed]",
            "text/plain": [
              "plot without title"
            ]
          },
          "metadata": {
            "image/png": {
              "width": 420,
              "height": 420
            }
          }
        }
      ]
    },
    {
      "cell_type": "code",
      "metadata": {
        "colab": {
          "base_uri": "https://localhost:8080/",
          "height": 303
        },
        "id": "ZjTrvPgO7kJZ",
        "outputId": "d27aa110-d7cf-4d7f-a802-5c5b3fa6b2a8"
      },
      "source": [
        "head(train)"
      ],
      "execution_count": 34,
      "outputs": [
        {
          "output_type": "display_data",
          "data": {
            "text/plain": [
              "  Id           v2a1   hacdor rooms hacapo v14a refrig v18q v18q1 r4h1 r4h2 r4h3\n",
              "1 ID_279628684 190000 0      3     0      1    1      0    2004  0    1    1   \n",
              "2 ID_f29eb3ddd 135000 0      4     0      1    1      1       1  0    1    1   \n",
              "3 ID_68de51c94   1913 0      8     0      1    1      0    2004  0    0    0   \n",
              "4 ID_d671db89c 180000 0      5     0      1    1      1       1  0    2    2   \n",
              "5 ID_d56d6f5f5 180000 0      5     0      1    1      1       1  0    2    2   \n",
              "6 ID_ec05b1a7b 180000 0      5     0      1    1      1       1  0    2    2   \n",
              "  r4m1 r4m2 r4m3 r4t1 r4t2 r4t3 tamhog tamviv escolari hhsize paredblolad\n",
              "1 0    0    0    0    1    1    1      1      10       1      1          \n",
              "2 0    0    0    0    1    1    1      1      12       1      0          \n",
              "3 0    1    1    0    1    1    1      1      11       1      0          \n",
              "4 1    1    2    1    3    4    4      4       9       4      1          \n",
              "5 1    1    2    1    3    4    4      4      11       4      1          \n",
              "6 1    1    2    1    3    4    4      4      11       4      1          \n",
              "  paredzocalo paredpreb pareddes paredmad paredzinc paredfibras paredother\n",
              "1 0           0         0        0        0         0           0         \n",
              "2 0           0         0        1        0         0           0         \n",
              "3 0           0         0        1        0         0           0         \n",
              "4 0           0         0        0        0         0           0         \n",
              "5 0           0         0        0        0         0           0         \n",
              "6 0           0         0        0        0         0           0         \n",
              "  pisomoscer pisocemento pisoother pisonatur pisonotiene pisomadera techozinc\n",
              "1 1          0           0         0         0           0          0        \n",
              "2 0          0           0         0         0           1          1        \n",
              "3 1          0           0         0         0           0          1        \n",
              "4 1          0           0         0         0           0          1        \n",
              "5 1          0           0         0         0           0          1        \n",
              "6 1          0           0         0         0           0          1        \n",
              "  techoentrepiso techocane techootro cielorazo abastaguadentro abastaguafuera\n",
              "1 1              0         0         1         1               0             \n",
              "2 0              0         0         1         1               0             \n",
              "3 0              0         0         1         1               0             \n",
              "4 0              0         0         1         1               0             \n",
              "5 0              0         0         1         1               0             \n",
              "6 0              0         0         1         1               0             \n",
              "  abastaguano public planpri noelec coopele sanitario1 sanitario2 sanitario3\n",
              "1 0           1      0       0      0       0          1          0         \n",
              "2 0           1      0       0      0       0          1          0         \n",
              "3 0           1      0       0      0       0          1          0         \n",
              "4 0           1      0       0      0       0          1          0         \n",
              "5 0           1      0       0      0       0          1          0         \n",
              "6 0           1      0       0      0       0          1          0         \n",
              "  sanitario5 sanitario6 energcocinar1 energcocinar2 energcocinar3 energcocinar4\n",
              "1 0          0          0             0             1             0            \n",
              "2 0          0          0             1             0             0            \n",
              "3 0          0          0             1             0             0            \n",
              "4 0          0          0             1             0             0            \n",
              "5 0          0          0             1             0             0            \n",
              "6 0          0          0             1             0             0            \n",
              "  elimbasu1 elimbasu2 elimbasu3 elimbasu4 elimbasu5 elimbasu6 epared1 epared2\n",
              "1 1         0         0         0         0         0         0       1      \n",
              "2 1         0         0         0         0         0         0       1      \n",
              "3 1         0         0         0         0         0         0       1      \n",
              "4 1         0         0         0         0         0         0       0      \n",
              "5 1         0         0         0         0         0         0       0      \n",
              "6 1         0         0         0         0         0         0       0      \n",
              "  epared3 etecho1 etecho2 etecho3 eviv1 eviv2 eviv3 dis male female\n",
              "1 0       1       0       0       1     0     0     0   1    0     \n",
              "2 0       0       1       0       0     1     0     0   1    0     \n",
              "3 0       0       0       1       0     0     1     1   0    1     \n",
              "4 1       0       0       1       0     0     1     0   1    0     \n",
              "5 1       0       0       1       0     0     1     0   0    1     \n",
              "6 1       0       0       1       0     0     1     0   1    0     \n",
              "  estadocivil1 estadocivil2 estadocivil3 estadocivil4 estadocivil5 estadocivil6\n",
              "1 0            0            0            1            0            0           \n",
              "2 0            0            0            1            0            0           \n",
              "3 0            0            0            0            0            1           \n",
              "4 0            0            0            0            0            0           \n",
              "5 0            1            0            0            0            0           \n",
              "6 0            1            0            0            0            0           \n",
              "  estadocivil7 parentesco1 parentesco2 parentesco3 parentesco4 parentesco5\n",
              "1 0            1           0           0           0           0          \n",
              "2 0            1           0           0           0           0          \n",
              "3 0            1           0           0           0           0          \n",
              "4 1            0           0           1           0           0          \n",
              "5 0            0           1           0           0           0          \n",
              "6 0            1           0           0           0           0          \n",
              "  parentesco6 parentesco7 parentesco8 parentesco9 parentesco10 parentesco11\n",
              "1 0           0           0           0           0            0           \n",
              "2 0           0           0           0           0            0           \n",
              "3 0           0           0           0           0            0           \n",
              "4 0           0           0           0           0            0           \n",
              "5 0           0           0           0           0            0           \n",
              "6 0           0           0           0           0            0           \n",
              "  parentesco12 idhogar   hogar_nin hogar_adul hogar_mayor hogar_total\n",
              "1 0            21eb7fcc1 0         1          0           1          \n",
              "2 0            0e5d7a658 0         1          1           1          \n",
              "3 0            2c7317ea8 0         1          1           1          \n",
              "4 0            2b58d945f 2         2          0           4          \n",
              "5 0            2b58d945f 2         2          0           4          \n",
              "6 0            2b58d945f 2         2          0           4          \n",
              "  dependency edjefe edjefa meaneduc instlevel1 instlevel2 instlevel3 instlevel4\n",
              "1 no         10     no     10       0          0          0          1         \n",
              "2 8          12     no     12       0          0          0          0         \n",
              "3 8          no     11     11       0          0          0          0         \n",
              "4 yes        11     no     11       0          0          0          1         \n",
              "5 yes        11     no     11       0          0          0          0         \n",
              "6 yes        11     no     11       0          0          0          0         \n",
              "  instlevel5 instlevel6 instlevel7 instlevel8 instlevel9 bedrooms overcrowding\n",
              "1 0          0          0          0          0          1        1.000000    \n",
              "2 0          0          0          1          0          1        1.000000    \n",
              "3 1          0          0          0          0          2        0.500000    \n",
              "4 0          0          0          0          0          3        1.333333    \n",
              "5 1          0          0          0          0          3        1.333333    \n",
              "6 1          0          0          0          0          3        1.333333    \n",
              "  tipovivi1 tipovivi2 tipovivi3 tipovivi4 tipovivi5 computer television\n",
              "1 0         0         1         0         0         0        0         \n",
              "2 0         0         1         0         0         0        0         \n",
              "3 1         0         0         0         0         0        0         \n",
              "4 0         0         1         0         0         0        0         \n",
              "5 0         0         1         0         0         0        0         \n",
              "6 0         0         1         0         0         0        0         \n",
              "  mobilephone qmobilephone lugar1 lugar2 lugar3 lugar4 lugar5 lugar6 area1\n",
              "1 1           1            1      0      0      0      0      0      1    \n",
              "2 1           1            1      0      0      0      0      0      1    \n",
              "3 0           0            1      0      0      0      0      0      1    \n",
              "4 1           3            1      0      0      0      0      0      1    \n",
              "5 1           3            1      0      0      0      0      0      1    \n",
              "6 1           3            1      0      0      0      0      0      1    \n",
              "  area2 age SQBescolari SQBage SQBhogar_total SQBedjefe SQBhogar_nin\n",
              "1 0     43  100         1849    1             100       0           \n",
              "2 0     67  144         4489    1             144       0           \n",
              "3 0     92  121         8464    1               0       0           \n",
              "4 0     17   81          289   16             121       4           \n",
              "5 0     37  121         1369   16             121       4           \n",
              "6 0     38  121         1444   16             121       4           \n",
              "  SQBovercrowding SQBdependency SQBmeaned agesq Target\n",
              "1 1.000000         0            100       1849  4     \n",
              "2 1.000000        64            144       4489  4     \n",
              "3 0.250000        64            121       8464  4     \n",
              "4 1.777778         1            121        289  4     \n",
              "5 1.777778         1            121       1369  4     \n",
              "6 1.777778         1            121       1444  4     "
            ],
            "text/latex": "A tibble: 6 × 142\n\\begin{tabular}{llllllllllllllllllllllllllllllllllllllllllllllllllllllllllllllllllllllllllllllllllllllllllllllllllllllllllllllllllllllllllllllllllllllllllllll}\n Id & v2a1 & hacdor & rooms & hacapo & v14a & refrig & v18q & v18q1 & r4h1 & r4h2 & r4h3 & r4m1 & r4m2 & r4m3 & r4t1 & r4t2 & r4t3 & tamhog & tamviv & escolari & hhsize & paredblolad & paredzocalo & paredpreb & pareddes & paredmad & paredzinc & paredfibras & paredother & pisomoscer & pisocemento & pisoother & pisonatur & pisonotiene & pisomadera & techozinc & techoentrepiso & techocane & techootro & cielorazo & abastaguadentro & abastaguafuera & abastaguano & public & planpri & noelec & coopele & sanitario1 & sanitario2 & sanitario3 & sanitario5 & sanitario6 & energcocinar1 & energcocinar2 & energcocinar3 & energcocinar4 & elimbasu1 & elimbasu2 & elimbasu3 & elimbasu4 & elimbasu5 & elimbasu6 & epared1 & epared2 & epared3 & etecho1 & etecho2 & etecho3 & eviv1 & eviv2 & eviv3 & dis & male & female & estadocivil1 & estadocivil2 & estadocivil3 & estadocivil4 & estadocivil5 & estadocivil6 & estadocivil7 & parentesco1 & parentesco2 & parentesco3 & parentesco4 & parentesco5 & parentesco6 & parentesco7 & parentesco8 & parentesco9 & parentesco10 & parentesco11 & parentesco12 & idhogar & hogar\\_nin & hogar\\_adul & hogar\\_mayor & hogar\\_total & dependency & edjefe & edjefa & meaneduc & instlevel1 & instlevel2 & instlevel3 & instlevel4 & instlevel5 & instlevel6 & instlevel7 & instlevel8 & instlevel9 & bedrooms & overcrowding & tipovivi1 & tipovivi2 & tipovivi3 & tipovivi4 & tipovivi5 & computer & television & mobilephone & qmobilephone & lugar1 & lugar2 & lugar3 & lugar4 & lugar5 & lugar6 & area1 & area2 & age & SQBescolari & SQBage & SQBhogar\\_total & SQBedjefe & SQBhogar\\_nin & SQBovercrowding & SQBdependency & SQBmeaned & agesq & Target\\\\\n <chr> & <dbl> & <dbl> & <dbl> & <dbl> & <dbl> & <dbl> & <dbl> & <dbl> & <dbl> & <dbl> & <dbl> & <dbl> & <dbl> & <dbl> & <dbl> & <dbl> & <dbl> & <dbl> & <dbl> & <dbl> & <dbl> & <dbl> & <dbl> & <dbl> & <dbl> & <dbl> & <dbl> & <dbl> & <dbl> & <dbl> & <dbl> & <dbl> & <dbl> & <dbl> & <dbl> & <dbl> & <dbl> & <dbl> & <dbl> & <dbl> & <dbl> & <dbl> & <dbl> & <dbl> & <dbl> & <dbl> & <dbl> & <dbl> & <dbl> & <dbl> & <dbl> & <dbl> & <dbl> & <dbl> & <dbl> & <dbl> & <dbl> & <dbl> & <dbl> & <dbl> & <dbl> & <dbl> & <dbl> & <dbl> & <dbl> & <dbl> & <dbl> & <dbl> & <dbl> & <dbl> & <dbl> & <dbl> & <dbl> & <dbl> & <dbl> & <dbl> & <dbl> & <dbl> & <dbl> & <dbl> & <dbl> & <dbl> & <dbl> & <dbl> & <dbl> & <dbl> & <dbl> & <dbl> & <dbl> & <dbl> & <dbl> & <dbl> & <dbl> & <chr> & <dbl> & <dbl> & <dbl> & <dbl> & <chr> & <chr> & <chr> & <dbl> & <dbl> & <dbl> & <dbl> & <dbl> & <dbl> & <dbl> & <dbl> & <dbl> & <dbl> & <dbl> & <dbl> & <dbl> & <dbl> & <dbl> & <dbl> & <dbl> & <dbl> & <dbl> & <dbl> & <dbl> & <dbl> & <dbl> & <dbl> & <dbl> & <dbl> & <dbl> & <dbl> & <dbl> & <dbl> & <dbl> & <dbl> & <dbl> & <dbl> & <dbl> & <dbl> & <dbl> & <dbl> & <dbl> & <dbl>\\\\\n\\hline\n\t ID\\_279628684 & 190000 & 0 & 3 & 0 & 1 & 1 & 0 & 2004 & 0 & 1 & 1 & 0 & 0 & 0 & 0 & 1 & 1 & 1 & 1 & 10 & 1 & 1 & 0 & 0 & 0 & 0 & 0 & 0 & 0 & 1 & 0 & 0 & 0 & 0 & 0 & 0 & 1 & 0 & 0 & 1 & 1 & 0 & 0 & 1 & 0 & 0 & 0 & 0 & 1 & 0 & 0 & 0 & 0 & 0 & 1 & 0 & 1 & 0 & 0 & 0 & 0 & 0 & 0 & 1 & 0 & 1 & 0 & 0 & 1 & 0 & 0 & 0 & 1 & 0 & 0 & 0 & 0 & 1 & 0 & 0 & 0 & 1 & 0 & 0 & 0 & 0 & 0 & 0 & 0 & 0 & 0 & 0 & 0 & 21eb7fcc1 & 0 & 1 & 0 & 1 & no  & 10 & no & 10 & 0 & 0 & 0 & 1 & 0 & 0 & 0 & 0 & 0 & 1 & 1.000000 & 0 & 0 & 1 & 0 & 0 & 0 & 0 & 1 & 1 & 1 & 0 & 0 & 0 & 0 & 0 & 1 & 0 & 43 & 100 & 1849 &  1 & 100 & 0 & 1.000000 &  0 & 100 & 1849 & 4\\\\\n\t ID\\_f29eb3ddd & 135000 & 0 & 4 & 0 & 1 & 1 & 1 &    1 & 0 & 1 & 1 & 0 & 0 & 0 & 0 & 1 & 1 & 1 & 1 & 12 & 1 & 0 & 0 & 0 & 0 & 1 & 0 & 0 & 0 & 0 & 0 & 0 & 0 & 0 & 1 & 1 & 0 & 0 & 0 & 1 & 1 & 0 & 0 & 1 & 0 & 0 & 0 & 0 & 1 & 0 & 0 & 0 & 0 & 1 & 0 & 0 & 1 & 0 & 0 & 0 & 0 & 0 & 0 & 1 & 0 & 0 & 1 & 0 & 0 & 1 & 0 & 0 & 1 & 0 & 0 & 0 & 0 & 1 & 0 & 0 & 0 & 1 & 0 & 0 & 0 & 0 & 0 & 0 & 0 & 0 & 0 & 0 & 0 & 0e5d7a658 & 0 & 1 & 1 & 1 & 8   & 12 & no & 12 & 0 & 0 & 0 & 0 & 0 & 0 & 0 & 1 & 0 & 1 & 1.000000 & 0 & 0 & 1 & 0 & 0 & 0 & 0 & 1 & 1 & 1 & 0 & 0 & 0 & 0 & 0 & 1 & 0 & 67 & 144 & 4489 &  1 & 144 & 0 & 1.000000 & 64 & 144 & 4489 & 4\\\\\n\t ID\\_68de51c94 &   1913 & 0 & 8 & 0 & 1 & 1 & 0 & 2004 & 0 & 0 & 0 & 0 & 1 & 1 & 0 & 1 & 1 & 1 & 1 & 11 & 1 & 0 & 0 & 0 & 0 & 1 & 0 & 0 & 0 & 1 & 0 & 0 & 0 & 0 & 0 & 1 & 0 & 0 & 0 & 1 & 1 & 0 & 0 & 1 & 0 & 0 & 0 & 0 & 1 & 0 & 0 & 0 & 0 & 1 & 0 & 0 & 1 & 0 & 0 & 0 & 0 & 0 & 0 & 1 & 0 & 0 & 0 & 1 & 0 & 0 & 1 & 1 & 0 & 1 & 0 & 0 & 0 & 0 & 0 & 1 & 0 & 1 & 0 & 0 & 0 & 0 & 0 & 0 & 0 & 0 & 0 & 0 & 0 & 2c7317ea8 & 0 & 1 & 1 & 1 & 8   & no & 11 & 11 & 0 & 0 & 0 & 0 & 1 & 0 & 0 & 0 & 0 & 2 & 0.500000 & 1 & 0 & 0 & 0 & 0 & 0 & 0 & 0 & 0 & 1 & 0 & 0 & 0 & 0 & 0 & 1 & 0 & 92 & 121 & 8464 &  1 &   0 & 0 & 0.250000 & 64 & 121 & 8464 & 4\\\\\n\t ID\\_d671db89c & 180000 & 0 & 5 & 0 & 1 & 1 & 1 &    1 & 0 & 2 & 2 & 1 & 1 & 2 & 1 & 3 & 4 & 4 & 4 &  9 & 4 & 1 & 0 & 0 & 0 & 0 & 0 & 0 & 0 & 1 & 0 & 0 & 0 & 0 & 0 & 1 & 0 & 0 & 0 & 1 & 1 & 0 & 0 & 1 & 0 & 0 & 0 & 0 & 1 & 0 & 0 & 0 & 0 & 1 & 0 & 0 & 1 & 0 & 0 & 0 & 0 & 0 & 0 & 0 & 1 & 0 & 0 & 1 & 0 & 0 & 1 & 0 & 1 & 0 & 0 & 0 & 0 & 0 & 0 & 0 & 1 & 0 & 0 & 1 & 0 & 0 & 0 & 0 & 0 & 0 & 0 & 0 & 0 & 2b58d945f & 2 & 2 & 0 & 4 & yes & 11 & no & 11 & 0 & 0 & 0 & 1 & 0 & 0 & 0 & 0 & 0 & 3 & 1.333333 & 0 & 0 & 1 & 0 & 0 & 0 & 0 & 1 & 3 & 1 & 0 & 0 & 0 & 0 & 0 & 1 & 0 & 17 &  81 &  289 & 16 & 121 & 4 & 1.777778 &  1 & 121 &  289 & 4\\\\\n\t ID\\_d56d6f5f5 & 180000 & 0 & 5 & 0 & 1 & 1 & 1 &    1 & 0 & 2 & 2 & 1 & 1 & 2 & 1 & 3 & 4 & 4 & 4 & 11 & 4 & 1 & 0 & 0 & 0 & 0 & 0 & 0 & 0 & 1 & 0 & 0 & 0 & 0 & 0 & 1 & 0 & 0 & 0 & 1 & 1 & 0 & 0 & 1 & 0 & 0 & 0 & 0 & 1 & 0 & 0 & 0 & 0 & 1 & 0 & 0 & 1 & 0 & 0 & 0 & 0 & 0 & 0 & 0 & 1 & 0 & 0 & 1 & 0 & 0 & 1 & 0 & 0 & 1 & 0 & 1 & 0 & 0 & 0 & 0 & 0 & 0 & 1 & 0 & 0 & 0 & 0 & 0 & 0 & 0 & 0 & 0 & 0 & 2b58d945f & 2 & 2 & 0 & 4 & yes & 11 & no & 11 & 0 & 0 & 0 & 0 & 1 & 0 & 0 & 0 & 0 & 3 & 1.333333 & 0 & 0 & 1 & 0 & 0 & 0 & 0 & 1 & 3 & 1 & 0 & 0 & 0 & 0 & 0 & 1 & 0 & 37 & 121 & 1369 & 16 & 121 & 4 & 1.777778 &  1 & 121 & 1369 & 4\\\\\n\t ID\\_ec05b1a7b & 180000 & 0 & 5 & 0 & 1 & 1 & 1 &    1 & 0 & 2 & 2 & 1 & 1 & 2 & 1 & 3 & 4 & 4 & 4 & 11 & 4 & 1 & 0 & 0 & 0 & 0 & 0 & 0 & 0 & 1 & 0 & 0 & 0 & 0 & 0 & 1 & 0 & 0 & 0 & 1 & 1 & 0 & 0 & 1 & 0 & 0 & 0 & 0 & 1 & 0 & 0 & 0 & 0 & 1 & 0 & 0 & 1 & 0 & 0 & 0 & 0 & 0 & 0 & 0 & 1 & 0 & 0 & 1 & 0 & 0 & 1 & 0 & 1 & 0 & 0 & 1 & 0 & 0 & 0 & 0 & 0 & 1 & 0 & 0 & 0 & 0 & 0 & 0 & 0 & 0 & 0 & 0 & 0 & 2b58d945f & 2 & 2 & 0 & 4 & yes & 11 & no & 11 & 0 & 0 & 0 & 0 & 1 & 0 & 0 & 0 & 0 & 3 & 1.333333 & 0 & 0 & 1 & 0 & 0 & 0 & 0 & 1 & 3 & 1 & 0 & 0 & 0 & 0 & 0 & 1 & 0 & 38 & 121 & 1444 & 16 & 121 & 4 & 1.777778 &  1 & 121 & 1444 & 4\\\\\n\\end{tabular}\n",
            "text/markdown": "\nA tibble: 6 × 142\n\n| Id &lt;chr&gt; | v2a1 &lt;dbl&gt; | hacdor &lt;dbl&gt; | rooms &lt;dbl&gt; | hacapo &lt;dbl&gt; | v14a &lt;dbl&gt; | refrig &lt;dbl&gt; | v18q &lt;dbl&gt; | v18q1 &lt;dbl&gt; | r4h1 &lt;dbl&gt; | r4h2 &lt;dbl&gt; | r4h3 &lt;dbl&gt; | r4m1 &lt;dbl&gt; | r4m2 &lt;dbl&gt; | r4m3 &lt;dbl&gt; | r4t1 &lt;dbl&gt; | r4t2 &lt;dbl&gt; | r4t3 &lt;dbl&gt; | tamhog &lt;dbl&gt; | tamviv &lt;dbl&gt; | escolari &lt;dbl&gt; | hhsize &lt;dbl&gt; | paredblolad &lt;dbl&gt; | paredzocalo &lt;dbl&gt; | paredpreb &lt;dbl&gt; | pareddes &lt;dbl&gt; | paredmad &lt;dbl&gt; | paredzinc &lt;dbl&gt; | paredfibras &lt;dbl&gt; | paredother &lt;dbl&gt; | pisomoscer &lt;dbl&gt; | pisocemento &lt;dbl&gt; | pisoother &lt;dbl&gt; | pisonatur &lt;dbl&gt; | pisonotiene &lt;dbl&gt; | pisomadera &lt;dbl&gt; | techozinc &lt;dbl&gt; | techoentrepiso &lt;dbl&gt; | techocane &lt;dbl&gt; | techootro &lt;dbl&gt; | cielorazo &lt;dbl&gt; | abastaguadentro &lt;dbl&gt; | abastaguafuera &lt;dbl&gt; | abastaguano &lt;dbl&gt; | public &lt;dbl&gt; | planpri &lt;dbl&gt; | noelec &lt;dbl&gt; | coopele &lt;dbl&gt; | sanitario1 &lt;dbl&gt; | sanitario2 &lt;dbl&gt; | sanitario3 &lt;dbl&gt; | sanitario5 &lt;dbl&gt; | sanitario6 &lt;dbl&gt; | energcocinar1 &lt;dbl&gt; | energcocinar2 &lt;dbl&gt; | energcocinar3 &lt;dbl&gt; | energcocinar4 &lt;dbl&gt; | elimbasu1 &lt;dbl&gt; | elimbasu2 &lt;dbl&gt; | elimbasu3 &lt;dbl&gt; | elimbasu4 &lt;dbl&gt; | elimbasu5 &lt;dbl&gt; | elimbasu6 &lt;dbl&gt; | epared1 &lt;dbl&gt; | epared2 &lt;dbl&gt; | epared3 &lt;dbl&gt; | etecho1 &lt;dbl&gt; | etecho2 &lt;dbl&gt; | etecho3 &lt;dbl&gt; | eviv1 &lt;dbl&gt; | eviv2 &lt;dbl&gt; | eviv3 &lt;dbl&gt; | dis &lt;dbl&gt; | male &lt;dbl&gt; | female &lt;dbl&gt; | estadocivil1 &lt;dbl&gt; | estadocivil2 &lt;dbl&gt; | estadocivil3 &lt;dbl&gt; | estadocivil4 &lt;dbl&gt; | estadocivil5 &lt;dbl&gt; | estadocivil6 &lt;dbl&gt; | estadocivil7 &lt;dbl&gt; | parentesco1 &lt;dbl&gt; | parentesco2 &lt;dbl&gt; | parentesco3 &lt;dbl&gt; | parentesco4 &lt;dbl&gt; | parentesco5 &lt;dbl&gt; | parentesco6 &lt;dbl&gt; | parentesco7 &lt;dbl&gt; | parentesco8 &lt;dbl&gt; | parentesco9 &lt;dbl&gt; | parentesco10 &lt;dbl&gt; | parentesco11 &lt;dbl&gt; | parentesco12 &lt;dbl&gt; | idhogar &lt;chr&gt; | hogar_nin &lt;dbl&gt; | hogar_adul &lt;dbl&gt; | hogar_mayor &lt;dbl&gt; | hogar_total &lt;dbl&gt; | dependency &lt;chr&gt; | edjefe &lt;chr&gt; | edjefa &lt;chr&gt; | meaneduc &lt;dbl&gt; | instlevel1 &lt;dbl&gt; | instlevel2 &lt;dbl&gt; | instlevel3 &lt;dbl&gt; | instlevel4 &lt;dbl&gt; | instlevel5 &lt;dbl&gt; | instlevel6 &lt;dbl&gt; | instlevel7 &lt;dbl&gt; | instlevel8 &lt;dbl&gt; | instlevel9 &lt;dbl&gt; | bedrooms &lt;dbl&gt; | overcrowding &lt;dbl&gt; | tipovivi1 &lt;dbl&gt; | tipovivi2 &lt;dbl&gt; | tipovivi3 &lt;dbl&gt; | tipovivi4 &lt;dbl&gt; | tipovivi5 &lt;dbl&gt; | computer &lt;dbl&gt; | television &lt;dbl&gt; | mobilephone &lt;dbl&gt; | qmobilephone &lt;dbl&gt; | lugar1 &lt;dbl&gt; | lugar2 &lt;dbl&gt; | lugar3 &lt;dbl&gt; | lugar4 &lt;dbl&gt; | lugar5 &lt;dbl&gt; | lugar6 &lt;dbl&gt; | area1 &lt;dbl&gt; | area2 &lt;dbl&gt; | age &lt;dbl&gt; | SQBescolari &lt;dbl&gt; | SQBage &lt;dbl&gt; | SQBhogar_total &lt;dbl&gt; | SQBedjefe &lt;dbl&gt; | SQBhogar_nin &lt;dbl&gt; | SQBovercrowding &lt;dbl&gt; | SQBdependency &lt;dbl&gt; | SQBmeaned &lt;dbl&gt; | agesq &lt;dbl&gt; | Target &lt;dbl&gt; |\n|---|---|---|---|---|---|---|---|---|---|---|---|---|---|---|---|---|---|---|---|---|---|---|---|---|---|---|---|---|---|---|---|---|---|---|---|---|---|---|---|---|---|---|---|---|---|---|---|---|---|---|---|---|---|---|---|---|---|---|---|---|---|---|---|---|---|---|---|---|---|---|---|---|---|---|---|---|---|---|---|---|---|---|---|---|---|---|---|---|---|---|---|---|---|---|---|---|---|---|---|---|---|---|---|---|---|---|---|---|---|---|---|---|---|---|---|---|---|---|---|---|---|---|---|---|---|---|---|---|---|---|---|---|---|---|---|---|---|---|---|---|---|\n| ID_279628684 | 190000 | 0 | 3 | 0 | 1 | 1 | 0 | 2004 | 0 | 1 | 1 | 0 | 0 | 0 | 0 | 1 | 1 | 1 | 1 | 10 | 1 | 1 | 0 | 0 | 0 | 0 | 0 | 0 | 0 | 1 | 0 | 0 | 0 | 0 | 0 | 0 | 1 | 0 | 0 | 1 | 1 | 0 | 0 | 1 | 0 | 0 | 0 | 0 | 1 | 0 | 0 | 0 | 0 | 0 | 1 | 0 | 1 | 0 | 0 | 0 | 0 | 0 | 0 | 1 | 0 | 1 | 0 | 0 | 1 | 0 | 0 | 0 | 1 | 0 | 0 | 0 | 0 | 1 | 0 | 0 | 0 | 1 | 0 | 0 | 0 | 0 | 0 | 0 | 0 | 0 | 0 | 0 | 0 | 21eb7fcc1 | 0 | 1 | 0 | 1 | no  | 10 | no | 10 | 0 | 0 | 0 | 1 | 0 | 0 | 0 | 0 | 0 | 1 | 1.000000 | 0 | 0 | 1 | 0 | 0 | 0 | 0 | 1 | 1 | 1 | 0 | 0 | 0 | 0 | 0 | 1 | 0 | 43 | 100 | 1849 |  1 | 100 | 0 | 1.000000 |  0 | 100 | 1849 | 4 |\n| ID_f29eb3ddd | 135000 | 0 | 4 | 0 | 1 | 1 | 1 |    1 | 0 | 1 | 1 | 0 | 0 | 0 | 0 | 1 | 1 | 1 | 1 | 12 | 1 | 0 | 0 | 0 | 0 | 1 | 0 | 0 | 0 | 0 | 0 | 0 | 0 | 0 | 1 | 1 | 0 | 0 | 0 | 1 | 1 | 0 | 0 | 1 | 0 | 0 | 0 | 0 | 1 | 0 | 0 | 0 | 0 | 1 | 0 | 0 | 1 | 0 | 0 | 0 | 0 | 0 | 0 | 1 | 0 | 0 | 1 | 0 | 0 | 1 | 0 | 0 | 1 | 0 | 0 | 0 | 0 | 1 | 0 | 0 | 0 | 1 | 0 | 0 | 0 | 0 | 0 | 0 | 0 | 0 | 0 | 0 | 0 | 0e5d7a658 | 0 | 1 | 1 | 1 | 8   | 12 | no | 12 | 0 | 0 | 0 | 0 | 0 | 0 | 0 | 1 | 0 | 1 | 1.000000 | 0 | 0 | 1 | 0 | 0 | 0 | 0 | 1 | 1 | 1 | 0 | 0 | 0 | 0 | 0 | 1 | 0 | 67 | 144 | 4489 |  1 | 144 | 0 | 1.000000 | 64 | 144 | 4489 | 4 |\n| ID_68de51c94 |   1913 | 0 | 8 | 0 | 1 | 1 | 0 | 2004 | 0 | 0 | 0 | 0 | 1 | 1 | 0 | 1 | 1 | 1 | 1 | 11 | 1 | 0 | 0 | 0 | 0 | 1 | 0 | 0 | 0 | 1 | 0 | 0 | 0 | 0 | 0 | 1 | 0 | 0 | 0 | 1 | 1 | 0 | 0 | 1 | 0 | 0 | 0 | 0 | 1 | 0 | 0 | 0 | 0 | 1 | 0 | 0 | 1 | 0 | 0 | 0 | 0 | 0 | 0 | 1 | 0 | 0 | 0 | 1 | 0 | 0 | 1 | 1 | 0 | 1 | 0 | 0 | 0 | 0 | 0 | 1 | 0 | 1 | 0 | 0 | 0 | 0 | 0 | 0 | 0 | 0 | 0 | 0 | 0 | 2c7317ea8 | 0 | 1 | 1 | 1 | 8   | no | 11 | 11 | 0 | 0 | 0 | 0 | 1 | 0 | 0 | 0 | 0 | 2 | 0.500000 | 1 | 0 | 0 | 0 | 0 | 0 | 0 | 0 | 0 | 1 | 0 | 0 | 0 | 0 | 0 | 1 | 0 | 92 | 121 | 8464 |  1 |   0 | 0 | 0.250000 | 64 | 121 | 8464 | 4 |\n| ID_d671db89c | 180000 | 0 | 5 | 0 | 1 | 1 | 1 |    1 | 0 | 2 | 2 | 1 | 1 | 2 | 1 | 3 | 4 | 4 | 4 |  9 | 4 | 1 | 0 | 0 | 0 | 0 | 0 | 0 | 0 | 1 | 0 | 0 | 0 | 0 | 0 | 1 | 0 | 0 | 0 | 1 | 1 | 0 | 0 | 1 | 0 | 0 | 0 | 0 | 1 | 0 | 0 | 0 | 0 | 1 | 0 | 0 | 1 | 0 | 0 | 0 | 0 | 0 | 0 | 0 | 1 | 0 | 0 | 1 | 0 | 0 | 1 | 0 | 1 | 0 | 0 | 0 | 0 | 0 | 0 | 0 | 1 | 0 | 0 | 1 | 0 | 0 | 0 | 0 | 0 | 0 | 0 | 0 | 0 | 2b58d945f | 2 | 2 | 0 | 4 | yes | 11 | no | 11 | 0 | 0 | 0 | 1 | 0 | 0 | 0 | 0 | 0 | 3 | 1.333333 | 0 | 0 | 1 | 0 | 0 | 0 | 0 | 1 | 3 | 1 | 0 | 0 | 0 | 0 | 0 | 1 | 0 | 17 |  81 |  289 | 16 | 121 | 4 | 1.777778 |  1 | 121 |  289 | 4 |\n| ID_d56d6f5f5 | 180000 | 0 | 5 | 0 | 1 | 1 | 1 |    1 | 0 | 2 | 2 | 1 | 1 | 2 | 1 | 3 | 4 | 4 | 4 | 11 | 4 | 1 | 0 | 0 | 0 | 0 | 0 | 0 | 0 | 1 | 0 | 0 | 0 | 0 | 0 | 1 | 0 | 0 | 0 | 1 | 1 | 0 | 0 | 1 | 0 | 0 | 0 | 0 | 1 | 0 | 0 | 0 | 0 | 1 | 0 | 0 | 1 | 0 | 0 | 0 | 0 | 0 | 0 | 0 | 1 | 0 | 0 | 1 | 0 | 0 | 1 | 0 | 0 | 1 | 0 | 1 | 0 | 0 | 0 | 0 | 0 | 0 | 1 | 0 | 0 | 0 | 0 | 0 | 0 | 0 | 0 | 0 | 0 | 2b58d945f | 2 | 2 | 0 | 4 | yes | 11 | no | 11 | 0 | 0 | 0 | 0 | 1 | 0 | 0 | 0 | 0 | 3 | 1.333333 | 0 | 0 | 1 | 0 | 0 | 0 | 0 | 1 | 3 | 1 | 0 | 0 | 0 | 0 | 0 | 1 | 0 | 37 | 121 | 1369 | 16 | 121 | 4 | 1.777778 |  1 | 121 | 1369 | 4 |\n| ID_ec05b1a7b | 180000 | 0 | 5 | 0 | 1 | 1 | 1 |    1 | 0 | 2 | 2 | 1 | 1 | 2 | 1 | 3 | 4 | 4 | 4 | 11 | 4 | 1 | 0 | 0 | 0 | 0 | 0 | 0 | 0 | 1 | 0 | 0 | 0 | 0 | 0 | 1 | 0 | 0 | 0 | 1 | 1 | 0 | 0 | 1 | 0 | 0 | 0 | 0 | 1 | 0 | 0 | 0 | 0 | 1 | 0 | 0 | 1 | 0 | 0 | 0 | 0 | 0 | 0 | 0 | 1 | 0 | 0 | 1 | 0 | 0 | 1 | 0 | 1 | 0 | 0 | 1 | 0 | 0 | 0 | 0 | 0 | 1 | 0 | 0 | 0 | 0 | 0 | 0 | 0 | 0 | 0 | 0 | 0 | 2b58d945f | 2 | 2 | 0 | 4 | yes | 11 | no | 11 | 0 | 0 | 0 | 0 | 1 | 0 | 0 | 0 | 0 | 3 | 1.333333 | 0 | 0 | 1 | 0 | 0 | 0 | 0 | 1 | 3 | 1 | 0 | 0 | 0 | 0 | 0 | 1 | 0 | 38 | 121 | 1444 | 16 | 121 | 4 | 1.777778 |  1 | 121 | 1444 | 4 |\n\n",
            "text/html": [
              "<table class=\"dataframe\">\n",
              "<caption>A tibble: 6 × 142</caption>\n",
              "<thead>\n",
              "\t<tr><th scope=col>Id</th><th scope=col>v2a1</th><th scope=col>hacdor</th><th scope=col>rooms</th><th scope=col>hacapo</th><th scope=col>v14a</th><th scope=col>refrig</th><th scope=col>v18q</th><th scope=col>v18q1</th><th scope=col>r4h1</th><th scope=col>r4h2</th><th scope=col>r4h3</th><th scope=col>r4m1</th><th scope=col>r4m2</th><th scope=col>r4m3</th><th scope=col>r4t1</th><th scope=col>r4t2</th><th scope=col>r4t3</th><th scope=col>tamhog</th><th scope=col>tamviv</th><th scope=col>escolari</th><th scope=col>hhsize</th><th scope=col>paredblolad</th><th scope=col>paredzocalo</th><th scope=col>paredpreb</th><th scope=col>pareddes</th><th scope=col>paredmad</th><th scope=col>paredzinc</th><th scope=col>paredfibras</th><th scope=col>paredother</th><th scope=col>pisomoscer</th><th scope=col>pisocemento</th><th scope=col>pisoother</th><th scope=col>pisonatur</th><th scope=col>pisonotiene</th><th scope=col>pisomadera</th><th scope=col>techozinc</th><th scope=col>techoentrepiso</th><th scope=col>techocane</th><th scope=col>techootro</th><th scope=col>cielorazo</th><th scope=col>abastaguadentro</th><th scope=col>abastaguafuera</th><th scope=col>abastaguano</th><th scope=col>public</th><th scope=col>planpri</th><th scope=col>noelec</th><th scope=col>coopele</th><th scope=col>sanitario1</th><th scope=col>sanitario2</th><th scope=col>sanitario3</th><th scope=col>sanitario5</th><th scope=col>sanitario6</th><th scope=col>energcocinar1</th><th scope=col>energcocinar2</th><th scope=col>energcocinar3</th><th scope=col>energcocinar4</th><th scope=col>elimbasu1</th><th scope=col>elimbasu2</th><th scope=col>elimbasu3</th><th scope=col>elimbasu4</th><th scope=col>elimbasu5</th><th scope=col>elimbasu6</th><th scope=col>epared1</th><th scope=col>epared2</th><th scope=col>epared3</th><th scope=col>etecho1</th><th scope=col>etecho2</th><th scope=col>etecho3</th><th scope=col>eviv1</th><th scope=col>eviv2</th><th scope=col>eviv3</th><th scope=col>dis</th><th scope=col>male</th><th scope=col>female</th><th scope=col>estadocivil1</th><th scope=col>estadocivil2</th><th scope=col>estadocivil3</th><th scope=col>estadocivil4</th><th scope=col>estadocivil5</th><th scope=col>estadocivil6</th><th scope=col>estadocivil7</th><th scope=col>parentesco1</th><th scope=col>parentesco2</th><th scope=col>parentesco3</th><th scope=col>parentesco4</th><th scope=col>parentesco5</th><th scope=col>parentesco6</th><th scope=col>parentesco7</th><th scope=col>parentesco8</th><th scope=col>parentesco9</th><th scope=col>parentesco10</th><th scope=col>parentesco11</th><th scope=col>parentesco12</th><th scope=col>idhogar</th><th scope=col>hogar_nin</th><th scope=col>hogar_adul</th><th scope=col>hogar_mayor</th><th scope=col>hogar_total</th><th scope=col>dependency</th><th scope=col>edjefe</th><th scope=col>edjefa</th><th scope=col>meaneduc</th><th scope=col>instlevel1</th><th scope=col>instlevel2</th><th scope=col>instlevel3</th><th scope=col>instlevel4</th><th scope=col>instlevel5</th><th scope=col>instlevel6</th><th scope=col>instlevel7</th><th scope=col>instlevel8</th><th scope=col>instlevel9</th><th scope=col>bedrooms</th><th scope=col>overcrowding</th><th scope=col>tipovivi1</th><th scope=col>tipovivi2</th><th scope=col>tipovivi3</th><th scope=col>tipovivi4</th><th scope=col>tipovivi5</th><th scope=col>computer</th><th scope=col>television</th><th scope=col>mobilephone</th><th scope=col>qmobilephone</th><th scope=col>lugar1</th><th scope=col>lugar2</th><th scope=col>lugar3</th><th scope=col>lugar4</th><th scope=col>lugar5</th><th scope=col>lugar6</th><th scope=col>area1</th><th scope=col>area2</th><th scope=col>age</th><th scope=col>SQBescolari</th><th scope=col>SQBage</th><th scope=col>SQBhogar_total</th><th scope=col>SQBedjefe</th><th scope=col>SQBhogar_nin</th><th scope=col>SQBovercrowding</th><th scope=col>SQBdependency</th><th scope=col>SQBmeaned</th><th scope=col>agesq</th><th scope=col>Target</th></tr>\n",
              "\t<tr><th scope=col>&lt;chr&gt;</th><th scope=col>&lt;dbl&gt;</th><th scope=col>&lt;dbl&gt;</th><th scope=col>&lt;dbl&gt;</th><th scope=col>&lt;dbl&gt;</th><th scope=col>&lt;dbl&gt;</th><th scope=col>&lt;dbl&gt;</th><th scope=col>&lt;dbl&gt;</th><th scope=col>&lt;dbl&gt;</th><th scope=col>&lt;dbl&gt;</th><th scope=col>&lt;dbl&gt;</th><th scope=col>&lt;dbl&gt;</th><th scope=col>&lt;dbl&gt;</th><th scope=col>&lt;dbl&gt;</th><th scope=col>&lt;dbl&gt;</th><th scope=col>&lt;dbl&gt;</th><th scope=col>&lt;dbl&gt;</th><th scope=col>&lt;dbl&gt;</th><th scope=col>&lt;dbl&gt;</th><th scope=col>&lt;dbl&gt;</th><th scope=col>&lt;dbl&gt;</th><th scope=col>&lt;dbl&gt;</th><th scope=col>&lt;dbl&gt;</th><th scope=col>&lt;dbl&gt;</th><th scope=col>&lt;dbl&gt;</th><th scope=col>&lt;dbl&gt;</th><th scope=col>&lt;dbl&gt;</th><th scope=col>&lt;dbl&gt;</th><th scope=col>&lt;dbl&gt;</th><th scope=col>&lt;dbl&gt;</th><th scope=col>&lt;dbl&gt;</th><th scope=col>&lt;dbl&gt;</th><th scope=col>&lt;dbl&gt;</th><th scope=col>&lt;dbl&gt;</th><th scope=col>&lt;dbl&gt;</th><th scope=col>&lt;dbl&gt;</th><th scope=col>&lt;dbl&gt;</th><th scope=col>&lt;dbl&gt;</th><th scope=col>&lt;dbl&gt;</th><th scope=col>&lt;dbl&gt;</th><th scope=col>&lt;dbl&gt;</th><th scope=col>&lt;dbl&gt;</th><th scope=col>&lt;dbl&gt;</th><th scope=col>&lt;dbl&gt;</th><th scope=col>&lt;dbl&gt;</th><th scope=col>&lt;dbl&gt;</th><th scope=col>&lt;dbl&gt;</th><th scope=col>&lt;dbl&gt;</th><th scope=col>&lt;dbl&gt;</th><th scope=col>&lt;dbl&gt;</th><th scope=col>&lt;dbl&gt;</th><th scope=col>&lt;dbl&gt;</th><th scope=col>&lt;dbl&gt;</th><th scope=col>&lt;dbl&gt;</th><th scope=col>&lt;dbl&gt;</th><th scope=col>&lt;dbl&gt;</th><th scope=col>&lt;dbl&gt;</th><th scope=col>&lt;dbl&gt;</th><th scope=col>&lt;dbl&gt;</th><th scope=col>&lt;dbl&gt;</th><th scope=col>&lt;dbl&gt;</th><th scope=col>&lt;dbl&gt;</th><th scope=col>&lt;dbl&gt;</th><th scope=col>&lt;dbl&gt;</th><th scope=col>&lt;dbl&gt;</th><th scope=col>&lt;dbl&gt;</th><th scope=col>&lt;dbl&gt;</th><th scope=col>&lt;dbl&gt;</th><th scope=col>&lt;dbl&gt;</th><th scope=col>&lt;dbl&gt;</th><th scope=col>&lt;dbl&gt;</th><th scope=col>&lt;dbl&gt;</th><th scope=col>&lt;dbl&gt;</th><th scope=col>&lt;dbl&gt;</th><th scope=col>&lt;dbl&gt;</th><th scope=col>&lt;dbl&gt;</th><th scope=col>&lt;dbl&gt;</th><th scope=col>&lt;dbl&gt;</th><th scope=col>&lt;dbl&gt;</th><th scope=col>&lt;dbl&gt;</th><th scope=col>&lt;dbl&gt;</th><th scope=col>&lt;dbl&gt;</th><th scope=col>&lt;dbl&gt;</th><th scope=col>&lt;dbl&gt;</th><th scope=col>&lt;dbl&gt;</th><th scope=col>&lt;dbl&gt;</th><th scope=col>&lt;dbl&gt;</th><th scope=col>&lt;dbl&gt;</th><th scope=col>&lt;dbl&gt;</th><th scope=col>&lt;dbl&gt;</th><th scope=col>&lt;dbl&gt;</th><th scope=col>&lt;dbl&gt;</th><th scope=col>&lt;dbl&gt;</th><th scope=col>&lt;dbl&gt;</th><th scope=col>&lt;chr&gt;</th><th scope=col>&lt;dbl&gt;</th><th scope=col>&lt;dbl&gt;</th><th scope=col>&lt;dbl&gt;</th><th scope=col>&lt;dbl&gt;</th><th scope=col>&lt;chr&gt;</th><th scope=col>&lt;chr&gt;</th><th scope=col>&lt;chr&gt;</th><th scope=col>&lt;dbl&gt;</th><th scope=col>&lt;dbl&gt;</th><th scope=col>&lt;dbl&gt;</th><th scope=col>&lt;dbl&gt;</th><th scope=col>&lt;dbl&gt;</th><th scope=col>&lt;dbl&gt;</th><th scope=col>&lt;dbl&gt;</th><th scope=col>&lt;dbl&gt;</th><th scope=col>&lt;dbl&gt;</th><th scope=col>&lt;dbl&gt;</th><th scope=col>&lt;dbl&gt;</th><th scope=col>&lt;dbl&gt;</th><th scope=col>&lt;dbl&gt;</th><th scope=col>&lt;dbl&gt;</th><th scope=col>&lt;dbl&gt;</th><th scope=col>&lt;dbl&gt;</th><th scope=col>&lt;dbl&gt;</th><th scope=col>&lt;dbl&gt;</th><th scope=col>&lt;dbl&gt;</th><th scope=col>&lt;dbl&gt;</th><th scope=col>&lt;dbl&gt;</th><th scope=col>&lt;dbl&gt;</th><th scope=col>&lt;dbl&gt;</th><th scope=col>&lt;dbl&gt;</th><th scope=col>&lt;dbl&gt;</th><th scope=col>&lt;dbl&gt;</th><th scope=col>&lt;dbl&gt;</th><th scope=col>&lt;dbl&gt;</th><th scope=col>&lt;dbl&gt;</th><th scope=col>&lt;dbl&gt;</th><th scope=col>&lt;dbl&gt;</th><th scope=col>&lt;dbl&gt;</th><th scope=col>&lt;dbl&gt;</th><th scope=col>&lt;dbl&gt;</th><th scope=col>&lt;dbl&gt;</th><th scope=col>&lt;dbl&gt;</th><th scope=col>&lt;dbl&gt;</th><th scope=col>&lt;dbl&gt;</th><th scope=col>&lt;dbl&gt;</th><th scope=col>&lt;dbl&gt;</th></tr>\n",
              "</thead>\n",
              "<tbody>\n",
              "\t<tr><td>ID_279628684</td><td>190000</td><td>0</td><td>3</td><td>0</td><td>1</td><td>1</td><td>0</td><td>2004</td><td>0</td><td>1</td><td>1</td><td>0</td><td>0</td><td>0</td><td>0</td><td>1</td><td>1</td><td>1</td><td>1</td><td>10</td><td>1</td><td>1</td><td>0</td><td>0</td><td>0</td><td>0</td><td>0</td><td>0</td><td>0</td><td>1</td><td>0</td><td>0</td><td>0</td><td>0</td><td>0</td><td>0</td><td>1</td><td>0</td><td>0</td><td>1</td><td>1</td><td>0</td><td>0</td><td>1</td><td>0</td><td>0</td><td>0</td><td>0</td><td>1</td><td>0</td><td>0</td><td>0</td><td>0</td><td>0</td><td>1</td><td>0</td><td>1</td><td>0</td><td>0</td><td>0</td><td>0</td><td>0</td><td>0</td><td>1</td><td>0</td><td>1</td><td>0</td><td>0</td><td>1</td><td>0</td><td>0</td><td>0</td><td>1</td><td>0</td><td>0</td><td>0</td><td>0</td><td>1</td><td>0</td><td>0</td><td>0</td><td>1</td><td>0</td><td>0</td><td>0</td><td>0</td><td>0</td><td>0</td><td>0</td><td>0</td><td>0</td><td>0</td><td>0</td><td>21eb7fcc1</td><td>0</td><td>1</td><td>0</td><td>1</td><td>no </td><td>10</td><td>no</td><td>10</td><td>0</td><td>0</td><td>0</td><td>1</td><td>0</td><td>0</td><td>0</td><td>0</td><td>0</td><td>1</td><td>1.000000</td><td>0</td><td>0</td><td>1</td><td>0</td><td>0</td><td>0</td><td>0</td><td>1</td><td>1</td><td>1</td><td>0</td><td>0</td><td>0</td><td>0</td><td>0</td><td>1</td><td>0</td><td>43</td><td>100</td><td>1849</td><td> 1</td><td>100</td><td>0</td><td>1.000000</td><td> 0</td><td>100</td><td>1849</td><td>4</td></tr>\n",
              "\t<tr><td>ID_f29eb3ddd</td><td>135000</td><td>0</td><td>4</td><td>0</td><td>1</td><td>1</td><td>1</td><td>   1</td><td>0</td><td>1</td><td>1</td><td>0</td><td>0</td><td>0</td><td>0</td><td>1</td><td>1</td><td>1</td><td>1</td><td>12</td><td>1</td><td>0</td><td>0</td><td>0</td><td>0</td><td>1</td><td>0</td><td>0</td><td>0</td><td>0</td><td>0</td><td>0</td><td>0</td><td>0</td><td>1</td><td>1</td><td>0</td><td>0</td><td>0</td><td>1</td><td>1</td><td>0</td><td>0</td><td>1</td><td>0</td><td>0</td><td>0</td><td>0</td><td>1</td><td>0</td><td>0</td><td>0</td><td>0</td><td>1</td><td>0</td><td>0</td><td>1</td><td>0</td><td>0</td><td>0</td><td>0</td><td>0</td><td>0</td><td>1</td><td>0</td><td>0</td><td>1</td><td>0</td><td>0</td><td>1</td><td>0</td><td>0</td><td>1</td><td>0</td><td>0</td><td>0</td><td>0</td><td>1</td><td>0</td><td>0</td><td>0</td><td>1</td><td>0</td><td>0</td><td>0</td><td>0</td><td>0</td><td>0</td><td>0</td><td>0</td><td>0</td><td>0</td><td>0</td><td>0e5d7a658</td><td>0</td><td>1</td><td>1</td><td>1</td><td>8  </td><td>12</td><td>no</td><td>12</td><td>0</td><td>0</td><td>0</td><td>0</td><td>0</td><td>0</td><td>0</td><td>1</td><td>0</td><td>1</td><td>1.000000</td><td>0</td><td>0</td><td>1</td><td>0</td><td>0</td><td>0</td><td>0</td><td>1</td><td>1</td><td>1</td><td>0</td><td>0</td><td>0</td><td>0</td><td>0</td><td>1</td><td>0</td><td>67</td><td>144</td><td>4489</td><td> 1</td><td>144</td><td>0</td><td>1.000000</td><td>64</td><td>144</td><td>4489</td><td>4</td></tr>\n",
              "\t<tr><td>ID_68de51c94</td><td>  1913</td><td>0</td><td>8</td><td>0</td><td>1</td><td>1</td><td>0</td><td>2004</td><td>0</td><td>0</td><td>0</td><td>0</td><td>1</td><td>1</td><td>0</td><td>1</td><td>1</td><td>1</td><td>1</td><td>11</td><td>1</td><td>0</td><td>0</td><td>0</td><td>0</td><td>1</td><td>0</td><td>0</td><td>0</td><td>1</td><td>0</td><td>0</td><td>0</td><td>0</td><td>0</td><td>1</td><td>0</td><td>0</td><td>0</td><td>1</td><td>1</td><td>0</td><td>0</td><td>1</td><td>0</td><td>0</td><td>0</td><td>0</td><td>1</td><td>0</td><td>0</td><td>0</td><td>0</td><td>1</td><td>0</td><td>0</td><td>1</td><td>0</td><td>0</td><td>0</td><td>0</td><td>0</td><td>0</td><td>1</td><td>0</td><td>0</td><td>0</td><td>1</td><td>0</td><td>0</td><td>1</td><td>1</td><td>0</td><td>1</td><td>0</td><td>0</td><td>0</td><td>0</td><td>0</td><td>1</td><td>0</td><td>1</td><td>0</td><td>0</td><td>0</td><td>0</td><td>0</td><td>0</td><td>0</td><td>0</td><td>0</td><td>0</td><td>0</td><td>2c7317ea8</td><td>0</td><td>1</td><td>1</td><td>1</td><td>8  </td><td>no</td><td>11</td><td>11</td><td>0</td><td>0</td><td>0</td><td>0</td><td>1</td><td>0</td><td>0</td><td>0</td><td>0</td><td>2</td><td>0.500000</td><td>1</td><td>0</td><td>0</td><td>0</td><td>0</td><td>0</td><td>0</td><td>0</td><td>0</td><td>1</td><td>0</td><td>0</td><td>0</td><td>0</td><td>0</td><td>1</td><td>0</td><td>92</td><td>121</td><td>8464</td><td> 1</td><td>  0</td><td>0</td><td>0.250000</td><td>64</td><td>121</td><td>8464</td><td>4</td></tr>\n",
              "\t<tr><td>ID_d671db89c</td><td>180000</td><td>0</td><td>5</td><td>0</td><td>1</td><td>1</td><td>1</td><td>   1</td><td>0</td><td>2</td><td>2</td><td>1</td><td>1</td><td>2</td><td>1</td><td>3</td><td>4</td><td>4</td><td>4</td><td> 9</td><td>4</td><td>1</td><td>0</td><td>0</td><td>0</td><td>0</td><td>0</td><td>0</td><td>0</td><td>1</td><td>0</td><td>0</td><td>0</td><td>0</td><td>0</td><td>1</td><td>0</td><td>0</td><td>0</td><td>1</td><td>1</td><td>0</td><td>0</td><td>1</td><td>0</td><td>0</td><td>0</td><td>0</td><td>1</td><td>0</td><td>0</td><td>0</td><td>0</td><td>1</td><td>0</td><td>0</td><td>1</td><td>0</td><td>0</td><td>0</td><td>0</td><td>0</td><td>0</td><td>0</td><td>1</td><td>0</td><td>0</td><td>1</td><td>0</td><td>0</td><td>1</td><td>0</td><td>1</td><td>0</td><td>0</td><td>0</td><td>0</td><td>0</td><td>0</td><td>0</td><td>1</td><td>0</td><td>0</td><td>1</td><td>0</td><td>0</td><td>0</td><td>0</td><td>0</td><td>0</td><td>0</td><td>0</td><td>0</td><td>2b58d945f</td><td>2</td><td>2</td><td>0</td><td>4</td><td>yes</td><td>11</td><td>no</td><td>11</td><td>0</td><td>0</td><td>0</td><td>1</td><td>0</td><td>0</td><td>0</td><td>0</td><td>0</td><td>3</td><td>1.333333</td><td>0</td><td>0</td><td>1</td><td>0</td><td>0</td><td>0</td><td>0</td><td>1</td><td>3</td><td>1</td><td>0</td><td>0</td><td>0</td><td>0</td><td>0</td><td>1</td><td>0</td><td>17</td><td> 81</td><td> 289</td><td>16</td><td>121</td><td>4</td><td>1.777778</td><td> 1</td><td>121</td><td> 289</td><td>4</td></tr>\n",
              "\t<tr><td>ID_d56d6f5f5</td><td>180000</td><td>0</td><td>5</td><td>0</td><td>1</td><td>1</td><td>1</td><td>   1</td><td>0</td><td>2</td><td>2</td><td>1</td><td>1</td><td>2</td><td>1</td><td>3</td><td>4</td><td>4</td><td>4</td><td>11</td><td>4</td><td>1</td><td>0</td><td>0</td><td>0</td><td>0</td><td>0</td><td>0</td><td>0</td><td>1</td><td>0</td><td>0</td><td>0</td><td>0</td><td>0</td><td>1</td><td>0</td><td>0</td><td>0</td><td>1</td><td>1</td><td>0</td><td>0</td><td>1</td><td>0</td><td>0</td><td>0</td><td>0</td><td>1</td><td>0</td><td>0</td><td>0</td><td>0</td><td>1</td><td>0</td><td>0</td><td>1</td><td>0</td><td>0</td><td>0</td><td>0</td><td>0</td><td>0</td><td>0</td><td>1</td><td>0</td><td>0</td><td>1</td><td>0</td><td>0</td><td>1</td><td>0</td><td>0</td><td>1</td><td>0</td><td>1</td><td>0</td><td>0</td><td>0</td><td>0</td><td>0</td><td>0</td><td>1</td><td>0</td><td>0</td><td>0</td><td>0</td><td>0</td><td>0</td><td>0</td><td>0</td><td>0</td><td>0</td><td>2b58d945f</td><td>2</td><td>2</td><td>0</td><td>4</td><td>yes</td><td>11</td><td>no</td><td>11</td><td>0</td><td>0</td><td>0</td><td>0</td><td>1</td><td>0</td><td>0</td><td>0</td><td>0</td><td>3</td><td>1.333333</td><td>0</td><td>0</td><td>1</td><td>0</td><td>0</td><td>0</td><td>0</td><td>1</td><td>3</td><td>1</td><td>0</td><td>0</td><td>0</td><td>0</td><td>0</td><td>1</td><td>0</td><td>37</td><td>121</td><td>1369</td><td>16</td><td>121</td><td>4</td><td>1.777778</td><td> 1</td><td>121</td><td>1369</td><td>4</td></tr>\n",
              "\t<tr><td>ID_ec05b1a7b</td><td>180000</td><td>0</td><td>5</td><td>0</td><td>1</td><td>1</td><td>1</td><td>   1</td><td>0</td><td>2</td><td>2</td><td>1</td><td>1</td><td>2</td><td>1</td><td>3</td><td>4</td><td>4</td><td>4</td><td>11</td><td>4</td><td>1</td><td>0</td><td>0</td><td>0</td><td>0</td><td>0</td><td>0</td><td>0</td><td>1</td><td>0</td><td>0</td><td>0</td><td>0</td><td>0</td><td>1</td><td>0</td><td>0</td><td>0</td><td>1</td><td>1</td><td>0</td><td>0</td><td>1</td><td>0</td><td>0</td><td>0</td><td>0</td><td>1</td><td>0</td><td>0</td><td>0</td><td>0</td><td>1</td><td>0</td><td>0</td><td>1</td><td>0</td><td>0</td><td>0</td><td>0</td><td>0</td><td>0</td><td>0</td><td>1</td><td>0</td><td>0</td><td>1</td><td>0</td><td>0</td><td>1</td><td>0</td><td>1</td><td>0</td><td>0</td><td>1</td><td>0</td><td>0</td><td>0</td><td>0</td><td>0</td><td>1</td><td>0</td><td>0</td><td>0</td><td>0</td><td>0</td><td>0</td><td>0</td><td>0</td><td>0</td><td>0</td><td>0</td><td>2b58d945f</td><td>2</td><td>2</td><td>0</td><td>4</td><td>yes</td><td>11</td><td>no</td><td>11</td><td>0</td><td>0</td><td>0</td><td>0</td><td>1</td><td>0</td><td>0</td><td>0</td><td>0</td><td>3</td><td>1.333333</td><td>0</td><td>0</td><td>1</td><td>0</td><td>0</td><td>0</td><td>0</td><td>1</td><td>3</td><td>1</td><td>0</td><td>0</td><td>0</td><td>0</td><td>0</td><td>1</td><td>0</td><td>38</td><td>121</td><td>1444</td><td>16</td><td>121</td><td>4</td><td>1.777778</td><td> 1</td><td>121</td><td>1444</td><td>4</td></tr>\n",
              "</tbody>\n",
              "</table>\n"
            ]
          },
          "metadata": {}
        }
      ]
    },
    {
      "cell_type": "code",
      "metadata": {
        "id": "bE0WzQBESnQ8"
      },
      "source": [
        "set.seed(101) \n",
        "smp_size <- floor(0.75 * nrow(train))\n",
        "set.seed(101)\n",
        "train_ind <- sample(seq_len(nrow(train)), size = smp_size)\n",
        "sample_train <- train[train_ind, ]\n",
        "sample_test <- train[-train_ind, ]"
      ],
      "execution_count": null,
      "outputs": []
    },
    {
      "cell_type": "code",
      "metadata": {
        "colab": {
          "base_uri": "https://localhost:8080/",
          "height": 51
        },
        "id": "2wFGblE4Vio8",
        "outputId": "34effd6d-23ff-4bb8-cfe5-484025f9f520"
      },
      "source": [
        "dim(sample_train)\n",
        "dim(sample_test)"
      ],
      "execution_count": null,
      "outputs": [
        {
          "output_type": "display_data",
          "data": {
            "text/plain": [
              "[1] 7167  143"
            ],
            "text/latex": "\\begin{enumerate*}\n\\item 7167\n\\item 143\n\\end{enumerate*}\n",
            "text/markdown": "1. 7167\n2. 143\n\n\n",
            "text/html": [
              "<style>\n",
              ".list-inline {list-style: none; margin:0; padding: 0}\n",
              ".list-inline>li {display: inline-block}\n",
              ".list-inline>li:not(:last-child)::after {content: \"\\00b7\"; padding: 0 .5ex}\n",
              "</style>\n",
              "<ol class=list-inline><li>7167</li><li>143</li></ol>\n"
            ]
          },
          "metadata": {}
        },
        {
          "output_type": "display_data",
          "data": {
            "text/plain": [
              "[1] 2390  143"
            ],
            "text/latex": "\\begin{enumerate*}\n\\item 2390\n\\item 143\n\\end{enumerate*}\n",
            "text/markdown": "1. 2390\n2. 143\n\n\n",
            "text/html": [
              "<style>\n",
              ".list-inline {list-style: none; margin:0; padding: 0}\n",
              ".list-inline>li {display: inline-block}\n",
              ".list-inline>li:not(:last-child)::after {content: \"\\00b7\"; padding: 0 .5ex}\n",
              "</style>\n",
              "<ol class=list-inline><li>2390</li><li>143</li></ol>\n"
            ]
          },
          "metadata": {}
        }
      ]
    },
    {
      "cell_type": "code",
      "metadata": {
        "id": "ONAiGekTPvZ6"
      },
      "source": [
        "# Classifying using decision tree without any preprocessing (how class imbalance affects the accuracy)\n",
        "sample_train <- subset(sample_train, select = -c(Id,idhogar))\n",
        "tree <- rpart(Target ~ ., data = sample_train)\n",
        "pred <- predict(tree, newdata = sample_test)"
      ],
      "execution_count": null,
      "outputs": []
    },
    {
      "cell_type": "code",
      "metadata": {
        "colab": {
          "base_uri": "https://localhost:8080/",
          "height": 34
        },
        "id": "yvK7HtKoXd57",
        "outputId": "f2fc0bb0-8954-4b9e-b462-d563f400a8a6"
      },
      "source": [
        "typeof(pred)"
      ],
      "execution_count": null,
      "outputs": [
        {
          "output_type": "display_data",
          "data": {
            "text/plain": [
              "[1] \"double\""
            ],
            "text/latex": "'double'",
            "text/markdown": "'double'",
            "text/html": [
              "'double'"
            ]
          },
          "metadata": {}
        }
      ]
    },
    {
      "cell_type": "code",
      "metadata": {
        "colab": {
          "base_uri": "https://localhost:8080/",
          "height": 215
        },
        "id": "FP5x91JxXUop",
        "outputId": "006e10bd-cef2-40dd-eae4-b7d40fe3d79f"
      },
      "source": [
        "install.packages(\"ROSE\")\n",
        "library(ROSE)\n",
        "accuracy.meas(sample_test$Target, pred)"
      ],
      "execution_count": null,
      "outputs": [
        {
          "output_type": "stream",
          "name": "stderr",
          "text": [
            "Installing package into ‘/usr/local/lib/R/site-library’\n",
            "(as ‘lib’ is unspecified)\n",
            "\n"
          ]
        },
        {
          "output_type": "error",
          "ename": "ERROR",
          "evalue": "ignored",
          "traceback": [
            "Error in accuracy.meas(sample_test$Target, pred): Response must have two levels.\n\nTraceback:\n",
            "1. accuracy.meas(sample_test$Target, pred)",
            "2. stop(\"Response must have two levels.\\n\")"
          ]
        }
      ]
    },
    {
      "cell_type": "code",
      "metadata": {
        "colab": {
          "base_uri": "https://localhost:8080/",
          "height": 130
        },
        "id": "1ItPsLDqX_Rc",
        "outputId": "9bd53402-9f04-4251-aa00-45918414a026"
      },
      "source": [
        "roc.curve(sample_test$Target, pred[,2], plotit = F)"
      ],
      "execution_count": null,
      "outputs": [
        {
          "output_type": "error",
          "ename": "ERROR",
          "evalue": "ignored",
          "traceback": [
            "Error in pred[, 2]: incorrect number of dimensions\nTraceback:\n",
            "1. roc.curve(sample_test$Target, pred[, 2], plotit = F)"
          ]
        }
      ]
    },
    {
      "cell_type": "markdown",
      "metadata": {
        "id": "iCkBM6aXKzID"
      },
      "source": [
        "## **Correlation between the features and Target value + Plots**"
      ]
    }
  ]
}
