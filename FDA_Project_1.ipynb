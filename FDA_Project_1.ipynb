{
  "nbformat": 4,
  "nbformat_minor": 0,
  "metadata": {
    "colab": {
      "name": "FDA Project.ipynb",
      "provenance": [],
      "collapsed_sections": []
    },
    "kernelspec": {
      "name": "ir",
      "display_name": "R"
    },
    "language_info": {
      "name": "R"
    }
  },
  "cells": [
    {
      "cell_type": "code",
      "metadata": {
        "colab": {
          "base_uri": "https://localhost:8080/",
          "height": 34
        },
        "id": "Wh3aHJW22hnt",
        "outputId": "7d4792c6-3a7d-4083-ee43-f0e609329fda"
      },
      "source": [
        "R.version.string"
      ],
      "execution_count": 7,
      "outputs": [
        {
          "output_type": "display_data",
          "data": {
            "text/plain": [
              "[1] \"R version 4.1.1 (2021-08-10)\""
            ],
            "text/latex": "'R version 4.1.1 (2021-08-10)'",
            "text/markdown": "'R version 4.1.1 (2021-08-10)'",
            "text/html": [
              "'R version 4.1.1 (2021-08-10)'"
            ]
          },
          "metadata": {}
        }
      ]
    },
    {
      "cell_type": "code",
      "metadata": {
        "id": "cnLY8Cro5Xzg"
      },
      "source": [
        "# Library block\n",
        "library(readr)\n",
        "library(ggplot2)\n",
        "library(tidyverse)\n",
        "library(rpart)"
      ],
      "execution_count": 8,
      "outputs": []
    },
    {
      "cell_type": "code",
      "metadata": {
        "colab": {
          "base_uri": "https://localhost:8080/",
          "height": 34
        },
        "id": "okX7t9YO4OUU",
        "outputId": "fa7256da-0764-4dba-aceb-288d96c79ffe"
      },
      "source": [
        "train = read.csv(\"train.csv\")\n",
        "dim(train)"
      ],
      "execution_count": 9,
      "outputs": [
        {
          "output_type": "display_data",
          "data": {
            "text/plain": [
              "[1] 3071  143"
            ],
            "text/latex": "\\begin{enumerate*}\n\\item 3071\n\\item 143\n\\end{enumerate*}\n",
            "text/markdown": "1. 3071\n2. 143\n\n\n",
            "text/html": [
              "<style>\n",
              ".list-inline {list-style: none; margin:0; padding: 0}\n",
              ".list-inline>li {display: inline-block}\n",
              ".list-inline>li:not(:last-child)::after {content: \"\\00b7\"; padding: 0 .5ex}\n",
              "</style>\n",
              "<ol class=list-inline><li>3071</li><li>143</li></ol>\n"
            ]
          },
          "metadata": {}
        }
      ]
    },
    {
      "cell_type": "code",
      "metadata": {
        "colab": {
          "base_uri": "https://localhost:8080/",
          "height": 303
        },
        "id": "XNe-DBl85g_B",
        "outputId": "b039a510-b326-48de-d290-728ff7489d7b"
      },
      "source": [
        "head(train)"
      ],
      "execution_count": 10,
      "outputs": [
        {
          "output_type": "display_data",
          "data": {
            "text/plain": [
              "  Id           v2a1   hacdor rooms hacapo v14a refrig v18q v18q1 r4h1 ⋯\n",
              "1 ID_279628684 190000 0      3     0      1    1      0    NA    0    ⋯\n",
              "2 ID_f29eb3ddd 135000 0      4     0      1    1      1     1    0    ⋯\n",
              "3 ID_68de51c94     NA 0      8     0      1    1      0    NA    0    ⋯\n",
              "4 ID_d671db89c 180000 0      5     0      1    1      1     1    0    ⋯\n",
              "5 ID_d56d6f5f5 180000 0      5     0      1    1      1     1    0    ⋯\n",
              "6 ID_ec05b1a7b 180000 0      5     0      1    1      1     1    0    ⋯\n",
              "  SQBescolari SQBage SQBhogar_total SQBedjefe SQBhogar_nin SQBovercrowding\n",
              "1 100         1849    1             100       0            1.000000       \n",
              "2 144         4489    1             144       0            1.000000       \n",
              "3 121         8464    1               0       0            0.250000       \n",
              "4  81          289   16             121       4            1.777778       \n",
              "5 121         1369   16             121       4            1.777778       \n",
              "6 121         1444   16             121       4            1.777778       \n",
              "  SQBdependency SQBmeaned agesq Target\n",
              "1  0            100       1849  4     \n",
              "2 64            144       4489  4     \n",
              "3 64            121       8464  4     \n",
              "4  1            121        289  4     \n",
              "5  1            121       1369  4     \n",
              "6  1            121       1444  4     "
            ],
            "text/latex": "A data.frame: 6 × 143\n\\begin{tabular}{r|lllllllllllllllllllll}\n  & Id & v2a1 & hacdor & rooms & hacapo & v14a & refrig & v18q & v18q1 & r4h1 & ⋯ & SQBescolari & SQBage & SQBhogar\\_total & SQBedjefe & SQBhogar\\_nin & SQBovercrowding & SQBdependency & SQBmeaned & agesq & Target\\\\\n  & <chr> & <dbl> & <int> & <int> & <int> & <int> & <int> & <int> & <int> & <int> & ⋯ & <int> & <int> & <int> & <int> & <int> & <dbl> & <dbl> & <dbl> & <int> & <int>\\\\\n\\hline\n\t1 & ID\\_279628684 & 190000 & 0 & 3 & 0 & 1 & 1 & 0 & NA & 0 & ⋯ & 100 & 1849 &  1 & 100 & 0 & 1.000000 &  0 & 100 & 1849 & 4\\\\\n\t2 & ID\\_f29eb3ddd & 135000 & 0 & 4 & 0 & 1 & 1 & 1 &  1 & 0 & ⋯ & 144 & 4489 &  1 & 144 & 0 & 1.000000 & 64 & 144 & 4489 & 4\\\\\n\t3 & ID\\_68de51c94 &     NA & 0 & 8 & 0 & 1 & 1 & 0 & NA & 0 & ⋯ & 121 & 8464 &  1 &   0 & 0 & 0.250000 & 64 & 121 & 8464 & 4\\\\\n\t4 & ID\\_d671db89c & 180000 & 0 & 5 & 0 & 1 & 1 & 1 &  1 & 0 & ⋯ &  81 &  289 & 16 & 121 & 4 & 1.777778 &  1 & 121 &  289 & 4\\\\\n\t5 & ID\\_d56d6f5f5 & 180000 & 0 & 5 & 0 & 1 & 1 & 1 &  1 & 0 & ⋯ & 121 & 1369 & 16 & 121 & 4 & 1.777778 &  1 & 121 & 1369 & 4\\\\\n\t6 & ID\\_ec05b1a7b & 180000 & 0 & 5 & 0 & 1 & 1 & 1 &  1 & 0 & ⋯ & 121 & 1444 & 16 & 121 & 4 & 1.777778 &  1 & 121 & 1444 & 4\\\\\n\\end{tabular}\n",
            "text/markdown": "\nA data.frame: 6 × 143\n\n| <!--/--> | Id &lt;chr&gt; | v2a1 &lt;dbl&gt; | hacdor &lt;int&gt; | rooms &lt;int&gt; | hacapo &lt;int&gt; | v14a &lt;int&gt; | refrig &lt;int&gt; | v18q &lt;int&gt; | v18q1 &lt;int&gt; | r4h1 &lt;int&gt; | ⋯ ⋯ | SQBescolari &lt;int&gt; | SQBage &lt;int&gt; | SQBhogar_total &lt;int&gt; | SQBedjefe &lt;int&gt; | SQBhogar_nin &lt;int&gt; | SQBovercrowding &lt;dbl&gt; | SQBdependency &lt;dbl&gt; | SQBmeaned &lt;dbl&gt; | agesq &lt;int&gt; | Target &lt;int&gt; |\n|---|---|---|---|---|---|---|---|---|---|---|---|---|---|---|---|---|---|---|---|---|---|\n| 1 | ID_279628684 | 190000 | 0 | 3 | 0 | 1 | 1 | 0 | NA | 0 | ⋯ | 100 | 1849 |  1 | 100 | 0 | 1.000000 |  0 | 100 | 1849 | 4 |\n| 2 | ID_f29eb3ddd | 135000 | 0 | 4 | 0 | 1 | 1 | 1 |  1 | 0 | ⋯ | 144 | 4489 |  1 | 144 | 0 | 1.000000 | 64 | 144 | 4489 | 4 |\n| 3 | ID_68de51c94 |     NA | 0 | 8 | 0 | 1 | 1 | 0 | NA | 0 | ⋯ | 121 | 8464 |  1 |   0 | 0 | 0.250000 | 64 | 121 | 8464 | 4 |\n| 4 | ID_d671db89c | 180000 | 0 | 5 | 0 | 1 | 1 | 1 |  1 | 0 | ⋯ |  81 |  289 | 16 | 121 | 4 | 1.777778 |  1 | 121 |  289 | 4 |\n| 5 | ID_d56d6f5f5 | 180000 | 0 | 5 | 0 | 1 | 1 | 1 |  1 | 0 | ⋯ | 121 | 1369 | 16 | 121 | 4 | 1.777778 |  1 | 121 | 1369 | 4 |\n| 6 | ID_ec05b1a7b | 180000 | 0 | 5 | 0 | 1 | 1 | 1 |  1 | 0 | ⋯ | 121 | 1444 | 16 | 121 | 4 | 1.777778 |  1 | 121 | 1444 | 4 |\n\n",
            "text/html": [
              "<table class=\"dataframe\">\n",
              "<caption>A data.frame: 6 × 143</caption>\n",
              "<thead>\n",
              "\t<tr><th></th><th scope=col>Id</th><th scope=col>v2a1</th><th scope=col>hacdor</th><th scope=col>rooms</th><th scope=col>hacapo</th><th scope=col>v14a</th><th scope=col>refrig</th><th scope=col>v18q</th><th scope=col>v18q1</th><th scope=col>r4h1</th><th scope=col>⋯</th><th scope=col>SQBescolari</th><th scope=col>SQBage</th><th scope=col>SQBhogar_total</th><th scope=col>SQBedjefe</th><th scope=col>SQBhogar_nin</th><th scope=col>SQBovercrowding</th><th scope=col>SQBdependency</th><th scope=col>SQBmeaned</th><th scope=col>agesq</th><th scope=col>Target</th></tr>\n",
              "\t<tr><th></th><th scope=col>&lt;chr&gt;</th><th scope=col>&lt;dbl&gt;</th><th scope=col>&lt;int&gt;</th><th scope=col>&lt;int&gt;</th><th scope=col>&lt;int&gt;</th><th scope=col>&lt;int&gt;</th><th scope=col>&lt;int&gt;</th><th scope=col>&lt;int&gt;</th><th scope=col>&lt;int&gt;</th><th scope=col>&lt;int&gt;</th><th scope=col>⋯</th><th scope=col>&lt;int&gt;</th><th scope=col>&lt;int&gt;</th><th scope=col>&lt;int&gt;</th><th scope=col>&lt;int&gt;</th><th scope=col>&lt;int&gt;</th><th scope=col>&lt;dbl&gt;</th><th scope=col>&lt;dbl&gt;</th><th scope=col>&lt;dbl&gt;</th><th scope=col>&lt;int&gt;</th><th scope=col>&lt;int&gt;</th></tr>\n",
              "</thead>\n",
              "<tbody>\n",
              "\t<tr><th scope=row>1</th><td>ID_279628684</td><td>190000</td><td>0</td><td>3</td><td>0</td><td>1</td><td>1</td><td>0</td><td>NA</td><td>0</td><td>⋯</td><td>100</td><td>1849</td><td> 1</td><td>100</td><td>0</td><td>1.000000</td><td> 0</td><td>100</td><td>1849</td><td>4</td></tr>\n",
              "\t<tr><th scope=row>2</th><td>ID_f29eb3ddd</td><td>135000</td><td>0</td><td>4</td><td>0</td><td>1</td><td>1</td><td>1</td><td> 1</td><td>0</td><td>⋯</td><td>144</td><td>4489</td><td> 1</td><td>144</td><td>0</td><td>1.000000</td><td>64</td><td>144</td><td>4489</td><td>4</td></tr>\n",
              "\t<tr><th scope=row>3</th><td>ID_68de51c94</td><td>    NA</td><td>0</td><td>8</td><td>0</td><td>1</td><td>1</td><td>0</td><td>NA</td><td>0</td><td>⋯</td><td>121</td><td>8464</td><td> 1</td><td>  0</td><td>0</td><td>0.250000</td><td>64</td><td>121</td><td>8464</td><td>4</td></tr>\n",
              "\t<tr><th scope=row>4</th><td>ID_d671db89c</td><td>180000</td><td>0</td><td>5</td><td>0</td><td>1</td><td>1</td><td>1</td><td> 1</td><td>0</td><td>⋯</td><td> 81</td><td> 289</td><td>16</td><td>121</td><td>4</td><td>1.777778</td><td> 1</td><td>121</td><td> 289</td><td>4</td></tr>\n",
              "\t<tr><th scope=row>5</th><td>ID_d56d6f5f5</td><td>180000</td><td>0</td><td>5</td><td>0</td><td>1</td><td>1</td><td>1</td><td> 1</td><td>0</td><td>⋯</td><td>121</td><td>1369</td><td>16</td><td>121</td><td>4</td><td>1.777778</td><td> 1</td><td>121</td><td>1369</td><td>4</td></tr>\n",
              "\t<tr><th scope=row>6</th><td>ID_ec05b1a7b</td><td>180000</td><td>0</td><td>5</td><td>0</td><td>1</td><td>1</td><td>1</td><td> 1</td><td>0</td><td>⋯</td><td>121</td><td>1444</td><td>16</td><td>121</td><td>4</td><td>1.777778</td><td> 1</td><td>121</td><td>1444</td><td>4</td></tr>\n",
              "</tbody>\n",
              "</table>\n"
            ]
          },
          "metadata": {}
        }
      ]
    },
    {
      "cell_type": "code",
      "metadata": {
        "colab": {
          "base_uri": "https://localhost:8080/",
          "height": 1000
        },
        "id": "Biokw1okWkOC",
        "outputId": "740a9076-979a-43e8-8594-7027b2c45075"
      },
      "source": [
        "features = read_csv(\"codebook.csv\")\n",
        "features"
      ],
      "execution_count": 11,
      "outputs": [
        {
          "output_type": "stream",
          "name": "stderr",
          "text": [
            "\u001b[1m\u001b[1mRows: \u001b[1m\u001b[22m\u001b[34m\u001b[34m141\u001b[34m\u001b[39m \u001b[1m\u001b[1mColumns: \u001b[1m\u001b[22m\u001b[34m\u001b[34m2\u001b[34m\u001b[39m\n",
            "\n",
            "\u001b[36m──\u001b[39m \u001b[1m\u001b[1mColumn specification\u001b[1m\u001b[22m \u001b[36m────────────────────────────────────────────────────────\u001b[39m\n",
            "\u001b[1mDelimiter:\u001b[22m \",\"\n",
            "\u001b[31mchr\u001b[39m (2): Variable name, Variable description\n",
            "\n",
            "\n",
            "\u001b[36mℹ\u001b[39m Use \u001b[30m\u001b[47m\u001b[30m\u001b[47m`spec()`\u001b[47m\u001b[30m\u001b[49m\u001b[39m to retrieve the full column specification for this data.\n",
            "\u001b[36mℹ\u001b[39m Specify the column types or set \u001b[30m\u001b[47m\u001b[30m\u001b[47m`show_col_types = FALSE`\u001b[47m\u001b[30m\u001b[49m\u001b[39m to quiet this message.\n",
            "\n"
          ]
        },
        {
          "output_type": "display_data",
          "data": {
            "text/plain": [
              "    Variable name  \n",
              "1   v2a1           \n",
              "2   hacdor         \n",
              "3   rooms          \n",
              "4   hacapo         \n",
              "5   v14a           \n",
              "6   refrig         \n",
              "7   v18q           \n",
              "8   v18q1          \n",
              "9   r4h1           \n",
              "10  r4h2           \n",
              "11  r4h3           \n",
              "12  r4m1           \n",
              "13  r4m2           \n",
              "14  r4m3           \n",
              "15  r4t1           \n",
              "16  r4t2           \n",
              "17  r4t3           \n",
              "18  tamhog         \n",
              "19  tamviv         \n",
              "20  escolari       \n",
              "21  rez_esc        \n",
              "22  hhsize         \n",
              "23  paredblolad    \n",
              "24  paredzocalo    \n",
              "25  paredpreb      \n",
              "26  pareddes       \n",
              "27  paredmad       \n",
              "28  paredzinc      \n",
              "29  paredfibras    \n",
              "30  paredother     \n",
              "⋮   ⋮              \n",
              "112 instlevel9     \n",
              "113 bedrooms       \n",
              "114 overcrowding   \n",
              "115 tipovivi1      \n",
              "116 tipovivi2      \n",
              "117 tipovivi3      \n",
              "118 tipovivi4      \n",
              "119 tipovivi5      \n",
              "120 computer       \n",
              "121 television     \n",
              "122 mobilephone    \n",
              "123 qmobilephone   \n",
              "124 lugar1         \n",
              "125 lugar2         \n",
              "126 lugar3         \n",
              "127 lugar4         \n",
              "128 lugar5         \n",
              "129 lugar6         \n",
              "130 area1          \n",
              "131 area2          \n",
              "132 age            \n",
              "133 SQBescolari    \n",
              "134 SQBage         \n",
              "135 SQBhogar_total \n",
              "136 SQBedjefe      \n",
              "137 SQBhogar_nin   \n",
              "138 SQBovercrowding\n",
              "139 SQBdependency  \n",
              "140 SQBmeaned      \n",
              "141 agesq          \n",
              "    Variable description                                                            \n",
              "1   Monthly rent payment                                                            \n",
              "2   =1 Overcrowding by bedrooms                                                     \n",
              "3   number of all rooms in the house                                                \n",
              "4   =1 Overcrowding by rooms                                                        \n",
              "5   =1 has toilet in the household                                                  \n",
              "6   =1 if the household has refrigerator                                            \n",
              "7   owns a tablet                                                                   \n",
              "8   number of tablets household owns                                                \n",
              "9   Males younger than 12 years of age                                              \n",
              "10  Males 12 years of age and older                                                 \n",
              "11  Total males in the household                                                    \n",
              "12  Females younger than 12 years of age                                            \n",
              "13  Females 12 years of age and older                                               \n",
              "14  Total females in the household                                                  \n",
              "15  persons younger than 12 years of age                                            \n",
              "16  persons 12 years of age and older                                               \n",
              "17  Total persons in the household                                                  \n",
              "18  size of the household                                                           \n",
              "19  TamViv                                                                          \n",
              "20  years of schooling                                                              \n",
              "21  Years behind in school                                                          \n",
              "22  household size                                                                  \n",
              "23  =1 if predominant material on the outside wall is block or brick                \n",
              "24  =1 if predominant material on the outside wall is socket (wood, zinc or absbesto\n",
              "25  =1 if predominant material on the outside wall is prefabricated or cement       \n",
              "26  =1 if predominant material on the outside wall is waste material                \n",
              "27  =1 if predominant material on the outside wall is wood                          \n",
              "28  =1 if predominant material on the outside wall is zink                          \n",
              "29  =1 if predominant material on the outside wall is natural fibers                \n",
              "30  =1 if predominant material on the outside wall is other                         \n",
              "⋮   ⋮                                                                               \n",
              "112 =1 postgraduate higher education                                                \n",
              "113 number of bedrooms                                                              \n",
              "114 # persons per room                                                              \n",
              "115 =1 own and fully paid house                                                     \n",
              "116 =1 own, paying in installments                                                  \n",
              "117 =1 rented                                                                       \n",
              "118 =1 precarious                                                                   \n",
              "119 =1 other(assigned, borrowed)                                                    \n",
              "120 =1 if the household has notebook or desktop computer                            \n",
              "121 =1 if the household has TV                                                      \n",
              "122 =1 if mobile phone                                                              \n",
              "123 # of mobile phones                                                              \n",
              "124 =1 region Central                                                               \n",
              "125 =1 region Chorotega                                                             \n",
              "126 =1 region PacÃƒÂ­fico central                                                   \n",
              "127 =1 region Brunca                                                                \n",
              "128 =1 region Huetar AtlÃƒÂ¡ntica                                                   \n",
              "129 =1 region Huetar Norte                                                          \n",
              "130 =1 zona urbana                                                                  \n",
              "131 =2 zona rural                                                                   \n",
              "132 Age in years                                                                    \n",
              "133 escolari squared                                                                \n",
              "134 age squared                                                                     \n",
              "135 hogar_total squared                                                             \n",
              "136 edjefe squared                                                                  \n",
              "137 hogar_nin squared                                                               \n",
              "138 overcrowding squared                                                            \n",
              "139 dependency squared                                                              \n",
              "140 meaned squared                                                                  \n",
              "141 Age squared                                                                     "
            ],
            "text/latex": "A spec\\_tbl\\_df: 141 × 2\n\\begin{tabular}{ll}\n Variable name & Variable description\\\\\n <chr> & <chr>\\\\\n\\hline\n\t v2a1        & Monthly rent payment                                                            \\\\\n\t hacdor      & =1 Overcrowding by bedrooms                                                     \\\\\n\t rooms       & number of all rooms in the house                                                \\\\\n\t hacapo      & =1 Overcrowding by rooms                                                        \\\\\n\t v14a        & =1 has toilet in the household                                                  \\\\\n\t refrig      & =1 if the household has refrigerator                                            \\\\\n\t v18q        & owns a tablet                                                                   \\\\\n\t v18q1       & number of tablets household owns                                                \\\\\n\t r4h1        & Males younger than 12 years of age                                              \\\\\n\t r4h2        & Males 12 years of age and older                                                 \\\\\n\t r4h3        & Total males in the household                                                    \\\\\n\t r4m1        & Females younger than 12 years of age                                            \\\\\n\t r4m2        & Females 12 years of age and older                                               \\\\\n\t r4m3        & Total females in the household                                                  \\\\\n\t r4t1        & persons younger than 12 years of age                                            \\\\\n\t r4t2        & persons 12 years of age and older                                               \\\\\n\t r4t3        & Total persons in the household                                                  \\\\\n\t tamhog      & size of the household                                                           \\\\\n\t tamviv      & TamViv                                                                          \\\\\n\t escolari    & years of schooling                                                              \\\\\n\t rez\\_esc     & Years behind in school                                                          \\\\\n\t hhsize      & household size                                                                  \\\\\n\t paredblolad & =1 if predominant material on the outside wall is block or brick                \\\\\n\t paredzocalo & =1 if predominant material on the outside wall is socket (wood, zinc or absbesto\\\\\n\t paredpreb   & =1 if predominant material on the outside wall is prefabricated or cement       \\\\\n\t pareddes    & =1 if predominant material on the outside wall is waste material                \\\\\n\t paredmad    & =1 if predominant material on the outside wall is wood                          \\\\\n\t paredzinc   & =1 if predominant material on the outside wall is zink                          \\\\\n\t paredfibras & =1 if predominant material on the outside wall is natural fibers                \\\\\n\t paredother  & =1 if predominant material on the outside wall is other                         \\\\\n\t ⋮ & ⋮\\\\\n\t instlevel9      & =1 postgraduate higher education                    \\\\\n\t bedrooms        & number of bedrooms                                  \\\\\n\t overcrowding    & \\# persons per room                                  \\\\\n\t tipovivi1       & =1 own and fully paid house                         \\\\\n\t tipovivi2       & =1 own, paying in installments                      \\\\\n\t tipovivi3       & =1 rented                                           \\\\\n\t tipovivi4       & =1 precarious                                       \\\\\n\t tipovivi5       & =1 other(assigned, borrowed)                        \\\\\n\t computer        & =1 if the household has notebook or desktop computer\\\\\n\t television      & =1 if the household has TV                          \\\\\n\t mobilephone     & =1 if mobile phone                                  \\\\\n\t qmobilephone    & \\# of mobile phones                                  \\\\\n\t lugar1          & =1 region Central                                   \\\\\n\t lugar2          & =1 region Chorotega                                 \\\\\n\t lugar3          & =1 region PacÃƒÂ­fico central                       \\\\\n\t lugar4          & =1 region Brunca                                    \\\\\n\t lugar5          & =1 region Huetar AtlÃƒÂ¡ntica                       \\\\\n\t lugar6          & =1 region Huetar Norte                              \\\\\n\t area1           & =1 zona urbana                                      \\\\\n\t area2           & =2 zona rural                                       \\\\\n\t age             & Age in years                                        \\\\\n\t SQBescolari     & escolari squared                                    \\\\\n\t SQBage          & age squared                                         \\\\\n\t SQBhogar\\_total  & hogar\\_total squared                                 \\\\\n\t SQBedjefe       & edjefe squared                                      \\\\\n\t SQBhogar\\_nin    & hogar\\_nin squared                                   \\\\\n\t SQBovercrowding & overcrowding squared                                \\\\\n\t SQBdependency   & dependency squared                                  \\\\\n\t SQBmeaned       & meaned squared                                      \\\\\n\t agesq           & Age squared                                         \\\\\n\\end{tabular}\n",
            "text/markdown": "\nA spec_tbl_df: 141 × 2\n\n| Variable name &lt;chr&gt; | Variable description &lt;chr&gt; |\n|---|---|\n| v2a1        | Monthly rent payment                                                             |\n| hacdor      | =1 Overcrowding by bedrooms                                                      |\n| rooms       | number of all rooms in the house                                                 |\n| hacapo      | =1 Overcrowding by rooms                                                         |\n| v14a        | =1 has toilet in the household                                                   |\n| refrig      | =1 if the household has refrigerator                                             |\n| v18q        | owns a tablet                                                                    |\n| v18q1       | number of tablets household owns                                                 |\n| r4h1        | Males younger than 12 years of age                                               |\n| r4h2        | Males 12 years of age and older                                                  |\n| r4h3        | Total males in the household                                                     |\n| r4m1        | Females younger than 12 years of age                                             |\n| r4m2        | Females 12 years of age and older                                                |\n| r4m3        | Total females in the household                                                   |\n| r4t1        | persons younger than 12 years of age                                             |\n| r4t2        | persons 12 years of age and older                                                |\n| r4t3        | Total persons in the household                                                   |\n| tamhog      | size of the household                                                            |\n| tamviv      | TamViv                                                                           |\n| escolari    | years of schooling                                                               |\n| rez_esc     | Years behind in school                                                           |\n| hhsize      | household size                                                                   |\n| paredblolad | =1 if predominant material on the outside wall is block or brick                 |\n| paredzocalo | =1 if predominant material on the outside wall is socket (wood, zinc or absbesto |\n| paredpreb   | =1 if predominant material on the outside wall is prefabricated or cement        |\n| pareddes    | =1 if predominant material on the outside wall is waste material                 |\n| paredmad    | =1 if predominant material on the outside wall is wood                           |\n| paredzinc   | =1 if predominant material on the outside wall is zink                           |\n| paredfibras | =1 if predominant material on the outside wall is natural fibers                 |\n| paredother  | =1 if predominant material on the outside wall is other                          |\n| ⋮ | ⋮ |\n| instlevel9      | =1 postgraduate higher education                     |\n| bedrooms        | number of bedrooms                                   |\n| overcrowding    | # persons per room                                   |\n| tipovivi1       | =1 own and fully paid house                          |\n| tipovivi2       | =1 own, paying in installments                       |\n| tipovivi3       | =1 rented                                            |\n| tipovivi4       | =1 precarious                                        |\n| tipovivi5       | =1 other(assigned, borrowed)                         |\n| computer        | =1 if the household has notebook or desktop computer |\n| television      | =1 if the household has TV                           |\n| mobilephone     | =1 if mobile phone                                   |\n| qmobilephone    | # of mobile phones                                   |\n| lugar1          | =1 region Central                                    |\n| lugar2          | =1 region Chorotega                                  |\n| lugar3          | =1 region PacÃƒÂ­fico central                        |\n| lugar4          | =1 region Brunca                                     |\n| lugar5          | =1 region Huetar AtlÃƒÂ¡ntica                        |\n| lugar6          | =1 region Huetar Norte                               |\n| area1           | =1 zona urbana                                       |\n| area2           | =2 zona rural                                        |\n| age             | Age in years                                         |\n| SQBescolari     | escolari squared                                     |\n| SQBage          | age squared                                          |\n| SQBhogar_total  | hogar_total squared                                  |\n| SQBedjefe       | edjefe squared                                       |\n| SQBhogar_nin    | hogar_nin squared                                    |\n| SQBovercrowding | overcrowding squared                                 |\n| SQBdependency   | dependency squared                                   |\n| SQBmeaned       | meaned squared                                       |\n| agesq           | Age squared                                          |\n\n",
            "text/html": [
              "<table class=\"dataframe\">\n",
              "<caption>A spec_tbl_df: 141 × 2</caption>\n",
              "<thead>\n",
              "\t<tr><th scope=col>Variable name</th><th scope=col>Variable description</th></tr>\n",
              "\t<tr><th scope=col>&lt;chr&gt;</th><th scope=col>&lt;chr&gt;</th></tr>\n",
              "</thead>\n",
              "<tbody>\n",
              "\t<tr><td>v2a1       </td><td>Monthly rent payment                                                            </td></tr>\n",
              "\t<tr><td>hacdor     </td><td>=1 Overcrowding by bedrooms                                                     </td></tr>\n",
              "\t<tr><td>rooms      </td><td>number of all rooms in the house                                                </td></tr>\n",
              "\t<tr><td>hacapo     </td><td>=1 Overcrowding by rooms                                                        </td></tr>\n",
              "\t<tr><td>v14a       </td><td>=1 has toilet in the household                                                  </td></tr>\n",
              "\t<tr><td>refrig     </td><td>=1 if the household has refrigerator                                            </td></tr>\n",
              "\t<tr><td>v18q       </td><td>owns a tablet                                                                   </td></tr>\n",
              "\t<tr><td>v18q1      </td><td>number of tablets household owns                                                </td></tr>\n",
              "\t<tr><td>r4h1       </td><td>Males younger than 12 years of age                                              </td></tr>\n",
              "\t<tr><td>r4h2       </td><td>Males 12 years of age and older                                                 </td></tr>\n",
              "\t<tr><td>r4h3       </td><td>Total males in the household                                                    </td></tr>\n",
              "\t<tr><td>r4m1       </td><td>Females younger than 12 years of age                                            </td></tr>\n",
              "\t<tr><td>r4m2       </td><td>Females 12 years of age and older                                               </td></tr>\n",
              "\t<tr><td>r4m3       </td><td>Total females in the household                                                  </td></tr>\n",
              "\t<tr><td>r4t1       </td><td>persons younger than 12 years of age                                            </td></tr>\n",
              "\t<tr><td>r4t2       </td><td>persons 12 years of age and older                                               </td></tr>\n",
              "\t<tr><td>r4t3       </td><td>Total persons in the household                                                  </td></tr>\n",
              "\t<tr><td>tamhog     </td><td>size of the household                                                           </td></tr>\n",
              "\t<tr><td>tamviv     </td><td>TamViv                                                                          </td></tr>\n",
              "\t<tr><td>escolari   </td><td>years of schooling                                                              </td></tr>\n",
              "\t<tr><td>rez_esc    </td><td>Years behind in school                                                          </td></tr>\n",
              "\t<tr><td>hhsize     </td><td>household size                                                                  </td></tr>\n",
              "\t<tr><td>paredblolad</td><td>=1 if predominant material on the outside wall is block or brick                </td></tr>\n",
              "\t<tr><td>paredzocalo</td><td>=1 if predominant material on the outside wall is socket (wood, zinc or absbesto</td></tr>\n",
              "\t<tr><td>paredpreb  </td><td>=1 if predominant material on the outside wall is prefabricated or cement       </td></tr>\n",
              "\t<tr><td>pareddes   </td><td>=1 if predominant material on the outside wall is waste material                </td></tr>\n",
              "\t<tr><td>paredmad   </td><td>=1 if predominant material on the outside wall is wood                          </td></tr>\n",
              "\t<tr><td>paredzinc  </td><td>=1 if predominant material on the outside wall is zink                          </td></tr>\n",
              "\t<tr><td>paredfibras</td><td>=1 if predominant material on the outside wall is natural fibers                </td></tr>\n",
              "\t<tr><td>paredother </td><td>=1 if predominant material on the outside wall is other                         </td></tr>\n",
              "\t<tr><td>⋮</td><td>⋮</td></tr>\n",
              "\t<tr><td>instlevel9     </td><td>=1 postgraduate higher education                    </td></tr>\n",
              "\t<tr><td>bedrooms       </td><td>number of bedrooms                                  </td></tr>\n",
              "\t<tr><td>overcrowding   </td><td># persons per room                                  </td></tr>\n",
              "\t<tr><td>tipovivi1      </td><td>=1 own and fully paid house                         </td></tr>\n",
              "\t<tr><td>tipovivi2      </td><td>=1 own, paying in installments                      </td></tr>\n",
              "\t<tr><td>tipovivi3      </td><td>=1 rented                                           </td></tr>\n",
              "\t<tr><td>tipovivi4      </td><td>=1 precarious                                       </td></tr>\n",
              "\t<tr><td>tipovivi5      </td><td>=1 other(assigned, borrowed)                        </td></tr>\n",
              "\t<tr><td>computer       </td><td>=1 if the household has notebook or desktop computer</td></tr>\n",
              "\t<tr><td>television     </td><td>=1 if the household has TV                          </td></tr>\n",
              "\t<tr><td>mobilephone    </td><td>=1 if mobile phone                                  </td></tr>\n",
              "\t<tr><td>qmobilephone   </td><td># of mobile phones                                  </td></tr>\n",
              "\t<tr><td>lugar1         </td><td>=1 region Central                                   </td></tr>\n",
              "\t<tr><td>lugar2         </td><td>=1 region Chorotega                                 </td></tr>\n",
              "\t<tr><td>lugar3         </td><td>=1 region PacÃƒÂ­fico central                       </td></tr>\n",
              "\t<tr><td>lugar4         </td><td>=1 region Brunca                                    </td></tr>\n",
              "\t<tr><td>lugar5         </td><td>=1 region Huetar AtlÃƒÂ¡ntica                       </td></tr>\n",
              "\t<tr><td>lugar6         </td><td>=1 region Huetar Norte                              </td></tr>\n",
              "\t<tr><td>area1          </td><td>=1 zona urbana                                      </td></tr>\n",
              "\t<tr><td>area2          </td><td>=2 zona rural                                       </td></tr>\n",
              "\t<tr><td>age            </td><td>Age in years                                        </td></tr>\n",
              "\t<tr><td>SQBescolari    </td><td>escolari squared                                    </td></tr>\n",
              "\t<tr><td>SQBage         </td><td>age squared                                         </td></tr>\n",
              "\t<tr><td>SQBhogar_total </td><td>hogar_total squared                                 </td></tr>\n",
              "\t<tr><td>SQBedjefe      </td><td>edjefe squared                                      </td></tr>\n",
              "\t<tr><td>SQBhogar_nin   </td><td>hogar_nin squared                                   </td></tr>\n",
              "\t<tr><td>SQBovercrowding</td><td>overcrowding squared                                </td></tr>\n",
              "\t<tr><td>SQBdependency  </td><td>dependency squared                                  </td></tr>\n",
              "\t<tr><td>SQBmeaned      </td><td>meaned squared                                      </td></tr>\n",
              "\t<tr><td>agesq          </td><td>Age squared                                         </td></tr>\n",
              "</tbody>\n",
              "</table>\n"
            ]
          },
          "metadata": {}
        }
      ]
    },
    {
      "cell_type": "markdown",
      "metadata": {
        "id": "vH7tY3tUAQT7"
      },
      "source": [
        "## **Checking NA values**"
      ]
    },
    {
      "cell_type": "code",
      "metadata": {
        "colab": {
          "base_uri": "https://localhost:8080/",
          "height": 34
        },
        "id": "-QxisAgZDJjW",
        "outputId": "6c9782e6-451d-43e0-d98f-1168da18836e"
      },
      "source": [
        "dim(train)"
      ],
      "execution_count": 12,
      "outputs": [
        {
          "output_type": "display_data",
          "data": {
            "text/plain": [
              "[1] 3071  143"
            ],
            "text/latex": "\\begin{enumerate*}\n\\item 3071\n\\item 143\n\\end{enumerate*}\n",
            "text/markdown": "1. 3071\n2. 143\n\n\n",
            "text/html": [
              "<style>\n",
              ".list-inline {list-style: none; margin:0; padding: 0}\n",
              ".list-inline>li {display: inline-block}\n",
              ".list-inline>li:not(:last-child)::after {content: \"\\00b7\"; padding: 0 .5ex}\n",
              "</style>\n",
              "<ol class=list-inline><li>3071</li><li>143</li></ol>\n"
            ]
          },
          "metadata": {}
        }
      ]
    },
    {
      "cell_type": "code",
      "metadata": {
        "colab": {
          "base_uri": "https://localhost:8080/",
          "height": 34
        },
        "id": "BUzKfH79JolC",
        "outputId": "e4321959-f3d8-4764-fbf8-5cec30a566fa"
      },
      "source": [
        "sum(is.na(train))"
      ],
      "execution_count": 13,
      "outputs": [
        {
          "output_type": "display_data",
          "data": {
            "text/plain": [
              "[1] 6560"
            ],
            "text/latex": "6560",
            "text/markdown": "6560",
            "text/html": [
              "6560"
            ]
          },
          "metadata": {}
        }
      ]
    },
    {
      "cell_type": "code",
      "metadata": {
        "id": "qZmTnzWzGRGo"
      },
      "source": [
        "options(repr.matrix.max.cols=150, repr.matrix.max.rows=200)"
      ],
      "execution_count": 14,
      "outputs": []
    },
    {
      "cell_type": "code",
      "metadata": {
        "colab": {
          "base_uri": "https://localhost:8080/",
          "height": 148
        },
        "id": "0S4O-GDUAHIV",
        "outputId": "48121d52-5460-4289-f08c-797661b87bd2"
      },
      "source": [
        "df <- data.frame(t(colSums(is.na(train))))\n",
        "df %>% \n",
        "  select_if(~ sum(.) > 0)"
      ],
      "execution_count": 15,
      "outputs": [
        {
          "output_type": "display_data",
          "data": {
            "text/plain": [
              "  v2a1 v18q1 rez_esc meaneduc tipovivi4 tipovivi5 computer television\n",
              "1 1914 2005  2606    5        1         1         1        1         \n",
              "  mobilephone qmobilephone lugar1 lugar2 lugar3 lugar4 lugar5 lugar6 area1\n",
              "1 1           1            1      1      1      1      1      1      1    \n",
              "  area2 age SQBescolari SQBage SQBhogar_total SQBedjefe SQBhogar_nin\n",
              "1 1     1   1           1      1              1         1           \n",
              "  SQBovercrowding SQBdependency SQBmeaned agesq Target\n",
              "1 1               1             6         1     1     "
            ],
            "text/latex": "A data.frame: 1 × 29\n\\begin{tabular}{lllllllllllllllllllllllllllll}\n v2a1 & v18q1 & rez\\_esc & meaneduc & tipovivi4 & tipovivi5 & computer & television & mobilephone & qmobilephone & lugar1 & lugar2 & lugar3 & lugar4 & lugar5 & lugar6 & area1 & area2 & age & SQBescolari & SQBage & SQBhogar\\_total & SQBedjefe & SQBhogar\\_nin & SQBovercrowding & SQBdependency & SQBmeaned & agesq & Target\\\\\n <dbl> & <dbl> & <dbl> & <dbl> & <dbl> & <dbl> & <dbl> & <dbl> & <dbl> & <dbl> & <dbl> & <dbl> & <dbl> & <dbl> & <dbl> & <dbl> & <dbl> & <dbl> & <dbl> & <dbl> & <dbl> & <dbl> & <dbl> & <dbl> & <dbl> & <dbl> & <dbl> & <dbl> & <dbl>\\\\\n\\hline\n\t 1914 & 2005 & 2606 & 5 & 1 & 1 & 1 & 1 & 1 & 1 & 1 & 1 & 1 & 1 & 1 & 1 & 1 & 1 & 1 & 1 & 1 & 1 & 1 & 1 & 1 & 1 & 6 & 1 & 1\\\\\n\\end{tabular}\n",
            "text/markdown": "\nA data.frame: 1 × 29\n\n| v2a1 &lt;dbl&gt; | v18q1 &lt;dbl&gt; | rez_esc &lt;dbl&gt; | meaneduc &lt;dbl&gt; | tipovivi4 &lt;dbl&gt; | tipovivi5 &lt;dbl&gt; | computer &lt;dbl&gt; | television &lt;dbl&gt; | mobilephone &lt;dbl&gt; | qmobilephone &lt;dbl&gt; | lugar1 &lt;dbl&gt; | lugar2 &lt;dbl&gt; | lugar3 &lt;dbl&gt; | lugar4 &lt;dbl&gt; | lugar5 &lt;dbl&gt; | lugar6 &lt;dbl&gt; | area1 &lt;dbl&gt; | area2 &lt;dbl&gt; | age &lt;dbl&gt; | SQBescolari &lt;dbl&gt; | SQBage &lt;dbl&gt; | SQBhogar_total &lt;dbl&gt; | SQBedjefe &lt;dbl&gt; | SQBhogar_nin &lt;dbl&gt; | SQBovercrowding &lt;dbl&gt; | SQBdependency &lt;dbl&gt; | SQBmeaned &lt;dbl&gt; | agesq &lt;dbl&gt; | Target &lt;dbl&gt; |\n|---|---|---|---|---|---|---|---|---|---|---|---|---|---|---|---|---|---|---|---|---|---|---|---|---|---|---|---|---|\n| 1914 | 2005 | 2606 | 5 | 1 | 1 | 1 | 1 | 1 | 1 | 1 | 1 | 1 | 1 | 1 | 1 | 1 | 1 | 1 | 1 | 1 | 1 | 1 | 1 | 1 | 1 | 6 | 1 | 1 |\n\n",
            "text/html": [
              "<table class=\"dataframe\">\n",
              "<caption>A data.frame: 1 × 29</caption>\n",
              "<thead>\n",
              "\t<tr><th scope=col>v2a1</th><th scope=col>v18q1</th><th scope=col>rez_esc</th><th scope=col>meaneduc</th><th scope=col>tipovivi4</th><th scope=col>tipovivi5</th><th scope=col>computer</th><th scope=col>television</th><th scope=col>mobilephone</th><th scope=col>qmobilephone</th><th scope=col>lugar1</th><th scope=col>lugar2</th><th scope=col>lugar3</th><th scope=col>lugar4</th><th scope=col>lugar5</th><th scope=col>lugar6</th><th scope=col>area1</th><th scope=col>area2</th><th scope=col>age</th><th scope=col>SQBescolari</th><th scope=col>SQBage</th><th scope=col>SQBhogar_total</th><th scope=col>SQBedjefe</th><th scope=col>SQBhogar_nin</th><th scope=col>SQBovercrowding</th><th scope=col>SQBdependency</th><th scope=col>SQBmeaned</th><th scope=col>agesq</th><th scope=col>Target</th></tr>\n",
              "\t<tr><th scope=col>&lt;dbl&gt;</th><th scope=col>&lt;dbl&gt;</th><th scope=col>&lt;dbl&gt;</th><th scope=col>&lt;dbl&gt;</th><th scope=col>&lt;dbl&gt;</th><th scope=col>&lt;dbl&gt;</th><th scope=col>&lt;dbl&gt;</th><th scope=col>&lt;dbl&gt;</th><th scope=col>&lt;dbl&gt;</th><th scope=col>&lt;dbl&gt;</th><th scope=col>&lt;dbl&gt;</th><th scope=col>&lt;dbl&gt;</th><th scope=col>&lt;dbl&gt;</th><th scope=col>&lt;dbl&gt;</th><th scope=col>&lt;dbl&gt;</th><th scope=col>&lt;dbl&gt;</th><th scope=col>&lt;dbl&gt;</th><th scope=col>&lt;dbl&gt;</th><th scope=col>&lt;dbl&gt;</th><th scope=col>&lt;dbl&gt;</th><th scope=col>&lt;dbl&gt;</th><th scope=col>&lt;dbl&gt;</th><th scope=col>&lt;dbl&gt;</th><th scope=col>&lt;dbl&gt;</th><th scope=col>&lt;dbl&gt;</th><th scope=col>&lt;dbl&gt;</th><th scope=col>&lt;dbl&gt;</th><th scope=col>&lt;dbl&gt;</th><th scope=col>&lt;dbl&gt;</th></tr>\n",
              "</thead>\n",
              "<tbody>\n",
              "\t<tr><td>1914</td><td>2005</td><td>2606</td><td>5</td><td>1</td><td>1</td><td>1</td><td>1</td><td>1</td><td>1</td><td>1</td><td>1</td><td>1</td><td>1</td><td>1</td><td>1</td><td>1</td><td>1</td><td>1</td><td>1</td><td>1</td><td>1</td><td>1</td><td>1</td><td>1</td><td>1</td><td>6</td><td>1</td><td>1</td></tr>\n",
              "</tbody>\n",
              "</table>\n"
            ]
          },
          "metadata": {}
        }
      ]
    },
    {
      "cell_type": "markdown",
      "metadata": {
        "id": "ofvfIvyqDjTZ"
      },
      "source": [
        "For 'rez_ecs' : Can drop column\n",
        "\n",
        "For 'v2a1', 'v18q1', 'SQBmeaned', 'meaneduc' : Replace NA with median value"
      ]
    },
    {
      "cell_type": "code",
      "metadata": {
        "id": "Xw8hI-oyEjv0"
      },
      "source": [
        "train <- subset(train, select = -c(rez_esc))\n",
        "train$v2a1[is.na(train$v2a1)] <- median(train$v2a1, na.rm=TRUE)\n",
        "train$v18q1[is.na(train$v18q1)] <- median(train$v18q1, na.rm=TRUE)\n",
        "train$SQBmeaned[is.na(train$SQBmeaned)] <- median(train$SQBmeaned, na.rm=TRUE)\n",
        "train$meaneduc[is.na(train$meaneduc)] <- median(train$meaneduc, na.rm=TRUE)"
      ],
      "execution_count": 16,
      "outputs": []
    },
    {
      "cell_type": "code",
      "metadata": {
        "colab": {
          "base_uri": "https://localhost:8080/",
          "height": 34
        },
        "id": "vpxw4ll0JJ97",
        "outputId": "467d78a9-adda-498e-bf6d-073e0cd566f9"
      },
      "source": [
        "sum(is.na(train))"
      ],
      "execution_count": 17,
      "outputs": [
        {
          "output_type": "display_data",
          "data": {
            "text/plain": [
              "[1] 24"
            ],
            "text/latex": "24",
            "text/markdown": "24",
            "text/html": [
              "24"
            ]
          },
          "metadata": {}
        }
      ]
    },
    {
      "cell_type": "code",
      "metadata": {
        "colab": {
          "base_uri": "https://localhost:8080/",
          "height": 34
        },
        "id": "NhdZw4Bi6VQO",
        "outputId": "8dc042b8-5c6a-4a83-c19f-5665be956bca"
      },
      "source": [
        "dim(train)"
      ],
      "execution_count": 18,
      "outputs": [
        {
          "output_type": "display_data",
          "data": {
            "text/plain": [
              "[1] 3071  142"
            ],
            "text/latex": "\\begin{enumerate*}\n\\item 3071\n\\item 142\n\\end{enumerate*}\n",
            "text/markdown": "1. 3071\n2. 142\n\n\n",
            "text/html": [
              "<style>\n",
              ".list-inline {list-style: none; margin:0; padding: 0}\n",
              ".list-inline>li {display: inline-block}\n",
              ".list-inline>li:not(:last-child)::after {content: \"\\00b7\"; padding: 0 .5ex}\n",
              "</style>\n",
              "<ol class=list-inline><li>3071</li><li>142</li></ol>\n"
            ]
          },
          "metadata": {}
        }
      ]
    },
    {
      "cell_type": "code",
      "metadata": {
        "colab": {
          "base_uri": "https://localhost:8080/",
          "height": 303
        },
        "id": "NUlkmqCCJ5hh",
        "outputId": "fa9de45c-cfff-41ba-a4e7-b2d0d51c09ec"
      },
      "source": [
        "head(train)"
      ],
      "execution_count": 19,
      "outputs": [
        {
          "output_type": "display_data",
          "data": {
            "text/plain": [
              "  Id           v2a1   hacdor rooms hacapo v14a refrig v18q v18q1 r4h1 r4h2 r4h3\n",
              "1 ID_279628684 190000 0      3     0      1    1      0    1     0    1    1   \n",
              "2 ID_f29eb3ddd 135000 0      4     0      1    1      1    1     0    1    1   \n",
              "3 ID_68de51c94 150000 0      8     0      1    1      0    1     0    0    0   \n",
              "4 ID_d671db89c 180000 0      5     0      1    1      1    1     0    2    2   \n",
              "5 ID_d56d6f5f5 180000 0      5     0      1    1      1    1     0    2    2   \n",
              "6 ID_ec05b1a7b 180000 0      5     0      1    1      1    1     0    2    2   \n",
              "  r4m1 r4m2 r4m3 r4t1 r4t2 r4t3 tamhog tamviv escolari hhsize paredblolad\n",
              "1 0    0    0    0    1    1    1      1      10       1      1          \n",
              "2 0    0    0    0    1    1    1      1      12       1      0          \n",
              "3 0    1    1    0    1    1    1      1      11       1      0          \n",
              "4 1    1    2    1    3    4    4      4       9       4      1          \n",
              "5 1    1    2    1    3    4    4      4      11       4      1          \n",
              "6 1    1    2    1    3    4    4      4      11       4      1          \n",
              "  paredzocalo paredpreb pareddes paredmad paredzinc paredfibras paredother\n",
              "1 0           0         0        0        0         0           0         \n",
              "2 0           0         0        1        0         0           0         \n",
              "3 0           0         0        1        0         0           0         \n",
              "4 0           0         0        0        0         0           0         \n",
              "5 0           0         0        0        0         0           0         \n",
              "6 0           0         0        0        0         0           0         \n",
              "  pisomoscer pisocemento pisoother pisonatur pisonotiene pisomadera techozinc\n",
              "1 1          0           0         0         0           0          0        \n",
              "2 0          0           0         0         0           1          1        \n",
              "3 1          0           0         0         0           0          1        \n",
              "4 1          0           0         0         0           0          1        \n",
              "5 1          0           0         0         0           0          1        \n",
              "6 1          0           0         0         0           0          1        \n",
              "  techoentrepiso techocane techootro cielorazo abastaguadentro abastaguafuera\n",
              "1 1              0         0         1         1               0             \n",
              "2 0              0         0         1         1               0             \n",
              "3 0              0         0         1         1               0             \n",
              "4 0              0         0         1         1               0             \n",
              "5 0              0         0         1         1               0             \n",
              "6 0              0         0         1         1               0             \n",
              "  abastaguano public planpri noelec coopele sanitario1 sanitario2 sanitario3\n",
              "1 0           1      0       0      0       0          1          0         \n",
              "2 0           1      0       0      0       0          1          0         \n",
              "3 0           1      0       0      0       0          1          0         \n",
              "4 0           1      0       0      0       0          1          0         \n",
              "5 0           1      0       0      0       0          1          0         \n",
              "6 0           1      0       0      0       0          1          0         \n",
              "  sanitario5 sanitario6 energcocinar1 energcocinar2 energcocinar3 energcocinar4\n",
              "1 0          0          0             0             1             0            \n",
              "2 0          0          0             1             0             0            \n",
              "3 0          0          0             1             0             0            \n",
              "4 0          0          0             1             0             0            \n",
              "5 0          0          0             1             0             0            \n",
              "6 0          0          0             1             0             0            \n",
              "  elimbasu1 elimbasu2 elimbasu3 elimbasu4 elimbasu5 elimbasu6 epared1 epared2\n",
              "1 1         0         0         0         0         0         0       1      \n",
              "2 1         0         0         0         0         0         0       1      \n",
              "3 1         0         0         0         0         0         0       1      \n",
              "4 1         0         0         0         0         0         0       0      \n",
              "5 1         0         0         0         0         0         0       0      \n",
              "6 1         0         0         0         0         0         0       0      \n",
              "  epared3 etecho1 etecho2 etecho3 eviv1 eviv2 eviv3 dis male female\n",
              "1 0       1       0       0       1     0     0     0   1    0     \n",
              "2 0       0       1       0       0     1     0     0   1    0     \n",
              "3 0       0       0       1       0     0     1     1   0    1     \n",
              "4 1       0       0       1       0     0     1     0   1    0     \n",
              "5 1       0       0       1       0     0     1     0   0    1     \n",
              "6 1       0       0       1       0     0     1     0   1    0     \n",
              "  estadocivil1 estadocivil2 estadocivil3 estadocivil4 estadocivil5 estadocivil6\n",
              "1 0            0            0            1            0            0           \n",
              "2 0            0            0            1            0            0           \n",
              "3 0            0            0            0            0            1           \n",
              "4 0            0            0            0            0            0           \n",
              "5 0            1            0            0            0            0           \n",
              "6 0            1            0            0            0            0           \n",
              "  estadocivil7 parentesco1 parentesco2 parentesco3 parentesco4 parentesco5\n",
              "1 0            1           0           0           0           0          \n",
              "2 0            1           0           0           0           0          \n",
              "3 0            1           0           0           0           0          \n",
              "4 1            0           0           1           0           0          \n",
              "5 0            0           1           0           0           0          \n",
              "6 0            1           0           0           0           0          \n",
              "  parentesco6 parentesco7 parentesco8 parentesco9 parentesco10 parentesco11\n",
              "1 0           0           0           0           0            0           \n",
              "2 0           0           0           0           0            0           \n",
              "3 0           0           0           0           0            0           \n",
              "4 0           0           0           0           0            0           \n",
              "5 0           0           0           0           0            0           \n",
              "6 0           0           0           0           0            0           \n",
              "  parentesco12 idhogar   hogar_nin hogar_adul hogar_mayor hogar_total\n",
              "1 0            21eb7fcc1 0         1          0           1          \n",
              "2 0            0e5d7a658 0         1          1           1          \n",
              "3 0            2c7317ea8 0         1          1           1          \n",
              "4 0            2b58d945f 2         2          0           4          \n",
              "5 0            2b58d945f 2         2          0           4          \n",
              "6 0            2b58d945f 2         2          0           4          \n",
              "  dependency edjefe edjefa meaneduc instlevel1 instlevel2 instlevel3 instlevel4\n",
              "1 no         10     no     10       0          0          0          1         \n",
              "2 8          12     no     12       0          0          0          0         \n",
              "3 8          no     11     11       0          0          0          0         \n",
              "4 yes        11     no     11       0          0          0          1         \n",
              "5 yes        11     no     11       0          0          0          0         \n",
              "6 yes        11     no     11       0          0          0          0         \n",
              "  instlevel5 instlevel6 instlevel7 instlevel8 instlevel9 bedrooms overcrowding\n",
              "1 0          0          0          0          0          1        1.000000    \n",
              "2 0          0          0          1          0          1        1.000000    \n",
              "3 1          0          0          0          0          2        0.500000    \n",
              "4 0          0          0          0          0          3        1.333333    \n",
              "5 1          0          0          0          0          3        1.333333    \n",
              "6 1          0          0          0          0          3        1.333333    \n",
              "  tipovivi1 tipovivi2 tipovivi3 tipovivi4 tipovivi5 computer television\n",
              "1 0         0         1         0         0         0        0         \n",
              "2 0         0         1         0         0         0        0         \n",
              "3 1         0         0         0         0         0        0         \n",
              "4 0         0         1         0         0         0        0         \n",
              "5 0         0         1         0         0         0        0         \n",
              "6 0         0         1         0         0         0        0         \n",
              "  mobilephone qmobilephone lugar1 lugar2 lugar3 lugar4 lugar5 lugar6 area1\n",
              "1 1           1            1      0      0      0      0      0      1    \n",
              "2 1           1            1      0      0      0      0      0      1    \n",
              "3 0           0            1      0      0      0      0      0      1    \n",
              "4 1           3            1      0      0      0      0      0      1    \n",
              "5 1           3            1      0      0      0      0      0      1    \n",
              "6 1           3            1      0      0      0      0      0      1    \n",
              "  area2 age SQBescolari SQBage SQBhogar_total SQBedjefe SQBhogar_nin\n",
              "1 0     43  100         1849    1             100       0           \n",
              "2 0     67  144         4489    1             144       0           \n",
              "3 0     92  121         8464    1               0       0           \n",
              "4 0     17   81          289   16             121       4           \n",
              "5 0     37  121         1369   16             121       4           \n",
              "6 0     38  121         1444   16             121       4           \n",
              "  SQBovercrowding SQBdependency SQBmeaned agesq Target\n",
              "1 1.000000         0            100       1849  4     \n",
              "2 1.000000        64            144       4489  4     \n",
              "3 0.250000        64            121       8464  4     \n",
              "4 1.777778         1            121        289  4     \n",
              "5 1.777778         1            121       1369  4     \n",
              "6 1.777778         1            121       1444  4     "
            ],
            "text/latex": "A data.frame: 6 × 142\n\\begin{tabular}{r|llllllllllllllllllllllllllllllllllllllllllllllllllllllllllllllllllllllllllllllllllllllllllllllllllllllllllllllllllllllllllllllllllllllllllllll}\n  & Id & v2a1 & hacdor & rooms & hacapo & v14a & refrig & v18q & v18q1 & r4h1 & r4h2 & r4h3 & r4m1 & r4m2 & r4m3 & r4t1 & r4t2 & r4t3 & tamhog & tamviv & escolari & hhsize & paredblolad & paredzocalo & paredpreb & pareddes & paredmad & paredzinc & paredfibras & paredother & pisomoscer & pisocemento & pisoother & pisonatur & pisonotiene & pisomadera & techozinc & techoentrepiso & techocane & techootro & cielorazo & abastaguadentro & abastaguafuera & abastaguano & public & planpri & noelec & coopele & sanitario1 & sanitario2 & sanitario3 & sanitario5 & sanitario6 & energcocinar1 & energcocinar2 & energcocinar3 & energcocinar4 & elimbasu1 & elimbasu2 & elimbasu3 & elimbasu4 & elimbasu5 & elimbasu6 & epared1 & epared2 & epared3 & etecho1 & etecho2 & etecho3 & eviv1 & eviv2 & eviv3 & dis & male & female & estadocivil1 & estadocivil2 & estadocivil3 & estadocivil4 & estadocivil5 & estadocivil6 & estadocivil7 & parentesco1 & parentesco2 & parentesco3 & parentesco4 & parentesco5 & parentesco6 & parentesco7 & parentesco8 & parentesco9 & parentesco10 & parentesco11 & parentesco12 & idhogar & hogar\\_nin & hogar\\_adul & hogar\\_mayor & hogar\\_total & dependency & edjefe & edjefa & meaneduc & instlevel1 & instlevel2 & instlevel3 & instlevel4 & instlevel5 & instlevel6 & instlevel7 & instlevel8 & instlevel9 & bedrooms & overcrowding & tipovivi1 & tipovivi2 & tipovivi3 & tipovivi4 & tipovivi5 & computer & television & mobilephone & qmobilephone & lugar1 & lugar2 & lugar3 & lugar4 & lugar5 & lugar6 & area1 & area2 & age & SQBescolari & SQBage & SQBhogar\\_total & SQBedjefe & SQBhogar\\_nin & SQBovercrowding & SQBdependency & SQBmeaned & agesq & Target\\\\\n  & <chr> & <dbl> & <int> & <int> & <int> & <int> & <int> & <int> & <dbl> & <int> & <int> & <int> & <int> & <int> & <int> & <int> & <int> & <int> & <int> & <int> & <int> & <int> & <int> & <int> & <int> & <int> & <int> & <int> & <int> & <int> & <int> & <int> & <int> & <int> & <int> & <int> & <int> & <int> & <int> & <int> & <int> & <int> & <int> & <int> & <int> & <int> & <int> & <int> & <int> & <int> & <int> & <int> & <int> & <int> & <int> & <int> & <int> & <int> & <int> & <int> & <int> & <int> & <int> & <int> & <int> & <int> & <int> & <int> & <int> & <int> & <int> & <int> & <int> & <int> & <int> & <int> & <int> & <int> & <int> & <int> & <int> & <int> & <int> & <int> & <int> & <int> & <int> & <int> & <int> & <int> & <int> & <int> & <int> & <int> & <chr> & <int> & <int> & <int> & <int> & <chr> & <chr> & <chr> & <dbl> & <int> & <int> & <int> & <int> & <int> & <int> & <int> & <int> & <int> & <int> & <dbl> & <int> & <int> & <int> & <int> & <int> & <int> & <int> & <int> & <int> & <int> & <int> & <int> & <int> & <int> & <int> & <int> & <int> & <int> & <int> & <int> & <int> & <int> & <int> & <dbl> & <dbl> & <dbl> & <int> & <int>\\\\\n\\hline\n\t1 & ID\\_279628684 & 190000 & 0 & 3 & 0 & 1 & 1 & 0 & 1 & 0 & 1 & 1 & 0 & 0 & 0 & 0 & 1 & 1 & 1 & 1 & 10 & 1 & 1 & 0 & 0 & 0 & 0 & 0 & 0 & 0 & 1 & 0 & 0 & 0 & 0 & 0 & 0 & 1 & 0 & 0 & 1 & 1 & 0 & 0 & 1 & 0 & 0 & 0 & 0 & 1 & 0 & 0 & 0 & 0 & 0 & 1 & 0 & 1 & 0 & 0 & 0 & 0 & 0 & 0 & 1 & 0 & 1 & 0 & 0 & 1 & 0 & 0 & 0 & 1 & 0 & 0 & 0 & 0 & 1 & 0 & 0 & 0 & 1 & 0 & 0 & 0 & 0 & 0 & 0 & 0 & 0 & 0 & 0 & 0 & 21eb7fcc1 & 0 & 1 & 0 & 1 & no  & 10 & no & 10 & 0 & 0 & 0 & 1 & 0 & 0 & 0 & 0 & 0 & 1 & 1.000000 & 0 & 0 & 1 & 0 & 0 & 0 & 0 & 1 & 1 & 1 & 0 & 0 & 0 & 0 & 0 & 1 & 0 & 43 & 100 & 1849 &  1 & 100 & 0 & 1.000000 &  0 & 100 & 1849 & 4\\\\\n\t2 & ID\\_f29eb3ddd & 135000 & 0 & 4 & 0 & 1 & 1 & 1 & 1 & 0 & 1 & 1 & 0 & 0 & 0 & 0 & 1 & 1 & 1 & 1 & 12 & 1 & 0 & 0 & 0 & 0 & 1 & 0 & 0 & 0 & 0 & 0 & 0 & 0 & 0 & 1 & 1 & 0 & 0 & 0 & 1 & 1 & 0 & 0 & 1 & 0 & 0 & 0 & 0 & 1 & 0 & 0 & 0 & 0 & 1 & 0 & 0 & 1 & 0 & 0 & 0 & 0 & 0 & 0 & 1 & 0 & 0 & 1 & 0 & 0 & 1 & 0 & 0 & 1 & 0 & 0 & 0 & 0 & 1 & 0 & 0 & 0 & 1 & 0 & 0 & 0 & 0 & 0 & 0 & 0 & 0 & 0 & 0 & 0 & 0e5d7a658 & 0 & 1 & 1 & 1 & 8   & 12 & no & 12 & 0 & 0 & 0 & 0 & 0 & 0 & 0 & 1 & 0 & 1 & 1.000000 & 0 & 0 & 1 & 0 & 0 & 0 & 0 & 1 & 1 & 1 & 0 & 0 & 0 & 0 & 0 & 1 & 0 & 67 & 144 & 4489 &  1 & 144 & 0 & 1.000000 & 64 & 144 & 4489 & 4\\\\\n\t3 & ID\\_68de51c94 & 150000 & 0 & 8 & 0 & 1 & 1 & 0 & 1 & 0 & 0 & 0 & 0 & 1 & 1 & 0 & 1 & 1 & 1 & 1 & 11 & 1 & 0 & 0 & 0 & 0 & 1 & 0 & 0 & 0 & 1 & 0 & 0 & 0 & 0 & 0 & 1 & 0 & 0 & 0 & 1 & 1 & 0 & 0 & 1 & 0 & 0 & 0 & 0 & 1 & 0 & 0 & 0 & 0 & 1 & 0 & 0 & 1 & 0 & 0 & 0 & 0 & 0 & 0 & 1 & 0 & 0 & 0 & 1 & 0 & 0 & 1 & 1 & 0 & 1 & 0 & 0 & 0 & 0 & 0 & 1 & 0 & 1 & 0 & 0 & 0 & 0 & 0 & 0 & 0 & 0 & 0 & 0 & 0 & 2c7317ea8 & 0 & 1 & 1 & 1 & 8   & no & 11 & 11 & 0 & 0 & 0 & 0 & 1 & 0 & 0 & 0 & 0 & 2 & 0.500000 & 1 & 0 & 0 & 0 & 0 & 0 & 0 & 0 & 0 & 1 & 0 & 0 & 0 & 0 & 0 & 1 & 0 & 92 & 121 & 8464 &  1 &   0 & 0 & 0.250000 & 64 & 121 & 8464 & 4\\\\\n\t4 & ID\\_d671db89c & 180000 & 0 & 5 & 0 & 1 & 1 & 1 & 1 & 0 & 2 & 2 & 1 & 1 & 2 & 1 & 3 & 4 & 4 & 4 &  9 & 4 & 1 & 0 & 0 & 0 & 0 & 0 & 0 & 0 & 1 & 0 & 0 & 0 & 0 & 0 & 1 & 0 & 0 & 0 & 1 & 1 & 0 & 0 & 1 & 0 & 0 & 0 & 0 & 1 & 0 & 0 & 0 & 0 & 1 & 0 & 0 & 1 & 0 & 0 & 0 & 0 & 0 & 0 & 0 & 1 & 0 & 0 & 1 & 0 & 0 & 1 & 0 & 1 & 0 & 0 & 0 & 0 & 0 & 0 & 0 & 1 & 0 & 0 & 1 & 0 & 0 & 0 & 0 & 0 & 0 & 0 & 0 & 0 & 2b58d945f & 2 & 2 & 0 & 4 & yes & 11 & no & 11 & 0 & 0 & 0 & 1 & 0 & 0 & 0 & 0 & 0 & 3 & 1.333333 & 0 & 0 & 1 & 0 & 0 & 0 & 0 & 1 & 3 & 1 & 0 & 0 & 0 & 0 & 0 & 1 & 0 & 17 &  81 &  289 & 16 & 121 & 4 & 1.777778 &  1 & 121 &  289 & 4\\\\\n\t5 & ID\\_d56d6f5f5 & 180000 & 0 & 5 & 0 & 1 & 1 & 1 & 1 & 0 & 2 & 2 & 1 & 1 & 2 & 1 & 3 & 4 & 4 & 4 & 11 & 4 & 1 & 0 & 0 & 0 & 0 & 0 & 0 & 0 & 1 & 0 & 0 & 0 & 0 & 0 & 1 & 0 & 0 & 0 & 1 & 1 & 0 & 0 & 1 & 0 & 0 & 0 & 0 & 1 & 0 & 0 & 0 & 0 & 1 & 0 & 0 & 1 & 0 & 0 & 0 & 0 & 0 & 0 & 0 & 1 & 0 & 0 & 1 & 0 & 0 & 1 & 0 & 0 & 1 & 0 & 1 & 0 & 0 & 0 & 0 & 0 & 0 & 1 & 0 & 0 & 0 & 0 & 0 & 0 & 0 & 0 & 0 & 0 & 2b58d945f & 2 & 2 & 0 & 4 & yes & 11 & no & 11 & 0 & 0 & 0 & 0 & 1 & 0 & 0 & 0 & 0 & 3 & 1.333333 & 0 & 0 & 1 & 0 & 0 & 0 & 0 & 1 & 3 & 1 & 0 & 0 & 0 & 0 & 0 & 1 & 0 & 37 & 121 & 1369 & 16 & 121 & 4 & 1.777778 &  1 & 121 & 1369 & 4\\\\\n\t6 & ID\\_ec05b1a7b & 180000 & 0 & 5 & 0 & 1 & 1 & 1 & 1 & 0 & 2 & 2 & 1 & 1 & 2 & 1 & 3 & 4 & 4 & 4 & 11 & 4 & 1 & 0 & 0 & 0 & 0 & 0 & 0 & 0 & 1 & 0 & 0 & 0 & 0 & 0 & 1 & 0 & 0 & 0 & 1 & 1 & 0 & 0 & 1 & 0 & 0 & 0 & 0 & 1 & 0 & 0 & 0 & 0 & 1 & 0 & 0 & 1 & 0 & 0 & 0 & 0 & 0 & 0 & 0 & 1 & 0 & 0 & 1 & 0 & 0 & 1 & 0 & 1 & 0 & 0 & 1 & 0 & 0 & 0 & 0 & 0 & 1 & 0 & 0 & 0 & 0 & 0 & 0 & 0 & 0 & 0 & 0 & 0 & 2b58d945f & 2 & 2 & 0 & 4 & yes & 11 & no & 11 & 0 & 0 & 0 & 0 & 1 & 0 & 0 & 0 & 0 & 3 & 1.333333 & 0 & 0 & 1 & 0 & 0 & 0 & 0 & 1 & 3 & 1 & 0 & 0 & 0 & 0 & 0 & 1 & 0 & 38 & 121 & 1444 & 16 & 121 & 4 & 1.777778 &  1 & 121 & 1444 & 4\\\\\n\\end{tabular}\n",
            "text/markdown": "\nA data.frame: 6 × 142\n\n| <!--/--> | Id &lt;chr&gt; | v2a1 &lt;dbl&gt; | hacdor &lt;int&gt; | rooms &lt;int&gt; | hacapo &lt;int&gt; | v14a &lt;int&gt; | refrig &lt;int&gt; | v18q &lt;int&gt; | v18q1 &lt;dbl&gt; | r4h1 &lt;int&gt; | r4h2 &lt;int&gt; | r4h3 &lt;int&gt; | r4m1 &lt;int&gt; | r4m2 &lt;int&gt; | r4m3 &lt;int&gt; | r4t1 &lt;int&gt; | r4t2 &lt;int&gt; | r4t3 &lt;int&gt; | tamhog &lt;int&gt; | tamviv &lt;int&gt; | escolari &lt;int&gt; | hhsize &lt;int&gt; | paredblolad &lt;int&gt; | paredzocalo &lt;int&gt; | paredpreb &lt;int&gt; | pareddes &lt;int&gt; | paredmad &lt;int&gt; | paredzinc &lt;int&gt; | paredfibras &lt;int&gt; | paredother &lt;int&gt; | pisomoscer &lt;int&gt; | pisocemento &lt;int&gt; | pisoother &lt;int&gt; | pisonatur &lt;int&gt; | pisonotiene &lt;int&gt; | pisomadera &lt;int&gt; | techozinc &lt;int&gt; | techoentrepiso &lt;int&gt; | techocane &lt;int&gt; | techootro &lt;int&gt; | cielorazo &lt;int&gt; | abastaguadentro &lt;int&gt; | abastaguafuera &lt;int&gt; | abastaguano &lt;int&gt; | public &lt;int&gt; | planpri &lt;int&gt; | noelec &lt;int&gt; | coopele &lt;int&gt; | sanitario1 &lt;int&gt; | sanitario2 &lt;int&gt; | sanitario3 &lt;int&gt; | sanitario5 &lt;int&gt; | sanitario6 &lt;int&gt; | energcocinar1 &lt;int&gt; | energcocinar2 &lt;int&gt; | energcocinar3 &lt;int&gt; | energcocinar4 &lt;int&gt; | elimbasu1 &lt;int&gt; | elimbasu2 &lt;int&gt; | elimbasu3 &lt;int&gt; | elimbasu4 &lt;int&gt; | elimbasu5 &lt;int&gt; | elimbasu6 &lt;int&gt; | epared1 &lt;int&gt; | epared2 &lt;int&gt; | epared3 &lt;int&gt; | etecho1 &lt;int&gt; | etecho2 &lt;int&gt; | etecho3 &lt;int&gt; | eviv1 &lt;int&gt; | eviv2 &lt;int&gt; | eviv3 &lt;int&gt; | dis &lt;int&gt; | male &lt;int&gt; | female &lt;int&gt; | estadocivil1 &lt;int&gt; | estadocivil2 &lt;int&gt; | estadocivil3 &lt;int&gt; | estadocivil4 &lt;int&gt; | estadocivil5 &lt;int&gt; | estadocivil6 &lt;int&gt; | estadocivil7 &lt;int&gt; | parentesco1 &lt;int&gt; | parentesco2 &lt;int&gt; | parentesco3 &lt;int&gt; | parentesco4 &lt;int&gt; | parentesco5 &lt;int&gt; | parentesco6 &lt;int&gt; | parentesco7 &lt;int&gt; | parentesco8 &lt;int&gt; | parentesco9 &lt;int&gt; | parentesco10 &lt;int&gt; | parentesco11 &lt;int&gt; | parentesco12 &lt;int&gt; | idhogar &lt;chr&gt; | hogar_nin &lt;int&gt; | hogar_adul &lt;int&gt; | hogar_mayor &lt;int&gt; | hogar_total &lt;int&gt; | dependency &lt;chr&gt; | edjefe &lt;chr&gt; | edjefa &lt;chr&gt; | meaneduc &lt;dbl&gt; | instlevel1 &lt;int&gt; | instlevel2 &lt;int&gt; | instlevel3 &lt;int&gt; | instlevel4 &lt;int&gt; | instlevel5 &lt;int&gt; | instlevel6 &lt;int&gt; | instlevel7 &lt;int&gt; | instlevel8 &lt;int&gt; | instlevel9 &lt;int&gt; | bedrooms &lt;int&gt; | overcrowding &lt;dbl&gt; | tipovivi1 &lt;int&gt; | tipovivi2 &lt;int&gt; | tipovivi3 &lt;int&gt; | tipovivi4 &lt;int&gt; | tipovivi5 &lt;int&gt; | computer &lt;int&gt; | television &lt;int&gt; | mobilephone &lt;int&gt; | qmobilephone &lt;int&gt; | lugar1 &lt;int&gt; | lugar2 &lt;int&gt; | lugar3 &lt;int&gt; | lugar4 &lt;int&gt; | lugar5 &lt;int&gt; | lugar6 &lt;int&gt; | area1 &lt;int&gt; | area2 &lt;int&gt; | age &lt;int&gt; | SQBescolari &lt;int&gt; | SQBage &lt;int&gt; | SQBhogar_total &lt;int&gt; | SQBedjefe &lt;int&gt; | SQBhogar_nin &lt;int&gt; | SQBovercrowding &lt;dbl&gt; | SQBdependency &lt;dbl&gt; | SQBmeaned &lt;dbl&gt; | agesq &lt;int&gt; | Target &lt;int&gt; |\n|---|---|---|---|---|---|---|---|---|---|---|---|---|---|---|---|---|---|---|---|---|---|---|---|---|---|---|---|---|---|---|---|---|---|---|---|---|---|---|---|---|---|---|---|---|---|---|---|---|---|---|---|---|---|---|---|---|---|---|---|---|---|---|---|---|---|---|---|---|---|---|---|---|---|---|---|---|---|---|---|---|---|---|---|---|---|---|---|---|---|---|---|---|---|---|---|---|---|---|---|---|---|---|---|---|---|---|---|---|---|---|---|---|---|---|---|---|---|---|---|---|---|---|---|---|---|---|---|---|---|---|---|---|---|---|---|---|---|---|---|---|---|---|\n| 1 | ID_279628684 | 190000 | 0 | 3 | 0 | 1 | 1 | 0 | 1 | 0 | 1 | 1 | 0 | 0 | 0 | 0 | 1 | 1 | 1 | 1 | 10 | 1 | 1 | 0 | 0 | 0 | 0 | 0 | 0 | 0 | 1 | 0 | 0 | 0 | 0 | 0 | 0 | 1 | 0 | 0 | 1 | 1 | 0 | 0 | 1 | 0 | 0 | 0 | 0 | 1 | 0 | 0 | 0 | 0 | 0 | 1 | 0 | 1 | 0 | 0 | 0 | 0 | 0 | 0 | 1 | 0 | 1 | 0 | 0 | 1 | 0 | 0 | 0 | 1 | 0 | 0 | 0 | 0 | 1 | 0 | 0 | 0 | 1 | 0 | 0 | 0 | 0 | 0 | 0 | 0 | 0 | 0 | 0 | 0 | 21eb7fcc1 | 0 | 1 | 0 | 1 | no  | 10 | no | 10 | 0 | 0 | 0 | 1 | 0 | 0 | 0 | 0 | 0 | 1 | 1.000000 | 0 | 0 | 1 | 0 | 0 | 0 | 0 | 1 | 1 | 1 | 0 | 0 | 0 | 0 | 0 | 1 | 0 | 43 | 100 | 1849 |  1 | 100 | 0 | 1.000000 |  0 | 100 | 1849 | 4 |\n| 2 | ID_f29eb3ddd | 135000 | 0 | 4 | 0 | 1 | 1 | 1 | 1 | 0 | 1 | 1 | 0 | 0 | 0 | 0 | 1 | 1 | 1 | 1 | 12 | 1 | 0 | 0 | 0 | 0 | 1 | 0 | 0 | 0 | 0 | 0 | 0 | 0 | 0 | 1 | 1 | 0 | 0 | 0 | 1 | 1 | 0 | 0 | 1 | 0 | 0 | 0 | 0 | 1 | 0 | 0 | 0 | 0 | 1 | 0 | 0 | 1 | 0 | 0 | 0 | 0 | 0 | 0 | 1 | 0 | 0 | 1 | 0 | 0 | 1 | 0 | 0 | 1 | 0 | 0 | 0 | 0 | 1 | 0 | 0 | 0 | 1 | 0 | 0 | 0 | 0 | 0 | 0 | 0 | 0 | 0 | 0 | 0 | 0e5d7a658 | 0 | 1 | 1 | 1 | 8   | 12 | no | 12 | 0 | 0 | 0 | 0 | 0 | 0 | 0 | 1 | 0 | 1 | 1.000000 | 0 | 0 | 1 | 0 | 0 | 0 | 0 | 1 | 1 | 1 | 0 | 0 | 0 | 0 | 0 | 1 | 0 | 67 | 144 | 4489 |  1 | 144 | 0 | 1.000000 | 64 | 144 | 4489 | 4 |\n| 3 | ID_68de51c94 | 150000 | 0 | 8 | 0 | 1 | 1 | 0 | 1 | 0 | 0 | 0 | 0 | 1 | 1 | 0 | 1 | 1 | 1 | 1 | 11 | 1 | 0 | 0 | 0 | 0 | 1 | 0 | 0 | 0 | 1 | 0 | 0 | 0 | 0 | 0 | 1 | 0 | 0 | 0 | 1 | 1 | 0 | 0 | 1 | 0 | 0 | 0 | 0 | 1 | 0 | 0 | 0 | 0 | 1 | 0 | 0 | 1 | 0 | 0 | 0 | 0 | 0 | 0 | 1 | 0 | 0 | 0 | 1 | 0 | 0 | 1 | 1 | 0 | 1 | 0 | 0 | 0 | 0 | 0 | 1 | 0 | 1 | 0 | 0 | 0 | 0 | 0 | 0 | 0 | 0 | 0 | 0 | 0 | 2c7317ea8 | 0 | 1 | 1 | 1 | 8   | no | 11 | 11 | 0 | 0 | 0 | 0 | 1 | 0 | 0 | 0 | 0 | 2 | 0.500000 | 1 | 0 | 0 | 0 | 0 | 0 | 0 | 0 | 0 | 1 | 0 | 0 | 0 | 0 | 0 | 1 | 0 | 92 | 121 | 8464 |  1 |   0 | 0 | 0.250000 | 64 | 121 | 8464 | 4 |\n| 4 | ID_d671db89c | 180000 | 0 | 5 | 0 | 1 | 1 | 1 | 1 | 0 | 2 | 2 | 1 | 1 | 2 | 1 | 3 | 4 | 4 | 4 |  9 | 4 | 1 | 0 | 0 | 0 | 0 | 0 | 0 | 0 | 1 | 0 | 0 | 0 | 0 | 0 | 1 | 0 | 0 | 0 | 1 | 1 | 0 | 0 | 1 | 0 | 0 | 0 | 0 | 1 | 0 | 0 | 0 | 0 | 1 | 0 | 0 | 1 | 0 | 0 | 0 | 0 | 0 | 0 | 0 | 1 | 0 | 0 | 1 | 0 | 0 | 1 | 0 | 1 | 0 | 0 | 0 | 0 | 0 | 0 | 0 | 1 | 0 | 0 | 1 | 0 | 0 | 0 | 0 | 0 | 0 | 0 | 0 | 0 | 2b58d945f | 2 | 2 | 0 | 4 | yes | 11 | no | 11 | 0 | 0 | 0 | 1 | 0 | 0 | 0 | 0 | 0 | 3 | 1.333333 | 0 | 0 | 1 | 0 | 0 | 0 | 0 | 1 | 3 | 1 | 0 | 0 | 0 | 0 | 0 | 1 | 0 | 17 |  81 |  289 | 16 | 121 | 4 | 1.777778 |  1 | 121 |  289 | 4 |\n| 5 | ID_d56d6f5f5 | 180000 | 0 | 5 | 0 | 1 | 1 | 1 | 1 | 0 | 2 | 2 | 1 | 1 | 2 | 1 | 3 | 4 | 4 | 4 | 11 | 4 | 1 | 0 | 0 | 0 | 0 | 0 | 0 | 0 | 1 | 0 | 0 | 0 | 0 | 0 | 1 | 0 | 0 | 0 | 1 | 1 | 0 | 0 | 1 | 0 | 0 | 0 | 0 | 1 | 0 | 0 | 0 | 0 | 1 | 0 | 0 | 1 | 0 | 0 | 0 | 0 | 0 | 0 | 0 | 1 | 0 | 0 | 1 | 0 | 0 | 1 | 0 | 0 | 1 | 0 | 1 | 0 | 0 | 0 | 0 | 0 | 0 | 1 | 0 | 0 | 0 | 0 | 0 | 0 | 0 | 0 | 0 | 0 | 2b58d945f | 2 | 2 | 0 | 4 | yes | 11 | no | 11 | 0 | 0 | 0 | 0 | 1 | 0 | 0 | 0 | 0 | 3 | 1.333333 | 0 | 0 | 1 | 0 | 0 | 0 | 0 | 1 | 3 | 1 | 0 | 0 | 0 | 0 | 0 | 1 | 0 | 37 | 121 | 1369 | 16 | 121 | 4 | 1.777778 |  1 | 121 | 1369 | 4 |\n| 6 | ID_ec05b1a7b | 180000 | 0 | 5 | 0 | 1 | 1 | 1 | 1 | 0 | 2 | 2 | 1 | 1 | 2 | 1 | 3 | 4 | 4 | 4 | 11 | 4 | 1 | 0 | 0 | 0 | 0 | 0 | 0 | 0 | 1 | 0 | 0 | 0 | 0 | 0 | 1 | 0 | 0 | 0 | 1 | 1 | 0 | 0 | 1 | 0 | 0 | 0 | 0 | 1 | 0 | 0 | 0 | 0 | 1 | 0 | 0 | 1 | 0 | 0 | 0 | 0 | 0 | 0 | 0 | 1 | 0 | 0 | 1 | 0 | 0 | 1 | 0 | 1 | 0 | 0 | 1 | 0 | 0 | 0 | 0 | 0 | 1 | 0 | 0 | 0 | 0 | 0 | 0 | 0 | 0 | 0 | 0 | 0 | 2b58d945f | 2 | 2 | 0 | 4 | yes | 11 | no | 11 | 0 | 0 | 0 | 0 | 1 | 0 | 0 | 0 | 0 | 3 | 1.333333 | 0 | 0 | 1 | 0 | 0 | 0 | 0 | 1 | 3 | 1 | 0 | 0 | 0 | 0 | 0 | 1 | 0 | 38 | 121 | 1444 | 16 | 121 | 4 | 1.777778 |  1 | 121 | 1444 | 4 |\n\n",
            "text/html": [
              "<table class=\"dataframe\">\n",
              "<caption>A data.frame: 6 × 142</caption>\n",
              "<thead>\n",
              "\t<tr><th></th><th scope=col>Id</th><th scope=col>v2a1</th><th scope=col>hacdor</th><th scope=col>rooms</th><th scope=col>hacapo</th><th scope=col>v14a</th><th scope=col>refrig</th><th scope=col>v18q</th><th scope=col>v18q1</th><th scope=col>r4h1</th><th scope=col>r4h2</th><th scope=col>r4h3</th><th scope=col>r4m1</th><th scope=col>r4m2</th><th scope=col>r4m3</th><th scope=col>r4t1</th><th scope=col>r4t2</th><th scope=col>r4t3</th><th scope=col>tamhog</th><th scope=col>tamviv</th><th scope=col>escolari</th><th scope=col>hhsize</th><th scope=col>paredblolad</th><th scope=col>paredzocalo</th><th scope=col>paredpreb</th><th scope=col>pareddes</th><th scope=col>paredmad</th><th scope=col>paredzinc</th><th scope=col>paredfibras</th><th scope=col>paredother</th><th scope=col>pisomoscer</th><th scope=col>pisocemento</th><th scope=col>pisoother</th><th scope=col>pisonatur</th><th scope=col>pisonotiene</th><th scope=col>pisomadera</th><th scope=col>techozinc</th><th scope=col>techoentrepiso</th><th scope=col>techocane</th><th scope=col>techootro</th><th scope=col>cielorazo</th><th scope=col>abastaguadentro</th><th scope=col>abastaguafuera</th><th scope=col>abastaguano</th><th scope=col>public</th><th scope=col>planpri</th><th scope=col>noelec</th><th scope=col>coopele</th><th scope=col>sanitario1</th><th scope=col>sanitario2</th><th scope=col>sanitario3</th><th scope=col>sanitario5</th><th scope=col>sanitario6</th><th scope=col>energcocinar1</th><th scope=col>energcocinar2</th><th scope=col>energcocinar3</th><th scope=col>energcocinar4</th><th scope=col>elimbasu1</th><th scope=col>elimbasu2</th><th scope=col>elimbasu3</th><th scope=col>elimbasu4</th><th scope=col>elimbasu5</th><th scope=col>elimbasu6</th><th scope=col>epared1</th><th scope=col>epared2</th><th scope=col>epared3</th><th scope=col>etecho1</th><th scope=col>etecho2</th><th scope=col>etecho3</th><th scope=col>eviv1</th><th scope=col>eviv2</th><th scope=col>eviv3</th><th scope=col>dis</th><th scope=col>male</th><th scope=col>female</th><th scope=col>estadocivil1</th><th scope=col>estadocivil2</th><th scope=col>estadocivil3</th><th scope=col>estadocivil4</th><th scope=col>estadocivil5</th><th scope=col>estadocivil6</th><th scope=col>estadocivil7</th><th scope=col>parentesco1</th><th scope=col>parentesco2</th><th scope=col>parentesco3</th><th scope=col>parentesco4</th><th scope=col>parentesco5</th><th scope=col>parentesco6</th><th scope=col>parentesco7</th><th scope=col>parentesco8</th><th scope=col>parentesco9</th><th scope=col>parentesco10</th><th scope=col>parentesco11</th><th scope=col>parentesco12</th><th scope=col>idhogar</th><th scope=col>hogar_nin</th><th scope=col>hogar_adul</th><th scope=col>hogar_mayor</th><th scope=col>hogar_total</th><th scope=col>dependency</th><th scope=col>edjefe</th><th scope=col>edjefa</th><th scope=col>meaneduc</th><th scope=col>instlevel1</th><th scope=col>instlevel2</th><th scope=col>instlevel3</th><th scope=col>instlevel4</th><th scope=col>instlevel5</th><th scope=col>instlevel6</th><th scope=col>instlevel7</th><th scope=col>instlevel8</th><th scope=col>instlevel9</th><th scope=col>bedrooms</th><th scope=col>overcrowding</th><th scope=col>tipovivi1</th><th scope=col>tipovivi2</th><th scope=col>tipovivi3</th><th scope=col>tipovivi4</th><th scope=col>tipovivi5</th><th scope=col>computer</th><th scope=col>television</th><th scope=col>mobilephone</th><th scope=col>qmobilephone</th><th scope=col>lugar1</th><th scope=col>lugar2</th><th scope=col>lugar3</th><th scope=col>lugar4</th><th scope=col>lugar5</th><th scope=col>lugar6</th><th scope=col>area1</th><th scope=col>area2</th><th scope=col>age</th><th scope=col>SQBescolari</th><th scope=col>SQBage</th><th scope=col>SQBhogar_total</th><th scope=col>SQBedjefe</th><th scope=col>SQBhogar_nin</th><th scope=col>SQBovercrowding</th><th scope=col>SQBdependency</th><th scope=col>SQBmeaned</th><th scope=col>agesq</th><th scope=col>Target</th></tr>\n",
              "\t<tr><th></th><th scope=col>&lt;chr&gt;</th><th scope=col>&lt;dbl&gt;</th><th scope=col>&lt;int&gt;</th><th scope=col>&lt;int&gt;</th><th scope=col>&lt;int&gt;</th><th scope=col>&lt;int&gt;</th><th scope=col>&lt;int&gt;</th><th scope=col>&lt;int&gt;</th><th scope=col>&lt;dbl&gt;</th><th scope=col>&lt;int&gt;</th><th scope=col>&lt;int&gt;</th><th scope=col>&lt;int&gt;</th><th scope=col>&lt;int&gt;</th><th scope=col>&lt;int&gt;</th><th scope=col>&lt;int&gt;</th><th scope=col>&lt;int&gt;</th><th scope=col>&lt;int&gt;</th><th scope=col>&lt;int&gt;</th><th scope=col>&lt;int&gt;</th><th scope=col>&lt;int&gt;</th><th scope=col>&lt;int&gt;</th><th scope=col>&lt;int&gt;</th><th scope=col>&lt;int&gt;</th><th scope=col>&lt;int&gt;</th><th scope=col>&lt;int&gt;</th><th scope=col>&lt;int&gt;</th><th scope=col>&lt;int&gt;</th><th scope=col>&lt;int&gt;</th><th scope=col>&lt;int&gt;</th><th scope=col>&lt;int&gt;</th><th scope=col>&lt;int&gt;</th><th scope=col>&lt;int&gt;</th><th scope=col>&lt;int&gt;</th><th scope=col>&lt;int&gt;</th><th scope=col>&lt;int&gt;</th><th scope=col>&lt;int&gt;</th><th scope=col>&lt;int&gt;</th><th scope=col>&lt;int&gt;</th><th scope=col>&lt;int&gt;</th><th scope=col>&lt;int&gt;</th><th scope=col>&lt;int&gt;</th><th scope=col>&lt;int&gt;</th><th scope=col>&lt;int&gt;</th><th scope=col>&lt;int&gt;</th><th scope=col>&lt;int&gt;</th><th scope=col>&lt;int&gt;</th><th scope=col>&lt;int&gt;</th><th scope=col>&lt;int&gt;</th><th scope=col>&lt;int&gt;</th><th scope=col>&lt;int&gt;</th><th scope=col>&lt;int&gt;</th><th scope=col>&lt;int&gt;</th><th scope=col>&lt;int&gt;</th><th scope=col>&lt;int&gt;</th><th scope=col>&lt;int&gt;</th><th scope=col>&lt;int&gt;</th><th scope=col>&lt;int&gt;</th><th scope=col>&lt;int&gt;</th><th scope=col>&lt;int&gt;</th><th scope=col>&lt;int&gt;</th><th scope=col>&lt;int&gt;</th><th scope=col>&lt;int&gt;</th><th scope=col>&lt;int&gt;</th><th scope=col>&lt;int&gt;</th><th scope=col>&lt;int&gt;</th><th scope=col>&lt;int&gt;</th><th scope=col>&lt;int&gt;</th><th scope=col>&lt;int&gt;</th><th scope=col>&lt;int&gt;</th><th scope=col>&lt;int&gt;</th><th scope=col>&lt;int&gt;</th><th scope=col>&lt;int&gt;</th><th scope=col>&lt;int&gt;</th><th scope=col>&lt;int&gt;</th><th scope=col>&lt;int&gt;</th><th scope=col>&lt;int&gt;</th><th scope=col>&lt;int&gt;</th><th scope=col>&lt;int&gt;</th><th scope=col>&lt;int&gt;</th><th scope=col>&lt;int&gt;</th><th scope=col>&lt;int&gt;</th><th scope=col>&lt;int&gt;</th><th scope=col>&lt;int&gt;</th><th scope=col>&lt;int&gt;</th><th scope=col>&lt;int&gt;</th><th scope=col>&lt;int&gt;</th><th scope=col>&lt;int&gt;</th><th scope=col>&lt;int&gt;</th><th scope=col>&lt;int&gt;</th><th scope=col>&lt;int&gt;</th><th scope=col>&lt;int&gt;</th><th scope=col>&lt;int&gt;</th><th scope=col>&lt;int&gt;</th><th scope=col>&lt;int&gt;</th><th scope=col>&lt;chr&gt;</th><th scope=col>&lt;int&gt;</th><th scope=col>&lt;int&gt;</th><th scope=col>&lt;int&gt;</th><th scope=col>&lt;int&gt;</th><th scope=col>&lt;chr&gt;</th><th scope=col>&lt;chr&gt;</th><th scope=col>&lt;chr&gt;</th><th scope=col>&lt;dbl&gt;</th><th scope=col>&lt;int&gt;</th><th scope=col>&lt;int&gt;</th><th scope=col>&lt;int&gt;</th><th scope=col>&lt;int&gt;</th><th scope=col>&lt;int&gt;</th><th scope=col>&lt;int&gt;</th><th scope=col>&lt;int&gt;</th><th scope=col>&lt;int&gt;</th><th scope=col>&lt;int&gt;</th><th scope=col>&lt;int&gt;</th><th scope=col>&lt;dbl&gt;</th><th scope=col>&lt;int&gt;</th><th scope=col>&lt;int&gt;</th><th scope=col>&lt;int&gt;</th><th scope=col>&lt;int&gt;</th><th scope=col>&lt;int&gt;</th><th scope=col>&lt;int&gt;</th><th scope=col>&lt;int&gt;</th><th scope=col>&lt;int&gt;</th><th scope=col>&lt;int&gt;</th><th scope=col>&lt;int&gt;</th><th scope=col>&lt;int&gt;</th><th scope=col>&lt;int&gt;</th><th scope=col>&lt;int&gt;</th><th scope=col>&lt;int&gt;</th><th scope=col>&lt;int&gt;</th><th scope=col>&lt;int&gt;</th><th scope=col>&lt;int&gt;</th><th scope=col>&lt;int&gt;</th><th scope=col>&lt;int&gt;</th><th scope=col>&lt;int&gt;</th><th scope=col>&lt;int&gt;</th><th scope=col>&lt;int&gt;</th><th scope=col>&lt;int&gt;</th><th scope=col>&lt;dbl&gt;</th><th scope=col>&lt;dbl&gt;</th><th scope=col>&lt;dbl&gt;</th><th scope=col>&lt;int&gt;</th><th scope=col>&lt;int&gt;</th></tr>\n",
              "</thead>\n",
              "<tbody>\n",
              "\t<tr><th scope=row>1</th><td>ID_279628684</td><td>190000</td><td>0</td><td>3</td><td>0</td><td>1</td><td>1</td><td>0</td><td>1</td><td>0</td><td>1</td><td>1</td><td>0</td><td>0</td><td>0</td><td>0</td><td>1</td><td>1</td><td>1</td><td>1</td><td>10</td><td>1</td><td>1</td><td>0</td><td>0</td><td>0</td><td>0</td><td>0</td><td>0</td><td>0</td><td>1</td><td>0</td><td>0</td><td>0</td><td>0</td><td>0</td><td>0</td><td>1</td><td>0</td><td>0</td><td>1</td><td>1</td><td>0</td><td>0</td><td>1</td><td>0</td><td>0</td><td>0</td><td>0</td><td>1</td><td>0</td><td>0</td><td>0</td><td>0</td><td>0</td><td>1</td><td>0</td><td>1</td><td>0</td><td>0</td><td>0</td><td>0</td><td>0</td><td>0</td><td>1</td><td>0</td><td>1</td><td>0</td><td>0</td><td>1</td><td>0</td><td>0</td><td>0</td><td>1</td><td>0</td><td>0</td><td>0</td><td>0</td><td>1</td><td>0</td><td>0</td><td>0</td><td>1</td><td>0</td><td>0</td><td>0</td><td>0</td><td>0</td><td>0</td><td>0</td><td>0</td><td>0</td><td>0</td><td>0</td><td>21eb7fcc1</td><td>0</td><td>1</td><td>0</td><td>1</td><td>no </td><td>10</td><td>no</td><td>10</td><td>0</td><td>0</td><td>0</td><td>1</td><td>0</td><td>0</td><td>0</td><td>0</td><td>0</td><td>1</td><td>1.000000</td><td>0</td><td>0</td><td>1</td><td>0</td><td>0</td><td>0</td><td>0</td><td>1</td><td>1</td><td>1</td><td>0</td><td>0</td><td>0</td><td>0</td><td>0</td><td>1</td><td>0</td><td>43</td><td>100</td><td>1849</td><td> 1</td><td>100</td><td>0</td><td>1.000000</td><td> 0</td><td>100</td><td>1849</td><td>4</td></tr>\n",
              "\t<tr><th scope=row>2</th><td>ID_f29eb3ddd</td><td>135000</td><td>0</td><td>4</td><td>0</td><td>1</td><td>1</td><td>1</td><td>1</td><td>0</td><td>1</td><td>1</td><td>0</td><td>0</td><td>0</td><td>0</td><td>1</td><td>1</td><td>1</td><td>1</td><td>12</td><td>1</td><td>0</td><td>0</td><td>0</td><td>0</td><td>1</td><td>0</td><td>0</td><td>0</td><td>0</td><td>0</td><td>0</td><td>0</td><td>0</td><td>1</td><td>1</td><td>0</td><td>0</td><td>0</td><td>1</td><td>1</td><td>0</td><td>0</td><td>1</td><td>0</td><td>0</td><td>0</td><td>0</td><td>1</td><td>0</td><td>0</td><td>0</td><td>0</td><td>1</td><td>0</td><td>0</td><td>1</td><td>0</td><td>0</td><td>0</td><td>0</td><td>0</td><td>0</td><td>1</td><td>0</td><td>0</td><td>1</td><td>0</td><td>0</td><td>1</td><td>0</td><td>0</td><td>1</td><td>0</td><td>0</td><td>0</td><td>0</td><td>1</td><td>0</td><td>0</td><td>0</td><td>1</td><td>0</td><td>0</td><td>0</td><td>0</td><td>0</td><td>0</td><td>0</td><td>0</td><td>0</td><td>0</td><td>0</td><td>0e5d7a658</td><td>0</td><td>1</td><td>1</td><td>1</td><td>8  </td><td>12</td><td>no</td><td>12</td><td>0</td><td>0</td><td>0</td><td>0</td><td>0</td><td>0</td><td>0</td><td>1</td><td>0</td><td>1</td><td>1.000000</td><td>0</td><td>0</td><td>1</td><td>0</td><td>0</td><td>0</td><td>0</td><td>1</td><td>1</td><td>1</td><td>0</td><td>0</td><td>0</td><td>0</td><td>0</td><td>1</td><td>0</td><td>67</td><td>144</td><td>4489</td><td> 1</td><td>144</td><td>0</td><td>1.000000</td><td>64</td><td>144</td><td>4489</td><td>4</td></tr>\n",
              "\t<tr><th scope=row>3</th><td>ID_68de51c94</td><td>150000</td><td>0</td><td>8</td><td>0</td><td>1</td><td>1</td><td>0</td><td>1</td><td>0</td><td>0</td><td>0</td><td>0</td><td>1</td><td>1</td><td>0</td><td>1</td><td>1</td><td>1</td><td>1</td><td>11</td><td>1</td><td>0</td><td>0</td><td>0</td><td>0</td><td>1</td><td>0</td><td>0</td><td>0</td><td>1</td><td>0</td><td>0</td><td>0</td><td>0</td><td>0</td><td>1</td><td>0</td><td>0</td><td>0</td><td>1</td><td>1</td><td>0</td><td>0</td><td>1</td><td>0</td><td>0</td><td>0</td><td>0</td><td>1</td><td>0</td><td>0</td><td>0</td><td>0</td><td>1</td><td>0</td><td>0</td><td>1</td><td>0</td><td>0</td><td>0</td><td>0</td><td>0</td><td>0</td><td>1</td><td>0</td><td>0</td><td>0</td><td>1</td><td>0</td><td>0</td><td>1</td><td>1</td><td>0</td><td>1</td><td>0</td><td>0</td><td>0</td><td>0</td><td>0</td><td>1</td><td>0</td><td>1</td><td>0</td><td>0</td><td>0</td><td>0</td><td>0</td><td>0</td><td>0</td><td>0</td><td>0</td><td>0</td><td>0</td><td>2c7317ea8</td><td>0</td><td>1</td><td>1</td><td>1</td><td>8  </td><td>no</td><td>11</td><td>11</td><td>0</td><td>0</td><td>0</td><td>0</td><td>1</td><td>0</td><td>0</td><td>0</td><td>0</td><td>2</td><td>0.500000</td><td>1</td><td>0</td><td>0</td><td>0</td><td>0</td><td>0</td><td>0</td><td>0</td><td>0</td><td>1</td><td>0</td><td>0</td><td>0</td><td>0</td><td>0</td><td>1</td><td>0</td><td>92</td><td>121</td><td>8464</td><td> 1</td><td>  0</td><td>0</td><td>0.250000</td><td>64</td><td>121</td><td>8464</td><td>4</td></tr>\n",
              "\t<tr><th scope=row>4</th><td>ID_d671db89c</td><td>180000</td><td>0</td><td>5</td><td>0</td><td>1</td><td>1</td><td>1</td><td>1</td><td>0</td><td>2</td><td>2</td><td>1</td><td>1</td><td>2</td><td>1</td><td>3</td><td>4</td><td>4</td><td>4</td><td> 9</td><td>4</td><td>1</td><td>0</td><td>0</td><td>0</td><td>0</td><td>0</td><td>0</td><td>0</td><td>1</td><td>0</td><td>0</td><td>0</td><td>0</td><td>0</td><td>1</td><td>0</td><td>0</td><td>0</td><td>1</td><td>1</td><td>0</td><td>0</td><td>1</td><td>0</td><td>0</td><td>0</td><td>0</td><td>1</td><td>0</td><td>0</td><td>0</td><td>0</td><td>1</td><td>0</td><td>0</td><td>1</td><td>0</td><td>0</td><td>0</td><td>0</td><td>0</td><td>0</td><td>0</td><td>1</td><td>0</td><td>0</td><td>1</td><td>0</td><td>0</td><td>1</td><td>0</td><td>1</td><td>0</td><td>0</td><td>0</td><td>0</td><td>0</td><td>0</td><td>0</td><td>1</td><td>0</td><td>0</td><td>1</td><td>0</td><td>0</td><td>0</td><td>0</td><td>0</td><td>0</td><td>0</td><td>0</td><td>0</td><td>2b58d945f</td><td>2</td><td>2</td><td>0</td><td>4</td><td>yes</td><td>11</td><td>no</td><td>11</td><td>0</td><td>0</td><td>0</td><td>1</td><td>0</td><td>0</td><td>0</td><td>0</td><td>0</td><td>3</td><td>1.333333</td><td>0</td><td>0</td><td>1</td><td>0</td><td>0</td><td>0</td><td>0</td><td>1</td><td>3</td><td>1</td><td>0</td><td>0</td><td>0</td><td>0</td><td>0</td><td>1</td><td>0</td><td>17</td><td> 81</td><td> 289</td><td>16</td><td>121</td><td>4</td><td>1.777778</td><td> 1</td><td>121</td><td> 289</td><td>4</td></tr>\n",
              "\t<tr><th scope=row>5</th><td>ID_d56d6f5f5</td><td>180000</td><td>0</td><td>5</td><td>0</td><td>1</td><td>1</td><td>1</td><td>1</td><td>0</td><td>2</td><td>2</td><td>1</td><td>1</td><td>2</td><td>1</td><td>3</td><td>4</td><td>4</td><td>4</td><td>11</td><td>4</td><td>1</td><td>0</td><td>0</td><td>0</td><td>0</td><td>0</td><td>0</td><td>0</td><td>1</td><td>0</td><td>0</td><td>0</td><td>0</td><td>0</td><td>1</td><td>0</td><td>0</td><td>0</td><td>1</td><td>1</td><td>0</td><td>0</td><td>1</td><td>0</td><td>0</td><td>0</td><td>0</td><td>1</td><td>0</td><td>0</td><td>0</td><td>0</td><td>1</td><td>0</td><td>0</td><td>1</td><td>0</td><td>0</td><td>0</td><td>0</td><td>0</td><td>0</td><td>0</td><td>1</td><td>0</td><td>0</td><td>1</td><td>0</td><td>0</td><td>1</td><td>0</td><td>0</td><td>1</td><td>0</td><td>1</td><td>0</td><td>0</td><td>0</td><td>0</td><td>0</td><td>0</td><td>1</td><td>0</td><td>0</td><td>0</td><td>0</td><td>0</td><td>0</td><td>0</td><td>0</td><td>0</td><td>0</td><td>2b58d945f</td><td>2</td><td>2</td><td>0</td><td>4</td><td>yes</td><td>11</td><td>no</td><td>11</td><td>0</td><td>0</td><td>0</td><td>0</td><td>1</td><td>0</td><td>0</td><td>0</td><td>0</td><td>3</td><td>1.333333</td><td>0</td><td>0</td><td>1</td><td>0</td><td>0</td><td>0</td><td>0</td><td>1</td><td>3</td><td>1</td><td>0</td><td>0</td><td>0</td><td>0</td><td>0</td><td>1</td><td>0</td><td>37</td><td>121</td><td>1369</td><td>16</td><td>121</td><td>4</td><td>1.777778</td><td> 1</td><td>121</td><td>1369</td><td>4</td></tr>\n",
              "\t<tr><th scope=row>6</th><td>ID_ec05b1a7b</td><td>180000</td><td>0</td><td>5</td><td>0</td><td>1</td><td>1</td><td>1</td><td>1</td><td>0</td><td>2</td><td>2</td><td>1</td><td>1</td><td>2</td><td>1</td><td>3</td><td>4</td><td>4</td><td>4</td><td>11</td><td>4</td><td>1</td><td>0</td><td>0</td><td>0</td><td>0</td><td>0</td><td>0</td><td>0</td><td>1</td><td>0</td><td>0</td><td>0</td><td>0</td><td>0</td><td>1</td><td>0</td><td>0</td><td>0</td><td>1</td><td>1</td><td>0</td><td>0</td><td>1</td><td>0</td><td>0</td><td>0</td><td>0</td><td>1</td><td>0</td><td>0</td><td>0</td><td>0</td><td>1</td><td>0</td><td>0</td><td>1</td><td>0</td><td>0</td><td>0</td><td>0</td><td>0</td><td>0</td><td>0</td><td>1</td><td>0</td><td>0</td><td>1</td><td>0</td><td>0</td><td>1</td><td>0</td><td>1</td><td>0</td><td>0</td><td>1</td><td>0</td><td>0</td><td>0</td><td>0</td><td>0</td><td>1</td><td>0</td><td>0</td><td>0</td><td>0</td><td>0</td><td>0</td><td>0</td><td>0</td><td>0</td><td>0</td><td>0</td><td>2b58d945f</td><td>2</td><td>2</td><td>0</td><td>4</td><td>yes</td><td>11</td><td>no</td><td>11</td><td>0</td><td>0</td><td>0</td><td>0</td><td>1</td><td>0</td><td>0</td><td>0</td><td>0</td><td>3</td><td>1.333333</td><td>0</td><td>0</td><td>1</td><td>0</td><td>0</td><td>0</td><td>0</td><td>1</td><td>3</td><td>1</td><td>0</td><td>0</td><td>0</td><td>0</td><td>0</td><td>1</td><td>0</td><td>38</td><td>121</td><td>1444</td><td>16</td><td>121</td><td>4</td><td>1.777778</td><td> 1</td><td>121</td><td>1444</td><td>4</td></tr>\n",
              "</tbody>\n",
              "</table>\n"
            ]
          },
          "metadata": {}
        }
      ]
    },
    {
      "cell_type": "markdown",
      "metadata": {
        "id": "_mrfVYUu-M-v"
      },
      "source": [
        "## **Dealing with Categorical Data**"
      ]
    },
    {
      "cell_type": "code",
      "metadata": {
        "colab": {
          "base_uri": "https://localhost:8080/",
          "height": 427
        },
        "id": "D24O8ZS0-i4g",
        "outputId": "209578a0-fd93-44e1-962a-29c02393650e"
      },
      "source": [
        "head(train, 10)"
      ],
      "execution_count": 20,
      "outputs": [
        {
          "output_type": "display_data",
          "data": {
            "text/plain": [
              "   Id           v2a1   hacdor rooms hacapo v14a refrig v18q v18q1 r4h1 r4h2\n",
              "1  ID_279628684 190000 0      3     0      1    1      0    1     0    1   \n",
              "2  ID_f29eb3ddd 135000 0      4     0      1    1      1    1     0    1   \n",
              "3  ID_68de51c94 150000 0      8     0      1    1      0    1     0    0   \n",
              "4  ID_d671db89c 180000 0      5     0      1    1      1    1     0    2   \n",
              "5  ID_d56d6f5f5 180000 0      5     0      1    1      1    1     0    2   \n",
              "6  ID_ec05b1a7b 180000 0      5     0      1    1      1    1     0    2   \n",
              "7  ID_e9e0c1100 180000 0      5     0      1    1      1    1     0    2   \n",
              "8  ID_3e04e571e 130000 1      2     0      1    1      0    1     0    1   \n",
              "9  ID_1284f8aad 130000 1      2     0      1    1      0    1     0    1   \n",
              "10 ID_51f52fdd2 130000 1      2     0      1    1      0    1     0    1   \n",
              "   r4h3 r4m1 r4m2 r4m3 r4t1 r4t2 r4t3 tamhog tamviv escolari hhsize paredblolad\n",
              "1  1    0    0    0    0    1    1    1      1      10       1      1          \n",
              "2  1    0    0    0    0    1    1    1      1      12       1      0          \n",
              "3  0    0    1    1    0    1    1    1      1      11       1      0          \n",
              "4  2    1    1    2    1    3    4    4      4       9       4      1          \n",
              "5  2    1    1    2    1    3    4    4      4      11       4      1          \n",
              "6  2    1    1    2    1    3    4    4      4      11       4      1          \n",
              "7  2    1    1    2    1    3    4    4      4       2       4      1          \n",
              "8  1    2    1    3    2    2    4    4      4       0       4      1          \n",
              "9  1    2    1    3    2    2    4    4      4       9       4      1          \n",
              "10 1    2    1    3    2    2    4    4      4      11       4      1          \n",
              "   paredzocalo paredpreb pareddes paredmad paredzinc paredfibras paredother\n",
              "1  0           0         0        0        0         0           0         \n",
              "2  0           0         0        1        0         0           0         \n",
              "3  0           0         0        1        0         0           0         \n",
              "4  0           0         0        0        0         0           0         \n",
              "5  0           0         0        0        0         0           0         \n",
              "6  0           0         0        0        0         0           0         \n",
              "7  0           0         0        0        0         0           0         \n",
              "8  0           0         0        0        0         0           0         \n",
              "9  0           0         0        0        0         0           0         \n",
              "10 0           0         0        0        0         0           0         \n",
              "   pisomoscer pisocemento pisoother pisonatur pisonotiene pisomadera techozinc\n",
              "1  1          0           0         0         0           0          0        \n",
              "2  0          0           0         0         0           1          1        \n",
              "3  1          0           0         0         0           0          1        \n",
              "4  1          0           0         0         0           0          1        \n",
              "5  1          0           0         0         0           0          1        \n",
              "6  1          0           0         0         0           0          1        \n",
              "7  1          0           0         0         0           0          1        \n",
              "8  1          0           0         0         0           0          1        \n",
              "9  1          0           0         0         0           0          1        \n",
              "10 1          0           0         0         0           0          1        \n",
              "   techoentrepiso techocane techootro cielorazo abastaguadentro abastaguafuera\n",
              "1  1              0         0         1         1               0             \n",
              "2  0              0         0         1         1               0             \n",
              "3  0              0         0         1         1               0             \n",
              "4  0              0         0         1         1               0             \n",
              "5  0              0         0         1         1               0             \n",
              "6  0              0         0         1         1               0             \n",
              "7  0              0         0         1         1               0             \n",
              "8  0              0         0         1         1               0             \n",
              "9  0              0         0         1         1               0             \n",
              "10 0              0         0         1         1               0             \n",
              "   abastaguano public planpri noelec coopele sanitario1 sanitario2 sanitario3\n",
              "1  0           1      0       0      0       0          1          0         \n",
              "2  0           1      0       0      0       0          1          0         \n",
              "3  0           1      0       0      0       0          1          0         \n",
              "4  0           1      0       0      0       0          1          0         \n",
              "5  0           1      0       0      0       0          1          0         \n",
              "6  0           1      0       0      0       0          1          0         \n",
              "7  0           1      0       0      0       0          1          0         \n",
              "8  0           1      0       0      0       0          1          0         \n",
              "9  0           1      0       0      0       0          1          0         \n",
              "10 0           1      0       0      0       0          1          0         \n",
              "   sanitario5 sanitario6 energcocinar1 energcocinar2 energcocinar3\n",
              "1  0          0          0             0             1            \n",
              "2  0          0          0             1             0            \n",
              "3  0          0          0             1             0            \n",
              "4  0          0          0             1             0            \n",
              "5  0          0          0             1             0            \n",
              "6  0          0          0             1             0            \n",
              "7  0          0          0             1             0            \n",
              "8  0          0          0             0             1            \n",
              "9  0          0          0             0             1            \n",
              "10 0          0          0             0             1            \n",
              "   energcocinar4 elimbasu1 elimbasu2 elimbasu3 elimbasu4 elimbasu5 elimbasu6\n",
              "1  0             1         0         0         0         0         0        \n",
              "2  0             1         0         0         0         0         0        \n",
              "3  0             1         0         0         0         0         0        \n",
              "4  0             1         0         0         0         0         0        \n",
              "5  0             1         0         0         0         0         0        \n",
              "6  0             1         0         0         0         0         0        \n",
              "7  0             1         0         0         0         0         0        \n",
              "8  0             1         0         0         0         0         0        \n",
              "9  0             1         0         0         0         0         0        \n",
              "10 0             1         0         0         0         0         0        \n",
              "   epared1 epared2 epared3 etecho1 etecho2 etecho3 eviv1 eviv2 eviv3 dis male\n",
              "1  0       1       0       1       0       0       1     0     0     0   1   \n",
              "2  0       1       0       0       1       0       0     1     0     0   1   \n",
              "3  0       1       0       0       0       1       0     0     1     1   0   \n",
              "4  0       0       1       0       0       1       0     0     1     0   1   \n",
              "5  0       0       1       0       0       1       0     0     1     0   0   \n",
              "6  0       0       1       0       0       1       0     0     1     0   1   \n",
              "7  0       0       1       0       0       1       0     0     1     0   0   \n",
              "8  1       0       0       1       0       0       0     1     0     0   0   \n",
              "9  1       0       0       1       0       0       0     1     0     0   1   \n",
              "10 1       0       0       1       0       0       0     1     0     0   0   \n",
              "   female estadocivil1 estadocivil2 estadocivil3 estadocivil4 estadocivil5\n",
              "1  0      0            0            0            1            0           \n",
              "2  0      0            0            0            1            0           \n",
              "3  1      0            0            0            0            0           \n",
              "4  0      0            0            0            0            0           \n",
              "5  1      0            1            0            0            0           \n",
              "6  0      0            1            0            0            0           \n",
              "7  1      1            0            0            0            0           \n",
              "8  1      1            0            0            0            0           \n",
              "9  0      0            1            0            0            0           \n",
              "10 1      0            1            0            0            0           \n",
              "   estadocivil6 estadocivil7 parentesco1 parentesco2 parentesco3 parentesco4\n",
              "1  0            0            1           0           0           0          \n",
              "2  0            0            1           0           0           0          \n",
              "3  1            0            1           0           0           0          \n",
              "4  0            1            0           0           1           0          \n",
              "5  0            0            0           1           0           0          \n",
              "6  0            0            1           0           0           0          \n",
              "7  0            0            0           0           1           0          \n",
              "8  0            0            0           0           1           0          \n",
              "9  0            0            1           0           0           0          \n",
              "10 0            0            0           1           0           0          \n",
              "   parentesco5 parentesco6 parentesco7 parentesco8 parentesco9 parentesco10\n",
              "1  0           0           0           0           0           0           \n",
              "2  0           0           0           0           0           0           \n",
              "3  0           0           0           0           0           0           \n",
              "4  0           0           0           0           0           0           \n",
              "5  0           0           0           0           0           0           \n",
              "6  0           0           0           0           0           0           \n",
              "7  0           0           0           0           0           0           \n",
              "8  0           0           0           0           0           0           \n",
              "9  0           0           0           0           0           0           \n",
              "10 0           0           0           0           0           0           \n",
              "   parentesco11 parentesco12 idhogar   hogar_nin hogar_adul hogar_mayor\n",
              "1  0            0            21eb7fcc1 0         1          0          \n",
              "2  0            0            0e5d7a658 0         1          1          \n",
              "3  0            0            2c7317ea8 0         1          1          \n",
              "4  0            0            2b58d945f 2         2          0          \n",
              "5  0            0            2b58d945f 2         2          0          \n",
              "6  0            0            2b58d945f 2         2          0          \n",
              "7  0            0            2b58d945f 2         2          0          \n",
              "8  0            0            d6dae86b7 2         2          0          \n",
              "9  0            0            d6dae86b7 2         2          0          \n",
              "10 0            0            d6dae86b7 2         2          0          \n",
              "   hogar_total dependency edjefe edjefa meaneduc instlevel1 instlevel2\n",
              "1  1           no         10     no     10       0          0         \n",
              "2  1           8          12     no     12       0          0         \n",
              "3  1           8          no     11     11       0          0         \n",
              "4  4           yes        11     no     11       0          0         \n",
              "5  4           yes        11     no     11       0          0         \n",
              "6  4           yes        11     no     11       0          0         \n",
              "7  4           yes        11     no     11       0          1         \n",
              "8  4           yes        9      no     10       1          0         \n",
              "9  4           yes        9      no     10       0          0         \n",
              "10 4           yes        9      no     10       0          0         \n",
              "   instlevel3 instlevel4 instlevel5 instlevel6 instlevel7 instlevel8 instlevel9\n",
              "1  0          1          0          0          0          0          0         \n",
              "2  0          0          0          0          0          1          0         \n",
              "3  0          0          1          0          0          0          0         \n",
              "4  0          1          0          0          0          0          0         \n",
              "5  0          0          1          0          0          0          0         \n",
              "6  0          0          1          0          0          0          0         \n",
              "7  0          0          0          0          0          0          0         \n",
              "8  0          0          0          0          0          0          0         \n",
              "9  0          1          0          0          0          0          0         \n",
              "10 0          0          1          0          0          0          0         \n",
              "   bedrooms overcrowding tipovivi1 tipovivi2 tipovivi3 tipovivi4 tipovivi5\n",
              "1  1        1.000000     0         0         1         0         0        \n",
              "2  1        1.000000     0         0         1         0         0        \n",
              "3  2        0.500000     1         0         0         0         0        \n",
              "4  3        1.333333     0         0         1         0         0        \n",
              "5  3        1.333333     0         0         1         0         0        \n",
              "6  3        1.333333     0         0         1         0         0        \n",
              "7  3        1.333333     0         0         1         0         0        \n",
              "8  1        4.000000     0         0         1         0         0        \n",
              "9  1        4.000000     0         0         1         0         0        \n",
              "10 1        4.000000     0         0         1         0         0        \n",
              "   computer television mobilephone qmobilephone lugar1 lugar2 lugar3 lugar4\n",
              "1  0        0          1           1            1      0      0      0     \n",
              "2  0        0          1           1            1      0      0      0     \n",
              "3  0        0          0           0            1      0      0      0     \n",
              "4  0        0          1           3            1      0      0      0     \n",
              "5  0        0          1           3            1      0      0      0     \n",
              "6  0        0          1           3            1      0      0      0     \n",
              "7  0        0          1           3            1      0      0      0     \n",
              "8  0        0          1           1            1      0      0      0     \n",
              "9  0        0          1           1            1      0      0      0     \n",
              "10 0        0          1           1            1      0      0      0     \n",
              "   lugar5 lugar6 area1 area2 age SQBescolari SQBage SQBhogar_total SQBedjefe\n",
              "1  0      0      1     0     43  100         1849    1             100      \n",
              "2  0      0      1     0     67  144         4489    1             144      \n",
              "3  0      0      1     0     92  121         8464    1               0      \n",
              "4  0      0      1     0     17   81          289   16             121      \n",
              "5  0      0      1     0     37  121         1369   16             121      \n",
              "6  0      0      1     0     38  121         1444   16             121      \n",
              "7  0      0      1     0      8    4           64   16             121      \n",
              "8  0      0      1     0      7    0           49   16              81      \n",
              "9  0      0      1     0     30   81          900   16              81      \n",
              "10 0      0      1     0     28  121          784   16              81      \n",
              "   SQBhogar_nin SQBovercrowding SQBdependency SQBmeaned agesq Target\n",
              "1  0             1.000000        0            100       1849  4     \n",
              "2  0             1.000000       64            144       4489  4     \n",
              "3  0             0.250000       64            121       8464  4     \n",
              "4  4             1.777778        1            121        289  4     \n",
              "5  4             1.777778        1            121       1369  4     \n",
              "6  4             1.777778        1            121       1444  4     \n",
              "7  4             1.777778        1            121         64  4     \n",
              "8  4            16.000000        1            100         49  4     \n",
              "9  4            16.000000        1            100        900  4     \n",
              "10 4            16.000000        1            100        784  4     "
            ],
            "text/latex": "A data.frame: 10 × 142\n\\begin{tabular}{r|llllllllllllllllllllllllllllllllllllllllllllllllllllllllllllllllllllllllllllllllllllllllllllllllllllllllllllllllllllllllllllllllllllllllllllll}\n  & Id & v2a1 & hacdor & rooms & hacapo & v14a & refrig & v18q & v18q1 & r4h1 & r4h2 & r4h3 & r4m1 & r4m2 & r4m3 & r4t1 & r4t2 & r4t3 & tamhog & tamviv & escolari & hhsize & paredblolad & paredzocalo & paredpreb & pareddes & paredmad & paredzinc & paredfibras & paredother & pisomoscer & pisocemento & pisoother & pisonatur & pisonotiene & pisomadera & techozinc & techoentrepiso & techocane & techootro & cielorazo & abastaguadentro & abastaguafuera & abastaguano & public & planpri & noelec & coopele & sanitario1 & sanitario2 & sanitario3 & sanitario5 & sanitario6 & energcocinar1 & energcocinar2 & energcocinar3 & energcocinar4 & elimbasu1 & elimbasu2 & elimbasu3 & elimbasu4 & elimbasu5 & elimbasu6 & epared1 & epared2 & epared3 & etecho1 & etecho2 & etecho3 & eviv1 & eviv2 & eviv3 & dis & male & female & estadocivil1 & estadocivil2 & estadocivil3 & estadocivil4 & estadocivil5 & estadocivil6 & estadocivil7 & parentesco1 & parentesco2 & parentesco3 & parentesco4 & parentesco5 & parentesco6 & parentesco7 & parentesco8 & parentesco9 & parentesco10 & parentesco11 & parentesco12 & idhogar & hogar\\_nin & hogar\\_adul & hogar\\_mayor & hogar\\_total & dependency & edjefe & edjefa & meaneduc & instlevel1 & instlevel2 & instlevel3 & instlevel4 & instlevel5 & instlevel6 & instlevel7 & instlevel8 & instlevel9 & bedrooms & overcrowding & tipovivi1 & tipovivi2 & tipovivi3 & tipovivi4 & tipovivi5 & computer & television & mobilephone & qmobilephone & lugar1 & lugar2 & lugar3 & lugar4 & lugar5 & lugar6 & area1 & area2 & age & SQBescolari & SQBage & SQBhogar\\_total & SQBedjefe & SQBhogar\\_nin & SQBovercrowding & SQBdependency & SQBmeaned & agesq & Target\\\\\n  & <chr> & <dbl> & <int> & <int> & <int> & <int> & <int> & <int> & <dbl> & <int> & <int> & <int> & <int> & <int> & <int> & <int> & <int> & <int> & <int> & <int> & <int> & <int> & <int> & <int> & <int> & <int> & <int> & <int> & <int> & <int> & <int> & <int> & <int> & <int> & <int> & <int> & <int> & <int> & <int> & <int> & <int> & <int> & <int> & <int> & <int> & <int> & <int> & <int> & <int> & <int> & <int> & <int> & <int> & <int> & <int> & <int> & <int> & <int> & <int> & <int> & <int> & <int> & <int> & <int> & <int> & <int> & <int> & <int> & <int> & <int> & <int> & <int> & <int> & <int> & <int> & <int> & <int> & <int> & <int> & <int> & <int> & <int> & <int> & <int> & <int> & <int> & <int> & <int> & <int> & <int> & <int> & <int> & <int> & <int> & <chr> & <int> & <int> & <int> & <int> & <chr> & <chr> & <chr> & <dbl> & <int> & <int> & <int> & <int> & <int> & <int> & <int> & <int> & <int> & <int> & <dbl> & <int> & <int> & <int> & <int> & <int> & <int> & <int> & <int> & <int> & <int> & <int> & <int> & <int> & <int> & <int> & <int> & <int> & <int> & <int> & <int> & <int> & <int> & <int> & <dbl> & <dbl> & <dbl> & <int> & <int>\\\\\n\\hline\n\t1 & ID\\_279628684 & 190000 & 0 & 3 & 0 & 1 & 1 & 0 & 1 & 0 & 1 & 1 & 0 & 0 & 0 & 0 & 1 & 1 & 1 & 1 & 10 & 1 & 1 & 0 & 0 & 0 & 0 & 0 & 0 & 0 & 1 & 0 & 0 & 0 & 0 & 0 & 0 & 1 & 0 & 0 & 1 & 1 & 0 & 0 & 1 & 0 & 0 & 0 & 0 & 1 & 0 & 0 & 0 & 0 & 0 & 1 & 0 & 1 & 0 & 0 & 0 & 0 & 0 & 0 & 1 & 0 & 1 & 0 & 0 & 1 & 0 & 0 & 0 & 1 & 0 & 0 & 0 & 0 & 1 & 0 & 0 & 0 & 1 & 0 & 0 & 0 & 0 & 0 & 0 & 0 & 0 & 0 & 0 & 0 & 21eb7fcc1 & 0 & 1 & 0 & 1 & no  & 10 & no & 10 & 0 & 0 & 0 & 1 & 0 & 0 & 0 & 0 & 0 & 1 & 1.000000 & 0 & 0 & 1 & 0 & 0 & 0 & 0 & 1 & 1 & 1 & 0 & 0 & 0 & 0 & 0 & 1 & 0 & 43 & 100 & 1849 &  1 & 100 & 0 &  1.000000 &  0 & 100 & 1849 & 4\\\\\n\t2 & ID\\_f29eb3ddd & 135000 & 0 & 4 & 0 & 1 & 1 & 1 & 1 & 0 & 1 & 1 & 0 & 0 & 0 & 0 & 1 & 1 & 1 & 1 & 12 & 1 & 0 & 0 & 0 & 0 & 1 & 0 & 0 & 0 & 0 & 0 & 0 & 0 & 0 & 1 & 1 & 0 & 0 & 0 & 1 & 1 & 0 & 0 & 1 & 0 & 0 & 0 & 0 & 1 & 0 & 0 & 0 & 0 & 1 & 0 & 0 & 1 & 0 & 0 & 0 & 0 & 0 & 0 & 1 & 0 & 0 & 1 & 0 & 0 & 1 & 0 & 0 & 1 & 0 & 0 & 0 & 0 & 1 & 0 & 0 & 0 & 1 & 0 & 0 & 0 & 0 & 0 & 0 & 0 & 0 & 0 & 0 & 0 & 0e5d7a658 & 0 & 1 & 1 & 1 & 8   & 12 & no & 12 & 0 & 0 & 0 & 0 & 0 & 0 & 0 & 1 & 0 & 1 & 1.000000 & 0 & 0 & 1 & 0 & 0 & 0 & 0 & 1 & 1 & 1 & 0 & 0 & 0 & 0 & 0 & 1 & 0 & 67 & 144 & 4489 &  1 & 144 & 0 &  1.000000 & 64 & 144 & 4489 & 4\\\\\n\t3 & ID\\_68de51c94 & 150000 & 0 & 8 & 0 & 1 & 1 & 0 & 1 & 0 & 0 & 0 & 0 & 1 & 1 & 0 & 1 & 1 & 1 & 1 & 11 & 1 & 0 & 0 & 0 & 0 & 1 & 0 & 0 & 0 & 1 & 0 & 0 & 0 & 0 & 0 & 1 & 0 & 0 & 0 & 1 & 1 & 0 & 0 & 1 & 0 & 0 & 0 & 0 & 1 & 0 & 0 & 0 & 0 & 1 & 0 & 0 & 1 & 0 & 0 & 0 & 0 & 0 & 0 & 1 & 0 & 0 & 0 & 1 & 0 & 0 & 1 & 1 & 0 & 1 & 0 & 0 & 0 & 0 & 0 & 1 & 0 & 1 & 0 & 0 & 0 & 0 & 0 & 0 & 0 & 0 & 0 & 0 & 0 & 2c7317ea8 & 0 & 1 & 1 & 1 & 8   & no & 11 & 11 & 0 & 0 & 0 & 0 & 1 & 0 & 0 & 0 & 0 & 2 & 0.500000 & 1 & 0 & 0 & 0 & 0 & 0 & 0 & 0 & 0 & 1 & 0 & 0 & 0 & 0 & 0 & 1 & 0 & 92 & 121 & 8464 &  1 &   0 & 0 &  0.250000 & 64 & 121 & 8464 & 4\\\\\n\t4 & ID\\_d671db89c & 180000 & 0 & 5 & 0 & 1 & 1 & 1 & 1 & 0 & 2 & 2 & 1 & 1 & 2 & 1 & 3 & 4 & 4 & 4 &  9 & 4 & 1 & 0 & 0 & 0 & 0 & 0 & 0 & 0 & 1 & 0 & 0 & 0 & 0 & 0 & 1 & 0 & 0 & 0 & 1 & 1 & 0 & 0 & 1 & 0 & 0 & 0 & 0 & 1 & 0 & 0 & 0 & 0 & 1 & 0 & 0 & 1 & 0 & 0 & 0 & 0 & 0 & 0 & 0 & 1 & 0 & 0 & 1 & 0 & 0 & 1 & 0 & 1 & 0 & 0 & 0 & 0 & 0 & 0 & 0 & 1 & 0 & 0 & 1 & 0 & 0 & 0 & 0 & 0 & 0 & 0 & 0 & 0 & 2b58d945f & 2 & 2 & 0 & 4 & yes & 11 & no & 11 & 0 & 0 & 0 & 1 & 0 & 0 & 0 & 0 & 0 & 3 & 1.333333 & 0 & 0 & 1 & 0 & 0 & 0 & 0 & 1 & 3 & 1 & 0 & 0 & 0 & 0 & 0 & 1 & 0 & 17 &  81 &  289 & 16 & 121 & 4 &  1.777778 &  1 & 121 &  289 & 4\\\\\n\t5 & ID\\_d56d6f5f5 & 180000 & 0 & 5 & 0 & 1 & 1 & 1 & 1 & 0 & 2 & 2 & 1 & 1 & 2 & 1 & 3 & 4 & 4 & 4 & 11 & 4 & 1 & 0 & 0 & 0 & 0 & 0 & 0 & 0 & 1 & 0 & 0 & 0 & 0 & 0 & 1 & 0 & 0 & 0 & 1 & 1 & 0 & 0 & 1 & 0 & 0 & 0 & 0 & 1 & 0 & 0 & 0 & 0 & 1 & 0 & 0 & 1 & 0 & 0 & 0 & 0 & 0 & 0 & 0 & 1 & 0 & 0 & 1 & 0 & 0 & 1 & 0 & 0 & 1 & 0 & 1 & 0 & 0 & 0 & 0 & 0 & 0 & 1 & 0 & 0 & 0 & 0 & 0 & 0 & 0 & 0 & 0 & 0 & 2b58d945f & 2 & 2 & 0 & 4 & yes & 11 & no & 11 & 0 & 0 & 0 & 0 & 1 & 0 & 0 & 0 & 0 & 3 & 1.333333 & 0 & 0 & 1 & 0 & 0 & 0 & 0 & 1 & 3 & 1 & 0 & 0 & 0 & 0 & 0 & 1 & 0 & 37 & 121 & 1369 & 16 & 121 & 4 &  1.777778 &  1 & 121 & 1369 & 4\\\\\n\t6 & ID\\_ec05b1a7b & 180000 & 0 & 5 & 0 & 1 & 1 & 1 & 1 & 0 & 2 & 2 & 1 & 1 & 2 & 1 & 3 & 4 & 4 & 4 & 11 & 4 & 1 & 0 & 0 & 0 & 0 & 0 & 0 & 0 & 1 & 0 & 0 & 0 & 0 & 0 & 1 & 0 & 0 & 0 & 1 & 1 & 0 & 0 & 1 & 0 & 0 & 0 & 0 & 1 & 0 & 0 & 0 & 0 & 1 & 0 & 0 & 1 & 0 & 0 & 0 & 0 & 0 & 0 & 0 & 1 & 0 & 0 & 1 & 0 & 0 & 1 & 0 & 1 & 0 & 0 & 1 & 0 & 0 & 0 & 0 & 0 & 1 & 0 & 0 & 0 & 0 & 0 & 0 & 0 & 0 & 0 & 0 & 0 & 2b58d945f & 2 & 2 & 0 & 4 & yes & 11 & no & 11 & 0 & 0 & 0 & 0 & 1 & 0 & 0 & 0 & 0 & 3 & 1.333333 & 0 & 0 & 1 & 0 & 0 & 0 & 0 & 1 & 3 & 1 & 0 & 0 & 0 & 0 & 0 & 1 & 0 & 38 & 121 & 1444 & 16 & 121 & 4 &  1.777778 &  1 & 121 & 1444 & 4\\\\\n\t7 & ID\\_e9e0c1100 & 180000 & 0 & 5 & 0 & 1 & 1 & 1 & 1 & 0 & 2 & 2 & 1 & 1 & 2 & 1 & 3 & 4 & 4 & 4 &  2 & 4 & 1 & 0 & 0 & 0 & 0 & 0 & 0 & 0 & 1 & 0 & 0 & 0 & 0 & 0 & 1 & 0 & 0 & 0 & 1 & 1 & 0 & 0 & 1 & 0 & 0 & 0 & 0 & 1 & 0 & 0 & 0 & 0 & 1 & 0 & 0 & 1 & 0 & 0 & 0 & 0 & 0 & 0 & 0 & 1 & 0 & 0 & 1 & 0 & 0 & 1 & 0 & 0 & 1 & 1 & 0 & 0 & 0 & 0 & 0 & 0 & 0 & 0 & 1 & 0 & 0 & 0 & 0 & 0 & 0 & 0 & 0 & 0 & 2b58d945f & 2 & 2 & 0 & 4 & yes & 11 & no & 11 & 0 & 1 & 0 & 0 & 0 & 0 & 0 & 0 & 0 & 3 & 1.333333 & 0 & 0 & 1 & 0 & 0 & 0 & 0 & 1 & 3 & 1 & 0 & 0 & 0 & 0 & 0 & 1 & 0 &  8 &   4 &   64 & 16 & 121 & 4 &  1.777778 &  1 & 121 &   64 & 4\\\\\n\t8 & ID\\_3e04e571e & 130000 & 1 & 2 & 0 & 1 & 1 & 0 & 1 & 0 & 1 & 1 & 2 & 1 & 3 & 2 & 2 & 4 & 4 & 4 &  0 & 4 & 1 & 0 & 0 & 0 & 0 & 0 & 0 & 0 & 1 & 0 & 0 & 0 & 0 & 0 & 1 & 0 & 0 & 0 & 1 & 1 & 0 & 0 & 1 & 0 & 0 & 0 & 0 & 1 & 0 & 0 & 0 & 0 & 0 & 1 & 0 & 1 & 0 & 0 & 0 & 0 & 0 & 1 & 0 & 0 & 1 & 0 & 0 & 0 & 1 & 0 & 0 & 0 & 1 & 1 & 0 & 0 & 0 & 0 & 0 & 0 & 0 & 0 & 1 & 0 & 0 & 0 & 0 & 0 & 0 & 0 & 0 & 0 & d6dae86b7 & 2 & 2 & 0 & 4 & yes & 9  & no & 10 & 1 & 0 & 0 & 0 & 0 & 0 & 0 & 0 & 0 & 1 & 4.000000 & 0 & 0 & 1 & 0 & 0 & 0 & 0 & 1 & 1 & 1 & 0 & 0 & 0 & 0 & 0 & 1 & 0 &  7 &   0 &   49 & 16 &  81 & 4 & 16.000000 &  1 & 100 &   49 & 4\\\\\n\t9 & ID\\_1284f8aad & 130000 & 1 & 2 & 0 & 1 & 1 & 0 & 1 & 0 & 1 & 1 & 2 & 1 & 3 & 2 & 2 & 4 & 4 & 4 &  9 & 4 & 1 & 0 & 0 & 0 & 0 & 0 & 0 & 0 & 1 & 0 & 0 & 0 & 0 & 0 & 1 & 0 & 0 & 0 & 1 & 1 & 0 & 0 & 1 & 0 & 0 & 0 & 0 & 1 & 0 & 0 & 0 & 0 & 0 & 1 & 0 & 1 & 0 & 0 & 0 & 0 & 0 & 1 & 0 & 0 & 1 & 0 & 0 & 0 & 1 & 0 & 0 & 1 & 0 & 0 & 1 & 0 & 0 & 0 & 0 & 0 & 1 & 0 & 0 & 0 & 0 & 0 & 0 & 0 & 0 & 0 & 0 & 0 & d6dae86b7 & 2 & 2 & 0 & 4 & yes & 9  & no & 10 & 0 & 0 & 0 & 1 & 0 & 0 & 0 & 0 & 0 & 1 & 4.000000 & 0 & 0 & 1 & 0 & 0 & 0 & 0 & 1 & 1 & 1 & 0 & 0 & 0 & 0 & 0 & 1 & 0 & 30 &  81 &  900 & 16 &  81 & 4 & 16.000000 &  1 & 100 &  900 & 4\\\\\n\t10 & ID\\_51f52fdd2 & 130000 & 1 & 2 & 0 & 1 & 1 & 0 & 1 & 0 & 1 & 1 & 2 & 1 & 3 & 2 & 2 & 4 & 4 & 4 & 11 & 4 & 1 & 0 & 0 & 0 & 0 & 0 & 0 & 0 & 1 & 0 & 0 & 0 & 0 & 0 & 1 & 0 & 0 & 0 & 1 & 1 & 0 & 0 & 1 & 0 & 0 & 0 & 0 & 1 & 0 & 0 & 0 & 0 & 0 & 1 & 0 & 1 & 0 & 0 & 0 & 0 & 0 & 1 & 0 & 0 & 1 & 0 & 0 & 0 & 1 & 0 & 0 & 0 & 1 & 0 & 1 & 0 & 0 & 0 & 0 & 0 & 0 & 1 & 0 & 0 & 0 & 0 & 0 & 0 & 0 & 0 & 0 & 0 & d6dae86b7 & 2 & 2 & 0 & 4 & yes & 9  & no & 10 & 0 & 0 & 0 & 0 & 1 & 0 & 0 & 0 & 0 & 1 & 4.000000 & 0 & 0 & 1 & 0 & 0 & 0 & 0 & 1 & 1 & 1 & 0 & 0 & 0 & 0 & 0 & 1 & 0 & 28 & 121 &  784 & 16 &  81 & 4 & 16.000000 &  1 & 100 &  784 & 4\\\\\n\\end{tabular}\n",
            "text/markdown": "\nA data.frame: 10 × 142\n\n| <!--/--> | Id &lt;chr&gt; | v2a1 &lt;dbl&gt; | hacdor &lt;int&gt; | rooms &lt;int&gt; | hacapo &lt;int&gt; | v14a &lt;int&gt; | refrig &lt;int&gt; | v18q &lt;int&gt; | v18q1 &lt;dbl&gt; | r4h1 &lt;int&gt; | r4h2 &lt;int&gt; | r4h3 &lt;int&gt; | r4m1 &lt;int&gt; | r4m2 &lt;int&gt; | r4m3 &lt;int&gt; | r4t1 &lt;int&gt; | r4t2 &lt;int&gt; | r4t3 &lt;int&gt; | tamhog &lt;int&gt; | tamviv &lt;int&gt; | escolari &lt;int&gt; | hhsize &lt;int&gt; | paredblolad &lt;int&gt; | paredzocalo &lt;int&gt; | paredpreb &lt;int&gt; | pareddes &lt;int&gt; | paredmad &lt;int&gt; | paredzinc &lt;int&gt; | paredfibras &lt;int&gt; | paredother &lt;int&gt; | pisomoscer &lt;int&gt; | pisocemento &lt;int&gt; | pisoother &lt;int&gt; | pisonatur &lt;int&gt; | pisonotiene &lt;int&gt; | pisomadera &lt;int&gt; | techozinc &lt;int&gt; | techoentrepiso &lt;int&gt; | techocane &lt;int&gt; | techootro &lt;int&gt; | cielorazo &lt;int&gt; | abastaguadentro &lt;int&gt; | abastaguafuera &lt;int&gt; | abastaguano &lt;int&gt; | public &lt;int&gt; | planpri &lt;int&gt; | noelec &lt;int&gt; | coopele &lt;int&gt; | sanitario1 &lt;int&gt; | sanitario2 &lt;int&gt; | sanitario3 &lt;int&gt; | sanitario5 &lt;int&gt; | sanitario6 &lt;int&gt; | energcocinar1 &lt;int&gt; | energcocinar2 &lt;int&gt; | energcocinar3 &lt;int&gt; | energcocinar4 &lt;int&gt; | elimbasu1 &lt;int&gt; | elimbasu2 &lt;int&gt; | elimbasu3 &lt;int&gt; | elimbasu4 &lt;int&gt; | elimbasu5 &lt;int&gt; | elimbasu6 &lt;int&gt; | epared1 &lt;int&gt; | epared2 &lt;int&gt; | epared3 &lt;int&gt; | etecho1 &lt;int&gt; | etecho2 &lt;int&gt; | etecho3 &lt;int&gt; | eviv1 &lt;int&gt; | eviv2 &lt;int&gt; | eviv3 &lt;int&gt; | dis &lt;int&gt; | male &lt;int&gt; | female &lt;int&gt; | estadocivil1 &lt;int&gt; | estadocivil2 &lt;int&gt; | estadocivil3 &lt;int&gt; | estadocivil4 &lt;int&gt; | estadocivil5 &lt;int&gt; | estadocivil6 &lt;int&gt; | estadocivil7 &lt;int&gt; | parentesco1 &lt;int&gt; | parentesco2 &lt;int&gt; | parentesco3 &lt;int&gt; | parentesco4 &lt;int&gt; | parentesco5 &lt;int&gt; | parentesco6 &lt;int&gt; | parentesco7 &lt;int&gt; | parentesco8 &lt;int&gt; | parentesco9 &lt;int&gt; | parentesco10 &lt;int&gt; | parentesco11 &lt;int&gt; | parentesco12 &lt;int&gt; | idhogar &lt;chr&gt; | hogar_nin &lt;int&gt; | hogar_adul &lt;int&gt; | hogar_mayor &lt;int&gt; | hogar_total &lt;int&gt; | dependency &lt;chr&gt; | edjefe &lt;chr&gt; | edjefa &lt;chr&gt; | meaneduc &lt;dbl&gt; | instlevel1 &lt;int&gt; | instlevel2 &lt;int&gt; | instlevel3 &lt;int&gt; | instlevel4 &lt;int&gt; | instlevel5 &lt;int&gt; | instlevel6 &lt;int&gt; | instlevel7 &lt;int&gt; | instlevel8 &lt;int&gt; | instlevel9 &lt;int&gt; | bedrooms &lt;int&gt; | overcrowding &lt;dbl&gt; | tipovivi1 &lt;int&gt; | tipovivi2 &lt;int&gt; | tipovivi3 &lt;int&gt; | tipovivi4 &lt;int&gt; | tipovivi5 &lt;int&gt; | computer &lt;int&gt; | television &lt;int&gt; | mobilephone &lt;int&gt; | qmobilephone &lt;int&gt; | lugar1 &lt;int&gt; | lugar2 &lt;int&gt; | lugar3 &lt;int&gt; | lugar4 &lt;int&gt; | lugar5 &lt;int&gt; | lugar6 &lt;int&gt; | area1 &lt;int&gt; | area2 &lt;int&gt; | age &lt;int&gt; | SQBescolari &lt;int&gt; | SQBage &lt;int&gt; | SQBhogar_total &lt;int&gt; | SQBedjefe &lt;int&gt; | SQBhogar_nin &lt;int&gt; | SQBovercrowding &lt;dbl&gt; | SQBdependency &lt;dbl&gt; | SQBmeaned &lt;dbl&gt; | agesq &lt;int&gt; | Target &lt;int&gt; |\n|---|---|---|---|---|---|---|---|---|---|---|---|---|---|---|---|---|---|---|---|---|---|---|---|---|---|---|---|---|---|---|---|---|---|---|---|---|---|---|---|---|---|---|---|---|---|---|---|---|---|---|---|---|---|---|---|---|---|---|---|---|---|---|---|---|---|---|---|---|---|---|---|---|---|---|---|---|---|---|---|---|---|---|---|---|---|---|---|---|---|---|---|---|---|---|---|---|---|---|---|---|---|---|---|---|---|---|---|---|---|---|---|---|---|---|---|---|---|---|---|---|---|---|---|---|---|---|---|---|---|---|---|---|---|---|---|---|---|---|---|---|---|---|\n| 1 | ID_279628684 | 190000 | 0 | 3 | 0 | 1 | 1 | 0 | 1 | 0 | 1 | 1 | 0 | 0 | 0 | 0 | 1 | 1 | 1 | 1 | 10 | 1 | 1 | 0 | 0 | 0 | 0 | 0 | 0 | 0 | 1 | 0 | 0 | 0 | 0 | 0 | 0 | 1 | 0 | 0 | 1 | 1 | 0 | 0 | 1 | 0 | 0 | 0 | 0 | 1 | 0 | 0 | 0 | 0 | 0 | 1 | 0 | 1 | 0 | 0 | 0 | 0 | 0 | 0 | 1 | 0 | 1 | 0 | 0 | 1 | 0 | 0 | 0 | 1 | 0 | 0 | 0 | 0 | 1 | 0 | 0 | 0 | 1 | 0 | 0 | 0 | 0 | 0 | 0 | 0 | 0 | 0 | 0 | 0 | 21eb7fcc1 | 0 | 1 | 0 | 1 | no  | 10 | no | 10 | 0 | 0 | 0 | 1 | 0 | 0 | 0 | 0 | 0 | 1 | 1.000000 | 0 | 0 | 1 | 0 | 0 | 0 | 0 | 1 | 1 | 1 | 0 | 0 | 0 | 0 | 0 | 1 | 0 | 43 | 100 | 1849 |  1 | 100 | 0 |  1.000000 |  0 | 100 | 1849 | 4 |\n| 2 | ID_f29eb3ddd | 135000 | 0 | 4 | 0 | 1 | 1 | 1 | 1 | 0 | 1 | 1 | 0 | 0 | 0 | 0 | 1 | 1 | 1 | 1 | 12 | 1 | 0 | 0 | 0 | 0 | 1 | 0 | 0 | 0 | 0 | 0 | 0 | 0 | 0 | 1 | 1 | 0 | 0 | 0 | 1 | 1 | 0 | 0 | 1 | 0 | 0 | 0 | 0 | 1 | 0 | 0 | 0 | 0 | 1 | 0 | 0 | 1 | 0 | 0 | 0 | 0 | 0 | 0 | 1 | 0 | 0 | 1 | 0 | 0 | 1 | 0 | 0 | 1 | 0 | 0 | 0 | 0 | 1 | 0 | 0 | 0 | 1 | 0 | 0 | 0 | 0 | 0 | 0 | 0 | 0 | 0 | 0 | 0 | 0e5d7a658 | 0 | 1 | 1 | 1 | 8   | 12 | no | 12 | 0 | 0 | 0 | 0 | 0 | 0 | 0 | 1 | 0 | 1 | 1.000000 | 0 | 0 | 1 | 0 | 0 | 0 | 0 | 1 | 1 | 1 | 0 | 0 | 0 | 0 | 0 | 1 | 0 | 67 | 144 | 4489 |  1 | 144 | 0 |  1.000000 | 64 | 144 | 4489 | 4 |\n| 3 | ID_68de51c94 | 150000 | 0 | 8 | 0 | 1 | 1 | 0 | 1 | 0 | 0 | 0 | 0 | 1 | 1 | 0 | 1 | 1 | 1 | 1 | 11 | 1 | 0 | 0 | 0 | 0 | 1 | 0 | 0 | 0 | 1 | 0 | 0 | 0 | 0 | 0 | 1 | 0 | 0 | 0 | 1 | 1 | 0 | 0 | 1 | 0 | 0 | 0 | 0 | 1 | 0 | 0 | 0 | 0 | 1 | 0 | 0 | 1 | 0 | 0 | 0 | 0 | 0 | 0 | 1 | 0 | 0 | 0 | 1 | 0 | 0 | 1 | 1 | 0 | 1 | 0 | 0 | 0 | 0 | 0 | 1 | 0 | 1 | 0 | 0 | 0 | 0 | 0 | 0 | 0 | 0 | 0 | 0 | 0 | 2c7317ea8 | 0 | 1 | 1 | 1 | 8   | no | 11 | 11 | 0 | 0 | 0 | 0 | 1 | 0 | 0 | 0 | 0 | 2 | 0.500000 | 1 | 0 | 0 | 0 | 0 | 0 | 0 | 0 | 0 | 1 | 0 | 0 | 0 | 0 | 0 | 1 | 0 | 92 | 121 | 8464 |  1 |   0 | 0 |  0.250000 | 64 | 121 | 8464 | 4 |\n| 4 | ID_d671db89c | 180000 | 0 | 5 | 0 | 1 | 1 | 1 | 1 | 0 | 2 | 2 | 1 | 1 | 2 | 1 | 3 | 4 | 4 | 4 |  9 | 4 | 1 | 0 | 0 | 0 | 0 | 0 | 0 | 0 | 1 | 0 | 0 | 0 | 0 | 0 | 1 | 0 | 0 | 0 | 1 | 1 | 0 | 0 | 1 | 0 | 0 | 0 | 0 | 1 | 0 | 0 | 0 | 0 | 1 | 0 | 0 | 1 | 0 | 0 | 0 | 0 | 0 | 0 | 0 | 1 | 0 | 0 | 1 | 0 | 0 | 1 | 0 | 1 | 0 | 0 | 0 | 0 | 0 | 0 | 0 | 1 | 0 | 0 | 1 | 0 | 0 | 0 | 0 | 0 | 0 | 0 | 0 | 0 | 2b58d945f | 2 | 2 | 0 | 4 | yes | 11 | no | 11 | 0 | 0 | 0 | 1 | 0 | 0 | 0 | 0 | 0 | 3 | 1.333333 | 0 | 0 | 1 | 0 | 0 | 0 | 0 | 1 | 3 | 1 | 0 | 0 | 0 | 0 | 0 | 1 | 0 | 17 |  81 |  289 | 16 | 121 | 4 |  1.777778 |  1 | 121 |  289 | 4 |\n| 5 | ID_d56d6f5f5 | 180000 | 0 | 5 | 0 | 1 | 1 | 1 | 1 | 0 | 2 | 2 | 1 | 1 | 2 | 1 | 3 | 4 | 4 | 4 | 11 | 4 | 1 | 0 | 0 | 0 | 0 | 0 | 0 | 0 | 1 | 0 | 0 | 0 | 0 | 0 | 1 | 0 | 0 | 0 | 1 | 1 | 0 | 0 | 1 | 0 | 0 | 0 | 0 | 1 | 0 | 0 | 0 | 0 | 1 | 0 | 0 | 1 | 0 | 0 | 0 | 0 | 0 | 0 | 0 | 1 | 0 | 0 | 1 | 0 | 0 | 1 | 0 | 0 | 1 | 0 | 1 | 0 | 0 | 0 | 0 | 0 | 0 | 1 | 0 | 0 | 0 | 0 | 0 | 0 | 0 | 0 | 0 | 0 | 2b58d945f | 2 | 2 | 0 | 4 | yes | 11 | no | 11 | 0 | 0 | 0 | 0 | 1 | 0 | 0 | 0 | 0 | 3 | 1.333333 | 0 | 0 | 1 | 0 | 0 | 0 | 0 | 1 | 3 | 1 | 0 | 0 | 0 | 0 | 0 | 1 | 0 | 37 | 121 | 1369 | 16 | 121 | 4 |  1.777778 |  1 | 121 | 1369 | 4 |\n| 6 | ID_ec05b1a7b | 180000 | 0 | 5 | 0 | 1 | 1 | 1 | 1 | 0 | 2 | 2 | 1 | 1 | 2 | 1 | 3 | 4 | 4 | 4 | 11 | 4 | 1 | 0 | 0 | 0 | 0 | 0 | 0 | 0 | 1 | 0 | 0 | 0 | 0 | 0 | 1 | 0 | 0 | 0 | 1 | 1 | 0 | 0 | 1 | 0 | 0 | 0 | 0 | 1 | 0 | 0 | 0 | 0 | 1 | 0 | 0 | 1 | 0 | 0 | 0 | 0 | 0 | 0 | 0 | 1 | 0 | 0 | 1 | 0 | 0 | 1 | 0 | 1 | 0 | 0 | 1 | 0 | 0 | 0 | 0 | 0 | 1 | 0 | 0 | 0 | 0 | 0 | 0 | 0 | 0 | 0 | 0 | 0 | 2b58d945f | 2 | 2 | 0 | 4 | yes | 11 | no | 11 | 0 | 0 | 0 | 0 | 1 | 0 | 0 | 0 | 0 | 3 | 1.333333 | 0 | 0 | 1 | 0 | 0 | 0 | 0 | 1 | 3 | 1 | 0 | 0 | 0 | 0 | 0 | 1 | 0 | 38 | 121 | 1444 | 16 | 121 | 4 |  1.777778 |  1 | 121 | 1444 | 4 |\n| 7 | ID_e9e0c1100 | 180000 | 0 | 5 | 0 | 1 | 1 | 1 | 1 | 0 | 2 | 2 | 1 | 1 | 2 | 1 | 3 | 4 | 4 | 4 |  2 | 4 | 1 | 0 | 0 | 0 | 0 | 0 | 0 | 0 | 1 | 0 | 0 | 0 | 0 | 0 | 1 | 0 | 0 | 0 | 1 | 1 | 0 | 0 | 1 | 0 | 0 | 0 | 0 | 1 | 0 | 0 | 0 | 0 | 1 | 0 | 0 | 1 | 0 | 0 | 0 | 0 | 0 | 0 | 0 | 1 | 0 | 0 | 1 | 0 | 0 | 1 | 0 | 0 | 1 | 1 | 0 | 0 | 0 | 0 | 0 | 0 | 0 | 0 | 1 | 0 | 0 | 0 | 0 | 0 | 0 | 0 | 0 | 0 | 2b58d945f | 2 | 2 | 0 | 4 | yes | 11 | no | 11 | 0 | 1 | 0 | 0 | 0 | 0 | 0 | 0 | 0 | 3 | 1.333333 | 0 | 0 | 1 | 0 | 0 | 0 | 0 | 1 | 3 | 1 | 0 | 0 | 0 | 0 | 0 | 1 | 0 |  8 |   4 |   64 | 16 | 121 | 4 |  1.777778 |  1 | 121 |   64 | 4 |\n| 8 | ID_3e04e571e | 130000 | 1 | 2 | 0 | 1 | 1 | 0 | 1 | 0 | 1 | 1 | 2 | 1 | 3 | 2 | 2 | 4 | 4 | 4 |  0 | 4 | 1 | 0 | 0 | 0 | 0 | 0 | 0 | 0 | 1 | 0 | 0 | 0 | 0 | 0 | 1 | 0 | 0 | 0 | 1 | 1 | 0 | 0 | 1 | 0 | 0 | 0 | 0 | 1 | 0 | 0 | 0 | 0 | 0 | 1 | 0 | 1 | 0 | 0 | 0 | 0 | 0 | 1 | 0 | 0 | 1 | 0 | 0 | 0 | 1 | 0 | 0 | 0 | 1 | 1 | 0 | 0 | 0 | 0 | 0 | 0 | 0 | 0 | 1 | 0 | 0 | 0 | 0 | 0 | 0 | 0 | 0 | 0 | d6dae86b7 | 2 | 2 | 0 | 4 | yes | 9  | no | 10 | 1 | 0 | 0 | 0 | 0 | 0 | 0 | 0 | 0 | 1 | 4.000000 | 0 | 0 | 1 | 0 | 0 | 0 | 0 | 1 | 1 | 1 | 0 | 0 | 0 | 0 | 0 | 1 | 0 |  7 |   0 |   49 | 16 |  81 | 4 | 16.000000 |  1 | 100 |   49 | 4 |\n| 9 | ID_1284f8aad | 130000 | 1 | 2 | 0 | 1 | 1 | 0 | 1 | 0 | 1 | 1 | 2 | 1 | 3 | 2 | 2 | 4 | 4 | 4 |  9 | 4 | 1 | 0 | 0 | 0 | 0 | 0 | 0 | 0 | 1 | 0 | 0 | 0 | 0 | 0 | 1 | 0 | 0 | 0 | 1 | 1 | 0 | 0 | 1 | 0 | 0 | 0 | 0 | 1 | 0 | 0 | 0 | 0 | 0 | 1 | 0 | 1 | 0 | 0 | 0 | 0 | 0 | 1 | 0 | 0 | 1 | 0 | 0 | 0 | 1 | 0 | 0 | 1 | 0 | 0 | 1 | 0 | 0 | 0 | 0 | 0 | 1 | 0 | 0 | 0 | 0 | 0 | 0 | 0 | 0 | 0 | 0 | 0 | d6dae86b7 | 2 | 2 | 0 | 4 | yes | 9  | no | 10 | 0 | 0 | 0 | 1 | 0 | 0 | 0 | 0 | 0 | 1 | 4.000000 | 0 | 0 | 1 | 0 | 0 | 0 | 0 | 1 | 1 | 1 | 0 | 0 | 0 | 0 | 0 | 1 | 0 | 30 |  81 |  900 | 16 |  81 | 4 | 16.000000 |  1 | 100 |  900 | 4 |\n| 10 | ID_51f52fdd2 | 130000 | 1 | 2 | 0 | 1 | 1 | 0 | 1 | 0 | 1 | 1 | 2 | 1 | 3 | 2 | 2 | 4 | 4 | 4 | 11 | 4 | 1 | 0 | 0 | 0 | 0 | 0 | 0 | 0 | 1 | 0 | 0 | 0 | 0 | 0 | 1 | 0 | 0 | 0 | 1 | 1 | 0 | 0 | 1 | 0 | 0 | 0 | 0 | 1 | 0 | 0 | 0 | 0 | 0 | 1 | 0 | 1 | 0 | 0 | 0 | 0 | 0 | 1 | 0 | 0 | 1 | 0 | 0 | 0 | 1 | 0 | 0 | 0 | 1 | 0 | 1 | 0 | 0 | 0 | 0 | 0 | 0 | 1 | 0 | 0 | 0 | 0 | 0 | 0 | 0 | 0 | 0 | 0 | d6dae86b7 | 2 | 2 | 0 | 4 | yes | 9  | no | 10 | 0 | 0 | 0 | 0 | 1 | 0 | 0 | 0 | 0 | 1 | 4.000000 | 0 | 0 | 1 | 0 | 0 | 0 | 0 | 1 | 1 | 1 | 0 | 0 | 0 | 0 | 0 | 1 | 0 | 28 | 121 |  784 | 16 |  81 | 4 | 16.000000 |  1 | 100 |  784 | 4 |\n\n",
            "text/html": [
              "<table class=\"dataframe\">\n",
              "<caption>A data.frame: 10 × 142</caption>\n",
              "<thead>\n",
              "\t<tr><th></th><th scope=col>Id</th><th scope=col>v2a1</th><th scope=col>hacdor</th><th scope=col>rooms</th><th scope=col>hacapo</th><th scope=col>v14a</th><th scope=col>refrig</th><th scope=col>v18q</th><th scope=col>v18q1</th><th scope=col>r4h1</th><th scope=col>r4h2</th><th scope=col>r4h3</th><th scope=col>r4m1</th><th scope=col>r4m2</th><th scope=col>r4m3</th><th scope=col>r4t1</th><th scope=col>r4t2</th><th scope=col>r4t3</th><th scope=col>tamhog</th><th scope=col>tamviv</th><th scope=col>escolari</th><th scope=col>hhsize</th><th scope=col>paredblolad</th><th scope=col>paredzocalo</th><th scope=col>paredpreb</th><th scope=col>pareddes</th><th scope=col>paredmad</th><th scope=col>paredzinc</th><th scope=col>paredfibras</th><th scope=col>paredother</th><th scope=col>pisomoscer</th><th scope=col>pisocemento</th><th scope=col>pisoother</th><th scope=col>pisonatur</th><th scope=col>pisonotiene</th><th scope=col>pisomadera</th><th scope=col>techozinc</th><th scope=col>techoentrepiso</th><th scope=col>techocane</th><th scope=col>techootro</th><th scope=col>cielorazo</th><th scope=col>abastaguadentro</th><th scope=col>abastaguafuera</th><th scope=col>abastaguano</th><th scope=col>public</th><th scope=col>planpri</th><th scope=col>noelec</th><th scope=col>coopele</th><th scope=col>sanitario1</th><th scope=col>sanitario2</th><th scope=col>sanitario3</th><th scope=col>sanitario5</th><th scope=col>sanitario6</th><th scope=col>energcocinar1</th><th scope=col>energcocinar2</th><th scope=col>energcocinar3</th><th scope=col>energcocinar4</th><th scope=col>elimbasu1</th><th scope=col>elimbasu2</th><th scope=col>elimbasu3</th><th scope=col>elimbasu4</th><th scope=col>elimbasu5</th><th scope=col>elimbasu6</th><th scope=col>epared1</th><th scope=col>epared2</th><th scope=col>epared3</th><th scope=col>etecho1</th><th scope=col>etecho2</th><th scope=col>etecho3</th><th scope=col>eviv1</th><th scope=col>eviv2</th><th scope=col>eviv3</th><th scope=col>dis</th><th scope=col>male</th><th scope=col>female</th><th scope=col>estadocivil1</th><th scope=col>estadocivil2</th><th scope=col>estadocivil3</th><th scope=col>estadocivil4</th><th scope=col>estadocivil5</th><th scope=col>estadocivil6</th><th scope=col>estadocivil7</th><th scope=col>parentesco1</th><th scope=col>parentesco2</th><th scope=col>parentesco3</th><th scope=col>parentesco4</th><th scope=col>parentesco5</th><th scope=col>parentesco6</th><th scope=col>parentesco7</th><th scope=col>parentesco8</th><th scope=col>parentesco9</th><th scope=col>parentesco10</th><th scope=col>parentesco11</th><th scope=col>parentesco12</th><th scope=col>idhogar</th><th scope=col>hogar_nin</th><th scope=col>hogar_adul</th><th scope=col>hogar_mayor</th><th scope=col>hogar_total</th><th scope=col>dependency</th><th scope=col>edjefe</th><th scope=col>edjefa</th><th scope=col>meaneduc</th><th scope=col>instlevel1</th><th scope=col>instlevel2</th><th scope=col>instlevel3</th><th scope=col>instlevel4</th><th scope=col>instlevel5</th><th scope=col>instlevel6</th><th scope=col>instlevel7</th><th scope=col>instlevel8</th><th scope=col>instlevel9</th><th scope=col>bedrooms</th><th scope=col>overcrowding</th><th scope=col>tipovivi1</th><th scope=col>tipovivi2</th><th scope=col>tipovivi3</th><th scope=col>tipovivi4</th><th scope=col>tipovivi5</th><th scope=col>computer</th><th scope=col>television</th><th scope=col>mobilephone</th><th scope=col>qmobilephone</th><th scope=col>lugar1</th><th scope=col>lugar2</th><th scope=col>lugar3</th><th scope=col>lugar4</th><th scope=col>lugar5</th><th scope=col>lugar6</th><th scope=col>area1</th><th scope=col>area2</th><th scope=col>age</th><th scope=col>SQBescolari</th><th scope=col>SQBage</th><th scope=col>SQBhogar_total</th><th scope=col>SQBedjefe</th><th scope=col>SQBhogar_nin</th><th scope=col>SQBovercrowding</th><th scope=col>SQBdependency</th><th scope=col>SQBmeaned</th><th scope=col>agesq</th><th scope=col>Target</th></tr>\n",
              "\t<tr><th></th><th scope=col>&lt;chr&gt;</th><th scope=col>&lt;dbl&gt;</th><th scope=col>&lt;int&gt;</th><th scope=col>&lt;int&gt;</th><th scope=col>&lt;int&gt;</th><th scope=col>&lt;int&gt;</th><th scope=col>&lt;int&gt;</th><th scope=col>&lt;int&gt;</th><th scope=col>&lt;dbl&gt;</th><th scope=col>&lt;int&gt;</th><th scope=col>&lt;int&gt;</th><th scope=col>&lt;int&gt;</th><th scope=col>&lt;int&gt;</th><th scope=col>&lt;int&gt;</th><th scope=col>&lt;int&gt;</th><th scope=col>&lt;int&gt;</th><th scope=col>&lt;int&gt;</th><th scope=col>&lt;int&gt;</th><th scope=col>&lt;int&gt;</th><th scope=col>&lt;int&gt;</th><th scope=col>&lt;int&gt;</th><th scope=col>&lt;int&gt;</th><th scope=col>&lt;int&gt;</th><th scope=col>&lt;int&gt;</th><th scope=col>&lt;int&gt;</th><th scope=col>&lt;int&gt;</th><th scope=col>&lt;int&gt;</th><th scope=col>&lt;int&gt;</th><th scope=col>&lt;int&gt;</th><th scope=col>&lt;int&gt;</th><th scope=col>&lt;int&gt;</th><th scope=col>&lt;int&gt;</th><th scope=col>&lt;int&gt;</th><th scope=col>&lt;int&gt;</th><th scope=col>&lt;int&gt;</th><th scope=col>&lt;int&gt;</th><th scope=col>&lt;int&gt;</th><th scope=col>&lt;int&gt;</th><th scope=col>&lt;int&gt;</th><th scope=col>&lt;int&gt;</th><th scope=col>&lt;int&gt;</th><th scope=col>&lt;int&gt;</th><th scope=col>&lt;int&gt;</th><th scope=col>&lt;int&gt;</th><th scope=col>&lt;int&gt;</th><th scope=col>&lt;int&gt;</th><th scope=col>&lt;int&gt;</th><th scope=col>&lt;int&gt;</th><th scope=col>&lt;int&gt;</th><th scope=col>&lt;int&gt;</th><th scope=col>&lt;int&gt;</th><th scope=col>&lt;int&gt;</th><th scope=col>&lt;int&gt;</th><th scope=col>&lt;int&gt;</th><th scope=col>&lt;int&gt;</th><th scope=col>&lt;int&gt;</th><th scope=col>&lt;int&gt;</th><th scope=col>&lt;int&gt;</th><th scope=col>&lt;int&gt;</th><th scope=col>&lt;int&gt;</th><th scope=col>&lt;int&gt;</th><th scope=col>&lt;int&gt;</th><th scope=col>&lt;int&gt;</th><th scope=col>&lt;int&gt;</th><th scope=col>&lt;int&gt;</th><th scope=col>&lt;int&gt;</th><th scope=col>&lt;int&gt;</th><th scope=col>&lt;int&gt;</th><th scope=col>&lt;int&gt;</th><th scope=col>&lt;int&gt;</th><th scope=col>&lt;int&gt;</th><th scope=col>&lt;int&gt;</th><th scope=col>&lt;int&gt;</th><th scope=col>&lt;int&gt;</th><th scope=col>&lt;int&gt;</th><th scope=col>&lt;int&gt;</th><th scope=col>&lt;int&gt;</th><th scope=col>&lt;int&gt;</th><th scope=col>&lt;int&gt;</th><th scope=col>&lt;int&gt;</th><th scope=col>&lt;int&gt;</th><th scope=col>&lt;int&gt;</th><th scope=col>&lt;int&gt;</th><th scope=col>&lt;int&gt;</th><th scope=col>&lt;int&gt;</th><th scope=col>&lt;int&gt;</th><th scope=col>&lt;int&gt;</th><th scope=col>&lt;int&gt;</th><th scope=col>&lt;int&gt;</th><th scope=col>&lt;int&gt;</th><th scope=col>&lt;int&gt;</th><th scope=col>&lt;int&gt;</th><th scope=col>&lt;int&gt;</th><th scope=col>&lt;int&gt;</th><th scope=col>&lt;chr&gt;</th><th scope=col>&lt;int&gt;</th><th scope=col>&lt;int&gt;</th><th scope=col>&lt;int&gt;</th><th scope=col>&lt;int&gt;</th><th scope=col>&lt;chr&gt;</th><th scope=col>&lt;chr&gt;</th><th scope=col>&lt;chr&gt;</th><th scope=col>&lt;dbl&gt;</th><th scope=col>&lt;int&gt;</th><th scope=col>&lt;int&gt;</th><th scope=col>&lt;int&gt;</th><th scope=col>&lt;int&gt;</th><th scope=col>&lt;int&gt;</th><th scope=col>&lt;int&gt;</th><th scope=col>&lt;int&gt;</th><th scope=col>&lt;int&gt;</th><th scope=col>&lt;int&gt;</th><th scope=col>&lt;int&gt;</th><th scope=col>&lt;dbl&gt;</th><th scope=col>&lt;int&gt;</th><th scope=col>&lt;int&gt;</th><th scope=col>&lt;int&gt;</th><th scope=col>&lt;int&gt;</th><th scope=col>&lt;int&gt;</th><th scope=col>&lt;int&gt;</th><th scope=col>&lt;int&gt;</th><th scope=col>&lt;int&gt;</th><th scope=col>&lt;int&gt;</th><th scope=col>&lt;int&gt;</th><th scope=col>&lt;int&gt;</th><th scope=col>&lt;int&gt;</th><th scope=col>&lt;int&gt;</th><th scope=col>&lt;int&gt;</th><th scope=col>&lt;int&gt;</th><th scope=col>&lt;int&gt;</th><th scope=col>&lt;int&gt;</th><th scope=col>&lt;int&gt;</th><th scope=col>&lt;int&gt;</th><th scope=col>&lt;int&gt;</th><th scope=col>&lt;int&gt;</th><th scope=col>&lt;int&gt;</th><th scope=col>&lt;int&gt;</th><th scope=col>&lt;dbl&gt;</th><th scope=col>&lt;dbl&gt;</th><th scope=col>&lt;dbl&gt;</th><th scope=col>&lt;int&gt;</th><th scope=col>&lt;int&gt;</th></tr>\n",
              "</thead>\n",
              "<tbody>\n",
              "\t<tr><th scope=row>1</th><td>ID_279628684</td><td>190000</td><td>0</td><td>3</td><td>0</td><td>1</td><td>1</td><td>0</td><td>1</td><td>0</td><td>1</td><td>1</td><td>0</td><td>0</td><td>0</td><td>0</td><td>1</td><td>1</td><td>1</td><td>1</td><td>10</td><td>1</td><td>1</td><td>0</td><td>0</td><td>0</td><td>0</td><td>0</td><td>0</td><td>0</td><td>1</td><td>0</td><td>0</td><td>0</td><td>0</td><td>0</td><td>0</td><td>1</td><td>0</td><td>0</td><td>1</td><td>1</td><td>0</td><td>0</td><td>1</td><td>0</td><td>0</td><td>0</td><td>0</td><td>1</td><td>0</td><td>0</td><td>0</td><td>0</td><td>0</td><td>1</td><td>0</td><td>1</td><td>0</td><td>0</td><td>0</td><td>0</td><td>0</td><td>0</td><td>1</td><td>0</td><td>1</td><td>0</td><td>0</td><td>1</td><td>0</td><td>0</td><td>0</td><td>1</td><td>0</td><td>0</td><td>0</td><td>0</td><td>1</td><td>0</td><td>0</td><td>0</td><td>1</td><td>0</td><td>0</td><td>0</td><td>0</td><td>0</td><td>0</td><td>0</td><td>0</td><td>0</td><td>0</td><td>0</td><td>21eb7fcc1</td><td>0</td><td>1</td><td>0</td><td>1</td><td>no </td><td>10</td><td>no</td><td>10</td><td>0</td><td>0</td><td>0</td><td>1</td><td>0</td><td>0</td><td>0</td><td>0</td><td>0</td><td>1</td><td>1.000000</td><td>0</td><td>0</td><td>1</td><td>0</td><td>0</td><td>0</td><td>0</td><td>1</td><td>1</td><td>1</td><td>0</td><td>0</td><td>0</td><td>0</td><td>0</td><td>1</td><td>0</td><td>43</td><td>100</td><td>1849</td><td> 1</td><td>100</td><td>0</td><td> 1.000000</td><td> 0</td><td>100</td><td>1849</td><td>4</td></tr>\n",
              "\t<tr><th scope=row>2</th><td>ID_f29eb3ddd</td><td>135000</td><td>0</td><td>4</td><td>0</td><td>1</td><td>1</td><td>1</td><td>1</td><td>0</td><td>1</td><td>1</td><td>0</td><td>0</td><td>0</td><td>0</td><td>1</td><td>1</td><td>1</td><td>1</td><td>12</td><td>1</td><td>0</td><td>0</td><td>0</td><td>0</td><td>1</td><td>0</td><td>0</td><td>0</td><td>0</td><td>0</td><td>0</td><td>0</td><td>0</td><td>1</td><td>1</td><td>0</td><td>0</td><td>0</td><td>1</td><td>1</td><td>0</td><td>0</td><td>1</td><td>0</td><td>0</td><td>0</td><td>0</td><td>1</td><td>0</td><td>0</td><td>0</td><td>0</td><td>1</td><td>0</td><td>0</td><td>1</td><td>0</td><td>0</td><td>0</td><td>0</td><td>0</td><td>0</td><td>1</td><td>0</td><td>0</td><td>1</td><td>0</td><td>0</td><td>1</td><td>0</td><td>0</td><td>1</td><td>0</td><td>0</td><td>0</td><td>0</td><td>1</td><td>0</td><td>0</td><td>0</td><td>1</td><td>0</td><td>0</td><td>0</td><td>0</td><td>0</td><td>0</td><td>0</td><td>0</td><td>0</td><td>0</td><td>0</td><td>0e5d7a658</td><td>0</td><td>1</td><td>1</td><td>1</td><td>8  </td><td>12</td><td>no</td><td>12</td><td>0</td><td>0</td><td>0</td><td>0</td><td>0</td><td>0</td><td>0</td><td>1</td><td>0</td><td>1</td><td>1.000000</td><td>0</td><td>0</td><td>1</td><td>0</td><td>0</td><td>0</td><td>0</td><td>1</td><td>1</td><td>1</td><td>0</td><td>0</td><td>0</td><td>0</td><td>0</td><td>1</td><td>0</td><td>67</td><td>144</td><td>4489</td><td> 1</td><td>144</td><td>0</td><td> 1.000000</td><td>64</td><td>144</td><td>4489</td><td>4</td></tr>\n",
              "\t<tr><th scope=row>3</th><td>ID_68de51c94</td><td>150000</td><td>0</td><td>8</td><td>0</td><td>1</td><td>1</td><td>0</td><td>1</td><td>0</td><td>0</td><td>0</td><td>0</td><td>1</td><td>1</td><td>0</td><td>1</td><td>1</td><td>1</td><td>1</td><td>11</td><td>1</td><td>0</td><td>0</td><td>0</td><td>0</td><td>1</td><td>0</td><td>0</td><td>0</td><td>1</td><td>0</td><td>0</td><td>0</td><td>0</td><td>0</td><td>1</td><td>0</td><td>0</td><td>0</td><td>1</td><td>1</td><td>0</td><td>0</td><td>1</td><td>0</td><td>0</td><td>0</td><td>0</td><td>1</td><td>0</td><td>0</td><td>0</td><td>0</td><td>1</td><td>0</td><td>0</td><td>1</td><td>0</td><td>0</td><td>0</td><td>0</td><td>0</td><td>0</td><td>1</td><td>0</td><td>0</td><td>0</td><td>1</td><td>0</td><td>0</td><td>1</td><td>1</td><td>0</td><td>1</td><td>0</td><td>0</td><td>0</td><td>0</td><td>0</td><td>1</td><td>0</td><td>1</td><td>0</td><td>0</td><td>0</td><td>0</td><td>0</td><td>0</td><td>0</td><td>0</td><td>0</td><td>0</td><td>0</td><td>2c7317ea8</td><td>0</td><td>1</td><td>1</td><td>1</td><td>8  </td><td>no</td><td>11</td><td>11</td><td>0</td><td>0</td><td>0</td><td>0</td><td>1</td><td>0</td><td>0</td><td>0</td><td>0</td><td>2</td><td>0.500000</td><td>1</td><td>0</td><td>0</td><td>0</td><td>0</td><td>0</td><td>0</td><td>0</td><td>0</td><td>1</td><td>0</td><td>0</td><td>0</td><td>0</td><td>0</td><td>1</td><td>0</td><td>92</td><td>121</td><td>8464</td><td> 1</td><td>  0</td><td>0</td><td> 0.250000</td><td>64</td><td>121</td><td>8464</td><td>4</td></tr>\n",
              "\t<tr><th scope=row>4</th><td>ID_d671db89c</td><td>180000</td><td>0</td><td>5</td><td>0</td><td>1</td><td>1</td><td>1</td><td>1</td><td>0</td><td>2</td><td>2</td><td>1</td><td>1</td><td>2</td><td>1</td><td>3</td><td>4</td><td>4</td><td>4</td><td> 9</td><td>4</td><td>1</td><td>0</td><td>0</td><td>0</td><td>0</td><td>0</td><td>0</td><td>0</td><td>1</td><td>0</td><td>0</td><td>0</td><td>0</td><td>0</td><td>1</td><td>0</td><td>0</td><td>0</td><td>1</td><td>1</td><td>0</td><td>0</td><td>1</td><td>0</td><td>0</td><td>0</td><td>0</td><td>1</td><td>0</td><td>0</td><td>0</td><td>0</td><td>1</td><td>0</td><td>0</td><td>1</td><td>0</td><td>0</td><td>0</td><td>0</td><td>0</td><td>0</td><td>0</td><td>1</td><td>0</td><td>0</td><td>1</td><td>0</td><td>0</td><td>1</td><td>0</td><td>1</td><td>0</td><td>0</td><td>0</td><td>0</td><td>0</td><td>0</td><td>0</td><td>1</td><td>0</td><td>0</td><td>1</td><td>0</td><td>0</td><td>0</td><td>0</td><td>0</td><td>0</td><td>0</td><td>0</td><td>0</td><td>2b58d945f</td><td>2</td><td>2</td><td>0</td><td>4</td><td>yes</td><td>11</td><td>no</td><td>11</td><td>0</td><td>0</td><td>0</td><td>1</td><td>0</td><td>0</td><td>0</td><td>0</td><td>0</td><td>3</td><td>1.333333</td><td>0</td><td>0</td><td>1</td><td>0</td><td>0</td><td>0</td><td>0</td><td>1</td><td>3</td><td>1</td><td>0</td><td>0</td><td>0</td><td>0</td><td>0</td><td>1</td><td>0</td><td>17</td><td> 81</td><td> 289</td><td>16</td><td>121</td><td>4</td><td> 1.777778</td><td> 1</td><td>121</td><td> 289</td><td>4</td></tr>\n",
              "\t<tr><th scope=row>5</th><td>ID_d56d6f5f5</td><td>180000</td><td>0</td><td>5</td><td>0</td><td>1</td><td>1</td><td>1</td><td>1</td><td>0</td><td>2</td><td>2</td><td>1</td><td>1</td><td>2</td><td>1</td><td>3</td><td>4</td><td>4</td><td>4</td><td>11</td><td>4</td><td>1</td><td>0</td><td>0</td><td>0</td><td>0</td><td>0</td><td>0</td><td>0</td><td>1</td><td>0</td><td>0</td><td>0</td><td>0</td><td>0</td><td>1</td><td>0</td><td>0</td><td>0</td><td>1</td><td>1</td><td>0</td><td>0</td><td>1</td><td>0</td><td>0</td><td>0</td><td>0</td><td>1</td><td>0</td><td>0</td><td>0</td><td>0</td><td>1</td><td>0</td><td>0</td><td>1</td><td>0</td><td>0</td><td>0</td><td>0</td><td>0</td><td>0</td><td>0</td><td>1</td><td>0</td><td>0</td><td>1</td><td>0</td><td>0</td><td>1</td><td>0</td><td>0</td><td>1</td><td>0</td><td>1</td><td>0</td><td>0</td><td>0</td><td>0</td><td>0</td><td>0</td><td>1</td><td>0</td><td>0</td><td>0</td><td>0</td><td>0</td><td>0</td><td>0</td><td>0</td><td>0</td><td>0</td><td>2b58d945f</td><td>2</td><td>2</td><td>0</td><td>4</td><td>yes</td><td>11</td><td>no</td><td>11</td><td>0</td><td>0</td><td>0</td><td>0</td><td>1</td><td>0</td><td>0</td><td>0</td><td>0</td><td>3</td><td>1.333333</td><td>0</td><td>0</td><td>1</td><td>0</td><td>0</td><td>0</td><td>0</td><td>1</td><td>3</td><td>1</td><td>0</td><td>0</td><td>0</td><td>0</td><td>0</td><td>1</td><td>0</td><td>37</td><td>121</td><td>1369</td><td>16</td><td>121</td><td>4</td><td> 1.777778</td><td> 1</td><td>121</td><td>1369</td><td>4</td></tr>\n",
              "\t<tr><th scope=row>6</th><td>ID_ec05b1a7b</td><td>180000</td><td>0</td><td>5</td><td>0</td><td>1</td><td>1</td><td>1</td><td>1</td><td>0</td><td>2</td><td>2</td><td>1</td><td>1</td><td>2</td><td>1</td><td>3</td><td>4</td><td>4</td><td>4</td><td>11</td><td>4</td><td>1</td><td>0</td><td>0</td><td>0</td><td>0</td><td>0</td><td>0</td><td>0</td><td>1</td><td>0</td><td>0</td><td>0</td><td>0</td><td>0</td><td>1</td><td>0</td><td>0</td><td>0</td><td>1</td><td>1</td><td>0</td><td>0</td><td>1</td><td>0</td><td>0</td><td>0</td><td>0</td><td>1</td><td>0</td><td>0</td><td>0</td><td>0</td><td>1</td><td>0</td><td>0</td><td>1</td><td>0</td><td>0</td><td>0</td><td>0</td><td>0</td><td>0</td><td>0</td><td>1</td><td>0</td><td>0</td><td>1</td><td>0</td><td>0</td><td>1</td><td>0</td><td>1</td><td>0</td><td>0</td><td>1</td><td>0</td><td>0</td><td>0</td><td>0</td><td>0</td><td>1</td><td>0</td><td>0</td><td>0</td><td>0</td><td>0</td><td>0</td><td>0</td><td>0</td><td>0</td><td>0</td><td>0</td><td>2b58d945f</td><td>2</td><td>2</td><td>0</td><td>4</td><td>yes</td><td>11</td><td>no</td><td>11</td><td>0</td><td>0</td><td>0</td><td>0</td><td>1</td><td>0</td><td>0</td><td>0</td><td>0</td><td>3</td><td>1.333333</td><td>0</td><td>0</td><td>1</td><td>0</td><td>0</td><td>0</td><td>0</td><td>1</td><td>3</td><td>1</td><td>0</td><td>0</td><td>0</td><td>0</td><td>0</td><td>1</td><td>0</td><td>38</td><td>121</td><td>1444</td><td>16</td><td>121</td><td>4</td><td> 1.777778</td><td> 1</td><td>121</td><td>1444</td><td>4</td></tr>\n",
              "\t<tr><th scope=row>7</th><td>ID_e9e0c1100</td><td>180000</td><td>0</td><td>5</td><td>0</td><td>1</td><td>1</td><td>1</td><td>1</td><td>0</td><td>2</td><td>2</td><td>1</td><td>1</td><td>2</td><td>1</td><td>3</td><td>4</td><td>4</td><td>4</td><td> 2</td><td>4</td><td>1</td><td>0</td><td>0</td><td>0</td><td>0</td><td>0</td><td>0</td><td>0</td><td>1</td><td>0</td><td>0</td><td>0</td><td>0</td><td>0</td><td>1</td><td>0</td><td>0</td><td>0</td><td>1</td><td>1</td><td>0</td><td>0</td><td>1</td><td>0</td><td>0</td><td>0</td><td>0</td><td>1</td><td>0</td><td>0</td><td>0</td><td>0</td><td>1</td><td>0</td><td>0</td><td>1</td><td>0</td><td>0</td><td>0</td><td>0</td><td>0</td><td>0</td><td>0</td><td>1</td><td>0</td><td>0</td><td>1</td><td>0</td><td>0</td><td>1</td><td>0</td><td>0</td><td>1</td><td>1</td><td>0</td><td>0</td><td>0</td><td>0</td><td>0</td><td>0</td><td>0</td><td>0</td><td>1</td><td>0</td><td>0</td><td>0</td><td>0</td><td>0</td><td>0</td><td>0</td><td>0</td><td>0</td><td>2b58d945f</td><td>2</td><td>2</td><td>0</td><td>4</td><td>yes</td><td>11</td><td>no</td><td>11</td><td>0</td><td>1</td><td>0</td><td>0</td><td>0</td><td>0</td><td>0</td><td>0</td><td>0</td><td>3</td><td>1.333333</td><td>0</td><td>0</td><td>1</td><td>0</td><td>0</td><td>0</td><td>0</td><td>1</td><td>3</td><td>1</td><td>0</td><td>0</td><td>0</td><td>0</td><td>0</td><td>1</td><td>0</td><td> 8</td><td>  4</td><td>  64</td><td>16</td><td>121</td><td>4</td><td> 1.777778</td><td> 1</td><td>121</td><td>  64</td><td>4</td></tr>\n",
              "\t<tr><th scope=row>8</th><td>ID_3e04e571e</td><td>130000</td><td>1</td><td>2</td><td>0</td><td>1</td><td>1</td><td>0</td><td>1</td><td>0</td><td>1</td><td>1</td><td>2</td><td>1</td><td>3</td><td>2</td><td>2</td><td>4</td><td>4</td><td>4</td><td> 0</td><td>4</td><td>1</td><td>0</td><td>0</td><td>0</td><td>0</td><td>0</td><td>0</td><td>0</td><td>1</td><td>0</td><td>0</td><td>0</td><td>0</td><td>0</td><td>1</td><td>0</td><td>0</td><td>0</td><td>1</td><td>1</td><td>0</td><td>0</td><td>1</td><td>0</td><td>0</td><td>0</td><td>0</td><td>1</td><td>0</td><td>0</td><td>0</td><td>0</td><td>0</td><td>1</td><td>0</td><td>1</td><td>0</td><td>0</td><td>0</td><td>0</td><td>0</td><td>1</td><td>0</td><td>0</td><td>1</td><td>0</td><td>0</td><td>0</td><td>1</td><td>0</td><td>0</td><td>0</td><td>1</td><td>1</td><td>0</td><td>0</td><td>0</td><td>0</td><td>0</td><td>0</td><td>0</td><td>0</td><td>1</td><td>0</td><td>0</td><td>0</td><td>0</td><td>0</td><td>0</td><td>0</td><td>0</td><td>0</td><td>d6dae86b7</td><td>2</td><td>2</td><td>0</td><td>4</td><td>yes</td><td>9 </td><td>no</td><td>10</td><td>1</td><td>0</td><td>0</td><td>0</td><td>0</td><td>0</td><td>0</td><td>0</td><td>0</td><td>1</td><td>4.000000</td><td>0</td><td>0</td><td>1</td><td>0</td><td>0</td><td>0</td><td>0</td><td>1</td><td>1</td><td>1</td><td>0</td><td>0</td><td>0</td><td>0</td><td>0</td><td>1</td><td>0</td><td> 7</td><td>  0</td><td>  49</td><td>16</td><td> 81</td><td>4</td><td>16.000000</td><td> 1</td><td>100</td><td>  49</td><td>4</td></tr>\n",
              "\t<tr><th scope=row>9</th><td>ID_1284f8aad</td><td>130000</td><td>1</td><td>2</td><td>0</td><td>1</td><td>1</td><td>0</td><td>1</td><td>0</td><td>1</td><td>1</td><td>2</td><td>1</td><td>3</td><td>2</td><td>2</td><td>4</td><td>4</td><td>4</td><td> 9</td><td>4</td><td>1</td><td>0</td><td>0</td><td>0</td><td>0</td><td>0</td><td>0</td><td>0</td><td>1</td><td>0</td><td>0</td><td>0</td><td>0</td><td>0</td><td>1</td><td>0</td><td>0</td><td>0</td><td>1</td><td>1</td><td>0</td><td>0</td><td>1</td><td>0</td><td>0</td><td>0</td><td>0</td><td>1</td><td>0</td><td>0</td><td>0</td><td>0</td><td>0</td><td>1</td><td>0</td><td>1</td><td>0</td><td>0</td><td>0</td><td>0</td><td>0</td><td>1</td><td>0</td><td>0</td><td>1</td><td>0</td><td>0</td><td>0</td><td>1</td><td>0</td><td>0</td><td>1</td><td>0</td><td>0</td><td>1</td><td>0</td><td>0</td><td>0</td><td>0</td><td>0</td><td>1</td><td>0</td><td>0</td><td>0</td><td>0</td><td>0</td><td>0</td><td>0</td><td>0</td><td>0</td><td>0</td><td>0</td><td>d6dae86b7</td><td>2</td><td>2</td><td>0</td><td>4</td><td>yes</td><td>9 </td><td>no</td><td>10</td><td>0</td><td>0</td><td>0</td><td>1</td><td>0</td><td>0</td><td>0</td><td>0</td><td>0</td><td>1</td><td>4.000000</td><td>0</td><td>0</td><td>1</td><td>0</td><td>0</td><td>0</td><td>0</td><td>1</td><td>1</td><td>1</td><td>0</td><td>0</td><td>0</td><td>0</td><td>0</td><td>1</td><td>0</td><td>30</td><td> 81</td><td> 900</td><td>16</td><td> 81</td><td>4</td><td>16.000000</td><td> 1</td><td>100</td><td> 900</td><td>4</td></tr>\n",
              "\t<tr><th scope=row>10</th><td>ID_51f52fdd2</td><td>130000</td><td>1</td><td>2</td><td>0</td><td>1</td><td>1</td><td>0</td><td>1</td><td>0</td><td>1</td><td>1</td><td>2</td><td>1</td><td>3</td><td>2</td><td>2</td><td>4</td><td>4</td><td>4</td><td>11</td><td>4</td><td>1</td><td>0</td><td>0</td><td>0</td><td>0</td><td>0</td><td>0</td><td>0</td><td>1</td><td>0</td><td>0</td><td>0</td><td>0</td><td>0</td><td>1</td><td>0</td><td>0</td><td>0</td><td>1</td><td>1</td><td>0</td><td>0</td><td>1</td><td>0</td><td>0</td><td>0</td><td>0</td><td>1</td><td>0</td><td>0</td><td>0</td><td>0</td><td>0</td><td>1</td><td>0</td><td>1</td><td>0</td><td>0</td><td>0</td><td>0</td><td>0</td><td>1</td><td>0</td><td>0</td><td>1</td><td>0</td><td>0</td><td>0</td><td>1</td><td>0</td><td>0</td><td>0</td><td>1</td><td>0</td><td>1</td><td>0</td><td>0</td><td>0</td><td>0</td><td>0</td><td>0</td><td>1</td><td>0</td><td>0</td><td>0</td><td>0</td><td>0</td><td>0</td><td>0</td><td>0</td><td>0</td><td>0</td><td>d6dae86b7</td><td>2</td><td>2</td><td>0</td><td>4</td><td>yes</td><td>9 </td><td>no</td><td>10</td><td>0</td><td>0</td><td>0</td><td>0</td><td>1</td><td>0</td><td>0</td><td>0</td><td>0</td><td>1</td><td>4.000000</td><td>0</td><td>0</td><td>1</td><td>0</td><td>0</td><td>0</td><td>0</td><td>1</td><td>1</td><td>1</td><td>0</td><td>0</td><td>0</td><td>0</td><td>0</td><td>1</td><td>0</td><td>28</td><td>121</td><td> 784</td><td>16</td><td> 81</td><td>4</td><td>16.000000</td><td> 1</td><td>100</td><td> 784</td><td>4</td></tr>\n",
              "</tbody>\n",
              "</table>\n"
            ]
          },
          "metadata": {}
        }
      ]
    },
    {
      "cell_type": "code",
      "metadata": {
        "colab": {
          "base_uri": "https://localhost:8080/",
          "height": 407
        },
        "id": "byXUq35zAtk7",
        "outputId": "64858da1-8de3-470d-b879-74a1cf5f7abb"
      },
      "source": [
        "train %>%\n",
        "  select_if(is.character) %>%\n",
        "  head(10)"
      ],
      "execution_count": 21,
      "outputs": [
        {
          "output_type": "display_data",
          "data": {
            "text/plain": [
              "   Id           idhogar   dependency edjefe edjefa\n",
              "1  ID_279628684 21eb7fcc1 no         10     no    \n",
              "2  ID_f29eb3ddd 0e5d7a658 8          12     no    \n",
              "3  ID_68de51c94 2c7317ea8 8          no     11    \n",
              "4  ID_d671db89c 2b58d945f yes        11     no    \n",
              "5  ID_d56d6f5f5 2b58d945f yes        11     no    \n",
              "6  ID_ec05b1a7b 2b58d945f yes        11     no    \n",
              "7  ID_e9e0c1100 2b58d945f yes        11     no    \n",
              "8  ID_3e04e571e d6dae86b7 yes        9      no    \n",
              "9  ID_1284f8aad d6dae86b7 yes        9      no    \n",
              "10 ID_51f52fdd2 d6dae86b7 yes        9      no    "
            ],
            "text/latex": "A data.frame: 10 × 5\n\\begin{tabular}{r|lllll}\n  & Id & idhogar & dependency & edjefe & edjefa\\\\\n  & <chr> & <chr> & <chr> & <chr> & <chr>\\\\\n\\hline\n\t1 & ID\\_279628684 & 21eb7fcc1 & no  & 10 & no\\\\\n\t2 & ID\\_f29eb3ddd & 0e5d7a658 & 8   & 12 & no\\\\\n\t3 & ID\\_68de51c94 & 2c7317ea8 & 8   & no & 11\\\\\n\t4 & ID\\_d671db89c & 2b58d945f & yes & 11 & no\\\\\n\t5 & ID\\_d56d6f5f5 & 2b58d945f & yes & 11 & no\\\\\n\t6 & ID\\_ec05b1a7b & 2b58d945f & yes & 11 & no\\\\\n\t7 & ID\\_e9e0c1100 & 2b58d945f & yes & 11 & no\\\\\n\t8 & ID\\_3e04e571e & d6dae86b7 & yes & 9  & no\\\\\n\t9 & ID\\_1284f8aad & d6dae86b7 & yes & 9  & no\\\\\n\t10 & ID\\_51f52fdd2 & d6dae86b7 & yes & 9  & no\\\\\n\\end{tabular}\n",
            "text/markdown": "\nA data.frame: 10 × 5\n\n| <!--/--> | Id &lt;chr&gt; | idhogar &lt;chr&gt; | dependency &lt;chr&gt; | edjefe &lt;chr&gt; | edjefa &lt;chr&gt; |\n|---|---|---|---|---|---|\n| 1 | ID_279628684 | 21eb7fcc1 | no  | 10 | no |\n| 2 | ID_f29eb3ddd | 0e5d7a658 | 8   | 12 | no |\n| 3 | ID_68de51c94 | 2c7317ea8 | 8   | no | 11 |\n| 4 | ID_d671db89c | 2b58d945f | yes | 11 | no |\n| 5 | ID_d56d6f5f5 | 2b58d945f | yes | 11 | no |\n| 6 | ID_ec05b1a7b | 2b58d945f | yes | 11 | no |\n| 7 | ID_e9e0c1100 | 2b58d945f | yes | 11 | no |\n| 8 | ID_3e04e571e | d6dae86b7 | yes | 9  | no |\n| 9 | ID_1284f8aad | d6dae86b7 | yes | 9  | no |\n| 10 | ID_51f52fdd2 | d6dae86b7 | yes | 9  | no |\n\n",
            "text/html": [
              "<table class=\"dataframe\">\n",
              "<caption>A data.frame: 10 × 5</caption>\n",
              "<thead>\n",
              "\t<tr><th></th><th scope=col>Id</th><th scope=col>idhogar</th><th scope=col>dependency</th><th scope=col>edjefe</th><th scope=col>edjefa</th></tr>\n",
              "\t<tr><th></th><th scope=col>&lt;chr&gt;</th><th scope=col>&lt;chr&gt;</th><th scope=col>&lt;chr&gt;</th><th scope=col>&lt;chr&gt;</th><th scope=col>&lt;chr&gt;</th></tr>\n",
              "</thead>\n",
              "<tbody>\n",
              "\t<tr><th scope=row>1</th><td>ID_279628684</td><td>21eb7fcc1</td><td>no </td><td>10</td><td>no</td></tr>\n",
              "\t<tr><th scope=row>2</th><td>ID_f29eb3ddd</td><td>0e5d7a658</td><td>8  </td><td>12</td><td>no</td></tr>\n",
              "\t<tr><th scope=row>3</th><td>ID_68de51c94</td><td>2c7317ea8</td><td>8  </td><td>no</td><td>11</td></tr>\n",
              "\t<tr><th scope=row>4</th><td>ID_d671db89c</td><td>2b58d945f</td><td>yes</td><td>11</td><td>no</td></tr>\n",
              "\t<tr><th scope=row>5</th><td>ID_d56d6f5f5</td><td>2b58d945f</td><td>yes</td><td>11</td><td>no</td></tr>\n",
              "\t<tr><th scope=row>6</th><td>ID_ec05b1a7b</td><td>2b58d945f</td><td>yes</td><td>11</td><td>no</td></tr>\n",
              "\t<tr><th scope=row>7</th><td>ID_e9e0c1100</td><td>2b58d945f</td><td>yes</td><td>11</td><td>no</td></tr>\n",
              "\t<tr><th scope=row>8</th><td>ID_3e04e571e</td><td>d6dae86b7</td><td>yes</td><td>9 </td><td>no</td></tr>\n",
              "\t<tr><th scope=row>9</th><td>ID_1284f8aad</td><td>d6dae86b7</td><td>yes</td><td>9 </td><td>no</td></tr>\n",
              "\t<tr><th scope=row>10</th><td>ID_51f52fdd2</td><td>d6dae86b7</td><td>yes</td><td>9 </td><td>no</td></tr>\n",
              "</tbody>\n",
              "</table>\n"
            ]
          },
          "metadata": {}
        }
      ]
    },
    {
      "cell_type": "markdown",
      "metadata": {
        "id": "-Bfpm4dM-mE6"
      },
      "source": [
        "Id column not needed for classification, though keep for right now \n",
        "\n",
        "'idhogar' column : Household level identifier (find number of unique values and figure out)\n",
        "\n",
        "'dependency' : Dependency rate\n",
        "\n",
        "'edjefe' : Years of education for male head of family (replace 'no' with zero)\n",
        "\n",
        "'edjefa' : Years of education for female head of family (replace 'no' with zero)\n"
      ]
    },
    {
      "cell_type": "code",
      "metadata": {
        "colab": {
          "base_uri": "https://localhost:8080/",
          "height": 162
        },
        "id": "Wawl_UlrBo_L",
        "outputId": "dd57446d-fbf2-411e-cd75-971ec0ebe2e1"
      },
      "source": [
        "count(unique(train[c('idhogar')]))"
      ],
      "execution_count": 22,
      "outputs": [
        {
          "output_type": "display_data",
          "data": {
            "text/plain": [
              "  n  \n",
              "1 987"
            ],
            "text/latex": "A data.frame: 1 × 1\n\\begin{tabular}{l}\n n\\\\\n <int>\\\\\n\\hline\n\t 987\\\\\n\\end{tabular}\n",
            "text/markdown": "\nA data.frame: 1 × 1\n\n| n &lt;int&gt; |\n|---|\n| 987 |\n\n",
            "text/html": [
              "<table class=\"dataframe\">\n",
              "<caption>A data.frame: 1 × 1</caption>\n",
              "<thead>\n",
              "\t<tr><th scope=col>n</th></tr>\n",
              "\t<tr><th scope=col>&lt;int&gt;</th></tr>\n",
              "</thead>\n",
              "<tbody>\n",
              "\t<tr><td>987</td></tr>\n",
              "</tbody>\n",
              "</table>\n"
            ]
          },
          "metadata": {}
        }
      ]
    },
    {
      "cell_type": "code",
      "metadata": {
        "colab": {
          "base_uri": "https://localhost:8080/",
          "height": 1000
        },
        "id": "P2mAhpiyinED",
        "outputId": "f668887d-9976-4f92-b2bf-92ba2114238d"
      },
      "source": [
        "as.data.frame(table(train$idhogar))"
      ],
      "execution_count": 23,
      "outputs": [
        {
          "output_type": "display_data",
          "data": {
            "text/plain": [
              "    Var1      Freq\n",
              "1   006555fe2 5   \n",
              "2   00e443b00 1   \n",
              "3   00edc0d0f 6   \n",
              "4   01c6fcb6e 1   \n",
              "5   01ff6a086 2   \n",
              "6   023edfed0 3   \n",
              "7   0250e0b59 3   \n",
              "8   035bb4b72 6   \n",
              "9   0369a5d78 3   \n",
              "10  03b23f2b1 4   \n",
              "11  03c78a7a9 4   \n",
              "12  03d27346e 3   \n",
              "13  03f00ec52 3   \n",
              "14  0473832dd 4   \n",
              "15  048d64af0 2   \n",
              "16  04a8915f6 6   \n",
              "17  04b02301b 3   \n",
              "18  04d0d0d8f 4   \n",
              "19  0511912b6 4   \n",
              "20  051f67b16 4   \n",
              "21  054074f61 6   \n",
              "22  0564f49cd 3   \n",
              "23  0592dc939 7   \n",
              "24  060027579 3   \n",
              "25  06089482a 2   \n",
              "26  061f8ffcf 4   \n",
              "27  0667ebc47 2   \n",
              "28  0673a6cf3 2   \n",
              "29  06804be1b 5   \n",
              "30  06dba0576 5   \n",
              "31  07a5de1ba 3   \n",
              "32  07a6cc87c 2   \n",
              "33  08039fb0e 6   \n",
              "34  08210d8c6 4   \n",
              "35  0890628f6 1   \n",
              "36  0932e7898 3   \n",
              "37  09395e7d3 2   \n",
              "38  09a26c158 1   \n",
              "39  09b82f76a 4   \n",
              "40  09bf46466 3   \n",
              "41  09c634256 4   \n",
              "42  09cc036c4 2   \n",
              "43  09d748e5f 6   \n",
              "44  09d9f0be5 1   \n",
              "45  0a3be8b29 1   \n",
              "46  0a865fb17 4   \n",
              "47  0a90e8c3f 1   \n",
              "48  0b42ed3af 2   \n",
              "49  0b7ee52ff 1   \n",
              "50  0bbcfa8d9 3   \n",
              "51  0c072fb72 3   \n",
              "52  0c1ad9841 5   \n",
              "53  0c975d1f4 1   \n",
              "54  0d2895839 4   \n",
              "55  0d29879d6 3   \n",
              "56  0d62666ad 3   \n",
              "57  0ddef6fe0 2   \n",
              "58  0de07ca9a 1   \n",
              "59  0e0b899cb 4   \n",
              "60  0e5d7a658 1   \n",
              "61  0e7f79b84 5   \n",
              "62  0eaddb7f6 2   \n",
              "63  0efe3162b 2   \n",
              "64  0f11dd26b 1   \n",
              "65  0f2682fe6 4   \n",
              "66  0f2b13fba 2   \n",
              "67  0f87a987f 4   \n",
              "68  0f9494d3a 5   \n",
              "69  0fa41d365 4   \n",
              "70  0fb516a6a 4   \n",
              "71  0fdac824f 4   \n",
              "72  1012a6463 2   \n",
              "73  1026b0bd4 2   \n",
              "74  103b36040 3   \n",
              "75  104efa27f 4   \n",
              "76  10949c36b 2   \n",
              "77  1191d0c64 3   \n",
              "78  11ba870f8 5   \n",
              "79  11cace737 5   \n",
              "80  11f78fc33 6   \n",
              "81  1219d846d 4   \n",
              "82  1239df1cc 4   \n",
              "83  12ce291ee 3   \n",
              "84  135334d8e 4   \n",
              "85  1353baa8f 2   \n",
              "86  136b98db0 6   \n",
              "87  13c5661af 4   \n",
              "88  145508b06 2   \n",
              "89  146bf0547 4   \n",
              "90  1480909ff 3   \n",
              "91  14aeb8605 5   \n",
              "92  15248f301 4   \n",
              "93  159ea258f 4   \n",
              "94  15c6293ed 4   \n",
              "95  15ca3021c 3   \n",
              "96  15e096859 1   \n",
              "97  165c3e6d2 1   \n",
              "98  1670445b9 1   \n",
              "99  169911ed1 6   \n",
              "100 171378bfc 2   \n",
              "⋮   ⋮         ⋮   \n",
              "888 ea86330e8  3  \n",
              "889 eab863e78  5  \n",
              "890 eacd63a5b  1  \n",
              "891 eaf319a82  1  \n",
              "892 eb17f5491  2  \n",
              "893 eb9891529  4  \n",
              "894 ec0e8edce  2  \n",
              "895 ec4cded9c  2  \n",
              "896 eca16ff7c  4  \n",
              "897 ece1115ac  2  \n",
              "898 ed19e63e8  1  \n",
              "899 ed1c04515  4  \n",
              "900 ed1c9c529  5  \n",
              "901 ed256aa01  4  \n",
              "902 edc07c20c  1  \n",
              "903 ee0f95f07  2  \n",
              "904 ee23d963d  2  \n",
              "905 ee3d80cb6  1  \n",
              "906 eea5ff2cc  2  \n",
              "907 eed62c757  2  \n",
              "908 eeef06344  2  \n",
              "909 ef055dda9  3  \n",
              "910 ef0e2156b  2  \n",
              "911 ef8ba2272  7  \n",
              "912 efb7f2333  3  \n",
              "913 efd3aec61  5  \n",
              "914 f01ee929b  2  \n",
              "915 f021e6e54  4  \n",
              "916 f1265ca75  1  \n",
              "917 f162a4d6c  3  \n",
              "918 f1a9eef39  5  \n",
              "919 f1add03a5  4  \n",
              "920 f1e36c6f8  4  \n",
              "921 f2058cc58  4  \n",
              "922 f209c8c27  3  \n",
              "923 f24427b62  4  \n",
              "924 f25944170  2  \n",
              "925 f29067293  3  \n",
              "926 f2ce59637  2  \n",
              "927 f2fcf00fd  2  \n",
              "928 f33a63d2e  6  \n",
              "929 f343835ca  5  \n",
              "930 f36033ff7  1  \n",
              "931 f39a29177  5  \n",
              "932 f3f860f58  3  \n",
              "933 f490fca61  1  \n",
              "934 f4ca4eee6  3  \n",
              "935 f50ce08e0  2  \n",
              "936 f525a50fb  3  \n",
              "937 f527d75a8  2  \n",
              "938 f54bc4b11  4  \n",
              "939 f559d662f  3  \n",
              "940 f55c4fc94  5  \n",
              "941 f623c549b  2  \n",
              "942 f62f54f9e  3  \n",
              "943 f62fbd6f0  5  \n",
              "944 f65e62b91  1  \n",
              "945 f67865c2b  7  \n",
              "946 f69665768  4  \n",
              "947 f69a0fad6  3  \n",
              "948 f6ef72f82  4  \n",
              "949 f78b21d0c  1  \n",
              "950 f79444441  3  \n",
              "951 f81d90468  4  \n",
              "952 f85fc9f64  6  \n",
              "953 f8b90c2c1  4  \n",
              "954 f92cc1ebe  3  \n",
              "955 f9480a013  1  \n",
              "956 f954c1672  2  \n",
              "957 f9ddb6edf  1  \n",
              "958 fa2b66b43  3  \n",
              "959 fa67d6fd5  5  \n",
              "960 faa3a287f  1  \n",
              "961 faaebf71a  2  \n",
              "962 fabb02be9  3  \n",
              "963 fb4e4bed6  4  \n",
              "964 fb5f0ae6c  4  \n",
              "965 fbe69128f  2  \n",
              "966 fc29d47d7  7  \n",
              "967 fc8ad2380  3  \n",
              "968 fca2c4361  3  \n",
              "969 fcd753529  4  \n",
              "970 fcf75bab3  3  \n",
              "971 fd10905bc  4  \n",
              "972 fd22b4607  4  \n",
              "973 fd2369f80  5  \n",
              "974 fd53f7161  6  \n",
              "975 fd69ffc71  3  \n",
              "976 fd6c635d5  4  \n",
              "977 fd80dfac4  1  \n",
              "978 fd89cbc8b  1  \n",
              "979 fd8a6d014 13  \n",
              "980 fda272904  2  \n",
              "981 fdc5d6c51  4  \n",
              "982 fdd35c1ca  1  \n",
              "983 fdf19ce0c  1  \n",
              "984 fe4c84768  3  \n",
              "985 fe7dbf4cc  3  \n",
              "986 ff31b984b  3  \n",
              "987 ff9343a35  4  "
            ],
            "text/latex": "A data.frame: 987 × 2\n\\begin{tabular}{ll}\n Var1 & Freq\\\\\n <fct> & <int>\\\\\n\\hline\n\t 006555fe2 & 5\\\\\n\t 00e443b00 & 1\\\\\n\t 00edc0d0f & 6\\\\\n\t 01c6fcb6e & 1\\\\\n\t 01ff6a086 & 2\\\\\n\t 023edfed0 & 3\\\\\n\t 0250e0b59 & 3\\\\\n\t 035bb4b72 & 6\\\\\n\t 0369a5d78 & 3\\\\\n\t 03b23f2b1 & 4\\\\\n\t 03c78a7a9 & 4\\\\\n\t 03d27346e & 3\\\\\n\t 03f00ec52 & 3\\\\\n\t 0473832dd & 4\\\\\n\t 048d64af0 & 2\\\\\n\t 04a8915f6 & 6\\\\\n\t 04b02301b & 3\\\\\n\t 04d0d0d8f & 4\\\\\n\t 0511912b6 & 4\\\\\n\t 051f67b16 & 4\\\\\n\t 054074f61 & 6\\\\\n\t 0564f49cd & 3\\\\\n\t 0592dc939 & 7\\\\\n\t 060027579 & 3\\\\\n\t 06089482a & 2\\\\\n\t 061f8ffcf & 4\\\\\n\t 0667ebc47 & 2\\\\\n\t 0673a6cf3 & 2\\\\\n\t 06804be1b & 5\\\\\n\t 06dba0576 & 5\\\\\n\t 07a5de1ba & 3\\\\\n\t 07a6cc87c & 2\\\\\n\t 08039fb0e & 6\\\\\n\t 08210d8c6 & 4\\\\\n\t 0890628f6 & 1\\\\\n\t 0932e7898 & 3\\\\\n\t 09395e7d3 & 2\\\\\n\t 09a26c158 & 1\\\\\n\t 09b82f76a & 4\\\\\n\t 09bf46466 & 3\\\\\n\t 09c634256 & 4\\\\\n\t 09cc036c4 & 2\\\\\n\t 09d748e5f & 6\\\\\n\t 09d9f0be5 & 1\\\\\n\t 0a3be8b29 & 1\\\\\n\t 0a865fb17 & 4\\\\\n\t 0a90e8c3f & 1\\\\\n\t 0b42ed3af & 2\\\\\n\t 0b7ee52ff & 1\\\\\n\t 0bbcfa8d9 & 3\\\\\n\t 0c072fb72 & 3\\\\\n\t 0c1ad9841 & 5\\\\\n\t 0c975d1f4 & 1\\\\\n\t 0d2895839 & 4\\\\\n\t 0d29879d6 & 3\\\\\n\t 0d62666ad & 3\\\\\n\t 0ddef6fe0 & 2\\\\\n\t 0de07ca9a & 1\\\\\n\t 0e0b899cb & 4\\\\\n\t 0e5d7a658 & 1\\\\\n\t 0e7f79b84 & 5\\\\\n\t 0eaddb7f6 & 2\\\\\n\t 0efe3162b & 2\\\\\n\t 0f11dd26b & 1\\\\\n\t 0f2682fe6 & 4\\\\\n\t 0f2b13fba & 2\\\\\n\t 0f87a987f & 4\\\\\n\t 0f9494d3a & 5\\\\\n\t 0fa41d365 & 4\\\\\n\t 0fb516a6a & 4\\\\\n\t 0fdac824f & 4\\\\\n\t 1012a6463 & 2\\\\\n\t 1026b0bd4 & 2\\\\\n\t 103b36040 & 3\\\\\n\t 104efa27f & 4\\\\\n\t 10949c36b & 2\\\\\n\t 1191d0c64 & 3\\\\\n\t 11ba870f8 & 5\\\\\n\t 11cace737 & 5\\\\\n\t 11f78fc33 & 6\\\\\n\t 1219d846d & 4\\\\\n\t 1239df1cc & 4\\\\\n\t 12ce291ee & 3\\\\\n\t 135334d8e & 4\\\\\n\t 1353baa8f & 2\\\\\n\t 136b98db0 & 6\\\\\n\t 13c5661af & 4\\\\\n\t 145508b06 & 2\\\\\n\t 146bf0547 & 4\\\\\n\t 1480909ff & 3\\\\\n\t 14aeb8605 & 5\\\\\n\t 15248f301 & 4\\\\\n\t 159ea258f & 4\\\\\n\t 15c6293ed & 4\\\\\n\t 15ca3021c & 3\\\\\n\t 15e096859 & 1\\\\\n\t 165c3e6d2 & 1\\\\\n\t 1670445b9 & 1\\\\\n\t 169911ed1 & 6\\\\\n\t 171378bfc & 2\\\\\n\t ⋮ & ⋮\\\\\n\t ea86330e8 &  3\\\\\n\t eab863e78 &  5\\\\\n\t eacd63a5b &  1\\\\\n\t eaf319a82 &  1\\\\\n\t eb17f5491 &  2\\\\\n\t eb9891529 &  4\\\\\n\t ec0e8edce &  2\\\\\n\t ec4cded9c &  2\\\\\n\t eca16ff7c &  4\\\\\n\t ece1115ac &  2\\\\\n\t ed19e63e8 &  1\\\\\n\t ed1c04515 &  4\\\\\n\t ed1c9c529 &  5\\\\\n\t ed256aa01 &  4\\\\\n\t edc07c20c &  1\\\\\n\t ee0f95f07 &  2\\\\\n\t ee23d963d &  2\\\\\n\t ee3d80cb6 &  1\\\\\n\t eea5ff2cc &  2\\\\\n\t eed62c757 &  2\\\\\n\t eeef06344 &  2\\\\\n\t ef055dda9 &  3\\\\\n\t ef0e2156b &  2\\\\\n\t ef8ba2272 &  7\\\\\n\t efb7f2333 &  3\\\\\n\t efd3aec61 &  5\\\\\n\t f01ee929b &  2\\\\\n\t f021e6e54 &  4\\\\\n\t f1265ca75 &  1\\\\\n\t f162a4d6c &  3\\\\\n\t f1a9eef39 &  5\\\\\n\t f1add03a5 &  4\\\\\n\t f1e36c6f8 &  4\\\\\n\t f2058cc58 &  4\\\\\n\t f209c8c27 &  3\\\\\n\t f24427b62 &  4\\\\\n\t f25944170 &  2\\\\\n\t f29067293 &  3\\\\\n\t f2ce59637 &  2\\\\\n\t f2fcf00fd &  2\\\\\n\t f33a63d2e &  6\\\\\n\t f343835ca &  5\\\\\n\t f36033ff7 &  1\\\\\n\t f39a29177 &  5\\\\\n\t f3f860f58 &  3\\\\\n\t f490fca61 &  1\\\\\n\t f4ca4eee6 &  3\\\\\n\t f50ce08e0 &  2\\\\\n\t f525a50fb &  3\\\\\n\t f527d75a8 &  2\\\\\n\t f54bc4b11 &  4\\\\\n\t f559d662f &  3\\\\\n\t f55c4fc94 &  5\\\\\n\t f623c549b &  2\\\\\n\t f62f54f9e &  3\\\\\n\t f62fbd6f0 &  5\\\\\n\t f65e62b91 &  1\\\\\n\t f67865c2b &  7\\\\\n\t f69665768 &  4\\\\\n\t f69a0fad6 &  3\\\\\n\t f6ef72f82 &  4\\\\\n\t f78b21d0c &  1\\\\\n\t f79444441 &  3\\\\\n\t f81d90468 &  4\\\\\n\t f85fc9f64 &  6\\\\\n\t f8b90c2c1 &  4\\\\\n\t f92cc1ebe &  3\\\\\n\t f9480a013 &  1\\\\\n\t f954c1672 &  2\\\\\n\t f9ddb6edf &  1\\\\\n\t fa2b66b43 &  3\\\\\n\t fa67d6fd5 &  5\\\\\n\t faa3a287f &  1\\\\\n\t faaebf71a &  2\\\\\n\t fabb02be9 &  3\\\\\n\t fb4e4bed6 &  4\\\\\n\t fb5f0ae6c &  4\\\\\n\t fbe69128f &  2\\\\\n\t fc29d47d7 &  7\\\\\n\t fc8ad2380 &  3\\\\\n\t fca2c4361 &  3\\\\\n\t fcd753529 &  4\\\\\n\t fcf75bab3 &  3\\\\\n\t fd10905bc &  4\\\\\n\t fd22b4607 &  4\\\\\n\t fd2369f80 &  5\\\\\n\t fd53f7161 &  6\\\\\n\t fd69ffc71 &  3\\\\\n\t fd6c635d5 &  4\\\\\n\t fd80dfac4 &  1\\\\\n\t fd89cbc8b &  1\\\\\n\t fd8a6d014 & 13\\\\\n\t fda272904 &  2\\\\\n\t fdc5d6c51 &  4\\\\\n\t fdd35c1ca &  1\\\\\n\t fdf19ce0c &  1\\\\\n\t fe4c84768 &  3\\\\\n\t fe7dbf4cc &  3\\\\\n\t ff31b984b &  3\\\\\n\t ff9343a35 &  4\\\\\n\\end{tabular}\n",
            "text/markdown": "\nA data.frame: 987 × 2\n\n| Var1 &lt;fct&gt; | Freq &lt;int&gt; |\n|---|---|\n| 006555fe2 | 5 |\n| 00e443b00 | 1 |\n| 00edc0d0f | 6 |\n| 01c6fcb6e | 1 |\n| 01ff6a086 | 2 |\n| 023edfed0 | 3 |\n| 0250e0b59 | 3 |\n| 035bb4b72 | 6 |\n| 0369a5d78 | 3 |\n| 03b23f2b1 | 4 |\n| 03c78a7a9 | 4 |\n| 03d27346e | 3 |\n| 03f00ec52 | 3 |\n| 0473832dd | 4 |\n| 048d64af0 | 2 |\n| 04a8915f6 | 6 |\n| 04b02301b | 3 |\n| 04d0d0d8f | 4 |\n| 0511912b6 | 4 |\n| 051f67b16 | 4 |\n| 054074f61 | 6 |\n| 0564f49cd | 3 |\n| 0592dc939 | 7 |\n| 060027579 | 3 |\n| 06089482a | 2 |\n| 061f8ffcf | 4 |\n| 0667ebc47 | 2 |\n| 0673a6cf3 | 2 |\n| 06804be1b | 5 |\n| 06dba0576 | 5 |\n| 07a5de1ba | 3 |\n| 07a6cc87c | 2 |\n| 08039fb0e | 6 |\n| 08210d8c6 | 4 |\n| 0890628f6 | 1 |\n| 0932e7898 | 3 |\n| 09395e7d3 | 2 |\n| 09a26c158 | 1 |\n| 09b82f76a | 4 |\n| 09bf46466 | 3 |\n| 09c634256 | 4 |\n| 09cc036c4 | 2 |\n| 09d748e5f | 6 |\n| 09d9f0be5 | 1 |\n| 0a3be8b29 | 1 |\n| 0a865fb17 | 4 |\n| 0a90e8c3f | 1 |\n| 0b42ed3af | 2 |\n| 0b7ee52ff | 1 |\n| 0bbcfa8d9 | 3 |\n| 0c072fb72 | 3 |\n| 0c1ad9841 | 5 |\n| 0c975d1f4 | 1 |\n| 0d2895839 | 4 |\n| 0d29879d6 | 3 |\n| 0d62666ad | 3 |\n| 0ddef6fe0 | 2 |\n| 0de07ca9a | 1 |\n| 0e0b899cb | 4 |\n| 0e5d7a658 | 1 |\n| 0e7f79b84 | 5 |\n| 0eaddb7f6 | 2 |\n| 0efe3162b | 2 |\n| 0f11dd26b | 1 |\n| 0f2682fe6 | 4 |\n| 0f2b13fba | 2 |\n| 0f87a987f | 4 |\n| 0f9494d3a | 5 |\n| 0fa41d365 | 4 |\n| 0fb516a6a | 4 |\n| 0fdac824f | 4 |\n| 1012a6463 | 2 |\n| 1026b0bd4 | 2 |\n| 103b36040 | 3 |\n| 104efa27f | 4 |\n| 10949c36b | 2 |\n| 1191d0c64 | 3 |\n| 11ba870f8 | 5 |\n| 11cace737 | 5 |\n| 11f78fc33 | 6 |\n| 1219d846d | 4 |\n| 1239df1cc | 4 |\n| 12ce291ee | 3 |\n| 135334d8e | 4 |\n| 1353baa8f | 2 |\n| 136b98db0 | 6 |\n| 13c5661af | 4 |\n| 145508b06 | 2 |\n| 146bf0547 | 4 |\n| 1480909ff | 3 |\n| 14aeb8605 | 5 |\n| 15248f301 | 4 |\n| 159ea258f | 4 |\n| 15c6293ed | 4 |\n| 15ca3021c | 3 |\n| 15e096859 | 1 |\n| 165c3e6d2 | 1 |\n| 1670445b9 | 1 |\n| 169911ed1 | 6 |\n| 171378bfc | 2 |\n| ⋮ | ⋮ |\n| ea86330e8 |  3 |\n| eab863e78 |  5 |\n| eacd63a5b |  1 |\n| eaf319a82 |  1 |\n| eb17f5491 |  2 |\n| eb9891529 |  4 |\n| ec0e8edce |  2 |\n| ec4cded9c |  2 |\n| eca16ff7c |  4 |\n| ece1115ac |  2 |\n| ed19e63e8 |  1 |\n| ed1c04515 |  4 |\n| ed1c9c529 |  5 |\n| ed256aa01 |  4 |\n| edc07c20c |  1 |\n| ee0f95f07 |  2 |\n| ee23d963d |  2 |\n| ee3d80cb6 |  1 |\n| eea5ff2cc |  2 |\n| eed62c757 |  2 |\n| eeef06344 |  2 |\n| ef055dda9 |  3 |\n| ef0e2156b |  2 |\n| ef8ba2272 |  7 |\n| efb7f2333 |  3 |\n| efd3aec61 |  5 |\n| f01ee929b |  2 |\n| f021e6e54 |  4 |\n| f1265ca75 |  1 |\n| f162a4d6c |  3 |\n| f1a9eef39 |  5 |\n| f1add03a5 |  4 |\n| f1e36c6f8 |  4 |\n| f2058cc58 |  4 |\n| f209c8c27 |  3 |\n| f24427b62 |  4 |\n| f25944170 |  2 |\n| f29067293 |  3 |\n| f2ce59637 |  2 |\n| f2fcf00fd |  2 |\n| f33a63d2e |  6 |\n| f343835ca |  5 |\n| f36033ff7 |  1 |\n| f39a29177 |  5 |\n| f3f860f58 |  3 |\n| f490fca61 |  1 |\n| f4ca4eee6 |  3 |\n| f50ce08e0 |  2 |\n| f525a50fb |  3 |\n| f527d75a8 |  2 |\n| f54bc4b11 |  4 |\n| f559d662f |  3 |\n| f55c4fc94 |  5 |\n| f623c549b |  2 |\n| f62f54f9e |  3 |\n| f62fbd6f0 |  5 |\n| f65e62b91 |  1 |\n| f67865c2b |  7 |\n| f69665768 |  4 |\n| f69a0fad6 |  3 |\n| f6ef72f82 |  4 |\n| f78b21d0c |  1 |\n| f79444441 |  3 |\n| f81d90468 |  4 |\n| f85fc9f64 |  6 |\n| f8b90c2c1 |  4 |\n| f92cc1ebe |  3 |\n| f9480a013 |  1 |\n| f954c1672 |  2 |\n| f9ddb6edf |  1 |\n| fa2b66b43 |  3 |\n| fa67d6fd5 |  5 |\n| faa3a287f |  1 |\n| faaebf71a |  2 |\n| fabb02be9 |  3 |\n| fb4e4bed6 |  4 |\n| fb5f0ae6c |  4 |\n| fbe69128f |  2 |\n| fc29d47d7 |  7 |\n| fc8ad2380 |  3 |\n| fca2c4361 |  3 |\n| fcd753529 |  4 |\n| fcf75bab3 |  3 |\n| fd10905bc |  4 |\n| fd22b4607 |  4 |\n| fd2369f80 |  5 |\n| fd53f7161 |  6 |\n| fd69ffc71 |  3 |\n| fd6c635d5 |  4 |\n| fd80dfac4 |  1 |\n| fd89cbc8b |  1 |\n| fd8a6d014 | 13 |\n| fda272904 |  2 |\n| fdc5d6c51 |  4 |\n| fdd35c1ca |  1 |\n| fdf19ce0c |  1 |\n| fe4c84768 |  3 |\n| fe7dbf4cc |  3 |\n| ff31b984b |  3 |\n| ff9343a35 |  4 |\n\n",
            "text/html": [
              "<table class=\"dataframe\">\n",
              "<caption>A data.frame: 987 × 2</caption>\n",
              "<thead>\n",
              "\t<tr><th scope=col>Var1</th><th scope=col>Freq</th></tr>\n",
              "\t<tr><th scope=col>&lt;fct&gt;</th><th scope=col>&lt;int&gt;</th></tr>\n",
              "</thead>\n",
              "<tbody>\n",
              "\t<tr><td>006555fe2</td><td>5</td></tr>\n",
              "\t<tr><td>00e443b00</td><td>1</td></tr>\n",
              "\t<tr><td>00edc0d0f</td><td>6</td></tr>\n",
              "\t<tr><td>01c6fcb6e</td><td>1</td></tr>\n",
              "\t<tr><td>01ff6a086</td><td>2</td></tr>\n",
              "\t<tr><td>023edfed0</td><td>3</td></tr>\n",
              "\t<tr><td>0250e0b59</td><td>3</td></tr>\n",
              "\t<tr><td>035bb4b72</td><td>6</td></tr>\n",
              "\t<tr><td>0369a5d78</td><td>3</td></tr>\n",
              "\t<tr><td>03b23f2b1</td><td>4</td></tr>\n",
              "\t<tr><td>03c78a7a9</td><td>4</td></tr>\n",
              "\t<tr><td>03d27346e</td><td>3</td></tr>\n",
              "\t<tr><td>03f00ec52</td><td>3</td></tr>\n",
              "\t<tr><td>0473832dd</td><td>4</td></tr>\n",
              "\t<tr><td>048d64af0</td><td>2</td></tr>\n",
              "\t<tr><td>04a8915f6</td><td>6</td></tr>\n",
              "\t<tr><td>04b02301b</td><td>3</td></tr>\n",
              "\t<tr><td>04d0d0d8f</td><td>4</td></tr>\n",
              "\t<tr><td>0511912b6</td><td>4</td></tr>\n",
              "\t<tr><td>051f67b16</td><td>4</td></tr>\n",
              "\t<tr><td>054074f61</td><td>6</td></tr>\n",
              "\t<tr><td>0564f49cd</td><td>3</td></tr>\n",
              "\t<tr><td>0592dc939</td><td>7</td></tr>\n",
              "\t<tr><td>060027579</td><td>3</td></tr>\n",
              "\t<tr><td>06089482a</td><td>2</td></tr>\n",
              "\t<tr><td>061f8ffcf</td><td>4</td></tr>\n",
              "\t<tr><td>0667ebc47</td><td>2</td></tr>\n",
              "\t<tr><td>0673a6cf3</td><td>2</td></tr>\n",
              "\t<tr><td>06804be1b</td><td>5</td></tr>\n",
              "\t<tr><td>06dba0576</td><td>5</td></tr>\n",
              "\t<tr><td>07a5de1ba</td><td>3</td></tr>\n",
              "\t<tr><td>07a6cc87c</td><td>2</td></tr>\n",
              "\t<tr><td>08039fb0e</td><td>6</td></tr>\n",
              "\t<tr><td>08210d8c6</td><td>4</td></tr>\n",
              "\t<tr><td>0890628f6</td><td>1</td></tr>\n",
              "\t<tr><td>0932e7898</td><td>3</td></tr>\n",
              "\t<tr><td>09395e7d3</td><td>2</td></tr>\n",
              "\t<tr><td>09a26c158</td><td>1</td></tr>\n",
              "\t<tr><td>09b82f76a</td><td>4</td></tr>\n",
              "\t<tr><td>09bf46466</td><td>3</td></tr>\n",
              "\t<tr><td>09c634256</td><td>4</td></tr>\n",
              "\t<tr><td>09cc036c4</td><td>2</td></tr>\n",
              "\t<tr><td>09d748e5f</td><td>6</td></tr>\n",
              "\t<tr><td>09d9f0be5</td><td>1</td></tr>\n",
              "\t<tr><td>0a3be8b29</td><td>1</td></tr>\n",
              "\t<tr><td>0a865fb17</td><td>4</td></tr>\n",
              "\t<tr><td>0a90e8c3f</td><td>1</td></tr>\n",
              "\t<tr><td>0b42ed3af</td><td>2</td></tr>\n",
              "\t<tr><td>0b7ee52ff</td><td>1</td></tr>\n",
              "\t<tr><td>0bbcfa8d9</td><td>3</td></tr>\n",
              "\t<tr><td>0c072fb72</td><td>3</td></tr>\n",
              "\t<tr><td>0c1ad9841</td><td>5</td></tr>\n",
              "\t<tr><td>0c975d1f4</td><td>1</td></tr>\n",
              "\t<tr><td>0d2895839</td><td>4</td></tr>\n",
              "\t<tr><td>0d29879d6</td><td>3</td></tr>\n",
              "\t<tr><td>0d62666ad</td><td>3</td></tr>\n",
              "\t<tr><td>0ddef6fe0</td><td>2</td></tr>\n",
              "\t<tr><td>0de07ca9a</td><td>1</td></tr>\n",
              "\t<tr><td>0e0b899cb</td><td>4</td></tr>\n",
              "\t<tr><td>0e5d7a658</td><td>1</td></tr>\n",
              "\t<tr><td>0e7f79b84</td><td>5</td></tr>\n",
              "\t<tr><td>0eaddb7f6</td><td>2</td></tr>\n",
              "\t<tr><td>0efe3162b</td><td>2</td></tr>\n",
              "\t<tr><td>0f11dd26b</td><td>1</td></tr>\n",
              "\t<tr><td>0f2682fe6</td><td>4</td></tr>\n",
              "\t<tr><td>0f2b13fba</td><td>2</td></tr>\n",
              "\t<tr><td>0f87a987f</td><td>4</td></tr>\n",
              "\t<tr><td>0f9494d3a</td><td>5</td></tr>\n",
              "\t<tr><td>0fa41d365</td><td>4</td></tr>\n",
              "\t<tr><td>0fb516a6a</td><td>4</td></tr>\n",
              "\t<tr><td>0fdac824f</td><td>4</td></tr>\n",
              "\t<tr><td>1012a6463</td><td>2</td></tr>\n",
              "\t<tr><td>1026b0bd4</td><td>2</td></tr>\n",
              "\t<tr><td>103b36040</td><td>3</td></tr>\n",
              "\t<tr><td>104efa27f</td><td>4</td></tr>\n",
              "\t<tr><td>10949c36b</td><td>2</td></tr>\n",
              "\t<tr><td>1191d0c64</td><td>3</td></tr>\n",
              "\t<tr><td>11ba870f8</td><td>5</td></tr>\n",
              "\t<tr><td>11cace737</td><td>5</td></tr>\n",
              "\t<tr><td>11f78fc33</td><td>6</td></tr>\n",
              "\t<tr><td>1219d846d</td><td>4</td></tr>\n",
              "\t<tr><td>1239df1cc</td><td>4</td></tr>\n",
              "\t<tr><td>12ce291ee</td><td>3</td></tr>\n",
              "\t<tr><td>135334d8e</td><td>4</td></tr>\n",
              "\t<tr><td>1353baa8f</td><td>2</td></tr>\n",
              "\t<tr><td>136b98db0</td><td>6</td></tr>\n",
              "\t<tr><td>13c5661af</td><td>4</td></tr>\n",
              "\t<tr><td>145508b06</td><td>2</td></tr>\n",
              "\t<tr><td>146bf0547</td><td>4</td></tr>\n",
              "\t<tr><td>1480909ff</td><td>3</td></tr>\n",
              "\t<tr><td>14aeb8605</td><td>5</td></tr>\n",
              "\t<tr><td>15248f301</td><td>4</td></tr>\n",
              "\t<tr><td>159ea258f</td><td>4</td></tr>\n",
              "\t<tr><td>15c6293ed</td><td>4</td></tr>\n",
              "\t<tr><td>15ca3021c</td><td>3</td></tr>\n",
              "\t<tr><td>15e096859</td><td>1</td></tr>\n",
              "\t<tr><td>165c3e6d2</td><td>1</td></tr>\n",
              "\t<tr><td>1670445b9</td><td>1</td></tr>\n",
              "\t<tr><td>169911ed1</td><td>6</td></tr>\n",
              "\t<tr><td>171378bfc</td><td>2</td></tr>\n",
              "\t<tr><td>⋮</td><td>⋮</td></tr>\n",
              "\t<tr><td>ea86330e8</td><td> 3</td></tr>\n",
              "\t<tr><td>eab863e78</td><td> 5</td></tr>\n",
              "\t<tr><td>eacd63a5b</td><td> 1</td></tr>\n",
              "\t<tr><td>eaf319a82</td><td> 1</td></tr>\n",
              "\t<tr><td>eb17f5491</td><td> 2</td></tr>\n",
              "\t<tr><td>eb9891529</td><td> 4</td></tr>\n",
              "\t<tr><td>ec0e8edce</td><td> 2</td></tr>\n",
              "\t<tr><td>ec4cded9c</td><td> 2</td></tr>\n",
              "\t<tr><td>eca16ff7c</td><td> 4</td></tr>\n",
              "\t<tr><td>ece1115ac</td><td> 2</td></tr>\n",
              "\t<tr><td>ed19e63e8</td><td> 1</td></tr>\n",
              "\t<tr><td>ed1c04515</td><td> 4</td></tr>\n",
              "\t<tr><td>ed1c9c529</td><td> 5</td></tr>\n",
              "\t<tr><td>ed256aa01</td><td> 4</td></tr>\n",
              "\t<tr><td>edc07c20c</td><td> 1</td></tr>\n",
              "\t<tr><td>ee0f95f07</td><td> 2</td></tr>\n",
              "\t<tr><td>ee23d963d</td><td> 2</td></tr>\n",
              "\t<tr><td>ee3d80cb6</td><td> 1</td></tr>\n",
              "\t<tr><td>eea5ff2cc</td><td> 2</td></tr>\n",
              "\t<tr><td>eed62c757</td><td> 2</td></tr>\n",
              "\t<tr><td>eeef06344</td><td> 2</td></tr>\n",
              "\t<tr><td>ef055dda9</td><td> 3</td></tr>\n",
              "\t<tr><td>ef0e2156b</td><td> 2</td></tr>\n",
              "\t<tr><td>ef8ba2272</td><td> 7</td></tr>\n",
              "\t<tr><td>efb7f2333</td><td> 3</td></tr>\n",
              "\t<tr><td>efd3aec61</td><td> 5</td></tr>\n",
              "\t<tr><td>f01ee929b</td><td> 2</td></tr>\n",
              "\t<tr><td>f021e6e54</td><td> 4</td></tr>\n",
              "\t<tr><td>f1265ca75</td><td> 1</td></tr>\n",
              "\t<tr><td>f162a4d6c</td><td> 3</td></tr>\n",
              "\t<tr><td>f1a9eef39</td><td> 5</td></tr>\n",
              "\t<tr><td>f1add03a5</td><td> 4</td></tr>\n",
              "\t<tr><td>f1e36c6f8</td><td> 4</td></tr>\n",
              "\t<tr><td>f2058cc58</td><td> 4</td></tr>\n",
              "\t<tr><td>f209c8c27</td><td> 3</td></tr>\n",
              "\t<tr><td>f24427b62</td><td> 4</td></tr>\n",
              "\t<tr><td>f25944170</td><td> 2</td></tr>\n",
              "\t<tr><td>f29067293</td><td> 3</td></tr>\n",
              "\t<tr><td>f2ce59637</td><td> 2</td></tr>\n",
              "\t<tr><td>f2fcf00fd</td><td> 2</td></tr>\n",
              "\t<tr><td>f33a63d2e</td><td> 6</td></tr>\n",
              "\t<tr><td>f343835ca</td><td> 5</td></tr>\n",
              "\t<tr><td>f36033ff7</td><td> 1</td></tr>\n",
              "\t<tr><td>f39a29177</td><td> 5</td></tr>\n",
              "\t<tr><td>f3f860f58</td><td> 3</td></tr>\n",
              "\t<tr><td>f490fca61</td><td> 1</td></tr>\n",
              "\t<tr><td>f4ca4eee6</td><td> 3</td></tr>\n",
              "\t<tr><td>f50ce08e0</td><td> 2</td></tr>\n",
              "\t<tr><td>f525a50fb</td><td> 3</td></tr>\n",
              "\t<tr><td>f527d75a8</td><td> 2</td></tr>\n",
              "\t<tr><td>f54bc4b11</td><td> 4</td></tr>\n",
              "\t<tr><td>f559d662f</td><td> 3</td></tr>\n",
              "\t<tr><td>f55c4fc94</td><td> 5</td></tr>\n",
              "\t<tr><td>f623c549b</td><td> 2</td></tr>\n",
              "\t<tr><td>f62f54f9e</td><td> 3</td></tr>\n",
              "\t<tr><td>f62fbd6f0</td><td> 5</td></tr>\n",
              "\t<tr><td>f65e62b91</td><td> 1</td></tr>\n",
              "\t<tr><td>f67865c2b</td><td> 7</td></tr>\n",
              "\t<tr><td>f69665768</td><td> 4</td></tr>\n",
              "\t<tr><td>f69a0fad6</td><td> 3</td></tr>\n",
              "\t<tr><td>f6ef72f82</td><td> 4</td></tr>\n",
              "\t<tr><td>f78b21d0c</td><td> 1</td></tr>\n",
              "\t<tr><td>f79444441</td><td> 3</td></tr>\n",
              "\t<tr><td>f81d90468</td><td> 4</td></tr>\n",
              "\t<tr><td>f85fc9f64</td><td> 6</td></tr>\n",
              "\t<tr><td>f8b90c2c1</td><td> 4</td></tr>\n",
              "\t<tr><td>f92cc1ebe</td><td> 3</td></tr>\n",
              "\t<tr><td>f9480a013</td><td> 1</td></tr>\n",
              "\t<tr><td>f954c1672</td><td> 2</td></tr>\n",
              "\t<tr><td>f9ddb6edf</td><td> 1</td></tr>\n",
              "\t<tr><td>fa2b66b43</td><td> 3</td></tr>\n",
              "\t<tr><td>fa67d6fd5</td><td> 5</td></tr>\n",
              "\t<tr><td>faa3a287f</td><td> 1</td></tr>\n",
              "\t<tr><td>faaebf71a</td><td> 2</td></tr>\n",
              "\t<tr><td>fabb02be9</td><td> 3</td></tr>\n",
              "\t<tr><td>fb4e4bed6</td><td> 4</td></tr>\n",
              "\t<tr><td>fb5f0ae6c</td><td> 4</td></tr>\n",
              "\t<tr><td>fbe69128f</td><td> 2</td></tr>\n",
              "\t<tr><td>fc29d47d7</td><td> 7</td></tr>\n",
              "\t<tr><td>fc8ad2380</td><td> 3</td></tr>\n",
              "\t<tr><td>fca2c4361</td><td> 3</td></tr>\n",
              "\t<tr><td>fcd753529</td><td> 4</td></tr>\n",
              "\t<tr><td>fcf75bab3</td><td> 3</td></tr>\n",
              "\t<tr><td>fd10905bc</td><td> 4</td></tr>\n",
              "\t<tr><td>fd22b4607</td><td> 4</td></tr>\n",
              "\t<tr><td>fd2369f80</td><td> 5</td></tr>\n",
              "\t<tr><td>fd53f7161</td><td> 6</td></tr>\n",
              "\t<tr><td>fd69ffc71</td><td> 3</td></tr>\n",
              "\t<tr><td>fd6c635d5</td><td> 4</td></tr>\n",
              "\t<tr><td>fd80dfac4</td><td> 1</td></tr>\n",
              "\t<tr><td>fd89cbc8b</td><td> 1</td></tr>\n",
              "\t<tr><td>fd8a6d014</td><td>13</td></tr>\n",
              "\t<tr><td>fda272904</td><td> 2</td></tr>\n",
              "\t<tr><td>fdc5d6c51</td><td> 4</td></tr>\n",
              "\t<tr><td>fdd35c1ca</td><td> 1</td></tr>\n",
              "\t<tr><td>fdf19ce0c</td><td> 1</td></tr>\n",
              "\t<tr><td>fe4c84768</td><td> 3</td></tr>\n",
              "\t<tr><td>fe7dbf4cc</td><td> 3</td></tr>\n",
              "\t<tr><td>ff31b984b</td><td> 3</td></tr>\n",
              "\t<tr><td>ff9343a35</td><td> 4</td></tr>\n",
              "</tbody>\n",
              "</table>\n"
            ]
          },
          "metadata": {}
        }
      ]
    },
    {
      "cell_type": "markdown",
      "metadata": {
        "id": "BFJQX7u7cqJu"
      },
      "source": [
        "Too many unique values with small frequencies \n",
        "\n",
        "Implementing label encoding"
      ]
    },
    {
      "cell_type": "code",
      "metadata": {
        "colab": {
          "base_uri": "https://localhost:8080/"
        },
        "id": "1Srly-Qlk09I",
        "outputId": "6375ff9b-9d97-4ca1-906c-97d84e261646"
      },
      "source": [
        "install.packages('superml')"
      ],
      "execution_count": 25,
      "outputs": [
        {
          "output_type": "stream",
          "name": "stderr",
          "text": [
            "Installing package into ‘/usr/local/lib/R/site-library’\n",
            "(as ‘lib’ is unspecified)\n",
            "\n",
            "also installing the dependencies ‘Metrics’, ‘BH’, ‘RcppArmadillo’\n",
            "\n",
            "\n"
          ]
        }
      ]
    },
    {
      "cell_type": "code",
      "metadata": {
        "id": "cMcN3WWpjgZZ",
        "colab": {
          "base_uri": "https://localhost:8080/"
        },
        "outputId": "dd9f4a35-dfc1-456f-e43d-416788120762"
      },
      "source": [
        "library(superml)\n",
        "label <- LabelEncoder$new()\n",
        "#print(label$fit(train$idhogar))\n",
        "train$idhogar <- label$fit_transform(train$idhogar)"
      ],
      "execution_count": 26,
      "outputs": [
        {
          "output_type": "stream",
          "name": "stderr",
          "text": [
            "Loading required package: R6\n",
            "\n"
          ]
        }
      ]
    },
    {
      "cell_type": "code",
      "metadata": {
        "colab": {
          "base_uri": "https://localhost:8080/",
          "height": 1000
        },
        "id": "OHAuBQalmRM2",
        "outputId": "0a621dad-bc2b-459d-9611-801576a95f31"
      },
      "source": [
        "as.data.frame(table(train$idhogar))"
      ],
      "execution_count": 27,
      "outputs": [
        {
          "output_type": "display_data",
          "data": {
            "text/plain": [
              "    Var1 Freq\n",
              "1   0     1  \n",
              "2   1     1  \n",
              "3   2     1  \n",
              "4   3     4  \n",
              "5   4     4  \n",
              "6   5     2  \n",
              "7   6     2  \n",
              "8   7     4  \n",
              "9   8     2  \n",
              "10  9     2  \n",
              "11  10    3  \n",
              "12  11    1  \n",
              "13  12    3  \n",
              "14  13    2  \n",
              "15  14    5  \n",
              "16  15    3  \n",
              "17  16    2  \n",
              "18  17    3  \n",
              "19  18    2  \n",
              "20  19    3  \n",
              "21  20    4  \n",
              "22  21    4  \n",
              "23  22    1  \n",
              "24  23    2  \n",
              "25  24    3  \n",
              "26  25    1  \n",
              "27  26    5  \n",
              "28  27    4  \n",
              "29  28    3  \n",
              "30  29    3  \n",
              "31  30    3  \n",
              "32  31    3  \n",
              "33  32    2  \n",
              "34  33    4  \n",
              "35  34    1  \n",
              "36  35    5  \n",
              "37  36    3  \n",
              "38  37    3  \n",
              "39  38    3  \n",
              "40  39    1  \n",
              "41  40    1  \n",
              "42  41    2  \n",
              "43  42    6  \n",
              "44  43    4  \n",
              "45  44    5  \n",
              "46  45    4  \n",
              "47  46    4  \n",
              "48  47    2  \n",
              "49  48    4  \n",
              "50  49    2  \n",
              "51  50    2  \n",
              "52  51   10  \n",
              "53  52    5  \n",
              "54  53    7  \n",
              "55  54    7  \n",
              "56  55    6  \n",
              "57  56    4  \n",
              "58  57    1  \n",
              "59  58    2  \n",
              "60  59    9  \n",
              "61  60    4  \n",
              "62  61    3  \n",
              "63  62    1  \n",
              "64  63    3  \n",
              "65  64    4  \n",
              "66  65    3  \n",
              "67  66    2  \n",
              "68  67    2  \n",
              "69  68    3  \n",
              "70  69    4  \n",
              "71  70    2  \n",
              "72  71    3  \n",
              "73  72    1  \n",
              "74  73    1  \n",
              "75  74    1  \n",
              "76  75    1  \n",
              "77  76    1  \n",
              "78  77    3  \n",
              "79  78    1  \n",
              "80  79    2  \n",
              "81  80    5  \n",
              "82  81    2  \n",
              "83  82    3  \n",
              "84  83    1  \n",
              "85  84    4  \n",
              "86  85    3  \n",
              "87  86    6  \n",
              "88  87    4  \n",
              "89  88    4  \n",
              "90  89    6  \n",
              "91  90    4  \n",
              "92  91    3  \n",
              "93  92    6  \n",
              "94  93    6  \n",
              "95  94    5  \n",
              "96  95    3  \n",
              "97  96    4  \n",
              "98  97    3  \n",
              "99  98    4  \n",
              "100 99    2  \n",
              "⋮   ⋮    ⋮   \n",
              "888 887  4   \n",
              "889 888  2   \n",
              "890 889  4   \n",
              "891 890  2   \n",
              "892 891  3   \n",
              "893 892  1   \n",
              "894 893  3   \n",
              "895 894  4   \n",
              "896 895  4   \n",
              "897 896  5   \n",
              "898 897  4   \n",
              "899 898  4   \n",
              "900 899  3   \n",
              "901 900  6   \n",
              "902 901  4   \n",
              "903 902  4   \n",
              "904 903  6   \n",
              "905 904  2   \n",
              "906 905  3   \n",
              "907 906  3   \n",
              "908 907  5   \n",
              "909 908  2   \n",
              "910 909  1   \n",
              "911 910  6   \n",
              "912 911  1   \n",
              "913 912  2   \n",
              "914 913  4   \n",
              "915 914  2   \n",
              "916 915  5   \n",
              "917 916  2   \n",
              "918 917  2   \n",
              "919 918  4   \n",
              "920 919  2   \n",
              "921 920  1   \n",
              "922 921  4   \n",
              "923 922  4   \n",
              "924 923  3   \n",
              "925 924  3   \n",
              "926 925  3   \n",
              "927 926  3   \n",
              "928 927  2   \n",
              "929 928  5   \n",
              "930 929  1   \n",
              "931 930  4   \n",
              "932 931  6   \n",
              "933 932  2   \n",
              "934 933  2   \n",
              "935 934  3   \n",
              "936 935  3   \n",
              "937 936  2   \n",
              "938 937  4   \n",
              "939 938  7   \n",
              "940 939  3   \n",
              "941 940  1   \n",
              "942 941  2   \n",
              "943 942  3   \n",
              "944 943  4   \n",
              "945 944  5   \n",
              "946 945  3   \n",
              "947 946  1   \n",
              "948 947  2   \n",
              "949 948  3   \n",
              "950 949  4   \n",
              "951 950  4   \n",
              "952 951  3   \n",
              "953 952  2   \n",
              "954 953  2   \n",
              "955 954  3   \n",
              "956 955  5   \n",
              "957 956  4   \n",
              "958 957  2   \n",
              "959 958  3   \n",
              "960 959  3   \n",
              "961 960  3   \n",
              "962 961  4   \n",
              "963 962  2   \n",
              "964 963  1   \n",
              "965 964  6   \n",
              "966 965  2   \n",
              "967 966  3   \n",
              "968 967  3   \n",
              "969 968  3   \n",
              "970 969  1   \n",
              "971 970  5   \n",
              "972 971  2   \n",
              "973 972  4   \n",
              "974 973  2   \n",
              "975 974  2   \n",
              "976 975  2   \n",
              "977 976  1   \n",
              "978 977  5   \n",
              "979 978  3   \n",
              "980 979  3   \n",
              "981 980  4   \n",
              "982 981  4   \n",
              "983 982  3   \n",
              "984 983  3   \n",
              "985 984  1   \n",
              "986 985  1   \n",
              "987 986  4   "
            ],
            "text/latex": "A data.frame: 987 × 2\n\\begin{tabular}{ll}\n Var1 & Freq\\\\\n <fct> & <int>\\\\\n\\hline\n\t 0  &  1\\\\\n\t 1  &  1\\\\\n\t 2  &  1\\\\\n\t 3  &  4\\\\\n\t 4  &  4\\\\\n\t 5  &  2\\\\\n\t 6  &  2\\\\\n\t 7  &  4\\\\\n\t 8  &  2\\\\\n\t 9  &  2\\\\\n\t 10 &  3\\\\\n\t 11 &  1\\\\\n\t 12 &  3\\\\\n\t 13 &  2\\\\\n\t 14 &  5\\\\\n\t 15 &  3\\\\\n\t 16 &  2\\\\\n\t 17 &  3\\\\\n\t 18 &  2\\\\\n\t 19 &  3\\\\\n\t 20 &  4\\\\\n\t 21 &  4\\\\\n\t 22 &  1\\\\\n\t 23 &  2\\\\\n\t 24 &  3\\\\\n\t 25 &  1\\\\\n\t 26 &  5\\\\\n\t 27 &  4\\\\\n\t 28 &  3\\\\\n\t 29 &  3\\\\\n\t 30 &  3\\\\\n\t 31 &  3\\\\\n\t 32 &  2\\\\\n\t 33 &  4\\\\\n\t 34 &  1\\\\\n\t 35 &  5\\\\\n\t 36 &  3\\\\\n\t 37 &  3\\\\\n\t 38 &  3\\\\\n\t 39 &  1\\\\\n\t 40 &  1\\\\\n\t 41 &  2\\\\\n\t 42 &  6\\\\\n\t 43 &  4\\\\\n\t 44 &  5\\\\\n\t 45 &  4\\\\\n\t 46 &  4\\\\\n\t 47 &  2\\\\\n\t 48 &  4\\\\\n\t 49 &  2\\\\\n\t 50 &  2\\\\\n\t 51 & 10\\\\\n\t 52 &  5\\\\\n\t 53 &  7\\\\\n\t 54 &  7\\\\\n\t 55 &  6\\\\\n\t 56 &  4\\\\\n\t 57 &  1\\\\\n\t 58 &  2\\\\\n\t 59 &  9\\\\\n\t 60 &  4\\\\\n\t 61 &  3\\\\\n\t 62 &  1\\\\\n\t 63 &  3\\\\\n\t 64 &  4\\\\\n\t 65 &  3\\\\\n\t 66 &  2\\\\\n\t 67 &  2\\\\\n\t 68 &  3\\\\\n\t 69 &  4\\\\\n\t 70 &  2\\\\\n\t 71 &  3\\\\\n\t 72 &  1\\\\\n\t 73 &  1\\\\\n\t 74 &  1\\\\\n\t 75 &  1\\\\\n\t 76 &  1\\\\\n\t 77 &  3\\\\\n\t 78 &  1\\\\\n\t 79 &  2\\\\\n\t 80 &  5\\\\\n\t 81 &  2\\\\\n\t 82 &  3\\\\\n\t 83 &  1\\\\\n\t 84 &  4\\\\\n\t 85 &  3\\\\\n\t 86 &  6\\\\\n\t 87 &  4\\\\\n\t 88 &  4\\\\\n\t 89 &  6\\\\\n\t 90 &  4\\\\\n\t 91 &  3\\\\\n\t 92 &  6\\\\\n\t 93 &  6\\\\\n\t 94 &  5\\\\\n\t 95 &  3\\\\\n\t 96 &  4\\\\\n\t 97 &  3\\\\\n\t 98 &  4\\\\\n\t 99 &  2\\\\\n\t ⋮ & ⋮\\\\\n\t 887 & 4\\\\\n\t 888 & 2\\\\\n\t 889 & 4\\\\\n\t 890 & 2\\\\\n\t 891 & 3\\\\\n\t 892 & 1\\\\\n\t 893 & 3\\\\\n\t 894 & 4\\\\\n\t 895 & 4\\\\\n\t 896 & 5\\\\\n\t 897 & 4\\\\\n\t 898 & 4\\\\\n\t 899 & 3\\\\\n\t 900 & 6\\\\\n\t 901 & 4\\\\\n\t 902 & 4\\\\\n\t 903 & 6\\\\\n\t 904 & 2\\\\\n\t 905 & 3\\\\\n\t 906 & 3\\\\\n\t 907 & 5\\\\\n\t 908 & 2\\\\\n\t 909 & 1\\\\\n\t 910 & 6\\\\\n\t 911 & 1\\\\\n\t 912 & 2\\\\\n\t 913 & 4\\\\\n\t 914 & 2\\\\\n\t 915 & 5\\\\\n\t 916 & 2\\\\\n\t 917 & 2\\\\\n\t 918 & 4\\\\\n\t 919 & 2\\\\\n\t 920 & 1\\\\\n\t 921 & 4\\\\\n\t 922 & 4\\\\\n\t 923 & 3\\\\\n\t 924 & 3\\\\\n\t 925 & 3\\\\\n\t 926 & 3\\\\\n\t 927 & 2\\\\\n\t 928 & 5\\\\\n\t 929 & 1\\\\\n\t 930 & 4\\\\\n\t 931 & 6\\\\\n\t 932 & 2\\\\\n\t 933 & 2\\\\\n\t 934 & 3\\\\\n\t 935 & 3\\\\\n\t 936 & 2\\\\\n\t 937 & 4\\\\\n\t 938 & 7\\\\\n\t 939 & 3\\\\\n\t 940 & 1\\\\\n\t 941 & 2\\\\\n\t 942 & 3\\\\\n\t 943 & 4\\\\\n\t 944 & 5\\\\\n\t 945 & 3\\\\\n\t 946 & 1\\\\\n\t 947 & 2\\\\\n\t 948 & 3\\\\\n\t 949 & 4\\\\\n\t 950 & 4\\\\\n\t 951 & 3\\\\\n\t 952 & 2\\\\\n\t 953 & 2\\\\\n\t 954 & 3\\\\\n\t 955 & 5\\\\\n\t 956 & 4\\\\\n\t 957 & 2\\\\\n\t 958 & 3\\\\\n\t 959 & 3\\\\\n\t 960 & 3\\\\\n\t 961 & 4\\\\\n\t 962 & 2\\\\\n\t 963 & 1\\\\\n\t 964 & 6\\\\\n\t 965 & 2\\\\\n\t 966 & 3\\\\\n\t 967 & 3\\\\\n\t 968 & 3\\\\\n\t 969 & 1\\\\\n\t 970 & 5\\\\\n\t 971 & 2\\\\\n\t 972 & 4\\\\\n\t 973 & 2\\\\\n\t 974 & 2\\\\\n\t 975 & 2\\\\\n\t 976 & 1\\\\\n\t 977 & 5\\\\\n\t 978 & 3\\\\\n\t 979 & 3\\\\\n\t 980 & 4\\\\\n\t 981 & 4\\\\\n\t 982 & 3\\\\\n\t 983 & 3\\\\\n\t 984 & 1\\\\\n\t 985 & 1\\\\\n\t 986 & 4\\\\\n\\end{tabular}\n",
            "text/markdown": "\nA data.frame: 987 × 2\n\n| Var1 &lt;fct&gt; | Freq &lt;int&gt; |\n|---|---|\n| 0  |  1 |\n| 1  |  1 |\n| 2  |  1 |\n| 3  |  4 |\n| 4  |  4 |\n| 5  |  2 |\n| 6  |  2 |\n| 7  |  4 |\n| 8  |  2 |\n| 9  |  2 |\n| 10 |  3 |\n| 11 |  1 |\n| 12 |  3 |\n| 13 |  2 |\n| 14 |  5 |\n| 15 |  3 |\n| 16 |  2 |\n| 17 |  3 |\n| 18 |  2 |\n| 19 |  3 |\n| 20 |  4 |\n| 21 |  4 |\n| 22 |  1 |\n| 23 |  2 |\n| 24 |  3 |\n| 25 |  1 |\n| 26 |  5 |\n| 27 |  4 |\n| 28 |  3 |\n| 29 |  3 |\n| 30 |  3 |\n| 31 |  3 |\n| 32 |  2 |\n| 33 |  4 |\n| 34 |  1 |\n| 35 |  5 |\n| 36 |  3 |\n| 37 |  3 |\n| 38 |  3 |\n| 39 |  1 |\n| 40 |  1 |\n| 41 |  2 |\n| 42 |  6 |\n| 43 |  4 |\n| 44 |  5 |\n| 45 |  4 |\n| 46 |  4 |\n| 47 |  2 |\n| 48 |  4 |\n| 49 |  2 |\n| 50 |  2 |\n| 51 | 10 |\n| 52 |  5 |\n| 53 |  7 |\n| 54 |  7 |\n| 55 |  6 |\n| 56 |  4 |\n| 57 |  1 |\n| 58 |  2 |\n| 59 |  9 |\n| 60 |  4 |\n| 61 |  3 |\n| 62 |  1 |\n| 63 |  3 |\n| 64 |  4 |\n| 65 |  3 |\n| 66 |  2 |\n| 67 |  2 |\n| 68 |  3 |\n| 69 |  4 |\n| 70 |  2 |\n| 71 |  3 |\n| 72 |  1 |\n| 73 |  1 |\n| 74 |  1 |\n| 75 |  1 |\n| 76 |  1 |\n| 77 |  3 |\n| 78 |  1 |\n| 79 |  2 |\n| 80 |  5 |\n| 81 |  2 |\n| 82 |  3 |\n| 83 |  1 |\n| 84 |  4 |\n| 85 |  3 |\n| 86 |  6 |\n| 87 |  4 |\n| 88 |  4 |\n| 89 |  6 |\n| 90 |  4 |\n| 91 |  3 |\n| 92 |  6 |\n| 93 |  6 |\n| 94 |  5 |\n| 95 |  3 |\n| 96 |  4 |\n| 97 |  3 |\n| 98 |  4 |\n| 99 |  2 |\n| ⋮ | ⋮ |\n| 887 | 4 |\n| 888 | 2 |\n| 889 | 4 |\n| 890 | 2 |\n| 891 | 3 |\n| 892 | 1 |\n| 893 | 3 |\n| 894 | 4 |\n| 895 | 4 |\n| 896 | 5 |\n| 897 | 4 |\n| 898 | 4 |\n| 899 | 3 |\n| 900 | 6 |\n| 901 | 4 |\n| 902 | 4 |\n| 903 | 6 |\n| 904 | 2 |\n| 905 | 3 |\n| 906 | 3 |\n| 907 | 5 |\n| 908 | 2 |\n| 909 | 1 |\n| 910 | 6 |\n| 911 | 1 |\n| 912 | 2 |\n| 913 | 4 |\n| 914 | 2 |\n| 915 | 5 |\n| 916 | 2 |\n| 917 | 2 |\n| 918 | 4 |\n| 919 | 2 |\n| 920 | 1 |\n| 921 | 4 |\n| 922 | 4 |\n| 923 | 3 |\n| 924 | 3 |\n| 925 | 3 |\n| 926 | 3 |\n| 927 | 2 |\n| 928 | 5 |\n| 929 | 1 |\n| 930 | 4 |\n| 931 | 6 |\n| 932 | 2 |\n| 933 | 2 |\n| 934 | 3 |\n| 935 | 3 |\n| 936 | 2 |\n| 937 | 4 |\n| 938 | 7 |\n| 939 | 3 |\n| 940 | 1 |\n| 941 | 2 |\n| 942 | 3 |\n| 943 | 4 |\n| 944 | 5 |\n| 945 | 3 |\n| 946 | 1 |\n| 947 | 2 |\n| 948 | 3 |\n| 949 | 4 |\n| 950 | 4 |\n| 951 | 3 |\n| 952 | 2 |\n| 953 | 2 |\n| 954 | 3 |\n| 955 | 5 |\n| 956 | 4 |\n| 957 | 2 |\n| 958 | 3 |\n| 959 | 3 |\n| 960 | 3 |\n| 961 | 4 |\n| 962 | 2 |\n| 963 | 1 |\n| 964 | 6 |\n| 965 | 2 |\n| 966 | 3 |\n| 967 | 3 |\n| 968 | 3 |\n| 969 | 1 |\n| 970 | 5 |\n| 971 | 2 |\n| 972 | 4 |\n| 973 | 2 |\n| 974 | 2 |\n| 975 | 2 |\n| 976 | 1 |\n| 977 | 5 |\n| 978 | 3 |\n| 979 | 3 |\n| 980 | 4 |\n| 981 | 4 |\n| 982 | 3 |\n| 983 | 3 |\n| 984 | 1 |\n| 985 | 1 |\n| 986 | 4 |\n\n",
            "text/html": [
              "<table class=\"dataframe\">\n",
              "<caption>A data.frame: 987 × 2</caption>\n",
              "<thead>\n",
              "\t<tr><th scope=col>Var1</th><th scope=col>Freq</th></tr>\n",
              "\t<tr><th scope=col>&lt;fct&gt;</th><th scope=col>&lt;int&gt;</th></tr>\n",
              "</thead>\n",
              "<tbody>\n",
              "\t<tr><td>0 </td><td> 1</td></tr>\n",
              "\t<tr><td>1 </td><td> 1</td></tr>\n",
              "\t<tr><td>2 </td><td> 1</td></tr>\n",
              "\t<tr><td>3 </td><td> 4</td></tr>\n",
              "\t<tr><td>4 </td><td> 4</td></tr>\n",
              "\t<tr><td>5 </td><td> 2</td></tr>\n",
              "\t<tr><td>6 </td><td> 2</td></tr>\n",
              "\t<tr><td>7 </td><td> 4</td></tr>\n",
              "\t<tr><td>8 </td><td> 2</td></tr>\n",
              "\t<tr><td>9 </td><td> 2</td></tr>\n",
              "\t<tr><td>10</td><td> 3</td></tr>\n",
              "\t<tr><td>11</td><td> 1</td></tr>\n",
              "\t<tr><td>12</td><td> 3</td></tr>\n",
              "\t<tr><td>13</td><td> 2</td></tr>\n",
              "\t<tr><td>14</td><td> 5</td></tr>\n",
              "\t<tr><td>15</td><td> 3</td></tr>\n",
              "\t<tr><td>16</td><td> 2</td></tr>\n",
              "\t<tr><td>17</td><td> 3</td></tr>\n",
              "\t<tr><td>18</td><td> 2</td></tr>\n",
              "\t<tr><td>19</td><td> 3</td></tr>\n",
              "\t<tr><td>20</td><td> 4</td></tr>\n",
              "\t<tr><td>21</td><td> 4</td></tr>\n",
              "\t<tr><td>22</td><td> 1</td></tr>\n",
              "\t<tr><td>23</td><td> 2</td></tr>\n",
              "\t<tr><td>24</td><td> 3</td></tr>\n",
              "\t<tr><td>25</td><td> 1</td></tr>\n",
              "\t<tr><td>26</td><td> 5</td></tr>\n",
              "\t<tr><td>27</td><td> 4</td></tr>\n",
              "\t<tr><td>28</td><td> 3</td></tr>\n",
              "\t<tr><td>29</td><td> 3</td></tr>\n",
              "\t<tr><td>30</td><td> 3</td></tr>\n",
              "\t<tr><td>31</td><td> 3</td></tr>\n",
              "\t<tr><td>32</td><td> 2</td></tr>\n",
              "\t<tr><td>33</td><td> 4</td></tr>\n",
              "\t<tr><td>34</td><td> 1</td></tr>\n",
              "\t<tr><td>35</td><td> 5</td></tr>\n",
              "\t<tr><td>36</td><td> 3</td></tr>\n",
              "\t<tr><td>37</td><td> 3</td></tr>\n",
              "\t<tr><td>38</td><td> 3</td></tr>\n",
              "\t<tr><td>39</td><td> 1</td></tr>\n",
              "\t<tr><td>40</td><td> 1</td></tr>\n",
              "\t<tr><td>41</td><td> 2</td></tr>\n",
              "\t<tr><td>42</td><td> 6</td></tr>\n",
              "\t<tr><td>43</td><td> 4</td></tr>\n",
              "\t<tr><td>44</td><td> 5</td></tr>\n",
              "\t<tr><td>45</td><td> 4</td></tr>\n",
              "\t<tr><td>46</td><td> 4</td></tr>\n",
              "\t<tr><td>47</td><td> 2</td></tr>\n",
              "\t<tr><td>48</td><td> 4</td></tr>\n",
              "\t<tr><td>49</td><td> 2</td></tr>\n",
              "\t<tr><td>50</td><td> 2</td></tr>\n",
              "\t<tr><td>51</td><td>10</td></tr>\n",
              "\t<tr><td>52</td><td> 5</td></tr>\n",
              "\t<tr><td>53</td><td> 7</td></tr>\n",
              "\t<tr><td>54</td><td> 7</td></tr>\n",
              "\t<tr><td>55</td><td> 6</td></tr>\n",
              "\t<tr><td>56</td><td> 4</td></tr>\n",
              "\t<tr><td>57</td><td> 1</td></tr>\n",
              "\t<tr><td>58</td><td> 2</td></tr>\n",
              "\t<tr><td>59</td><td> 9</td></tr>\n",
              "\t<tr><td>60</td><td> 4</td></tr>\n",
              "\t<tr><td>61</td><td> 3</td></tr>\n",
              "\t<tr><td>62</td><td> 1</td></tr>\n",
              "\t<tr><td>63</td><td> 3</td></tr>\n",
              "\t<tr><td>64</td><td> 4</td></tr>\n",
              "\t<tr><td>65</td><td> 3</td></tr>\n",
              "\t<tr><td>66</td><td> 2</td></tr>\n",
              "\t<tr><td>67</td><td> 2</td></tr>\n",
              "\t<tr><td>68</td><td> 3</td></tr>\n",
              "\t<tr><td>69</td><td> 4</td></tr>\n",
              "\t<tr><td>70</td><td> 2</td></tr>\n",
              "\t<tr><td>71</td><td> 3</td></tr>\n",
              "\t<tr><td>72</td><td> 1</td></tr>\n",
              "\t<tr><td>73</td><td> 1</td></tr>\n",
              "\t<tr><td>74</td><td> 1</td></tr>\n",
              "\t<tr><td>75</td><td> 1</td></tr>\n",
              "\t<tr><td>76</td><td> 1</td></tr>\n",
              "\t<tr><td>77</td><td> 3</td></tr>\n",
              "\t<tr><td>78</td><td> 1</td></tr>\n",
              "\t<tr><td>79</td><td> 2</td></tr>\n",
              "\t<tr><td>80</td><td> 5</td></tr>\n",
              "\t<tr><td>81</td><td> 2</td></tr>\n",
              "\t<tr><td>82</td><td> 3</td></tr>\n",
              "\t<tr><td>83</td><td> 1</td></tr>\n",
              "\t<tr><td>84</td><td> 4</td></tr>\n",
              "\t<tr><td>85</td><td> 3</td></tr>\n",
              "\t<tr><td>86</td><td> 6</td></tr>\n",
              "\t<tr><td>87</td><td> 4</td></tr>\n",
              "\t<tr><td>88</td><td> 4</td></tr>\n",
              "\t<tr><td>89</td><td> 6</td></tr>\n",
              "\t<tr><td>90</td><td> 4</td></tr>\n",
              "\t<tr><td>91</td><td> 3</td></tr>\n",
              "\t<tr><td>92</td><td> 6</td></tr>\n",
              "\t<tr><td>93</td><td> 6</td></tr>\n",
              "\t<tr><td>94</td><td> 5</td></tr>\n",
              "\t<tr><td>95</td><td> 3</td></tr>\n",
              "\t<tr><td>96</td><td> 4</td></tr>\n",
              "\t<tr><td>97</td><td> 3</td></tr>\n",
              "\t<tr><td>98</td><td> 4</td></tr>\n",
              "\t<tr><td>99</td><td> 2</td></tr>\n",
              "\t<tr><td>⋮</td><td>⋮</td></tr>\n",
              "\t<tr><td>887</td><td>4</td></tr>\n",
              "\t<tr><td>888</td><td>2</td></tr>\n",
              "\t<tr><td>889</td><td>4</td></tr>\n",
              "\t<tr><td>890</td><td>2</td></tr>\n",
              "\t<tr><td>891</td><td>3</td></tr>\n",
              "\t<tr><td>892</td><td>1</td></tr>\n",
              "\t<tr><td>893</td><td>3</td></tr>\n",
              "\t<tr><td>894</td><td>4</td></tr>\n",
              "\t<tr><td>895</td><td>4</td></tr>\n",
              "\t<tr><td>896</td><td>5</td></tr>\n",
              "\t<tr><td>897</td><td>4</td></tr>\n",
              "\t<tr><td>898</td><td>4</td></tr>\n",
              "\t<tr><td>899</td><td>3</td></tr>\n",
              "\t<tr><td>900</td><td>6</td></tr>\n",
              "\t<tr><td>901</td><td>4</td></tr>\n",
              "\t<tr><td>902</td><td>4</td></tr>\n",
              "\t<tr><td>903</td><td>6</td></tr>\n",
              "\t<tr><td>904</td><td>2</td></tr>\n",
              "\t<tr><td>905</td><td>3</td></tr>\n",
              "\t<tr><td>906</td><td>3</td></tr>\n",
              "\t<tr><td>907</td><td>5</td></tr>\n",
              "\t<tr><td>908</td><td>2</td></tr>\n",
              "\t<tr><td>909</td><td>1</td></tr>\n",
              "\t<tr><td>910</td><td>6</td></tr>\n",
              "\t<tr><td>911</td><td>1</td></tr>\n",
              "\t<tr><td>912</td><td>2</td></tr>\n",
              "\t<tr><td>913</td><td>4</td></tr>\n",
              "\t<tr><td>914</td><td>2</td></tr>\n",
              "\t<tr><td>915</td><td>5</td></tr>\n",
              "\t<tr><td>916</td><td>2</td></tr>\n",
              "\t<tr><td>917</td><td>2</td></tr>\n",
              "\t<tr><td>918</td><td>4</td></tr>\n",
              "\t<tr><td>919</td><td>2</td></tr>\n",
              "\t<tr><td>920</td><td>1</td></tr>\n",
              "\t<tr><td>921</td><td>4</td></tr>\n",
              "\t<tr><td>922</td><td>4</td></tr>\n",
              "\t<tr><td>923</td><td>3</td></tr>\n",
              "\t<tr><td>924</td><td>3</td></tr>\n",
              "\t<tr><td>925</td><td>3</td></tr>\n",
              "\t<tr><td>926</td><td>3</td></tr>\n",
              "\t<tr><td>927</td><td>2</td></tr>\n",
              "\t<tr><td>928</td><td>5</td></tr>\n",
              "\t<tr><td>929</td><td>1</td></tr>\n",
              "\t<tr><td>930</td><td>4</td></tr>\n",
              "\t<tr><td>931</td><td>6</td></tr>\n",
              "\t<tr><td>932</td><td>2</td></tr>\n",
              "\t<tr><td>933</td><td>2</td></tr>\n",
              "\t<tr><td>934</td><td>3</td></tr>\n",
              "\t<tr><td>935</td><td>3</td></tr>\n",
              "\t<tr><td>936</td><td>2</td></tr>\n",
              "\t<tr><td>937</td><td>4</td></tr>\n",
              "\t<tr><td>938</td><td>7</td></tr>\n",
              "\t<tr><td>939</td><td>3</td></tr>\n",
              "\t<tr><td>940</td><td>1</td></tr>\n",
              "\t<tr><td>941</td><td>2</td></tr>\n",
              "\t<tr><td>942</td><td>3</td></tr>\n",
              "\t<tr><td>943</td><td>4</td></tr>\n",
              "\t<tr><td>944</td><td>5</td></tr>\n",
              "\t<tr><td>945</td><td>3</td></tr>\n",
              "\t<tr><td>946</td><td>1</td></tr>\n",
              "\t<tr><td>947</td><td>2</td></tr>\n",
              "\t<tr><td>948</td><td>3</td></tr>\n",
              "\t<tr><td>949</td><td>4</td></tr>\n",
              "\t<tr><td>950</td><td>4</td></tr>\n",
              "\t<tr><td>951</td><td>3</td></tr>\n",
              "\t<tr><td>952</td><td>2</td></tr>\n",
              "\t<tr><td>953</td><td>2</td></tr>\n",
              "\t<tr><td>954</td><td>3</td></tr>\n",
              "\t<tr><td>955</td><td>5</td></tr>\n",
              "\t<tr><td>956</td><td>4</td></tr>\n",
              "\t<tr><td>957</td><td>2</td></tr>\n",
              "\t<tr><td>958</td><td>3</td></tr>\n",
              "\t<tr><td>959</td><td>3</td></tr>\n",
              "\t<tr><td>960</td><td>3</td></tr>\n",
              "\t<tr><td>961</td><td>4</td></tr>\n",
              "\t<tr><td>962</td><td>2</td></tr>\n",
              "\t<tr><td>963</td><td>1</td></tr>\n",
              "\t<tr><td>964</td><td>6</td></tr>\n",
              "\t<tr><td>965</td><td>2</td></tr>\n",
              "\t<tr><td>966</td><td>3</td></tr>\n",
              "\t<tr><td>967</td><td>3</td></tr>\n",
              "\t<tr><td>968</td><td>3</td></tr>\n",
              "\t<tr><td>969</td><td>1</td></tr>\n",
              "\t<tr><td>970</td><td>5</td></tr>\n",
              "\t<tr><td>971</td><td>2</td></tr>\n",
              "\t<tr><td>972</td><td>4</td></tr>\n",
              "\t<tr><td>973</td><td>2</td></tr>\n",
              "\t<tr><td>974</td><td>2</td></tr>\n",
              "\t<tr><td>975</td><td>2</td></tr>\n",
              "\t<tr><td>976</td><td>1</td></tr>\n",
              "\t<tr><td>977</td><td>5</td></tr>\n",
              "\t<tr><td>978</td><td>3</td></tr>\n",
              "\t<tr><td>979</td><td>3</td></tr>\n",
              "\t<tr><td>980</td><td>4</td></tr>\n",
              "\t<tr><td>981</td><td>4</td></tr>\n",
              "\t<tr><td>982</td><td>3</td></tr>\n",
              "\t<tr><td>983</td><td>3</td></tr>\n",
              "\t<tr><td>984</td><td>1</td></tr>\n",
              "\t<tr><td>985</td><td>1</td></tr>\n",
              "\t<tr><td>986</td><td>4</td></tr>\n",
              "</tbody>\n",
              "</table>\n"
            ]
          },
          "metadata": {}
        }
      ]
    },
    {
      "cell_type": "code",
      "metadata": {
        "colab": {
          "base_uri": "https://localhost:8080/",
          "height": 717
        },
        "id": "5p9JBzDPB-f1",
        "outputId": "4d824faa-390a-45d4-8ad3-18661dfcfe94"
      },
      "source": [
        "as.data.frame(table(train$dependency))"
      ],
      "execution_count": 28,
      "outputs": [
        {
          "output_type": "display_data",
          "data": {
            "text/plain": [
              "   Var1      Freq\n",
              "1  .2         24 \n",
              "2  .22222222  11 \n",
              "3  .25        85 \n",
              "4  .33333334 220 \n",
              "5  .40000001  49 \n",
              "6  .5        480 \n",
              "7  .66666669 160 \n",
              "8  .75        49 \n",
              "9  1.2        11 \n",
              "10 1.25        9 \n",
              "11 1.3333334  21 \n",
              "12 1.5       190 \n",
              "13 2         165 \n",
              "14 2.25       13 \n",
              "15 2.5        28 \n",
              "16 3          60 \n",
              "17 4          30 \n",
              "18 8         161 \n",
              "19 no        605 \n",
              "20 yes       700 "
            ],
            "text/latex": "A data.frame: 20 × 2\n\\begin{tabular}{ll}\n Var1 & Freq\\\\\n <fct> & <int>\\\\\n\\hline\n\t .2        &  24\\\\\n\t .22222222 &  11\\\\\n\t .25       &  85\\\\\n\t .33333334 & 220\\\\\n\t .40000001 &  49\\\\\n\t .5        & 480\\\\\n\t .66666669 & 160\\\\\n\t .75       &  49\\\\\n\t 1.2       &  11\\\\\n\t 1.25      &   9\\\\\n\t 1.3333334 &  21\\\\\n\t 1.5       & 190\\\\\n\t 2         & 165\\\\\n\t 2.25      &  13\\\\\n\t 2.5       &  28\\\\\n\t 3         &  60\\\\\n\t 4         &  30\\\\\n\t 8         & 161\\\\\n\t no        & 605\\\\\n\t yes       & 700\\\\\n\\end{tabular}\n",
            "text/markdown": "\nA data.frame: 20 × 2\n\n| Var1 &lt;fct&gt; | Freq &lt;int&gt; |\n|---|---|\n| .2        |  24 |\n| .22222222 |  11 |\n| .25       |  85 |\n| .33333334 | 220 |\n| .40000001 |  49 |\n| .5        | 480 |\n| .66666669 | 160 |\n| .75       |  49 |\n| 1.2       |  11 |\n| 1.25      |   9 |\n| 1.3333334 |  21 |\n| 1.5       | 190 |\n| 2         | 165 |\n| 2.25      |  13 |\n| 2.5       |  28 |\n| 3         |  60 |\n| 4         |  30 |\n| 8         | 161 |\n| no        | 605 |\n| yes       | 700 |\n\n",
            "text/html": [
              "<table class=\"dataframe\">\n",
              "<caption>A data.frame: 20 × 2</caption>\n",
              "<thead>\n",
              "\t<tr><th scope=col>Var1</th><th scope=col>Freq</th></tr>\n",
              "\t<tr><th scope=col>&lt;fct&gt;</th><th scope=col>&lt;int&gt;</th></tr>\n",
              "</thead>\n",
              "<tbody>\n",
              "\t<tr><td>.2       </td><td> 24</td></tr>\n",
              "\t<tr><td>.22222222</td><td> 11</td></tr>\n",
              "\t<tr><td>.25      </td><td> 85</td></tr>\n",
              "\t<tr><td>.33333334</td><td>220</td></tr>\n",
              "\t<tr><td>.40000001</td><td> 49</td></tr>\n",
              "\t<tr><td>.5       </td><td>480</td></tr>\n",
              "\t<tr><td>.66666669</td><td>160</td></tr>\n",
              "\t<tr><td>.75      </td><td> 49</td></tr>\n",
              "\t<tr><td>1.2      </td><td> 11</td></tr>\n",
              "\t<tr><td>1.25     </td><td>  9</td></tr>\n",
              "\t<tr><td>1.3333334</td><td> 21</td></tr>\n",
              "\t<tr><td>1.5      </td><td>190</td></tr>\n",
              "\t<tr><td>2        </td><td>165</td></tr>\n",
              "\t<tr><td>2.25     </td><td> 13</td></tr>\n",
              "\t<tr><td>2.5      </td><td> 28</td></tr>\n",
              "\t<tr><td>3        </td><td> 60</td></tr>\n",
              "\t<tr><td>4        </td><td> 30</td></tr>\n",
              "\t<tr><td>8        </td><td>161</td></tr>\n",
              "\t<tr><td>no       </td><td>605</td></tr>\n",
              "\t<tr><td>yes      </td><td>700</td></tr>\n",
              "</tbody>\n",
              "</table>\n"
            ]
          },
          "metadata": {}
        }
      ]
    },
    {
      "cell_type": "code",
      "metadata": {
        "colab": {
          "base_uri": "https://localhost:8080/",
          "height": 796
        },
        "id": "fB1RSx1TC02N",
        "outputId": "91570187-5ac6-451b-b35e-3053726eb10f"
      },
      "source": [
        "as.data.frame(table(train$edjefe))"
      ],
      "execution_count": 29,
      "outputs": [
        {
          "output_type": "display_data",
          "data": {
            "text/plain": [
              "   Var1 Freq\n",
              "1  10     58\n",
              "2  11    304\n",
              "3  12     30\n",
              "4  13     36\n",
              "5  14     83\n",
              "6  15    129\n",
              "7  16     41\n",
              "8  17     93\n",
              "9  18     13\n",
              "10 19      5\n",
              "11 2      16\n",
              "12 20      3\n",
              "13 21     26\n",
              "14 3      41\n",
              "15 4      43\n",
              "16 5      35\n",
              "17 6     409\n",
              "18 7      80\n",
              "19 8      87\n",
              "20 9     152\n",
              "21 no   1373\n",
              "22 yes    14"
            ],
            "text/latex": "A data.frame: 22 × 2\n\\begin{tabular}{ll}\n Var1 & Freq\\\\\n <fct> & <int>\\\\\n\\hline\n\t 10  &   58\\\\\n\t 11  &  304\\\\\n\t 12  &   30\\\\\n\t 13  &   36\\\\\n\t 14  &   83\\\\\n\t 15  &  129\\\\\n\t 16  &   41\\\\\n\t 17  &   93\\\\\n\t 18  &   13\\\\\n\t 19  &    5\\\\\n\t 2   &   16\\\\\n\t 20  &    3\\\\\n\t 21  &   26\\\\\n\t 3   &   41\\\\\n\t 4   &   43\\\\\n\t 5   &   35\\\\\n\t 6   &  409\\\\\n\t 7   &   80\\\\\n\t 8   &   87\\\\\n\t 9   &  152\\\\\n\t no  & 1373\\\\\n\t yes &   14\\\\\n\\end{tabular}\n",
            "text/markdown": "\nA data.frame: 22 × 2\n\n| Var1 &lt;fct&gt; | Freq &lt;int&gt; |\n|---|---|\n| 10  |   58 |\n| 11  |  304 |\n| 12  |   30 |\n| 13  |   36 |\n| 14  |   83 |\n| 15  |  129 |\n| 16  |   41 |\n| 17  |   93 |\n| 18  |   13 |\n| 19  |    5 |\n| 2   |   16 |\n| 20  |    3 |\n| 21  |   26 |\n| 3   |   41 |\n| 4   |   43 |\n| 5   |   35 |\n| 6   |  409 |\n| 7   |   80 |\n| 8   |   87 |\n| 9   |  152 |\n| no  | 1373 |\n| yes |   14 |\n\n",
            "text/html": [
              "<table class=\"dataframe\">\n",
              "<caption>A data.frame: 22 × 2</caption>\n",
              "<thead>\n",
              "\t<tr><th scope=col>Var1</th><th scope=col>Freq</th></tr>\n",
              "\t<tr><th scope=col>&lt;fct&gt;</th><th scope=col>&lt;int&gt;</th></tr>\n",
              "</thead>\n",
              "<tbody>\n",
              "\t<tr><td>10 </td><td>  58</td></tr>\n",
              "\t<tr><td>11 </td><td> 304</td></tr>\n",
              "\t<tr><td>12 </td><td>  30</td></tr>\n",
              "\t<tr><td>13 </td><td>  36</td></tr>\n",
              "\t<tr><td>14 </td><td>  83</td></tr>\n",
              "\t<tr><td>15 </td><td> 129</td></tr>\n",
              "\t<tr><td>16 </td><td>  41</td></tr>\n",
              "\t<tr><td>17 </td><td>  93</td></tr>\n",
              "\t<tr><td>18 </td><td>  13</td></tr>\n",
              "\t<tr><td>19 </td><td>   5</td></tr>\n",
              "\t<tr><td>2  </td><td>  16</td></tr>\n",
              "\t<tr><td>20 </td><td>   3</td></tr>\n",
              "\t<tr><td>21 </td><td>  26</td></tr>\n",
              "\t<tr><td>3  </td><td>  41</td></tr>\n",
              "\t<tr><td>4  </td><td>  43</td></tr>\n",
              "\t<tr><td>5  </td><td>  35</td></tr>\n",
              "\t<tr><td>6  </td><td> 409</td></tr>\n",
              "\t<tr><td>7  </td><td>  80</td></tr>\n",
              "\t<tr><td>8  </td><td>  87</td></tr>\n",
              "\t<tr><td>9  </td><td> 152</td></tr>\n",
              "\t<tr><td>no </td><td>1373</td></tr>\n",
              "\t<tr><td>yes</td><td>  14</td></tr>\n",
              "</tbody>\n",
              "</table>\n"
            ]
          },
          "metadata": {}
        }
      ]
    },
    {
      "cell_type": "code",
      "metadata": {
        "colab": {
          "base_uri": "https://localhost:8080/",
          "height": 765
        },
        "id": "bmDUqRsfDOVB",
        "outputId": "bcc0a18f-9d5d-4fdb-9840-6971a972e7b0"
      },
      "source": [
        "as.data.frame(table(train$edjefa))"
      ],
      "execution_count": 30,
      "outputs": [
        {
          "output_type": "display_data",
          "data": {
            "text/plain": [
              "   Var1 Freq\n",
              "1  10     43\n",
              "2  11    177\n",
              "3  12     37\n",
              "4  13     21\n",
              "5  14     64\n",
              "6  15     79\n",
              "7  16     49\n",
              "8  17     49\n",
              "9  19      4\n",
              "10 2      30\n",
              "11 20      2\n",
              "12 21      4\n",
              "13 3      55\n",
              "14 4      48\n",
              "15 5      52\n",
              "16 6     305\n",
              "17 7      73\n",
              "18 8      71\n",
              "19 9      81\n",
              "20 no   1805\n",
              "21 yes    22"
            ],
            "text/latex": "A data.frame: 21 × 2\n\\begin{tabular}{ll}\n Var1 & Freq\\\\\n <fct> & <int>\\\\\n\\hline\n\t 10  &   43\\\\\n\t 11  &  177\\\\\n\t 12  &   37\\\\\n\t 13  &   21\\\\\n\t 14  &   64\\\\\n\t 15  &   79\\\\\n\t 16  &   49\\\\\n\t 17  &   49\\\\\n\t 19  &    4\\\\\n\t 2   &   30\\\\\n\t 20  &    2\\\\\n\t 21  &    4\\\\\n\t 3   &   55\\\\\n\t 4   &   48\\\\\n\t 5   &   52\\\\\n\t 6   &  305\\\\\n\t 7   &   73\\\\\n\t 8   &   71\\\\\n\t 9   &   81\\\\\n\t no  & 1805\\\\\n\t yes &   22\\\\\n\\end{tabular}\n",
            "text/markdown": "\nA data.frame: 21 × 2\n\n| Var1 &lt;fct&gt; | Freq &lt;int&gt; |\n|---|---|\n| 10  |   43 |\n| 11  |  177 |\n| 12  |   37 |\n| 13  |   21 |\n| 14  |   64 |\n| 15  |   79 |\n| 16  |   49 |\n| 17  |   49 |\n| 19  |    4 |\n| 2   |   30 |\n| 20  |    2 |\n| 21  |    4 |\n| 3   |   55 |\n| 4   |   48 |\n| 5   |   52 |\n| 6   |  305 |\n| 7   |   73 |\n| 8   |   71 |\n| 9   |   81 |\n| no  | 1805 |\n| yes |   22 |\n\n",
            "text/html": [
              "<table class=\"dataframe\">\n",
              "<caption>A data.frame: 21 × 2</caption>\n",
              "<thead>\n",
              "\t<tr><th scope=col>Var1</th><th scope=col>Freq</th></tr>\n",
              "\t<tr><th scope=col>&lt;fct&gt;</th><th scope=col>&lt;int&gt;</th></tr>\n",
              "</thead>\n",
              "<tbody>\n",
              "\t<tr><td>10 </td><td>  43</td></tr>\n",
              "\t<tr><td>11 </td><td> 177</td></tr>\n",
              "\t<tr><td>12 </td><td>  37</td></tr>\n",
              "\t<tr><td>13 </td><td>  21</td></tr>\n",
              "\t<tr><td>14 </td><td>  64</td></tr>\n",
              "\t<tr><td>15 </td><td>  79</td></tr>\n",
              "\t<tr><td>16 </td><td>  49</td></tr>\n",
              "\t<tr><td>17 </td><td>  49</td></tr>\n",
              "\t<tr><td>19 </td><td>   4</td></tr>\n",
              "\t<tr><td>2  </td><td>  30</td></tr>\n",
              "\t<tr><td>20 </td><td>   2</td></tr>\n",
              "\t<tr><td>21 </td><td>   4</td></tr>\n",
              "\t<tr><td>3  </td><td>  55</td></tr>\n",
              "\t<tr><td>4  </td><td>  48</td></tr>\n",
              "\t<tr><td>5  </td><td>  52</td></tr>\n",
              "\t<tr><td>6  </td><td> 305</td></tr>\n",
              "\t<tr><td>7  </td><td>  73</td></tr>\n",
              "\t<tr><td>8  </td><td>  71</td></tr>\n",
              "\t<tr><td>9  </td><td>  81</td></tr>\n",
              "\t<tr><td>no </td><td>1805</td></tr>\n",
              "\t<tr><td>yes</td><td>  22</td></tr>\n",
              "</tbody>\n",
              "</table>\n"
            ]
          },
          "metadata": {}
        }
      ]
    },
    {
      "cell_type": "markdown",
      "metadata": {
        "id": "eIXmDucDDSTl"
      },
      "source": [
        "For 'dependency', 'edjefe', 'edjefa' : replace 'no' with zero and 'yes' with median value"
      ]
    },
    {
      "cell_type": "code",
      "metadata": {
        "colab": {
          "base_uri": "https://localhost:8080/",
          "height": 686
        },
        "id": "I2Zh_MFEFYCV",
        "outputId": "ee0a41f1-c6f7-481e-cfb9-8b5576ebc24c"
      },
      "source": [
        "train$dependency[train$dependency == 'no'] = 0\n",
        "train$dependency[train$dependency == 'yes'] = median(train$dependency)\n",
        "as.data.frame(table(train$dependency))"
      ],
      "execution_count": 31,
      "outputs": [
        {
          "output_type": "display_data",
          "data": {
            "text/plain": [
              "   Var1      Freq\n",
              "1  .2          24\n",
              "2  .22222222   11\n",
              "3  .25         85\n",
              "4  .33333334  220\n",
              "5  .40000001   49\n",
              "6  .5         480\n",
              "7  .66666669  160\n",
              "8  .75         49\n",
              "9  0         1305\n",
              "10 1.2         11\n",
              "11 1.25         9\n",
              "12 1.3333334   21\n",
              "13 1.5        190\n",
              "14 2          165\n",
              "15 2.25        13\n",
              "16 2.5         28\n",
              "17 3           60\n",
              "18 4           30\n",
              "19 8          161"
            ],
            "text/latex": "A data.frame: 19 × 2\n\\begin{tabular}{ll}\n Var1 & Freq\\\\\n <fct> & <int>\\\\\n\\hline\n\t .2        &   24\\\\\n\t .22222222 &   11\\\\\n\t .25       &   85\\\\\n\t .33333334 &  220\\\\\n\t .40000001 &   49\\\\\n\t .5        &  480\\\\\n\t .66666669 &  160\\\\\n\t .75       &   49\\\\\n\t 0         & 1305\\\\\n\t 1.2       &   11\\\\\n\t 1.25      &    9\\\\\n\t 1.3333334 &   21\\\\\n\t 1.5       &  190\\\\\n\t 2         &  165\\\\\n\t 2.25      &   13\\\\\n\t 2.5       &   28\\\\\n\t 3         &   60\\\\\n\t 4         &   30\\\\\n\t 8         &  161\\\\\n\\end{tabular}\n",
            "text/markdown": "\nA data.frame: 19 × 2\n\n| Var1 &lt;fct&gt; | Freq &lt;int&gt; |\n|---|---|\n| .2        |   24 |\n| .22222222 |   11 |\n| .25       |   85 |\n| .33333334 |  220 |\n| .40000001 |   49 |\n| .5        |  480 |\n| .66666669 |  160 |\n| .75       |   49 |\n| 0         | 1305 |\n| 1.2       |   11 |\n| 1.25      |    9 |\n| 1.3333334 |   21 |\n| 1.5       |  190 |\n| 2         |  165 |\n| 2.25      |   13 |\n| 2.5       |   28 |\n| 3         |   60 |\n| 4         |   30 |\n| 8         |  161 |\n\n",
            "text/html": [
              "<table class=\"dataframe\">\n",
              "<caption>A data.frame: 19 × 2</caption>\n",
              "<thead>\n",
              "\t<tr><th scope=col>Var1</th><th scope=col>Freq</th></tr>\n",
              "\t<tr><th scope=col>&lt;fct&gt;</th><th scope=col>&lt;int&gt;</th></tr>\n",
              "</thead>\n",
              "<tbody>\n",
              "\t<tr><td>.2       </td><td>  24</td></tr>\n",
              "\t<tr><td>.22222222</td><td>  11</td></tr>\n",
              "\t<tr><td>.25      </td><td>  85</td></tr>\n",
              "\t<tr><td>.33333334</td><td> 220</td></tr>\n",
              "\t<tr><td>.40000001</td><td>  49</td></tr>\n",
              "\t<tr><td>.5       </td><td> 480</td></tr>\n",
              "\t<tr><td>.66666669</td><td> 160</td></tr>\n",
              "\t<tr><td>.75      </td><td>  49</td></tr>\n",
              "\t<tr><td>0        </td><td>1305</td></tr>\n",
              "\t<tr><td>1.2      </td><td>  11</td></tr>\n",
              "\t<tr><td>1.25     </td><td>   9</td></tr>\n",
              "\t<tr><td>1.3333334</td><td>  21</td></tr>\n",
              "\t<tr><td>1.5      </td><td> 190</td></tr>\n",
              "\t<tr><td>2        </td><td> 165</td></tr>\n",
              "\t<tr><td>2.25     </td><td>  13</td></tr>\n",
              "\t<tr><td>2.5      </td><td>  28</td></tr>\n",
              "\t<tr><td>3        </td><td>  60</td></tr>\n",
              "\t<tr><td>4        </td><td>  30</td></tr>\n",
              "\t<tr><td>8        </td><td> 161</td></tr>\n",
              "</tbody>\n",
              "</table>\n"
            ]
          },
          "metadata": {}
        }
      ]
    },
    {
      "cell_type": "code",
      "metadata": {
        "colab": {
          "base_uri": "https://localhost:8080/",
          "height": 734
        },
        "id": "plQWbYmMGrWg",
        "outputId": "657691ce-6924-440d-97cb-3634b6c7dd8b"
      },
      "source": [
        "train$edjefa[train$edjefa == 'no'] = 0\n",
        "train$edjefa[train$edjefa == 'yes'] = median(train$edjefa)\n",
        "as.data.frame(table(train$edjefa))"
      ],
      "execution_count": 32,
      "outputs": [
        {
          "output_type": "display_data",
          "data": {
            "text/plain": [
              "   Var1 Freq\n",
              "1  0    1827\n",
              "2  10     43\n",
              "3  11    177\n",
              "4  12     37\n",
              "5  13     21\n",
              "6  14     64\n",
              "7  15     79\n",
              "8  16     49\n",
              "9  17     49\n",
              "10 19      4\n",
              "11 2      30\n",
              "12 20      2\n",
              "13 21      4\n",
              "14 3      55\n",
              "15 4      48\n",
              "16 5      52\n",
              "17 6     305\n",
              "18 7      73\n",
              "19 8      71\n",
              "20 9      81"
            ],
            "text/latex": "A data.frame: 20 × 2\n\\begin{tabular}{ll}\n Var1 & Freq\\\\\n <fct> & <int>\\\\\n\\hline\n\t 0  & 1827\\\\\n\t 10 &   43\\\\\n\t 11 &  177\\\\\n\t 12 &   37\\\\\n\t 13 &   21\\\\\n\t 14 &   64\\\\\n\t 15 &   79\\\\\n\t 16 &   49\\\\\n\t 17 &   49\\\\\n\t 19 &    4\\\\\n\t 2  &   30\\\\\n\t 20 &    2\\\\\n\t 21 &    4\\\\\n\t 3  &   55\\\\\n\t 4  &   48\\\\\n\t 5  &   52\\\\\n\t 6  &  305\\\\\n\t 7  &   73\\\\\n\t 8  &   71\\\\\n\t 9  &   81\\\\\n\\end{tabular}\n",
            "text/markdown": "\nA data.frame: 20 × 2\n\n| Var1 &lt;fct&gt; | Freq &lt;int&gt; |\n|---|---|\n| 0  | 1827 |\n| 10 |   43 |\n| 11 |  177 |\n| 12 |   37 |\n| 13 |   21 |\n| 14 |   64 |\n| 15 |   79 |\n| 16 |   49 |\n| 17 |   49 |\n| 19 |    4 |\n| 2  |   30 |\n| 20 |    2 |\n| 21 |    4 |\n| 3  |   55 |\n| 4  |   48 |\n| 5  |   52 |\n| 6  |  305 |\n| 7  |   73 |\n| 8  |   71 |\n| 9  |   81 |\n\n",
            "text/html": [
              "<table class=\"dataframe\">\n",
              "<caption>A data.frame: 20 × 2</caption>\n",
              "<thead>\n",
              "\t<tr><th scope=col>Var1</th><th scope=col>Freq</th></tr>\n",
              "\t<tr><th scope=col>&lt;fct&gt;</th><th scope=col>&lt;int&gt;</th></tr>\n",
              "</thead>\n",
              "<tbody>\n",
              "\t<tr><td>0 </td><td>1827</td></tr>\n",
              "\t<tr><td>10</td><td>  43</td></tr>\n",
              "\t<tr><td>11</td><td> 177</td></tr>\n",
              "\t<tr><td>12</td><td>  37</td></tr>\n",
              "\t<tr><td>13</td><td>  21</td></tr>\n",
              "\t<tr><td>14</td><td>  64</td></tr>\n",
              "\t<tr><td>15</td><td>  79</td></tr>\n",
              "\t<tr><td>16</td><td>  49</td></tr>\n",
              "\t<tr><td>17</td><td>  49</td></tr>\n",
              "\t<tr><td>19</td><td>   4</td></tr>\n",
              "\t<tr><td>2 </td><td>  30</td></tr>\n",
              "\t<tr><td>20</td><td>   2</td></tr>\n",
              "\t<tr><td>21</td><td>   4</td></tr>\n",
              "\t<tr><td>3 </td><td>  55</td></tr>\n",
              "\t<tr><td>4 </td><td>  48</td></tr>\n",
              "\t<tr><td>5 </td><td>  52</td></tr>\n",
              "\t<tr><td>6 </td><td> 305</td></tr>\n",
              "\t<tr><td>7 </td><td>  73</td></tr>\n",
              "\t<tr><td>8 </td><td>  71</td></tr>\n",
              "\t<tr><td>9 </td><td>  81</td></tr>\n",
              "</tbody>\n",
              "</table>\n"
            ]
          },
          "metadata": {}
        }
      ]
    },
    {
      "cell_type": "code",
      "metadata": {
        "colab": {
          "base_uri": "https://localhost:8080/",
          "height": 765
        },
        "id": "J7MARb9QG_i0",
        "outputId": "2eb84ad8-4401-44ef-f0d9-c119d6ea3777"
      },
      "source": [
        "train$edjefe[train$edjefe == 'no'] = 0\n",
        "train$edjefe[train$edjefe == 'yes'] = median(train$edjefe)\n",
        "as.data.frame(table(train$edjefe))"
      ],
      "execution_count": 33,
      "outputs": [
        {
          "output_type": "display_data",
          "data": {
            "text/plain": [
              "   Var1 Freq\n",
              "1  0    1373\n",
              "2  10     58\n",
              "3  11    318\n",
              "4  12     30\n",
              "5  13     36\n",
              "6  14     83\n",
              "7  15    129\n",
              "8  16     41\n",
              "9  17     93\n",
              "10 18     13\n",
              "11 19      5\n",
              "12 2      16\n",
              "13 20      3\n",
              "14 21     26\n",
              "15 3      41\n",
              "16 4      43\n",
              "17 5      35\n",
              "18 6     409\n",
              "19 7      80\n",
              "20 8      87\n",
              "21 9     152"
            ],
            "text/latex": "A data.frame: 21 × 2\n\\begin{tabular}{ll}\n Var1 & Freq\\\\\n <fct> & <int>\\\\\n\\hline\n\t 0  & 1373\\\\\n\t 10 &   58\\\\\n\t 11 &  318\\\\\n\t 12 &   30\\\\\n\t 13 &   36\\\\\n\t 14 &   83\\\\\n\t 15 &  129\\\\\n\t 16 &   41\\\\\n\t 17 &   93\\\\\n\t 18 &   13\\\\\n\t 19 &    5\\\\\n\t 2  &   16\\\\\n\t 20 &    3\\\\\n\t 21 &   26\\\\\n\t 3  &   41\\\\\n\t 4  &   43\\\\\n\t 5  &   35\\\\\n\t 6  &  409\\\\\n\t 7  &   80\\\\\n\t 8  &   87\\\\\n\t 9  &  152\\\\\n\\end{tabular}\n",
            "text/markdown": "\nA data.frame: 21 × 2\n\n| Var1 &lt;fct&gt; | Freq &lt;int&gt; |\n|---|---|\n| 0  | 1373 |\n| 10 |   58 |\n| 11 |  318 |\n| 12 |   30 |\n| 13 |   36 |\n| 14 |   83 |\n| 15 |  129 |\n| 16 |   41 |\n| 17 |   93 |\n| 18 |   13 |\n| 19 |    5 |\n| 2  |   16 |\n| 20 |    3 |\n| 21 |   26 |\n| 3  |   41 |\n| 4  |   43 |\n| 5  |   35 |\n| 6  |  409 |\n| 7  |   80 |\n| 8  |   87 |\n| 9  |  152 |\n\n",
            "text/html": [
              "<table class=\"dataframe\">\n",
              "<caption>A data.frame: 21 × 2</caption>\n",
              "<thead>\n",
              "\t<tr><th scope=col>Var1</th><th scope=col>Freq</th></tr>\n",
              "\t<tr><th scope=col>&lt;fct&gt;</th><th scope=col>&lt;int&gt;</th></tr>\n",
              "</thead>\n",
              "<tbody>\n",
              "\t<tr><td>0 </td><td>1373</td></tr>\n",
              "\t<tr><td>10</td><td>  58</td></tr>\n",
              "\t<tr><td>11</td><td> 318</td></tr>\n",
              "\t<tr><td>12</td><td>  30</td></tr>\n",
              "\t<tr><td>13</td><td>  36</td></tr>\n",
              "\t<tr><td>14</td><td>  83</td></tr>\n",
              "\t<tr><td>15</td><td> 129</td></tr>\n",
              "\t<tr><td>16</td><td>  41</td></tr>\n",
              "\t<tr><td>17</td><td>  93</td></tr>\n",
              "\t<tr><td>18</td><td>  13</td></tr>\n",
              "\t<tr><td>19</td><td>   5</td></tr>\n",
              "\t<tr><td>2 </td><td>  16</td></tr>\n",
              "\t<tr><td>20</td><td>   3</td></tr>\n",
              "\t<tr><td>21</td><td>  26</td></tr>\n",
              "\t<tr><td>3 </td><td>  41</td></tr>\n",
              "\t<tr><td>4 </td><td>  43</td></tr>\n",
              "\t<tr><td>5 </td><td>  35</td></tr>\n",
              "\t<tr><td>6 </td><td> 409</td></tr>\n",
              "\t<tr><td>7 </td><td>  80</td></tr>\n",
              "\t<tr><td>8 </td><td>  87</td></tr>\n",
              "\t<tr><td>9 </td><td> 152</td></tr>\n",
              "</tbody>\n",
              "</table>\n"
            ]
          },
          "metadata": {}
        }
      ]
    },
    {
      "cell_type": "markdown",
      "metadata": {
        "id": "m3xyE-pE_j7k"
      },
      "source": [
        "## **Dealing wiht Class Imbalance (SMOTE)**"
      ]
    },
    {
      "cell_type": "code",
      "metadata": {
        "colab": {
          "base_uri": "https://localhost:8080/",
          "height": 303
        },
        "id": "ZjTrvPgO7kJZ",
        "outputId": "1c82a8a3-b6bd-45da-dffe-ef10e2c24d1b"
      },
      "source": [
        "head(train)"
      ],
      "execution_count": 34,
      "outputs": [
        {
          "output_type": "display_data",
          "data": {
            "text/plain": [
              "  Id           v2a1   hacdor rooms hacapo v14a refrig v18q v18q1 r4h1 r4h2 r4h3\n",
              "1 ID_279628684 190000 0      3     0      1    1      0    1     0    1    1   \n",
              "2 ID_f29eb3ddd 135000 0      4     0      1    1      1    1     0    1    1   \n",
              "3 ID_68de51c94 150000 0      8     0      1    1      0    1     0    0    0   \n",
              "4 ID_d671db89c 180000 0      5     0      1    1      1    1     0    2    2   \n",
              "5 ID_d56d6f5f5 180000 0      5     0      1    1      1    1     0    2    2   \n",
              "6 ID_ec05b1a7b 180000 0      5     0      1    1      1    1     0    2    2   \n",
              "  r4m1 r4m2 r4m3 r4t1 r4t2 r4t3 tamhog tamviv escolari hhsize paredblolad\n",
              "1 0    0    0    0    1    1    1      1      10       1      1          \n",
              "2 0    0    0    0    1    1    1      1      12       1      0          \n",
              "3 0    1    1    0    1    1    1      1      11       1      0          \n",
              "4 1    1    2    1    3    4    4      4       9       4      1          \n",
              "5 1    1    2    1    3    4    4      4      11       4      1          \n",
              "6 1    1    2    1    3    4    4      4      11       4      1          \n",
              "  paredzocalo paredpreb pareddes paredmad paredzinc paredfibras paredother\n",
              "1 0           0         0        0        0         0           0         \n",
              "2 0           0         0        1        0         0           0         \n",
              "3 0           0         0        1        0         0           0         \n",
              "4 0           0         0        0        0         0           0         \n",
              "5 0           0         0        0        0         0           0         \n",
              "6 0           0         0        0        0         0           0         \n",
              "  pisomoscer pisocemento pisoother pisonatur pisonotiene pisomadera techozinc\n",
              "1 1          0           0         0         0           0          0        \n",
              "2 0          0           0         0         0           1          1        \n",
              "3 1          0           0         0         0           0          1        \n",
              "4 1          0           0         0         0           0          1        \n",
              "5 1          0           0         0         0           0          1        \n",
              "6 1          0           0         0         0           0          1        \n",
              "  techoentrepiso techocane techootro cielorazo abastaguadentro abastaguafuera\n",
              "1 1              0         0         1         1               0             \n",
              "2 0              0         0         1         1               0             \n",
              "3 0              0         0         1         1               0             \n",
              "4 0              0         0         1         1               0             \n",
              "5 0              0         0         1         1               0             \n",
              "6 0              0         0         1         1               0             \n",
              "  abastaguano public planpri noelec coopele sanitario1 sanitario2 sanitario3\n",
              "1 0           1      0       0      0       0          1          0         \n",
              "2 0           1      0       0      0       0          1          0         \n",
              "3 0           1      0       0      0       0          1          0         \n",
              "4 0           1      0       0      0       0          1          0         \n",
              "5 0           1      0       0      0       0          1          0         \n",
              "6 0           1      0       0      0       0          1          0         \n",
              "  sanitario5 sanitario6 energcocinar1 energcocinar2 energcocinar3 energcocinar4\n",
              "1 0          0          0             0             1             0            \n",
              "2 0          0          0             1             0             0            \n",
              "3 0          0          0             1             0             0            \n",
              "4 0          0          0             1             0             0            \n",
              "5 0          0          0             1             0             0            \n",
              "6 0          0          0             1             0             0            \n",
              "  elimbasu1 elimbasu2 elimbasu3 elimbasu4 elimbasu5 elimbasu6 epared1 epared2\n",
              "1 1         0         0         0         0         0         0       1      \n",
              "2 1         0         0         0         0         0         0       1      \n",
              "3 1         0         0         0         0         0         0       1      \n",
              "4 1         0         0         0         0         0         0       0      \n",
              "5 1         0         0         0         0         0         0       0      \n",
              "6 1         0         0         0         0         0         0       0      \n",
              "  epared3 etecho1 etecho2 etecho3 eviv1 eviv2 eviv3 dis male female\n",
              "1 0       1       0       0       1     0     0     0   1    0     \n",
              "2 0       0       1       0       0     1     0     0   1    0     \n",
              "3 0       0       0       1       0     0     1     1   0    1     \n",
              "4 1       0       0       1       0     0     1     0   1    0     \n",
              "5 1       0       0       1       0     0     1     0   0    1     \n",
              "6 1       0       0       1       0     0     1     0   1    0     \n",
              "  estadocivil1 estadocivil2 estadocivil3 estadocivil4 estadocivil5 estadocivil6\n",
              "1 0            0            0            1            0            0           \n",
              "2 0            0            0            1            0            0           \n",
              "3 0            0            0            0            0            1           \n",
              "4 0            0            0            0            0            0           \n",
              "5 0            1            0            0            0            0           \n",
              "6 0            1            0            0            0            0           \n",
              "  estadocivil7 parentesco1 parentesco2 parentesco3 parentesco4 parentesco5\n",
              "1 0            1           0           0           0           0          \n",
              "2 0            1           0           0           0           0          \n",
              "3 0            1           0           0           0           0          \n",
              "4 1            0           0           1           0           0          \n",
              "5 0            0           1           0           0           0          \n",
              "6 0            1           0           0           0           0          \n",
              "  parentesco6 parentesco7 parentesco8 parentesco9 parentesco10 parentesco11\n",
              "1 0           0           0           0           0            0           \n",
              "2 0           0           0           0           0            0           \n",
              "3 0           0           0           0           0            0           \n",
              "4 0           0           0           0           0            0           \n",
              "5 0           0           0           0           0            0           \n",
              "6 0           0           0           0           0            0           \n",
              "  parentesco12 idhogar hogar_nin hogar_adul hogar_mayor hogar_total dependency\n",
              "1 0            0       0         1          0           1           0         \n",
              "2 0            1       0         1          1           1           8         \n",
              "3 0            2       0         1          1           1           8         \n",
              "4 0            3       2         2          0           4           0         \n",
              "5 0            3       2         2          0           4           0         \n",
              "6 0            3       2         2          0           4           0         \n",
              "  edjefe edjefa meaneduc instlevel1 instlevel2 instlevel3 instlevel4 instlevel5\n",
              "1 10     0      10       0          0          0          1          0         \n",
              "2 12     0      12       0          0          0          0          0         \n",
              "3 0      11     11       0          0          0          0          1         \n",
              "4 11     0      11       0          0          0          1          0         \n",
              "5 11     0      11       0          0          0          0          1         \n",
              "6 11     0      11       0          0          0          0          1         \n",
              "  instlevel6 instlevel7 instlevel8 instlevel9 bedrooms overcrowding tipovivi1\n",
              "1 0          0          0          0          1        1.000000     0        \n",
              "2 0          0          1          0          1        1.000000     0        \n",
              "3 0          0          0          0          2        0.500000     1        \n",
              "4 0          0          0          0          3        1.333333     0        \n",
              "5 0          0          0          0          3        1.333333     0        \n",
              "6 0          0          0          0          3        1.333333     0        \n",
              "  tipovivi2 tipovivi3 tipovivi4 tipovivi5 computer television mobilephone\n",
              "1 0         1         0         0         0        0          1          \n",
              "2 0         1         0         0         0        0          1          \n",
              "3 0         0         0         0         0        0          0          \n",
              "4 0         1         0         0         0        0          1          \n",
              "5 0         1         0         0         0        0          1          \n",
              "6 0         1         0         0         0        0          1          \n",
              "  qmobilephone lugar1 lugar2 lugar3 lugar4 lugar5 lugar6 area1 area2 age\n",
              "1 1            1      0      0      0      0      0      1     0     43 \n",
              "2 1            1      0      0      0      0      0      1     0     67 \n",
              "3 0            1      0      0      0      0      0      1     0     92 \n",
              "4 3            1      0      0      0      0      0      1     0     17 \n",
              "5 3            1      0      0      0      0      0      1     0     37 \n",
              "6 3            1      0      0      0      0      0      1     0     38 \n",
              "  SQBescolari SQBage SQBhogar_total SQBedjefe SQBhogar_nin SQBovercrowding\n",
              "1 100         1849    1             100       0            1.000000       \n",
              "2 144         4489    1             144       0            1.000000       \n",
              "3 121         8464    1               0       0            0.250000       \n",
              "4  81          289   16             121       4            1.777778       \n",
              "5 121         1369   16             121       4            1.777778       \n",
              "6 121         1444   16             121       4            1.777778       \n",
              "  SQBdependency SQBmeaned agesq Target\n",
              "1  0            100       1849  4     \n",
              "2 64            144       4489  4     \n",
              "3 64            121       8464  4     \n",
              "4  1            121        289  4     \n",
              "5  1            121       1369  4     \n",
              "6  1            121       1444  4     "
            ],
            "text/latex": "A data.frame: 6 × 142\n\\begin{tabular}{r|llllllllllllllllllllllllllllllllllllllllllllllllllllllllllllllllllllllllllllllllllllllllllllllllllllllllllllllllllllllllllllllllllllllllllllll}\n  & Id & v2a1 & hacdor & rooms & hacapo & v14a & refrig & v18q & v18q1 & r4h1 & r4h2 & r4h3 & r4m1 & r4m2 & r4m3 & r4t1 & r4t2 & r4t3 & tamhog & tamviv & escolari & hhsize & paredblolad & paredzocalo & paredpreb & pareddes & paredmad & paredzinc & paredfibras & paredother & pisomoscer & pisocemento & pisoother & pisonatur & pisonotiene & pisomadera & techozinc & techoentrepiso & techocane & techootro & cielorazo & abastaguadentro & abastaguafuera & abastaguano & public & planpri & noelec & coopele & sanitario1 & sanitario2 & sanitario3 & sanitario5 & sanitario6 & energcocinar1 & energcocinar2 & energcocinar3 & energcocinar4 & elimbasu1 & elimbasu2 & elimbasu3 & elimbasu4 & elimbasu5 & elimbasu6 & epared1 & epared2 & epared3 & etecho1 & etecho2 & etecho3 & eviv1 & eviv2 & eviv3 & dis & male & female & estadocivil1 & estadocivil2 & estadocivil3 & estadocivil4 & estadocivil5 & estadocivil6 & estadocivil7 & parentesco1 & parentesco2 & parentesco3 & parentesco4 & parentesco5 & parentesco6 & parentesco7 & parentesco8 & parentesco9 & parentesco10 & parentesco11 & parentesco12 & idhogar & hogar\\_nin & hogar\\_adul & hogar\\_mayor & hogar\\_total & dependency & edjefe & edjefa & meaneduc & instlevel1 & instlevel2 & instlevel3 & instlevel4 & instlevel5 & instlevel6 & instlevel7 & instlevel8 & instlevel9 & bedrooms & overcrowding & tipovivi1 & tipovivi2 & tipovivi3 & tipovivi4 & tipovivi5 & computer & television & mobilephone & qmobilephone & lugar1 & lugar2 & lugar3 & lugar4 & lugar5 & lugar6 & area1 & area2 & age & SQBescolari & SQBage & SQBhogar\\_total & SQBedjefe & SQBhogar\\_nin & SQBovercrowding & SQBdependency & SQBmeaned & agesq & Target\\\\\n  & <chr> & <dbl> & <int> & <int> & <int> & <int> & <int> & <int> & <dbl> & <int> & <int> & <int> & <int> & <int> & <int> & <int> & <int> & <int> & <int> & <int> & <int> & <int> & <int> & <int> & <int> & <int> & <int> & <int> & <int> & <int> & <int> & <int> & <int> & <int> & <int> & <int> & <int> & <int> & <int> & <int> & <int> & <int> & <int> & <int> & <int> & <int> & <int> & <int> & <int> & <int> & <int> & <int> & <int> & <int> & <int> & <int> & <int> & <int> & <int> & <int> & <int> & <int> & <int> & <int> & <int> & <int> & <int> & <int> & <int> & <int> & <int> & <int> & <int> & <int> & <int> & <int> & <int> & <int> & <int> & <int> & <int> & <int> & <int> & <int> & <int> & <int> & <int> & <int> & <int> & <int> & <int> & <int> & <int> & <int> & <dbl> & <int> & <int> & <int> & <int> & <chr> & <chr> & <chr> & <dbl> & <int> & <int> & <int> & <int> & <int> & <int> & <int> & <int> & <int> & <int> & <dbl> & <int> & <int> & <int> & <int> & <int> & <int> & <int> & <int> & <int> & <int> & <int> & <int> & <int> & <int> & <int> & <int> & <int> & <int> & <int> & <int> & <int> & <int> & <int> & <dbl> & <dbl> & <dbl> & <int> & <int>\\\\\n\\hline\n\t1 & ID\\_279628684 & 190000 & 0 & 3 & 0 & 1 & 1 & 0 & 1 & 0 & 1 & 1 & 0 & 0 & 0 & 0 & 1 & 1 & 1 & 1 & 10 & 1 & 1 & 0 & 0 & 0 & 0 & 0 & 0 & 0 & 1 & 0 & 0 & 0 & 0 & 0 & 0 & 1 & 0 & 0 & 1 & 1 & 0 & 0 & 1 & 0 & 0 & 0 & 0 & 1 & 0 & 0 & 0 & 0 & 0 & 1 & 0 & 1 & 0 & 0 & 0 & 0 & 0 & 0 & 1 & 0 & 1 & 0 & 0 & 1 & 0 & 0 & 0 & 1 & 0 & 0 & 0 & 0 & 1 & 0 & 0 & 0 & 1 & 0 & 0 & 0 & 0 & 0 & 0 & 0 & 0 & 0 & 0 & 0 & 0 & 0 & 1 & 0 & 1 & 0 & 10 & 0  & 10 & 0 & 0 & 0 & 1 & 0 & 0 & 0 & 0 & 0 & 1 & 1.000000 & 0 & 0 & 1 & 0 & 0 & 0 & 0 & 1 & 1 & 1 & 0 & 0 & 0 & 0 & 0 & 1 & 0 & 43 & 100 & 1849 &  1 & 100 & 0 & 1.000000 &  0 & 100 & 1849 & 4\\\\\n\t2 & ID\\_f29eb3ddd & 135000 & 0 & 4 & 0 & 1 & 1 & 1 & 1 & 0 & 1 & 1 & 0 & 0 & 0 & 0 & 1 & 1 & 1 & 1 & 12 & 1 & 0 & 0 & 0 & 0 & 1 & 0 & 0 & 0 & 0 & 0 & 0 & 0 & 0 & 1 & 1 & 0 & 0 & 0 & 1 & 1 & 0 & 0 & 1 & 0 & 0 & 0 & 0 & 1 & 0 & 0 & 0 & 0 & 1 & 0 & 0 & 1 & 0 & 0 & 0 & 0 & 0 & 0 & 1 & 0 & 0 & 1 & 0 & 0 & 1 & 0 & 0 & 1 & 0 & 0 & 0 & 0 & 1 & 0 & 0 & 0 & 1 & 0 & 0 & 0 & 0 & 0 & 0 & 0 & 0 & 0 & 0 & 0 & 1 & 0 & 1 & 1 & 1 & 8 & 12 & 0  & 12 & 0 & 0 & 0 & 0 & 0 & 0 & 0 & 1 & 0 & 1 & 1.000000 & 0 & 0 & 1 & 0 & 0 & 0 & 0 & 1 & 1 & 1 & 0 & 0 & 0 & 0 & 0 & 1 & 0 & 67 & 144 & 4489 &  1 & 144 & 0 & 1.000000 & 64 & 144 & 4489 & 4\\\\\n\t3 & ID\\_68de51c94 & 150000 & 0 & 8 & 0 & 1 & 1 & 0 & 1 & 0 & 0 & 0 & 0 & 1 & 1 & 0 & 1 & 1 & 1 & 1 & 11 & 1 & 0 & 0 & 0 & 0 & 1 & 0 & 0 & 0 & 1 & 0 & 0 & 0 & 0 & 0 & 1 & 0 & 0 & 0 & 1 & 1 & 0 & 0 & 1 & 0 & 0 & 0 & 0 & 1 & 0 & 0 & 0 & 0 & 1 & 0 & 0 & 1 & 0 & 0 & 0 & 0 & 0 & 0 & 1 & 0 & 0 & 0 & 1 & 0 & 0 & 1 & 1 & 0 & 1 & 0 & 0 & 0 & 0 & 0 & 1 & 0 & 1 & 0 & 0 & 0 & 0 & 0 & 0 & 0 & 0 & 0 & 0 & 0 & 2 & 0 & 1 & 1 & 1 & 8 & 0  & 11 & 11 & 0 & 0 & 0 & 0 & 1 & 0 & 0 & 0 & 0 & 2 & 0.500000 & 1 & 0 & 0 & 0 & 0 & 0 & 0 & 0 & 0 & 1 & 0 & 0 & 0 & 0 & 0 & 1 & 0 & 92 & 121 & 8464 &  1 &   0 & 0 & 0.250000 & 64 & 121 & 8464 & 4\\\\\n\t4 & ID\\_d671db89c & 180000 & 0 & 5 & 0 & 1 & 1 & 1 & 1 & 0 & 2 & 2 & 1 & 1 & 2 & 1 & 3 & 4 & 4 & 4 &  9 & 4 & 1 & 0 & 0 & 0 & 0 & 0 & 0 & 0 & 1 & 0 & 0 & 0 & 0 & 0 & 1 & 0 & 0 & 0 & 1 & 1 & 0 & 0 & 1 & 0 & 0 & 0 & 0 & 1 & 0 & 0 & 0 & 0 & 1 & 0 & 0 & 1 & 0 & 0 & 0 & 0 & 0 & 0 & 0 & 1 & 0 & 0 & 1 & 0 & 0 & 1 & 0 & 1 & 0 & 0 & 0 & 0 & 0 & 0 & 0 & 1 & 0 & 0 & 1 & 0 & 0 & 0 & 0 & 0 & 0 & 0 & 0 & 0 & 3 & 2 & 2 & 0 & 4 & 0 & 11 & 0  & 11 & 0 & 0 & 0 & 1 & 0 & 0 & 0 & 0 & 0 & 3 & 1.333333 & 0 & 0 & 1 & 0 & 0 & 0 & 0 & 1 & 3 & 1 & 0 & 0 & 0 & 0 & 0 & 1 & 0 & 17 &  81 &  289 & 16 & 121 & 4 & 1.777778 &  1 & 121 &  289 & 4\\\\\n\t5 & ID\\_d56d6f5f5 & 180000 & 0 & 5 & 0 & 1 & 1 & 1 & 1 & 0 & 2 & 2 & 1 & 1 & 2 & 1 & 3 & 4 & 4 & 4 & 11 & 4 & 1 & 0 & 0 & 0 & 0 & 0 & 0 & 0 & 1 & 0 & 0 & 0 & 0 & 0 & 1 & 0 & 0 & 0 & 1 & 1 & 0 & 0 & 1 & 0 & 0 & 0 & 0 & 1 & 0 & 0 & 0 & 0 & 1 & 0 & 0 & 1 & 0 & 0 & 0 & 0 & 0 & 0 & 0 & 1 & 0 & 0 & 1 & 0 & 0 & 1 & 0 & 0 & 1 & 0 & 1 & 0 & 0 & 0 & 0 & 0 & 0 & 1 & 0 & 0 & 0 & 0 & 0 & 0 & 0 & 0 & 0 & 0 & 3 & 2 & 2 & 0 & 4 & 0 & 11 & 0  & 11 & 0 & 0 & 0 & 0 & 1 & 0 & 0 & 0 & 0 & 3 & 1.333333 & 0 & 0 & 1 & 0 & 0 & 0 & 0 & 1 & 3 & 1 & 0 & 0 & 0 & 0 & 0 & 1 & 0 & 37 & 121 & 1369 & 16 & 121 & 4 & 1.777778 &  1 & 121 & 1369 & 4\\\\\n\t6 & ID\\_ec05b1a7b & 180000 & 0 & 5 & 0 & 1 & 1 & 1 & 1 & 0 & 2 & 2 & 1 & 1 & 2 & 1 & 3 & 4 & 4 & 4 & 11 & 4 & 1 & 0 & 0 & 0 & 0 & 0 & 0 & 0 & 1 & 0 & 0 & 0 & 0 & 0 & 1 & 0 & 0 & 0 & 1 & 1 & 0 & 0 & 1 & 0 & 0 & 0 & 0 & 1 & 0 & 0 & 0 & 0 & 1 & 0 & 0 & 1 & 0 & 0 & 0 & 0 & 0 & 0 & 0 & 1 & 0 & 0 & 1 & 0 & 0 & 1 & 0 & 1 & 0 & 0 & 1 & 0 & 0 & 0 & 0 & 0 & 1 & 0 & 0 & 0 & 0 & 0 & 0 & 0 & 0 & 0 & 0 & 0 & 3 & 2 & 2 & 0 & 4 & 0 & 11 & 0  & 11 & 0 & 0 & 0 & 0 & 1 & 0 & 0 & 0 & 0 & 3 & 1.333333 & 0 & 0 & 1 & 0 & 0 & 0 & 0 & 1 & 3 & 1 & 0 & 0 & 0 & 0 & 0 & 1 & 0 & 38 & 121 & 1444 & 16 & 121 & 4 & 1.777778 &  1 & 121 & 1444 & 4\\\\\n\\end{tabular}\n",
            "text/markdown": "\nA data.frame: 6 × 142\n\n| <!--/--> | Id &lt;chr&gt; | v2a1 &lt;dbl&gt; | hacdor &lt;int&gt; | rooms &lt;int&gt; | hacapo &lt;int&gt; | v14a &lt;int&gt; | refrig &lt;int&gt; | v18q &lt;int&gt; | v18q1 &lt;dbl&gt; | r4h1 &lt;int&gt; | r4h2 &lt;int&gt; | r4h3 &lt;int&gt; | r4m1 &lt;int&gt; | r4m2 &lt;int&gt; | r4m3 &lt;int&gt; | r4t1 &lt;int&gt; | r4t2 &lt;int&gt; | r4t3 &lt;int&gt; | tamhog &lt;int&gt; | tamviv &lt;int&gt; | escolari &lt;int&gt; | hhsize &lt;int&gt; | paredblolad &lt;int&gt; | paredzocalo &lt;int&gt; | paredpreb &lt;int&gt; | pareddes &lt;int&gt; | paredmad &lt;int&gt; | paredzinc &lt;int&gt; | paredfibras &lt;int&gt; | paredother &lt;int&gt; | pisomoscer &lt;int&gt; | pisocemento &lt;int&gt; | pisoother &lt;int&gt; | pisonatur &lt;int&gt; | pisonotiene &lt;int&gt; | pisomadera &lt;int&gt; | techozinc &lt;int&gt; | techoentrepiso &lt;int&gt; | techocane &lt;int&gt; | techootro &lt;int&gt; | cielorazo &lt;int&gt; | abastaguadentro &lt;int&gt; | abastaguafuera &lt;int&gt; | abastaguano &lt;int&gt; | public &lt;int&gt; | planpri &lt;int&gt; | noelec &lt;int&gt; | coopele &lt;int&gt; | sanitario1 &lt;int&gt; | sanitario2 &lt;int&gt; | sanitario3 &lt;int&gt; | sanitario5 &lt;int&gt; | sanitario6 &lt;int&gt; | energcocinar1 &lt;int&gt; | energcocinar2 &lt;int&gt; | energcocinar3 &lt;int&gt; | energcocinar4 &lt;int&gt; | elimbasu1 &lt;int&gt; | elimbasu2 &lt;int&gt; | elimbasu3 &lt;int&gt; | elimbasu4 &lt;int&gt; | elimbasu5 &lt;int&gt; | elimbasu6 &lt;int&gt; | epared1 &lt;int&gt; | epared2 &lt;int&gt; | epared3 &lt;int&gt; | etecho1 &lt;int&gt; | etecho2 &lt;int&gt; | etecho3 &lt;int&gt; | eviv1 &lt;int&gt; | eviv2 &lt;int&gt; | eviv3 &lt;int&gt; | dis &lt;int&gt; | male &lt;int&gt; | female &lt;int&gt; | estadocivil1 &lt;int&gt; | estadocivil2 &lt;int&gt; | estadocivil3 &lt;int&gt; | estadocivil4 &lt;int&gt; | estadocivil5 &lt;int&gt; | estadocivil6 &lt;int&gt; | estadocivil7 &lt;int&gt; | parentesco1 &lt;int&gt; | parentesco2 &lt;int&gt; | parentesco3 &lt;int&gt; | parentesco4 &lt;int&gt; | parentesco5 &lt;int&gt; | parentesco6 &lt;int&gt; | parentesco7 &lt;int&gt; | parentesco8 &lt;int&gt; | parentesco9 &lt;int&gt; | parentesco10 &lt;int&gt; | parentesco11 &lt;int&gt; | parentesco12 &lt;int&gt; | idhogar &lt;dbl&gt; | hogar_nin &lt;int&gt; | hogar_adul &lt;int&gt; | hogar_mayor &lt;int&gt; | hogar_total &lt;int&gt; | dependency &lt;chr&gt; | edjefe &lt;chr&gt; | edjefa &lt;chr&gt; | meaneduc &lt;dbl&gt; | instlevel1 &lt;int&gt; | instlevel2 &lt;int&gt; | instlevel3 &lt;int&gt; | instlevel4 &lt;int&gt; | instlevel5 &lt;int&gt; | instlevel6 &lt;int&gt; | instlevel7 &lt;int&gt; | instlevel8 &lt;int&gt; | instlevel9 &lt;int&gt; | bedrooms &lt;int&gt; | overcrowding &lt;dbl&gt; | tipovivi1 &lt;int&gt; | tipovivi2 &lt;int&gt; | tipovivi3 &lt;int&gt; | tipovivi4 &lt;int&gt; | tipovivi5 &lt;int&gt; | computer &lt;int&gt; | television &lt;int&gt; | mobilephone &lt;int&gt; | qmobilephone &lt;int&gt; | lugar1 &lt;int&gt; | lugar2 &lt;int&gt; | lugar3 &lt;int&gt; | lugar4 &lt;int&gt; | lugar5 &lt;int&gt; | lugar6 &lt;int&gt; | area1 &lt;int&gt; | area2 &lt;int&gt; | age &lt;int&gt; | SQBescolari &lt;int&gt; | SQBage &lt;int&gt; | SQBhogar_total &lt;int&gt; | SQBedjefe &lt;int&gt; | SQBhogar_nin &lt;int&gt; | SQBovercrowding &lt;dbl&gt; | SQBdependency &lt;dbl&gt; | SQBmeaned &lt;dbl&gt; | agesq &lt;int&gt; | Target &lt;int&gt; |\n|---|---|---|---|---|---|---|---|---|---|---|---|---|---|---|---|---|---|---|---|---|---|---|---|---|---|---|---|---|---|---|---|---|---|---|---|---|---|---|---|---|---|---|---|---|---|---|---|---|---|---|---|---|---|---|---|---|---|---|---|---|---|---|---|---|---|---|---|---|---|---|---|---|---|---|---|---|---|---|---|---|---|---|---|---|---|---|---|---|---|---|---|---|---|---|---|---|---|---|---|---|---|---|---|---|---|---|---|---|---|---|---|---|---|---|---|---|---|---|---|---|---|---|---|---|---|---|---|---|---|---|---|---|---|---|---|---|---|---|---|---|---|---|\n| 1 | ID_279628684 | 190000 | 0 | 3 | 0 | 1 | 1 | 0 | 1 | 0 | 1 | 1 | 0 | 0 | 0 | 0 | 1 | 1 | 1 | 1 | 10 | 1 | 1 | 0 | 0 | 0 | 0 | 0 | 0 | 0 | 1 | 0 | 0 | 0 | 0 | 0 | 0 | 1 | 0 | 0 | 1 | 1 | 0 | 0 | 1 | 0 | 0 | 0 | 0 | 1 | 0 | 0 | 0 | 0 | 0 | 1 | 0 | 1 | 0 | 0 | 0 | 0 | 0 | 0 | 1 | 0 | 1 | 0 | 0 | 1 | 0 | 0 | 0 | 1 | 0 | 0 | 0 | 0 | 1 | 0 | 0 | 0 | 1 | 0 | 0 | 0 | 0 | 0 | 0 | 0 | 0 | 0 | 0 | 0 | 0 | 0 | 1 | 0 | 1 | 0 | 10 | 0  | 10 | 0 | 0 | 0 | 1 | 0 | 0 | 0 | 0 | 0 | 1 | 1.000000 | 0 | 0 | 1 | 0 | 0 | 0 | 0 | 1 | 1 | 1 | 0 | 0 | 0 | 0 | 0 | 1 | 0 | 43 | 100 | 1849 |  1 | 100 | 0 | 1.000000 |  0 | 100 | 1849 | 4 |\n| 2 | ID_f29eb3ddd | 135000 | 0 | 4 | 0 | 1 | 1 | 1 | 1 | 0 | 1 | 1 | 0 | 0 | 0 | 0 | 1 | 1 | 1 | 1 | 12 | 1 | 0 | 0 | 0 | 0 | 1 | 0 | 0 | 0 | 0 | 0 | 0 | 0 | 0 | 1 | 1 | 0 | 0 | 0 | 1 | 1 | 0 | 0 | 1 | 0 | 0 | 0 | 0 | 1 | 0 | 0 | 0 | 0 | 1 | 0 | 0 | 1 | 0 | 0 | 0 | 0 | 0 | 0 | 1 | 0 | 0 | 1 | 0 | 0 | 1 | 0 | 0 | 1 | 0 | 0 | 0 | 0 | 1 | 0 | 0 | 0 | 1 | 0 | 0 | 0 | 0 | 0 | 0 | 0 | 0 | 0 | 0 | 0 | 1 | 0 | 1 | 1 | 1 | 8 | 12 | 0  | 12 | 0 | 0 | 0 | 0 | 0 | 0 | 0 | 1 | 0 | 1 | 1.000000 | 0 | 0 | 1 | 0 | 0 | 0 | 0 | 1 | 1 | 1 | 0 | 0 | 0 | 0 | 0 | 1 | 0 | 67 | 144 | 4489 |  1 | 144 | 0 | 1.000000 | 64 | 144 | 4489 | 4 |\n| 3 | ID_68de51c94 | 150000 | 0 | 8 | 0 | 1 | 1 | 0 | 1 | 0 | 0 | 0 | 0 | 1 | 1 | 0 | 1 | 1 | 1 | 1 | 11 | 1 | 0 | 0 | 0 | 0 | 1 | 0 | 0 | 0 | 1 | 0 | 0 | 0 | 0 | 0 | 1 | 0 | 0 | 0 | 1 | 1 | 0 | 0 | 1 | 0 | 0 | 0 | 0 | 1 | 0 | 0 | 0 | 0 | 1 | 0 | 0 | 1 | 0 | 0 | 0 | 0 | 0 | 0 | 1 | 0 | 0 | 0 | 1 | 0 | 0 | 1 | 1 | 0 | 1 | 0 | 0 | 0 | 0 | 0 | 1 | 0 | 1 | 0 | 0 | 0 | 0 | 0 | 0 | 0 | 0 | 0 | 0 | 0 | 2 | 0 | 1 | 1 | 1 | 8 | 0  | 11 | 11 | 0 | 0 | 0 | 0 | 1 | 0 | 0 | 0 | 0 | 2 | 0.500000 | 1 | 0 | 0 | 0 | 0 | 0 | 0 | 0 | 0 | 1 | 0 | 0 | 0 | 0 | 0 | 1 | 0 | 92 | 121 | 8464 |  1 |   0 | 0 | 0.250000 | 64 | 121 | 8464 | 4 |\n| 4 | ID_d671db89c | 180000 | 0 | 5 | 0 | 1 | 1 | 1 | 1 | 0 | 2 | 2 | 1 | 1 | 2 | 1 | 3 | 4 | 4 | 4 |  9 | 4 | 1 | 0 | 0 | 0 | 0 | 0 | 0 | 0 | 1 | 0 | 0 | 0 | 0 | 0 | 1 | 0 | 0 | 0 | 1 | 1 | 0 | 0 | 1 | 0 | 0 | 0 | 0 | 1 | 0 | 0 | 0 | 0 | 1 | 0 | 0 | 1 | 0 | 0 | 0 | 0 | 0 | 0 | 0 | 1 | 0 | 0 | 1 | 0 | 0 | 1 | 0 | 1 | 0 | 0 | 0 | 0 | 0 | 0 | 0 | 1 | 0 | 0 | 1 | 0 | 0 | 0 | 0 | 0 | 0 | 0 | 0 | 0 | 3 | 2 | 2 | 0 | 4 | 0 | 11 | 0  | 11 | 0 | 0 | 0 | 1 | 0 | 0 | 0 | 0 | 0 | 3 | 1.333333 | 0 | 0 | 1 | 0 | 0 | 0 | 0 | 1 | 3 | 1 | 0 | 0 | 0 | 0 | 0 | 1 | 0 | 17 |  81 |  289 | 16 | 121 | 4 | 1.777778 |  1 | 121 |  289 | 4 |\n| 5 | ID_d56d6f5f5 | 180000 | 0 | 5 | 0 | 1 | 1 | 1 | 1 | 0 | 2 | 2 | 1 | 1 | 2 | 1 | 3 | 4 | 4 | 4 | 11 | 4 | 1 | 0 | 0 | 0 | 0 | 0 | 0 | 0 | 1 | 0 | 0 | 0 | 0 | 0 | 1 | 0 | 0 | 0 | 1 | 1 | 0 | 0 | 1 | 0 | 0 | 0 | 0 | 1 | 0 | 0 | 0 | 0 | 1 | 0 | 0 | 1 | 0 | 0 | 0 | 0 | 0 | 0 | 0 | 1 | 0 | 0 | 1 | 0 | 0 | 1 | 0 | 0 | 1 | 0 | 1 | 0 | 0 | 0 | 0 | 0 | 0 | 1 | 0 | 0 | 0 | 0 | 0 | 0 | 0 | 0 | 0 | 0 | 3 | 2 | 2 | 0 | 4 | 0 | 11 | 0  | 11 | 0 | 0 | 0 | 0 | 1 | 0 | 0 | 0 | 0 | 3 | 1.333333 | 0 | 0 | 1 | 0 | 0 | 0 | 0 | 1 | 3 | 1 | 0 | 0 | 0 | 0 | 0 | 1 | 0 | 37 | 121 | 1369 | 16 | 121 | 4 | 1.777778 |  1 | 121 | 1369 | 4 |\n| 6 | ID_ec05b1a7b | 180000 | 0 | 5 | 0 | 1 | 1 | 1 | 1 | 0 | 2 | 2 | 1 | 1 | 2 | 1 | 3 | 4 | 4 | 4 | 11 | 4 | 1 | 0 | 0 | 0 | 0 | 0 | 0 | 0 | 1 | 0 | 0 | 0 | 0 | 0 | 1 | 0 | 0 | 0 | 1 | 1 | 0 | 0 | 1 | 0 | 0 | 0 | 0 | 1 | 0 | 0 | 0 | 0 | 1 | 0 | 0 | 1 | 0 | 0 | 0 | 0 | 0 | 0 | 0 | 1 | 0 | 0 | 1 | 0 | 0 | 1 | 0 | 1 | 0 | 0 | 1 | 0 | 0 | 0 | 0 | 0 | 1 | 0 | 0 | 0 | 0 | 0 | 0 | 0 | 0 | 0 | 0 | 0 | 3 | 2 | 2 | 0 | 4 | 0 | 11 | 0  | 11 | 0 | 0 | 0 | 0 | 1 | 0 | 0 | 0 | 0 | 3 | 1.333333 | 0 | 0 | 1 | 0 | 0 | 0 | 0 | 1 | 3 | 1 | 0 | 0 | 0 | 0 | 0 | 1 | 0 | 38 | 121 | 1444 | 16 | 121 | 4 | 1.777778 |  1 | 121 | 1444 | 4 |\n\n",
            "text/html": [
              "<table class=\"dataframe\">\n",
              "<caption>A data.frame: 6 × 142</caption>\n",
              "<thead>\n",
              "\t<tr><th></th><th scope=col>Id</th><th scope=col>v2a1</th><th scope=col>hacdor</th><th scope=col>rooms</th><th scope=col>hacapo</th><th scope=col>v14a</th><th scope=col>refrig</th><th scope=col>v18q</th><th scope=col>v18q1</th><th scope=col>r4h1</th><th scope=col>r4h2</th><th scope=col>r4h3</th><th scope=col>r4m1</th><th scope=col>r4m2</th><th scope=col>r4m3</th><th scope=col>r4t1</th><th scope=col>r4t2</th><th scope=col>r4t3</th><th scope=col>tamhog</th><th scope=col>tamviv</th><th scope=col>escolari</th><th scope=col>hhsize</th><th scope=col>paredblolad</th><th scope=col>paredzocalo</th><th scope=col>paredpreb</th><th scope=col>pareddes</th><th scope=col>paredmad</th><th scope=col>paredzinc</th><th scope=col>paredfibras</th><th scope=col>paredother</th><th scope=col>pisomoscer</th><th scope=col>pisocemento</th><th scope=col>pisoother</th><th scope=col>pisonatur</th><th scope=col>pisonotiene</th><th scope=col>pisomadera</th><th scope=col>techozinc</th><th scope=col>techoentrepiso</th><th scope=col>techocane</th><th scope=col>techootro</th><th scope=col>cielorazo</th><th scope=col>abastaguadentro</th><th scope=col>abastaguafuera</th><th scope=col>abastaguano</th><th scope=col>public</th><th scope=col>planpri</th><th scope=col>noelec</th><th scope=col>coopele</th><th scope=col>sanitario1</th><th scope=col>sanitario2</th><th scope=col>sanitario3</th><th scope=col>sanitario5</th><th scope=col>sanitario6</th><th scope=col>energcocinar1</th><th scope=col>energcocinar2</th><th scope=col>energcocinar3</th><th scope=col>energcocinar4</th><th scope=col>elimbasu1</th><th scope=col>elimbasu2</th><th scope=col>elimbasu3</th><th scope=col>elimbasu4</th><th scope=col>elimbasu5</th><th scope=col>elimbasu6</th><th scope=col>epared1</th><th scope=col>epared2</th><th scope=col>epared3</th><th scope=col>etecho1</th><th scope=col>etecho2</th><th scope=col>etecho3</th><th scope=col>eviv1</th><th scope=col>eviv2</th><th scope=col>eviv3</th><th scope=col>dis</th><th scope=col>male</th><th scope=col>female</th><th scope=col>estadocivil1</th><th scope=col>estadocivil2</th><th scope=col>estadocivil3</th><th scope=col>estadocivil4</th><th scope=col>estadocivil5</th><th scope=col>estadocivil6</th><th scope=col>estadocivil7</th><th scope=col>parentesco1</th><th scope=col>parentesco2</th><th scope=col>parentesco3</th><th scope=col>parentesco4</th><th scope=col>parentesco5</th><th scope=col>parentesco6</th><th scope=col>parentesco7</th><th scope=col>parentesco8</th><th scope=col>parentesco9</th><th scope=col>parentesco10</th><th scope=col>parentesco11</th><th scope=col>parentesco12</th><th scope=col>idhogar</th><th scope=col>hogar_nin</th><th scope=col>hogar_adul</th><th scope=col>hogar_mayor</th><th scope=col>hogar_total</th><th scope=col>dependency</th><th scope=col>edjefe</th><th scope=col>edjefa</th><th scope=col>meaneduc</th><th scope=col>instlevel1</th><th scope=col>instlevel2</th><th scope=col>instlevel3</th><th scope=col>instlevel4</th><th scope=col>instlevel5</th><th scope=col>instlevel6</th><th scope=col>instlevel7</th><th scope=col>instlevel8</th><th scope=col>instlevel9</th><th scope=col>bedrooms</th><th scope=col>overcrowding</th><th scope=col>tipovivi1</th><th scope=col>tipovivi2</th><th scope=col>tipovivi3</th><th scope=col>tipovivi4</th><th scope=col>tipovivi5</th><th scope=col>computer</th><th scope=col>television</th><th scope=col>mobilephone</th><th scope=col>qmobilephone</th><th scope=col>lugar1</th><th scope=col>lugar2</th><th scope=col>lugar3</th><th scope=col>lugar4</th><th scope=col>lugar5</th><th scope=col>lugar6</th><th scope=col>area1</th><th scope=col>area2</th><th scope=col>age</th><th scope=col>SQBescolari</th><th scope=col>SQBage</th><th scope=col>SQBhogar_total</th><th scope=col>SQBedjefe</th><th scope=col>SQBhogar_nin</th><th scope=col>SQBovercrowding</th><th scope=col>SQBdependency</th><th scope=col>SQBmeaned</th><th scope=col>agesq</th><th scope=col>Target</th></tr>\n",
              "\t<tr><th></th><th scope=col>&lt;chr&gt;</th><th scope=col>&lt;dbl&gt;</th><th scope=col>&lt;int&gt;</th><th scope=col>&lt;int&gt;</th><th scope=col>&lt;int&gt;</th><th scope=col>&lt;int&gt;</th><th scope=col>&lt;int&gt;</th><th scope=col>&lt;int&gt;</th><th scope=col>&lt;dbl&gt;</th><th scope=col>&lt;int&gt;</th><th scope=col>&lt;int&gt;</th><th scope=col>&lt;int&gt;</th><th scope=col>&lt;int&gt;</th><th scope=col>&lt;int&gt;</th><th scope=col>&lt;int&gt;</th><th scope=col>&lt;int&gt;</th><th scope=col>&lt;int&gt;</th><th scope=col>&lt;int&gt;</th><th scope=col>&lt;int&gt;</th><th scope=col>&lt;int&gt;</th><th scope=col>&lt;int&gt;</th><th scope=col>&lt;int&gt;</th><th scope=col>&lt;int&gt;</th><th scope=col>&lt;int&gt;</th><th scope=col>&lt;int&gt;</th><th scope=col>&lt;int&gt;</th><th scope=col>&lt;int&gt;</th><th scope=col>&lt;int&gt;</th><th scope=col>&lt;int&gt;</th><th scope=col>&lt;int&gt;</th><th scope=col>&lt;int&gt;</th><th scope=col>&lt;int&gt;</th><th scope=col>&lt;int&gt;</th><th scope=col>&lt;int&gt;</th><th scope=col>&lt;int&gt;</th><th scope=col>&lt;int&gt;</th><th scope=col>&lt;int&gt;</th><th scope=col>&lt;int&gt;</th><th scope=col>&lt;int&gt;</th><th scope=col>&lt;int&gt;</th><th scope=col>&lt;int&gt;</th><th scope=col>&lt;int&gt;</th><th scope=col>&lt;int&gt;</th><th scope=col>&lt;int&gt;</th><th scope=col>&lt;int&gt;</th><th scope=col>&lt;int&gt;</th><th scope=col>&lt;int&gt;</th><th scope=col>&lt;int&gt;</th><th scope=col>&lt;int&gt;</th><th scope=col>&lt;int&gt;</th><th scope=col>&lt;int&gt;</th><th scope=col>&lt;int&gt;</th><th scope=col>&lt;int&gt;</th><th scope=col>&lt;int&gt;</th><th scope=col>&lt;int&gt;</th><th scope=col>&lt;int&gt;</th><th scope=col>&lt;int&gt;</th><th scope=col>&lt;int&gt;</th><th scope=col>&lt;int&gt;</th><th scope=col>&lt;int&gt;</th><th scope=col>&lt;int&gt;</th><th scope=col>&lt;int&gt;</th><th scope=col>&lt;int&gt;</th><th scope=col>&lt;int&gt;</th><th scope=col>&lt;int&gt;</th><th scope=col>&lt;int&gt;</th><th scope=col>&lt;int&gt;</th><th scope=col>&lt;int&gt;</th><th scope=col>&lt;int&gt;</th><th scope=col>&lt;int&gt;</th><th scope=col>&lt;int&gt;</th><th scope=col>&lt;int&gt;</th><th scope=col>&lt;int&gt;</th><th scope=col>&lt;int&gt;</th><th scope=col>&lt;int&gt;</th><th scope=col>&lt;int&gt;</th><th scope=col>&lt;int&gt;</th><th scope=col>&lt;int&gt;</th><th scope=col>&lt;int&gt;</th><th scope=col>&lt;int&gt;</th><th scope=col>&lt;int&gt;</th><th scope=col>&lt;int&gt;</th><th scope=col>&lt;int&gt;</th><th scope=col>&lt;int&gt;</th><th scope=col>&lt;int&gt;</th><th scope=col>&lt;int&gt;</th><th scope=col>&lt;int&gt;</th><th scope=col>&lt;int&gt;</th><th scope=col>&lt;int&gt;</th><th scope=col>&lt;int&gt;</th><th scope=col>&lt;int&gt;</th><th scope=col>&lt;int&gt;</th><th scope=col>&lt;int&gt;</th><th scope=col>&lt;int&gt;</th><th scope=col>&lt;dbl&gt;</th><th scope=col>&lt;int&gt;</th><th scope=col>&lt;int&gt;</th><th scope=col>&lt;int&gt;</th><th scope=col>&lt;int&gt;</th><th scope=col>&lt;chr&gt;</th><th scope=col>&lt;chr&gt;</th><th scope=col>&lt;chr&gt;</th><th scope=col>&lt;dbl&gt;</th><th scope=col>&lt;int&gt;</th><th scope=col>&lt;int&gt;</th><th scope=col>&lt;int&gt;</th><th scope=col>&lt;int&gt;</th><th scope=col>&lt;int&gt;</th><th scope=col>&lt;int&gt;</th><th scope=col>&lt;int&gt;</th><th scope=col>&lt;int&gt;</th><th scope=col>&lt;int&gt;</th><th scope=col>&lt;int&gt;</th><th scope=col>&lt;dbl&gt;</th><th scope=col>&lt;int&gt;</th><th scope=col>&lt;int&gt;</th><th scope=col>&lt;int&gt;</th><th scope=col>&lt;int&gt;</th><th scope=col>&lt;int&gt;</th><th scope=col>&lt;int&gt;</th><th scope=col>&lt;int&gt;</th><th scope=col>&lt;int&gt;</th><th scope=col>&lt;int&gt;</th><th scope=col>&lt;int&gt;</th><th scope=col>&lt;int&gt;</th><th scope=col>&lt;int&gt;</th><th scope=col>&lt;int&gt;</th><th scope=col>&lt;int&gt;</th><th scope=col>&lt;int&gt;</th><th scope=col>&lt;int&gt;</th><th scope=col>&lt;int&gt;</th><th scope=col>&lt;int&gt;</th><th scope=col>&lt;int&gt;</th><th scope=col>&lt;int&gt;</th><th scope=col>&lt;int&gt;</th><th scope=col>&lt;int&gt;</th><th scope=col>&lt;int&gt;</th><th scope=col>&lt;dbl&gt;</th><th scope=col>&lt;dbl&gt;</th><th scope=col>&lt;dbl&gt;</th><th scope=col>&lt;int&gt;</th><th scope=col>&lt;int&gt;</th></tr>\n",
              "</thead>\n",
              "<tbody>\n",
              "\t<tr><th scope=row>1</th><td>ID_279628684</td><td>190000</td><td>0</td><td>3</td><td>0</td><td>1</td><td>1</td><td>0</td><td>1</td><td>0</td><td>1</td><td>1</td><td>0</td><td>0</td><td>0</td><td>0</td><td>1</td><td>1</td><td>1</td><td>1</td><td>10</td><td>1</td><td>1</td><td>0</td><td>0</td><td>0</td><td>0</td><td>0</td><td>0</td><td>0</td><td>1</td><td>0</td><td>0</td><td>0</td><td>0</td><td>0</td><td>0</td><td>1</td><td>0</td><td>0</td><td>1</td><td>1</td><td>0</td><td>0</td><td>1</td><td>0</td><td>0</td><td>0</td><td>0</td><td>1</td><td>0</td><td>0</td><td>0</td><td>0</td><td>0</td><td>1</td><td>0</td><td>1</td><td>0</td><td>0</td><td>0</td><td>0</td><td>0</td><td>0</td><td>1</td><td>0</td><td>1</td><td>0</td><td>0</td><td>1</td><td>0</td><td>0</td><td>0</td><td>1</td><td>0</td><td>0</td><td>0</td><td>0</td><td>1</td><td>0</td><td>0</td><td>0</td><td>1</td><td>0</td><td>0</td><td>0</td><td>0</td><td>0</td><td>0</td><td>0</td><td>0</td><td>0</td><td>0</td><td>0</td><td>0</td><td>0</td><td>1</td><td>0</td><td>1</td><td>0</td><td>10</td><td>0 </td><td>10</td><td>0</td><td>0</td><td>0</td><td>1</td><td>0</td><td>0</td><td>0</td><td>0</td><td>0</td><td>1</td><td>1.000000</td><td>0</td><td>0</td><td>1</td><td>0</td><td>0</td><td>0</td><td>0</td><td>1</td><td>1</td><td>1</td><td>0</td><td>0</td><td>0</td><td>0</td><td>0</td><td>1</td><td>0</td><td>43</td><td>100</td><td>1849</td><td> 1</td><td>100</td><td>0</td><td>1.000000</td><td> 0</td><td>100</td><td>1849</td><td>4</td></tr>\n",
              "\t<tr><th scope=row>2</th><td>ID_f29eb3ddd</td><td>135000</td><td>0</td><td>4</td><td>0</td><td>1</td><td>1</td><td>1</td><td>1</td><td>0</td><td>1</td><td>1</td><td>0</td><td>0</td><td>0</td><td>0</td><td>1</td><td>1</td><td>1</td><td>1</td><td>12</td><td>1</td><td>0</td><td>0</td><td>0</td><td>0</td><td>1</td><td>0</td><td>0</td><td>0</td><td>0</td><td>0</td><td>0</td><td>0</td><td>0</td><td>1</td><td>1</td><td>0</td><td>0</td><td>0</td><td>1</td><td>1</td><td>0</td><td>0</td><td>1</td><td>0</td><td>0</td><td>0</td><td>0</td><td>1</td><td>0</td><td>0</td><td>0</td><td>0</td><td>1</td><td>0</td><td>0</td><td>1</td><td>0</td><td>0</td><td>0</td><td>0</td><td>0</td><td>0</td><td>1</td><td>0</td><td>0</td><td>1</td><td>0</td><td>0</td><td>1</td><td>0</td><td>0</td><td>1</td><td>0</td><td>0</td><td>0</td><td>0</td><td>1</td><td>0</td><td>0</td><td>0</td><td>1</td><td>0</td><td>0</td><td>0</td><td>0</td><td>0</td><td>0</td><td>0</td><td>0</td><td>0</td><td>0</td><td>0</td><td>1</td><td>0</td><td>1</td><td>1</td><td>1</td><td>8</td><td>12</td><td>0 </td><td>12</td><td>0</td><td>0</td><td>0</td><td>0</td><td>0</td><td>0</td><td>0</td><td>1</td><td>0</td><td>1</td><td>1.000000</td><td>0</td><td>0</td><td>1</td><td>0</td><td>0</td><td>0</td><td>0</td><td>1</td><td>1</td><td>1</td><td>0</td><td>0</td><td>0</td><td>0</td><td>0</td><td>1</td><td>0</td><td>67</td><td>144</td><td>4489</td><td> 1</td><td>144</td><td>0</td><td>1.000000</td><td>64</td><td>144</td><td>4489</td><td>4</td></tr>\n",
              "\t<tr><th scope=row>3</th><td>ID_68de51c94</td><td>150000</td><td>0</td><td>8</td><td>0</td><td>1</td><td>1</td><td>0</td><td>1</td><td>0</td><td>0</td><td>0</td><td>0</td><td>1</td><td>1</td><td>0</td><td>1</td><td>1</td><td>1</td><td>1</td><td>11</td><td>1</td><td>0</td><td>0</td><td>0</td><td>0</td><td>1</td><td>0</td><td>0</td><td>0</td><td>1</td><td>0</td><td>0</td><td>0</td><td>0</td><td>0</td><td>1</td><td>0</td><td>0</td><td>0</td><td>1</td><td>1</td><td>0</td><td>0</td><td>1</td><td>0</td><td>0</td><td>0</td><td>0</td><td>1</td><td>0</td><td>0</td><td>0</td><td>0</td><td>1</td><td>0</td><td>0</td><td>1</td><td>0</td><td>0</td><td>0</td><td>0</td><td>0</td><td>0</td><td>1</td><td>0</td><td>0</td><td>0</td><td>1</td><td>0</td><td>0</td><td>1</td><td>1</td><td>0</td><td>1</td><td>0</td><td>0</td><td>0</td><td>0</td><td>0</td><td>1</td><td>0</td><td>1</td><td>0</td><td>0</td><td>0</td><td>0</td><td>0</td><td>0</td><td>0</td><td>0</td><td>0</td><td>0</td><td>0</td><td>2</td><td>0</td><td>1</td><td>1</td><td>1</td><td>8</td><td>0 </td><td>11</td><td>11</td><td>0</td><td>0</td><td>0</td><td>0</td><td>1</td><td>0</td><td>0</td><td>0</td><td>0</td><td>2</td><td>0.500000</td><td>1</td><td>0</td><td>0</td><td>0</td><td>0</td><td>0</td><td>0</td><td>0</td><td>0</td><td>1</td><td>0</td><td>0</td><td>0</td><td>0</td><td>0</td><td>1</td><td>0</td><td>92</td><td>121</td><td>8464</td><td> 1</td><td>  0</td><td>0</td><td>0.250000</td><td>64</td><td>121</td><td>8464</td><td>4</td></tr>\n",
              "\t<tr><th scope=row>4</th><td>ID_d671db89c</td><td>180000</td><td>0</td><td>5</td><td>0</td><td>1</td><td>1</td><td>1</td><td>1</td><td>0</td><td>2</td><td>2</td><td>1</td><td>1</td><td>2</td><td>1</td><td>3</td><td>4</td><td>4</td><td>4</td><td> 9</td><td>4</td><td>1</td><td>0</td><td>0</td><td>0</td><td>0</td><td>0</td><td>0</td><td>0</td><td>1</td><td>0</td><td>0</td><td>0</td><td>0</td><td>0</td><td>1</td><td>0</td><td>0</td><td>0</td><td>1</td><td>1</td><td>0</td><td>0</td><td>1</td><td>0</td><td>0</td><td>0</td><td>0</td><td>1</td><td>0</td><td>0</td><td>0</td><td>0</td><td>1</td><td>0</td><td>0</td><td>1</td><td>0</td><td>0</td><td>0</td><td>0</td><td>0</td><td>0</td><td>0</td><td>1</td><td>0</td><td>0</td><td>1</td><td>0</td><td>0</td><td>1</td><td>0</td><td>1</td><td>0</td><td>0</td><td>0</td><td>0</td><td>0</td><td>0</td><td>0</td><td>1</td><td>0</td><td>0</td><td>1</td><td>0</td><td>0</td><td>0</td><td>0</td><td>0</td><td>0</td><td>0</td><td>0</td><td>0</td><td>3</td><td>2</td><td>2</td><td>0</td><td>4</td><td>0</td><td>11</td><td>0 </td><td>11</td><td>0</td><td>0</td><td>0</td><td>1</td><td>0</td><td>0</td><td>0</td><td>0</td><td>0</td><td>3</td><td>1.333333</td><td>0</td><td>0</td><td>1</td><td>0</td><td>0</td><td>0</td><td>0</td><td>1</td><td>3</td><td>1</td><td>0</td><td>0</td><td>0</td><td>0</td><td>0</td><td>1</td><td>0</td><td>17</td><td> 81</td><td> 289</td><td>16</td><td>121</td><td>4</td><td>1.777778</td><td> 1</td><td>121</td><td> 289</td><td>4</td></tr>\n",
              "\t<tr><th scope=row>5</th><td>ID_d56d6f5f5</td><td>180000</td><td>0</td><td>5</td><td>0</td><td>1</td><td>1</td><td>1</td><td>1</td><td>0</td><td>2</td><td>2</td><td>1</td><td>1</td><td>2</td><td>1</td><td>3</td><td>4</td><td>4</td><td>4</td><td>11</td><td>4</td><td>1</td><td>0</td><td>0</td><td>0</td><td>0</td><td>0</td><td>0</td><td>0</td><td>1</td><td>0</td><td>0</td><td>0</td><td>0</td><td>0</td><td>1</td><td>0</td><td>0</td><td>0</td><td>1</td><td>1</td><td>0</td><td>0</td><td>1</td><td>0</td><td>0</td><td>0</td><td>0</td><td>1</td><td>0</td><td>0</td><td>0</td><td>0</td><td>1</td><td>0</td><td>0</td><td>1</td><td>0</td><td>0</td><td>0</td><td>0</td><td>0</td><td>0</td><td>0</td><td>1</td><td>0</td><td>0</td><td>1</td><td>0</td><td>0</td><td>1</td><td>0</td><td>0</td><td>1</td><td>0</td><td>1</td><td>0</td><td>0</td><td>0</td><td>0</td><td>0</td><td>0</td><td>1</td><td>0</td><td>0</td><td>0</td><td>0</td><td>0</td><td>0</td><td>0</td><td>0</td><td>0</td><td>0</td><td>3</td><td>2</td><td>2</td><td>0</td><td>4</td><td>0</td><td>11</td><td>0 </td><td>11</td><td>0</td><td>0</td><td>0</td><td>0</td><td>1</td><td>0</td><td>0</td><td>0</td><td>0</td><td>3</td><td>1.333333</td><td>0</td><td>0</td><td>1</td><td>0</td><td>0</td><td>0</td><td>0</td><td>1</td><td>3</td><td>1</td><td>0</td><td>0</td><td>0</td><td>0</td><td>0</td><td>1</td><td>0</td><td>37</td><td>121</td><td>1369</td><td>16</td><td>121</td><td>4</td><td>1.777778</td><td> 1</td><td>121</td><td>1369</td><td>4</td></tr>\n",
              "\t<tr><th scope=row>6</th><td>ID_ec05b1a7b</td><td>180000</td><td>0</td><td>5</td><td>0</td><td>1</td><td>1</td><td>1</td><td>1</td><td>0</td><td>2</td><td>2</td><td>1</td><td>1</td><td>2</td><td>1</td><td>3</td><td>4</td><td>4</td><td>4</td><td>11</td><td>4</td><td>1</td><td>0</td><td>0</td><td>0</td><td>0</td><td>0</td><td>0</td><td>0</td><td>1</td><td>0</td><td>0</td><td>0</td><td>0</td><td>0</td><td>1</td><td>0</td><td>0</td><td>0</td><td>1</td><td>1</td><td>0</td><td>0</td><td>1</td><td>0</td><td>0</td><td>0</td><td>0</td><td>1</td><td>0</td><td>0</td><td>0</td><td>0</td><td>1</td><td>0</td><td>0</td><td>1</td><td>0</td><td>0</td><td>0</td><td>0</td><td>0</td><td>0</td><td>0</td><td>1</td><td>0</td><td>0</td><td>1</td><td>0</td><td>0</td><td>1</td><td>0</td><td>1</td><td>0</td><td>0</td><td>1</td><td>0</td><td>0</td><td>0</td><td>0</td><td>0</td><td>1</td><td>0</td><td>0</td><td>0</td><td>0</td><td>0</td><td>0</td><td>0</td><td>0</td><td>0</td><td>0</td><td>0</td><td>3</td><td>2</td><td>2</td><td>0</td><td>4</td><td>0</td><td>11</td><td>0 </td><td>11</td><td>0</td><td>0</td><td>0</td><td>0</td><td>1</td><td>0</td><td>0</td><td>0</td><td>0</td><td>3</td><td>1.333333</td><td>0</td><td>0</td><td>1</td><td>0</td><td>0</td><td>0</td><td>0</td><td>1</td><td>3</td><td>1</td><td>0</td><td>0</td><td>0</td><td>0</td><td>0</td><td>1</td><td>0</td><td>38</td><td>121</td><td>1444</td><td>16</td><td>121</td><td>4</td><td>1.777778</td><td> 1</td><td>121</td><td>1444</td><td>4</td></tr>\n",
              "</tbody>\n",
              "</table>\n"
            ]
          },
          "metadata": {}
        }
      ]
    },
    {
      "cell_type": "code",
      "metadata": {
        "id": "hKduuC_r6Gzp"
      },
      "source": [
        "train1 <- train\n",
        "train1$Target[train1$Target == 1] = 'Extreme Poverty'\n",
        "train1$Target[train1$Target == 2] = 'Moderate Poverty'\n",
        "train1$Target[train1$Target == 3] = 'Vulnerable Household'\n",
        "train1$Target[train1$Target == 4] = 'Non-Vulnerable Household'"
      ],
      "execution_count": 35,
      "outputs": []
    },
    {
      "cell_type": "code",
      "metadata": {
        "colab": {
          "base_uri": "https://localhost:8080/",
          "height": 437
        },
        "id": "hprCjv4lOLmU",
        "outputId": "6a2dad50-3caf-4218-b96c-ae2bf69df10e"
      },
      "source": [
        "train1 %>%\n",
        "ggplot(aes(Target))+\n",
        "geom_bar(color = 'black', fill = 'orange')+\n",
        "xlab(\"Target Classes\")+\n",
        "ylab(\"Target Classes Count\")"
      ],
      "execution_count": 36,
      "outputs": [
        {
          "output_type": "display_data",
          "data": {
            "image/png": "[encoded data removed]",
            "text/plain": [
              "plot without title"
            ]
          },
          "metadata": {
            "image/png": {
              "width": 420,
              "height": 420
            }
          }
        }
      ]
    },
    {
      "cell_type": "code",
      "metadata": {
        "colab": {
          "base_uri": "https://localhost:8080/"
        },
        "id": "di5amRfJo51S",
        "outputId": "a573b809-6d4b-4f33-c9c6-8d01c3448a88"
      },
      "source": [
        "library(devtools)\n",
        "remotes::install_github(\"cran/DMwR\")"
      ],
      "execution_count": 37,
      "outputs": [
        {
          "output_type": "stream",
          "name": "stderr",
          "text": [
            "Loading required package: usethis\n",
            "\n",
            "Downloading GitHub repo cran/DMwR@HEAD\n",
            "\n"
          ]
        },
        {
          "output_type": "stream",
          "name": "stdout",
          "text": [
            "bitops   (NA -> 1.0-7 ) [CRAN]\n",
            "caTools  (NA -> 1.18.2) [CRAN]\n",
            "gtools   (NA -> 3.9.2 ) [CRAN]\n",
            "zoo      (NA -> 1.8-9 ) [CRAN]\n",
            "xts      (NA -> 0.12.1) [CRAN]\n",
            "gplots   (NA -> 3.1.1 ) [CRAN]\n",
            "TTR      (NA -> 0.24.2) [CRAN]\n",
            "ROCR     (NA -> 1.0-11) [CRAN]\n",
            "abind    (NA -> 1.4-5 ) [CRAN]\n",
            "quantmod (NA -> 0.4.18) [CRAN]\n"
          ]
        },
        {
          "output_type": "stream",
          "name": "stderr",
          "text": [
            "Installing 10 packages: bitops, caTools, gtools, zoo, xts, gplots, TTR, ROCR, abind, quantmod\n",
            "\n",
            "Installing packages into ‘/usr/local/lib/R/site-library’\n",
            "(as ‘lib’ is unspecified)\n",
            "\n"
          ]
        },
        {
          "output_type": "stream",
          "name": "stdout",
          "text": [
            "\u001b[32m✔\u001b[39m  \u001b[90mchecking for file ‘/tmp/Rtmpthzxhh/remotes414a46f153/cran-DMwR-6fd4f0c/DESCRIPTION’\u001b[39m\u001b[36m\u001b[39m\n",
            "\u001b[90m─\u001b[39m\u001b[90m  \u001b[39m\u001b[90mpreparing ‘DMwR’:\u001b[39m\u001b[36m\u001b[39m\n",
            "\u001b[32m✔\u001b[39m  \u001b[90mchecking DESCRIPTION meta-information\u001b[39m\u001b[36m\u001b[39m\n",
            "\u001b[90m─\u001b[39m\u001b[90m  \u001b[39m\u001b[90mchecking for LF line-endings in source and make files and shell scripts\u001b[39m\u001b[36m\u001b[39m\n",
            "\u001b[90m─\u001b[39m\u001b[90m  \u001b[39m\u001b[90mchecking for empty or unneeded directories\u001b[39m\u001b[36m\u001b[39m\n",
            "\u001b[90m─\u001b[39m\u001b[90m  \u001b[39m\u001b[90mbuilding ‘DMwR_0.4.1.tar.gz’\u001b[39m\u001b[36m\u001b[39m\n",
            "   \n"
          ]
        },
        {
          "output_type": "stream",
          "name": "stderr",
          "text": [
            "Installing package into ‘/usr/local/lib/R/site-library’\n",
            "(as ‘lib’ is unspecified)\n",
            "\n"
          ]
        }
      ]
    },
    {
      "cell_type": "code",
      "metadata": {
        "id": "IeibBnDJnleK",
        "colab": {
          "base_uri": "https://localhost:8080/"
        },
        "outputId": "8b990883-de60-48b7-990d-0ba49f68945f"
      },
      "source": [
        "library(DMwR)"
      ],
      "execution_count": 38,
      "outputs": [
        {
          "output_type": "stream",
          "name": "stderr",
          "text": [
            "Loading required package: lattice\n",
            "\n",
            "Loading required package: grid\n",
            "\n",
            "Registered S3 method overwritten by 'quantmod':\n",
            "  method            from\n",
            "  as.zoo.data.frame zoo \n",
            "\n"
          ]
        }
      ]
    },
    {
      "cell_type": "code",
      "metadata": {
        "colab": {
          "base_uri": "https://localhost:8080/",
          "height": 34
        },
        "id": "uMbuSs3ZvHoG",
        "outputId": "a391d5f0-83dc-47a2-cded-53d1408766c6"
      },
      "source": [
        "typeof(train$Target)"
      ],
      "execution_count": 39,
      "outputs": [
        {
          "output_type": "display_data",
          "data": {
            "text/plain": [
              "[1] \"integer\""
            ],
            "text/latex": "'integer'",
            "text/markdown": "'integer'",
            "text/html": [
              "'integer'"
            ]
          },
          "metadata": {}
        }
      ]
    },
    {
      "cell_type": "code",
      "metadata": {
        "colab": {
          "base_uri": "https://localhost:8080/"
        },
        "id": "G49pZ9BRwHrW",
        "outputId": "462acacd-0ed6-4c44-9fd7-a6b70321c9cb"
      },
      "source": [
        "train1 <- train\n",
        "train1 <- subset(train1, select = c(-Id))\n",
        "str(train1)"
      ],
      "execution_count": 54,
      "outputs": [
        {
          "output_type": "stream",
          "name": "stdout",
          "text": [
            "'data.frame':\t3071 obs. of  141 variables:\n",
            " $ v2a1           : num  190000 135000 150000 180000 180000 180000 180000 130000 130000 130000 ...\n",
            " $ hacdor         : int  0 0 0 0 0 0 0 1 1 1 ...\n",
            " $ rooms          : int  3 4 8 5 5 5 5 2 2 2 ...\n",
            " $ hacapo         : int  0 0 0 0 0 0 0 0 0 0 ...\n",
            " $ v14a           : int  1 1 1 1 1 1 1 1 1 1 ...\n",
            " $ refrig         : int  1 1 1 1 1 1 1 1 1 1 ...\n",
            " $ v18q           : int  0 1 0 1 1 1 1 0 0 0 ...\n",
            " $ v18q1          : num  1 1 1 1 1 1 1 1 1 1 ...\n",
            " $ r4h1           : int  0 0 0 0 0 0 0 0 0 0 ...\n",
            " $ r4h2           : int  1 1 0 2 2 2 2 1 1 1 ...\n",
            " $ r4h3           : int  1 1 0 2 2 2 2 1 1 1 ...\n",
            " $ r4m1           : int  0 0 0 1 1 1 1 2 2 2 ...\n",
            " $ r4m2           : int  0 0 1 1 1 1 1 1 1 1 ...\n",
            " $ r4m3           : int  0 0 1 2 2 2 2 3 3 3 ...\n",
            " $ r4t1           : int  0 0 0 1 1 1 1 2 2 2 ...\n",
            " $ r4t2           : int  1 1 1 3 3 3 3 2 2 2 ...\n",
            " $ r4t3           : int  1 1 1 4 4 4 4 4 4 4 ...\n",
            " $ tamhog         : int  1 1 1 4 4 4 4 4 4 4 ...\n",
            " $ tamviv         : int  1 1 1 4 4 4 4 4 4 4 ...\n",
            " $ escolari       : int  10 12 11 9 11 11 2 0 9 11 ...\n",
            " $ hhsize         : int  1 1 1 4 4 4 4 4 4 4 ...\n",
            " $ paredblolad    : int  1 0 0 1 1 1 1 1 1 1 ...\n",
            " $ paredzocalo    : int  0 0 0 0 0 0 0 0 0 0 ...\n",
            " $ paredpreb      : int  0 0 0 0 0 0 0 0 0 0 ...\n",
            " $ pareddes       : int  0 0 0 0 0 0 0 0 0 0 ...\n",
            " $ paredmad       : int  0 1 1 0 0 0 0 0 0 0 ...\n",
            " $ paredzinc      : int  0 0 0 0 0 0 0 0 0 0 ...\n",
            " $ paredfibras    : int  0 0 0 0 0 0 0 0 0 0 ...\n",
            " $ paredother     : int  0 0 0 0 0 0 0 0 0 0 ...\n",
            " $ pisomoscer     : int  1 0 1 1 1 1 1 1 1 1 ...\n",
            " $ pisocemento    : int  0 0 0 0 0 0 0 0 0 0 ...\n",
            " $ pisoother      : int  0 0 0 0 0 0 0 0 0 0 ...\n",
            " $ pisonatur      : int  0 0 0 0 0 0 0 0 0 0 ...\n",
            " $ pisonotiene    : int  0 0 0 0 0 0 0 0 0 0 ...\n",
            " $ pisomadera     : int  0 1 0 0 0 0 0 0 0 0 ...\n",
            " $ techozinc      : int  0 1 1 1 1 1 1 1 1 1 ...\n",
            " $ techoentrepiso : int  1 0 0 0 0 0 0 0 0 0 ...\n",
            " $ techocane      : int  0 0 0 0 0 0 0 0 0 0 ...\n",
            " $ techootro      : int  0 0 0 0 0 0 0 0 0 0 ...\n",
            " $ cielorazo      : int  1 1 1 1 1 1 1 1 1 1 ...\n",
            " $ abastaguadentro: int  1 1 1 1 1 1 1 1 1 1 ...\n",
            " $ abastaguafuera : int  0 0 0 0 0 0 0 0 0 0 ...\n",
            " $ abastaguano    : int  0 0 0 0 0 0 0 0 0 0 ...\n",
            " $ public         : int  1 1 1 1 1 1 1 1 1 1 ...\n",
            " $ planpri        : int  0 0 0 0 0 0 0 0 0 0 ...\n",
            " $ noelec         : int  0 0 0 0 0 0 0 0 0 0 ...\n",
            " $ coopele        : int  0 0 0 0 0 0 0 0 0 0 ...\n",
            " $ sanitario1     : int  0 0 0 0 0 0 0 0 0 0 ...\n",
            " $ sanitario2     : int  1 1 1 1 1 1 1 1 1 1 ...\n",
            " $ sanitario3     : int  0 0 0 0 0 0 0 0 0 0 ...\n",
            " $ sanitario5     : int  0 0 0 0 0 0 0 0 0 0 ...\n",
            " $ sanitario6     : int  0 0 0 0 0 0 0 0 0 0 ...\n",
            " $ energcocinar1  : int  0 0 0 0 0 0 0 0 0 0 ...\n",
            " $ energcocinar2  : int  0 1 1 1 1 1 1 0 0 0 ...\n",
            " $ energcocinar3  : int  1 0 0 0 0 0 0 1 1 1 ...\n",
            " $ energcocinar4  : int  0 0 0 0 0 0 0 0 0 0 ...\n",
            " $ elimbasu1      : int  1 1 1 1 1 1 1 1 1 1 ...\n",
            " $ elimbasu2      : int  0 0 0 0 0 0 0 0 0 0 ...\n",
            " $ elimbasu3      : int  0 0 0 0 0 0 0 0 0 0 ...\n",
            " $ elimbasu4      : int  0 0 0 0 0 0 0 0 0 0 ...\n",
            " $ elimbasu5      : int  0 0 0 0 0 0 0 0 0 0 ...\n",
            " $ elimbasu6      : int  0 0 0 0 0 0 0 0 0 0 ...\n",
            " $ epared1        : int  0 0 0 0 0 0 0 1 1 1 ...\n",
            " $ epared2        : int  1 1 1 0 0 0 0 0 0 0 ...\n",
            " $ epared3        : int  0 0 0 1 1 1 1 0 0 0 ...\n",
            " $ etecho1        : int  1 0 0 0 0 0 0 1 1 1 ...\n",
            " $ etecho2        : int  0 1 0 0 0 0 0 0 0 0 ...\n",
            " $ etecho3        : int  0 0 1 1 1 1 1 0 0 0 ...\n",
            " $ eviv1          : int  1 0 0 0 0 0 0 0 0 0 ...\n",
            " $ eviv2          : int  0 1 0 0 0 0 0 1 1 1 ...\n",
            " $ eviv3          : int  0 0 1 1 1 1 1 0 0 0 ...\n",
            " $ dis            : int  0 0 1 0 0 0 0 0 0 0 ...\n",
            " $ male           : int  1 1 0 1 0 1 0 0 1 0 ...\n",
            " $ female         : int  0 0 1 0 1 0 1 1 0 1 ...\n",
            " $ estadocivil1   : int  0 0 0 0 0 0 1 1 0 0 ...\n",
            " $ estadocivil2   : int  0 0 0 0 1 1 0 0 1 1 ...\n",
            " $ estadocivil3   : int  0 0 0 0 0 0 0 0 0 0 ...\n",
            " $ estadocivil4   : int  1 1 0 0 0 0 0 0 0 0 ...\n",
            " $ estadocivil5   : int  0 0 0 0 0 0 0 0 0 0 ...\n",
            " $ estadocivil6   : int  0 0 1 0 0 0 0 0 0 0 ...\n",
            " $ estadocivil7   : int  0 0 0 1 0 0 0 0 0 0 ...\n",
            " $ parentesco1    : int  1 1 1 0 0 1 0 0 1 0 ...\n",
            " $ parentesco2    : int  0 0 0 0 1 0 0 0 0 1 ...\n",
            " $ parentesco3    : int  0 0 0 1 0 0 1 1 0 0 ...\n",
            " $ parentesco4    : int  0 0 0 0 0 0 0 0 0 0 ...\n",
            " $ parentesco5    : int  0 0 0 0 0 0 0 0 0 0 ...\n",
            " $ parentesco6    : int  0 0 0 0 0 0 0 0 0 0 ...\n",
            " $ parentesco7    : int  0 0 0 0 0 0 0 0 0 0 ...\n",
            " $ parentesco8    : int  0 0 0 0 0 0 0 0 0 0 ...\n",
            " $ parentesco9    : int  0 0 0 0 0 0 0 0 0 0 ...\n",
            " $ parentesco10   : int  0 0 0 0 0 0 0 0 0 0 ...\n",
            " $ parentesco11   : int  0 0 0 0 0 0 0 0 0 0 ...\n",
            " $ parentesco12   : int  0 0 0 0 0 0 0 0 0 0 ...\n",
            " $ idhogar        : num  0 1 2 3 3 3 3 4 4 4 ...\n",
            " $ hogar_nin      : int  0 0 0 2 2 2 2 2 2 2 ...\n",
            " $ hogar_adul     : int  1 1 1 2 2 2 2 2 2 2 ...\n",
            " $ hogar_mayor    : int  0 1 1 0 0 0 0 0 0 0 ...\n",
            " $ hogar_total    : int  1 1 1 4 4 4 4 4 4 4 ...\n",
            " $ dependency     : chr  \"0\" \"8\" \"8\" \"0\" ...\n",
            "  [list output truncated]\n"
          ]
        }
      ]
    },
    {
      "cell_type": "code",
      "metadata": {
        "colab": {
          "base_uri": "https://localhost:8080/",
          "height": 159
        },
        "id": "VZECQUpoy9Lr",
        "outputId": "dc285ea0-6083-417f-c4ed-cbbbe37d8916"
      },
      "source": [
        "train1 %>%\n",
        "  select_if(is.character) %>%\n",
        "  head(2)"
      ],
      "execution_count": 55,
      "outputs": [
        {
          "output_type": "display_data",
          "data": {
            "text/plain": [
              "  dependency edjefe edjefa\n",
              "1 0          10     0     \n",
              "2 8          12     0     "
            ],
            "text/latex": "A data.frame: 2 × 3\n\\begin{tabular}{r|lll}\n  & dependency & edjefe & edjefa\\\\\n  & <chr> & <chr> & <chr>\\\\\n\\hline\n\t1 & 0 & 10 & 0\\\\\n\t2 & 8 & 12 & 0\\\\\n\\end{tabular}\n",
            "text/markdown": "\nA data.frame: 2 × 3\n\n| <!--/--> | dependency &lt;chr&gt; | edjefe &lt;chr&gt; | edjefa &lt;chr&gt; |\n|---|---|---|---|\n| 1 | 0 | 10 | 0 |\n| 2 | 8 | 12 | 0 |\n\n",
            "text/html": [
              "<table class=\"dataframe\">\n",
              "<caption>A data.frame: 2 × 3</caption>\n",
              "<thead>\n",
              "\t<tr><th></th><th scope=col>dependency</th><th scope=col>edjefe</th><th scope=col>edjefa</th></tr>\n",
              "\t<tr><th></th><th scope=col>&lt;chr&gt;</th><th scope=col>&lt;chr&gt;</th><th scope=col>&lt;chr&gt;</th></tr>\n",
              "</thead>\n",
              "<tbody>\n",
              "\t<tr><th scope=row>1</th><td>0</td><td>10</td><td>0</td></tr>\n",
              "\t<tr><th scope=row>2</th><td>8</td><td>12</td><td>0</td></tr>\n",
              "</tbody>\n",
              "</table>\n"
            ]
          },
          "metadata": {}
        }
      ]
    },
    {
      "cell_type": "code",
      "metadata": {
        "id": "-HmG4iD-zBWO"
      },
      "source": [
        "train1$dependency <- as.integer(train1$dependency)\n",
        "train1$edjefa <- as.integer(train1$edjefa)\n",
        "train1$edjefe <- as.integer(train1$edjefe)"
      ],
      "execution_count": 57,
      "outputs": []
    },
    {
      "cell_type": "code",
      "metadata": {
        "id": "611hcKO7bkV9"
      },
      "source": [
        "train1$Target <- as.factor(train1$Target)"
      ],
      "execution_count": 56,
      "outputs": []
    },
    {
      "cell_type": "code",
      "metadata": {
        "colab": {
          "base_uri": "https://localhost:8080/",
          "height": 238
        },
        "id": "OFgpbcbkm9dD",
        "outputId": "465dbaef-b8c6-455f-e54b-223a7bbb18ae"
      },
      "source": [
        "as.data.frame(table(train$Target))"
      ],
      "execution_count": 58,
      "outputs": [
        {
          "output_type": "display_data",
          "data": {
            "text/plain": [
              "  Var1 Freq\n",
              "1 1     144\n",
              "2 2     353\n",
              "3 3     290\n",
              "4 4    2283"
            ],
            "text/latex": "A data.frame: 4 × 2\n\\begin{tabular}{ll}\n Var1 & Freq\\\\\n <fct> & <int>\\\\\n\\hline\n\t 1 &  144\\\\\n\t 2 &  353\\\\\n\t 3 &  290\\\\\n\t 4 & 2283\\\\\n\\end{tabular}\n",
            "text/markdown": "\nA data.frame: 4 × 2\n\n| Var1 &lt;fct&gt; | Freq &lt;int&gt; |\n|---|---|\n| 1 |  144 |\n| 2 |  353 |\n| 3 |  290 |\n| 4 | 2283 |\n\n",
            "text/html": [
              "<table class=\"dataframe\">\n",
              "<caption>A data.frame: 4 × 2</caption>\n",
              "<thead>\n",
              "\t<tr><th scope=col>Var1</th><th scope=col>Freq</th></tr>\n",
              "\t<tr><th scope=col>&lt;fct&gt;</th><th scope=col>&lt;int&gt;</th></tr>\n",
              "</thead>\n",
              "<tbody>\n",
              "\t<tr><td>1</td><td> 144</td></tr>\n",
              "\t<tr><td>2</td><td> 353</td></tr>\n",
              "\t<tr><td>3</td><td> 290</td></tr>\n",
              "\t<tr><td>4</td><td>2283</td></tr>\n",
              "</tbody>\n",
              "</table>\n"
            ]
          },
          "metadata": {}
        }
      ]
    },
    {
      "cell_type": "markdown",
      "metadata": {
        "id": "yCj2Avv_YLYX"
      },
      "source": [
        "Undersampling would decrease the proportion of your majority class until the number is similar to the minority class. \n",
        "\n",
        "At the same time, Oversampling would resample the minority class proportion following the majority class proportion.\n"
      ]
    },
    {
      "cell_type": "code",
      "metadata": {
        "id": "XBeBPyUZrbX1"
      },
      "source": [
        "balanced_train <- SMOTE(Target ~ ., train1, perc.over = 2000, perc.under=140)"
      ],
      "execution_count": 96,
      "outputs": []
    },
    {
      "cell_type": "code",
      "metadata": {
        "colab": {
          "base_uri": "https://localhost:8080/",
          "height": 238
        },
        "id": "xyn8AxNd2VGG",
        "outputId": "4fd8cb19-eba8-465d-c8c9-a1c056e76031"
      },
      "source": [
        "as.data.frame(table(balanced_train$Target))"
      ],
      "execution_count": 93,
      "outputs": [
        {
          "output_type": "display_data",
          "data": {
            "text/plain": [
              "  Var1 Freq\n",
              "1 1    3024\n",
              "2 2     497\n",
              "3 3     402\n",
              "4 4    3132"
            ],
            "text/latex": "A data.frame: 4 × 2\n\\begin{tabular}{ll}\n Var1 & Freq\\\\\n <fct> & <int>\\\\\n\\hline\n\t 1 & 3024\\\\\n\t 2 &  497\\\\\n\t 3 &  402\\\\\n\t 4 & 3132\\\\\n\\end{tabular}\n",
            "text/markdown": "\nA data.frame: 4 × 2\n\n| Var1 &lt;fct&gt; | Freq &lt;int&gt; |\n|---|---|\n| 1 | 3024 |\n| 2 |  497 |\n| 3 |  402 |\n| 4 | 3132 |\n\n",
            "text/html": [
              "<table class=\"dataframe\">\n",
              "<caption>A data.frame: 4 × 2</caption>\n",
              "<thead>\n",
              "\t<tr><th scope=col>Var1</th><th scope=col>Freq</th></tr>\n",
              "\t<tr><th scope=col>&lt;fct&gt;</th><th scope=col>&lt;int&gt;</th></tr>\n",
              "</thead>\n",
              "<tbody>\n",
              "\t<tr><td>1</td><td>3024</td></tr>\n",
              "\t<tr><td>2</td><td> 497</td></tr>\n",
              "\t<tr><td>3</td><td> 402</td></tr>\n",
              "\t<tr><td>4</td><td>3132</td></tr>\n",
              "</tbody>\n",
              "</table>\n"
            ]
          },
          "metadata": {}
        }
      ]
    },
    {
      "cell_type": "code",
      "metadata": {
        "id": "ugLDuqF_YbMZ"
      },
      "source": [
        "balanced_train1 <- SMOTE(Target ~., balanced_train, perc.over = 1000, perc.under = 200)"
      ],
      "execution_count": 97,
      "outputs": []
    },
    {
      "cell_type": "code",
      "metadata": {
        "colab": {
          "base_uri": "https://localhost:8080/",
          "height": 238
        },
        "id": "ixvELiO4denP",
        "outputId": "57c2496a-69fb-43e5-c72a-f0073d2f95a1"
      },
      "source": [
        "as.data.frame(table(balanced_train1$Target))"
      ],
      "execution_count": 98,
      "outputs": [
        {
          "output_type": "display_data",
          "data": {
            "text/plain": [
              "  Var1 Freq\n",
              "1 1    3805\n",
              "2 2     598\n",
              "3 3    4532\n",
              "4 4    3831"
            ],
            "text/latex": "A data.frame: 4 × 2\n\\begin{tabular}{ll}\n Var1 & Freq\\\\\n <fct> & <int>\\\\\n\\hline\n\t 1 & 3805\\\\\n\t 2 &  598\\\\\n\t 3 & 4532\\\\\n\t 4 & 3831\\\\\n\\end{tabular}\n",
            "text/markdown": "\nA data.frame: 4 × 2\n\n| Var1 &lt;fct&gt; | Freq &lt;int&gt; |\n|---|---|\n| 1 | 3805 |\n| 2 |  598 |\n| 3 | 4532 |\n| 4 | 3831 |\n\n",
            "text/html": [
              "<table class=\"dataframe\">\n",
              "<caption>A data.frame: 4 × 2</caption>\n",
              "<thead>\n",
              "\t<tr><th scope=col>Var1</th><th scope=col>Freq</th></tr>\n",
              "\t<tr><th scope=col>&lt;fct&gt;</th><th scope=col>&lt;int&gt;</th></tr>\n",
              "</thead>\n",
              "<tbody>\n",
              "\t<tr><td>1</td><td>3805</td></tr>\n",
              "\t<tr><td>2</td><td> 598</td></tr>\n",
              "\t<tr><td>3</td><td>4532</td></tr>\n",
              "\t<tr><td>4</td><td>3831</td></tr>\n",
              "</tbody>\n",
              "</table>\n"
            ]
          },
          "metadata": {}
        }
      ]
    },
    {
      "cell_type": "code",
      "metadata": {
        "id": "Qxu33suodief"
      },
      "source": [
        "balanced_train2 <- SMOTE(Target ~., balanced_train1, perc.over = 400, perc.under = 350)"
      ],
      "execution_count": 116,
      "outputs": []
    },
    {
      "cell_type": "code",
      "metadata": {
        "colab": {
          "base_uri": "https://localhost:8080/",
          "height": 238
        },
        "id": "s81KC4zLdmNZ",
        "outputId": "7a882974-3a2d-4d30-c8d9-005fa1a1a4f8"
      },
      "source": [
        "as.data.frame(table(balanced_train2$Target))"
      ],
      "execution_count": 117,
      "outputs": [
        {
          "output_type": "display_data",
          "data": {
            "text/plain": [
              "  Var1 Freq\n",
              "1 1    2601\n",
              "2 2    2990\n",
              "3 3    3096\n",
              "4 4    2671"
            ],
            "text/latex": "A data.frame: 4 × 2\n\\begin{tabular}{ll}\n Var1 & Freq\\\\\n <fct> & <int>\\\\\n\\hline\n\t 1 & 2601\\\\\n\t 2 & 2990\\\\\n\t 3 & 3096\\\\\n\t 4 & 2671\\\\\n\\end{tabular}\n",
            "text/markdown": "\nA data.frame: 4 × 2\n\n| Var1 &lt;fct&gt; | Freq &lt;int&gt; |\n|---|---|\n| 1 | 2601 |\n| 2 | 2990 |\n| 3 | 3096 |\n| 4 | 2671 |\n\n",
            "text/html": [
              "<table class=\"dataframe\">\n",
              "<caption>A data.frame: 4 × 2</caption>\n",
              "<thead>\n",
              "\t<tr><th scope=col>Var1</th><th scope=col>Freq</th></tr>\n",
              "\t<tr><th scope=col>&lt;fct&gt;</th><th scope=col>&lt;int&gt;</th></tr>\n",
              "</thead>\n",
              "<tbody>\n",
              "\t<tr><td>1</td><td>2601</td></tr>\n",
              "\t<tr><td>2</td><td>2990</td></tr>\n",
              "\t<tr><td>3</td><td>3096</td></tr>\n",
              "\t<tr><td>4</td><td>2671</td></tr>\n",
              "</tbody>\n",
              "</table>\n"
            ]
          },
          "metadata": {}
        }
      ]
    },
    {
      "cell_type": "markdown",
      "metadata": {
        "id": "iCkBM6aXKzID"
      },
      "source": [
        "## **Feature Importance (Permutation Based Variable Importance)**"
      ]
    },
    {
      "cell_type": "code",
      "metadata": {
        "colab": {
          "base_uri": "https://localhost:8080/"
        },
        "id": "nCxCMFf1iWM7",
        "outputId": "096215dc-ff4d-4f50-89d1-7d20ad610787"
      },
      "source": [
        "install.packages('DALEX')"
      ],
      "execution_count": 119,
      "outputs": [
        {
          "output_type": "stream",
          "name": "stderr",
          "text": [
            "Installing package into ‘/usr/local/lib/R/site-library’\n",
            "(as ‘lib’ is unspecified)\n",
            "\n",
            "also installing the dependencies ‘gridExtra’, ‘iBreakDown’, ‘ingredients’\n",
            "\n",
            "\n"
          ]
        }
      ]
    },
    {
      "cell_type": "code",
      "metadata": {
        "id": "2XYFZvmMhYHn"
      },
      "source": [
        "library('DALEX')\n",
        "library('randomForest')"
      ],
      "execution_count": 153,
      "outputs": []
    },
    {
      "cell_type": "code",
      "metadata": {
        "colab": {
          "base_uri": "https://localhost:8080/",
          "height": 34
        },
        "id": "aFe7ZjSWjTZB",
        "outputId": "42a76fe0-aab6-45c8-db4e-bbed6bdfb902"
      },
      "source": [
        "dim(balanced_train2)"
      ],
      "execution_count": 123,
      "outputs": [
        {
          "output_type": "display_data",
          "data": {
            "text/plain": [
              "[1] 11362   141"
            ],
            "text/latex": "\\begin{enumerate*}\n\\item 11362\n\\item 141\n\\end{enumerate*}\n",
            "text/markdown": "1. 11362\n2. 141\n\n\n",
            "text/html": [
              "<style>\n",
              ".list-inline {list-style: none; margin:0; padding: 0}\n",
              ".list-inline>li {display: inline-block}\n",
              ".list-inline>li:not(:last-child)::after {content: \"\\00b7\"; padding: 0 .5ex}\n",
              "</style>\n",
              "<ol class=list-inline><li>11362</li><li>141</li></ol>\n"
            ]
          },
          "metadata": {}
        }
      ]
    },
    {
      "cell_type": "code",
      "metadata": {
        "id": "ovDrGTrykvrv"
      },
      "source": [
        "library('caTools')"
      ],
      "execution_count": 125,
      "outputs": []
    },
    {
      "cell_type": "code",
      "metadata": {
        "id": "PoPMjSbonmrt"
      },
      "source": [
        "balanced_train2$Target <- as.numeric(balanced_train2$Target)"
      ],
      "execution_count": 137,
      "outputs": []
    },
    {
      "cell_type": "code",
      "metadata": {
        "id": "3ml89wWSkNzJ"
      },
      "source": [
        "sample <- sample.split(balanced_train2$Target, SplitRatio = .75)\n",
        "train_data <- subset(balanced_train2, sample==TRUE)\n",
        "test_data <- subset(balanced_train2, sample==FALSE)"
      ],
      "execution_count": 138,
      "outputs": []
    },
    {
      "cell_type": "code",
      "metadata": {
        "colab": {
          "base_uri": "https://localhost:8080/",
          "height": 34
        },
        "id": "0Iqhtzksk2KE",
        "outputId": "eb7a6aeb-572d-4bf0-cd18-b0fc607b2c9f"
      },
      "source": [
        "dim(train_data)"
      ],
      "execution_count": 139,
      "outputs": [
        {
          "output_type": "display_data",
          "data": {
            "text/plain": [
              "[1] 8518  141"
            ],
            "text/latex": "\\begin{enumerate*}\n\\item 8518\n\\item 141\n\\end{enumerate*}\n",
            "text/markdown": "1. 8518\n2. 141\n\n\n",
            "text/html": [
              "<style>\n",
              ".list-inline {list-style: none; margin:0; padding: 0}\n",
              ".list-inline>li {display: inline-block}\n",
              ".list-inline>li:not(:last-child)::after {content: \"\\00b7\"; padding: 0 .5ex}\n",
              "</style>\n",
              "<ol class=list-inline><li>8518</li><li>141</li></ol>\n"
            ]
          },
          "metadata": {}
        }
      ]
    },
    {
      "cell_type": "code",
      "metadata": {
        "colab": {
          "base_uri": "https://localhost:8080/",
          "height": 34
        },
        "id": "wcb_QLHvk4Ut",
        "outputId": "ce3955aa-3617-4927-ff0b-1419da2338ca"
      },
      "source": [
        "dim(test_data)"
      ],
      "execution_count": 140,
      "outputs": [
        {
          "output_type": "display_data",
          "data": {
            "text/plain": [
              "[1] 2844  141"
            ],
            "text/latex": "\\begin{enumerate*}\n\\item 2844\n\\item 141\n\\end{enumerate*}\n",
            "text/markdown": "1. 2844\n2. 141\n\n\n",
            "text/html": [
              "<style>\n",
              ".list-inline {list-style: none; margin:0; padding: 0}\n",
              ".list-inline>li {display: inline-block}\n",
              ".list-inline>li:not(:last-child)::after {content: \"\\00b7\"; padding: 0 .5ex}\n",
              "</style>\n",
              "<ol class=list-inline><li>2844</li><li>141</li></ol>\n"
            ]
          },
          "metadata": {}
        }
      ]
    },
    {
      "cell_type": "code",
      "metadata": {
        "colab": {
          "base_uri": "https://localhost:8080/"
        },
        "id": "JxPL1sQhvB1g",
        "outputId": "d7d905be-2cf7-494b-d2e0-49d08435c38d"
      },
      "source": [
        "my_rf <- randomForest(Target ~., data = train_data)"
      ],
      "execution_count": 180,
      "outputs": [
        {
          "output_type": "stream",
          "name": "stderr",
          "text": [
            "Warning message in randomForest.default(m, y, ...):\n",
            "“The response has five or fewer unique values.  Are you sure you want to do regression?”\n"
          ]
        }
      ]
    },
    {
      "cell_type": "code",
      "metadata": {
        "colab": {
          "base_uri": "https://localhost:8080/"
        },
        "id": "-k6TvV0jlbEF",
        "outputId": "eacd41cd-56bb-454b-c104-726ccd466161"
      },
      "source": [
        "explain_rf <- DALEX::explain(model = my_rf, \n",
        "                               data = test_data[,0:140], \n",
        "                               y = test_data$Target, \n",
        "                               label = \"Random Forest\")"
      ],
      "execution_count": 181,
      "outputs": [
        {
          "output_type": "stream",
          "name": "stdout",
          "text": [
            "Preparation of a new explainer is initiated\n",
            "  -> model label       :  Random Forest \n",
            "  -> data              :  2844  rows  140  cols \n",
            "  -> target variable   :  2844  values \n",
            "  -> predict function  :  yhat.randomForest  will be used ( \u001b[33m default \u001b[39m )\n",
            "  -> predicted values  :  No value for predict function target column. ( \u001b[33m default \u001b[39m )\n",
            "  -> model_info        :  package randomForest , ver. 4.6.14 , task regression ( \u001b[33m default \u001b[39m ) \n",
            "  -> predicted values  :  numerical, min =  NA , mean =  NA , max =  NA  \n",
            "  -> residual function :  difference between y and yhat ( \u001b[33m default \u001b[39m )\n",
            "  -> residuals         :  numerical, min =  NA , mean =  NA , max =  NA  \n",
            " \u001b[32m A new explainer has been created! \u001b[39m \n"
          ]
        }
      ]
    },
    {
      "cell_type": "code",
      "metadata": {
        "colab": {
          "base_uri": "https://localhost:8080/",
          "height": 34
        },
        "id": "hQbb101w36Sv",
        "outputId": "207ab6e2-991e-43c3-9f9a-24b38654ed61"
      },
      "source": [
        "loss_root_mean_square(observed = test_data$Target, predicted = predict(my_rf, test_data))"
      ],
      "execution_count": 182,
      "outputs": [
        {
          "output_type": "display_data",
          "data": {
            "text/plain": [
              "[1] 0.191122"
            ],
            "text/latex": "0.191121976340701",
            "text/markdown": "0.191121976340701",
            "text/html": [
              "0.191121976340701"
            ]
          },
          "metadata": {}
        }
      ]
    },
    {
      "cell_type": "code",
      "metadata": {
        "colab": {
          "base_uri": "https://localhost:8080/",
          "height": 1000
        },
        "id": "dXVn8lG44KwG",
        "outputId": "b929f5da-a9b3-401c-ce29-42b5cc0a5ad3"
      },
      "source": [
        "set.seed(123)\n",
        "(vip.50 <- model_parts(explainer = explain_rf, \n",
        "                      loss_function = loss_root_mean_square,\n",
        "                      B = 50,\n",
        "                      type = \"difference\"))"
      ],
      "execution_count": 183,
      "outputs": [
        {
          "output_type": "display_data",
          "data": {
            "text/plain": [
              "     variable        permutation dropout_loss  label        \n",
              "1    _full_model_    0            0.000000e+00 Random Forest\n",
              "2    lugar2          0           -4.439253e-04 Random Forest\n",
              "3    area1           0           -2.281068e-04 Random Forest\n",
              "4    lugar1          0           -1.433321e-04 Random Forest\n",
              "5    paredfibras     0            0.000000e+00 Random Forest\n",
              "6    paredother      0            0.000000e+00 Random Forest\n",
              "7    techootro       0            0.000000e+00 Random Forest\n",
              "8    abastaguano     0            0.000000e+00 Random Forest\n",
              "9    planpri         0            0.000000e+00 Random Forest\n",
              "10   noelec          0            0.000000e+00 Random Forest\n",
              "11   elimbasu1       0            0.000000e+00 Random Forest\n",
              "12   elimbasu2       0            0.000000e+00 Random Forest\n",
              "13   elimbasu3       0            0.000000e+00 Random Forest\n",
              "14   elimbasu4       0            0.000000e+00 Random Forest\n",
              "15   elimbasu5       0            0.000000e+00 Random Forest\n",
              "16   elimbasu6       0            0.000000e+00 Random Forest\n",
              "17   instlevel9      0            4.348874e-07 Random Forest\n",
              "18   pisonatur       0            4.386145e-07 Random Forest\n",
              "19   parentesco8     0            7.218911e-07 Random Forest\n",
              "20   coopele         0            1.202861e-06 Random Forest\n",
              "21   pisoother       0            1.469847e-06 Random Forest\n",
              "22   public          0            2.677118e-06 Random Forest\n",
              "23   energcocinar1   0            3.079599e-06 Random Forest\n",
              "24   sanitario1      0            3.152918e-06 Random Forest\n",
              "25   techocane       0            4.657502e-06 Random Forest\n",
              "26   parentesco12    0            6.823603e-06 Random Forest\n",
              "27   parentesco5     0            8.245720e-06 Random Forest\n",
              "28   parentesco9     0            1.161126e-05 Random Forest\n",
              "29   parentesco7     0            2.989174e-05 Random Forest\n",
              "30   abastaguafuera  0            5.283443e-05 Random Forest\n",
              "31   lugar3          0            5.418028e-05 Random Forest\n",
              "32   pisonotiene     0            6.016380e-05 Random Forest\n",
              "33   parentesco11    0            6.476145e-05 Random Forest\n",
              "34   abastaguadentro 0            8.073219e-05 Random Forest\n",
              "35   lugar6          0            8.656660e-05 Random Forest\n",
              "36   lugar4          0            8.985713e-05 Random Forest\n",
              "37   v14a            0            9.645497e-05 Random Forest\n",
              "38   area2           0            1.094585e-04 Random Forest\n",
              "39   sanitario6      0            1.222373e-04 Random Forest\n",
              "40   lugar5          0            1.281600e-04 Random Forest\n",
              "41   instlevel6      0            1.428039e-04 Random Forest\n",
              "42   estadocivil2    0            1.554011e-04 Random Forest\n",
              "43   estadocivil4    0            1.641141e-04 Random Forest\n",
              "44   parentesco1     0            2.022909e-04 Random Forest\n",
              "45   hacapo          0            2.226076e-04 Random Forest\n",
              "46   parentesco10    0            2.234343e-04 Random Forest\n",
              "47   tipovivi4       0            2.405607e-04 Random Forest\n",
              "48   instlevel5      0            2.461883e-04 Random Forest\n",
              "49   estadocivil6    0            3.317067e-04 Random Forest\n",
              "50   instlevel7      0            3.503618e-04 Random Forest\n",
              "51   paredzinc       0            3.818990e-04 Random Forest\n",
              "52   estadocivil5    0            6.822242e-04 Random Forest\n",
              "53   instlevel8      0            7.155753e-04 Random Forest\n",
              "54   v18q1           0            7.200654e-04 Random Forest\n",
              "55   parentesco6     0            7.348569e-04 Random Forest\n",
              "56   mobilephone     0            7.919457e-04 Random Forest\n",
              "57   techoentrepiso  0            8.128924e-04 Random Forest\n",
              "58   age             0            8.641864e-04 Random Forest\n",
              "59   instlevel3      0            8.963198e-04 Random Forest\n",
              "60   pareddes        0            9.046984e-04 Random Forest\n",
              "61   computer        0            9.281724e-04 Random Forest\n",
              "62   techozinc       0            1.046256e-03 Random Forest\n",
              "63   SQBage          0            1.072112e-03 Random Forest\n",
              "64   refrig          0            1.248933e-03 Random Forest\n",
              "65   agesq           0            1.251432e-03 Random Forest\n",
              "66   energcocinar4   0            1.260014e-03 Random Forest\n",
              "67   parentesco2     0            1.287562e-03 Random Forest\n",
              "68   sanitario5      0            1.627392e-03 Random Forest\n",
              "69   hogar_total     0            1.741755e-03 Random Forest\n",
              "70   estadocivil3    0            1.746808e-03 Random Forest\n",
              "71   female          0            1.766362e-03 Random Forest\n",
              "72   r4t3            0            1.786976e-03 Random Forest\n",
              "73   pisomadera      0            1.930017e-03 Random Forest\n",
              "74   epared1         0            1.940602e-03 Random Forest\n",
              "75   tamhog          0            2.051982e-03 Random Forest\n",
              "76   hhsize          0            2.096682e-03 Random Forest\n",
              "77   SQBescolari     0            2.148252e-03 Random Forest\n",
              "78   estadocivil7    0            2.151742e-03 Random Forest\n",
              "79   estadocivil1    0            2.190557e-03 Random Forest\n",
              "80   paredpreb       0            2.461449e-03 Random Forest\n",
              "81   male            0            2.618227e-03 Random Forest\n",
              "82   tipovivi2       0            2.834395e-03 Random Forest\n",
              "83   instlevel1      0            2.997861e-03 Random Forest\n",
              "84   instlevel4      0            3.090148e-03 Random Forest\n",
              "85   SQBhogar_total  0            3.090554e-03 Random Forest\n",
              "86   parentesco4     0            3.235906e-03 Random Forest\n",
              "87   escolari        0            3.463900e-03 Random Forest\n",
              "88   parentesco3     0            3.532126e-03 Random Forest\n",
              "89   instlevel2      0            3.585325e-03 Random Forest\n",
              "90   tamviv          0            3.659880e-03 Random Forest\n",
              "91   r4h3            0            3.869098e-03 Random Forest\n",
              "92   r4m2            0            4.742521e-03 Random Forest\n",
              "93   hacdor          0            4.753530e-03 Random Forest\n",
              "94   paredmad        0            4.774919e-03 Random Forest\n",
              "95   hogar_mayor     0            4.795554e-03 Random Forest\n",
              "96   eviv2           0            5.741869e-03 Random Forest\n",
              "97   sanitario2      0            6.058817e-03 Random Forest\n",
              "98   etecho2         0            6.301266e-03 Random Forest\n",
              "99   overcrowding    0            6.819257e-03 Random Forest\n",
              "100  r4m3            0            7.015760e-03 Random Forest\n",
              "⋮    ⋮               ⋮           ⋮             ⋮            \n",
              "7143 abastaguafuera  50          0.001845486   Random Forest\n",
              "7144 abastaguano     50          0.001812739   Random Forest\n",
              "7145 public          50          0.001806839   Random Forest\n",
              "7146 planpri         50          0.001812739   Random Forest\n",
              "7147 noelec          50          0.001812739   Random Forest\n",
              "7148 coopele         50          0.001805849   Random Forest\n",
              "7149 sanitario1      50          0.001812739   Random Forest\n",
              "7150 sanitario2      50          0.007773929   Random Forest\n",
              "7151 sanitario3      50          0.011652729   Random Forest\n",
              "7152 sanitario5      50          0.002969483   Random Forest\n",
              "7153 sanitario6      50          0.001895020   Random Forest\n",
              "7154 energcocinar1   50          0.001816076   Random Forest\n",
              "7155 energcocinar2   50          0.056152356   Random Forest\n",
              "7156 energcocinar3   50          0.030314414   Random Forest\n",
              "7157 energcocinar4   50          0.002940311   Random Forest\n",
              "7158 elimbasu1       50          0.001812739   Random Forest\n",
              "7159 elimbasu2       50          0.001812739   Random Forest\n",
              "7160 elimbasu3       50          0.001812739   Random Forest\n",
              "7161 elimbasu4       50          0.001812739   Random Forest\n",
              "7162 elimbasu5       50          0.001812739   Random Forest\n",
              "7163 elimbasu6       50          0.001812739   Random Forest\n",
              "7164 epared1         50          0.003741534   Random Forest\n",
              "7165 epared2         50          0.077615704   Random Forest\n",
              "7166 epared3         50          0.046257268   Random Forest\n",
              "7167 etecho1         50          0.101397746   Random Forest\n",
              "7168 etecho2         50          0.007723267   Random Forest\n",
              "7169 etecho3         50          0.078429838   Random Forest\n",
              "7170 eviv1           50          0.044300462   Random Forest\n",
              "7171 eviv2           50          0.006406969   Random Forest\n",
              "7172 eviv3           50          0.086085832   Random Forest\n",
              "7173 dis             50          0.057355642   Random Forest\n",
              "7174 male            50          0.004003596   Random Forest\n",
              "7175 female          50          0.004323138   Random Forest\n",
              "7176 estadocivil1    50          0.004175991   Random Forest\n",
              "7177 estadocivil2    50          0.002060382   Random Forest\n",
              "7178 estadocivil3    50          0.003252031   Random Forest\n",
              "7179 estadocivil4    50          0.002049253   Random Forest\n",
              "7180 estadocivil5    50          0.002952273   Random Forest\n",
              "7181 estadocivil6    50          0.001867853   Random Forest\n",
              "7182 estadocivil7    50          0.003529124   Random Forest\n",
              "7183 parentesco1     50          0.001132141   Random Forest\n",
              "7184 parentesco2     50          0.002848851   Random Forest\n",
              "7185 parentesco3     50          0.003764791   Random Forest\n",
              "7186 parentesco4     50          0.005689876   Random Forest\n",
              "7187 parentesco5     50          0.001817114   Random Forest\n",
              "7188 parentesco6     50          0.002246196   Random Forest\n",
              "7189 parentesco7     50          0.001822795   Random Forest\n",
              "7190 parentesco8     50          0.001812800   Random Forest\n",
              "7191 parentesco9     50          0.001835823   Random Forest\n",
              "7192 parentesco10    50          0.002439477   Random Forest\n",
              "7193 parentesco11    50          0.001869858   Random Forest\n",
              "7194 parentesco12    50          0.001828167   Random Forest\n",
              "7195 idhogar         50          0.035014992   Random Forest\n",
              "7196 hogar_nin       50          0.013434951   Random Forest\n",
              "7197 hogar_adul      50          0.009785234   Random Forest\n",
              "7198 hogar_mayor     50          0.005203979   Random Forest\n",
              "7199 hogar_total     50          0.003589049   Random Forest\n",
              "7200 dependency      50          0.276609662   Random Forest\n",
              "7201 edjefe          50          0.012428336   Random Forest\n",
              "7202 edjefa          50          0.014260534   Random Forest\n",
              "7203 meaneduc        50          0.051823894   Random Forest\n",
              "7204 instlevel1      50          0.004817831   Random Forest\n",
              "7205 instlevel2      50          0.005818054   Random Forest\n",
              "7206 instlevel3      50          0.002877808   Random Forest\n",
              "7207 instlevel4      50          0.005191772   Random Forest\n",
              "7208 instlevel5      50          0.002031815   Random Forest\n",
              "7209 instlevel6      50          0.002015285   Random Forest\n",
              "7210 instlevel7      50          0.002847115   Random Forest\n",
              "7211 instlevel8      50          0.002605895   Random Forest\n",
              "7212 instlevel9      50          0.001813077   Random Forest\n",
              "7213 bedrooms        50          0.009955561   Random Forest\n",
              "7214 overcrowding    50          0.009734878   Random Forest\n",
              "7215 tipovivi1       50          0.014452586   Random Forest\n",
              "7216 tipovivi2       50          0.004859470   Random Forest\n",
              "7217 tipovivi3       50          0.022873273   Random Forest\n",
              "7218 tipovivi4       50          0.002072719   Random Forest\n",
              "7219 tipovivi5       50          0.028794890   Random Forest\n",
              "7220 computer        50          0.002454573   Random Forest\n",
              "7221 television      50          0.021482374   Random Forest\n",
              "7222 mobilephone     50          0.002531634   Random Forest\n",
              "7223 qmobilephone    50          0.016516633   Random Forest\n",
              "7224 lugar1          50          0.001763089   Random Forest\n",
              "7225 lugar2          50          0.000696850   Random Forest\n",
              "7226 lugar3          50          0.001874286   Random Forest\n",
              "7227 lugar4          50          0.002010655   Random Forest\n",
              "7228 lugar5          50          0.001985133   Random Forest\n",
              "7229 lugar6          50          0.002009825   Random Forest\n",
              "7230 area1           50          0.002010400   Random Forest\n",
              "7231 area2           50          0.002010345   Random Forest\n",
              "7232 age             50          0.002329392   Random Forest\n",
              "7233 SQBescolari     50          0.003746288   Random Forest\n",
              "7234 SQBage          50          0.002142881   Random Forest\n",
              "7235 SQBhogar_total  50          0.004910859   Random Forest\n",
              "7236 SQBedjefe       50          0.013357324   Random Forest\n",
              "7237 SQBhogar_nin    50          0.027276214   Random Forest\n",
              "7238 SQBovercrowding 50          0.014771443   Random Forest\n",
              "7239 SQBdependency   50          0.083223494   Random Forest\n",
              "7240 SQBmeaned       50          0.035111246   Random Forest\n",
              "7241 agesq           50          0.002245380   Random Forest\n",
              "7242 _baseline_      50          1.299674622   Random Forest"
            ],
            "text/latex": "A model\\_parts: 7242 × 4\n\\begin{tabular}{llll}\n variable & permutation & dropout\\_loss & label\\\\\n <chr> & <dbl> & <dbl> & <chr>\\\\\n\\hline\n\t \\_full\\_model\\_    & 0 &  0.000000e+00 & Random Forest\\\\\n\t lugar2          & 0 & -4.439253e-04 & Random Forest\\\\\n\t area1           & 0 & -2.281068e-04 & Random Forest\\\\\n\t lugar1          & 0 & -1.433321e-04 & Random Forest\\\\\n\t paredfibras     & 0 &  0.000000e+00 & Random Forest\\\\\n\t paredother      & 0 &  0.000000e+00 & Random Forest\\\\\n\t techootro       & 0 &  0.000000e+00 & Random Forest\\\\\n\t abastaguano     & 0 &  0.000000e+00 & Random Forest\\\\\n\t planpri         & 0 &  0.000000e+00 & Random Forest\\\\\n\t noelec          & 0 &  0.000000e+00 & Random Forest\\\\\n\t elimbasu1       & 0 &  0.000000e+00 & Random Forest\\\\\n\t elimbasu2       & 0 &  0.000000e+00 & Random Forest\\\\\n\t elimbasu3       & 0 &  0.000000e+00 & Random Forest\\\\\n\t elimbasu4       & 0 &  0.000000e+00 & Random Forest\\\\\n\t elimbasu5       & 0 &  0.000000e+00 & Random Forest\\\\\n\t elimbasu6       & 0 &  0.000000e+00 & Random Forest\\\\\n\t instlevel9      & 0 &  4.348874e-07 & Random Forest\\\\\n\t pisonatur       & 0 &  4.386145e-07 & Random Forest\\\\\n\t parentesco8     & 0 &  7.218911e-07 & Random Forest\\\\\n\t coopele         & 0 &  1.202861e-06 & Random Forest\\\\\n\t pisoother       & 0 &  1.469847e-06 & Random Forest\\\\\n\t public          & 0 &  2.677118e-06 & Random Forest\\\\\n\t energcocinar1   & 0 &  3.079599e-06 & Random Forest\\\\\n\t sanitario1      & 0 &  3.152918e-06 & Random Forest\\\\\n\t techocane       & 0 &  4.657502e-06 & Random Forest\\\\\n\t parentesco12    & 0 &  6.823603e-06 & Random Forest\\\\\n\t parentesco5     & 0 &  8.245720e-06 & Random Forest\\\\\n\t parentesco9     & 0 &  1.161126e-05 & Random Forest\\\\\n\t parentesco7     & 0 &  2.989174e-05 & Random Forest\\\\\n\t abastaguafuera  & 0 &  5.283443e-05 & Random Forest\\\\\n\t lugar3          & 0 &  5.418028e-05 & Random Forest\\\\\n\t pisonotiene     & 0 &  6.016380e-05 & Random Forest\\\\\n\t parentesco11    & 0 &  6.476145e-05 & Random Forest\\\\\n\t abastaguadentro & 0 &  8.073219e-05 & Random Forest\\\\\n\t lugar6          & 0 &  8.656660e-05 & Random Forest\\\\\n\t lugar4          & 0 &  8.985713e-05 & Random Forest\\\\\n\t v14a            & 0 &  9.645497e-05 & Random Forest\\\\\n\t area2           & 0 &  1.094585e-04 & Random Forest\\\\\n\t sanitario6      & 0 &  1.222373e-04 & Random Forest\\\\\n\t lugar5          & 0 &  1.281600e-04 & Random Forest\\\\\n\t instlevel6      & 0 &  1.428039e-04 & Random Forest\\\\\n\t estadocivil2    & 0 &  1.554011e-04 & Random Forest\\\\\n\t estadocivil4    & 0 &  1.641141e-04 & Random Forest\\\\\n\t parentesco1     & 0 &  2.022909e-04 & Random Forest\\\\\n\t hacapo          & 0 &  2.226076e-04 & Random Forest\\\\\n\t parentesco10    & 0 &  2.234343e-04 & Random Forest\\\\\n\t tipovivi4       & 0 &  2.405607e-04 & Random Forest\\\\\n\t instlevel5      & 0 &  2.461883e-04 & Random Forest\\\\\n\t estadocivil6    & 0 &  3.317067e-04 & Random Forest\\\\\n\t instlevel7      & 0 &  3.503618e-04 & Random Forest\\\\\n\t paredzinc       & 0 &  3.818990e-04 & Random Forest\\\\\n\t estadocivil5    & 0 &  6.822242e-04 & Random Forest\\\\\n\t instlevel8      & 0 &  7.155753e-04 & Random Forest\\\\\n\t v18q1           & 0 &  7.200654e-04 & Random Forest\\\\\n\t parentesco6     & 0 &  7.348569e-04 & Random Forest\\\\\n\t mobilephone     & 0 &  7.919457e-04 & Random Forest\\\\\n\t techoentrepiso  & 0 &  8.128924e-04 & Random Forest\\\\\n\t age             & 0 &  8.641864e-04 & Random Forest\\\\\n\t instlevel3      & 0 &  8.963198e-04 & Random Forest\\\\\n\t pareddes        & 0 &  9.046984e-04 & Random Forest\\\\\n\t computer        & 0 &  9.281724e-04 & Random Forest\\\\\n\t techozinc       & 0 &  1.046256e-03 & Random Forest\\\\\n\t SQBage          & 0 &  1.072112e-03 & Random Forest\\\\\n\t refrig          & 0 &  1.248933e-03 & Random Forest\\\\\n\t agesq           & 0 &  1.251432e-03 & Random Forest\\\\\n\t energcocinar4   & 0 &  1.260014e-03 & Random Forest\\\\\n\t parentesco2     & 0 &  1.287562e-03 & Random Forest\\\\\n\t sanitario5      & 0 &  1.627392e-03 & Random Forest\\\\\n\t hogar\\_total     & 0 &  1.741755e-03 & Random Forest\\\\\n\t estadocivil3    & 0 &  1.746808e-03 & Random Forest\\\\\n\t female          & 0 &  1.766362e-03 & Random Forest\\\\\n\t r4t3            & 0 &  1.786976e-03 & Random Forest\\\\\n\t pisomadera      & 0 &  1.930017e-03 & Random Forest\\\\\n\t epared1         & 0 &  1.940602e-03 & Random Forest\\\\\n\t tamhog          & 0 &  2.051982e-03 & Random Forest\\\\\n\t hhsize          & 0 &  2.096682e-03 & Random Forest\\\\\n\t SQBescolari     & 0 &  2.148252e-03 & Random Forest\\\\\n\t estadocivil7    & 0 &  2.151742e-03 & Random Forest\\\\\n\t estadocivil1    & 0 &  2.190557e-03 & Random Forest\\\\\n\t paredpreb       & 0 &  2.461449e-03 & Random Forest\\\\\n\t male            & 0 &  2.618227e-03 & Random Forest\\\\\n\t tipovivi2       & 0 &  2.834395e-03 & Random Forest\\\\\n\t instlevel1      & 0 &  2.997861e-03 & Random Forest\\\\\n\t instlevel4      & 0 &  3.090148e-03 & Random Forest\\\\\n\t SQBhogar\\_total  & 0 &  3.090554e-03 & Random Forest\\\\\n\t parentesco4     & 0 &  3.235906e-03 & Random Forest\\\\\n\t escolari        & 0 &  3.463900e-03 & Random Forest\\\\\n\t parentesco3     & 0 &  3.532126e-03 & Random Forest\\\\\n\t instlevel2      & 0 &  3.585325e-03 & Random Forest\\\\\n\t tamviv          & 0 &  3.659880e-03 & Random Forest\\\\\n\t r4h3            & 0 &  3.869098e-03 & Random Forest\\\\\n\t r4m2            & 0 &  4.742521e-03 & Random Forest\\\\\n\t hacdor          & 0 &  4.753530e-03 & Random Forest\\\\\n\t paredmad        & 0 &  4.774919e-03 & Random Forest\\\\\n\t hogar\\_mayor     & 0 &  4.795554e-03 & Random Forest\\\\\n\t eviv2           & 0 &  5.741869e-03 & Random Forest\\\\\n\t sanitario2      & 0 &  6.058817e-03 & Random Forest\\\\\n\t etecho2         & 0 &  6.301266e-03 & Random Forest\\\\\n\t overcrowding    & 0 &  6.819257e-03 & Random Forest\\\\\n\t r4m3            & 0 &  7.015760e-03 & Random Forest\\\\\n\t ⋮ & ⋮ & ⋮ & ⋮\\\\\n\t abastaguafuera  & 50 & 0.001845486 & Random Forest\\\\\n\t abastaguano     & 50 & 0.001812739 & Random Forest\\\\\n\t public          & 50 & 0.001806839 & Random Forest\\\\\n\t planpri         & 50 & 0.001812739 & Random Forest\\\\\n\t noelec          & 50 & 0.001812739 & Random Forest\\\\\n\t coopele         & 50 & 0.001805849 & Random Forest\\\\\n\t sanitario1      & 50 & 0.001812739 & Random Forest\\\\\n\t sanitario2      & 50 & 0.007773929 & Random Forest\\\\\n\t sanitario3      & 50 & 0.011652729 & Random Forest\\\\\n\t sanitario5      & 50 & 0.002969483 & Random Forest\\\\\n\t sanitario6      & 50 & 0.001895020 & Random Forest\\\\\n\t energcocinar1   & 50 & 0.001816076 & Random Forest\\\\\n\t energcocinar2   & 50 & 0.056152356 & Random Forest\\\\\n\t energcocinar3   & 50 & 0.030314414 & Random Forest\\\\\n\t energcocinar4   & 50 & 0.002940311 & Random Forest\\\\\n\t elimbasu1       & 50 & 0.001812739 & Random Forest\\\\\n\t elimbasu2       & 50 & 0.001812739 & Random Forest\\\\\n\t elimbasu3       & 50 & 0.001812739 & Random Forest\\\\\n\t elimbasu4       & 50 & 0.001812739 & Random Forest\\\\\n\t elimbasu5       & 50 & 0.001812739 & Random Forest\\\\\n\t elimbasu6       & 50 & 0.001812739 & Random Forest\\\\\n\t epared1         & 50 & 0.003741534 & Random Forest\\\\\n\t epared2         & 50 & 0.077615704 & Random Forest\\\\\n\t epared3         & 50 & 0.046257268 & Random Forest\\\\\n\t etecho1         & 50 & 0.101397746 & Random Forest\\\\\n\t etecho2         & 50 & 0.007723267 & Random Forest\\\\\n\t etecho3         & 50 & 0.078429838 & Random Forest\\\\\n\t eviv1           & 50 & 0.044300462 & Random Forest\\\\\n\t eviv2           & 50 & 0.006406969 & Random Forest\\\\\n\t eviv3           & 50 & 0.086085832 & Random Forest\\\\\n\t dis             & 50 & 0.057355642 & Random Forest\\\\\n\t male            & 50 & 0.004003596 & Random Forest\\\\\n\t female          & 50 & 0.004323138 & Random Forest\\\\\n\t estadocivil1    & 50 & 0.004175991 & Random Forest\\\\\n\t estadocivil2    & 50 & 0.002060382 & Random Forest\\\\\n\t estadocivil3    & 50 & 0.003252031 & Random Forest\\\\\n\t estadocivil4    & 50 & 0.002049253 & Random Forest\\\\\n\t estadocivil5    & 50 & 0.002952273 & Random Forest\\\\\n\t estadocivil6    & 50 & 0.001867853 & Random Forest\\\\\n\t estadocivil7    & 50 & 0.003529124 & Random Forest\\\\\n\t parentesco1     & 50 & 0.001132141 & Random Forest\\\\\n\t parentesco2     & 50 & 0.002848851 & Random Forest\\\\\n\t parentesco3     & 50 & 0.003764791 & Random Forest\\\\\n\t parentesco4     & 50 & 0.005689876 & Random Forest\\\\\n\t parentesco5     & 50 & 0.001817114 & Random Forest\\\\\n\t parentesco6     & 50 & 0.002246196 & Random Forest\\\\\n\t parentesco7     & 50 & 0.001822795 & Random Forest\\\\\n\t parentesco8     & 50 & 0.001812800 & Random Forest\\\\\n\t parentesco9     & 50 & 0.001835823 & Random Forest\\\\\n\t parentesco10    & 50 & 0.002439477 & Random Forest\\\\\n\t parentesco11    & 50 & 0.001869858 & Random Forest\\\\\n\t parentesco12    & 50 & 0.001828167 & Random Forest\\\\\n\t idhogar         & 50 & 0.035014992 & Random Forest\\\\\n\t hogar\\_nin       & 50 & 0.013434951 & Random Forest\\\\\n\t hogar\\_adul      & 50 & 0.009785234 & Random Forest\\\\\n\t hogar\\_mayor     & 50 & 0.005203979 & Random Forest\\\\\n\t hogar\\_total     & 50 & 0.003589049 & Random Forest\\\\\n\t dependency      & 50 & 0.276609662 & Random Forest\\\\\n\t edjefe          & 50 & 0.012428336 & Random Forest\\\\\n\t edjefa          & 50 & 0.014260534 & Random Forest\\\\\n\t meaneduc        & 50 & 0.051823894 & Random Forest\\\\\n\t instlevel1      & 50 & 0.004817831 & Random Forest\\\\\n\t instlevel2      & 50 & 0.005818054 & Random Forest\\\\\n\t instlevel3      & 50 & 0.002877808 & Random Forest\\\\\n\t instlevel4      & 50 & 0.005191772 & Random Forest\\\\\n\t instlevel5      & 50 & 0.002031815 & Random Forest\\\\\n\t instlevel6      & 50 & 0.002015285 & Random Forest\\\\\n\t instlevel7      & 50 & 0.002847115 & Random Forest\\\\\n\t instlevel8      & 50 & 0.002605895 & Random Forest\\\\\n\t instlevel9      & 50 & 0.001813077 & Random Forest\\\\\n\t bedrooms        & 50 & 0.009955561 & Random Forest\\\\\n\t overcrowding    & 50 & 0.009734878 & Random Forest\\\\\n\t tipovivi1       & 50 & 0.014452586 & Random Forest\\\\\n\t tipovivi2       & 50 & 0.004859470 & Random Forest\\\\\n\t tipovivi3       & 50 & 0.022873273 & Random Forest\\\\\n\t tipovivi4       & 50 & 0.002072719 & Random Forest\\\\\n\t tipovivi5       & 50 & 0.028794890 & Random Forest\\\\\n\t computer        & 50 & 0.002454573 & Random Forest\\\\\n\t television      & 50 & 0.021482374 & Random Forest\\\\\n\t mobilephone     & 50 & 0.002531634 & Random Forest\\\\\n\t qmobilephone    & 50 & 0.016516633 & Random Forest\\\\\n\t lugar1          & 50 & 0.001763089 & Random Forest\\\\\n\t lugar2          & 50 & 0.000696850 & Random Forest\\\\\n\t lugar3          & 50 & 0.001874286 & Random Forest\\\\\n\t lugar4          & 50 & 0.002010655 & Random Forest\\\\\n\t lugar5          & 50 & 0.001985133 & Random Forest\\\\\n\t lugar6          & 50 & 0.002009825 & Random Forest\\\\\n\t area1           & 50 & 0.002010400 & Random Forest\\\\\n\t area2           & 50 & 0.002010345 & Random Forest\\\\\n\t age             & 50 & 0.002329392 & Random Forest\\\\\n\t SQBescolari     & 50 & 0.003746288 & Random Forest\\\\\n\t SQBage          & 50 & 0.002142881 & Random Forest\\\\\n\t SQBhogar\\_total  & 50 & 0.004910859 & Random Forest\\\\\n\t SQBedjefe       & 50 & 0.013357324 & Random Forest\\\\\n\t SQBhogar\\_nin    & 50 & 0.027276214 & Random Forest\\\\\n\t SQBovercrowding & 50 & 0.014771443 & Random Forest\\\\\n\t SQBdependency   & 50 & 0.083223494 & Random Forest\\\\\n\t SQBmeaned       & 50 & 0.035111246 & Random Forest\\\\\n\t agesq           & 50 & 0.002245380 & Random Forest\\\\\n\t \\_baseline\\_      & 50 & 1.299674622 & Random Forest\\\\\n\\end{tabular}\n",
            "text/markdown": "\nA model_parts: 7242 × 4\n\n| variable &lt;chr&gt; | permutation &lt;dbl&gt; | dropout_loss &lt;dbl&gt; | label &lt;chr&gt; |\n|---|---|---|---|\n| _full_model_    | 0 |  0.000000e+00 | Random Forest |\n| lugar2          | 0 | -4.439253e-04 | Random Forest |\n| area1           | 0 | -2.281068e-04 | Random Forest |\n| lugar1          | 0 | -1.433321e-04 | Random Forest |\n| paredfibras     | 0 |  0.000000e+00 | Random Forest |\n| paredother      | 0 |  0.000000e+00 | Random Forest |\n| techootro       | 0 |  0.000000e+00 | Random Forest |\n| abastaguano     | 0 |  0.000000e+00 | Random Forest |\n| planpri         | 0 |  0.000000e+00 | Random Forest |\n| noelec          | 0 |  0.000000e+00 | Random Forest |\n| elimbasu1       | 0 |  0.000000e+00 | Random Forest |\n| elimbasu2       | 0 |  0.000000e+00 | Random Forest |\n| elimbasu3       | 0 |  0.000000e+00 | Random Forest |\n| elimbasu4       | 0 |  0.000000e+00 | Random Forest |\n| elimbasu5       | 0 |  0.000000e+00 | Random Forest |\n| elimbasu6       | 0 |  0.000000e+00 | Random Forest |\n| instlevel9      | 0 |  4.348874e-07 | Random Forest |\n| pisonatur       | 0 |  4.386145e-07 | Random Forest |\n| parentesco8     | 0 |  7.218911e-07 | Random Forest |\n| coopele         | 0 |  1.202861e-06 | Random Forest |\n| pisoother       | 0 |  1.469847e-06 | Random Forest |\n| public          | 0 |  2.677118e-06 | Random Forest |\n| energcocinar1   | 0 |  3.079599e-06 | Random Forest |\n| sanitario1      | 0 |  3.152918e-06 | Random Forest |\n| techocane       | 0 |  4.657502e-06 | Random Forest |\n| parentesco12    | 0 |  6.823603e-06 | Random Forest |\n| parentesco5     | 0 |  8.245720e-06 | Random Forest |\n| parentesco9     | 0 |  1.161126e-05 | Random Forest |\n| parentesco7     | 0 |  2.989174e-05 | Random Forest |\n| abastaguafuera  | 0 |  5.283443e-05 | Random Forest |\n| lugar3          | 0 |  5.418028e-05 | Random Forest |\n| pisonotiene     | 0 |  6.016380e-05 | Random Forest |\n| parentesco11    | 0 |  6.476145e-05 | Random Forest |\n| abastaguadentro | 0 |  8.073219e-05 | Random Forest |\n| lugar6          | 0 |  8.656660e-05 | Random Forest |\n| lugar4          | 0 |  8.985713e-05 | Random Forest |\n| v14a            | 0 |  9.645497e-05 | Random Forest |\n| area2           | 0 |  1.094585e-04 | Random Forest |\n| sanitario6      | 0 |  1.222373e-04 | Random Forest |\n| lugar5          | 0 |  1.281600e-04 | Random Forest |\n| instlevel6      | 0 |  1.428039e-04 | Random Forest |\n| estadocivil2    | 0 |  1.554011e-04 | Random Forest |\n| estadocivil4    | 0 |  1.641141e-04 | Random Forest |\n| parentesco1     | 0 |  2.022909e-04 | Random Forest |\n| hacapo          | 0 |  2.226076e-04 | Random Forest |\n| parentesco10    | 0 |  2.234343e-04 | Random Forest |\n| tipovivi4       | 0 |  2.405607e-04 | Random Forest |\n| instlevel5      | 0 |  2.461883e-04 | Random Forest |\n| estadocivil6    | 0 |  3.317067e-04 | Random Forest |\n| instlevel7      | 0 |  3.503618e-04 | Random Forest |\n| paredzinc       | 0 |  3.818990e-04 | Random Forest |\n| estadocivil5    | 0 |  6.822242e-04 | Random Forest |\n| instlevel8      | 0 |  7.155753e-04 | Random Forest |\n| v18q1           | 0 |  7.200654e-04 | Random Forest |\n| parentesco6     | 0 |  7.348569e-04 | Random Forest |\n| mobilephone     | 0 |  7.919457e-04 | Random Forest |\n| techoentrepiso  | 0 |  8.128924e-04 | Random Forest |\n| age             | 0 |  8.641864e-04 | Random Forest |\n| instlevel3      | 0 |  8.963198e-04 | Random Forest |\n| pareddes        | 0 |  9.046984e-04 | Random Forest |\n| computer        | 0 |  9.281724e-04 | Random Forest |\n| techozinc       | 0 |  1.046256e-03 | Random Forest |\n| SQBage          | 0 |  1.072112e-03 | Random Forest |\n| refrig          | 0 |  1.248933e-03 | Random Forest |\n| agesq           | 0 |  1.251432e-03 | Random Forest |\n| energcocinar4   | 0 |  1.260014e-03 | Random Forest |\n| parentesco2     | 0 |  1.287562e-03 | Random Forest |\n| sanitario5      | 0 |  1.627392e-03 | Random Forest |\n| hogar_total     | 0 |  1.741755e-03 | Random Forest |\n| estadocivil3    | 0 |  1.746808e-03 | Random Forest |\n| female          | 0 |  1.766362e-03 | Random Forest |\n| r4t3            | 0 |  1.786976e-03 | Random Forest |\n| pisomadera      | 0 |  1.930017e-03 | Random Forest |\n| epared1         | 0 |  1.940602e-03 | Random Forest |\n| tamhog          | 0 |  2.051982e-03 | Random Forest |\n| hhsize          | 0 |  2.096682e-03 | Random Forest |\n| SQBescolari     | 0 |  2.148252e-03 | Random Forest |\n| estadocivil7    | 0 |  2.151742e-03 | Random Forest |\n| estadocivil1    | 0 |  2.190557e-03 | Random Forest |\n| paredpreb       | 0 |  2.461449e-03 | Random Forest |\n| male            | 0 |  2.618227e-03 | Random Forest |\n| tipovivi2       | 0 |  2.834395e-03 | Random Forest |\n| instlevel1      | 0 |  2.997861e-03 | Random Forest |\n| instlevel4      | 0 |  3.090148e-03 | Random Forest |\n| SQBhogar_total  | 0 |  3.090554e-03 | Random Forest |\n| parentesco4     | 0 |  3.235906e-03 | Random Forest |\n| escolari        | 0 |  3.463900e-03 | Random Forest |\n| parentesco3     | 0 |  3.532126e-03 | Random Forest |\n| instlevel2      | 0 |  3.585325e-03 | Random Forest |\n| tamviv          | 0 |  3.659880e-03 | Random Forest |\n| r4h3            | 0 |  3.869098e-03 | Random Forest |\n| r4m2            | 0 |  4.742521e-03 | Random Forest |\n| hacdor          | 0 |  4.753530e-03 | Random Forest |\n| paredmad        | 0 |  4.774919e-03 | Random Forest |\n| hogar_mayor     | 0 |  4.795554e-03 | Random Forest |\n| eviv2           | 0 |  5.741869e-03 | Random Forest |\n| sanitario2      | 0 |  6.058817e-03 | Random Forest |\n| etecho2         | 0 |  6.301266e-03 | Random Forest |\n| overcrowding    | 0 |  6.819257e-03 | Random Forest |\n| r4m3            | 0 |  7.015760e-03 | Random Forest |\n| ⋮ | ⋮ | ⋮ | ⋮ |\n| abastaguafuera  | 50 | 0.001845486 | Random Forest |\n| abastaguano     | 50 | 0.001812739 | Random Forest |\n| public          | 50 | 0.001806839 | Random Forest |\n| planpri         | 50 | 0.001812739 | Random Forest |\n| noelec          | 50 | 0.001812739 | Random Forest |\n| coopele         | 50 | 0.001805849 | Random Forest |\n| sanitario1      | 50 | 0.001812739 | Random Forest |\n| sanitario2      | 50 | 0.007773929 | Random Forest |\n| sanitario3      | 50 | 0.011652729 | Random Forest |\n| sanitario5      | 50 | 0.002969483 | Random Forest |\n| sanitario6      | 50 | 0.001895020 | Random Forest |\n| energcocinar1   | 50 | 0.001816076 | Random Forest |\n| energcocinar2   | 50 | 0.056152356 | Random Forest |\n| energcocinar3   | 50 | 0.030314414 | Random Forest |\n| energcocinar4   | 50 | 0.002940311 | Random Forest |\n| elimbasu1       | 50 | 0.001812739 | Random Forest |\n| elimbasu2       | 50 | 0.001812739 | Random Forest |\n| elimbasu3       | 50 | 0.001812739 | Random Forest |\n| elimbasu4       | 50 | 0.001812739 | Random Forest |\n| elimbasu5       | 50 | 0.001812739 | Random Forest |\n| elimbasu6       | 50 | 0.001812739 | Random Forest |\n| epared1         | 50 | 0.003741534 | Random Forest |\n| epared2         | 50 | 0.077615704 | Random Forest |\n| epared3         | 50 | 0.046257268 | Random Forest |\n| etecho1         | 50 | 0.101397746 | Random Forest |\n| etecho2         | 50 | 0.007723267 | Random Forest |\n| etecho3         | 50 | 0.078429838 | Random Forest |\n| eviv1           | 50 | 0.044300462 | Random Forest |\n| eviv2           | 50 | 0.006406969 | Random Forest |\n| eviv3           | 50 | 0.086085832 | Random Forest |\n| dis             | 50 | 0.057355642 | Random Forest |\n| male            | 50 | 0.004003596 | Random Forest |\n| female          | 50 | 0.004323138 | Random Forest |\n| estadocivil1    | 50 | 0.004175991 | Random Forest |\n| estadocivil2    | 50 | 0.002060382 | Random Forest |\n| estadocivil3    | 50 | 0.003252031 | Random Forest |\n| estadocivil4    | 50 | 0.002049253 | Random Forest |\n| estadocivil5    | 50 | 0.002952273 | Random Forest |\n| estadocivil6    | 50 | 0.001867853 | Random Forest |\n| estadocivil7    | 50 | 0.003529124 | Random Forest |\n| parentesco1     | 50 | 0.001132141 | Random Forest |\n| parentesco2     | 50 | 0.002848851 | Random Forest |\n| parentesco3     | 50 | 0.003764791 | Random Forest |\n| parentesco4     | 50 | 0.005689876 | Random Forest |\n| parentesco5     | 50 | 0.001817114 | Random Forest |\n| parentesco6     | 50 | 0.002246196 | Random Forest |\n| parentesco7     | 50 | 0.001822795 | Random Forest |\n| parentesco8     | 50 | 0.001812800 | Random Forest |\n| parentesco9     | 50 | 0.001835823 | Random Forest |\n| parentesco10    | 50 | 0.002439477 | Random Forest |\n| parentesco11    | 50 | 0.001869858 | Random Forest |\n| parentesco12    | 50 | 0.001828167 | Random Forest |\n| idhogar         | 50 | 0.035014992 | Random Forest |\n| hogar_nin       | 50 | 0.013434951 | Random Forest |\n| hogar_adul      | 50 | 0.009785234 | Random Forest |\n| hogar_mayor     | 50 | 0.005203979 | Random Forest |\n| hogar_total     | 50 | 0.003589049 | Random Forest |\n| dependency      | 50 | 0.276609662 | Random Forest |\n| edjefe          | 50 | 0.012428336 | Random Forest |\n| edjefa          | 50 | 0.014260534 | Random Forest |\n| meaneduc        | 50 | 0.051823894 | Random Forest |\n| instlevel1      | 50 | 0.004817831 | Random Forest |\n| instlevel2      | 50 | 0.005818054 | Random Forest |\n| instlevel3      | 50 | 0.002877808 | Random Forest |\n| instlevel4      | 50 | 0.005191772 | Random Forest |\n| instlevel5      | 50 | 0.002031815 | Random Forest |\n| instlevel6      | 50 | 0.002015285 | Random Forest |\n| instlevel7      | 50 | 0.002847115 | Random Forest |\n| instlevel8      | 50 | 0.002605895 | Random Forest |\n| instlevel9      | 50 | 0.001813077 | Random Forest |\n| bedrooms        | 50 | 0.009955561 | Random Forest |\n| overcrowding    | 50 | 0.009734878 | Random Forest |\n| tipovivi1       | 50 | 0.014452586 | Random Forest |\n| tipovivi2       | 50 | 0.004859470 | Random Forest |\n| tipovivi3       | 50 | 0.022873273 | Random Forest |\n| tipovivi4       | 50 | 0.002072719 | Random Forest |\n| tipovivi5       | 50 | 0.028794890 | Random Forest |\n| computer        | 50 | 0.002454573 | Random Forest |\n| television      | 50 | 0.021482374 | Random Forest |\n| mobilephone     | 50 | 0.002531634 | Random Forest |\n| qmobilephone    | 50 | 0.016516633 | Random Forest |\n| lugar1          | 50 | 0.001763089 | Random Forest |\n| lugar2          | 50 | 0.000696850 | Random Forest |\n| lugar3          | 50 | 0.001874286 | Random Forest |\n| lugar4          | 50 | 0.002010655 | Random Forest |\n| lugar5          | 50 | 0.001985133 | Random Forest |\n| lugar6          | 50 | 0.002009825 | Random Forest |\n| area1           | 50 | 0.002010400 | Random Forest |\n| area2           | 50 | 0.002010345 | Random Forest |\n| age             | 50 | 0.002329392 | Random Forest |\n| SQBescolari     | 50 | 0.003746288 | Random Forest |\n| SQBage          | 50 | 0.002142881 | Random Forest |\n| SQBhogar_total  | 50 | 0.004910859 | Random Forest |\n| SQBedjefe       | 50 | 0.013357324 | Random Forest |\n| SQBhogar_nin    | 50 | 0.027276214 | Random Forest |\n| SQBovercrowding | 50 | 0.014771443 | Random Forest |\n| SQBdependency   | 50 | 0.083223494 | Random Forest |\n| SQBmeaned       | 50 | 0.035111246 | Random Forest |\n| agesq           | 50 | 0.002245380 | Random Forest |\n| _baseline_      | 50 | 1.299674622 | Random Forest |\n\n",
            "text/html": [
              "<table class=\"dataframe\">\n",
              "<caption>A model_parts: 7242 × 4</caption>\n",
              "<thead>\n",
              "\t<tr><th scope=col>variable</th><th scope=col>permutation</th><th scope=col>dropout_loss</th><th scope=col>label</th></tr>\n",
              "\t<tr><th scope=col>&lt;chr&gt;</th><th scope=col>&lt;dbl&gt;</th><th scope=col>&lt;dbl&gt;</th><th scope=col>&lt;chr&gt;</th></tr>\n",
              "</thead>\n",
              "<tbody>\n",
              "\t<tr><td>_full_model_   </td><td>0</td><td> 0.000000e+00</td><td>Random Forest</td></tr>\n",
              "\t<tr><td>lugar2         </td><td>0</td><td>-4.439253e-04</td><td>Random Forest</td></tr>\n",
              "\t<tr><td>area1          </td><td>0</td><td>-2.281068e-04</td><td>Random Forest</td></tr>\n",
              "\t<tr><td>lugar1         </td><td>0</td><td>-1.433321e-04</td><td>Random Forest</td></tr>\n",
              "\t<tr><td>paredfibras    </td><td>0</td><td> 0.000000e+00</td><td>Random Forest</td></tr>\n",
              "\t<tr><td>paredother     </td><td>0</td><td> 0.000000e+00</td><td>Random Forest</td></tr>\n",
              "\t<tr><td>techootro      </td><td>0</td><td> 0.000000e+00</td><td>Random Forest</td></tr>\n",
              "\t<tr><td>abastaguano    </td><td>0</td><td> 0.000000e+00</td><td>Random Forest</td></tr>\n",
              "\t<tr><td>planpri        </td><td>0</td><td> 0.000000e+00</td><td>Random Forest</td></tr>\n",
              "\t<tr><td>noelec         </td><td>0</td><td> 0.000000e+00</td><td>Random Forest</td></tr>\n",
              "\t<tr><td>elimbasu1      </td><td>0</td><td> 0.000000e+00</td><td>Random Forest</td></tr>\n",
              "\t<tr><td>elimbasu2      </td><td>0</td><td> 0.000000e+00</td><td>Random Forest</td></tr>\n",
              "\t<tr><td>elimbasu3      </td><td>0</td><td> 0.000000e+00</td><td>Random Forest</td></tr>\n",
              "\t<tr><td>elimbasu4      </td><td>0</td><td> 0.000000e+00</td><td>Random Forest</td></tr>\n",
              "\t<tr><td>elimbasu5      </td><td>0</td><td> 0.000000e+00</td><td>Random Forest</td></tr>\n",
              "\t<tr><td>elimbasu6      </td><td>0</td><td> 0.000000e+00</td><td>Random Forest</td></tr>\n",
              "\t<tr><td>instlevel9     </td><td>0</td><td> 4.348874e-07</td><td>Random Forest</td></tr>\n",
              "\t<tr><td>pisonatur      </td><td>0</td><td> 4.386145e-07</td><td>Random Forest</td></tr>\n",
              "\t<tr><td>parentesco8    </td><td>0</td><td> 7.218911e-07</td><td>Random Forest</td></tr>\n",
              "\t<tr><td>coopele        </td><td>0</td><td> 1.202861e-06</td><td>Random Forest</td></tr>\n",
              "\t<tr><td>pisoother      </td><td>0</td><td> 1.469847e-06</td><td>Random Forest</td></tr>\n",
              "\t<tr><td>public         </td><td>0</td><td> 2.677118e-06</td><td>Random Forest</td></tr>\n",
              "\t<tr><td>energcocinar1  </td><td>0</td><td> 3.079599e-06</td><td>Random Forest</td></tr>\n",
              "\t<tr><td>sanitario1     </td><td>0</td><td> 3.152918e-06</td><td>Random Forest</td></tr>\n",
              "\t<tr><td>techocane      </td><td>0</td><td> 4.657502e-06</td><td>Random Forest</td></tr>\n",
              "\t<tr><td>parentesco12   </td><td>0</td><td> 6.823603e-06</td><td>Random Forest</td></tr>\n",
              "\t<tr><td>parentesco5    </td><td>0</td><td> 8.245720e-06</td><td>Random Forest</td></tr>\n",
              "\t<tr><td>parentesco9    </td><td>0</td><td> 1.161126e-05</td><td>Random Forest</td></tr>\n",
              "\t<tr><td>parentesco7    </td><td>0</td><td> 2.989174e-05</td><td>Random Forest</td></tr>\n",
              "\t<tr><td>abastaguafuera </td><td>0</td><td> 5.283443e-05</td><td>Random Forest</td></tr>\n",
              "\t<tr><td>lugar3         </td><td>0</td><td> 5.418028e-05</td><td>Random Forest</td></tr>\n",
              "\t<tr><td>pisonotiene    </td><td>0</td><td> 6.016380e-05</td><td>Random Forest</td></tr>\n",
              "\t<tr><td>parentesco11   </td><td>0</td><td> 6.476145e-05</td><td>Random Forest</td></tr>\n",
              "\t<tr><td>abastaguadentro</td><td>0</td><td> 8.073219e-05</td><td>Random Forest</td></tr>\n",
              "\t<tr><td>lugar6         </td><td>0</td><td> 8.656660e-05</td><td>Random Forest</td></tr>\n",
              "\t<tr><td>lugar4         </td><td>0</td><td> 8.985713e-05</td><td>Random Forest</td></tr>\n",
              "\t<tr><td>v14a           </td><td>0</td><td> 9.645497e-05</td><td>Random Forest</td></tr>\n",
              "\t<tr><td>area2          </td><td>0</td><td> 1.094585e-04</td><td>Random Forest</td></tr>\n",
              "\t<tr><td>sanitario6     </td><td>0</td><td> 1.222373e-04</td><td>Random Forest</td></tr>\n",
              "\t<tr><td>lugar5         </td><td>0</td><td> 1.281600e-04</td><td>Random Forest</td></tr>\n",
              "\t<tr><td>instlevel6     </td><td>0</td><td> 1.428039e-04</td><td>Random Forest</td></tr>\n",
              "\t<tr><td>estadocivil2   </td><td>0</td><td> 1.554011e-04</td><td>Random Forest</td></tr>\n",
              "\t<tr><td>estadocivil4   </td><td>0</td><td> 1.641141e-04</td><td>Random Forest</td></tr>\n",
              "\t<tr><td>parentesco1    </td><td>0</td><td> 2.022909e-04</td><td>Random Forest</td></tr>\n",
              "\t<tr><td>hacapo         </td><td>0</td><td> 2.226076e-04</td><td>Random Forest</td></tr>\n",
              "\t<tr><td>parentesco10   </td><td>0</td><td> 2.234343e-04</td><td>Random Forest</td></tr>\n",
              "\t<tr><td>tipovivi4      </td><td>0</td><td> 2.405607e-04</td><td>Random Forest</td></tr>\n",
              "\t<tr><td>instlevel5     </td><td>0</td><td> 2.461883e-04</td><td>Random Forest</td></tr>\n",
              "\t<tr><td>estadocivil6   </td><td>0</td><td> 3.317067e-04</td><td>Random Forest</td></tr>\n",
              "\t<tr><td>instlevel7     </td><td>0</td><td> 3.503618e-04</td><td>Random Forest</td></tr>\n",
              "\t<tr><td>paredzinc      </td><td>0</td><td> 3.818990e-04</td><td>Random Forest</td></tr>\n",
              "\t<tr><td>estadocivil5   </td><td>0</td><td> 6.822242e-04</td><td>Random Forest</td></tr>\n",
              "\t<tr><td>instlevel8     </td><td>0</td><td> 7.155753e-04</td><td>Random Forest</td></tr>\n",
              "\t<tr><td>v18q1          </td><td>0</td><td> 7.200654e-04</td><td>Random Forest</td></tr>\n",
              "\t<tr><td>parentesco6    </td><td>0</td><td> 7.348569e-04</td><td>Random Forest</td></tr>\n",
              "\t<tr><td>mobilephone    </td><td>0</td><td> 7.919457e-04</td><td>Random Forest</td></tr>\n",
              "\t<tr><td>techoentrepiso </td><td>0</td><td> 8.128924e-04</td><td>Random Forest</td></tr>\n",
              "\t<tr><td>age            </td><td>0</td><td> 8.641864e-04</td><td>Random Forest</td></tr>\n",
              "\t<tr><td>instlevel3     </td><td>0</td><td> 8.963198e-04</td><td>Random Forest</td></tr>\n",
              "\t<tr><td>pareddes       </td><td>0</td><td> 9.046984e-04</td><td>Random Forest</td></tr>\n",
              "\t<tr><td>computer       </td><td>0</td><td> 9.281724e-04</td><td>Random Forest</td></tr>\n",
              "\t<tr><td>techozinc      </td><td>0</td><td> 1.046256e-03</td><td>Random Forest</td></tr>\n",
              "\t<tr><td>SQBage         </td><td>0</td><td> 1.072112e-03</td><td>Random Forest</td></tr>\n",
              "\t<tr><td>refrig         </td><td>0</td><td> 1.248933e-03</td><td>Random Forest</td></tr>\n",
              "\t<tr><td>agesq          </td><td>0</td><td> 1.251432e-03</td><td>Random Forest</td></tr>\n",
              "\t<tr><td>energcocinar4  </td><td>0</td><td> 1.260014e-03</td><td>Random Forest</td></tr>\n",
              "\t<tr><td>parentesco2    </td><td>0</td><td> 1.287562e-03</td><td>Random Forest</td></tr>\n",
              "\t<tr><td>sanitario5     </td><td>0</td><td> 1.627392e-03</td><td>Random Forest</td></tr>\n",
              "\t<tr><td>hogar_total    </td><td>0</td><td> 1.741755e-03</td><td>Random Forest</td></tr>\n",
              "\t<tr><td>estadocivil3   </td><td>0</td><td> 1.746808e-03</td><td>Random Forest</td></tr>\n",
              "\t<tr><td>female         </td><td>0</td><td> 1.766362e-03</td><td>Random Forest</td></tr>\n",
              "\t<tr><td>r4t3           </td><td>0</td><td> 1.786976e-03</td><td>Random Forest</td></tr>\n",
              "\t<tr><td>pisomadera     </td><td>0</td><td> 1.930017e-03</td><td>Random Forest</td></tr>\n",
              "\t<tr><td>epared1        </td><td>0</td><td> 1.940602e-03</td><td>Random Forest</td></tr>\n",
              "\t<tr><td>tamhog         </td><td>0</td><td> 2.051982e-03</td><td>Random Forest</td></tr>\n",
              "\t<tr><td>hhsize         </td><td>0</td><td> 2.096682e-03</td><td>Random Forest</td></tr>\n",
              "\t<tr><td>SQBescolari    </td><td>0</td><td> 2.148252e-03</td><td>Random Forest</td></tr>\n",
              "\t<tr><td>estadocivil7   </td><td>0</td><td> 2.151742e-03</td><td>Random Forest</td></tr>\n",
              "\t<tr><td>estadocivil1   </td><td>0</td><td> 2.190557e-03</td><td>Random Forest</td></tr>\n",
              "\t<tr><td>paredpreb      </td><td>0</td><td> 2.461449e-03</td><td>Random Forest</td></tr>\n",
              "\t<tr><td>male           </td><td>0</td><td> 2.618227e-03</td><td>Random Forest</td></tr>\n",
              "\t<tr><td>tipovivi2      </td><td>0</td><td> 2.834395e-03</td><td>Random Forest</td></tr>\n",
              "\t<tr><td>instlevel1     </td><td>0</td><td> 2.997861e-03</td><td>Random Forest</td></tr>\n",
              "\t<tr><td>instlevel4     </td><td>0</td><td> 3.090148e-03</td><td>Random Forest</td></tr>\n",
              "\t<tr><td>SQBhogar_total </td><td>0</td><td> 3.090554e-03</td><td>Random Forest</td></tr>\n",
              "\t<tr><td>parentesco4    </td><td>0</td><td> 3.235906e-03</td><td>Random Forest</td></tr>\n",
              "\t<tr><td>escolari       </td><td>0</td><td> 3.463900e-03</td><td>Random Forest</td></tr>\n",
              "\t<tr><td>parentesco3    </td><td>0</td><td> 3.532126e-03</td><td>Random Forest</td></tr>\n",
              "\t<tr><td>instlevel2     </td><td>0</td><td> 3.585325e-03</td><td>Random Forest</td></tr>\n",
              "\t<tr><td>tamviv         </td><td>0</td><td> 3.659880e-03</td><td>Random Forest</td></tr>\n",
              "\t<tr><td>r4h3           </td><td>0</td><td> 3.869098e-03</td><td>Random Forest</td></tr>\n",
              "\t<tr><td>r4m2           </td><td>0</td><td> 4.742521e-03</td><td>Random Forest</td></tr>\n",
              "\t<tr><td>hacdor         </td><td>0</td><td> 4.753530e-03</td><td>Random Forest</td></tr>\n",
              "\t<tr><td>paredmad       </td><td>0</td><td> 4.774919e-03</td><td>Random Forest</td></tr>\n",
              "\t<tr><td>hogar_mayor    </td><td>0</td><td> 4.795554e-03</td><td>Random Forest</td></tr>\n",
              "\t<tr><td>eviv2          </td><td>0</td><td> 5.741869e-03</td><td>Random Forest</td></tr>\n",
              "\t<tr><td>sanitario2     </td><td>0</td><td> 6.058817e-03</td><td>Random Forest</td></tr>\n",
              "\t<tr><td>etecho2        </td><td>0</td><td> 6.301266e-03</td><td>Random Forest</td></tr>\n",
              "\t<tr><td>overcrowding   </td><td>0</td><td> 6.819257e-03</td><td>Random Forest</td></tr>\n",
              "\t<tr><td>r4m3           </td><td>0</td><td> 7.015760e-03</td><td>Random Forest</td></tr>\n",
              "\t<tr><td>⋮</td><td>⋮</td><td>⋮</td><td>⋮</td></tr>\n",
              "\t<tr><td>abastaguafuera </td><td>50</td><td>0.001845486</td><td>Random Forest</td></tr>\n",
              "\t<tr><td>abastaguano    </td><td>50</td><td>0.001812739</td><td>Random Forest</td></tr>\n",
              "\t<tr><td>public         </td><td>50</td><td>0.001806839</td><td>Random Forest</td></tr>\n",
              "\t<tr><td>planpri        </td><td>50</td><td>0.001812739</td><td>Random Forest</td></tr>\n",
              "\t<tr><td>noelec         </td><td>50</td><td>0.001812739</td><td>Random Forest</td></tr>\n",
              "\t<tr><td>coopele        </td><td>50</td><td>0.001805849</td><td>Random Forest</td></tr>\n",
              "\t<tr><td>sanitario1     </td><td>50</td><td>0.001812739</td><td>Random Forest</td></tr>\n",
              "\t<tr><td>sanitario2     </td><td>50</td><td>0.007773929</td><td>Random Forest</td></tr>\n",
              "\t<tr><td>sanitario3     </td><td>50</td><td>0.011652729</td><td>Random Forest</td></tr>\n",
              "\t<tr><td>sanitario5     </td><td>50</td><td>0.002969483</td><td>Random Forest</td></tr>\n",
              "\t<tr><td>sanitario6     </td><td>50</td><td>0.001895020</td><td>Random Forest</td></tr>\n",
              "\t<tr><td>energcocinar1  </td><td>50</td><td>0.001816076</td><td>Random Forest</td></tr>\n",
              "\t<tr><td>energcocinar2  </td><td>50</td><td>0.056152356</td><td>Random Forest</td></tr>\n",
              "\t<tr><td>energcocinar3  </td><td>50</td><td>0.030314414</td><td>Random Forest</td></tr>\n",
              "\t<tr><td>energcocinar4  </td><td>50</td><td>0.002940311</td><td>Random Forest</td></tr>\n",
              "\t<tr><td>elimbasu1      </td><td>50</td><td>0.001812739</td><td>Random Forest</td></tr>\n",
              "\t<tr><td>elimbasu2      </td><td>50</td><td>0.001812739</td><td>Random Forest</td></tr>\n",
              "\t<tr><td>elimbasu3      </td><td>50</td><td>0.001812739</td><td>Random Forest</td></tr>\n",
              "\t<tr><td>elimbasu4      </td><td>50</td><td>0.001812739</td><td>Random Forest</td></tr>\n",
              "\t<tr><td>elimbasu5      </td><td>50</td><td>0.001812739</td><td>Random Forest</td></tr>\n",
              "\t<tr><td>elimbasu6      </td><td>50</td><td>0.001812739</td><td>Random Forest</td></tr>\n",
              "\t<tr><td>epared1        </td><td>50</td><td>0.003741534</td><td>Random Forest</td></tr>\n",
              "\t<tr><td>epared2        </td><td>50</td><td>0.077615704</td><td>Random Forest</td></tr>\n",
              "\t<tr><td>epared3        </td><td>50</td><td>0.046257268</td><td>Random Forest</td></tr>\n",
              "\t<tr><td>etecho1        </td><td>50</td><td>0.101397746</td><td>Random Forest</td></tr>\n",
              "\t<tr><td>etecho2        </td><td>50</td><td>0.007723267</td><td>Random Forest</td></tr>\n",
              "\t<tr><td>etecho3        </td><td>50</td><td>0.078429838</td><td>Random Forest</td></tr>\n",
              "\t<tr><td>eviv1          </td><td>50</td><td>0.044300462</td><td>Random Forest</td></tr>\n",
              "\t<tr><td>eviv2          </td><td>50</td><td>0.006406969</td><td>Random Forest</td></tr>\n",
              "\t<tr><td>eviv3          </td><td>50</td><td>0.086085832</td><td>Random Forest</td></tr>\n",
              "\t<tr><td>dis            </td><td>50</td><td>0.057355642</td><td>Random Forest</td></tr>\n",
              "\t<tr><td>male           </td><td>50</td><td>0.004003596</td><td>Random Forest</td></tr>\n",
              "\t<tr><td>female         </td><td>50</td><td>0.004323138</td><td>Random Forest</td></tr>\n",
              "\t<tr><td>estadocivil1   </td><td>50</td><td>0.004175991</td><td>Random Forest</td></tr>\n",
              "\t<tr><td>estadocivil2   </td><td>50</td><td>0.002060382</td><td>Random Forest</td></tr>\n",
              "\t<tr><td>estadocivil3   </td><td>50</td><td>0.003252031</td><td>Random Forest</td></tr>\n",
              "\t<tr><td>estadocivil4   </td><td>50</td><td>0.002049253</td><td>Random Forest</td></tr>\n",
              "\t<tr><td>estadocivil5   </td><td>50</td><td>0.002952273</td><td>Random Forest</td></tr>\n",
              "\t<tr><td>estadocivil6   </td><td>50</td><td>0.001867853</td><td>Random Forest</td></tr>\n",
              "\t<tr><td>estadocivil7   </td><td>50</td><td>0.003529124</td><td>Random Forest</td></tr>\n",
              "\t<tr><td>parentesco1    </td><td>50</td><td>0.001132141</td><td>Random Forest</td></tr>\n",
              "\t<tr><td>parentesco2    </td><td>50</td><td>0.002848851</td><td>Random Forest</td></tr>\n",
              "\t<tr><td>parentesco3    </td><td>50</td><td>0.003764791</td><td>Random Forest</td></tr>\n",
              "\t<tr><td>parentesco4    </td><td>50</td><td>0.005689876</td><td>Random Forest</td></tr>\n",
              "\t<tr><td>parentesco5    </td><td>50</td><td>0.001817114</td><td>Random Forest</td></tr>\n",
              "\t<tr><td>parentesco6    </td><td>50</td><td>0.002246196</td><td>Random Forest</td></tr>\n",
              "\t<tr><td>parentesco7    </td><td>50</td><td>0.001822795</td><td>Random Forest</td></tr>\n",
              "\t<tr><td>parentesco8    </td><td>50</td><td>0.001812800</td><td>Random Forest</td></tr>\n",
              "\t<tr><td>parentesco9    </td><td>50</td><td>0.001835823</td><td>Random Forest</td></tr>\n",
              "\t<tr><td>parentesco10   </td><td>50</td><td>0.002439477</td><td>Random Forest</td></tr>\n",
              "\t<tr><td>parentesco11   </td><td>50</td><td>0.001869858</td><td>Random Forest</td></tr>\n",
              "\t<tr><td>parentesco12   </td><td>50</td><td>0.001828167</td><td>Random Forest</td></tr>\n",
              "\t<tr><td>idhogar        </td><td>50</td><td>0.035014992</td><td>Random Forest</td></tr>\n",
              "\t<tr><td>hogar_nin      </td><td>50</td><td>0.013434951</td><td>Random Forest</td></tr>\n",
              "\t<tr><td>hogar_adul     </td><td>50</td><td>0.009785234</td><td>Random Forest</td></tr>\n",
              "\t<tr><td>hogar_mayor    </td><td>50</td><td>0.005203979</td><td>Random Forest</td></tr>\n",
              "\t<tr><td>hogar_total    </td><td>50</td><td>0.003589049</td><td>Random Forest</td></tr>\n",
              "\t<tr><td>dependency     </td><td>50</td><td>0.276609662</td><td>Random Forest</td></tr>\n",
              "\t<tr><td>edjefe         </td><td>50</td><td>0.012428336</td><td>Random Forest</td></tr>\n",
              "\t<tr><td>edjefa         </td><td>50</td><td>0.014260534</td><td>Random Forest</td></tr>\n",
              "\t<tr><td>meaneduc       </td><td>50</td><td>0.051823894</td><td>Random Forest</td></tr>\n",
              "\t<tr><td>instlevel1     </td><td>50</td><td>0.004817831</td><td>Random Forest</td></tr>\n",
              "\t<tr><td>instlevel2     </td><td>50</td><td>0.005818054</td><td>Random Forest</td></tr>\n",
              "\t<tr><td>instlevel3     </td><td>50</td><td>0.002877808</td><td>Random Forest</td></tr>\n",
              "\t<tr><td>instlevel4     </td><td>50</td><td>0.005191772</td><td>Random Forest</td></tr>\n",
              "\t<tr><td>instlevel5     </td><td>50</td><td>0.002031815</td><td>Random Forest</td></tr>\n",
              "\t<tr><td>instlevel6     </td><td>50</td><td>0.002015285</td><td>Random Forest</td></tr>\n",
              "\t<tr><td>instlevel7     </td><td>50</td><td>0.002847115</td><td>Random Forest</td></tr>\n",
              "\t<tr><td>instlevel8     </td><td>50</td><td>0.002605895</td><td>Random Forest</td></tr>\n",
              "\t<tr><td>instlevel9     </td><td>50</td><td>0.001813077</td><td>Random Forest</td></tr>\n",
              "\t<tr><td>bedrooms       </td><td>50</td><td>0.009955561</td><td>Random Forest</td></tr>\n",
              "\t<tr><td>overcrowding   </td><td>50</td><td>0.009734878</td><td>Random Forest</td></tr>\n",
              "\t<tr><td>tipovivi1      </td><td>50</td><td>0.014452586</td><td>Random Forest</td></tr>\n",
              "\t<tr><td>tipovivi2      </td><td>50</td><td>0.004859470</td><td>Random Forest</td></tr>\n",
              "\t<tr><td>tipovivi3      </td><td>50</td><td>0.022873273</td><td>Random Forest</td></tr>\n",
              "\t<tr><td>tipovivi4      </td><td>50</td><td>0.002072719</td><td>Random Forest</td></tr>\n",
              "\t<tr><td>tipovivi5      </td><td>50</td><td>0.028794890</td><td>Random Forest</td></tr>\n",
              "\t<tr><td>computer       </td><td>50</td><td>0.002454573</td><td>Random Forest</td></tr>\n",
              "\t<tr><td>television     </td><td>50</td><td>0.021482374</td><td>Random Forest</td></tr>\n",
              "\t<tr><td>mobilephone    </td><td>50</td><td>0.002531634</td><td>Random Forest</td></tr>\n",
              "\t<tr><td>qmobilephone   </td><td>50</td><td>0.016516633</td><td>Random Forest</td></tr>\n",
              "\t<tr><td>lugar1         </td><td>50</td><td>0.001763089</td><td>Random Forest</td></tr>\n",
              "\t<tr><td>lugar2         </td><td>50</td><td>0.000696850</td><td>Random Forest</td></tr>\n",
              "\t<tr><td>lugar3         </td><td>50</td><td>0.001874286</td><td>Random Forest</td></tr>\n",
              "\t<tr><td>lugar4         </td><td>50</td><td>0.002010655</td><td>Random Forest</td></tr>\n",
              "\t<tr><td>lugar5         </td><td>50</td><td>0.001985133</td><td>Random Forest</td></tr>\n",
              "\t<tr><td>lugar6         </td><td>50</td><td>0.002009825</td><td>Random Forest</td></tr>\n",
              "\t<tr><td>area1          </td><td>50</td><td>0.002010400</td><td>Random Forest</td></tr>\n",
              "\t<tr><td>area2          </td><td>50</td><td>0.002010345</td><td>Random Forest</td></tr>\n",
              "\t<tr><td>age            </td><td>50</td><td>0.002329392</td><td>Random Forest</td></tr>\n",
              "\t<tr><td>SQBescolari    </td><td>50</td><td>0.003746288</td><td>Random Forest</td></tr>\n",
              "\t<tr><td>SQBage         </td><td>50</td><td>0.002142881</td><td>Random Forest</td></tr>\n",
              "\t<tr><td>SQBhogar_total </td><td>50</td><td>0.004910859</td><td>Random Forest</td></tr>\n",
              "\t<tr><td>SQBedjefe      </td><td>50</td><td>0.013357324</td><td>Random Forest</td></tr>\n",
              "\t<tr><td>SQBhogar_nin   </td><td>50</td><td>0.027276214</td><td>Random Forest</td></tr>\n",
              "\t<tr><td>SQBovercrowding</td><td>50</td><td>0.014771443</td><td>Random Forest</td></tr>\n",
              "\t<tr><td>SQBdependency  </td><td>50</td><td>0.083223494</td><td>Random Forest</td></tr>\n",
              "\t<tr><td>SQBmeaned      </td><td>50</td><td>0.035111246</td><td>Random Forest</td></tr>\n",
              "\t<tr><td>agesq          </td><td>50</td><td>0.002245380</td><td>Random Forest</td></tr>\n",
              "\t<tr><td>_baseline_     </td><td>50</td><td>1.299674622</td><td>Random Forest</td></tr>\n",
              "</tbody>\n",
              "</table>\n"
            ]
          },
          "metadata": {}
        }
      ]
    },
    {
      "cell_type": "code",
      "metadata": {
        "id": "ZCcdfhWv4t_O"
      },
      "source": [
        "library('ggplot2')"
      ],
      "execution_count": 188,
      "outputs": []
    },
    {
      "cell_type": "code",
      "metadata": {
        "colab": {
          "base_uri": "https://localhost:8080/",
          "height": 717
        },
        "id": "ELa40n-wAIoR",
        "outputId": "162fdd13-1b04-434d-f71a-b8870101cebb"
      },
      "source": [
        "tail(vip.50,20)"
      ],
      "execution_count": 197,
      "outputs": [
        {
          "output_type": "display_data",
          "data": {
            "text/plain": [
              "     variable        permutation dropout_loss label        \n",
              "7223 qmobilephone    50          0.016516633  Random Forest\n",
              "7224 lugar1          50          0.001763089  Random Forest\n",
              "7225 lugar2          50          0.000696850  Random Forest\n",
              "7226 lugar3          50          0.001874286  Random Forest\n",
              "7227 lugar4          50          0.002010655  Random Forest\n",
              "7228 lugar5          50          0.001985133  Random Forest\n",
              "7229 lugar6          50          0.002009825  Random Forest\n",
              "7230 area1           50          0.002010400  Random Forest\n",
              "7231 area2           50          0.002010345  Random Forest\n",
              "7232 age             50          0.002329392  Random Forest\n",
              "7233 SQBescolari     50          0.003746288  Random Forest\n",
              "7234 SQBage          50          0.002142881  Random Forest\n",
              "7235 SQBhogar_total  50          0.004910859  Random Forest\n",
              "7236 SQBedjefe       50          0.013357324  Random Forest\n",
              "7237 SQBhogar_nin    50          0.027276214  Random Forest\n",
              "7238 SQBovercrowding 50          0.014771443  Random Forest\n",
              "7239 SQBdependency   50          0.083223494  Random Forest\n",
              "7240 SQBmeaned       50          0.035111246  Random Forest\n",
              "7241 agesq           50          0.002245380  Random Forest\n",
              "7242 _baseline_      50          1.299674622  Random Forest"
            ],
            "text/latex": "A model\\_parts: 20 × 4\n\\begin{tabular}{r|llll}\n  & variable & permutation & dropout\\_loss & label\\\\\n  & <chr> & <dbl> & <dbl> & <chr>\\\\\n\\hline\n\t7223 & qmobilephone    & 50 & 0.016516633 & Random Forest\\\\\n\t7224 & lugar1          & 50 & 0.001763089 & Random Forest\\\\\n\t7225 & lugar2          & 50 & 0.000696850 & Random Forest\\\\\n\t7226 & lugar3          & 50 & 0.001874286 & Random Forest\\\\\n\t7227 & lugar4          & 50 & 0.002010655 & Random Forest\\\\\n\t7228 & lugar5          & 50 & 0.001985133 & Random Forest\\\\\n\t7229 & lugar6          & 50 & 0.002009825 & Random Forest\\\\\n\t7230 & area1           & 50 & 0.002010400 & Random Forest\\\\\n\t7231 & area2           & 50 & 0.002010345 & Random Forest\\\\\n\t7232 & age             & 50 & 0.002329392 & Random Forest\\\\\n\t7233 & SQBescolari     & 50 & 0.003746288 & Random Forest\\\\\n\t7234 & SQBage          & 50 & 0.002142881 & Random Forest\\\\\n\t7235 & SQBhogar\\_total  & 50 & 0.004910859 & Random Forest\\\\\n\t7236 & SQBedjefe       & 50 & 0.013357324 & Random Forest\\\\\n\t7237 & SQBhogar\\_nin    & 50 & 0.027276214 & Random Forest\\\\\n\t7238 & SQBovercrowding & 50 & 0.014771443 & Random Forest\\\\\n\t7239 & SQBdependency   & 50 & 0.083223494 & Random Forest\\\\\n\t7240 & SQBmeaned       & 50 & 0.035111246 & Random Forest\\\\\n\t7241 & agesq           & 50 & 0.002245380 & Random Forest\\\\\n\t7242 & \\_baseline\\_      & 50 & 1.299674622 & Random Forest\\\\\n\\end{tabular}\n",
            "text/markdown": "\nA model_parts: 20 × 4\n\n| <!--/--> | variable &lt;chr&gt; | permutation &lt;dbl&gt; | dropout_loss &lt;dbl&gt; | label &lt;chr&gt; |\n|---|---|---|---|---|\n| 7223 | qmobilephone    | 50 | 0.016516633 | Random Forest |\n| 7224 | lugar1          | 50 | 0.001763089 | Random Forest |\n| 7225 | lugar2          | 50 | 0.000696850 | Random Forest |\n| 7226 | lugar3          | 50 | 0.001874286 | Random Forest |\n| 7227 | lugar4          | 50 | 0.002010655 | Random Forest |\n| 7228 | lugar5          | 50 | 0.001985133 | Random Forest |\n| 7229 | lugar6          | 50 | 0.002009825 | Random Forest |\n| 7230 | area1           | 50 | 0.002010400 | Random Forest |\n| 7231 | area2           | 50 | 0.002010345 | Random Forest |\n| 7232 | age             | 50 | 0.002329392 | Random Forest |\n| 7233 | SQBescolari     | 50 | 0.003746288 | Random Forest |\n| 7234 | SQBage          | 50 | 0.002142881 | Random Forest |\n| 7235 | SQBhogar_total  | 50 | 0.004910859 | Random Forest |\n| 7236 | SQBedjefe       | 50 | 0.013357324 | Random Forest |\n| 7237 | SQBhogar_nin    | 50 | 0.027276214 | Random Forest |\n| 7238 | SQBovercrowding | 50 | 0.014771443 | Random Forest |\n| 7239 | SQBdependency   | 50 | 0.083223494 | Random Forest |\n| 7240 | SQBmeaned       | 50 | 0.035111246 | Random Forest |\n| 7241 | agesq           | 50 | 0.002245380 | Random Forest |\n| 7242 | _baseline_      | 50 | 1.299674622 | Random Forest |\n\n",
            "text/html": [
              "<table class=\"dataframe\">\n",
              "<caption>A model_parts: 20 × 4</caption>\n",
              "<thead>\n",
              "\t<tr><th></th><th scope=col>variable</th><th scope=col>permutation</th><th scope=col>dropout_loss</th><th scope=col>label</th></tr>\n",
              "\t<tr><th></th><th scope=col>&lt;chr&gt;</th><th scope=col>&lt;dbl&gt;</th><th scope=col>&lt;dbl&gt;</th><th scope=col>&lt;chr&gt;</th></tr>\n",
              "</thead>\n",
              "<tbody>\n",
              "\t<tr><th scope=row>7223</th><td>qmobilephone   </td><td>50</td><td>0.016516633</td><td>Random Forest</td></tr>\n",
              "\t<tr><th scope=row>7224</th><td>lugar1         </td><td>50</td><td>0.001763089</td><td>Random Forest</td></tr>\n",
              "\t<tr><th scope=row>7225</th><td>lugar2         </td><td>50</td><td>0.000696850</td><td>Random Forest</td></tr>\n",
              "\t<tr><th scope=row>7226</th><td>lugar3         </td><td>50</td><td>0.001874286</td><td>Random Forest</td></tr>\n",
              "\t<tr><th scope=row>7227</th><td>lugar4         </td><td>50</td><td>0.002010655</td><td>Random Forest</td></tr>\n",
              "\t<tr><th scope=row>7228</th><td>lugar5         </td><td>50</td><td>0.001985133</td><td>Random Forest</td></tr>\n",
              "\t<tr><th scope=row>7229</th><td>lugar6         </td><td>50</td><td>0.002009825</td><td>Random Forest</td></tr>\n",
              "\t<tr><th scope=row>7230</th><td>area1          </td><td>50</td><td>0.002010400</td><td>Random Forest</td></tr>\n",
              "\t<tr><th scope=row>7231</th><td>area2          </td><td>50</td><td>0.002010345</td><td>Random Forest</td></tr>\n",
              "\t<tr><th scope=row>7232</th><td>age            </td><td>50</td><td>0.002329392</td><td>Random Forest</td></tr>\n",
              "\t<tr><th scope=row>7233</th><td>SQBescolari    </td><td>50</td><td>0.003746288</td><td>Random Forest</td></tr>\n",
              "\t<tr><th scope=row>7234</th><td>SQBage         </td><td>50</td><td>0.002142881</td><td>Random Forest</td></tr>\n",
              "\t<tr><th scope=row>7235</th><td>SQBhogar_total </td><td>50</td><td>0.004910859</td><td>Random Forest</td></tr>\n",
              "\t<tr><th scope=row>7236</th><td>SQBedjefe      </td><td>50</td><td>0.013357324</td><td>Random Forest</td></tr>\n",
              "\t<tr><th scope=row>7237</th><td>SQBhogar_nin   </td><td>50</td><td>0.027276214</td><td>Random Forest</td></tr>\n",
              "\t<tr><th scope=row>7238</th><td>SQBovercrowding</td><td>50</td><td>0.014771443</td><td>Random Forest</td></tr>\n",
              "\t<tr><th scope=row>7239</th><td>SQBdependency  </td><td>50</td><td>0.083223494</td><td>Random Forest</td></tr>\n",
              "\t<tr><th scope=row>7240</th><td>SQBmeaned      </td><td>50</td><td>0.035111246</td><td>Random Forest</td></tr>\n",
              "\t<tr><th scope=row>7241</th><td>agesq          </td><td>50</td><td>0.002245380</td><td>Random Forest</td></tr>\n",
              "\t<tr><th scope=row>7242</th><td>_baseline_     </td><td>50</td><td>1.299674622</td><td>Random Forest</td></tr>\n",
              "</tbody>\n",
              "</table>\n"
            ]
          },
          "metadata": {}
        }
      ]
    },
    {
      "cell_type": "code",
      "metadata": {
        "id": "esI2WAUCCyrl"
      },
      "source": [
        "options(repr.plot.width = 10, repr.plot.height = 50)"
      ],
      "execution_count": 214,
      "outputs": []
    },
    {
      "cell_type": "code",
      "metadata": {
        "colab": {
          "base_uri": "https://localhost:8080/",
          "height": 1000
        },
        "id": "2voMX8OY4xOR",
        "outputId": "7cdb90c4-7d25-4389-e063-b7d6774817c5"
      },
      "source": [
        "plot(vip.50) + \n",
        "  ggtitle(\"Mean variable importance over 50 permutations\")"
      ],
      "execution_count": 215,
      "outputs": [
        {
          "output_type": "display_data",
          "data": {
            "image/png": "[encoded data removed]",
            "text/plain": [
              "plot without title"
            ]
          },
          "metadata": {
            "image/png": {
              "width": 600,
              "height": 3000
            }
          }
        }
      ]
    },
    {
      "cell_type": "markdown",
      "metadata": {
        "id": "OdPAigbnwGeG"
      },
      "source": [
        "# **Correlation**"
      ]
    },
    {
      "cell_type": "code",
      "metadata": {
        "colab": {
          "base_uri": "https://localhost:8080/"
        },
        "id": "MdaJVtgcwKE0",
        "outputId": "abb9d6dc-92d2-43b5-bad1-53249113958d"
      },
      "source": [
        "install.packages('Hmisc')"
      ],
      "execution_count": 157,
      "outputs": [
        {
          "output_type": "stream",
          "name": "stderr",
          "text": [
            "Installing package into ‘/usr/local/lib/R/site-library’\n",
            "(as ‘lib’ is unspecified)\n",
            "\n",
            "also installing the dependencies ‘png’, ‘jpeg’, ‘checkmate’, ‘htmlwidgets’, ‘Formula’, ‘latticeExtra’, ‘htmlTable’, ‘viridis’\n",
            "\n",
            "\n"
          ]
        }
      ]
    },
    {
      "cell_type": "code",
      "metadata": {
        "colab": {
          "base_uri": "https://localhost:8080/"
        },
        "id": "rh3Y5bswwoHS",
        "outputId": "0a138bc5-ee6a-437a-8c53-d885e228271c"
      },
      "source": [
        "library('Hmisc')"
      ],
      "execution_count": 158,
      "outputs": [
        {
          "output_type": "stream",
          "name": "stderr",
          "text": [
            "Loading required package: survival\n",
            "\n",
            "Loading required package: Formula\n",
            "\n",
            "\n",
            "Attaching package: ‘Hmisc’\n",
            "\n",
            "\n",
            "The following objects are masked from ‘package:dplyr’:\n",
            "\n",
            "    src, summarize\n",
            "\n",
            "\n",
            "The following objects are masked from ‘package:base’:\n",
            "\n",
            "    format.pval, units\n",
            "\n",
            "\n"
          ]
        }
      ]
    },
    {
      "cell_type": "code",
      "metadata": {
        "id": "GkKw7r0kzBEi"
      },
      "source": [
        "data.rcorr = rcorr(as.matrix(balanced_train2))"
      ],
      "execution_count": 161,
      "outputs": []
    },
    {
      "cell_type": "code",
      "metadata": {
        "id": "eZzRLijozhXm"
      },
      "source": [
        "data.coeff <- data.rcorr$r\n",
        "data.p <- data.rcorr$p"
      ],
      "execution_count": 163,
      "outputs": []
    },
    {
      "cell_type": "code",
      "metadata": {
        "colab": {
          "base_uri": "https://localhost:8080/",
          "height": 34
        },
        "id": "dlNSgu7n0HVH",
        "outputId": "1975b477-daaf-40dc-ca30-fb0e45ee49bd"
      },
      "source": [
        "dim(data.coeff)"
      ],
      "execution_count": 166,
      "outputs": [
        {
          "output_type": "display_data",
          "data": {
            "text/plain": [
              "[1] 141 141"
            ],
            "text/latex": "\\begin{enumerate*}\n\\item 141\n\\item 141\n\\end{enumerate*}\n",
            "text/markdown": "1. 141\n2. 141\n\n\n",
            "text/html": [
              "<style>\n",
              ".list-inline {list-style: none; margin:0; padding: 0}\n",
              ".list-inline>li {display: inline-block}\n",
              ".list-inline>li:not(:last-child)::after {content: \"\\00b7\"; padding: 0 .5ex}\n",
              "</style>\n",
              "<ol class=list-inline><li>141</li><li>141</li></ol>\n"
            ]
          },
          "metadata": {}
        }
      ]
    },
    {
      "cell_type": "code",
      "metadata": {
        "colab": {
          "base_uri": "https://localhost:8080/",
          "height": 148
        },
        "id": "q_SXl38Vz58A",
        "outputId": "341872cb-14a8-42c6-cbbe-caf6327d17d7"
      },
      "source": [
        "head(data.coeff,2)"
      ],
      "execution_count": 165,
      "outputs": [
        {
          "output_type": "display_data",
          "data": {
            "text/plain": [
              "       v2a1       hacdor     rooms      hacapo     v14a        refrig     \n",
              "v2a1    1.0000000 -0.1253396  0.2518694 -0.1226008  0.01369745  0.04368926\n",
              "hacdor -0.1253396  1.0000000 -0.1092352  0.5603715 -0.11175650 -0.16851422\n",
              "       v18q       v18q1       r4h1        r4h2        r4h3        r4m1        \n",
              "v2a1    0.1397904  0.13581476 -0.06294055 -0.01664942 -0.06007404 -0.005353963\n",
              "hacdor -0.1032761 -0.05804376  0.24875409  0.11585719  0.27957077  0.165207138\n",
              "       r4m2        r4m3        r4t1        r4t2         r4t3        tamhog     \n",
              "v2a1   0.008528524 0.002602566 -0.04527261 -0.005956775 -0.03716596 -0.03664938\n",
              "hacdor 0.042957335 0.153078657  0.27456436  0.103997729  0.28049606  0.28093304\n",
              "       tamviv      escolari    hhsize      paredblolad paredzocalo paredpreb  \n",
              "v2a1   -0.05260397  0.16601521 -0.03664938  0.1541914  -0.01950516 -0.09006843\n",
              "hacdor  0.50992215 -0.09716351  0.28093304 -0.1071496  -0.03422475 -0.06855398\n",
              "       pareddes    paredmad    paredzinc  paredfibras  paredother   pisomoscer\n",
              "v2a1   -0.01726494 -0.07445396 -0.1168394 -0.002124181 -0.001061950  0.2007299\n",
              "hacdor  0.10890350  0.07877991  0.3443020 -0.005309496 -0.002654398 -0.1039976\n",
              "       pisocemento pisoother    pisonatur    pisonotiene pisomadera \n",
              "v2a1   -0.16219364 -0.004115453 -0.005722941 -0.04960331 -0.07750612\n",
              "hacdor  0.01589726 -0.010286778  0.171629075  0.09165380  0.10288819\n",
              "       techozinc    techoentrepiso techocane    techootro    cielorazo \n",
              "v2a1    0.003227582  0.006507605   -0.004382415 -0.003186974  0.1821976\n",
              "hacdor -0.014787192 -0.044438641   -0.015378213 -0.007965998 -0.3049090\n",
              "       abastaguadentro abastaguafuera abastaguano public     planpri noelec\n",
              "v2a1    0.06569474     -0.06569474    NaN         0.05039964 NaN     NaN   \n",
              "hacdor -0.02036522      0.02036522    NaN         0.02232921 NaN     NaN   \n",
              "       coopele     sanitario1  sanitario2  sanitario3   sanitario5 \n",
              "v2a1   -0.06485269 -0.01865217  0.02583827 -0.009069704 -0.02434605\n",
              "hacdor -0.01442835  0.07777165 -0.10967462  0.120204231 -0.04907986\n",
              "       sanitario6   energcocinar1 energcocinar2 energcocinar3 energcocinar4\n",
              "v2a1   -0.031182507  0.0001434837  0.07640479   -0.07591014   -0.006991882 \n",
              "hacdor -0.009202753 -0.0163792246 -0.07146259    0.02167221    0.223721047 \n",
              "       elimbasu1   elimbasu2 elimbasu3 elimbasu4 elimbasu5 elimbasu6   \n",
              "v2a1   0.001061950 NaN       NaN       NaN       NaN       -0.001061950\n",
              "hacdor 0.002654398 NaN       NaN       NaN       NaN       -0.002654398\n",
              "       epared1     epared2    epared3    etecho1      etecho2     etecho3    \n",
              "v2a1   -0.06690166 -0.1292332  0.1709685 -0.043114245 -0.04336395  0.07686832\n",
              "hacdor  0.04663521  0.1804780 -0.2073809  0.007968346  0.07496166 -0.07422287\n",
              "       eviv1       eviv2       eviv3      dis         male         female      \n",
              "v2a1   -0.13334479 -0.08428195  0.1720804 -0.02629799 -0.007573566  0.007573566\n",
              "hacdor  0.05057943  0.11469171 -0.1356088  0.21659079  0.140706489 -0.140706489\n",
              "       estadocivil1 estadocivil2 estadocivil3 estadocivil4 estadocivil5\n",
              "v2a1   -0.03011547  0.0003236493  0.01738328   0.03111979   0.007674552\n",
              "hacdor  0.02303696  0.0387678210 -0.10861519  -0.04124459  -0.024203418\n",
              "       estadocivil6 estadocivil7 parentesco1 parentesco2 parentesco3\n",
              "v2a1   -0.02678864  0.00413008    0.02687387 -0.01363150 0.009169465\n",
              "hacdor -0.04267896  0.10241533   -0.09441288 -0.05971901 0.098195915\n",
              "       parentesco4 parentesco5  parentesco6 parentesco7  parentesco8 \n",
              "v2a1   -0.02615570 -0.002747087 -0.04486533 -0.002951888  0.007531024\n",
              "hacdor -0.02495278 -0.007352195  0.07956498 -0.018843038 -0.006972399\n",
              "       parentesco9 parentesco10 parentesco11 parentesco12 idhogar    \n",
              "v2a1   -0.01363927  0.04502294   0.01201085  -0.004388127 -0.09128399\n",
              "hacdor -0.02203363 -0.01621406  -0.01745390   0.119270781  0.12250800\n",
              "       hogar_nin   hogar_adul hogar_mayor hogar_total dependency   edjefe    \n",
              "v2a1   -0.06755146 0.03455781 -0.04065038 -0.03664938 -0.049140793  0.1157581\n",
              "hacdor  0.28996933 0.06640022 -0.09301526  0.28093304 -0.009399231 -0.1175173\n",
              "       edjefa      meaneduc   instlevel1  instlevel2  instlevel3  instlevel4 \n",
              "v2a1    0.07783187  0.2270694 -0.01816857 -0.07791399 -0.07374694 -0.04628775\n",
              "hacdor -0.03965677 -0.2146318 -0.01316662  0.06451408  0.12912806 -0.05284624\n",
              "       instlevel5  instlevel6  instlevel7 instlevel8  instlevel9  bedrooms   \n",
              "v2a1    0.03088535 -0.01326132 0.03805185  0.18053368  0.13569924  0.15420043\n",
              "hacdor -0.05901861 -0.02546639 0.00301453 -0.08337529 -0.02470847 -0.08801979\n",
              "       overcrowding tipovivi1   tipovivi2   tipovivi3   tipovivi4   tipovivi5  \n",
              "v2a1   -0.1714477   -0.09232032  0.28132274 -0.02850137 -0.01286705 -0.03306117\n",
              "hacdor  0.6149128    0.02700207 -0.06920925  0.01777535  0.04140772 -0.04656762\n",
              "       computer    television mobilephone qmobilephone lugar1 lugar2 lugar3\n",
              "v2a1    0.28067039 0.02143806  0.02166184 0.06888192   NaN    NaN    NaN   \n",
              "hacdor -0.06761348 0.01886928 -0.09994447 0.16068127   NaN    NaN    NaN   \n",
              "       lugar4 lugar5 lugar6 area1 area2 age          SQBescolari SQBage     \n",
              "v2a1   NaN    NaN    NaN    NaN   NaN   -0.007206118  0.211146   -0.02098708\n",
              "hacdor NaN    NaN    NaN    NaN   NaN   -0.146473973 -0.113897   -0.13729277\n",
              "       SQBhogar_total SQBedjefe  SQBhogar_nin SQBovercrowding SQBdependency\n",
              "v2a1   -0.06302229     0.1879032 -0.08246772  -0.1789146      -0.03219255  \n",
              "hacdor  0.37169339    -0.1100747  0.39703226   0.7238226      -0.02984980  \n",
              "       SQBmeaned  agesq       Target    \n",
              "v2a1    0.2200953 -0.02098708  0.1660720\n",
              "hacdor -0.1736189 -0.13729277 -0.1480744"
            ],
            "text/latex": "A matrix: 2 × 141 of type dbl\n\\begin{tabular}{r|lllllllllllllllllllllllllllllllllllllllllllllllllllllllllllllllllllllllllllllllllllllllllllllllllllllllllllllllllllllllllllllllllllllllllllll}\n  & v2a1 & hacdor & rooms & hacapo & v14a & refrig & v18q & v18q1 & r4h1 & r4h2 & r4h3 & r4m1 & r4m2 & r4m3 & r4t1 & r4t2 & r4t3 & tamhog & tamviv & escolari & hhsize & paredblolad & paredzocalo & paredpreb & pareddes & paredmad & paredzinc & paredfibras & paredother & pisomoscer & pisocemento & pisoother & pisonatur & pisonotiene & pisomadera & techozinc & techoentrepiso & techocane & techootro & cielorazo & abastaguadentro & abastaguafuera & abastaguano & public & planpri & noelec & coopele & sanitario1 & sanitario2 & sanitario3 & sanitario5 & sanitario6 & energcocinar1 & energcocinar2 & energcocinar3 & energcocinar4 & elimbasu1 & elimbasu2 & elimbasu3 & elimbasu4 & elimbasu5 & elimbasu6 & epared1 & epared2 & epared3 & etecho1 & etecho2 & etecho3 & eviv1 & eviv2 & eviv3 & dis & male & female & estadocivil1 & estadocivil2 & estadocivil3 & estadocivil4 & estadocivil5 & estadocivil6 & estadocivil7 & parentesco1 & parentesco2 & parentesco3 & parentesco4 & parentesco5 & parentesco6 & parentesco7 & parentesco8 & parentesco9 & parentesco10 & parentesco11 & parentesco12 & idhogar & hogar\\_nin & hogar\\_adul & hogar\\_mayor & hogar\\_total & dependency & edjefe & edjefa & meaneduc & instlevel1 & instlevel2 & instlevel3 & instlevel4 & instlevel5 & instlevel6 & instlevel7 & instlevel8 & instlevel9 & bedrooms & overcrowding & tipovivi1 & tipovivi2 & tipovivi3 & tipovivi4 & tipovivi5 & computer & television & mobilephone & qmobilephone & lugar1 & lugar2 & lugar3 & lugar4 & lugar5 & lugar6 & area1 & area2 & age & SQBescolari & SQBage & SQBhogar\\_total & SQBedjefe & SQBhogar\\_nin & SQBovercrowding & SQBdependency & SQBmeaned & agesq & Target\\\\\n\\hline\n\tv2a1 &  1.0000000 & -0.1253396 &  0.2518694 & -0.1226008 &  0.01369745 &  0.04368926 &  0.1397904 &  0.13581476 & -0.06294055 & -0.01664942 & -0.06007404 & -0.005353963 & 0.008528524 & 0.002602566 & -0.04527261 & -0.005956775 & -0.03716596 & -0.03664938 & -0.05260397 &  0.16601521 & -0.03664938 &  0.1541914 & -0.01950516 & -0.09006843 & -0.01726494 & -0.07445396 & -0.1168394 & -0.002124181 & -0.001061950 &  0.2007299 & -0.16219364 & -0.004115453 & -0.005722941 & -0.04960331 & -0.07750612 &  0.003227582 &  0.006507605 & -0.004382415 & -0.003186974 &  0.1821976 &  0.06569474 & -0.06569474 & NaN & 0.05039964 & NaN & NaN & -0.06485269 & -0.01865217 &  0.02583827 & -0.009069704 & -0.02434605 & -0.031182507 &  0.0001434837 &  0.07640479 & -0.07591014 & -0.006991882 & 0.001061950 & NaN & NaN & NaN & NaN & -0.001061950 & -0.06690166 & -0.1292332 &  0.1709685 & -0.043114245 & -0.04336395 &  0.07686832 & -0.13334479 & -0.08428195 &  0.1720804 & -0.02629799 & -0.007573566 &  0.007573566 & -0.03011547 & 0.0003236493 &  0.01738328 &  0.03111979 &  0.007674552 & -0.02678864 & 0.00413008 &  0.02687387 & -0.01363150 & 0.009169465 & -0.02615570 & -0.002747087 & -0.04486533 & -0.002951888 &  0.007531024 & -0.01363927 &  0.04502294 &  0.01201085 & -0.004388127 & -0.09128399 & -0.06755146 & 0.03455781 & -0.04065038 & -0.03664938 & -0.049140793 &  0.1157581 &  0.07783187 &  0.2270694 & -0.01816857 & -0.07791399 & -0.07374694 & -0.04628775 &  0.03088535 & -0.01326132 & 0.03805185 &  0.18053368 &  0.13569924 &  0.15420043 & -0.1714477 & -0.09232032 &  0.28132274 & -0.02850137 & -0.01286705 & -0.03306117 &  0.28067039 & 0.02143806 &  0.02166184 & 0.06888192 & NaN & NaN & NaN & NaN & NaN & NaN & NaN & NaN & -0.007206118 &  0.211146 & -0.02098708 & -0.06302229 &  0.1879032 & -0.08246772 & -0.1789146 & -0.03219255 &  0.2200953 & -0.02098708 &  0.1660720\\\\\n\thacdor & -0.1253396 &  1.0000000 & -0.1092352 &  0.5603715 & -0.11175650 & -0.16851422 & -0.1032761 & -0.05804376 &  0.24875409 &  0.11585719 &  0.27957077 &  0.165207138 & 0.042957335 & 0.153078657 &  0.27456436 &  0.103997729 &  0.28049606 &  0.28093304 &  0.50992215 & -0.09716351 &  0.28093304 & -0.1071496 & -0.03422475 & -0.06855398 &  0.10890350 &  0.07877991 &  0.3443020 & -0.005309496 & -0.002654398 & -0.1039976 &  0.01589726 & -0.010286778 &  0.171629075 &  0.09165380 &  0.10288819 & -0.014787192 & -0.044438641 & -0.015378213 & -0.007965998 & -0.3049090 & -0.02036522 &  0.02036522 & NaN & 0.02232921 & NaN & NaN & -0.01442835 &  0.07777165 & -0.10967462 &  0.120204231 & -0.04907986 & -0.009202753 & -0.0163792246 & -0.07146259 &  0.02167221 &  0.223721047 & 0.002654398 & NaN & NaN & NaN & NaN & -0.002654398 &  0.04663521 &  0.1804780 & -0.2073809 &  0.007968346 &  0.07496166 & -0.07422287 &  0.05057943 &  0.11469171 & -0.1356088 &  0.21659079 &  0.140706489 & -0.140706489 &  0.02303696 & 0.0387678210 & -0.10861519 & -0.04124459 & -0.024203418 & -0.04267896 & 0.10241533 & -0.09441288 & -0.05971901 & 0.098195915 & -0.02495278 & -0.007352195 &  0.07956498 & -0.018843038 & -0.006972399 & -0.02203363 & -0.01621406 & -0.01745390 &  0.119270781 &  0.12250800 &  0.28996933 & 0.06640022 & -0.09301526 &  0.28093304 & -0.009399231 & -0.1175173 & -0.03965677 & -0.2146318 & -0.01316662 &  0.06451408 &  0.12912806 & -0.05284624 & -0.05901861 & -0.02546639 & 0.00301453 & -0.08337529 & -0.02470847 & -0.08801979 &  0.6149128 &  0.02700207 & -0.06920925 &  0.01777535 &  0.04140772 & -0.04656762 & -0.06761348 & 0.01886928 & -0.09994447 & 0.16068127 & NaN & NaN & NaN & NaN & NaN & NaN & NaN & NaN & -0.146473973 & -0.113897 & -0.13729277 &  0.37169339 & -0.1100747 &  0.39703226 &  0.7238226 & -0.02984980 & -0.1736189 & -0.13729277 & -0.1480744\\\\\n\\end{tabular}\n",
            "text/markdown": "\nA matrix: 2 × 141 of type dbl\n\n| <!--/--> | v2a1 | hacdor | rooms | hacapo | v14a | refrig | v18q | v18q1 | r4h1 | r4h2 | r4h3 | r4m1 | r4m2 | r4m3 | r4t1 | r4t2 | r4t3 | tamhog | tamviv | escolari | hhsize | paredblolad | paredzocalo | paredpreb | pareddes | paredmad | paredzinc | paredfibras | paredother | pisomoscer | pisocemento | pisoother | pisonatur | pisonotiene | pisomadera | techozinc | techoentrepiso | techocane | techootro | cielorazo | abastaguadentro | abastaguafuera | abastaguano | public | planpri | noelec | coopele | sanitario1 | sanitario2 | sanitario3 | sanitario5 | sanitario6 | energcocinar1 | energcocinar2 | energcocinar3 | energcocinar4 | elimbasu1 | elimbasu2 | elimbasu3 | elimbasu4 | elimbasu5 | elimbasu6 | epared1 | epared2 | epared3 | etecho1 | etecho2 | etecho3 | eviv1 | eviv2 | eviv3 | dis | male | female | estadocivil1 | estadocivil2 | estadocivil3 | estadocivil4 | estadocivil5 | estadocivil6 | estadocivil7 | parentesco1 | parentesco2 | parentesco3 | parentesco4 | parentesco5 | parentesco6 | parentesco7 | parentesco8 | parentesco9 | parentesco10 | parentesco11 | parentesco12 | idhogar | hogar_nin | hogar_adul | hogar_mayor | hogar_total | dependency | edjefe | edjefa | meaneduc | instlevel1 | instlevel2 | instlevel3 | instlevel4 | instlevel5 | instlevel6 | instlevel7 | instlevel8 | instlevel9 | bedrooms | overcrowding | tipovivi1 | tipovivi2 | tipovivi3 | tipovivi4 | tipovivi5 | computer | television | mobilephone | qmobilephone | lugar1 | lugar2 | lugar3 | lugar4 | lugar5 | lugar6 | area1 | area2 | age | SQBescolari | SQBage | SQBhogar_total | SQBedjefe | SQBhogar_nin | SQBovercrowding | SQBdependency | SQBmeaned | agesq | Target |\n|---|---|---|---|---|---|---|---|---|---|---|---|---|---|---|---|---|---|---|---|---|---|---|---|---|---|---|---|---|---|---|---|---|---|---|---|---|---|---|---|---|---|---|---|---|---|---|---|---|---|---|---|---|---|---|---|---|---|---|---|---|---|---|---|---|---|---|---|---|---|---|---|---|---|---|---|---|---|---|---|---|---|---|---|---|---|---|---|---|---|---|---|---|---|---|---|---|---|---|---|---|---|---|---|---|---|---|---|---|---|---|---|---|---|---|---|---|---|---|---|---|---|---|---|---|---|---|---|---|---|---|---|---|---|---|---|---|---|---|---|---|---|\n| v2a1 |  1.0000000 | -0.1253396 |  0.2518694 | -0.1226008 |  0.01369745 |  0.04368926 |  0.1397904 |  0.13581476 | -0.06294055 | -0.01664942 | -0.06007404 | -0.005353963 | 0.008528524 | 0.002602566 | -0.04527261 | -0.005956775 | -0.03716596 | -0.03664938 | -0.05260397 |  0.16601521 | -0.03664938 |  0.1541914 | -0.01950516 | -0.09006843 | -0.01726494 | -0.07445396 | -0.1168394 | -0.002124181 | -0.001061950 |  0.2007299 | -0.16219364 | -0.004115453 | -0.005722941 | -0.04960331 | -0.07750612 |  0.003227582 |  0.006507605 | -0.004382415 | -0.003186974 |  0.1821976 |  0.06569474 | -0.06569474 | NaN | 0.05039964 | NaN | NaN | -0.06485269 | -0.01865217 |  0.02583827 | -0.009069704 | -0.02434605 | -0.031182507 |  0.0001434837 |  0.07640479 | -0.07591014 | -0.006991882 | 0.001061950 | NaN | NaN | NaN | NaN | -0.001061950 | -0.06690166 | -0.1292332 |  0.1709685 | -0.043114245 | -0.04336395 |  0.07686832 | -0.13334479 | -0.08428195 |  0.1720804 | -0.02629799 | -0.007573566 |  0.007573566 | -0.03011547 | 0.0003236493 |  0.01738328 |  0.03111979 |  0.007674552 | -0.02678864 | 0.00413008 |  0.02687387 | -0.01363150 | 0.009169465 | -0.02615570 | -0.002747087 | -0.04486533 | -0.002951888 |  0.007531024 | -0.01363927 |  0.04502294 |  0.01201085 | -0.004388127 | -0.09128399 | -0.06755146 | 0.03455781 | -0.04065038 | -0.03664938 | -0.049140793 |  0.1157581 |  0.07783187 |  0.2270694 | -0.01816857 | -0.07791399 | -0.07374694 | -0.04628775 |  0.03088535 | -0.01326132 | 0.03805185 |  0.18053368 |  0.13569924 |  0.15420043 | -0.1714477 | -0.09232032 |  0.28132274 | -0.02850137 | -0.01286705 | -0.03306117 |  0.28067039 | 0.02143806 |  0.02166184 | 0.06888192 | NaN | NaN | NaN | NaN | NaN | NaN | NaN | NaN | -0.007206118 |  0.211146 | -0.02098708 | -0.06302229 |  0.1879032 | -0.08246772 | -0.1789146 | -0.03219255 |  0.2200953 | -0.02098708 |  0.1660720 |\n| hacdor | -0.1253396 |  1.0000000 | -0.1092352 |  0.5603715 | -0.11175650 | -0.16851422 | -0.1032761 | -0.05804376 |  0.24875409 |  0.11585719 |  0.27957077 |  0.165207138 | 0.042957335 | 0.153078657 |  0.27456436 |  0.103997729 |  0.28049606 |  0.28093304 |  0.50992215 | -0.09716351 |  0.28093304 | -0.1071496 | -0.03422475 | -0.06855398 |  0.10890350 |  0.07877991 |  0.3443020 | -0.005309496 | -0.002654398 | -0.1039976 |  0.01589726 | -0.010286778 |  0.171629075 |  0.09165380 |  0.10288819 | -0.014787192 | -0.044438641 | -0.015378213 | -0.007965998 | -0.3049090 | -0.02036522 |  0.02036522 | NaN | 0.02232921 | NaN | NaN | -0.01442835 |  0.07777165 | -0.10967462 |  0.120204231 | -0.04907986 | -0.009202753 | -0.0163792246 | -0.07146259 |  0.02167221 |  0.223721047 | 0.002654398 | NaN | NaN | NaN | NaN | -0.002654398 |  0.04663521 |  0.1804780 | -0.2073809 |  0.007968346 |  0.07496166 | -0.07422287 |  0.05057943 |  0.11469171 | -0.1356088 |  0.21659079 |  0.140706489 | -0.140706489 |  0.02303696 | 0.0387678210 | -0.10861519 | -0.04124459 | -0.024203418 | -0.04267896 | 0.10241533 | -0.09441288 | -0.05971901 | 0.098195915 | -0.02495278 | -0.007352195 |  0.07956498 | -0.018843038 | -0.006972399 | -0.02203363 | -0.01621406 | -0.01745390 |  0.119270781 |  0.12250800 |  0.28996933 | 0.06640022 | -0.09301526 |  0.28093304 | -0.009399231 | -0.1175173 | -0.03965677 | -0.2146318 | -0.01316662 |  0.06451408 |  0.12912806 | -0.05284624 | -0.05901861 | -0.02546639 | 0.00301453 | -0.08337529 | -0.02470847 | -0.08801979 |  0.6149128 |  0.02700207 | -0.06920925 |  0.01777535 |  0.04140772 | -0.04656762 | -0.06761348 | 0.01886928 | -0.09994447 | 0.16068127 | NaN | NaN | NaN | NaN | NaN | NaN | NaN | NaN | -0.146473973 | -0.113897 | -0.13729277 |  0.37169339 | -0.1100747 |  0.39703226 |  0.7238226 | -0.02984980 | -0.1736189 | -0.13729277 | -0.1480744 |\n\n",
            "text/html": [
              "<table class=\"dataframe\">\n",
              "<caption>A matrix: 2 × 141 of type dbl</caption>\n",
              "<thead>\n",
              "\t<tr><th></th><th scope=col>v2a1</th><th scope=col>hacdor</th><th scope=col>rooms</th><th scope=col>hacapo</th><th scope=col>v14a</th><th scope=col>refrig</th><th scope=col>v18q</th><th scope=col>v18q1</th><th scope=col>r4h1</th><th scope=col>r4h2</th><th scope=col>r4h3</th><th scope=col>r4m1</th><th scope=col>r4m2</th><th scope=col>r4m3</th><th scope=col>r4t1</th><th scope=col>r4t2</th><th scope=col>r4t3</th><th scope=col>tamhog</th><th scope=col>tamviv</th><th scope=col>escolari</th><th scope=col>hhsize</th><th scope=col>paredblolad</th><th scope=col>paredzocalo</th><th scope=col>paredpreb</th><th scope=col>pareddes</th><th scope=col>paredmad</th><th scope=col>paredzinc</th><th scope=col>paredfibras</th><th scope=col>paredother</th><th scope=col>pisomoscer</th><th scope=col>pisocemento</th><th scope=col>pisoother</th><th scope=col>pisonatur</th><th scope=col>pisonotiene</th><th scope=col>pisomadera</th><th scope=col>techozinc</th><th scope=col>techoentrepiso</th><th scope=col>techocane</th><th scope=col>techootro</th><th scope=col>cielorazo</th><th scope=col>abastaguadentro</th><th scope=col>abastaguafuera</th><th scope=col>abastaguano</th><th scope=col>public</th><th scope=col>planpri</th><th scope=col>noelec</th><th scope=col>coopele</th><th scope=col>sanitario1</th><th scope=col>sanitario2</th><th scope=col>sanitario3</th><th scope=col>sanitario5</th><th scope=col>sanitario6</th><th scope=col>energcocinar1</th><th scope=col>energcocinar2</th><th scope=col>energcocinar3</th><th scope=col>energcocinar4</th><th scope=col>elimbasu1</th><th scope=col>elimbasu2</th><th scope=col>elimbasu3</th><th scope=col>elimbasu4</th><th scope=col>elimbasu5</th><th scope=col>elimbasu6</th><th scope=col>epared1</th><th scope=col>epared2</th><th scope=col>epared3</th><th scope=col>etecho1</th><th scope=col>etecho2</th><th scope=col>etecho3</th><th scope=col>eviv1</th><th scope=col>eviv2</th><th scope=col>eviv3</th><th scope=col>dis</th><th scope=col>male</th><th scope=col>female</th><th scope=col>estadocivil1</th><th scope=col>estadocivil2</th><th scope=col>estadocivil3</th><th scope=col>estadocivil4</th><th scope=col>estadocivil5</th><th scope=col>estadocivil6</th><th scope=col>estadocivil7</th><th scope=col>parentesco1</th><th scope=col>parentesco2</th><th scope=col>parentesco3</th><th scope=col>parentesco4</th><th scope=col>parentesco5</th><th scope=col>parentesco6</th><th scope=col>parentesco7</th><th scope=col>parentesco8</th><th scope=col>parentesco9</th><th scope=col>parentesco10</th><th scope=col>parentesco11</th><th scope=col>parentesco12</th><th scope=col>idhogar</th><th scope=col>hogar_nin</th><th scope=col>hogar_adul</th><th scope=col>hogar_mayor</th><th scope=col>hogar_total</th><th scope=col>dependency</th><th scope=col>edjefe</th><th scope=col>edjefa</th><th scope=col>meaneduc</th><th scope=col>instlevel1</th><th scope=col>instlevel2</th><th scope=col>instlevel3</th><th scope=col>instlevel4</th><th scope=col>instlevel5</th><th scope=col>instlevel6</th><th scope=col>instlevel7</th><th scope=col>instlevel8</th><th scope=col>instlevel9</th><th scope=col>bedrooms</th><th scope=col>overcrowding</th><th scope=col>tipovivi1</th><th scope=col>tipovivi2</th><th scope=col>tipovivi3</th><th scope=col>tipovivi4</th><th scope=col>tipovivi5</th><th scope=col>computer</th><th scope=col>television</th><th scope=col>mobilephone</th><th scope=col>qmobilephone</th><th scope=col>lugar1</th><th scope=col>lugar2</th><th scope=col>lugar3</th><th scope=col>lugar4</th><th scope=col>lugar5</th><th scope=col>lugar6</th><th scope=col>area1</th><th scope=col>area2</th><th scope=col>age</th><th scope=col>SQBescolari</th><th scope=col>SQBage</th><th scope=col>SQBhogar_total</th><th scope=col>SQBedjefe</th><th scope=col>SQBhogar_nin</th><th scope=col>SQBovercrowding</th><th scope=col>SQBdependency</th><th scope=col>SQBmeaned</th><th scope=col>agesq</th><th scope=col>Target</th></tr>\n",
              "</thead>\n",
              "<tbody>\n",
              "\t<tr><th scope=row>v2a1</th><td> 1.0000000</td><td>-0.1253396</td><td> 0.2518694</td><td>-0.1226008</td><td> 0.01369745</td><td> 0.04368926</td><td> 0.1397904</td><td> 0.13581476</td><td>-0.06294055</td><td>-0.01664942</td><td>-0.06007404</td><td>-0.005353963</td><td>0.008528524</td><td>0.002602566</td><td>-0.04527261</td><td>-0.005956775</td><td>-0.03716596</td><td>-0.03664938</td><td>-0.05260397</td><td> 0.16601521</td><td>-0.03664938</td><td> 0.1541914</td><td>-0.01950516</td><td>-0.09006843</td><td>-0.01726494</td><td>-0.07445396</td><td>-0.1168394</td><td>-0.002124181</td><td>-0.001061950</td><td> 0.2007299</td><td>-0.16219364</td><td>-0.004115453</td><td>-0.005722941</td><td>-0.04960331</td><td>-0.07750612</td><td> 0.003227582</td><td> 0.006507605</td><td>-0.004382415</td><td>-0.003186974</td><td> 0.1821976</td><td> 0.06569474</td><td>-0.06569474</td><td>NaN</td><td>0.05039964</td><td>NaN</td><td>NaN</td><td>-0.06485269</td><td>-0.01865217</td><td> 0.02583827</td><td>-0.009069704</td><td>-0.02434605</td><td>-0.031182507</td><td> 0.0001434837</td><td> 0.07640479</td><td>-0.07591014</td><td>-0.006991882</td><td>0.001061950</td><td>NaN</td><td>NaN</td><td>NaN</td><td>NaN</td><td>-0.001061950</td><td>-0.06690166</td><td>-0.1292332</td><td> 0.1709685</td><td>-0.043114245</td><td>-0.04336395</td><td> 0.07686832</td><td>-0.13334479</td><td>-0.08428195</td><td> 0.1720804</td><td>-0.02629799</td><td>-0.007573566</td><td> 0.007573566</td><td>-0.03011547</td><td>0.0003236493</td><td> 0.01738328</td><td> 0.03111979</td><td> 0.007674552</td><td>-0.02678864</td><td>0.00413008</td><td> 0.02687387</td><td>-0.01363150</td><td>0.009169465</td><td>-0.02615570</td><td>-0.002747087</td><td>-0.04486533</td><td>-0.002951888</td><td> 0.007531024</td><td>-0.01363927</td><td> 0.04502294</td><td> 0.01201085</td><td>-0.004388127</td><td>-0.09128399</td><td>-0.06755146</td><td>0.03455781</td><td>-0.04065038</td><td>-0.03664938</td><td>-0.049140793</td><td> 0.1157581</td><td> 0.07783187</td><td> 0.2270694</td><td>-0.01816857</td><td>-0.07791399</td><td>-0.07374694</td><td>-0.04628775</td><td> 0.03088535</td><td>-0.01326132</td><td>0.03805185</td><td> 0.18053368</td><td> 0.13569924</td><td> 0.15420043</td><td>-0.1714477</td><td>-0.09232032</td><td> 0.28132274</td><td>-0.02850137</td><td>-0.01286705</td><td>-0.03306117</td><td> 0.28067039</td><td>0.02143806</td><td> 0.02166184</td><td>0.06888192</td><td>NaN</td><td>NaN</td><td>NaN</td><td>NaN</td><td>NaN</td><td>NaN</td><td>NaN</td><td>NaN</td><td>-0.007206118</td><td> 0.211146</td><td>-0.02098708</td><td>-0.06302229</td><td> 0.1879032</td><td>-0.08246772</td><td>-0.1789146</td><td>-0.03219255</td><td> 0.2200953</td><td>-0.02098708</td><td> 0.1660720</td></tr>\n",
              "\t<tr><th scope=row>hacdor</th><td>-0.1253396</td><td> 1.0000000</td><td>-0.1092352</td><td> 0.5603715</td><td>-0.11175650</td><td>-0.16851422</td><td>-0.1032761</td><td>-0.05804376</td><td> 0.24875409</td><td> 0.11585719</td><td> 0.27957077</td><td> 0.165207138</td><td>0.042957335</td><td>0.153078657</td><td> 0.27456436</td><td> 0.103997729</td><td> 0.28049606</td><td> 0.28093304</td><td> 0.50992215</td><td>-0.09716351</td><td> 0.28093304</td><td>-0.1071496</td><td>-0.03422475</td><td>-0.06855398</td><td> 0.10890350</td><td> 0.07877991</td><td> 0.3443020</td><td>-0.005309496</td><td>-0.002654398</td><td>-0.1039976</td><td> 0.01589726</td><td>-0.010286778</td><td> 0.171629075</td><td> 0.09165380</td><td> 0.10288819</td><td>-0.014787192</td><td>-0.044438641</td><td>-0.015378213</td><td>-0.007965998</td><td>-0.3049090</td><td>-0.02036522</td><td> 0.02036522</td><td>NaN</td><td>0.02232921</td><td>NaN</td><td>NaN</td><td>-0.01442835</td><td> 0.07777165</td><td>-0.10967462</td><td> 0.120204231</td><td>-0.04907986</td><td>-0.009202753</td><td>-0.0163792246</td><td>-0.07146259</td><td> 0.02167221</td><td> 0.223721047</td><td>0.002654398</td><td>NaN</td><td>NaN</td><td>NaN</td><td>NaN</td><td>-0.002654398</td><td> 0.04663521</td><td> 0.1804780</td><td>-0.2073809</td><td> 0.007968346</td><td> 0.07496166</td><td>-0.07422287</td><td> 0.05057943</td><td> 0.11469171</td><td>-0.1356088</td><td> 0.21659079</td><td> 0.140706489</td><td>-0.140706489</td><td> 0.02303696</td><td>0.0387678210</td><td>-0.10861519</td><td>-0.04124459</td><td>-0.024203418</td><td>-0.04267896</td><td>0.10241533</td><td>-0.09441288</td><td>-0.05971901</td><td>0.098195915</td><td>-0.02495278</td><td>-0.007352195</td><td> 0.07956498</td><td>-0.018843038</td><td>-0.006972399</td><td>-0.02203363</td><td>-0.01621406</td><td>-0.01745390</td><td> 0.119270781</td><td> 0.12250800</td><td> 0.28996933</td><td>0.06640022</td><td>-0.09301526</td><td> 0.28093304</td><td>-0.009399231</td><td>-0.1175173</td><td>-0.03965677</td><td>-0.2146318</td><td>-0.01316662</td><td> 0.06451408</td><td> 0.12912806</td><td>-0.05284624</td><td>-0.05901861</td><td>-0.02546639</td><td>0.00301453</td><td>-0.08337529</td><td>-0.02470847</td><td>-0.08801979</td><td> 0.6149128</td><td> 0.02700207</td><td>-0.06920925</td><td> 0.01777535</td><td> 0.04140772</td><td>-0.04656762</td><td>-0.06761348</td><td>0.01886928</td><td>-0.09994447</td><td>0.16068127</td><td>NaN</td><td>NaN</td><td>NaN</td><td>NaN</td><td>NaN</td><td>NaN</td><td>NaN</td><td>NaN</td><td>-0.146473973</td><td>-0.113897</td><td>-0.13729277</td><td> 0.37169339</td><td>-0.1100747</td><td> 0.39703226</td><td> 0.7238226</td><td>-0.02984980</td><td>-0.1736189</td><td>-0.13729277</td><td>-0.1480744</td></tr>\n",
              "</tbody>\n",
              "</table>\n"
            ]
          },
          "metadata": {}
        }
      ]
    },
    {
      "cell_type": "code",
      "metadata": {
        "colab": {
          "base_uri": "https://localhost:8080/",
          "height": 159
        },
        "id": "G3lKYq_R0P1X",
        "outputId": "73e6ba33-89df-4511-9e84-7563da2ec91b"
      },
      "source": [
        "data.coeff1 <- as.data.frame(data.coeff[, 141])\n",
        "head(data.coeff1, 2)"
      ],
      "execution_count": 169,
      "outputs": [
        {
          "output_type": "display_data",
          "data": {
            "text/plain": [
              "       data.coeff[, 141]\n",
              "v2a1    0.1660720       \n",
              "hacdor -0.1480744       "
            ],
            "text/latex": "A data.frame: 2 × 1\n\\begin{tabular}{r|l}\n  & data.coeff{[}, 141{]}\\\\\n  & <dbl>\\\\\n\\hline\n\tv2a1 &  0.1660720\\\\\n\thacdor & -0.1480744\\\\\n\\end{tabular}\n",
            "text/markdown": "\nA data.frame: 2 × 1\n\n| <!--/--> | data.coeff[, 141] &lt;dbl&gt; |\n|---|---|\n| v2a1 |  0.1660720 |\n| hacdor | -0.1480744 |\n\n",
            "text/html": [
              "<table class=\"dataframe\">\n",
              "<caption>A data.frame: 2 × 1</caption>\n",
              "<thead>\n",
              "\t<tr><th></th><th scope=col>data.coeff[, 141]</th></tr>\n",
              "\t<tr><th></th><th scope=col>&lt;dbl&gt;</th></tr>\n",
              "</thead>\n",
              "<tbody>\n",
              "\t<tr><th scope=row>v2a1</th><td> 0.1660720</td></tr>\n",
              "\t<tr><th scope=row>hacdor</th><td>-0.1480744</td></tr>\n",
              "</tbody>\n",
              "</table>\n"
            ]
          },
          "metadata": {}
        }
      ]
    },
    {
      "cell_type": "code",
      "metadata": {
        "id": "bu0Caalm-xpe"
      },
      "source": [
        "data.coeff <- as.data.frame(data.coeff)"
      ],
      "execution_count": 185,
      "outputs": []
    },
    {
      "cell_type": "code",
      "metadata": {
        "colab": {
          "base_uri": "https://localhost:8080/",
          "height": 345
        },
        "id": "w-3MEt-q-1HV",
        "outputId": "6ea39ae3-3e60-4569-9a56-cbae2095eafc"
      },
      "source": [
        "data.coeff %>%\n",
        "  select(Target) %>%\n",
        "  arrange(desc(Target)) %>%\n",
        "  filter(Target > 0.3)"
      ],
      "execution_count": 186,
      "outputs": [
        {
          "output_type": "display_data",
          "data": {
            "text/plain": [
              "            Target   \n",
              "Target      1.0000000\n",
              "epared3     0.4817791\n",
              "etecho3     0.4593294\n",
              "paredblolad 0.3906844\n",
              "escolari    0.3651381\n",
              "SQBescolari 0.3487131\n",
              "age         0.3260164\n",
              "hogar_adul  0.3095190"
            ],
            "text/latex": "A data.frame: 8 × 1\n\\begin{tabular}{r|l}\n  & Target\\\\\n  & <dbl>\\\\\n\\hline\n\tTarget & 1.0000000\\\\\n\tepared3 & 0.4817791\\\\\n\tetecho3 & 0.4593294\\\\\n\tparedblolad & 0.3906844\\\\\n\tescolari & 0.3651381\\\\\n\tSQBescolari & 0.3487131\\\\\n\tage & 0.3260164\\\\\n\thogar\\_adul & 0.3095190\\\\\n\\end{tabular}\n",
            "text/markdown": "\nA data.frame: 8 × 1\n\n| <!--/--> | Target &lt;dbl&gt; |\n|---|---|\n| Target | 1.0000000 |\n| epared3 | 0.4817791 |\n| etecho3 | 0.4593294 |\n| paredblolad | 0.3906844 |\n| escolari | 0.3651381 |\n| SQBescolari | 0.3487131 |\n| age | 0.3260164 |\n| hogar_adul | 0.3095190 |\n\n",
            "text/html": [
              "<table class=\"dataframe\">\n",
              "<caption>A data.frame: 8 × 1</caption>\n",
              "<thead>\n",
              "\t<tr><th></th><th scope=col>Target</th></tr>\n",
              "\t<tr><th></th><th scope=col>&lt;dbl&gt;</th></tr>\n",
              "</thead>\n",
              "<tbody>\n",
              "\t<tr><th scope=row>Target</th><td>1.0000000</td></tr>\n",
              "\t<tr><th scope=row>epared3</th><td>0.4817791</td></tr>\n",
              "\t<tr><th scope=row>etecho3</th><td>0.4593294</td></tr>\n",
              "\t<tr><th scope=row>paredblolad</th><td>0.3906844</td></tr>\n",
              "\t<tr><th scope=row>escolari</th><td>0.3651381</td></tr>\n",
              "\t<tr><th scope=row>SQBescolari</th><td>0.3487131</td></tr>\n",
              "\t<tr><th scope=row>age</th><td>0.3260164</td></tr>\n",
              "\t<tr><th scope=row>hogar_adul</th><td>0.3095190</td></tr>\n",
              "</tbody>\n",
              "</table>\n"
            ]
          },
          "metadata": {}
        }
      ]
    },
    {
      "cell_type": "code",
      "metadata": {
        "colab": {
          "base_uri": "https://localhost:8080/",
          "height": 438
        },
        "id": "pQVyTHZB2Q5g",
        "outputId": "e66ab70e-8605-40fe-e17a-c954d7b77989"
      },
      "source": [
        "data.coeff %>%\n",
        "  select(Target) %>%\n",
        "  arrange(Target) %>%\n",
        "  filter(Target < -0.3)"
      ],
      "execution_count": 187,
      "outputs": [
        {
          "output_type": "display_data",
          "data": {
            "text/plain": [
              "             Target    \n",
              "r4t1         -0.5441837\n",
              "etecho1      -0.4585212\n",
              "hogar_nin    -0.4572691\n",
              "r4m1         -0.4295140\n",
              "epared2      -0.4042962\n",
              "r4h1         -0.3908563\n",
              "paredzocalo  -0.3782449\n",
              "SQBhogar_nin -0.3440485\n",
              "estadocivil1 -0.3243198\n",
              "instlevel1   -0.3141549\n",
              "overcrowding -0.3009727"
            ],
            "text/latex": "A data.frame: 11 × 1\n\\begin{tabular}{r|l}\n  & Target\\\\\n  & <dbl>\\\\\n\\hline\n\tr4t1 & -0.5441837\\\\\n\tetecho1 & -0.4585212\\\\\n\thogar\\_nin & -0.4572691\\\\\n\tr4m1 & -0.4295140\\\\\n\tepared2 & -0.4042962\\\\\n\tr4h1 & -0.3908563\\\\\n\tparedzocalo & -0.3782449\\\\\n\tSQBhogar\\_nin & -0.3440485\\\\\n\testadocivil1 & -0.3243198\\\\\n\tinstlevel1 & -0.3141549\\\\\n\tovercrowding & -0.3009727\\\\\n\\end{tabular}\n",
            "text/markdown": "\nA data.frame: 11 × 1\n\n| <!--/--> | Target &lt;dbl&gt; |\n|---|---|\n| r4t1 | -0.5441837 |\n| etecho1 | -0.4585212 |\n| hogar_nin | -0.4572691 |\n| r4m1 | -0.4295140 |\n| epared2 | -0.4042962 |\n| r4h1 | -0.3908563 |\n| paredzocalo | -0.3782449 |\n| SQBhogar_nin | -0.3440485 |\n| estadocivil1 | -0.3243198 |\n| instlevel1 | -0.3141549 |\n| overcrowding | -0.3009727 |\n\n",
            "text/html": [
              "<table class=\"dataframe\">\n",
              "<caption>A data.frame: 11 × 1</caption>\n",
              "<thead>\n",
              "\t<tr><th></th><th scope=col>Target</th></tr>\n",
              "\t<tr><th></th><th scope=col>&lt;dbl&gt;</th></tr>\n",
              "</thead>\n",
              "<tbody>\n",
              "\t<tr><th scope=row>r4t1</th><td>-0.5441837</td></tr>\n",
              "\t<tr><th scope=row>etecho1</th><td>-0.4585212</td></tr>\n",
              "\t<tr><th scope=row>hogar_nin</th><td>-0.4572691</td></tr>\n",
              "\t<tr><th scope=row>r4m1</th><td>-0.4295140</td></tr>\n",
              "\t<tr><th scope=row>epared2</th><td>-0.4042962</td></tr>\n",
              "\t<tr><th scope=row>r4h1</th><td>-0.3908563</td></tr>\n",
              "\t<tr><th scope=row>paredzocalo</th><td>-0.3782449</td></tr>\n",
              "\t<tr><th scope=row>SQBhogar_nin</th><td>-0.3440485</td></tr>\n",
              "\t<tr><th scope=row>estadocivil1</th><td>-0.3243198</td></tr>\n",
              "\t<tr><th scope=row>instlevel1</th><td>-0.3141549</td></tr>\n",
              "\t<tr><th scope=row>overcrowding</th><td>-0.3009727</td></tr>\n",
              "</tbody>\n",
              "</table>\n"
            ]
          },
          "metadata": {}
        }
      ]
    }
  ]
}