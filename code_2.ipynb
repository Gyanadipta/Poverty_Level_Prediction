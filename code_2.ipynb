{
  "nbformat": 4,
  "nbformat_minor": 0,
  "metadata": {
    "colab": {
      "name": "FDA Project.ipynb",
      "provenance": [],
      "collapsed_sections": [],
      "include_colab_link": true
    },
    "kernelspec": {
      "display_name": "R",
      "name": "ir"
    },
    "language_info": {
      "name": "R"
    }
  },
  "cells": [
    {
      "cell_type": "markdown",
      "metadata": {
        "id": "view-in-github",
        "colab_type": "text"
      },
      "source": [
        "<a href=\"https://colab.research.google.com/github/Meghs1424/Poverty-Level-Prediction/blob/main/FDA_Project.ipynb\" target=\"_parent\"><img src=\"https://colab.research.google.com/assets/colab-badge.svg\" alt=\"Open In Colab\"/></a>"
      ]
    },
    {
      "cell_type": "code",
      "metadata": {
        "colab": {
          "base_uri": "https://localhost:8080/",
          "height": 34
        },
        "id": "Wh3aHJW22hnt",
        "outputId": "8d4399fc-30c9-4186-9dad-6a0f508ca72a"
      },
      "source": [
        "R.version.string"
      ],
      "execution_count": 1,
      "outputs": [
        {
          "output_type": "display_data",
          "data": {
            "text/plain": [
              "[1] \"R version 4.1.1 (2021-08-10)\""
            ],
            "text/latex": "'R version 4.1.1 (2021-08-10)'",
            "text/markdown": "'R version 4.1.1 (2021-08-10)'",
            "text/html": [
              "'R version 4.1.1 (2021-08-10)'"
            ]
          },
          "metadata": {}
        }
      ]
    },
    {
      "cell_type": "code",
      "metadata": {
        "colab": {
          "base_uri": "https://localhost:8080/"
        },
        "id": "cnLY8Cro5Xzg",
        "outputId": "f7f60cf9-3583-4b30-9e8d-0934b54d701f"
      },
      "source": [
        "# Library block\n",
        "library(readr)\n",
        "library(ggplot2)\n",
        "library(tidyverse)\n",
        "library(rpart)"
      ],
      "execution_count": 2,
      "outputs": [
        {
          "output_type": "stream",
          "name": "stderr",
          "text": [
            "Warning message in system(\"timedatectl\", intern = TRUE):\n",
            "“running command 'timedatectl' had status 1”\n",
            "── \u001b[1mAttaching packages\u001b[22m ─────────────────────────────────────── tidyverse 1.3.1 ──\n",
            "\n",
            "\u001b[32m✔\u001b[39m \u001b[34mtibble \u001b[39m 3.1.5     \u001b[32m✔\u001b[39m \u001b[34mdplyr  \u001b[39m 1.0.7\n",
            "\u001b[32m✔\u001b[39m \u001b[34mtidyr  \u001b[39m 1.1.4     \u001b[32m✔\u001b[39m \u001b[34mstringr\u001b[39m 1.4.0\n",
            "\u001b[32m✔\u001b[39m \u001b[34mpurrr  \u001b[39m 0.3.4     \u001b[32m✔\u001b[39m \u001b[34mforcats\u001b[39m 0.5.1\n",
            "\n",
            "── \u001b[1mConflicts\u001b[22m ────────────────────────────────────────── tidyverse_conflicts() ──\n",
            "\u001b[31m✖\u001b[39m \u001b[34mdplyr\u001b[39m::\u001b[32mfilter()\u001b[39m masks \u001b[34mstats\u001b[39m::filter()\n",
            "\u001b[31m✖\u001b[39m \u001b[34mdplyr\u001b[39m::\u001b[32mlag()\u001b[39m    masks \u001b[34mstats\u001b[39m::lag()\n",
            "\n"
          ]
        }
      ]
    },
    {
      "cell_type": "code",
      "metadata": {
        "colab": {
          "base_uri": "https://localhost:8080/",
          "height": 34
        },
        "id": "okX7t9YO4OUU",
        "outputId": "84bd96a4-4955-461f-e71c-9a16c19aa6da"
      },
      "source": [
        "train = read.csv(\"train.csv\")\n",
        "dim(train)"
      ],
      "execution_count": 3,
      "outputs": [
        {
          "output_type": "display_data",
          "data": {
            "text/plain": [
              "[1] 9557  143"
            ],
            "text/latex": "\\begin{enumerate*}\n\\item 9557\n\\item 143\n\\end{enumerate*}\n",
            "text/markdown": "1. 9557\n2. 143\n\n\n",
            "text/html": [
              "<style>\n",
              ".list-inline {list-style: none; margin:0; padding: 0}\n",
              ".list-inline>li {display: inline-block}\n",
              ".list-inline>li:not(:last-child)::after {content: \"\\00b7\"; padding: 0 .5ex}\n",
              "</style>\n",
              "<ol class=list-inline><li>9557</li><li>143</li></ol>\n"
            ]
          },
          "metadata": {}
        }
      ]
    },
    {
      "cell_type": "code",
      "metadata": {
        "colab": {
          "base_uri": "https://localhost:8080/",
          "height": 302
        },
        "id": "XNe-DBl85g_B",
        "outputId": "1eaa4c5f-304c-4d7d-987b-d6e63490ab2a"
      },
      "source": [
        "head(train)"
      ],
      "execution_count": 4,
      "outputs": [
        {
          "output_type": "display_data",
          "data": {
            "text/plain": [
              "  Id           v2a1   hacdor rooms hacapo v14a refrig v18q v18q1 r4h1 ⋯\n",
              "1 ID_279628684 190000 0      3     0      1    1      0    NA    0    ⋯\n",
              "2 ID_f29eb3ddd 135000 0      4     0      1    1      1     1    0    ⋯\n",
              "3 ID_68de51c94     NA 0      8     0      1    1      0    NA    0    ⋯\n",
              "4 ID_d671db89c 180000 0      5     0      1    1      1     1    0    ⋯\n",
              "5 ID_d56d6f5f5 180000 0      5     0      1    1      1     1    0    ⋯\n",
              "6 ID_ec05b1a7b 180000 0      5     0      1    1      1     1    0    ⋯\n",
              "  SQBescolari SQBage SQBhogar_total SQBedjefe SQBhogar_nin SQBovercrowding\n",
              "1 100         1849    1             100       0            1.000000       \n",
              "2 144         4489    1             144       0            1.000000       \n",
              "3 121         8464    1               0       0            0.250000       \n",
              "4  81          289   16             121       4            1.777778       \n",
              "5 121         1369   16             121       4            1.777778       \n",
              "6 121         1444   16             121       4            1.777778       \n",
              "  SQBdependency SQBmeaned agesq Target\n",
              "1  0            100       1849  4     \n",
              "2 64            144       4489  4     \n",
              "3 64            121       8464  4     \n",
              "4  1            121        289  4     \n",
              "5  1            121       1369  4     \n",
              "6  1            121       1444  4     "
            ],
            "text/latex": "A data.frame: 6 × 143\n\\begin{tabular}{r|lllllllllllllllllllll}\n  & Id & v2a1 & hacdor & rooms & hacapo & v14a & refrig & v18q & v18q1 & r4h1 & ⋯ & SQBescolari & SQBage & SQBhogar\\_total & SQBedjefe & SQBhogar\\_nin & SQBovercrowding & SQBdependency & SQBmeaned & agesq & Target\\\\\n  & <chr> & <dbl> & <int> & <int> & <int> & <int> & <int> & <int> & <int> & <int> & ⋯ & <int> & <int> & <int> & <int> & <int> & <dbl> & <dbl> & <dbl> & <int> & <int>\\\\\n\\hline\n\t1 & ID\\_279628684 & 190000 & 0 & 3 & 0 & 1 & 1 & 0 & NA & 0 & ⋯ & 100 & 1849 &  1 & 100 & 0 & 1.000000 &  0 & 100 & 1849 & 4\\\\\n\t2 & ID\\_f29eb3ddd & 135000 & 0 & 4 & 0 & 1 & 1 & 1 &  1 & 0 & ⋯ & 144 & 4489 &  1 & 144 & 0 & 1.000000 & 64 & 144 & 4489 & 4\\\\\n\t3 & ID\\_68de51c94 &     NA & 0 & 8 & 0 & 1 & 1 & 0 & NA & 0 & ⋯ & 121 & 8464 &  1 &   0 & 0 & 0.250000 & 64 & 121 & 8464 & 4\\\\\n\t4 & ID\\_d671db89c & 180000 & 0 & 5 & 0 & 1 & 1 & 1 &  1 & 0 & ⋯ &  81 &  289 & 16 & 121 & 4 & 1.777778 &  1 & 121 &  289 & 4\\\\\n\t5 & ID\\_d56d6f5f5 & 180000 & 0 & 5 & 0 & 1 & 1 & 1 &  1 & 0 & ⋯ & 121 & 1369 & 16 & 121 & 4 & 1.777778 &  1 & 121 & 1369 & 4\\\\\n\t6 & ID\\_ec05b1a7b & 180000 & 0 & 5 & 0 & 1 & 1 & 1 &  1 & 0 & ⋯ & 121 & 1444 & 16 & 121 & 4 & 1.777778 &  1 & 121 & 1444 & 4\\\\\n\\end{tabular}\n",
            "text/markdown": "\nA data.frame: 6 × 143\n\n| <!--/--> | Id &lt;chr&gt; | v2a1 &lt;dbl&gt; | hacdor &lt;int&gt; | rooms &lt;int&gt; | hacapo &lt;int&gt; | v14a &lt;int&gt; | refrig &lt;int&gt; | v18q &lt;int&gt; | v18q1 &lt;int&gt; | r4h1 &lt;int&gt; | ⋯ ⋯ | SQBescolari &lt;int&gt; | SQBage &lt;int&gt; | SQBhogar_total &lt;int&gt; | SQBedjefe &lt;int&gt; | SQBhogar_nin &lt;int&gt; | SQBovercrowding &lt;dbl&gt; | SQBdependency &lt;dbl&gt; | SQBmeaned &lt;dbl&gt; | agesq &lt;int&gt; | Target &lt;int&gt; |\n|---|---|---|---|---|---|---|---|---|---|---|---|---|---|---|---|---|---|---|---|---|---|\n| 1 | ID_279628684 | 190000 | 0 | 3 | 0 | 1 | 1 | 0 | NA | 0 | ⋯ | 100 | 1849 |  1 | 100 | 0 | 1.000000 |  0 | 100 | 1849 | 4 |\n| 2 | ID_f29eb3ddd | 135000 | 0 | 4 | 0 | 1 | 1 | 1 |  1 | 0 | ⋯ | 144 | 4489 |  1 | 144 | 0 | 1.000000 | 64 | 144 | 4489 | 4 |\n| 3 | ID_68de51c94 |     NA | 0 | 8 | 0 | 1 | 1 | 0 | NA | 0 | ⋯ | 121 | 8464 |  1 |   0 | 0 | 0.250000 | 64 | 121 | 8464 | 4 |\n| 4 | ID_d671db89c | 180000 | 0 | 5 | 0 | 1 | 1 | 1 |  1 | 0 | ⋯ |  81 |  289 | 16 | 121 | 4 | 1.777778 |  1 | 121 |  289 | 4 |\n| 5 | ID_d56d6f5f5 | 180000 | 0 | 5 | 0 | 1 | 1 | 1 |  1 | 0 | ⋯ | 121 | 1369 | 16 | 121 | 4 | 1.777778 |  1 | 121 | 1369 | 4 |\n| 6 | ID_ec05b1a7b | 180000 | 0 | 5 | 0 | 1 | 1 | 1 |  1 | 0 | ⋯ | 121 | 1444 | 16 | 121 | 4 | 1.777778 |  1 | 121 | 1444 | 4 |\n\n",
            "text/html": [
              "<table class=\"dataframe\">\n",
              "<caption>A data.frame: 6 × 143</caption>\n",
              "<thead>\n",
              "\t<tr><th></th><th scope=col>Id</th><th scope=col>v2a1</th><th scope=col>hacdor</th><th scope=col>rooms</th><th scope=col>hacapo</th><th scope=col>v14a</th><th scope=col>refrig</th><th scope=col>v18q</th><th scope=col>v18q1</th><th scope=col>r4h1</th><th scope=col>⋯</th><th scope=col>SQBescolari</th><th scope=col>SQBage</th><th scope=col>SQBhogar_total</th><th scope=col>SQBedjefe</th><th scope=col>SQBhogar_nin</th><th scope=col>SQBovercrowding</th><th scope=col>SQBdependency</th><th scope=col>SQBmeaned</th><th scope=col>agesq</th><th scope=col>Target</th></tr>\n",
              "\t<tr><th></th><th scope=col>&lt;chr&gt;</th><th scope=col>&lt;dbl&gt;</th><th scope=col>&lt;int&gt;</th><th scope=col>&lt;int&gt;</th><th scope=col>&lt;int&gt;</th><th scope=col>&lt;int&gt;</th><th scope=col>&lt;int&gt;</th><th scope=col>&lt;int&gt;</th><th scope=col>&lt;int&gt;</th><th scope=col>&lt;int&gt;</th><th scope=col>⋯</th><th scope=col>&lt;int&gt;</th><th scope=col>&lt;int&gt;</th><th scope=col>&lt;int&gt;</th><th scope=col>&lt;int&gt;</th><th scope=col>&lt;int&gt;</th><th scope=col>&lt;dbl&gt;</th><th scope=col>&lt;dbl&gt;</th><th scope=col>&lt;dbl&gt;</th><th scope=col>&lt;int&gt;</th><th scope=col>&lt;int&gt;</th></tr>\n",
              "</thead>\n",
              "<tbody>\n",
              "\t<tr><th scope=row>1</th><td>ID_279628684</td><td>190000</td><td>0</td><td>3</td><td>0</td><td>1</td><td>1</td><td>0</td><td>NA</td><td>0</td><td>⋯</td><td>100</td><td>1849</td><td> 1</td><td>100</td><td>0</td><td>1.000000</td><td> 0</td><td>100</td><td>1849</td><td>4</td></tr>\n",
              "\t<tr><th scope=row>2</th><td>ID_f29eb3ddd</td><td>135000</td><td>0</td><td>4</td><td>0</td><td>1</td><td>1</td><td>1</td><td> 1</td><td>0</td><td>⋯</td><td>144</td><td>4489</td><td> 1</td><td>144</td><td>0</td><td>1.000000</td><td>64</td><td>144</td><td>4489</td><td>4</td></tr>\n",
              "\t<tr><th scope=row>3</th><td>ID_68de51c94</td><td>    NA</td><td>0</td><td>8</td><td>0</td><td>1</td><td>1</td><td>0</td><td>NA</td><td>0</td><td>⋯</td><td>121</td><td>8464</td><td> 1</td><td>  0</td><td>0</td><td>0.250000</td><td>64</td><td>121</td><td>8464</td><td>4</td></tr>\n",
              "\t<tr><th scope=row>4</th><td>ID_d671db89c</td><td>180000</td><td>0</td><td>5</td><td>0</td><td>1</td><td>1</td><td>1</td><td> 1</td><td>0</td><td>⋯</td><td> 81</td><td> 289</td><td>16</td><td>121</td><td>4</td><td>1.777778</td><td> 1</td><td>121</td><td> 289</td><td>4</td></tr>\n",
              "\t<tr><th scope=row>5</th><td>ID_d56d6f5f5</td><td>180000</td><td>0</td><td>5</td><td>0</td><td>1</td><td>1</td><td>1</td><td> 1</td><td>0</td><td>⋯</td><td>121</td><td>1369</td><td>16</td><td>121</td><td>4</td><td>1.777778</td><td> 1</td><td>121</td><td>1369</td><td>4</td></tr>\n",
              "\t<tr><th scope=row>6</th><td>ID_ec05b1a7b</td><td>180000</td><td>0</td><td>5</td><td>0</td><td>1</td><td>1</td><td>1</td><td> 1</td><td>0</td><td>⋯</td><td>121</td><td>1444</td><td>16</td><td>121</td><td>4</td><td>1.777778</td><td> 1</td><td>121</td><td>1444</td><td>4</td></tr>\n",
              "</tbody>\n",
              "</table>\n"
            ]
          },
          "metadata": {}
        }
      ]
    },
    {
      "cell_type": "code",
      "metadata": {
        "colab": {
          "base_uri": "https://localhost:8080/",
          "height": 1000
        },
        "id": "Biokw1okWkOC",
        "outputId": "e86b99a8-b11b-47ed-dc0e-e4f1bddb2bc8"
      },
      "source": [
        "features = read_csv(\"codebook.csv\")\n",
        "features"
      ],
      "execution_count": 5,
      "outputs": [
        {
          "output_type": "stream",
          "name": "stderr",
          "text": [
            "\u001b[1mRows: \u001b[22m\u001b[34m141\u001b[39m \u001b[1mColumns: \u001b[22m\u001b[34m2\u001b[39m\n",
            "\n",
            "\u001b[36m──\u001b[39m \u001b[1mColumn specification\u001b[22m \u001b[36m────────────────────────────────────────────────────────\u001b[39m\n",
            "\u001b[1mDelimiter:\u001b[22m \",\"\n",
            "\u001b[31mchr\u001b[39m (2): Variable name, Variable description\n",
            "\n",
            "\n",
            "\u001b[36mℹ\u001b[39m Use \u001b[30m\u001b[47m\u001b[30m\u001b[47m`spec()`\u001b[47m\u001b[30m\u001b[49m\u001b[39m to retrieve the full column specification for this data.\n",
            "\u001b[36mℹ\u001b[39m Specify the column types or set \u001b[30m\u001b[47m\u001b[30m\u001b[47m`show_col_types = FALSE`\u001b[47m\u001b[30m\u001b[49m\u001b[39m to quiet this message.\n",
            "\n"
          ]
        },
        {
          "output_type": "display_data",
          "data": {
            "text/plain": [
              "    Variable name  \n",
              "1   v2a1           \n",
              "2   hacdor         \n",
              "3   rooms          \n",
              "4   hacapo         \n",
              "5   v14a           \n",
              "6   refrig         \n",
              "7   v18q           \n",
              "8   v18q1          \n",
              "9   r4h1           \n",
              "10  r4h2           \n",
              "11  r4h3           \n",
              "12  r4m1           \n",
              "13  r4m2           \n",
              "14  r4m3           \n",
              "15  r4t1           \n",
              "16  r4t2           \n",
              "17  r4t3           \n",
              "18  tamhog         \n",
              "19  tamviv         \n",
              "20  escolari       \n",
              "21  rez_esc        \n",
              "22  hhsize         \n",
              "23  paredblolad    \n",
              "24  paredzocalo    \n",
              "25  paredpreb      \n",
              "26  pareddes       \n",
              "27  paredmad       \n",
              "28  paredzinc      \n",
              "29  paredfibras    \n",
              "30  paredother     \n",
              "⋮   ⋮              \n",
              "112 instlevel9     \n",
              "113 bedrooms       \n",
              "114 overcrowding   \n",
              "115 tipovivi1      \n",
              "116 tipovivi2      \n",
              "117 tipovivi3      \n",
              "118 tipovivi4      \n",
              "119 tipovivi5      \n",
              "120 computer       \n",
              "121 television     \n",
              "122 mobilephone    \n",
              "123 qmobilephone   \n",
              "124 lugar1         \n",
              "125 lugar2         \n",
              "126 lugar3         \n",
              "127 lugar4         \n",
              "128 lugar5         \n",
              "129 lugar6         \n",
              "130 area1          \n",
              "131 area2          \n",
              "132 age            \n",
              "133 SQBescolari    \n",
              "134 SQBage         \n",
              "135 SQBhogar_total \n",
              "136 SQBedjefe      \n",
              "137 SQBhogar_nin   \n",
              "138 SQBovercrowding\n",
              "139 SQBdependency  \n",
              "140 SQBmeaned      \n",
              "141 agesq          \n",
              "    Variable description                                                            \n",
              "1   Monthly rent payment                                                            \n",
              "2   =1 Overcrowding by bedrooms                                                     \n",
              "3   number of all rooms in the house                                                \n",
              "4   =1 Overcrowding by rooms                                                        \n",
              "5   =1 has toilet in the household                                                  \n",
              "6   =1 if the household has refrigerator                                            \n",
              "7   owns a tablet                                                                   \n",
              "8   number of tablets household owns                                                \n",
              "9   Males younger than 12 years of age                                              \n",
              "10  Males 12 years of age and older                                                 \n",
              "11  Total males in the household                                                    \n",
              "12  Females younger than 12 years of age                                            \n",
              "13  Females 12 years of age and older                                               \n",
              "14  Total females in the household                                                  \n",
              "15  persons younger than 12 years of age                                            \n",
              "16  persons 12 years of age and older                                               \n",
              "17  Total persons in the household                                                  \n",
              "18  size of the household                                                           \n",
              "19  TamViv                                                                          \n",
              "20  years of schooling                                                              \n",
              "21  Years behind in school                                                          \n",
              "22  household size                                                                  \n",
              "23  =1 if predominant material on the outside wall is block or brick                \n",
              "24  =1 if predominant material on the outside wall is socket (wood, zinc or absbesto\n",
              "25  =1 if predominant material on the outside wall is prefabricated or cement       \n",
              "26  =1 if predominant material on the outside wall is waste material                \n",
              "27  =1 if predominant material on the outside wall is wood                          \n",
              "28  =1 if predominant material on the outside wall is zink                          \n",
              "29  =1 if predominant material on the outside wall is natural fibers                \n",
              "30  =1 if predominant material on the outside wall is other                         \n",
              "⋮   ⋮                                                                               \n",
              "112 =1 postgraduate higher education                                                \n",
              "113 number of bedrooms                                                              \n",
              "114 # persons per room                                                              \n",
              "115 =1 own and fully paid house                                                     \n",
              "116 =1 own, paying in installments                                                  \n",
              "117 =1 rented                                                                       \n",
              "118 =1 precarious                                                                   \n",
              "119 =1 other(assigned, borrowed)                                                    \n",
              "120 =1 if the household has notebook or desktop computer                            \n",
              "121 =1 if the household has TV                                                      \n",
              "122 =1 if mobile phone                                                              \n",
              "123 # of mobile phones                                                              \n",
              "124 =1 region Central                                                               \n",
              "125 =1 region Chorotega                                                             \n",
              "126 =1 region PacÃƒÂ­fico central                                                   \n",
              "127 =1 region Brunca                                                                \n",
              "128 =1 region Huetar AtlÃƒÂ¡ntica                                                   \n",
              "129 =1 region Huetar Norte                                                          \n",
              "130 =1 zona urbana                                                                  \n",
              "131 =2 zona rural                                                                   \n",
              "132 Age in years                                                                    \n",
              "133 escolari squared                                                                \n",
              "134 age squared                                                                     \n",
              "135 hogar_total squared                                                             \n",
              "136 edjefe squared                                                                  \n",
              "137 hogar_nin squared                                                               \n",
              "138 overcrowding squared                                                            \n",
              "139 dependency squared                                                              \n",
              "140 meaned squared                                                                  \n",
              "141 Age squared                                                                     "
            ],
            "text/latex": "A spec\\_tbl\\_df: 141 × 2\n\\begin{tabular}{ll}\n Variable name & Variable description\\\\\n <chr> & <chr>\\\\\n\\hline\n\t v2a1        & Monthly rent payment                                                            \\\\\n\t hacdor      & =1 Overcrowding by bedrooms                                                     \\\\\n\t rooms       & number of all rooms in the house                                                \\\\\n\t hacapo      & =1 Overcrowding by rooms                                                        \\\\\n\t v14a        & =1 has toilet in the household                                                  \\\\\n\t refrig      & =1 if the household has refrigerator                                            \\\\\n\t v18q        & owns a tablet                                                                   \\\\\n\t v18q1       & number of tablets household owns                                                \\\\\n\t r4h1        & Males younger than 12 years of age                                              \\\\\n\t r4h2        & Males 12 years of age and older                                                 \\\\\n\t r4h3        & Total males in the household                                                    \\\\\n\t r4m1        & Females younger than 12 years of age                                            \\\\\n\t r4m2        & Females 12 years of age and older                                               \\\\\n\t r4m3        & Total females in the household                                                  \\\\\n\t r4t1        & persons younger than 12 years of age                                            \\\\\n\t r4t2        & persons 12 years of age and older                                               \\\\\n\t r4t3        & Total persons in the household                                                  \\\\\n\t tamhog      & size of the household                                                           \\\\\n\t tamviv      & TamViv                                                                          \\\\\n\t escolari    & years of schooling                                                              \\\\\n\t rez\\_esc     & Years behind in school                                                          \\\\\n\t hhsize      & household size                                                                  \\\\\n\t paredblolad & =1 if predominant material on the outside wall is block or brick                \\\\\n\t paredzocalo & =1 if predominant material on the outside wall is socket (wood, zinc or absbesto\\\\\n\t paredpreb   & =1 if predominant material on the outside wall is prefabricated or cement       \\\\\n\t pareddes    & =1 if predominant material on the outside wall is waste material                \\\\\n\t paredmad    & =1 if predominant material on the outside wall is wood                          \\\\\n\t paredzinc   & =1 if predominant material on the outside wall is zink                          \\\\\n\t paredfibras & =1 if predominant material on the outside wall is natural fibers                \\\\\n\t paredother  & =1 if predominant material on the outside wall is other                         \\\\\n\t ⋮ & ⋮\\\\\n\t instlevel9      & =1 postgraduate higher education                    \\\\\n\t bedrooms        & number of bedrooms                                  \\\\\n\t overcrowding    & \\# persons per room                                  \\\\\n\t tipovivi1       & =1 own and fully paid house                         \\\\\n\t tipovivi2       & =1 own, paying in installments                      \\\\\n\t tipovivi3       & =1 rented                                           \\\\\n\t tipovivi4       & =1 precarious                                       \\\\\n\t tipovivi5       & =1 other(assigned, borrowed)                        \\\\\n\t computer        & =1 if the household has notebook or desktop computer\\\\\n\t television      & =1 if the household has TV                          \\\\\n\t mobilephone     & =1 if mobile phone                                  \\\\\n\t qmobilephone    & \\# of mobile phones                                  \\\\\n\t lugar1          & =1 region Central                                   \\\\\n\t lugar2          & =1 region Chorotega                                 \\\\\n\t lugar3          & =1 region PacÃƒÂ­fico central                       \\\\\n\t lugar4          & =1 region Brunca                                    \\\\\n\t lugar5          & =1 region Huetar AtlÃƒÂ¡ntica                       \\\\\n\t lugar6          & =1 region Huetar Norte                              \\\\\n\t area1           & =1 zona urbana                                      \\\\\n\t area2           & =2 zona rural                                       \\\\\n\t age             & Age in years                                        \\\\\n\t SQBescolari     & escolari squared                                    \\\\\n\t SQBage          & age squared                                         \\\\\n\t SQBhogar\\_total  & hogar\\_total squared                                 \\\\\n\t SQBedjefe       & edjefe squared                                      \\\\\n\t SQBhogar\\_nin    & hogar\\_nin squared                                   \\\\\n\t SQBovercrowding & overcrowding squared                                \\\\\n\t SQBdependency   & dependency squared                                  \\\\\n\t SQBmeaned       & meaned squared                                      \\\\\n\t agesq           & Age squared                                         \\\\\n\\end{tabular}\n",
            "text/markdown": "\nA spec_tbl_df: 141 × 2\n\n| Variable name &lt;chr&gt; | Variable description &lt;chr&gt; |\n|---|---|\n| v2a1        | Monthly rent payment                                                             |\n| hacdor      | =1 Overcrowding by bedrooms                                                      |\n| rooms       | number of all rooms in the house                                                 |\n| hacapo      | =1 Overcrowding by rooms                                                         |\n| v14a        | =1 has toilet in the household                                                   |\n| refrig      | =1 if the household has refrigerator                                             |\n| v18q        | owns a tablet                                                                    |\n| v18q1       | number of tablets household owns                                                 |\n| r4h1        | Males younger than 12 years of age                                               |\n| r4h2        | Males 12 years of age and older                                                  |\n| r4h3        | Total males in the household                                                     |\n| r4m1        | Females younger than 12 years of age                                             |\n| r4m2        | Females 12 years of age and older                                                |\n| r4m3        | Total females in the household                                                   |\n| r4t1        | persons younger than 12 years of age                                             |\n| r4t2        | persons 12 years of age and older                                                |\n| r4t3        | Total persons in the household                                                   |\n| tamhog      | size of the household                                                            |\n| tamviv      | TamViv                                                                           |\n| escolari    | years of schooling                                                               |\n| rez_esc     | Years behind in school                                                           |\n| hhsize      | household size                                                                   |\n| paredblolad | =1 if predominant material on the outside wall is block or brick                 |\n| paredzocalo | =1 if predominant material on the outside wall is socket (wood, zinc or absbesto |\n| paredpreb   | =1 if predominant material on the outside wall is prefabricated or cement        |\n| pareddes    | =1 if predominant material on the outside wall is waste material                 |\n| paredmad    | =1 if predominant material on the outside wall is wood                           |\n| paredzinc   | =1 if predominant material on the outside wall is zink                           |\n| paredfibras | =1 if predominant material on the outside wall is natural fibers                 |\n| paredother  | =1 if predominant material on the outside wall is other                          |\n| ⋮ | ⋮ |\n| instlevel9      | =1 postgraduate higher education                     |\n| bedrooms        | number of bedrooms                                   |\n| overcrowding    | # persons per room                                   |\n| tipovivi1       | =1 own and fully paid house                          |\n| tipovivi2       | =1 own, paying in installments                       |\n| tipovivi3       | =1 rented                                            |\n| tipovivi4       | =1 precarious                                        |\n| tipovivi5       | =1 other(assigned, borrowed)                         |\n| computer        | =1 if the household has notebook or desktop computer |\n| television      | =1 if the household has TV                           |\n| mobilephone     | =1 if mobile phone                                   |\n| qmobilephone    | # of mobile phones                                   |\n| lugar1          | =1 region Central                                    |\n| lugar2          | =1 region Chorotega                                  |\n| lugar3          | =1 region PacÃƒÂ­fico central                        |\n| lugar4          | =1 region Brunca                                     |\n| lugar5          | =1 region Huetar AtlÃƒÂ¡ntica                        |\n| lugar6          | =1 region Huetar Norte                               |\n| area1           | =1 zona urbana                                       |\n| area2           | =2 zona rural                                        |\n| age             | Age in years                                         |\n| SQBescolari     | escolari squared                                     |\n| SQBage          | age squared                                          |\n| SQBhogar_total  | hogar_total squared                                  |\n| SQBedjefe       | edjefe squared                                       |\n| SQBhogar_nin    | hogar_nin squared                                    |\n| SQBovercrowding | overcrowding squared                                 |\n| SQBdependency   | dependency squared                                   |\n| SQBmeaned       | meaned squared                                       |\n| agesq           | Age squared                                          |\n\n",
            "text/html": [
              "<table class=\"dataframe\">\n",
              "<caption>A spec_tbl_df: 141 × 2</caption>\n",
              "<thead>\n",
              "\t<tr><th scope=col>Variable name</th><th scope=col>Variable description</th></tr>\n",
              "\t<tr><th scope=col>&lt;chr&gt;</th><th scope=col>&lt;chr&gt;</th></tr>\n",
              "</thead>\n",
              "<tbody>\n",
              "\t<tr><td>v2a1       </td><td>Monthly rent payment                                                            </td></tr>\n",
              "\t<tr><td>hacdor     </td><td>=1 Overcrowding by bedrooms                                                     </td></tr>\n",
              "\t<tr><td>rooms      </td><td>number of all rooms in the house                                                </td></tr>\n",
              "\t<tr><td>hacapo     </td><td>=1 Overcrowding by rooms                                                        </td></tr>\n",
              "\t<tr><td>v14a       </td><td>=1 has toilet in the household                                                  </td></tr>\n",
              "\t<tr><td>refrig     </td><td>=1 if the household has refrigerator                                            </td></tr>\n",
              "\t<tr><td>v18q       </td><td>owns a tablet                                                                   </td></tr>\n",
              "\t<tr><td>v18q1      </td><td>number of tablets household owns                                                </td></tr>\n",
              "\t<tr><td>r4h1       </td><td>Males younger than 12 years of age                                              </td></tr>\n",
              "\t<tr><td>r4h2       </td><td>Males 12 years of age and older                                                 </td></tr>\n",
              "\t<tr><td>r4h3       </td><td>Total males in the household                                                    </td></tr>\n",
              "\t<tr><td>r4m1       </td><td>Females younger than 12 years of age                                            </td></tr>\n",
              "\t<tr><td>r4m2       </td><td>Females 12 years of age and older                                               </td></tr>\n",
              "\t<tr><td>r4m3       </td><td>Total females in the household                                                  </td></tr>\n",
              "\t<tr><td>r4t1       </td><td>persons younger than 12 years of age                                            </td></tr>\n",
              "\t<tr><td>r4t2       </td><td>persons 12 years of age and older                                               </td></tr>\n",
              "\t<tr><td>r4t3       </td><td>Total persons in the household                                                  </td></tr>\n",
              "\t<tr><td>tamhog     </td><td>size of the household                                                           </td></tr>\n",
              "\t<tr><td>tamviv     </td><td>TamViv                                                                          </td></tr>\n",
              "\t<tr><td>escolari   </td><td>years of schooling                                                              </td></tr>\n",
              "\t<tr><td>rez_esc    </td><td>Years behind in school                                                          </td></tr>\n",
              "\t<tr><td>hhsize     </td><td>household size                                                                  </td></tr>\n",
              "\t<tr><td>paredblolad</td><td>=1 if predominant material on the outside wall is block or brick                </td></tr>\n",
              "\t<tr><td>paredzocalo</td><td>=1 if predominant material on the outside wall is socket (wood, zinc or absbesto</td></tr>\n",
              "\t<tr><td>paredpreb  </td><td>=1 if predominant material on the outside wall is prefabricated or cement       </td></tr>\n",
              "\t<tr><td>pareddes   </td><td>=1 if predominant material on the outside wall is waste material                </td></tr>\n",
              "\t<tr><td>paredmad   </td><td>=1 if predominant material on the outside wall is wood                          </td></tr>\n",
              "\t<tr><td>paredzinc  </td><td>=1 if predominant material on the outside wall is zink                          </td></tr>\n",
              "\t<tr><td>paredfibras</td><td>=1 if predominant material on the outside wall is natural fibers                </td></tr>\n",
              "\t<tr><td>paredother </td><td>=1 if predominant material on the outside wall is other                         </td></tr>\n",
              "\t<tr><td>⋮</td><td>⋮</td></tr>\n",
              "\t<tr><td>instlevel9     </td><td>=1 postgraduate higher education                    </td></tr>\n",
              "\t<tr><td>bedrooms       </td><td>number of bedrooms                                  </td></tr>\n",
              "\t<tr><td>overcrowding   </td><td># persons per room                                  </td></tr>\n",
              "\t<tr><td>tipovivi1      </td><td>=1 own and fully paid house                         </td></tr>\n",
              "\t<tr><td>tipovivi2      </td><td>=1 own, paying in installments                      </td></tr>\n",
              "\t<tr><td>tipovivi3      </td><td>=1 rented                                           </td></tr>\n",
              "\t<tr><td>tipovivi4      </td><td>=1 precarious                                       </td></tr>\n",
              "\t<tr><td>tipovivi5      </td><td>=1 other(assigned, borrowed)                        </td></tr>\n",
              "\t<tr><td>computer       </td><td>=1 if the household has notebook or desktop computer</td></tr>\n",
              "\t<tr><td>television     </td><td>=1 if the household has TV                          </td></tr>\n",
              "\t<tr><td>mobilephone    </td><td>=1 if mobile phone                                  </td></tr>\n",
              "\t<tr><td>qmobilephone   </td><td># of mobile phones                                  </td></tr>\n",
              "\t<tr><td>lugar1         </td><td>=1 region Central                                   </td></tr>\n",
              "\t<tr><td>lugar2         </td><td>=1 region Chorotega                                 </td></tr>\n",
              "\t<tr><td>lugar3         </td><td>=1 region PacÃƒÂ­fico central                       </td></tr>\n",
              "\t<tr><td>lugar4         </td><td>=1 region Brunca                                    </td></tr>\n",
              "\t<tr><td>lugar5         </td><td>=1 region Huetar AtlÃƒÂ¡ntica                       </td></tr>\n",
              "\t<tr><td>lugar6         </td><td>=1 region Huetar Norte                              </td></tr>\n",
              "\t<tr><td>area1          </td><td>=1 zona urbana                                      </td></tr>\n",
              "\t<tr><td>area2          </td><td>=2 zona rural                                       </td></tr>\n",
              "\t<tr><td>age            </td><td>Age in years                                        </td></tr>\n",
              "\t<tr><td>SQBescolari    </td><td>escolari squared                                    </td></tr>\n",
              "\t<tr><td>SQBage         </td><td>age squared                                         </td></tr>\n",
              "\t<tr><td>SQBhogar_total </td><td>hogar_total squared                                 </td></tr>\n",
              "\t<tr><td>SQBedjefe      </td><td>edjefe squared                                      </td></tr>\n",
              "\t<tr><td>SQBhogar_nin   </td><td>hogar_nin squared                                   </td></tr>\n",
              "\t<tr><td>SQBovercrowding</td><td>overcrowding squared                                </td></tr>\n",
              "\t<tr><td>SQBdependency  </td><td>dependency squared                                  </td></tr>\n",
              "\t<tr><td>SQBmeaned      </td><td>meaned squared                                      </td></tr>\n",
              "\t<tr><td>agesq          </td><td>Age squared                                         </td></tr>\n",
              "</tbody>\n",
              "</table>\n"
            ]
          },
          "metadata": {}
        }
      ]
    },
    {
      "cell_type": "markdown",
      "metadata": {
        "id": "vH7tY3tUAQT7"
      },
      "source": [
        "## **Checking NA values**"
      ]
    },
    {
      "cell_type": "code",
      "metadata": {
        "colab": {
          "base_uri": "https://localhost:8080/",
          "height": 34
        },
        "id": "-QxisAgZDJjW",
        "outputId": "3323d5d5-7e84-4cc1-869a-5c0b95047184"
      },
      "source": [
        "dim(train)"
      ],
      "execution_count": 6,
      "outputs": [
        {
          "output_type": "display_data",
          "data": {
            "text/plain": [
              "[1] 9557  143"
            ],
            "text/latex": "\\begin{enumerate*}\n\\item 9557\n\\item 143\n\\end{enumerate*}\n",
            "text/markdown": "1. 9557\n2. 143\n\n\n",
            "text/html": [
              "<style>\n",
              ".list-inline {list-style: none; margin:0; padding: 0}\n",
              ".list-inline>li {display: inline-block}\n",
              ".list-inline>li:not(:last-child)::after {content: \"\\00b7\"; padding: 0 .5ex}\n",
              "</style>\n",
              "<ol class=list-inline><li>9557</li><li>143</li></ol>\n"
            ]
          },
          "metadata": {}
        }
      ]
    },
    {
      "cell_type": "code",
      "metadata": {
        "colab": {
          "base_uri": "https://localhost:8080/",
          "height": 34
        },
        "id": "BUzKfH79JolC",
        "outputId": "79e08626-31eb-416c-e1a4-099556f13ccd"
      },
      "source": [
        "sum(is.na(train))"
      ],
      "execution_count": 7,
      "outputs": [
        {
          "output_type": "display_data",
          "data": {
            "text/plain": [
              "[1] 22140"
            ],
            "text/latex": "22140",
            "text/markdown": "22140",
            "text/html": [
              "22140"
            ]
          },
          "metadata": {}
        }
      ]
    },
    {
      "cell_type": "code",
      "metadata": {
        "id": "qZmTnzWzGRGo"
      },
      "source": [
        "options(repr.matrix.max.cols=150, repr.matrix.max.rows=200)"
      ],
      "execution_count": 8,
      "outputs": []
    },
    {
      "cell_type": "code",
      "metadata": {
        "colab": {
          "base_uri": "https://localhost:8080/",
          "height": 127
        },
        "id": "0S4O-GDUAHIV",
        "outputId": "714b026c-8a7c-4fd6-a494-aea62310f2a9"
      },
      "source": [
        "df <- data.frame(t(colSums(is.na(train))))\n",
        "df %>% \n",
        "  select_if(~ sum(.) > 0)"
      ],
      "execution_count": 9,
      "outputs": [
        {
          "output_type": "display_data",
          "data": {
            "text/plain": [
              "  v2a1 v18q1 rez_esc meaneduc SQBmeaned\n",
              "1 6860 7342  7928    5        5        "
            ],
            "text/latex": "A data.frame: 1 × 5\n\\begin{tabular}{lllll}\n v2a1 & v18q1 & rez\\_esc & meaneduc & SQBmeaned\\\\\n <dbl> & <dbl> & <dbl> & <dbl> & <dbl>\\\\\n\\hline\n\t 6860 & 7342 & 7928 & 5 & 5\\\\\n\\end{tabular}\n",
            "text/markdown": "\nA data.frame: 1 × 5\n\n| v2a1 &lt;dbl&gt; | v18q1 &lt;dbl&gt; | rez_esc &lt;dbl&gt; | meaneduc &lt;dbl&gt; | SQBmeaned &lt;dbl&gt; |\n|---|---|---|---|---|\n| 6860 | 7342 | 7928 | 5 | 5 |\n\n",
            "text/html": [
              "<table class=\"dataframe\">\n",
              "<caption>A data.frame: 1 × 5</caption>\n",
              "<thead>\n",
              "\t<tr><th scope=col>v2a1</th><th scope=col>v18q1</th><th scope=col>rez_esc</th><th scope=col>meaneduc</th><th scope=col>SQBmeaned</th></tr>\n",
              "\t<tr><th scope=col>&lt;dbl&gt;</th><th scope=col>&lt;dbl&gt;</th><th scope=col>&lt;dbl&gt;</th><th scope=col>&lt;dbl&gt;</th><th scope=col>&lt;dbl&gt;</th></tr>\n",
              "</thead>\n",
              "<tbody>\n",
              "\t<tr><td>6860</td><td>7342</td><td>7928</td><td>5</td><td>5</td></tr>\n",
              "</tbody>\n",
              "</table>\n"
            ]
          },
          "metadata": {}
        }
      ]
    },
    {
      "cell_type": "code",
      "metadata": {
        "colab": {
          "base_uri": "https://localhost:8080/",
          "height": 147
        },
        "id": "pkYlPuTfUtS2",
        "outputId": "338de774-1e18-439d-802d-435d455f6785"
      },
      "source": [
        "df"
      ],
      "execution_count": 10,
      "outputs": [
        {
          "output_type": "display_data",
          "data": {
            "text/plain": [
              "  Id v2a1 hacdor rooms hacapo v14a refrig v18q v18q1 r4h1 r4h2 r4h3 r4m1 r4m2\n",
              "1 0  6860 0      0     0      0    0      0    7342  0    0    0    0    0   \n",
              "  r4m3 r4t1 r4t2 r4t3 tamhog tamviv escolari rez_esc hhsize paredblolad\n",
              "1 0    0    0    0    0      0      0        7928    0      0          \n",
              "  paredzocalo paredpreb pareddes paredmad paredzinc paredfibras paredother\n",
              "1 0           0         0        0        0         0           0         \n",
              "  pisomoscer pisocemento pisoother pisonatur pisonotiene pisomadera techozinc\n",
              "1 0          0           0         0         0           0          0        \n",
              "  techoentrepiso techocane techootro cielorazo abastaguadentro abastaguafuera\n",
              "1 0              0         0         0         0               0             \n",
              "  abastaguano public planpri noelec coopele sanitario1 sanitario2 sanitario3\n",
              "1 0           0      0       0      0       0          0          0         \n",
              "  sanitario5 sanitario6 energcocinar1 energcocinar2 energcocinar3 energcocinar4\n",
              "1 0          0          0             0             0             0            \n",
              "  elimbasu1 elimbasu2 elimbasu3 elimbasu4 elimbasu5 elimbasu6 epared1 epared2\n",
              "1 0         0         0         0         0         0         0       0      \n",
              "  epared3 etecho1 etecho2 etecho3 eviv1 eviv2 eviv3 dis male female\n",
              "1 0       0       0       0       0     0     0     0   0    0     \n",
              "  estadocivil1 estadocivil2 estadocivil3 estadocivil4 estadocivil5 estadocivil6\n",
              "1 0            0            0            0            0            0           \n",
              "  estadocivil7 parentesco1 parentesco2 parentesco3 parentesco4 parentesco5\n",
              "1 0            0           0           0           0           0          \n",
              "  parentesco6 parentesco7 parentesco8 parentesco9 parentesco10 parentesco11\n",
              "1 0           0           0           0           0            0           \n",
              "  parentesco12 idhogar hogar_nin hogar_adul hogar_mayor hogar_total dependency\n",
              "1 0            0       0         0          0           0           0         \n",
              "  edjefe edjefa meaneduc instlevel1 instlevel2 instlevel3 instlevel4 instlevel5\n",
              "1 0      0      5        0          0          0          0          0         \n",
              "  instlevel6 instlevel7 instlevel8 instlevel9 bedrooms overcrowding tipovivi1\n",
              "1 0          0          0          0          0        0            0        \n",
              "  tipovivi2 tipovivi3 tipovivi4 tipovivi5 computer television mobilephone\n",
              "1 0         0         0         0         0        0          0          \n",
              "  qmobilephone lugar1 lugar2 lugar3 lugar4 lugar5 lugar6 area1 area2 age\n",
              "1 0            0      0      0      0      0      0      0     0     0  \n",
              "  SQBescolari SQBage SQBhogar_total SQBedjefe SQBhogar_nin SQBovercrowding\n",
              "1 0           0      0              0         0            0              \n",
              "  SQBdependency SQBmeaned agesq Target\n",
              "1 0             5         0     0     "
            ],
            "text/latex": "A data.frame: 1 × 143\n\\begin{tabular}{lllllllllllllllllllllllllllllllllllllllllllllllllllllllllllllllllllllllllllllllllllllllllllllllllllllllllllllllllllllllllllllllllllllllllllllll}\n Id & v2a1 & hacdor & rooms & hacapo & v14a & refrig & v18q & v18q1 & r4h1 & r4h2 & r4h3 & r4m1 & r4m2 & r4m3 & r4t1 & r4t2 & r4t3 & tamhog & tamviv & escolari & rez\\_esc & hhsize & paredblolad & paredzocalo & paredpreb & pareddes & paredmad & paredzinc & paredfibras & paredother & pisomoscer & pisocemento & pisoother & pisonatur & pisonotiene & pisomadera & techozinc & techoentrepiso & techocane & techootro & cielorazo & abastaguadentro & abastaguafuera & abastaguano & public & planpri & noelec & coopele & sanitario1 & sanitario2 & sanitario3 & sanitario5 & sanitario6 & energcocinar1 & energcocinar2 & energcocinar3 & energcocinar4 & elimbasu1 & elimbasu2 & elimbasu3 & elimbasu4 & elimbasu5 & elimbasu6 & epared1 & epared2 & epared3 & etecho1 & etecho2 & etecho3 & eviv1 & eviv2 & eviv3 & dis & male & female & estadocivil1 & estadocivil2 & estadocivil3 & estadocivil4 & estadocivil5 & estadocivil6 & estadocivil7 & parentesco1 & parentesco2 & parentesco3 & parentesco4 & parentesco5 & parentesco6 & parentesco7 & parentesco8 & parentesco9 & parentesco10 & parentesco11 & parentesco12 & idhogar & hogar\\_nin & hogar\\_adul & hogar\\_mayor & hogar\\_total & dependency & edjefe & edjefa & meaneduc & instlevel1 & instlevel2 & instlevel3 & instlevel4 & instlevel5 & instlevel6 & instlevel7 & instlevel8 & instlevel9 & bedrooms & overcrowding & tipovivi1 & tipovivi2 & tipovivi3 & tipovivi4 & tipovivi5 & computer & television & mobilephone & qmobilephone & lugar1 & lugar2 & lugar3 & lugar4 & lugar5 & lugar6 & area1 & area2 & age & SQBescolari & SQBage & SQBhogar\\_total & SQBedjefe & SQBhogar\\_nin & SQBovercrowding & SQBdependency & SQBmeaned & agesq & Target\\\\\n <dbl> & <dbl> & <dbl> & <dbl> & <dbl> & <dbl> & <dbl> & <dbl> & <dbl> & <dbl> & <dbl> & <dbl> & <dbl> & <dbl> & <dbl> & <dbl> & <dbl> & <dbl> & <dbl> & <dbl> & <dbl> & <dbl> & <dbl> & <dbl> & <dbl> & <dbl> & <dbl> & <dbl> & <dbl> & <dbl> & <dbl> & <dbl> & <dbl> & <dbl> & <dbl> & <dbl> & <dbl> & <dbl> & <dbl> & <dbl> & <dbl> & <dbl> & <dbl> & <dbl> & <dbl> & <dbl> & <dbl> & <dbl> & <dbl> & <dbl> & <dbl> & <dbl> & <dbl> & <dbl> & <dbl> & <dbl> & <dbl> & <dbl> & <dbl> & <dbl> & <dbl> & <dbl> & <dbl> & <dbl> & <dbl> & <dbl> & <dbl> & <dbl> & <dbl> & <dbl> & <dbl> & <dbl> & <dbl> & <dbl> & <dbl> & <dbl> & <dbl> & <dbl> & <dbl> & <dbl> & <dbl> & <dbl> & <dbl> & <dbl> & <dbl> & <dbl> & <dbl> & <dbl> & <dbl> & <dbl> & <dbl> & <dbl> & <dbl> & <dbl> & <dbl> & <dbl> & <dbl> & <dbl> & <dbl> & <dbl> & <dbl> & <dbl> & <dbl> & <dbl> & <dbl> & <dbl> & <dbl> & <dbl> & <dbl> & <dbl> & <dbl> & <dbl> & <dbl> & <dbl> & <dbl> & <dbl> & <dbl> & <dbl> & <dbl> & <dbl> & <dbl> & <dbl> & <dbl> & <dbl> & <dbl> & <dbl> & <dbl> & <dbl> & <dbl> & <dbl> & <dbl> & <dbl> & <dbl> & <dbl> & <dbl> & <dbl> & <dbl> & <dbl> & <dbl> & <dbl> & <dbl> & <dbl> & <dbl>\\\\\n\\hline\n\t 0 & 6860 & 0 & 0 & 0 & 0 & 0 & 0 & 7342 & 0 & 0 & 0 & 0 & 0 & 0 & 0 & 0 & 0 & 0 & 0 & 0 & 7928 & 0 & 0 & 0 & 0 & 0 & 0 & 0 & 0 & 0 & 0 & 0 & 0 & 0 & 0 & 0 & 0 & 0 & 0 & 0 & 0 & 0 & 0 & 0 & 0 & 0 & 0 & 0 & 0 & 0 & 0 & 0 & 0 & 0 & 0 & 0 & 0 & 0 & 0 & 0 & 0 & 0 & 0 & 0 & 0 & 0 & 0 & 0 & 0 & 0 & 0 & 0 & 0 & 0 & 0 & 0 & 0 & 0 & 0 & 0 & 0 & 0 & 0 & 0 & 0 & 0 & 0 & 0 & 0 & 0 & 0 & 0 & 0 & 0 & 0 & 0 & 0 & 0 & 0 & 0 & 0 & 0 & 5 & 0 & 0 & 0 & 0 & 0 & 0 & 0 & 0 & 0 & 0 & 0 & 0 & 0 & 0 & 0 & 0 & 0 & 0 & 0 & 0 & 0 & 0 & 0 & 0 & 0 & 0 & 0 & 0 & 0 & 0 & 0 & 0 & 0 & 0 & 0 & 0 & 5 & 0 & 0\\\\\n\\end{tabular}\n",
            "text/markdown": "\nA data.frame: 1 × 143\n\n| Id &lt;dbl&gt; | v2a1 &lt;dbl&gt; | hacdor &lt;dbl&gt; | rooms &lt;dbl&gt; | hacapo &lt;dbl&gt; | v14a &lt;dbl&gt; | refrig &lt;dbl&gt; | v18q &lt;dbl&gt; | v18q1 &lt;dbl&gt; | r4h1 &lt;dbl&gt; | r4h2 &lt;dbl&gt; | r4h3 &lt;dbl&gt; | r4m1 &lt;dbl&gt; | r4m2 &lt;dbl&gt; | r4m3 &lt;dbl&gt; | r4t1 &lt;dbl&gt; | r4t2 &lt;dbl&gt; | r4t3 &lt;dbl&gt; | tamhog &lt;dbl&gt; | tamviv &lt;dbl&gt; | escolari &lt;dbl&gt; | rez_esc &lt;dbl&gt; | hhsize &lt;dbl&gt; | paredblolad &lt;dbl&gt; | paredzocalo &lt;dbl&gt; | paredpreb &lt;dbl&gt; | pareddes &lt;dbl&gt; | paredmad &lt;dbl&gt; | paredzinc &lt;dbl&gt; | paredfibras &lt;dbl&gt; | paredother &lt;dbl&gt; | pisomoscer &lt;dbl&gt; | pisocemento &lt;dbl&gt; | pisoother &lt;dbl&gt; | pisonatur &lt;dbl&gt; | pisonotiene &lt;dbl&gt; | pisomadera &lt;dbl&gt; | techozinc &lt;dbl&gt; | techoentrepiso &lt;dbl&gt; | techocane &lt;dbl&gt; | techootro &lt;dbl&gt; | cielorazo &lt;dbl&gt; | abastaguadentro &lt;dbl&gt; | abastaguafuera &lt;dbl&gt; | abastaguano &lt;dbl&gt; | public &lt;dbl&gt; | planpri &lt;dbl&gt; | noelec &lt;dbl&gt; | coopele &lt;dbl&gt; | sanitario1 &lt;dbl&gt; | sanitario2 &lt;dbl&gt; | sanitario3 &lt;dbl&gt; | sanitario5 &lt;dbl&gt; | sanitario6 &lt;dbl&gt; | energcocinar1 &lt;dbl&gt; | energcocinar2 &lt;dbl&gt; | energcocinar3 &lt;dbl&gt; | energcocinar4 &lt;dbl&gt; | elimbasu1 &lt;dbl&gt; | elimbasu2 &lt;dbl&gt; | elimbasu3 &lt;dbl&gt; | elimbasu4 &lt;dbl&gt; | elimbasu5 &lt;dbl&gt; | elimbasu6 &lt;dbl&gt; | epared1 &lt;dbl&gt; | epared2 &lt;dbl&gt; | epared3 &lt;dbl&gt; | etecho1 &lt;dbl&gt; | etecho2 &lt;dbl&gt; | etecho3 &lt;dbl&gt; | eviv1 &lt;dbl&gt; | eviv2 &lt;dbl&gt; | eviv3 &lt;dbl&gt; | dis &lt;dbl&gt; | male &lt;dbl&gt; | female &lt;dbl&gt; | estadocivil1 &lt;dbl&gt; | estadocivil2 &lt;dbl&gt; | estadocivil3 &lt;dbl&gt; | estadocivil4 &lt;dbl&gt; | estadocivil5 &lt;dbl&gt; | estadocivil6 &lt;dbl&gt; | estadocivil7 &lt;dbl&gt; | parentesco1 &lt;dbl&gt; | parentesco2 &lt;dbl&gt; | parentesco3 &lt;dbl&gt; | parentesco4 &lt;dbl&gt; | parentesco5 &lt;dbl&gt; | parentesco6 &lt;dbl&gt; | parentesco7 &lt;dbl&gt; | parentesco8 &lt;dbl&gt; | parentesco9 &lt;dbl&gt; | parentesco10 &lt;dbl&gt; | parentesco11 &lt;dbl&gt; | parentesco12 &lt;dbl&gt; | idhogar &lt;dbl&gt; | hogar_nin &lt;dbl&gt; | hogar_adul &lt;dbl&gt; | hogar_mayor &lt;dbl&gt; | hogar_total &lt;dbl&gt; | dependency &lt;dbl&gt; | edjefe &lt;dbl&gt; | edjefa &lt;dbl&gt; | meaneduc &lt;dbl&gt; | instlevel1 &lt;dbl&gt; | instlevel2 &lt;dbl&gt; | instlevel3 &lt;dbl&gt; | instlevel4 &lt;dbl&gt; | instlevel5 &lt;dbl&gt; | instlevel6 &lt;dbl&gt; | instlevel7 &lt;dbl&gt; | instlevel8 &lt;dbl&gt; | instlevel9 &lt;dbl&gt; | bedrooms &lt;dbl&gt; | overcrowding &lt;dbl&gt; | tipovivi1 &lt;dbl&gt; | tipovivi2 &lt;dbl&gt; | tipovivi3 &lt;dbl&gt; | tipovivi4 &lt;dbl&gt; | tipovivi5 &lt;dbl&gt; | computer &lt;dbl&gt; | television &lt;dbl&gt; | mobilephone &lt;dbl&gt; | qmobilephone &lt;dbl&gt; | lugar1 &lt;dbl&gt; | lugar2 &lt;dbl&gt; | lugar3 &lt;dbl&gt; | lugar4 &lt;dbl&gt; | lugar5 &lt;dbl&gt; | lugar6 &lt;dbl&gt; | area1 &lt;dbl&gt; | area2 &lt;dbl&gt; | age &lt;dbl&gt; | SQBescolari &lt;dbl&gt; | SQBage &lt;dbl&gt; | SQBhogar_total &lt;dbl&gt; | SQBedjefe &lt;dbl&gt; | SQBhogar_nin &lt;dbl&gt; | SQBovercrowding &lt;dbl&gt; | SQBdependency &lt;dbl&gt; | SQBmeaned &lt;dbl&gt; | agesq &lt;dbl&gt; | Target &lt;dbl&gt; |\n|---|---|---|---|---|---|---|---|---|---|---|---|---|---|---|---|---|---|---|---|---|---|---|---|---|---|---|---|---|---|---|---|---|---|---|---|---|---|---|---|---|---|---|---|---|---|---|---|---|---|---|---|---|---|---|---|---|---|---|---|---|---|---|---|---|---|---|---|---|---|---|---|---|---|---|---|---|---|---|---|---|---|---|---|---|---|---|---|---|---|---|---|---|---|---|---|---|---|---|---|---|---|---|---|---|---|---|---|---|---|---|---|---|---|---|---|---|---|---|---|---|---|---|---|---|---|---|---|---|---|---|---|---|---|---|---|---|---|---|---|---|---|---|\n| 0 | 6860 | 0 | 0 | 0 | 0 | 0 | 0 | 7342 | 0 | 0 | 0 | 0 | 0 | 0 | 0 | 0 | 0 | 0 | 0 | 0 | 7928 | 0 | 0 | 0 | 0 | 0 | 0 | 0 | 0 | 0 | 0 | 0 | 0 | 0 | 0 | 0 | 0 | 0 | 0 | 0 | 0 | 0 | 0 | 0 | 0 | 0 | 0 | 0 | 0 | 0 | 0 | 0 | 0 | 0 | 0 | 0 | 0 | 0 | 0 | 0 | 0 | 0 | 0 | 0 | 0 | 0 | 0 | 0 | 0 | 0 | 0 | 0 | 0 | 0 | 0 | 0 | 0 | 0 | 0 | 0 | 0 | 0 | 0 | 0 | 0 | 0 | 0 | 0 | 0 | 0 | 0 | 0 | 0 | 0 | 0 | 0 | 0 | 0 | 0 | 0 | 0 | 0 | 5 | 0 | 0 | 0 | 0 | 0 | 0 | 0 | 0 | 0 | 0 | 0 | 0 | 0 | 0 | 0 | 0 | 0 | 0 | 0 | 0 | 0 | 0 | 0 | 0 | 0 | 0 | 0 | 0 | 0 | 0 | 0 | 0 | 0 | 0 | 0 | 0 | 5 | 0 | 0 |\n\n",
            "text/html": [
              "<table class=\"dataframe\">\n",
              "<caption>A data.frame: 1 × 143</caption>\n",
              "<thead>\n",
              "\t<tr><th scope=col>Id</th><th scope=col>v2a1</th><th scope=col>hacdor</th><th scope=col>rooms</th><th scope=col>hacapo</th><th scope=col>v14a</th><th scope=col>refrig</th><th scope=col>v18q</th><th scope=col>v18q1</th><th scope=col>r4h1</th><th scope=col>r4h2</th><th scope=col>r4h3</th><th scope=col>r4m1</th><th scope=col>r4m2</th><th scope=col>r4m3</th><th scope=col>r4t1</th><th scope=col>r4t2</th><th scope=col>r4t3</th><th scope=col>tamhog</th><th scope=col>tamviv</th><th scope=col>escolari</th><th scope=col>rez_esc</th><th scope=col>hhsize</th><th scope=col>paredblolad</th><th scope=col>paredzocalo</th><th scope=col>paredpreb</th><th scope=col>pareddes</th><th scope=col>paredmad</th><th scope=col>paredzinc</th><th scope=col>paredfibras</th><th scope=col>paredother</th><th scope=col>pisomoscer</th><th scope=col>pisocemento</th><th scope=col>pisoother</th><th scope=col>pisonatur</th><th scope=col>pisonotiene</th><th scope=col>pisomadera</th><th scope=col>techozinc</th><th scope=col>techoentrepiso</th><th scope=col>techocane</th><th scope=col>techootro</th><th scope=col>cielorazo</th><th scope=col>abastaguadentro</th><th scope=col>abastaguafuera</th><th scope=col>abastaguano</th><th scope=col>public</th><th scope=col>planpri</th><th scope=col>noelec</th><th scope=col>coopele</th><th scope=col>sanitario1</th><th scope=col>sanitario2</th><th scope=col>sanitario3</th><th scope=col>sanitario5</th><th scope=col>sanitario6</th><th scope=col>energcocinar1</th><th scope=col>energcocinar2</th><th scope=col>energcocinar3</th><th scope=col>energcocinar4</th><th scope=col>elimbasu1</th><th scope=col>elimbasu2</th><th scope=col>elimbasu3</th><th scope=col>elimbasu4</th><th scope=col>elimbasu5</th><th scope=col>elimbasu6</th><th scope=col>epared1</th><th scope=col>epared2</th><th scope=col>epared3</th><th scope=col>etecho1</th><th scope=col>etecho2</th><th scope=col>etecho3</th><th scope=col>eviv1</th><th scope=col>eviv2</th><th scope=col>eviv3</th><th scope=col>dis</th><th scope=col>male</th><th scope=col>female</th><th scope=col>estadocivil1</th><th scope=col>estadocivil2</th><th scope=col>estadocivil3</th><th scope=col>estadocivil4</th><th scope=col>estadocivil5</th><th scope=col>estadocivil6</th><th scope=col>estadocivil7</th><th scope=col>parentesco1</th><th scope=col>parentesco2</th><th scope=col>parentesco3</th><th scope=col>parentesco4</th><th scope=col>parentesco5</th><th scope=col>parentesco6</th><th scope=col>parentesco7</th><th scope=col>parentesco8</th><th scope=col>parentesco9</th><th scope=col>parentesco10</th><th scope=col>parentesco11</th><th scope=col>parentesco12</th><th scope=col>idhogar</th><th scope=col>hogar_nin</th><th scope=col>hogar_adul</th><th scope=col>hogar_mayor</th><th scope=col>hogar_total</th><th scope=col>dependency</th><th scope=col>edjefe</th><th scope=col>edjefa</th><th scope=col>meaneduc</th><th scope=col>instlevel1</th><th scope=col>instlevel2</th><th scope=col>instlevel3</th><th scope=col>instlevel4</th><th scope=col>instlevel5</th><th scope=col>instlevel6</th><th scope=col>instlevel7</th><th scope=col>instlevel8</th><th scope=col>instlevel9</th><th scope=col>bedrooms</th><th scope=col>overcrowding</th><th scope=col>tipovivi1</th><th scope=col>tipovivi2</th><th scope=col>tipovivi3</th><th scope=col>tipovivi4</th><th scope=col>tipovivi5</th><th scope=col>computer</th><th scope=col>television</th><th scope=col>mobilephone</th><th scope=col>qmobilephone</th><th scope=col>lugar1</th><th scope=col>lugar2</th><th scope=col>lugar3</th><th scope=col>lugar4</th><th scope=col>lugar5</th><th scope=col>lugar6</th><th scope=col>area1</th><th scope=col>area2</th><th scope=col>age</th><th scope=col>SQBescolari</th><th scope=col>SQBage</th><th scope=col>SQBhogar_total</th><th scope=col>SQBedjefe</th><th scope=col>SQBhogar_nin</th><th scope=col>SQBovercrowding</th><th scope=col>SQBdependency</th><th scope=col>SQBmeaned</th><th scope=col>agesq</th><th scope=col>Target</th></tr>\n",
              "\t<tr><th scope=col>&lt;dbl&gt;</th><th scope=col>&lt;dbl&gt;</th><th scope=col>&lt;dbl&gt;</th><th scope=col>&lt;dbl&gt;</th><th scope=col>&lt;dbl&gt;</th><th scope=col>&lt;dbl&gt;</th><th scope=col>&lt;dbl&gt;</th><th scope=col>&lt;dbl&gt;</th><th scope=col>&lt;dbl&gt;</th><th scope=col>&lt;dbl&gt;</th><th scope=col>&lt;dbl&gt;</th><th scope=col>&lt;dbl&gt;</th><th scope=col>&lt;dbl&gt;</th><th scope=col>&lt;dbl&gt;</th><th scope=col>&lt;dbl&gt;</th><th scope=col>&lt;dbl&gt;</th><th scope=col>&lt;dbl&gt;</th><th scope=col>&lt;dbl&gt;</th><th scope=col>&lt;dbl&gt;</th><th scope=col>&lt;dbl&gt;</th><th scope=col>&lt;dbl&gt;</th><th scope=col>&lt;dbl&gt;</th><th scope=col>&lt;dbl&gt;</th><th scope=col>&lt;dbl&gt;</th><th scope=col>&lt;dbl&gt;</th><th scope=col>&lt;dbl&gt;</th><th scope=col>&lt;dbl&gt;</th><th scope=col>&lt;dbl&gt;</th><th scope=col>&lt;dbl&gt;</th><th scope=col>&lt;dbl&gt;</th><th scope=col>&lt;dbl&gt;</th><th scope=col>&lt;dbl&gt;</th><th scope=col>&lt;dbl&gt;</th><th scope=col>&lt;dbl&gt;</th><th scope=col>&lt;dbl&gt;</th><th scope=col>&lt;dbl&gt;</th><th scope=col>&lt;dbl&gt;</th><th scope=col>&lt;dbl&gt;</th><th scope=col>&lt;dbl&gt;</th><th scope=col>&lt;dbl&gt;</th><th scope=col>&lt;dbl&gt;</th><th scope=col>&lt;dbl&gt;</th><th scope=col>&lt;dbl&gt;</th><th scope=col>&lt;dbl&gt;</th><th scope=col>&lt;dbl&gt;</th><th scope=col>&lt;dbl&gt;</th><th scope=col>&lt;dbl&gt;</th><th scope=col>&lt;dbl&gt;</th><th scope=col>&lt;dbl&gt;</th><th scope=col>&lt;dbl&gt;</th><th scope=col>&lt;dbl&gt;</th><th scope=col>&lt;dbl&gt;</th><th scope=col>&lt;dbl&gt;</th><th scope=col>&lt;dbl&gt;</th><th scope=col>&lt;dbl&gt;</th><th scope=col>&lt;dbl&gt;</th><th scope=col>&lt;dbl&gt;</th><th scope=col>&lt;dbl&gt;</th><th scope=col>&lt;dbl&gt;</th><th scope=col>&lt;dbl&gt;</th><th scope=col>&lt;dbl&gt;</th><th scope=col>&lt;dbl&gt;</th><th scope=col>&lt;dbl&gt;</th><th scope=col>&lt;dbl&gt;</th><th scope=col>&lt;dbl&gt;</th><th scope=col>&lt;dbl&gt;</th><th scope=col>&lt;dbl&gt;</th><th scope=col>&lt;dbl&gt;</th><th scope=col>&lt;dbl&gt;</th><th scope=col>&lt;dbl&gt;</th><th scope=col>&lt;dbl&gt;</th><th scope=col>&lt;dbl&gt;</th><th scope=col>&lt;dbl&gt;</th><th scope=col>&lt;dbl&gt;</th><th scope=col>&lt;dbl&gt;</th><th scope=col>&lt;dbl&gt;</th><th scope=col>&lt;dbl&gt;</th><th scope=col>&lt;dbl&gt;</th><th scope=col>&lt;dbl&gt;</th><th scope=col>&lt;dbl&gt;</th><th scope=col>&lt;dbl&gt;</th><th scope=col>&lt;dbl&gt;</th><th scope=col>&lt;dbl&gt;</th><th scope=col>&lt;dbl&gt;</th><th scope=col>&lt;dbl&gt;</th><th scope=col>&lt;dbl&gt;</th><th scope=col>&lt;dbl&gt;</th><th scope=col>&lt;dbl&gt;</th><th scope=col>&lt;dbl&gt;</th><th scope=col>&lt;dbl&gt;</th><th scope=col>&lt;dbl&gt;</th><th scope=col>&lt;dbl&gt;</th><th scope=col>&lt;dbl&gt;</th><th scope=col>&lt;dbl&gt;</th><th scope=col>&lt;dbl&gt;</th><th scope=col>&lt;dbl&gt;</th><th scope=col>&lt;dbl&gt;</th><th scope=col>&lt;dbl&gt;</th><th scope=col>&lt;dbl&gt;</th><th scope=col>&lt;dbl&gt;</th><th scope=col>&lt;dbl&gt;</th><th scope=col>&lt;dbl&gt;</th><th scope=col>&lt;dbl&gt;</th><th scope=col>&lt;dbl&gt;</th><th scope=col>&lt;dbl&gt;</th><th scope=col>&lt;dbl&gt;</th><th scope=col>&lt;dbl&gt;</th><th scope=col>&lt;dbl&gt;</th><th scope=col>&lt;dbl&gt;</th><th scope=col>&lt;dbl&gt;</th><th scope=col>&lt;dbl&gt;</th><th scope=col>&lt;dbl&gt;</th><th scope=col>&lt;dbl&gt;</th><th scope=col>&lt;dbl&gt;</th><th scope=col>&lt;dbl&gt;</th><th scope=col>&lt;dbl&gt;</th><th scope=col>&lt;dbl&gt;</th><th scope=col>&lt;dbl&gt;</th><th scope=col>&lt;dbl&gt;</th><th scope=col>&lt;dbl&gt;</th><th scope=col>&lt;dbl&gt;</th><th scope=col>&lt;dbl&gt;</th><th scope=col>&lt;dbl&gt;</th><th scope=col>&lt;dbl&gt;</th><th scope=col>&lt;dbl&gt;</th><th scope=col>&lt;dbl&gt;</th><th scope=col>&lt;dbl&gt;</th><th scope=col>&lt;dbl&gt;</th><th scope=col>&lt;dbl&gt;</th><th scope=col>&lt;dbl&gt;</th><th scope=col>&lt;dbl&gt;</th><th scope=col>&lt;dbl&gt;</th><th scope=col>&lt;dbl&gt;</th><th scope=col>&lt;dbl&gt;</th><th scope=col>&lt;dbl&gt;</th><th scope=col>&lt;dbl&gt;</th><th scope=col>&lt;dbl&gt;</th><th scope=col>&lt;dbl&gt;</th><th scope=col>&lt;dbl&gt;</th><th scope=col>&lt;dbl&gt;</th><th scope=col>&lt;dbl&gt;</th><th scope=col>&lt;dbl&gt;</th><th scope=col>&lt;dbl&gt;</th></tr>\n",
              "</thead>\n",
              "<tbody>\n",
              "\t<tr><td>0</td><td>6860</td><td>0</td><td>0</td><td>0</td><td>0</td><td>0</td><td>0</td><td>7342</td><td>0</td><td>0</td><td>0</td><td>0</td><td>0</td><td>0</td><td>0</td><td>0</td><td>0</td><td>0</td><td>0</td><td>0</td><td>7928</td><td>0</td><td>0</td><td>0</td><td>0</td><td>0</td><td>0</td><td>0</td><td>0</td><td>0</td><td>0</td><td>0</td><td>0</td><td>0</td><td>0</td><td>0</td><td>0</td><td>0</td><td>0</td><td>0</td><td>0</td><td>0</td><td>0</td><td>0</td><td>0</td><td>0</td><td>0</td><td>0</td><td>0</td><td>0</td><td>0</td><td>0</td><td>0</td><td>0</td><td>0</td><td>0</td><td>0</td><td>0</td><td>0</td><td>0</td><td>0</td><td>0</td><td>0</td><td>0</td><td>0</td><td>0</td><td>0</td><td>0</td><td>0</td><td>0</td><td>0</td><td>0</td><td>0</td><td>0</td><td>0</td><td>0</td><td>0</td><td>0</td><td>0</td><td>0</td><td>0</td><td>0</td><td>0</td><td>0</td><td>0</td><td>0</td><td>0</td><td>0</td><td>0</td><td>0</td><td>0</td><td>0</td><td>0</td><td>0</td><td>0</td><td>0</td><td>0</td><td>0</td><td>0</td><td>0</td><td>0</td><td>0</td><td>5</td><td>0</td><td>0</td><td>0</td><td>0</td><td>0</td><td>0</td><td>0</td><td>0</td><td>0</td><td>0</td><td>0</td><td>0</td><td>0</td><td>0</td><td>0</td><td>0</td><td>0</td><td>0</td><td>0</td><td>0</td><td>0</td><td>0</td><td>0</td><td>0</td><td>0</td><td>0</td><td>0</td><td>0</td><td>0</td><td>0</td><td>0</td><td>0</td><td>0</td><td>0</td><td>0</td><td>0</td><td>5</td><td>0</td><td>0</td></tr>\n",
              "</tbody>\n",
              "</table>\n"
            ]
          },
          "metadata": {}
        }
      ]
    },
    {
      "cell_type": "markdown",
      "metadata": {
        "id": "ofvfIvyqDjTZ"
      },
      "source": [
        "For 'rez_ecs' : Can drop column\n",
        "\n",
        "For 'v2a1', 'v18q1', 'SQBmeaned', 'meaneduc' : Replace NA with median value"
      ]
    },
    {
      "cell_type": "code",
      "metadata": {
        "id": "Xw8hI-oyEjv0"
      },
      "source": [
        "train <- subset(train, select = -c(rez_esc))\n",
        "train$v2a1[is.na(train$v2a1)] <- median(train$v2a1, na.rm=TRUE)\n",
        "train$v18q1[is.na(train$v18q1)] <- median(train$v18q1, na.rm=TRUE)\n",
        "train$SQBmeaned[is.na(train$SQBmeaned)] <- median(train$SQBmeaned, na.rm=TRUE)\n",
        "train$meaneduc[is.na(train$meaneduc)] <- median(train$meaneduc, na.rm=TRUE)"
      ],
      "execution_count": 11,
      "outputs": []
    },
    {
      "cell_type": "code",
      "metadata": {
        "colab": {
          "base_uri": "https://localhost:8080/",
          "height": 34
        },
        "id": "vpxw4ll0JJ97",
        "outputId": "e7431838-5281-4cb4-d917-c973b9839001"
      },
      "source": [
        "sum(is.na(train))"
      ],
      "execution_count": 12,
      "outputs": [
        {
          "output_type": "display_data",
          "data": {
            "text/plain": [
              "[1] 0"
            ],
            "text/latex": "0",
            "text/markdown": "0",
            "text/html": [
              "0"
            ]
          },
          "metadata": {}
        }
      ]
    },
    {
      "cell_type": "code",
      "metadata": {
        "colab": {
          "base_uri": "https://localhost:8080/",
          "height": 34
        },
        "id": "NhdZw4Bi6VQO",
        "outputId": "46931b07-3e67-4c51-8fc7-dfbf83d55718"
      },
      "source": [
        "dim(train)"
      ],
      "execution_count": 13,
      "outputs": [
        {
          "output_type": "display_data",
          "data": {
            "text/plain": [
              "[1] 9557  142"
            ],
            "text/latex": "\\begin{enumerate*}\n\\item 9557\n\\item 142\n\\end{enumerate*}\n",
            "text/markdown": "1. 9557\n2. 142\n\n\n",
            "text/html": [
              "<style>\n",
              ".list-inline {list-style: none; margin:0; padding: 0}\n",
              ".list-inline>li {display: inline-block}\n",
              ".list-inline>li:not(:last-child)::after {content: \"\\00b7\"; padding: 0 .5ex}\n",
              "</style>\n",
              "<ol class=list-inline><li>9557</li><li>142</li></ol>\n"
            ]
          },
          "metadata": {}
        }
      ]
    },
    {
      "cell_type": "code",
      "metadata": {
        "colab": {
          "base_uri": "https://localhost:8080/",
          "height": 302
        },
        "id": "NUlkmqCCJ5hh",
        "outputId": "7815b6f8-0797-435e-c9ce-5ef0a1ad7aca"
      },
      "source": [
        "head(train)"
      ],
      "execution_count": 14,
      "outputs": [
        {
          "output_type": "display_data",
          "data": {
            "text/plain": [
              "  Id           v2a1   hacdor rooms hacapo v14a refrig v18q v18q1 r4h1 r4h2 r4h3\n",
              "1 ID_279628684 190000 0      3     0      1    1      0    1     0    1    1   \n",
              "2 ID_f29eb3ddd 135000 0      4     0      1    1      1    1     0    1    1   \n",
              "3 ID_68de51c94 130000 0      8     0      1    1      0    1     0    0    0   \n",
              "4 ID_d671db89c 180000 0      5     0      1    1      1    1     0    2    2   \n",
              "5 ID_d56d6f5f5 180000 0      5     0      1    1      1    1     0    2    2   \n",
              "6 ID_ec05b1a7b 180000 0      5     0      1    1      1    1     0    2    2   \n",
              "  r4m1 r4m2 r4m3 r4t1 r4t2 r4t3 tamhog tamviv escolari hhsize paredblolad\n",
              "1 0    0    0    0    1    1    1      1      10       1      1          \n",
              "2 0    0    0    0    1    1    1      1      12       1      0          \n",
              "3 0    1    1    0    1    1    1      1      11       1      0          \n",
              "4 1    1    2    1    3    4    4      4       9       4      1          \n",
              "5 1    1    2    1    3    4    4      4      11       4      1          \n",
              "6 1    1    2    1    3    4    4      4      11       4      1          \n",
              "  paredzocalo paredpreb pareddes paredmad paredzinc paredfibras paredother\n",
              "1 0           0         0        0        0         0           0         \n",
              "2 0           0         0        1        0         0           0         \n",
              "3 0           0         0        1        0         0           0         \n",
              "4 0           0         0        0        0         0           0         \n",
              "5 0           0         0        0        0         0           0         \n",
              "6 0           0         0        0        0         0           0         \n",
              "  pisomoscer pisocemento pisoother pisonatur pisonotiene pisomadera techozinc\n",
              "1 1          0           0         0         0           0          0        \n",
              "2 0          0           0         0         0           1          1        \n",
              "3 1          0           0         0         0           0          1        \n",
              "4 1          0           0         0         0           0          1        \n",
              "5 1          0           0         0         0           0          1        \n",
              "6 1          0           0         0         0           0          1        \n",
              "  techoentrepiso techocane techootro cielorazo abastaguadentro abastaguafuera\n",
              "1 1              0         0         1         1               0             \n",
              "2 0              0         0         1         1               0             \n",
              "3 0              0         0         1         1               0             \n",
              "4 0              0         0         1         1               0             \n",
              "5 0              0         0         1         1               0             \n",
              "6 0              0         0         1         1               0             \n",
              "  abastaguano public planpri noelec coopele sanitario1 sanitario2 sanitario3\n",
              "1 0           1      0       0      0       0          1          0         \n",
              "2 0           1      0       0      0       0          1          0         \n",
              "3 0           1      0       0      0       0          1          0         \n",
              "4 0           1      0       0      0       0          1          0         \n",
              "5 0           1      0       0      0       0          1          0         \n",
              "6 0           1      0       0      0       0          1          0         \n",
              "  sanitario5 sanitario6 energcocinar1 energcocinar2 energcocinar3 energcocinar4\n",
              "1 0          0          0             0             1             0            \n",
              "2 0          0          0             1             0             0            \n",
              "3 0          0          0             1             0             0            \n",
              "4 0          0          0             1             0             0            \n",
              "5 0          0          0             1             0             0            \n",
              "6 0          0          0             1             0             0            \n",
              "  elimbasu1 elimbasu2 elimbasu3 elimbasu4 elimbasu5 elimbasu6 epared1 epared2\n",
              "1 1         0         0         0         0         0         0       1      \n",
              "2 1         0         0         0         0         0         0       1      \n",
              "3 1         0         0         0         0         0         0       1      \n",
              "4 1         0         0         0         0         0         0       0      \n",
              "5 1         0         0         0         0         0         0       0      \n",
              "6 1         0         0         0         0         0         0       0      \n",
              "  epared3 etecho1 etecho2 etecho3 eviv1 eviv2 eviv3 dis male female\n",
              "1 0       1       0       0       1     0     0     0   1    0     \n",
              "2 0       0       1       0       0     1     0     0   1    0     \n",
              "3 0       0       0       1       0     0     1     1   0    1     \n",
              "4 1       0       0       1       0     0     1     0   1    0     \n",
              "5 1       0       0       1       0     0     1     0   0    1     \n",
              "6 1       0       0       1       0     0     1     0   1    0     \n",
              "  estadocivil1 estadocivil2 estadocivil3 estadocivil4 estadocivil5 estadocivil6\n",
              "1 0            0            0            1            0            0           \n",
              "2 0            0            0            1            0            0           \n",
              "3 0            0            0            0            0            1           \n",
              "4 0            0            0            0            0            0           \n",
              "5 0            1            0            0            0            0           \n",
              "6 0            1            0            0            0            0           \n",
              "  estadocivil7 parentesco1 parentesco2 parentesco3 parentesco4 parentesco5\n",
              "1 0            1           0           0           0           0          \n",
              "2 0            1           0           0           0           0          \n",
              "3 0            1           0           0           0           0          \n",
              "4 1            0           0           1           0           0          \n",
              "5 0            0           1           0           0           0          \n",
              "6 0            1           0           0           0           0          \n",
              "  parentesco6 parentesco7 parentesco8 parentesco9 parentesco10 parentesco11\n",
              "1 0           0           0           0           0            0           \n",
              "2 0           0           0           0           0            0           \n",
              "3 0           0           0           0           0            0           \n",
              "4 0           0           0           0           0            0           \n",
              "5 0           0           0           0           0            0           \n",
              "6 0           0           0           0           0            0           \n",
              "  parentesco12 idhogar   hogar_nin hogar_adul hogar_mayor hogar_total\n",
              "1 0            21eb7fcc1 0         1          0           1          \n",
              "2 0            0e5d7a658 0         1          1           1          \n",
              "3 0            2c7317ea8 0         1          1           1          \n",
              "4 0            2b58d945f 2         2          0           4          \n",
              "5 0            2b58d945f 2         2          0           4          \n",
              "6 0            2b58d945f 2         2          0           4          \n",
              "  dependency edjefe edjefa meaneduc instlevel1 instlevel2 instlevel3 instlevel4\n",
              "1 no         10     no     10       0          0          0          1         \n",
              "2 8          12     no     12       0          0          0          0         \n",
              "3 8          no     11     11       0          0          0          0         \n",
              "4 yes        11     no     11       0          0          0          1         \n",
              "5 yes        11     no     11       0          0          0          0         \n",
              "6 yes        11     no     11       0          0          0          0         \n",
              "  instlevel5 instlevel6 instlevel7 instlevel8 instlevel9 bedrooms overcrowding\n",
              "1 0          0          0          0          0          1        1.000000    \n",
              "2 0          0          0          1          0          1        1.000000    \n",
              "3 1          0          0          0          0          2        0.500000    \n",
              "4 0          0          0          0          0          3        1.333333    \n",
              "5 1          0          0          0          0          3        1.333333    \n",
              "6 1          0          0          0          0          3        1.333333    \n",
              "  tipovivi1 tipovivi2 tipovivi3 tipovivi4 tipovivi5 computer television\n",
              "1 0         0         1         0         0         0        0         \n",
              "2 0         0         1         0         0         0        0         \n",
              "3 1         0         0         0         0         0        0         \n",
              "4 0         0         1         0         0         0        0         \n",
              "5 0         0         1         0         0         0        0         \n",
              "6 0         0         1         0         0         0        0         \n",
              "  mobilephone qmobilephone lugar1 lugar2 lugar3 lugar4 lugar5 lugar6 area1\n",
              "1 1           1            1      0      0      0      0      0      1    \n",
              "2 1           1            1      0      0      0      0      0      1    \n",
              "3 0           0            1      0      0      0      0      0      1    \n",
              "4 1           3            1      0      0      0      0      0      1    \n",
              "5 1           3            1      0      0      0      0      0      1    \n",
              "6 1           3            1      0      0      0      0      0      1    \n",
              "  area2 age SQBescolari SQBage SQBhogar_total SQBedjefe SQBhogar_nin\n",
              "1 0     43  100         1849    1             100       0           \n",
              "2 0     67  144         4489    1             144       0           \n",
              "3 0     92  121         8464    1               0       0           \n",
              "4 0     17   81          289   16             121       4           \n",
              "5 0     37  121         1369   16             121       4           \n",
              "6 0     38  121         1444   16             121       4           \n",
              "  SQBovercrowding SQBdependency SQBmeaned agesq Target\n",
              "1 1.000000         0            100       1849  4     \n",
              "2 1.000000        64            144       4489  4     \n",
              "3 0.250000        64            121       8464  4     \n",
              "4 1.777778         1            121        289  4     \n",
              "5 1.777778         1            121       1369  4     \n",
              "6 1.777778         1            121       1444  4     "
            ],
            "text/latex": "A data.frame: 6 × 142\n\\begin{tabular}{r|llllllllllllllllllllllllllllllllllllllllllllllllllllllllllllllllllllllllllllllllllllllllllllllllllllllllllllllllllllllllllllllllllllllllllllll}\n  & Id & v2a1 & hacdor & rooms & hacapo & v14a & refrig & v18q & v18q1 & r4h1 & r4h2 & r4h3 & r4m1 & r4m2 & r4m3 & r4t1 & r4t2 & r4t3 & tamhog & tamviv & escolari & hhsize & paredblolad & paredzocalo & paredpreb & pareddes & paredmad & paredzinc & paredfibras & paredother & pisomoscer & pisocemento & pisoother & pisonatur & pisonotiene & pisomadera & techozinc & techoentrepiso & techocane & techootro & cielorazo & abastaguadentro & abastaguafuera & abastaguano & public & planpri & noelec & coopele & sanitario1 & sanitario2 & sanitario3 & sanitario5 & sanitario6 & energcocinar1 & energcocinar2 & energcocinar3 & energcocinar4 & elimbasu1 & elimbasu2 & elimbasu3 & elimbasu4 & elimbasu5 & elimbasu6 & epared1 & epared2 & epared3 & etecho1 & etecho2 & etecho3 & eviv1 & eviv2 & eviv3 & dis & male & female & estadocivil1 & estadocivil2 & estadocivil3 & estadocivil4 & estadocivil5 & estadocivil6 & estadocivil7 & parentesco1 & parentesco2 & parentesco3 & parentesco4 & parentesco5 & parentesco6 & parentesco7 & parentesco8 & parentesco9 & parentesco10 & parentesco11 & parentesco12 & idhogar & hogar\\_nin & hogar\\_adul & hogar\\_mayor & hogar\\_total & dependency & edjefe & edjefa & meaneduc & instlevel1 & instlevel2 & instlevel3 & instlevel4 & instlevel5 & instlevel6 & instlevel7 & instlevel8 & instlevel9 & bedrooms & overcrowding & tipovivi1 & tipovivi2 & tipovivi3 & tipovivi4 & tipovivi5 & computer & television & mobilephone & qmobilephone & lugar1 & lugar2 & lugar3 & lugar4 & lugar5 & lugar6 & area1 & area2 & age & SQBescolari & SQBage & SQBhogar\\_total & SQBedjefe & SQBhogar\\_nin & SQBovercrowding & SQBdependency & SQBmeaned & agesq & Target\\\\\n  & <chr> & <dbl> & <int> & <int> & <int> & <int> & <int> & <int> & <int> & <int> & <int> & <int> & <int> & <int> & <int> & <int> & <int> & <int> & <int> & <int> & <int> & <int> & <int> & <int> & <int> & <int> & <int> & <int> & <int> & <int> & <int> & <int> & <int> & <int> & <int> & <int> & <int> & <int> & <int> & <int> & <int> & <int> & <int> & <int> & <int> & <int> & <int> & <int> & <int> & <int> & <int> & <int> & <int> & <int> & <int> & <int> & <int> & <int> & <int> & <int> & <int> & <int> & <int> & <int> & <int> & <int> & <int> & <int> & <int> & <int> & <int> & <int> & <int> & <int> & <int> & <int> & <int> & <int> & <int> & <int> & <int> & <int> & <int> & <int> & <int> & <int> & <int> & <int> & <int> & <int> & <int> & <int> & <int> & <int> & <chr> & <int> & <int> & <int> & <int> & <chr> & <chr> & <chr> & <dbl> & <int> & <int> & <int> & <int> & <int> & <int> & <int> & <int> & <int> & <int> & <dbl> & <int> & <int> & <int> & <int> & <int> & <int> & <int> & <int> & <int> & <int> & <int> & <int> & <int> & <int> & <int> & <int> & <int> & <int> & <int> & <int> & <int> & <int> & <int> & <dbl> & <dbl> & <dbl> & <int> & <int>\\\\\n\\hline\n\t1 & ID\\_279628684 & 190000 & 0 & 3 & 0 & 1 & 1 & 0 & 1 & 0 & 1 & 1 & 0 & 0 & 0 & 0 & 1 & 1 & 1 & 1 & 10 & 1 & 1 & 0 & 0 & 0 & 0 & 0 & 0 & 0 & 1 & 0 & 0 & 0 & 0 & 0 & 0 & 1 & 0 & 0 & 1 & 1 & 0 & 0 & 1 & 0 & 0 & 0 & 0 & 1 & 0 & 0 & 0 & 0 & 0 & 1 & 0 & 1 & 0 & 0 & 0 & 0 & 0 & 0 & 1 & 0 & 1 & 0 & 0 & 1 & 0 & 0 & 0 & 1 & 0 & 0 & 0 & 0 & 1 & 0 & 0 & 0 & 1 & 0 & 0 & 0 & 0 & 0 & 0 & 0 & 0 & 0 & 0 & 0 & 21eb7fcc1 & 0 & 1 & 0 & 1 & no  & 10 & no & 10 & 0 & 0 & 0 & 1 & 0 & 0 & 0 & 0 & 0 & 1 & 1.000000 & 0 & 0 & 1 & 0 & 0 & 0 & 0 & 1 & 1 & 1 & 0 & 0 & 0 & 0 & 0 & 1 & 0 & 43 & 100 & 1849 &  1 & 100 & 0 & 1.000000 &  0 & 100 & 1849 & 4\\\\\n\t2 & ID\\_f29eb3ddd & 135000 & 0 & 4 & 0 & 1 & 1 & 1 & 1 & 0 & 1 & 1 & 0 & 0 & 0 & 0 & 1 & 1 & 1 & 1 & 12 & 1 & 0 & 0 & 0 & 0 & 1 & 0 & 0 & 0 & 0 & 0 & 0 & 0 & 0 & 1 & 1 & 0 & 0 & 0 & 1 & 1 & 0 & 0 & 1 & 0 & 0 & 0 & 0 & 1 & 0 & 0 & 0 & 0 & 1 & 0 & 0 & 1 & 0 & 0 & 0 & 0 & 0 & 0 & 1 & 0 & 0 & 1 & 0 & 0 & 1 & 0 & 0 & 1 & 0 & 0 & 0 & 0 & 1 & 0 & 0 & 0 & 1 & 0 & 0 & 0 & 0 & 0 & 0 & 0 & 0 & 0 & 0 & 0 & 0e5d7a658 & 0 & 1 & 1 & 1 & 8   & 12 & no & 12 & 0 & 0 & 0 & 0 & 0 & 0 & 0 & 1 & 0 & 1 & 1.000000 & 0 & 0 & 1 & 0 & 0 & 0 & 0 & 1 & 1 & 1 & 0 & 0 & 0 & 0 & 0 & 1 & 0 & 67 & 144 & 4489 &  1 & 144 & 0 & 1.000000 & 64 & 144 & 4489 & 4\\\\\n\t3 & ID\\_68de51c94 & 130000 & 0 & 8 & 0 & 1 & 1 & 0 & 1 & 0 & 0 & 0 & 0 & 1 & 1 & 0 & 1 & 1 & 1 & 1 & 11 & 1 & 0 & 0 & 0 & 0 & 1 & 0 & 0 & 0 & 1 & 0 & 0 & 0 & 0 & 0 & 1 & 0 & 0 & 0 & 1 & 1 & 0 & 0 & 1 & 0 & 0 & 0 & 0 & 1 & 0 & 0 & 0 & 0 & 1 & 0 & 0 & 1 & 0 & 0 & 0 & 0 & 0 & 0 & 1 & 0 & 0 & 0 & 1 & 0 & 0 & 1 & 1 & 0 & 1 & 0 & 0 & 0 & 0 & 0 & 1 & 0 & 1 & 0 & 0 & 0 & 0 & 0 & 0 & 0 & 0 & 0 & 0 & 0 & 2c7317ea8 & 0 & 1 & 1 & 1 & 8   & no & 11 & 11 & 0 & 0 & 0 & 0 & 1 & 0 & 0 & 0 & 0 & 2 & 0.500000 & 1 & 0 & 0 & 0 & 0 & 0 & 0 & 0 & 0 & 1 & 0 & 0 & 0 & 0 & 0 & 1 & 0 & 92 & 121 & 8464 &  1 &   0 & 0 & 0.250000 & 64 & 121 & 8464 & 4\\\\\n\t4 & ID\\_d671db89c & 180000 & 0 & 5 & 0 & 1 & 1 & 1 & 1 & 0 & 2 & 2 & 1 & 1 & 2 & 1 & 3 & 4 & 4 & 4 &  9 & 4 & 1 & 0 & 0 & 0 & 0 & 0 & 0 & 0 & 1 & 0 & 0 & 0 & 0 & 0 & 1 & 0 & 0 & 0 & 1 & 1 & 0 & 0 & 1 & 0 & 0 & 0 & 0 & 1 & 0 & 0 & 0 & 0 & 1 & 0 & 0 & 1 & 0 & 0 & 0 & 0 & 0 & 0 & 0 & 1 & 0 & 0 & 1 & 0 & 0 & 1 & 0 & 1 & 0 & 0 & 0 & 0 & 0 & 0 & 0 & 1 & 0 & 0 & 1 & 0 & 0 & 0 & 0 & 0 & 0 & 0 & 0 & 0 & 2b58d945f & 2 & 2 & 0 & 4 & yes & 11 & no & 11 & 0 & 0 & 0 & 1 & 0 & 0 & 0 & 0 & 0 & 3 & 1.333333 & 0 & 0 & 1 & 0 & 0 & 0 & 0 & 1 & 3 & 1 & 0 & 0 & 0 & 0 & 0 & 1 & 0 & 17 &  81 &  289 & 16 & 121 & 4 & 1.777778 &  1 & 121 &  289 & 4\\\\\n\t5 & ID\\_d56d6f5f5 & 180000 & 0 & 5 & 0 & 1 & 1 & 1 & 1 & 0 & 2 & 2 & 1 & 1 & 2 & 1 & 3 & 4 & 4 & 4 & 11 & 4 & 1 & 0 & 0 & 0 & 0 & 0 & 0 & 0 & 1 & 0 & 0 & 0 & 0 & 0 & 1 & 0 & 0 & 0 & 1 & 1 & 0 & 0 & 1 & 0 & 0 & 0 & 0 & 1 & 0 & 0 & 0 & 0 & 1 & 0 & 0 & 1 & 0 & 0 & 0 & 0 & 0 & 0 & 0 & 1 & 0 & 0 & 1 & 0 & 0 & 1 & 0 & 0 & 1 & 0 & 1 & 0 & 0 & 0 & 0 & 0 & 0 & 1 & 0 & 0 & 0 & 0 & 0 & 0 & 0 & 0 & 0 & 0 & 2b58d945f & 2 & 2 & 0 & 4 & yes & 11 & no & 11 & 0 & 0 & 0 & 0 & 1 & 0 & 0 & 0 & 0 & 3 & 1.333333 & 0 & 0 & 1 & 0 & 0 & 0 & 0 & 1 & 3 & 1 & 0 & 0 & 0 & 0 & 0 & 1 & 0 & 37 & 121 & 1369 & 16 & 121 & 4 & 1.777778 &  1 & 121 & 1369 & 4\\\\\n\t6 & ID\\_ec05b1a7b & 180000 & 0 & 5 & 0 & 1 & 1 & 1 & 1 & 0 & 2 & 2 & 1 & 1 & 2 & 1 & 3 & 4 & 4 & 4 & 11 & 4 & 1 & 0 & 0 & 0 & 0 & 0 & 0 & 0 & 1 & 0 & 0 & 0 & 0 & 0 & 1 & 0 & 0 & 0 & 1 & 1 & 0 & 0 & 1 & 0 & 0 & 0 & 0 & 1 & 0 & 0 & 0 & 0 & 1 & 0 & 0 & 1 & 0 & 0 & 0 & 0 & 0 & 0 & 0 & 1 & 0 & 0 & 1 & 0 & 0 & 1 & 0 & 1 & 0 & 0 & 1 & 0 & 0 & 0 & 0 & 0 & 1 & 0 & 0 & 0 & 0 & 0 & 0 & 0 & 0 & 0 & 0 & 0 & 2b58d945f & 2 & 2 & 0 & 4 & yes & 11 & no & 11 & 0 & 0 & 0 & 0 & 1 & 0 & 0 & 0 & 0 & 3 & 1.333333 & 0 & 0 & 1 & 0 & 0 & 0 & 0 & 1 & 3 & 1 & 0 & 0 & 0 & 0 & 0 & 1 & 0 & 38 & 121 & 1444 & 16 & 121 & 4 & 1.777778 &  1 & 121 & 1444 & 4\\\\\n\\end{tabular}\n",
            "text/markdown": "\nA data.frame: 6 × 142\n\n| <!--/--> | Id &lt;chr&gt; | v2a1 &lt;dbl&gt; | hacdor &lt;int&gt; | rooms &lt;int&gt; | hacapo &lt;int&gt; | v14a &lt;int&gt; | refrig &lt;int&gt; | v18q &lt;int&gt; | v18q1 &lt;int&gt; | r4h1 &lt;int&gt; | r4h2 &lt;int&gt; | r4h3 &lt;int&gt; | r4m1 &lt;int&gt; | r4m2 &lt;int&gt; | r4m3 &lt;int&gt; | r4t1 &lt;int&gt; | r4t2 &lt;int&gt; | r4t3 &lt;int&gt; | tamhog &lt;int&gt; | tamviv &lt;int&gt; | escolari &lt;int&gt; | hhsize &lt;int&gt; | paredblolad &lt;int&gt; | paredzocalo &lt;int&gt; | paredpreb &lt;int&gt; | pareddes &lt;int&gt; | paredmad &lt;int&gt; | paredzinc &lt;int&gt; | paredfibras &lt;int&gt; | paredother &lt;int&gt; | pisomoscer &lt;int&gt; | pisocemento &lt;int&gt; | pisoother &lt;int&gt; | pisonatur &lt;int&gt; | pisonotiene &lt;int&gt; | pisomadera &lt;int&gt; | techozinc &lt;int&gt; | techoentrepiso &lt;int&gt; | techocane &lt;int&gt; | techootro &lt;int&gt; | cielorazo &lt;int&gt; | abastaguadentro &lt;int&gt; | abastaguafuera &lt;int&gt; | abastaguano &lt;int&gt; | public &lt;int&gt; | planpri &lt;int&gt; | noelec &lt;int&gt; | coopele &lt;int&gt; | sanitario1 &lt;int&gt; | sanitario2 &lt;int&gt; | sanitario3 &lt;int&gt; | sanitario5 &lt;int&gt; | sanitario6 &lt;int&gt; | energcocinar1 &lt;int&gt; | energcocinar2 &lt;int&gt; | energcocinar3 &lt;int&gt; | energcocinar4 &lt;int&gt; | elimbasu1 &lt;int&gt; | elimbasu2 &lt;int&gt; | elimbasu3 &lt;int&gt; | elimbasu4 &lt;int&gt; | elimbasu5 &lt;int&gt; | elimbasu6 &lt;int&gt; | epared1 &lt;int&gt; | epared2 &lt;int&gt; | epared3 &lt;int&gt; | etecho1 &lt;int&gt; | etecho2 &lt;int&gt; | etecho3 &lt;int&gt; | eviv1 &lt;int&gt; | eviv2 &lt;int&gt; | eviv3 &lt;int&gt; | dis &lt;int&gt; | male &lt;int&gt; | female &lt;int&gt; | estadocivil1 &lt;int&gt; | estadocivil2 &lt;int&gt; | estadocivil3 &lt;int&gt; | estadocivil4 &lt;int&gt; | estadocivil5 &lt;int&gt; | estadocivil6 &lt;int&gt; | estadocivil7 &lt;int&gt; | parentesco1 &lt;int&gt; | parentesco2 &lt;int&gt; | parentesco3 &lt;int&gt; | parentesco4 &lt;int&gt; | parentesco5 &lt;int&gt; | parentesco6 &lt;int&gt; | parentesco7 &lt;int&gt; | parentesco8 &lt;int&gt; | parentesco9 &lt;int&gt; | parentesco10 &lt;int&gt; | parentesco11 &lt;int&gt; | parentesco12 &lt;int&gt; | idhogar &lt;chr&gt; | hogar_nin &lt;int&gt; | hogar_adul &lt;int&gt; | hogar_mayor &lt;int&gt; | hogar_total &lt;int&gt; | dependency &lt;chr&gt; | edjefe &lt;chr&gt; | edjefa &lt;chr&gt; | meaneduc &lt;dbl&gt; | instlevel1 &lt;int&gt; | instlevel2 &lt;int&gt; | instlevel3 &lt;int&gt; | instlevel4 &lt;int&gt; | instlevel5 &lt;int&gt; | instlevel6 &lt;int&gt; | instlevel7 &lt;int&gt; | instlevel8 &lt;int&gt; | instlevel9 &lt;int&gt; | bedrooms &lt;int&gt; | overcrowding &lt;dbl&gt; | tipovivi1 &lt;int&gt; | tipovivi2 &lt;int&gt; | tipovivi3 &lt;int&gt; | tipovivi4 &lt;int&gt; | tipovivi5 &lt;int&gt; | computer &lt;int&gt; | television &lt;int&gt; | mobilephone &lt;int&gt; | qmobilephone &lt;int&gt; | lugar1 &lt;int&gt; | lugar2 &lt;int&gt; | lugar3 &lt;int&gt; | lugar4 &lt;int&gt; | lugar5 &lt;int&gt; | lugar6 &lt;int&gt; | area1 &lt;int&gt; | area2 &lt;int&gt; | age &lt;int&gt; | SQBescolari &lt;int&gt; | SQBage &lt;int&gt; | SQBhogar_total &lt;int&gt; | SQBedjefe &lt;int&gt; | SQBhogar_nin &lt;int&gt; | SQBovercrowding &lt;dbl&gt; | SQBdependency &lt;dbl&gt; | SQBmeaned &lt;dbl&gt; | agesq &lt;int&gt; | Target &lt;int&gt; |\n|---|---|---|---|---|---|---|---|---|---|---|---|---|---|---|---|---|---|---|---|---|---|---|---|---|---|---|---|---|---|---|---|---|---|---|---|---|---|---|---|---|---|---|---|---|---|---|---|---|---|---|---|---|---|---|---|---|---|---|---|---|---|---|---|---|---|---|---|---|---|---|---|---|---|---|---|---|---|---|---|---|---|---|---|---|---|---|---|---|---|---|---|---|---|---|---|---|---|---|---|---|---|---|---|---|---|---|---|---|---|---|---|---|---|---|---|---|---|---|---|---|---|---|---|---|---|---|---|---|---|---|---|---|---|---|---|---|---|---|---|---|---|---|\n| 1 | ID_279628684 | 190000 | 0 | 3 | 0 | 1 | 1 | 0 | 1 | 0 | 1 | 1 | 0 | 0 | 0 | 0 | 1 | 1 | 1 | 1 | 10 | 1 | 1 | 0 | 0 | 0 | 0 | 0 | 0 | 0 | 1 | 0 | 0 | 0 | 0 | 0 | 0 | 1 | 0 | 0 | 1 | 1 | 0 | 0 | 1 | 0 | 0 | 0 | 0 | 1 | 0 | 0 | 0 | 0 | 0 | 1 | 0 | 1 | 0 | 0 | 0 | 0 | 0 | 0 | 1 | 0 | 1 | 0 | 0 | 1 | 0 | 0 | 0 | 1 | 0 | 0 | 0 | 0 | 1 | 0 | 0 | 0 | 1 | 0 | 0 | 0 | 0 | 0 | 0 | 0 | 0 | 0 | 0 | 0 | 21eb7fcc1 | 0 | 1 | 0 | 1 | no  | 10 | no | 10 | 0 | 0 | 0 | 1 | 0 | 0 | 0 | 0 | 0 | 1 | 1.000000 | 0 | 0 | 1 | 0 | 0 | 0 | 0 | 1 | 1 | 1 | 0 | 0 | 0 | 0 | 0 | 1 | 0 | 43 | 100 | 1849 |  1 | 100 | 0 | 1.000000 |  0 | 100 | 1849 | 4 |\n| 2 | ID_f29eb3ddd | 135000 | 0 | 4 | 0 | 1 | 1 | 1 | 1 | 0 | 1 | 1 | 0 | 0 | 0 | 0 | 1 | 1 | 1 | 1 | 12 | 1 | 0 | 0 | 0 | 0 | 1 | 0 | 0 | 0 | 0 | 0 | 0 | 0 | 0 | 1 | 1 | 0 | 0 | 0 | 1 | 1 | 0 | 0 | 1 | 0 | 0 | 0 | 0 | 1 | 0 | 0 | 0 | 0 | 1 | 0 | 0 | 1 | 0 | 0 | 0 | 0 | 0 | 0 | 1 | 0 | 0 | 1 | 0 | 0 | 1 | 0 | 0 | 1 | 0 | 0 | 0 | 0 | 1 | 0 | 0 | 0 | 1 | 0 | 0 | 0 | 0 | 0 | 0 | 0 | 0 | 0 | 0 | 0 | 0e5d7a658 | 0 | 1 | 1 | 1 | 8   | 12 | no | 12 | 0 | 0 | 0 | 0 | 0 | 0 | 0 | 1 | 0 | 1 | 1.000000 | 0 | 0 | 1 | 0 | 0 | 0 | 0 | 1 | 1 | 1 | 0 | 0 | 0 | 0 | 0 | 1 | 0 | 67 | 144 | 4489 |  1 | 144 | 0 | 1.000000 | 64 | 144 | 4489 | 4 |\n| 3 | ID_68de51c94 | 130000 | 0 | 8 | 0 | 1 | 1 | 0 | 1 | 0 | 0 | 0 | 0 | 1 | 1 | 0 | 1 | 1 | 1 | 1 | 11 | 1 | 0 | 0 | 0 | 0 | 1 | 0 | 0 | 0 | 1 | 0 | 0 | 0 | 0 | 0 | 1 | 0 | 0 | 0 | 1 | 1 | 0 | 0 | 1 | 0 | 0 | 0 | 0 | 1 | 0 | 0 | 0 | 0 | 1 | 0 | 0 | 1 | 0 | 0 | 0 | 0 | 0 | 0 | 1 | 0 | 0 | 0 | 1 | 0 | 0 | 1 | 1 | 0 | 1 | 0 | 0 | 0 | 0 | 0 | 1 | 0 | 1 | 0 | 0 | 0 | 0 | 0 | 0 | 0 | 0 | 0 | 0 | 0 | 2c7317ea8 | 0 | 1 | 1 | 1 | 8   | no | 11 | 11 | 0 | 0 | 0 | 0 | 1 | 0 | 0 | 0 | 0 | 2 | 0.500000 | 1 | 0 | 0 | 0 | 0 | 0 | 0 | 0 | 0 | 1 | 0 | 0 | 0 | 0 | 0 | 1 | 0 | 92 | 121 | 8464 |  1 |   0 | 0 | 0.250000 | 64 | 121 | 8464 | 4 |\n| 4 | ID_d671db89c | 180000 | 0 | 5 | 0 | 1 | 1 | 1 | 1 | 0 | 2 | 2 | 1 | 1 | 2 | 1 | 3 | 4 | 4 | 4 |  9 | 4 | 1 | 0 | 0 | 0 | 0 | 0 | 0 | 0 | 1 | 0 | 0 | 0 | 0 | 0 | 1 | 0 | 0 | 0 | 1 | 1 | 0 | 0 | 1 | 0 | 0 | 0 | 0 | 1 | 0 | 0 | 0 | 0 | 1 | 0 | 0 | 1 | 0 | 0 | 0 | 0 | 0 | 0 | 0 | 1 | 0 | 0 | 1 | 0 | 0 | 1 | 0 | 1 | 0 | 0 | 0 | 0 | 0 | 0 | 0 | 1 | 0 | 0 | 1 | 0 | 0 | 0 | 0 | 0 | 0 | 0 | 0 | 0 | 2b58d945f | 2 | 2 | 0 | 4 | yes | 11 | no | 11 | 0 | 0 | 0 | 1 | 0 | 0 | 0 | 0 | 0 | 3 | 1.333333 | 0 | 0 | 1 | 0 | 0 | 0 | 0 | 1 | 3 | 1 | 0 | 0 | 0 | 0 | 0 | 1 | 0 | 17 |  81 |  289 | 16 | 121 | 4 | 1.777778 |  1 | 121 |  289 | 4 |\n| 5 | ID_d56d6f5f5 | 180000 | 0 | 5 | 0 | 1 | 1 | 1 | 1 | 0 | 2 | 2 | 1 | 1 | 2 | 1 | 3 | 4 | 4 | 4 | 11 | 4 | 1 | 0 | 0 | 0 | 0 | 0 | 0 | 0 | 1 | 0 | 0 | 0 | 0 | 0 | 1 | 0 | 0 | 0 | 1 | 1 | 0 | 0 | 1 | 0 | 0 | 0 | 0 | 1 | 0 | 0 | 0 | 0 | 1 | 0 | 0 | 1 | 0 | 0 | 0 | 0 | 0 | 0 | 0 | 1 | 0 | 0 | 1 | 0 | 0 | 1 | 0 | 0 | 1 | 0 | 1 | 0 | 0 | 0 | 0 | 0 | 0 | 1 | 0 | 0 | 0 | 0 | 0 | 0 | 0 | 0 | 0 | 0 | 2b58d945f | 2 | 2 | 0 | 4 | yes | 11 | no | 11 | 0 | 0 | 0 | 0 | 1 | 0 | 0 | 0 | 0 | 3 | 1.333333 | 0 | 0 | 1 | 0 | 0 | 0 | 0 | 1 | 3 | 1 | 0 | 0 | 0 | 0 | 0 | 1 | 0 | 37 | 121 | 1369 | 16 | 121 | 4 | 1.777778 |  1 | 121 | 1369 | 4 |\n| 6 | ID_ec05b1a7b | 180000 | 0 | 5 | 0 | 1 | 1 | 1 | 1 | 0 | 2 | 2 | 1 | 1 | 2 | 1 | 3 | 4 | 4 | 4 | 11 | 4 | 1 | 0 | 0 | 0 | 0 | 0 | 0 | 0 | 1 | 0 | 0 | 0 | 0 | 0 | 1 | 0 | 0 | 0 | 1 | 1 | 0 | 0 | 1 | 0 | 0 | 0 | 0 | 1 | 0 | 0 | 0 | 0 | 1 | 0 | 0 | 1 | 0 | 0 | 0 | 0 | 0 | 0 | 0 | 1 | 0 | 0 | 1 | 0 | 0 | 1 | 0 | 1 | 0 | 0 | 1 | 0 | 0 | 0 | 0 | 0 | 1 | 0 | 0 | 0 | 0 | 0 | 0 | 0 | 0 | 0 | 0 | 0 | 2b58d945f | 2 | 2 | 0 | 4 | yes | 11 | no | 11 | 0 | 0 | 0 | 0 | 1 | 0 | 0 | 0 | 0 | 3 | 1.333333 | 0 | 0 | 1 | 0 | 0 | 0 | 0 | 1 | 3 | 1 | 0 | 0 | 0 | 0 | 0 | 1 | 0 | 38 | 121 | 1444 | 16 | 121 | 4 | 1.777778 |  1 | 121 | 1444 | 4 |\n\n",
            "text/html": [
              "<table class=\"dataframe\">\n",
              "<caption>A data.frame: 6 × 142</caption>\n",
              "<thead>\n",
              "\t<tr><th></th><th scope=col>Id</th><th scope=col>v2a1</th><th scope=col>hacdor</th><th scope=col>rooms</th><th scope=col>hacapo</th><th scope=col>v14a</th><th scope=col>refrig</th><th scope=col>v18q</th><th scope=col>v18q1</th><th scope=col>r4h1</th><th scope=col>r4h2</th><th scope=col>r4h3</th><th scope=col>r4m1</th><th scope=col>r4m2</th><th scope=col>r4m3</th><th scope=col>r4t1</th><th scope=col>r4t2</th><th scope=col>r4t3</th><th scope=col>tamhog</th><th scope=col>tamviv</th><th scope=col>escolari</th><th scope=col>hhsize</th><th scope=col>paredblolad</th><th scope=col>paredzocalo</th><th scope=col>paredpreb</th><th scope=col>pareddes</th><th scope=col>paredmad</th><th scope=col>paredzinc</th><th scope=col>paredfibras</th><th scope=col>paredother</th><th scope=col>pisomoscer</th><th scope=col>pisocemento</th><th scope=col>pisoother</th><th scope=col>pisonatur</th><th scope=col>pisonotiene</th><th scope=col>pisomadera</th><th scope=col>techozinc</th><th scope=col>techoentrepiso</th><th scope=col>techocane</th><th scope=col>techootro</th><th scope=col>cielorazo</th><th scope=col>abastaguadentro</th><th scope=col>abastaguafuera</th><th scope=col>abastaguano</th><th scope=col>public</th><th scope=col>planpri</th><th scope=col>noelec</th><th scope=col>coopele</th><th scope=col>sanitario1</th><th scope=col>sanitario2</th><th scope=col>sanitario3</th><th scope=col>sanitario5</th><th scope=col>sanitario6</th><th scope=col>energcocinar1</th><th scope=col>energcocinar2</th><th scope=col>energcocinar3</th><th scope=col>energcocinar4</th><th scope=col>elimbasu1</th><th scope=col>elimbasu2</th><th scope=col>elimbasu3</th><th scope=col>elimbasu4</th><th scope=col>elimbasu5</th><th scope=col>elimbasu6</th><th scope=col>epared1</th><th scope=col>epared2</th><th scope=col>epared3</th><th scope=col>etecho1</th><th scope=col>etecho2</th><th scope=col>etecho3</th><th scope=col>eviv1</th><th scope=col>eviv2</th><th scope=col>eviv3</th><th scope=col>dis</th><th scope=col>male</th><th scope=col>female</th><th scope=col>estadocivil1</th><th scope=col>estadocivil2</th><th scope=col>estadocivil3</th><th scope=col>estadocivil4</th><th scope=col>estadocivil5</th><th scope=col>estadocivil6</th><th scope=col>estadocivil7</th><th scope=col>parentesco1</th><th scope=col>parentesco2</th><th scope=col>parentesco3</th><th scope=col>parentesco4</th><th scope=col>parentesco5</th><th scope=col>parentesco6</th><th scope=col>parentesco7</th><th scope=col>parentesco8</th><th scope=col>parentesco9</th><th scope=col>parentesco10</th><th scope=col>parentesco11</th><th scope=col>parentesco12</th><th scope=col>idhogar</th><th scope=col>hogar_nin</th><th scope=col>hogar_adul</th><th scope=col>hogar_mayor</th><th scope=col>hogar_total</th><th scope=col>dependency</th><th scope=col>edjefe</th><th scope=col>edjefa</th><th scope=col>meaneduc</th><th scope=col>instlevel1</th><th scope=col>instlevel2</th><th scope=col>instlevel3</th><th scope=col>instlevel4</th><th scope=col>instlevel5</th><th scope=col>instlevel6</th><th scope=col>instlevel7</th><th scope=col>instlevel8</th><th scope=col>instlevel9</th><th scope=col>bedrooms</th><th scope=col>overcrowding</th><th scope=col>tipovivi1</th><th scope=col>tipovivi2</th><th scope=col>tipovivi3</th><th scope=col>tipovivi4</th><th scope=col>tipovivi5</th><th scope=col>computer</th><th scope=col>television</th><th scope=col>mobilephone</th><th scope=col>qmobilephone</th><th scope=col>lugar1</th><th scope=col>lugar2</th><th scope=col>lugar3</th><th scope=col>lugar4</th><th scope=col>lugar5</th><th scope=col>lugar6</th><th scope=col>area1</th><th scope=col>area2</th><th scope=col>age</th><th scope=col>SQBescolari</th><th scope=col>SQBage</th><th scope=col>SQBhogar_total</th><th scope=col>SQBedjefe</th><th scope=col>SQBhogar_nin</th><th scope=col>SQBovercrowding</th><th scope=col>SQBdependency</th><th scope=col>SQBmeaned</th><th scope=col>agesq</th><th scope=col>Target</th></tr>\n",
              "\t<tr><th></th><th scope=col>&lt;chr&gt;</th><th scope=col>&lt;dbl&gt;</th><th scope=col>&lt;int&gt;</th><th scope=col>&lt;int&gt;</th><th scope=col>&lt;int&gt;</th><th scope=col>&lt;int&gt;</th><th scope=col>&lt;int&gt;</th><th scope=col>&lt;int&gt;</th><th scope=col>&lt;int&gt;</th><th scope=col>&lt;int&gt;</th><th scope=col>&lt;int&gt;</th><th scope=col>&lt;int&gt;</th><th scope=col>&lt;int&gt;</th><th scope=col>&lt;int&gt;</th><th scope=col>&lt;int&gt;</th><th scope=col>&lt;int&gt;</th><th scope=col>&lt;int&gt;</th><th scope=col>&lt;int&gt;</th><th scope=col>&lt;int&gt;</th><th scope=col>&lt;int&gt;</th><th scope=col>&lt;int&gt;</th><th scope=col>&lt;int&gt;</th><th scope=col>&lt;int&gt;</th><th scope=col>&lt;int&gt;</th><th scope=col>&lt;int&gt;</th><th scope=col>&lt;int&gt;</th><th scope=col>&lt;int&gt;</th><th scope=col>&lt;int&gt;</th><th scope=col>&lt;int&gt;</th><th scope=col>&lt;int&gt;</th><th scope=col>&lt;int&gt;</th><th scope=col>&lt;int&gt;</th><th scope=col>&lt;int&gt;</th><th scope=col>&lt;int&gt;</th><th scope=col>&lt;int&gt;</th><th scope=col>&lt;int&gt;</th><th scope=col>&lt;int&gt;</th><th scope=col>&lt;int&gt;</th><th scope=col>&lt;int&gt;</th><th scope=col>&lt;int&gt;</th><th scope=col>&lt;int&gt;</th><th scope=col>&lt;int&gt;</th><th scope=col>&lt;int&gt;</th><th scope=col>&lt;int&gt;</th><th scope=col>&lt;int&gt;</th><th scope=col>&lt;int&gt;</th><th scope=col>&lt;int&gt;</th><th scope=col>&lt;int&gt;</th><th scope=col>&lt;int&gt;</th><th scope=col>&lt;int&gt;</th><th scope=col>&lt;int&gt;</th><th scope=col>&lt;int&gt;</th><th scope=col>&lt;int&gt;</th><th scope=col>&lt;int&gt;</th><th scope=col>&lt;int&gt;</th><th scope=col>&lt;int&gt;</th><th scope=col>&lt;int&gt;</th><th scope=col>&lt;int&gt;</th><th scope=col>&lt;int&gt;</th><th scope=col>&lt;int&gt;</th><th scope=col>&lt;int&gt;</th><th scope=col>&lt;int&gt;</th><th scope=col>&lt;int&gt;</th><th scope=col>&lt;int&gt;</th><th scope=col>&lt;int&gt;</th><th scope=col>&lt;int&gt;</th><th scope=col>&lt;int&gt;</th><th scope=col>&lt;int&gt;</th><th scope=col>&lt;int&gt;</th><th scope=col>&lt;int&gt;</th><th scope=col>&lt;int&gt;</th><th scope=col>&lt;int&gt;</th><th scope=col>&lt;int&gt;</th><th scope=col>&lt;int&gt;</th><th scope=col>&lt;int&gt;</th><th scope=col>&lt;int&gt;</th><th scope=col>&lt;int&gt;</th><th scope=col>&lt;int&gt;</th><th scope=col>&lt;int&gt;</th><th scope=col>&lt;int&gt;</th><th scope=col>&lt;int&gt;</th><th scope=col>&lt;int&gt;</th><th scope=col>&lt;int&gt;</th><th scope=col>&lt;int&gt;</th><th scope=col>&lt;int&gt;</th><th scope=col>&lt;int&gt;</th><th scope=col>&lt;int&gt;</th><th scope=col>&lt;int&gt;</th><th scope=col>&lt;int&gt;</th><th scope=col>&lt;int&gt;</th><th scope=col>&lt;int&gt;</th><th scope=col>&lt;int&gt;</th><th scope=col>&lt;int&gt;</th><th scope=col>&lt;int&gt;</th><th scope=col>&lt;chr&gt;</th><th scope=col>&lt;int&gt;</th><th scope=col>&lt;int&gt;</th><th scope=col>&lt;int&gt;</th><th scope=col>&lt;int&gt;</th><th scope=col>&lt;chr&gt;</th><th scope=col>&lt;chr&gt;</th><th scope=col>&lt;chr&gt;</th><th scope=col>&lt;dbl&gt;</th><th scope=col>&lt;int&gt;</th><th scope=col>&lt;int&gt;</th><th scope=col>&lt;int&gt;</th><th scope=col>&lt;int&gt;</th><th scope=col>&lt;int&gt;</th><th scope=col>&lt;int&gt;</th><th scope=col>&lt;int&gt;</th><th scope=col>&lt;int&gt;</th><th scope=col>&lt;int&gt;</th><th scope=col>&lt;int&gt;</th><th scope=col>&lt;dbl&gt;</th><th scope=col>&lt;int&gt;</th><th scope=col>&lt;int&gt;</th><th scope=col>&lt;int&gt;</th><th scope=col>&lt;int&gt;</th><th scope=col>&lt;int&gt;</th><th scope=col>&lt;int&gt;</th><th scope=col>&lt;int&gt;</th><th scope=col>&lt;int&gt;</th><th scope=col>&lt;int&gt;</th><th scope=col>&lt;int&gt;</th><th scope=col>&lt;int&gt;</th><th scope=col>&lt;int&gt;</th><th scope=col>&lt;int&gt;</th><th scope=col>&lt;int&gt;</th><th scope=col>&lt;int&gt;</th><th scope=col>&lt;int&gt;</th><th scope=col>&lt;int&gt;</th><th scope=col>&lt;int&gt;</th><th scope=col>&lt;int&gt;</th><th scope=col>&lt;int&gt;</th><th scope=col>&lt;int&gt;</th><th scope=col>&lt;int&gt;</th><th scope=col>&lt;int&gt;</th><th scope=col>&lt;dbl&gt;</th><th scope=col>&lt;dbl&gt;</th><th scope=col>&lt;dbl&gt;</th><th scope=col>&lt;int&gt;</th><th scope=col>&lt;int&gt;</th></tr>\n",
              "</thead>\n",
              "<tbody>\n",
              "\t<tr><th scope=row>1</th><td>ID_279628684</td><td>190000</td><td>0</td><td>3</td><td>0</td><td>1</td><td>1</td><td>0</td><td>1</td><td>0</td><td>1</td><td>1</td><td>0</td><td>0</td><td>0</td><td>0</td><td>1</td><td>1</td><td>1</td><td>1</td><td>10</td><td>1</td><td>1</td><td>0</td><td>0</td><td>0</td><td>0</td><td>0</td><td>0</td><td>0</td><td>1</td><td>0</td><td>0</td><td>0</td><td>0</td><td>0</td><td>0</td><td>1</td><td>0</td><td>0</td><td>1</td><td>1</td><td>0</td><td>0</td><td>1</td><td>0</td><td>0</td><td>0</td><td>0</td><td>1</td><td>0</td><td>0</td><td>0</td><td>0</td><td>0</td><td>1</td><td>0</td><td>1</td><td>0</td><td>0</td><td>0</td><td>0</td><td>0</td><td>0</td><td>1</td><td>0</td><td>1</td><td>0</td><td>0</td><td>1</td><td>0</td><td>0</td><td>0</td><td>1</td><td>0</td><td>0</td><td>0</td><td>0</td><td>1</td><td>0</td><td>0</td><td>0</td><td>1</td><td>0</td><td>0</td><td>0</td><td>0</td><td>0</td><td>0</td><td>0</td><td>0</td><td>0</td><td>0</td><td>0</td><td>21eb7fcc1</td><td>0</td><td>1</td><td>0</td><td>1</td><td>no </td><td>10</td><td>no</td><td>10</td><td>0</td><td>0</td><td>0</td><td>1</td><td>0</td><td>0</td><td>0</td><td>0</td><td>0</td><td>1</td><td>1.000000</td><td>0</td><td>0</td><td>1</td><td>0</td><td>0</td><td>0</td><td>0</td><td>1</td><td>1</td><td>1</td><td>0</td><td>0</td><td>0</td><td>0</td><td>0</td><td>1</td><td>0</td><td>43</td><td>100</td><td>1849</td><td> 1</td><td>100</td><td>0</td><td>1.000000</td><td> 0</td><td>100</td><td>1849</td><td>4</td></tr>\n",
              "\t<tr><th scope=row>2</th><td>ID_f29eb3ddd</td><td>135000</td><td>0</td><td>4</td><td>0</td><td>1</td><td>1</td><td>1</td><td>1</td><td>0</td><td>1</td><td>1</td><td>0</td><td>0</td><td>0</td><td>0</td><td>1</td><td>1</td><td>1</td><td>1</td><td>12</td><td>1</td><td>0</td><td>0</td><td>0</td><td>0</td><td>1</td><td>0</td><td>0</td><td>0</td><td>0</td><td>0</td><td>0</td><td>0</td><td>0</td><td>1</td><td>1</td><td>0</td><td>0</td><td>0</td><td>1</td><td>1</td><td>0</td><td>0</td><td>1</td><td>0</td><td>0</td><td>0</td><td>0</td><td>1</td><td>0</td><td>0</td><td>0</td><td>0</td><td>1</td><td>0</td><td>0</td><td>1</td><td>0</td><td>0</td><td>0</td><td>0</td><td>0</td><td>0</td><td>1</td><td>0</td><td>0</td><td>1</td><td>0</td><td>0</td><td>1</td><td>0</td><td>0</td><td>1</td><td>0</td><td>0</td><td>0</td><td>0</td><td>1</td><td>0</td><td>0</td><td>0</td><td>1</td><td>0</td><td>0</td><td>0</td><td>0</td><td>0</td><td>0</td><td>0</td><td>0</td><td>0</td><td>0</td><td>0</td><td>0e5d7a658</td><td>0</td><td>1</td><td>1</td><td>1</td><td>8  </td><td>12</td><td>no</td><td>12</td><td>0</td><td>0</td><td>0</td><td>0</td><td>0</td><td>0</td><td>0</td><td>1</td><td>0</td><td>1</td><td>1.000000</td><td>0</td><td>0</td><td>1</td><td>0</td><td>0</td><td>0</td><td>0</td><td>1</td><td>1</td><td>1</td><td>0</td><td>0</td><td>0</td><td>0</td><td>0</td><td>1</td><td>0</td><td>67</td><td>144</td><td>4489</td><td> 1</td><td>144</td><td>0</td><td>1.000000</td><td>64</td><td>144</td><td>4489</td><td>4</td></tr>\n",
              "\t<tr><th scope=row>3</th><td>ID_68de51c94</td><td>130000</td><td>0</td><td>8</td><td>0</td><td>1</td><td>1</td><td>0</td><td>1</td><td>0</td><td>0</td><td>0</td><td>0</td><td>1</td><td>1</td><td>0</td><td>1</td><td>1</td><td>1</td><td>1</td><td>11</td><td>1</td><td>0</td><td>0</td><td>0</td><td>0</td><td>1</td><td>0</td><td>0</td><td>0</td><td>1</td><td>0</td><td>0</td><td>0</td><td>0</td><td>0</td><td>1</td><td>0</td><td>0</td><td>0</td><td>1</td><td>1</td><td>0</td><td>0</td><td>1</td><td>0</td><td>0</td><td>0</td><td>0</td><td>1</td><td>0</td><td>0</td><td>0</td><td>0</td><td>1</td><td>0</td><td>0</td><td>1</td><td>0</td><td>0</td><td>0</td><td>0</td><td>0</td><td>0</td><td>1</td><td>0</td><td>0</td><td>0</td><td>1</td><td>0</td><td>0</td><td>1</td><td>1</td><td>0</td><td>1</td><td>0</td><td>0</td><td>0</td><td>0</td><td>0</td><td>1</td><td>0</td><td>1</td><td>0</td><td>0</td><td>0</td><td>0</td><td>0</td><td>0</td><td>0</td><td>0</td><td>0</td><td>0</td><td>0</td><td>2c7317ea8</td><td>0</td><td>1</td><td>1</td><td>1</td><td>8  </td><td>no</td><td>11</td><td>11</td><td>0</td><td>0</td><td>0</td><td>0</td><td>1</td><td>0</td><td>0</td><td>0</td><td>0</td><td>2</td><td>0.500000</td><td>1</td><td>0</td><td>0</td><td>0</td><td>0</td><td>0</td><td>0</td><td>0</td><td>0</td><td>1</td><td>0</td><td>0</td><td>0</td><td>0</td><td>0</td><td>1</td><td>0</td><td>92</td><td>121</td><td>8464</td><td> 1</td><td>  0</td><td>0</td><td>0.250000</td><td>64</td><td>121</td><td>8464</td><td>4</td></tr>\n",
              "\t<tr><th scope=row>4</th><td>ID_d671db89c</td><td>180000</td><td>0</td><td>5</td><td>0</td><td>1</td><td>1</td><td>1</td><td>1</td><td>0</td><td>2</td><td>2</td><td>1</td><td>1</td><td>2</td><td>1</td><td>3</td><td>4</td><td>4</td><td>4</td><td> 9</td><td>4</td><td>1</td><td>0</td><td>0</td><td>0</td><td>0</td><td>0</td><td>0</td><td>0</td><td>1</td><td>0</td><td>0</td><td>0</td><td>0</td><td>0</td><td>1</td><td>0</td><td>0</td><td>0</td><td>1</td><td>1</td><td>0</td><td>0</td><td>1</td><td>0</td><td>0</td><td>0</td><td>0</td><td>1</td><td>0</td><td>0</td><td>0</td><td>0</td><td>1</td><td>0</td><td>0</td><td>1</td><td>0</td><td>0</td><td>0</td><td>0</td><td>0</td><td>0</td><td>0</td><td>1</td><td>0</td><td>0</td><td>1</td><td>0</td><td>0</td><td>1</td><td>0</td><td>1</td><td>0</td><td>0</td><td>0</td><td>0</td><td>0</td><td>0</td><td>0</td><td>1</td><td>0</td><td>0</td><td>1</td><td>0</td><td>0</td><td>0</td><td>0</td><td>0</td><td>0</td><td>0</td><td>0</td><td>0</td><td>2b58d945f</td><td>2</td><td>2</td><td>0</td><td>4</td><td>yes</td><td>11</td><td>no</td><td>11</td><td>0</td><td>0</td><td>0</td><td>1</td><td>0</td><td>0</td><td>0</td><td>0</td><td>0</td><td>3</td><td>1.333333</td><td>0</td><td>0</td><td>1</td><td>0</td><td>0</td><td>0</td><td>0</td><td>1</td><td>3</td><td>1</td><td>0</td><td>0</td><td>0</td><td>0</td><td>0</td><td>1</td><td>0</td><td>17</td><td> 81</td><td> 289</td><td>16</td><td>121</td><td>4</td><td>1.777778</td><td> 1</td><td>121</td><td> 289</td><td>4</td></tr>\n",
              "\t<tr><th scope=row>5</th><td>ID_d56d6f5f5</td><td>180000</td><td>0</td><td>5</td><td>0</td><td>1</td><td>1</td><td>1</td><td>1</td><td>0</td><td>2</td><td>2</td><td>1</td><td>1</td><td>2</td><td>1</td><td>3</td><td>4</td><td>4</td><td>4</td><td>11</td><td>4</td><td>1</td><td>0</td><td>0</td><td>0</td><td>0</td><td>0</td><td>0</td><td>0</td><td>1</td><td>0</td><td>0</td><td>0</td><td>0</td><td>0</td><td>1</td><td>0</td><td>0</td><td>0</td><td>1</td><td>1</td><td>0</td><td>0</td><td>1</td><td>0</td><td>0</td><td>0</td><td>0</td><td>1</td><td>0</td><td>0</td><td>0</td><td>0</td><td>1</td><td>0</td><td>0</td><td>1</td><td>0</td><td>0</td><td>0</td><td>0</td><td>0</td><td>0</td><td>0</td><td>1</td><td>0</td><td>0</td><td>1</td><td>0</td><td>0</td><td>1</td><td>0</td><td>0</td><td>1</td><td>0</td><td>1</td><td>0</td><td>0</td><td>0</td><td>0</td><td>0</td><td>0</td><td>1</td><td>0</td><td>0</td><td>0</td><td>0</td><td>0</td><td>0</td><td>0</td><td>0</td><td>0</td><td>0</td><td>2b58d945f</td><td>2</td><td>2</td><td>0</td><td>4</td><td>yes</td><td>11</td><td>no</td><td>11</td><td>0</td><td>0</td><td>0</td><td>0</td><td>1</td><td>0</td><td>0</td><td>0</td><td>0</td><td>3</td><td>1.333333</td><td>0</td><td>0</td><td>1</td><td>0</td><td>0</td><td>0</td><td>0</td><td>1</td><td>3</td><td>1</td><td>0</td><td>0</td><td>0</td><td>0</td><td>0</td><td>1</td><td>0</td><td>37</td><td>121</td><td>1369</td><td>16</td><td>121</td><td>4</td><td>1.777778</td><td> 1</td><td>121</td><td>1369</td><td>4</td></tr>\n",
              "\t<tr><th scope=row>6</th><td>ID_ec05b1a7b</td><td>180000</td><td>0</td><td>5</td><td>0</td><td>1</td><td>1</td><td>1</td><td>1</td><td>0</td><td>2</td><td>2</td><td>1</td><td>1</td><td>2</td><td>1</td><td>3</td><td>4</td><td>4</td><td>4</td><td>11</td><td>4</td><td>1</td><td>0</td><td>0</td><td>0</td><td>0</td><td>0</td><td>0</td><td>0</td><td>1</td><td>0</td><td>0</td><td>0</td><td>0</td><td>0</td><td>1</td><td>0</td><td>0</td><td>0</td><td>1</td><td>1</td><td>0</td><td>0</td><td>1</td><td>0</td><td>0</td><td>0</td><td>0</td><td>1</td><td>0</td><td>0</td><td>0</td><td>0</td><td>1</td><td>0</td><td>0</td><td>1</td><td>0</td><td>0</td><td>0</td><td>0</td><td>0</td><td>0</td><td>0</td><td>1</td><td>0</td><td>0</td><td>1</td><td>0</td><td>0</td><td>1</td><td>0</td><td>1</td><td>0</td><td>0</td><td>1</td><td>0</td><td>0</td><td>0</td><td>0</td><td>0</td><td>1</td><td>0</td><td>0</td><td>0</td><td>0</td><td>0</td><td>0</td><td>0</td><td>0</td><td>0</td><td>0</td><td>0</td><td>2b58d945f</td><td>2</td><td>2</td><td>0</td><td>4</td><td>yes</td><td>11</td><td>no</td><td>11</td><td>0</td><td>0</td><td>0</td><td>0</td><td>1</td><td>0</td><td>0</td><td>0</td><td>0</td><td>3</td><td>1.333333</td><td>0</td><td>0</td><td>1</td><td>0</td><td>0</td><td>0</td><td>0</td><td>1</td><td>3</td><td>1</td><td>0</td><td>0</td><td>0</td><td>0</td><td>0</td><td>1</td><td>0</td><td>38</td><td>121</td><td>1444</td><td>16</td><td>121</td><td>4</td><td>1.777778</td><td> 1</td><td>121</td><td>1444</td><td>4</td></tr>\n",
              "</tbody>\n",
              "</table>\n"
            ]
          },
          "metadata": {}
        }
      ]
    },
    {
      "cell_type": "markdown",
      "metadata": {
        "id": "_mrfVYUu-M-v"
      },
      "source": [
        "## **Dealing with Categorical Data**"
      ]
    },
    {
      "cell_type": "code",
      "metadata": {
        "colab": {
          "base_uri": "https://localhost:8080/",
          "height": 425
        },
        "id": "D24O8ZS0-i4g",
        "outputId": "d22c716a-aa46-4954-d40b-1e785dbc0987"
      },
      "source": [
        "head(train, 10)"
      ],
      "execution_count": 15,
      "outputs": [
        {
          "output_type": "display_data",
          "data": {
            "text/plain": [
              "   Id           v2a1   hacdor rooms hacapo v14a refrig v18q v18q1 r4h1 r4h2\n",
              "1  ID_279628684 190000 0      3     0      1    1      0    1     0    1   \n",
              "2  ID_f29eb3ddd 135000 0      4     0      1    1      1    1     0    1   \n",
              "3  ID_68de51c94 130000 0      8     0      1    1      0    1     0    0   \n",
              "4  ID_d671db89c 180000 0      5     0      1    1      1    1     0    2   \n",
              "5  ID_d56d6f5f5 180000 0      5     0      1    1      1    1     0    2   \n",
              "6  ID_ec05b1a7b 180000 0      5     0      1    1      1    1     0    2   \n",
              "7  ID_e9e0c1100 180000 0      5     0      1    1      1    1     0    2   \n",
              "8  ID_3e04e571e 130000 1      2     0      1    1      0    1     0    1   \n",
              "9  ID_1284f8aad 130000 1      2     0      1    1      0    1     0    1   \n",
              "10 ID_51f52fdd2 130000 1      2     0      1    1      0    1     0    1   \n",
              "   r4h3 r4m1 r4m2 r4m3 r4t1 r4t2 r4t3 tamhog tamviv escolari hhsize paredblolad\n",
              "1  1    0    0    0    0    1    1    1      1      10       1      1          \n",
              "2  1    0    0    0    0    1    1    1      1      12       1      0          \n",
              "3  0    0    1    1    0    1    1    1      1      11       1      0          \n",
              "4  2    1    1    2    1    3    4    4      4       9       4      1          \n",
              "5  2    1    1    2    1    3    4    4      4      11       4      1          \n",
              "6  2    1    1    2    1    3    4    4      4      11       4      1          \n",
              "7  2    1    1    2    1    3    4    4      4       2       4      1          \n",
              "8  1    2    1    3    2    2    4    4      4       0       4      1          \n",
              "9  1    2    1    3    2    2    4    4      4       9       4      1          \n",
              "10 1    2    1    3    2    2    4    4      4      11       4      1          \n",
              "   paredzocalo paredpreb pareddes paredmad paredzinc paredfibras paredother\n",
              "1  0           0         0        0        0         0           0         \n",
              "2  0           0         0        1        0         0           0         \n",
              "3  0           0         0        1        0         0           0         \n",
              "4  0           0         0        0        0         0           0         \n",
              "5  0           0         0        0        0         0           0         \n",
              "6  0           0         0        0        0         0           0         \n",
              "7  0           0         0        0        0         0           0         \n",
              "8  0           0         0        0        0         0           0         \n",
              "9  0           0         0        0        0         0           0         \n",
              "10 0           0         0        0        0         0           0         \n",
              "   pisomoscer pisocemento pisoother pisonatur pisonotiene pisomadera techozinc\n",
              "1  1          0           0         0         0           0          0        \n",
              "2  0          0           0         0         0           1          1        \n",
              "3  1          0           0         0         0           0          1        \n",
              "4  1          0           0         0         0           0          1        \n",
              "5  1          0           0         0         0           0          1        \n",
              "6  1          0           0         0         0           0          1        \n",
              "7  1          0           0         0         0           0          1        \n",
              "8  1          0           0         0         0           0          1        \n",
              "9  1          0           0         0         0           0          1        \n",
              "10 1          0           0         0         0           0          1        \n",
              "   techoentrepiso techocane techootro cielorazo abastaguadentro abastaguafuera\n",
              "1  1              0         0         1         1               0             \n",
              "2  0              0         0         1         1               0             \n",
              "3  0              0         0         1         1               0             \n",
              "4  0              0         0         1         1               0             \n",
              "5  0              0         0         1         1               0             \n",
              "6  0              0         0         1         1               0             \n",
              "7  0              0         0         1         1               0             \n",
              "8  0              0         0         1         1               0             \n",
              "9  0              0         0         1         1               0             \n",
              "10 0              0         0         1         1               0             \n",
              "   abastaguano public planpri noelec coopele sanitario1 sanitario2 sanitario3\n",
              "1  0           1      0       0      0       0          1          0         \n",
              "2  0           1      0       0      0       0          1          0         \n",
              "3  0           1      0       0      0       0          1          0         \n",
              "4  0           1      0       0      0       0          1          0         \n",
              "5  0           1      0       0      0       0          1          0         \n",
              "6  0           1      0       0      0       0          1          0         \n",
              "7  0           1      0       0      0       0          1          0         \n",
              "8  0           1      0       0      0       0          1          0         \n",
              "9  0           1      0       0      0       0          1          0         \n",
              "10 0           1      0       0      0       0          1          0         \n",
              "   sanitario5 sanitario6 energcocinar1 energcocinar2 energcocinar3\n",
              "1  0          0          0             0             1            \n",
              "2  0          0          0             1             0            \n",
              "3  0          0          0             1             0            \n",
              "4  0          0          0             1             0            \n",
              "5  0          0          0             1             0            \n",
              "6  0          0          0             1             0            \n",
              "7  0          0          0             1             0            \n",
              "8  0          0          0             0             1            \n",
              "9  0          0          0             0             1            \n",
              "10 0          0          0             0             1            \n",
              "   energcocinar4 elimbasu1 elimbasu2 elimbasu3 elimbasu4 elimbasu5 elimbasu6\n",
              "1  0             1         0         0         0         0         0        \n",
              "2  0             1         0         0         0         0         0        \n",
              "3  0             1         0         0         0         0         0        \n",
              "4  0             1         0         0         0         0         0        \n",
              "5  0             1         0         0         0         0         0        \n",
              "6  0             1         0         0         0         0         0        \n",
              "7  0             1         0         0         0         0         0        \n",
              "8  0             1         0         0         0         0         0        \n",
              "9  0             1         0         0         0         0         0        \n",
              "10 0             1         0         0         0         0         0        \n",
              "   epared1 epared2 epared3 etecho1 etecho2 etecho3 eviv1 eviv2 eviv3 dis male\n",
              "1  0       1       0       1       0       0       1     0     0     0   1   \n",
              "2  0       1       0       0       1       0       0     1     0     0   1   \n",
              "3  0       1       0       0       0       1       0     0     1     1   0   \n",
              "4  0       0       1       0       0       1       0     0     1     0   1   \n",
              "5  0       0       1       0       0       1       0     0     1     0   0   \n",
              "6  0       0       1       0       0       1       0     0     1     0   1   \n",
              "7  0       0       1       0       0       1       0     0     1     0   0   \n",
              "8  1       0       0       1       0       0       0     1     0     0   0   \n",
              "9  1       0       0       1       0       0       0     1     0     0   1   \n",
              "10 1       0       0       1       0       0       0     1     0     0   0   \n",
              "   female estadocivil1 estadocivil2 estadocivil3 estadocivil4 estadocivil5\n",
              "1  0      0            0            0            1            0           \n",
              "2  0      0            0            0            1            0           \n",
              "3  1      0            0            0            0            0           \n",
              "4  0      0            0            0            0            0           \n",
              "5  1      0            1            0            0            0           \n",
              "6  0      0            1            0            0            0           \n",
              "7  1      1            0            0            0            0           \n",
              "8  1      1            0            0            0            0           \n",
              "9  0      0            1            0            0            0           \n",
              "10 1      0            1            0            0            0           \n",
              "   estadocivil6 estadocivil7 parentesco1 parentesco2 parentesco3 parentesco4\n",
              "1  0            0            1           0           0           0          \n",
              "2  0            0            1           0           0           0          \n",
              "3  1            0            1           0           0           0          \n",
              "4  0            1            0           0           1           0          \n",
              "5  0            0            0           1           0           0          \n",
              "6  0            0            1           0           0           0          \n",
              "7  0            0            0           0           1           0          \n",
              "8  0            0            0           0           1           0          \n",
              "9  0            0            1           0           0           0          \n",
              "10 0            0            0           1           0           0          \n",
              "   parentesco5 parentesco6 parentesco7 parentesco8 parentesco9 parentesco10\n",
              "1  0           0           0           0           0           0           \n",
              "2  0           0           0           0           0           0           \n",
              "3  0           0           0           0           0           0           \n",
              "4  0           0           0           0           0           0           \n",
              "5  0           0           0           0           0           0           \n",
              "6  0           0           0           0           0           0           \n",
              "7  0           0           0           0           0           0           \n",
              "8  0           0           0           0           0           0           \n",
              "9  0           0           0           0           0           0           \n",
              "10 0           0           0           0           0           0           \n",
              "   parentesco11 parentesco12 idhogar   hogar_nin hogar_adul hogar_mayor\n",
              "1  0            0            21eb7fcc1 0         1          0          \n",
              "2  0            0            0e5d7a658 0         1          1          \n",
              "3  0            0            2c7317ea8 0         1          1          \n",
              "4  0            0            2b58d945f 2         2          0          \n",
              "5  0            0            2b58d945f 2         2          0          \n",
              "6  0            0            2b58d945f 2         2          0          \n",
              "7  0            0            2b58d945f 2         2          0          \n",
              "8  0            0            d6dae86b7 2         2          0          \n",
              "9  0            0            d6dae86b7 2         2          0          \n",
              "10 0            0            d6dae86b7 2         2          0          \n",
              "   hogar_total dependency edjefe edjefa meaneduc instlevel1 instlevel2\n",
              "1  1           no         10     no     10       0          0         \n",
              "2  1           8          12     no     12       0          0         \n",
              "3  1           8          no     11     11       0          0         \n",
              "4  4           yes        11     no     11       0          0         \n",
              "5  4           yes        11     no     11       0          0         \n",
              "6  4           yes        11     no     11       0          0         \n",
              "7  4           yes        11     no     11       0          1         \n",
              "8  4           yes        9      no     10       1          0         \n",
              "9  4           yes        9      no     10       0          0         \n",
              "10 4           yes        9      no     10       0          0         \n",
              "   instlevel3 instlevel4 instlevel5 instlevel6 instlevel7 instlevel8 instlevel9\n",
              "1  0          1          0          0          0          0          0         \n",
              "2  0          0          0          0          0          1          0         \n",
              "3  0          0          1          0          0          0          0         \n",
              "4  0          1          0          0          0          0          0         \n",
              "5  0          0          1          0          0          0          0         \n",
              "6  0          0          1          0          0          0          0         \n",
              "7  0          0          0          0          0          0          0         \n",
              "8  0          0          0          0          0          0          0         \n",
              "9  0          1          0          0          0          0          0         \n",
              "10 0          0          1          0          0          0          0         \n",
              "   bedrooms overcrowding tipovivi1 tipovivi2 tipovivi3 tipovivi4 tipovivi5\n",
              "1  1        1.000000     0         0         1         0         0        \n",
              "2  1        1.000000     0         0         1         0         0        \n",
              "3  2        0.500000     1         0         0         0         0        \n",
              "4  3        1.333333     0         0         1         0         0        \n",
              "5  3        1.333333     0         0         1         0         0        \n",
              "6  3        1.333333     0         0         1         0         0        \n",
              "7  3        1.333333     0         0         1         0         0        \n",
              "8  1        4.000000     0         0         1         0         0        \n",
              "9  1        4.000000     0         0         1         0         0        \n",
              "10 1        4.000000     0         0         1         0         0        \n",
              "   computer television mobilephone qmobilephone lugar1 lugar2 lugar3 lugar4\n",
              "1  0        0          1           1            1      0      0      0     \n",
              "2  0        0          1           1            1      0      0      0     \n",
              "3  0        0          0           0            1      0      0      0     \n",
              "4  0        0          1           3            1      0      0      0     \n",
              "5  0        0          1           3            1      0      0      0     \n",
              "6  0        0          1           3            1      0      0      0     \n",
              "7  0        0          1           3            1      0      0      0     \n",
              "8  0        0          1           1            1      0      0      0     \n",
              "9  0        0          1           1            1      0      0      0     \n",
              "10 0        0          1           1            1      0      0      0     \n",
              "   lugar5 lugar6 area1 area2 age SQBescolari SQBage SQBhogar_total SQBedjefe\n",
              "1  0      0      1     0     43  100         1849    1             100      \n",
              "2  0      0      1     0     67  144         4489    1             144      \n",
              "3  0      0      1     0     92  121         8464    1               0      \n",
              "4  0      0      1     0     17   81          289   16             121      \n",
              "5  0      0      1     0     37  121         1369   16             121      \n",
              "6  0      0      1     0     38  121         1444   16             121      \n",
              "7  0      0      1     0      8    4           64   16             121      \n",
              "8  0      0      1     0      7    0           49   16              81      \n",
              "9  0      0      1     0     30   81          900   16              81      \n",
              "10 0      0      1     0     28  121          784   16              81      \n",
              "   SQBhogar_nin SQBovercrowding SQBdependency SQBmeaned agesq Target\n",
              "1  0             1.000000        0            100       1849  4     \n",
              "2  0             1.000000       64            144       4489  4     \n",
              "3  0             0.250000       64            121       8464  4     \n",
              "4  4             1.777778        1            121        289  4     \n",
              "5  4             1.777778        1            121       1369  4     \n",
              "6  4             1.777778        1            121       1444  4     \n",
              "7  4             1.777778        1            121         64  4     \n",
              "8  4            16.000000        1            100         49  4     \n",
              "9  4            16.000000        1            100        900  4     \n",
              "10 4            16.000000        1            100        784  4     "
            ],
            "text/latex": "A data.frame: 10 × 142\n\\begin{tabular}{r|llllllllllllllllllllllllllllllllllllllllllllllllllllllllllllllllllllllllllllllllllllllllllllllllllllllllllllllllllllllllllllllllllllllllllllll}\n  & Id & v2a1 & hacdor & rooms & hacapo & v14a & refrig & v18q & v18q1 & r4h1 & r4h2 & r4h3 & r4m1 & r4m2 & r4m3 & r4t1 & r4t2 & r4t3 & tamhog & tamviv & escolari & hhsize & paredblolad & paredzocalo & paredpreb & pareddes & paredmad & paredzinc & paredfibras & paredother & pisomoscer & pisocemento & pisoother & pisonatur & pisonotiene & pisomadera & techozinc & techoentrepiso & techocane & techootro & cielorazo & abastaguadentro & abastaguafuera & abastaguano & public & planpri & noelec & coopele & sanitario1 & sanitario2 & sanitario3 & sanitario5 & sanitario6 & energcocinar1 & energcocinar2 & energcocinar3 & energcocinar4 & elimbasu1 & elimbasu2 & elimbasu3 & elimbasu4 & elimbasu5 & elimbasu6 & epared1 & epared2 & epared3 & etecho1 & etecho2 & etecho3 & eviv1 & eviv2 & eviv3 & dis & male & female & estadocivil1 & estadocivil2 & estadocivil3 & estadocivil4 & estadocivil5 & estadocivil6 & estadocivil7 & parentesco1 & parentesco2 & parentesco3 & parentesco4 & parentesco5 & parentesco6 & parentesco7 & parentesco8 & parentesco9 & parentesco10 & parentesco11 & parentesco12 & idhogar & hogar\\_nin & hogar\\_adul & hogar\\_mayor & hogar\\_total & dependency & edjefe & edjefa & meaneduc & instlevel1 & instlevel2 & instlevel3 & instlevel4 & instlevel5 & instlevel6 & instlevel7 & instlevel8 & instlevel9 & bedrooms & overcrowding & tipovivi1 & tipovivi2 & tipovivi3 & tipovivi4 & tipovivi5 & computer & television & mobilephone & qmobilephone & lugar1 & lugar2 & lugar3 & lugar4 & lugar5 & lugar6 & area1 & area2 & age & SQBescolari & SQBage & SQBhogar\\_total & SQBedjefe & SQBhogar\\_nin & SQBovercrowding & SQBdependency & SQBmeaned & agesq & Target\\\\\n  & <chr> & <dbl> & <int> & <int> & <int> & <int> & <int> & <int> & <int> & <int> & <int> & <int> & <int> & <int> & <int> & <int> & <int> & <int> & <int> & <int> & <int> & <int> & <int> & <int> & <int> & <int> & <int> & <int> & <int> & <int> & <int> & <int> & <int> & <int> & <int> & <int> & <int> & <int> & <int> & <int> & <int> & <int> & <int> & <int> & <int> & <int> & <int> & <int> & <int> & <int> & <int> & <int> & <int> & <int> & <int> & <int> & <int> & <int> & <int> & <int> & <int> & <int> & <int> & <int> & <int> & <int> & <int> & <int> & <int> & <int> & <int> & <int> & <int> & <int> & <int> & <int> & <int> & <int> & <int> & <int> & <int> & <int> & <int> & <int> & <int> & <int> & <int> & <int> & <int> & <int> & <int> & <int> & <int> & <int> & <chr> & <int> & <int> & <int> & <int> & <chr> & <chr> & <chr> & <dbl> & <int> & <int> & <int> & <int> & <int> & <int> & <int> & <int> & <int> & <int> & <dbl> & <int> & <int> & <int> & <int> & <int> & <int> & <int> & <int> & <int> & <int> & <int> & <int> & <int> & <int> & <int> & <int> & <int> & <int> & <int> & <int> & <int> & <int> & <int> & <dbl> & <dbl> & <dbl> & <int> & <int>\\\\\n\\hline\n\t1 & ID\\_279628684 & 190000 & 0 & 3 & 0 & 1 & 1 & 0 & 1 & 0 & 1 & 1 & 0 & 0 & 0 & 0 & 1 & 1 & 1 & 1 & 10 & 1 & 1 & 0 & 0 & 0 & 0 & 0 & 0 & 0 & 1 & 0 & 0 & 0 & 0 & 0 & 0 & 1 & 0 & 0 & 1 & 1 & 0 & 0 & 1 & 0 & 0 & 0 & 0 & 1 & 0 & 0 & 0 & 0 & 0 & 1 & 0 & 1 & 0 & 0 & 0 & 0 & 0 & 0 & 1 & 0 & 1 & 0 & 0 & 1 & 0 & 0 & 0 & 1 & 0 & 0 & 0 & 0 & 1 & 0 & 0 & 0 & 1 & 0 & 0 & 0 & 0 & 0 & 0 & 0 & 0 & 0 & 0 & 0 & 21eb7fcc1 & 0 & 1 & 0 & 1 & no  & 10 & no & 10 & 0 & 0 & 0 & 1 & 0 & 0 & 0 & 0 & 0 & 1 & 1.000000 & 0 & 0 & 1 & 0 & 0 & 0 & 0 & 1 & 1 & 1 & 0 & 0 & 0 & 0 & 0 & 1 & 0 & 43 & 100 & 1849 &  1 & 100 & 0 &  1.000000 &  0 & 100 & 1849 & 4\\\\\n\t2 & ID\\_f29eb3ddd & 135000 & 0 & 4 & 0 & 1 & 1 & 1 & 1 & 0 & 1 & 1 & 0 & 0 & 0 & 0 & 1 & 1 & 1 & 1 & 12 & 1 & 0 & 0 & 0 & 0 & 1 & 0 & 0 & 0 & 0 & 0 & 0 & 0 & 0 & 1 & 1 & 0 & 0 & 0 & 1 & 1 & 0 & 0 & 1 & 0 & 0 & 0 & 0 & 1 & 0 & 0 & 0 & 0 & 1 & 0 & 0 & 1 & 0 & 0 & 0 & 0 & 0 & 0 & 1 & 0 & 0 & 1 & 0 & 0 & 1 & 0 & 0 & 1 & 0 & 0 & 0 & 0 & 1 & 0 & 0 & 0 & 1 & 0 & 0 & 0 & 0 & 0 & 0 & 0 & 0 & 0 & 0 & 0 & 0e5d7a658 & 0 & 1 & 1 & 1 & 8   & 12 & no & 12 & 0 & 0 & 0 & 0 & 0 & 0 & 0 & 1 & 0 & 1 & 1.000000 & 0 & 0 & 1 & 0 & 0 & 0 & 0 & 1 & 1 & 1 & 0 & 0 & 0 & 0 & 0 & 1 & 0 & 67 & 144 & 4489 &  1 & 144 & 0 &  1.000000 & 64 & 144 & 4489 & 4\\\\\n\t3 & ID\\_68de51c94 & 130000 & 0 & 8 & 0 & 1 & 1 & 0 & 1 & 0 & 0 & 0 & 0 & 1 & 1 & 0 & 1 & 1 & 1 & 1 & 11 & 1 & 0 & 0 & 0 & 0 & 1 & 0 & 0 & 0 & 1 & 0 & 0 & 0 & 0 & 0 & 1 & 0 & 0 & 0 & 1 & 1 & 0 & 0 & 1 & 0 & 0 & 0 & 0 & 1 & 0 & 0 & 0 & 0 & 1 & 0 & 0 & 1 & 0 & 0 & 0 & 0 & 0 & 0 & 1 & 0 & 0 & 0 & 1 & 0 & 0 & 1 & 1 & 0 & 1 & 0 & 0 & 0 & 0 & 0 & 1 & 0 & 1 & 0 & 0 & 0 & 0 & 0 & 0 & 0 & 0 & 0 & 0 & 0 & 2c7317ea8 & 0 & 1 & 1 & 1 & 8   & no & 11 & 11 & 0 & 0 & 0 & 0 & 1 & 0 & 0 & 0 & 0 & 2 & 0.500000 & 1 & 0 & 0 & 0 & 0 & 0 & 0 & 0 & 0 & 1 & 0 & 0 & 0 & 0 & 0 & 1 & 0 & 92 & 121 & 8464 &  1 &   0 & 0 &  0.250000 & 64 & 121 & 8464 & 4\\\\\n\t4 & ID\\_d671db89c & 180000 & 0 & 5 & 0 & 1 & 1 & 1 & 1 & 0 & 2 & 2 & 1 & 1 & 2 & 1 & 3 & 4 & 4 & 4 &  9 & 4 & 1 & 0 & 0 & 0 & 0 & 0 & 0 & 0 & 1 & 0 & 0 & 0 & 0 & 0 & 1 & 0 & 0 & 0 & 1 & 1 & 0 & 0 & 1 & 0 & 0 & 0 & 0 & 1 & 0 & 0 & 0 & 0 & 1 & 0 & 0 & 1 & 0 & 0 & 0 & 0 & 0 & 0 & 0 & 1 & 0 & 0 & 1 & 0 & 0 & 1 & 0 & 1 & 0 & 0 & 0 & 0 & 0 & 0 & 0 & 1 & 0 & 0 & 1 & 0 & 0 & 0 & 0 & 0 & 0 & 0 & 0 & 0 & 2b58d945f & 2 & 2 & 0 & 4 & yes & 11 & no & 11 & 0 & 0 & 0 & 1 & 0 & 0 & 0 & 0 & 0 & 3 & 1.333333 & 0 & 0 & 1 & 0 & 0 & 0 & 0 & 1 & 3 & 1 & 0 & 0 & 0 & 0 & 0 & 1 & 0 & 17 &  81 &  289 & 16 & 121 & 4 &  1.777778 &  1 & 121 &  289 & 4\\\\\n\t5 & ID\\_d56d6f5f5 & 180000 & 0 & 5 & 0 & 1 & 1 & 1 & 1 & 0 & 2 & 2 & 1 & 1 & 2 & 1 & 3 & 4 & 4 & 4 & 11 & 4 & 1 & 0 & 0 & 0 & 0 & 0 & 0 & 0 & 1 & 0 & 0 & 0 & 0 & 0 & 1 & 0 & 0 & 0 & 1 & 1 & 0 & 0 & 1 & 0 & 0 & 0 & 0 & 1 & 0 & 0 & 0 & 0 & 1 & 0 & 0 & 1 & 0 & 0 & 0 & 0 & 0 & 0 & 0 & 1 & 0 & 0 & 1 & 0 & 0 & 1 & 0 & 0 & 1 & 0 & 1 & 0 & 0 & 0 & 0 & 0 & 0 & 1 & 0 & 0 & 0 & 0 & 0 & 0 & 0 & 0 & 0 & 0 & 2b58d945f & 2 & 2 & 0 & 4 & yes & 11 & no & 11 & 0 & 0 & 0 & 0 & 1 & 0 & 0 & 0 & 0 & 3 & 1.333333 & 0 & 0 & 1 & 0 & 0 & 0 & 0 & 1 & 3 & 1 & 0 & 0 & 0 & 0 & 0 & 1 & 0 & 37 & 121 & 1369 & 16 & 121 & 4 &  1.777778 &  1 & 121 & 1369 & 4\\\\\n\t6 & ID\\_ec05b1a7b & 180000 & 0 & 5 & 0 & 1 & 1 & 1 & 1 & 0 & 2 & 2 & 1 & 1 & 2 & 1 & 3 & 4 & 4 & 4 & 11 & 4 & 1 & 0 & 0 & 0 & 0 & 0 & 0 & 0 & 1 & 0 & 0 & 0 & 0 & 0 & 1 & 0 & 0 & 0 & 1 & 1 & 0 & 0 & 1 & 0 & 0 & 0 & 0 & 1 & 0 & 0 & 0 & 0 & 1 & 0 & 0 & 1 & 0 & 0 & 0 & 0 & 0 & 0 & 0 & 1 & 0 & 0 & 1 & 0 & 0 & 1 & 0 & 1 & 0 & 0 & 1 & 0 & 0 & 0 & 0 & 0 & 1 & 0 & 0 & 0 & 0 & 0 & 0 & 0 & 0 & 0 & 0 & 0 & 2b58d945f & 2 & 2 & 0 & 4 & yes & 11 & no & 11 & 0 & 0 & 0 & 0 & 1 & 0 & 0 & 0 & 0 & 3 & 1.333333 & 0 & 0 & 1 & 0 & 0 & 0 & 0 & 1 & 3 & 1 & 0 & 0 & 0 & 0 & 0 & 1 & 0 & 38 & 121 & 1444 & 16 & 121 & 4 &  1.777778 &  1 & 121 & 1444 & 4\\\\\n\t7 & ID\\_e9e0c1100 & 180000 & 0 & 5 & 0 & 1 & 1 & 1 & 1 & 0 & 2 & 2 & 1 & 1 & 2 & 1 & 3 & 4 & 4 & 4 &  2 & 4 & 1 & 0 & 0 & 0 & 0 & 0 & 0 & 0 & 1 & 0 & 0 & 0 & 0 & 0 & 1 & 0 & 0 & 0 & 1 & 1 & 0 & 0 & 1 & 0 & 0 & 0 & 0 & 1 & 0 & 0 & 0 & 0 & 1 & 0 & 0 & 1 & 0 & 0 & 0 & 0 & 0 & 0 & 0 & 1 & 0 & 0 & 1 & 0 & 0 & 1 & 0 & 0 & 1 & 1 & 0 & 0 & 0 & 0 & 0 & 0 & 0 & 0 & 1 & 0 & 0 & 0 & 0 & 0 & 0 & 0 & 0 & 0 & 2b58d945f & 2 & 2 & 0 & 4 & yes & 11 & no & 11 & 0 & 1 & 0 & 0 & 0 & 0 & 0 & 0 & 0 & 3 & 1.333333 & 0 & 0 & 1 & 0 & 0 & 0 & 0 & 1 & 3 & 1 & 0 & 0 & 0 & 0 & 0 & 1 & 0 &  8 &   4 &   64 & 16 & 121 & 4 &  1.777778 &  1 & 121 &   64 & 4\\\\\n\t8 & ID\\_3e04e571e & 130000 & 1 & 2 & 0 & 1 & 1 & 0 & 1 & 0 & 1 & 1 & 2 & 1 & 3 & 2 & 2 & 4 & 4 & 4 &  0 & 4 & 1 & 0 & 0 & 0 & 0 & 0 & 0 & 0 & 1 & 0 & 0 & 0 & 0 & 0 & 1 & 0 & 0 & 0 & 1 & 1 & 0 & 0 & 1 & 0 & 0 & 0 & 0 & 1 & 0 & 0 & 0 & 0 & 0 & 1 & 0 & 1 & 0 & 0 & 0 & 0 & 0 & 1 & 0 & 0 & 1 & 0 & 0 & 0 & 1 & 0 & 0 & 0 & 1 & 1 & 0 & 0 & 0 & 0 & 0 & 0 & 0 & 0 & 1 & 0 & 0 & 0 & 0 & 0 & 0 & 0 & 0 & 0 & d6dae86b7 & 2 & 2 & 0 & 4 & yes & 9  & no & 10 & 1 & 0 & 0 & 0 & 0 & 0 & 0 & 0 & 0 & 1 & 4.000000 & 0 & 0 & 1 & 0 & 0 & 0 & 0 & 1 & 1 & 1 & 0 & 0 & 0 & 0 & 0 & 1 & 0 &  7 &   0 &   49 & 16 &  81 & 4 & 16.000000 &  1 & 100 &   49 & 4\\\\\n\t9 & ID\\_1284f8aad & 130000 & 1 & 2 & 0 & 1 & 1 & 0 & 1 & 0 & 1 & 1 & 2 & 1 & 3 & 2 & 2 & 4 & 4 & 4 &  9 & 4 & 1 & 0 & 0 & 0 & 0 & 0 & 0 & 0 & 1 & 0 & 0 & 0 & 0 & 0 & 1 & 0 & 0 & 0 & 1 & 1 & 0 & 0 & 1 & 0 & 0 & 0 & 0 & 1 & 0 & 0 & 0 & 0 & 0 & 1 & 0 & 1 & 0 & 0 & 0 & 0 & 0 & 1 & 0 & 0 & 1 & 0 & 0 & 0 & 1 & 0 & 0 & 1 & 0 & 0 & 1 & 0 & 0 & 0 & 0 & 0 & 1 & 0 & 0 & 0 & 0 & 0 & 0 & 0 & 0 & 0 & 0 & 0 & d6dae86b7 & 2 & 2 & 0 & 4 & yes & 9  & no & 10 & 0 & 0 & 0 & 1 & 0 & 0 & 0 & 0 & 0 & 1 & 4.000000 & 0 & 0 & 1 & 0 & 0 & 0 & 0 & 1 & 1 & 1 & 0 & 0 & 0 & 0 & 0 & 1 & 0 & 30 &  81 &  900 & 16 &  81 & 4 & 16.000000 &  1 & 100 &  900 & 4\\\\\n\t10 & ID\\_51f52fdd2 & 130000 & 1 & 2 & 0 & 1 & 1 & 0 & 1 & 0 & 1 & 1 & 2 & 1 & 3 & 2 & 2 & 4 & 4 & 4 & 11 & 4 & 1 & 0 & 0 & 0 & 0 & 0 & 0 & 0 & 1 & 0 & 0 & 0 & 0 & 0 & 1 & 0 & 0 & 0 & 1 & 1 & 0 & 0 & 1 & 0 & 0 & 0 & 0 & 1 & 0 & 0 & 0 & 0 & 0 & 1 & 0 & 1 & 0 & 0 & 0 & 0 & 0 & 1 & 0 & 0 & 1 & 0 & 0 & 0 & 1 & 0 & 0 & 0 & 1 & 0 & 1 & 0 & 0 & 0 & 0 & 0 & 0 & 1 & 0 & 0 & 0 & 0 & 0 & 0 & 0 & 0 & 0 & 0 & d6dae86b7 & 2 & 2 & 0 & 4 & yes & 9  & no & 10 & 0 & 0 & 0 & 0 & 1 & 0 & 0 & 0 & 0 & 1 & 4.000000 & 0 & 0 & 1 & 0 & 0 & 0 & 0 & 1 & 1 & 1 & 0 & 0 & 0 & 0 & 0 & 1 & 0 & 28 & 121 &  784 & 16 &  81 & 4 & 16.000000 &  1 & 100 &  784 & 4\\\\\n\\end{tabular}\n",
            "text/markdown": "\nA data.frame: 10 × 142\n\n| <!--/--> | Id &lt;chr&gt; | v2a1 &lt;dbl&gt; | hacdor &lt;int&gt; | rooms &lt;int&gt; | hacapo &lt;int&gt; | v14a &lt;int&gt; | refrig &lt;int&gt; | v18q &lt;int&gt; | v18q1 &lt;int&gt; | r4h1 &lt;int&gt; | r4h2 &lt;int&gt; | r4h3 &lt;int&gt; | r4m1 &lt;int&gt; | r4m2 &lt;int&gt; | r4m3 &lt;int&gt; | r4t1 &lt;int&gt; | r4t2 &lt;int&gt; | r4t3 &lt;int&gt; | tamhog &lt;int&gt; | tamviv &lt;int&gt; | escolari &lt;int&gt; | hhsize &lt;int&gt; | paredblolad &lt;int&gt; | paredzocalo &lt;int&gt; | paredpreb &lt;int&gt; | pareddes &lt;int&gt; | paredmad &lt;int&gt; | paredzinc &lt;int&gt; | paredfibras &lt;int&gt; | paredother &lt;int&gt; | pisomoscer &lt;int&gt; | pisocemento &lt;int&gt; | pisoother &lt;int&gt; | pisonatur &lt;int&gt; | pisonotiene &lt;int&gt; | pisomadera &lt;int&gt; | techozinc &lt;int&gt; | techoentrepiso &lt;int&gt; | techocane &lt;int&gt; | techootro &lt;int&gt; | cielorazo &lt;int&gt; | abastaguadentro &lt;int&gt; | abastaguafuera &lt;int&gt; | abastaguano &lt;int&gt; | public &lt;int&gt; | planpri &lt;int&gt; | noelec &lt;int&gt; | coopele &lt;int&gt; | sanitario1 &lt;int&gt; | sanitario2 &lt;int&gt; | sanitario3 &lt;int&gt; | sanitario5 &lt;int&gt; | sanitario6 &lt;int&gt; | energcocinar1 &lt;int&gt; | energcocinar2 &lt;int&gt; | energcocinar3 &lt;int&gt; | energcocinar4 &lt;int&gt; | elimbasu1 &lt;int&gt; | elimbasu2 &lt;int&gt; | elimbasu3 &lt;int&gt; | elimbasu4 &lt;int&gt; | elimbasu5 &lt;int&gt; | elimbasu6 &lt;int&gt; | epared1 &lt;int&gt; | epared2 &lt;int&gt; | epared3 &lt;int&gt; | etecho1 &lt;int&gt; | etecho2 &lt;int&gt; | etecho3 &lt;int&gt; | eviv1 &lt;int&gt; | eviv2 &lt;int&gt; | eviv3 &lt;int&gt; | dis &lt;int&gt; | male &lt;int&gt; | female &lt;int&gt; | estadocivil1 &lt;int&gt; | estadocivil2 &lt;int&gt; | estadocivil3 &lt;int&gt; | estadocivil4 &lt;int&gt; | estadocivil5 &lt;int&gt; | estadocivil6 &lt;int&gt; | estadocivil7 &lt;int&gt; | parentesco1 &lt;int&gt; | parentesco2 &lt;int&gt; | parentesco3 &lt;int&gt; | parentesco4 &lt;int&gt; | parentesco5 &lt;int&gt; | parentesco6 &lt;int&gt; | parentesco7 &lt;int&gt; | parentesco8 &lt;int&gt; | parentesco9 &lt;int&gt; | parentesco10 &lt;int&gt; | parentesco11 &lt;int&gt; | parentesco12 &lt;int&gt; | idhogar &lt;chr&gt; | hogar_nin &lt;int&gt; | hogar_adul &lt;int&gt; | hogar_mayor &lt;int&gt; | hogar_total &lt;int&gt; | dependency &lt;chr&gt; | edjefe &lt;chr&gt; | edjefa &lt;chr&gt; | meaneduc &lt;dbl&gt; | instlevel1 &lt;int&gt; | instlevel2 &lt;int&gt; | instlevel3 &lt;int&gt; | instlevel4 &lt;int&gt; | instlevel5 &lt;int&gt; | instlevel6 &lt;int&gt; | instlevel7 &lt;int&gt; | instlevel8 &lt;int&gt; | instlevel9 &lt;int&gt; | bedrooms &lt;int&gt; | overcrowding &lt;dbl&gt; | tipovivi1 &lt;int&gt; | tipovivi2 &lt;int&gt; | tipovivi3 &lt;int&gt; | tipovivi4 &lt;int&gt; | tipovivi5 &lt;int&gt; | computer &lt;int&gt; | television &lt;int&gt; | mobilephone &lt;int&gt; | qmobilephone &lt;int&gt; | lugar1 &lt;int&gt; | lugar2 &lt;int&gt; | lugar3 &lt;int&gt; | lugar4 &lt;int&gt; | lugar5 &lt;int&gt; | lugar6 &lt;int&gt; | area1 &lt;int&gt; | area2 &lt;int&gt; | age &lt;int&gt; | SQBescolari &lt;int&gt; | SQBage &lt;int&gt; | SQBhogar_total &lt;int&gt; | SQBedjefe &lt;int&gt; | SQBhogar_nin &lt;int&gt; | SQBovercrowding &lt;dbl&gt; | SQBdependency &lt;dbl&gt; | SQBmeaned &lt;dbl&gt; | agesq &lt;int&gt; | Target &lt;int&gt; |\n|---|---|---|---|---|---|---|---|---|---|---|---|---|---|---|---|---|---|---|---|---|---|---|---|---|---|---|---|---|---|---|---|---|---|---|---|---|---|---|---|---|---|---|---|---|---|---|---|---|---|---|---|---|---|---|---|---|---|---|---|---|---|---|---|---|---|---|---|---|---|---|---|---|---|---|---|---|---|---|---|---|---|---|---|---|---|---|---|---|---|---|---|---|---|---|---|---|---|---|---|---|---|---|---|---|---|---|---|---|---|---|---|---|---|---|---|---|---|---|---|---|---|---|---|---|---|---|---|---|---|---|---|---|---|---|---|---|---|---|---|---|---|---|\n| 1 | ID_279628684 | 190000 | 0 | 3 | 0 | 1 | 1 | 0 | 1 | 0 | 1 | 1 | 0 | 0 | 0 | 0 | 1 | 1 | 1 | 1 | 10 | 1 | 1 | 0 | 0 | 0 | 0 | 0 | 0 | 0 | 1 | 0 | 0 | 0 | 0 | 0 | 0 | 1 | 0 | 0 | 1 | 1 | 0 | 0 | 1 | 0 | 0 | 0 | 0 | 1 | 0 | 0 | 0 | 0 | 0 | 1 | 0 | 1 | 0 | 0 | 0 | 0 | 0 | 0 | 1 | 0 | 1 | 0 | 0 | 1 | 0 | 0 | 0 | 1 | 0 | 0 | 0 | 0 | 1 | 0 | 0 | 0 | 1 | 0 | 0 | 0 | 0 | 0 | 0 | 0 | 0 | 0 | 0 | 0 | 21eb7fcc1 | 0 | 1 | 0 | 1 | no  | 10 | no | 10 | 0 | 0 | 0 | 1 | 0 | 0 | 0 | 0 | 0 | 1 | 1.000000 | 0 | 0 | 1 | 0 | 0 | 0 | 0 | 1 | 1 | 1 | 0 | 0 | 0 | 0 | 0 | 1 | 0 | 43 | 100 | 1849 |  1 | 100 | 0 |  1.000000 |  0 | 100 | 1849 | 4 |\n| 2 | ID_f29eb3ddd | 135000 | 0 | 4 | 0 | 1 | 1 | 1 | 1 | 0 | 1 | 1 | 0 | 0 | 0 | 0 | 1 | 1 | 1 | 1 | 12 | 1 | 0 | 0 | 0 | 0 | 1 | 0 | 0 | 0 | 0 | 0 | 0 | 0 | 0 | 1 | 1 | 0 | 0 | 0 | 1 | 1 | 0 | 0 | 1 | 0 | 0 | 0 | 0 | 1 | 0 | 0 | 0 | 0 | 1 | 0 | 0 | 1 | 0 | 0 | 0 | 0 | 0 | 0 | 1 | 0 | 0 | 1 | 0 | 0 | 1 | 0 | 0 | 1 | 0 | 0 | 0 | 0 | 1 | 0 | 0 | 0 | 1 | 0 | 0 | 0 | 0 | 0 | 0 | 0 | 0 | 0 | 0 | 0 | 0e5d7a658 | 0 | 1 | 1 | 1 | 8   | 12 | no | 12 | 0 | 0 | 0 | 0 | 0 | 0 | 0 | 1 | 0 | 1 | 1.000000 | 0 | 0 | 1 | 0 | 0 | 0 | 0 | 1 | 1 | 1 | 0 | 0 | 0 | 0 | 0 | 1 | 0 | 67 | 144 | 4489 |  1 | 144 | 0 |  1.000000 | 64 | 144 | 4489 | 4 |\n| 3 | ID_68de51c94 | 130000 | 0 | 8 | 0 | 1 | 1 | 0 | 1 | 0 | 0 | 0 | 0 | 1 | 1 | 0 | 1 | 1 | 1 | 1 | 11 | 1 | 0 | 0 | 0 | 0 | 1 | 0 | 0 | 0 | 1 | 0 | 0 | 0 | 0 | 0 | 1 | 0 | 0 | 0 | 1 | 1 | 0 | 0 | 1 | 0 | 0 | 0 | 0 | 1 | 0 | 0 | 0 | 0 | 1 | 0 | 0 | 1 | 0 | 0 | 0 | 0 | 0 | 0 | 1 | 0 | 0 | 0 | 1 | 0 | 0 | 1 | 1 | 0 | 1 | 0 | 0 | 0 | 0 | 0 | 1 | 0 | 1 | 0 | 0 | 0 | 0 | 0 | 0 | 0 | 0 | 0 | 0 | 0 | 2c7317ea8 | 0 | 1 | 1 | 1 | 8   | no | 11 | 11 | 0 | 0 | 0 | 0 | 1 | 0 | 0 | 0 | 0 | 2 | 0.500000 | 1 | 0 | 0 | 0 | 0 | 0 | 0 | 0 | 0 | 1 | 0 | 0 | 0 | 0 | 0 | 1 | 0 | 92 | 121 | 8464 |  1 |   0 | 0 |  0.250000 | 64 | 121 | 8464 | 4 |\n| 4 | ID_d671db89c | 180000 | 0 | 5 | 0 | 1 | 1 | 1 | 1 | 0 | 2 | 2 | 1 | 1 | 2 | 1 | 3 | 4 | 4 | 4 |  9 | 4 | 1 | 0 | 0 | 0 | 0 | 0 | 0 | 0 | 1 | 0 | 0 | 0 | 0 | 0 | 1 | 0 | 0 | 0 | 1 | 1 | 0 | 0 | 1 | 0 | 0 | 0 | 0 | 1 | 0 | 0 | 0 | 0 | 1 | 0 | 0 | 1 | 0 | 0 | 0 | 0 | 0 | 0 | 0 | 1 | 0 | 0 | 1 | 0 | 0 | 1 | 0 | 1 | 0 | 0 | 0 | 0 | 0 | 0 | 0 | 1 | 0 | 0 | 1 | 0 | 0 | 0 | 0 | 0 | 0 | 0 | 0 | 0 | 2b58d945f | 2 | 2 | 0 | 4 | yes | 11 | no | 11 | 0 | 0 | 0 | 1 | 0 | 0 | 0 | 0 | 0 | 3 | 1.333333 | 0 | 0 | 1 | 0 | 0 | 0 | 0 | 1 | 3 | 1 | 0 | 0 | 0 | 0 | 0 | 1 | 0 | 17 |  81 |  289 | 16 | 121 | 4 |  1.777778 |  1 | 121 |  289 | 4 |\n| 5 | ID_d56d6f5f5 | 180000 | 0 | 5 | 0 | 1 | 1 | 1 | 1 | 0 | 2 | 2 | 1 | 1 | 2 | 1 | 3 | 4 | 4 | 4 | 11 | 4 | 1 | 0 | 0 | 0 | 0 | 0 | 0 | 0 | 1 | 0 | 0 | 0 | 0 | 0 | 1 | 0 | 0 | 0 | 1 | 1 | 0 | 0 | 1 | 0 | 0 | 0 | 0 | 1 | 0 | 0 | 0 | 0 | 1 | 0 | 0 | 1 | 0 | 0 | 0 | 0 | 0 | 0 | 0 | 1 | 0 | 0 | 1 | 0 | 0 | 1 | 0 | 0 | 1 | 0 | 1 | 0 | 0 | 0 | 0 | 0 | 0 | 1 | 0 | 0 | 0 | 0 | 0 | 0 | 0 | 0 | 0 | 0 | 2b58d945f | 2 | 2 | 0 | 4 | yes | 11 | no | 11 | 0 | 0 | 0 | 0 | 1 | 0 | 0 | 0 | 0 | 3 | 1.333333 | 0 | 0 | 1 | 0 | 0 | 0 | 0 | 1 | 3 | 1 | 0 | 0 | 0 | 0 | 0 | 1 | 0 | 37 | 121 | 1369 | 16 | 121 | 4 |  1.777778 |  1 | 121 | 1369 | 4 |\n| 6 | ID_ec05b1a7b | 180000 | 0 | 5 | 0 | 1 | 1 | 1 | 1 | 0 | 2 | 2 | 1 | 1 | 2 | 1 | 3 | 4 | 4 | 4 | 11 | 4 | 1 | 0 | 0 | 0 | 0 | 0 | 0 | 0 | 1 | 0 | 0 | 0 | 0 | 0 | 1 | 0 | 0 | 0 | 1 | 1 | 0 | 0 | 1 | 0 | 0 | 0 | 0 | 1 | 0 | 0 | 0 | 0 | 1 | 0 | 0 | 1 | 0 | 0 | 0 | 0 | 0 | 0 | 0 | 1 | 0 | 0 | 1 | 0 | 0 | 1 | 0 | 1 | 0 | 0 | 1 | 0 | 0 | 0 | 0 | 0 | 1 | 0 | 0 | 0 | 0 | 0 | 0 | 0 | 0 | 0 | 0 | 0 | 2b58d945f | 2 | 2 | 0 | 4 | yes | 11 | no | 11 | 0 | 0 | 0 | 0 | 1 | 0 | 0 | 0 | 0 | 3 | 1.333333 | 0 | 0 | 1 | 0 | 0 | 0 | 0 | 1 | 3 | 1 | 0 | 0 | 0 | 0 | 0 | 1 | 0 | 38 | 121 | 1444 | 16 | 121 | 4 |  1.777778 |  1 | 121 | 1444 | 4 |\n| 7 | ID_e9e0c1100 | 180000 | 0 | 5 | 0 | 1 | 1 | 1 | 1 | 0 | 2 | 2 | 1 | 1 | 2 | 1 | 3 | 4 | 4 | 4 |  2 | 4 | 1 | 0 | 0 | 0 | 0 | 0 | 0 | 0 | 1 | 0 | 0 | 0 | 0 | 0 | 1 | 0 | 0 | 0 | 1 | 1 | 0 | 0 | 1 | 0 | 0 | 0 | 0 | 1 | 0 | 0 | 0 | 0 | 1 | 0 | 0 | 1 | 0 | 0 | 0 | 0 | 0 | 0 | 0 | 1 | 0 | 0 | 1 | 0 | 0 | 1 | 0 | 0 | 1 | 1 | 0 | 0 | 0 | 0 | 0 | 0 | 0 | 0 | 1 | 0 | 0 | 0 | 0 | 0 | 0 | 0 | 0 | 0 | 2b58d945f | 2 | 2 | 0 | 4 | yes | 11 | no | 11 | 0 | 1 | 0 | 0 | 0 | 0 | 0 | 0 | 0 | 3 | 1.333333 | 0 | 0 | 1 | 0 | 0 | 0 | 0 | 1 | 3 | 1 | 0 | 0 | 0 | 0 | 0 | 1 | 0 |  8 |   4 |   64 | 16 | 121 | 4 |  1.777778 |  1 | 121 |   64 | 4 |\n| 8 | ID_3e04e571e | 130000 | 1 | 2 | 0 | 1 | 1 | 0 | 1 | 0 | 1 | 1 | 2 | 1 | 3 | 2 | 2 | 4 | 4 | 4 |  0 | 4 | 1 | 0 | 0 | 0 | 0 | 0 | 0 | 0 | 1 | 0 | 0 | 0 | 0 | 0 | 1 | 0 | 0 | 0 | 1 | 1 | 0 | 0 | 1 | 0 | 0 | 0 | 0 | 1 | 0 | 0 | 0 | 0 | 0 | 1 | 0 | 1 | 0 | 0 | 0 | 0 | 0 | 1 | 0 | 0 | 1 | 0 | 0 | 0 | 1 | 0 | 0 | 0 | 1 | 1 | 0 | 0 | 0 | 0 | 0 | 0 | 0 | 0 | 1 | 0 | 0 | 0 | 0 | 0 | 0 | 0 | 0 | 0 | d6dae86b7 | 2 | 2 | 0 | 4 | yes | 9  | no | 10 | 1 | 0 | 0 | 0 | 0 | 0 | 0 | 0 | 0 | 1 | 4.000000 | 0 | 0 | 1 | 0 | 0 | 0 | 0 | 1 | 1 | 1 | 0 | 0 | 0 | 0 | 0 | 1 | 0 |  7 |   0 |   49 | 16 |  81 | 4 | 16.000000 |  1 | 100 |   49 | 4 |\n| 9 | ID_1284f8aad | 130000 | 1 | 2 | 0 | 1 | 1 | 0 | 1 | 0 | 1 | 1 | 2 | 1 | 3 | 2 | 2 | 4 | 4 | 4 |  9 | 4 | 1 | 0 | 0 | 0 | 0 | 0 | 0 | 0 | 1 | 0 | 0 | 0 | 0 | 0 | 1 | 0 | 0 | 0 | 1 | 1 | 0 | 0 | 1 | 0 | 0 | 0 | 0 | 1 | 0 | 0 | 0 | 0 | 0 | 1 | 0 | 1 | 0 | 0 | 0 | 0 | 0 | 1 | 0 | 0 | 1 | 0 | 0 | 0 | 1 | 0 | 0 | 1 | 0 | 0 | 1 | 0 | 0 | 0 | 0 | 0 | 1 | 0 | 0 | 0 | 0 | 0 | 0 | 0 | 0 | 0 | 0 | 0 | d6dae86b7 | 2 | 2 | 0 | 4 | yes | 9  | no | 10 | 0 | 0 | 0 | 1 | 0 | 0 | 0 | 0 | 0 | 1 | 4.000000 | 0 | 0 | 1 | 0 | 0 | 0 | 0 | 1 | 1 | 1 | 0 | 0 | 0 | 0 | 0 | 1 | 0 | 30 |  81 |  900 | 16 |  81 | 4 | 16.000000 |  1 | 100 |  900 | 4 |\n| 10 | ID_51f52fdd2 | 130000 | 1 | 2 | 0 | 1 | 1 | 0 | 1 | 0 | 1 | 1 | 2 | 1 | 3 | 2 | 2 | 4 | 4 | 4 | 11 | 4 | 1 | 0 | 0 | 0 | 0 | 0 | 0 | 0 | 1 | 0 | 0 | 0 | 0 | 0 | 1 | 0 | 0 | 0 | 1 | 1 | 0 | 0 | 1 | 0 | 0 | 0 | 0 | 1 | 0 | 0 | 0 | 0 | 0 | 1 | 0 | 1 | 0 | 0 | 0 | 0 | 0 | 1 | 0 | 0 | 1 | 0 | 0 | 0 | 1 | 0 | 0 | 0 | 1 | 0 | 1 | 0 | 0 | 0 | 0 | 0 | 0 | 1 | 0 | 0 | 0 | 0 | 0 | 0 | 0 | 0 | 0 | 0 | d6dae86b7 | 2 | 2 | 0 | 4 | yes | 9  | no | 10 | 0 | 0 | 0 | 0 | 1 | 0 | 0 | 0 | 0 | 1 | 4.000000 | 0 | 0 | 1 | 0 | 0 | 0 | 0 | 1 | 1 | 1 | 0 | 0 | 0 | 0 | 0 | 1 | 0 | 28 | 121 |  784 | 16 |  81 | 4 | 16.000000 |  1 | 100 |  784 | 4 |\n\n",
            "text/html": [
              "<table class=\"dataframe\">\n",
              "<caption>A data.frame: 10 × 142</caption>\n",
              "<thead>\n",
              "\t<tr><th></th><th scope=col>Id</th><th scope=col>v2a1</th><th scope=col>hacdor</th><th scope=col>rooms</th><th scope=col>hacapo</th><th scope=col>v14a</th><th scope=col>refrig</th><th scope=col>v18q</th><th scope=col>v18q1</th><th scope=col>r4h1</th><th scope=col>r4h2</th><th scope=col>r4h3</th><th scope=col>r4m1</th><th scope=col>r4m2</th><th scope=col>r4m3</th><th scope=col>r4t1</th><th scope=col>r4t2</th><th scope=col>r4t3</th><th scope=col>tamhog</th><th scope=col>tamviv</th><th scope=col>escolari</th><th scope=col>hhsize</th><th scope=col>paredblolad</th><th scope=col>paredzocalo</th><th scope=col>paredpreb</th><th scope=col>pareddes</th><th scope=col>paredmad</th><th scope=col>paredzinc</th><th scope=col>paredfibras</th><th scope=col>paredother</th><th scope=col>pisomoscer</th><th scope=col>pisocemento</th><th scope=col>pisoother</th><th scope=col>pisonatur</th><th scope=col>pisonotiene</th><th scope=col>pisomadera</th><th scope=col>techozinc</th><th scope=col>techoentrepiso</th><th scope=col>techocane</th><th scope=col>techootro</th><th scope=col>cielorazo</th><th scope=col>abastaguadentro</th><th scope=col>abastaguafuera</th><th scope=col>abastaguano</th><th scope=col>public</th><th scope=col>planpri</th><th scope=col>noelec</th><th scope=col>coopele</th><th scope=col>sanitario1</th><th scope=col>sanitario2</th><th scope=col>sanitario3</th><th scope=col>sanitario5</th><th scope=col>sanitario6</th><th scope=col>energcocinar1</th><th scope=col>energcocinar2</th><th scope=col>energcocinar3</th><th scope=col>energcocinar4</th><th scope=col>elimbasu1</th><th scope=col>elimbasu2</th><th scope=col>elimbasu3</th><th scope=col>elimbasu4</th><th scope=col>elimbasu5</th><th scope=col>elimbasu6</th><th scope=col>epared1</th><th scope=col>epared2</th><th scope=col>epared3</th><th scope=col>etecho1</th><th scope=col>etecho2</th><th scope=col>etecho3</th><th scope=col>eviv1</th><th scope=col>eviv2</th><th scope=col>eviv3</th><th scope=col>dis</th><th scope=col>male</th><th scope=col>female</th><th scope=col>estadocivil1</th><th scope=col>estadocivil2</th><th scope=col>estadocivil3</th><th scope=col>estadocivil4</th><th scope=col>estadocivil5</th><th scope=col>estadocivil6</th><th scope=col>estadocivil7</th><th scope=col>parentesco1</th><th scope=col>parentesco2</th><th scope=col>parentesco3</th><th scope=col>parentesco4</th><th scope=col>parentesco5</th><th scope=col>parentesco6</th><th scope=col>parentesco7</th><th scope=col>parentesco8</th><th scope=col>parentesco9</th><th scope=col>parentesco10</th><th scope=col>parentesco11</th><th scope=col>parentesco12</th><th scope=col>idhogar</th><th scope=col>hogar_nin</th><th scope=col>hogar_adul</th><th scope=col>hogar_mayor</th><th scope=col>hogar_total</th><th scope=col>dependency</th><th scope=col>edjefe</th><th scope=col>edjefa</th><th scope=col>meaneduc</th><th scope=col>instlevel1</th><th scope=col>instlevel2</th><th scope=col>instlevel3</th><th scope=col>instlevel4</th><th scope=col>instlevel5</th><th scope=col>instlevel6</th><th scope=col>instlevel7</th><th scope=col>instlevel8</th><th scope=col>instlevel9</th><th scope=col>bedrooms</th><th scope=col>overcrowding</th><th scope=col>tipovivi1</th><th scope=col>tipovivi2</th><th scope=col>tipovivi3</th><th scope=col>tipovivi4</th><th scope=col>tipovivi5</th><th scope=col>computer</th><th scope=col>television</th><th scope=col>mobilephone</th><th scope=col>qmobilephone</th><th scope=col>lugar1</th><th scope=col>lugar2</th><th scope=col>lugar3</th><th scope=col>lugar4</th><th scope=col>lugar5</th><th scope=col>lugar6</th><th scope=col>area1</th><th scope=col>area2</th><th scope=col>age</th><th scope=col>SQBescolari</th><th scope=col>SQBage</th><th scope=col>SQBhogar_total</th><th scope=col>SQBedjefe</th><th scope=col>SQBhogar_nin</th><th scope=col>SQBovercrowding</th><th scope=col>SQBdependency</th><th scope=col>SQBmeaned</th><th scope=col>agesq</th><th scope=col>Target</th></tr>\n",
              "\t<tr><th></th><th scope=col>&lt;chr&gt;</th><th scope=col>&lt;dbl&gt;</th><th scope=col>&lt;int&gt;</th><th scope=col>&lt;int&gt;</th><th scope=col>&lt;int&gt;</th><th scope=col>&lt;int&gt;</th><th scope=col>&lt;int&gt;</th><th scope=col>&lt;int&gt;</th><th scope=col>&lt;int&gt;</th><th scope=col>&lt;int&gt;</th><th scope=col>&lt;int&gt;</th><th scope=col>&lt;int&gt;</th><th scope=col>&lt;int&gt;</th><th scope=col>&lt;int&gt;</th><th scope=col>&lt;int&gt;</th><th scope=col>&lt;int&gt;</th><th scope=col>&lt;int&gt;</th><th scope=col>&lt;int&gt;</th><th scope=col>&lt;int&gt;</th><th scope=col>&lt;int&gt;</th><th scope=col>&lt;int&gt;</th><th scope=col>&lt;int&gt;</th><th scope=col>&lt;int&gt;</th><th scope=col>&lt;int&gt;</th><th scope=col>&lt;int&gt;</th><th scope=col>&lt;int&gt;</th><th scope=col>&lt;int&gt;</th><th scope=col>&lt;int&gt;</th><th scope=col>&lt;int&gt;</th><th scope=col>&lt;int&gt;</th><th scope=col>&lt;int&gt;</th><th scope=col>&lt;int&gt;</th><th scope=col>&lt;int&gt;</th><th scope=col>&lt;int&gt;</th><th scope=col>&lt;int&gt;</th><th scope=col>&lt;int&gt;</th><th scope=col>&lt;int&gt;</th><th scope=col>&lt;int&gt;</th><th scope=col>&lt;int&gt;</th><th scope=col>&lt;int&gt;</th><th scope=col>&lt;int&gt;</th><th scope=col>&lt;int&gt;</th><th scope=col>&lt;int&gt;</th><th scope=col>&lt;int&gt;</th><th scope=col>&lt;int&gt;</th><th scope=col>&lt;int&gt;</th><th scope=col>&lt;int&gt;</th><th scope=col>&lt;int&gt;</th><th scope=col>&lt;int&gt;</th><th scope=col>&lt;int&gt;</th><th scope=col>&lt;int&gt;</th><th scope=col>&lt;int&gt;</th><th scope=col>&lt;int&gt;</th><th scope=col>&lt;int&gt;</th><th scope=col>&lt;int&gt;</th><th scope=col>&lt;int&gt;</th><th scope=col>&lt;int&gt;</th><th scope=col>&lt;int&gt;</th><th scope=col>&lt;int&gt;</th><th scope=col>&lt;int&gt;</th><th scope=col>&lt;int&gt;</th><th scope=col>&lt;int&gt;</th><th scope=col>&lt;int&gt;</th><th scope=col>&lt;int&gt;</th><th scope=col>&lt;int&gt;</th><th scope=col>&lt;int&gt;</th><th scope=col>&lt;int&gt;</th><th scope=col>&lt;int&gt;</th><th scope=col>&lt;int&gt;</th><th scope=col>&lt;int&gt;</th><th scope=col>&lt;int&gt;</th><th scope=col>&lt;int&gt;</th><th scope=col>&lt;int&gt;</th><th scope=col>&lt;int&gt;</th><th scope=col>&lt;int&gt;</th><th scope=col>&lt;int&gt;</th><th scope=col>&lt;int&gt;</th><th scope=col>&lt;int&gt;</th><th scope=col>&lt;int&gt;</th><th scope=col>&lt;int&gt;</th><th scope=col>&lt;int&gt;</th><th scope=col>&lt;int&gt;</th><th scope=col>&lt;int&gt;</th><th scope=col>&lt;int&gt;</th><th scope=col>&lt;int&gt;</th><th scope=col>&lt;int&gt;</th><th scope=col>&lt;int&gt;</th><th scope=col>&lt;int&gt;</th><th scope=col>&lt;int&gt;</th><th scope=col>&lt;int&gt;</th><th scope=col>&lt;int&gt;</th><th scope=col>&lt;int&gt;</th><th scope=col>&lt;int&gt;</th><th scope=col>&lt;int&gt;</th><th scope=col>&lt;chr&gt;</th><th scope=col>&lt;int&gt;</th><th scope=col>&lt;int&gt;</th><th scope=col>&lt;int&gt;</th><th scope=col>&lt;int&gt;</th><th scope=col>&lt;chr&gt;</th><th scope=col>&lt;chr&gt;</th><th scope=col>&lt;chr&gt;</th><th scope=col>&lt;dbl&gt;</th><th scope=col>&lt;int&gt;</th><th scope=col>&lt;int&gt;</th><th scope=col>&lt;int&gt;</th><th scope=col>&lt;int&gt;</th><th scope=col>&lt;int&gt;</th><th scope=col>&lt;int&gt;</th><th scope=col>&lt;int&gt;</th><th scope=col>&lt;int&gt;</th><th scope=col>&lt;int&gt;</th><th scope=col>&lt;int&gt;</th><th scope=col>&lt;dbl&gt;</th><th scope=col>&lt;int&gt;</th><th scope=col>&lt;int&gt;</th><th scope=col>&lt;int&gt;</th><th scope=col>&lt;int&gt;</th><th scope=col>&lt;int&gt;</th><th scope=col>&lt;int&gt;</th><th scope=col>&lt;int&gt;</th><th scope=col>&lt;int&gt;</th><th scope=col>&lt;int&gt;</th><th scope=col>&lt;int&gt;</th><th scope=col>&lt;int&gt;</th><th scope=col>&lt;int&gt;</th><th scope=col>&lt;int&gt;</th><th scope=col>&lt;int&gt;</th><th scope=col>&lt;int&gt;</th><th scope=col>&lt;int&gt;</th><th scope=col>&lt;int&gt;</th><th scope=col>&lt;int&gt;</th><th scope=col>&lt;int&gt;</th><th scope=col>&lt;int&gt;</th><th scope=col>&lt;int&gt;</th><th scope=col>&lt;int&gt;</th><th scope=col>&lt;int&gt;</th><th scope=col>&lt;dbl&gt;</th><th scope=col>&lt;dbl&gt;</th><th scope=col>&lt;dbl&gt;</th><th scope=col>&lt;int&gt;</th><th scope=col>&lt;int&gt;</th></tr>\n",
              "</thead>\n",
              "<tbody>\n",
              "\t<tr><th scope=row>1</th><td>ID_279628684</td><td>190000</td><td>0</td><td>3</td><td>0</td><td>1</td><td>1</td><td>0</td><td>1</td><td>0</td><td>1</td><td>1</td><td>0</td><td>0</td><td>0</td><td>0</td><td>1</td><td>1</td><td>1</td><td>1</td><td>10</td><td>1</td><td>1</td><td>0</td><td>0</td><td>0</td><td>0</td><td>0</td><td>0</td><td>0</td><td>1</td><td>0</td><td>0</td><td>0</td><td>0</td><td>0</td><td>0</td><td>1</td><td>0</td><td>0</td><td>1</td><td>1</td><td>0</td><td>0</td><td>1</td><td>0</td><td>0</td><td>0</td><td>0</td><td>1</td><td>0</td><td>0</td><td>0</td><td>0</td><td>0</td><td>1</td><td>0</td><td>1</td><td>0</td><td>0</td><td>0</td><td>0</td><td>0</td><td>0</td><td>1</td><td>0</td><td>1</td><td>0</td><td>0</td><td>1</td><td>0</td><td>0</td><td>0</td><td>1</td><td>0</td><td>0</td><td>0</td><td>0</td><td>1</td><td>0</td><td>0</td><td>0</td><td>1</td><td>0</td><td>0</td><td>0</td><td>0</td><td>0</td><td>0</td><td>0</td><td>0</td><td>0</td><td>0</td><td>0</td><td>21eb7fcc1</td><td>0</td><td>1</td><td>0</td><td>1</td><td>no </td><td>10</td><td>no</td><td>10</td><td>0</td><td>0</td><td>0</td><td>1</td><td>0</td><td>0</td><td>0</td><td>0</td><td>0</td><td>1</td><td>1.000000</td><td>0</td><td>0</td><td>1</td><td>0</td><td>0</td><td>0</td><td>0</td><td>1</td><td>1</td><td>1</td><td>0</td><td>0</td><td>0</td><td>0</td><td>0</td><td>1</td><td>0</td><td>43</td><td>100</td><td>1849</td><td> 1</td><td>100</td><td>0</td><td> 1.000000</td><td> 0</td><td>100</td><td>1849</td><td>4</td></tr>\n",
              "\t<tr><th scope=row>2</th><td>ID_f29eb3ddd</td><td>135000</td><td>0</td><td>4</td><td>0</td><td>1</td><td>1</td><td>1</td><td>1</td><td>0</td><td>1</td><td>1</td><td>0</td><td>0</td><td>0</td><td>0</td><td>1</td><td>1</td><td>1</td><td>1</td><td>12</td><td>1</td><td>0</td><td>0</td><td>0</td><td>0</td><td>1</td><td>0</td><td>0</td><td>0</td><td>0</td><td>0</td><td>0</td><td>0</td><td>0</td><td>1</td><td>1</td><td>0</td><td>0</td><td>0</td><td>1</td><td>1</td><td>0</td><td>0</td><td>1</td><td>0</td><td>0</td><td>0</td><td>0</td><td>1</td><td>0</td><td>0</td><td>0</td><td>0</td><td>1</td><td>0</td><td>0</td><td>1</td><td>0</td><td>0</td><td>0</td><td>0</td><td>0</td><td>0</td><td>1</td><td>0</td><td>0</td><td>1</td><td>0</td><td>0</td><td>1</td><td>0</td><td>0</td><td>1</td><td>0</td><td>0</td><td>0</td><td>0</td><td>1</td><td>0</td><td>0</td><td>0</td><td>1</td><td>0</td><td>0</td><td>0</td><td>0</td><td>0</td><td>0</td><td>0</td><td>0</td><td>0</td><td>0</td><td>0</td><td>0e5d7a658</td><td>0</td><td>1</td><td>1</td><td>1</td><td>8  </td><td>12</td><td>no</td><td>12</td><td>0</td><td>0</td><td>0</td><td>0</td><td>0</td><td>0</td><td>0</td><td>1</td><td>0</td><td>1</td><td>1.000000</td><td>0</td><td>0</td><td>1</td><td>0</td><td>0</td><td>0</td><td>0</td><td>1</td><td>1</td><td>1</td><td>0</td><td>0</td><td>0</td><td>0</td><td>0</td><td>1</td><td>0</td><td>67</td><td>144</td><td>4489</td><td> 1</td><td>144</td><td>0</td><td> 1.000000</td><td>64</td><td>144</td><td>4489</td><td>4</td></tr>\n",
              "\t<tr><th scope=row>3</th><td>ID_68de51c94</td><td>130000</td><td>0</td><td>8</td><td>0</td><td>1</td><td>1</td><td>0</td><td>1</td><td>0</td><td>0</td><td>0</td><td>0</td><td>1</td><td>1</td><td>0</td><td>1</td><td>1</td><td>1</td><td>1</td><td>11</td><td>1</td><td>0</td><td>0</td><td>0</td><td>0</td><td>1</td><td>0</td><td>0</td><td>0</td><td>1</td><td>0</td><td>0</td><td>0</td><td>0</td><td>0</td><td>1</td><td>0</td><td>0</td><td>0</td><td>1</td><td>1</td><td>0</td><td>0</td><td>1</td><td>0</td><td>0</td><td>0</td><td>0</td><td>1</td><td>0</td><td>0</td><td>0</td><td>0</td><td>1</td><td>0</td><td>0</td><td>1</td><td>0</td><td>0</td><td>0</td><td>0</td><td>0</td><td>0</td><td>1</td><td>0</td><td>0</td><td>0</td><td>1</td><td>0</td><td>0</td><td>1</td><td>1</td><td>0</td><td>1</td><td>0</td><td>0</td><td>0</td><td>0</td><td>0</td><td>1</td><td>0</td><td>1</td><td>0</td><td>0</td><td>0</td><td>0</td><td>0</td><td>0</td><td>0</td><td>0</td><td>0</td><td>0</td><td>0</td><td>2c7317ea8</td><td>0</td><td>1</td><td>1</td><td>1</td><td>8  </td><td>no</td><td>11</td><td>11</td><td>0</td><td>0</td><td>0</td><td>0</td><td>1</td><td>0</td><td>0</td><td>0</td><td>0</td><td>2</td><td>0.500000</td><td>1</td><td>0</td><td>0</td><td>0</td><td>0</td><td>0</td><td>0</td><td>0</td><td>0</td><td>1</td><td>0</td><td>0</td><td>0</td><td>0</td><td>0</td><td>1</td><td>0</td><td>92</td><td>121</td><td>8464</td><td> 1</td><td>  0</td><td>0</td><td> 0.250000</td><td>64</td><td>121</td><td>8464</td><td>4</td></tr>\n",
              "\t<tr><th scope=row>4</th><td>ID_d671db89c</td><td>180000</td><td>0</td><td>5</td><td>0</td><td>1</td><td>1</td><td>1</td><td>1</td><td>0</td><td>2</td><td>2</td><td>1</td><td>1</td><td>2</td><td>1</td><td>3</td><td>4</td><td>4</td><td>4</td><td> 9</td><td>4</td><td>1</td><td>0</td><td>0</td><td>0</td><td>0</td><td>0</td><td>0</td><td>0</td><td>1</td><td>0</td><td>0</td><td>0</td><td>0</td><td>0</td><td>1</td><td>0</td><td>0</td><td>0</td><td>1</td><td>1</td><td>0</td><td>0</td><td>1</td><td>0</td><td>0</td><td>0</td><td>0</td><td>1</td><td>0</td><td>0</td><td>0</td><td>0</td><td>1</td><td>0</td><td>0</td><td>1</td><td>0</td><td>0</td><td>0</td><td>0</td><td>0</td><td>0</td><td>0</td><td>1</td><td>0</td><td>0</td><td>1</td><td>0</td><td>0</td><td>1</td><td>0</td><td>1</td><td>0</td><td>0</td><td>0</td><td>0</td><td>0</td><td>0</td><td>0</td><td>1</td><td>0</td><td>0</td><td>1</td><td>0</td><td>0</td><td>0</td><td>0</td><td>0</td><td>0</td><td>0</td><td>0</td><td>0</td><td>2b58d945f</td><td>2</td><td>2</td><td>0</td><td>4</td><td>yes</td><td>11</td><td>no</td><td>11</td><td>0</td><td>0</td><td>0</td><td>1</td><td>0</td><td>0</td><td>0</td><td>0</td><td>0</td><td>3</td><td>1.333333</td><td>0</td><td>0</td><td>1</td><td>0</td><td>0</td><td>0</td><td>0</td><td>1</td><td>3</td><td>1</td><td>0</td><td>0</td><td>0</td><td>0</td><td>0</td><td>1</td><td>0</td><td>17</td><td> 81</td><td> 289</td><td>16</td><td>121</td><td>4</td><td> 1.777778</td><td> 1</td><td>121</td><td> 289</td><td>4</td></tr>\n",
              "\t<tr><th scope=row>5</th><td>ID_d56d6f5f5</td><td>180000</td><td>0</td><td>5</td><td>0</td><td>1</td><td>1</td><td>1</td><td>1</td><td>0</td><td>2</td><td>2</td><td>1</td><td>1</td><td>2</td><td>1</td><td>3</td><td>4</td><td>4</td><td>4</td><td>11</td><td>4</td><td>1</td><td>0</td><td>0</td><td>0</td><td>0</td><td>0</td><td>0</td><td>0</td><td>1</td><td>0</td><td>0</td><td>0</td><td>0</td><td>0</td><td>1</td><td>0</td><td>0</td><td>0</td><td>1</td><td>1</td><td>0</td><td>0</td><td>1</td><td>0</td><td>0</td><td>0</td><td>0</td><td>1</td><td>0</td><td>0</td><td>0</td><td>0</td><td>1</td><td>0</td><td>0</td><td>1</td><td>0</td><td>0</td><td>0</td><td>0</td><td>0</td><td>0</td><td>0</td><td>1</td><td>0</td><td>0</td><td>1</td><td>0</td><td>0</td><td>1</td><td>0</td><td>0</td><td>1</td><td>0</td><td>1</td><td>0</td><td>0</td><td>0</td><td>0</td><td>0</td><td>0</td><td>1</td><td>0</td><td>0</td><td>0</td><td>0</td><td>0</td><td>0</td><td>0</td><td>0</td><td>0</td><td>0</td><td>2b58d945f</td><td>2</td><td>2</td><td>0</td><td>4</td><td>yes</td><td>11</td><td>no</td><td>11</td><td>0</td><td>0</td><td>0</td><td>0</td><td>1</td><td>0</td><td>0</td><td>0</td><td>0</td><td>3</td><td>1.333333</td><td>0</td><td>0</td><td>1</td><td>0</td><td>0</td><td>0</td><td>0</td><td>1</td><td>3</td><td>1</td><td>0</td><td>0</td><td>0</td><td>0</td><td>0</td><td>1</td><td>0</td><td>37</td><td>121</td><td>1369</td><td>16</td><td>121</td><td>4</td><td> 1.777778</td><td> 1</td><td>121</td><td>1369</td><td>4</td></tr>\n",
              "\t<tr><th scope=row>6</th><td>ID_ec05b1a7b</td><td>180000</td><td>0</td><td>5</td><td>0</td><td>1</td><td>1</td><td>1</td><td>1</td><td>0</td><td>2</td><td>2</td><td>1</td><td>1</td><td>2</td><td>1</td><td>3</td><td>4</td><td>4</td><td>4</td><td>11</td><td>4</td><td>1</td><td>0</td><td>0</td><td>0</td><td>0</td><td>0</td><td>0</td><td>0</td><td>1</td><td>0</td><td>0</td><td>0</td><td>0</td><td>0</td><td>1</td><td>0</td><td>0</td><td>0</td><td>1</td><td>1</td><td>0</td><td>0</td><td>1</td><td>0</td><td>0</td><td>0</td><td>0</td><td>1</td><td>0</td><td>0</td><td>0</td><td>0</td><td>1</td><td>0</td><td>0</td><td>1</td><td>0</td><td>0</td><td>0</td><td>0</td><td>0</td><td>0</td><td>0</td><td>1</td><td>0</td><td>0</td><td>1</td><td>0</td><td>0</td><td>1</td><td>0</td><td>1</td><td>0</td><td>0</td><td>1</td><td>0</td><td>0</td><td>0</td><td>0</td><td>0</td><td>1</td><td>0</td><td>0</td><td>0</td><td>0</td><td>0</td><td>0</td><td>0</td><td>0</td><td>0</td><td>0</td><td>0</td><td>2b58d945f</td><td>2</td><td>2</td><td>0</td><td>4</td><td>yes</td><td>11</td><td>no</td><td>11</td><td>0</td><td>0</td><td>0</td><td>0</td><td>1</td><td>0</td><td>0</td><td>0</td><td>0</td><td>3</td><td>1.333333</td><td>0</td><td>0</td><td>1</td><td>0</td><td>0</td><td>0</td><td>0</td><td>1</td><td>3</td><td>1</td><td>0</td><td>0</td><td>0</td><td>0</td><td>0</td><td>1</td><td>0</td><td>38</td><td>121</td><td>1444</td><td>16</td><td>121</td><td>4</td><td> 1.777778</td><td> 1</td><td>121</td><td>1444</td><td>4</td></tr>\n",
              "\t<tr><th scope=row>7</th><td>ID_e9e0c1100</td><td>180000</td><td>0</td><td>5</td><td>0</td><td>1</td><td>1</td><td>1</td><td>1</td><td>0</td><td>2</td><td>2</td><td>1</td><td>1</td><td>2</td><td>1</td><td>3</td><td>4</td><td>4</td><td>4</td><td> 2</td><td>4</td><td>1</td><td>0</td><td>0</td><td>0</td><td>0</td><td>0</td><td>0</td><td>0</td><td>1</td><td>0</td><td>0</td><td>0</td><td>0</td><td>0</td><td>1</td><td>0</td><td>0</td><td>0</td><td>1</td><td>1</td><td>0</td><td>0</td><td>1</td><td>0</td><td>0</td><td>0</td><td>0</td><td>1</td><td>0</td><td>0</td><td>0</td><td>0</td><td>1</td><td>0</td><td>0</td><td>1</td><td>0</td><td>0</td><td>0</td><td>0</td><td>0</td><td>0</td><td>0</td><td>1</td><td>0</td><td>0</td><td>1</td><td>0</td><td>0</td><td>1</td><td>0</td><td>0</td><td>1</td><td>1</td><td>0</td><td>0</td><td>0</td><td>0</td><td>0</td><td>0</td><td>0</td><td>0</td><td>1</td><td>0</td><td>0</td><td>0</td><td>0</td><td>0</td><td>0</td><td>0</td><td>0</td><td>0</td><td>2b58d945f</td><td>2</td><td>2</td><td>0</td><td>4</td><td>yes</td><td>11</td><td>no</td><td>11</td><td>0</td><td>1</td><td>0</td><td>0</td><td>0</td><td>0</td><td>0</td><td>0</td><td>0</td><td>3</td><td>1.333333</td><td>0</td><td>0</td><td>1</td><td>0</td><td>0</td><td>0</td><td>0</td><td>1</td><td>3</td><td>1</td><td>0</td><td>0</td><td>0</td><td>0</td><td>0</td><td>1</td><td>0</td><td> 8</td><td>  4</td><td>  64</td><td>16</td><td>121</td><td>4</td><td> 1.777778</td><td> 1</td><td>121</td><td>  64</td><td>4</td></tr>\n",
              "\t<tr><th scope=row>8</th><td>ID_3e04e571e</td><td>130000</td><td>1</td><td>2</td><td>0</td><td>1</td><td>1</td><td>0</td><td>1</td><td>0</td><td>1</td><td>1</td><td>2</td><td>1</td><td>3</td><td>2</td><td>2</td><td>4</td><td>4</td><td>4</td><td> 0</td><td>4</td><td>1</td><td>0</td><td>0</td><td>0</td><td>0</td><td>0</td><td>0</td><td>0</td><td>1</td><td>0</td><td>0</td><td>0</td><td>0</td><td>0</td><td>1</td><td>0</td><td>0</td><td>0</td><td>1</td><td>1</td><td>0</td><td>0</td><td>1</td><td>0</td><td>0</td><td>0</td><td>0</td><td>1</td><td>0</td><td>0</td><td>0</td><td>0</td><td>0</td><td>1</td><td>0</td><td>1</td><td>0</td><td>0</td><td>0</td><td>0</td><td>0</td><td>1</td><td>0</td><td>0</td><td>1</td><td>0</td><td>0</td><td>0</td><td>1</td><td>0</td><td>0</td><td>0</td><td>1</td><td>1</td><td>0</td><td>0</td><td>0</td><td>0</td><td>0</td><td>0</td><td>0</td><td>0</td><td>1</td><td>0</td><td>0</td><td>0</td><td>0</td><td>0</td><td>0</td><td>0</td><td>0</td><td>0</td><td>d6dae86b7</td><td>2</td><td>2</td><td>0</td><td>4</td><td>yes</td><td>9 </td><td>no</td><td>10</td><td>1</td><td>0</td><td>0</td><td>0</td><td>0</td><td>0</td><td>0</td><td>0</td><td>0</td><td>1</td><td>4.000000</td><td>0</td><td>0</td><td>1</td><td>0</td><td>0</td><td>0</td><td>0</td><td>1</td><td>1</td><td>1</td><td>0</td><td>0</td><td>0</td><td>0</td><td>0</td><td>1</td><td>0</td><td> 7</td><td>  0</td><td>  49</td><td>16</td><td> 81</td><td>4</td><td>16.000000</td><td> 1</td><td>100</td><td>  49</td><td>4</td></tr>\n",
              "\t<tr><th scope=row>9</th><td>ID_1284f8aad</td><td>130000</td><td>1</td><td>2</td><td>0</td><td>1</td><td>1</td><td>0</td><td>1</td><td>0</td><td>1</td><td>1</td><td>2</td><td>1</td><td>3</td><td>2</td><td>2</td><td>4</td><td>4</td><td>4</td><td> 9</td><td>4</td><td>1</td><td>0</td><td>0</td><td>0</td><td>0</td><td>0</td><td>0</td><td>0</td><td>1</td><td>0</td><td>0</td><td>0</td><td>0</td><td>0</td><td>1</td><td>0</td><td>0</td><td>0</td><td>1</td><td>1</td><td>0</td><td>0</td><td>1</td><td>0</td><td>0</td><td>0</td><td>0</td><td>1</td><td>0</td><td>0</td><td>0</td><td>0</td><td>0</td><td>1</td><td>0</td><td>1</td><td>0</td><td>0</td><td>0</td><td>0</td><td>0</td><td>1</td><td>0</td><td>0</td><td>1</td><td>0</td><td>0</td><td>0</td><td>1</td><td>0</td><td>0</td><td>1</td><td>0</td><td>0</td><td>1</td><td>0</td><td>0</td><td>0</td><td>0</td><td>0</td><td>1</td><td>0</td><td>0</td><td>0</td><td>0</td><td>0</td><td>0</td><td>0</td><td>0</td><td>0</td><td>0</td><td>0</td><td>d6dae86b7</td><td>2</td><td>2</td><td>0</td><td>4</td><td>yes</td><td>9 </td><td>no</td><td>10</td><td>0</td><td>0</td><td>0</td><td>1</td><td>0</td><td>0</td><td>0</td><td>0</td><td>0</td><td>1</td><td>4.000000</td><td>0</td><td>0</td><td>1</td><td>0</td><td>0</td><td>0</td><td>0</td><td>1</td><td>1</td><td>1</td><td>0</td><td>0</td><td>0</td><td>0</td><td>0</td><td>1</td><td>0</td><td>30</td><td> 81</td><td> 900</td><td>16</td><td> 81</td><td>4</td><td>16.000000</td><td> 1</td><td>100</td><td> 900</td><td>4</td></tr>\n",
              "\t<tr><th scope=row>10</th><td>ID_51f52fdd2</td><td>130000</td><td>1</td><td>2</td><td>0</td><td>1</td><td>1</td><td>0</td><td>1</td><td>0</td><td>1</td><td>1</td><td>2</td><td>1</td><td>3</td><td>2</td><td>2</td><td>4</td><td>4</td><td>4</td><td>11</td><td>4</td><td>1</td><td>0</td><td>0</td><td>0</td><td>0</td><td>0</td><td>0</td><td>0</td><td>1</td><td>0</td><td>0</td><td>0</td><td>0</td><td>0</td><td>1</td><td>0</td><td>0</td><td>0</td><td>1</td><td>1</td><td>0</td><td>0</td><td>1</td><td>0</td><td>0</td><td>0</td><td>0</td><td>1</td><td>0</td><td>0</td><td>0</td><td>0</td><td>0</td><td>1</td><td>0</td><td>1</td><td>0</td><td>0</td><td>0</td><td>0</td><td>0</td><td>1</td><td>0</td><td>0</td><td>1</td><td>0</td><td>0</td><td>0</td><td>1</td><td>0</td><td>0</td><td>0</td><td>1</td><td>0</td><td>1</td><td>0</td><td>0</td><td>0</td><td>0</td><td>0</td><td>0</td><td>1</td><td>0</td><td>0</td><td>0</td><td>0</td><td>0</td><td>0</td><td>0</td><td>0</td><td>0</td><td>0</td><td>d6dae86b7</td><td>2</td><td>2</td><td>0</td><td>4</td><td>yes</td><td>9 </td><td>no</td><td>10</td><td>0</td><td>0</td><td>0</td><td>0</td><td>1</td><td>0</td><td>0</td><td>0</td><td>0</td><td>1</td><td>4.000000</td><td>0</td><td>0</td><td>1</td><td>0</td><td>0</td><td>0</td><td>0</td><td>1</td><td>1</td><td>1</td><td>0</td><td>0</td><td>0</td><td>0</td><td>0</td><td>1</td><td>0</td><td>28</td><td>121</td><td> 784</td><td>16</td><td> 81</td><td>4</td><td>16.000000</td><td> 1</td><td>100</td><td> 784</td><td>4</td></tr>\n",
              "</tbody>\n",
              "</table>\n"
            ]
          },
          "metadata": {}
        }
      ]
    },
    {
      "cell_type": "code",
      "metadata": {
        "colab": {
          "base_uri": "https://localhost:8080/",
          "height": 405
        },
        "id": "byXUq35zAtk7",
        "outputId": "135ec14e-86b1-477a-80f2-f48586b4621b"
      },
      "source": [
        "train %>%\n",
        "  select_if(is.character) %>%\n",
        "  head(10)"
      ],
      "execution_count": 16,
      "outputs": [
        {
          "output_type": "display_data",
          "data": {
            "text/plain": [
              "   Id           idhogar   dependency edjefe edjefa\n",
              "1  ID_279628684 21eb7fcc1 no         10     no    \n",
              "2  ID_f29eb3ddd 0e5d7a658 8          12     no    \n",
              "3  ID_68de51c94 2c7317ea8 8          no     11    \n",
              "4  ID_d671db89c 2b58d945f yes        11     no    \n",
              "5  ID_d56d6f5f5 2b58d945f yes        11     no    \n",
              "6  ID_ec05b1a7b 2b58d945f yes        11     no    \n",
              "7  ID_e9e0c1100 2b58d945f yes        11     no    \n",
              "8  ID_3e04e571e d6dae86b7 yes        9      no    \n",
              "9  ID_1284f8aad d6dae86b7 yes        9      no    \n",
              "10 ID_51f52fdd2 d6dae86b7 yes        9      no    "
            ],
            "text/latex": "A data.frame: 10 × 5\n\\begin{tabular}{r|lllll}\n  & Id & idhogar & dependency & edjefe & edjefa\\\\\n  & <chr> & <chr> & <chr> & <chr> & <chr>\\\\\n\\hline\n\t1 & ID\\_279628684 & 21eb7fcc1 & no  & 10 & no\\\\\n\t2 & ID\\_f29eb3ddd & 0e5d7a658 & 8   & 12 & no\\\\\n\t3 & ID\\_68de51c94 & 2c7317ea8 & 8   & no & 11\\\\\n\t4 & ID\\_d671db89c & 2b58d945f & yes & 11 & no\\\\\n\t5 & ID\\_d56d6f5f5 & 2b58d945f & yes & 11 & no\\\\\n\t6 & ID\\_ec05b1a7b & 2b58d945f & yes & 11 & no\\\\\n\t7 & ID\\_e9e0c1100 & 2b58d945f & yes & 11 & no\\\\\n\t8 & ID\\_3e04e571e & d6dae86b7 & yes & 9  & no\\\\\n\t9 & ID\\_1284f8aad & d6dae86b7 & yes & 9  & no\\\\\n\t10 & ID\\_51f52fdd2 & d6dae86b7 & yes & 9  & no\\\\\n\\end{tabular}\n",
            "text/markdown": "\nA data.frame: 10 × 5\n\n| <!--/--> | Id &lt;chr&gt; | idhogar &lt;chr&gt; | dependency &lt;chr&gt; | edjefe &lt;chr&gt; | edjefa &lt;chr&gt; |\n|---|---|---|---|---|---|\n| 1 | ID_279628684 | 21eb7fcc1 | no  | 10 | no |\n| 2 | ID_f29eb3ddd | 0e5d7a658 | 8   | 12 | no |\n| 3 | ID_68de51c94 | 2c7317ea8 | 8   | no | 11 |\n| 4 | ID_d671db89c | 2b58d945f | yes | 11 | no |\n| 5 | ID_d56d6f5f5 | 2b58d945f | yes | 11 | no |\n| 6 | ID_ec05b1a7b | 2b58d945f | yes | 11 | no |\n| 7 | ID_e9e0c1100 | 2b58d945f | yes | 11 | no |\n| 8 | ID_3e04e571e | d6dae86b7 | yes | 9  | no |\n| 9 | ID_1284f8aad | d6dae86b7 | yes | 9  | no |\n| 10 | ID_51f52fdd2 | d6dae86b7 | yes | 9  | no |\n\n",
            "text/html": [
              "<table class=\"dataframe\">\n",
              "<caption>A data.frame: 10 × 5</caption>\n",
              "<thead>\n",
              "\t<tr><th></th><th scope=col>Id</th><th scope=col>idhogar</th><th scope=col>dependency</th><th scope=col>edjefe</th><th scope=col>edjefa</th></tr>\n",
              "\t<tr><th></th><th scope=col>&lt;chr&gt;</th><th scope=col>&lt;chr&gt;</th><th scope=col>&lt;chr&gt;</th><th scope=col>&lt;chr&gt;</th><th scope=col>&lt;chr&gt;</th></tr>\n",
              "</thead>\n",
              "<tbody>\n",
              "\t<tr><th scope=row>1</th><td>ID_279628684</td><td>21eb7fcc1</td><td>no </td><td>10</td><td>no</td></tr>\n",
              "\t<tr><th scope=row>2</th><td>ID_f29eb3ddd</td><td>0e5d7a658</td><td>8  </td><td>12</td><td>no</td></tr>\n",
              "\t<tr><th scope=row>3</th><td>ID_68de51c94</td><td>2c7317ea8</td><td>8  </td><td>no</td><td>11</td></tr>\n",
              "\t<tr><th scope=row>4</th><td>ID_d671db89c</td><td>2b58d945f</td><td>yes</td><td>11</td><td>no</td></tr>\n",
              "\t<tr><th scope=row>5</th><td>ID_d56d6f5f5</td><td>2b58d945f</td><td>yes</td><td>11</td><td>no</td></tr>\n",
              "\t<tr><th scope=row>6</th><td>ID_ec05b1a7b</td><td>2b58d945f</td><td>yes</td><td>11</td><td>no</td></tr>\n",
              "\t<tr><th scope=row>7</th><td>ID_e9e0c1100</td><td>2b58d945f</td><td>yes</td><td>11</td><td>no</td></tr>\n",
              "\t<tr><th scope=row>8</th><td>ID_3e04e571e</td><td>d6dae86b7</td><td>yes</td><td>9 </td><td>no</td></tr>\n",
              "\t<tr><th scope=row>9</th><td>ID_1284f8aad</td><td>d6dae86b7</td><td>yes</td><td>9 </td><td>no</td></tr>\n",
              "\t<tr><th scope=row>10</th><td>ID_51f52fdd2</td><td>d6dae86b7</td><td>yes</td><td>9 </td><td>no</td></tr>\n",
              "</tbody>\n",
              "</table>\n"
            ]
          },
          "metadata": {}
        }
      ]
    },
    {
      "cell_type": "markdown",
      "metadata": {
        "id": "-Bfpm4dM-mE6"
      },
      "source": [
        "Id column not needed for classification, though keep for right now \n",
        "\n",
        "'idhogar' column : Household level identifier (find number of unique values and figure out)\n",
        "\n",
        "'dependency' : Dependency rate\n",
        "\n",
        "'edjefe' : Years of education for male head of family (replace 'no' with zero)\n",
        "\n",
        "'edjefa' : Years of education for female head of family (replace 'no' with zero)\n"
      ]
    },
    {
      "cell_type": "code",
      "metadata": {
        "colab": {
          "base_uri": "https://localhost:8080/",
          "height": 161
        },
        "id": "Wawl_UlrBo_L",
        "outputId": "5f953b9f-0999-49b9-ed2d-9ba26e488cf9"
      },
      "source": [
        "count(unique(train[c('idhogar')]))"
      ],
      "execution_count": 17,
      "outputs": [
        {
          "output_type": "display_data",
          "data": {
            "text/plain": [
              "  n   \n",
              "1 2988"
            ],
            "text/latex": "A data.frame: 1 × 1\n\\begin{tabular}{l}\n n\\\\\n <int>\\\\\n\\hline\n\t 2988\\\\\n\\end{tabular}\n",
            "text/markdown": "\nA data.frame: 1 × 1\n\n| n &lt;int&gt; |\n|---|\n| 2988 |\n\n",
            "text/html": [
              "<table class=\"dataframe\">\n",
              "<caption>A data.frame: 1 × 1</caption>\n",
              "<thead>\n",
              "\t<tr><th scope=col>n</th></tr>\n",
              "\t<tr><th scope=col>&lt;int&gt;</th></tr>\n",
              "</thead>\n",
              "<tbody>\n",
              "\t<tr><td>2988</td></tr>\n",
              "</tbody>\n",
              "</table>\n"
            ]
          },
          "metadata": {}
        }
      ]
    },
    {
      "cell_type": "code",
      "metadata": {
        "colab": {
          "base_uri": "https://localhost:8080/",
          "height": 1000
        },
        "id": "P2mAhpiyinED",
        "outputId": "748d8ad4-9dfd-49b7-fa4f-cfe88558e09a"
      },
      "source": [
        "as.data.frame(table(train$idhogar))"
      ],
      "execution_count": 18,
      "outputs": [
        {
          "output_type": "display_data",
          "data": {
            "text/plain": [
              "     Var1      Freq\n",
              "1    001ff74ca 2   \n",
              "2    003123ec2 4   \n",
              "3    004616164 2   \n",
              "4    004983866 2   \n",
              "5    005905417 3   \n",
              "6    006031de3 4   \n",
              "7    006555fe2 5   \n",
              "8    00693f597 4   \n",
              "9    006b64543 2   \n",
              "10   00941f1f4 4   \n",
              "11   009ae1cec 3   \n",
              "12   00e3e05c5 3   \n",
              "13   00e443b00 1   \n",
              "14   00edc0d0f 6   \n",
              "15   0108c62b8 6   \n",
              "16   013962b12 2   \n",
              "17   013e9ee6a 2   \n",
              "18   0172ab1d9 5   \n",
              "19   0194d569d 1   \n",
              "20   01c6fcb6e 1   \n",
              "21   01d2e2b0b 3   \n",
              "22   01ff6a086 2   \n",
              "23   020713493 1   \n",
              "24   023edfed0 3   \n",
              "25   0250e0b59 3   \n",
              "26   027651991 1   \n",
              "27   029f3d736 4   \n",
              "28   02a3da971 2   \n",
              "29   02ae50d8f 2   \n",
              "30   02e9bb4e7 3   \n",
              "31   02f34e26c 6   \n",
              "32   02ff93d1e 6   \n",
              "33   032d9f940 6   \n",
              "34   033c39c5c 4   \n",
              "35   035bb4b72 6   \n",
              "36   0369a5d78 3   \n",
              "37   039745cbe 3   \n",
              "38   03b23f2b1 4   \n",
              "39   03c6bdf85 2   \n",
              "40   03c78a7a9 4   \n",
              "41   03d27346e 3   \n",
              "42   03f00ec52 3   \n",
              "43   03f4e5f4d 3   \n",
              "44   043cef77c 2   \n",
              "45   045038655 1   \n",
              "46   0473832dd 4   \n",
              "47   047659c0f 2   \n",
              "48   048d64af0 2   \n",
              "49   04a032c94 2   \n",
              "50   04a8915f6 6   \n",
              "51   04b02301b 3   \n",
              "52   04b0f3f3a 3   \n",
              "53   04d0d0d8f 4   \n",
              "54   04d8420a2 3   \n",
              "55   0511912b6 4   \n",
              "56   0519a23f5 3   \n",
              "57   051f67b16 4   \n",
              "58   052da118c 1   \n",
              "59   053f09ebb 1   \n",
              "60   054074f61 6   \n",
              "61   0564f49cd 3   \n",
              "62   0566c116a 2   \n",
              "63   058a60804 4   \n",
              "64   0592dc939 7   \n",
              "65   05aef4eec 5   \n",
              "66   05b0d51e9 2   \n",
              "67   05e1d4a10 3   \n",
              "68   05e6eeead 2   \n",
              "69   05eff3d5c 6   \n",
              "70   060027579 3   \n",
              "71   0605671a3 3   \n",
              "72   06089482a 2   \n",
              "73   0609006f6 2   \n",
              "74   061f8ffcf 4   \n",
              "75   06219c98f 5   \n",
              "76   0626809c8 4   \n",
              "77   06325b3e6 4   \n",
              "78   0664cd4f0 5   \n",
              "79   0667ebc47 2   \n",
              "80   066ca7a0a 2   \n",
              "81   0673a6cf3 2   \n",
              "82   06749e51e 4   \n",
              "83   06804be1b 5   \n",
              "84   0681b11c9 1   \n",
              "85   068a639e5 3   \n",
              "86   06ca88023 9   \n",
              "87   06dba0576 5   \n",
              "88   070cdf915 3   \n",
              "89   07102d194 5   \n",
              "90   0723fe311 3   \n",
              "91   075a0a458 4   \n",
              "92   077941bc7 4   \n",
              "93   078a0b6e2 4   \n",
              "94   078a9a68e 5   \n",
              "95   07a5de1ba 3   \n",
              "96   07a6cc87c 2   \n",
              "97   07b8d09c3 3   \n",
              "98   07d417b1c 5   \n",
              "99   07f016cb5 3   \n",
              "100  07f72c01f 5   \n",
              "⋮    ⋮         ⋮   \n",
              "2889 f9480a013  1  \n",
              "2890 f954c1672  2  \n",
              "2891 f95f4c3a5  6  \n",
              "2892 f9634beb0  2  \n",
              "2893 f97932c13  4  \n",
              "2894 f99e7492c  1  \n",
              "2895 f9c0a2afc  2  \n",
              "2896 f9c2c1a9e  4  \n",
              "2897 f9ddb6edf  1  \n",
              "2898 f9ddcc4b3  3  \n",
              "2899 f9ee51f96  1  \n",
              "2900 f9f25ae5a  3  \n",
              "2901 fa044cfe0  2  \n",
              "2902 fa134e144  2  \n",
              "2903 fa2b66b43  3  \n",
              "2904 fa5c14ce6  1  \n",
              "2905 fa67d6fd5  5  \n",
              "2906 fa9d626f5  3  \n",
              "2907 faa3a287f  1  \n",
              "2908 faac4b5ee  4  \n",
              "2909 faaebf71a  2  \n",
              "2910 fab04b399  4  \n",
              "2911 fabb02be9  3  \n",
              "2912 fabb317fa  2  \n",
              "2913 fac1bfb6c  3  \n",
              "2914 fade739e1  3  \n",
              "2915 fb3b48508  3  \n",
              "2916 fb45e076a  3  \n",
              "2917 fb4e4bed6  4  \n",
              "2918 fb5f0ae6c  4  \n",
              "2919 fbd0947cf  3  \n",
              "2920 fbe69128f  2  \n",
              "2921 fbf43e9b3  2  \n",
              "2922 fc19e7999  1  \n",
              "2923 fc29d47d7  7  \n",
              "2924 fc366202b  4  \n",
              "2925 fc54ed70a  5  \n",
              "2926 fc6b3afe2  5  \n",
              "2927 fc80ac809  4  \n",
              "2928 fc8ad2380  3  \n",
              "2929 fc96fa541  2  \n",
              "2930 fca2c4361  3  \n",
              "2931 fca58b10c  1  \n",
              "2932 fcaaa4204  4  \n",
              "2933 fcceed2b8  3  \n",
              "2934 fcd753529  4  \n",
              "2935 fcf75bab3  3  \n",
              "2936 fd10905bc  4  \n",
              "2937 fd22b4607  4  \n",
              "2938 fd2369f80  5  \n",
              "2939 fd40fe01a  1  \n",
              "2940 fd53f7161  6  \n",
              "2941 fd63efec3  4  \n",
              "2942 fd69ffc71  3  \n",
              "2943 fd6c635d5  4  \n",
              "2944 fd750dc9b  2  \n",
              "2945 fd80dfac4  1  \n",
              "2946 fd89cbc8b  1  \n",
              "2947 fd8a6d014 13  \n",
              "2948 fd8cd9fa1  5  \n",
              "2949 fd94bb477  2  \n",
              "2950 fda272904  2  \n",
              "2951 fdb13f946  3  \n",
              "2952 fdb188780  1  \n",
              "2953 fdc5d6c51  4  \n",
              "2954 fdd35c1ca  1  \n",
              "2955 fdda791f2  3  \n",
              "2956 fdf19ce0c  1  \n",
              "2957 fdf2567db  3  \n",
              "2958 fdfb72694  1  \n",
              "2959 fdff0dc28  2  \n",
              "2960 fe2384232  2  \n",
              "2961 fe30320e4  1  \n",
              "2962 fe30c653f  7  \n",
              "2963 fe3c1f2dd  6  \n",
              "2964 fe4251897  4  \n",
              "2965 fe4c84768  3  \n",
              "2966 fe4fe4ecc  2  \n",
              "2967 fe521cbbe  3  \n",
              "2968 fe5614212  2  \n",
              "2969 fe7cdd65c  3  \n",
              "2970 fe7dbf4cc  3  \n",
              "2971 feb080b82  1  \n",
              "2972 feb7c6365  4  \n",
              "2973 fec89ef45  2  \n",
              "2974 feccace39  5  \n",
              "2975 fed4cd160  4  \n",
              "2976 fed6bc0bd  1  \n",
              "2977 fef7fd222  4  \n",
              "2978 fef969ad9  1  \n",
              "2979 ff250fd6c  4  \n",
              "2980 ff31b984b  3  \n",
              "2981 ff38ddef1  3  \n",
              "2982 ff6d16fd0  2  \n",
              "2983 ff703eed4  6  \n",
              "2984 ff9343a35  4  \n",
              "2985 ff9d5ab17  3  \n",
              "2986 ffae4a097  2  \n",
              "2987 ffe90d46f  4  \n",
              "2988 fff7d6be1  4  "
            ],
            "text/latex": "A data.frame: 2988 × 2\n\\begin{tabular}{ll}\n Var1 & Freq\\\\\n <fct> & <int>\\\\\n\\hline\n\t 001ff74ca & 2\\\\\n\t 003123ec2 & 4\\\\\n\t 004616164 & 2\\\\\n\t 004983866 & 2\\\\\n\t 005905417 & 3\\\\\n\t 006031de3 & 4\\\\\n\t 006555fe2 & 5\\\\\n\t 00693f597 & 4\\\\\n\t 006b64543 & 2\\\\\n\t 00941f1f4 & 4\\\\\n\t 009ae1cec & 3\\\\\n\t 00e3e05c5 & 3\\\\\n\t 00e443b00 & 1\\\\\n\t 00edc0d0f & 6\\\\\n\t 0108c62b8 & 6\\\\\n\t 013962b12 & 2\\\\\n\t 013e9ee6a & 2\\\\\n\t 0172ab1d9 & 5\\\\\n\t 0194d569d & 1\\\\\n\t 01c6fcb6e & 1\\\\\n\t 01d2e2b0b & 3\\\\\n\t 01ff6a086 & 2\\\\\n\t 020713493 & 1\\\\\n\t 023edfed0 & 3\\\\\n\t 0250e0b59 & 3\\\\\n\t 027651991 & 1\\\\\n\t 029f3d736 & 4\\\\\n\t 02a3da971 & 2\\\\\n\t 02ae50d8f & 2\\\\\n\t 02e9bb4e7 & 3\\\\\n\t 02f34e26c & 6\\\\\n\t 02ff93d1e & 6\\\\\n\t 032d9f940 & 6\\\\\n\t 033c39c5c & 4\\\\\n\t 035bb4b72 & 6\\\\\n\t 0369a5d78 & 3\\\\\n\t 039745cbe & 3\\\\\n\t 03b23f2b1 & 4\\\\\n\t 03c6bdf85 & 2\\\\\n\t 03c78a7a9 & 4\\\\\n\t 03d27346e & 3\\\\\n\t 03f00ec52 & 3\\\\\n\t 03f4e5f4d & 3\\\\\n\t 043cef77c & 2\\\\\n\t 045038655 & 1\\\\\n\t 0473832dd & 4\\\\\n\t 047659c0f & 2\\\\\n\t 048d64af0 & 2\\\\\n\t 04a032c94 & 2\\\\\n\t 04a8915f6 & 6\\\\\n\t 04b02301b & 3\\\\\n\t 04b0f3f3a & 3\\\\\n\t 04d0d0d8f & 4\\\\\n\t 04d8420a2 & 3\\\\\n\t 0511912b6 & 4\\\\\n\t 0519a23f5 & 3\\\\\n\t 051f67b16 & 4\\\\\n\t 052da118c & 1\\\\\n\t 053f09ebb & 1\\\\\n\t 054074f61 & 6\\\\\n\t 0564f49cd & 3\\\\\n\t 0566c116a & 2\\\\\n\t 058a60804 & 4\\\\\n\t 0592dc939 & 7\\\\\n\t 05aef4eec & 5\\\\\n\t 05b0d51e9 & 2\\\\\n\t 05e1d4a10 & 3\\\\\n\t 05e6eeead & 2\\\\\n\t 05eff3d5c & 6\\\\\n\t 060027579 & 3\\\\\n\t 0605671a3 & 3\\\\\n\t 06089482a & 2\\\\\n\t 0609006f6 & 2\\\\\n\t 061f8ffcf & 4\\\\\n\t 06219c98f & 5\\\\\n\t 0626809c8 & 4\\\\\n\t 06325b3e6 & 4\\\\\n\t 0664cd4f0 & 5\\\\\n\t 0667ebc47 & 2\\\\\n\t 066ca7a0a & 2\\\\\n\t 0673a6cf3 & 2\\\\\n\t 06749e51e & 4\\\\\n\t 06804be1b & 5\\\\\n\t 0681b11c9 & 1\\\\\n\t 068a639e5 & 3\\\\\n\t 06ca88023 & 9\\\\\n\t 06dba0576 & 5\\\\\n\t 070cdf915 & 3\\\\\n\t 07102d194 & 5\\\\\n\t 0723fe311 & 3\\\\\n\t 075a0a458 & 4\\\\\n\t 077941bc7 & 4\\\\\n\t 078a0b6e2 & 4\\\\\n\t 078a9a68e & 5\\\\\n\t 07a5de1ba & 3\\\\\n\t 07a6cc87c & 2\\\\\n\t 07b8d09c3 & 3\\\\\n\t 07d417b1c & 5\\\\\n\t 07f016cb5 & 3\\\\\n\t 07f72c01f & 5\\\\\n\t ⋮ & ⋮\\\\\n\t f9480a013 &  1\\\\\n\t f954c1672 &  2\\\\\n\t f95f4c3a5 &  6\\\\\n\t f9634beb0 &  2\\\\\n\t f97932c13 &  4\\\\\n\t f99e7492c &  1\\\\\n\t f9c0a2afc &  2\\\\\n\t f9c2c1a9e &  4\\\\\n\t f9ddb6edf &  1\\\\\n\t f9ddcc4b3 &  3\\\\\n\t f9ee51f96 &  1\\\\\n\t f9f25ae5a &  3\\\\\n\t fa044cfe0 &  2\\\\\n\t fa134e144 &  2\\\\\n\t fa2b66b43 &  3\\\\\n\t fa5c14ce6 &  1\\\\\n\t fa67d6fd5 &  5\\\\\n\t fa9d626f5 &  3\\\\\n\t faa3a287f &  1\\\\\n\t faac4b5ee &  4\\\\\n\t faaebf71a &  2\\\\\n\t fab04b399 &  4\\\\\n\t fabb02be9 &  3\\\\\n\t fabb317fa &  2\\\\\n\t fac1bfb6c &  3\\\\\n\t fade739e1 &  3\\\\\n\t fb3b48508 &  3\\\\\n\t fb45e076a &  3\\\\\n\t fb4e4bed6 &  4\\\\\n\t fb5f0ae6c &  4\\\\\n\t fbd0947cf &  3\\\\\n\t fbe69128f &  2\\\\\n\t fbf43e9b3 &  2\\\\\n\t fc19e7999 &  1\\\\\n\t fc29d47d7 &  7\\\\\n\t fc366202b &  4\\\\\n\t fc54ed70a &  5\\\\\n\t fc6b3afe2 &  5\\\\\n\t fc80ac809 &  4\\\\\n\t fc8ad2380 &  3\\\\\n\t fc96fa541 &  2\\\\\n\t fca2c4361 &  3\\\\\n\t fca58b10c &  1\\\\\n\t fcaaa4204 &  4\\\\\n\t fcceed2b8 &  3\\\\\n\t fcd753529 &  4\\\\\n\t fcf75bab3 &  3\\\\\n\t fd10905bc &  4\\\\\n\t fd22b4607 &  4\\\\\n\t fd2369f80 &  5\\\\\n\t fd40fe01a &  1\\\\\n\t fd53f7161 &  6\\\\\n\t fd63efec3 &  4\\\\\n\t fd69ffc71 &  3\\\\\n\t fd6c635d5 &  4\\\\\n\t fd750dc9b &  2\\\\\n\t fd80dfac4 &  1\\\\\n\t fd89cbc8b &  1\\\\\n\t fd8a6d014 & 13\\\\\n\t fd8cd9fa1 &  5\\\\\n\t fd94bb477 &  2\\\\\n\t fda272904 &  2\\\\\n\t fdb13f946 &  3\\\\\n\t fdb188780 &  1\\\\\n\t fdc5d6c51 &  4\\\\\n\t fdd35c1ca &  1\\\\\n\t fdda791f2 &  3\\\\\n\t fdf19ce0c &  1\\\\\n\t fdf2567db &  3\\\\\n\t fdfb72694 &  1\\\\\n\t fdff0dc28 &  2\\\\\n\t fe2384232 &  2\\\\\n\t fe30320e4 &  1\\\\\n\t fe30c653f &  7\\\\\n\t fe3c1f2dd &  6\\\\\n\t fe4251897 &  4\\\\\n\t fe4c84768 &  3\\\\\n\t fe4fe4ecc &  2\\\\\n\t fe521cbbe &  3\\\\\n\t fe5614212 &  2\\\\\n\t fe7cdd65c &  3\\\\\n\t fe7dbf4cc &  3\\\\\n\t feb080b82 &  1\\\\\n\t feb7c6365 &  4\\\\\n\t fec89ef45 &  2\\\\\n\t feccace39 &  5\\\\\n\t fed4cd160 &  4\\\\\n\t fed6bc0bd &  1\\\\\n\t fef7fd222 &  4\\\\\n\t fef969ad9 &  1\\\\\n\t ff250fd6c &  4\\\\\n\t ff31b984b &  3\\\\\n\t ff38ddef1 &  3\\\\\n\t ff6d16fd0 &  2\\\\\n\t ff703eed4 &  6\\\\\n\t ff9343a35 &  4\\\\\n\t ff9d5ab17 &  3\\\\\n\t ffae4a097 &  2\\\\\n\t ffe90d46f &  4\\\\\n\t fff7d6be1 &  4\\\\\n\\end{tabular}\n",
            "text/markdown": "\nA data.frame: 2988 × 2\n\n| Var1 &lt;fct&gt; | Freq &lt;int&gt; |\n|---|---|\n| 001ff74ca | 2 |\n| 003123ec2 | 4 |\n| 004616164 | 2 |\n| 004983866 | 2 |\n| 005905417 | 3 |\n| 006031de3 | 4 |\n| 006555fe2 | 5 |\n| 00693f597 | 4 |\n| 006b64543 | 2 |\n| 00941f1f4 | 4 |\n| 009ae1cec | 3 |\n| 00e3e05c5 | 3 |\n| 00e443b00 | 1 |\n| 00edc0d0f | 6 |\n| 0108c62b8 | 6 |\n| 013962b12 | 2 |\n| 013e9ee6a | 2 |\n| 0172ab1d9 | 5 |\n| 0194d569d | 1 |\n| 01c6fcb6e | 1 |\n| 01d2e2b0b | 3 |\n| 01ff6a086 | 2 |\n| 020713493 | 1 |\n| 023edfed0 | 3 |\n| 0250e0b59 | 3 |\n| 027651991 | 1 |\n| 029f3d736 | 4 |\n| 02a3da971 | 2 |\n| 02ae50d8f | 2 |\n| 02e9bb4e7 | 3 |\n| 02f34e26c | 6 |\n| 02ff93d1e | 6 |\n| 032d9f940 | 6 |\n| 033c39c5c | 4 |\n| 035bb4b72 | 6 |\n| 0369a5d78 | 3 |\n| 039745cbe | 3 |\n| 03b23f2b1 | 4 |\n| 03c6bdf85 | 2 |\n| 03c78a7a9 | 4 |\n| 03d27346e | 3 |\n| 03f00ec52 | 3 |\n| 03f4e5f4d | 3 |\n| 043cef77c | 2 |\n| 045038655 | 1 |\n| 0473832dd | 4 |\n| 047659c0f | 2 |\n| 048d64af0 | 2 |\n| 04a032c94 | 2 |\n| 04a8915f6 | 6 |\n| 04b02301b | 3 |\n| 04b0f3f3a | 3 |\n| 04d0d0d8f | 4 |\n| 04d8420a2 | 3 |\n| 0511912b6 | 4 |\n| 0519a23f5 | 3 |\n| 051f67b16 | 4 |\n| 052da118c | 1 |\n| 053f09ebb | 1 |\n| 054074f61 | 6 |\n| 0564f49cd | 3 |\n| 0566c116a | 2 |\n| 058a60804 | 4 |\n| 0592dc939 | 7 |\n| 05aef4eec | 5 |\n| 05b0d51e9 | 2 |\n| 05e1d4a10 | 3 |\n| 05e6eeead | 2 |\n| 05eff3d5c | 6 |\n| 060027579 | 3 |\n| 0605671a3 | 3 |\n| 06089482a | 2 |\n| 0609006f6 | 2 |\n| 061f8ffcf | 4 |\n| 06219c98f | 5 |\n| 0626809c8 | 4 |\n| 06325b3e6 | 4 |\n| 0664cd4f0 | 5 |\n| 0667ebc47 | 2 |\n| 066ca7a0a | 2 |\n| 0673a6cf3 | 2 |\n| 06749e51e | 4 |\n| 06804be1b | 5 |\n| 0681b11c9 | 1 |\n| 068a639e5 | 3 |\n| 06ca88023 | 9 |\n| 06dba0576 | 5 |\n| 070cdf915 | 3 |\n| 07102d194 | 5 |\n| 0723fe311 | 3 |\n| 075a0a458 | 4 |\n| 077941bc7 | 4 |\n| 078a0b6e2 | 4 |\n| 078a9a68e | 5 |\n| 07a5de1ba | 3 |\n| 07a6cc87c | 2 |\n| 07b8d09c3 | 3 |\n| 07d417b1c | 5 |\n| 07f016cb5 | 3 |\n| 07f72c01f | 5 |\n| ⋮ | ⋮ |\n| f9480a013 |  1 |\n| f954c1672 |  2 |\n| f95f4c3a5 |  6 |\n| f9634beb0 |  2 |\n| f97932c13 |  4 |\n| f99e7492c |  1 |\n| f9c0a2afc |  2 |\n| f9c2c1a9e |  4 |\n| f9ddb6edf |  1 |\n| f9ddcc4b3 |  3 |\n| f9ee51f96 |  1 |\n| f9f25ae5a |  3 |\n| fa044cfe0 |  2 |\n| fa134e144 |  2 |\n| fa2b66b43 |  3 |\n| fa5c14ce6 |  1 |\n| fa67d6fd5 |  5 |\n| fa9d626f5 |  3 |\n| faa3a287f |  1 |\n| faac4b5ee |  4 |\n| faaebf71a |  2 |\n| fab04b399 |  4 |\n| fabb02be9 |  3 |\n| fabb317fa |  2 |\n| fac1bfb6c |  3 |\n| fade739e1 |  3 |\n| fb3b48508 |  3 |\n| fb45e076a |  3 |\n| fb4e4bed6 |  4 |\n| fb5f0ae6c |  4 |\n| fbd0947cf |  3 |\n| fbe69128f |  2 |\n| fbf43e9b3 |  2 |\n| fc19e7999 |  1 |\n| fc29d47d7 |  7 |\n| fc366202b |  4 |\n| fc54ed70a |  5 |\n| fc6b3afe2 |  5 |\n| fc80ac809 |  4 |\n| fc8ad2380 |  3 |\n| fc96fa541 |  2 |\n| fca2c4361 |  3 |\n| fca58b10c |  1 |\n| fcaaa4204 |  4 |\n| fcceed2b8 |  3 |\n| fcd753529 |  4 |\n| fcf75bab3 |  3 |\n| fd10905bc |  4 |\n| fd22b4607 |  4 |\n| fd2369f80 |  5 |\n| fd40fe01a |  1 |\n| fd53f7161 |  6 |\n| fd63efec3 |  4 |\n| fd69ffc71 |  3 |\n| fd6c635d5 |  4 |\n| fd750dc9b |  2 |\n| fd80dfac4 |  1 |\n| fd89cbc8b |  1 |\n| fd8a6d014 | 13 |\n| fd8cd9fa1 |  5 |\n| fd94bb477 |  2 |\n| fda272904 |  2 |\n| fdb13f946 |  3 |\n| fdb188780 |  1 |\n| fdc5d6c51 |  4 |\n| fdd35c1ca |  1 |\n| fdda791f2 |  3 |\n| fdf19ce0c |  1 |\n| fdf2567db |  3 |\n| fdfb72694 |  1 |\n| fdff0dc28 |  2 |\n| fe2384232 |  2 |\n| fe30320e4 |  1 |\n| fe30c653f |  7 |\n| fe3c1f2dd |  6 |\n| fe4251897 |  4 |\n| fe4c84768 |  3 |\n| fe4fe4ecc |  2 |\n| fe521cbbe |  3 |\n| fe5614212 |  2 |\n| fe7cdd65c |  3 |\n| fe7dbf4cc |  3 |\n| feb080b82 |  1 |\n| feb7c6365 |  4 |\n| fec89ef45 |  2 |\n| feccace39 |  5 |\n| fed4cd160 |  4 |\n| fed6bc0bd |  1 |\n| fef7fd222 |  4 |\n| fef969ad9 |  1 |\n| ff250fd6c |  4 |\n| ff31b984b |  3 |\n| ff38ddef1 |  3 |\n| ff6d16fd0 |  2 |\n| ff703eed4 |  6 |\n| ff9343a35 |  4 |\n| ff9d5ab17 |  3 |\n| ffae4a097 |  2 |\n| ffe90d46f |  4 |\n| fff7d6be1 |  4 |\n\n",
            "text/html": [
              "<table class=\"dataframe\">\n",
              "<caption>A data.frame: 2988 × 2</caption>\n",
              "<thead>\n",
              "\t<tr><th scope=col>Var1</th><th scope=col>Freq</th></tr>\n",
              "\t<tr><th scope=col>&lt;fct&gt;</th><th scope=col>&lt;int&gt;</th></tr>\n",
              "</thead>\n",
              "<tbody>\n",
              "\t<tr><td>001ff74ca</td><td>2</td></tr>\n",
              "\t<tr><td>003123ec2</td><td>4</td></tr>\n",
              "\t<tr><td>004616164</td><td>2</td></tr>\n",
              "\t<tr><td>004983866</td><td>2</td></tr>\n",
              "\t<tr><td>005905417</td><td>3</td></tr>\n",
              "\t<tr><td>006031de3</td><td>4</td></tr>\n",
              "\t<tr><td>006555fe2</td><td>5</td></tr>\n",
              "\t<tr><td>00693f597</td><td>4</td></tr>\n",
              "\t<tr><td>006b64543</td><td>2</td></tr>\n",
              "\t<tr><td>00941f1f4</td><td>4</td></tr>\n",
              "\t<tr><td>009ae1cec</td><td>3</td></tr>\n",
              "\t<tr><td>00e3e05c5</td><td>3</td></tr>\n",
              "\t<tr><td>00e443b00</td><td>1</td></tr>\n",
              "\t<tr><td>00edc0d0f</td><td>6</td></tr>\n",
              "\t<tr><td>0108c62b8</td><td>6</td></tr>\n",
              "\t<tr><td>013962b12</td><td>2</td></tr>\n",
              "\t<tr><td>013e9ee6a</td><td>2</td></tr>\n",
              "\t<tr><td>0172ab1d9</td><td>5</td></tr>\n",
              "\t<tr><td>0194d569d</td><td>1</td></tr>\n",
              "\t<tr><td>01c6fcb6e</td><td>1</td></tr>\n",
              "\t<tr><td>01d2e2b0b</td><td>3</td></tr>\n",
              "\t<tr><td>01ff6a086</td><td>2</td></tr>\n",
              "\t<tr><td>020713493</td><td>1</td></tr>\n",
              "\t<tr><td>023edfed0</td><td>3</td></tr>\n",
              "\t<tr><td>0250e0b59</td><td>3</td></tr>\n",
              "\t<tr><td>027651991</td><td>1</td></tr>\n",
              "\t<tr><td>029f3d736</td><td>4</td></tr>\n",
              "\t<tr><td>02a3da971</td><td>2</td></tr>\n",
              "\t<tr><td>02ae50d8f</td><td>2</td></tr>\n",
              "\t<tr><td>02e9bb4e7</td><td>3</td></tr>\n",
              "\t<tr><td>02f34e26c</td><td>6</td></tr>\n",
              "\t<tr><td>02ff93d1e</td><td>6</td></tr>\n",
              "\t<tr><td>032d9f940</td><td>6</td></tr>\n",
              "\t<tr><td>033c39c5c</td><td>4</td></tr>\n",
              "\t<tr><td>035bb4b72</td><td>6</td></tr>\n",
              "\t<tr><td>0369a5d78</td><td>3</td></tr>\n",
              "\t<tr><td>039745cbe</td><td>3</td></tr>\n",
              "\t<tr><td>03b23f2b1</td><td>4</td></tr>\n",
              "\t<tr><td>03c6bdf85</td><td>2</td></tr>\n",
              "\t<tr><td>03c78a7a9</td><td>4</td></tr>\n",
              "\t<tr><td>03d27346e</td><td>3</td></tr>\n",
              "\t<tr><td>03f00ec52</td><td>3</td></tr>\n",
              "\t<tr><td>03f4e5f4d</td><td>3</td></tr>\n",
              "\t<tr><td>043cef77c</td><td>2</td></tr>\n",
              "\t<tr><td>045038655</td><td>1</td></tr>\n",
              "\t<tr><td>0473832dd</td><td>4</td></tr>\n",
              "\t<tr><td>047659c0f</td><td>2</td></tr>\n",
              "\t<tr><td>048d64af0</td><td>2</td></tr>\n",
              "\t<tr><td>04a032c94</td><td>2</td></tr>\n",
              "\t<tr><td>04a8915f6</td><td>6</td></tr>\n",
              "\t<tr><td>04b02301b</td><td>3</td></tr>\n",
              "\t<tr><td>04b0f3f3a</td><td>3</td></tr>\n",
              "\t<tr><td>04d0d0d8f</td><td>4</td></tr>\n",
              "\t<tr><td>04d8420a2</td><td>3</td></tr>\n",
              "\t<tr><td>0511912b6</td><td>4</td></tr>\n",
              "\t<tr><td>0519a23f5</td><td>3</td></tr>\n",
              "\t<tr><td>051f67b16</td><td>4</td></tr>\n",
              "\t<tr><td>052da118c</td><td>1</td></tr>\n",
              "\t<tr><td>053f09ebb</td><td>1</td></tr>\n",
              "\t<tr><td>054074f61</td><td>6</td></tr>\n",
              "\t<tr><td>0564f49cd</td><td>3</td></tr>\n",
              "\t<tr><td>0566c116a</td><td>2</td></tr>\n",
              "\t<tr><td>058a60804</td><td>4</td></tr>\n",
              "\t<tr><td>0592dc939</td><td>7</td></tr>\n",
              "\t<tr><td>05aef4eec</td><td>5</td></tr>\n",
              "\t<tr><td>05b0d51e9</td><td>2</td></tr>\n",
              "\t<tr><td>05e1d4a10</td><td>3</td></tr>\n",
              "\t<tr><td>05e6eeead</td><td>2</td></tr>\n",
              "\t<tr><td>05eff3d5c</td><td>6</td></tr>\n",
              "\t<tr><td>060027579</td><td>3</td></tr>\n",
              "\t<tr><td>0605671a3</td><td>3</td></tr>\n",
              "\t<tr><td>06089482a</td><td>2</td></tr>\n",
              "\t<tr><td>0609006f6</td><td>2</td></tr>\n",
              "\t<tr><td>061f8ffcf</td><td>4</td></tr>\n",
              "\t<tr><td>06219c98f</td><td>5</td></tr>\n",
              "\t<tr><td>0626809c8</td><td>4</td></tr>\n",
              "\t<tr><td>06325b3e6</td><td>4</td></tr>\n",
              "\t<tr><td>0664cd4f0</td><td>5</td></tr>\n",
              "\t<tr><td>0667ebc47</td><td>2</td></tr>\n",
              "\t<tr><td>066ca7a0a</td><td>2</td></tr>\n",
              "\t<tr><td>0673a6cf3</td><td>2</td></tr>\n",
              "\t<tr><td>06749e51e</td><td>4</td></tr>\n",
              "\t<tr><td>06804be1b</td><td>5</td></tr>\n",
              "\t<tr><td>0681b11c9</td><td>1</td></tr>\n",
              "\t<tr><td>068a639e5</td><td>3</td></tr>\n",
              "\t<tr><td>06ca88023</td><td>9</td></tr>\n",
              "\t<tr><td>06dba0576</td><td>5</td></tr>\n",
              "\t<tr><td>070cdf915</td><td>3</td></tr>\n",
              "\t<tr><td>07102d194</td><td>5</td></tr>\n",
              "\t<tr><td>0723fe311</td><td>3</td></tr>\n",
              "\t<tr><td>075a0a458</td><td>4</td></tr>\n",
              "\t<tr><td>077941bc7</td><td>4</td></tr>\n",
              "\t<tr><td>078a0b6e2</td><td>4</td></tr>\n",
              "\t<tr><td>078a9a68e</td><td>5</td></tr>\n",
              "\t<tr><td>07a5de1ba</td><td>3</td></tr>\n",
              "\t<tr><td>07a6cc87c</td><td>2</td></tr>\n",
              "\t<tr><td>07b8d09c3</td><td>3</td></tr>\n",
              "\t<tr><td>07d417b1c</td><td>5</td></tr>\n",
              "\t<tr><td>07f016cb5</td><td>3</td></tr>\n",
              "\t<tr><td>07f72c01f</td><td>5</td></tr>\n",
              "\t<tr><td>⋮</td><td>⋮</td></tr>\n",
              "\t<tr><td>f9480a013</td><td> 1</td></tr>\n",
              "\t<tr><td>f954c1672</td><td> 2</td></tr>\n",
              "\t<tr><td>f95f4c3a5</td><td> 6</td></tr>\n",
              "\t<tr><td>f9634beb0</td><td> 2</td></tr>\n",
              "\t<tr><td>f97932c13</td><td> 4</td></tr>\n",
              "\t<tr><td>f99e7492c</td><td> 1</td></tr>\n",
              "\t<tr><td>f9c0a2afc</td><td> 2</td></tr>\n",
              "\t<tr><td>f9c2c1a9e</td><td> 4</td></tr>\n",
              "\t<tr><td>f9ddb6edf</td><td> 1</td></tr>\n",
              "\t<tr><td>f9ddcc4b3</td><td> 3</td></tr>\n",
              "\t<tr><td>f9ee51f96</td><td> 1</td></tr>\n",
              "\t<tr><td>f9f25ae5a</td><td> 3</td></tr>\n",
              "\t<tr><td>fa044cfe0</td><td> 2</td></tr>\n",
              "\t<tr><td>fa134e144</td><td> 2</td></tr>\n",
              "\t<tr><td>fa2b66b43</td><td> 3</td></tr>\n",
              "\t<tr><td>fa5c14ce6</td><td> 1</td></tr>\n",
              "\t<tr><td>fa67d6fd5</td><td> 5</td></tr>\n",
              "\t<tr><td>fa9d626f5</td><td> 3</td></tr>\n",
              "\t<tr><td>faa3a287f</td><td> 1</td></tr>\n",
              "\t<tr><td>faac4b5ee</td><td> 4</td></tr>\n",
              "\t<tr><td>faaebf71a</td><td> 2</td></tr>\n",
              "\t<tr><td>fab04b399</td><td> 4</td></tr>\n",
              "\t<tr><td>fabb02be9</td><td> 3</td></tr>\n",
              "\t<tr><td>fabb317fa</td><td> 2</td></tr>\n",
              "\t<tr><td>fac1bfb6c</td><td> 3</td></tr>\n",
              "\t<tr><td>fade739e1</td><td> 3</td></tr>\n",
              "\t<tr><td>fb3b48508</td><td> 3</td></tr>\n",
              "\t<tr><td>fb45e076a</td><td> 3</td></tr>\n",
              "\t<tr><td>fb4e4bed6</td><td> 4</td></tr>\n",
              "\t<tr><td>fb5f0ae6c</td><td> 4</td></tr>\n",
              "\t<tr><td>fbd0947cf</td><td> 3</td></tr>\n",
              "\t<tr><td>fbe69128f</td><td> 2</td></tr>\n",
              "\t<tr><td>fbf43e9b3</td><td> 2</td></tr>\n",
              "\t<tr><td>fc19e7999</td><td> 1</td></tr>\n",
              "\t<tr><td>fc29d47d7</td><td> 7</td></tr>\n",
              "\t<tr><td>fc366202b</td><td> 4</td></tr>\n",
              "\t<tr><td>fc54ed70a</td><td> 5</td></tr>\n",
              "\t<tr><td>fc6b3afe2</td><td> 5</td></tr>\n",
              "\t<tr><td>fc80ac809</td><td> 4</td></tr>\n",
              "\t<tr><td>fc8ad2380</td><td> 3</td></tr>\n",
              "\t<tr><td>fc96fa541</td><td> 2</td></tr>\n",
              "\t<tr><td>fca2c4361</td><td> 3</td></tr>\n",
              "\t<tr><td>fca58b10c</td><td> 1</td></tr>\n",
              "\t<tr><td>fcaaa4204</td><td> 4</td></tr>\n",
              "\t<tr><td>fcceed2b8</td><td> 3</td></tr>\n",
              "\t<tr><td>fcd753529</td><td> 4</td></tr>\n",
              "\t<tr><td>fcf75bab3</td><td> 3</td></tr>\n",
              "\t<tr><td>fd10905bc</td><td> 4</td></tr>\n",
              "\t<tr><td>fd22b4607</td><td> 4</td></tr>\n",
              "\t<tr><td>fd2369f80</td><td> 5</td></tr>\n",
              "\t<tr><td>fd40fe01a</td><td> 1</td></tr>\n",
              "\t<tr><td>fd53f7161</td><td> 6</td></tr>\n",
              "\t<tr><td>fd63efec3</td><td> 4</td></tr>\n",
              "\t<tr><td>fd69ffc71</td><td> 3</td></tr>\n",
              "\t<tr><td>fd6c635d5</td><td> 4</td></tr>\n",
              "\t<tr><td>fd750dc9b</td><td> 2</td></tr>\n",
              "\t<tr><td>fd80dfac4</td><td> 1</td></tr>\n",
              "\t<tr><td>fd89cbc8b</td><td> 1</td></tr>\n",
              "\t<tr><td>fd8a6d014</td><td>13</td></tr>\n",
              "\t<tr><td>fd8cd9fa1</td><td> 5</td></tr>\n",
              "\t<tr><td>fd94bb477</td><td> 2</td></tr>\n",
              "\t<tr><td>fda272904</td><td> 2</td></tr>\n",
              "\t<tr><td>fdb13f946</td><td> 3</td></tr>\n",
              "\t<tr><td>fdb188780</td><td> 1</td></tr>\n",
              "\t<tr><td>fdc5d6c51</td><td> 4</td></tr>\n",
              "\t<tr><td>fdd35c1ca</td><td> 1</td></tr>\n",
              "\t<tr><td>fdda791f2</td><td> 3</td></tr>\n",
              "\t<tr><td>fdf19ce0c</td><td> 1</td></tr>\n",
              "\t<tr><td>fdf2567db</td><td> 3</td></tr>\n",
              "\t<tr><td>fdfb72694</td><td> 1</td></tr>\n",
              "\t<tr><td>fdff0dc28</td><td> 2</td></tr>\n",
              "\t<tr><td>fe2384232</td><td> 2</td></tr>\n",
              "\t<tr><td>fe30320e4</td><td> 1</td></tr>\n",
              "\t<tr><td>fe30c653f</td><td> 7</td></tr>\n",
              "\t<tr><td>fe3c1f2dd</td><td> 6</td></tr>\n",
              "\t<tr><td>fe4251897</td><td> 4</td></tr>\n",
              "\t<tr><td>fe4c84768</td><td> 3</td></tr>\n",
              "\t<tr><td>fe4fe4ecc</td><td> 2</td></tr>\n",
              "\t<tr><td>fe521cbbe</td><td> 3</td></tr>\n",
              "\t<tr><td>fe5614212</td><td> 2</td></tr>\n",
              "\t<tr><td>fe7cdd65c</td><td> 3</td></tr>\n",
              "\t<tr><td>fe7dbf4cc</td><td> 3</td></tr>\n",
              "\t<tr><td>feb080b82</td><td> 1</td></tr>\n",
              "\t<tr><td>feb7c6365</td><td> 4</td></tr>\n",
              "\t<tr><td>fec89ef45</td><td> 2</td></tr>\n",
              "\t<tr><td>feccace39</td><td> 5</td></tr>\n",
              "\t<tr><td>fed4cd160</td><td> 4</td></tr>\n",
              "\t<tr><td>fed6bc0bd</td><td> 1</td></tr>\n",
              "\t<tr><td>fef7fd222</td><td> 4</td></tr>\n",
              "\t<tr><td>fef969ad9</td><td> 1</td></tr>\n",
              "\t<tr><td>ff250fd6c</td><td> 4</td></tr>\n",
              "\t<tr><td>ff31b984b</td><td> 3</td></tr>\n",
              "\t<tr><td>ff38ddef1</td><td> 3</td></tr>\n",
              "\t<tr><td>ff6d16fd0</td><td> 2</td></tr>\n",
              "\t<tr><td>ff703eed4</td><td> 6</td></tr>\n",
              "\t<tr><td>ff9343a35</td><td> 4</td></tr>\n",
              "\t<tr><td>ff9d5ab17</td><td> 3</td></tr>\n",
              "\t<tr><td>ffae4a097</td><td> 2</td></tr>\n",
              "\t<tr><td>ffe90d46f</td><td> 4</td></tr>\n",
              "\t<tr><td>fff7d6be1</td><td> 4</td></tr>\n",
              "</tbody>\n",
              "</table>\n"
            ]
          },
          "metadata": {}
        }
      ]
    },
    {
      "cell_type": "markdown",
      "metadata": {
        "id": "BFJQX7u7cqJu"
      },
      "source": [
        "Too many unique values with small frequencies \n",
        "\n",
        "Implementing label encoding"
      ]
    },
    {
      "cell_type": "code",
      "metadata": {
        "colab": {
          "base_uri": "https://localhost:8080/"
        },
        "id": "1Srly-Qlk09I",
        "outputId": "8ba9382c-36b6-4d0c-ed07-4a02a1e67a7f"
      },
      "source": [
        "install.packages('superml')"
      ],
      "execution_count": 19,
      "outputs": [
        {
          "output_type": "stream",
          "name": "stderr",
          "text": [
            "Installing package into ‘/usr/local/lib/R/site-library’\n",
            "(as ‘lib’ is unspecified)\n",
            "\n"
          ]
        }
      ]
    },
    {
      "cell_type": "code",
      "metadata": {
        "colab": {
          "base_uri": "https://localhost:8080/"
        },
        "id": "cMcN3WWpjgZZ",
        "outputId": "0e2a74e4-7077-44ba-eacb-bfeb4c807289"
      },
      "source": [
        "library(superml)\n",
        "label <- LabelEncoder$new()\n",
        "#print(label$fit(train$idhogar))\n",
        "train$idhogar <- label$fit_transform(train$idhogar)"
      ],
      "execution_count": 20,
      "outputs": [
        {
          "output_type": "stream",
          "name": "stderr",
          "text": [
            "Loading required package: R6\n",
            "\n"
          ]
        }
      ]
    },
    {
      "cell_type": "code",
      "metadata": {
        "colab": {
          "base_uri": "https://localhost:8080/",
          "height": 1000
        },
        "id": "OHAuBQalmRM2",
        "outputId": "9d0ef1e1-8780-4f37-c370-e1f5398052d1"
      },
      "source": [
        "as.data.frame(table(train$idhogar))"
      ],
      "execution_count": 21,
      "outputs": [
        {
          "output_type": "display_data",
          "data": {
            "text/plain": [
              "     Var1 Freq\n",
              "1    0     1  \n",
              "2    1     1  \n",
              "3    2     1  \n",
              "4    3     4  \n",
              "5    4     4  \n",
              "6    5     2  \n",
              "7    6     2  \n",
              "8    7     4  \n",
              "9    8     2  \n",
              "10   9     2  \n",
              "11   10    3  \n",
              "12   11    1  \n",
              "13   12    3  \n",
              "14   13    2  \n",
              "15   14    5  \n",
              "16   15    3  \n",
              "17   16    2  \n",
              "18   17    3  \n",
              "19   18    2  \n",
              "20   19    3  \n",
              "21   20    4  \n",
              "22   21    4  \n",
              "23   22    1  \n",
              "24   23    2  \n",
              "25   24    3  \n",
              "26   25    1  \n",
              "27   26    5  \n",
              "28   27    4  \n",
              "29   28    3  \n",
              "30   29    3  \n",
              "31   30    3  \n",
              "32   31    3  \n",
              "33   32    2  \n",
              "34   33    4  \n",
              "35   34    1  \n",
              "36   35    5  \n",
              "37   36    3  \n",
              "38   37    3  \n",
              "39   38    3  \n",
              "40   39    1  \n",
              "41   40    1  \n",
              "42   41    2  \n",
              "43   42    6  \n",
              "44   43    4  \n",
              "45   44    5  \n",
              "46   45    4  \n",
              "47   46    4  \n",
              "48   47    2  \n",
              "49   48    4  \n",
              "50   49    2  \n",
              "51   50    2  \n",
              "52   51   10  \n",
              "53   52    5  \n",
              "54   53    7  \n",
              "55   54    7  \n",
              "56   55    6  \n",
              "57   56    4  \n",
              "58   57    1  \n",
              "59   58    2  \n",
              "60   59    9  \n",
              "61   60    4  \n",
              "62   61    3  \n",
              "63   62    1  \n",
              "64   63    3  \n",
              "65   64    4  \n",
              "66   65    3  \n",
              "67   66    2  \n",
              "68   67    2  \n",
              "69   68    3  \n",
              "70   69    4  \n",
              "71   70    2  \n",
              "72   71    3  \n",
              "73   72    1  \n",
              "74   73    1  \n",
              "75   74    1  \n",
              "76   75    1  \n",
              "77   76    1  \n",
              "78   77    3  \n",
              "79   78    1  \n",
              "80   79    2  \n",
              "81   80    5  \n",
              "82   81    2  \n",
              "83   82    3  \n",
              "84   83    1  \n",
              "85   84    4  \n",
              "86   85    3  \n",
              "87   86    6  \n",
              "88   87    4  \n",
              "89   88    4  \n",
              "90   89    6  \n",
              "91   90    4  \n",
              "92   91    3  \n",
              "93   92    6  \n",
              "94   93    6  \n",
              "95   94    5  \n",
              "96   95    3  \n",
              "97   96    4  \n",
              "98   97    3  \n",
              "99   98    4  \n",
              "100  99    2  \n",
              "⋮    ⋮    ⋮   \n",
              "2889 2888 1   \n",
              "2890 2889 3   \n",
              "2891 2890 2   \n",
              "2892 2891 4   \n",
              "2893 2892 1   \n",
              "2894 2893 3   \n",
              "2895 2894 1   \n",
              "2896 2895 5   \n",
              "2897 2896 2   \n",
              "2898 2897 2   \n",
              "2899 2898 5   \n",
              "2900 2899 7   \n",
              "2901 2900 3   \n",
              "2902 2901 1   \n",
              "2903 2902 4   \n",
              "2904 2903 1   \n",
              "2905 2904 3   \n",
              "2906 2905 3   \n",
              "2907 2906 1   \n",
              "2908 2907 2   \n",
              "2909 2908 3   \n",
              "2910 2909 6   \n",
              "2911 2910 6   \n",
              "2912 2911 2   \n",
              "2913 2912 5   \n",
              "2914 2913 3   \n",
              "2915 2914 2   \n",
              "2916 2915 3   \n",
              "2917 2916 4   \n",
              "2918 2917 7   \n",
              "2919 2918 2   \n",
              "2920 2919 4   \n",
              "2921 2920 4   \n",
              "2922 2921 4   \n",
              "2923 2922 6   \n",
              "2924 2923 3   \n",
              "2925 2924 3   \n",
              "2926 2925 6   \n",
              "2927 2926 8   \n",
              "2928 2927 3   \n",
              "2929 2928 4   \n",
              "2930 2929 3   \n",
              "2931 2930 5   \n",
              "2932 2931 4   \n",
              "2933 2932 3   \n",
              "2934 2933 2   \n",
              "2935 2934 3   \n",
              "2936 2935 3   \n",
              "2937 2936 3   \n",
              "2938 2937 3   \n",
              "2939 2938 6   \n",
              "2940 2939 3   \n",
              "2941 2940 4   \n",
              "2942 2941 4   \n",
              "2943 2942 2   \n",
              "2944 2943 4   \n",
              "2945 2944 2   \n",
              "2946 2945 2   \n",
              "2947 2946 3   \n",
              "2948 2947 2   \n",
              "2949 2948 7   \n",
              "2950 2949 1   \n",
              "2951 2950 3   \n",
              "2952 2951 1   \n",
              "2953 2952 1   \n",
              "2954 2953 3   \n",
              "2955 2954 3   \n",
              "2956 2955 5   \n",
              "2957 2956 6   \n",
              "2958 2957 1   \n",
              "2959 2958 2   \n",
              "2960 2959 4   \n",
              "2961 2960 2   \n",
              "2962 2961 1   \n",
              "2963 2962 1   \n",
              "2964 2963 3   \n",
              "2965 2964 3   \n",
              "2966 2965 1   \n",
              "2967 2966 4   \n",
              "2968 2967 2   \n",
              "2969 2968 2   \n",
              "2970 2969 1   \n",
              "2971 2970 1   \n",
              "2972 2971 2   \n",
              "2973 2972 2   \n",
              "2974 2973 2   \n",
              "2975 2974 2   \n",
              "2976 2975 3   \n",
              "2977 2976 3   \n",
              "2978 2977 2   \n",
              "2979 2978 4   \n",
              "2980 2979 1   \n",
              "2981 2980 2   \n",
              "2982 2981 3   \n",
              "2983 2982 1   \n",
              "2984 2983 5   \n",
              "2985 2984 5   \n",
              "2986 2985 5   \n",
              "2987 2986 2   \n",
              "2988 2987 5   "
            ],
            "text/latex": "A data.frame: 2988 × 2\n\\begin{tabular}{ll}\n Var1 & Freq\\\\\n <fct> & <int>\\\\\n\\hline\n\t 0  &  1\\\\\n\t 1  &  1\\\\\n\t 2  &  1\\\\\n\t 3  &  4\\\\\n\t 4  &  4\\\\\n\t 5  &  2\\\\\n\t 6  &  2\\\\\n\t 7  &  4\\\\\n\t 8  &  2\\\\\n\t 9  &  2\\\\\n\t 10 &  3\\\\\n\t 11 &  1\\\\\n\t 12 &  3\\\\\n\t 13 &  2\\\\\n\t 14 &  5\\\\\n\t 15 &  3\\\\\n\t 16 &  2\\\\\n\t 17 &  3\\\\\n\t 18 &  2\\\\\n\t 19 &  3\\\\\n\t 20 &  4\\\\\n\t 21 &  4\\\\\n\t 22 &  1\\\\\n\t 23 &  2\\\\\n\t 24 &  3\\\\\n\t 25 &  1\\\\\n\t 26 &  5\\\\\n\t 27 &  4\\\\\n\t 28 &  3\\\\\n\t 29 &  3\\\\\n\t 30 &  3\\\\\n\t 31 &  3\\\\\n\t 32 &  2\\\\\n\t 33 &  4\\\\\n\t 34 &  1\\\\\n\t 35 &  5\\\\\n\t 36 &  3\\\\\n\t 37 &  3\\\\\n\t 38 &  3\\\\\n\t 39 &  1\\\\\n\t 40 &  1\\\\\n\t 41 &  2\\\\\n\t 42 &  6\\\\\n\t 43 &  4\\\\\n\t 44 &  5\\\\\n\t 45 &  4\\\\\n\t 46 &  4\\\\\n\t 47 &  2\\\\\n\t 48 &  4\\\\\n\t 49 &  2\\\\\n\t 50 &  2\\\\\n\t 51 & 10\\\\\n\t 52 &  5\\\\\n\t 53 &  7\\\\\n\t 54 &  7\\\\\n\t 55 &  6\\\\\n\t 56 &  4\\\\\n\t 57 &  1\\\\\n\t 58 &  2\\\\\n\t 59 &  9\\\\\n\t 60 &  4\\\\\n\t 61 &  3\\\\\n\t 62 &  1\\\\\n\t 63 &  3\\\\\n\t 64 &  4\\\\\n\t 65 &  3\\\\\n\t 66 &  2\\\\\n\t 67 &  2\\\\\n\t 68 &  3\\\\\n\t 69 &  4\\\\\n\t 70 &  2\\\\\n\t 71 &  3\\\\\n\t 72 &  1\\\\\n\t 73 &  1\\\\\n\t 74 &  1\\\\\n\t 75 &  1\\\\\n\t 76 &  1\\\\\n\t 77 &  3\\\\\n\t 78 &  1\\\\\n\t 79 &  2\\\\\n\t 80 &  5\\\\\n\t 81 &  2\\\\\n\t 82 &  3\\\\\n\t 83 &  1\\\\\n\t 84 &  4\\\\\n\t 85 &  3\\\\\n\t 86 &  6\\\\\n\t 87 &  4\\\\\n\t 88 &  4\\\\\n\t 89 &  6\\\\\n\t 90 &  4\\\\\n\t 91 &  3\\\\\n\t 92 &  6\\\\\n\t 93 &  6\\\\\n\t 94 &  5\\\\\n\t 95 &  3\\\\\n\t 96 &  4\\\\\n\t 97 &  3\\\\\n\t 98 &  4\\\\\n\t 99 &  2\\\\\n\t ⋮ & ⋮\\\\\n\t 2888 & 1\\\\\n\t 2889 & 3\\\\\n\t 2890 & 2\\\\\n\t 2891 & 4\\\\\n\t 2892 & 1\\\\\n\t 2893 & 3\\\\\n\t 2894 & 1\\\\\n\t 2895 & 5\\\\\n\t 2896 & 2\\\\\n\t 2897 & 2\\\\\n\t 2898 & 5\\\\\n\t 2899 & 7\\\\\n\t 2900 & 3\\\\\n\t 2901 & 1\\\\\n\t 2902 & 4\\\\\n\t 2903 & 1\\\\\n\t 2904 & 3\\\\\n\t 2905 & 3\\\\\n\t 2906 & 1\\\\\n\t 2907 & 2\\\\\n\t 2908 & 3\\\\\n\t 2909 & 6\\\\\n\t 2910 & 6\\\\\n\t 2911 & 2\\\\\n\t 2912 & 5\\\\\n\t 2913 & 3\\\\\n\t 2914 & 2\\\\\n\t 2915 & 3\\\\\n\t 2916 & 4\\\\\n\t 2917 & 7\\\\\n\t 2918 & 2\\\\\n\t 2919 & 4\\\\\n\t 2920 & 4\\\\\n\t 2921 & 4\\\\\n\t 2922 & 6\\\\\n\t 2923 & 3\\\\\n\t 2924 & 3\\\\\n\t 2925 & 6\\\\\n\t 2926 & 8\\\\\n\t 2927 & 3\\\\\n\t 2928 & 4\\\\\n\t 2929 & 3\\\\\n\t 2930 & 5\\\\\n\t 2931 & 4\\\\\n\t 2932 & 3\\\\\n\t 2933 & 2\\\\\n\t 2934 & 3\\\\\n\t 2935 & 3\\\\\n\t 2936 & 3\\\\\n\t 2937 & 3\\\\\n\t 2938 & 6\\\\\n\t 2939 & 3\\\\\n\t 2940 & 4\\\\\n\t 2941 & 4\\\\\n\t 2942 & 2\\\\\n\t 2943 & 4\\\\\n\t 2944 & 2\\\\\n\t 2945 & 2\\\\\n\t 2946 & 3\\\\\n\t 2947 & 2\\\\\n\t 2948 & 7\\\\\n\t 2949 & 1\\\\\n\t 2950 & 3\\\\\n\t 2951 & 1\\\\\n\t 2952 & 1\\\\\n\t 2953 & 3\\\\\n\t 2954 & 3\\\\\n\t 2955 & 5\\\\\n\t 2956 & 6\\\\\n\t 2957 & 1\\\\\n\t 2958 & 2\\\\\n\t 2959 & 4\\\\\n\t 2960 & 2\\\\\n\t 2961 & 1\\\\\n\t 2962 & 1\\\\\n\t 2963 & 3\\\\\n\t 2964 & 3\\\\\n\t 2965 & 1\\\\\n\t 2966 & 4\\\\\n\t 2967 & 2\\\\\n\t 2968 & 2\\\\\n\t 2969 & 1\\\\\n\t 2970 & 1\\\\\n\t 2971 & 2\\\\\n\t 2972 & 2\\\\\n\t 2973 & 2\\\\\n\t 2974 & 2\\\\\n\t 2975 & 3\\\\\n\t 2976 & 3\\\\\n\t 2977 & 2\\\\\n\t 2978 & 4\\\\\n\t 2979 & 1\\\\\n\t 2980 & 2\\\\\n\t 2981 & 3\\\\\n\t 2982 & 1\\\\\n\t 2983 & 5\\\\\n\t 2984 & 5\\\\\n\t 2985 & 5\\\\\n\t 2986 & 2\\\\\n\t 2987 & 5\\\\\n\\end{tabular}\n",
            "text/markdown": "\nA data.frame: 2988 × 2\n\n| Var1 &lt;fct&gt; | Freq &lt;int&gt; |\n|---|---|\n| 0  |  1 |\n| 1  |  1 |\n| 2  |  1 |\n| 3  |  4 |\n| 4  |  4 |\n| 5  |  2 |\n| 6  |  2 |\n| 7  |  4 |\n| 8  |  2 |\n| 9  |  2 |\n| 10 |  3 |\n| 11 |  1 |\n| 12 |  3 |\n| 13 |  2 |\n| 14 |  5 |\n| 15 |  3 |\n| 16 |  2 |\n| 17 |  3 |\n| 18 |  2 |\n| 19 |  3 |\n| 20 |  4 |\n| 21 |  4 |\n| 22 |  1 |\n| 23 |  2 |\n| 24 |  3 |\n| 25 |  1 |\n| 26 |  5 |\n| 27 |  4 |\n| 28 |  3 |\n| 29 |  3 |\n| 30 |  3 |\n| 31 |  3 |\n| 32 |  2 |\n| 33 |  4 |\n| 34 |  1 |\n| 35 |  5 |\n| 36 |  3 |\n| 37 |  3 |\n| 38 |  3 |\n| 39 |  1 |\n| 40 |  1 |\n| 41 |  2 |\n| 42 |  6 |\n| 43 |  4 |\n| 44 |  5 |\n| 45 |  4 |\n| 46 |  4 |\n| 47 |  2 |\n| 48 |  4 |\n| 49 |  2 |\n| 50 |  2 |\n| 51 | 10 |\n| 52 |  5 |\n| 53 |  7 |\n| 54 |  7 |\n| 55 |  6 |\n| 56 |  4 |\n| 57 |  1 |\n| 58 |  2 |\n| 59 |  9 |\n| 60 |  4 |\n| 61 |  3 |\n| 62 |  1 |\n| 63 |  3 |\n| 64 |  4 |\n| 65 |  3 |\n| 66 |  2 |\n| 67 |  2 |\n| 68 |  3 |\n| 69 |  4 |\n| 70 |  2 |\n| 71 |  3 |\n| 72 |  1 |\n| 73 |  1 |\n| 74 |  1 |\n| 75 |  1 |\n| 76 |  1 |\n| 77 |  3 |\n| 78 |  1 |\n| 79 |  2 |\n| 80 |  5 |\n| 81 |  2 |\n| 82 |  3 |\n| 83 |  1 |\n| 84 |  4 |\n| 85 |  3 |\n| 86 |  6 |\n| 87 |  4 |\n| 88 |  4 |\n| 89 |  6 |\n| 90 |  4 |\n| 91 |  3 |\n| 92 |  6 |\n| 93 |  6 |\n| 94 |  5 |\n| 95 |  3 |\n| 96 |  4 |\n| 97 |  3 |\n| 98 |  4 |\n| 99 |  2 |\n| ⋮ | ⋮ |\n| 2888 | 1 |\n| 2889 | 3 |\n| 2890 | 2 |\n| 2891 | 4 |\n| 2892 | 1 |\n| 2893 | 3 |\n| 2894 | 1 |\n| 2895 | 5 |\n| 2896 | 2 |\n| 2897 | 2 |\n| 2898 | 5 |\n| 2899 | 7 |\n| 2900 | 3 |\n| 2901 | 1 |\n| 2902 | 4 |\n| 2903 | 1 |\n| 2904 | 3 |\n| 2905 | 3 |\n| 2906 | 1 |\n| 2907 | 2 |\n| 2908 | 3 |\n| 2909 | 6 |\n| 2910 | 6 |\n| 2911 | 2 |\n| 2912 | 5 |\n| 2913 | 3 |\n| 2914 | 2 |\n| 2915 | 3 |\n| 2916 | 4 |\n| 2917 | 7 |\n| 2918 | 2 |\n| 2919 | 4 |\n| 2920 | 4 |\n| 2921 | 4 |\n| 2922 | 6 |\n| 2923 | 3 |\n| 2924 | 3 |\n| 2925 | 6 |\n| 2926 | 8 |\n| 2927 | 3 |\n| 2928 | 4 |\n| 2929 | 3 |\n| 2930 | 5 |\n| 2931 | 4 |\n| 2932 | 3 |\n| 2933 | 2 |\n| 2934 | 3 |\n| 2935 | 3 |\n| 2936 | 3 |\n| 2937 | 3 |\n| 2938 | 6 |\n| 2939 | 3 |\n| 2940 | 4 |\n| 2941 | 4 |\n| 2942 | 2 |\n| 2943 | 4 |\n| 2944 | 2 |\n| 2945 | 2 |\n| 2946 | 3 |\n| 2947 | 2 |\n| 2948 | 7 |\n| 2949 | 1 |\n| 2950 | 3 |\n| 2951 | 1 |\n| 2952 | 1 |\n| 2953 | 3 |\n| 2954 | 3 |\n| 2955 | 5 |\n| 2956 | 6 |\n| 2957 | 1 |\n| 2958 | 2 |\n| 2959 | 4 |\n| 2960 | 2 |\n| 2961 | 1 |\n| 2962 | 1 |\n| 2963 | 3 |\n| 2964 | 3 |\n| 2965 | 1 |\n| 2966 | 4 |\n| 2967 | 2 |\n| 2968 | 2 |\n| 2969 | 1 |\n| 2970 | 1 |\n| 2971 | 2 |\n| 2972 | 2 |\n| 2973 | 2 |\n| 2974 | 2 |\n| 2975 | 3 |\n| 2976 | 3 |\n| 2977 | 2 |\n| 2978 | 4 |\n| 2979 | 1 |\n| 2980 | 2 |\n| 2981 | 3 |\n| 2982 | 1 |\n| 2983 | 5 |\n| 2984 | 5 |\n| 2985 | 5 |\n| 2986 | 2 |\n| 2987 | 5 |\n\n",
            "text/html": [
              "<table class=\"dataframe\">\n",
              "<caption>A data.frame: 2988 × 2</caption>\n",
              "<thead>\n",
              "\t<tr><th scope=col>Var1</th><th scope=col>Freq</th></tr>\n",
              "\t<tr><th scope=col>&lt;fct&gt;</th><th scope=col>&lt;int&gt;</th></tr>\n",
              "</thead>\n",
              "<tbody>\n",
              "\t<tr><td>0 </td><td> 1</td></tr>\n",
              "\t<tr><td>1 </td><td> 1</td></tr>\n",
              "\t<tr><td>2 </td><td> 1</td></tr>\n",
              "\t<tr><td>3 </td><td> 4</td></tr>\n",
              "\t<tr><td>4 </td><td> 4</td></tr>\n",
              "\t<tr><td>5 </td><td> 2</td></tr>\n",
              "\t<tr><td>6 </td><td> 2</td></tr>\n",
              "\t<tr><td>7 </td><td> 4</td></tr>\n",
              "\t<tr><td>8 </td><td> 2</td></tr>\n",
              "\t<tr><td>9 </td><td> 2</td></tr>\n",
              "\t<tr><td>10</td><td> 3</td></tr>\n",
              "\t<tr><td>11</td><td> 1</td></tr>\n",
              "\t<tr><td>12</td><td> 3</td></tr>\n",
              "\t<tr><td>13</td><td> 2</td></tr>\n",
              "\t<tr><td>14</td><td> 5</td></tr>\n",
              "\t<tr><td>15</td><td> 3</td></tr>\n",
              "\t<tr><td>16</td><td> 2</td></tr>\n",
              "\t<tr><td>17</td><td> 3</td></tr>\n",
              "\t<tr><td>18</td><td> 2</td></tr>\n",
              "\t<tr><td>19</td><td> 3</td></tr>\n",
              "\t<tr><td>20</td><td> 4</td></tr>\n",
              "\t<tr><td>21</td><td> 4</td></tr>\n",
              "\t<tr><td>22</td><td> 1</td></tr>\n",
              "\t<tr><td>23</td><td> 2</td></tr>\n",
              "\t<tr><td>24</td><td> 3</td></tr>\n",
              "\t<tr><td>25</td><td> 1</td></tr>\n",
              "\t<tr><td>26</td><td> 5</td></tr>\n",
              "\t<tr><td>27</td><td> 4</td></tr>\n",
              "\t<tr><td>28</td><td> 3</td></tr>\n",
              "\t<tr><td>29</td><td> 3</td></tr>\n",
              "\t<tr><td>30</td><td> 3</td></tr>\n",
              "\t<tr><td>31</td><td> 3</td></tr>\n",
              "\t<tr><td>32</td><td> 2</td></tr>\n",
              "\t<tr><td>33</td><td> 4</td></tr>\n",
              "\t<tr><td>34</td><td> 1</td></tr>\n",
              "\t<tr><td>35</td><td> 5</td></tr>\n",
              "\t<tr><td>36</td><td> 3</td></tr>\n",
              "\t<tr><td>37</td><td> 3</td></tr>\n",
              "\t<tr><td>38</td><td> 3</td></tr>\n",
              "\t<tr><td>39</td><td> 1</td></tr>\n",
              "\t<tr><td>40</td><td> 1</td></tr>\n",
              "\t<tr><td>41</td><td> 2</td></tr>\n",
              "\t<tr><td>42</td><td> 6</td></tr>\n",
              "\t<tr><td>43</td><td> 4</td></tr>\n",
              "\t<tr><td>44</td><td> 5</td></tr>\n",
              "\t<tr><td>45</td><td> 4</td></tr>\n",
              "\t<tr><td>46</td><td> 4</td></tr>\n",
              "\t<tr><td>47</td><td> 2</td></tr>\n",
              "\t<tr><td>48</td><td> 4</td></tr>\n",
              "\t<tr><td>49</td><td> 2</td></tr>\n",
              "\t<tr><td>50</td><td> 2</td></tr>\n",
              "\t<tr><td>51</td><td>10</td></tr>\n",
              "\t<tr><td>52</td><td> 5</td></tr>\n",
              "\t<tr><td>53</td><td> 7</td></tr>\n",
              "\t<tr><td>54</td><td> 7</td></tr>\n",
              "\t<tr><td>55</td><td> 6</td></tr>\n",
              "\t<tr><td>56</td><td> 4</td></tr>\n",
              "\t<tr><td>57</td><td> 1</td></tr>\n",
              "\t<tr><td>58</td><td> 2</td></tr>\n",
              "\t<tr><td>59</td><td> 9</td></tr>\n",
              "\t<tr><td>60</td><td> 4</td></tr>\n",
              "\t<tr><td>61</td><td> 3</td></tr>\n",
              "\t<tr><td>62</td><td> 1</td></tr>\n",
              "\t<tr><td>63</td><td> 3</td></tr>\n",
              "\t<tr><td>64</td><td> 4</td></tr>\n",
              "\t<tr><td>65</td><td> 3</td></tr>\n",
              "\t<tr><td>66</td><td> 2</td></tr>\n",
              "\t<tr><td>67</td><td> 2</td></tr>\n",
              "\t<tr><td>68</td><td> 3</td></tr>\n",
              "\t<tr><td>69</td><td> 4</td></tr>\n",
              "\t<tr><td>70</td><td> 2</td></tr>\n",
              "\t<tr><td>71</td><td> 3</td></tr>\n",
              "\t<tr><td>72</td><td> 1</td></tr>\n",
              "\t<tr><td>73</td><td> 1</td></tr>\n",
              "\t<tr><td>74</td><td> 1</td></tr>\n",
              "\t<tr><td>75</td><td> 1</td></tr>\n",
              "\t<tr><td>76</td><td> 1</td></tr>\n",
              "\t<tr><td>77</td><td> 3</td></tr>\n",
              "\t<tr><td>78</td><td> 1</td></tr>\n",
              "\t<tr><td>79</td><td> 2</td></tr>\n",
              "\t<tr><td>80</td><td> 5</td></tr>\n",
              "\t<tr><td>81</td><td> 2</td></tr>\n",
              "\t<tr><td>82</td><td> 3</td></tr>\n",
              "\t<tr><td>83</td><td> 1</td></tr>\n",
              "\t<tr><td>84</td><td> 4</td></tr>\n",
              "\t<tr><td>85</td><td> 3</td></tr>\n",
              "\t<tr><td>86</td><td> 6</td></tr>\n",
              "\t<tr><td>87</td><td> 4</td></tr>\n",
              "\t<tr><td>88</td><td> 4</td></tr>\n",
              "\t<tr><td>89</td><td> 6</td></tr>\n",
              "\t<tr><td>90</td><td> 4</td></tr>\n",
              "\t<tr><td>91</td><td> 3</td></tr>\n",
              "\t<tr><td>92</td><td> 6</td></tr>\n",
              "\t<tr><td>93</td><td> 6</td></tr>\n",
              "\t<tr><td>94</td><td> 5</td></tr>\n",
              "\t<tr><td>95</td><td> 3</td></tr>\n",
              "\t<tr><td>96</td><td> 4</td></tr>\n",
              "\t<tr><td>97</td><td> 3</td></tr>\n",
              "\t<tr><td>98</td><td> 4</td></tr>\n",
              "\t<tr><td>99</td><td> 2</td></tr>\n",
              "\t<tr><td>⋮</td><td>⋮</td></tr>\n",
              "\t<tr><td>2888</td><td>1</td></tr>\n",
              "\t<tr><td>2889</td><td>3</td></tr>\n",
              "\t<tr><td>2890</td><td>2</td></tr>\n",
              "\t<tr><td>2891</td><td>4</td></tr>\n",
              "\t<tr><td>2892</td><td>1</td></tr>\n",
              "\t<tr><td>2893</td><td>3</td></tr>\n",
              "\t<tr><td>2894</td><td>1</td></tr>\n",
              "\t<tr><td>2895</td><td>5</td></tr>\n",
              "\t<tr><td>2896</td><td>2</td></tr>\n",
              "\t<tr><td>2897</td><td>2</td></tr>\n",
              "\t<tr><td>2898</td><td>5</td></tr>\n",
              "\t<tr><td>2899</td><td>7</td></tr>\n",
              "\t<tr><td>2900</td><td>3</td></tr>\n",
              "\t<tr><td>2901</td><td>1</td></tr>\n",
              "\t<tr><td>2902</td><td>4</td></tr>\n",
              "\t<tr><td>2903</td><td>1</td></tr>\n",
              "\t<tr><td>2904</td><td>3</td></tr>\n",
              "\t<tr><td>2905</td><td>3</td></tr>\n",
              "\t<tr><td>2906</td><td>1</td></tr>\n",
              "\t<tr><td>2907</td><td>2</td></tr>\n",
              "\t<tr><td>2908</td><td>3</td></tr>\n",
              "\t<tr><td>2909</td><td>6</td></tr>\n",
              "\t<tr><td>2910</td><td>6</td></tr>\n",
              "\t<tr><td>2911</td><td>2</td></tr>\n",
              "\t<tr><td>2912</td><td>5</td></tr>\n",
              "\t<tr><td>2913</td><td>3</td></tr>\n",
              "\t<tr><td>2914</td><td>2</td></tr>\n",
              "\t<tr><td>2915</td><td>3</td></tr>\n",
              "\t<tr><td>2916</td><td>4</td></tr>\n",
              "\t<tr><td>2917</td><td>7</td></tr>\n",
              "\t<tr><td>2918</td><td>2</td></tr>\n",
              "\t<tr><td>2919</td><td>4</td></tr>\n",
              "\t<tr><td>2920</td><td>4</td></tr>\n",
              "\t<tr><td>2921</td><td>4</td></tr>\n",
              "\t<tr><td>2922</td><td>6</td></tr>\n",
              "\t<tr><td>2923</td><td>3</td></tr>\n",
              "\t<tr><td>2924</td><td>3</td></tr>\n",
              "\t<tr><td>2925</td><td>6</td></tr>\n",
              "\t<tr><td>2926</td><td>8</td></tr>\n",
              "\t<tr><td>2927</td><td>3</td></tr>\n",
              "\t<tr><td>2928</td><td>4</td></tr>\n",
              "\t<tr><td>2929</td><td>3</td></tr>\n",
              "\t<tr><td>2930</td><td>5</td></tr>\n",
              "\t<tr><td>2931</td><td>4</td></tr>\n",
              "\t<tr><td>2932</td><td>3</td></tr>\n",
              "\t<tr><td>2933</td><td>2</td></tr>\n",
              "\t<tr><td>2934</td><td>3</td></tr>\n",
              "\t<tr><td>2935</td><td>3</td></tr>\n",
              "\t<tr><td>2936</td><td>3</td></tr>\n",
              "\t<tr><td>2937</td><td>3</td></tr>\n",
              "\t<tr><td>2938</td><td>6</td></tr>\n",
              "\t<tr><td>2939</td><td>3</td></tr>\n",
              "\t<tr><td>2940</td><td>4</td></tr>\n",
              "\t<tr><td>2941</td><td>4</td></tr>\n",
              "\t<tr><td>2942</td><td>2</td></tr>\n",
              "\t<tr><td>2943</td><td>4</td></tr>\n",
              "\t<tr><td>2944</td><td>2</td></tr>\n",
              "\t<tr><td>2945</td><td>2</td></tr>\n",
              "\t<tr><td>2946</td><td>3</td></tr>\n",
              "\t<tr><td>2947</td><td>2</td></tr>\n",
              "\t<tr><td>2948</td><td>7</td></tr>\n",
              "\t<tr><td>2949</td><td>1</td></tr>\n",
              "\t<tr><td>2950</td><td>3</td></tr>\n",
              "\t<tr><td>2951</td><td>1</td></tr>\n",
              "\t<tr><td>2952</td><td>1</td></tr>\n",
              "\t<tr><td>2953</td><td>3</td></tr>\n",
              "\t<tr><td>2954</td><td>3</td></tr>\n",
              "\t<tr><td>2955</td><td>5</td></tr>\n",
              "\t<tr><td>2956</td><td>6</td></tr>\n",
              "\t<tr><td>2957</td><td>1</td></tr>\n",
              "\t<tr><td>2958</td><td>2</td></tr>\n",
              "\t<tr><td>2959</td><td>4</td></tr>\n",
              "\t<tr><td>2960</td><td>2</td></tr>\n",
              "\t<tr><td>2961</td><td>1</td></tr>\n",
              "\t<tr><td>2962</td><td>1</td></tr>\n",
              "\t<tr><td>2963</td><td>3</td></tr>\n",
              "\t<tr><td>2964</td><td>3</td></tr>\n",
              "\t<tr><td>2965</td><td>1</td></tr>\n",
              "\t<tr><td>2966</td><td>4</td></tr>\n",
              "\t<tr><td>2967</td><td>2</td></tr>\n",
              "\t<tr><td>2968</td><td>2</td></tr>\n",
              "\t<tr><td>2969</td><td>1</td></tr>\n",
              "\t<tr><td>2970</td><td>1</td></tr>\n",
              "\t<tr><td>2971</td><td>2</td></tr>\n",
              "\t<tr><td>2972</td><td>2</td></tr>\n",
              "\t<tr><td>2973</td><td>2</td></tr>\n",
              "\t<tr><td>2974</td><td>2</td></tr>\n",
              "\t<tr><td>2975</td><td>3</td></tr>\n",
              "\t<tr><td>2976</td><td>3</td></tr>\n",
              "\t<tr><td>2977</td><td>2</td></tr>\n",
              "\t<tr><td>2978</td><td>4</td></tr>\n",
              "\t<tr><td>2979</td><td>1</td></tr>\n",
              "\t<tr><td>2980</td><td>2</td></tr>\n",
              "\t<tr><td>2981</td><td>3</td></tr>\n",
              "\t<tr><td>2982</td><td>1</td></tr>\n",
              "\t<tr><td>2983</td><td>5</td></tr>\n",
              "\t<tr><td>2984</td><td>5</td></tr>\n",
              "\t<tr><td>2985</td><td>5</td></tr>\n",
              "\t<tr><td>2986</td><td>2</td></tr>\n",
              "\t<tr><td>2987</td><td>5</td></tr>\n",
              "</tbody>\n",
              "</table>\n"
            ]
          },
          "metadata": {}
        }
      ]
    },
    {
      "cell_type": "code",
      "metadata": {
        "colab": {
          "base_uri": "https://localhost:8080/",
          "height": 1000
        },
        "id": "5p9JBzDPB-f1",
        "outputId": "5a730220-3fb7-446b-c17a-43c13e4414c2"
      },
      "source": [
        "as.data.frame(table(train$dependency))"
      ],
      "execution_count": 22,
      "outputs": [
        {
          "output_type": "display_data",
          "data": {
            "text/plain": [
              "   Var1      Freq\n",
              "1  .16666667    7\n",
              "2  .2          90\n",
              "3  .22222222   11\n",
              "4  .25        260\n",
              "5  .2857143     9\n",
              "6  .33333334  598\n",
              "7  .40000001   84\n",
              "8  .5        1497\n",
              "9  .60000002    8\n",
              "10 .66666669  487\n",
              "11 .71428573   12\n",
              "12 .75         98\n",
              "13 .80000001   18\n",
              "14 .83333331   11\n",
              "15 1.2         11\n",
              "16 1.25        18\n",
              "17 1.3333334   84\n",
              "18 1.5        713\n",
              "19 1.6666666    8\n",
              "20 1.75        11\n",
              "21 2          730\n",
              "22 2.25        13\n",
              "23 2.5         77\n",
              "24 3          236\n",
              "25 3.5         18\n",
              "26 4          100\n",
              "27 5           24\n",
              "28 6            7\n",
              "29 8          378\n",
              "30 no        1747\n",
              "31 yes       2192"
            ],
            "text/latex": "A data.frame: 31 × 2\n\\begin{tabular}{ll}\n Var1 & Freq\\\\\n <fct> & <int>\\\\\n\\hline\n\t .16666667 &    7\\\\\n\t .2        &   90\\\\\n\t .22222222 &   11\\\\\n\t .25       &  260\\\\\n\t .2857143  &    9\\\\\n\t .33333334 &  598\\\\\n\t .40000001 &   84\\\\\n\t .5        & 1497\\\\\n\t .60000002 &    8\\\\\n\t .66666669 &  487\\\\\n\t .71428573 &   12\\\\\n\t .75       &   98\\\\\n\t .80000001 &   18\\\\\n\t .83333331 &   11\\\\\n\t 1.2       &   11\\\\\n\t 1.25      &   18\\\\\n\t 1.3333334 &   84\\\\\n\t 1.5       &  713\\\\\n\t 1.6666666 &    8\\\\\n\t 1.75      &   11\\\\\n\t 2         &  730\\\\\n\t 2.25      &   13\\\\\n\t 2.5       &   77\\\\\n\t 3         &  236\\\\\n\t 3.5       &   18\\\\\n\t 4         &  100\\\\\n\t 5         &   24\\\\\n\t 6         &    7\\\\\n\t 8         &  378\\\\\n\t no        & 1747\\\\\n\t yes       & 2192\\\\\n\\end{tabular}\n",
            "text/markdown": "\nA data.frame: 31 × 2\n\n| Var1 &lt;fct&gt; | Freq &lt;int&gt; |\n|---|---|\n| .16666667 |    7 |\n| .2        |   90 |\n| .22222222 |   11 |\n| .25       |  260 |\n| .2857143  |    9 |\n| .33333334 |  598 |\n| .40000001 |   84 |\n| .5        | 1497 |\n| .60000002 |    8 |\n| .66666669 |  487 |\n| .71428573 |   12 |\n| .75       |   98 |\n| .80000001 |   18 |\n| .83333331 |   11 |\n| 1.2       |   11 |\n| 1.25      |   18 |\n| 1.3333334 |   84 |\n| 1.5       |  713 |\n| 1.6666666 |    8 |\n| 1.75      |   11 |\n| 2         |  730 |\n| 2.25      |   13 |\n| 2.5       |   77 |\n| 3         |  236 |\n| 3.5       |   18 |\n| 4         |  100 |\n| 5         |   24 |\n| 6         |    7 |\n| 8         |  378 |\n| no        | 1747 |\n| yes       | 2192 |\n\n",
            "text/html": [
              "<table class=\"dataframe\">\n",
              "<caption>A data.frame: 31 × 2</caption>\n",
              "<thead>\n",
              "\t<tr><th scope=col>Var1</th><th scope=col>Freq</th></tr>\n",
              "\t<tr><th scope=col>&lt;fct&gt;</th><th scope=col>&lt;int&gt;</th></tr>\n",
              "</thead>\n",
              "<tbody>\n",
              "\t<tr><td>.16666667</td><td>   7</td></tr>\n",
              "\t<tr><td>.2       </td><td>  90</td></tr>\n",
              "\t<tr><td>.22222222</td><td>  11</td></tr>\n",
              "\t<tr><td>.25      </td><td> 260</td></tr>\n",
              "\t<tr><td>.2857143 </td><td>   9</td></tr>\n",
              "\t<tr><td>.33333334</td><td> 598</td></tr>\n",
              "\t<tr><td>.40000001</td><td>  84</td></tr>\n",
              "\t<tr><td>.5       </td><td>1497</td></tr>\n",
              "\t<tr><td>.60000002</td><td>   8</td></tr>\n",
              "\t<tr><td>.66666669</td><td> 487</td></tr>\n",
              "\t<tr><td>.71428573</td><td>  12</td></tr>\n",
              "\t<tr><td>.75      </td><td>  98</td></tr>\n",
              "\t<tr><td>.80000001</td><td>  18</td></tr>\n",
              "\t<tr><td>.83333331</td><td>  11</td></tr>\n",
              "\t<tr><td>1.2      </td><td>  11</td></tr>\n",
              "\t<tr><td>1.25     </td><td>  18</td></tr>\n",
              "\t<tr><td>1.3333334</td><td>  84</td></tr>\n",
              "\t<tr><td>1.5      </td><td> 713</td></tr>\n",
              "\t<tr><td>1.6666666</td><td>   8</td></tr>\n",
              "\t<tr><td>1.75     </td><td>  11</td></tr>\n",
              "\t<tr><td>2        </td><td> 730</td></tr>\n",
              "\t<tr><td>2.25     </td><td>  13</td></tr>\n",
              "\t<tr><td>2.5      </td><td>  77</td></tr>\n",
              "\t<tr><td>3        </td><td> 236</td></tr>\n",
              "\t<tr><td>3.5      </td><td>  18</td></tr>\n",
              "\t<tr><td>4        </td><td> 100</td></tr>\n",
              "\t<tr><td>5        </td><td>  24</td></tr>\n",
              "\t<tr><td>6        </td><td>   7</td></tr>\n",
              "\t<tr><td>8        </td><td> 378</td></tr>\n",
              "\t<tr><td>no       </td><td>1747</td></tr>\n",
              "\t<tr><td>yes      </td><td>2192</td></tr>\n",
              "</tbody>\n",
              "</table>\n"
            ]
          },
          "metadata": {}
        }
      ]
    },
    {
      "cell_type": "code",
      "metadata": {
        "colab": {
          "base_uri": "https://localhost:8080/",
          "height": 791
        },
        "id": "fB1RSx1TC02N",
        "outputId": "164fcb5a-1ac8-4371-ba32-4f2e40200026"
      },
      "source": [
        "as.data.frame(table(train$edjefe))"
      ],
      "execution_count": 23,
      "outputs": [
        {
          "output_type": "display_data",
          "data": {
            "text/plain": [
              "   Var1 Freq\n",
              "1  10    111\n",
              "2  11    751\n",
              "3  12    113\n",
              "4  13    103\n",
              "5  14    208\n",
              "6  15    285\n",
              "7  16    134\n",
              "8  17    202\n",
              "9  18     19\n",
              "10 19     14\n",
              "11 2     194\n",
              "12 20      7\n",
              "13 21     43\n",
              "14 3     307\n",
              "15 4     137\n",
              "16 5     222\n",
              "17 6    1845\n",
              "18 7     234\n",
              "19 8     257\n",
              "20 9     486\n",
              "21 no   3762\n",
              "22 yes   123"
            ],
            "text/latex": "A data.frame: 22 × 2\n\\begin{tabular}{ll}\n Var1 & Freq\\\\\n <fct> & <int>\\\\\n\\hline\n\t 10  &  111\\\\\n\t 11  &  751\\\\\n\t 12  &  113\\\\\n\t 13  &  103\\\\\n\t 14  &  208\\\\\n\t 15  &  285\\\\\n\t 16  &  134\\\\\n\t 17  &  202\\\\\n\t 18  &   19\\\\\n\t 19  &   14\\\\\n\t 2   &  194\\\\\n\t 20  &    7\\\\\n\t 21  &   43\\\\\n\t 3   &  307\\\\\n\t 4   &  137\\\\\n\t 5   &  222\\\\\n\t 6   & 1845\\\\\n\t 7   &  234\\\\\n\t 8   &  257\\\\\n\t 9   &  486\\\\\n\t no  & 3762\\\\\n\t yes &  123\\\\\n\\end{tabular}\n",
            "text/markdown": "\nA data.frame: 22 × 2\n\n| Var1 &lt;fct&gt; | Freq &lt;int&gt; |\n|---|---|\n| 10  |  111 |\n| 11  |  751 |\n| 12  |  113 |\n| 13  |  103 |\n| 14  |  208 |\n| 15  |  285 |\n| 16  |  134 |\n| 17  |  202 |\n| 18  |   19 |\n| 19  |   14 |\n| 2   |  194 |\n| 20  |    7 |\n| 21  |   43 |\n| 3   |  307 |\n| 4   |  137 |\n| 5   |  222 |\n| 6   | 1845 |\n| 7   |  234 |\n| 8   |  257 |\n| 9   |  486 |\n| no  | 3762 |\n| yes |  123 |\n\n",
            "text/html": [
              "<table class=\"dataframe\">\n",
              "<caption>A data.frame: 22 × 2</caption>\n",
              "<thead>\n",
              "\t<tr><th scope=col>Var1</th><th scope=col>Freq</th></tr>\n",
              "\t<tr><th scope=col>&lt;fct&gt;</th><th scope=col>&lt;int&gt;</th></tr>\n",
              "</thead>\n",
              "<tbody>\n",
              "\t<tr><td>10 </td><td> 111</td></tr>\n",
              "\t<tr><td>11 </td><td> 751</td></tr>\n",
              "\t<tr><td>12 </td><td> 113</td></tr>\n",
              "\t<tr><td>13 </td><td> 103</td></tr>\n",
              "\t<tr><td>14 </td><td> 208</td></tr>\n",
              "\t<tr><td>15 </td><td> 285</td></tr>\n",
              "\t<tr><td>16 </td><td> 134</td></tr>\n",
              "\t<tr><td>17 </td><td> 202</td></tr>\n",
              "\t<tr><td>18 </td><td>  19</td></tr>\n",
              "\t<tr><td>19 </td><td>  14</td></tr>\n",
              "\t<tr><td>2  </td><td> 194</td></tr>\n",
              "\t<tr><td>20 </td><td>   7</td></tr>\n",
              "\t<tr><td>21 </td><td>  43</td></tr>\n",
              "\t<tr><td>3  </td><td> 307</td></tr>\n",
              "\t<tr><td>4  </td><td> 137</td></tr>\n",
              "\t<tr><td>5  </td><td> 222</td></tr>\n",
              "\t<tr><td>6  </td><td>1845</td></tr>\n",
              "\t<tr><td>7  </td><td> 234</td></tr>\n",
              "\t<tr><td>8  </td><td> 257</td></tr>\n",
              "\t<tr><td>9  </td><td> 486</td></tr>\n",
              "\t<tr><td>no </td><td>3762</td></tr>\n",
              "\t<tr><td>yes</td><td> 123</td></tr>\n",
              "</tbody>\n",
              "</table>\n"
            ]
          },
          "metadata": {}
        }
      ]
    },
    {
      "cell_type": "code",
      "metadata": {
        "colab": {
          "base_uri": "https://localhost:8080/",
          "height": 791
        },
        "id": "bmDUqRsfDOVB",
        "outputId": "95718959-39fc-464f-9ea0-30b312eda4e9"
      },
      "source": [
        "as.data.frame(table(train$edjefa))"
      ],
      "execution_count": 24,
      "outputs": [
        {
          "output_type": "display_data",
          "data": {
            "text/plain": [
              "   Var1 Freq\n",
              "1  10     96\n",
              "2  11    399\n",
              "3  12     72\n",
              "4  13     52\n",
              "5  14    120\n",
              "6  15    188\n",
              "7  16    113\n",
              "8  17     76\n",
              "9  18      3\n",
              "10 19      4\n",
              "11 2      84\n",
              "12 20      2\n",
              "13 21      5\n",
              "14 3     152\n",
              "15 4     136\n",
              "16 5     176\n",
              "17 6     947\n",
              "18 7     179\n",
              "19 8     217\n",
              "20 9     237\n",
              "21 no   6230\n",
              "22 yes    69"
            ],
            "text/latex": "A data.frame: 22 × 2\n\\begin{tabular}{ll}\n Var1 & Freq\\\\\n <fct> & <int>\\\\\n\\hline\n\t 10  &   96\\\\\n\t 11  &  399\\\\\n\t 12  &   72\\\\\n\t 13  &   52\\\\\n\t 14  &  120\\\\\n\t 15  &  188\\\\\n\t 16  &  113\\\\\n\t 17  &   76\\\\\n\t 18  &    3\\\\\n\t 19  &    4\\\\\n\t 2   &   84\\\\\n\t 20  &    2\\\\\n\t 21  &    5\\\\\n\t 3   &  152\\\\\n\t 4   &  136\\\\\n\t 5   &  176\\\\\n\t 6   &  947\\\\\n\t 7   &  179\\\\\n\t 8   &  217\\\\\n\t 9   &  237\\\\\n\t no  & 6230\\\\\n\t yes &   69\\\\\n\\end{tabular}\n",
            "text/markdown": "\nA data.frame: 22 × 2\n\n| Var1 &lt;fct&gt; | Freq &lt;int&gt; |\n|---|---|\n| 10  |   96 |\n| 11  |  399 |\n| 12  |   72 |\n| 13  |   52 |\n| 14  |  120 |\n| 15  |  188 |\n| 16  |  113 |\n| 17  |   76 |\n| 18  |    3 |\n| 19  |    4 |\n| 2   |   84 |\n| 20  |    2 |\n| 21  |    5 |\n| 3   |  152 |\n| 4   |  136 |\n| 5   |  176 |\n| 6   |  947 |\n| 7   |  179 |\n| 8   |  217 |\n| 9   |  237 |\n| no  | 6230 |\n| yes |   69 |\n\n",
            "text/html": [
              "<table class=\"dataframe\">\n",
              "<caption>A data.frame: 22 × 2</caption>\n",
              "<thead>\n",
              "\t<tr><th scope=col>Var1</th><th scope=col>Freq</th></tr>\n",
              "\t<tr><th scope=col>&lt;fct&gt;</th><th scope=col>&lt;int&gt;</th></tr>\n",
              "</thead>\n",
              "<tbody>\n",
              "\t<tr><td>10 </td><td>  96</td></tr>\n",
              "\t<tr><td>11 </td><td> 399</td></tr>\n",
              "\t<tr><td>12 </td><td>  72</td></tr>\n",
              "\t<tr><td>13 </td><td>  52</td></tr>\n",
              "\t<tr><td>14 </td><td> 120</td></tr>\n",
              "\t<tr><td>15 </td><td> 188</td></tr>\n",
              "\t<tr><td>16 </td><td> 113</td></tr>\n",
              "\t<tr><td>17 </td><td>  76</td></tr>\n",
              "\t<tr><td>18 </td><td>   3</td></tr>\n",
              "\t<tr><td>19 </td><td>   4</td></tr>\n",
              "\t<tr><td>2  </td><td>  84</td></tr>\n",
              "\t<tr><td>20 </td><td>   2</td></tr>\n",
              "\t<tr><td>21 </td><td>   5</td></tr>\n",
              "\t<tr><td>3  </td><td> 152</td></tr>\n",
              "\t<tr><td>4  </td><td> 136</td></tr>\n",
              "\t<tr><td>5  </td><td> 176</td></tr>\n",
              "\t<tr><td>6  </td><td> 947</td></tr>\n",
              "\t<tr><td>7  </td><td> 179</td></tr>\n",
              "\t<tr><td>8  </td><td> 217</td></tr>\n",
              "\t<tr><td>9  </td><td> 237</td></tr>\n",
              "\t<tr><td>no </td><td>6230</td></tr>\n",
              "\t<tr><td>yes</td><td>  69</td></tr>\n",
              "</tbody>\n",
              "</table>\n"
            ]
          },
          "metadata": {}
        }
      ]
    },
    {
      "cell_type": "markdown",
      "metadata": {
        "id": "eIXmDucDDSTl"
      },
      "source": [
        "For 'dependency', 'edjefe', 'edjefa' : replace 'no' with zero and 'yes' with median value"
      ]
    },
    {
      "cell_type": "code",
      "metadata": {
        "colab": {
          "base_uri": "https://localhost:8080/",
          "height": 1000
        },
        "id": "I2Zh_MFEFYCV",
        "outputId": "dc0649d0-ed1c-4e16-8ad9-9393b4063f51"
      },
      "source": [
        "train$dependency[train$dependency == 'no'] = 0\n",
        "train$dependency[train$dependency == 'yes'] = median(train$dependency)\n",
        "as.data.frame(table(train$dependency))"
      ],
      "execution_count": 25,
      "outputs": [
        {
          "output_type": "display_data",
          "data": {
            "text/plain": [
              "   Var1      Freq\n",
              "1  .16666667    7\n",
              "2  .2          90\n",
              "3  .22222222   11\n",
              "4  .25        260\n",
              "5  .2857143     9\n",
              "6  .33333334  598\n",
              "7  .40000001   84\n",
              "8  .5        1497\n",
              "9  .60000002    8\n",
              "10 .66666669  487\n",
              "11 .71428573   12\n",
              "12 .75         98\n",
              "13 .80000001   18\n",
              "14 .83333331   11\n",
              "15 0         3939\n",
              "16 1.2         11\n",
              "17 1.25        18\n",
              "18 1.3333334   84\n",
              "19 1.5        713\n",
              "20 1.6666666    8\n",
              "21 1.75        11\n",
              "22 2          730\n",
              "23 2.25        13\n",
              "24 2.5         77\n",
              "25 3          236\n",
              "26 3.5         18\n",
              "27 4          100\n",
              "28 5           24\n",
              "29 6            7\n",
              "30 8          378"
            ],
            "text/latex": "A data.frame: 30 × 2\n\\begin{tabular}{ll}\n Var1 & Freq\\\\\n <fct> & <int>\\\\\n\\hline\n\t .16666667 &    7\\\\\n\t .2        &   90\\\\\n\t .22222222 &   11\\\\\n\t .25       &  260\\\\\n\t .2857143  &    9\\\\\n\t .33333334 &  598\\\\\n\t .40000001 &   84\\\\\n\t .5        & 1497\\\\\n\t .60000002 &    8\\\\\n\t .66666669 &  487\\\\\n\t .71428573 &   12\\\\\n\t .75       &   98\\\\\n\t .80000001 &   18\\\\\n\t .83333331 &   11\\\\\n\t 0         & 3939\\\\\n\t 1.2       &   11\\\\\n\t 1.25      &   18\\\\\n\t 1.3333334 &   84\\\\\n\t 1.5       &  713\\\\\n\t 1.6666666 &    8\\\\\n\t 1.75      &   11\\\\\n\t 2         &  730\\\\\n\t 2.25      &   13\\\\\n\t 2.5       &   77\\\\\n\t 3         &  236\\\\\n\t 3.5       &   18\\\\\n\t 4         &  100\\\\\n\t 5         &   24\\\\\n\t 6         &    7\\\\\n\t 8         &  378\\\\\n\\end{tabular}\n",
            "text/markdown": "\nA data.frame: 30 × 2\n\n| Var1 &lt;fct&gt; | Freq &lt;int&gt; |\n|---|---|\n| .16666667 |    7 |\n| .2        |   90 |\n| .22222222 |   11 |\n| .25       |  260 |\n| .2857143  |    9 |\n| .33333334 |  598 |\n| .40000001 |   84 |\n| .5        | 1497 |\n| .60000002 |    8 |\n| .66666669 |  487 |\n| .71428573 |   12 |\n| .75       |   98 |\n| .80000001 |   18 |\n| .83333331 |   11 |\n| 0         | 3939 |\n| 1.2       |   11 |\n| 1.25      |   18 |\n| 1.3333334 |   84 |\n| 1.5       |  713 |\n| 1.6666666 |    8 |\n| 1.75      |   11 |\n| 2         |  730 |\n| 2.25      |   13 |\n| 2.5       |   77 |\n| 3         |  236 |\n| 3.5       |   18 |\n| 4         |  100 |\n| 5         |   24 |\n| 6         |    7 |\n| 8         |  378 |\n\n",
            "text/html": [
              "<table class=\"dataframe\">\n",
              "<caption>A data.frame: 30 × 2</caption>\n",
              "<thead>\n",
              "\t<tr><th scope=col>Var1</th><th scope=col>Freq</th></tr>\n",
              "\t<tr><th scope=col>&lt;fct&gt;</th><th scope=col>&lt;int&gt;</th></tr>\n",
              "</thead>\n",
              "<tbody>\n",
              "\t<tr><td>.16666667</td><td>   7</td></tr>\n",
              "\t<tr><td>.2       </td><td>  90</td></tr>\n",
              "\t<tr><td>.22222222</td><td>  11</td></tr>\n",
              "\t<tr><td>.25      </td><td> 260</td></tr>\n",
              "\t<tr><td>.2857143 </td><td>   9</td></tr>\n",
              "\t<tr><td>.33333334</td><td> 598</td></tr>\n",
              "\t<tr><td>.40000001</td><td>  84</td></tr>\n",
              "\t<tr><td>.5       </td><td>1497</td></tr>\n",
              "\t<tr><td>.60000002</td><td>   8</td></tr>\n",
              "\t<tr><td>.66666669</td><td> 487</td></tr>\n",
              "\t<tr><td>.71428573</td><td>  12</td></tr>\n",
              "\t<tr><td>.75      </td><td>  98</td></tr>\n",
              "\t<tr><td>.80000001</td><td>  18</td></tr>\n",
              "\t<tr><td>.83333331</td><td>  11</td></tr>\n",
              "\t<tr><td>0        </td><td>3939</td></tr>\n",
              "\t<tr><td>1.2      </td><td>  11</td></tr>\n",
              "\t<tr><td>1.25     </td><td>  18</td></tr>\n",
              "\t<tr><td>1.3333334</td><td>  84</td></tr>\n",
              "\t<tr><td>1.5      </td><td> 713</td></tr>\n",
              "\t<tr><td>1.6666666</td><td>   8</td></tr>\n",
              "\t<tr><td>1.75     </td><td>  11</td></tr>\n",
              "\t<tr><td>2        </td><td> 730</td></tr>\n",
              "\t<tr><td>2.25     </td><td>  13</td></tr>\n",
              "\t<tr><td>2.5      </td><td>  77</td></tr>\n",
              "\t<tr><td>3        </td><td> 236</td></tr>\n",
              "\t<tr><td>3.5      </td><td>  18</td></tr>\n",
              "\t<tr><td>4        </td><td> 100</td></tr>\n",
              "\t<tr><td>5        </td><td>  24</td></tr>\n",
              "\t<tr><td>6        </td><td>   7</td></tr>\n",
              "\t<tr><td>8        </td><td> 378</td></tr>\n",
              "</tbody>\n",
              "</table>\n"
            ]
          },
          "metadata": {}
        }
      ]
    },
    {
      "cell_type": "code",
      "metadata": {
        "colab": {
          "base_uri": "https://localhost:8080/",
          "height": 760
        },
        "id": "plQWbYmMGrWg",
        "outputId": "b38724d9-28f6-4af7-8adc-ba11c8f8e382"
      },
      "source": [
        "train$edjefa[train$edjefa == 'no'] = 0\n",
        "train$edjefa[train$edjefa == 'yes'] = median(train$edjefa)\n",
        "as.data.frame(table(train$edjefa))"
      ],
      "execution_count": 26,
      "outputs": [
        {
          "output_type": "display_data",
          "data": {
            "text/plain": [
              "   Var1 Freq\n",
              "1  0    6299\n",
              "2  10     96\n",
              "3  11    399\n",
              "4  12     72\n",
              "5  13     52\n",
              "6  14    120\n",
              "7  15    188\n",
              "8  16    113\n",
              "9  17     76\n",
              "10 18      3\n",
              "11 19      4\n",
              "12 2      84\n",
              "13 20      2\n",
              "14 21      5\n",
              "15 3     152\n",
              "16 4     136\n",
              "17 5     176\n",
              "18 6     947\n",
              "19 7     179\n",
              "20 8     217\n",
              "21 9     237"
            ],
            "text/latex": "A data.frame: 21 × 2\n\\begin{tabular}{ll}\n Var1 & Freq\\\\\n <fct> & <int>\\\\\n\\hline\n\t 0  & 6299\\\\\n\t 10 &   96\\\\\n\t 11 &  399\\\\\n\t 12 &   72\\\\\n\t 13 &   52\\\\\n\t 14 &  120\\\\\n\t 15 &  188\\\\\n\t 16 &  113\\\\\n\t 17 &   76\\\\\n\t 18 &    3\\\\\n\t 19 &    4\\\\\n\t 2  &   84\\\\\n\t 20 &    2\\\\\n\t 21 &    5\\\\\n\t 3  &  152\\\\\n\t 4  &  136\\\\\n\t 5  &  176\\\\\n\t 6  &  947\\\\\n\t 7  &  179\\\\\n\t 8  &  217\\\\\n\t 9  &  237\\\\\n\\end{tabular}\n",
            "text/markdown": "\nA data.frame: 21 × 2\n\n| Var1 &lt;fct&gt; | Freq &lt;int&gt; |\n|---|---|\n| 0  | 6299 |\n| 10 |   96 |\n| 11 |  399 |\n| 12 |   72 |\n| 13 |   52 |\n| 14 |  120 |\n| 15 |  188 |\n| 16 |  113 |\n| 17 |   76 |\n| 18 |    3 |\n| 19 |    4 |\n| 2  |   84 |\n| 20 |    2 |\n| 21 |    5 |\n| 3  |  152 |\n| 4  |  136 |\n| 5  |  176 |\n| 6  |  947 |\n| 7  |  179 |\n| 8  |  217 |\n| 9  |  237 |\n\n",
            "text/html": [
              "<table class=\"dataframe\">\n",
              "<caption>A data.frame: 21 × 2</caption>\n",
              "<thead>\n",
              "\t<tr><th scope=col>Var1</th><th scope=col>Freq</th></tr>\n",
              "\t<tr><th scope=col>&lt;fct&gt;</th><th scope=col>&lt;int&gt;</th></tr>\n",
              "</thead>\n",
              "<tbody>\n",
              "\t<tr><td>0 </td><td>6299</td></tr>\n",
              "\t<tr><td>10</td><td>  96</td></tr>\n",
              "\t<tr><td>11</td><td> 399</td></tr>\n",
              "\t<tr><td>12</td><td>  72</td></tr>\n",
              "\t<tr><td>13</td><td>  52</td></tr>\n",
              "\t<tr><td>14</td><td> 120</td></tr>\n",
              "\t<tr><td>15</td><td> 188</td></tr>\n",
              "\t<tr><td>16</td><td> 113</td></tr>\n",
              "\t<tr><td>17</td><td>  76</td></tr>\n",
              "\t<tr><td>18</td><td>   3</td></tr>\n",
              "\t<tr><td>19</td><td>   4</td></tr>\n",
              "\t<tr><td>2 </td><td>  84</td></tr>\n",
              "\t<tr><td>20</td><td>   2</td></tr>\n",
              "\t<tr><td>21</td><td>   5</td></tr>\n",
              "\t<tr><td>3 </td><td> 152</td></tr>\n",
              "\t<tr><td>4 </td><td> 136</td></tr>\n",
              "\t<tr><td>5 </td><td> 176</td></tr>\n",
              "\t<tr><td>6 </td><td> 947</td></tr>\n",
              "\t<tr><td>7 </td><td> 179</td></tr>\n",
              "\t<tr><td>8 </td><td> 217</td></tr>\n",
              "\t<tr><td>9 </td><td> 237</td></tr>\n",
              "</tbody>\n",
              "</table>\n"
            ]
          },
          "metadata": {}
        }
      ]
    },
    {
      "cell_type": "code",
      "metadata": {
        "colab": {
          "base_uri": "https://localhost:8080/",
          "height": 760
        },
        "id": "J7MARb9QG_i0",
        "outputId": "c129bb90-1fbc-42d3-930a-6a76a286717c"
      },
      "source": [
        "train$edjefe[train$edjefe == 'no'] = 0\n",
        "train$edjefe[train$edjefe == 'yes'] = median(train$edjefe)\n",
        "as.data.frame(table(train$edjefe))"
      ],
      "execution_count": 27,
      "outputs": [
        {
          "output_type": "display_data",
          "data": {
            "text/plain": [
              "   Var1 Freq\n",
              "1  0    3762\n",
              "2  10    111\n",
              "3  11    751\n",
              "4  12    113\n",
              "5  13    226\n",
              "6  14    208\n",
              "7  15    285\n",
              "8  16    134\n",
              "9  17    202\n",
              "10 18     19\n",
              "11 19     14\n",
              "12 2     194\n",
              "13 20      7\n",
              "14 21     43\n",
              "15 3     307\n",
              "16 4     137\n",
              "17 5     222\n",
              "18 6    1845\n",
              "19 7     234\n",
              "20 8     257\n",
              "21 9     486"
            ],
            "text/latex": "A data.frame: 21 × 2\n\\begin{tabular}{ll}\n Var1 & Freq\\\\\n <fct> & <int>\\\\\n\\hline\n\t 0  & 3762\\\\\n\t 10 &  111\\\\\n\t 11 &  751\\\\\n\t 12 &  113\\\\\n\t 13 &  226\\\\\n\t 14 &  208\\\\\n\t 15 &  285\\\\\n\t 16 &  134\\\\\n\t 17 &  202\\\\\n\t 18 &   19\\\\\n\t 19 &   14\\\\\n\t 2  &  194\\\\\n\t 20 &    7\\\\\n\t 21 &   43\\\\\n\t 3  &  307\\\\\n\t 4  &  137\\\\\n\t 5  &  222\\\\\n\t 6  & 1845\\\\\n\t 7  &  234\\\\\n\t 8  &  257\\\\\n\t 9  &  486\\\\\n\\end{tabular}\n",
            "text/markdown": "\nA data.frame: 21 × 2\n\n| Var1 &lt;fct&gt; | Freq &lt;int&gt; |\n|---|---|\n| 0  | 3762 |\n| 10 |  111 |\n| 11 |  751 |\n| 12 |  113 |\n| 13 |  226 |\n| 14 |  208 |\n| 15 |  285 |\n| 16 |  134 |\n| 17 |  202 |\n| 18 |   19 |\n| 19 |   14 |\n| 2  |  194 |\n| 20 |    7 |\n| 21 |   43 |\n| 3  |  307 |\n| 4  |  137 |\n| 5  |  222 |\n| 6  | 1845 |\n| 7  |  234 |\n| 8  |  257 |\n| 9  |  486 |\n\n",
            "text/html": [
              "<table class=\"dataframe\">\n",
              "<caption>A data.frame: 21 × 2</caption>\n",
              "<thead>\n",
              "\t<tr><th scope=col>Var1</th><th scope=col>Freq</th></tr>\n",
              "\t<tr><th scope=col>&lt;fct&gt;</th><th scope=col>&lt;int&gt;</th></tr>\n",
              "</thead>\n",
              "<tbody>\n",
              "\t<tr><td>0 </td><td>3762</td></tr>\n",
              "\t<tr><td>10</td><td> 111</td></tr>\n",
              "\t<tr><td>11</td><td> 751</td></tr>\n",
              "\t<tr><td>12</td><td> 113</td></tr>\n",
              "\t<tr><td>13</td><td> 226</td></tr>\n",
              "\t<tr><td>14</td><td> 208</td></tr>\n",
              "\t<tr><td>15</td><td> 285</td></tr>\n",
              "\t<tr><td>16</td><td> 134</td></tr>\n",
              "\t<tr><td>17</td><td> 202</td></tr>\n",
              "\t<tr><td>18</td><td>  19</td></tr>\n",
              "\t<tr><td>19</td><td>  14</td></tr>\n",
              "\t<tr><td>2 </td><td> 194</td></tr>\n",
              "\t<tr><td>20</td><td>   7</td></tr>\n",
              "\t<tr><td>21</td><td>  43</td></tr>\n",
              "\t<tr><td>3 </td><td> 307</td></tr>\n",
              "\t<tr><td>4 </td><td> 137</td></tr>\n",
              "\t<tr><td>5 </td><td> 222</td></tr>\n",
              "\t<tr><td>6 </td><td>1845</td></tr>\n",
              "\t<tr><td>7 </td><td> 234</td></tr>\n",
              "\t<tr><td>8 </td><td> 257</td></tr>\n",
              "\t<tr><td>9 </td><td> 486</td></tr>\n",
              "</tbody>\n",
              "</table>\n"
            ]
          },
          "metadata": {}
        }
      ]
    },
    {
      "cell_type": "markdown",
      "metadata": {
        "id": "m3xyE-pE_j7k"
      },
      "source": [
        "## **Dealing with Class Imbalance (SMOTE)**"
      ]
    },
    {
      "cell_type": "code",
      "metadata": {
        "colab": {
          "base_uri": "https://localhost:8080/",
          "height": 302
        },
        "id": "ZjTrvPgO7kJZ",
        "outputId": "5002b103-9da0-429a-9311-c161331c1e25"
      },
      "source": [
        "head(train)"
      ],
      "execution_count": 28,
      "outputs": [
        {
          "output_type": "display_data",
          "data": {
            "text/plain": [
              "  Id           v2a1   hacdor rooms hacapo v14a refrig v18q v18q1 r4h1 r4h2 r4h3\n",
              "1 ID_279628684 190000 0      3     0      1    1      0    1     0    1    1   \n",
              "2 ID_f29eb3ddd 135000 0      4     0      1    1      1    1     0    1    1   \n",
              "3 ID_68de51c94 130000 0      8     0      1    1      0    1     0    0    0   \n",
              "4 ID_d671db89c 180000 0      5     0      1    1      1    1     0    2    2   \n",
              "5 ID_d56d6f5f5 180000 0      5     0      1    1      1    1     0    2    2   \n",
              "6 ID_ec05b1a7b 180000 0      5     0      1    1      1    1     0    2    2   \n",
              "  r4m1 r4m2 r4m3 r4t1 r4t2 r4t3 tamhog tamviv escolari hhsize paredblolad\n",
              "1 0    0    0    0    1    1    1      1      10       1      1          \n",
              "2 0    0    0    0    1    1    1      1      12       1      0          \n",
              "3 0    1    1    0    1    1    1      1      11       1      0          \n",
              "4 1    1    2    1    3    4    4      4       9       4      1          \n",
              "5 1    1    2    1    3    4    4      4      11       4      1          \n",
              "6 1    1    2    1    3    4    4      4      11       4      1          \n",
              "  paredzocalo paredpreb pareddes paredmad paredzinc paredfibras paredother\n",
              "1 0           0         0        0        0         0           0         \n",
              "2 0           0         0        1        0         0           0         \n",
              "3 0           0         0        1        0         0           0         \n",
              "4 0           0         0        0        0         0           0         \n",
              "5 0           0         0        0        0         0           0         \n",
              "6 0           0         0        0        0         0           0         \n",
              "  pisomoscer pisocemento pisoother pisonatur pisonotiene pisomadera techozinc\n",
              "1 1          0           0         0         0           0          0        \n",
              "2 0          0           0         0         0           1          1        \n",
              "3 1          0           0         0         0           0          1        \n",
              "4 1          0           0         0         0           0          1        \n",
              "5 1          0           0         0         0           0          1        \n",
              "6 1          0           0         0         0           0          1        \n",
              "  techoentrepiso techocane techootro cielorazo abastaguadentro abastaguafuera\n",
              "1 1              0         0         1         1               0             \n",
              "2 0              0         0         1         1               0             \n",
              "3 0              0         0         1         1               0             \n",
              "4 0              0         0         1         1               0             \n",
              "5 0              0         0         1         1               0             \n",
              "6 0              0         0         1         1               0             \n",
              "  abastaguano public planpri noelec coopele sanitario1 sanitario2 sanitario3\n",
              "1 0           1      0       0      0       0          1          0         \n",
              "2 0           1      0       0      0       0          1          0         \n",
              "3 0           1      0       0      0       0          1          0         \n",
              "4 0           1      0       0      0       0          1          0         \n",
              "5 0           1      0       0      0       0          1          0         \n",
              "6 0           1      0       0      0       0          1          0         \n",
              "  sanitario5 sanitario6 energcocinar1 energcocinar2 energcocinar3 energcocinar4\n",
              "1 0          0          0             0             1             0            \n",
              "2 0          0          0             1             0             0            \n",
              "3 0          0          0             1             0             0            \n",
              "4 0          0          0             1             0             0            \n",
              "5 0          0          0             1             0             0            \n",
              "6 0          0          0             1             0             0            \n",
              "  elimbasu1 elimbasu2 elimbasu3 elimbasu4 elimbasu5 elimbasu6 epared1 epared2\n",
              "1 1         0         0         0         0         0         0       1      \n",
              "2 1         0         0         0         0         0         0       1      \n",
              "3 1         0         0         0         0         0         0       1      \n",
              "4 1         0         0         0         0         0         0       0      \n",
              "5 1         0         0         0         0         0         0       0      \n",
              "6 1         0         0         0         0         0         0       0      \n",
              "  epared3 etecho1 etecho2 etecho3 eviv1 eviv2 eviv3 dis male female\n",
              "1 0       1       0       0       1     0     0     0   1    0     \n",
              "2 0       0       1       0       0     1     0     0   1    0     \n",
              "3 0       0       0       1       0     0     1     1   0    1     \n",
              "4 1       0       0       1       0     0     1     0   1    0     \n",
              "5 1       0       0       1       0     0     1     0   0    1     \n",
              "6 1       0       0       1       0     0     1     0   1    0     \n",
              "  estadocivil1 estadocivil2 estadocivil3 estadocivil4 estadocivil5 estadocivil6\n",
              "1 0            0            0            1            0            0           \n",
              "2 0            0            0            1            0            0           \n",
              "3 0            0            0            0            0            1           \n",
              "4 0            0            0            0            0            0           \n",
              "5 0            1            0            0            0            0           \n",
              "6 0            1            0            0            0            0           \n",
              "  estadocivil7 parentesco1 parentesco2 parentesco3 parentesco4 parentesco5\n",
              "1 0            1           0           0           0           0          \n",
              "2 0            1           0           0           0           0          \n",
              "3 0            1           0           0           0           0          \n",
              "4 1            0           0           1           0           0          \n",
              "5 0            0           1           0           0           0          \n",
              "6 0            1           0           0           0           0          \n",
              "  parentesco6 parentesco7 parentesco8 parentesco9 parentesco10 parentesco11\n",
              "1 0           0           0           0           0            0           \n",
              "2 0           0           0           0           0            0           \n",
              "3 0           0           0           0           0            0           \n",
              "4 0           0           0           0           0            0           \n",
              "5 0           0           0           0           0            0           \n",
              "6 0           0           0           0           0            0           \n",
              "  parentesco12 idhogar hogar_nin hogar_adul hogar_mayor hogar_total dependency\n",
              "1 0            0       0         1          0           1           0         \n",
              "2 0            1       0         1          1           1           8         \n",
              "3 0            2       0         1          1           1           8         \n",
              "4 0            3       2         2          0           4           0         \n",
              "5 0            3       2         2          0           4           0         \n",
              "6 0            3       2         2          0           4           0         \n",
              "  edjefe edjefa meaneduc instlevel1 instlevel2 instlevel3 instlevel4 instlevel5\n",
              "1 10     0      10       0          0          0          1          0         \n",
              "2 12     0      12       0          0          0          0          0         \n",
              "3 0      11     11       0          0          0          0          1         \n",
              "4 11     0      11       0          0          0          1          0         \n",
              "5 11     0      11       0          0          0          0          1         \n",
              "6 11     0      11       0          0          0          0          1         \n",
              "  instlevel6 instlevel7 instlevel8 instlevel9 bedrooms overcrowding tipovivi1\n",
              "1 0          0          0          0          1        1.000000     0        \n",
              "2 0          0          1          0          1        1.000000     0        \n",
              "3 0          0          0          0          2        0.500000     1        \n",
              "4 0          0          0          0          3        1.333333     0        \n",
              "5 0          0          0          0          3        1.333333     0        \n",
              "6 0          0          0          0          3        1.333333     0        \n",
              "  tipovivi2 tipovivi3 tipovivi4 tipovivi5 computer television mobilephone\n",
              "1 0         1         0         0         0        0          1          \n",
              "2 0         1         0         0         0        0          1          \n",
              "3 0         0         0         0         0        0          0          \n",
              "4 0         1         0         0         0        0          1          \n",
              "5 0         1         0         0         0        0          1          \n",
              "6 0         1         0         0         0        0          1          \n",
              "  qmobilephone lugar1 lugar2 lugar3 lugar4 lugar5 lugar6 area1 area2 age\n",
              "1 1            1      0      0      0      0      0      1     0     43 \n",
              "2 1            1      0      0      0      0      0      1     0     67 \n",
              "3 0            1      0      0      0      0      0      1     0     92 \n",
              "4 3            1      0      0      0      0      0      1     0     17 \n",
              "5 3            1      0      0      0      0      0      1     0     37 \n",
              "6 3            1      0      0      0      0      0      1     0     38 \n",
              "  SQBescolari SQBage SQBhogar_total SQBedjefe SQBhogar_nin SQBovercrowding\n",
              "1 100         1849    1             100       0            1.000000       \n",
              "2 144         4489    1             144       0            1.000000       \n",
              "3 121         8464    1               0       0            0.250000       \n",
              "4  81          289   16             121       4            1.777778       \n",
              "5 121         1369   16             121       4            1.777778       \n",
              "6 121         1444   16             121       4            1.777778       \n",
              "  SQBdependency SQBmeaned agesq Target\n",
              "1  0            100       1849  4     \n",
              "2 64            144       4489  4     \n",
              "3 64            121       8464  4     \n",
              "4  1            121        289  4     \n",
              "5  1            121       1369  4     \n",
              "6  1            121       1444  4     "
            ],
            "text/latex": "A data.frame: 6 × 142\n\\begin{tabular}{r|llllllllllllllllllllllllllllllllllllllllllllllllllllllllllllllllllllllllllllllllllllllllllllllllllllllllllllllllllllllllllllllllllllllllllllll}\n  & Id & v2a1 & hacdor & rooms & hacapo & v14a & refrig & v18q & v18q1 & r4h1 & r4h2 & r4h3 & r4m1 & r4m2 & r4m3 & r4t1 & r4t2 & r4t3 & tamhog & tamviv & escolari & hhsize & paredblolad & paredzocalo & paredpreb & pareddes & paredmad & paredzinc & paredfibras & paredother & pisomoscer & pisocemento & pisoother & pisonatur & pisonotiene & pisomadera & techozinc & techoentrepiso & techocane & techootro & cielorazo & abastaguadentro & abastaguafuera & abastaguano & public & planpri & noelec & coopele & sanitario1 & sanitario2 & sanitario3 & sanitario5 & sanitario6 & energcocinar1 & energcocinar2 & energcocinar3 & energcocinar4 & elimbasu1 & elimbasu2 & elimbasu3 & elimbasu4 & elimbasu5 & elimbasu6 & epared1 & epared2 & epared3 & etecho1 & etecho2 & etecho3 & eviv1 & eviv2 & eviv3 & dis & male & female & estadocivil1 & estadocivil2 & estadocivil3 & estadocivil4 & estadocivil5 & estadocivil6 & estadocivil7 & parentesco1 & parentesco2 & parentesco3 & parentesco4 & parentesco5 & parentesco6 & parentesco7 & parentesco8 & parentesco9 & parentesco10 & parentesco11 & parentesco12 & idhogar & hogar\\_nin & hogar\\_adul & hogar\\_mayor & hogar\\_total & dependency & edjefe & edjefa & meaneduc & instlevel1 & instlevel2 & instlevel3 & instlevel4 & instlevel5 & instlevel6 & instlevel7 & instlevel8 & instlevel9 & bedrooms & overcrowding & tipovivi1 & tipovivi2 & tipovivi3 & tipovivi4 & tipovivi5 & computer & television & mobilephone & qmobilephone & lugar1 & lugar2 & lugar3 & lugar4 & lugar5 & lugar6 & area1 & area2 & age & SQBescolari & SQBage & SQBhogar\\_total & SQBedjefe & SQBhogar\\_nin & SQBovercrowding & SQBdependency & SQBmeaned & agesq & Target\\\\\n  & <chr> & <dbl> & <int> & <int> & <int> & <int> & <int> & <int> & <int> & <int> & <int> & <int> & <int> & <int> & <int> & <int> & <int> & <int> & <int> & <int> & <int> & <int> & <int> & <int> & <int> & <int> & <int> & <int> & <int> & <int> & <int> & <int> & <int> & <int> & <int> & <int> & <int> & <int> & <int> & <int> & <int> & <int> & <int> & <int> & <int> & <int> & <int> & <int> & <int> & <int> & <int> & <int> & <int> & <int> & <int> & <int> & <int> & <int> & <int> & <int> & <int> & <int> & <int> & <int> & <int> & <int> & <int> & <int> & <int> & <int> & <int> & <int> & <int> & <int> & <int> & <int> & <int> & <int> & <int> & <int> & <int> & <int> & <int> & <int> & <int> & <int> & <int> & <int> & <int> & <int> & <int> & <int> & <int> & <int> & <dbl> & <int> & <int> & <int> & <int> & <chr> & <chr> & <chr> & <dbl> & <int> & <int> & <int> & <int> & <int> & <int> & <int> & <int> & <int> & <int> & <dbl> & <int> & <int> & <int> & <int> & <int> & <int> & <int> & <int> & <int> & <int> & <int> & <int> & <int> & <int> & <int> & <int> & <int> & <int> & <int> & <int> & <int> & <int> & <int> & <dbl> & <dbl> & <dbl> & <int> & <int>\\\\\n\\hline\n\t1 & ID\\_279628684 & 190000 & 0 & 3 & 0 & 1 & 1 & 0 & 1 & 0 & 1 & 1 & 0 & 0 & 0 & 0 & 1 & 1 & 1 & 1 & 10 & 1 & 1 & 0 & 0 & 0 & 0 & 0 & 0 & 0 & 1 & 0 & 0 & 0 & 0 & 0 & 0 & 1 & 0 & 0 & 1 & 1 & 0 & 0 & 1 & 0 & 0 & 0 & 0 & 1 & 0 & 0 & 0 & 0 & 0 & 1 & 0 & 1 & 0 & 0 & 0 & 0 & 0 & 0 & 1 & 0 & 1 & 0 & 0 & 1 & 0 & 0 & 0 & 1 & 0 & 0 & 0 & 0 & 1 & 0 & 0 & 0 & 1 & 0 & 0 & 0 & 0 & 0 & 0 & 0 & 0 & 0 & 0 & 0 & 0 & 0 & 1 & 0 & 1 & 0 & 10 & 0  & 10 & 0 & 0 & 0 & 1 & 0 & 0 & 0 & 0 & 0 & 1 & 1.000000 & 0 & 0 & 1 & 0 & 0 & 0 & 0 & 1 & 1 & 1 & 0 & 0 & 0 & 0 & 0 & 1 & 0 & 43 & 100 & 1849 &  1 & 100 & 0 & 1.000000 &  0 & 100 & 1849 & 4\\\\\n\t2 & ID\\_f29eb3ddd & 135000 & 0 & 4 & 0 & 1 & 1 & 1 & 1 & 0 & 1 & 1 & 0 & 0 & 0 & 0 & 1 & 1 & 1 & 1 & 12 & 1 & 0 & 0 & 0 & 0 & 1 & 0 & 0 & 0 & 0 & 0 & 0 & 0 & 0 & 1 & 1 & 0 & 0 & 0 & 1 & 1 & 0 & 0 & 1 & 0 & 0 & 0 & 0 & 1 & 0 & 0 & 0 & 0 & 1 & 0 & 0 & 1 & 0 & 0 & 0 & 0 & 0 & 0 & 1 & 0 & 0 & 1 & 0 & 0 & 1 & 0 & 0 & 1 & 0 & 0 & 0 & 0 & 1 & 0 & 0 & 0 & 1 & 0 & 0 & 0 & 0 & 0 & 0 & 0 & 0 & 0 & 0 & 0 & 1 & 0 & 1 & 1 & 1 & 8 & 12 & 0  & 12 & 0 & 0 & 0 & 0 & 0 & 0 & 0 & 1 & 0 & 1 & 1.000000 & 0 & 0 & 1 & 0 & 0 & 0 & 0 & 1 & 1 & 1 & 0 & 0 & 0 & 0 & 0 & 1 & 0 & 67 & 144 & 4489 &  1 & 144 & 0 & 1.000000 & 64 & 144 & 4489 & 4\\\\\n\t3 & ID\\_68de51c94 & 130000 & 0 & 8 & 0 & 1 & 1 & 0 & 1 & 0 & 0 & 0 & 0 & 1 & 1 & 0 & 1 & 1 & 1 & 1 & 11 & 1 & 0 & 0 & 0 & 0 & 1 & 0 & 0 & 0 & 1 & 0 & 0 & 0 & 0 & 0 & 1 & 0 & 0 & 0 & 1 & 1 & 0 & 0 & 1 & 0 & 0 & 0 & 0 & 1 & 0 & 0 & 0 & 0 & 1 & 0 & 0 & 1 & 0 & 0 & 0 & 0 & 0 & 0 & 1 & 0 & 0 & 0 & 1 & 0 & 0 & 1 & 1 & 0 & 1 & 0 & 0 & 0 & 0 & 0 & 1 & 0 & 1 & 0 & 0 & 0 & 0 & 0 & 0 & 0 & 0 & 0 & 0 & 0 & 2 & 0 & 1 & 1 & 1 & 8 & 0  & 11 & 11 & 0 & 0 & 0 & 0 & 1 & 0 & 0 & 0 & 0 & 2 & 0.500000 & 1 & 0 & 0 & 0 & 0 & 0 & 0 & 0 & 0 & 1 & 0 & 0 & 0 & 0 & 0 & 1 & 0 & 92 & 121 & 8464 &  1 &   0 & 0 & 0.250000 & 64 & 121 & 8464 & 4\\\\\n\t4 & ID\\_d671db89c & 180000 & 0 & 5 & 0 & 1 & 1 & 1 & 1 & 0 & 2 & 2 & 1 & 1 & 2 & 1 & 3 & 4 & 4 & 4 &  9 & 4 & 1 & 0 & 0 & 0 & 0 & 0 & 0 & 0 & 1 & 0 & 0 & 0 & 0 & 0 & 1 & 0 & 0 & 0 & 1 & 1 & 0 & 0 & 1 & 0 & 0 & 0 & 0 & 1 & 0 & 0 & 0 & 0 & 1 & 0 & 0 & 1 & 0 & 0 & 0 & 0 & 0 & 0 & 0 & 1 & 0 & 0 & 1 & 0 & 0 & 1 & 0 & 1 & 0 & 0 & 0 & 0 & 0 & 0 & 0 & 1 & 0 & 0 & 1 & 0 & 0 & 0 & 0 & 0 & 0 & 0 & 0 & 0 & 3 & 2 & 2 & 0 & 4 & 0 & 11 & 0  & 11 & 0 & 0 & 0 & 1 & 0 & 0 & 0 & 0 & 0 & 3 & 1.333333 & 0 & 0 & 1 & 0 & 0 & 0 & 0 & 1 & 3 & 1 & 0 & 0 & 0 & 0 & 0 & 1 & 0 & 17 &  81 &  289 & 16 & 121 & 4 & 1.777778 &  1 & 121 &  289 & 4\\\\\n\t5 & ID\\_d56d6f5f5 & 180000 & 0 & 5 & 0 & 1 & 1 & 1 & 1 & 0 & 2 & 2 & 1 & 1 & 2 & 1 & 3 & 4 & 4 & 4 & 11 & 4 & 1 & 0 & 0 & 0 & 0 & 0 & 0 & 0 & 1 & 0 & 0 & 0 & 0 & 0 & 1 & 0 & 0 & 0 & 1 & 1 & 0 & 0 & 1 & 0 & 0 & 0 & 0 & 1 & 0 & 0 & 0 & 0 & 1 & 0 & 0 & 1 & 0 & 0 & 0 & 0 & 0 & 0 & 0 & 1 & 0 & 0 & 1 & 0 & 0 & 1 & 0 & 0 & 1 & 0 & 1 & 0 & 0 & 0 & 0 & 0 & 0 & 1 & 0 & 0 & 0 & 0 & 0 & 0 & 0 & 0 & 0 & 0 & 3 & 2 & 2 & 0 & 4 & 0 & 11 & 0  & 11 & 0 & 0 & 0 & 0 & 1 & 0 & 0 & 0 & 0 & 3 & 1.333333 & 0 & 0 & 1 & 0 & 0 & 0 & 0 & 1 & 3 & 1 & 0 & 0 & 0 & 0 & 0 & 1 & 0 & 37 & 121 & 1369 & 16 & 121 & 4 & 1.777778 &  1 & 121 & 1369 & 4\\\\\n\t6 & ID\\_ec05b1a7b & 180000 & 0 & 5 & 0 & 1 & 1 & 1 & 1 & 0 & 2 & 2 & 1 & 1 & 2 & 1 & 3 & 4 & 4 & 4 & 11 & 4 & 1 & 0 & 0 & 0 & 0 & 0 & 0 & 0 & 1 & 0 & 0 & 0 & 0 & 0 & 1 & 0 & 0 & 0 & 1 & 1 & 0 & 0 & 1 & 0 & 0 & 0 & 0 & 1 & 0 & 0 & 0 & 0 & 1 & 0 & 0 & 1 & 0 & 0 & 0 & 0 & 0 & 0 & 0 & 1 & 0 & 0 & 1 & 0 & 0 & 1 & 0 & 1 & 0 & 0 & 1 & 0 & 0 & 0 & 0 & 0 & 1 & 0 & 0 & 0 & 0 & 0 & 0 & 0 & 0 & 0 & 0 & 0 & 3 & 2 & 2 & 0 & 4 & 0 & 11 & 0  & 11 & 0 & 0 & 0 & 0 & 1 & 0 & 0 & 0 & 0 & 3 & 1.333333 & 0 & 0 & 1 & 0 & 0 & 0 & 0 & 1 & 3 & 1 & 0 & 0 & 0 & 0 & 0 & 1 & 0 & 38 & 121 & 1444 & 16 & 121 & 4 & 1.777778 &  1 & 121 & 1444 & 4\\\\\n\\end{tabular}\n",
            "text/markdown": "\nA data.frame: 6 × 142\n\n| <!--/--> | Id &lt;chr&gt; | v2a1 &lt;dbl&gt; | hacdor &lt;int&gt; | rooms &lt;int&gt; | hacapo &lt;int&gt; | v14a &lt;int&gt; | refrig &lt;int&gt; | v18q &lt;int&gt; | v18q1 &lt;int&gt; | r4h1 &lt;int&gt; | r4h2 &lt;int&gt; | r4h3 &lt;int&gt; | r4m1 &lt;int&gt; | r4m2 &lt;int&gt; | r4m3 &lt;int&gt; | r4t1 &lt;int&gt; | r4t2 &lt;int&gt; | r4t3 &lt;int&gt; | tamhog &lt;int&gt; | tamviv &lt;int&gt; | escolari &lt;int&gt; | hhsize &lt;int&gt; | paredblolad &lt;int&gt; | paredzocalo &lt;int&gt; | paredpreb &lt;int&gt; | pareddes &lt;int&gt; | paredmad &lt;int&gt; | paredzinc &lt;int&gt; | paredfibras &lt;int&gt; | paredother &lt;int&gt; | pisomoscer &lt;int&gt; | pisocemento &lt;int&gt; | pisoother &lt;int&gt; | pisonatur &lt;int&gt; | pisonotiene &lt;int&gt; | pisomadera &lt;int&gt; | techozinc &lt;int&gt; | techoentrepiso &lt;int&gt; | techocane &lt;int&gt; | techootro &lt;int&gt; | cielorazo &lt;int&gt; | abastaguadentro &lt;int&gt; | abastaguafuera &lt;int&gt; | abastaguano &lt;int&gt; | public &lt;int&gt; | planpri &lt;int&gt; | noelec &lt;int&gt; | coopele &lt;int&gt; | sanitario1 &lt;int&gt; | sanitario2 &lt;int&gt; | sanitario3 &lt;int&gt; | sanitario5 &lt;int&gt; | sanitario6 &lt;int&gt; | energcocinar1 &lt;int&gt; | energcocinar2 &lt;int&gt; | energcocinar3 &lt;int&gt; | energcocinar4 &lt;int&gt; | elimbasu1 &lt;int&gt; | elimbasu2 &lt;int&gt; | elimbasu3 &lt;int&gt; | elimbasu4 &lt;int&gt; | elimbasu5 &lt;int&gt; | elimbasu6 &lt;int&gt; | epared1 &lt;int&gt; | epared2 &lt;int&gt; | epared3 &lt;int&gt; | etecho1 &lt;int&gt; | etecho2 &lt;int&gt; | etecho3 &lt;int&gt; | eviv1 &lt;int&gt; | eviv2 &lt;int&gt; | eviv3 &lt;int&gt; | dis &lt;int&gt; | male &lt;int&gt; | female &lt;int&gt; | estadocivil1 &lt;int&gt; | estadocivil2 &lt;int&gt; | estadocivil3 &lt;int&gt; | estadocivil4 &lt;int&gt; | estadocivil5 &lt;int&gt; | estadocivil6 &lt;int&gt; | estadocivil7 &lt;int&gt; | parentesco1 &lt;int&gt; | parentesco2 &lt;int&gt; | parentesco3 &lt;int&gt; | parentesco4 &lt;int&gt; | parentesco5 &lt;int&gt; | parentesco6 &lt;int&gt; | parentesco7 &lt;int&gt; | parentesco8 &lt;int&gt; | parentesco9 &lt;int&gt; | parentesco10 &lt;int&gt; | parentesco11 &lt;int&gt; | parentesco12 &lt;int&gt; | idhogar &lt;dbl&gt; | hogar_nin &lt;int&gt; | hogar_adul &lt;int&gt; | hogar_mayor &lt;int&gt; | hogar_total &lt;int&gt; | dependency &lt;chr&gt; | edjefe &lt;chr&gt; | edjefa &lt;chr&gt; | meaneduc &lt;dbl&gt; | instlevel1 &lt;int&gt; | instlevel2 &lt;int&gt; | instlevel3 &lt;int&gt; | instlevel4 &lt;int&gt; | instlevel5 &lt;int&gt; | instlevel6 &lt;int&gt; | instlevel7 &lt;int&gt; | instlevel8 &lt;int&gt; | instlevel9 &lt;int&gt; | bedrooms &lt;int&gt; | overcrowding &lt;dbl&gt; | tipovivi1 &lt;int&gt; | tipovivi2 &lt;int&gt; | tipovivi3 &lt;int&gt; | tipovivi4 &lt;int&gt; | tipovivi5 &lt;int&gt; | computer &lt;int&gt; | television &lt;int&gt; | mobilephone &lt;int&gt; | qmobilephone &lt;int&gt; | lugar1 &lt;int&gt; | lugar2 &lt;int&gt; | lugar3 &lt;int&gt; | lugar4 &lt;int&gt; | lugar5 &lt;int&gt; | lugar6 &lt;int&gt; | area1 &lt;int&gt; | area2 &lt;int&gt; | age &lt;int&gt; | SQBescolari &lt;int&gt; | SQBage &lt;int&gt; | SQBhogar_total &lt;int&gt; | SQBedjefe &lt;int&gt; | SQBhogar_nin &lt;int&gt; | SQBovercrowding &lt;dbl&gt; | SQBdependency &lt;dbl&gt; | SQBmeaned &lt;dbl&gt; | agesq &lt;int&gt; | Target &lt;int&gt; |\n|---|---|---|---|---|---|---|---|---|---|---|---|---|---|---|---|---|---|---|---|---|---|---|---|---|---|---|---|---|---|---|---|---|---|---|---|---|---|---|---|---|---|---|---|---|---|---|---|---|---|---|---|---|---|---|---|---|---|---|---|---|---|---|---|---|---|---|---|---|---|---|---|---|---|---|---|---|---|---|---|---|---|---|---|---|---|---|---|---|---|---|---|---|---|---|---|---|---|---|---|---|---|---|---|---|---|---|---|---|---|---|---|---|---|---|---|---|---|---|---|---|---|---|---|---|---|---|---|---|---|---|---|---|---|---|---|---|---|---|---|---|---|---|\n| 1 | ID_279628684 | 190000 | 0 | 3 | 0 | 1 | 1 | 0 | 1 | 0 | 1 | 1 | 0 | 0 | 0 | 0 | 1 | 1 | 1 | 1 | 10 | 1 | 1 | 0 | 0 | 0 | 0 | 0 | 0 | 0 | 1 | 0 | 0 | 0 | 0 | 0 | 0 | 1 | 0 | 0 | 1 | 1 | 0 | 0 | 1 | 0 | 0 | 0 | 0 | 1 | 0 | 0 | 0 | 0 | 0 | 1 | 0 | 1 | 0 | 0 | 0 | 0 | 0 | 0 | 1 | 0 | 1 | 0 | 0 | 1 | 0 | 0 | 0 | 1 | 0 | 0 | 0 | 0 | 1 | 0 | 0 | 0 | 1 | 0 | 0 | 0 | 0 | 0 | 0 | 0 | 0 | 0 | 0 | 0 | 0 | 0 | 1 | 0 | 1 | 0 | 10 | 0  | 10 | 0 | 0 | 0 | 1 | 0 | 0 | 0 | 0 | 0 | 1 | 1.000000 | 0 | 0 | 1 | 0 | 0 | 0 | 0 | 1 | 1 | 1 | 0 | 0 | 0 | 0 | 0 | 1 | 0 | 43 | 100 | 1849 |  1 | 100 | 0 | 1.000000 |  0 | 100 | 1849 | 4 |\n| 2 | ID_f29eb3ddd | 135000 | 0 | 4 | 0 | 1 | 1 | 1 | 1 | 0 | 1 | 1 | 0 | 0 | 0 | 0 | 1 | 1 | 1 | 1 | 12 | 1 | 0 | 0 | 0 | 0 | 1 | 0 | 0 | 0 | 0 | 0 | 0 | 0 | 0 | 1 | 1 | 0 | 0 | 0 | 1 | 1 | 0 | 0 | 1 | 0 | 0 | 0 | 0 | 1 | 0 | 0 | 0 | 0 | 1 | 0 | 0 | 1 | 0 | 0 | 0 | 0 | 0 | 0 | 1 | 0 | 0 | 1 | 0 | 0 | 1 | 0 | 0 | 1 | 0 | 0 | 0 | 0 | 1 | 0 | 0 | 0 | 1 | 0 | 0 | 0 | 0 | 0 | 0 | 0 | 0 | 0 | 0 | 0 | 1 | 0 | 1 | 1 | 1 | 8 | 12 | 0  | 12 | 0 | 0 | 0 | 0 | 0 | 0 | 0 | 1 | 0 | 1 | 1.000000 | 0 | 0 | 1 | 0 | 0 | 0 | 0 | 1 | 1 | 1 | 0 | 0 | 0 | 0 | 0 | 1 | 0 | 67 | 144 | 4489 |  1 | 144 | 0 | 1.000000 | 64 | 144 | 4489 | 4 |\n| 3 | ID_68de51c94 | 130000 | 0 | 8 | 0 | 1 | 1 | 0 | 1 | 0 | 0 | 0 | 0 | 1 | 1 | 0 | 1 | 1 | 1 | 1 | 11 | 1 | 0 | 0 | 0 | 0 | 1 | 0 | 0 | 0 | 1 | 0 | 0 | 0 | 0 | 0 | 1 | 0 | 0 | 0 | 1 | 1 | 0 | 0 | 1 | 0 | 0 | 0 | 0 | 1 | 0 | 0 | 0 | 0 | 1 | 0 | 0 | 1 | 0 | 0 | 0 | 0 | 0 | 0 | 1 | 0 | 0 | 0 | 1 | 0 | 0 | 1 | 1 | 0 | 1 | 0 | 0 | 0 | 0 | 0 | 1 | 0 | 1 | 0 | 0 | 0 | 0 | 0 | 0 | 0 | 0 | 0 | 0 | 0 | 2 | 0 | 1 | 1 | 1 | 8 | 0  | 11 | 11 | 0 | 0 | 0 | 0 | 1 | 0 | 0 | 0 | 0 | 2 | 0.500000 | 1 | 0 | 0 | 0 | 0 | 0 | 0 | 0 | 0 | 1 | 0 | 0 | 0 | 0 | 0 | 1 | 0 | 92 | 121 | 8464 |  1 |   0 | 0 | 0.250000 | 64 | 121 | 8464 | 4 |\n| 4 | ID_d671db89c | 180000 | 0 | 5 | 0 | 1 | 1 | 1 | 1 | 0 | 2 | 2 | 1 | 1 | 2 | 1 | 3 | 4 | 4 | 4 |  9 | 4 | 1 | 0 | 0 | 0 | 0 | 0 | 0 | 0 | 1 | 0 | 0 | 0 | 0 | 0 | 1 | 0 | 0 | 0 | 1 | 1 | 0 | 0 | 1 | 0 | 0 | 0 | 0 | 1 | 0 | 0 | 0 | 0 | 1 | 0 | 0 | 1 | 0 | 0 | 0 | 0 | 0 | 0 | 0 | 1 | 0 | 0 | 1 | 0 | 0 | 1 | 0 | 1 | 0 | 0 | 0 | 0 | 0 | 0 | 0 | 1 | 0 | 0 | 1 | 0 | 0 | 0 | 0 | 0 | 0 | 0 | 0 | 0 | 3 | 2 | 2 | 0 | 4 | 0 | 11 | 0  | 11 | 0 | 0 | 0 | 1 | 0 | 0 | 0 | 0 | 0 | 3 | 1.333333 | 0 | 0 | 1 | 0 | 0 | 0 | 0 | 1 | 3 | 1 | 0 | 0 | 0 | 0 | 0 | 1 | 0 | 17 |  81 |  289 | 16 | 121 | 4 | 1.777778 |  1 | 121 |  289 | 4 |\n| 5 | ID_d56d6f5f5 | 180000 | 0 | 5 | 0 | 1 | 1 | 1 | 1 | 0 | 2 | 2 | 1 | 1 | 2 | 1 | 3 | 4 | 4 | 4 | 11 | 4 | 1 | 0 | 0 | 0 | 0 | 0 | 0 | 0 | 1 | 0 | 0 | 0 | 0 | 0 | 1 | 0 | 0 | 0 | 1 | 1 | 0 | 0 | 1 | 0 | 0 | 0 | 0 | 1 | 0 | 0 | 0 | 0 | 1 | 0 | 0 | 1 | 0 | 0 | 0 | 0 | 0 | 0 | 0 | 1 | 0 | 0 | 1 | 0 | 0 | 1 | 0 | 0 | 1 | 0 | 1 | 0 | 0 | 0 | 0 | 0 | 0 | 1 | 0 | 0 | 0 | 0 | 0 | 0 | 0 | 0 | 0 | 0 | 3 | 2 | 2 | 0 | 4 | 0 | 11 | 0  | 11 | 0 | 0 | 0 | 0 | 1 | 0 | 0 | 0 | 0 | 3 | 1.333333 | 0 | 0 | 1 | 0 | 0 | 0 | 0 | 1 | 3 | 1 | 0 | 0 | 0 | 0 | 0 | 1 | 0 | 37 | 121 | 1369 | 16 | 121 | 4 | 1.777778 |  1 | 121 | 1369 | 4 |\n| 6 | ID_ec05b1a7b | 180000 | 0 | 5 | 0 | 1 | 1 | 1 | 1 | 0 | 2 | 2 | 1 | 1 | 2 | 1 | 3 | 4 | 4 | 4 | 11 | 4 | 1 | 0 | 0 | 0 | 0 | 0 | 0 | 0 | 1 | 0 | 0 | 0 | 0 | 0 | 1 | 0 | 0 | 0 | 1 | 1 | 0 | 0 | 1 | 0 | 0 | 0 | 0 | 1 | 0 | 0 | 0 | 0 | 1 | 0 | 0 | 1 | 0 | 0 | 0 | 0 | 0 | 0 | 0 | 1 | 0 | 0 | 1 | 0 | 0 | 1 | 0 | 1 | 0 | 0 | 1 | 0 | 0 | 0 | 0 | 0 | 1 | 0 | 0 | 0 | 0 | 0 | 0 | 0 | 0 | 0 | 0 | 0 | 3 | 2 | 2 | 0 | 4 | 0 | 11 | 0  | 11 | 0 | 0 | 0 | 0 | 1 | 0 | 0 | 0 | 0 | 3 | 1.333333 | 0 | 0 | 1 | 0 | 0 | 0 | 0 | 1 | 3 | 1 | 0 | 0 | 0 | 0 | 0 | 1 | 0 | 38 | 121 | 1444 | 16 | 121 | 4 | 1.777778 |  1 | 121 | 1444 | 4 |\n\n",
            "text/html": [
              "<table class=\"dataframe\">\n",
              "<caption>A data.frame: 6 × 142</caption>\n",
              "<thead>\n",
              "\t<tr><th></th><th scope=col>Id</th><th scope=col>v2a1</th><th scope=col>hacdor</th><th scope=col>rooms</th><th scope=col>hacapo</th><th scope=col>v14a</th><th scope=col>refrig</th><th scope=col>v18q</th><th scope=col>v18q1</th><th scope=col>r4h1</th><th scope=col>r4h2</th><th scope=col>r4h3</th><th scope=col>r4m1</th><th scope=col>r4m2</th><th scope=col>r4m3</th><th scope=col>r4t1</th><th scope=col>r4t2</th><th scope=col>r4t3</th><th scope=col>tamhog</th><th scope=col>tamviv</th><th scope=col>escolari</th><th scope=col>hhsize</th><th scope=col>paredblolad</th><th scope=col>paredzocalo</th><th scope=col>paredpreb</th><th scope=col>pareddes</th><th scope=col>paredmad</th><th scope=col>paredzinc</th><th scope=col>paredfibras</th><th scope=col>paredother</th><th scope=col>pisomoscer</th><th scope=col>pisocemento</th><th scope=col>pisoother</th><th scope=col>pisonatur</th><th scope=col>pisonotiene</th><th scope=col>pisomadera</th><th scope=col>techozinc</th><th scope=col>techoentrepiso</th><th scope=col>techocane</th><th scope=col>techootro</th><th scope=col>cielorazo</th><th scope=col>abastaguadentro</th><th scope=col>abastaguafuera</th><th scope=col>abastaguano</th><th scope=col>public</th><th scope=col>planpri</th><th scope=col>noelec</th><th scope=col>coopele</th><th scope=col>sanitario1</th><th scope=col>sanitario2</th><th scope=col>sanitario3</th><th scope=col>sanitario5</th><th scope=col>sanitario6</th><th scope=col>energcocinar1</th><th scope=col>energcocinar2</th><th scope=col>energcocinar3</th><th scope=col>energcocinar4</th><th scope=col>elimbasu1</th><th scope=col>elimbasu2</th><th scope=col>elimbasu3</th><th scope=col>elimbasu4</th><th scope=col>elimbasu5</th><th scope=col>elimbasu6</th><th scope=col>epared1</th><th scope=col>epared2</th><th scope=col>epared3</th><th scope=col>etecho1</th><th scope=col>etecho2</th><th scope=col>etecho3</th><th scope=col>eviv1</th><th scope=col>eviv2</th><th scope=col>eviv3</th><th scope=col>dis</th><th scope=col>male</th><th scope=col>female</th><th scope=col>estadocivil1</th><th scope=col>estadocivil2</th><th scope=col>estadocivil3</th><th scope=col>estadocivil4</th><th scope=col>estadocivil5</th><th scope=col>estadocivil6</th><th scope=col>estadocivil7</th><th scope=col>parentesco1</th><th scope=col>parentesco2</th><th scope=col>parentesco3</th><th scope=col>parentesco4</th><th scope=col>parentesco5</th><th scope=col>parentesco6</th><th scope=col>parentesco7</th><th scope=col>parentesco8</th><th scope=col>parentesco9</th><th scope=col>parentesco10</th><th scope=col>parentesco11</th><th scope=col>parentesco12</th><th scope=col>idhogar</th><th scope=col>hogar_nin</th><th scope=col>hogar_adul</th><th scope=col>hogar_mayor</th><th scope=col>hogar_total</th><th scope=col>dependency</th><th scope=col>edjefe</th><th scope=col>edjefa</th><th scope=col>meaneduc</th><th scope=col>instlevel1</th><th scope=col>instlevel2</th><th scope=col>instlevel3</th><th scope=col>instlevel4</th><th scope=col>instlevel5</th><th scope=col>instlevel6</th><th scope=col>instlevel7</th><th scope=col>instlevel8</th><th scope=col>instlevel9</th><th scope=col>bedrooms</th><th scope=col>overcrowding</th><th scope=col>tipovivi1</th><th scope=col>tipovivi2</th><th scope=col>tipovivi3</th><th scope=col>tipovivi4</th><th scope=col>tipovivi5</th><th scope=col>computer</th><th scope=col>television</th><th scope=col>mobilephone</th><th scope=col>qmobilephone</th><th scope=col>lugar1</th><th scope=col>lugar2</th><th scope=col>lugar3</th><th scope=col>lugar4</th><th scope=col>lugar5</th><th scope=col>lugar6</th><th scope=col>area1</th><th scope=col>area2</th><th scope=col>age</th><th scope=col>SQBescolari</th><th scope=col>SQBage</th><th scope=col>SQBhogar_total</th><th scope=col>SQBedjefe</th><th scope=col>SQBhogar_nin</th><th scope=col>SQBovercrowding</th><th scope=col>SQBdependency</th><th scope=col>SQBmeaned</th><th scope=col>agesq</th><th scope=col>Target</th></tr>\n",
              "\t<tr><th></th><th scope=col>&lt;chr&gt;</th><th scope=col>&lt;dbl&gt;</th><th scope=col>&lt;int&gt;</th><th scope=col>&lt;int&gt;</th><th scope=col>&lt;int&gt;</th><th scope=col>&lt;int&gt;</th><th scope=col>&lt;int&gt;</th><th scope=col>&lt;int&gt;</th><th scope=col>&lt;int&gt;</th><th scope=col>&lt;int&gt;</th><th scope=col>&lt;int&gt;</th><th scope=col>&lt;int&gt;</th><th scope=col>&lt;int&gt;</th><th scope=col>&lt;int&gt;</th><th scope=col>&lt;int&gt;</th><th scope=col>&lt;int&gt;</th><th scope=col>&lt;int&gt;</th><th scope=col>&lt;int&gt;</th><th scope=col>&lt;int&gt;</th><th scope=col>&lt;int&gt;</th><th scope=col>&lt;int&gt;</th><th scope=col>&lt;int&gt;</th><th scope=col>&lt;int&gt;</th><th scope=col>&lt;int&gt;</th><th scope=col>&lt;int&gt;</th><th scope=col>&lt;int&gt;</th><th scope=col>&lt;int&gt;</th><th scope=col>&lt;int&gt;</th><th scope=col>&lt;int&gt;</th><th scope=col>&lt;int&gt;</th><th scope=col>&lt;int&gt;</th><th scope=col>&lt;int&gt;</th><th scope=col>&lt;int&gt;</th><th scope=col>&lt;int&gt;</th><th scope=col>&lt;int&gt;</th><th scope=col>&lt;int&gt;</th><th scope=col>&lt;int&gt;</th><th scope=col>&lt;int&gt;</th><th scope=col>&lt;int&gt;</th><th scope=col>&lt;int&gt;</th><th scope=col>&lt;int&gt;</th><th scope=col>&lt;int&gt;</th><th scope=col>&lt;int&gt;</th><th scope=col>&lt;int&gt;</th><th scope=col>&lt;int&gt;</th><th scope=col>&lt;int&gt;</th><th scope=col>&lt;int&gt;</th><th scope=col>&lt;int&gt;</th><th scope=col>&lt;int&gt;</th><th scope=col>&lt;int&gt;</th><th scope=col>&lt;int&gt;</th><th scope=col>&lt;int&gt;</th><th scope=col>&lt;int&gt;</th><th scope=col>&lt;int&gt;</th><th scope=col>&lt;int&gt;</th><th scope=col>&lt;int&gt;</th><th scope=col>&lt;int&gt;</th><th scope=col>&lt;int&gt;</th><th scope=col>&lt;int&gt;</th><th scope=col>&lt;int&gt;</th><th scope=col>&lt;int&gt;</th><th scope=col>&lt;int&gt;</th><th scope=col>&lt;int&gt;</th><th scope=col>&lt;int&gt;</th><th scope=col>&lt;int&gt;</th><th scope=col>&lt;int&gt;</th><th scope=col>&lt;int&gt;</th><th scope=col>&lt;int&gt;</th><th scope=col>&lt;int&gt;</th><th scope=col>&lt;int&gt;</th><th scope=col>&lt;int&gt;</th><th scope=col>&lt;int&gt;</th><th scope=col>&lt;int&gt;</th><th scope=col>&lt;int&gt;</th><th scope=col>&lt;int&gt;</th><th scope=col>&lt;int&gt;</th><th scope=col>&lt;int&gt;</th><th scope=col>&lt;int&gt;</th><th scope=col>&lt;int&gt;</th><th scope=col>&lt;int&gt;</th><th scope=col>&lt;int&gt;</th><th scope=col>&lt;int&gt;</th><th scope=col>&lt;int&gt;</th><th scope=col>&lt;int&gt;</th><th scope=col>&lt;int&gt;</th><th scope=col>&lt;int&gt;</th><th scope=col>&lt;int&gt;</th><th scope=col>&lt;int&gt;</th><th scope=col>&lt;int&gt;</th><th scope=col>&lt;int&gt;</th><th scope=col>&lt;int&gt;</th><th scope=col>&lt;int&gt;</th><th scope=col>&lt;int&gt;</th><th scope=col>&lt;int&gt;</th><th scope=col>&lt;dbl&gt;</th><th scope=col>&lt;int&gt;</th><th scope=col>&lt;int&gt;</th><th scope=col>&lt;int&gt;</th><th scope=col>&lt;int&gt;</th><th scope=col>&lt;chr&gt;</th><th scope=col>&lt;chr&gt;</th><th scope=col>&lt;chr&gt;</th><th scope=col>&lt;dbl&gt;</th><th scope=col>&lt;int&gt;</th><th scope=col>&lt;int&gt;</th><th scope=col>&lt;int&gt;</th><th scope=col>&lt;int&gt;</th><th scope=col>&lt;int&gt;</th><th scope=col>&lt;int&gt;</th><th scope=col>&lt;int&gt;</th><th scope=col>&lt;int&gt;</th><th scope=col>&lt;int&gt;</th><th scope=col>&lt;int&gt;</th><th scope=col>&lt;dbl&gt;</th><th scope=col>&lt;int&gt;</th><th scope=col>&lt;int&gt;</th><th scope=col>&lt;int&gt;</th><th scope=col>&lt;int&gt;</th><th scope=col>&lt;int&gt;</th><th scope=col>&lt;int&gt;</th><th scope=col>&lt;int&gt;</th><th scope=col>&lt;int&gt;</th><th scope=col>&lt;int&gt;</th><th scope=col>&lt;int&gt;</th><th scope=col>&lt;int&gt;</th><th scope=col>&lt;int&gt;</th><th scope=col>&lt;int&gt;</th><th scope=col>&lt;int&gt;</th><th scope=col>&lt;int&gt;</th><th scope=col>&lt;int&gt;</th><th scope=col>&lt;int&gt;</th><th scope=col>&lt;int&gt;</th><th scope=col>&lt;int&gt;</th><th scope=col>&lt;int&gt;</th><th scope=col>&lt;int&gt;</th><th scope=col>&lt;int&gt;</th><th scope=col>&lt;int&gt;</th><th scope=col>&lt;dbl&gt;</th><th scope=col>&lt;dbl&gt;</th><th scope=col>&lt;dbl&gt;</th><th scope=col>&lt;int&gt;</th><th scope=col>&lt;int&gt;</th></tr>\n",
              "</thead>\n",
              "<tbody>\n",
              "\t<tr><th scope=row>1</th><td>ID_279628684</td><td>190000</td><td>0</td><td>3</td><td>0</td><td>1</td><td>1</td><td>0</td><td>1</td><td>0</td><td>1</td><td>1</td><td>0</td><td>0</td><td>0</td><td>0</td><td>1</td><td>1</td><td>1</td><td>1</td><td>10</td><td>1</td><td>1</td><td>0</td><td>0</td><td>0</td><td>0</td><td>0</td><td>0</td><td>0</td><td>1</td><td>0</td><td>0</td><td>0</td><td>0</td><td>0</td><td>0</td><td>1</td><td>0</td><td>0</td><td>1</td><td>1</td><td>0</td><td>0</td><td>1</td><td>0</td><td>0</td><td>0</td><td>0</td><td>1</td><td>0</td><td>0</td><td>0</td><td>0</td><td>0</td><td>1</td><td>0</td><td>1</td><td>0</td><td>0</td><td>0</td><td>0</td><td>0</td><td>0</td><td>1</td><td>0</td><td>1</td><td>0</td><td>0</td><td>1</td><td>0</td><td>0</td><td>0</td><td>1</td><td>0</td><td>0</td><td>0</td><td>0</td><td>1</td><td>0</td><td>0</td><td>0</td><td>1</td><td>0</td><td>0</td><td>0</td><td>0</td><td>0</td><td>0</td><td>0</td><td>0</td><td>0</td><td>0</td><td>0</td><td>0</td><td>0</td><td>1</td><td>0</td><td>1</td><td>0</td><td>10</td><td>0 </td><td>10</td><td>0</td><td>0</td><td>0</td><td>1</td><td>0</td><td>0</td><td>0</td><td>0</td><td>0</td><td>1</td><td>1.000000</td><td>0</td><td>0</td><td>1</td><td>0</td><td>0</td><td>0</td><td>0</td><td>1</td><td>1</td><td>1</td><td>0</td><td>0</td><td>0</td><td>0</td><td>0</td><td>1</td><td>0</td><td>43</td><td>100</td><td>1849</td><td> 1</td><td>100</td><td>0</td><td>1.000000</td><td> 0</td><td>100</td><td>1849</td><td>4</td></tr>\n",
              "\t<tr><th scope=row>2</th><td>ID_f29eb3ddd</td><td>135000</td><td>0</td><td>4</td><td>0</td><td>1</td><td>1</td><td>1</td><td>1</td><td>0</td><td>1</td><td>1</td><td>0</td><td>0</td><td>0</td><td>0</td><td>1</td><td>1</td><td>1</td><td>1</td><td>12</td><td>1</td><td>0</td><td>0</td><td>0</td><td>0</td><td>1</td><td>0</td><td>0</td><td>0</td><td>0</td><td>0</td><td>0</td><td>0</td><td>0</td><td>1</td><td>1</td><td>0</td><td>0</td><td>0</td><td>1</td><td>1</td><td>0</td><td>0</td><td>1</td><td>0</td><td>0</td><td>0</td><td>0</td><td>1</td><td>0</td><td>0</td><td>0</td><td>0</td><td>1</td><td>0</td><td>0</td><td>1</td><td>0</td><td>0</td><td>0</td><td>0</td><td>0</td><td>0</td><td>1</td><td>0</td><td>0</td><td>1</td><td>0</td><td>0</td><td>1</td><td>0</td><td>0</td><td>1</td><td>0</td><td>0</td><td>0</td><td>0</td><td>1</td><td>0</td><td>0</td><td>0</td><td>1</td><td>0</td><td>0</td><td>0</td><td>0</td><td>0</td><td>0</td><td>0</td><td>0</td><td>0</td><td>0</td><td>0</td><td>1</td><td>0</td><td>1</td><td>1</td><td>1</td><td>8</td><td>12</td><td>0 </td><td>12</td><td>0</td><td>0</td><td>0</td><td>0</td><td>0</td><td>0</td><td>0</td><td>1</td><td>0</td><td>1</td><td>1.000000</td><td>0</td><td>0</td><td>1</td><td>0</td><td>0</td><td>0</td><td>0</td><td>1</td><td>1</td><td>1</td><td>0</td><td>0</td><td>0</td><td>0</td><td>0</td><td>1</td><td>0</td><td>67</td><td>144</td><td>4489</td><td> 1</td><td>144</td><td>0</td><td>1.000000</td><td>64</td><td>144</td><td>4489</td><td>4</td></tr>\n",
              "\t<tr><th scope=row>3</th><td>ID_68de51c94</td><td>130000</td><td>0</td><td>8</td><td>0</td><td>1</td><td>1</td><td>0</td><td>1</td><td>0</td><td>0</td><td>0</td><td>0</td><td>1</td><td>1</td><td>0</td><td>1</td><td>1</td><td>1</td><td>1</td><td>11</td><td>1</td><td>0</td><td>0</td><td>0</td><td>0</td><td>1</td><td>0</td><td>0</td><td>0</td><td>1</td><td>0</td><td>0</td><td>0</td><td>0</td><td>0</td><td>1</td><td>0</td><td>0</td><td>0</td><td>1</td><td>1</td><td>0</td><td>0</td><td>1</td><td>0</td><td>0</td><td>0</td><td>0</td><td>1</td><td>0</td><td>0</td><td>0</td><td>0</td><td>1</td><td>0</td><td>0</td><td>1</td><td>0</td><td>0</td><td>0</td><td>0</td><td>0</td><td>0</td><td>1</td><td>0</td><td>0</td><td>0</td><td>1</td><td>0</td><td>0</td><td>1</td><td>1</td><td>0</td><td>1</td><td>0</td><td>0</td><td>0</td><td>0</td><td>0</td><td>1</td><td>0</td><td>1</td><td>0</td><td>0</td><td>0</td><td>0</td><td>0</td><td>0</td><td>0</td><td>0</td><td>0</td><td>0</td><td>0</td><td>2</td><td>0</td><td>1</td><td>1</td><td>1</td><td>8</td><td>0 </td><td>11</td><td>11</td><td>0</td><td>0</td><td>0</td><td>0</td><td>1</td><td>0</td><td>0</td><td>0</td><td>0</td><td>2</td><td>0.500000</td><td>1</td><td>0</td><td>0</td><td>0</td><td>0</td><td>0</td><td>0</td><td>0</td><td>0</td><td>1</td><td>0</td><td>0</td><td>0</td><td>0</td><td>0</td><td>1</td><td>0</td><td>92</td><td>121</td><td>8464</td><td> 1</td><td>  0</td><td>0</td><td>0.250000</td><td>64</td><td>121</td><td>8464</td><td>4</td></tr>\n",
              "\t<tr><th scope=row>4</th><td>ID_d671db89c</td><td>180000</td><td>0</td><td>5</td><td>0</td><td>1</td><td>1</td><td>1</td><td>1</td><td>0</td><td>2</td><td>2</td><td>1</td><td>1</td><td>2</td><td>1</td><td>3</td><td>4</td><td>4</td><td>4</td><td> 9</td><td>4</td><td>1</td><td>0</td><td>0</td><td>0</td><td>0</td><td>0</td><td>0</td><td>0</td><td>1</td><td>0</td><td>0</td><td>0</td><td>0</td><td>0</td><td>1</td><td>0</td><td>0</td><td>0</td><td>1</td><td>1</td><td>0</td><td>0</td><td>1</td><td>0</td><td>0</td><td>0</td><td>0</td><td>1</td><td>0</td><td>0</td><td>0</td><td>0</td><td>1</td><td>0</td><td>0</td><td>1</td><td>0</td><td>0</td><td>0</td><td>0</td><td>0</td><td>0</td><td>0</td><td>1</td><td>0</td><td>0</td><td>1</td><td>0</td><td>0</td><td>1</td><td>0</td><td>1</td><td>0</td><td>0</td><td>0</td><td>0</td><td>0</td><td>0</td><td>0</td><td>1</td><td>0</td><td>0</td><td>1</td><td>0</td><td>0</td><td>0</td><td>0</td><td>0</td><td>0</td><td>0</td><td>0</td><td>0</td><td>3</td><td>2</td><td>2</td><td>0</td><td>4</td><td>0</td><td>11</td><td>0 </td><td>11</td><td>0</td><td>0</td><td>0</td><td>1</td><td>0</td><td>0</td><td>0</td><td>0</td><td>0</td><td>3</td><td>1.333333</td><td>0</td><td>0</td><td>1</td><td>0</td><td>0</td><td>0</td><td>0</td><td>1</td><td>3</td><td>1</td><td>0</td><td>0</td><td>0</td><td>0</td><td>0</td><td>1</td><td>0</td><td>17</td><td> 81</td><td> 289</td><td>16</td><td>121</td><td>4</td><td>1.777778</td><td> 1</td><td>121</td><td> 289</td><td>4</td></tr>\n",
              "\t<tr><th scope=row>5</th><td>ID_d56d6f5f5</td><td>180000</td><td>0</td><td>5</td><td>0</td><td>1</td><td>1</td><td>1</td><td>1</td><td>0</td><td>2</td><td>2</td><td>1</td><td>1</td><td>2</td><td>1</td><td>3</td><td>4</td><td>4</td><td>4</td><td>11</td><td>4</td><td>1</td><td>0</td><td>0</td><td>0</td><td>0</td><td>0</td><td>0</td><td>0</td><td>1</td><td>0</td><td>0</td><td>0</td><td>0</td><td>0</td><td>1</td><td>0</td><td>0</td><td>0</td><td>1</td><td>1</td><td>0</td><td>0</td><td>1</td><td>0</td><td>0</td><td>0</td><td>0</td><td>1</td><td>0</td><td>0</td><td>0</td><td>0</td><td>1</td><td>0</td><td>0</td><td>1</td><td>0</td><td>0</td><td>0</td><td>0</td><td>0</td><td>0</td><td>0</td><td>1</td><td>0</td><td>0</td><td>1</td><td>0</td><td>0</td><td>1</td><td>0</td><td>0</td><td>1</td><td>0</td><td>1</td><td>0</td><td>0</td><td>0</td><td>0</td><td>0</td><td>0</td><td>1</td><td>0</td><td>0</td><td>0</td><td>0</td><td>0</td><td>0</td><td>0</td><td>0</td><td>0</td><td>0</td><td>3</td><td>2</td><td>2</td><td>0</td><td>4</td><td>0</td><td>11</td><td>0 </td><td>11</td><td>0</td><td>0</td><td>0</td><td>0</td><td>1</td><td>0</td><td>0</td><td>0</td><td>0</td><td>3</td><td>1.333333</td><td>0</td><td>0</td><td>1</td><td>0</td><td>0</td><td>0</td><td>0</td><td>1</td><td>3</td><td>1</td><td>0</td><td>0</td><td>0</td><td>0</td><td>0</td><td>1</td><td>0</td><td>37</td><td>121</td><td>1369</td><td>16</td><td>121</td><td>4</td><td>1.777778</td><td> 1</td><td>121</td><td>1369</td><td>4</td></tr>\n",
              "\t<tr><th scope=row>6</th><td>ID_ec05b1a7b</td><td>180000</td><td>0</td><td>5</td><td>0</td><td>1</td><td>1</td><td>1</td><td>1</td><td>0</td><td>2</td><td>2</td><td>1</td><td>1</td><td>2</td><td>1</td><td>3</td><td>4</td><td>4</td><td>4</td><td>11</td><td>4</td><td>1</td><td>0</td><td>0</td><td>0</td><td>0</td><td>0</td><td>0</td><td>0</td><td>1</td><td>0</td><td>0</td><td>0</td><td>0</td><td>0</td><td>1</td><td>0</td><td>0</td><td>0</td><td>1</td><td>1</td><td>0</td><td>0</td><td>1</td><td>0</td><td>0</td><td>0</td><td>0</td><td>1</td><td>0</td><td>0</td><td>0</td><td>0</td><td>1</td><td>0</td><td>0</td><td>1</td><td>0</td><td>0</td><td>0</td><td>0</td><td>0</td><td>0</td><td>0</td><td>1</td><td>0</td><td>0</td><td>1</td><td>0</td><td>0</td><td>1</td><td>0</td><td>1</td><td>0</td><td>0</td><td>1</td><td>0</td><td>0</td><td>0</td><td>0</td><td>0</td><td>1</td><td>0</td><td>0</td><td>0</td><td>0</td><td>0</td><td>0</td><td>0</td><td>0</td><td>0</td><td>0</td><td>0</td><td>3</td><td>2</td><td>2</td><td>0</td><td>4</td><td>0</td><td>11</td><td>0 </td><td>11</td><td>0</td><td>0</td><td>0</td><td>0</td><td>1</td><td>0</td><td>0</td><td>0</td><td>0</td><td>3</td><td>1.333333</td><td>0</td><td>0</td><td>1</td><td>0</td><td>0</td><td>0</td><td>0</td><td>1</td><td>3</td><td>1</td><td>0</td><td>0</td><td>0</td><td>0</td><td>0</td><td>1</td><td>0</td><td>38</td><td>121</td><td>1444</td><td>16</td><td>121</td><td>4</td><td>1.777778</td><td> 1</td><td>121</td><td>1444</td><td>4</td></tr>\n",
              "</tbody>\n",
              "</table>\n"
            ]
          },
          "metadata": {}
        }
      ]
    },
    {
      "cell_type": "code",
      "metadata": {
        "id": "hKduuC_r6Gzp"
      },
      "source": [
        "train1 <- train\n",
        "train1$Target[train1$Target == 1] = 'Extreme Poverty'\n",
        "train1$Target[train1$Target == 2] = 'Moderate Poverty'\n",
        "train1$Target[train1$Target == 3] = 'Vulnerable Household'\n",
        "train1$Target[train1$Target == 4] = 'Non-Vulnerable Household'"
      ],
      "execution_count": 29,
      "outputs": []
    },
    {
      "cell_type": "code",
      "metadata": {
        "colab": {
          "base_uri": "https://localhost:8080/",
          "height": 437
        },
        "id": "hprCjv4lOLmU",
        "outputId": "88eb792e-1220-486b-d945-5a4cc864668a"
      },
      "source": [
        "train1 %>%\n",
        "ggplot(aes(Target))+\n",
        "geom_bar(color = 'black', fill = 'orange')+\n",
        "xlab(\"Target Classes\")+\n",
        "ylab(\"Target Classes Count\")"
      ],
      "execution_count": 30,
      "outputs": [
        {
          "output_type": "display_data",
          "data": {
            "image/png": "[encoded data removed]",
            "text/plain": [
              "plot without title"
            ]
          },
          "metadata": {
            "image/png": {
              "width": 420,
              "height": 420
            }
          }
        }
      ]
    },
    {
      "cell_type": "code",
      "metadata": {
        "colab": {
          "base_uri": "https://localhost:8080/"
        },
        "id": "di5amRfJo51S",
        "outputId": "77e8cb83-8e42-44b8-d072-1a6ac977ecc1"
      },
      "source": [
        "library(devtools)\n",
        "remotes::install_github(\"cran/DMwR\")"
      ],
      "execution_count": 31,
      "outputs": [
        {
          "output_type": "stream",
          "name": "stderr",
          "text": [
            "Loading required package: usethis\n",
            "\n",
            "Skipping install of 'DMwR' from a github remote, the SHA1 (6fd4f0cd) has not changed since last install.\n",
            "  Use `force = TRUE` to force installation\n",
            "\n"
          ]
        }
      ]
    },
    {
      "cell_type": "code",
      "metadata": {
        "colab": {
          "base_uri": "https://localhost:8080/"
        },
        "id": "IeibBnDJnleK",
        "outputId": "521d9caf-bd58-4944-f4b9-5c30b5a1e8fc"
      },
      "source": [
        "library(DMwR)"
      ],
      "execution_count": 32,
      "outputs": [
        {
          "output_type": "stream",
          "name": "stderr",
          "text": [
            "Loading required package: lattice\n",
            "\n",
            "Loading required package: grid\n",
            "\n",
            "Registered S3 method overwritten by 'quantmod':\n",
            "  method            from\n",
            "  as.zoo.data.frame zoo \n",
            "\n"
          ]
        }
      ]
    },
    {
      "cell_type": "code",
      "metadata": {
        "colab": {
          "base_uri": "https://localhost:8080/",
          "height": 34
        },
        "id": "uMbuSs3ZvHoG",
        "outputId": "3840659b-47fc-4673-a130-092e70b97a4e"
      },
      "source": [
        "typeof(train$Target)"
      ],
      "execution_count": 33,
      "outputs": [
        {
          "output_type": "display_data",
          "data": {
            "text/plain": [
              "[1] \"integer\""
            ],
            "text/latex": "'integer'",
            "text/markdown": "'integer'",
            "text/html": [
              "'integer'"
            ]
          },
          "metadata": {}
        }
      ]
    },
    {
      "cell_type": "code",
      "metadata": {
        "colab": {
          "base_uri": "https://localhost:8080/"
        },
        "id": "G49pZ9BRwHrW",
        "outputId": "00f95cd4-ddd8-4b72-e0fd-cf225adae5fa"
      },
      "source": [
        "train1 <- train\n",
        "train1 <- subset(train1, select = c(-Id))\n",
        "str(train1)"
      ],
      "execution_count": 34,
      "outputs": [
        {
          "output_type": "stream",
          "name": "stdout",
          "text": [
            "'data.frame':\t9557 obs. of  141 variables:\n",
            " $ v2a1           : num  190000 135000 130000 180000 180000 180000 180000 130000 130000 130000 ...\n",
            " $ hacdor         : int  0 0 0 0 0 0 0 1 1 1 ...\n",
            " $ rooms          : int  3 4 8 5 5 5 5 2 2 2 ...\n",
            " $ hacapo         : int  0 0 0 0 0 0 0 0 0 0 ...\n",
            " $ v14a           : int  1 1 1 1 1 1 1 1 1 1 ...\n",
            " $ refrig         : int  1 1 1 1 1 1 1 1 1 1 ...\n",
            " $ v18q           : int  0 1 0 1 1 1 1 0 0 0 ...\n",
            " $ v18q1          : int  1 1 1 1 1 1 1 1 1 1 ...\n",
            " $ r4h1           : int  0 0 0 0 0 0 0 0 0 0 ...\n",
            " $ r4h2           : int  1 1 0 2 2 2 2 1 1 1 ...\n",
            " $ r4h3           : int  1 1 0 2 2 2 2 1 1 1 ...\n",
            " $ r4m1           : int  0 0 0 1 1 1 1 2 2 2 ...\n",
            " $ r4m2           : int  0 0 1 1 1 1 1 1 1 1 ...\n",
            " $ r4m3           : int  0 0 1 2 2 2 2 3 3 3 ...\n",
            " $ r4t1           : int  0 0 0 1 1 1 1 2 2 2 ...\n",
            " $ r4t2           : int  1 1 1 3 3 3 3 2 2 2 ...\n",
            " $ r4t3           : int  1 1 1 4 4 4 4 4 4 4 ...\n",
            " $ tamhog         : int  1 1 1 4 4 4 4 4 4 4 ...\n",
            " $ tamviv         : int  1 1 1 4 4 4 4 4 4 4 ...\n",
            " $ escolari       : int  10 12 11 9 11 11 2 0 9 11 ...\n",
            " $ hhsize         : int  1 1 1 4 4 4 4 4 4 4 ...\n",
            " $ paredblolad    : int  1 0 0 1 1 1 1 1 1 1 ...\n",
            " $ paredzocalo    : int  0 0 0 0 0 0 0 0 0 0 ...\n",
            " $ paredpreb      : int  0 0 0 0 0 0 0 0 0 0 ...\n",
            " $ pareddes       : int  0 0 0 0 0 0 0 0 0 0 ...\n",
            " $ paredmad       : int  0 1 1 0 0 0 0 0 0 0 ...\n",
            " $ paredzinc      : int  0 0 0 0 0 0 0 0 0 0 ...\n",
            " $ paredfibras    : int  0 0 0 0 0 0 0 0 0 0 ...\n",
            " $ paredother     : int  0 0 0 0 0 0 0 0 0 0 ...\n",
            " $ pisomoscer     : int  1 0 1 1 1 1 1 1 1 1 ...\n",
            " $ pisocemento    : int  0 0 0 0 0 0 0 0 0 0 ...\n",
            " $ pisoother      : int  0 0 0 0 0 0 0 0 0 0 ...\n",
            " $ pisonatur      : int  0 0 0 0 0 0 0 0 0 0 ...\n",
            " $ pisonotiene    : int  0 0 0 0 0 0 0 0 0 0 ...\n",
            " $ pisomadera     : int  0 1 0 0 0 0 0 0 0 0 ...\n",
            " $ techozinc      : int  0 1 1 1 1 1 1 1 1 1 ...\n",
            " $ techoentrepiso : int  1 0 0 0 0 0 0 0 0 0 ...\n",
            " $ techocane      : int  0 0 0 0 0 0 0 0 0 0 ...\n",
            " $ techootro      : int  0 0 0 0 0 0 0 0 0 0 ...\n",
            " $ cielorazo      : int  1 1 1 1 1 1 1 1 1 1 ...\n",
            " $ abastaguadentro: int  1 1 1 1 1 1 1 1 1 1 ...\n",
            " $ abastaguafuera : int  0 0 0 0 0 0 0 0 0 0 ...\n",
            " $ abastaguano    : int  0 0 0 0 0 0 0 0 0 0 ...\n",
            " $ public         : int  1 1 1 1 1 1 1 1 1 1 ...\n",
            " $ planpri        : int  0 0 0 0 0 0 0 0 0 0 ...\n",
            " $ noelec         : int  0 0 0 0 0 0 0 0 0 0 ...\n",
            " $ coopele        : int  0 0 0 0 0 0 0 0 0 0 ...\n",
            " $ sanitario1     : int  0 0 0 0 0 0 0 0 0 0 ...\n",
            " $ sanitario2     : int  1 1 1 1 1 1 1 1 1 1 ...\n",
            " $ sanitario3     : int  0 0 0 0 0 0 0 0 0 0 ...\n",
            " $ sanitario5     : int  0 0 0 0 0 0 0 0 0 0 ...\n",
            " $ sanitario6     : int  0 0 0 0 0 0 0 0 0 0 ...\n",
            " $ energcocinar1  : int  0 0 0 0 0 0 0 0 0 0 ...\n",
            " $ energcocinar2  : int  0 1 1 1 1 1 1 0 0 0 ...\n",
            " $ energcocinar3  : int  1 0 0 0 0 0 0 1 1 1 ...\n",
            " $ energcocinar4  : int  0 0 0 0 0 0 0 0 0 0 ...\n",
            " $ elimbasu1      : int  1 1 1 1 1 1 1 1 1 1 ...\n",
            " $ elimbasu2      : int  0 0 0 0 0 0 0 0 0 0 ...\n",
            " $ elimbasu3      : int  0 0 0 0 0 0 0 0 0 0 ...\n",
            " $ elimbasu4      : int  0 0 0 0 0 0 0 0 0 0 ...\n",
            " $ elimbasu5      : int  0 0 0 0 0 0 0 0 0 0 ...\n",
            " $ elimbasu6      : int  0 0 0 0 0 0 0 0 0 0 ...\n",
            " $ epared1        : int  0 0 0 0 0 0 0 1 1 1 ...\n",
            " $ epared2        : int  1 1 1 0 0 0 0 0 0 0 ...\n",
            " $ epared3        : int  0 0 0 1 1 1 1 0 0 0 ...\n",
            " $ etecho1        : int  1 0 0 0 0 0 0 1 1 1 ...\n",
            " $ etecho2        : int  0 1 0 0 0 0 0 0 0 0 ...\n",
            " $ etecho3        : int  0 0 1 1 1 1 1 0 0 0 ...\n",
            " $ eviv1          : int  1 0 0 0 0 0 0 0 0 0 ...\n",
            " $ eviv2          : int  0 1 0 0 0 0 0 1 1 1 ...\n",
            " $ eviv3          : int  0 0 1 1 1 1 1 0 0 0 ...\n",
            " $ dis            : int  0 0 1 0 0 0 0 0 0 0 ...\n",
            " $ male           : int  1 1 0 1 0 1 0 0 1 0 ...\n",
            " $ female         : int  0 0 1 0 1 0 1 1 0 1 ...\n",
            " $ estadocivil1   : int  0 0 0 0 0 0 1 1 0 0 ...\n",
            " $ estadocivil2   : int  0 0 0 0 1 1 0 0 1 1 ...\n",
            " $ estadocivil3   : int  0 0 0 0 0 0 0 0 0 0 ...\n",
            " $ estadocivil4   : int  1 1 0 0 0 0 0 0 0 0 ...\n",
            " $ estadocivil5   : int  0 0 0 0 0 0 0 0 0 0 ...\n",
            " $ estadocivil6   : int  0 0 1 0 0 0 0 0 0 0 ...\n",
            " $ estadocivil7   : int  0 0 0 1 0 0 0 0 0 0 ...\n",
            " $ parentesco1    : int  1 1 1 0 0 1 0 0 1 0 ...\n",
            " $ parentesco2    : int  0 0 0 0 1 0 0 0 0 1 ...\n",
            " $ parentesco3    : int  0 0 0 1 0 0 1 1 0 0 ...\n",
            " $ parentesco4    : int  0 0 0 0 0 0 0 0 0 0 ...\n",
            " $ parentesco5    : int  0 0 0 0 0 0 0 0 0 0 ...\n",
            " $ parentesco6    : int  0 0 0 0 0 0 0 0 0 0 ...\n",
            " $ parentesco7    : int  0 0 0 0 0 0 0 0 0 0 ...\n",
            " $ parentesco8    : int  0 0 0 0 0 0 0 0 0 0 ...\n",
            " $ parentesco9    : int  0 0 0 0 0 0 0 0 0 0 ...\n",
            " $ parentesco10   : int  0 0 0 0 0 0 0 0 0 0 ...\n",
            " $ parentesco11   : int  0 0 0 0 0 0 0 0 0 0 ...\n",
            " $ parentesco12   : int  0 0 0 0 0 0 0 0 0 0 ...\n",
            " $ idhogar        : num  0 1 2 3 3 3 3 4 4 4 ...\n",
            " $ hogar_nin      : int  0 0 0 2 2 2 2 2 2 2 ...\n",
            " $ hogar_adul     : int  1 1 1 2 2 2 2 2 2 2 ...\n",
            " $ hogar_mayor    : int  0 1 1 0 0 0 0 0 0 0 ...\n",
            " $ hogar_total    : int  1 1 1 4 4 4 4 4 4 4 ...\n",
            " $ dependency     : chr  \"0\" \"8\" \"8\" \"0\" ...\n",
            "  [list output truncated]\n"
          ]
        }
      ]
    },
    {
      "cell_type": "code",
      "metadata": {
        "colab": {
          "base_uri": "https://localhost:8080/",
          "height": 158
        },
        "id": "VZECQUpoy9Lr",
        "outputId": "318683e0-3bb1-461f-ad4e-1b4dea19b4e3"
      },
      "source": [
        "train1 %>%\n",
        "  select_if(is.character) %>%\n",
        "  head(2)"
      ],
      "execution_count": 35,
      "outputs": [
        {
          "output_type": "display_data",
          "data": {
            "text/plain": [
              "  dependency edjefe edjefa\n",
              "1 0          10     0     \n",
              "2 8          12     0     "
            ],
            "text/latex": "A data.frame: 2 × 3\n\\begin{tabular}{r|lll}\n  & dependency & edjefe & edjefa\\\\\n  & <chr> & <chr> & <chr>\\\\\n\\hline\n\t1 & 0 & 10 & 0\\\\\n\t2 & 8 & 12 & 0\\\\\n\\end{tabular}\n",
            "text/markdown": "\nA data.frame: 2 × 3\n\n| <!--/--> | dependency &lt;chr&gt; | edjefe &lt;chr&gt; | edjefa &lt;chr&gt; |\n|---|---|---|---|\n| 1 | 0 | 10 | 0 |\n| 2 | 8 | 12 | 0 |\n\n",
            "text/html": [
              "<table class=\"dataframe\">\n",
              "<caption>A data.frame: 2 × 3</caption>\n",
              "<thead>\n",
              "\t<tr><th></th><th scope=col>dependency</th><th scope=col>edjefe</th><th scope=col>edjefa</th></tr>\n",
              "\t<tr><th></th><th scope=col>&lt;chr&gt;</th><th scope=col>&lt;chr&gt;</th><th scope=col>&lt;chr&gt;</th></tr>\n",
              "</thead>\n",
              "<tbody>\n",
              "\t<tr><th scope=row>1</th><td>0</td><td>10</td><td>0</td></tr>\n",
              "\t<tr><th scope=row>2</th><td>8</td><td>12</td><td>0</td></tr>\n",
              "</tbody>\n",
              "</table>\n"
            ]
          },
          "metadata": {}
        }
      ]
    },
    {
      "cell_type": "code",
      "metadata": {
        "id": "-HmG4iD-zBWO"
      },
      "source": [
        "train1$dependency <- as.integer(train1$dependency)\n",
        "train1$edjefa <- as.integer(train1$edjefa)\n",
        "train1$edjefe <- as.integer(train1$edjefe)"
      ],
      "execution_count": 36,
      "outputs": []
    },
    {
      "cell_type": "code",
      "metadata": {
        "id": "611hcKO7bkV9"
      },
      "source": [
        "train1$Target <- as.factor(train1$Target)"
      ],
      "execution_count": 37,
      "outputs": []
    },
    {
      "cell_type": "code",
      "metadata": {
        "colab": {
          "base_uri": "https://localhost:8080/",
          "height": 237
        },
        "id": "OFgpbcbkm9dD",
        "outputId": "285d3213-3e6b-4517-8c31-ec707fb59b04"
      },
      "source": [
        "as.data.frame(table(train$Target))"
      ],
      "execution_count": 38,
      "outputs": [
        {
          "output_type": "display_data",
          "data": {
            "text/plain": [
              "  Var1 Freq\n",
              "1 1     755\n",
              "2 2    1597\n",
              "3 3    1209\n",
              "4 4    5996"
            ],
            "text/latex": "A data.frame: 4 × 2\n\\begin{tabular}{ll}\n Var1 & Freq\\\\\n <fct> & <int>\\\\\n\\hline\n\t 1 &  755\\\\\n\t 2 & 1597\\\\\n\t 3 & 1209\\\\\n\t 4 & 5996\\\\\n\\end{tabular}\n",
            "text/markdown": "\nA data.frame: 4 × 2\n\n| Var1 &lt;fct&gt; | Freq &lt;int&gt; |\n|---|---|\n| 1 |  755 |\n| 2 | 1597 |\n| 3 | 1209 |\n| 4 | 5996 |\n\n",
            "text/html": [
              "<table class=\"dataframe\">\n",
              "<caption>A data.frame: 4 × 2</caption>\n",
              "<thead>\n",
              "\t<tr><th scope=col>Var1</th><th scope=col>Freq</th></tr>\n",
              "\t<tr><th scope=col>&lt;fct&gt;</th><th scope=col>&lt;int&gt;</th></tr>\n",
              "</thead>\n",
              "<tbody>\n",
              "\t<tr><td>1</td><td> 755</td></tr>\n",
              "\t<tr><td>2</td><td>1597</td></tr>\n",
              "\t<tr><td>3</td><td>1209</td></tr>\n",
              "\t<tr><td>4</td><td>5996</td></tr>\n",
              "</tbody>\n",
              "</table>\n"
            ]
          },
          "metadata": {}
        }
      ]
    },
    {
      "cell_type": "markdown",
      "metadata": {
        "id": "yCj2Avv_YLYX"
      },
      "source": [
        "Undersampling would decrease the proportion of your majority class until the number is similar to the minority class. \n",
        "\n",
        "At the same time, Oversampling would resample the minority class proportion following the majority class proportion.\n"
      ]
    },
    {
      "cell_type": "code",
      "metadata": {
        "id": "XBeBPyUZrbX1"
      },
      "source": [
        "balanced_train <- SMOTE(Target ~ ., train1, perc.over = 2000, perc.under=140)"
      ],
      "execution_count": 39,
      "outputs": []
    },
    {
      "cell_type": "code",
      "metadata": {
        "colab": {
          "base_uri": "https://localhost:8080/",
          "height": 237
        },
        "id": "xyn8AxNd2VGG",
        "outputId": "8d9acdbe-cb9b-4383-8996-98fb9b9d9267"
      },
      "source": [
        "as.data.frame(table(balanced_train$Target))"
      ],
      "execution_count": 40,
      "outputs": [
        {
          "output_type": "display_data",
          "data": {
            "text/plain": [
              "  Var1 Freq \n",
              "1 1    15855\n",
              "2 2     3831\n",
              "3 3     2977\n",
              "4 4    14332"
            ],
            "text/latex": "A data.frame: 4 × 2\n\\begin{tabular}{ll}\n Var1 & Freq\\\\\n <fct> & <int>\\\\\n\\hline\n\t 1 & 15855\\\\\n\t 2 &  3831\\\\\n\t 3 &  2977\\\\\n\t 4 & 14332\\\\\n\\end{tabular}\n",
            "text/markdown": "\nA data.frame: 4 × 2\n\n| Var1 &lt;fct&gt; | Freq &lt;int&gt; |\n|---|---|\n| 1 | 15855 |\n| 2 |  3831 |\n| 3 |  2977 |\n| 4 | 14332 |\n\n",
            "text/html": [
              "<table class=\"dataframe\">\n",
              "<caption>A data.frame: 4 × 2</caption>\n",
              "<thead>\n",
              "\t<tr><th scope=col>Var1</th><th scope=col>Freq</th></tr>\n",
              "\t<tr><th scope=col>&lt;fct&gt;</th><th scope=col>&lt;int&gt;</th></tr>\n",
              "</thead>\n",
              "<tbody>\n",
              "\t<tr><td>1</td><td>15855</td></tr>\n",
              "\t<tr><td>2</td><td> 3831</td></tr>\n",
              "\t<tr><td>3</td><td> 2977</td></tr>\n",
              "\t<tr><td>4</td><td>14332</td></tr>\n",
              "</tbody>\n",
              "</table>\n"
            ]
          },
          "metadata": {}
        }
      ]
    },
    {
      "cell_type": "code",
      "metadata": {
        "id": "ugLDuqF_YbMZ"
      },
      "source": [
        "balanced_train1 <- SMOTE(Target ~., balanced_train, perc.over = 1000, perc.under = 200)"
      ],
      "execution_count": 41,
      "outputs": []
    },
    {
      "cell_type": "code",
      "metadata": {
        "colab": {
          "base_uri": "https://localhost:8080/",
          "height": 237
        },
        "id": "ixvELiO4denP",
        "outputId": "e26b46c3-a38e-423b-fb62-b13e0266042d"
      },
      "source": [
        "as.data.frame(table(balanced_train1$Target))"
      ],
      "execution_count": 42,
      "outputs": [
        {
          "output_type": "display_data",
          "data": {
            "text/plain": [
              "  Var1 Freq \n",
              "1 1    27670\n",
              "2 2     6733\n",
              "3 3    32747\n",
              "4 4    25137"
            ],
            "text/latex": "A data.frame: 4 × 2\n\\begin{tabular}{ll}\n Var1 & Freq\\\\\n <fct> & <int>\\\\\n\\hline\n\t 1 & 27670\\\\\n\t 2 &  6733\\\\\n\t 3 & 32747\\\\\n\t 4 & 25137\\\\\n\\end{tabular}\n",
            "text/markdown": "\nA data.frame: 4 × 2\n\n| Var1 &lt;fct&gt; | Freq &lt;int&gt; |\n|---|---|\n| 1 | 27670 |\n| 2 |  6733 |\n| 3 | 32747 |\n| 4 | 25137 |\n\n",
            "text/html": [
              "<table class=\"dataframe\">\n",
              "<caption>A data.frame: 4 × 2</caption>\n",
              "<thead>\n",
              "\t<tr><th scope=col>Var1</th><th scope=col>Freq</th></tr>\n",
              "\t<tr><th scope=col>&lt;fct&gt;</th><th scope=col>&lt;int&gt;</th></tr>\n",
              "</thead>\n",
              "<tbody>\n",
              "\t<tr><td>1</td><td>27670</td></tr>\n",
              "\t<tr><td>2</td><td> 6733</td></tr>\n",
              "\t<tr><td>3</td><td>32747</td></tr>\n",
              "\t<tr><td>4</td><td>25137</td></tr>\n",
              "</tbody>\n",
              "</table>\n"
            ]
          },
          "metadata": {}
        }
      ]
    },
    {
      "cell_type": "code",
      "metadata": {
        "id": "Qxu33suodief"
      },
      "source": [
        "balanced_train2 <- SMOTE(Target ~., balanced_train1, perc.over = 400, perc.under = 350)"
      ],
      "execution_count": 43,
      "outputs": []
    },
    {
      "cell_type": "code",
      "metadata": {
        "colab": {
          "base_uri": "https://localhost:8080/",
          "height": 237
        },
        "id": "s81KC4zLdmNZ",
        "outputId": "64c79811-b5a7-4dd7-ccb5-ef61e136fbab"
      },
      "source": [
        "as.data.frame(table(balanced_train2$Target))"
      ],
      "execution_count": 44,
      "outputs": [
        {
          "output_type": "display_data",
          "data": {
            "text/plain": [
              "  Var1 Freq \n",
              "1 1    30508\n",
              "2 2    33665\n",
              "3 3    35930\n",
              "4 4    27824"
            ],
            "text/latex": "A data.frame: 4 × 2\n\\begin{tabular}{ll}\n Var1 & Freq\\\\\n <fct> & <int>\\\\\n\\hline\n\t 1 & 30508\\\\\n\t 2 & 33665\\\\\n\t 3 & 35930\\\\\n\t 4 & 27824\\\\\n\\end{tabular}\n",
            "text/markdown": "\nA data.frame: 4 × 2\n\n| Var1 &lt;fct&gt; | Freq &lt;int&gt; |\n|---|---|\n| 1 | 30508 |\n| 2 | 33665 |\n| 3 | 35930 |\n| 4 | 27824 |\n\n",
            "text/html": [
              "<table class=\"dataframe\">\n",
              "<caption>A data.frame: 4 × 2</caption>\n",
              "<thead>\n",
              "\t<tr><th scope=col>Var1</th><th scope=col>Freq</th></tr>\n",
              "\t<tr><th scope=col>&lt;fct&gt;</th><th scope=col>&lt;int&gt;</th></tr>\n",
              "</thead>\n",
              "<tbody>\n",
              "\t<tr><td>1</td><td>30508</td></tr>\n",
              "\t<tr><td>2</td><td>33665</td></tr>\n",
              "\t<tr><td>3</td><td>35930</td></tr>\n",
              "\t<tr><td>4</td><td>27824</td></tr>\n",
              "</tbody>\n",
              "</table>\n"
            ]
          },
          "metadata": {}
        }
      ]
    },
    {
      "cell_type": "markdown",
      "metadata": {
        "id": "iCkBM6aXKzID"
      },
      "source": [
        "## **Feature Importance (Permutation Based Variable Importance)**"
      ]
    },
    {
      "cell_type": "code",
      "metadata": {
        "colab": {
          "base_uri": "https://localhost:8080/"
        },
        "id": "nCxCMFf1iWM7",
        "outputId": "525937ae-e3e5-4859-a38b-90c628fa6cb5"
      },
      "source": [
        "install.packages('DALEX')\n",
        "install.packages('randomForest')"
      ],
      "execution_count": 45,
      "outputs": [
        {
          "output_type": "stream",
          "name": "stderr",
          "text": [
            "Installing package into ‘/usr/local/lib/R/site-library’\n",
            "(as ‘lib’ is unspecified)\n",
            "\n",
            "Installing package into ‘/usr/local/lib/R/site-library’\n",
            "(as ‘lib’ is unspecified)\n",
            "\n"
          ]
        }
      ]
    },
    {
      "cell_type": "code",
      "metadata": {
        "colab": {
          "base_uri": "https://localhost:8080/"
        },
        "id": "2XYFZvmMhYHn",
        "outputId": "adc2d960-98f8-4f3f-f8ee-53fd6b132028"
      },
      "source": [
        "library('DALEX')\n",
        "library('randomForest')"
      ],
      "execution_count": 46,
      "outputs": [
        {
          "output_type": "stream",
          "name": "stderr",
          "text": [
            "Welcome to DALEX (version: 2.3.0).\n",
            "Find examples and detailed introduction at: http://ema.drwhy.ai/\n",
            "Additional features will be available after installation of: ggpubr.\n",
            "Use 'install_dependencies()' to get all suggested dependencies\n",
            "\n",
            "\n",
            "Attaching package: ‘DALEX’\n",
            "\n",
            "\n",
            "The following object is masked from ‘package:dplyr’:\n",
            "\n",
            "    explain\n",
            "\n",
            "\n",
            "randomForest 4.6-14\n",
            "\n",
            "Type rfNews() to see new features/changes/bug fixes.\n",
            "\n",
            "\n",
            "Attaching package: ‘randomForest’\n",
            "\n",
            "\n",
            "The following object is masked from ‘package:dplyr’:\n",
            "\n",
            "    combine\n",
            "\n",
            "\n",
            "The following object is masked from ‘package:ggplot2’:\n",
            "\n",
            "    margin\n",
            "\n",
            "\n"
          ]
        }
      ]
    },
    {
      "cell_type": "code",
      "metadata": {
        "colab": {
          "base_uri": "https://localhost:8080/",
          "height": 34
        },
        "id": "aFe7ZjSWjTZB",
        "outputId": "1d9f6574-e8b0-4f37-9af6-5d856edf0ba6"
      },
      "source": [
        "dim(balanced_train2)"
      ],
      "execution_count": 47,
      "outputs": [
        {
          "output_type": "display_data",
          "data": {
            "text/plain": [
              "[1] 127927    141"
            ],
            "text/latex": "\\begin{enumerate*}\n\\item 127927\n\\item 141\n\\end{enumerate*}\n",
            "text/markdown": "1. 127927\n2. 141\n\n\n",
            "text/html": [
              "<style>\n",
              ".list-inline {list-style: none; margin:0; padding: 0}\n",
              ".list-inline>li {display: inline-block}\n",
              ".list-inline>li:not(:last-child)::after {content: \"\\00b7\"; padding: 0 .5ex}\n",
              "</style>\n",
              "<ol class=list-inline><li>127927</li><li>141</li></ol>\n"
            ]
          },
          "metadata": {}
        }
      ]
    },
    {
      "cell_type": "code",
      "metadata": {
        "id": "ovDrGTrykvrv"
      },
      "source": [
        "library('caTools')"
      ],
      "execution_count": 48,
      "outputs": []
    },
    {
      "cell_type": "code",
      "metadata": {
        "id": "PoPMjSbonmrt"
      },
      "source": [
        "balanced_train2$Target <- as.numeric(balanced_train2$Target)"
      ],
      "execution_count": 49,
      "outputs": []
    },
    {
      "cell_type": "code",
      "metadata": {
        "id": "lpnhQ2qRfYL7"
      },
      "source": [
        "sample <- sample.split(balanced_train2$Target, SplitRatio = .1)\n",
        "sample <- subset(balanced_train2, sample==TRUE)\n"
      ],
      "execution_count": 50,
      "outputs": []
    },
    {
      "cell_type": "code",
      "metadata": {
        "colab": {
          "base_uri": "https://localhost:8080/",
          "height": 34
        },
        "id": "2JUsYTgFkAFa",
        "outputId": "20b41531-0aeb-48ea-9a47-c9340771d117"
      },
      "source": [
        "dim(sample)"
      ],
      "execution_count": 51,
      "outputs": [
        {
          "output_type": "display_data",
          "data": {
            "text/plain": [
              "[1] 12792   141"
            ],
            "text/latex": "\\begin{enumerate*}\n\\item 12792\n\\item 141\n\\end{enumerate*}\n",
            "text/markdown": "1. 12792\n2. 141\n\n\n",
            "text/html": [
              "<style>\n",
              ".list-inline {list-style: none; margin:0; padding: 0}\n",
              ".list-inline>li {display: inline-block}\n",
              ".list-inline>li:not(:last-child)::after {content: \"\\00b7\"; padding: 0 .5ex}\n",
              "</style>\n",
              "<ol class=list-inline><li>12792</li><li>141</li></ol>\n"
            ]
          },
          "metadata": {}
        }
      ]
    },
    {
      "cell_type": "code",
      "metadata": {
        "id": "RdJlrVkGkDSK"
      },
      "source": [
        "sample1 <- sample.split(sample$Target, SplitRatio = .75)\n",
        "train_data <- subset(sample, sample1==TRUE)\n",
        "test_data <- subset(sample, sample1==FALSE)"
      ],
      "execution_count": 52,
      "outputs": []
    },
    {
      "cell_type": "code",
      "metadata": {
        "colab": {
          "base_uri": "https://localhost:8080/",
          "height": 34
        },
        "id": "0Iqhtzksk2KE",
        "outputId": "94abec5e-f3d4-4d8e-9a5f-c9d1e7ed1ddd"
      },
      "source": [
        "dim(train_data)"
      ],
      "execution_count": 53,
      "outputs": [
        {
          "output_type": "display_data",
          "data": {
            "text/plain": [
              "[1] 9593  141"
            ],
            "text/latex": "\\begin{enumerate*}\n\\item 9593\n\\item 141\n\\end{enumerate*}\n",
            "text/markdown": "1. 9593\n2. 141\n\n\n",
            "text/html": [
              "<style>\n",
              ".list-inline {list-style: none; margin:0; padding: 0}\n",
              ".list-inline>li {display: inline-block}\n",
              ".list-inline>li:not(:last-child)::after {content: \"\\00b7\"; padding: 0 .5ex}\n",
              "</style>\n",
              "<ol class=list-inline><li>9593</li><li>141</li></ol>\n"
            ]
          },
          "metadata": {}
        }
      ]
    },
    {
      "cell_type": "code",
      "metadata": {
        "colab": {
          "base_uri": "https://localhost:8080/",
          "height": 34
        },
        "id": "wcb_QLHvk4Ut",
        "outputId": "8af09b1e-53ef-40b5-e804-d41efdb217aa"
      },
      "source": [
        "dim(test_data)"
      ],
      "execution_count": 54,
      "outputs": [
        {
          "output_type": "display_data",
          "data": {
            "text/plain": [
              "[1] 3199  141"
            ],
            "text/latex": "\\begin{enumerate*}\n\\item 3199\n\\item 141\n\\end{enumerate*}\n",
            "text/markdown": "1. 3199\n2. 141\n\n\n",
            "text/html": [
              "<style>\n",
              ".list-inline {list-style: none; margin:0; padding: 0}\n",
              ".list-inline>li {display: inline-block}\n",
              ".list-inline>li:not(:last-child)::after {content: \"\\00b7\"; padding: 0 .5ex}\n",
              "</style>\n",
              "<ol class=list-inline><li>3199</li><li>141</li></ol>\n"
            ]
          },
          "metadata": {}
        }
      ]
    },
    {
      "cell_type": "code",
      "metadata": {
        "id": "zOkBDES4WWbz",
        "colab": {
          "base_uri": "https://localhost:8080/"
        },
        "outputId": "3b7a62b0-bc3e-4602-9ac2-8b460ddd2f37"
      },
      "source": [
        "my_rf <- randomForest(Target ~., data = train_data)"
      ],
      "execution_count": 55,
      "outputs": [
        {
          "output_type": "stream",
          "name": "stderr",
          "text": [
            "Warning message in randomForest.default(m, y, ...):\n",
            "“The response has five or fewer unique values.  Are you sure you want to do regression?”\n"
          ]
        }
      ]
    },
    {
      "cell_type": "code",
      "metadata": {
        "id": "-k6TvV0jlbEF",
        "colab": {
          "base_uri": "https://localhost:8080/"
        },
        "outputId": "fb943ca1-d1a9-4819-b23f-8fd83629bf61"
      },
      "source": [
        "explain_rf <- DALEX::explain(model = my_rf, \n",
        "                               data = test_data[,0:140], \n",
        "                               y = test_data$Target, \n",
        "                               label = \"Random Forest\")"
      ],
      "execution_count": 56,
      "outputs": [
        {
          "output_type": "stream",
          "name": "stdout",
          "text": [
            "Preparation of a new explainer is initiated\n",
            "  -> model label       :  Random Forest \n",
            "  -> data              :  3199  rows  140  cols \n",
            "  -> target variable   :  3199  values \n",
            "  -> predict function  :  yhat.randomForest  will be used ( \u001b[33m default \u001b[39m )\n",
            "  -> predicted values  :  No value for predict function target column. ( \u001b[33m default \u001b[39m )\n",
            "  -> model_info        :  package randomForest , ver. 4.6.14 , task regression ( \u001b[33m default \u001b[39m ) \n",
            "  -> predicted values  :  numerical, min =  1 , mean =  2.475316 , max =  4  \n",
            "  -> residual function :  difference between y and yhat ( \u001b[33m default \u001b[39m )\n",
            "  -> residuals         :  numerical, min =  -2.975533 , mean =  0.002020475 , max =  1.585667  \n",
            " \u001b[32m A new explainer has been created! \u001b[39m \n"
          ]
        }
      ]
    },
    {
      "cell_type": "code",
      "metadata": {
        "id": "hQbb101w36Sv",
        "colab": {
          "base_uri": "https://localhost:8080/",
          "height": 34
        },
        "outputId": "76179bba-ae53-40a9-a043-2d87d014ee1b"
      },
      "source": [
        "loss_root_mean_square(observed = test_data$Target, predicted = predict(my_rf, test_data))"
      ],
      "execution_count": 57,
      "outputs": [
        {
          "output_type": "display_data",
          "data": {
            "text/plain": [
              "[1] 0.3075083"
            ],
            "text/latex": "0.307508319889208",
            "text/markdown": "0.307508319889208",
            "text/html": [
              "0.307508319889208"
            ]
          },
          "metadata": {}
        }
      ]
    },
    {
      "cell_type": "code",
      "metadata": {
        "id": "dXVn8lG44KwG",
        "colab": {
          "base_uri": "https://localhost:8080/",
          "height": 1000
        },
        "outputId": "75912e42-ce15-4bfd-d4a5-9cecdc147f09"
      },
      "source": [
        "set.seed(123)\n",
        "(vip.50 <- model_parts(explainer = explain_rf, \n",
        "                      loss_function = loss_root_mean_square,\n",
        "                      B = 50,\n",
        "                      type = \"difference\"))"
      ],
      "execution_count": 58,
      "outputs": [
        {
          "output_type": "display_data",
          "data": {
            "text/plain": [
              "     variable        permutation dropout_loss  label        \n",
              "1    _full_model_    0            0.000000e+00 Random Forest\n",
              "2    parentesco7     0           -5.890576e-05 Random Forest\n",
              "3    techocane       0           -6.553916e-06 Random Forest\n",
              "4    instlevel9      0           -4.877551e-06 Random Forest\n",
              "5    parentesco10    0           -3.824895e-07 Random Forest\n",
              "6    elimbasu4       0           -2.380784e-07 Random Forest\n",
              "7    techootro       0           -3.984498e-08 Random Forest\n",
              "8    pisoother       0            0.000000e+00 Random Forest\n",
              "9    planpri         0            0.000000e+00 Random Forest\n",
              "10   elimbasu5       0            0.000000e+00 Random Forest\n",
              "11   elimbasu6       0            8.723764e-08 Random Forest\n",
              "12   parentesco8     0            1.889069e-07 Random Forest\n",
              "13   parentesco5     0            2.044540e-07 Random Forest\n",
              "14   energcocinar1   0            7.366696e-07 Random Forest\n",
              "15   sanitario1      0            1.568062e-06 Random Forest\n",
              "16   paredfibras     0            3.362781e-06 Random Forest\n",
              "17   abastaguano     0            5.578946e-06 Random Forest\n",
              "18   paredother      0            6.792126e-06 Random Forest\n",
              "19   pisonotiene     0            7.788473e-06 Random Forest\n",
              "20   pisonatur       0            1.020486e-05 Random Forest\n",
              "21   pareddes        0            1.416918e-05 Random Forest\n",
              "22   tipovivi4       0            2.329970e-05 Random Forest\n",
              "23   paredzinc       0            3.082652e-05 Random Forest\n",
              "24   instlevel6      0            3.301461e-05 Random Forest\n",
              "25   noelec          0            3.521360e-05 Random Forest\n",
              "26   instlevel7      0            4.337434e-05 Random Forest\n",
              "27   estadocivil6    0            5.026548e-05 Random Forest\n",
              "28   v14a            0            5.475759e-05 Random Forest\n",
              "29   parentesco9     0            5.655384e-05 Random Forest\n",
              "30   parentesco11    0            6.184888e-05 Random Forest\n",
              "31   parentesco4     0            7.128091e-05 Random Forest\n",
              "32   parentesco12    0            7.181002e-05 Random Forest\n",
              "33   hacapo          0            7.560852e-05 Random Forest\n",
              "34   refrig          0            1.037402e-04 Random Forest\n",
              "35   sanitario5      0            1.050146e-04 Random Forest\n",
              "36   v18q1           0            1.169251e-04 Random Forest\n",
              "37   sanitario6      0            1.263514e-04 Random Forest\n",
              "38   instlevel8      0            1.626614e-04 Random Forest\n",
              "39   hacdor          0            2.024844e-04 Random Forest\n",
              "40   elimbasu2       0            2.157712e-04 Random Forest\n",
              "41   estadocivil4    0            2.319295e-04 Random Forest\n",
              "42   estadocivil5    0            2.638744e-04 Random Forest\n",
              "43   techozinc       0            2.639458e-04 Random Forest\n",
              "44   techoentrepiso  0            2.735583e-04 Random Forest\n",
              "45   abastaguafuera  0            3.029646e-04 Random Forest\n",
              "46   abastaguadentro 0            3.294695e-04 Random Forest\n",
              "47   paredmad        0            6.253066e-04 Random Forest\n",
              "48   computer        0            6.628169e-04 Random Forest\n",
              "49   pisomadera      0            6.777681e-04 Random Forest\n",
              "50   tipovivi2       0            7.221857e-04 Random Forest\n",
              "51   mobilephone     0            7.401610e-04 Random Forest\n",
              "52   instlevel5      0            7.415166e-04 Random Forest\n",
              "53   instlevel4      0            8.602713e-04 Random Forest\n",
              "54   hhsize          0            8.909575e-04 Random Forest\n",
              "55   hogar_total     0            9.594673e-04 Random Forest\n",
              "56   epared1         0            1.002660e-03 Random Forest\n",
              "57   tamhog          0            1.086873e-03 Random Forest\n",
              "58   coopele         0            1.100263e-03 Random Forest\n",
              "59   r4t3            0            1.152783e-03 Random Forest\n",
              "60   parentesco6     0            1.248617e-03 Random Forest\n",
              "61   elimbasu1       0            1.254039e-03 Random Forest\n",
              "62   elimbasu3       0            1.263009e-03 Random Forest\n",
              "63   lugar2          0            1.411428e-03 Random Forest\n",
              "64   female          0            1.420354e-03 Random Forest\n",
              "65   public          0            1.424250e-03 Random Forest\n",
              "66   estadocivil7    0            1.434414e-03 Random Forest\n",
              "67   energcocinar4   0            1.464852e-03 Random Forest\n",
              "68   parentesco1     0            1.529490e-03 Random Forest\n",
              "69   SQBage          0            1.555114e-03 Random Forest\n",
              "70   male            0            1.593597e-03 Random Forest\n",
              "71   age             0            1.703982e-03 Random Forest\n",
              "72   SQBhogar_total  0            1.724836e-03 Random Forest\n",
              "73   parentesco2     0            1.770047e-03 Random Forest\n",
              "74   estadocivil2    0            1.846707e-03 Random Forest\n",
              "75   lugar3          0            2.119695e-03 Random Forest\n",
              "76   agesq           0            2.162137e-03 Random Forest\n",
              "77   tipovivi5       0            2.216894e-03 Random Forest\n",
              "78   tamviv          0            2.267931e-03 Random Forest\n",
              "79   r4h3            0            2.331472e-03 Random Forest\n",
              "80   lugar4          0            2.552029e-03 Random Forest\n",
              "81   r4m2            0            2.561556e-03 Random Forest\n",
              "82   hogar_mayor     0            2.597332e-03 Random Forest\n",
              "83   estadocivil3    0            2.662306e-03 Random Forest\n",
              "84   dis             0            2.922825e-03 Random Forest\n",
              "85   paredpreb       0            3.161145e-03 Random Forest\n",
              "86   SQBescolari     0            3.286593e-03 Random Forest\n",
              "87   parentesco3     0            3.287542e-03 Random Forest\n",
              "88   r4t2            0            3.325227e-03 Random Forest\n",
              "89   lugar6          0            3.372325e-03 Random Forest\n",
              "90   eviv2           0            3.521386e-03 Random Forest\n",
              "91   instlevel3      0            4.115411e-03 Random Forest\n",
              "92   bedrooms        0            4.144783e-03 Random Forest\n",
              "93   energcocinar3   0            4.822032e-03 Random Forest\n",
              "94   r4m3            0            5.005188e-03 Random Forest\n",
              "95   r4h2            0            5.123891e-03 Random Forest\n",
              "96   overcrowding    0            5.357419e-03 Random Forest\n",
              "97   rooms           0            5.432482e-03 Random Forest\n",
              "98   lugar5          0            5.658906e-03 Random Forest\n",
              "99   hogar_adul      0            6.146670e-03 Random Forest\n",
              "100  television      0            6.390517e-03 Random Forest\n",
              "⋮    ⋮               ⋮           ⋮             ⋮            \n",
              "7143 abastaguafuera  50          -0.0213983545 Random Forest\n",
              "7144 abastaguano     50          -0.0217754637 Random Forest\n",
              "7145 public          50          -0.0201553339 Random Forest\n",
              "7146 planpri         50          -0.0217767240 Random Forest\n",
              "7147 noelec          50          -0.0217728700 Random Forest\n",
              "7148 coopele         50          -0.0211058989 Random Forest\n",
              "7149 sanitario1      50          -0.0217765661 Random Forest\n",
              "7150 sanitario2      50           0.0109966156 Random Forest\n",
              "7151 sanitario3      50          -0.0073167391 Random Forest\n",
              "7152 sanitario5      50          -0.0217192474 Random Forest\n",
              "7153 sanitario6      50          -0.0217759658 Random Forest\n",
              "7154 energcocinar1   50          -0.0217747364 Random Forest\n",
              "7155 energcocinar2   50          -0.0132814551 Random Forest\n",
              "7156 energcocinar3   50          -0.0169883299 Random Forest\n",
              "7157 energcocinar4   50          -0.0212000994 Random Forest\n",
              "7158 elimbasu1       50          -0.0211806724 Random Forest\n",
              "7159 elimbasu2       50          -0.0216638169 Random Forest\n",
              "7160 elimbasu3       50          -0.0206499989 Random Forest\n",
              "7161 elimbasu4       50          -0.0217767240 Random Forest\n",
              "7162 elimbasu5       50          -0.0217767240 Random Forest\n",
              "7163 elimbasu6       50          -0.0217767240 Random Forest\n",
              "7164 epared1         50          -0.0210699447 Random Forest\n",
              "7165 epared2         50           0.1114500787 Random Forest\n",
              "7166 epared3         50           0.0151087563 Random Forest\n",
              "7167 etecho1         50           0.1782045009 Random Forest\n",
              "7168 etecho2         50           0.0006904411 Random Forest\n",
              "7169 etecho3         50           0.0504892329 Random Forest\n",
              "7170 eviv1           50           0.0299221575 Random Forest\n",
              "7171 eviv2           50          -0.0183794687 Random Forest\n",
              "7172 eviv3           50           0.0235215290 Random Forest\n",
              "7173 dis             50          -0.0171022072 Random Forest\n",
              "7174 male            50          -0.0191614217 Random Forest\n",
              "7175 female          50          -0.0202702958 Random Forest\n",
              "7176 estadocivil1    50           0.0320117673 Random Forest\n",
              "7177 estadocivil2    50          -0.0198406682 Random Forest\n",
              "7178 estadocivil3    50          -0.0183986535 Random Forest\n",
              "7179 estadocivil4    50          -0.0218327921 Random Forest\n",
              "7180 estadocivil5    50          -0.0218259419 Random Forest\n",
              "7181 estadocivil6    50          -0.0216828756 Random Forest\n",
              "7182 estadocivil7    50          -0.0202758487 Random Forest\n",
              "7183 parentesco1     50          -0.0207258192 Random Forest\n",
              "7184 parentesco2     50          -0.0204184494 Random Forest\n",
              "7185 parentesco3     50          -0.0190134717 Random Forest\n",
              "7186 parentesco4     50          -0.0218447061 Random Forest\n",
              "7187 parentesco5     50          -0.0217680065 Random Forest\n",
              "7188 parentesco6     50          -0.0204367769 Random Forest\n",
              "7189 parentesco7     50          -0.0218123839 Random Forest\n",
              "7190 parentesco8     50          -0.0217765609 Random Forest\n",
              "7191 parentesco9     50          -0.0215884257 Random Forest\n",
              "7192 parentesco10    50          -0.0217767240 Random Forest\n",
              "7193 parentesco11    50          -0.0217536253 Random Forest\n",
              "7194 parentesco12    50          -0.0217651336 Random Forest\n",
              "7195 idhogar         50          -0.0095685781 Random Forest\n",
              "7196 hogar_nin       50          -0.0107329420 Random Forest\n",
              "7197 hogar_adul      50          -0.0165623158 Random Forest\n",
              "7198 hogar_mayor     50          -0.0194297640 Random Forest\n",
              "7199 hogar_total     50          -0.0210126206 Random Forest\n",
              "7200 dependency      50           0.0987157068 Random Forest\n",
              "7201 edjefe          50          -0.0092022788 Random Forest\n",
              "7202 edjefa          50          -0.0072284143 Random Forest\n",
              "7203 meaneduc        50           0.0122351935 Random Forest\n",
              "7204 instlevel1      50          -0.0076468503 Random Forest\n",
              "7205 instlevel2      50           0.0049233056 Random Forest\n",
              "7206 instlevel3      50          -0.0169869140 Random Forest\n",
              "7207 instlevel4      50          -0.0205757729 Random Forest\n",
              "7208 instlevel5      50          -0.0212165270 Random Forest\n",
              "7209 instlevel6      50          -0.0217268708 Random Forest\n",
              "7210 instlevel7      50          -0.0218217656 Random Forest\n",
              "7211 instlevel8      50          -0.0218030641 Random Forest\n",
              "7212 instlevel9      50          -0.0217855897 Random Forest\n",
              "7213 bedrooms        50          -0.0190659708 Random Forest\n",
              "7214 overcrowding    50          -0.0175154947 Random Forest\n",
              "7215 tipovivi1       50          -0.0064760371 Random Forest\n",
              "7216 tipovivi2       50          -0.0209495332 Random Forest\n",
              "7217 tipovivi3       50           0.0341015868 Random Forest\n",
              "7218 tipovivi4       50          -0.0221147392 Random Forest\n",
              "7219 tipovivi5       50          -0.0209271085 Random Forest\n",
              "7220 computer        50          -0.0209893599 Random Forest\n",
              "7221 television      50          -0.0153313764 Random Forest\n",
              "7222 mobilephone     50          -0.0214855881 Random Forest\n",
              "7223 qmobilephone    50          -0.0148187424 Random Forest\n",
              "7224 lugar1          50           0.0115582546 Random Forest\n",
              "7225 lugar2          50          -0.0199672482 Random Forest\n",
              "7226 lugar3          50          -0.0203078044 Random Forest\n",
              "7227 lugar4          50          -0.0192628068 Random Forest\n",
              "7228 lugar5          50          -0.0163546169 Random Forest\n",
              "7229 lugar6          50          -0.0187044693 Random Forest\n",
              "7230 area1           50          -0.0093914016 Random Forest\n",
              "7231 area2           50          -0.0106037153 Random Forest\n",
              "7232 age             50          -0.0205121903 Random Forest\n",
              "7233 SQBescolari     50          -0.0191805896 Random Forest\n",
              "7234 SQBage          50          -0.0204979539 Random Forest\n",
              "7235 SQBhogar_total  50          -0.0203880144 Random Forest\n",
              "7236 SQBedjefe       50           0.0029273862 Random Forest\n",
              "7237 SQBhogar_nin    50          -0.0001540026 Random Forest\n",
              "7238 SQBovercrowding 50          -0.0163335848 Random Forest\n",
              "7239 SQBdependency   50          -0.0092612375 Random Forest\n",
              "7240 SQBmeaned       50           0.0020065358 Random Forest\n",
              "7241 agesq           50          -0.0207703762 Random Forest\n",
              "7242 _baseline_      50           1.1832851183 Random Forest"
            ],
            "text/latex": "A model\\_parts: 7242 × 4\n\\begin{tabular}{llll}\n variable & permutation & dropout\\_loss & label\\\\\n <chr> & <dbl> & <dbl> & <chr>\\\\\n\\hline\n\t \\_full\\_model\\_    & 0 &  0.000000e+00 & Random Forest\\\\\n\t parentesco7     & 0 & -5.890576e-05 & Random Forest\\\\\n\t techocane       & 0 & -6.553916e-06 & Random Forest\\\\\n\t instlevel9      & 0 & -4.877551e-06 & Random Forest\\\\\n\t parentesco10    & 0 & -3.824895e-07 & Random Forest\\\\\n\t elimbasu4       & 0 & -2.380784e-07 & Random Forest\\\\\n\t techootro       & 0 & -3.984498e-08 & Random Forest\\\\\n\t pisoother       & 0 &  0.000000e+00 & Random Forest\\\\\n\t planpri         & 0 &  0.000000e+00 & Random Forest\\\\\n\t elimbasu5       & 0 &  0.000000e+00 & Random Forest\\\\\n\t elimbasu6       & 0 &  8.723764e-08 & Random Forest\\\\\n\t parentesco8     & 0 &  1.889069e-07 & Random Forest\\\\\n\t parentesco5     & 0 &  2.044540e-07 & Random Forest\\\\\n\t energcocinar1   & 0 &  7.366696e-07 & Random Forest\\\\\n\t sanitario1      & 0 &  1.568062e-06 & Random Forest\\\\\n\t paredfibras     & 0 &  3.362781e-06 & Random Forest\\\\\n\t abastaguano     & 0 &  5.578946e-06 & Random Forest\\\\\n\t paredother      & 0 &  6.792126e-06 & Random Forest\\\\\n\t pisonotiene     & 0 &  7.788473e-06 & Random Forest\\\\\n\t pisonatur       & 0 &  1.020486e-05 & Random Forest\\\\\n\t pareddes        & 0 &  1.416918e-05 & Random Forest\\\\\n\t tipovivi4       & 0 &  2.329970e-05 & Random Forest\\\\\n\t paredzinc       & 0 &  3.082652e-05 & Random Forest\\\\\n\t instlevel6      & 0 &  3.301461e-05 & Random Forest\\\\\n\t noelec          & 0 &  3.521360e-05 & Random Forest\\\\\n\t instlevel7      & 0 &  4.337434e-05 & Random Forest\\\\\n\t estadocivil6    & 0 &  5.026548e-05 & Random Forest\\\\\n\t v14a            & 0 &  5.475759e-05 & Random Forest\\\\\n\t parentesco9     & 0 &  5.655384e-05 & Random Forest\\\\\n\t parentesco11    & 0 &  6.184888e-05 & Random Forest\\\\\n\t parentesco4     & 0 &  7.128091e-05 & Random Forest\\\\\n\t parentesco12    & 0 &  7.181002e-05 & Random Forest\\\\\n\t hacapo          & 0 &  7.560852e-05 & Random Forest\\\\\n\t refrig          & 0 &  1.037402e-04 & Random Forest\\\\\n\t sanitario5      & 0 &  1.050146e-04 & Random Forest\\\\\n\t v18q1           & 0 &  1.169251e-04 & Random Forest\\\\\n\t sanitario6      & 0 &  1.263514e-04 & Random Forest\\\\\n\t instlevel8      & 0 &  1.626614e-04 & Random Forest\\\\\n\t hacdor          & 0 &  2.024844e-04 & Random Forest\\\\\n\t elimbasu2       & 0 &  2.157712e-04 & Random Forest\\\\\n\t estadocivil4    & 0 &  2.319295e-04 & Random Forest\\\\\n\t estadocivil5    & 0 &  2.638744e-04 & Random Forest\\\\\n\t techozinc       & 0 &  2.639458e-04 & Random Forest\\\\\n\t techoentrepiso  & 0 &  2.735583e-04 & Random Forest\\\\\n\t abastaguafuera  & 0 &  3.029646e-04 & Random Forest\\\\\n\t abastaguadentro & 0 &  3.294695e-04 & Random Forest\\\\\n\t paredmad        & 0 &  6.253066e-04 & Random Forest\\\\\n\t computer        & 0 &  6.628169e-04 & Random Forest\\\\\n\t pisomadera      & 0 &  6.777681e-04 & Random Forest\\\\\n\t tipovivi2       & 0 &  7.221857e-04 & Random Forest\\\\\n\t mobilephone     & 0 &  7.401610e-04 & Random Forest\\\\\n\t instlevel5      & 0 &  7.415166e-04 & Random Forest\\\\\n\t instlevel4      & 0 &  8.602713e-04 & Random Forest\\\\\n\t hhsize          & 0 &  8.909575e-04 & Random Forest\\\\\n\t hogar\\_total     & 0 &  9.594673e-04 & Random Forest\\\\\n\t epared1         & 0 &  1.002660e-03 & Random Forest\\\\\n\t tamhog          & 0 &  1.086873e-03 & Random Forest\\\\\n\t coopele         & 0 &  1.100263e-03 & Random Forest\\\\\n\t r4t3            & 0 &  1.152783e-03 & Random Forest\\\\\n\t parentesco6     & 0 &  1.248617e-03 & Random Forest\\\\\n\t elimbasu1       & 0 &  1.254039e-03 & Random Forest\\\\\n\t elimbasu3       & 0 &  1.263009e-03 & Random Forest\\\\\n\t lugar2          & 0 &  1.411428e-03 & Random Forest\\\\\n\t female          & 0 &  1.420354e-03 & Random Forest\\\\\n\t public          & 0 &  1.424250e-03 & Random Forest\\\\\n\t estadocivil7    & 0 &  1.434414e-03 & Random Forest\\\\\n\t energcocinar4   & 0 &  1.464852e-03 & Random Forest\\\\\n\t parentesco1     & 0 &  1.529490e-03 & Random Forest\\\\\n\t SQBage          & 0 &  1.555114e-03 & Random Forest\\\\\n\t male            & 0 &  1.593597e-03 & Random Forest\\\\\n\t age             & 0 &  1.703982e-03 & Random Forest\\\\\n\t SQBhogar\\_total  & 0 &  1.724836e-03 & Random Forest\\\\\n\t parentesco2     & 0 &  1.770047e-03 & Random Forest\\\\\n\t estadocivil2    & 0 &  1.846707e-03 & Random Forest\\\\\n\t lugar3          & 0 &  2.119695e-03 & Random Forest\\\\\n\t agesq           & 0 &  2.162137e-03 & Random Forest\\\\\n\t tipovivi5       & 0 &  2.216894e-03 & Random Forest\\\\\n\t tamviv          & 0 &  2.267931e-03 & Random Forest\\\\\n\t r4h3            & 0 &  2.331472e-03 & Random Forest\\\\\n\t lugar4          & 0 &  2.552029e-03 & Random Forest\\\\\n\t r4m2            & 0 &  2.561556e-03 & Random Forest\\\\\n\t hogar\\_mayor     & 0 &  2.597332e-03 & Random Forest\\\\\n\t estadocivil3    & 0 &  2.662306e-03 & Random Forest\\\\\n\t dis             & 0 &  2.922825e-03 & Random Forest\\\\\n\t paredpreb       & 0 &  3.161145e-03 & Random Forest\\\\\n\t SQBescolari     & 0 &  3.286593e-03 & Random Forest\\\\\n\t parentesco3     & 0 &  3.287542e-03 & Random Forest\\\\\n\t r4t2            & 0 &  3.325227e-03 & Random Forest\\\\\n\t lugar6          & 0 &  3.372325e-03 & Random Forest\\\\\n\t eviv2           & 0 &  3.521386e-03 & Random Forest\\\\\n\t instlevel3      & 0 &  4.115411e-03 & Random Forest\\\\\n\t bedrooms        & 0 &  4.144783e-03 & Random Forest\\\\\n\t energcocinar3   & 0 &  4.822032e-03 & Random Forest\\\\\n\t r4m3            & 0 &  5.005188e-03 & Random Forest\\\\\n\t r4h2            & 0 &  5.123891e-03 & Random Forest\\\\\n\t overcrowding    & 0 &  5.357419e-03 & Random Forest\\\\\n\t rooms           & 0 &  5.432482e-03 & Random Forest\\\\\n\t lugar5          & 0 &  5.658906e-03 & Random Forest\\\\\n\t hogar\\_adul      & 0 &  6.146670e-03 & Random Forest\\\\\n\t television      & 0 &  6.390517e-03 & Random Forest\\\\\n\t ⋮ & ⋮ & ⋮ & ⋮\\\\\n\t abastaguafuera  & 50 & -0.0213983545 & Random Forest\\\\\n\t abastaguano     & 50 & -0.0217754637 & Random Forest\\\\\n\t public          & 50 & -0.0201553339 & Random Forest\\\\\n\t planpri         & 50 & -0.0217767240 & Random Forest\\\\\n\t noelec          & 50 & -0.0217728700 & Random Forest\\\\\n\t coopele         & 50 & -0.0211058989 & Random Forest\\\\\n\t sanitario1      & 50 & -0.0217765661 & Random Forest\\\\\n\t sanitario2      & 50 &  0.0109966156 & Random Forest\\\\\n\t sanitario3      & 50 & -0.0073167391 & Random Forest\\\\\n\t sanitario5      & 50 & -0.0217192474 & Random Forest\\\\\n\t sanitario6      & 50 & -0.0217759658 & Random Forest\\\\\n\t energcocinar1   & 50 & -0.0217747364 & Random Forest\\\\\n\t energcocinar2   & 50 & -0.0132814551 & Random Forest\\\\\n\t energcocinar3   & 50 & -0.0169883299 & Random Forest\\\\\n\t energcocinar4   & 50 & -0.0212000994 & Random Forest\\\\\n\t elimbasu1       & 50 & -0.0211806724 & Random Forest\\\\\n\t elimbasu2       & 50 & -0.0216638169 & Random Forest\\\\\n\t elimbasu3       & 50 & -0.0206499989 & Random Forest\\\\\n\t elimbasu4       & 50 & -0.0217767240 & Random Forest\\\\\n\t elimbasu5       & 50 & -0.0217767240 & Random Forest\\\\\n\t elimbasu6       & 50 & -0.0217767240 & Random Forest\\\\\n\t epared1         & 50 & -0.0210699447 & Random Forest\\\\\n\t epared2         & 50 &  0.1114500787 & Random Forest\\\\\n\t epared3         & 50 &  0.0151087563 & Random Forest\\\\\n\t etecho1         & 50 &  0.1782045009 & Random Forest\\\\\n\t etecho2         & 50 &  0.0006904411 & Random Forest\\\\\n\t etecho3         & 50 &  0.0504892329 & Random Forest\\\\\n\t eviv1           & 50 &  0.0299221575 & Random Forest\\\\\n\t eviv2           & 50 & -0.0183794687 & Random Forest\\\\\n\t eviv3           & 50 &  0.0235215290 & Random Forest\\\\\n\t dis             & 50 & -0.0171022072 & Random Forest\\\\\n\t male            & 50 & -0.0191614217 & Random Forest\\\\\n\t female          & 50 & -0.0202702958 & Random Forest\\\\\n\t estadocivil1    & 50 &  0.0320117673 & Random Forest\\\\\n\t estadocivil2    & 50 & -0.0198406682 & Random Forest\\\\\n\t estadocivil3    & 50 & -0.0183986535 & Random Forest\\\\\n\t estadocivil4    & 50 & -0.0218327921 & Random Forest\\\\\n\t estadocivil5    & 50 & -0.0218259419 & Random Forest\\\\\n\t estadocivil6    & 50 & -0.0216828756 & Random Forest\\\\\n\t estadocivil7    & 50 & -0.0202758487 & Random Forest\\\\\n\t parentesco1     & 50 & -0.0207258192 & Random Forest\\\\\n\t parentesco2     & 50 & -0.0204184494 & Random Forest\\\\\n\t parentesco3     & 50 & -0.0190134717 & Random Forest\\\\\n\t parentesco4     & 50 & -0.0218447061 & Random Forest\\\\\n\t parentesco5     & 50 & -0.0217680065 & Random Forest\\\\\n\t parentesco6     & 50 & -0.0204367769 & Random Forest\\\\\n\t parentesco7     & 50 & -0.0218123839 & Random Forest\\\\\n\t parentesco8     & 50 & -0.0217765609 & Random Forest\\\\\n\t parentesco9     & 50 & -0.0215884257 & Random Forest\\\\\n\t parentesco10    & 50 & -0.0217767240 & Random Forest\\\\\n\t parentesco11    & 50 & -0.0217536253 & Random Forest\\\\\n\t parentesco12    & 50 & -0.0217651336 & Random Forest\\\\\n\t idhogar         & 50 & -0.0095685781 & Random Forest\\\\\n\t hogar\\_nin       & 50 & -0.0107329420 & Random Forest\\\\\n\t hogar\\_adul      & 50 & -0.0165623158 & Random Forest\\\\\n\t hogar\\_mayor     & 50 & -0.0194297640 & Random Forest\\\\\n\t hogar\\_total     & 50 & -0.0210126206 & Random Forest\\\\\n\t dependency      & 50 &  0.0987157068 & Random Forest\\\\\n\t edjefe          & 50 & -0.0092022788 & Random Forest\\\\\n\t edjefa          & 50 & -0.0072284143 & Random Forest\\\\\n\t meaneduc        & 50 &  0.0122351935 & Random Forest\\\\\n\t instlevel1      & 50 & -0.0076468503 & Random Forest\\\\\n\t instlevel2      & 50 &  0.0049233056 & Random Forest\\\\\n\t instlevel3      & 50 & -0.0169869140 & Random Forest\\\\\n\t instlevel4      & 50 & -0.0205757729 & Random Forest\\\\\n\t instlevel5      & 50 & -0.0212165270 & Random Forest\\\\\n\t instlevel6      & 50 & -0.0217268708 & Random Forest\\\\\n\t instlevel7      & 50 & -0.0218217656 & Random Forest\\\\\n\t instlevel8      & 50 & -0.0218030641 & Random Forest\\\\\n\t instlevel9      & 50 & -0.0217855897 & Random Forest\\\\\n\t bedrooms        & 50 & -0.0190659708 & Random Forest\\\\\n\t overcrowding    & 50 & -0.0175154947 & Random Forest\\\\\n\t tipovivi1       & 50 & -0.0064760371 & Random Forest\\\\\n\t tipovivi2       & 50 & -0.0209495332 & Random Forest\\\\\n\t tipovivi3       & 50 &  0.0341015868 & Random Forest\\\\\n\t tipovivi4       & 50 & -0.0221147392 & Random Forest\\\\\n\t tipovivi5       & 50 & -0.0209271085 & Random Forest\\\\\n\t computer        & 50 & -0.0209893599 & Random Forest\\\\\n\t television      & 50 & -0.0153313764 & Random Forest\\\\\n\t mobilephone     & 50 & -0.0214855881 & Random Forest\\\\\n\t qmobilephone    & 50 & -0.0148187424 & Random Forest\\\\\n\t lugar1          & 50 &  0.0115582546 & Random Forest\\\\\n\t lugar2          & 50 & -0.0199672482 & Random Forest\\\\\n\t lugar3          & 50 & -0.0203078044 & Random Forest\\\\\n\t lugar4          & 50 & -0.0192628068 & Random Forest\\\\\n\t lugar5          & 50 & -0.0163546169 & Random Forest\\\\\n\t lugar6          & 50 & -0.0187044693 & Random Forest\\\\\n\t area1           & 50 & -0.0093914016 & Random Forest\\\\\n\t area2           & 50 & -0.0106037153 & Random Forest\\\\\n\t age             & 50 & -0.0205121903 & Random Forest\\\\\n\t SQBescolari     & 50 & -0.0191805896 & Random Forest\\\\\n\t SQBage          & 50 & -0.0204979539 & Random Forest\\\\\n\t SQBhogar\\_total  & 50 & -0.0203880144 & Random Forest\\\\\n\t SQBedjefe       & 50 &  0.0029273862 & Random Forest\\\\\n\t SQBhogar\\_nin    & 50 & -0.0001540026 & Random Forest\\\\\n\t SQBovercrowding & 50 & -0.0163335848 & Random Forest\\\\\n\t SQBdependency   & 50 & -0.0092612375 & Random Forest\\\\\n\t SQBmeaned       & 50 &  0.0020065358 & Random Forest\\\\\n\t agesq           & 50 & -0.0207703762 & Random Forest\\\\\n\t \\_baseline\\_      & 50 &  1.1832851183 & Random Forest\\\\\n\\end{tabular}\n",
            "text/markdown": "\nA model_parts: 7242 × 4\n\n| variable &lt;chr&gt; | permutation &lt;dbl&gt; | dropout_loss &lt;dbl&gt; | label &lt;chr&gt; |\n|---|---|---|---|\n| _full_model_    | 0 |  0.000000e+00 | Random Forest |\n| parentesco7     | 0 | -5.890576e-05 | Random Forest |\n| techocane       | 0 | -6.553916e-06 | Random Forest |\n| instlevel9      | 0 | -4.877551e-06 | Random Forest |\n| parentesco10    | 0 | -3.824895e-07 | Random Forest |\n| elimbasu4       | 0 | -2.380784e-07 | Random Forest |\n| techootro       | 0 | -3.984498e-08 | Random Forest |\n| pisoother       | 0 |  0.000000e+00 | Random Forest |\n| planpri         | 0 |  0.000000e+00 | Random Forest |\n| elimbasu5       | 0 |  0.000000e+00 | Random Forest |\n| elimbasu6       | 0 |  8.723764e-08 | Random Forest |\n| parentesco8     | 0 |  1.889069e-07 | Random Forest |\n| parentesco5     | 0 |  2.044540e-07 | Random Forest |\n| energcocinar1   | 0 |  7.366696e-07 | Random Forest |\n| sanitario1      | 0 |  1.568062e-06 | Random Forest |\n| paredfibras     | 0 |  3.362781e-06 | Random Forest |\n| abastaguano     | 0 |  5.578946e-06 | Random Forest |\n| paredother      | 0 |  6.792126e-06 | Random Forest |\n| pisonotiene     | 0 |  7.788473e-06 | Random Forest |\n| pisonatur       | 0 |  1.020486e-05 | Random Forest |\n| pareddes        | 0 |  1.416918e-05 | Random Forest |\n| tipovivi4       | 0 |  2.329970e-05 | Random Forest |\n| paredzinc       | 0 |  3.082652e-05 | Random Forest |\n| instlevel6      | 0 |  3.301461e-05 | Random Forest |\n| noelec          | 0 |  3.521360e-05 | Random Forest |\n| instlevel7      | 0 |  4.337434e-05 | Random Forest |\n| estadocivil6    | 0 |  5.026548e-05 | Random Forest |\n| v14a            | 0 |  5.475759e-05 | Random Forest |\n| parentesco9     | 0 |  5.655384e-05 | Random Forest |\n| parentesco11    | 0 |  6.184888e-05 | Random Forest |\n| parentesco4     | 0 |  7.128091e-05 | Random Forest |\n| parentesco12    | 0 |  7.181002e-05 | Random Forest |\n| hacapo          | 0 |  7.560852e-05 | Random Forest |\n| refrig          | 0 |  1.037402e-04 | Random Forest |\n| sanitario5      | 0 |  1.050146e-04 | Random Forest |\n| v18q1           | 0 |  1.169251e-04 | Random Forest |\n| sanitario6      | 0 |  1.263514e-04 | Random Forest |\n| instlevel8      | 0 |  1.626614e-04 | Random Forest |\n| hacdor          | 0 |  2.024844e-04 | Random Forest |\n| elimbasu2       | 0 |  2.157712e-04 | Random Forest |\n| estadocivil4    | 0 |  2.319295e-04 | Random Forest |\n| estadocivil5    | 0 |  2.638744e-04 | Random Forest |\n| techozinc       | 0 |  2.639458e-04 | Random Forest |\n| techoentrepiso  | 0 |  2.735583e-04 | Random Forest |\n| abastaguafuera  | 0 |  3.029646e-04 | Random Forest |\n| abastaguadentro | 0 |  3.294695e-04 | Random Forest |\n| paredmad        | 0 |  6.253066e-04 | Random Forest |\n| computer        | 0 |  6.628169e-04 | Random Forest |\n| pisomadera      | 0 |  6.777681e-04 | Random Forest |\n| tipovivi2       | 0 |  7.221857e-04 | Random Forest |\n| mobilephone     | 0 |  7.401610e-04 | Random Forest |\n| instlevel5      | 0 |  7.415166e-04 | Random Forest |\n| instlevel4      | 0 |  8.602713e-04 | Random Forest |\n| hhsize          | 0 |  8.909575e-04 | Random Forest |\n| hogar_total     | 0 |  9.594673e-04 | Random Forest |\n| epared1         | 0 |  1.002660e-03 | Random Forest |\n| tamhog          | 0 |  1.086873e-03 | Random Forest |\n| coopele         | 0 |  1.100263e-03 | Random Forest |\n| r4t3            | 0 |  1.152783e-03 | Random Forest |\n| parentesco6     | 0 |  1.248617e-03 | Random Forest |\n| elimbasu1       | 0 |  1.254039e-03 | Random Forest |\n| elimbasu3       | 0 |  1.263009e-03 | Random Forest |\n| lugar2          | 0 |  1.411428e-03 | Random Forest |\n| female          | 0 |  1.420354e-03 | Random Forest |\n| public          | 0 |  1.424250e-03 | Random Forest |\n| estadocivil7    | 0 |  1.434414e-03 | Random Forest |\n| energcocinar4   | 0 |  1.464852e-03 | Random Forest |\n| parentesco1     | 0 |  1.529490e-03 | Random Forest |\n| SQBage          | 0 |  1.555114e-03 | Random Forest |\n| male            | 0 |  1.593597e-03 | Random Forest |\n| age             | 0 |  1.703982e-03 | Random Forest |\n| SQBhogar_total  | 0 |  1.724836e-03 | Random Forest |\n| parentesco2     | 0 |  1.770047e-03 | Random Forest |\n| estadocivil2    | 0 |  1.846707e-03 | Random Forest |\n| lugar3          | 0 |  2.119695e-03 | Random Forest |\n| agesq           | 0 |  2.162137e-03 | Random Forest |\n| tipovivi5       | 0 |  2.216894e-03 | Random Forest |\n| tamviv          | 0 |  2.267931e-03 | Random Forest |\n| r4h3            | 0 |  2.331472e-03 | Random Forest |\n| lugar4          | 0 |  2.552029e-03 | Random Forest |\n| r4m2            | 0 |  2.561556e-03 | Random Forest |\n| hogar_mayor     | 0 |  2.597332e-03 | Random Forest |\n| estadocivil3    | 0 |  2.662306e-03 | Random Forest |\n| dis             | 0 |  2.922825e-03 | Random Forest |\n| paredpreb       | 0 |  3.161145e-03 | Random Forest |\n| SQBescolari     | 0 |  3.286593e-03 | Random Forest |\n| parentesco3     | 0 |  3.287542e-03 | Random Forest |\n| r4t2            | 0 |  3.325227e-03 | Random Forest |\n| lugar6          | 0 |  3.372325e-03 | Random Forest |\n| eviv2           | 0 |  3.521386e-03 | Random Forest |\n| instlevel3      | 0 |  4.115411e-03 | Random Forest |\n| bedrooms        | 0 |  4.144783e-03 | Random Forest |\n| energcocinar3   | 0 |  4.822032e-03 | Random Forest |\n| r4m3            | 0 |  5.005188e-03 | Random Forest |\n| r4h2            | 0 |  5.123891e-03 | Random Forest |\n| overcrowding    | 0 |  5.357419e-03 | Random Forest |\n| rooms           | 0 |  5.432482e-03 | Random Forest |\n| lugar5          | 0 |  5.658906e-03 | Random Forest |\n| hogar_adul      | 0 |  6.146670e-03 | Random Forest |\n| television      | 0 |  6.390517e-03 | Random Forest |\n| ⋮ | ⋮ | ⋮ | ⋮ |\n| abastaguafuera  | 50 | -0.0213983545 | Random Forest |\n| abastaguano     | 50 | -0.0217754637 | Random Forest |\n| public          | 50 | -0.0201553339 | Random Forest |\n| planpri         | 50 | -0.0217767240 | Random Forest |\n| noelec          | 50 | -0.0217728700 | Random Forest |\n| coopele         | 50 | -0.0211058989 | Random Forest |\n| sanitario1      | 50 | -0.0217765661 | Random Forest |\n| sanitario2      | 50 |  0.0109966156 | Random Forest |\n| sanitario3      | 50 | -0.0073167391 | Random Forest |\n| sanitario5      | 50 | -0.0217192474 | Random Forest |\n| sanitario6      | 50 | -0.0217759658 | Random Forest |\n| energcocinar1   | 50 | -0.0217747364 | Random Forest |\n| energcocinar2   | 50 | -0.0132814551 | Random Forest |\n| energcocinar3   | 50 | -0.0169883299 | Random Forest |\n| energcocinar4   | 50 | -0.0212000994 | Random Forest |\n| elimbasu1       | 50 | -0.0211806724 | Random Forest |\n| elimbasu2       | 50 | -0.0216638169 | Random Forest |\n| elimbasu3       | 50 | -0.0206499989 | Random Forest |\n| elimbasu4       | 50 | -0.0217767240 | Random Forest |\n| elimbasu5       | 50 | -0.0217767240 | Random Forest |\n| elimbasu6       | 50 | -0.0217767240 | Random Forest |\n| epared1         | 50 | -0.0210699447 | Random Forest |\n| epared2         | 50 |  0.1114500787 | Random Forest |\n| epared3         | 50 |  0.0151087563 | Random Forest |\n| etecho1         | 50 |  0.1782045009 | Random Forest |\n| etecho2         | 50 |  0.0006904411 | Random Forest |\n| etecho3         | 50 |  0.0504892329 | Random Forest |\n| eviv1           | 50 |  0.0299221575 | Random Forest |\n| eviv2           | 50 | -0.0183794687 | Random Forest |\n| eviv3           | 50 |  0.0235215290 | Random Forest |\n| dis             | 50 | -0.0171022072 | Random Forest |\n| male            | 50 | -0.0191614217 | Random Forest |\n| female          | 50 | -0.0202702958 | Random Forest |\n| estadocivil1    | 50 |  0.0320117673 | Random Forest |\n| estadocivil2    | 50 | -0.0198406682 | Random Forest |\n| estadocivil3    | 50 | -0.0183986535 | Random Forest |\n| estadocivil4    | 50 | -0.0218327921 | Random Forest |\n| estadocivil5    | 50 | -0.0218259419 | Random Forest |\n| estadocivil6    | 50 | -0.0216828756 | Random Forest |\n| estadocivil7    | 50 | -0.0202758487 | Random Forest |\n| parentesco1     | 50 | -0.0207258192 | Random Forest |\n| parentesco2     | 50 | -0.0204184494 | Random Forest |\n| parentesco3     | 50 | -0.0190134717 | Random Forest |\n| parentesco4     | 50 | -0.0218447061 | Random Forest |\n| parentesco5     | 50 | -0.0217680065 | Random Forest |\n| parentesco6     | 50 | -0.0204367769 | Random Forest |\n| parentesco7     | 50 | -0.0218123839 | Random Forest |\n| parentesco8     | 50 | -0.0217765609 | Random Forest |\n| parentesco9     | 50 | -0.0215884257 | Random Forest |\n| parentesco10    | 50 | -0.0217767240 | Random Forest |\n| parentesco11    | 50 | -0.0217536253 | Random Forest |\n| parentesco12    | 50 | -0.0217651336 | Random Forest |\n| idhogar         | 50 | -0.0095685781 | Random Forest |\n| hogar_nin       | 50 | -0.0107329420 | Random Forest |\n| hogar_adul      | 50 | -0.0165623158 | Random Forest |\n| hogar_mayor     | 50 | -0.0194297640 | Random Forest |\n| hogar_total     | 50 | -0.0210126206 | Random Forest |\n| dependency      | 50 |  0.0987157068 | Random Forest |\n| edjefe          | 50 | -0.0092022788 | Random Forest |\n| edjefa          | 50 | -0.0072284143 | Random Forest |\n| meaneduc        | 50 |  0.0122351935 | Random Forest |\n| instlevel1      | 50 | -0.0076468503 | Random Forest |\n| instlevel2      | 50 |  0.0049233056 | Random Forest |\n| instlevel3      | 50 | -0.0169869140 | Random Forest |\n| instlevel4      | 50 | -0.0205757729 | Random Forest |\n| instlevel5      | 50 | -0.0212165270 | Random Forest |\n| instlevel6      | 50 | -0.0217268708 | Random Forest |\n| instlevel7      | 50 | -0.0218217656 | Random Forest |\n| instlevel8      | 50 | -0.0218030641 | Random Forest |\n| instlevel9      | 50 | -0.0217855897 | Random Forest |\n| bedrooms        | 50 | -0.0190659708 | Random Forest |\n| overcrowding    | 50 | -0.0175154947 | Random Forest |\n| tipovivi1       | 50 | -0.0064760371 | Random Forest |\n| tipovivi2       | 50 | -0.0209495332 | Random Forest |\n| tipovivi3       | 50 |  0.0341015868 | Random Forest |\n| tipovivi4       | 50 | -0.0221147392 | Random Forest |\n| tipovivi5       | 50 | -0.0209271085 | Random Forest |\n| computer        | 50 | -0.0209893599 | Random Forest |\n| television      | 50 | -0.0153313764 | Random Forest |\n| mobilephone     | 50 | -0.0214855881 | Random Forest |\n| qmobilephone    | 50 | -0.0148187424 | Random Forest |\n| lugar1          | 50 |  0.0115582546 | Random Forest |\n| lugar2          | 50 | -0.0199672482 | Random Forest |\n| lugar3          | 50 | -0.0203078044 | Random Forest |\n| lugar4          | 50 | -0.0192628068 | Random Forest |\n| lugar5          | 50 | -0.0163546169 | Random Forest |\n| lugar6          | 50 | -0.0187044693 | Random Forest |\n| area1           | 50 | -0.0093914016 | Random Forest |\n| area2           | 50 | -0.0106037153 | Random Forest |\n| age             | 50 | -0.0205121903 | Random Forest |\n| SQBescolari     | 50 | -0.0191805896 | Random Forest |\n| SQBage          | 50 | -0.0204979539 | Random Forest |\n| SQBhogar_total  | 50 | -0.0203880144 | Random Forest |\n| SQBedjefe       | 50 |  0.0029273862 | Random Forest |\n| SQBhogar_nin    | 50 | -0.0001540026 | Random Forest |\n| SQBovercrowding | 50 | -0.0163335848 | Random Forest |\n| SQBdependency   | 50 | -0.0092612375 | Random Forest |\n| SQBmeaned       | 50 |  0.0020065358 | Random Forest |\n| agesq           | 50 | -0.0207703762 | Random Forest |\n| _baseline_      | 50 |  1.1832851183 | Random Forest |\n\n",
            "text/html": [
              "<table class=\"dataframe\">\n",
              "<caption>A model_parts: 7242 × 4</caption>\n",
              "<thead>\n",
              "\t<tr><th scope=col>variable</th><th scope=col>permutation</th><th scope=col>dropout_loss</th><th scope=col>label</th></tr>\n",
              "\t<tr><th scope=col>&lt;chr&gt;</th><th scope=col>&lt;dbl&gt;</th><th scope=col>&lt;dbl&gt;</th><th scope=col>&lt;chr&gt;</th></tr>\n",
              "</thead>\n",
              "<tbody>\n",
              "\t<tr><td>_full_model_   </td><td>0</td><td> 0.000000e+00</td><td>Random Forest</td></tr>\n",
              "\t<tr><td>parentesco7    </td><td>0</td><td>-5.890576e-05</td><td>Random Forest</td></tr>\n",
              "\t<tr><td>techocane      </td><td>0</td><td>-6.553916e-06</td><td>Random Forest</td></tr>\n",
              "\t<tr><td>instlevel9     </td><td>0</td><td>-4.877551e-06</td><td>Random Forest</td></tr>\n",
              "\t<tr><td>parentesco10   </td><td>0</td><td>-3.824895e-07</td><td>Random Forest</td></tr>\n",
              "\t<tr><td>elimbasu4      </td><td>0</td><td>-2.380784e-07</td><td>Random Forest</td></tr>\n",
              "\t<tr><td>techootro      </td><td>0</td><td>-3.984498e-08</td><td>Random Forest</td></tr>\n",
              "\t<tr><td>pisoother      </td><td>0</td><td> 0.000000e+00</td><td>Random Forest</td></tr>\n",
              "\t<tr><td>planpri        </td><td>0</td><td> 0.000000e+00</td><td>Random Forest</td></tr>\n",
              "\t<tr><td>elimbasu5      </td><td>0</td><td> 0.000000e+00</td><td>Random Forest</td></tr>\n",
              "\t<tr><td>elimbasu6      </td><td>0</td><td> 8.723764e-08</td><td>Random Forest</td></tr>\n",
              "\t<tr><td>parentesco8    </td><td>0</td><td> 1.889069e-07</td><td>Random Forest</td></tr>\n",
              "\t<tr><td>parentesco5    </td><td>0</td><td> 2.044540e-07</td><td>Random Forest</td></tr>\n",
              "\t<tr><td>energcocinar1  </td><td>0</td><td> 7.366696e-07</td><td>Random Forest</td></tr>\n",
              "\t<tr><td>sanitario1     </td><td>0</td><td> 1.568062e-06</td><td>Random Forest</td></tr>\n",
              "\t<tr><td>paredfibras    </td><td>0</td><td> 3.362781e-06</td><td>Random Forest</td></tr>\n",
              "\t<tr><td>abastaguano    </td><td>0</td><td> 5.578946e-06</td><td>Random Forest</td></tr>\n",
              "\t<tr><td>paredother     </td><td>0</td><td> 6.792126e-06</td><td>Random Forest</td></tr>\n",
              "\t<tr><td>pisonotiene    </td><td>0</td><td> 7.788473e-06</td><td>Random Forest</td></tr>\n",
              "\t<tr><td>pisonatur      </td><td>0</td><td> 1.020486e-05</td><td>Random Forest</td></tr>\n",
              "\t<tr><td>pareddes       </td><td>0</td><td> 1.416918e-05</td><td>Random Forest</td></tr>\n",
              "\t<tr><td>tipovivi4      </td><td>0</td><td> 2.329970e-05</td><td>Random Forest</td></tr>\n",
              "\t<tr><td>paredzinc      </td><td>0</td><td> 3.082652e-05</td><td>Random Forest</td></tr>\n",
              "\t<tr><td>instlevel6     </td><td>0</td><td> 3.301461e-05</td><td>Random Forest</td></tr>\n",
              "\t<tr><td>noelec         </td><td>0</td><td> 3.521360e-05</td><td>Random Forest</td></tr>\n",
              "\t<tr><td>instlevel7     </td><td>0</td><td> 4.337434e-05</td><td>Random Forest</td></tr>\n",
              "\t<tr><td>estadocivil6   </td><td>0</td><td> 5.026548e-05</td><td>Random Forest</td></tr>\n",
              "\t<tr><td>v14a           </td><td>0</td><td> 5.475759e-05</td><td>Random Forest</td></tr>\n",
              "\t<tr><td>parentesco9    </td><td>0</td><td> 5.655384e-05</td><td>Random Forest</td></tr>\n",
              "\t<tr><td>parentesco11   </td><td>0</td><td> 6.184888e-05</td><td>Random Forest</td></tr>\n",
              "\t<tr><td>parentesco4    </td><td>0</td><td> 7.128091e-05</td><td>Random Forest</td></tr>\n",
              "\t<tr><td>parentesco12   </td><td>0</td><td> 7.181002e-05</td><td>Random Forest</td></tr>\n",
              "\t<tr><td>hacapo         </td><td>0</td><td> 7.560852e-05</td><td>Random Forest</td></tr>\n",
              "\t<tr><td>refrig         </td><td>0</td><td> 1.037402e-04</td><td>Random Forest</td></tr>\n",
              "\t<tr><td>sanitario5     </td><td>0</td><td> 1.050146e-04</td><td>Random Forest</td></tr>\n",
              "\t<tr><td>v18q1          </td><td>0</td><td> 1.169251e-04</td><td>Random Forest</td></tr>\n",
              "\t<tr><td>sanitario6     </td><td>0</td><td> 1.263514e-04</td><td>Random Forest</td></tr>\n",
              "\t<tr><td>instlevel8     </td><td>0</td><td> 1.626614e-04</td><td>Random Forest</td></tr>\n",
              "\t<tr><td>hacdor         </td><td>0</td><td> 2.024844e-04</td><td>Random Forest</td></tr>\n",
              "\t<tr><td>elimbasu2      </td><td>0</td><td> 2.157712e-04</td><td>Random Forest</td></tr>\n",
              "\t<tr><td>estadocivil4   </td><td>0</td><td> 2.319295e-04</td><td>Random Forest</td></tr>\n",
              "\t<tr><td>estadocivil5   </td><td>0</td><td> 2.638744e-04</td><td>Random Forest</td></tr>\n",
              "\t<tr><td>techozinc      </td><td>0</td><td> 2.639458e-04</td><td>Random Forest</td></tr>\n",
              "\t<tr><td>techoentrepiso </td><td>0</td><td> 2.735583e-04</td><td>Random Forest</td></tr>\n",
              "\t<tr><td>abastaguafuera </td><td>0</td><td> 3.029646e-04</td><td>Random Forest</td></tr>\n",
              "\t<tr><td>abastaguadentro</td><td>0</td><td> 3.294695e-04</td><td>Random Forest</td></tr>\n",
              "\t<tr><td>paredmad       </td><td>0</td><td> 6.253066e-04</td><td>Random Forest</td></tr>\n",
              "\t<tr><td>computer       </td><td>0</td><td> 6.628169e-04</td><td>Random Forest</td></tr>\n",
              "\t<tr><td>pisomadera     </td><td>0</td><td> 6.777681e-04</td><td>Random Forest</td></tr>\n",
              "\t<tr><td>tipovivi2      </td><td>0</td><td> 7.221857e-04</td><td>Random Forest</td></tr>\n",
              "\t<tr><td>mobilephone    </td><td>0</td><td> 7.401610e-04</td><td>Random Forest</td></tr>\n",
              "\t<tr><td>instlevel5     </td><td>0</td><td> 7.415166e-04</td><td>Random Forest</td></tr>\n",
              "\t<tr><td>instlevel4     </td><td>0</td><td> 8.602713e-04</td><td>Random Forest</td></tr>\n",
              "\t<tr><td>hhsize         </td><td>0</td><td> 8.909575e-04</td><td>Random Forest</td></tr>\n",
              "\t<tr><td>hogar_total    </td><td>0</td><td> 9.594673e-04</td><td>Random Forest</td></tr>\n",
              "\t<tr><td>epared1        </td><td>0</td><td> 1.002660e-03</td><td>Random Forest</td></tr>\n",
              "\t<tr><td>tamhog         </td><td>0</td><td> 1.086873e-03</td><td>Random Forest</td></tr>\n",
              "\t<tr><td>coopele        </td><td>0</td><td> 1.100263e-03</td><td>Random Forest</td></tr>\n",
              "\t<tr><td>r4t3           </td><td>0</td><td> 1.152783e-03</td><td>Random Forest</td></tr>\n",
              "\t<tr><td>parentesco6    </td><td>0</td><td> 1.248617e-03</td><td>Random Forest</td></tr>\n",
              "\t<tr><td>elimbasu1      </td><td>0</td><td> 1.254039e-03</td><td>Random Forest</td></tr>\n",
              "\t<tr><td>elimbasu3      </td><td>0</td><td> 1.263009e-03</td><td>Random Forest</td></tr>\n",
              "\t<tr><td>lugar2         </td><td>0</td><td> 1.411428e-03</td><td>Random Forest</td></tr>\n",
              "\t<tr><td>female         </td><td>0</td><td> 1.420354e-03</td><td>Random Forest</td></tr>\n",
              "\t<tr><td>public         </td><td>0</td><td> 1.424250e-03</td><td>Random Forest</td></tr>\n",
              "\t<tr><td>estadocivil7   </td><td>0</td><td> 1.434414e-03</td><td>Random Forest</td></tr>\n",
              "\t<tr><td>energcocinar4  </td><td>0</td><td> 1.464852e-03</td><td>Random Forest</td></tr>\n",
              "\t<tr><td>parentesco1    </td><td>0</td><td> 1.529490e-03</td><td>Random Forest</td></tr>\n",
              "\t<tr><td>SQBage         </td><td>0</td><td> 1.555114e-03</td><td>Random Forest</td></tr>\n",
              "\t<tr><td>male           </td><td>0</td><td> 1.593597e-03</td><td>Random Forest</td></tr>\n",
              "\t<tr><td>age            </td><td>0</td><td> 1.703982e-03</td><td>Random Forest</td></tr>\n",
              "\t<tr><td>SQBhogar_total </td><td>0</td><td> 1.724836e-03</td><td>Random Forest</td></tr>\n",
              "\t<tr><td>parentesco2    </td><td>0</td><td> 1.770047e-03</td><td>Random Forest</td></tr>\n",
              "\t<tr><td>estadocivil2   </td><td>0</td><td> 1.846707e-03</td><td>Random Forest</td></tr>\n",
              "\t<tr><td>lugar3         </td><td>0</td><td> 2.119695e-03</td><td>Random Forest</td></tr>\n",
              "\t<tr><td>agesq          </td><td>0</td><td> 2.162137e-03</td><td>Random Forest</td></tr>\n",
              "\t<tr><td>tipovivi5      </td><td>0</td><td> 2.216894e-03</td><td>Random Forest</td></tr>\n",
              "\t<tr><td>tamviv         </td><td>0</td><td> 2.267931e-03</td><td>Random Forest</td></tr>\n",
              "\t<tr><td>r4h3           </td><td>0</td><td> 2.331472e-03</td><td>Random Forest</td></tr>\n",
              "\t<tr><td>lugar4         </td><td>0</td><td> 2.552029e-03</td><td>Random Forest</td></tr>\n",
              "\t<tr><td>r4m2           </td><td>0</td><td> 2.561556e-03</td><td>Random Forest</td></tr>\n",
              "\t<tr><td>hogar_mayor    </td><td>0</td><td> 2.597332e-03</td><td>Random Forest</td></tr>\n",
              "\t<tr><td>estadocivil3   </td><td>0</td><td> 2.662306e-03</td><td>Random Forest</td></tr>\n",
              "\t<tr><td>dis            </td><td>0</td><td> 2.922825e-03</td><td>Random Forest</td></tr>\n",
              "\t<tr><td>paredpreb      </td><td>0</td><td> 3.161145e-03</td><td>Random Forest</td></tr>\n",
              "\t<tr><td>SQBescolari    </td><td>0</td><td> 3.286593e-03</td><td>Random Forest</td></tr>\n",
              "\t<tr><td>parentesco3    </td><td>0</td><td> 3.287542e-03</td><td>Random Forest</td></tr>\n",
              "\t<tr><td>r4t2           </td><td>0</td><td> 3.325227e-03</td><td>Random Forest</td></tr>\n",
              "\t<tr><td>lugar6         </td><td>0</td><td> 3.372325e-03</td><td>Random Forest</td></tr>\n",
              "\t<tr><td>eviv2          </td><td>0</td><td> 3.521386e-03</td><td>Random Forest</td></tr>\n",
              "\t<tr><td>instlevel3     </td><td>0</td><td> 4.115411e-03</td><td>Random Forest</td></tr>\n",
              "\t<tr><td>bedrooms       </td><td>0</td><td> 4.144783e-03</td><td>Random Forest</td></tr>\n",
              "\t<tr><td>energcocinar3  </td><td>0</td><td> 4.822032e-03</td><td>Random Forest</td></tr>\n",
              "\t<tr><td>r4m3           </td><td>0</td><td> 5.005188e-03</td><td>Random Forest</td></tr>\n",
              "\t<tr><td>r4h2           </td><td>0</td><td> 5.123891e-03</td><td>Random Forest</td></tr>\n",
              "\t<tr><td>overcrowding   </td><td>0</td><td> 5.357419e-03</td><td>Random Forest</td></tr>\n",
              "\t<tr><td>rooms          </td><td>0</td><td> 5.432482e-03</td><td>Random Forest</td></tr>\n",
              "\t<tr><td>lugar5         </td><td>0</td><td> 5.658906e-03</td><td>Random Forest</td></tr>\n",
              "\t<tr><td>hogar_adul     </td><td>0</td><td> 6.146670e-03</td><td>Random Forest</td></tr>\n",
              "\t<tr><td>television     </td><td>0</td><td> 6.390517e-03</td><td>Random Forest</td></tr>\n",
              "\t<tr><td>⋮</td><td>⋮</td><td>⋮</td><td>⋮</td></tr>\n",
              "\t<tr><td>abastaguafuera </td><td>50</td><td>-0.0213983545</td><td>Random Forest</td></tr>\n",
              "\t<tr><td>abastaguano    </td><td>50</td><td>-0.0217754637</td><td>Random Forest</td></tr>\n",
              "\t<tr><td>public         </td><td>50</td><td>-0.0201553339</td><td>Random Forest</td></tr>\n",
              "\t<tr><td>planpri        </td><td>50</td><td>-0.0217767240</td><td>Random Forest</td></tr>\n",
              "\t<tr><td>noelec         </td><td>50</td><td>-0.0217728700</td><td>Random Forest</td></tr>\n",
              "\t<tr><td>coopele        </td><td>50</td><td>-0.0211058989</td><td>Random Forest</td></tr>\n",
              "\t<tr><td>sanitario1     </td><td>50</td><td>-0.0217765661</td><td>Random Forest</td></tr>\n",
              "\t<tr><td>sanitario2     </td><td>50</td><td> 0.0109966156</td><td>Random Forest</td></tr>\n",
              "\t<tr><td>sanitario3     </td><td>50</td><td>-0.0073167391</td><td>Random Forest</td></tr>\n",
              "\t<tr><td>sanitario5     </td><td>50</td><td>-0.0217192474</td><td>Random Forest</td></tr>\n",
              "\t<tr><td>sanitario6     </td><td>50</td><td>-0.0217759658</td><td>Random Forest</td></tr>\n",
              "\t<tr><td>energcocinar1  </td><td>50</td><td>-0.0217747364</td><td>Random Forest</td></tr>\n",
              "\t<tr><td>energcocinar2  </td><td>50</td><td>-0.0132814551</td><td>Random Forest</td></tr>\n",
              "\t<tr><td>energcocinar3  </td><td>50</td><td>-0.0169883299</td><td>Random Forest</td></tr>\n",
              "\t<tr><td>energcocinar4  </td><td>50</td><td>-0.0212000994</td><td>Random Forest</td></tr>\n",
              "\t<tr><td>elimbasu1      </td><td>50</td><td>-0.0211806724</td><td>Random Forest</td></tr>\n",
              "\t<tr><td>elimbasu2      </td><td>50</td><td>-0.0216638169</td><td>Random Forest</td></tr>\n",
              "\t<tr><td>elimbasu3      </td><td>50</td><td>-0.0206499989</td><td>Random Forest</td></tr>\n",
              "\t<tr><td>elimbasu4      </td><td>50</td><td>-0.0217767240</td><td>Random Forest</td></tr>\n",
              "\t<tr><td>elimbasu5      </td><td>50</td><td>-0.0217767240</td><td>Random Forest</td></tr>\n",
              "\t<tr><td>elimbasu6      </td><td>50</td><td>-0.0217767240</td><td>Random Forest</td></tr>\n",
              "\t<tr><td>epared1        </td><td>50</td><td>-0.0210699447</td><td>Random Forest</td></tr>\n",
              "\t<tr><td>epared2        </td><td>50</td><td> 0.1114500787</td><td>Random Forest</td></tr>\n",
              "\t<tr><td>epared3        </td><td>50</td><td> 0.0151087563</td><td>Random Forest</td></tr>\n",
              "\t<tr><td>etecho1        </td><td>50</td><td> 0.1782045009</td><td>Random Forest</td></tr>\n",
              "\t<tr><td>etecho2        </td><td>50</td><td> 0.0006904411</td><td>Random Forest</td></tr>\n",
              "\t<tr><td>etecho3        </td><td>50</td><td> 0.0504892329</td><td>Random Forest</td></tr>\n",
              "\t<tr><td>eviv1          </td><td>50</td><td> 0.0299221575</td><td>Random Forest</td></tr>\n",
              "\t<tr><td>eviv2          </td><td>50</td><td>-0.0183794687</td><td>Random Forest</td></tr>\n",
              "\t<tr><td>eviv3          </td><td>50</td><td> 0.0235215290</td><td>Random Forest</td></tr>\n",
              "\t<tr><td>dis            </td><td>50</td><td>-0.0171022072</td><td>Random Forest</td></tr>\n",
              "\t<tr><td>male           </td><td>50</td><td>-0.0191614217</td><td>Random Forest</td></tr>\n",
              "\t<tr><td>female         </td><td>50</td><td>-0.0202702958</td><td>Random Forest</td></tr>\n",
              "\t<tr><td>estadocivil1   </td><td>50</td><td> 0.0320117673</td><td>Random Forest</td></tr>\n",
              "\t<tr><td>estadocivil2   </td><td>50</td><td>-0.0198406682</td><td>Random Forest</td></tr>\n",
              "\t<tr><td>estadocivil3   </td><td>50</td><td>-0.0183986535</td><td>Random Forest</td></tr>\n",
              "\t<tr><td>estadocivil4   </td><td>50</td><td>-0.0218327921</td><td>Random Forest</td></tr>\n",
              "\t<tr><td>estadocivil5   </td><td>50</td><td>-0.0218259419</td><td>Random Forest</td></tr>\n",
              "\t<tr><td>estadocivil6   </td><td>50</td><td>-0.0216828756</td><td>Random Forest</td></tr>\n",
              "\t<tr><td>estadocivil7   </td><td>50</td><td>-0.0202758487</td><td>Random Forest</td></tr>\n",
              "\t<tr><td>parentesco1    </td><td>50</td><td>-0.0207258192</td><td>Random Forest</td></tr>\n",
              "\t<tr><td>parentesco2    </td><td>50</td><td>-0.0204184494</td><td>Random Forest</td></tr>\n",
              "\t<tr><td>parentesco3    </td><td>50</td><td>-0.0190134717</td><td>Random Forest</td></tr>\n",
              "\t<tr><td>parentesco4    </td><td>50</td><td>-0.0218447061</td><td>Random Forest</td></tr>\n",
              "\t<tr><td>parentesco5    </td><td>50</td><td>-0.0217680065</td><td>Random Forest</td></tr>\n",
              "\t<tr><td>parentesco6    </td><td>50</td><td>-0.0204367769</td><td>Random Forest</td></tr>\n",
              "\t<tr><td>parentesco7    </td><td>50</td><td>-0.0218123839</td><td>Random Forest</td></tr>\n",
              "\t<tr><td>parentesco8    </td><td>50</td><td>-0.0217765609</td><td>Random Forest</td></tr>\n",
              "\t<tr><td>parentesco9    </td><td>50</td><td>-0.0215884257</td><td>Random Forest</td></tr>\n",
              "\t<tr><td>parentesco10   </td><td>50</td><td>-0.0217767240</td><td>Random Forest</td></tr>\n",
              "\t<tr><td>parentesco11   </td><td>50</td><td>-0.0217536253</td><td>Random Forest</td></tr>\n",
              "\t<tr><td>parentesco12   </td><td>50</td><td>-0.0217651336</td><td>Random Forest</td></tr>\n",
              "\t<tr><td>idhogar        </td><td>50</td><td>-0.0095685781</td><td>Random Forest</td></tr>\n",
              "\t<tr><td>hogar_nin      </td><td>50</td><td>-0.0107329420</td><td>Random Forest</td></tr>\n",
              "\t<tr><td>hogar_adul     </td><td>50</td><td>-0.0165623158</td><td>Random Forest</td></tr>\n",
              "\t<tr><td>hogar_mayor    </td><td>50</td><td>-0.0194297640</td><td>Random Forest</td></tr>\n",
              "\t<tr><td>hogar_total    </td><td>50</td><td>-0.0210126206</td><td>Random Forest</td></tr>\n",
              "\t<tr><td>dependency     </td><td>50</td><td> 0.0987157068</td><td>Random Forest</td></tr>\n",
              "\t<tr><td>edjefe         </td><td>50</td><td>-0.0092022788</td><td>Random Forest</td></tr>\n",
              "\t<tr><td>edjefa         </td><td>50</td><td>-0.0072284143</td><td>Random Forest</td></tr>\n",
              "\t<tr><td>meaneduc       </td><td>50</td><td> 0.0122351935</td><td>Random Forest</td></tr>\n",
              "\t<tr><td>instlevel1     </td><td>50</td><td>-0.0076468503</td><td>Random Forest</td></tr>\n",
              "\t<tr><td>instlevel2     </td><td>50</td><td> 0.0049233056</td><td>Random Forest</td></tr>\n",
              "\t<tr><td>instlevel3     </td><td>50</td><td>-0.0169869140</td><td>Random Forest</td></tr>\n",
              "\t<tr><td>instlevel4     </td><td>50</td><td>-0.0205757729</td><td>Random Forest</td></tr>\n",
              "\t<tr><td>instlevel5     </td><td>50</td><td>-0.0212165270</td><td>Random Forest</td></tr>\n",
              "\t<tr><td>instlevel6     </td><td>50</td><td>-0.0217268708</td><td>Random Forest</td></tr>\n",
              "\t<tr><td>instlevel7     </td><td>50</td><td>-0.0218217656</td><td>Random Forest</td></tr>\n",
              "\t<tr><td>instlevel8     </td><td>50</td><td>-0.0218030641</td><td>Random Forest</td></tr>\n",
              "\t<tr><td>instlevel9     </td><td>50</td><td>-0.0217855897</td><td>Random Forest</td></tr>\n",
              "\t<tr><td>bedrooms       </td><td>50</td><td>-0.0190659708</td><td>Random Forest</td></tr>\n",
              "\t<tr><td>overcrowding   </td><td>50</td><td>-0.0175154947</td><td>Random Forest</td></tr>\n",
              "\t<tr><td>tipovivi1      </td><td>50</td><td>-0.0064760371</td><td>Random Forest</td></tr>\n",
              "\t<tr><td>tipovivi2      </td><td>50</td><td>-0.0209495332</td><td>Random Forest</td></tr>\n",
              "\t<tr><td>tipovivi3      </td><td>50</td><td> 0.0341015868</td><td>Random Forest</td></tr>\n",
              "\t<tr><td>tipovivi4      </td><td>50</td><td>-0.0221147392</td><td>Random Forest</td></tr>\n",
              "\t<tr><td>tipovivi5      </td><td>50</td><td>-0.0209271085</td><td>Random Forest</td></tr>\n",
              "\t<tr><td>computer       </td><td>50</td><td>-0.0209893599</td><td>Random Forest</td></tr>\n",
              "\t<tr><td>television     </td><td>50</td><td>-0.0153313764</td><td>Random Forest</td></tr>\n",
              "\t<tr><td>mobilephone    </td><td>50</td><td>-0.0214855881</td><td>Random Forest</td></tr>\n",
              "\t<tr><td>qmobilephone   </td><td>50</td><td>-0.0148187424</td><td>Random Forest</td></tr>\n",
              "\t<tr><td>lugar1         </td><td>50</td><td> 0.0115582546</td><td>Random Forest</td></tr>\n",
              "\t<tr><td>lugar2         </td><td>50</td><td>-0.0199672482</td><td>Random Forest</td></tr>\n",
              "\t<tr><td>lugar3         </td><td>50</td><td>-0.0203078044</td><td>Random Forest</td></tr>\n",
              "\t<tr><td>lugar4         </td><td>50</td><td>-0.0192628068</td><td>Random Forest</td></tr>\n",
              "\t<tr><td>lugar5         </td><td>50</td><td>-0.0163546169</td><td>Random Forest</td></tr>\n",
              "\t<tr><td>lugar6         </td><td>50</td><td>-0.0187044693</td><td>Random Forest</td></tr>\n",
              "\t<tr><td>area1          </td><td>50</td><td>-0.0093914016</td><td>Random Forest</td></tr>\n",
              "\t<tr><td>area2          </td><td>50</td><td>-0.0106037153</td><td>Random Forest</td></tr>\n",
              "\t<tr><td>age            </td><td>50</td><td>-0.0205121903</td><td>Random Forest</td></tr>\n",
              "\t<tr><td>SQBescolari    </td><td>50</td><td>-0.0191805896</td><td>Random Forest</td></tr>\n",
              "\t<tr><td>SQBage         </td><td>50</td><td>-0.0204979539</td><td>Random Forest</td></tr>\n",
              "\t<tr><td>SQBhogar_total </td><td>50</td><td>-0.0203880144</td><td>Random Forest</td></tr>\n",
              "\t<tr><td>SQBedjefe      </td><td>50</td><td> 0.0029273862</td><td>Random Forest</td></tr>\n",
              "\t<tr><td>SQBhogar_nin   </td><td>50</td><td>-0.0001540026</td><td>Random Forest</td></tr>\n",
              "\t<tr><td>SQBovercrowding</td><td>50</td><td>-0.0163335848</td><td>Random Forest</td></tr>\n",
              "\t<tr><td>SQBdependency  </td><td>50</td><td>-0.0092612375</td><td>Random Forest</td></tr>\n",
              "\t<tr><td>SQBmeaned      </td><td>50</td><td> 0.0020065358</td><td>Random Forest</td></tr>\n",
              "\t<tr><td>agesq          </td><td>50</td><td>-0.0207703762</td><td>Random Forest</td></tr>\n",
              "\t<tr><td>_baseline_     </td><td>50</td><td> 1.1832851183</td><td>Random Forest</td></tr>\n",
              "</tbody>\n",
              "</table>\n"
            ]
          },
          "metadata": {}
        }
      ]
    },
    {
      "cell_type": "code",
      "metadata": {
        "id": "ZCcdfhWv4t_O"
      },
      "source": [
        "library('ggplot2')"
      ],
      "execution_count": 59,
      "outputs": []
    },
    {
      "cell_type": "code",
      "metadata": {
        "id": "ELa40n-wAIoR",
        "colab": {
          "base_uri": "https://localhost:8080/",
          "height": 713
        },
        "outputId": "a52c9902-d517-44f9-87b3-af0aaa24f181"
      },
      "source": [
        "tail(vip.50,20)"
      ],
      "execution_count": 60,
      "outputs": [
        {
          "output_type": "display_data",
          "data": {
            "text/plain": [
              "     variable        permutation dropout_loss  label        \n",
              "7223 qmobilephone    50          -0.0148187424 Random Forest\n",
              "7224 lugar1          50           0.0115582546 Random Forest\n",
              "7225 lugar2          50          -0.0199672482 Random Forest\n",
              "7226 lugar3          50          -0.0203078044 Random Forest\n",
              "7227 lugar4          50          -0.0192628068 Random Forest\n",
              "7228 lugar5          50          -0.0163546169 Random Forest\n",
              "7229 lugar6          50          -0.0187044693 Random Forest\n",
              "7230 area1           50          -0.0093914016 Random Forest\n",
              "7231 area2           50          -0.0106037153 Random Forest\n",
              "7232 age             50          -0.0205121903 Random Forest\n",
              "7233 SQBescolari     50          -0.0191805896 Random Forest\n",
              "7234 SQBage          50          -0.0204979539 Random Forest\n",
              "7235 SQBhogar_total  50          -0.0203880144 Random Forest\n",
              "7236 SQBedjefe       50           0.0029273862 Random Forest\n",
              "7237 SQBhogar_nin    50          -0.0001540026 Random Forest\n",
              "7238 SQBovercrowding 50          -0.0163335848 Random Forest\n",
              "7239 SQBdependency   50          -0.0092612375 Random Forest\n",
              "7240 SQBmeaned       50           0.0020065358 Random Forest\n",
              "7241 agesq           50          -0.0207703762 Random Forest\n",
              "7242 _baseline_      50           1.1832851183 Random Forest"
            ],
            "text/latex": "A model\\_parts: 20 × 4\n\\begin{tabular}{r|llll}\n  & variable & permutation & dropout\\_loss & label\\\\\n  & <chr> & <dbl> & <dbl> & <chr>\\\\\n\\hline\n\t7223 & qmobilephone    & 50 & -0.0148187424 & Random Forest\\\\\n\t7224 & lugar1          & 50 &  0.0115582546 & Random Forest\\\\\n\t7225 & lugar2          & 50 & -0.0199672482 & Random Forest\\\\\n\t7226 & lugar3          & 50 & -0.0203078044 & Random Forest\\\\\n\t7227 & lugar4          & 50 & -0.0192628068 & Random Forest\\\\\n\t7228 & lugar5          & 50 & -0.0163546169 & Random Forest\\\\\n\t7229 & lugar6          & 50 & -0.0187044693 & Random Forest\\\\\n\t7230 & area1           & 50 & -0.0093914016 & Random Forest\\\\\n\t7231 & area2           & 50 & -0.0106037153 & Random Forest\\\\\n\t7232 & age             & 50 & -0.0205121903 & Random Forest\\\\\n\t7233 & SQBescolari     & 50 & -0.0191805896 & Random Forest\\\\\n\t7234 & SQBage          & 50 & -0.0204979539 & Random Forest\\\\\n\t7235 & SQBhogar\\_total  & 50 & -0.0203880144 & Random Forest\\\\\n\t7236 & SQBedjefe       & 50 &  0.0029273862 & Random Forest\\\\\n\t7237 & SQBhogar\\_nin    & 50 & -0.0001540026 & Random Forest\\\\\n\t7238 & SQBovercrowding & 50 & -0.0163335848 & Random Forest\\\\\n\t7239 & SQBdependency   & 50 & -0.0092612375 & Random Forest\\\\\n\t7240 & SQBmeaned       & 50 &  0.0020065358 & Random Forest\\\\\n\t7241 & agesq           & 50 & -0.0207703762 & Random Forest\\\\\n\t7242 & \\_baseline\\_      & 50 &  1.1832851183 & Random Forest\\\\\n\\end{tabular}\n",
            "text/markdown": "\nA model_parts: 20 × 4\n\n| <!--/--> | variable &lt;chr&gt; | permutation &lt;dbl&gt; | dropout_loss &lt;dbl&gt; | label &lt;chr&gt; |\n|---|---|---|---|---|\n| 7223 | qmobilephone    | 50 | -0.0148187424 | Random Forest |\n| 7224 | lugar1          | 50 |  0.0115582546 | Random Forest |\n| 7225 | lugar2          | 50 | -0.0199672482 | Random Forest |\n| 7226 | lugar3          | 50 | -0.0203078044 | Random Forest |\n| 7227 | lugar4          | 50 | -0.0192628068 | Random Forest |\n| 7228 | lugar5          | 50 | -0.0163546169 | Random Forest |\n| 7229 | lugar6          | 50 | -0.0187044693 | Random Forest |\n| 7230 | area1           | 50 | -0.0093914016 | Random Forest |\n| 7231 | area2           | 50 | -0.0106037153 | Random Forest |\n| 7232 | age             | 50 | -0.0205121903 | Random Forest |\n| 7233 | SQBescolari     | 50 | -0.0191805896 | Random Forest |\n| 7234 | SQBage          | 50 | -0.0204979539 | Random Forest |\n| 7235 | SQBhogar_total  | 50 | -0.0203880144 | Random Forest |\n| 7236 | SQBedjefe       | 50 |  0.0029273862 | Random Forest |\n| 7237 | SQBhogar_nin    | 50 | -0.0001540026 | Random Forest |\n| 7238 | SQBovercrowding | 50 | -0.0163335848 | Random Forest |\n| 7239 | SQBdependency   | 50 | -0.0092612375 | Random Forest |\n| 7240 | SQBmeaned       | 50 |  0.0020065358 | Random Forest |\n| 7241 | agesq           | 50 | -0.0207703762 | Random Forest |\n| 7242 | _baseline_      | 50 |  1.1832851183 | Random Forest |\n\n",
            "text/html": [
              "<table class=\"dataframe\">\n",
              "<caption>A model_parts: 20 × 4</caption>\n",
              "<thead>\n",
              "\t<tr><th></th><th scope=col>variable</th><th scope=col>permutation</th><th scope=col>dropout_loss</th><th scope=col>label</th></tr>\n",
              "\t<tr><th></th><th scope=col>&lt;chr&gt;</th><th scope=col>&lt;dbl&gt;</th><th scope=col>&lt;dbl&gt;</th><th scope=col>&lt;chr&gt;</th></tr>\n",
              "</thead>\n",
              "<tbody>\n",
              "\t<tr><th scope=row>7223</th><td>qmobilephone   </td><td>50</td><td>-0.0148187424</td><td>Random Forest</td></tr>\n",
              "\t<tr><th scope=row>7224</th><td>lugar1         </td><td>50</td><td> 0.0115582546</td><td>Random Forest</td></tr>\n",
              "\t<tr><th scope=row>7225</th><td>lugar2         </td><td>50</td><td>-0.0199672482</td><td>Random Forest</td></tr>\n",
              "\t<tr><th scope=row>7226</th><td>lugar3         </td><td>50</td><td>-0.0203078044</td><td>Random Forest</td></tr>\n",
              "\t<tr><th scope=row>7227</th><td>lugar4         </td><td>50</td><td>-0.0192628068</td><td>Random Forest</td></tr>\n",
              "\t<tr><th scope=row>7228</th><td>lugar5         </td><td>50</td><td>-0.0163546169</td><td>Random Forest</td></tr>\n",
              "\t<tr><th scope=row>7229</th><td>lugar6         </td><td>50</td><td>-0.0187044693</td><td>Random Forest</td></tr>\n",
              "\t<tr><th scope=row>7230</th><td>area1          </td><td>50</td><td>-0.0093914016</td><td>Random Forest</td></tr>\n",
              "\t<tr><th scope=row>7231</th><td>area2          </td><td>50</td><td>-0.0106037153</td><td>Random Forest</td></tr>\n",
              "\t<tr><th scope=row>7232</th><td>age            </td><td>50</td><td>-0.0205121903</td><td>Random Forest</td></tr>\n",
              "\t<tr><th scope=row>7233</th><td>SQBescolari    </td><td>50</td><td>-0.0191805896</td><td>Random Forest</td></tr>\n",
              "\t<tr><th scope=row>7234</th><td>SQBage         </td><td>50</td><td>-0.0204979539</td><td>Random Forest</td></tr>\n",
              "\t<tr><th scope=row>7235</th><td>SQBhogar_total </td><td>50</td><td>-0.0203880144</td><td>Random Forest</td></tr>\n",
              "\t<tr><th scope=row>7236</th><td>SQBedjefe      </td><td>50</td><td> 0.0029273862</td><td>Random Forest</td></tr>\n",
              "\t<tr><th scope=row>7237</th><td>SQBhogar_nin   </td><td>50</td><td>-0.0001540026</td><td>Random Forest</td></tr>\n",
              "\t<tr><th scope=row>7238</th><td>SQBovercrowding</td><td>50</td><td>-0.0163335848</td><td>Random Forest</td></tr>\n",
              "\t<tr><th scope=row>7239</th><td>SQBdependency  </td><td>50</td><td>-0.0092612375</td><td>Random Forest</td></tr>\n",
              "\t<tr><th scope=row>7240</th><td>SQBmeaned      </td><td>50</td><td> 0.0020065358</td><td>Random Forest</td></tr>\n",
              "\t<tr><th scope=row>7241</th><td>agesq          </td><td>50</td><td>-0.0207703762</td><td>Random Forest</td></tr>\n",
              "\t<tr><th scope=row>7242</th><td>_baseline_     </td><td>50</td><td> 1.1832851183</td><td>Random Forest</td></tr>\n",
              "</tbody>\n",
              "</table>\n"
            ]
          },
          "metadata": {}
        }
      ]
    },
    {
      "cell_type": "code",
      "metadata": {
        "id": "esI2WAUCCyrl"
      },
      "source": [
        "options(repr.plot.width = 10, repr.plot.height = 50)"
      ],
      "execution_count": 61,
      "outputs": []
    },
    {
      "cell_type": "code",
      "metadata": {
        "id": "2voMX8OY4xOR",
        "colab": {
          "base_uri": "https://localhost:8080/",
          "height": 1000
        },
        "outputId": "fecd75c9-1a30-4173-d5a4-15bebfde3d8d"
      },
      "source": [
        "plot(vip.50) + \n",
        "  ggtitle(\"Mean variable importance over 50 permutations\")"
      ],
      "execution_count": 62,
      "outputs": [
        {
          "output_type": "display_data",
          "data": {
            "image/png": "[encoded data removed]",
            "text/plain": [
              "plot without title"
            ]
          },
          "metadata": {
            "image/png": {
              "width": 600,
              "height": 3000
            }
          }
        }
      ]
    },
    {
      "cell_type": "markdown",
      "metadata": {
        "id": "OdPAigbnwGeG"
      },
      "source": [
        "# **Analyse Correlation**"
      ]
    },
    {
      "cell_type": "code",
      "metadata": {
        "id": "MdaJVtgcwKE0",
        "colab": {
          "base_uri": "https://localhost:8080/"
        },
        "outputId": "e2f24b9d-e717-4514-ddbb-9d0fab382633"
      },
      "source": [
        "install.packages('Hmisc')"
      ],
      "execution_count": 63,
      "outputs": [
        {
          "output_type": "stream",
          "name": "stderr",
          "text": [
            "Installing package into ‘/usr/local/lib/R/site-library’\n",
            "(as ‘lib’ is unspecified)\n",
            "\n"
          ]
        }
      ]
    },
    {
      "cell_type": "code",
      "metadata": {
        "id": "rh3Y5bswwoHS",
        "colab": {
          "base_uri": "https://localhost:8080/"
        },
        "outputId": "1013f096-9525-416b-d92a-bb7b7d460011"
      },
      "source": [
        "library('Hmisc')"
      ],
      "execution_count": 64,
      "outputs": [
        {
          "output_type": "stream",
          "name": "stderr",
          "text": [
            "Loading required package: survival\n",
            "\n",
            "Loading required package: Formula\n",
            "\n",
            "\n",
            "Attaching package: ‘Hmisc’\n",
            "\n",
            "\n",
            "The following objects are masked from ‘package:dplyr’:\n",
            "\n",
            "    src, summarize\n",
            "\n",
            "\n",
            "The following objects are masked from ‘package:base’:\n",
            "\n",
            "    format.pval, units\n",
            "\n",
            "\n"
          ]
        }
      ]
    },
    {
      "cell_type": "code",
      "metadata": {
        "id": "GkKw7r0kzBEi"
      },
      "source": [
        "data.rcorr = rcorr(as.matrix(balanced_train2))"
      ],
      "execution_count": 65,
      "outputs": []
    },
    {
      "cell_type": "code",
      "metadata": {
        "id": "eZzRLijozhXm"
      },
      "source": [
        "data.coeff <- data.rcorr$r\n",
        "data.p <- data.rcorr$p"
      ],
      "execution_count": 66,
      "outputs": []
    },
    {
      "cell_type": "code",
      "metadata": {
        "id": "dlNSgu7n0HVH",
        "colab": {
          "base_uri": "https://localhost:8080/",
          "height": 34
        },
        "outputId": "cb761439-0f61-4796-bf0f-f44bfd58193d"
      },
      "source": [
        "dim(data.coeff)"
      ],
      "execution_count": 67,
      "outputs": [
        {
          "output_type": "display_data",
          "data": {
            "text/plain": [
              "[1] 141 141"
            ],
            "text/latex": "\\begin{enumerate*}\n\\item 141\n\\item 141\n\\end{enumerate*}\n",
            "text/markdown": "1. 141\n2. 141\n\n\n",
            "text/html": [
              "<style>\n",
              ".list-inline {list-style: none; margin:0; padding: 0}\n",
              ".list-inline>li {display: inline-block}\n",
              ".list-inline>li:not(:last-child)::after {content: \"\\00b7\"; padding: 0 .5ex}\n",
              "</style>\n",
              "<ol class=list-inline><li>141</li><li>141</li></ol>\n"
            ]
          },
          "metadata": {}
        }
      ]
    },
    {
      "cell_type": "code",
      "metadata": {
        "id": "q_SXl38Vz58A",
        "colab": {
          "base_uri": "https://localhost:8080/",
          "height": 147
        },
        "outputId": "02c2785a-02df-48e1-ac16-47189f216040"
      },
      "source": [
        "head(data.coeff,2)"
      ],
      "execution_count": 68,
      "outputs": [
        {
          "output_type": "display_data",
          "data": {
            "text/plain": [
              "       v2a1        hacdor      rooms      hacapo      v14a        refrig     \n",
              "v2a1    1.00000000 -0.02746546  0.1580617 -0.03443392  0.01652267  0.02970624\n",
              "hacdor -0.02746546  1.00000000 -0.2207135  0.64556333 -0.15319426 -0.09944992\n",
              "       v18q        v18q1       r4h1        r4h2        r4h3        r4m1      \n",
              "v2a1    0.12022646  0.18237482 -0.01172914 -0.03107834 -0.03625672 0.03596503\n",
              "hacdor -0.09420136 -0.03856871  0.23543907  0.01086600  0.14105685 0.24052790\n",
              "       r4m2        r4m3       r4t1       r4t2        r4t3         tamhog     \n",
              "v2a1   0.001532236 0.02440949 0.01658818 -0.02191409 -0.009201852 -0.01290746\n",
              "hacdor 0.132713844 0.25802675 0.30360894  0.08070854  0.256118386  0.25639504\n",
              "       tamviv      escolari    hhsize      paredblolad paredzocalo paredpreb  \n",
              "v2a1   -0.01679364  0.11523319 -0.01290746  0.1024670  0.08682829  -0.17712469\n",
              "hacdor  0.31757945 -0.09245724  0.25639504 -0.1364228  0.07265146  -0.03588847\n",
              "       pareddes     paredmad    paredzinc   paredfibras  paredother  \n",
              "v2a1   -0.008569967 -0.05640248 -0.01770211 -0.012771661 -0.006184024\n",
              "hacdor  0.107479353  0.09576634  0.17093920 -0.009577737 -0.007215399\n",
              "       pisomoscer pisocemento pisoother     pisonatur    pisonotiene \n",
              "v2a1    0.2076635 -0.20029245 -0.0008709208 -0.000796702 -0.002842477\n",
              "hacdor -0.1353449  0.03793789 -0.0037865667  0.047962502  0.219008233\n",
              "       pisomadera  techozinc    techoentrepiso techocane   techootro   \n",
              "v2a1   -0.03749251 -0.009691085  0.02605790    -0.01898655 -0.001477065\n",
              "hacdor  0.07929895 -0.034410173 -0.02497296    -0.01584641 -0.006421943\n",
              "       cielorazo  abastaguadentro abastaguafuera abastaguano  public    \n",
              "v2a1    0.1392595  0.01738922     -0.01704227    -0.004026707 0.05305386\n",
              "hacdor -0.1603224 -0.04210060      0.05239601    -0.017743075 0.01979879\n",
              "       planpri      noelec        coopele     sanitario1   sanitario2 \n",
              "v2a1   -0.000637842  0.0007345548 -0.05401024 -0.007665412 0.085747606\n",
              "hacdor -0.002773193 -0.0123154229 -0.01687397  0.094233792 0.001948534\n",
              "       sanitario3   sanitario5   sanitario6  energcocinar1 energcocinar2\n",
              "v2a1   -0.077989381 -0.005075625 -0.01399989 -0.003146334   0.10169084  \n",
              "hacdor -0.004665741 -0.034067404 -0.01081925 -0.012775477  -0.05169517  \n",
              "       energcocinar3 energcocinar4 elimbasu1   elimbasu2    elimbasu3  \n",
              "v2a1   -0.09749299   -0.005953537   0.05068791 -0.013512808 -0.04577086\n",
              "hacdor  0.04601831    0.014375530  -0.01364243  0.001286154  0.01583609\n",
              "       elimbasu4   elimbasu5 elimbasu6    epared1     epared2      epared3    \n",
              "v2a1   -0.02325353 NaN       -0.001306585 -0.04222938 -0.002141653  0.02800711\n",
              "hacdor -0.01080203 NaN       -0.005680739  0.14734582  0.053275909 -0.14248558\n",
              "       etecho1    etecho2     etecho3     eviv1       eviv2        eviv3     \n",
              "v2a1   0.09110019 -0.09011968  0.01122016 -0.05216395 -0.085656104  0.1130548\n",
              "hacdor 0.12013464  0.01237628 -0.11103579  0.23274206  0.001681247 -0.1638803\n",
              "       dis         male         female       estadocivil1 estadocivil2\n",
              "v2a1   -0.08468670  0.020255037 -0.020255037 0.04302476   -0.140891140\n",
              "hacdor -0.03805774 -0.003524923  0.003524923 0.09765555    0.009745041\n",
              "       estadocivil3 estadocivil4 estadocivil5 estadocivil6 estadocivil7\n",
              "v2a1    0.08878766   0.02380116  -0.01389120  -0.01281934  -0.008647507\n",
              "hacdor -0.07586832  -0.03299989   0.01053011  -0.02973368  -0.004147346\n",
              "       parentesco1 parentesco2 parentesco3 parentesco4 parentesco5  parentesco6\n",
              "v2a1    0.02962357 -0.06407558 0.03775268  -0.03486254 -0.009270185 -0.02512707\n",
              "hacdor -0.05573927 -0.05019145 0.01814185   0.05117918  0.033775687  0.09189863\n",
              "       parentesco7  parentesco8 parentesco9 parentesco10 parentesco11\n",
              "v2a1   0.0084240238 -0.01332209 0.003707487  0.024585925 0.00881971  \n",
              "hacdor 0.0007023524 -0.01203718 0.016802689 -0.009464693 0.04256105  \n",
              "       parentesco12 idhogar     hogar_nin    hogar_adul  hogar_mayor\n",
              "v2a1   0.01882522   -0.24349935 -0.008224692 -0.01136508 -0.02130593\n",
              "hacdor 0.03922240   -0.00258863  0.287386608  0.06954668 -0.03413451\n",
              "       hogar_total dependency  edjefe     edjefa      meaneduc    instlevel1\n",
              "v2a1   -0.01290746 0.005274963  0.1003841 0.051380175  0.21337963 0.03720743\n",
              "hacdor  0.25639504 0.064653996 -0.0709571 0.003207777 -0.08356464 0.07822975\n",
              "       instlevel2  instlevel3  instlevel4  instlevel5  instlevel6  instlevel7  \n",
              "v2a1   -0.05344076 -0.05983550 -0.08744731  0.02884998  0.00451763  0.007323397\n",
              "hacdor  0.02102883 -0.03359868  0.01118079 -0.04058645 -0.02374726 -0.003960692\n",
              "       instlevel8  instlevel9 bedrooms   overcrowding tipovivi1   tipovivi2 \n",
              "v2a1    0.16291769  0.1552412  0.1128744 -0.1025841   -0.08965315  0.1958638\n",
              "hacdor -0.04776516 -0.0170851 -0.2041203  0.6478533   -0.09056302 -0.0574181\n",
              "       tipovivi3    tipovivi4     tipovivi5    computer    television \n",
              "v2a1   -0.001719861 -0.0007800773 -0.005620316  0.12376746 -0.06676015\n",
              "hacdor  0.071932730  0.1572476349  0.028084964 -0.06270981 -0.08131416\n",
              "       mobilephone qmobilephone lugar1      lugar2      lugar3      lugar4     \n",
              "v2a1    0.02102318  0.033307527  0.18872795 -0.01609288 -0.01560824 -0.05716794\n",
              "hacdor -0.07906695 -0.004630488 -0.02419278  0.03425399  0.02452174 -0.02685562\n",
              "       lugar5       lugar6       area1      area2       age         SQBescolari\n",
              "v2a1   -0.157303753 -0.056530237 0.14882629 -0.14882629 -0.01096665  0.18575624\n",
              "hacdor  0.008203709  0.006272249 0.05211535 -0.05211535 -0.11862673 -0.08279231\n",
              "       SQBage       SQBhogar_total SQBedjefe   SQBhogar_nin SQBovercrowding\n",
              "v2a1   -0.007970706 -0.01866654     0.16187220 -0.003697212 -0.08574359    \n",
              "hacdor -0.104869240  0.26446706    -0.08420186  0.358290582  0.77014441    \n",
              "       SQBdependency SQBmeaned   agesq        Target     \n",
              "v2a1   -0.00953574    0.22813647 -0.007970706  0.01515458\n",
              "hacdor  0.01131723   -0.07952088 -0.104869240 -0.12613642"
            ],
            "text/latex": "A matrix: 2 × 141 of type dbl\n\\begin{tabular}{r|lllllllllllllllllllllllllllllllllllllllllllllllllllllllllllllllllllllllllllllllllllllllllllllllllllllllllllllllllllllllllllllllllllllllllllll}\n  & v2a1 & hacdor & rooms & hacapo & v14a & refrig & v18q & v18q1 & r4h1 & r4h2 & r4h3 & r4m1 & r4m2 & r4m3 & r4t1 & r4t2 & r4t3 & tamhog & tamviv & escolari & hhsize & paredblolad & paredzocalo & paredpreb & pareddes & paredmad & paredzinc & paredfibras & paredother & pisomoscer & pisocemento & pisoother & pisonatur & pisonotiene & pisomadera & techozinc & techoentrepiso & techocane & techootro & cielorazo & abastaguadentro & abastaguafuera & abastaguano & public & planpri & noelec & coopele & sanitario1 & sanitario2 & sanitario3 & sanitario5 & sanitario6 & energcocinar1 & energcocinar2 & energcocinar3 & energcocinar4 & elimbasu1 & elimbasu2 & elimbasu3 & elimbasu4 & elimbasu5 & elimbasu6 & epared1 & epared2 & epared3 & etecho1 & etecho2 & etecho3 & eviv1 & eviv2 & eviv3 & dis & male & female & estadocivil1 & estadocivil2 & estadocivil3 & estadocivil4 & estadocivil5 & estadocivil6 & estadocivil7 & parentesco1 & parentesco2 & parentesco3 & parentesco4 & parentesco5 & parentesco6 & parentesco7 & parentesco8 & parentesco9 & parentesco10 & parentesco11 & parentesco12 & idhogar & hogar\\_nin & hogar\\_adul & hogar\\_mayor & hogar\\_total & dependency & edjefe & edjefa & meaneduc & instlevel1 & instlevel2 & instlevel3 & instlevel4 & instlevel5 & instlevel6 & instlevel7 & instlevel8 & instlevel9 & bedrooms & overcrowding & tipovivi1 & tipovivi2 & tipovivi3 & tipovivi4 & tipovivi5 & computer & television & mobilephone & qmobilephone & lugar1 & lugar2 & lugar3 & lugar4 & lugar5 & lugar6 & area1 & area2 & age & SQBescolari & SQBage & SQBhogar\\_total & SQBedjefe & SQBhogar\\_nin & SQBovercrowding & SQBdependency & SQBmeaned & agesq & Target\\\\\n\\hline\n\tv2a1 &  1.00000000 & -0.02746546 &  0.1580617 & -0.03443392 &  0.01652267 &  0.02970624 &  0.12022646 &  0.18237482 & -0.01172914 & -0.03107834 & -0.03625672 & 0.03596503 & 0.001532236 & 0.02440949 & 0.01658818 & -0.02191409 & -0.009201852 & -0.01290746 & -0.01679364 &  0.11523319 & -0.01290746 &  0.1024670 & 0.08682829 & -0.17712469 & -0.008569967 & -0.05640248 & -0.01770211 & -0.012771661 & -0.006184024 &  0.2076635 & -0.20029245 & -0.0008709208 & -0.000796702 & -0.002842477 & -0.03749251 & -0.009691085 &  0.02605790 & -0.01898655 & -0.001477065 &  0.1392595 &  0.01738922 & -0.01704227 & -0.004026707 & 0.05305386 & -0.000637842 &  0.0007345548 & -0.05401024 & -0.007665412 & 0.085747606 & -0.077989381 & -0.005075625 & -0.01399989 & -0.003146334 &  0.10169084 & -0.09749299 & -0.005953537 &  0.05068791 & -0.013512808 & -0.04577086 & -0.02325353 & NaN & -0.001306585 & -0.04222938 & -0.002141653 &  0.02800711 & 0.09110019 & -0.09011968 &  0.01122016 & -0.05216395 & -0.085656104 &  0.1130548 & -0.08468670 &  0.020255037 & -0.020255037 & 0.04302476 & -0.140891140 &  0.08878766 &  0.02380116 & -0.01389120 & -0.01281934 & -0.008647507 &  0.02962357 & -0.06407558 & 0.03775268 & -0.03486254 & -0.009270185 & -0.02512707 & 0.0084240238 & -0.01332209 & 0.003707487 &  0.024585925 & 0.00881971 & 0.01882522 & -0.24349935 & -0.008224692 & -0.01136508 & -0.02130593 & -0.01290746 & 0.005274963 &  0.1003841 & 0.051380175 &  0.21337963 & 0.03720743 & -0.05344076 & -0.05983550 & -0.08744731 &  0.02884998 &  0.00451763 &  0.007323397 &  0.16291769 &  0.1552412 &  0.1128744 & -0.1025841 & -0.08965315 &  0.1958638 & -0.001719861 & -0.0007800773 & -0.005620316 &  0.12376746 & -0.06676015 &  0.02102318 &  0.033307527 &  0.18872795 & -0.01609288 & -0.01560824 & -0.05716794 & -0.157303753 & -0.056530237 & 0.14882629 & -0.14882629 & -0.01096665 &  0.18575624 & -0.007970706 & -0.01866654 &  0.16187220 & -0.003697212 & -0.08574359 & -0.00953574 &  0.22813647 & -0.007970706 &  0.01515458\\\\\n\thacdor & -0.02746546 &  1.00000000 & -0.2207135 &  0.64556333 & -0.15319426 & -0.09944992 & -0.09420136 & -0.03856871 &  0.23543907 &  0.01086600 &  0.14105685 & 0.24052790 & 0.132713844 & 0.25802675 & 0.30360894 &  0.08070854 &  0.256118386 &  0.25639504 &  0.31757945 & -0.09245724 &  0.25639504 & -0.1364228 & 0.07265146 & -0.03588847 &  0.107479353 &  0.09576634 &  0.17093920 & -0.009577737 & -0.007215399 & -0.1353449 &  0.03793789 & -0.0037865667 &  0.047962502 &  0.219008233 &  0.07929895 & -0.034410173 & -0.02497296 & -0.01584641 & -0.006421943 & -0.1603224 & -0.04210060 &  0.05239601 & -0.017743075 & 0.01979879 & -0.002773193 & -0.0123154229 & -0.01687397 &  0.094233792 & 0.001948534 & -0.004665741 & -0.034067404 & -0.01081925 & -0.012775477 & -0.05169517 &  0.04601831 &  0.014375530 & -0.01364243 &  0.001286154 &  0.01583609 & -0.01080203 & NaN & -0.005680739 &  0.14734582 &  0.053275909 & -0.14248558 & 0.12013464 &  0.01237628 & -0.11103579 &  0.23274206 &  0.001681247 & -0.1638803 & -0.03805774 & -0.003524923 &  0.003524923 & 0.09765555 &  0.009745041 & -0.07586832 & -0.03299989 &  0.01053011 & -0.02973368 & -0.004147346 & -0.05573927 & -0.05019145 & 0.01814185 &  0.05117918 &  0.033775687 &  0.09189863 & 0.0007023524 & -0.01203718 & 0.016802689 & -0.009464693 & 0.04256105 & 0.03922240 & -0.00258863 &  0.287386608 &  0.06954668 & -0.03413451 &  0.25639504 & 0.064653996 & -0.0709571 & 0.003207777 & -0.08356464 & 0.07822975 &  0.02102883 & -0.03359868 &  0.01118079 & -0.04058645 & -0.02374726 & -0.003960692 & -0.04776516 & -0.0170851 & -0.2041203 &  0.6478533 & -0.09056302 & -0.0574181 &  0.071932730 &  0.1572476349 &  0.028084964 & -0.06270981 & -0.08131416 & -0.07906695 & -0.004630488 & -0.02419278 &  0.03425399 &  0.02452174 & -0.02685562 &  0.008203709 &  0.006272249 & 0.05211535 & -0.05211535 & -0.11862673 & -0.08279231 & -0.104869240 &  0.26446706 & -0.08420186 &  0.358290582 &  0.77014441 &  0.01131723 & -0.07952088 & -0.104869240 & -0.12613642\\\\\n\\end{tabular}\n",
            "text/markdown": "\nA matrix: 2 × 141 of type dbl\n\n| <!--/--> | v2a1 | hacdor | rooms | hacapo | v14a | refrig | v18q | v18q1 | r4h1 | r4h2 | r4h3 | r4m1 | r4m2 | r4m3 | r4t1 | r4t2 | r4t3 | tamhog | tamviv | escolari | hhsize | paredblolad | paredzocalo | paredpreb | pareddes | paredmad | paredzinc | paredfibras | paredother | pisomoscer | pisocemento | pisoother | pisonatur | pisonotiene | pisomadera | techozinc | techoentrepiso | techocane | techootro | cielorazo | abastaguadentro | abastaguafuera | abastaguano | public | planpri | noelec | coopele | sanitario1 | sanitario2 | sanitario3 | sanitario5 | sanitario6 | energcocinar1 | energcocinar2 | energcocinar3 | energcocinar4 | elimbasu1 | elimbasu2 | elimbasu3 | elimbasu4 | elimbasu5 | elimbasu6 | epared1 | epared2 | epared3 | etecho1 | etecho2 | etecho3 | eviv1 | eviv2 | eviv3 | dis | male | female | estadocivil1 | estadocivil2 | estadocivil3 | estadocivil4 | estadocivil5 | estadocivil6 | estadocivil7 | parentesco1 | parentesco2 | parentesco3 | parentesco4 | parentesco5 | parentesco6 | parentesco7 | parentesco8 | parentesco9 | parentesco10 | parentesco11 | parentesco12 | idhogar | hogar_nin | hogar_adul | hogar_mayor | hogar_total | dependency | edjefe | edjefa | meaneduc | instlevel1 | instlevel2 | instlevel3 | instlevel4 | instlevel5 | instlevel6 | instlevel7 | instlevel8 | instlevel9 | bedrooms | overcrowding | tipovivi1 | tipovivi2 | tipovivi3 | tipovivi4 | tipovivi5 | computer | television | mobilephone | qmobilephone | lugar1 | lugar2 | lugar3 | lugar4 | lugar5 | lugar6 | area1 | area2 | age | SQBescolari | SQBage | SQBhogar_total | SQBedjefe | SQBhogar_nin | SQBovercrowding | SQBdependency | SQBmeaned | agesq | Target |\n|---|---|---|---|---|---|---|---|---|---|---|---|---|---|---|---|---|---|---|---|---|---|---|---|---|---|---|---|---|---|---|---|---|---|---|---|---|---|---|---|---|---|---|---|---|---|---|---|---|---|---|---|---|---|---|---|---|---|---|---|---|---|---|---|---|---|---|---|---|---|---|---|---|---|---|---|---|---|---|---|---|---|---|---|---|---|---|---|---|---|---|---|---|---|---|---|---|---|---|---|---|---|---|---|---|---|---|---|---|---|---|---|---|---|---|---|---|---|---|---|---|---|---|---|---|---|---|---|---|---|---|---|---|---|---|---|---|---|---|---|---|---|\n| v2a1 |  1.00000000 | -0.02746546 |  0.1580617 | -0.03443392 |  0.01652267 |  0.02970624 |  0.12022646 |  0.18237482 | -0.01172914 | -0.03107834 | -0.03625672 | 0.03596503 | 0.001532236 | 0.02440949 | 0.01658818 | -0.02191409 | -0.009201852 | -0.01290746 | -0.01679364 |  0.11523319 | -0.01290746 |  0.1024670 | 0.08682829 | -0.17712469 | -0.008569967 | -0.05640248 | -0.01770211 | -0.012771661 | -0.006184024 |  0.2076635 | -0.20029245 | -0.0008709208 | -0.000796702 | -0.002842477 | -0.03749251 | -0.009691085 |  0.02605790 | -0.01898655 | -0.001477065 |  0.1392595 |  0.01738922 | -0.01704227 | -0.004026707 | 0.05305386 | -0.000637842 |  0.0007345548 | -0.05401024 | -0.007665412 | 0.085747606 | -0.077989381 | -0.005075625 | -0.01399989 | -0.003146334 |  0.10169084 | -0.09749299 | -0.005953537 |  0.05068791 | -0.013512808 | -0.04577086 | -0.02325353 | NaN | -0.001306585 | -0.04222938 | -0.002141653 |  0.02800711 | 0.09110019 | -0.09011968 |  0.01122016 | -0.05216395 | -0.085656104 |  0.1130548 | -0.08468670 |  0.020255037 | -0.020255037 | 0.04302476 | -0.140891140 |  0.08878766 |  0.02380116 | -0.01389120 | -0.01281934 | -0.008647507 |  0.02962357 | -0.06407558 | 0.03775268 | -0.03486254 | -0.009270185 | -0.02512707 | 0.0084240238 | -0.01332209 | 0.003707487 |  0.024585925 | 0.00881971 | 0.01882522 | -0.24349935 | -0.008224692 | -0.01136508 | -0.02130593 | -0.01290746 | 0.005274963 |  0.1003841 | 0.051380175 |  0.21337963 | 0.03720743 | -0.05344076 | -0.05983550 | -0.08744731 |  0.02884998 |  0.00451763 |  0.007323397 |  0.16291769 |  0.1552412 |  0.1128744 | -0.1025841 | -0.08965315 |  0.1958638 | -0.001719861 | -0.0007800773 | -0.005620316 |  0.12376746 | -0.06676015 |  0.02102318 |  0.033307527 |  0.18872795 | -0.01609288 | -0.01560824 | -0.05716794 | -0.157303753 | -0.056530237 | 0.14882629 | -0.14882629 | -0.01096665 |  0.18575624 | -0.007970706 | -0.01866654 |  0.16187220 | -0.003697212 | -0.08574359 | -0.00953574 |  0.22813647 | -0.007970706 |  0.01515458 |\n| hacdor | -0.02746546 |  1.00000000 | -0.2207135 |  0.64556333 | -0.15319426 | -0.09944992 | -0.09420136 | -0.03856871 |  0.23543907 |  0.01086600 |  0.14105685 | 0.24052790 | 0.132713844 | 0.25802675 | 0.30360894 |  0.08070854 |  0.256118386 |  0.25639504 |  0.31757945 | -0.09245724 |  0.25639504 | -0.1364228 | 0.07265146 | -0.03588847 |  0.107479353 |  0.09576634 |  0.17093920 | -0.009577737 | -0.007215399 | -0.1353449 |  0.03793789 | -0.0037865667 |  0.047962502 |  0.219008233 |  0.07929895 | -0.034410173 | -0.02497296 | -0.01584641 | -0.006421943 | -0.1603224 | -0.04210060 |  0.05239601 | -0.017743075 | 0.01979879 | -0.002773193 | -0.0123154229 | -0.01687397 |  0.094233792 | 0.001948534 | -0.004665741 | -0.034067404 | -0.01081925 | -0.012775477 | -0.05169517 |  0.04601831 |  0.014375530 | -0.01364243 |  0.001286154 |  0.01583609 | -0.01080203 | NaN | -0.005680739 |  0.14734582 |  0.053275909 | -0.14248558 | 0.12013464 |  0.01237628 | -0.11103579 |  0.23274206 |  0.001681247 | -0.1638803 | -0.03805774 | -0.003524923 |  0.003524923 | 0.09765555 |  0.009745041 | -0.07586832 | -0.03299989 |  0.01053011 | -0.02973368 | -0.004147346 | -0.05573927 | -0.05019145 | 0.01814185 |  0.05117918 |  0.033775687 |  0.09189863 | 0.0007023524 | -0.01203718 | 0.016802689 | -0.009464693 | 0.04256105 | 0.03922240 | -0.00258863 |  0.287386608 |  0.06954668 | -0.03413451 |  0.25639504 | 0.064653996 | -0.0709571 | 0.003207777 | -0.08356464 | 0.07822975 |  0.02102883 | -0.03359868 |  0.01118079 | -0.04058645 | -0.02374726 | -0.003960692 | -0.04776516 | -0.0170851 | -0.2041203 |  0.6478533 | -0.09056302 | -0.0574181 |  0.071932730 |  0.1572476349 |  0.028084964 | -0.06270981 | -0.08131416 | -0.07906695 | -0.004630488 | -0.02419278 |  0.03425399 |  0.02452174 | -0.02685562 |  0.008203709 |  0.006272249 | 0.05211535 | -0.05211535 | -0.11862673 | -0.08279231 | -0.104869240 |  0.26446706 | -0.08420186 |  0.358290582 |  0.77014441 |  0.01131723 | -0.07952088 | -0.104869240 | -0.12613642 |\n\n",
            "text/html": [
              "<table class=\"dataframe\">\n",
              "<caption>A matrix: 2 × 141 of type dbl</caption>\n",
              "<thead>\n",
              "\t<tr><th></th><th scope=col>v2a1</th><th scope=col>hacdor</th><th scope=col>rooms</th><th scope=col>hacapo</th><th scope=col>v14a</th><th scope=col>refrig</th><th scope=col>v18q</th><th scope=col>v18q1</th><th scope=col>r4h1</th><th scope=col>r4h2</th><th scope=col>r4h3</th><th scope=col>r4m1</th><th scope=col>r4m2</th><th scope=col>r4m3</th><th scope=col>r4t1</th><th scope=col>r4t2</th><th scope=col>r4t3</th><th scope=col>tamhog</th><th scope=col>tamviv</th><th scope=col>escolari</th><th scope=col>hhsize</th><th scope=col>paredblolad</th><th scope=col>paredzocalo</th><th scope=col>paredpreb</th><th scope=col>pareddes</th><th scope=col>paredmad</th><th scope=col>paredzinc</th><th scope=col>paredfibras</th><th scope=col>paredother</th><th scope=col>pisomoscer</th><th scope=col>pisocemento</th><th scope=col>pisoother</th><th scope=col>pisonatur</th><th scope=col>pisonotiene</th><th scope=col>pisomadera</th><th scope=col>techozinc</th><th scope=col>techoentrepiso</th><th scope=col>techocane</th><th scope=col>techootro</th><th scope=col>cielorazo</th><th scope=col>abastaguadentro</th><th scope=col>abastaguafuera</th><th scope=col>abastaguano</th><th scope=col>public</th><th scope=col>planpri</th><th scope=col>noelec</th><th scope=col>coopele</th><th scope=col>sanitario1</th><th scope=col>sanitario2</th><th scope=col>sanitario3</th><th scope=col>sanitario5</th><th scope=col>sanitario6</th><th scope=col>energcocinar1</th><th scope=col>energcocinar2</th><th scope=col>energcocinar3</th><th scope=col>energcocinar4</th><th scope=col>elimbasu1</th><th scope=col>elimbasu2</th><th scope=col>elimbasu3</th><th scope=col>elimbasu4</th><th scope=col>elimbasu5</th><th scope=col>elimbasu6</th><th scope=col>epared1</th><th scope=col>epared2</th><th scope=col>epared3</th><th scope=col>etecho1</th><th scope=col>etecho2</th><th scope=col>etecho3</th><th scope=col>eviv1</th><th scope=col>eviv2</th><th scope=col>eviv3</th><th scope=col>dis</th><th scope=col>male</th><th scope=col>female</th><th scope=col>estadocivil1</th><th scope=col>estadocivil2</th><th scope=col>estadocivil3</th><th scope=col>estadocivil4</th><th scope=col>estadocivil5</th><th scope=col>estadocivil6</th><th scope=col>estadocivil7</th><th scope=col>parentesco1</th><th scope=col>parentesco2</th><th scope=col>parentesco3</th><th scope=col>parentesco4</th><th scope=col>parentesco5</th><th scope=col>parentesco6</th><th scope=col>parentesco7</th><th scope=col>parentesco8</th><th scope=col>parentesco9</th><th scope=col>parentesco10</th><th scope=col>parentesco11</th><th scope=col>parentesco12</th><th scope=col>idhogar</th><th scope=col>hogar_nin</th><th scope=col>hogar_adul</th><th scope=col>hogar_mayor</th><th scope=col>hogar_total</th><th scope=col>dependency</th><th scope=col>edjefe</th><th scope=col>edjefa</th><th scope=col>meaneduc</th><th scope=col>instlevel1</th><th scope=col>instlevel2</th><th scope=col>instlevel3</th><th scope=col>instlevel4</th><th scope=col>instlevel5</th><th scope=col>instlevel6</th><th scope=col>instlevel7</th><th scope=col>instlevel8</th><th scope=col>instlevel9</th><th scope=col>bedrooms</th><th scope=col>overcrowding</th><th scope=col>tipovivi1</th><th scope=col>tipovivi2</th><th scope=col>tipovivi3</th><th scope=col>tipovivi4</th><th scope=col>tipovivi5</th><th scope=col>computer</th><th scope=col>television</th><th scope=col>mobilephone</th><th scope=col>qmobilephone</th><th scope=col>lugar1</th><th scope=col>lugar2</th><th scope=col>lugar3</th><th scope=col>lugar4</th><th scope=col>lugar5</th><th scope=col>lugar6</th><th scope=col>area1</th><th scope=col>area2</th><th scope=col>age</th><th scope=col>SQBescolari</th><th scope=col>SQBage</th><th scope=col>SQBhogar_total</th><th scope=col>SQBedjefe</th><th scope=col>SQBhogar_nin</th><th scope=col>SQBovercrowding</th><th scope=col>SQBdependency</th><th scope=col>SQBmeaned</th><th scope=col>agesq</th><th scope=col>Target</th></tr>\n",
              "</thead>\n",
              "<tbody>\n",
              "\t<tr><th scope=row>v2a1</th><td> 1.00000000</td><td>-0.02746546</td><td> 0.1580617</td><td>-0.03443392</td><td> 0.01652267</td><td> 0.02970624</td><td> 0.12022646</td><td> 0.18237482</td><td>-0.01172914</td><td>-0.03107834</td><td>-0.03625672</td><td>0.03596503</td><td>0.001532236</td><td>0.02440949</td><td>0.01658818</td><td>-0.02191409</td><td>-0.009201852</td><td>-0.01290746</td><td>-0.01679364</td><td> 0.11523319</td><td>-0.01290746</td><td> 0.1024670</td><td>0.08682829</td><td>-0.17712469</td><td>-0.008569967</td><td>-0.05640248</td><td>-0.01770211</td><td>-0.012771661</td><td>-0.006184024</td><td> 0.2076635</td><td>-0.20029245</td><td>-0.0008709208</td><td>-0.000796702</td><td>-0.002842477</td><td>-0.03749251</td><td>-0.009691085</td><td> 0.02605790</td><td>-0.01898655</td><td>-0.001477065</td><td> 0.1392595</td><td> 0.01738922</td><td>-0.01704227</td><td>-0.004026707</td><td>0.05305386</td><td>-0.000637842</td><td> 0.0007345548</td><td>-0.05401024</td><td>-0.007665412</td><td>0.085747606</td><td>-0.077989381</td><td>-0.005075625</td><td>-0.01399989</td><td>-0.003146334</td><td> 0.10169084</td><td>-0.09749299</td><td>-0.005953537</td><td> 0.05068791</td><td>-0.013512808</td><td>-0.04577086</td><td>-0.02325353</td><td>NaN</td><td>-0.001306585</td><td>-0.04222938</td><td>-0.002141653</td><td> 0.02800711</td><td>0.09110019</td><td>-0.09011968</td><td> 0.01122016</td><td>-0.05216395</td><td>-0.085656104</td><td> 0.1130548</td><td>-0.08468670</td><td> 0.020255037</td><td>-0.020255037</td><td>0.04302476</td><td>-0.140891140</td><td> 0.08878766</td><td> 0.02380116</td><td>-0.01389120</td><td>-0.01281934</td><td>-0.008647507</td><td> 0.02962357</td><td>-0.06407558</td><td>0.03775268</td><td>-0.03486254</td><td>-0.009270185</td><td>-0.02512707</td><td>0.0084240238</td><td>-0.01332209</td><td>0.003707487</td><td> 0.024585925</td><td>0.00881971</td><td>0.01882522</td><td>-0.24349935</td><td>-0.008224692</td><td>-0.01136508</td><td>-0.02130593</td><td>-0.01290746</td><td>0.005274963</td><td> 0.1003841</td><td>0.051380175</td><td> 0.21337963</td><td>0.03720743</td><td>-0.05344076</td><td>-0.05983550</td><td>-0.08744731</td><td> 0.02884998</td><td> 0.00451763</td><td> 0.007323397</td><td> 0.16291769</td><td> 0.1552412</td><td> 0.1128744</td><td>-0.1025841</td><td>-0.08965315</td><td> 0.1958638</td><td>-0.001719861</td><td>-0.0007800773</td><td>-0.005620316</td><td> 0.12376746</td><td>-0.06676015</td><td> 0.02102318</td><td> 0.033307527</td><td> 0.18872795</td><td>-0.01609288</td><td>-0.01560824</td><td>-0.05716794</td><td>-0.157303753</td><td>-0.056530237</td><td>0.14882629</td><td>-0.14882629</td><td>-0.01096665</td><td> 0.18575624</td><td>-0.007970706</td><td>-0.01866654</td><td> 0.16187220</td><td>-0.003697212</td><td>-0.08574359</td><td>-0.00953574</td><td> 0.22813647</td><td>-0.007970706</td><td> 0.01515458</td></tr>\n",
              "\t<tr><th scope=row>hacdor</th><td>-0.02746546</td><td> 1.00000000</td><td>-0.2207135</td><td> 0.64556333</td><td>-0.15319426</td><td>-0.09944992</td><td>-0.09420136</td><td>-0.03856871</td><td> 0.23543907</td><td> 0.01086600</td><td> 0.14105685</td><td>0.24052790</td><td>0.132713844</td><td>0.25802675</td><td>0.30360894</td><td> 0.08070854</td><td> 0.256118386</td><td> 0.25639504</td><td> 0.31757945</td><td>-0.09245724</td><td> 0.25639504</td><td>-0.1364228</td><td>0.07265146</td><td>-0.03588847</td><td> 0.107479353</td><td> 0.09576634</td><td> 0.17093920</td><td>-0.009577737</td><td>-0.007215399</td><td>-0.1353449</td><td> 0.03793789</td><td>-0.0037865667</td><td> 0.047962502</td><td> 0.219008233</td><td> 0.07929895</td><td>-0.034410173</td><td>-0.02497296</td><td>-0.01584641</td><td>-0.006421943</td><td>-0.1603224</td><td>-0.04210060</td><td> 0.05239601</td><td>-0.017743075</td><td>0.01979879</td><td>-0.002773193</td><td>-0.0123154229</td><td>-0.01687397</td><td> 0.094233792</td><td>0.001948534</td><td>-0.004665741</td><td>-0.034067404</td><td>-0.01081925</td><td>-0.012775477</td><td>-0.05169517</td><td> 0.04601831</td><td> 0.014375530</td><td>-0.01364243</td><td> 0.001286154</td><td> 0.01583609</td><td>-0.01080203</td><td>NaN</td><td>-0.005680739</td><td> 0.14734582</td><td> 0.053275909</td><td>-0.14248558</td><td>0.12013464</td><td> 0.01237628</td><td>-0.11103579</td><td> 0.23274206</td><td> 0.001681247</td><td>-0.1638803</td><td>-0.03805774</td><td>-0.003524923</td><td> 0.003524923</td><td>0.09765555</td><td> 0.009745041</td><td>-0.07586832</td><td>-0.03299989</td><td> 0.01053011</td><td>-0.02973368</td><td>-0.004147346</td><td>-0.05573927</td><td>-0.05019145</td><td>0.01814185</td><td> 0.05117918</td><td> 0.033775687</td><td> 0.09189863</td><td>0.0007023524</td><td>-0.01203718</td><td>0.016802689</td><td>-0.009464693</td><td>0.04256105</td><td>0.03922240</td><td>-0.00258863</td><td> 0.287386608</td><td> 0.06954668</td><td>-0.03413451</td><td> 0.25639504</td><td>0.064653996</td><td>-0.0709571</td><td>0.003207777</td><td>-0.08356464</td><td>0.07822975</td><td> 0.02102883</td><td>-0.03359868</td><td> 0.01118079</td><td>-0.04058645</td><td>-0.02374726</td><td>-0.003960692</td><td>-0.04776516</td><td>-0.0170851</td><td>-0.2041203</td><td> 0.6478533</td><td>-0.09056302</td><td>-0.0574181</td><td> 0.071932730</td><td> 0.1572476349</td><td> 0.028084964</td><td>-0.06270981</td><td>-0.08131416</td><td>-0.07906695</td><td>-0.004630488</td><td>-0.02419278</td><td> 0.03425399</td><td> 0.02452174</td><td>-0.02685562</td><td> 0.008203709</td><td> 0.006272249</td><td>0.05211535</td><td>-0.05211535</td><td>-0.11862673</td><td>-0.08279231</td><td>-0.104869240</td><td> 0.26446706</td><td>-0.08420186</td><td> 0.358290582</td><td> 0.77014441</td><td> 0.01131723</td><td>-0.07952088</td><td>-0.104869240</td><td>-0.12613642</td></tr>\n",
              "</tbody>\n",
              "</table>\n"
            ]
          },
          "metadata": {}
        }
      ]
    },
    {
      "cell_type": "code",
      "metadata": {
        "id": "G3lKYq_R0P1X",
        "colab": {
          "base_uri": "https://localhost:8080/",
          "height": 158
        },
        "outputId": "04ff66c4-88eb-40e5-d538-b20ac7fe82ec"
      },
      "source": [
        "data.coeff1 <- as.data.frame(data.coeff[, 141])\n",
        "head(data.coeff1, 2)"
      ],
      "execution_count": 69,
      "outputs": [
        {
          "output_type": "display_data",
          "data": {
            "text/plain": [
              "       data.coeff[, 141]\n",
              "v2a1    0.01515458      \n",
              "hacdor -0.12613642      "
            ],
            "text/latex": "A data.frame: 2 × 1\n\\begin{tabular}{r|l}\n  & data.coeff{[}, 141{]}\\\\\n  & <dbl>\\\\\n\\hline\n\tv2a1 &  0.01515458\\\\\n\thacdor & -0.12613642\\\\\n\\end{tabular}\n",
            "text/markdown": "\nA data.frame: 2 × 1\n\n| <!--/--> | data.coeff[, 141] &lt;dbl&gt; |\n|---|---|\n| v2a1 |  0.01515458 |\n| hacdor | -0.12613642 |\n\n",
            "text/html": [
              "<table class=\"dataframe\">\n",
              "<caption>A data.frame: 2 × 1</caption>\n",
              "<thead>\n",
              "\t<tr><th></th><th scope=col>data.coeff[, 141]</th></tr>\n",
              "\t<tr><th></th><th scope=col>&lt;dbl&gt;</th></tr>\n",
              "</thead>\n",
              "<tbody>\n",
              "\t<tr><th scope=row>v2a1</th><td> 0.01515458</td></tr>\n",
              "\t<tr><th scope=row>hacdor</th><td>-0.12613642</td></tr>\n",
              "</tbody>\n",
              "</table>\n"
            ]
          },
          "metadata": {}
        }
      ]
    },
    {
      "cell_type": "code",
      "metadata": {
        "id": "bu0Caalm-xpe"
      },
      "source": [
        "data.coeff <- as.data.frame(data.coeff)"
      ],
      "execution_count": 70,
      "outputs": []
    },
    {
      "cell_type": "code",
      "metadata": {
        "id": "w-3MEt-q-1HV",
        "colab": {
          "base_uri": "https://localhost:8080/",
          "height": 343
        },
        "outputId": "dfec1e2b-6bb9-4c53-8893-6fafbf507327"
      },
      "source": [
        "data.coeff %>%\n",
        "  select(Target) %>%\n",
        "  arrange(desc(Target)) %>%\n",
        "  filter(Target > 0.3)"
      ],
      "execution_count": 71,
      "outputs": [
        {
          "output_type": "display_data",
          "data": {
            "text/plain": [
              "            Target   \n",
              "Target      1.0000000\n",
              "epared3     0.4750542\n",
              "etecho3     0.4558925\n",
              "escolari    0.3595028\n",
              "v18q        0.3562209\n",
              "paredblolad 0.3441004\n",
              "SQBescolari 0.3404588\n",
              "television  0.3078663"
            ],
            "text/latex": "A data.frame: 8 × 1\n\\begin{tabular}{r|l}\n  & Target\\\\\n  & <dbl>\\\\\n\\hline\n\tTarget & 1.0000000\\\\\n\tepared3 & 0.4750542\\\\\n\tetecho3 & 0.4558925\\\\\n\tescolari & 0.3595028\\\\\n\tv18q & 0.3562209\\\\\n\tparedblolad & 0.3441004\\\\\n\tSQBescolari & 0.3404588\\\\\n\ttelevision & 0.3078663\\\\\n\\end{tabular}\n",
            "text/markdown": "\nA data.frame: 8 × 1\n\n| <!--/--> | Target &lt;dbl&gt; |\n|---|---|\n| Target | 1.0000000 |\n| epared3 | 0.4750542 |\n| etecho3 | 0.4558925 |\n| escolari | 0.3595028 |\n| v18q | 0.3562209 |\n| paredblolad | 0.3441004 |\n| SQBescolari | 0.3404588 |\n| television | 0.3078663 |\n\n",
            "text/html": [
              "<table class=\"dataframe\">\n",
              "<caption>A data.frame: 8 × 1</caption>\n",
              "<thead>\n",
              "\t<tr><th></th><th scope=col>Target</th></tr>\n",
              "\t<tr><th></th><th scope=col>&lt;dbl&gt;</th></tr>\n",
              "</thead>\n",
              "<tbody>\n",
              "\t<tr><th scope=row>Target</th><td>1.0000000</td></tr>\n",
              "\t<tr><th scope=row>epared3</th><td>0.4750542</td></tr>\n",
              "\t<tr><th scope=row>etecho3</th><td>0.4558925</td></tr>\n",
              "\t<tr><th scope=row>escolari</th><td>0.3595028</td></tr>\n",
              "\t<tr><th scope=row>v18q</th><td>0.3562209</td></tr>\n",
              "\t<tr><th scope=row>paredblolad</th><td>0.3441004</td></tr>\n",
              "\t<tr><th scope=row>SQBescolari</th><td>0.3404588</td></tr>\n",
              "\t<tr><th scope=row>television</th><td>0.3078663</td></tr>\n",
              "</tbody>\n",
              "</table>\n"
            ]
          },
          "metadata": {}
        }
      ]
    },
    {
      "cell_type": "code",
      "metadata": {
        "id": "pQVyTHZB2Q5g",
        "colab": {
          "base_uri": "https://localhost:8080/",
          "height": 343
        },
        "outputId": "f1062a0c-7dca-4823-bfce-bd04a3219b65"
      },
      "source": [
        "data.coeff %>%\n",
        "  select(Target) %>%\n",
        "  arrange(Target) %>%\n",
        "  filter(Target < -0.3)"
      ],
      "execution_count": 72,
      "outputs": [
        {
          "output_type": "display_data",
          "data": {
            "text/plain": [
              "             Target    \n",
              "r4t1         -0.5082399\n",
              "etecho1      -0.4441216\n",
              "paredzocalo  -0.4425884\n",
              "r4m1         -0.4179358\n",
              "epared2      -0.4012238\n",
              "r4h1         -0.3776451\n",
              "hogar_nin    -0.3596533\n",
              "estadocivil1 -0.3217847"
            ],
            "text/latex": "A data.frame: 8 × 1\n\\begin{tabular}{r|l}\n  & Target\\\\\n  & <dbl>\\\\\n\\hline\n\tr4t1 & -0.5082399\\\\\n\tetecho1 & -0.4441216\\\\\n\tparedzocalo & -0.4425884\\\\\n\tr4m1 & -0.4179358\\\\\n\tepared2 & -0.4012238\\\\\n\tr4h1 & -0.3776451\\\\\n\thogar\\_nin & -0.3596533\\\\\n\testadocivil1 & -0.3217847\\\\\n\\end{tabular}\n",
            "text/markdown": "\nA data.frame: 8 × 1\n\n| <!--/--> | Target &lt;dbl&gt; |\n|---|---|\n| r4t1 | -0.5082399 |\n| etecho1 | -0.4441216 |\n| paredzocalo | -0.4425884 |\n| r4m1 | -0.4179358 |\n| epared2 | -0.4012238 |\n| r4h1 | -0.3776451 |\n| hogar_nin | -0.3596533 |\n| estadocivil1 | -0.3217847 |\n\n",
            "text/html": [
              "<table class=\"dataframe\">\n",
              "<caption>A data.frame: 8 × 1</caption>\n",
              "<thead>\n",
              "\t<tr><th></th><th scope=col>Target</th></tr>\n",
              "\t<tr><th></th><th scope=col>&lt;dbl&gt;</th></tr>\n",
              "</thead>\n",
              "<tbody>\n",
              "\t<tr><th scope=row>r4t1</th><td>-0.5082399</td></tr>\n",
              "\t<tr><th scope=row>etecho1</th><td>-0.4441216</td></tr>\n",
              "\t<tr><th scope=row>paredzocalo</th><td>-0.4425884</td></tr>\n",
              "\t<tr><th scope=row>r4m1</th><td>-0.4179358</td></tr>\n",
              "\t<tr><th scope=row>epared2</th><td>-0.4012238</td></tr>\n",
              "\t<tr><th scope=row>r4h1</th><td>-0.3776451</td></tr>\n",
              "\t<tr><th scope=row>hogar_nin</th><td>-0.3596533</td></tr>\n",
              "\t<tr><th scope=row>estadocivil1</th><td>-0.3217847</td></tr>\n",
              "</tbody>\n",
              "</table>\n"
            ]
          },
          "metadata": {}
        }
      ]
    }
  ]
}
