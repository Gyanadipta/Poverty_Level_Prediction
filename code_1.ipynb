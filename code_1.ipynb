{
  "nbformat": 4,
  "nbformat_minor": 0,
  "metadata": {
    "colab": {
      "name": "FDA Project.ipynb",
      "provenance": [],
      "collapsed_sections": [],
      "include_colab_link": true
    },
    "kernelspec": {
      "display_name": "R",
      "name": "ir"
    },
    "language_info": {
      "name": "R"
    }
  },
  "cells": [
    {
      "cell_type": "markdown",
      "metadata": {
        "id": "view-in-github",
        "colab_type": "text"
      },
      "source": [
        "<a href=\"https://colab.research.google.com/github/Meghs1424/Poverty-Level-Prediction/blob/main/FDA_Project.ipynb\" target=\"_parent\"><img src=\"https://colab.research.google.com/assets/colab-badge.svg\" alt=\"Open In Colab\"/></a>"
      ]
    },
    {
      "cell_type": "code",
      "metadata": {
        "colab": {
          "base_uri": "https://localhost:8080/",
          "height": 34
        },
        "id": "Wh3aHJW22hnt",
        "outputId": "498bae5c-b989-4a09-bdbb-ad6a35cf6e84"
      },
      "source": [
        "R.version.string"
      ],
      "execution_count": 1,
      "outputs": [
        {
          "output_type": "display_data",
          "data": {
            "text/plain": [
              "[1] \"R version 4.1.1 (2021-08-10)\""
            ],
            "text/latex": "'R version 4.1.1 (2021-08-10)'",
            "text/markdown": "'R version 4.1.1 (2021-08-10)'",
            "text/html": [
              "'R version 4.1.1 (2021-08-10)'"
            ]
          },
          "metadata": {}
        }
      ]
    },
    {
      "cell_type": "code",
      "metadata": {
        "colab": {
          "base_uri": "https://localhost:8080/"
        },
        "id": "cnLY8Cro5Xzg",
        "outputId": "55caa0ea-1464-42b8-8f23-dd27d61c00ea"
      },
      "source": [
        "# Library block\n",
        "library(readr)\n",
        "library(ggplot2)\n",
        "library(tidyverse)\n",
        "library(rpart)"
      ],
      "execution_count": 2,
      "outputs": [
        {
          "output_type": "stream",
          "name": "stderr",
          "text": [
            "Warning message in system(\"timedatectl\", intern = TRUE):\n",
            "“running command 'timedatectl' had status 1”\n",
            "── \u001b[1mAttaching packages\u001b[22m ─────────────────────────────────────── tidyverse 1.3.1 ──\n",
            "\n",
            "\u001b[32m✔\u001b[39m \u001b[34mtibble \u001b[39m 3.1.5     \u001b[32m✔\u001b[39m \u001b[34mdplyr  \u001b[39m 1.0.7\n",
            "\u001b[32m✔\u001b[39m \u001b[34mtidyr  \u001b[39m 1.1.4     \u001b[32m✔\u001b[39m \u001b[34mstringr\u001b[39m 1.4.0\n",
            "\u001b[32m✔\u001b[39m \u001b[34mpurrr  \u001b[39m 0.3.4     \u001b[32m✔\u001b[39m \u001b[34mforcats\u001b[39m 0.5.1\n",
            "\n",
            "── \u001b[1mConflicts\u001b[22m ────────────────────────────────────────── tidyverse_conflicts() ──\n",
            "\u001b[31m✖\u001b[39m \u001b[34mdplyr\u001b[39m::\u001b[32mfilter()\u001b[39m masks \u001b[34mstats\u001b[39m::filter()\n",
            "\u001b[31m✖\u001b[39m \u001b[34mdplyr\u001b[39m::\u001b[32mlag()\u001b[39m    masks \u001b[34mstats\u001b[39m::lag()\n",
            "\n"
          ]
        }
      ]
    },
    {
      "cell_type": "code",
      "metadata": {
        "colab": {
          "base_uri": "https://localhost:8080/",
          "height": 34
        },
        "id": "okX7t9YO4OUU",
        "outputId": "dec98857-f3a8-41a8-afe8-53f899cbaaca"
      },
      "source": [
        "train = read.csv(\"train.csv\")\n",
        "dim(train)"
      ],
      "execution_count": 3,
      "outputs": [
        {
          "output_type": "display_data",
          "data": {
            "text/plain": [
              "[1] 9557  143"
            ],
            "text/latex": "\\begin{enumerate*}\n\\item 9557\n\\item 143\n\\end{enumerate*}\n",
            "text/markdown": "1. 9557\n2. 143\n\n\n",
            "text/html": [
              "<style>\n",
              ".list-inline {list-style: none; margin:0; padding: 0}\n",
              ".list-inline>li {display: inline-block}\n",
              ".list-inline>li:not(:last-child)::after {content: \"\\00b7\"; padding: 0 .5ex}\n",
              "</style>\n",
              "<ol class=list-inline><li>9557</li><li>143</li></ol>\n"
            ]
          },
          "metadata": {}
        }
      ]
    },
    {
      "cell_type": "code",
      "metadata": {
        "colab": {
          "base_uri": "https://localhost:8080/",
          "height": 302
        },
        "id": "XNe-DBl85g_B",
        "outputId": "791636fc-86ea-44e4-9182-28e5c9991ae5"
      },
      "source": [
        "head(train)"
      ],
      "execution_count": 4,
      "outputs": [
        {
          "output_type": "display_data",
          "data": {
            "text/plain": [
              "  Id           v2a1   hacdor rooms hacapo v14a refrig v18q v18q1 r4h1 ⋯\n",
              "1 ID_279628684 190000 0      3     0      1    1      0    NA    0    ⋯\n",
              "2 ID_f29eb3ddd 135000 0      4     0      1    1      1     1    0    ⋯\n",
              "3 ID_68de51c94     NA 0      8     0      1    1      0    NA    0    ⋯\n",
              "4 ID_d671db89c 180000 0      5     0      1    1      1     1    0    ⋯\n",
              "5 ID_d56d6f5f5 180000 0      5     0      1    1      1     1    0    ⋯\n",
              "6 ID_ec05b1a7b 180000 0      5     0      1    1      1     1    0    ⋯\n",
              "  SQBescolari SQBage SQBhogar_total SQBedjefe SQBhogar_nin SQBovercrowding\n",
              "1 100         1849    1             100       0            1.000000       \n",
              "2 144         4489    1             144       0            1.000000       \n",
              "3 121         8464    1               0       0            0.250000       \n",
              "4  81          289   16             121       4            1.777778       \n",
              "5 121         1369   16             121       4            1.777778       \n",
              "6 121         1444   16             121       4            1.777778       \n",
              "  SQBdependency SQBmeaned agesq Target\n",
              "1  0            100       1849  4     \n",
              "2 64            144       4489  4     \n",
              "3 64            121       8464  4     \n",
              "4  1            121        289  4     \n",
              "5  1            121       1369  4     \n",
              "6  1            121       1444  4     "
            ],
            "text/latex": "A data.frame: 6 × 143\n\\begin{tabular}{r|lllllllllllllllllllll}\n  & Id & v2a1 & hacdor & rooms & hacapo & v14a & refrig & v18q & v18q1 & r4h1 & ⋯ & SQBescolari & SQBage & SQBhogar\\_total & SQBedjefe & SQBhogar\\_nin & SQBovercrowding & SQBdependency & SQBmeaned & agesq & Target\\\\\n  & <chr> & <dbl> & <int> & <int> & <int> & <int> & <int> & <int> & <int> & <int> & ⋯ & <int> & <int> & <int> & <int> & <int> & <dbl> & <dbl> & <dbl> & <int> & <int>\\\\\n\\hline\n\t1 & ID\\_279628684 & 190000 & 0 & 3 & 0 & 1 & 1 & 0 & NA & 0 & ⋯ & 100 & 1849 &  1 & 100 & 0 & 1.000000 &  0 & 100 & 1849 & 4\\\\\n\t2 & ID\\_f29eb3ddd & 135000 & 0 & 4 & 0 & 1 & 1 & 1 &  1 & 0 & ⋯ & 144 & 4489 &  1 & 144 & 0 & 1.000000 & 64 & 144 & 4489 & 4\\\\\n\t3 & ID\\_68de51c94 &     NA & 0 & 8 & 0 & 1 & 1 & 0 & NA & 0 & ⋯ & 121 & 8464 &  1 &   0 & 0 & 0.250000 & 64 & 121 & 8464 & 4\\\\\n\t4 & ID\\_d671db89c & 180000 & 0 & 5 & 0 & 1 & 1 & 1 &  1 & 0 & ⋯ &  81 &  289 & 16 & 121 & 4 & 1.777778 &  1 & 121 &  289 & 4\\\\\n\t5 & ID\\_d56d6f5f5 & 180000 & 0 & 5 & 0 & 1 & 1 & 1 &  1 & 0 & ⋯ & 121 & 1369 & 16 & 121 & 4 & 1.777778 &  1 & 121 & 1369 & 4\\\\\n\t6 & ID\\_ec05b1a7b & 180000 & 0 & 5 & 0 & 1 & 1 & 1 &  1 & 0 & ⋯ & 121 & 1444 & 16 & 121 & 4 & 1.777778 &  1 & 121 & 1444 & 4\\\\\n\\end{tabular}\n",
            "text/markdown": "\nA data.frame: 6 × 143\n\n| <!--/--> | Id &lt;chr&gt; | v2a1 &lt;dbl&gt; | hacdor &lt;int&gt; | rooms &lt;int&gt; | hacapo &lt;int&gt; | v14a &lt;int&gt; | refrig &lt;int&gt; | v18q &lt;int&gt; | v18q1 &lt;int&gt; | r4h1 &lt;int&gt; | ⋯ ⋯ | SQBescolari &lt;int&gt; | SQBage &lt;int&gt; | SQBhogar_total &lt;int&gt; | SQBedjefe &lt;int&gt; | SQBhogar_nin &lt;int&gt; | SQBovercrowding &lt;dbl&gt; | SQBdependency &lt;dbl&gt; | SQBmeaned &lt;dbl&gt; | agesq &lt;int&gt; | Target &lt;int&gt; |\n|---|---|---|---|---|---|---|---|---|---|---|---|---|---|---|---|---|---|---|---|---|---|\n| 1 | ID_279628684 | 190000 | 0 | 3 | 0 | 1 | 1 | 0 | NA | 0 | ⋯ | 100 | 1849 |  1 | 100 | 0 | 1.000000 |  0 | 100 | 1849 | 4 |\n| 2 | ID_f29eb3ddd | 135000 | 0 | 4 | 0 | 1 | 1 | 1 |  1 | 0 | ⋯ | 144 | 4489 |  1 | 144 | 0 | 1.000000 | 64 | 144 | 4489 | 4 |\n| 3 | ID_68de51c94 |     NA | 0 | 8 | 0 | 1 | 1 | 0 | NA | 0 | ⋯ | 121 | 8464 |  1 |   0 | 0 | 0.250000 | 64 | 121 | 8464 | 4 |\n| 4 | ID_d671db89c | 180000 | 0 | 5 | 0 | 1 | 1 | 1 |  1 | 0 | ⋯ |  81 |  289 | 16 | 121 | 4 | 1.777778 |  1 | 121 |  289 | 4 |\n| 5 | ID_d56d6f5f5 | 180000 | 0 | 5 | 0 | 1 | 1 | 1 |  1 | 0 | ⋯ | 121 | 1369 | 16 | 121 | 4 | 1.777778 |  1 | 121 | 1369 | 4 |\n| 6 | ID_ec05b1a7b | 180000 | 0 | 5 | 0 | 1 | 1 | 1 |  1 | 0 | ⋯ | 121 | 1444 | 16 | 121 | 4 | 1.777778 |  1 | 121 | 1444 | 4 |\n\n",
            "text/html": [
              "<table class=\"dataframe\">\n",
              "<caption>A data.frame: 6 × 143</caption>\n",
              "<thead>\n",
              "\t<tr><th></th><th scope=col>Id</th><th scope=col>v2a1</th><th scope=col>hacdor</th><th scope=col>rooms</th><th scope=col>hacapo</th><th scope=col>v14a</th><th scope=col>refrig</th><th scope=col>v18q</th><th scope=col>v18q1</th><th scope=col>r4h1</th><th scope=col>⋯</th><th scope=col>SQBescolari</th><th scope=col>SQBage</th><th scope=col>SQBhogar_total</th><th scope=col>SQBedjefe</th><th scope=col>SQBhogar_nin</th><th scope=col>SQBovercrowding</th><th scope=col>SQBdependency</th><th scope=col>SQBmeaned</th><th scope=col>agesq</th><th scope=col>Target</th></tr>\n",
              "\t<tr><th></th><th scope=col>&lt;chr&gt;</th><th scope=col>&lt;dbl&gt;</th><th scope=col>&lt;int&gt;</th><th scope=col>&lt;int&gt;</th><th scope=col>&lt;int&gt;</th><th scope=col>&lt;int&gt;</th><th scope=col>&lt;int&gt;</th><th scope=col>&lt;int&gt;</th><th scope=col>&lt;int&gt;</th><th scope=col>&lt;int&gt;</th><th scope=col>⋯</th><th scope=col>&lt;int&gt;</th><th scope=col>&lt;int&gt;</th><th scope=col>&lt;int&gt;</th><th scope=col>&lt;int&gt;</th><th scope=col>&lt;int&gt;</th><th scope=col>&lt;dbl&gt;</th><th scope=col>&lt;dbl&gt;</th><th scope=col>&lt;dbl&gt;</th><th scope=col>&lt;int&gt;</th><th scope=col>&lt;int&gt;</th></tr>\n",
              "</thead>\n",
              "<tbody>\n",
              "\t<tr><th scope=row>1</th><td>ID_279628684</td><td>190000</td><td>0</td><td>3</td><td>0</td><td>1</td><td>1</td><td>0</td><td>NA</td><td>0</td><td>⋯</td><td>100</td><td>1849</td><td> 1</td><td>100</td><td>0</td><td>1.000000</td><td> 0</td><td>100</td><td>1849</td><td>4</td></tr>\n",
              "\t<tr><th scope=row>2</th><td>ID_f29eb3ddd</td><td>135000</td><td>0</td><td>4</td><td>0</td><td>1</td><td>1</td><td>1</td><td> 1</td><td>0</td><td>⋯</td><td>144</td><td>4489</td><td> 1</td><td>144</td><td>0</td><td>1.000000</td><td>64</td><td>144</td><td>4489</td><td>4</td></tr>\n",
              "\t<tr><th scope=row>3</th><td>ID_68de51c94</td><td>    NA</td><td>0</td><td>8</td><td>0</td><td>1</td><td>1</td><td>0</td><td>NA</td><td>0</td><td>⋯</td><td>121</td><td>8464</td><td> 1</td><td>  0</td><td>0</td><td>0.250000</td><td>64</td><td>121</td><td>8464</td><td>4</td></tr>\n",
              "\t<tr><th scope=row>4</th><td>ID_d671db89c</td><td>180000</td><td>0</td><td>5</td><td>0</td><td>1</td><td>1</td><td>1</td><td> 1</td><td>0</td><td>⋯</td><td> 81</td><td> 289</td><td>16</td><td>121</td><td>4</td><td>1.777778</td><td> 1</td><td>121</td><td> 289</td><td>4</td></tr>\n",
              "\t<tr><th scope=row>5</th><td>ID_d56d6f5f5</td><td>180000</td><td>0</td><td>5</td><td>0</td><td>1</td><td>1</td><td>1</td><td> 1</td><td>0</td><td>⋯</td><td>121</td><td>1369</td><td>16</td><td>121</td><td>4</td><td>1.777778</td><td> 1</td><td>121</td><td>1369</td><td>4</td></tr>\n",
              "\t<tr><th scope=row>6</th><td>ID_ec05b1a7b</td><td>180000</td><td>0</td><td>5</td><td>0</td><td>1</td><td>1</td><td>1</td><td> 1</td><td>0</td><td>⋯</td><td>121</td><td>1444</td><td>16</td><td>121</td><td>4</td><td>1.777778</td><td> 1</td><td>121</td><td>1444</td><td>4</td></tr>\n",
              "</tbody>\n",
              "</table>\n"
            ]
          },
          "metadata": {}
        }
      ]
    },
    {
      "cell_type": "code",
      "metadata": {
        "colab": {
          "base_uri": "https://localhost:8080/",
          "height": 1000
        },
        "id": "Biokw1okWkOC",
        "outputId": "939cf75e-de11-49b7-dc2e-5adae477e9ce"
      },
      "source": [
        "features = read_csv(\"codebook.csv\")\n",
        "features"
      ],
      "execution_count": 5,
      "outputs": [
        {
          "output_type": "stream",
          "name": "stderr",
          "text": [
            "\u001b[1mRows: \u001b[22m\u001b[34m141\u001b[39m \u001b[1mColumns: \u001b[22m\u001b[34m2\u001b[39m\n",
            "\n",
            "\u001b[36m──\u001b[39m \u001b[1mColumn specification\u001b[22m \u001b[36m────────────────────────────────────────────────────────\u001b[39m\n",
            "\u001b[1mDelimiter:\u001b[22m \",\"\n",
            "\u001b[31mchr\u001b[39m (2): Variable name, Variable description\n",
            "\n",
            "\n",
            "\u001b[36mℹ\u001b[39m Use \u001b[30m\u001b[47m\u001b[30m\u001b[47m`spec()`\u001b[47m\u001b[30m\u001b[49m\u001b[39m to retrieve the full column specification for this data.\n",
            "\u001b[36mℹ\u001b[39m Specify the column types or set \u001b[30m\u001b[47m\u001b[30m\u001b[47m`show_col_types = FALSE`\u001b[47m\u001b[30m\u001b[49m\u001b[39m to quiet this message.\n",
            "\n"
          ]
        },
        {
          "output_type": "display_data",
          "data": {
            "text/plain": [
              "    Variable name  \n",
              "1   v2a1           \n",
              "2   hacdor         \n",
              "3   rooms          \n",
              "4   hacapo         \n",
              "5   v14a           \n",
              "6   refrig         \n",
              "7   v18q           \n",
              "8   v18q1          \n",
              "9   r4h1           \n",
              "10  r4h2           \n",
              "11  r4h3           \n",
              "12  r4m1           \n",
              "13  r4m2           \n",
              "14  r4m3           \n",
              "15  r4t1           \n",
              "16  r4t2           \n",
              "17  r4t3           \n",
              "18  tamhog         \n",
              "19  tamviv         \n",
              "20  escolari       \n",
              "21  rez_esc        \n",
              "22  hhsize         \n",
              "23  paredblolad    \n",
              "24  paredzocalo    \n",
              "25  paredpreb      \n",
              "26  pareddes       \n",
              "27  paredmad       \n",
              "28  paredzinc      \n",
              "29  paredfibras    \n",
              "30  paredother     \n",
              "⋮   ⋮              \n",
              "112 instlevel9     \n",
              "113 bedrooms       \n",
              "114 overcrowding   \n",
              "115 tipovivi1      \n",
              "116 tipovivi2      \n",
              "117 tipovivi3      \n",
              "118 tipovivi4      \n",
              "119 tipovivi5      \n",
              "120 computer       \n",
              "121 television     \n",
              "122 mobilephone    \n",
              "123 qmobilephone   \n",
              "124 lugar1         \n",
              "125 lugar2         \n",
              "126 lugar3         \n",
              "127 lugar4         \n",
              "128 lugar5         \n",
              "129 lugar6         \n",
              "130 area1          \n",
              "131 area2          \n",
              "132 age            \n",
              "133 SQBescolari    \n",
              "134 SQBage         \n",
              "135 SQBhogar_total \n",
              "136 SQBedjefe      \n",
              "137 SQBhogar_nin   \n",
              "138 SQBovercrowding\n",
              "139 SQBdependency  \n",
              "140 SQBmeaned      \n",
              "141 agesq          \n",
              "    Variable description                                                            \n",
              "1   Monthly rent payment                                                            \n",
              "2   =1 Overcrowding by bedrooms                                                     \n",
              "3   number of all rooms in the house                                                \n",
              "4   =1 Overcrowding by rooms                                                        \n",
              "5   =1 has toilet in the household                                                  \n",
              "6   =1 if the household has refrigerator                                            \n",
              "7   owns a tablet                                                                   \n",
              "8   number of tablets household owns                                                \n",
              "9   Males younger than 12 years of age                                              \n",
              "10  Males 12 years of age and older                                                 \n",
              "11  Total males in the household                                                    \n",
              "12  Females younger than 12 years of age                                            \n",
              "13  Females 12 years of age and older                                               \n",
              "14  Total females in the household                                                  \n",
              "15  persons younger than 12 years of age                                            \n",
              "16  persons 12 years of age and older                                               \n",
              "17  Total persons in the household                                                  \n",
              "18  size of the household                                                           \n",
              "19  TamViv                                                                          \n",
              "20  years of schooling                                                              \n",
              "21  Years behind in school                                                          \n",
              "22  household size                                                                  \n",
              "23  =1 if predominant material on the outside wall is block or brick                \n",
              "24  =1 if predominant material on the outside wall is socket (wood, zinc or absbesto\n",
              "25  =1 if predominant material on the outside wall is prefabricated or cement       \n",
              "26  =1 if predominant material on the outside wall is waste material                \n",
              "27  =1 if predominant material on the outside wall is wood                          \n",
              "28  =1 if predominant material on the outside wall is zink                          \n",
              "29  =1 if predominant material on the outside wall is natural fibers                \n",
              "30  =1 if predominant material on the outside wall is other                         \n",
              "⋮   ⋮                                                                               \n",
              "112 =1 postgraduate higher education                                                \n",
              "113 number of bedrooms                                                              \n",
              "114 # persons per room                                                              \n",
              "115 =1 own and fully paid house                                                     \n",
              "116 =1 own, paying in installments                                                  \n",
              "117 =1 rented                                                                       \n",
              "118 =1 precarious                                                                   \n",
              "119 =1 other(assigned, borrowed)                                                    \n",
              "120 =1 if the household has notebook or desktop computer                            \n",
              "121 =1 if the household has TV                                                      \n",
              "122 =1 if mobile phone                                                              \n",
              "123 # of mobile phones                                                              \n",
              "124 =1 region Central                                                               \n",
              "125 =1 region Chorotega                                                             \n",
              "126 =1 region PacÃƒÂ­fico central                                                   \n",
              "127 =1 region Brunca                                                                \n",
              "128 =1 region Huetar AtlÃƒÂ¡ntica                                                   \n",
              "129 =1 region Huetar Norte                                                          \n",
              "130 =1 zona urbana                                                                  \n",
              "131 =2 zona rural                                                                   \n",
              "132 Age in years                                                                    \n",
              "133 escolari squared                                                                \n",
              "134 age squared                                                                     \n",
              "135 hogar_total squared                                                             \n",
              "136 edjefe squared                                                                  \n",
              "137 hogar_nin squared                                                               \n",
              "138 overcrowding squared                                                            \n",
              "139 dependency squared                                                              \n",
              "140 meaned squared                                                                  \n",
              "141 Age squared                                                                     "
            ],
            "text/latex": "A spec\\_tbl\\_df: 141 × 2\n\\begin{tabular}{ll}\n Variable name & Variable description\\\\\n <chr> & <chr>\\\\\n\\hline\n\t v2a1        & Monthly rent payment                                                            \\\\\n\t hacdor      & =1 Overcrowding by bedrooms                                                     \\\\\n\t rooms       & number of all rooms in the house                                                \\\\\n\t hacapo      & =1 Overcrowding by rooms                                                        \\\\\n\t v14a        & =1 has toilet in the household                                                  \\\\\n\t refrig      & =1 if the household has refrigerator                                            \\\\\n\t v18q        & owns a tablet                                                                   \\\\\n\t v18q1       & number of tablets household owns                                                \\\\\n\t r4h1        & Males younger than 12 years of age                                              \\\\\n\t r4h2        & Males 12 years of age and older                                                 \\\\\n\t r4h3        & Total males in the household                                                    \\\\\n\t r4m1        & Females younger than 12 years of age                                            \\\\\n\t r4m2        & Females 12 years of age and older                                               \\\\\n\t r4m3        & Total females in the household                                                  \\\\\n\t r4t1        & persons younger than 12 years of age                                            \\\\\n\t r4t2        & persons 12 years of age and older                                               \\\\\n\t r4t3        & Total persons in the household                                                  \\\\\n\t tamhog      & size of the household                                                           \\\\\n\t tamviv      & TamViv                                                                          \\\\\n\t escolari    & years of schooling                                                              \\\\\n\t rez\\_esc     & Years behind in school                                                          \\\\\n\t hhsize      & household size                                                                  \\\\\n\t paredblolad & =1 if predominant material on the outside wall is block or brick                \\\\\n\t paredzocalo & =1 if predominant material on the outside wall is socket (wood, zinc or absbesto\\\\\n\t paredpreb   & =1 if predominant material on the outside wall is prefabricated or cement       \\\\\n\t pareddes    & =1 if predominant material on the outside wall is waste material                \\\\\n\t paredmad    & =1 if predominant material on the outside wall is wood                          \\\\\n\t paredzinc   & =1 if predominant material on the outside wall is zink                          \\\\\n\t paredfibras & =1 if predominant material on the outside wall is natural fibers                \\\\\n\t paredother  & =1 if predominant material on the outside wall is other                         \\\\\n\t ⋮ & ⋮\\\\\n\t instlevel9      & =1 postgraduate higher education                    \\\\\n\t bedrooms        & number of bedrooms                                  \\\\\n\t overcrowding    & \\# persons per room                                  \\\\\n\t tipovivi1       & =1 own and fully paid house                         \\\\\n\t tipovivi2       & =1 own, paying in installments                      \\\\\n\t tipovivi3       & =1 rented                                           \\\\\n\t tipovivi4       & =1 precarious                                       \\\\\n\t tipovivi5       & =1 other(assigned, borrowed)                        \\\\\n\t computer        & =1 if the household has notebook or desktop computer\\\\\n\t television      & =1 if the household has TV                          \\\\\n\t mobilephone     & =1 if mobile phone                                  \\\\\n\t qmobilephone    & \\# of mobile phones                                  \\\\\n\t lugar1          & =1 region Central                                   \\\\\n\t lugar2          & =1 region Chorotega                                 \\\\\n\t lugar3          & =1 region PacÃƒÂ­fico central                       \\\\\n\t lugar4          & =1 region Brunca                                    \\\\\n\t lugar5          & =1 region Huetar AtlÃƒÂ¡ntica                       \\\\\n\t lugar6          & =1 region Huetar Norte                              \\\\\n\t area1           & =1 zona urbana                                      \\\\\n\t area2           & =2 zona rural                                       \\\\\n\t age             & Age in years                                        \\\\\n\t SQBescolari     & escolari squared                                    \\\\\n\t SQBage          & age squared                                         \\\\\n\t SQBhogar\\_total  & hogar\\_total squared                                 \\\\\n\t SQBedjefe       & edjefe squared                                      \\\\\n\t SQBhogar\\_nin    & hogar\\_nin squared                                   \\\\\n\t SQBovercrowding & overcrowding squared                                \\\\\n\t SQBdependency   & dependency squared                                  \\\\\n\t SQBmeaned       & meaned squared                                      \\\\\n\t agesq           & Age squared                                         \\\\\n\\end{tabular}\n",
            "text/markdown": "\nA spec_tbl_df: 141 × 2\n\n| Variable name &lt;chr&gt; | Variable description &lt;chr&gt; |\n|---|---|\n| v2a1        | Monthly rent payment                                                             |\n| hacdor      | =1 Overcrowding by bedrooms                                                      |\n| rooms       | number of all rooms in the house                                                 |\n| hacapo      | =1 Overcrowding by rooms                                                         |\n| v14a        | =1 has toilet in the household                                                   |\n| refrig      | =1 if the household has refrigerator                                             |\n| v18q        | owns a tablet                                                                    |\n| v18q1       | number of tablets household owns                                                 |\n| r4h1        | Males younger than 12 years of age                                               |\n| r4h2        | Males 12 years of age and older                                                  |\n| r4h3        | Total males in the household                                                     |\n| r4m1        | Females younger than 12 years of age                                             |\n| r4m2        | Females 12 years of age and older                                                |\n| r4m3        | Total females in the household                                                   |\n| r4t1        | persons younger than 12 years of age                                             |\n| r4t2        | persons 12 years of age and older                                                |\n| r4t3        | Total persons in the household                                                   |\n| tamhog      | size of the household                                                            |\n| tamviv      | TamViv                                                                           |\n| escolari    | years of schooling                                                               |\n| rez_esc     | Years behind in school                                                           |\n| hhsize      | household size                                                                   |\n| paredblolad | =1 if predominant material on the outside wall is block or brick                 |\n| paredzocalo | =1 if predominant material on the outside wall is socket (wood, zinc or absbesto |\n| paredpreb   | =1 if predominant material on the outside wall is prefabricated or cement        |\n| pareddes    | =1 if predominant material on the outside wall is waste material                 |\n| paredmad    | =1 if predominant material on the outside wall is wood                           |\n| paredzinc   | =1 if predominant material on the outside wall is zink                           |\n| paredfibras | =1 if predominant material on the outside wall is natural fibers                 |\n| paredother  | =1 if predominant material on the outside wall is other                          |\n| ⋮ | ⋮ |\n| instlevel9      | =1 postgraduate higher education                     |\n| bedrooms        | number of bedrooms                                   |\n| overcrowding    | # persons per room                                   |\n| tipovivi1       | =1 own and fully paid house                          |\n| tipovivi2       | =1 own, paying in installments                       |\n| tipovivi3       | =1 rented                                            |\n| tipovivi4       | =1 precarious                                        |\n| tipovivi5       | =1 other(assigned, borrowed)                         |\n| computer        | =1 if the household has notebook or desktop computer |\n| television      | =1 if the household has TV                           |\n| mobilephone     | =1 if mobile phone                                   |\n| qmobilephone    | # of mobile phones                                   |\n| lugar1          | =1 region Central                                    |\n| lugar2          | =1 region Chorotega                                  |\n| lugar3          | =1 region PacÃƒÂ­fico central                        |\n| lugar4          | =1 region Brunca                                     |\n| lugar5          | =1 region Huetar AtlÃƒÂ¡ntica                        |\n| lugar6          | =1 region Huetar Norte                               |\n| area1           | =1 zona urbana                                       |\n| area2           | =2 zona rural                                        |\n| age             | Age in years                                         |\n| SQBescolari     | escolari squared                                     |\n| SQBage          | age squared                                          |\n| SQBhogar_total  | hogar_total squared                                  |\n| SQBedjefe       | edjefe squared                                       |\n| SQBhogar_nin    | hogar_nin squared                                    |\n| SQBovercrowding | overcrowding squared                                 |\n| SQBdependency   | dependency squared                                   |\n| SQBmeaned       | meaned squared                                       |\n| agesq           | Age squared                                          |\n\n",
            "text/html": [
              "<table class=\"dataframe\">\n",
              "<caption>A spec_tbl_df: 141 × 2</caption>\n",
              "<thead>\n",
              "\t<tr><th scope=col>Variable name</th><th scope=col>Variable description</th></tr>\n",
              "\t<tr><th scope=col>&lt;chr&gt;</th><th scope=col>&lt;chr&gt;</th></tr>\n",
              "</thead>\n",
              "<tbody>\n",
              "\t<tr><td>v2a1       </td><td>Monthly rent payment                                                            </td></tr>\n",
              "\t<tr><td>hacdor     </td><td>=1 Overcrowding by bedrooms                                                     </td></tr>\n",
              "\t<tr><td>rooms      </td><td>number of all rooms in the house                                                </td></tr>\n",
              "\t<tr><td>hacapo     </td><td>=1 Overcrowding by rooms                                                        </td></tr>\n",
              "\t<tr><td>v14a       </td><td>=1 has toilet in the household                                                  </td></tr>\n",
              "\t<tr><td>refrig     </td><td>=1 if the household has refrigerator                                            </td></tr>\n",
              "\t<tr><td>v18q       </td><td>owns a tablet                                                                   </td></tr>\n",
              "\t<tr><td>v18q1      </td><td>number of tablets household owns                                                </td></tr>\n",
              "\t<tr><td>r4h1       </td><td>Males younger than 12 years of age                                              </td></tr>\n",
              "\t<tr><td>r4h2       </td><td>Males 12 years of age and older                                                 </td></tr>\n",
              "\t<tr><td>r4h3       </td><td>Total males in the household                                                    </td></tr>\n",
              "\t<tr><td>r4m1       </td><td>Females younger than 12 years of age                                            </td></tr>\n",
              "\t<tr><td>r4m2       </td><td>Females 12 years of age and older                                               </td></tr>\n",
              "\t<tr><td>r4m3       </td><td>Total females in the household                                                  </td></tr>\n",
              "\t<tr><td>r4t1       </td><td>persons younger than 12 years of age                                            </td></tr>\n",
              "\t<tr><td>r4t2       </td><td>persons 12 years of age and older                                               </td></tr>\n",
              "\t<tr><td>r4t3       </td><td>Total persons in the household                                                  </td></tr>\n",
              "\t<tr><td>tamhog     </td><td>size of the household                                                           </td></tr>\n",
              "\t<tr><td>tamviv     </td><td>TamViv                                                                          </td></tr>\n",
              "\t<tr><td>escolari   </td><td>years of schooling                                                              </td></tr>\n",
              "\t<tr><td>rez_esc    </td><td>Years behind in school                                                          </td></tr>\n",
              "\t<tr><td>hhsize     </td><td>household size                                                                  </td></tr>\n",
              "\t<tr><td>paredblolad</td><td>=1 if predominant material on the outside wall is block or brick                </td></tr>\n",
              "\t<tr><td>paredzocalo</td><td>=1 if predominant material on the outside wall is socket (wood, zinc or absbesto</td></tr>\n",
              "\t<tr><td>paredpreb  </td><td>=1 if predominant material on the outside wall is prefabricated or cement       </td></tr>\n",
              "\t<tr><td>pareddes   </td><td>=1 if predominant material on the outside wall is waste material                </td></tr>\n",
              "\t<tr><td>paredmad   </td><td>=1 if predominant material on the outside wall is wood                          </td></tr>\n",
              "\t<tr><td>paredzinc  </td><td>=1 if predominant material on the outside wall is zink                          </td></tr>\n",
              "\t<tr><td>paredfibras</td><td>=1 if predominant material on the outside wall is natural fibers                </td></tr>\n",
              "\t<tr><td>paredother </td><td>=1 if predominant material on the outside wall is other                         </td></tr>\n",
              "\t<tr><td>⋮</td><td>⋮</td></tr>\n",
              "\t<tr><td>instlevel9     </td><td>=1 postgraduate higher education                    </td></tr>\n",
              "\t<tr><td>bedrooms       </td><td>number of bedrooms                                  </td></tr>\n",
              "\t<tr><td>overcrowding   </td><td># persons per room                                  </td></tr>\n",
              "\t<tr><td>tipovivi1      </td><td>=1 own and fully paid house                         </td></tr>\n",
              "\t<tr><td>tipovivi2      </td><td>=1 own, paying in installments                      </td></tr>\n",
              "\t<tr><td>tipovivi3      </td><td>=1 rented                                           </td></tr>\n",
              "\t<tr><td>tipovivi4      </td><td>=1 precarious                                       </td></tr>\n",
              "\t<tr><td>tipovivi5      </td><td>=1 other(assigned, borrowed)                        </td></tr>\n",
              "\t<tr><td>computer       </td><td>=1 if the household has notebook or desktop computer</td></tr>\n",
              "\t<tr><td>television     </td><td>=1 if the household has TV                          </td></tr>\n",
              "\t<tr><td>mobilephone    </td><td>=1 if mobile phone                                  </td></tr>\n",
              "\t<tr><td>qmobilephone   </td><td># of mobile phones                                  </td></tr>\n",
              "\t<tr><td>lugar1         </td><td>=1 region Central                                   </td></tr>\n",
              "\t<tr><td>lugar2         </td><td>=1 region Chorotega                                 </td></tr>\n",
              "\t<tr><td>lugar3         </td><td>=1 region PacÃƒÂ­fico central                       </td></tr>\n",
              "\t<tr><td>lugar4         </td><td>=1 region Brunca                                    </td></tr>\n",
              "\t<tr><td>lugar5         </td><td>=1 region Huetar AtlÃƒÂ¡ntica                       </td></tr>\n",
              "\t<tr><td>lugar6         </td><td>=1 region Huetar Norte                              </td></tr>\n",
              "\t<tr><td>area1          </td><td>=1 zona urbana                                      </td></tr>\n",
              "\t<tr><td>area2          </td><td>=2 zona rural                                       </td></tr>\n",
              "\t<tr><td>age            </td><td>Age in years                                        </td></tr>\n",
              "\t<tr><td>SQBescolari    </td><td>escolari squared                                    </td></tr>\n",
              "\t<tr><td>SQBage         </td><td>age squared                                         </td></tr>\n",
              "\t<tr><td>SQBhogar_total </td><td>hogar_total squared                                 </td></tr>\n",
              "\t<tr><td>SQBedjefe      </td><td>edjefe squared                                      </td></tr>\n",
              "\t<tr><td>SQBhogar_nin   </td><td>hogar_nin squared                                   </td></tr>\n",
              "\t<tr><td>SQBovercrowding</td><td>overcrowding squared                                </td></tr>\n",
              "\t<tr><td>SQBdependency  </td><td>dependency squared                                  </td></tr>\n",
              "\t<tr><td>SQBmeaned      </td><td>meaned squared                                      </td></tr>\n",
              "\t<tr><td>agesq          </td><td>Age squared                                         </td></tr>\n",
              "</tbody>\n",
              "</table>\n"
            ]
          },
          "metadata": {}
        }
      ]
    },
    {
      "cell_type": "markdown",
      "metadata": {
        "id": "vH7tY3tUAQT7"
      },
      "source": [
        "## **Checking NA values**"
      ]
    },
    {
      "cell_type": "code",
      "metadata": {
        "colab": {
          "base_uri": "https://localhost:8080/",
          "height": 34
        },
        "id": "-QxisAgZDJjW",
        "outputId": "405a09b8-b2e0-4cca-b5e8-23eca418e924"
      },
      "source": [
        "dim(train)"
      ],
      "execution_count": 6,
      "outputs": [
        {
          "output_type": "display_data",
          "data": {
            "text/plain": [
              "[1] 9557  143"
            ],
            "text/latex": "\\begin{enumerate*}\n\\item 9557\n\\item 143\n\\end{enumerate*}\n",
            "text/markdown": "1. 9557\n2. 143\n\n\n",
            "text/html": [
              "<style>\n",
              ".list-inline {list-style: none; margin:0; padding: 0}\n",
              ".list-inline>li {display: inline-block}\n",
              ".list-inline>li:not(:last-child)::after {content: \"\\00b7\"; padding: 0 .5ex}\n",
              "</style>\n",
              "<ol class=list-inline><li>9557</li><li>143</li></ol>\n"
            ]
          },
          "metadata": {}
        }
      ]
    },
    {
      "cell_type": "code",
      "metadata": {
        "colab": {
          "base_uri": "https://localhost:8080/",
          "height": 34
        },
        "id": "BUzKfH79JolC",
        "outputId": "33d33dd3-966f-466b-f13b-e2a1682dea8f"
      },
      "source": [
        "sum(is.na(train))"
      ],
      "execution_count": 7,
      "outputs": [
        {
          "output_type": "display_data",
          "data": {
            "text/plain": [
              "[1] 22140"
            ],
            "text/latex": "22140",
            "text/markdown": "22140",
            "text/html": [
              "22140"
            ]
          },
          "metadata": {}
        }
      ]
    },
    {
      "cell_type": "code",
      "metadata": {
        "id": "qZmTnzWzGRGo"
      },
      "source": [
        "options(repr.matrix.max.cols=150, repr.matrix.max.rows=200)"
      ],
      "execution_count": 8,
      "outputs": []
    },
    {
      "cell_type": "code",
      "metadata": {
        "colab": {
          "base_uri": "https://localhost:8080/",
          "height": 127
        },
        "id": "0S4O-GDUAHIV",
        "outputId": "417fe7d8-db70-4f4d-92e8-741b7ab67219"
      },
      "source": [
        "df <- data.frame(t(colSums(is.na(train))))\n",
        "df %>% \n",
        "  select_if(~ sum(.) > 0)"
      ],
      "execution_count": 9,
      "outputs": [
        {
          "output_type": "display_data",
          "data": {
            "text/plain": [
              "  v2a1 v18q1 rez_esc meaneduc SQBmeaned\n",
              "1 6860 7342  7928    5        5        "
            ],
            "text/latex": "A data.frame: 1 × 5\n\\begin{tabular}{lllll}\n v2a1 & v18q1 & rez\\_esc & meaneduc & SQBmeaned\\\\\n <dbl> & <dbl> & <dbl> & <dbl> & <dbl>\\\\\n\\hline\n\t 6860 & 7342 & 7928 & 5 & 5\\\\\n\\end{tabular}\n",
            "text/markdown": "\nA data.frame: 1 × 5\n\n| v2a1 &lt;dbl&gt; | v18q1 &lt;dbl&gt; | rez_esc &lt;dbl&gt; | meaneduc &lt;dbl&gt; | SQBmeaned &lt;dbl&gt; |\n|---|---|---|---|---|\n| 6860 | 7342 | 7928 | 5 | 5 |\n\n",
            "text/html": [
              "<table class=\"dataframe\">\n",
              "<caption>A data.frame: 1 × 5</caption>\n",
              "<thead>\n",
              "\t<tr><th scope=col>v2a1</th><th scope=col>v18q1</th><th scope=col>rez_esc</th><th scope=col>meaneduc</th><th scope=col>SQBmeaned</th></tr>\n",
              "\t<tr><th scope=col>&lt;dbl&gt;</th><th scope=col>&lt;dbl&gt;</th><th scope=col>&lt;dbl&gt;</th><th scope=col>&lt;dbl&gt;</th><th scope=col>&lt;dbl&gt;</th></tr>\n",
              "</thead>\n",
              "<tbody>\n",
              "\t<tr><td>6860</td><td>7342</td><td>7928</td><td>5</td><td>5</td></tr>\n",
              "</tbody>\n",
              "</table>\n"
            ]
          },
          "metadata": {}
        }
      ]
    },
    {
      "cell_type": "code",
      "metadata": {
        "colab": {
          "base_uri": "https://localhost:8080/",
          "height": 147
        },
        "id": "pkYlPuTfUtS2",
        "outputId": "355c4e42-7dc1-4e94-cf9d-970340aae9cc"
      },
      "source": [
        "df"
      ],
      "execution_count": 10,
      "outputs": [
        {
          "output_type": "display_data",
          "data": {
            "text/plain": [
              "  Id v2a1 hacdor rooms hacapo v14a refrig v18q v18q1 r4h1 r4h2 r4h3 r4m1 r4m2\n",
              "1 0  6860 0      0     0      0    0      0    7342  0    0    0    0    0   \n",
              "  r4m3 r4t1 r4t2 r4t3 tamhog tamviv escolari rez_esc hhsize paredblolad\n",
              "1 0    0    0    0    0      0      0        7928    0      0          \n",
              "  paredzocalo paredpreb pareddes paredmad paredzinc paredfibras paredother\n",
              "1 0           0         0        0        0         0           0         \n",
              "  pisomoscer pisocemento pisoother pisonatur pisonotiene pisomadera techozinc\n",
              "1 0          0           0         0         0           0          0        \n",
              "  techoentrepiso techocane techootro cielorazo abastaguadentro abastaguafuera\n",
              "1 0              0         0         0         0               0             \n",
              "  abastaguano public planpri noelec coopele sanitario1 sanitario2 sanitario3\n",
              "1 0           0      0       0      0       0          0          0         \n",
              "  sanitario5 sanitario6 energcocinar1 energcocinar2 energcocinar3 energcocinar4\n",
              "1 0          0          0             0             0             0            \n",
              "  elimbasu1 elimbasu2 elimbasu3 elimbasu4 elimbasu5 elimbasu6 epared1 epared2\n",
              "1 0         0         0         0         0         0         0       0      \n",
              "  epared3 etecho1 etecho2 etecho3 eviv1 eviv2 eviv3 dis male female\n",
              "1 0       0       0       0       0     0     0     0   0    0     \n",
              "  estadocivil1 estadocivil2 estadocivil3 estadocivil4 estadocivil5 estadocivil6\n",
              "1 0            0            0            0            0            0           \n",
              "  estadocivil7 parentesco1 parentesco2 parentesco3 parentesco4 parentesco5\n",
              "1 0            0           0           0           0           0          \n",
              "  parentesco6 parentesco7 parentesco8 parentesco9 parentesco10 parentesco11\n",
              "1 0           0           0           0           0            0           \n",
              "  parentesco12 idhogar hogar_nin hogar_adul hogar_mayor hogar_total dependency\n",
              "1 0            0       0         0          0           0           0         \n",
              "  edjefe edjefa meaneduc instlevel1 instlevel2 instlevel3 instlevel4 instlevel5\n",
              "1 0      0      5        0          0          0          0          0         \n",
              "  instlevel6 instlevel7 instlevel8 instlevel9 bedrooms overcrowding tipovivi1\n",
              "1 0          0          0          0          0        0            0        \n",
              "  tipovivi2 tipovivi3 tipovivi4 tipovivi5 computer television mobilephone\n",
              "1 0         0         0         0         0        0          0          \n",
              "  qmobilephone lugar1 lugar2 lugar3 lugar4 lugar5 lugar6 area1 area2 age\n",
              "1 0            0      0      0      0      0      0      0     0     0  \n",
              "  SQBescolari SQBage SQBhogar_total SQBedjefe SQBhogar_nin SQBovercrowding\n",
              "1 0           0      0              0         0            0              \n",
              "  SQBdependency SQBmeaned agesq Target\n",
              "1 0             5         0     0     "
            ],
            "text/latex": "A data.frame: 1 × 143\n\\begin{tabular}{lllllllllllllllllllllllllllllllllllllllllllllllllllllllllllllllllllllllllllllllllllllllllllllllllllllllllllllllllllllllllllllllllllllllllllllll}\n Id & v2a1 & hacdor & rooms & hacapo & v14a & refrig & v18q & v18q1 & r4h1 & r4h2 & r4h3 & r4m1 & r4m2 & r4m3 & r4t1 & r4t2 & r4t3 & tamhog & tamviv & escolari & rez\\_esc & hhsize & paredblolad & paredzocalo & paredpreb & pareddes & paredmad & paredzinc & paredfibras & paredother & pisomoscer & pisocemento & pisoother & pisonatur & pisonotiene & pisomadera & techozinc & techoentrepiso & techocane & techootro & cielorazo & abastaguadentro & abastaguafuera & abastaguano & public & planpri & noelec & coopele & sanitario1 & sanitario2 & sanitario3 & sanitario5 & sanitario6 & energcocinar1 & energcocinar2 & energcocinar3 & energcocinar4 & elimbasu1 & elimbasu2 & elimbasu3 & elimbasu4 & elimbasu5 & elimbasu6 & epared1 & epared2 & epared3 & etecho1 & etecho2 & etecho3 & eviv1 & eviv2 & eviv3 & dis & male & female & estadocivil1 & estadocivil2 & estadocivil3 & estadocivil4 & estadocivil5 & estadocivil6 & estadocivil7 & parentesco1 & parentesco2 & parentesco3 & parentesco4 & parentesco5 & parentesco6 & parentesco7 & parentesco8 & parentesco9 & parentesco10 & parentesco11 & parentesco12 & idhogar & hogar\\_nin & hogar\\_adul & hogar\\_mayor & hogar\\_total & dependency & edjefe & edjefa & meaneduc & instlevel1 & instlevel2 & instlevel3 & instlevel4 & instlevel5 & instlevel6 & instlevel7 & instlevel8 & instlevel9 & bedrooms & overcrowding & tipovivi1 & tipovivi2 & tipovivi3 & tipovivi4 & tipovivi5 & computer & television & mobilephone & qmobilephone & lugar1 & lugar2 & lugar3 & lugar4 & lugar5 & lugar6 & area1 & area2 & age & SQBescolari & SQBage & SQBhogar\\_total & SQBedjefe & SQBhogar\\_nin & SQBovercrowding & SQBdependency & SQBmeaned & agesq & Target\\\\\n <dbl> & <dbl> & <dbl> & <dbl> & <dbl> & <dbl> & <dbl> & <dbl> & <dbl> & <dbl> & <dbl> & <dbl> & <dbl> & <dbl> & <dbl> & <dbl> & <dbl> & <dbl> & <dbl> & <dbl> & <dbl> & <dbl> & <dbl> & <dbl> & <dbl> & <dbl> & <dbl> & <dbl> & <dbl> & <dbl> & <dbl> & <dbl> & <dbl> & <dbl> & <dbl> & <dbl> & <dbl> & <dbl> & <dbl> & <dbl> & <dbl> & <dbl> & <dbl> & <dbl> & <dbl> & <dbl> & <dbl> & <dbl> & <dbl> & <dbl> & <dbl> & <dbl> & <dbl> & <dbl> & <dbl> & <dbl> & <dbl> & <dbl> & <dbl> & <dbl> & <dbl> & <dbl> & <dbl> & <dbl> & <dbl> & <dbl> & <dbl> & <dbl> & <dbl> & <dbl> & <dbl> & <dbl> & <dbl> & <dbl> & <dbl> & <dbl> & <dbl> & <dbl> & <dbl> & <dbl> & <dbl> & <dbl> & <dbl> & <dbl> & <dbl> & <dbl> & <dbl> & <dbl> & <dbl> & <dbl> & <dbl> & <dbl> & <dbl> & <dbl> & <dbl> & <dbl> & <dbl> & <dbl> & <dbl> & <dbl> & <dbl> & <dbl> & <dbl> & <dbl> & <dbl> & <dbl> & <dbl> & <dbl> & <dbl> & <dbl> & <dbl> & <dbl> & <dbl> & <dbl> & <dbl> & <dbl> & <dbl> & <dbl> & <dbl> & <dbl> & <dbl> & <dbl> & <dbl> & <dbl> & <dbl> & <dbl> & <dbl> & <dbl> & <dbl> & <dbl> & <dbl> & <dbl> & <dbl> & <dbl> & <dbl> & <dbl> & <dbl> & <dbl> & <dbl> & <dbl> & <dbl> & <dbl> & <dbl>\\\\\n\\hline\n\t 0 & 6860 & 0 & 0 & 0 & 0 & 0 & 0 & 7342 & 0 & 0 & 0 & 0 & 0 & 0 & 0 & 0 & 0 & 0 & 0 & 0 & 7928 & 0 & 0 & 0 & 0 & 0 & 0 & 0 & 0 & 0 & 0 & 0 & 0 & 0 & 0 & 0 & 0 & 0 & 0 & 0 & 0 & 0 & 0 & 0 & 0 & 0 & 0 & 0 & 0 & 0 & 0 & 0 & 0 & 0 & 0 & 0 & 0 & 0 & 0 & 0 & 0 & 0 & 0 & 0 & 0 & 0 & 0 & 0 & 0 & 0 & 0 & 0 & 0 & 0 & 0 & 0 & 0 & 0 & 0 & 0 & 0 & 0 & 0 & 0 & 0 & 0 & 0 & 0 & 0 & 0 & 0 & 0 & 0 & 0 & 0 & 0 & 0 & 0 & 0 & 0 & 0 & 0 & 5 & 0 & 0 & 0 & 0 & 0 & 0 & 0 & 0 & 0 & 0 & 0 & 0 & 0 & 0 & 0 & 0 & 0 & 0 & 0 & 0 & 0 & 0 & 0 & 0 & 0 & 0 & 0 & 0 & 0 & 0 & 0 & 0 & 0 & 0 & 0 & 0 & 5 & 0 & 0\\\\\n\\end{tabular}\n",
            "text/markdown": "\nA data.frame: 1 × 143\n\n| Id &lt;dbl&gt; | v2a1 &lt;dbl&gt; | hacdor &lt;dbl&gt; | rooms &lt;dbl&gt; | hacapo &lt;dbl&gt; | v14a &lt;dbl&gt; | refrig &lt;dbl&gt; | v18q &lt;dbl&gt; | v18q1 &lt;dbl&gt; | r4h1 &lt;dbl&gt; | r4h2 &lt;dbl&gt; | r4h3 &lt;dbl&gt; | r4m1 &lt;dbl&gt; | r4m2 &lt;dbl&gt; | r4m3 &lt;dbl&gt; | r4t1 &lt;dbl&gt; | r4t2 &lt;dbl&gt; | r4t3 &lt;dbl&gt; | tamhog &lt;dbl&gt; | tamviv &lt;dbl&gt; | escolari &lt;dbl&gt; | rez_esc &lt;dbl&gt; | hhsize &lt;dbl&gt; | paredblolad &lt;dbl&gt; | paredzocalo &lt;dbl&gt; | paredpreb &lt;dbl&gt; | pareddes &lt;dbl&gt; | paredmad &lt;dbl&gt; | paredzinc &lt;dbl&gt; | paredfibras &lt;dbl&gt; | paredother &lt;dbl&gt; | pisomoscer &lt;dbl&gt; | pisocemento &lt;dbl&gt; | pisoother &lt;dbl&gt; | pisonatur &lt;dbl&gt; | pisonotiene &lt;dbl&gt; | pisomadera &lt;dbl&gt; | techozinc &lt;dbl&gt; | techoentrepiso &lt;dbl&gt; | techocane &lt;dbl&gt; | techootro &lt;dbl&gt; | cielorazo &lt;dbl&gt; | abastaguadentro &lt;dbl&gt; | abastaguafuera &lt;dbl&gt; | abastaguano &lt;dbl&gt; | public &lt;dbl&gt; | planpri &lt;dbl&gt; | noelec &lt;dbl&gt; | coopele &lt;dbl&gt; | sanitario1 &lt;dbl&gt; | sanitario2 &lt;dbl&gt; | sanitario3 &lt;dbl&gt; | sanitario5 &lt;dbl&gt; | sanitario6 &lt;dbl&gt; | energcocinar1 &lt;dbl&gt; | energcocinar2 &lt;dbl&gt; | energcocinar3 &lt;dbl&gt; | energcocinar4 &lt;dbl&gt; | elimbasu1 &lt;dbl&gt; | elimbasu2 &lt;dbl&gt; | elimbasu3 &lt;dbl&gt; | elimbasu4 &lt;dbl&gt; | elimbasu5 &lt;dbl&gt; | elimbasu6 &lt;dbl&gt; | epared1 &lt;dbl&gt; | epared2 &lt;dbl&gt; | epared3 &lt;dbl&gt; | etecho1 &lt;dbl&gt; | etecho2 &lt;dbl&gt; | etecho3 &lt;dbl&gt; | eviv1 &lt;dbl&gt; | eviv2 &lt;dbl&gt; | eviv3 &lt;dbl&gt; | dis &lt;dbl&gt; | male &lt;dbl&gt; | female &lt;dbl&gt; | estadocivil1 &lt;dbl&gt; | estadocivil2 &lt;dbl&gt; | estadocivil3 &lt;dbl&gt; | estadocivil4 &lt;dbl&gt; | estadocivil5 &lt;dbl&gt; | estadocivil6 &lt;dbl&gt; | estadocivil7 &lt;dbl&gt; | parentesco1 &lt;dbl&gt; | parentesco2 &lt;dbl&gt; | parentesco3 &lt;dbl&gt; | parentesco4 &lt;dbl&gt; | parentesco5 &lt;dbl&gt; | parentesco6 &lt;dbl&gt; | parentesco7 &lt;dbl&gt; | parentesco8 &lt;dbl&gt; | parentesco9 &lt;dbl&gt; | parentesco10 &lt;dbl&gt; | parentesco11 &lt;dbl&gt; | parentesco12 &lt;dbl&gt; | idhogar &lt;dbl&gt; | hogar_nin &lt;dbl&gt; | hogar_adul &lt;dbl&gt; | hogar_mayor &lt;dbl&gt; | hogar_total &lt;dbl&gt; | dependency &lt;dbl&gt; | edjefe &lt;dbl&gt; | edjefa &lt;dbl&gt; | meaneduc &lt;dbl&gt; | instlevel1 &lt;dbl&gt; | instlevel2 &lt;dbl&gt; | instlevel3 &lt;dbl&gt; | instlevel4 &lt;dbl&gt; | instlevel5 &lt;dbl&gt; | instlevel6 &lt;dbl&gt; | instlevel7 &lt;dbl&gt; | instlevel8 &lt;dbl&gt; | instlevel9 &lt;dbl&gt; | bedrooms &lt;dbl&gt; | overcrowding &lt;dbl&gt; | tipovivi1 &lt;dbl&gt; | tipovivi2 &lt;dbl&gt; | tipovivi3 &lt;dbl&gt; | tipovivi4 &lt;dbl&gt; | tipovivi5 &lt;dbl&gt; | computer &lt;dbl&gt; | television &lt;dbl&gt; | mobilephone &lt;dbl&gt; | qmobilephone &lt;dbl&gt; | lugar1 &lt;dbl&gt; | lugar2 &lt;dbl&gt; | lugar3 &lt;dbl&gt; | lugar4 &lt;dbl&gt; | lugar5 &lt;dbl&gt; | lugar6 &lt;dbl&gt; | area1 &lt;dbl&gt; | area2 &lt;dbl&gt; | age &lt;dbl&gt; | SQBescolari &lt;dbl&gt; | SQBage &lt;dbl&gt; | SQBhogar_total &lt;dbl&gt; | SQBedjefe &lt;dbl&gt; | SQBhogar_nin &lt;dbl&gt; | SQBovercrowding &lt;dbl&gt; | SQBdependency &lt;dbl&gt; | SQBmeaned &lt;dbl&gt; | agesq &lt;dbl&gt; | Target &lt;dbl&gt; |\n|---|---|---|---|---|---|---|---|---|---|---|---|---|---|---|---|---|---|---|---|---|---|---|---|---|---|---|---|---|---|---|---|---|---|---|---|---|---|---|---|---|---|---|---|---|---|---|---|---|---|---|---|---|---|---|---|---|---|---|---|---|---|---|---|---|---|---|---|---|---|---|---|---|---|---|---|---|---|---|---|---|---|---|---|---|---|---|---|---|---|---|---|---|---|---|---|---|---|---|---|---|---|---|---|---|---|---|---|---|---|---|---|---|---|---|---|---|---|---|---|---|---|---|---|---|---|---|---|---|---|---|---|---|---|---|---|---|---|---|---|---|---|---|\n| 0 | 6860 | 0 | 0 | 0 | 0 | 0 | 0 | 7342 | 0 | 0 | 0 | 0 | 0 | 0 | 0 | 0 | 0 | 0 | 0 | 0 | 7928 | 0 | 0 | 0 | 0 | 0 | 0 | 0 | 0 | 0 | 0 | 0 | 0 | 0 | 0 | 0 | 0 | 0 | 0 | 0 | 0 | 0 | 0 | 0 | 0 | 0 | 0 | 0 | 0 | 0 | 0 | 0 | 0 | 0 | 0 | 0 | 0 | 0 | 0 | 0 | 0 | 0 | 0 | 0 | 0 | 0 | 0 | 0 | 0 | 0 | 0 | 0 | 0 | 0 | 0 | 0 | 0 | 0 | 0 | 0 | 0 | 0 | 0 | 0 | 0 | 0 | 0 | 0 | 0 | 0 | 0 | 0 | 0 | 0 | 0 | 0 | 0 | 0 | 0 | 0 | 0 | 0 | 5 | 0 | 0 | 0 | 0 | 0 | 0 | 0 | 0 | 0 | 0 | 0 | 0 | 0 | 0 | 0 | 0 | 0 | 0 | 0 | 0 | 0 | 0 | 0 | 0 | 0 | 0 | 0 | 0 | 0 | 0 | 0 | 0 | 0 | 0 | 0 | 0 | 5 | 0 | 0 |\n\n",
            "text/html": [
              "<table class=\"dataframe\">\n",
              "<caption>A data.frame: 1 × 143</caption>\n",
              "<thead>\n",
              "\t<tr><th scope=col>Id</th><th scope=col>v2a1</th><th scope=col>hacdor</th><th scope=col>rooms</th><th scope=col>hacapo</th><th scope=col>v14a</th><th scope=col>refrig</th><th scope=col>v18q</th><th scope=col>v18q1</th><th scope=col>r4h1</th><th scope=col>r4h2</th><th scope=col>r4h3</th><th scope=col>r4m1</th><th scope=col>r4m2</th><th scope=col>r4m3</th><th scope=col>r4t1</th><th scope=col>r4t2</th><th scope=col>r4t3</th><th scope=col>tamhog</th><th scope=col>tamviv</th><th scope=col>escolari</th><th scope=col>rez_esc</th><th scope=col>hhsize</th><th scope=col>paredblolad</th><th scope=col>paredzocalo</th><th scope=col>paredpreb</th><th scope=col>pareddes</th><th scope=col>paredmad</th><th scope=col>paredzinc</th><th scope=col>paredfibras</th><th scope=col>paredother</th><th scope=col>pisomoscer</th><th scope=col>pisocemento</th><th scope=col>pisoother</th><th scope=col>pisonatur</th><th scope=col>pisonotiene</th><th scope=col>pisomadera</th><th scope=col>techozinc</th><th scope=col>techoentrepiso</th><th scope=col>techocane</th><th scope=col>techootro</th><th scope=col>cielorazo</th><th scope=col>abastaguadentro</th><th scope=col>abastaguafuera</th><th scope=col>abastaguano</th><th scope=col>public</th><th scope=col>planpri</th><th scope=col>noelec</th><th scope=col>coopele</th><th scope=col>sanitario1</th><th scope=col>sanitario2</th><th scope=col>sanitario3</th><th scope=col>sanitario5</th><th scope=col>sanitario6</th><th scope=col>energcocinar1</th><th scope=col>energcocinar2</th><th scope=col>energcocinar3</th><th scope=col>energcocinar4</th><th scope=col>elimbasu1</th><th scope=col>elimbasu2</th><th scope=col>elimbasu3</th><th scope=col>elimbasu4</th><th scope=col>elimbasu5</th><th scope=col>elimbasu6</th><th scope=col>epared1</th><th scope=col>epared2</th><th scope=col>epared3</th><th scope=col>etecho1</th><th scope=col>etecho2</th><th scope=col>etecho3</th><th scope=col>eviv1</th><th scope=col>eviv2</th><th scope=col>eviv3</th><th scope=col>dis</th><th scope=col>male</th><th scope=col>female</th><th scope=col>estadocivil1</th><th scope=col>estadocivil2</th><th scope=col>estadocivil3</th><th scope=col>estadocivil4</th><th scope=col>estadocivil5</th><th scope=col>estadocivil6</th><th scope=col>estadocivil7</th><th scope=col>parentesco1</th><th scope=col>parentesco2</th><th scope=col>parentesco3</th><th scope=col>parentesco4</th><th scope=col>parentesco5</th><th scope=col>parentesco6</th><th scope=col>parentesco7</th><th scope=col>parentesco8</th><th scope=col>parentesco9</th><th scope=col>parentesco10</th><th scope=col>parentesco11</th><th scope=col>parentesco12</th><th scope=col>idhogar</th><th scope=col>hogar_nin</th><th scope=col>hogar_adul</th><th scope=col>hogar_mayor</th><th scope=col>hogar_total</th><th scope=col>dependency</th><th scope=col>edjefe</th><th scope=col>edjefa</th><th scope=col>meaneduc</th><th scope=col>instlevel1</th><th scope=col>instlevel2</th><th scope=col>instlevel3</th><th scope=col>instlevel4</th><th scope=col>instlevel5</th><th scope=col>instlevel6</th><th scope=col>instlevel7</th><th scope=col>instlevel8</th><th scope=col>instlevel9</th><th scope=col>bedrooms</th><th scope=col>overcrowding</th><th scope=col>tipovivi1</th><th scope=col>tipovivi2</th><th scope=col>tipovivi3</th><th scope=col>tipovivi4</th><th scope=col>tipovivi5</th><th scope=col>computer</th><th scope=col>television</th><th scope=col>mobilephone</th><th scope=col>qmobilephone</th><th scope=col>lugar1</th><th scope=col>lugar2</th><th scope=col>lugar3</th><th scope=col>lugar4</th><th scope=col>lugar5</th><th scope=col>lugar6</th><th scope=col>area1</th><th scope=col>area2</th><th scope=col>age</th><th scope=col>SQBescolari</th><th scope=col>SQBage</th><th scope=col>SQBhogar_total</th><th scope=col>SQBedjefe</th><th scope=col>SQBhogar_nin</th><th scope=col>SQBovercrowding</th><th scope=col>SQBdependency</th><th scope=col>SQBmeaned</th><th scope=col>agesq</th><th scope=col>Target</th></tr>\n",
              "\t<tr><th scope=col>&lt;dbl&gt;</th><th scope=col>&lt;dbl&gt;</th><th scope=col>&lt;dbl&gt;</th><th scope=col>&lt;dbl&gt;</th><th scope=col>&lt;dbl&gt;</th><th scope=col>&lt;dbl&gt;</th><th scope=col>&lt;dbl&gt;</th><th scope=col>&lt;dbl&gt;</th><th scope=col>&lt;dbl&gt;</th><th scope=col>&lt;dbl&gt;</th><th scope=col>&lt;dbl&gt;</th><th scope=col>&lt;dbl&gt;</th><th scope=col>&lt;dbl&gt;</th><th scope=col>&lt;dbl&gt;</th><th scope=col>&lt;dbl&gt;</th><th scope=col>&lt;dbl&gt;</th><th scope=col>&lt;dbl&gt;</th><th scope=col>&lt;dbl&gt;</th><th scope=col>&lt;dbl&gt;</th><th scope=col>&lt;dbl&gt;</th><th scope=col>&lt;dbl&gt;</th><th scope=col>&lt;dbl&gt;</th><th scope=col>&lt;dbl&gt;</th><th scope=col>&lt;dbl&gt;</th><th scope=col>&lt;dbl&gt;</th><th scope=col>&lt;dbl&gt;</th><th scope=col>&lt;dbl&gt;</th><th scope=col>&lt;dbl&gt;</th><th scope=col>&lt;dbl&gt;</th><th scope=col>&lt;dbl&gt;</th><th scope=col>&lt;dbl&gt;</th><th scope=col>&lt;dbl&gt;</th><th scope=col>&lt;dbl&gt;</th><th scope=col>&lt;dbl&gt;</th><th scope=col>&lt;dbl&gt;</th><th scope=col>&lt;dbl&gt;</th><th scope=col>&lt;dbl&gt;</th><th scope=col>&lt;dbl&gt;</th><th scope=col>&lt;dbl&gt;</th><th scope=col>&lt;dbl&gt;</th><th scope=col>&lt;dbl&gt;</th><th scope=col>&lt;dbl&gt;</th><th scope=col>&lt;dbl&gt;</th><th scope=col>&lt;dbl&gt;</th><th scope=col>&lt;dbl&gt;</th><th scope=col>&lt;dbl&gt;</th><th scope=col>&lt;dbl&gt;</th><th scope=col>&lt;dbl&gt;</th><th scope=col>&lt;dbl&gt;</th><th scope=col>&lt;dbl&gt;</th><th scope=col>&lt;dbl&gt;</th><th scope=col>&lt;dbl&gt;</th><th scope=col>&lt;dbl&gt;</th><th scope=col>&lt;dbl&gt;</th><th scope=col>&lt;dbl&gt;</th><th scope=col>&lt;dbl&gt;</th><th scope=col>&lt;dbl&gt;</th><th scope=col>&lt;dbl&gt;</th><th scope=col>&lt;dbl&gt;</th><th scope=col>&lt;dbl&gt;</th><th scope=col>&lt;dbl&gt;</th><th scope=col>&lt;dbl&gt;</th><th scope=col>&lt;dbl&gt;</th><th scope=col>&lt;dbl&gt;</th><th scope=col>&lt;dbl&gt;</th><th scope=col>&lt;dbl&gt;</th><th scope=col>&lt;dbl&gt;</th><th scope=col>&lt;dbl&gt;</th><th scope=col>&lt;dbl&gt;</th><th scope=col>&lt;dbl&gt;</th><th scope=col>&lt;dbl&gt;</th><th scope=col>&lt;dbl&gt;</th><th scope=col>&lt;dbl&gt;</th><th scope=col>&lt;dbl&gt;</th><th scope=col>&lt;dbl&gt;</th><th scope=col>&lt;dbl&gt;</th><th scope=col>&lt;dbl&gt;</th><th scope=col>&lt;dbl&gt;</th><th scope=col>&lt;dbl&gt;</th><th scope=col>&lt;dbl&gt;</th><th scope=col>&lt;dbl&gt;</th><th scope=col>&lt;dbl&gt;</th><th scope=col>&lt;dbl&gt;</th><th scope=col>&lt;dbl&gt;</th><th scope=col>&lt;dbl&gt;</th><th scope=col>&lt;dbl&gt;</th><th scope=col>&lt;dbl&gt;</th><th scope=col>&lt;dbl&gt;</th><th scope=col>&lt;dbl&gt;</th><th scope=col>&lt;dbl&gt;</th><th scope=col>&lt;dbl&gt;</th><th scope=col>&lt;dbl&gt;</th><th scope=col>&lt;dbl&gt;</th><th scope=col>&lt;dbl&gt;</th><th scope=col>&lt;dbl&gt;</th><th scope=col>&lt;dbl&gt;</th><th scope=col>&lt;dbl&gt;</th><th scope=col>&lt;dbl&gt;</th><th scope=col>&lt;dbl&gt;</th><th scope=col>&lt;dbl&gt;</th><th scope=col>&lt;dbl&gt;</th><th scope=col>&lt;dbl&gt;</th><th scope=col>&lt;dbl&gt;</th><th scope=col>&lt;dbl&gt;</th><th scope=col>&lt;dbl&gt;</th><th scope=col>&lt;dbl&gt;</th><th scope=col>&lt;dbl&gt;</th><th scope=col>&lt;dbl&gt;</th><th scope=col>&lt;dbl&gt;</th><th scope=col>&lt;dbl&gt;</th><th scope=col>&lt;dbl&gt;</th><th scope=col>&lt;dbl&gt;</th><th scope=col>&lt;dbl&gt;</th><th scope=col>&lt;dbl&gt;</th><th scope=col>&lt;dbl&gt;</th><th scope=col>&lt;dbl&gt;</th><th scope=col>&lt;dbl&gt;</th><th scope=col>&lt;dbl&gt;</th><th scope=col>&lt;dbl&gt;</th><th scope=col>&lt;dbl&gt;</th><th scope=col>&lt;dbl&gt;</th><th scope=col>&lt;dbl&gt;</th><th scope=col>&lt;dbl&gt;</th><th scope=col>&lt;dbl&gt;</th><th scope=col>&lt;dbl&gt;</th><th scope=col>&lt;dbl&gt;</th><th scope=col>&lt;dbl&gt;</th><th scope=col>&lt;dbl&gt;</th><th scope=col>&lt;dbl&gt;</th><th scope=col>&lt;dbl&gt;</th><th scope=col>&lt;dbl&gt;</th><th scope=col>&lt;dbl&gt;</th><th scope=col>&lt;dbl&gt;</th><th scope=col>&lt;dbl&gt;</th><th scope=col>&lt;dbl&gt;</th><th scope=col>&lt;dbl&gt;</th><th scope=col>&lt;dbl&gt;</th><th scope=col>&lt;dbl&gt;</th><th scope=col>&lt;dbl&gt;</th><th scope=col>&lt;dbl&gt;</th><th scope=col>&lt;dbl&gt;</th><th scope=col>&lt;dbl&gt;</th><th scope=col>&lt;dbl&gt;</th></tr>\n",
              "</thead>\n",
              "<tbody>\n",
              "\t<tr><td>0</td><td>6860</td><td>0</td><td>0</td><td>0</td><td>0</td><td>0</td><td>0</td><td>7342</td><td>0</td><td>0</td><td>0</td><td>0</td><td>0</td><td>0</td><td>0</td><td>0</td><td>0</td><td>0</td><td>0</td><td>0</td><td>7928</td><td>0</td><td>0</td><td>0</td><td>0</td><td>0</td><td>0</td><td>0</td><td>0</td><td>0</td><td>0</td><td>0</td><td>0</td><td>0</td><td>0</td><td>0</td><td>0</td><td>0</td><td>0</td><td>0</td><td>0</td><td>0</td><td>0</td><td>0</td><td>0</td><td>0</td><td>0</td><td>0</td><td>0</td><td>0</td><td>0</td><td>0</td><td>0</td><td>0</td><td>0</td><td>0</td><td>0</td><td>0</td><td>0</td><td>0</td><td>0</td><td>0</td><td>0</td><td>0</td><td>0</td><td>0</td><td>0</td><td>0</td><td>0</td><td>0</td><td>0</td><td>0</td><td>0</td><td>0</td><td>0</td><td>0</td><td>0</td><td>0</td><td>0</td><td>0</td><td>0</td><td>0</td><td>0</td><td>0</td><td>0</td><td>0</td><td>0</td><td>0</td><td>0</td><td>0</td><td>0</td><td>0</td><td>0</td><td>0</td><td>0</td><td>0</td><td>0</td><td>0</td><td>0</td><td>0</td><td>0</td><td>0</td><td>5</td><td>0</td><td>0</td><td>0</td><td>0</td><td>0</td><td>0</td><td>0</td><td>0</td><td>0</td><td>0</td><td>0</td><td>0</td><td>0</td><td>0</td><td>0</td><td>0</td><td>0</td><td>0</td><td>0</td><td>0</td><td>0</td><td>0</td><td>0</td><td>0</td><td>0</td><td>0</td><td>0</td><td>0</td><td>0</td><td>0</td><td>0</td><td>0</td><td>0</td><td>0</td><td>0</td><td>0</td><td>5</td><td>0</td><td>0</td></tr>\n",
              "</tbody>\n",
              "</table>\n"
            ]
          },
          "metadata": {}
        }
      ]
    },
    {
      "cell_type": "markdown",
      "metadata": {
        "id": "ofvfIvyqDjTZ"
      },
      "source": [
        "For 'rez_ecs' : Can drop column\n",
        "\n",
        "For 'v2a1', 'v18q1', 'SQBmeaned', 'meaneduc' : Replace NA with median value"
      ]
    },
    {
      "cell_type": "code",
      "metadata": {
        "id": "Xw8hI-oyEjv0"
      },
      "source": [
        "train <- subset(train, select = -c(rez_esc))\n",
        "train$v2a1[is.na(train$v2a1)] <- median(train$v2a1, na.rm=TRUE)\n",
        "train$v18q1[is.na(train$v18q1)] <- median(train$v18q1, na.rm=TRUE)\n",
        "train$SQBmeaned[is.na(train$SQBmeaned)] <- median(train$SQBmeaned, na.rm=TRUE)\n",
        "train$meaneduc[is.na(train$meaneduc)] <- median(train$meaneduc, na.rm=TRUE)"
      ],
      "execution_count": 11,
      "outputs": []
    },
    {
      "cell_type": "code",
      "metadata": {
        "colab": {
          "base_uri": "https://localhost:8080/",
          "height": 34
        },
        "id": "vpxw4ll0JJ97",
        "outputId": "598b0765-8729-4f8c-95c2-44bf0595c768"
      },
      "source": [
        "sum(is.na(train))"
      ],
      "execution_count": 12,
      "outputs": [
        {
          "output_type": "display_data",
          "data": {
            "text/plain": [
              "[1] 0"
            ],
            "text/latex": "0",
            "text/markdown": "0",
            "text/html": [
              "0"
            ]
          },
          "metadata": {}
        }
      ]
    },
    {
      "cell_type": "code",
      "metadata": {
        "colab": {
          "base_uri": "https://localhost:8080/",
          "height": 34
        },
        "id": "NhdZw4Bi6VQO",
        "outputId": "148af483-f3f3-4683-8bec-81ef694589e7"
      },
      "source": [
        "dim(train)"
      ],
      "execution_count": 13,
      "outputs": [
        {
          "output_type": "display_data",
          "data": {
            "text/plain": [
              "[1] 9557  142"
            ],
            "text/latex": "\\begin{enumerate*}\n\\item 9557\n\\item 142\n\\end{enumerate*}\n",
            "text/markdown": "1. 9557\n2. 142\n\n\n",
            "text/html": [
              "<style>\n",
              ".list-inline {list-style: none; margin:0; padding: 0}\n",
              ".list-inline>li {display: inline-block}\n",
              ".list-inline>li:not(:last-child)::after {content: \"\\00b7\"; padding: 0 .5ex}\n",
              "</style>\n",
              "<ol class=list-inline><li>9557</li><li>142</li></ol>\n"
            ]
          },
          "metadata": {}
        }
      ]
    },
    {
      "cell_type": "code",
      "metadata": {
        "colab": {
          "base_uri": "https://localhost:8080/",
          "height": 302
        },
        "id": "NUlkmqCCJ5hh",
        "outputId": "4234ad1c-63e5-4d5d-91bb-2f5a818fb971"
      },
      "source": [
        "head(train)"
      ],
      "execution_count": 14,
      "outputs": [
        {
          "output_type": "display_data",
          "data": {
            "text/plain": [
              "  Id           v2a1   hacdor rooms hacapo v14a refrig v18q v18q1 r4h1 r4h2 r4h3\n",
              "1 ID_279628684 190000 0      3     0      1    1      0    1     0    1    1   \n",
              "2 ID_f29eb3ddd 135000 0      4     0      1    1      1    1     0    1    1   \n",
              "3 ID_68de51c94 130000 0      8     0      1    1      0    1     0    0    0   \n",
              "4 ID_d671db89c 180000 0      5     0      1    1      1    1     0    2    2   \n",
              "5 ID_d56d6f5f5 180000 0      5     0      1    1      1    1     0    2    2   \n",
              "6 ID_ec05b1a7b 180000 0      5     0      1    1      1    1     0    2    2   \n",
              "  r4m1 r4m2 r4m3 r4t1 r4t2 r4t3 tamhog tamviv escolari hhsize paredblolad\n",
              "1 0    0    0    0    1    1    1      1      10       1      1          \n",
              "2 0    0    0    0    1    1    1      1      12       1      0          \n",
              "3 0    1    1    0    1    1    1      1      11       1      0          \n",
              "4 1    1    2    1    3    4    4      4       9       4      1          \n",
              "5 1    1    2    1    3    4    4      4      11       4      1          \n",
              "6 1    1    2    1    3    4    4      4      11       4      1          \n",
              "  paredzocalo paredpreb pareddes paredmad paredzinc paredfibras paredother\n",
              "1 0           0         0        0        0         0           0         \n",
              "2 0           0         0        1        0         0           0         \n",
              "3 0           0         0        1        0         0           0         \n",
              "4 0           0         0        0        0         0           0         \n",
              "5 0           0         0        0        0         0           0         \n",
              "6 0           0         0        0        0         0           0         \n",
              "  pisomoscer pisocemento pisoother pisonatur pisonotiene pisomadera techozinc\n",
              "1 1          0           0         0         0           0          0        \n",
              "2 0          0           0         0         0           1          1        \n",
              "3 1          0           0         0         0           0          1        \n",
              "4 1          0           0         0         0           0          1        \n",
              "5 1          0           0         0         0           0          1        \n",
              "6 1          0           0         0         0           0          1        \n",
              "  techoentrepiso techocane techootro cielorazo abastaguadentro abastaguafuera\n",
              "1 1              0         0         1         1               0             \n",
              "2 0              0         0         1         1               0             \n",
              "3 0              0         0         1         1               0             \n",
              "4 0              0         0         1         1               0             \n",
              "5 0              0         0         1         1               0             \n",
              "6 0              0         0         1         1               0             \n",
              "  abastaguano public planpri noelec coopele sanitario1 sanitario2 sanitario3\n",
              "1 0           1      0       0      0       0          1          0         \n",
              "2 0           1      0       0      0       0          1          0         \n",
              "3 0           1      0       0      0       0          1          0         \n",
              "4 0           1      0       0      0       0          1          0         \n",
              "5 0           1      0       0      0       0          1          0         \n",
              "6 0           1      0       0      0       0          1          0         \n",
              "  sanitario5 sanitario6 energcocinar1 energcocinar2 energcocinar3 energcocinar4\n",
              "1 0          0          0             0             1             0            \n",
              "2 0          0          0             1             0             0            \n",
              "3 0          0          0             1             0             0            \n",
              "4 0          0          0             1             0             0            \n",
              "5 0          0          0             1             0             0            \n",
              "6 0          0          0             1             0             0            \n",
              "  elimbasu1 elimbasu2 elimbasu3 elimbasu4 elimbasu5 elimbasu6 epared1 epared2\n",
              "1 1         0         0         0         0         0         0       1      \n",
              "2 1         0         0         0         0         0         0       1      \n",
              "3 1         0         0         0         0         0         0       1      \n",
              "4 1         0         0         0         0         0         0       0      \n",
              "5 1         0         0         0         0         0         0       0      \n",
              "6 1         0         0         0         0         0         0       0      \n",
              "  epared3 etecho1 etecho2 etecho3 eviv1 eviv2 eviv3 dis male female\n",
              "1 0       1       0       0       1     0     0     0   1    0     \n",
              "2 0       0       1       0       0     1     0     0   1    0     \n",
              "3 0       0       0       1       0     0     1     1   0    1     \n",
              "4 1       0       0       1       0     0     1     0   1    0     \n",
              "5 1       0       0       1       0     0     1     0   0    1     \n",
              "6 1       0       0       1       0     0     1     0   1    0     \n",
              "  estadocivil1 estadocivil2 estadocivil3 estadocivil4 estadocivil5 estadocivil6\n",
              "1 0            0            0            1            0            0           \n",
              "2 0            0            0            1            0            0           \n",
              "3 0            0            0            0            0            1           \n",
              "4 0            0            0            0            0            0           \n",
              "5 0            1            0            0            0            0           \n",
              "6 0            1            0            0            0            0           \n",
              "  estadocivil7 parentesco1 parentesco2 parentesco3 parentesco4 parentesco5\n",
              "1 0            1           0           0           0           0          \n",
              "2 0            1           0           0           0           0          \n",
              "3 0            1           0           0           0           0          \n",
              "4 1            0           0           1           0           0          \n",
              "5 0            0           1           0           0           0          \n",
              "6 0            1           0           0           0           0          \n",
              "  parentesco6 parentesco7 parentesco8 parentesco9 parentesco10 parentesco11\n",
              "1 0           0           0           0           0            0           \n",
              "2 0           0           0           0           0            0           \n",
              "3 0           0           0           0           0            0           \n",
              "4 0           0           0           0           0            0           \n",
              "5 0           0           0           0           0            0           \n",
              "6 0           0           0           0           0            0           \n",
              "  parentesco12 idhogar   hogar_nin hogar_adul hogar_mayor hogar_total\n",
              "1 0            21eb7fcc1 0         1          0           1          \n",
              "2 0            0e5d7a658 0         1          1           1          \n",
              "3 0            2c7317ea8 0         1          1           1          \n",
              "4 0            2b58d945f 2         2          0           4          \n",
              "5 0            2b58d945f 2         2          0           4          \n",
              "6 0            2b58d945f 2         2          0           4          \n",
              "  dependency edjefe edjefa meaneduc instlevel1 instlevel2 instlevel3 instlevel4\n",
              "1 no         10     no     10       0          0          0          1         \n",
              "2 8          12     no     12       0          0          0          0         \n",
              "3 8          no     11     11       0          0          0          0         \n",
              "4 yes        11     no     11       0          0          0          1         \n",
              "5 yes        11     no     11       0          0          0          0         \n",
              "6 yes        11     no     11       0          0          0          0         \n",
              "  instlevel5 instlevel6 instlevel7 instlevel8 instlevel9 bedrooms overcrowding\n",
              "1 0          0          0          0          0          1        1.000000    \n",
              "2 0          0          0          1          0          1        1.000000    \n",
              "3 1          0          0          0          0          2        0.500000    \n",
              "4 0          0          0          0          0          3        1.333333    \n",
              "5 1          0          0          0          0          3        1.333333    \n",
              "6 1          0          0          0          0          3        1.333333    \n",
              "  tipovivi1 tipovivi2 tipovivi3 tipovivi4 tipovivi5 computer television\n",
              "1 0         0         1         0         0         0        0         \n",
              "2 0         0         1         0         0         0        0         \n",
              "3 1         0         0         0         0         0        0         \n",
              "4 0         0         1         0         0         0        0         \n",
              "5 0         0         1         0         0         0        0         \n",
              "6 0         0         1         0         0         0        0         \n",
              "  mobilephone qmobilephone lugar1 lugar2 lugar3 lugar4 lugar5 lugar6 area1\n",
              "1 1           1            1      0      0      0      0      0      1    \n",
              "2 1           1            1      0      0      0      0      0      1    \n",
              "3 0           0            1      0      0      0      0      0      1    \n",
              "4 1           3            1      0      0      0      0      0      1    \n",
              "5 1           3            1      0      0      0      0      0      1    \n",
              "6 1           3            1      0      0      0      0      0      1    \n",
              "  area2 age SQBescolari SQBage SQBhogar_total SQBedjefe SQBhogar_nin\n",
              "1 0     43  100         1849    1             100       0           \n",
              "2 0     67  144         4489    1             144       0           \n",
              "3 0     92  121         8464    1               0       0           \n",
              "4 0     17   81          289   16             121       4           \n",
              "5 0     37  121         1369   16             121       4           \n",
              "6 0     38  121         1444   16             121       4           \n",
              "  SQBovercrowding SQBdependency SQBmeaned agesq Target\n",
              "1 1.000000         0            100       1849  4     \n",
              "2 1.000000        64            144       4489  4     \n",
              "3 0.250000        64            121       8464  4     \n",
              "4 1.777778         1            121        289  4     \n",
              "5 1.777778         1            121       1369  4     \n",
              "6 1.777778         1            121       1444  4     "
            ],
            "text/latex": "A data.frame: 6 × 142\n\\begin{tabular}{r|llllllllllllllllllllllllllllllllllllllllllllllllllllllllllllllllllllllllllllllllllllllllllllllllllllllllllllllllllllllllllllllllllllllllllllll}\n  & Id & v2a1 & hacdor & rooms & hacapo & v14a & refrig & v18q & v18q1 & r4h1 & r4h2 & r4h3 & r4m1 & r4m2 & r4m3 & r4t1 & r4t2 & r4t3 & tamhog & tamviv & escolari & hhsize & paredblolad & paredzocalo & paredpreb & pareddes & paredmad & paredzinc & paredfibras & paredother & pisomoscer & pisocemento & pisoother & pisonatur & pisonotiene & pisomadera & techozinc & techoentrepiso & techocane & techootro & cielorazo & abastaguadentro & abastaguafuera & abastaguano & public & planpri & noelec & coopele & sanitario1 & sanitario2 & sanitario3 & sanitario5 & sanitario6 & energcocinar1 & energcocinar2 & energcocinar3 & energcocinar4 & elimbasu1 & elimbasu2 & elimbasu3 & elimbasu4 & elimbasu5 & elimbasu6 & epared1 & epared2 & epared3 & etecho1 & etecho2 & etecho3 & eviv1 & eviv2 & eviv3 & dis & male & female & estadocivil1 & estadocivil2 & estadocivil3 & estadocivil4 & estadocivil5 & estadocivil6 & estadocivil7 & parentesco1 & parentesco2 & parentesco3 & parentesco4 & parentesco5 & parentesco6 & parentesco7 & parentesco8 & parentesco9 & parentesco10 & parentesco11 & parentesco12 & idhogar & hogar\\_nin & hogar\\_adul & hogar\\_mayor & hogar\\_total & dependency & edjefe & edjefa & meaneduc & instlevel1 & instlevel2 & instlevel3 & instlevel4 & instlevel5 & instlevel6 & instlevel7 & instlevel8 & instlevel9 & bedrooms & overcrowding & tipovivi1 & tipovivi2 & tipovivi3 & tipovivi4 & tipovivi5 & computer & television & mobilephone & qmobilephone & lugar1 & lugar2 & lugar3 & lugar4 & lugar5 & lugar6 & area1 & area2 & age & SQBescolari & SQBage & SQBhogar\\_total & SQBedjefe & SQBhogar\\_nin & SQBovercrowding & SQBdependency & SQBmeaned & agesq & Target\\\\\n  & <chr> & <dbl> & <int> & <int> & <int> & <int> & <int> & <int> & <int> & <int> & <int> & <int> & <int> & <int> & <int> & <int> & <int> & <int> & <int> & <int> & <int> & <int> & <int> & <int> & <int> & <int> & <int> & <int> & <int> & <int> & <int> & <int> & <int> & <int> & <int> & <int> & <int> & <int> & <int> & <int> & <int> & <int> & <int> & <int> & <int> & <int> & <int> & <int> & <int> & <int> & <int> & <int> & <int> & <int> & <int> & <int> & <int> & <int> & <int> & <int> & <int> & <int> & <int> & <int> & <int> & <int> & <int> & <int> & <int> & <int> & <int> & <int> & <int> & <int> & <int> & <int> & <int> & <int> & <int> & <int> & <int> & <int> & <int> & <int> & <int> & <int> & <int> & <int> & <int> & <int> & <int> & <int> & <int> & <int> & <chr> & <int> & <int> & <int> & <int> & <chr> & <chr> & <chr> & <dbl> & <int> & <int> & <int> & <int> & <int> & <int> & <int> & <int> & <int> & <int> & <dbl> & <int> & <int> & <int> & <int> & <int> & <int> & <int> & <int> & <int> & <int> & <int> & <int> & <int> & <int> & <int> & <int> & <int> & <int> & <int> & <int> & <int> & <int> & <int> & <dbl> & <dbl> & <dbl> & <int> & <int>\\\\\n\\hline\n\t1 & ID\\_279628684 & 190000 & 0 & 3 & 0 & 1 & 1 & 0 & 1 & 0 & 1 & 1 & 0 & 0 & 0 & 0 & 1 & 1 & 1 & 1 & 10 & 1 & 1 & 0 & 0 & 0 & 0 & 0 & 0 & 0 & 1 & 0 & 0 & 0 & 0 & 0 & 0 & 1 & 0 & 0 & 1 & 1 & 0 & 0 & 1 & 0 & 0 & 0 & 0 & 1 & 0 & 0 & 0 & 0 & 0 & 1 & 0 & 1 & 0 & 0 & 0 & 0 & 0 & 0 & 1 & 0 & 1 & 0 & 0 & 1 & 0 & 0 & 0 & 1 & 0 & 0 & 0 & 0 & 1 & 0 & 0 & 0 & 1 & 0 & 0 & 0 & 0 & 0 & 0 & 0 & 0 & 0 & 0 & 0 & 21eb7fcc1 & 0 & 1 & 0 & 1 & no  & 10 & no & 10 & 0 & 0 & 0 & 1 & 0 & 0 & 0 & 0 & 0 & 1 & 1.000000 & 0 & 0 & 1 & 0 & 0 & 0 & 0 & 1 & 1 & 1 & 0 & 0 & 0 & 0 & 0 & 1 & 0 & 43 & 100 & 1849 &  1 & 100 & 0 & 1.000000 &  0 & 100 & 1849 & 4\\\\\n\t2 & ID\\_f29eb3ddd & 135000 & 0 & 4 & 0 & 1 & 1 & 1 & 1 & 0 & 1 & 1 & 0 & 0 & 0 & 0 & 1 & 1 & 1 & 1 & 12 & 1 & 0 & 0 & 0 & 0 & 1 & 0 & 0 & 0 & 0 & 0 & 0 & 0 & 0 & 1 & 1 & 0 & 0 & 0 & 1 & 1 & 0 & 0 & 1 & 0 & 0 & 0 & 0 & 1 & 0 & 0 & 0 & 0 & 1 & 0 & 0 & 1 & 0 & 0 & 0 & 0 & 0 & 0 & 1 & 0 & 0 & 1 & 0 & 0 & 1 & 0 & 0 & 1 & 0 & 0 & 0 & 0 & 1 & 0 & 0 & 0 & 1 & 0 & 0 & 0 & 0 & 0 & 0 & 0 & 0 & 0 & 0 & 0 & 0e5d7a658 & 0 & 1 & 1 & 1 & 8   & 12 & no & 12 & 0 & 0 & 0 & 0 & 0 & 0 & 0 & 1 & 0 & 1 & 1.000000 & 0 & 0 & 1 & 0 & 0 & 0 & 0 & 1 & 1 & 1 & 0 & 0 & 0 & 0 & 0 & 1 & 0 & 67 & 144 & 4489 &  1 & 144 & 0 & 1.000000 & 64 & 144 & 4489 & 4\\\\\n\t3 & ID\\_68de51c94 & 130000 & 0 & 8 & 0 & 1 & 1 & 0 & 1 & 0 & 0 & 0 & 0 & 1 & 1 & 0 & 1 & 1 & 1 & 1 & 11 & 1 & 0 & 0 & 0 & 0 & 1 & 0 & 0 & 0 & 1 & 0 & 0 & 0 & 0 & 0 & 1 & 0 & 0 & 0 & 1 & 1 & 0 & 0 & 1 & 0 & 0 & 0 & 0 & 1 & 0 & 0 & 0 & 0 & 1 & 0 & 0 & 1 & 0 & 0 & 0 & 0 & 0 & 0 & 1 & 0 & 0 & 0 & 1 & 0 & 0 & 1 & 1 & 0 & 1 & 0 & 0 & 0 & 0 & 0 & 1 & 0 & 1 & 0 & 0 & 0 & 0 & 0 & 0 & 0 & 0 & 0 & 0 & 0 & 2c7317ea8 & 0 & 1 & 1 & 1 & 8   & no & 11 & 11 & 0 & 0 & 0 & 0 & 1 & 0 & 0 & 0 & 0 & 2 & 0.500000 & 1 & 0 & 0 & 0 & 0 & 0 & 0 & 0 & 0 & 1 & 0 & 0 & 0 & 0 & 0 & 1 & 0 & 92 & 121 & 8464 &  1 &   0 & 0 & 0.250000 & 64 & 121 & 8464 & 4\\\\\n\t4 & ID\\_d671db89c & 180000 & 0 & 5 & 0 & 1 & 1 & 1 & 1 & 0 & 2 & 2 & 1 & 1 & 2 & 1 & 3 & 4 & 4 & 4 &  9 & 4 & 1 & 0 & 0 & 0 & 0 & 0 & 0 & 0 & 1 & 0 & 0 & 0 & 0 & 0 & 1 & 0 & 0 & 0 & 1 & 1 & 0 & 0 & 1 & 0 & 0 & 0 & 0 & 1 & 0 & 0 & 0 & 0 & 1 & 0 & 0 & 1 & 0 & 0 & 0 & 0 & 0 & 0 & 0 & 1 & 0 & 0 & 1 & 0 & 0 & 1 & 0 & 1 & 0 & 0 & 0 & 0 & 0 & 0 & 0 & 1 & 0 & 0 & 1 & 0 & 0 & 0 & 0 & 0 & 0 & 0 & 0 & 0 & 2b58d945f & 2 & 2 & 0 & 4 & yes & 11 & no & 11 & 0 & 0 & 0 & 1 & 0 & 0 & 0 & 0 & 0 & 3 & 1.333333 & 0 & 0 & 1 & 0 & 0 & 0 & 0 & 1 & 3 & 1 & 0 & 0 & 0 & 0 & 0 & 1 & 0 & 17 &  81 &  289 & 16 & 121 & 4 & 1.777778 &  1 & 121 &  289 & 4\\\\\n\t5 & ID\\_d56d6f5f5 & 180000 & 0 & 5 & 0 & 1 & 1 & 1 & 1 & 0 & 2 & 2 & 1 & 1 & 2 & 1 & 3 & 4 & 4 & 4 & 11 & 4 & 1 & 0 & 0 & 0 & 0 & 0 & 0 & 0 & 1 & 0 & 0 & 0 & 0 & 0 & 1 & 0 & 0 & 0 & 1 & 1 & 0 & 0 & 1 & 0 & 0 & 0 & 0 & 1 & 0 & 0 & 0 & 0 & 1 & 0 & 0 & 1 & 0 & 0 & 0 & 0 & 0 & 0 & 0 & 1 & 0 & 0 & 1 & 0 & 0 & 1 & 0 & 0 & 1 & 0 & 1 & 0 & 0 & 0 & 0 & 0 & 0 & 1 & 0 & 0 & 0 & 0 & 0 & 0 & 0 & 0 & 0 & 0 & 2b58d945f & 2 & 2 & 0 & 4 & yes & 11 & no & 11 & 0 & 0 & 0 & 0 & 1 & 0 & 0 & 0 & 0 & 3 & 1.333333 & 0 & 0 & 1 & 0 & 0 & 0 & 0 & 1 & 3 & 1 & 0 & 0 & 0 & 0 & 0 & 1 & 0 & 37 & 121 & 1369 & 16 & 121 & 4 & 1.777778 &  1 & 121 & 1369 & 4\\\\\n\t6 & ID\\_ec05b1a7b & 180000 & 0 & 5 & 0 & 1 & 1 & 1 & 1 & 0 & 2 & 2 & 1 & 1 & 2 & 1 & 3 & 4 & 4 & 4 & 11 & 4 & 1 & 0 & 0 & 0 & 0 & 0 & 0 & 0 & 1 & 0 & 0 & 0 & 0 & 0 & 1 & 0 & 0 & 0 & 1 & 1 & 0 & 0 & 1 & 0 & 0 & 0 & 0 & 1 & 0 & 0 & 0 & 0 & 1 & 0 & 0 & 1 & 0 & 0 & 0 & 0 & 0 & 0 & 0 & 1 & 0 & 0 & 1 & 0 & 0 & 1 & 0 & 1 & 0 & 0 & 1 & 0 & 0 & 0 & 0 & 0 & 1 & 0 & 0 & 0 & 0 & 0 & 0 & 0 & 0 & 0 & 0 & 0 & 2b58d945f & 2 & 2 & 0 & 4 & yes & 11 & no & 11 & 0 & 0 & 0 & 0 & 1 & 0 & 0 & 0 & 0 & 3 & 1.333333 & 0 & 0 & 1 & 0 & 0 & 0 & 0 & 1 & 3 & 1 & 0 & 0 & 0 & 0 & 0 & 1 & 0 & 38 & 121 & 1444 & 16 & 121 & 4 & 1.777778 &  1 & 121 & 1444 & 4\\\\\n\\end{tabular}\n",
            "text/markdown": "\nA data.frame: 6 × 142\n\n| <!--/--> | Id &lt;chr&gt; | v2a1 &lt;dbl&gt; | hacdor &lt;int&gt; | rooms &lt;int&gt; | hacapo &lt;int&gt; | v14a &lt;int&gt; | refrig &lt;int&gt; | v18q &lt;int&gt; | v18q1 &lt;int&gt; | r4h1 &lt;int&gt; | r4h2 &lt;int&gt; | r4h3 &lt;int&gt; | r4m1 &lt;int&gt; | r4m2 &lt;int&gt; | r4m3 &lt;int&gt; | r4t1 &lt;int&gt; | r4t2 &lt;int&gt; | r4t3 &lt;int&gt; | tamhog &lt;int&gt; | tamviv &lt;int&gt; | escolari &lt;int&gt; | hhsize &lt;int&gt; | paredblolad &lt;int&gt; | paredzocalo &lt;int&gt; | paredpreb &lt;int&gt; | pareddes &lt;int&gt; | paredmad &lt;int&gt; | paredzinc &lt;int&gt; | paredfibras &lt;int&gt; | paredother &lt;int&gt; | pisomoscer &lt;int&gt; | pisocemento &lt;int&gt; | pisoother &lt;int&gt; | pisonatur &lt;int&gt; | pisonotiene &lt;int&gt; | pisomadera &lt;int&gt; | techozinc &lt;int&gt; | techoentrepiso &lt;int&gt; | techocane &lt;int&gt; | techootro &lt;int&gt; | cielorazo &lt;int&gt; | abastaguadentro &lt;int&gt; | abastaguafuera &lt;int&gt; | abastaguano &lt;int&gt; | public &lt;int&gt; | planpri &lt;int&gt; | noelec &lt;int&gt; | coopele &lt;int&gt; | sanitario1 &lt;int&gt; | sanitario2 &lt;int&gt; | sanitario3 &lt;int&gt; | sanitario5 &lt;int&gt; | sanitario6 &lt;int&gt; | energcocinar1 &lt;int&gt; | energcocinar2 &lt;int&gt; | energcocinar3 &lt;int&gt; | energcocinar4 &lt;int&gt; | elimbasu1 &lt;int&gt; | elimbasu2 &lt;int&gt; | elimbasu3 &lt;int&gt; | elimbasu4 &lt;int&gt; | elimbasu5 &lt;int&gt; | elimbasu6 &lt;int&gt; | epared1 &lt;int&gt; | epared2 &lt;int&gt; | epared3 &lt;int&gt; | etecho1 &lt;int&gt; | etecho2 &lt;int&gt; | etecho3 &lt;int&gt; | eviv1 &lt;int&gt; | eviv2 &lt;int&gt; | eviv3 &lt;int&gt; | dis &lt;int&gt; | male &lt;int&gt; | female &lt;int&gt; | estadocivil1 &lt;int&gt; | estadocivil2 &lt;int&gt; | estadocivil3 &lt;int&gt; | estadocivil4 &lt;int&gt; | estadocivil5 &lt;int&gt; | estadocivil6 &lt;int&gt; | estadocivil7 &lt;int&gt; | parentesco1 &lt;int&gt; | parentesco2 &lt;int&gt; | parentesco3 &lt;int&gt; | parentesco4 &lt;int&gt; | parentesco5 &lt;int&gt; | parentesco6 &lt;int&gt; | parentesco7 &lt;int&gt; | parentesco8 &lt;int&gt; | parentesco9 &lt;int&gt; | parentesco10 &lt;int&gt; | parentesco11 &lt;int&gt; | parentesco12 &lt;int&gt; | idhogar &lt;chr&gt; | hogar_nin &lt;int&gt; | hogar_adul &lt;int&gt; | hogar_mayor &lt;int&gt; | hogar_total &lt;int&gt; | dependency &lt;chr&gt; | edjefe &lt;chr&gt; | edjefa &lt;chr&gt; | meaneduc &lt;dbl&gt; | instlevel1 &lt;int&gt; | instlevel2 &lt;int&gt; | instlevel3 &lt;int&gt; | instlevel4 &lt;int&gt; | instlevel5 &lt;int&gt; | instlevel6 &lt;int&gt; | instlevel7 &lt;int&gt; | instlevel8 &lt;int&gt; | instlevel9 &lt;int&gt; | bedrooms &lt;int&gt; | overcrowding &lt;dbl&gt; | tipovivi1 &lt;int&gt; | tipovivi2 &lt;int&gt; | tipovivi3 &lt;int&gt; | tipovivi4 &lt;int&gt; | tipovivi5 &lt;int&gt; | computer &lt;int&gt; | television &lt;int&gt; | mobilephone &lt;int&gt; | qmobilephone &lt;int&gt; | lugar1 &lt;int&gt; | lugar2 &lt;int&gt; | lugar3 &lt;int&gt; | lugar4 &lt;int&gt; | lugar5 &lt;int&gt; | lugar6 &lt;int&gt; | area1 &lt;int&gt; | area2 &lt;int&gt; | age &lt;int&gt; | SQBescolari &lt;int&gt; | SQBage &lt;int&gt; | SQBhogar_total &lt;int&gt; | SQBedjefe &lt;int&gt; | SQBhogar_nin &lt;int&gt; | SQBovercrowding &lt;dbl&gt; | SQBdependency &lt;dbl&gt; | SQBmeaned &lt;dbl&gt; | agesq &lt;int&gt; | Target &lt;int&gt; |\n|---|---|---|---|---|---|---|---|---|---|---|---|---|---|---|---|---|---|---|---|---|---|---|---|---|---|---|---|---|---|---|---|---|---|---|---|---|---|---|---|---|---|---|---|---|---|---|---|---|---|---|---|---|---|---|---|---|---|---|---|---|---|---|---|---|---|---|---|---|---|---|---|---|---|---|---|---|---|---|---|---|---|---|---|---|---|---|---|---|---|---|---|---|---|---|---|---|---|---|---|---|---|---|---|---|---|---|---|---|---|---|---|---|---|---|---|---|---|---|---|---|---|---|---|---|---|---|---|---|---|---|---|---|---|---|---|---|---|---|---|---|---|---|\n| 1 | ID_279628684 | 190000 | 0 | 3 | 0 | 1 | 1 | 0 | 1 | 0 | 1 | 1 | 0 | 0 | 0 | 0 | 1 | 1 | 1 | 1 | 10 | 1 | 1 | 0 | 0 | 0 | 0 | 0 | 0 | 0 | 1 | 0 | 0 | 0 | 0 | 0 | 0 | 1 | 0 | 0 | 1 | 1 | 0 | 0 | 1 | 0 | 0 | 0 | 0 | 1 | 0 | 0 | 0 | 0 | 0 | 1 | 0 | 1 | 0 | 0 | 0 | 0 | 0 | 0 | 1 | 0 | 1 | 0 | 0 | 1 | 0 | 0 | 0 | 1 | 0 | 0 | 0 | 0 | 1 | 0 | 0 | 0 | 1 | 0 | 0 | 0 | 0 | 0 | 0 | 0 | 0 | 0 | 0 | 0 | 21eb7fcc1 | 0 | 1 | 0 | 1 | no  | 10 | no | 10 | 0 | 0 | 0 | 1 | 0 | 0 | 0 | 0 | 0 | 1 | 1.000000 | 0 | 0 | 1 | 0 | 0 | 0 | 0 | 1 | 1 | 1 | 0 | 0 | 0 | 0 | 0 | 1 | 0 | 43 | 100 | 1849 |  1 | 100 | 0 | 1.000000 |  0 | 100 | 1849 | 4 |\n| 2 | ID_f29eb3ddd | 135000 | 0 | 4 | 0 | 1 | 1 | 1 | 1 | 0 | 1 | 1 | 0 | 0 | 0 | 0 | 1 | 1 | 1 | 1 | 12 | 1 | 0 | 0 | 0 | 0 | 1 | 0 | 0 | 0 | 0 | 0 | 0 | 0 | 0 | 1 | 1 | 0 | 0 | 0 | 1 | 1 | 0 | 0 | 1 | 0 | 0 | 0 | 0 | 1 | 0 | 0 | 0 | 0 | 1 | 0 | 0 | 1 | 0 | 0 | 0 | 0 | 0 | 0 | 1 | 0 | 0 | 1 | 0 | 0 | 1 | 0 | 0 | 1 | 0 | 0 | 0 | 0 | 1 | 0 | 0 | 0 | 1 | 0 | 0 | 0 | 0 | 0 | 0 | 0 | 0 | 0 | 0 | 0 | 0e5d7a658 | 0 | 1 | 1 | 1 | 8   | 12 | no | 12 | 0 | 0 | 0 | 0 | 0 | 0 | 0 | 1 | 0 | 1 | 1.000000 | 0 | 0 | 1 | 0 | 0 | 0 | 0 | 1 | 1 | 1 | 0 | 0 | 0 | 0 | 0 | 1 | 0 | 67 | 144 | 4489 |  1 | 144 | 0 | 1.000000 | 64 | 144 | 4489 | 4 |\n| 3 | ID_68de51c94 | 130000 | 0 | 8 | 0 | 1 | 1 | 0 | 1 | 0 | 0 | 0 | 0 | 1 | 1 | 0 | 1 | 1 | 1 | 1 | 11 | 1 | 0 | 0 | 0 | 0 | 1 | 0 | 0 | 0 | 1 | 0 | 0 | 0 | 0 | 0 | 1 | 0 | 0 | 0 | 1 | 1 | 0 | 0 | 1 | 0 | 0 | 0 | 0 | 1 | 0 | 0 | 0 | 0 | 1 | 0 | 0 | 1 | 0 | 0 | 0 | 0 | 0 | 0 | 1 | 0 | 0 | 0 | 1 | 0 | 0 | 1 | 1 | 0 | 1 | 0 | 0 | 0 | 0 | 0 | 1 | 0 | 1 | 0 | 0 | 0 | 0 | 0 | 0 | 0 | 0 | 0 | 0 | 0 | 2c7317ea8 | 0 | 1 | 1 | 1 | 8   | no | 11 | 11 | 0 | 0 | 0 | 0 | 1 | 0 | 0 | 0 | 0 | 2 | 0.500000 | 1 | 0 | 0 | 0 | 0 | 0 | 0 | 0 | 0 | 1 | 0 | 0 | 0 | 0 | 0 | 1 | 0 | 92 | 121 | 8464 |  1 |   0 | 0 | 0.250000 | 64 | 121 | 8464 | 4 |\n| 4 | ID_d671db89c | 180000 | 0 | 5 | 0 | 1 | 1 | 1 | 1 | 0 | 2 | 2 | 1 | 1 | 2 | 1 | 3 | 4 | 4 | 4 |  9 | 4 | 1 | 0 | 0 | 0 | 0 | 0 | 0 | 0 | 1 | 0 | 0 | 0 | 0 | 0 | 1 | 0 | 0 | 0 | 1 | 1 | 0 | 0 | 1 | 0 | 0 | 0 | 0 | 1 | 0 | 0 | 0 | 0 | 1 | 0 | 0 | 1 | 0 | 0 | 0 | 0 | 0 | 0 | 0 | 1 | 0 | 0 | 1 | 0 | 0 | 1 | 0 | 1 | 0 | 0 | 0 | 0 | 0 | 0 | 0 | 1 | 0 | 0 | 1 | 0 | 0 | 0 | 0 | 0 | 0 | 0 | 0 | 0 | 2b58d945f | 2 | 2 | 0 | 4 | yes | 11 | no | 11 | 0 | 0 | 0 | 1 | 0 | 0 | 0 | 0 | 0 | 3 | 1.333333 | 0 | 0 | 1 | 0 | 0 | 0 | 0 | 1 | 3 | 1 | 0 | 0 | 0 | 0 | 0 | 1 | 0 | 17 |  81 |  289 | 16 | 121 | 4 | 1.777778 |  1 | 121 |  289 | 4 |\n| 5 | ID_d56d6f5f5 | 180000 | 0 | 5 | 0 | 1 | 1 | 1 | 1 | 0 | 2 | 2 | 1 | 1 | 2 | 1 | 3 | 4 | 4 | 4 | 11 | 4 | 1 | 0 | 0 | 0 | 0 | 0 | 0 | 0 | 1 | 0 | 0 | 0 | 0 | 0 | 1 | 0 | 0 | 0 | 1 | 1 | 0 | 0 | 1 | 0 | 0 | 0 | 0 | 1 | 0 | 0 | 0 | 0 | 1 | 0 | 0 | 1 | 0 | 0 | 0 | 0 | 0 | 0 | 0 | 1 | 0 | 0 | 1 | 0 | 0 | 1 | 0 | 0 | 1 | 0 | 1 | 0 | 0 | 0 | 0 | 0 | 0 | 1 | 0 | 0 | 0 | 0 | 0 | 0 | 0 | 0 | 0 | 0 | 2b58d945f | 2 | 2 | 0 | 4 | yes | 11 | no | 11 | 0 | 0 | 0 | 0 | 1 | 0 | 0 | 0 | 0 | 3 | 1.333333 | 0 | 0 | 1 | 0 | 0 | 0 | 0 | 1 | 3 | 1 | 0 | 0 | 0 | 0 | 0 | 1 | 0 | 37 | 121 | 1369 | 16 | 121 | 4 | 1.777778 |  1 | 121 | 1369 | 4 |\n| 6 | ID_ec05b1a7b | 180000 | 0 | 5 | 0 | 1 | 1 | 1 | 1 | 0 | 2 | 2 | 1 | 1 | 2 | 1 | 3 | 4 | 4 | 4 | 11 | 4 | 1 | 0 | 0 | 0 | 0 | 0 | 0 | 0 | 1 | 0 | 0 | 0 | 0 | 0 | 1 | 0 | 0 | 0 | 1 | 1 | 0 | 0 | 1 | 0 | 0 | 0 | 0 | 1 | 0 | 0 | 0 | 0 | 1 | 0 | 0 | 1 | 0 | 0 | 0 | 0 | 0 | 0 | 0 | 1 | 0 | 0 | 1 | 0 | 0 | 1 | 0 | 1 | 0 | 0 | 1 | 0 | 0 | 0 | 0 | 0 | 1 | 0 | 0 | 0 | 0 | 0 | 0 | 0 | 0 | 0 | 0 | 0 | 2b58d945f | 2 | 2 | 0 | 4 | yes | 11 | no | 11 | 0 | 0 | 0 | 0 | 1 | 0 | 0 | 0 | 0 | 3 | 1.333333 | 0 | 0 | 1 | 0 | 0 | 0 | 0 | 1 | 3 | 1 | 0 | 0 | 0 | 0 | 0 | 1 | 0 | 38 | 121 | 1444 | 16 | 121 | 4 | 1.777778 |  1 | 121 | 1444 | 4 |\n\n",
            "text/html": [
              "<table class=\"dataframe\">\n",
              "<caption>A data.frame: 6 × 142</caption>\n",
              "<thead>\n",
              "\t<tr><th></th><th scope=col>Id</th><th scope=col>v2a1</th><th scope=col>hacdor</th><th scope=col>rooms</th><th scope=col>hacapo</th><th scope=col>v14a</th><th scope=col>refrig</th><th scope=col>v18q</th><th scope=col>v18q1</th><th scope=col>r4h1</th><th scope=col>r4h2</th><th scope=col>r4h3</th><th scope=col>r4m1</th><th scope=col>r4m2</th><th scope=col>r4m3</th><th scope=col>r4t1</th><th scope=col>r4t2</th><th scope=col>r4t3</th><th scope=col>tamhog</th><th scope=col>tamviv</th><th scope=col>escolari</th><th scope=col>hhsize</th><th scope=col>paredblolad</th><th scope=col>paredzocalo</th><th scope=col>paredpreb</th><th scope=col>pareddes</th><th scope=col>paredmad</th><th scope=col>paredzinc</th><th scope=col>paredfibras</th><th scope=col>paredother</th><th scope=col>pisomoscer</th><th scope=col>pisocemento</th><th scope=col>pisoother</th><th scope=col>pisonatur</th><th scope=col>pisonotiene</th><th scope=col>pisomadera</th><th scope=col>techozinc</th><th scope=col>techoentrepiso</th><th scope=col>techocane</th><th scope=col>techootro</th><th scope=col>cielorazo</th><th scope=col>abastaguadentro</th><th scope=col>abastaguafuera</th><th scope=col>abastaguano</th><th scope=col>public</th><th scope=col>planpri</th><th scope=col>noelec</th><th scope=col>coopele</th><th scope=col>sanitario1</th><th scope=col>sanitario2</th><th scope=col>sanitario3</th><th scope=col>sanitario5</th><th scope=col>sanitario6</th><th scope=col>energcocinar1</th><th scope=col>energcocinar2</th><th scope=col>energcocinar3</th><th scope=col>energcocinar4</th><th scope=col>elimbasu1</th><th scope=col>elimbasu2</th><th scope=col>elimbasu3</th><th scope=col>elimbasu4</th><th scope=col>elimbasu5</th><th scope=col>elimbasu6</th><th scope=col>epared1</th><th scope=col>epared2</th><th scope=col>epared3</th><th scope=col>etecho1</th><th scope=col>etecho2</th><th scope=col>etecho3</th><th scope=col>eviv1</th><th scope=col>eviv2</th><th scope=col>eviv3</th><th scope=col>dis</th><th scope=col>male</th><th scope=col>female</th><th scope=col>estadocivil1</th><th scope=col>estadocivil2</th><th scope=col>estadocivil3</th><th scope=col>estadocivil4</th><th scope=col>estadocivil5</th><th scope=col>estadocivil6</th><th scope=col>estadocivil7</th><th scope=col>parentesco1</th><th scope=col>parentesco2</th><th scope=col>parentesco3</th><th scope=col>parentesco4</th><th scope=col>parentesco5</th><th scope=col>parentesco6</th><th scope=col>parentesco7</th><th scope=col>parentesco8</th><th scope=col>parentesco9</th><th scope=col>parentesco10</th><th scope=col>parentesco11</th><th scope=col>parentesco12</th><th scope=col>idhogar</th><th scope=col>hogar_nin</th><th scope=col>hogar_adul</th><th scope=col>hogar_mayor</th><th scope=col>hogar_total</th><th scope=col>dependency</th><th scope=col>edjefe</th><th scope=col>edjefa</th><th scope=col>meaneduc</th><th scope=col>instlevel1</th><th scope=col>instlevel2</th><th scope=col>instlevel3</th><th scope=col>instlevel4</th><th scope=col>instlevel5</th><th scope=col>instlevel6</th><th scope=col>instlevel7</th><th scope=col>instlevel8</th><th scope=col>instlevel9</th><th scope=col>bedrooms</th><th scope=col>overcrowding</th><th scope=col>tipovivi1</th><th scope=col>tipovivi2</th><th scope=col>tipovivi3</th><th scope=col>tipovivi4</th><th scope=col>tipovivi5</th><th scope=col>computer</th><th scope=col>television</th><th scope=col>mobilephone</th><th scope=col>qmobilephone</th><th scope=col>lugar1</th><th scope=col>lugar2</th><th scope=col>lugar3</th><th scope=col>lugar4</th><th scope=col>lugar5</th><th scope=col>lugar6</th><th scope=col>area1</th><th scope=col>area2</th><th scope=col>age</th><th scope=col>SQBescolari</th><th scope=col>SQBage</th><th scope=col>SQBhogar_total</th><th scope=col>SQBedjefe</th><th scope=col>SQBhogar_nin</th><th scope=col>SQBovercrowding</th><th scope=col>SQBdependency</th><th scope=col>SQBmeaned</th><th scope=col>agesq</th><th scope=col>Target</th></tr>\n",
              "\t<tr><th></th><th scope=col>&lt;chr&gt;</th><th scope=col>&lt;dbl&gt;</th><th scope=col>&lt;int&gt;</th><th scope=col>&lt;int&gt;</th><th scope=col>&lt;int&gt;</th><th scope=col>&lt;int&gt;</th><th scope=col>&lt;int&gt;</th><th scope=col>&lt;int&gt;</th><th scope=col>&lt;int&gt;</th><th scope=col>&lt;int&gt;</th><th scope=col>&lt;int&gt;</th><th scope=col>&lt;int&gt;</th><th scope=col>&lt;int&gt;</th><th scope=col>&lt;int&gt;</th><th scope=col>&lt;int&gt;</th><th scope=col>&lt;int&gt;</th><th scope=col>&lt;int&gt;</th><th scope=col>&lt;int&gt;</th><th scope=col>&lt;int&gt;</th><th scope=col>&lt;int&gt;</th><th scope=col>&lt;int&gt;</th><th scope=col>&lt;int&gt;</th><th scope=col>&lt;int&gt;</th><th scope=col>&lt;int&gt;</th><th scope=col>&lt;int&gt;</th><th scope=col>&lt;int&gt;</th><th scope=col>&lt;int&gt;</th><th scope=col>&lt;int&gt;</th><th scope=col>&lt;int&gt;</th><th scope=col>&lt;int&gt;</th><th scope=col>&lt;int&gt;</th><th scope=col>&lt;int&gt;</th><th scope=col>&lt;int&gt;</th><th scope=col>&lt;int&gt;</th><th scope=col>&lt;int&gt;</th><th scope=col>&lt;int&gt;</th><th scope=col>&lt;int&gt;</th><th scope=col>&lt;int&gt;</th><th scope=col>&lt;int&gt;</th><th scope=col>&lt;int&gt;</th><th scope=col>&lt;int&gt;</th><th scope=col>&lt;int&gt;</th><th scope=col>&lt;int&gt;</th><th scope=col>&lt;int&gt;</th><th scope=col>&lt;int&gt;</th><th scope=col>&lt;int&gt;</th><th scope=col>&lt;int&gt;</th><th scope=col>&lt;int&gt;</th><th scope=col>&lt;int&gt;</th><th scope=col>&lt;int&gt;</th><th scope=col>&lt;int&gt;</th><th scope=col>&lt;int&gt;</th><th scope=col>&lt;int&gt;</th><th scope=col>&lt;int&gt;</th><th scope=col>&lt;int&gt;</th><th scope=col>&lt;int&gt;</th><th scope=col>&lt;int&gt;</th><th scope=col>&lt;int&gt;</th><th scope=col>&lt;int&gt;</th><th scope=col>&lt;int&gt;</th><th scope=col>&lt;int&gt;</th><th scope=col>&lt;int&gt;</th><th scope=col>&lt;int&gt;</th><th scope=col>&lt;int&gt;</th><th scope=col>&lt;int&gt;</th><th scope=col>&lt;int&gt;</th><th scope=col>&lt;int&gt;</th><th scope=col>&lt;int&gt;</th><th scope=col>&lt;int&gt;</th><th scope=col>&lt;int&gt;</th><th scope=col>&lt;int&gt;</th><th scope=col>&lt;int&gt;</th><th scope=col>&lt;int&gt;</th><th scope=col>&lt;int&gt;</th><th scope=col>&lt;int&gt;</th><th scope=col>&lt;int&gt;</th><th scope=col>&lt;int&gt;</th><th scope=col>&lt;int&gt;</th><th scope=col>&lt;int&gt;</th><th scope=col>&lt;int&gt;</th><th scope=col>&lt;int&gt;</th><th scope=col>&lt;int&gt;</th><th scope=col>&lt;int&gt;</th><th scope=col>&lt;int&gt;</th><th scope=col>&lt;int&gt;</th><th scope=col>&lt;int&gt;</th><th scope=col>&lt;int&gt;</th><th scope=col>&lt;int&gt;</th><th scope=col>&lt;int&gt;</th><th scope=col>&lt;int&gt;</th><th scope=col>&lt;int&gt;</th><th scope=col>&lt;int&gt;</th><th scope=col>&lt;int&gt;</th><th scope=col>&lt;int&gt;</th><th scope=col>&lt;chr&gt;</th><th scope=col>&lt;int&gt;</th><th scope=col>&lt;int&gt;</th><th scope=col>&lt;int&gt;</th><th scope=col>&lt;int&gt;</th><th scope=col>&lt;chr&gt;</th><th scope=col>&lt;chr&gt;</th><th scope=col>&lt;chr&gt;</th><th scope=col>&lt;dbl&gt;</th><th scope=col>&lt;int&gt;</th><th scope=col>&lt;int&gt;</th><th scope=col>&lt;int&gt;</th><th scope=col>&lt;int&gt;</th><th scope=col>&lt;int&gt;</th><th scope=col>&lt;int&gt;</th><th scope=col>&lt;int&gt;</th><th scope=col>&lt;int&gt;</th><th scope=col>&lt;int&gt;</th><th scope=col>&lt;int&gt;</th><th scope=col>&lt;dbl&gt;</th><th scope=col>&lt;int&gt;</th><th scope=col>&lt;int&gt;</th><th scope=col>&lt;int&gt;</th><th scope=col>&lt;int&gt;</th><th scope=col>&lt;int&gt;</th><th scope=col>&lt;int&gt;</th><th scope=col>&lt;int&gt;</th><th scope=col>&lt;int&gt;</th><th scope=col>&lt;int&gt;</th><th scope=col>&lt;int&gt;</th><th scope=col>&lt;int&gt;</th><th scope=col>&lt;int&gt;</th><th scope=col>&lt;int&gt;</th><th scope=col>&lt;int&gt;</th><th scope=col>&lt;int&gt;</th><th scope=col>&lt;int&gt;</th><th scope=col>&lt;int&gt;</th><th scope=col>&lt;int&gt;</th><th scope=col>&lt;int&gt;</th><th scope=col>&lt;int&gt;</th><th scope=col>&lt;int&gt;</th><th scope=col>&lt;int&gt;</th><th scope=col>&lt;int&gt;</th><th scope=col>&lt;dbl&gt;</th><th scope=col>&lt;dbl&gt;</th><th scope=col>&lt;dbl&gt;</th><th scope=col>&lt;int&gt;</th><th scope=col>&lt;int&gt;</th></tr>\n",
              "</thead>\n",
              "<tbody>\n",
              "\t<tr><th scope=row>1</th><td>ID_279628684</td><td>190000</td><td>0</td><td>3</td><td>0</td><td>1</td><td>1</td><td>0</td><td>1</td><td>0</td><td>1</td><td>1</td><td>0</td><td>0</td><td>0</td><td>0</td><td>1</td><td>1</td><td>1</td><td>1</td><td>10</td><td>1</td><td>1</td><td>0</td><td>0</td><td>0</td><td>0</td><td>0</td><td>0</td><td>0</td><td>1</td><td>0</td><td>0</td><td>0</td><td>0</td><td>0</td><td>0</td><td>1</td><td>0</td><td>0</td><td>1</td><td>1</td><td>0</td><td>0</td><td>1</td><td>0</td><td>0</td><td>0</td><td>0</td><td>1</td><td>0</td><td>0</td><td>0</td><td>0</td><td>0</td><td>1</td><td>0</td><td>1</td><td>0</td><td>0</td><td>0</td><td>0</td><td>0</td><td>0</td><td>1</td><td>0</td><td>1</td><td>0</td><td>0</td><td>1</td><td>0</td><td>0</td><td>0</td><td>1</td><td>0</td><td>0</td><td>0</td><td>0</td><td>1</td><td>0</td><td>0</td><td>0</td><td>1</td><td>0</td><td>0</td><td>0</td><td>0</td><td>0</td><td>0</td><td>0</td><td>0</td><td>0</td><td>0</td><td>0</td><td>21eb7fcc1</td><td>0</td><td>1</td><td>0</td><td>1</td><td>no </td><td>10</td><td>no</td><td>10</td><td>0</td><td>0</td><td>0</td><td>1</td><td>0</td><td>0</td><td>0</td><td>0</td><td>0</td><td>1</td><td>1.000000</td><td>0</td><td>0</td><td>1</td><td>0</td><td>0</td><td>0</td><td>0</td><td>1</td><td>1</td><td>1</td><td>0</td><td>0</td><td>0</td><td>0</td><td>0</td><td>1</td><td>0</td><td>43</td><td>100</td><td>1849</td><td> 1</td><td>100</td><td>0</td><td>1.000000</td><td> 0</td><td>100</td><td>1849</td><td>4</td></tr>\n",
              "\t<tr><th scope=row>2</th><td>ID_f29eb3ddd</td><td>135000</td><td>0</td><td>4</td><td>0</td><td>1</td><td>1</td><td>1</td><td>1</td><td>0</td><td>1</td><td>1</td><td>0</td><td>0</td><td>0</td><td>0</td><td>1</td><td>1</td><td>1</td><td>1</td><td>12</td><td>1</td><td>0</td><td>0</td><td>0</td><td>0</td><td>1</td><td>0</td><td>0</td><td>0</td><td>0</td><td>0</td><td>0</td><td>0</td><td>0</td><td>1</td><td>1</td><td>0</td><td>0</td><td>0</td><td>1</td><td>1</td><td>0</td><td>0</td><td>1</td><td>0</td><td>0</td><td>0</td><td>0</td><td>1</td><td>0</td><td>0</td><td>0</td><td>0</td><td>1</td><td>0</td><td>0</td><td>1</td><td>0</td><td>0</td><td>0</td><td>0</td><td>0</td><td>0</td><td>1</td><td>0</td><td>0</td><td>1</td><td>0</td><td>0</td><td>1</td><td>0</td><td>0</td><td>1</td><td>0</td><td>0</td><td>0</td><td>0</td><td>1</td><td>0</td><td>0</td><td>0</td><td>1</td><td>0</td><td>0</td><td>0</td><td>0</td><td>0</td><td>0</td><td>0</td><td>0</td><td>0</td><td>0</td><td>0</td><td>0e5d7a658</td><td>0</td><td>1</td><td>1</td><td>1</td><td>8  </td><td>12</td><td>no</td><td>12</td><td>0</td><td>0</td><td>0</td><td>0</td><td>0</td><td>0</td><td>0</td><td>1</td><td>0</td><td>1</td><td>1.000000</td><td>0</td><td>0</td><td>1</td><td>0</td><td>0</td><td>0</td><td>0</td><td>1</td><td>1</td><td>1</td><td>0</td><td>0</td><td>0</td><td>0</td><td>0</td><td>1</td><td>0</td><td>67</td><td>144</td><td>4489</td><td> 1</td><td>144</td><td>0</td><td>1.000000</td><td>64</td><td>144</td><td>4489</td><td>4</td></tr>\n",
              "\t<tr><th scope=row>3</th><td>ID_68de51c94</td><td>130000</td><td>0</td><td>8</td><td>0</td><td>1</td><td>1</td><td>0</td><td>1</td><td>0</td><td>0</td><td>0</td><td>0</td><td>1</td><td>1</td><td>0</td><td>1</td><td>1</td><td>1</td><td>1</td><td>11</td><td>1</td><td>0</td><td>0</td><td>0</td><td>0</td><td>1</td><td>0</td><td>0</td><td>0</td><td>1</td><td>0</td><td>0</td><td>0</td><td>0</td><td>0</td><td>1</td><td>0</td><td>0</td><td>0</td><td>1</td><td>1</td><td>0</td><td>0</td><td>1</td><td>0</td><td>0</td><td>0</td><td>0</td><td>1</td><td>0</td><td>0</td><td>0</td><td>0</td><td>1</td><td>0</td><td>0</td><td>1</td><td>0</td><td>0</td><td>0</td><td>0</td><td>0</td><td>0</td><td>1</td><td>0</td><td>0</td><td>0</td><td>1</td><td>0</td><td>0</td><td>1</td><td>1</td><td>0</td><td>1</td><td>0</td><td>0</td><td>0</td><td>0</td><td>0</td><td>1</td><td>0</td><td>1</td><td>0</td><td>0</td><td>0</td><td>0</td><td>0</td><td>0</td><td>0</td><td>0</td><td>0</td><td>0</td><td>0</td><td>2c7317ea8</td><td>0</td><td>1</td><td>1</td><td>1</td><td>8  </td><td>no</td><td>11</td><td>11</td><td>0</td><td>0</td><td>0</td><td>0</td><td>1</td><td>0</td><td>0</td><td>0</td><td>0</td><td>2</td><td>0.500000</td><td>1</td><td>0</td><td>0</td><td>0</td><td>0</td><td>0</td><td>0</td><td>0</td><td>0</td><td>1</td><td>0</td><td>0</td><td>0</td><td>0</td><td>0</td><td>1</td><td>0</td><td>92</td><td>121</td><td>8464</td><td> 1</td><td>  0</td><td>0</td><td>0.250000</td><td>64</td><td>121</td><td>8464</td><td>4</td></tr>\n",
              "\t<tr><th scope=row>4</th><td>ID_d671db89c</td><td>180000</td><td>0</td><td>5</td><td>0</td><td>1</td><td>1</td><td>1</td><td>1</td><td>0</td><td>2</td><td>2</td><td>1</td><td>1</td><td>2</td><td>1</td><td>3</td><td>4</td><td>4</td><td>4</td><td> 9</td><td>4</td><td>1</td><td>0</td><td>0</td><td>0</td><td>0</td><td>0</td><td>0</td><td>0</td><td>1</td><td>0</td><td>0</td><td>0</td><td>0</td><td>0</td><td>1</td><td>0</td><td>0</td><td>0</td><td>1</td><td>1</td><td>0</td><td>0</td><td>1</td><td>0</td><td>0</td><td>0</td><td>0</td><td>1</td><td>0</td><td>0</td><td>0</td><td>0</td><td>1</td><td>0</td><td>0</td><td>1</td><td>0</td><td>0</td><td>0</td><td>0</td><td>0</td><td>0</td><td>0</td><td>1</td><td>0</td><td>0</td><td>1</td><td>0</td><td>0</td><td>1</td><td>0</td><td>1</td><td>0</td><td>0</td><td>0</td><td>0</td><td>0</td><td>0</td><td>0</td><td>1</td><td>0</td><td>0</td><td>1</td><td>0</td><td>0</td><td>0</td><td>0</td><td>0</td><td>0</td><td>0</td><td>0</td><td>0</td><td>2b58d945f</td><td>2</td><td>2</td><td>0</td><td>4</td><td>yes</td><td>11</td><td>no</td><td>11</td><td>0</td><td>0</td><td>0</td><td>1</td><td>0</td><td>0</td><td>0</td><td>0</td><td>0</td><td>3</td><td>1.333333</td><td>0</td><td>0</td><td>1</td><td>0</td><td>0</td><td>0</td><td>0</td><td>1</td><td>3</td><td>1</td><td>0</td><td>0</td><td>0</td><td>0</td><td>0</td><td>1</td><td>0</td><td>17</td><td> 81</td><td> 289</td><td>16</td><td>121</td><td>4</td><td>1.777778</td><td> 1</td><td>121</td><td> 289</td><td>4</td></tr>\n",
              "\t<tr><th scope=row>5</th><td>ID_d56d6f5f5</td><td>180000</td><td>0</td><td>5</td><td>0</td><td>1</td><td>1</td><td>1</td><td>1</td><td>0</td><td>2</td><td>2</td><td>1</td><td>1</td><td>2</td><td>1</td><td>3</td><td>4</td><td>4</td><td>4</td><td>11</td><td>4</td><td>1</td><td>0</td><td>0</td><td>0</td><td>0</td><td>0</td><td>0</td><td>0</td><td>1</td><td>0</td><td>0</td><td>0</td><td>0</td><td>0</td><td>1</td><td>0</td><td>0</td><td>0</td><td>1</td><td>1</td><td>0</td><td>0</td><td>1</td><td>0</td><td>0</td><td>0</td><td>0</td><td>1</td><td>0</td><td>0</td><td>0</td><td>0</td><td>1</td><td>0</td><td>0</td><td>1</td><td>0</td><td>0</td><td>0</td><td>0</td><td>0</td><td>0</td><td>0</td><td>1</td><td>0</td><td>0</td><td>1</td><td>0</td><td>0</td><td>1</td><td>0</td><td>0</td><td>1</td><td>0</td><td>1</td><td>0</td><td>0</td><td>0</td><td>0</td><td>0</td><td>0</td><td>1</td><td>0</td><td>0</td><td>0</td><td>0</td><td>0</td><td>0</td><td>0</td><td>0</td><td>0</td><td>0</td><td>2b58d945f</td><td>2</td><td>2</td><td>0</td><td>4</td><td>yes</td><td>11</td><td>no</td><td>11</td><td>0</td><td>0</td><td>0</td><td>0</td><td>1</td><td>0</td><td>0</td><td>0</td><td>0</td><td>3</td><td>1.333333</td><td>0</td><td>0</td><td>1</td><td>0</td><td>0</td><td>0</td><td>0</td><td>1</td><td>3</td><td>1</td><td>0</td><td>0</td><td>0</td><td>0</td><td>0</td><td>1</td><td>0</td><td>37</td><td>121</td><td>1369</td><td>16</td><td>121</td><td>4</td><td>1.777778</td><td> 1</td><td>121</td><td>1369</td><td>4</td></tr>\n",
              "\t<tr><th scope=row>6</th><td>ID_ec05b1a7b</td><td>180000</td><td>0</td><td>5</td><td>0</td><td>1</td><td>1</td><td>1</td><td>1</td><td>0</td><td>2</td><td>2</td><td>1</td><td>1</td><td>2</td><td>1</td><td>3</td><td>4</td><td>4</td><td>4</td><td>11</td><td>4</td><td>1</td><td>0</td><td>0</td><td>0</td><td>0</td><td>0</td><td>0</td><td>0</td><td>1</td><td>0</td><td>0</td><td>0</td><td>0</td><td>0</td><td>1</td><td>0</td><td>0</td><td>0</td><td>1</td><td>1</td><td>0</td><td>0</td><td>1</td><td>0</td><td>0</td><td>0</td><td>0</td><td>1</td><td>0</td><td>0</td><td>0</td><td>0</td><td>1</td><td>0</td><td>0</td><td>1</td><td>0</td><td>0</td><td>0</td><td>0</td><td>0</td><td>0</td><td>0</td><td>1</td><td>0</td><td>0</td><td>1</td><td>0</td><td>0</td><td>1</td><td>0</td><td>1</td><td>0</td><td>0</td><td>1</td><td>0</td><td>0</td><td>0</td><td>0</td><td>0</td><td>1</td><td>0</td><td>0</td><td>0</td><td>0</td><td>0</td><td>0</td><td>0</td><td>0</td><td>0</td><td>0</td><td>0</td><td>2b58d945f</td><td>2</td><td>2</td><td>0</td><td>4</td><td>yes</td><td>11</td><td>no</td><td>11</td><td>0</td><td>0</td><td>0</td><td>0</td><td>1</td><td>0</td><td>0</td><td>0</td><td>0</td><td>3</td><td>1.333333</td><td>0</td><td>0</td><td>1</td><td>0</td><td>0</td><td>0</td><td>0</td><td>1</td><td>3</td><td>1</td><td>0</td><td>0</td><td>0</td><td>0</td><td>0</td><td>1</td><td>0</td><td>38</td><td>121</td><td>1444</td><td>16</td><td>121</td><td>4</td><td>1.777778</td><td> 1</td><td>121</td><td>1444</td><td>4</td></tr>\n",
              "</tbody>\n",
              "</table>\n"
            ]
          },
          "metadata": {}
        }
      ]
    },
    {
      "cell_type": "markdown",
      "metadata": {
        "id": "_mrfVYUu-M-v"
      },
      "source": [
        "## **Dealing with Categorical Data**"
      ]
    },
    {
      "cell_type": "code",
      "metadata": {
        "colab": {
          "base_uri": "https://localhost:8080/",
          "height": 425
        },
        "id": "D24O8ZS0-i4g",
        "outputId": "d591708c-9c0b-44dc-aa76-2dd52f3c2b7b"
      },
      "source": [
        "head(train, 10)"
      ],
      "execution_count": 15,
      "outputs": [
        {
          "output_type": "display_data",
          "data": {
            "text/plain": [
              "   Id           v2a1   hacdor rooms hacapo v14a refrig v18q v18q1 r4h1 r4h2\n",
              "1  ID_279628684 190000 0      3     0      1    1      0    1     0    1   \n",
              "2  ID_f29eb3ddd 135000 0      4     0      1    1      1    1     0    1   \n",
              "3  ID_68de51c94 130000 0      8     0      1    1      0    1     0    0   \n",
              "4  ID_d671db89c 180000 0      5     0      1    1      1    1     0    2   \n",
              "5  ID_d56d6f5f5 180000 0      5     0      1    1      1    1     0    2   \n",
              "6  ID_ec05b1a7b 180000 0      5     0      1    1      1    1     0    2   \n",
              "7  ID_e9e0c1100 180000 0      5     0      1    1      1    1     0    2   \n",
              "8  ID_3e04e571e 130000 1      2     0      1    1      0    1     0    1   \n",
              "9  ID_1284f8aad 130000 1      2     0      1    1      0    1     0    1   \n",
              "10 ID_51f52fdd2 130000 1      2     0      1    1      0    1     0    1   \n",
              "   r4h3 r4m1 r4m2 r4m3 r4t1 r4t2 r4t3 tamhog tamviv escolari hhsize paredblolad\n",
              "1  1    0    0    0    0    1    1    1      1      10       1      1          \n",
              "2  1    0    0    0    0    1    1    1      1      12       1      0          \n",
              "3  0    0    1    1    0    1    1    1      1      11       1      0          \n",
              "4  2    1    1    2    1    3    4    4      4       9       4      1          \n",
              "5  2    1    1    2    1    3    4    4      4      11       4      1          \n",
              "6  2    1    1    2    1    3    4    4      4      11       4      1          \n",
              "7  2    1    1    2    1    3    4    4      4       2       4      1          \n",
              "8  1    2    1    3    2    2    4    4      4       0       4      1          \n",
              "9  1    2    1    3    2    2    4    4      4       9       4      1          \n",
              "10 1    2    1    3    2    2    4    4      4      11       4      1          \n",
              "   paredzocalo paredpreb pareddes paredmad paredzinc paredfibras paredother\n",
              "1  0           0         0        0        0         0           0         \n",
              "2  0           0         0        1        0         0           0         \n",
              "3  0           0         0        1        0         0           0         \n",
              "4  0           0         0        0        0         0           0         \n",
              "5  0           0         0        0        0         0           0         \n",
              "6  0           0         0        0        0         0           0         \n",
              "7  0           0         0        0        0         0           0         \n",
              "8  0           0         0        0        0         0           0         \n",
              "9  0           0         0        0        0         0           0         \n",
              "10 0           0         0        0        0         0           0         \n",
              "   pisomoscer pisocemento pisoother pisonatur pisonotiene pisomadera techozinc\n",
              "1  1          0           0         0         0           0          0        \n",
              "2  0          0           0         0         0           1          1        \n",
              "3  1          0           0         0         0           0          1        \n",
              "4  1          0           0         0         0           0          1        \n",
              "5  1          0           0         0         0           0          1        \n",
              "6  1          0           0         0         0           0          1        \n",
              "7  1          0           0         0         0           0          1        \n",
              "8  1          0           0         0         0           0          1        \n",
              "9  1          0           0         0         0           0          1        \n",
              "10 1          0           0         0         0           0          1        \n",
              "   techoentrepiso techocane techootro cielorazo abastaguadentro abastaguafuera\n",
              "1  1              0         0         1         1               0             \n",
              "2  0              0         0         1         1               0             \n",
              "3  0              0         0         1         1               0             \n",
              "4  0              0         0         1         1               0             \n",
              "5  0              0         0         1         1               0             \n",
              "6  0              0         0         1         1               0             \n",
              "7  0              0         0         1         1               0             \n",
              "8  0              0         0         1         1               0             \n",
              "9  0              0         0         1         1               0             \n",
              "10 0              0         0         1         1               0             \n",
              "   abastaguano public planpri noelec coopele sanitario1 sanitario2 sanitario3\n",
              "1  0           1      0       0      0       0          1          0         \n",
              "2  0           1      0       0      0       0          1          0         \n",
              "3  0           1      0       0      0       0          1          0         \n",
              "4  0           1      0       0      0       0          1          0         \n",
              "5  0           1      0       0      0       0          1          0         \n",
              "6  0           1      0       0      0       0          1          0         \n",
              "7  0           1      0       0      0       0          1          0         \n",
              "8  0           1      0       0      0       0          1          0         \n",
              "9  0           1      0       0      0       0          1          0         \n",
              "10 0           1      0       0      0       0          1          0         \n",
              "   sanitario5 sanitario6 energcocinar1 energcocinar2 energcocinar3\n",
              "1  0          0          0             0             1            \n",
              "2  0          0          0             1             0            \n",
              "3  0          0          0             1             0            \n",
              "4  0          0          0             1             0            \n",
              "5  0          0          0             1             0            \n",
              "6  0          0          0             1             0            \n",
              "7  0          0          0             1             0            \n",
              "8  0          0          0             0             1            \n",
              "9  0          0          0             0             1            \n",
              "10 0          0          0             0             1            \n",
              "   energcocinar4 elimbasu1 elimbasu2 elimbasu3 elimbasu4 elimbasu5 elimbasu6\n",
              "1  0             1         0         0         0         0         0        \n",
              "2  0             1         0         0         0         0         0        \n",
              "3  0             1         0         0         0         0         0        \n",
              "4  0             1         0         0         0         0         0        \n",
              "5  0             1         0         0         0         0         0        \n",
              "6  0             1         0         0         0         0         0        \n",
              "7  0             1         0         0         0         0         0        \n",
              "8  0             1         0         0         0         0         0        \n",
              "9  0             1         0         0         0         0         0        \n",
              "10 0             1         0         0         0         0         0        \n",
              "   epared1 epared2 epared3 etecho1 etecho2 etecho3 eviv1 eviv2 eviv3 dis male\n",
              "1  0       1       0       1       0       0       1     0     0     0   1   \n",
              "2  0       1       0       0       1       0       0     1     0     0   1   \n",
              "3  0       1       0       0       0       1       0     0     1     1   0   \n",
              "4  0       0       1       0       0       1       0     0     1     0   1   \n",
              "5  0       0       1       0       0       1       0     0     1     0   0   \n",
              "6  0       0       1       0       0       1       0     0     1     0   1   \n",
              "7  0       0       1       0       0       1       0     0     1     0   0   \n",
              "8  1       0       0       1       0       0       0     1     0     0   0   \n",
              "9  1       0       0       1       0       0       0     1     0     0   1   \n",
              "10 1       0       0       1       0       0       0     1     0     0   0   \n",
              "   female estadocivil1 estadocivil2 estadocivil3 estadocivil4 estadocivil5\n",
              "1  0      0            0            0            1            0           \n",
              "2  0      0            0            0            1            0           \n",
              "3  1      0            0            0            0            0           \n",
              "4  0      0            0            0            0            0           \n",
              "5  1      0            1            0            0            0           \n",
              "6  0      0            1            0            0            0           \n",
              "7  1      1            0            0            0            0           \n",
              "8  1      1            0            0            0            0           \n",
              "9  0      0            1            0            0            0           \n",
              "10 1      0            1            0            0            0           \n",
              "   estadocivil6 estadocivil7 parentesco1 parentesco2 parentesco3 parentesco4\n",
              "1  0            0            1           0           0           0          \n",
              "2  0            0            1           0           0           0          \n",
              "3  1            0            1           0           0           0          \n",
              "4  0            1            0           0           1           0          \n",
              "5  0            0            0           1           0           0          \n",
              "6  0            0            1           0           0           0          \n",
              "7  0            0            0           0           1           0          \n",
              "8  0            0            0           0           1           0          \n",
              "9  0            0            1           0           0           0          \n",
              "10 0            0            0           1           0           0          \n",
              "   parentesco5 parentesco6 parentesco7 parentesco8 parentesco9 parentesco10\n",
              "1  0           0           0           0           0           0           \n",
              "2  0           0           0           0           0           0           \n",
              "3  0           0           0           0           0           0           \n",
              "4  0           0           0           0           0           0           \n",
              "5  0           0           0           0           0           0           \n",
              "6  0           0           0           0           0           0           \n",
              "7  0           0           0           0           0           0           \n",
              "8  0           0           0           0           0           0           \n",
              "9  0           0           0           0           0           0           \n",
              "10 0           0           0           0           0           0           \n",
              "   parentesco11 parentesco12 idhogar   hogar_nin hogar_adul hogar_mayor\n",
              "1  0            0            21eb7fcc1 0         1          0          \n",
              "2  0            0            0e5d7a658 0         1          1          \n",
              "3  0            0            2c7317ea8 0         1          1          \n",
              "4  0            0            2b58d945f 2         2          0          \n",
              "5  0            0            2b58d945f 2         2          0          \n",
              "6  0            0            2b58d945f 2         2          0          \n",
              "7  0            0            2b58d945f 2         2          0          \n",
              "8  0            0            d6dae86b7 2         2          0          \n",
              "9  0            0            d6dae86b7 2         2          0          \n",
              "10 0            0            d6dae86b7 2         2          0          \n",
              "   hogar_total dependency edjefe edjefa meaneduc instlevel1 instlevel2\n",
              "1  1           no         10     no     10       0          0         \n",
              "2  1           8          12     no     12       0          0         \n",
              "3  1           8          no     11     11       0          0         \n",
              "4  4           yes        11     no     11       0          0         \n",
              "5  4           yes        11     no     11       0          0         \n",
              "6  4           yes        11     no     11       0          0         \n",
              "7  4           yes        11     no     11       0          1         \n",
              "8  4           yes        9      no     10       1          0         \n",
              "9  4           yes        9      no     10       0          0         \n",
              "10 4           yes        9      no     10       0          0         \n",
              "   instlevel3 instlevel4 instlevel5 instlevel6 instlevel7 instlevel8 instlevel9\n",
              "1  0          1          0          0          0          0          0         \n",
              "2  0          0          0          0          0          1          0         \n",
              "3  0          0          1          0          0          0          0         \n",
              "4  0          1          0          0          0          0          0         \n",
              "5  0          0          1          0          0          0          0         \n",
              "6  0          0          1          0          0          0          0         \n",
              "7  0          0          0          0          0          0          0         \n",
              "8  0          0          0          0          0          0          0         \n",
              "9  0          1          0          0          0          0          0         \n",
              "10 0          0          1          0          0          0          0         \n",
              "   bedrooms overcrowding tipovivi1 tipovivi2 tipovivi3 tipovivi4 tipovivi5\n",
              "1  1        1.000000     0         0         1         0         0        \n",
              "2  1        1.000000     0         0         1         0         0        \n",
              "3  2        0.500000     1         0         0         0         0        \n",
              "4  3        1.333333     0         0         1         0         0        \n",
              "5  3        1.333333     0         0         1         0         0        \n",
              "6  3        1.333333     0         0         1         0         0        \n",
              "7  3        1.333333     0         0         1         0         0        \n",
              "8  1        4.000000     0         0         1         0         0        \n",
              "9  1        4.000000     0         0         1         0         0        \n",
              "10 1        4.000000     0         0         1         0         0        \n",
              "   computer television mobilephone qmobilephone lugar1 lugar2 lugar3 lugar4\n",
              "1  0        0          1           1            1      0      0      0     \n",
              "2  0        0          1           1            1      0      0      0     \n",
              "3  0        0          0           0            1      0      0      0     \n",
              "4  0        0          1           3            1      0      0      0     \n",
              "5  0        0          1           3            1      0      0      0     \n",
              "6  0        0          1           3            1      0      0      0     \n",
              "7  0        0          1           3            1      0      0      0     \n",
              "8  0        0          1           1            1      0      0      0     \n",
              "9  0        0          1           1            1      0      0      0     \n",
              "10 0        0          1           1            1      0      0      0     \n",
              "   lugar5 lugar6 area1 area2 age SQBescolari SQBage SQBhogar_total SQBedjefe\n",
              "1  0      0      1     0     43  100         1849    1             100      \n",
              "2  0      0      1     0     67  144         4489    1             144      \n",
              "3  0      0      1     0     92  121         8464    1               0      \n",
              "4  0      0      1     0     17   81          289   16             121      \n",
              "5  0      0      1     0     37  121         1369   16             121      \n",
              "6  0      0      1     0     38  121         1444   16             121      \n",
              "7  0      0      1     0      8    4           64   16             121      \n",
              "8  0      0      1     0      7    0           49   16              81      \n",
              "9  0      0      1     0     30   81          900   16              81      \n",
              "10 0      0      1     0     28  121          784   16              81      \n",
              "   SQBhogar_nin SQBovercrowding SQBdependency SQBmeaned agesq Target\n",
              "1  0             1.000000        0            100       1849  4     \n",
              "2  0             1.000000       64            144       4489  4     \n",
              "3  0             0.250000       64            121       8464  4     \n",
              "4  4             1.777778        1            121        289  4     \n",
              "5  4             1.777778        1            121       1369  4     \n",
              "6  4             1.777778        1            121       1444  4     \n",
              "7  4             1.777778        1            121         64  4     \n",
              "8  4            16.000000        1            100         49  4     \n",
              "9  4            16.000000        1            100        900  4     \n",
              "10 4            16.000000        1            100        784  4     "
            ],
            "text/latex": "A data.frame: 10 × 142\n\\begin{tabular}{r|llllllllllllllllllllllllllllllllllllllllllllllllllllllllllllllllllllllllllllllllllllllllllllllllllllllllllllllllllllllllllllllllllllllllllllll}\n  & Id & v2a1 & hacdor & rooms & hacapo & v14a & refrig & v18q & v18q1 & r4h1 & r4h2 & r4h3 & r4m1 & r4m2 & r4m3 & r4t1 & r4t2 & r4t3 & tamhog & tamviv & escolari & hhsize & paredblolad & paredzocalo & paredpreb & pareddes & paredmad & paredzinc & paredfibras & paredother & pisomoscer & pisocemento & pisoother & pisonatur & pisonotiene & pisomadera & techozinc & techoentrepiso & techocane & techootro & cielorazo & abastaguadentro & abastaguafuera & abastaguano & public & planpri & noelec & coopele & sanitario1 & sanitario2 & sanitario3 & sanitario5 & sanitario6 & energcocinar1 & energcocinar2 & energcocinar3 & energcocinar4 & elimbasu1 & elimbasu2 & elimbasu3 & elimbasu4 & elimbasu5 & elimbasu6 & epared1 & epared2 & epared3 & etecho1 & etecho2 & etecho3 & eviv1 & eviv2 & eviv3 & dis & male & female & estadocivil1 & estadocivil2 & estadocivil3 & estadocivil4 & estadocivil5 & estadocivil6 & estadocivil7 & parentesco1 & parentesco2 & parentesco3 & parentesco4 & parentesco5 & parentesco6 & parentesco7 & parentesco8 & parentesco9 & parentesco10 & parentesco11 & parentesco12 & idhogar & hogar\\_nin & hogar\\_adul & hogar\\_mayor & hogar\\_total & dependency & edjefe & edjefa & meaneduc & instlevel1 & instlevel2 & instlevel3 & instlevel4 & instlevel5 & instlevel6 & instlevel7 & instlevel8 & instlevel9 & bedrooms & overcrowding & tipovivi1 & tipovivi2 & tipovivi3 & tipovivi4 & tipovivi5 & computer & television & mobilephone & qmobilephone & lugar1 & lugar2 & lugar3 & lugar4 & lugar5 & lugar6 & area1 & area2 & age & SQBescolari & SQBage & SQBhogar\\_total & SQBedjefe & SQBhogar\\_nin & SQBovercrowding & SQBdependency & SQBmeaned & agesq & Target\\\\\n  & <chr> & <dbl> & <int> & <int> & <int> & <int> & <int> & <int> & <int> & <int> & <int> & <int> & <int> & <int> & <int> & <int> & <int> & <int> & <int> & <int> & <int> & <int> & <int> & <int> & <int> & <int> & <int> & <int> & <int> & <int> & <int> & <int> & <int> & <int> & <int> & <int> & <int> & <int> & <int> & <int> & <int> & <int> & <int> & <int> & <int> & <int> & <int> & <int> & <int> & <int> & <int> & <int> & <int> & <int> & <int> & <int> & <int> & <int> & <int> & <int> & <int> & <int> & <int> & <int> & <int> & <int> & <int> & <int> & <int> & <int> & <int> & <int> & <int> & <int> & <int> & <int> & <int> & <int> & <int> & <int> & <int> & <int> & <int> & <int> & <int> & <int> & <int> & <int> & <int> & <int> & <int> & <int> & <int> & <int> & <chr> & <int> & <int> & <int> & <int> & <chr> & <chr> & <chr> & <dbl> & <int> & <int> & <int> & <int> & <int> & <int> & <int> & <int> & <int> & <int> & <dbl> & <int> & <int> & <int> & <int> & <int> & <int> & <int> & <int> & <int> & <int> & <int> & <int> & <int> & <int> & <int> & <int> & <int> & <int> & <int> & <int> & <int> & <int> & <int> & <dbl> & <dbl> & <dbl> & <int> & <int>\\\\\n\\hline\n\t1 & ID\\_279628684 & 190000 & 0 & 3 & 0 & 1 & 1 & 0 & 1 & 0 & 1 & 1 & 0 & 0 & 0 & 0 & 1 & 1 & 1 & 1 & 10 & 1 & 1 & 0 & 0 & 0 & 0 & 0 & 0 & 0 & 1 & 0 & 0 & 0 & 0 & 0 & 0 & 1 & 0 & 0 & 1 & 1 & 0 & 0 & 1 & 0 & 0 & 0 & 0 & 1 & 0 & 0 & 0 & 0 & 0 & 1 & 0 & 1 & 0 & 0 & 0 & 0 & 0 & 0 & 1 & 0 & 1 & 0 & 0 & 1 & 0 & 0 & 0 & 1 & 0 & 0 & 0 & 0 & 1 & 0 & 0 & 0 & 1 & 0 & 0 & 0 & 0 & 0 & 0 & 0 & 0 & 0 & 0 & 0 & 21eb7fcc1 & 0 & 1 & 0 & 1 & no  & 10 & no & 10 & 0 & 0 & 0 & 1 & 0 & 0 & 0 & 0 & 0 & 1 & 1.000000 & 0 & 0 & 1 & 0 & 0 & 0 & 0 & 1 & 1 & 1 & 0 & 0 & 0 & 0 & 0 & 1 & 0 & 43 & 100 & 1849 &  1 & 100 & 0 &  1.000000 &  0 & 100 & 1849 & 4\\\\\n\t2 & ID\\_f29eb3ddd & 135000 & 0 & 4 & 0 & 1 & 1 & 1 & 1 & 0 & 1 & 1 & 0 & 0 & 0 & 0 & 1 & 1 & 1 & 1 & 12 & 1 & 0 & 0 & 0 & 0 & 1 & 0 & 0 & 0 & 0 & 0 & 0 & 0 & 0 & 1 & 1 & 0 & 0 & 0 & 1 & 1 & 0 & 0 & 1 & 0 & 0 & 0 & 0 & 1 & 0 & 0 & 0 & 0 & 1 & 0 & 0 & 1 & 0 & 0 & 0 & 0 & 0 & 0 & 1 & 0 & 0 & 1 & 0 & 0 & 1 & 0 & 0 & 1 & 0 & 0 & 0 & 0 & 1 & 0 & 0 & 0 & 1 & 0 & 0 & 0 & 0 & 0 & 0 & 0 & 0 & 0 & 0 & 0 & 0e5d7a658 & 0 & 1 & 1 & 1 & 8   & 12 & no & 12 & 0 & 0 & 0 & 0 & 0 & 0 & 0 & 1 & 0 & 1 & 1.000000 & 0 & 0 & 1 & 0 & 0 & 0 & 0 & 1 & 1 & 1 & 0 & 0 & 0 & 0 & 0 & 1 & 0 & 67 & 144 & 4489 &  1 & 144 & 0 &  1.000000 & 64 & 144 & 4489 & 4\\\\\n\t3 & ID\\_68de51c94 & 130000 & 0 & 8 & 0 & 1 & 1 & 0 & 1 & 0 & 0 & 0 & 0 & 1 & 1 & 0 & 1 & 1 & 1 & 1 & 11 & 1 & 0 & 0 & 0 & 0 & 1 & 0 & 0 & 0 & 1 & 0 & 0 & 0 & 0 & 0 & 1 & 0 & 0 & 0 & 1 & 1 & 0 & 0 & 1 & 0 & 0 & 0 & 0 & 1 & 0 & 0 & 0 & 0 & 1 & 0 & 0 & 1 & 0 & 0 & 0 & 0 & 0 & 0 & 1 & 0 & 0 & 0 & 1 & 0 & 0 & 1 & 1 & 0 & 1 & 0 & 0 & 0 & 0 & 0 & 1 & 0 & 1 & 0 & 0 & 0 & 0 & 0 & 0 & 0 & 0 & 0 & 0 & 0 & 2c7317ea8 & 0 & 1 & 1 & 1 & 8   & no & 11 & 11 & 0 & 0 & 0 & 0 & 1 & 0 & 0 & 0 & 0 & 2 & 0.500000 & 1 & 0 & 0 & 0 & 0 & 0 & 0 & 0 & 0 & 1 & 0 & 0 & 0 & 0 & 0 & 1 & 0 & 92 & 121 & 8464 &  1 &   0 & 0 &  0.250000 & 64 & 121 & 8464 & 4\\\\\n\t4 & ID\\_d671db89c & 180000 & 0 & 5 & 0 & 1 & 1 & 1 & 1 & 0 & 2 & 2 & 1 & 1 & 2 & 1 & 3 & 4 & 4 & 4 &  9 & 4 & 1 & 0 & 0 & 0 & 0 & 0 & 0 & 0 & 1 & 0 & 0 & 0 & 0 & 0 & 1 & 0 & 0 & 0 & 1 & 1 & 0 & 0 & 1 & 0 & 0 & 0 & 0 & 1 & 0 & 0 & 0 & 0 & 1 & 0 & 0 & 1 & 0 & 0 & 0 & 0 & 0 & 0 & 0 & 1 & 0 & 0 & 1 & 0 & 0 & 1 & 0 & 1 & 0 & 0 & 0 & 0 & 0 & 0 & 0 & 1 & 0 & 0 & 1 & 0 & 0 & 0 & 0 & 0 & 0 & 0 & 0 & 0 & 2b58d945f & 2 & 2 & 0 & 4 & yes & 11 & no & 11 & 0 & 0 & 0 & 1 & 0 & 0 & 0 & 0 & 0 & 3 & 1.333333 & 0 & 0 & 1 & 0 & 0 & 0 & 0 & 1 & 3 & 1 & 0 & 0 & 0 & 0 & 0 & 1 & 0 & 17 &  81 &  289 & 16 & 121 & 4 &  1.777778 &  1 & 121 &  289 & 4\\\\\n\t5 & ID\\_d56d6f5f5 & 180000 & 0 & 5 & 0 & 1 & 1 & 1 & 1 & 0 & 2 & 2 & 1 & 1 & 2 & 1 & 3 & 4 & 4 & 4 & 11 & 4 & 1 & 0 & 0 & 0 & 0 & 0 & 0 & 0 & 1 & 0 & 0 & 0 & 0 & 0 & 1 & 0 & 0 & 0 & 1 & 1 & 0 & 0 & 1 & 0 & 0 & 0 & 0 & 1 & 0 & 0 & 0 & 0 & 1 & 0 & 0 & 1 & 0 & 0 & 0 & 0 & 0 & 0 & 0 & 1 & 0 & 0 & 1 & 0 & 0 & 1 & 0 & 0 & 1 & 0 & 1 & 0 & 0 & 0 & 0 & 0 & 0 & 1 & 0 & 0 & 0 & 0 & 0 & 0 & 0 & 0 & 0 & 0 & 2b58d945f & 2 & 2 & 0 & 4 & yes & 11 & no & 11 & 0 & 0 & 0 & 0 & 1 & 0 & 0 & 0 & 0 & 3 & 1.333333 & 0 & 0 & 1 & 0 & 0 & 0 & 0 & 1 & 3 & 1 & 0 & 0 & 0 & 0 & 0 & 1 & 0 & 37 & 121 & 1369 & 16 & 121 & 4 &  1.777778 &  1 & 121 & 1369 & 4\\\\\n\t6 & ID\\_ec05b1a7b & 180000 & 0 & 5 & 0 & 1 & 1 & 1 & 1 & 0 & 2 & 2 & 1 & 1 & 2 & 1 & 3 & 4 & 4 & 4 & 11 & 4 & 1 & 0 & 0 & 0 & 0 & 0 & 0 & 0 & 1 & 0 & 0 & 0 & 0 & 0 & 1 & 0 & 0 & 0 & 1 & 1 & 0 & 0 & 1 & 0 & 0 & 0 & 0 & 1 & 0 & 0 & 0 & 0 & 1 & 0 & 0 & 1 & 0 & 0 & 0 & 0 & 0 & 0 & 0 & 1 & 0 & 0 & 1 & 0 & 0 & 1 & 0 & 1 & 0 & 0 & 1 & 0 & 0 & 0 & 0 & 0 & 1 & 0 & 0 & 0 & 0 & 0 & 0 & 0 & 0 & 0 & 0 & 0 & 2b58d945f & 2 & 2 & 0 & 4 & yes & 11 & no & 11 & 0 & 0 & 0 & 0 & 1 & 0 & 0 & 0 & 0 & 3 & 1.333333 & 0 & 0 & 1 & 0 & 0 & 0 & 0 & 1 & 3 & 1 & 0 & 0 & 0 & 0 & 0 & 1 & 0 & 38 & 121 & 1444 & 16 & 121 & 4 &  1.777778 &  1 & 121 & 1444 & 4\\\\\n\t7 & ID\\_e9e0c1100 & 180000 & 0 & 5 & 0 & 1 & 1 & 1 & 1 & 0 & 2 & 2 & 1 & 1 & 2 & 1 & 3 & 4 & 4 & 4 &  2 & 4 & 1 & 0 & 0 & 0 & 0 & 0 & 0 & 0 & 1 & 0 & 0 & 0 & 0 & 0 & 1 & 0 & 0 & 0 & 1 & 1 & 0 & 0 & 1 & 0 & 0 & 0 & 0 & 1 & 0 & 0 & 0 & 0 & 1 & 0 & 0 & 1 & 0 & 0 & 0 & 0 & 0 & 0 & 0 & 1 & 0 & 0 & 1 & 0 & 0 & 1 & 0 & 0 & 1 & 1 & 0 & 0 & 0 & 0 & 0 & 0 & 0 & 0 & 1 & 0 & 0 & 0 & 0 & 0 & 0 & 0 & 0 & 0 & 2b58d945f & 2 & 2 & 0 & 4 & yes & 11 & no & 11 & 0 & 1 & 0 & 0 & 0 & 0 & 0 & 0 & 0 & 3 & 1.333333 & 0 & 0 & 1 & 0 & 0 & 0 & 0 & 1 & 3 & 1 & 0 & 0 & 0 & 0 & 0 & 1 & 0 &  8 &   4 &   64 & 16 & 121 & 4 &  1.777778 &  1 & 121 &   64 & 4\\\\\n\t8 & ID\\_3e04e571e & 130000 & 1 & 2 & 0 & 1 & 1 & 0 & 1 & 0 & 1 & 1 & 2 & 1 & 3 & 2 & 2 & 4 & 4 & 4 &  0 & 4 & 1 & 0 & 0 & 0 & 0 & 0 & 0 & 0 & 1 & 0 & 0 & 0 & 0 & 0 & 1 & 0 & 0 & 0 & 1 & 1 & 0 & 0 & 1 & 0 & 0 & 0 & 0 & 1 & 0 & 0 & 0 & 0 & 0 & 1 & 0 & 1 & 0 & 0 & 0 & 0 & 0 & 1 & 0 & 0 & 1 & 0 & 0 & 0 & 1 & 0 & 0 & 0 & 1 & 1 & 0 & 0 & 0 & 0 & 0 & 0 & 0 & 0 & 1 & 0 & 0 & 0 & 0 & 0 & 0 & 0 & 0 & 0 & d6dae86b7 & 2 & 2 & 0 & 4 & yes & 9  & no & 10 & 1 & 0 & 0 & 0 & 0 & 0 & 0 & 0 & 0 & 1 & 4.000000 & 0 & 0 & 1 & 0 & 0 & 0 & 0 & 1 & 1 & 1 & 0 & 0 & 0 & 0 & 0 & 1 & 0 &  7 &   0 &   49 & 16 &  81 & 4 & 16.000000 &  1 & 100 &   49 & 4\\\\\n\t9 & ID\\_1284f8aad & 130000 & 1 & 2 & 0 & 1 & 1 & 0 & 1 & 0 & 1 & 1 & 2 & 1 & 3 & 2 & 2 & 4 & 4 & 4 &  9 & 4 & 1 & 0 & 0 & 0 & 0 & 0 & 0 & 0 & 1 & 0 & 0 & 0 & 0 & 0 & 1 & 0 & 0 & 0 & 1 & 1 & 0 & 0 & 1 & 0 & 0 & 0 & 0 & 1 & 0 & 0 & 0 & 0 & 0 & 1 & 0 & 1 & 0 & 0 & 0 & 0 & 0 & 1 & 0 & 0 & 1 & 0 & 0 & 0 & 1 & 0 & 0 & 1 & 0 & 0 & 1 & 0 & 0 & 0 & 0 & 0 & 1 & 0 & 0 & 0 & 0 & 0 & 0 & 0 & 0 & 0 & 0 & 0 & d6dae86b7 & 2 & 2 & 0 & 4 & yes & 9  & no & 10 & 0 & 0 & 0 & 1 & 0 & 0 & 0 & 0 & 0 & 1 & 4.000000 & 0 & 0 & 1 & 0 & 0 & 0 & 0 & 1 & 1 & 1 & 0 & 0 & 0 & 0 & 0 & 1 & 0 & 30 &  81 &  900 & 16 &  81 & 4 & 16.000000 &  1 & 100 &  900 & 4\\\\\n\t10 & ID\\_51f52fdd2 & 130000 & 1 & 2 & 0 & 1 & 1 & 0 & 1 & 0 & 1 & 1 & 2 & 1 & 3 & 2 & 2 & 4 & 4 & 4 & 11 & 4 & 1 & 0 & 0 & 0 & 0 & 0 & 0 & 0 & 1 & 0 & 0 & 0 & 0 & 0 & 1 & 0 & 0 & 0 & 1 & 1 & 0 & 0 & 1 & 0 & 0 & 0 & 0 & 1 & 0 & 0 & 0 & 0 & 0 & 1 & 0 & 1 & 0 & 0 & 0 & 0 & 0 & 1 & 0 & 0 & 1 & 0 & 0 & 0 & 1 & 0 & 0 & 0 & 1 & 0 & 1 & 0 & 0 & 0 & 0 & 0 & 0 & 1 & 0 & 0 & 0 & 0 & 0 & 0 & 0 & 0 & 0 & 0 & d6dae86b7 & 2 & 2 & 0 & 4 & yes & 9  & no & 10 & 0 & 0 & 0 & 0 & 1 & 0 & 0 & 0 & 0 & 1 & 4.000000 & 0 & 0 & 1 & 0 & 0 & 0 & 0 & 1 & 1 & 1 & 0 & 0 & 0 & 0 & 0 & 1 & 0 & 28 & 121 &  784 & 16 &  81 & 4 & 16.000000 &  1 & 100 &  784 & 4\\\\\n\\end{tabular}\n",
            "text/markdown": "\nA data.frame: 10 × 142\n\n| <!--/--> | Id &lt;chr&gt; | v2a1 &lt;dbl&gt; | hacdor &lt;int&gt; | rooms &lt;int&gt; | hacapo &lt;int&gt; | v14a &lt;int&gt; | refrig &lt;int&gt; | v18q &lt;int&gt; | v18q1 &lt;int&gt; | r4h1 &lt;int&gt; | r4h2 &lt;int&gt; | r4h3 &lt;int&gt; | r4m1 &lt;int&gt; | r4m2 &lt;int&gt; | r4m3 &lt;int&gt; | r4t1 &lt;int&gt; | r4t2 &lt;int&gt; | r4t3 &lt;int&gt; | tamhog &lt;int&gt; | tamviv &lt;int&gt; | escolari &lt;int&gt; | hhsize &lt;int&gt; | paredblolad &lt;int&gt; | paredzocalo &lt;int&gt; | paredpreb &lt;int&gt; | pareddes &lt;int&gt; | paredmad &lt;int&gt; | paredzinc &lt;int&gt; | paredfibras &lt;int&gt; | paredother &lt;int&gt; | pisomoscer &lt;int&gt; | pisocemento &lt;int&gt; | pisoother &lt;int&gt; | pisonatur &lt;int&gt; | pisonotiene &lt;int&gt; | pisomadera &lt;int&gt; | techozinc &lt;int&gt; | techoentrepiso &lt;int&gt; | techocane &lt;int&gt; | techootro &lt;int&gt; | cielorazo &lt;int&gt; | abastaguadentro &lt;int&gt; | abastaguafuera &lt;int&gt; | abastaguano &lt;int&gt; | public &lt;int&gt; | planpri &lt;int&gt; | noelec &lt;int&gt; | coopele &lt;int&gt; | sanitario1 &lt;int&gt; | sanitario2 &lt;int&gt; | sanitario3 &lt;int&gt; | sanitario5 &lt;int&gt; | sanitario6 &lt;int&gt; | energcocinar1 &lt;int&gt; | energcocinar2 &lt;int&gt; | energcocinar3 &lt;int&gt; | energcocinar4 &lt;int&gt; | elimbasu1 &lt;int&gt; | elimbasu2 &lt;int&gt; | elimbasu3 &lt;int&gt; | elimbasu4 &lt;int&gt; | elimbasu5 &lt;int&gt; | elimbasu6 &lt;int&gt; | epared1 &lt;int&gt; | epared2 &lt;int&gt; | epared3 &lt;int&gt; | etecho1 &lt;int&gt; | etecho2 &lt;int&gt; | etecho3 &lt;int&gt; | eviv1 &lt;int&gt; | eviv2 &lt;int&gt; | eviv3 &lt;int&gt; | dis &lt;int&gt; | male &lt;int&gt; | female &lt;int&gt; | estadocivil1 &lt;int&gt; | estadocivil2 &lt;int&gt; | estadocivil3 &lt;int&gt; | estadocivil4 &lt;int&gt; | estadocivil5 &lt;int&gt; | estadocivil6 &lt;int&gt; | estadocivil7 &lt;int&gt; | parentesco1 &lt;int&gt; | parentesco2 &lt;int&gt; | parentesco3 &lt;int&gt; | parentesco4 &lt;int&gt; | parentesco5 &lt;int&gt; | parentesco6 &lt;int&gt; | parentesco7 &lt;int&gt; | parentesco8 &lt;int&gt; | parentesco9 &lt;int&gt; | parentesco10 &lt;int&gt; | parentesco11 &lt;int&gt; | parentesco12 &lt;int&gt; | idhogar &lt;chr&gt; | hogar_nin &lt;int&gt; | hogar_adul &lt;int&gt; | hogar_mayor &lt;int&gt; | hogar_total &lt;int&gt; | dependency &lt;chr&gt; | edjefe &lt;chr&gt; | edjefa &lt;chr&gt; | meaneduc &lt;dbl&gt; | instlevel1 &lt;int&gt; | instlevel2 &lt;int&gt; | instlevel3 &lt;int&gt; | instlevel4 &lt;int&gt; | instlevel5 &lt;int&gt; | instlevel6 &lt;int&gt; | instlevel7 &lt;int&gt; | instlevel8 &lt;int&gt; | instlevel9 &lt;int&gt; | bedrooms &lt;int&gt; | overcrowding &lt;dbl&gt; | tipovivi1 &lt;int&gt; | tipovivi2 &lt;int&gt; | tipovivi3 &lt;int&gt; | tipovivi4 &lt;int&gt; | tipovivi5 &lt;int&gt; | computer &lt;int&gt; | television &lt;int&gt; | mobilephone &lt;int&gt; | qmobilephone &lt;int&gt; | lugar1 &lt;int&gt; | lugar2 &lt;int&gt; | lugar3 &lt;int&gt; | lugar4 &lt;int&gt; | lugar5 &lt;int&gt; | lugar6 &lt;int&gt; | area1 &lt;int&gt; | area2 &lt;int&gt; | age &lt;int&gt; | SQBescolari &lt;int&gt; | SQBage &lt;int&gt; | SQBhogar_total &lt;int&gt; | SQBedjefe &lt;int&gt; | SQBhogar_nin &lt;int&gt; | SQBovercrowding &lt;dbl&gt; | SQBdependency &lt;dbl&gt; | SQBmeaned &lt;dbl&gt; | agesq &lt;int&gt; | Target &lt;int&gt; |\n|---|---|---|---|---|---|---|---|---|---|---|---|---|---|---|---|---|---|---|---|---|---|---|---|---|---|---|---|---|---|---|---|---|---|---|---|---|---|---|---|---|---|---|---|---|---|---|---|---|---|---|---|---|---|---|---|---|---|---|---|---|---|---|---|---|---|---|---|---|---|---|---|---|---|---|---|---|---|---|---|---|---|---|---|---|---|---|---|---|---|---|---|---|---|---|---|---|---|---|---|---|---|---|---|---|---|---|---|---|---|---|---|---|---|---|---|---|---|---|---|---|---|---|---|---|---|---|---|---|---|---|---|---|---|---|---|---|---|---|---|---|---|---|\n| 1 | ID_279628684 | 190000 | 0 | 3 | 0 | 1 | 1 | 0 | 1 | 0 | 1 | 1 | 0 | 0 | 0 | 0 | 1 | 1 | 1 | 1 | 10 | 1 | 1 | 0 | 0 | 0 | 0 | 0 | 0 | 0 | 1 | 0 | 0 | 0 | 0 | 0 | 0 | 1 | 0 | 0 | 1 | 1 | 0 | 0 | 1 | 0 | 0 | 0 | 0 | 1 | 0 | 0 | 0 | 0 | 0 | 1 | 0 | 1 | 0 | 0 | 0 | 0 | 0 | 0 | 1 | 0 | 1 | 0 | 0 | 1 | 0 | 0 | 0 | 1 | 0 | 0 | 0 | 0 | 1 | 0 | 0 | 0 | 1 | 0 | 0 | 0 | 0 | 0 | 0 | 0 | 0 | 0 | 0 | 0 | 21eb7fcc1 | 0 | 1 | 0 | 1 | no  | 10 | no | 10 | 0 | 0 | 0 | 1 | 0 | 0 | 0 | 0 | 0 | 1 | 1.000000 | 0 | 0 | 1 | 0 | 0 | 0 | 0 | 1 | 1 | 1 | 0 | 0 | 0 | 0 | 0 | 1 | 0 | 43 | 100 | 1849 |  1 | 100 | 0 |  1.000000 |  0 | 100 | 1849 | 4 |\n| 2 | ID_f29eb3ddd | 135000 | 0 | 4 | 0 | 1 | 1 | 1 | 1 | 0 | 1 | 1 | 0 | 0 | 0 | 0 | 1 | 1 | 1 | 1 | 12 | 1 | 0 | 0 | 0 | 0 | 1 | 0 | 0 | 0 | 0 | 0 | 0 | 0 | 0 | 1 | 1 | 0 | 0 | 0 | 1 | 1 | 0 | 0 | 1 | 0 | 0 | 0 | 0 | 1 | 0 | 0 | 0 | 0 | 1 | 0 | 0 | 1 | 0 | 0 | 0 | 0 | 0 | 0 | 1 | 0 | 0 | 1 | 0 | 0 | 1 | 0 | 0 | 1 | 0 | 0 | 0 | 0 | 1 | 0 | 0 | 0 | 1 | 0 | 0 | 0 | 0 | 0 | 0 | 0 | 0 | 0 | 0 | 0 | 0e5d7a658 | 0 | 1 | 1 | 1 | 8   | 12 | no | 12 | 0 | 0 | 0 | 0 | 0 | 0 | 0 | 1 | 0 | 1 | 1.000000 | 0 | 0 | 1 | 0 | 0 | 0 | 0 | 1 | 1 | 1 | 0 | 0 | 0 | 0 | 0 | 1 | 0 | 67 | 144 | 4489 |  1 | 144 | 0 |  1.000000 | 64 | 144 | 4489 | 4 |\n| 3 | ID_68de51c94 | 130000 | 0 | 8 | 0 | 1 | 1 | 0 | 1 | 0 | 0 | 0 | 0 | 1 | 1 | 0 | 1 | 1 | 1 | 1 | 11 | 1 | 0 | 0 | 0 | 0 | 1 | 0 | 0 | 0 | 1 | 0 | 0 | 0 | 0 | 0 | 1 | 0 | 0 | 0 | 1 | 1 | 0 | 0 | 1 | 0 | 0 | 0 | 0 | 1 | 0 | 0 | 0 | 0 | 1 | 0 | 0 | 1 | 0 | 0 | 0 | 0 | 0 | 0 | 1 | 0 | 0 | 0 | 1 | 0 | 0 | 1 | 1 | 0 | 1 | 0 | 0 | 0 | 0 | 0 | 1 | 0 | 1 | 0 | 0 | 0 | 0 | 0 | 0 | 0 | 0 | 0 | 0 | 0 | 2c7317ea8 | 0 | 1 | 1 | 1 | 8   | no | 11 | 11 | 0 | 0 | 0 | 0 | 1 | 0 | 0 | 0 | 0 | 2 | 0.500000 | 1 | 0 | 0 | 0 | 0 | 0 | 0 | 0 | 0 | 1 | 0 | 0 | 0 | 0 | 0 | 1 | 0 | 92 | 121 | 8464 |  1 |   0 | 0 |  0.250000 | 64 | 121 | 8464 | 4 |\n| 4 | ID_d671db89c | 180000 | 0 | 5 | 0 | 1 | 1 | 1 | 1 | 0 | 2 | 2 | 1 | 1 | 2 | 1 | 3 | 4 | 4 | 4 |  9 | 4 | 1 | 0 | 0 | 0 | 0 | 0 | 0 | 0 | 1 | 0 | 0 | 0 | 0 | 0 | 1 | 0 | 0 | 0 | 1 | 1 | 0 | 0 | 1 | 0 | 0 | 0 | 0 | 1 | 0 | 0 | 0 | 0 | 1 | 0 | 0 | 1 | 0 | 0 | 0 | 0 | 0 | 0 | 0 | 1 | 0 | 0 | 1 | 0 | 0 | 1 | 0 | 1 | 0 | 0 | 0 | 0 | 0 | 0 | 0 | 1 | 0 | 0 | 1 | 0 | 0 | 0 | 0 | 0 | 0 | 0 | 0 | 0 | 2b58d945f | 2 | 2 | 0 | 4 | yes | 11 | no | 11 | 0 | 0 | 0 | 1 | 0 | 0 | 0 | 0 | 0 | 3 | 1.333333 | 0 | 0 | 1 | 0 | 0 | 0 | 0 | 1 | 3 | 1 | 0 | 0 | 0 | 0 | 0 | 1 | 0 | 17 |  81 |  289 | 16 | 121 | 4 |  1.777778 |  1 | 121 |  289 | 4 |\n| 5 | ID_d56d6f5f5 | 180000 | 0 | 5 | 0 | 1 | 1 | 1 | 1 | 0 | 2 | 2 | 1 | 1 | 2 | 1 | 3 | 4 | 4 | 4 | 11 | 4 | 1 | 0 | 0 | 0 | 0 | 0 | 0 | 0 | 1 | 0 | 0 | 0 | 0 | 0 | 1 | 0 | 0 | 0 | 1 | 1 | 0 | 0 | 1 | 0 | 0 | 0 | 0 | 1 | 0 | 0 | 0 | 0 | 1 | 0 | 0 | 1 | 0 | 0 | 0 | 0 | 0 | 0 | 0 | 1 | 0 | 0 | 1 | 0 | 0 | 1 | 0 | 0 | 1 | 0 | 1 | 0 | 0 | 0 | 0 | 0 | 0 | 1 | 0 | 0 | 0 | 0 | 0 | 0 | 0 | 0 | 0 | 0 | 2b58d945f | 2 | 2 | 0 | 4 | yes | 11 | no | 11 | 0 | 0 | 0 | 0 | 1 | 0 | 0 | 0 | 0 | 3 | 1.333333 | 0 | 0 | 1 | 0 | 0 | 0 | 0 | 1 | 3 | 1 | 0 | 0 | 0 | 0 | 0 | 1 | 0 | 37 | 121 | 1369 | 16 | 121 | 4 |  1.777778 |  1 | 121 | 1369 | 4 |\n| 6 | ID_ec05b1a7b | 180000 | 0 | 5 | 0 | 1 | 1 | 1 | 1 | 0 | 2 | 2 | 1 | 1 | 2 | 1 | 3 | 4 | 4 | 4 | 11 | 4 | 1 | 0 | 0 | 0 | 0 | 0 | 0 | 0 | 1 | 0 | 0 | 0 | 0 | 0 | 1 | 0 | 0 | 0 | 1 | 1 | 0 | 0 | 1 | 0 | 0 | 0 | 0 | 1 | 0 | 0 | 0 | 0 | 1 | 0 | 0 | 1 | 0 | 0 | 0 | 0 | 0 | 0 | 0 | 1 | 0 | 0 | 1 | 0 | 0 | 1 | 0 | 1 | 0 | 0 | 1 | 0 | 0 | 0 | 0 | 0 | 1 | 0 | 0 | 0 | 0 | 0 | 0 | 0 | 0 | 0 | 0 | 0 | 2b58d945f | 2 | 2 | 0 | 4 | yes | 11 | no | 11 | 0 | 0 | 0 | 0 | 1 | 0 | 0 | 0 | 0 | 3 | 1.333333 | 0 | 0 | 1 | 0 | 0 | 0 | 0 | 1 | 3 | 1 | 0 | 0 | 0 | 0 | 0 | 1 | 0 | 38 | 121 | 1444 | 16 | 121 | 4 |  1.777778 |  1 | 121 | 1444 | 4 |\n| 7 | ID_e9e0c1100 | 180000 | 0 | 5 | 0 | 1 | 1 | 1 | 1 | 0 | 2 | 2 | 1 | 1 | 2 | 1 | 3 | 4 | 4 | 4 |  2 | 4 | 1 | 0 | 0 | 0 | 0 | 0 | 0 | 0 | 1 | 0 | 0 | 0 | 0 | 0 | 1 | 0 | 0 | 0 | 1 | 1 | 0 | 0 | 1 | 0 | 0 | 0 | 0 | 1 | 0 | 0 | 0 | 0 | 1 | 0 | 0 | 1 | 0 | 0 | 0 | 0 | 0 | 0 | 0 | 1 | 0 | 0 | 1 | 0 | 0 | 1 | 0 | 0 | 1 | 1 | 0 | 0 | 0 | 0 | 0 | 0 | 0 | 0 | 1 | 0 | 0 | 0 | 0 | 0 | 0 | 0 | 0 | 0 | 2b58d945f | 2 | 2 | 0 | 4 | yes | 11 | no | 11 | 0 | 1 | 0 | 0 | 0 | 0 | 0 | 0 | 0 | 3 | 1.333333 | 0 | 0 | 1 | 0 | 0 | 0 | 0 | 1 | 3 | 1 | 0 | 0 | 0 | 0 | 0 | 1 | 0 |  8 |   4 |   64 | 16 | 121 | 4 |  1.777778 |  1 | 121 |   64 | 4 |\n| 8 | ID_3e04e571e | 130000 | 1 | 2 | 0 | 1 | 1 | 0 | 1 | 0 | 1 | 1 | 2 | 1 | 3 | 2 | 2 | 4 | 4 | 4 |  0 | 4 | 1 | 0 | 0 | 0 | 0 | 0 | 0 | 0 | 1 | 0 | 0 | 0 | 0 | 0 | 1 | 0 | 0 | 0 | 1 | 1 | 0 | 0 | 1 | 0 | 0 | 0 | 0 | 1 | 0 | 0 | 0 | 0 | 0 | 1 | 0 | 1 | 0 | 0 | 0 | 0 | 0 | 1 | 0 | 0 | 1 | 0 | 0 | 0 | 1 | 0 | 0 | 0 | 1 | 1 | 0 | 0 | 0 | 0 | 0 | 0 | 0 | 0 | 1 | 0 | 0 | 0 | 0 | 0 | 0 | 0 | 0 | 0 | d6dae86b7 | 2 | 2 | 0 | 4 | yes | 9  | no | 10 | 1 | 0 | 0 | 0 | 0 | 0 | 0 | 0 | 0 | 1 | 4.000000 | 0 | 0 | 1 | 0 | 0 | 0 | 0 | 1 | 1 | 1 | 0 | 0 | 0 | 0 | 0 | 1 | 0 |  7 |   0 |   49 | 16 |  81 | 4 | 16.000000 |  1 | 100 |   49 | 4 |\n| 9 | ID_1284f8aad | 130000 | 1 | 2 | 0 | 1 | 1 | 0 | 1 | 0 | 1 | 1 | 2 | 1 | 3 | 2 | 2 | 4 | 4 | 4 |  9 | 4 | 1 | 0 | 0 | 0 | 0 | 0 | 0 | 0 | 1 | 0 | 0 | 0 | 0 | 0 | 1 | 0 | 0 | 0 | 1 | 1 | 0 | 0 | 1 | 0 | 0 | 0 | 0 | 1 | 0 | 0 | 0 | 0 | 0 | 1 | 0 | 1 | 0 | 0 | 0 | 0 | 0 | 1 | 0 | 0 | 1 | 0 | 0 | 0 | 1 | 0 | 0 | 1 | 0 | 0 | 1 | 0 | 0 | 0 | 0 | 0 | 1 | 0 | 0 | 0 | 0 | 0 | 0 | 0 | 0 | 0 | 0 | 0 | d6dae86b7 | 2 | 2 | 0 | 4 | yes | 9  | no | 10 | 0 | 0 | 0 | 1 | 0 | 0 | 0 | 0 | 0 | 1 | 4.000000 | 0 | 0 | 1 | 0 | 0 | 0 | 0 | 1 | 1 | 1 | 0 | 0 | 0 | 0 | 0 | 1 | 0 | 30 |  81 |  900 | 16 |  81 | 4 | 16.000000 |  1 | 100 |  900 | 4 |\n| 10 | ID_51f52fdd2 | 130000 | 1 | 2 | 0 | 1 | 1 | 0 | 1 | 0 | 1 | 1 | 2 | 1 | 3 | 2 | 2 | 4 | 4 | 4 | 11 | 4 | 1 | 0 | 0 | 0 | 0 | 0 | 0 | 0 | 1 | 0 | 0 | 0 | 0 | 0 | 1 | 0 | 0 | 0 | 1 | 1 | 0 | 0 | 1 | 0 | 0 | 0 | 0 | 1 | 0 | 0 | 0 | 0 | 0 | 1 | 0 | 1 | 0 | 0 | 0 | 0 | 0 | 1 | 0 | 0 | 1 | 0 | 0 | 0 | 1 | 0 | 0 | 0 | 1 | 0 | 1 | 0 | 0 | 0 | 0 | 0 | 0 | 1 | 0 | 0 | 0 | 0 | 0 | 0 | 0 | 0 | 0 | 0 | d6dae86b7 | 2 | 2 | 0 | 4 | yes | 9  | no | 10 | 0 | 0 | 0 | 0 | 1 | 0 | 0 | 0 | 0 | 1 | 4.000000 | 0 | 0 | 1 | 0 | 0 | 0 | 0 | 1 | 1 | 1 | 0 | 0 | 0 | 0 | 0 | 1 | 0 | 28 | 121 |  784 | 16 |  81 | 4 | 16.000000 |  1 | 100 |  784 | 4 |\n\n",
            "text/html": [
              "<table class=\"dataframe\">\n",
              "<caption>A data.frame: 10 × 142</caption>\n",
              "<thead>\n",
              "\t<tr><th></th><th scope=col>Id</th><th scope=col>v2a1</th><th scope=col>hacdor</th><th scope=col>rooms</th><th scope=col>hacapo</th><th scope=col>v14a</th><th scope=col>refrig</th><th scope=col>v18q</th><th scope=col>v18q1</th><th scope=col>r4h1</th><th scope=col>r4h2</th><th scope=col>r4h3</th><th scope=col>r4m1</th><th scope=col>r4m2</th><th scope=col>r4m3</th><th scope=col>r4t1</th><th scope=col>r4t2</th><th scope=col>r4t3</th><th scope=col>tamhog</th><th scope=col>tamviv</th><th scope=col>escolari</th><th scope=col>hhsize</th><th scope=col>paredblolad</th><th scope=col>paredzocalo</th><th scope=col>paredpreb</th><th scope=col>pareddes</th><th scope=col>paredmad</th><th scope=col>paredzinc</th><th scope=col>paredfibras</th><th scope=col>paredother</th><th scope=col>pisomoscer</th><th scope=col>pisocemento</th><th scope=col>pisoother</th><th scope=col>pisonatur</th><th scope=col>pisonotiene</th><th scope=col>pisomadera</th><th scope=col>techozinc</th><th scope=col>techoentrepiso</th><th scope=col>techocane</th><th scope=col>techootro</th><th scope=col>cielorazo</th><th scope=col>abastaguadentro</th><th scope=col>abastaguafuera</th><th scope=col>abastaguano</th><th scope=col>public</th><th scope=col>planpri</th><th scope=col>noelec</th><th scope=col>coopele</th><th scope=col>sanitario1</th><th scope=col>sanitario2</th><th scope=col>sanitario3</th><th scope=col>sanitario5</th><th scope=col>sanitario6</th><th scope=col>energcocinar1</th><th scope=col>energcocinar2</th><th scope=col>energcocinar3</th><th scope=col>energcocinar4</th><th scope=col>elimbasu1</th><th scope=col>elimbasu2</th><th scope=col>elimbasu3</th><th scope=col>elimbasu4</th><th scope=col>elimbasu5</th><th scope=col>elimbasu6</th><th scope=col>epared1</th><th scope=col>epared2</th><th scope=col>epared3</th><th scope=col>etecho1</th><th scope=col>etecho2</th><th scope=col>etecho3</th><th scope=col>eviv1</th><th scope=col>eviv2</th><th scope=col>eviv3</th><th scope=col>dis</th><th scope=col>male</th><th scope=col>female</th><th scope=col>estadocivil1</th><th scope=col>estadocivil2</th><th scope=col>estadocivil3</th><th scope=col>estadocivil4</th><th scope=col>estadocivil5</th><th scope=col>estadocivil6</th><th scope=col>estadocivil7</th><th scope=col>parentesco1</th><th scope=col>parentesco2</th><th scope=col>parentesco3</th><th scope=col>parentesco4</th><th scope=col>parentesco5</th><th scope=col>parentesco6</th><th scope=col>parentesco7</th><th scope=col>parentesco8</th><th scope=col>parentesco9</th><th scope=col>parentesco10</th><th scope=col>parentesco11</th><th scope=col>parentesco12</th><th scope=col>idhogar</th><th scope=col>hogar_nin</th><th scope=col>hogar_adul</th><th scope=col>hogar_mayor</th><th scope=col>hogar_total</th><th scope=col>dependency</th><th scope=col>edjefe</th><th scope=col>edjefa</th><th scope=col>meaneduc</th><th scope=col>instlevel1</th><th scope=col>instlevel2</th><th scope=col>instlevel3</th><th scope=col>instlevel4</th><th scope=col>instlevel5</th><th scope=col>instlevel6</th><th scope=col>instlevel7</th><th scope=col>instlevel8</th><th scope=col>instlevel9</th><th scope=col>bedrooms</th><th scope=col>overcrowding</th><th scope=col>tipovivi1</th><th scope=col>tipovivi2</th><th scope=col>tipovivi3</th><th scope=col>tipovivi4</th><th scope=col>tipovivi5</th><th scope=col>computer</th><th scope=col>television</th><th scope=col>mobilephone</th><th scope=col>qmobilephone</th><th scope=col>lugar1</th><th scope=col>lugar2</th><th scope=col>lugar3</th><th scope=col>lugar4</th><th scope=col>lugar5</th><th scope=col>lugar6</th><th scope=col>area1</th><th scope=col>area2</th><th scope=col>age</th><th scope=col>SQBescolari</th><th scope=col>SQBage</th><th scope=col>SQBhogar_total</th><th scope=col>SQBedjefe</th><th scope=col>SQBhogar_nin</th><th scope=col>SQBovercrowding</th><th scope=col>SQBdependency</th><th scope=col>SQBmeaned</th><th scope=col>agesq</th><th scope=col>Target</th></tr>\n",
              "\t<tr><th></th><th scope=col>&lt;chr&gt;</th><th scope=col>&lt;dbl&gt;</th><th scope=col>&lt;int&gt;</th><th scope=col>&lt;int&gt;</th><th scope=col>&lt;int&gt;</th><th scope=col>&lt;int&gt;</th><th scope=col>&lt;int&gt;</th><th scope=col>&lt;int&gt;</th><th scope=col>&lt;int&gt;</th><th scope=col>&lt;int&gt;</th><th scope=col>&lt;int&gt;</th><th scope=col>&lt;int&gt;</th><th scope=col>&lt;int&gt;</th><th scope=col>&lt;int&gt;</th><th scope=col>&lt;int&gt;</th><th scope=col>&lt;int&gt;</th><th scope=col>&lt;int&gt;</th><th scope=col>&lt;int&gt;</th><th scope=col>&lt;int&gt;</th><th scope=col>&lt;int&gt;</th><th scope=col>&lt;int&gt;</th><th scope=col>&lt;int&gt;</th><th scope=col>&lt;int&gt;</th><th scope=col>&lt;int&gt;</th><th scope=col>&lt;int&gt;</th><th scope=col>&lt;int&gt;</th><th scope=col>&lt;int&gt;</th><th scope=col>&lt;int&gt;</th><th scope=col>&lt;int&gt;</th><th scope=col>&lt;int&gt;</th><th scope=col>&lt;int&gt;</th><th scope=col>&lt;int&gt;</th><th scope=col>&lt;int&gt;</th><th scope=col>&lt;int&gt;</th><th scope=col>&lt;int&gt;</th><th scope=col>&lt;int&gt;</th><th scope=col>&lt;int&gt;</th><th scope=col>&lt;int&gt;</th><th scope=col>&lt;int&gt;</th><th scope=col>&lt;int&gt;</th><th scope=col>&lt;int&gt;</th><th scope=col>&lt;int&gt;</th><th scope=col>&lt;int&gt;</th><th scope=col>&lt;int&gt;</th><th scope=col>&lt;int&gt;</th><th scope=col>&lt;int&gt;</th><th scope=col>&lt;int&gt;</th><th scope=col>&lt;int&gt;</th><th scope=col>&lt;int&gt;</th><th scope=col>&lt;int&gt;</th><th scope=col>&lt;int&gt;</th><th scope=col>&lt;int&gt;</th><th scope=col>&lt;int&gt;</th><th scope=col>&lt;int&gt;</th><th scope=col>&lt;int&gt;</th><th scope=col>&lt;int&gt;</th><th scope=col>&lt;int&gt;</th><th scope=col>&lt;int&gt;</th><th scope=col>&lt;int&gt;</th><th scope=col>&lt;int&gt;</th><th scope=col>&lt;int&gt;</th><th scope=col>&lt;int&gt;</th><th scope=col>&lt;int&gt;</th><th scope=col>&lt;int&gt;</th><th scope=col>&lt;int&gt;</th><th scope=col>&lt;int&gt;</th><th scope=col>&lt;int&gt;</th><th scope=col>&lt;int&gt;</th><th scope=col>&lt;int&gt;</th><th scope=col>&lt;int&gt;</th><th scope=col>&lt;int&gt;</th><th scope=col>&lt;int&gt;</th><th scope=col>&lt;int&gt;</th><th scope=col>&lt;int&gt;</th><th scope=col>&lt;int&gt;</th><th scope=col>&lt;int&gt;</th><th scope=col>&lt;int&gt;</th><th scope=col>&lt;int&gt;</th><th scope=col>&lt;int&gt;</th><th scope=col>&lt;int&gt;</th><th scope=col>&lt;int&gt;</th><th scope=col>&lt;int&gt;</th><th scope=col>&lt;int&gt;</th><th scope=col>&lt;int&gt;</th><th scope=col>&lt;int&gt;</th><th scope=col>&lt;int&gt;</th><th scope=col>&lt;int&gt;</th><th scope=col>&lt;int&gt;</th><th scope=col>&lt;int&gt;</th><th scope=col>&lt;int&gt;</th><th scope=col>&lt;int&gt;</th><th scope=col>&lt;int&gt;</th><th scope=col>&lt;int&gt;</th><th scope=col>&lt;int&gt;</th><th scope=col>&lt;chr&gt;</th><th scope=col>&lt;int&gt;</th><th scope=col>&lt;int&gt;</th><th scope=col>&lt;int&gt;</th><th scope=col>&lt;int&gt;</th><th scope=col>&lt;chr&gt;</th><th scope=col>&lt;chr&gt;</th><th scope=col>&lt;chr&gt;</th><th scope=col>&lt;dbl&gt;</th><th scope=col>&lt;int&gt;</th><th scope=col>&lt;int&gt;</th><th scope=col>&lt;int&gt;</th><th scope=col>&lt;int&gt;</th><th scope=col>&lt;int&gt;</th><th scope=col>&lt;int&gt;</th><th scope=col>&lt;int&gt;</th><th scope=col>&lt;int&gt;</th><th scope=col>&lt;int&gt;</th><th scope=col>&lt;int&gt;</th><th scope=col>&lt;dbl&gt;</th><th scope=col>&lt;int&gt;</th><th scope=col>&lt;int&gt;</th><th scope=col>&lt;int&gt;</th><th scope=col>&lt;int&gt;</th><th scope=col>&lt;int&gt;</th><th scope=col>&lt;int&gt;</th><th scope=col>&lt;int&gt;</th><th scope=col>&lt;int&gt;</th><th scope=col>&lt;int&gt;</th><th scope=col>&lt;int&gt;</th><th scope=col>&lt;int&gt;</th><th scope=col>&lt;int&gt;</th><th scope=col>&lt;int&gt;</th><th scope=col>&lt;int&gt;</th><th scope=col>&lt;int&gt;</th><th scope=col>&lt;int&gt;</th><th scope=col>&lt;int&gt;</th><th scope=col>&lt;int&gt;</th><th scope=col>&lt;int&gt;</th><th scope=col>&lt;int&gt;</th><th scope=col>&lt;int&gt;</th><th scope=col>&lt;int&gt;</th><th scope=col>&lt;int&gt;</th><th scope=col>&lt;dbl&gt;</th><th scope=col>&lt;dbl&gt;</th><th scope=col>&lt;dbl&gt;</th><th scope=col>&lt;int&gt;</th><th scope=col>&lt;int&gt;</th></tr>\n",
              "</thead>\n",
              "<tbody>\n",
              "\t<tr><th scope=row>1</th><td>ID_279628684</td><td>190000</td><td>0</td><td>3</td><td>0</td><td>1</td><td>1</td><td>0</td><td>1</td><td>0</td><td>1</td><td>1</td><td>0</td><td>0</td><td>0</td><td>0</td><td>1</td><td>1</td><td>1</td><td>1</td><td>10</td><td>1</td><td>1</td><td>0</td><td>0</td><td>0</td><td>0</td><td>0</td><td>0</td><td>0</td><td>1</td><td>0</td><td>0</td><td>0</td><td>0</td><td>0</td><td>0</td><td>1</td><td>0</td><td>0</td><td>1</td><td>1</td><td>0</td><td>0</td><td>1</td><td>0</td><td>0</td><td>0</td><td>0</td><td>1</td><td>0</td><td>0</td><td>0</td><td>0</td><td>0</td><td>1</td><td>0</td><td>1</td><td>0</td><td>0</td><td>0</td><td>0</td><td>0</td><td>0</td><td>1</td><td>0</td><td>1</td><td>0</td><td>0</td><td>1</td><td>0</td><td>0</td><td>0</td><td>1</td><td>0</td><td>0</td><td>0</td><td>0</td><td>1</td><td>0</td><td>0</td><td>0</td><td>1</td><td>0</td><td>0</td><td>0</td><td>0</td><td>0</td><td>0</td><td>0</td><td>0</td><td>0</td><td>0</td><td>0</td><td>21eb7fcc1</td><td>0</td><td>1</td><td>0</td><td>1</td><td>no </td><td>10</td><td>no</td><td>10</td><td>0</td><td>0</td><td>0</td><td>1</td><td>0</td><td>0</td><td>0</td><td>0</td><td>0</td><td>1</td><td>1.000000</td><td>0</td><td>0</td><td>1</td><td>0</td><td>0</td><td>0</td><td>0</td><td>1</td><td>1</td><td>1</td><td>0</td><td>0</td><td>0</td><td>0</td><td>0</td><td>1</td><td>0</td><td>43</td><td>100</td><td>1849</td><td> 1</td><td>100</td><td>0</td><td> 1.000000</td><td> 0</td><td>100</td><td>1849</td><td>4</td></tr>\n",
              "\t<tr><th scope=row>2</th><td>ID_f29eb3ddd</td><td>135000</td><td>0</td><td>4</td><td>0</td><td>1</td><td>1</td><td>1</td><td>1</td><td>0</td><td>1</td><td>1</td><td>0</td><td>0</td><td>0</td><td>0</td><td>1</td><td>1</td><td>1</td><td>1</td><td>12</td><td>1</td><td>0</td><td>0</td><td>0</td><td>0</td><td>1</td><td>0</td><td>0</td><td>0</td><td>0</td><td>0</td><td>0</td><td>0</td><td>0</td><td>1</td><td>1</td><td>0</td><td>0</td><td>0</td><td>1</td><td>1</td><td>0</td><td>0</td><td>1</td><td>0</td><td>0</td><td>0</td><td>0</td><td>1</td><td>0</td><td>0</td><td>0</td><td>0</td><td>1</td><td>0</td><td>0</td><td>1</td><td>0</td><td>0</td><td>0</td><td>0</td><td>0</td><td>0</td><td>1</td><td>0</td><td>0</td><td>1</td><td>0</td><td>0</td><td>1</td><td>0</td><td>0</td><td>1</td><td>0</td><td>0</td><td>0</td><td>0</td><td>1</td><td>0</td><td>0</td><td>0</td><td>1</td><td>0</td><td>0</td><td>0</td><td>0</td><td>0</td><td>0</td><td>0</td><td>0</td><td>0</td><td>0</td><td>0</td><td>0e5d7a658</td><td>0</td><td>1</td><td>1</td><td>1</td><td>8  </td><td>12</td><td>no</td><td>12</td><td>0</td><td>0</td><td>0</td><td>0</td><td>0</td><td>0</td><td>0</td><td>1</td><td>0</td><td>1</td><td>1.000000</td><td>0</td><td>0</td><td>1</td><td>0</td><td>0</td><td>0</td><td>0</td><td>1</td><td>1</td><td>1</td><td>0</td><td>0</td><td>0</td><td>0</td><td>0</td><td>1</td><td>0</td><td>67</td><td>144</td><td>4489</td><td> 1</td><td>144</td><td>0</td><td> 1.000000</td><td>64</td><td>144</td><td>4489</td><td>4</td></tr>\n",
              "\t<tr><th scope=row>3</th><td>ID_68de51c94</td><td>130000</td><td>0</td><td>8</td><td>0</td><td>1</td><td>1</td><td>0</td><td>1</td><td>0</td><td>0</td><td>0</td><td>0</td><td>1</td><td>1</td><td>0</td><td>1</td><td>1</td><td>1</td><td>1</td><td>11</td><td>1</td><td>0</td><td>0</td><td>0</td><td>0</td><td>1</td><td>0</td><td>0</td><td>0</td><td>1</td><td>0</td><td>0</td><td>0</td><td>0</td><td>0</td><td>1</td><td>0</td><td>0</td><td>0</td><td>1</td><td>1</td><td>0</td><td>0</td><td>1</td><td>0</td><td>0</td><td>0</td><td>0</td><td>1</td><td>0</td><td>0</td><td>0</td><td>0</td><td>1</td><td>0</td><td>0</td><td>1</td><td>0</td><td>0</td><td>0</td><td>0</td><td>0</td><td>0</td><td>1</td><td>0</td><td>0</td><td>0</td><td>1</td><td>0</td><td>0</td><td>1</td><td>1</td><td>0</td><td>1</td><td>0</td><td>0</td><td>0</td><td>0</td><td>0</td><td>1</td><td>0</td><td>1</td><td>0</td><td>0</td><td>0</td><td>0</td><td>0</td><td>0</td><td>0</td><td>0</td><td>0</td><td>0</td><td>0</td><td>2c7317ea8</td><td>0</td><td>1</td><td>1</td><td>1</td><td>8  </td><td>no</td><td>11</td><td>11</td><td>0</td><td>0</td><td>0</td><td>0</td><td>1</td><td>0</td><td>0</td><td>0</td><td>0</td><td>2</td><td>0.500000</td><td>1</td><td>0</td><td>0</td><td>0</td><td>0</td><td>0</td><td>0</td><td>0</td><td>0</td><td>1</td><td>0</td><td>0</td><td>0</td><td>0</td><td>0</td><td>1</td><td>0</td><td>92</td><td>121</td><td>8464</td><td> 1</td><td>  0</td><td>0</td><td> 0.250000</td><td>64</td><td>121</td><td>8464</td><td>4</td></tr>\n",
              "\t<tr><th scope=row>4</th><td>ID_d671db89c</td><td>180000</td><td>0</td><td>5</td><td>0</td><td>1</td><td>1</td><td>1</td><td>1</td><td>0</td><td>2</td><td>2</td><td>1</td><td>1</td><td>2</td><td>1</td><td>3</td><td>4</td><td>4</td><td>4</td><td> 9</td><td>4</td><td>1</td><td>0</td><td>0</td><td>0</td><td>0</td><td>0</td><td>0</td><td>0</td><td>1</td><td>0</td><td>0</td><td>0</td><td>0</td><td>0</td><td>1</td><td>0</td><td>0</td><td>0</td><td>1</td><td>1</td><td>0</td><td>0</td><td>1</td><td>0</td><td>0</td><td>0</td><td>0</td><td>1</td><td>0</td><td>0</td><td>0</td><td>0</td><td>1</td><td>0</td><td>0</td><td>1</td><td>0</td><td>0</td><td>0</td><td>0</td><td>0</td><td>0</td><td>0</td><td>1</td><td>0</td><td>0</td><td>1</td><td>0</td><td>0</td><td>1</td><td>0</td><td>1</td><td>0</td><td>0</td><td>0</td><td>0</td><td>0</td><td>0</td><td>0</td><td>1</td><td>0</td><td>0</td><td>1</td><td>0</td><td>0</td><td>0</td><td>0</td><td>0</td><td>0</td><td>0</td><td>0</td><td>0</td><td>2b58d945f</td><td>2</td><td>2</td><td>0</td><td>4</td><td>yes</td><td>11</td><td>no</td><td>11</td><td>0</td><td>0</td><td>0</td><td>1</td><td>0</td><td>0</td><td>0</td><td>0</td><td>0</td><td>3</td><td>1.333333</td><td>0</td><td>0</td><td>1</td><td>0</td><td>0</td><td>0</td><td>0</td><td>1</td><td>3</td><td>1</td><td>0</td><td>0</td><td>0</td><td>0</td><td>0</td><td>1</td><td>0</td><td>17</td><td> 81</td><td> 289</td><td>16</td><td>121</td><td>4</td><td> 1.777778</td><td> 1</td><td>121</td><td> 289</td><td>4</td></tr>\n",
              "\t<tr><th scope=row>5</th><td>ID_d56d6f5f5</td><td>180000</td><td>0</td><td>5</td><td>0</td><td>1</td><td>1</td><td>1</td><td>1</td><td>0</td><td>2</td><td>2</td><td>1</td><td>1</td><td>2</td><td>1</td><td>3</td><td>4</td><td>4</td><td>4</td><td>11</td><td>4</td><td>1</td><td>0</td><td>0</td><td>0</td><td>0</td><td>0</td><td>0</td><td>0</td><td>1</td><td>0</td><td>0</td><td>0</td><td>0</td><td>0</td><td>1</td><td>0</td><td>0</td><td>0</td><td>1</td><td>1</td><td>0</td><td>0</td><td>1</td><td>0</td><td>0</td><td>0</td><td>0</td><td>1</td><td>0</td><td>0</td><td>0</td><td>0</td><td>1</td><td>0</td><td>0</td><td>1</td><td>0</td><td>0</td><td>0</td><td>0</td><td>0</td><td>0</td><td>0</td><td>1</td><td>0</td><td>0</td><td>1</td><td>0</td><td>0</td><td>1</td><td>0</td><td>0</td><td>1</td><td>0</td><td>1</td><td>0</td><td>0</td><td>0</td><td>0</td><td>0</td><td>0</td><td>1</td><td>0</td><td>0</td><td>0</td><td>0</td><td>0</td><td>0</td><td>0</td><td>0</td><td>0</td><td>0</td><td>2b58d945f</td><td>2</td><td>2</td><td>0</td><td>4</td><td>yes</td><td>11</td><td>no</td><td>11</td><td>0</td><td>0</td><td>0</td><td>0</td><td>1</td><td>0</td><td>0</td><td>0</td><td>0</td><td>3</td><td>1.333333</td><td>0</td><td>0</td><td>1</td><td>0</td><td>0</td><td>0</td><td>0</td><td>1</td><td>3</td><td>1</td><td>0</td><td>0</td><td>0</td><td>0</td><td>0</td><td>1</td><td>0</td><td>37</td><td>121</td><td>1369</td><td>16</td><td>121</td><td>4</td><td> 1.777778</td><td> 1</td><td>121</td><td>1369</td><td>4</td></tr>\n",
              "\t<tr><th scope=row>6</th><td>ID_ec05b1a7b</td><td>180000</td><td>0</td><td>5</td><td>0</td><td>1</td><td>1</td><td>1</td><td>1</td><td>0</td><td>2</td><td>2</td><td>1</td><td>1</td><td>2</td><td>1</td><td>3</td><td>4</td><td>4</td><td>4</td><td>11</td><td>4</td><td>1</td><td>0</td><td>0</td><td>0</td><td>0</td><td>0</td><td>0</td><td>0</td><td>1</td><td>0</td><td>0</td><td>0</td><td>0</td><td>0</td><td>1</td><td>0</td><td>0</td><td>0</td><td>1</td><td>1</td><td>0</td><td>0</td><td>1</td><td>0</td><td>0</td><td>0</td><td>0</td><td>1</td><td>0</td><td>0</td><td>0</td><td>0</td><td>1</td><td>0</td><td>0</td><td>1</td><td>0</td><td>0</td><td>0</td><td>0</td><td>0</td><td>0</td><td>0</td><td>1</td><td>0</td><td>0</td><td>1</td><td>0</td><td>0</td><td>1</td><td>0</td><td>1</td><td>0</td><td>0</td><td>1</td><td>0</td><td>0</td><td>0</td><td>0</td><td>0</td><td>1</td><td>0</td><td>0</td><td>0</td><td>0</td><td>0</td><td>0</td><td>0</td><td>0</td><td>0</td><td>0</td><td>0</td><td>2b58d945f</td><td>2</td><td>2</td><td>0</td><td>4</td><td>yes</td><td>11</td><td>no</td><td>11</td><td>0</td><td>0</td><td>0</td><td>0</td><td>1</td><td>0</td><td>0</td><td>0</td><td>0</td><td>3</td><td>1.333333</td><td>0</td><td>0</td><td>1</td><td>0</td><td>0</td><td>0</td><td>0</td><td>1</td><td>3</td><td>1</td><td>0</td><td>0</td><td>0</td><td>0</td><td>0</td><td>1</td><td>0</td><td>38</td><td>121</td><td>1444</td><td>16</td><td>121</td><td>4</td><td> 1.777778</td><td> 1</td><td>121</td><td>1444</td><td>4</td></tr>\n",
              "\t<tr><th scope=row>7</th><td>ID_e9e0c1100</td><td>180000</td><td>0</td><td>5</td><td>0</td><td>1</td><td>1</td><td>1</td><td>1</td><td>0</td><td>2</td><td>2</td><td>1</td><td>1</td><td>2</td><td>1</td><td>3</td><td>4</td><td>4</td><td>4</td><td> 2</td><td>4</td><td>1</td><td>0</td><td>0</td><td>0</td><td>0</td><td>0</td><td>0</td><td>0</td><td>1</td><td>0</td><td>0</td><td>0</td><td>0</td><td>0</td><td>1</td><td>0</td><td>0</td><td>0</td><td>1</td><td>1</td><td>0</td><td>0</td><td>1</td><td>0</td><td>0</td><td>0</td><td>0</td><td>1</td><td>0</td><td>0</td><td>0</td><td>0</td><td>1</td><td>0</td><td>0</td><td>1</td><td>0</td><td>0</td><td>0</td><td>0</td><td>0</td><td>0</td><td>0</td><td>1</td><td>0</td><td>0</td><td>1</td><td>0</td><td>0</td><td>1</td><td>0</td><td>0</td><td>1</td><td>1</td><td>0</td><td>0</td><td>0</td><td>0</td><td>0</td><td>0</td><td>0</td><td>0</td><td>1</td><td>0</td><td>0</td><td>0</td><td>0</td><td>0</td><td>0</td><td>0</td><td>0</td><td>0</td><td>2b58d945f</td><td>2</td><td>2</td><td>0</td><td>4</td><td>yes</td><td>11</td><td>no</td><td>11</td><td>0</td><td>1</td><td>0</td><td>0</td><td>0</td><td>0</td><td>0</td><td>0</td><td>0</td><td>3</td><td>1.333333</td><td>0</td><td>0</td><td>1</td><td>0</td><td>0</td><td>0</td><td>0</td><td>1</td><td>3</td><td>1</td><td>0</td><td>0</td><td>0</td><td>0</td><td>0</td><td>1</td><td>0</td><td> 8</td><td>  4</td><td>  64</td><td>16</td><td>121</td><td>4</td><td> 1.777778</td><td> 1</td><td>121</td><td>  64</td><td>4</td></tr>\n",
              "\t<tr><th scope=row>8</th><td>ID_3e04e571e</td><td>130000</td><td>1</td><td>2</td><td>0</td><td>1</td><td>1</td><td>0</td><td>1</td><td>0</td><td>1</td><td>1</td><td>2</td><td>1</td><td>3</td><td>2</td><td>2</td><td>4</td><td>4</td><td>4</td><td> 0</td><td>4</td><td>1</td><td>0</td><td>0</td><td>0</td><td>0</td><td>0</td><td>0</td><td>0</td><td>1</td><td>0</td><td>0</td><td>0</td><td>0</td><td>0</td><td>1</td><td>0</td><td>0</td><td>0</td><td>1</td><td>1</td><td>0</td><td>0</td><td>1</td><td>0</td><td>0</td><td>0</td><td>0</td><td>1</td><td>0</td><td>0</td><td>0</td><td>0</td><td>0</td><td>1</td><td>0</td><td>1</td><td>0</td><td>0</td><td>0</td><td>0</td><td>0</td><td>1</td><td>0</td><td>0</td><td>1</td><td>0</td><td>0</td><td>0</td><td>1</td><td>0</td><td>0</td><td>0</td><td>1</td><td>1</td><td>0</td><td>0</td><td>0</td><td>0</td><td>0</td><td>0</td><td>0</td><td>0</td><td>1</td><td>0</td><td>0</td><td>0</td><td>0</td><td>0</td><td>0</td><td>0</td><td>0</td><td>0</td><td>d6dae86b7</td><td>2</td><td>2</td><td>0</td><td>4</td><td>yes</td><td>9 </td><td>no</td><td>10</td><td>1</td><td>0</td><td>0</td><td>0</td><td>0</td><td>0</td><td>0</td><td>0</td><td>0</td><td>1</td><td>4.000000</td><td>0</td><td>0</td><td>1</td><td>0</td><td>0</td><td>0</td><td>0</td><td>1</td><td>1</td><td>1</td><td>0</td><td>0</td><td>0</td><td>0</td><td>0</td><td>1</td><td>0</td><td> 7</td><td>  0</td><td>  49</td><td>16</td><td> 81</td><td>4</td><td>16.000000</td><td> 1</td><td>100</td><td>  49</td><td>4</td></tr>\n",
              "\t<tr><th scope=row>9</th><td>ID_1284f8aad</td><td>130000</td><td>1</td><td>2</td><td>0</td><td>1</td><td>1</td><td>0</td><td>1</td><td>0</td><td>1</td><td>1</td><td>2</td><td>1</td><td>3</td><td>2</td><td>2</td><td>4</td><td>4</td><td>4</td><td> 9</td><td>4</td><td>1</td><td>0</td><td>0</td><td>0</td><td>0</td><td>0</td><td>0</td><td>0</td><td>1</td><td>0</td><td>0</td><td>0</td><td>0</td><td>0</td><td>1</td><td>0</td><td>0</td><td>0</td><td>1</td><td>1</td><td>0</td><td>0</td><td>1</td><td>0</td><td>0</td><td>0</td><td>0</td><td>1</td><td>0</td><td>0</td><td>0</td><td>0</td><td>0</td><td>1</td><td>0</td><td>1</td><td>0</td><td>0</td><td>0</td><td>0</td><td>0</td><td>1</td><td>0</td><td>0</td><td>1</td><td>0</td><td>0</td><td>0</td><td>1</td><td>0</td><td>0</td><td>1</td><td>0</td><td>0</td><td>1</td><td>0</td><td>0</td><td>0</td><td>0</td><td>0</td><td>1</td><td>0</td><td>0</td><td>0</td><td>0</td><td>0</td><td>0</td><td>0</td><td>0</td><td>0</td><td>0</td><td>0</td><td>d6dae86b7</td><td>2</td><td>2</td><td>0</td><td>4</td><td>yes</td><td>9 </td><td>no</td><td>10</td><td>0</td><td>0</td><td>0</td><td>1</td><td>0</td><td>0</td><td>0</td><td>0</td><td>0</td><td>1</td><td>4.000000</td><td>0</td><td>0</td><td>1</td><td>0</td><td>0</td><td>0</td><td>0</td><td>1</td><td>1</td><td>1</td><td>0</td><td>0</td><td>0</td><td>0</td><td>0</td><td>1</td><td>0</td><td>30</td><td> 81</td><td> 900</td><td>16</td><td> 81</td><td>4</td><td>16.000000</td><td> 1</td><td>100</td><td> 900</td><td>4</td></tr>\n",
              "\t<tr><th scope=row>10</th><td>ID_51f52fdd2</td><td>130000</td><td>1</td><td>2</td><td>0</td><td>1</td><td>1</td><td>0</td><td>1</td><td>0</td><td>1</td><td>1</td><td>2</td><td>1</td><td>3</td><td>2</td><td>2</td><td>4</td><td>4</td><td>4</td><td>11</td><td>4</td><td>1</td><td>0</td><td>0</td><td>0</td><td>0</td><td>0</td><td>0</td><td>0</td><td>1</td><td>0</td><td>0</td><td>0</td><td>0</td><td>0</td><td>1</td><td>0</td><td>0</td><td>0</td><td>1</td><td>1</td><td>0</td><td>0</td><td>1</td><td>0</td><td>0</td><td>0</td><td>0</td><td>1</td><td>0</td><td>0</td><td>0</td><td>0</td><td>0</td><td>1</td><td>0</td><td>1</td><td>0</td><td>0</td><td>0</td><td>0</td><td>0</td><td>1</td><td>0</td><td>0</td><td>1</td><td>0</td><td>0</td><td>0</td><td>1</td><td>0</td><td>0</td><td>0</td><td>1</td><td>0</td><td>1</td><td>0</td><td>0</td><td>0</td><td>0</td><td>0</td><td>0</td><td>1</td><td>0</td><td>0</td><td>0</td><td>0</td><td>0</td><td>0</td><td>0</td><td>0</td><td>0</td><td>0</td><td>d6dae86b7</td><td>2</td><td>2</td><td>0</td><td>4</td><td>yes</td><td>9 </td><td>no</td><td>10</td><td>0</td><td>0</td><td>0</td><td>0</td><td>1</td><td>0</td><td>0</td><td>0</td><td>0</td><td>1</td><td>4.000000</td><td>0</td><td>0</td><td>1</td><td>0</td><td>0</td><td>0</td><td>0</td><td>1</td><td>1</td><td>1</td><td>0</td><td>0</td><td>0</td><td>0</td><td>0</td><td>1</td><td>0</td><td>28</td><td>121</td><td> 784</td><td>16</td><td> 81</td><td>4</td><td>16.000000</td><td> 1</td><td>100</td><td> 784</td><td>4</td></tr>\n",
              "</tbody>\n",
              "</table>\n"
            ]
          },
          "metadata": {}
        }
      ]
    },
    {
      "cell_type": "code",
      "metadata": {
        "colab": {
          "base_uri": "https://localhost:8080/",
          "height": 405
        },
        "id": "byXUq35zAtk7",
        "outputId": "6cfc7489-135f-4ecd-81b4-51e37070bc01"
      },
      "source": [
        "train %>%\n",
        "  select_if(is.character) %>%\n",
        "  head(10)"
      ],
      "execution_count": 16,
      "outputs": [
        {
          "output_type": "display_data",
          "data": {
            "text/plain": [
              "   Id           idhogar   dependency edjefe edjefa\n",
              "1  ID_279628684 21eb7fcc1 no         10     no    \n",
              "2  ID_f29eb3ddd 0e5d7a658 8          12     no    \n",
              "3  ID_68de51c94 2c7317ea8 8          no     11    \n",
              "4  ID_d671db89c 2b58d945f yes        11     no    \n",
              "5  ID_d56d6f5f5 2b58d945f yes        11     no    \n",
              "6  ID_ec05b1a7b 2b58d945f yes        11     no    \n",
              "7  ID_e9e0c1100 2b58d945f yes        11     no    \n",
              "8  ID_3e04e571e d6dae86b7 yes        9      no    \n",
              "9  ID_1284f8aad d6dae86b7 yes        9      no    \n",
              "10 ID_51f52fdd2 d6dae86b7 yes        9      no    "
            ],
            "text/latex": "A data.frame: 10 × 5\n\\begin{tabular}{r|lllll}\n  & Id & idhogar & dependency & edjefe & edjefa\\\\\n  & <chr> & <chr> & <chr> & <chr> & <chr>\\\\\n\\hline\n\t1 & ID\\_279628684 & 21eb7fcc1 & no  & 10 & no\\\\\n\t2 & ID\\_f29eb3ddd & 0e5d7a658 & 8   & 12 & no\\\\\n\t3 & ID\\_68de51c94 & 2c7317ea8 & 8   & no & 11\\\\\n\t4 & ID\\_d671db89c & 2b58d945f & yes & 11 & no\\\\\n\t5 & ID\\_d56d6f5f5 & 2b58d945f & yes & 11 & no\\\\\n\t6 & ID\\_ec05b1a7b & 2b58d945f & yes & 11 & no\\\\\n\t7 & ID\\_e9e0c1100 & 2b58d945f & yes & 11 & no\\\\\n\t8 & ID\\_3e04e571e & d6dae86b7 & yes & 9  & no\\\\\n\t9 & ID\\_1284f8aad & d6dae86b7 & yes & 9  & no\\\\\n\t10 & ID\\_51f52fdd2 & d6dae86b7 & yes & 9  & no\\\\\n\\end{tabular}\n",
            "text/markdown": "\nA data.frame: 10 × 5\n\n| <!--/--> | Id &lt;chr&gt; | idhogar &lt;chr&gt; | dependency &lt;chr&gt; | edjefe &lt;chr&gt; | edjefa &lt;chr&gt; |\n|---|---|---|---|---|---|\n| 1 | ID_279628684 | 21eb7fcc1 | no  | 10 | no |\n| 2 | ID_f29eb3ddd | 0e5d7a658 | 8   | 12 | no |\n| 3 | ID_68de51c94 | 2c7317ea8 | 8   | no | 11 |\n| 4 | ID_d671db89c | 2b58d945f | yes | 11 | no |\n| 5 | ID_d56d6f5f5 | 2b58d945f | yes | 11 | no |\n| 6 | ID_ec05b1a7b | 2b58d945f | yes | 11 | no |\n| 7 | ID_e9e0c1100 | 2b58d945f | yes | 11 | no |\n| 8 | ID_3e04e571e | d6dae86b7 | yes | 9  | no |\n| 9 | ID_1284f8aad | d6dae86b7 | yes | 9  | no |\n| 10 | ID_51f52fdd2 | d6dae86b7 | yes | 9  | no |\n\n",
            "text/html": [
              "<table class=\"dataframe\">\n",
              "<caption>A data.frame: 10 × 5</caption>\n",
              "<thead>\n",
              "\t<tr><th></th><th scope=col>Id</th><th scope=col>idhogar</th><th scope=col>dependency</th><th scope=col>edjefe</th><th scope=col>edjefa</th></tr>\n",
              "\t<tr><th></th><th scope=col>&lt;chr&gt;</th><th scope=col>&lt;chr&gt;</th><th scope=col>&lt;chr&gt;</th><th scope=col>&lt;chr&gt;</th><th scope=col>&lt;chr&gt;</th></tr>\n",
              "</thead>\n",
              "<tbody>\n",
              "\t<tr><th scope=row>1</th><td>ID_279628684</td><td>21eb7fcc1</td><td>no </td><td>10</td><td>no</td></tr>\n",
              "\t<tr><th scope=row>2</th><td>ID_f29eb3ddd</td><td>0e5d7a658</td><td>8  </td><td>12</td><td>no</td></tr>\n",
              "\t<tr><th scope=row>3</th><td>ID_68de51c94</td><td>2c7317ea8</td><td>8  </td><td>no</td><td>11</td></tr>\n",
              "\t<tr><th scope=row>4</th><td>ID_d671db89c</td><td>2b58d945f</td><td>yes</td><td>11</td><td>no</td></tr>\n",
              "\t<tr><th scope=row>5</th><td>ID_d56d6f5f5</td><td>2b58d945f</td><td>yes</td><td>11</td><td>no</td></tr>\n",
              "\t<tr><th scope=row>6</th><td>ID_ec05b1a7b</td><td>2b58d945f</td><td>yes</td><td>11</td><td>no</td></tr>\n",
              "\t<tr><th scope=row>7</th><td>ID_e9e0c1100</td><td>2b58d945f</td><td>yes</td><td>11</td><td>no</td></tr>\n",
              "\t<tr><th scope=row>8</th><td>ID_3e04e571e</td><td>d6dae86b7</td><td>yes</td><td>9 </td><td>no</td></tr>\n",
              "\t<tr><th scope=row>9</th><td>ID_1284f8aad</td><td>d6dae86b7</td><td>yes</td><td>9 </td><td>no</td></tr>\n",
              "\t<tr><th scope=row>10</th><td>ID_51f52fdd2</td><td>d6dae86b7</td><td>yes</td><td>9 </td><td>no</td></tr>\n",
              "</tbody>\n",
              "</table>\n"
            ]
          },
          "metadata": {}
        }
      ]
    },
    {
      "cell_type": "markdown",
      "metadata": {
        "id": "-Bfpm4dM-mE6"
      },
      "source": [
        "Id column not needed for classification, though keep for right now \n",
        "\n",
        "'idhogar' column : Household level identifier (find number of unique values and figure out)\n",
        "\n",
        "'dependency' : Dependency rate\n",
        "\n",
        "'edjefe' : Years of education for male head of family (replace 'no' with zero)\n",
        "\n",
        "'edjefa' : Years of education for female head of family (replace 'no' with zero)\n"
      ]
    },
    {
      "cell_type": "code",
      "metadata": {
        "colab": {
          "base_uri": "https://localhost:8080/",
          "height": 161
        },
        "id": "Wawl_UlrBo_L",
        "outputId": "f6ba0f2a-d77e-4692-fe1f-1c04eaa2b521"
      },
      "source": [
        "count(unique(train[c('idhogar')]))"
      ],
      "execution_count": 17,
      "outputs": [
        {
          "output_type": "display_data",
          "data": {
            "text/plain": [
              "  n   \n",
              "1 2988"
            ],
            "text/latex": "A data.frame: 1 × 1\n\\begin{tabular}{l}\n n\\\\\n <int>\\\\\n\\hline\n\t 2988\\\\\n\\end{tabular}\n",
            "text/markdown": "\nA data.frame: 1 × 1\n\n| n &lt;int&gt; |\n|---|\n| 2988 |\n\n",
            "text/html": [
              "<table class=\"dataframe\">\n",
              "<caption>A data.frame: 1 × 1</caption>\n",
              "<thead>\n",
              "\t<tr><th scope=col>n</th></tr>\n",
              "\t<tr><th scope=col>&lt;int&gt;</th></tr>\n",
              "</thead>\n",
              "<tbody>\n",
              "\t<tr><td>2988</td></tr>\n",
              "</tbody>\n",
              "</table>\n"
            ]
          },
          "metadata": {}
        }
      ]
    },
    {
      "cell_type": "code",
      "metadata": {
        "colab": {
          "base_uri": "https://localhost:8080/",
          "height": 1000
        },
        "id": "P2mAhpiyinED",
        "outputId": "3d0f92a0-397d-4c41-d7ba-3036dad2b90b"
      },
      "source": [
        "as.data.frame(table(train$idhogar))"
      ],
      "execution_count": 18,
      "outputs": [
        {
          "output_type": "display_data",
          "data": {
            "text/plain": [
              "     Var1      Freq\n",
              "1    001ff74ca 2   \n",
              "2    003123ec2 4   \n",
              "3    004616164 2   \n",
              "4    004983866 2   \n",
              "5    005905417 3   \n",
              "6    006031de3 4   \n",
              "7    006555fe2 5   \n",
              "8    00693f597 4   \n",
              "9    006b64543 2   \n",
              "10   00941f1f4 4   \n",
              "11   009ae1cec 3   \n",
              "12   00e3e05c5 3   \n",
              "13   00e443b00 1   \n",
              "14   00edc0d0f 6   \n",
              "15   0108c62b8 6   \n",
              "16   013962b12 2   \n",
              "17   013e9ee6a 2   \n",
              "18   0172ab1d9 5   \n",
              "19   0194d569d 1   \n",
              "20   01c6fcb6e 1   \n",
              "21   01d2e2b0b 3   \n",
              "22   01ff6a086 2   \n",
              "23   020713493 1   \n",
              "24   023edfed0 3   \n",
              "25   0250e0b59 3   \n",
              "26   027651991 1   \n",
              "27   029f3d736 4   \n",
              "28   02a3da971 2   \n",
              "29   02ae50d8f 2   \n",
              "30   02e9bb4e7 3   \n",
              "31   02f34e26c 6   \n",
              "32   02ff93d1e 6   \n",
              "33   032d9f940 6   \n",
              "34   033c39c5c 4   \n",
              "35   035bb4b72 6   \n",
              "36   0369a5d78 3   \n",
              "37   039745cbe 3   \n",
              "38   03b23f2b1 4   \n",
              "39   03c6bdf85 2   \n",
              "40   03c78a7a9 4   \n",
              "41   03d27346e 3   \n",
              "42   03f00ec52 3   \n",
              "43   03f4e5f4d 3   \n",
              "44   043cef77c 2   \n",
              "45   045038655 1   \n",
              "46   0473832dd 4   \n",
              "47   047659c0f 2   \n",
              "48   048d64af0 2   \n",
              "49   04a032c94 2   \n",
              "50   04a8915f6 6   \n",
              "51   04b02301b 3   \n",
              "52   04b0f3f3a 3   \n",
              "53   04d0d0d8f 4   \n",
              "54   04d8420a2 3   \n",
              "55   0511912b6 4   \n",
              "56   0519a23f5 3   \n",
              "57   051f67b16 4   \n",
              "58   052da118c 1   \n",
              "59   053f09ebb 1   \n",
              "60   054074f61 6   \n",
              "61   0564f49cd 3   \n",
              "62   0566c116a 2   \n",
              "63   058a60804 4   \n",
              "64   0592dc939 7   \n",
              "65   05aef4eec 5   \n",
              "66   05b0d51e9 2   \n",
              "67   05e1d4a10 3   \n",
              "68   05e6eeead 2   \n",
              "69   05eff3d5c 6   \n",
              "70   060027579 3   \n",
              "71   0605671a3 3   \n",
              "72   06089482a 2   \n",
              "73   0609006f6 2   \n",
              "74   061f8ffcf 4   \n",
              "75   06219c98f 5   \n",
              "76   0626809c8 4   \n",
              "77   06325b3e6 4   \n",
              "78   0664cd4f0 5   \n",
              "79   0667ebc47 2   \n",
              "80   066ca7a0a 2   \n",
              "81   0673a6cf3 2   \n",
              "82   06749e51e 4   \n",
              "83   06804be1b 5   \n",
              "84   0681b11c9 1   \n",
              "85   068a639e5 3   \n",
              "86   06ca88023 9   \n",
              "87   06dba0576 5   \n",
              "88   070cdf915 3   \n",
              "89   07102d194 5   \n",
              "90   0723fe311 3   \n",
              "91   075a0a458 4   \n",
              "92   077941bc7 4   \n",
              "93   078a0b6e2 4   \n",
              "94   078a9a68e 5   \n",
              "95   07a5de1ba 3   \n",
              "96   07a6cc87c 2   \n",
              "97   07b8d09c3 3   \n",
              "98   07d417b1c 5   \n",
              "99   07f016cb5 3   \n",
              "100  07f72c01f 5   \n",
              "⋮    ⋮         ⋮   \n",
              "2889 f9480a013  1  \n",
              "2890 f954c1672  2  \n",
              "2891 f95f4c3a5  6  \n",
              "2892 f9634beb0  2  \n",
              "2893 f97932c13  4  \n",
              "2894 f99e7492c  1  \n",
              "2895 f9c0a2afc  2  \n",
              "2896 f9c2c1a9e  4  \n",
              "2897 f9ddb6edf  1  \n",
              "2898 f9ddcc4b3  3  \n",
              "2899 f9ee51f96  1  \n",
              "2900 f9f25ae5a  3  \n",
              "2901 fa044cfe0  2  \n",
              "2902 fa134e144  2  \n",
              "2903 fa2b66b43  3  \n",
              "2904 fa5c14ce6  1  \n",
              "2905 fa67d6fd5  5  \n",
              "2906 fa9d626f5  3  \n",
              "2907 faa3a287f  1  \n",
              "2908 faac4b5ee  4  \n",
              "2909 faaebf71a  2  \n",
              "2910 fab04b399  4  \n",
              "2911 fabb02be9  3  \n",
              "2912 fabb317fa  2  \n",
              "2913 fac1bfb6c  3  \n",
              "2914 fade739e1  3  \n",
              "2915 fb3b48508  3  \n",
              "2916 fb45e076a  3  \n",
              "2917 fb4e4bed6  4  \n",
              "2918 fb5f0ae6c  4  \n",
              "2919 fbd0947cf  3  \n",
              "2920 fbe69128f  2  \n",
              "2921 fbf43e9b3  2  \n",
              "2922 fc19e7999  1  \n",
              "2923 fc29d47d7  7  \n",
              "2924 fc366202b  4  \n",
              "2925 fc54ed70a  5  \n",
              "2926 fc6b3afe2  5  \n",
              "2927 fc80ac809  4  \n",
              "2928 fc8ad2380  3  \n",
              "2929 fc96fa541  2  \n",
              "2930 fca2c4361  3  \n",
              "2931 fca58b10c  1  \n",
              "2932 fcaaa4204  4  \n",
              "2933 fcceed2b8  3  \n",
              "2934 fcd753529  4  \n",
              "2935 fcf75bab3  3  \n",
              "2936 fd10905bc  4  \n",
              "2937 fd22b4607  4  \n",
              "2938 fd2369f80  5  \n",
              "2939 fd40fe01a  1  \n",
              "2940 fd53f7161  6  \n",
              "2941 fd63efec3  4  \n",
              "2942 fd69ffc71  3  \n",
              "2943 fd6c635d5  4  \n",
              "2944 fd750dc9b  2  \n",
              "2945 fd80dfac4  1  \n",
              "2946 fd89cbc8b  1  \n",
              "2947 fd8a6d014 13  \n",
              "2948 fd8cd9fa1  5  \n",
              "2949 fd94bb477  2  \n",
              "2950 fda272904  2  \n",
              "2951 fdb13f946  3  \n",
              "2952 fdb188780  1  \n",
              "2953 fdc5d6c51  4  \n",
              "2954 fdd35c1ca  1  \n",
              "2955 fdda791f2  3  \n",
              "2956 fdf19ce0c  1  \n",
              "2957 fdf2567db  3  \n",
              "2958 fdfb72694  1  \n",
              "2959 fdff0dc28  2  \n",
              "2960 fe2384232  2  \n",
              "2961 fe30320e4  1  \n",
              "2962 fe30c653f  7  \n",
              "2963 fe3c1f2dd  6  \n",
              "2964 fe4251897  4  \n",
              "2965 fe4c84768  3  \n",
              "2966 fe4fe4ecc  2  \n",
              "2967 fe521cbbe  3  \n",
              "2968 fe5614212  2  \n",
              "2969 fe7cdd65c  3  \n",
              "2970 fe7dbf4cc  3  \n",
              "2971 feb080b82  1  \n",
              "2972 feb7c6365  4  \n",
              "2973 fec89ef45  2  \n",
              "2974 feccace39  5  \n",
              "2975 fed4cd160  4  \n",
              "2976 fed6bc0bd  1  \n",
              "2977 fef7fd222  4  \n",
              "2978 fef969ad9  1  \n",
              "2979 ff250fd6c  4  \n",
              "2980 ff31b984b  3  \n",
              "2981 ff38ddef1  3  \n",
              "2982 ff6d16fd0  2  \n",
              "2983 ff703eed4  6  \n",
              "2984 ff9343a35  4  \n",
              "2985 ff9d5ab17  3  \n",
              "2986 ffae4a097  2  \n",
              "2987 ffe90d46f  4  \n",
              "2988 fff7d6be1  4  "
            ],
            "text/latex": "A data.frame: 2988 × 2\n\\begin{tabular}{ll}\n Var1 & Freq\\\\\n <fct> & <int>\\\\\n\\hline\n\t 001ff74ca & 2\\\\\n\t 003123ec2 & 4\\\\\n\t 004616164 & 2\\\\\n\t 004983866 & 2\\\\\n\t 005905417 & 3\\\\\n\t 006031de3 & 4\\\\\n\t 006555fe2 & 5\\\\\n\t 00693f597 & 4\\\\\n\t 006b64543 & 2\\\\\n\t 00941f1f4 & 4\\\\\n\t 009ae1cec & 3\\\\\n\t 00e3e05c5 & 3\\\\\n\t 00e443b00 & 1\\\\\n\t 00edc0d0f & 6\\\\\n\t 0108c62b8 & 6\\\\\n\t 013962b12 & 2\\\\\n\t 013e9ee6a & 2\\\\\n\t 0172ab1d9 & 5\\\\\n\t 0194d569d & 1\\\\\n\t 01c6fcb6e & 1\\\\\n\t 01d2e2b0b & 3\\\\\n\t 01ff6a086 & 2\\\\\n\t 020713493 & 1\\\\\n\t 023edfed0 & 3\\\\\n\t 0250e0b59 & 3\\\\\n\t 027651991 & 1\\\\\n\t 029f3d736 & 4\\\\\n\t 02a3da971 & 2\\\\\n\t 02ae50d8f & 2\\\\\n\t 02e9bb4e7 & 3\\\\\n\t 02f34e26c & 6\\\\\n\t 02ff93d1e & 6\\\\\n\t 032d9f940 & 6\\\\\n\t 033c39c5c & 4\\\\\n\t 035bb4b72 & 6\\\\\n\t 0369a5d78 & 3\\\\\n\t 039745cbe & 3\\\\\n\t 03b23f2b1 & 4\\\\\n\t 03c6bdf85 & 2\\\\\n\t 03c78a7a9 & 4\\\\\n\t 03d27346e & 3\\\\\n\t 03f00ec52 & 3\\\\\n\t 03f4e5f4d & 3\\\\\n\t 043cef77c & 2\\\\\n\t 045038655 & 1\\\\\n\t 0473832dd & 4\\\\\n\t 047659c0f & 2\\\\\n\t 048d64af0 & 2\\\\\n\t 04a032c94 & 2\\\\\n\t 04a8915f6 & 6\\\\\n\t 04b02301b & 3\\\\\n\t 04b0f3f3a & 3\\\\\n\t 04d0d0d8f & 4\\\\\n\t 04d8420a2 & 3\\\\\n\t 0511912b6 & 4\\\\\n\t 0519a23f5 & 3\\\\\n\t 051f67b16 & 4\\\\\n\t 052da118c & 1\\\\\n\t 053f09ebb & 1\\\\\n\t 054074f61 & 6\\\\\n\t 0564f49cd & 3\\\\\n\t 0566c116a & 2\\\\\n\t 058a60804 & 4\\\\\n\t 0592dc939 & 7\\\\\n\t 05aef4eec & 5\\\\\n\t 05b0d51e9 & 2\\\\\n\t 05e1d4a10 & 3\\\\\n\t 05e6eeead & 2\\\\\n\t 05eff3d5c & 6\\\\\n\t 060027579 & 3\\\\\n\t 0605671a3 & 3\\\\\n\t 06089482a & 2\\\\\n\t 0609006f6 & 2\\\\\n\t 061f8ffcf & 4\\\\\n\t 06219c98f & 5\\\\\n\t 0626809c8 & 4\\\\\n\t 06325b3e6 & 4\\\\\n\t 0664cd4f0 & 5\\\\\n\t 0667ebc47 & 2\\\\\n\t 066ca7a0a & 2\\\\\n\t 0673a6cf3 & 2\\\\\n\t 06749e51e & 4\\\\\n\t 06804be1b & 5\\\\\n\t 0681b11c9 & 1\\\\\n\t 068a639e5 & 3\\\\\n\t 06ca88023 & 9\\\\\n\t 06dba0576 & 5\\\\\n\t 070cdf915 & 3\\\\\n\t 07102d194 & 5\\\\\n\t 0723fe311 & 3\\\\\n\t 075a0a458 & 4\\\\\n\t 077941bc7 & 4\\\\\n\t 078a0b6e2 & 4\\\\\n\t 078a9a68e & 5\\\\\n\t 07a5de1ba & 3\\\\\n\t 07a6cc87c & 2\\\\\n\t 07b8d09c3 & 3\\\\\n\t 07d417b1c & 5\\\\\n\t 07f016cb5 & 3\\\\\n\t 07f72c01f & 5\\\\\n\t ⋮ & ⋮\\\\\n\t f9480a013 &  1\\\\\n\t f954c1672 &  2\\\\\n\t f95f4c3a5 &  6\\\\\n\t f9634beb0 &  2\\\\\n\t f97932c13 &  4\\\\\n\t f99e7492c &  1\\\\\n\t f9c0a2afc &  2\\\\\n\t f9c2c1a9e &  4\\\\\n\t f9ddb6edf &  1\\\\\n\t f9ddcc4b3 &  3\\\\\n\t f9ee51f96 &  1\\\\\n\t f9f25ae5a &  3\\\\\n\t fa044cfe0 &  2\\\\\n\t fa134e144 &  2\\\\\n\t fa2b66b43 &  3\\\\\n\t fa5c14ce6 &  1\\\\\n\t fa67d6fd5 &  5\\\\\n\t fa9d626f5 &  3\\\\\n\t faa3a287f &  1\\\\\n\t faac4b5ee &  4\\\\\n\t faaebf71a &  2\\\\\n\t fab04b399 &  4\\\\\n\t fabb02be9 &  3\\\\\n\t fabb317fa &  2\\\\\n\t fac1bfb6c &  3\\\\\n\t fade739e1 &  3\\\\\n\t fb3b48508 &  3\\\\\n\t fb45e076a &  3\\\\\n\t fb4e4bed6 &  4\\\\\n\t fb5f0ae6c &  4\\\\\n\t fbd0947cf &  3\\\\\n\t fbe69128f &  2\\\\\n\t fbf43e9b3 &  2\\\\\n\t fc19e7999 &  1\\\\\n\t fc29d47d7 &  7\\\\\n\t fc366202b &  4\\\\\n\t fc54ed70a &  5\\\\\n\t fc6b3afe2 &  5\\\\\n\t fc80ac809 &  4\\\\\n\t fc8ad2380 &  3\\\\\n\t fc96fa541 &  2\\\\\n\t fca2c4361 &  3\\\\\n\t fca58b10c &  1\\\\\n\t fcaaa4204 &  4\\\\\n\t fcceed2b8 &  3\\\\\n\t fcd753529 &  4\\\\\n\t fcf75bab3 &  3\\\\\n\t fd10905bc &  4\\\\\n\t fd22b4607 &  4\\\\\n\t fd2369f80 &  5\\\\\n\t fd40fe01a &  1\\\\\n\t fd53f7161 &  6\\\\\n\t fd63efec3 &  4\\\\\n\t fd69ffc71 &  3\\\\\n\t fd6c635d5 &  4\\\\\n\t fd750dc9b &  2\\\\\n\t fd80dfac4 &  1\\\\\n\t fd89cbc8b &  1\\\\\n\t fd8a6d014 & 13\\\\\n\t fd8cd9fa1 &  5\\\\\n\t fd94bb477 &  2\\\\\n\t fda272904 &  2\\\\\n\t fdb13f946 &  3\\\\\n\t fdb188780 &  1\\\\\n\t fdc5d6c51 &  4\\\\\n\t fdd35c1ca &  1\\\\\n\t fdda791f2 &  3\\\\\n\t fdf19ce0c &  1\\\\\n\t fdf2567db &  3\\\\\n\t fdfb72694 &  1\\\\\n\t fdff0dc28 &  2\\\\\n\t fe2384232 &  2\\\\\n\t fe30320e4 &  1\\\\\n\t fe30c653f &  7\\\\\n\t fe3c1f2dd &  6\\\\\n\t fe4251897 &  4\\\\\n\t fe4c84768 &  3\\\\\n\t fe4fe4ecc &  2\\\\\n\t fe521cbbe &  3\\\\\n\t fe5614212 &  2\\\\\n\t fe7cdd65c &  3\\\\\n\t fe7dbf4cc &  3\\\\\n\t feb080b82 &  1\\\\\n\t feb7c6365 &  4\\\\\n\t fec89ef45 &  2\\\\\n\t feccace39 &  5\\\\\n\t fed4cd160 &  4\\\\\n\t fed6bc0bd &  1\\\\\n\t fef7fd222 &  4\\\\\n\t fef969ad9 &  1\\\\\n\t ff250fd6c &  4\\\\\n\t ff31b984b &  3\\\\\n\t ff38ddef1 &  3\\\\\n\t ff6d16fd0 &  2\\\\\n\t ff703eed4 &  6\\\\\n\t ff9343a35 &  4\\\\\n\t ff9d5ab17 &  3\\\\\n\t ffae4a097 &  2\\\\\n\t ffe90d46f &  4\\\\\n\t fff7d6be1 &  4\\\\\n\\end{tabular}\n",
            "text/markdown": "\nA data.frame: 2988 × 2\n\n| Var1 &lt;fct&gt; | Freq &lt;int&gt; |\n|---|---|\n| 001ff74ca | 2 |\n| 003123ec2 | 4 |\n| 004616164 | 2 |\n| 004983866 | 2 |\n| 005905417 | 3 |\n| 006031de3 | 4 |\n| 006555fe2 | 5 |\n| 00693f597 | 4 |\n| 006b64543 | 2 |\n| 00941f1f4 | 4 |\n| 009ae1cec | 3 |\n| 00e3e05c5 | 3 |\n| 00e443b00 | 1 |\n| 00edc0d0f | 6 |\n| 0108c62b8 | 6 |\n| 013962b12 | 2 |\n| 013e9ee6a | 2 |\n| 0172ab1d9 | 5 |\n| 0194d569d | 1 |\n| 01c6fcb6e | 1 |\n| 01d2e2b0b | 3 |\n| 01ff6a086 | 2 |\n| 020713493 | 1 |\n| 023edfed0 | 3 |\n| 0250e0b59 | 3 |\n| 027651991 | 1 |\n| 029f3d736 | 4 |\n| 02a3da971 | 2 |\n| 02ae50d8f | 2 |\n| 02e9bb4e7 | 3 |\n| 02f34e26c | 6 |\n| 02ff93d1e | 6 |\n| 032d9f940 | 6 |\n| 033c39c5c | 4 |\n| 035bb4b72 | 6 |\n| 0369a5d78 | 3 |\n| 039745cbe | 3 |\n| 03b23f2b1 | 4 |\n| 03c6bdf85 | 2 |\n| 03c78a7a9 | 4 |\n| 03d27346e | 3 |\n| 03f00ec52 | 3 |\n| 03f4e5f4d | 3 |\n| 043cef77c | 2 |\n| 045038655 | 1 |\n| 0473832dd | 4 |\n| 047659c0f | 2 |\n| 048d64af0 | 2 |\n| 04a032c94 | 2 |\n| 04a8915f6 | 6 |\n| 04b02301b | 3 |\n| 04b0f3f3a | 3 |\n| 04d0d0d8f | 4 |\n| 04d8420a2 | 3 |\n| 0511912b6 | 4 |\n| 0519a23f5 | 3 |\n| 051f67b16 | 4 |\n| 052da118c | 1 |\n| 053f09ebb | 1 |\n| 054074f61 | 6 |\n| 0564f49cd | 3 |\n| 0566c116a | 2 |\n| 058a60804 | 4 |\n| 0592dc939 | 7 |\n| 05aef4eec | 5 |\n| 05b0d51e9 | 2 |\n| 05e1d4a10 | 3 |\n| 05e6eeead | 2 |\n| 05eff3d5c | 6 |\n| 060027579 | 3 |\n| 0605671a3 | 3 |\n| 06089482a | 2 |\n| 0609006f6 | 2 |\n| 061f8ffcf | 4 |\n| 06219c98f | 5 |\n| 0626809c8 | 4 |\n| 06325b3e6 | 4 |\n| 0664cd4f0 | 5 |\n| 0667ebc47 | 2 |\n| 066ca7a0a | 2 |\n| 0673a6cf3 | 2 |\n| 06749e51e | 4 |\n| 06804be1b | 5 |\n| 0681b11c9 | 1 |\n| 068a639e5 | 3 |\n| 06ca88023 | 9 |\n| 06dba0576 | 5 |\n| 070cdf915 | 3 |\n| 07102d194 | 5 |\n| 0723fe311 | 3 |\n| 075a0a458 | 4 |\n| 077941bc7 | 4 |\n| 078a0b6e2 | 4 |\n| 078a9a68e | 5 |\n| 07a5de1ba | 3 |\n| 07a6cc87c | 2 |\n| 07b8d09c3 | 3 |\n| 07d417b1c | 5 |\n| 07f016cb5 | 3 |\n| 07f72c01f | 5 |\n| ⋮ | ⋮ |\n| f9480a013 |  1 |\n| f954c1672 |  2 |\n| f95f4c3a5 |  6 |\n| f9634beb0 |  2 |\n| f97932c13 |  4 |\n| f99e7492c |  1 |\n| f9c0a2afc |  2 |\n| f9c2c1a9e |  4 |\n| f9ddb6edf |  1 |\n| f9ddcc4b3 |  3 |\n| f9ee51f96 |  1 |\n| f9f25ae5a |  3 |\n| fa044cfe0 |  2 |\n| fa134e144 |  2 |\n| fa2b66b43 |  3 |\n| fa5c14ce6 |  1 |\n| fa67d6fd5 |  5 |\n| fa9d626f5 |  3 |\n| faa3a287f |  1 |\n| faac4b5ee |  4 |\n| faaebf71a |  2 |\n| fab04b399 |  4 |\n| fabb02be9 |  3 |\n| fabb317fa |  2 |\n| fac1bfb6c |  3 |\n| fade739e1 |  3 |\n| fb3b48508 |  3 |\n| fb45e076a |  3 |\n| fb4e4bed6 |  4 |\n| fb5f0ae6c |  4 |\n| fbd0947cf |  3 |\n| fbe69128f |  2 |\n| fbf43e9b3 |  2 |\n| fc19e7999 |  1 |\n| fc29d47d7 |  7 |\n| fc366202b |  4 |\n| fc54ed70a |  5 |\n| fc6b3afe2 |  5 |\n| fc80ac809 |  4 |\n| fc8ad2380 |  3 |\n| fc96fa541 |  2 |\n| fca2c4361 |  3 |\n| fca58b10c |  1 |\n| fcaaa4204 |  4 |\n| fcceed2b8 |  3 |\n| fcd753529 |  4 |\n| fcf75bab3 |  3 |\n| fd10905bc |  4 |\n| fd22b4607 |  4 |\n| fd2369f80 |  5 |\n| fd40fe01a |  1 |\n| fd53f7161 |  6 |\n| fd63efec3 |  4 |\n| fd69ffc71 |  3 |\n| fd6c635d5 |  4 |\n| fd750dc9b |  2 |\n| fd80dfac4 |  1 |\n| fd89cbc8b |  1 |\n| fd8a6d014 | 13 |\n| fd8cd9fa1 |  5 |\n| fd94bb477 |  2 |\n| fda272904 |  2 |\n| fdb13f946 |  3 |\n| fdb188780 |  1 |\n| fdc5d6c51 |  4 |\n| fdd35c1ca |  1 |\n| fdda791f2 |  3 |\n| fdf19ce0c |  1 |\n| fdf2567db |  3 |\n| fdfb72694 |  1 |\n| fdff0dc28 |  2 |\n| fe2384232 |  2 |\n| fe30320e4 |  1 |\n| fe30c653f |  7 |\n| fe3c1f2dd |  6 |\n| fe4251897 |  4 |\n| fe4c84768 |  3 |\n| fe4fe4ecc |  2 |\n| fe521cbbe |  3 |\n| fe5614212 |  2 |\n| fe7cdd65c |  3 |\n| fe7dbf4cc |  3 |\n| feb080b82 |  1 |\n| feb7c6365 |  4 |\n| fec89ef45 |  2 |\n| feccace39 |  5 |\n| fed4cd160 |  4 |\n| fed6bc0bd |  1 |\n| fef7fd222 |  4 |\n| fef969ad9 |  1 |\n| ff250fd6c |  4 |\n| ff31b984b |  3 |\n| ff38ddef1 |  3 |\n| ff6d16fd0 |  2 |\n| ff703eed4 |  6 |\n| ff9343a35 |  4 |\n| ff9d5ab17 |  3 |\n| ffae4a097 |  2 |\n| ffe90d46f |  4 |\n| fff7d6be1 |  4 |\n\n",
            "text/html": [
              "<table class=\"dataframe\">\n",
              "<caption>A data.frame: 2988 × 2</caption>\n",
              "<thead>\n",
              "\t<tr><th scope=col>Var1</th><th scope=col>Freq</th></tr>\n",
              "\t<tr><th scope=col>&lt;fct&gt;</th><th scope=col>&lt;int&gt;</th></tr>\n",
              "</thead>\n",
              "<tbody>\n",
              "\t<tr><td>001ff74ca</td><td>2</td></tr>\n",
              "\t<tr><td>003123ec2</td><td>4</td></tr>\n",
              "\t<tr><td>004616164</td><td>2</td></tr>\n",
              "\t<tr><td>004983866</td><td>2</td></tr>\n",
              "\t<tr><td>005905417</td><td>3</td></tr>\n",
              "\t<tr><td>006031de3</td><td>4</td></tr>\n",
              "\t<tr><td>006555fe2</td><td>5</td></tr>\n",
              "\t<tr><td>00693f597</td><td>4</td></tr>\n",
              "\t<tr><td>006b64543</td><td>2</td></tr>\n",
              "\t<tr><td>00941f1f4</td><td>4</td></tr>\n",
              "\t<tr><td>009ae1cec</td><td>3</td></tr>\n",
              "\t<tr><td>00e3e05c5</td><td>3</td></tr>\n",
              "\t<tr><td>00e443b00</td><td>1</td></tr>\n",
              "\t<tr><td>00edc0d0f</td><td>6</td></tr>\n",
              "\t<tr><td>0108c62b8</td><td>6</td></tr>\n",
              "\t<tr><td>013962b12</td><td>2</td></tr>\n",
              "\t<tr><td>013e9ee6a</td><td>2</td></tr>\n",
              "\t<tr><td>0172ab1d9</td><td>5</td></tr>\n",
              "\t<tr><td>0194d569d</td><td>1</td></tr>\n",
              "\t<tr><td>01c6fcb6e</td><td>1</td></tr>\n",
              "\t<tr><td>01d2e2b0b</td><td>3</td></tr>\n",
              "\t<tr><td>01ff6a086</td><td>2</td></tr>\n",
              "\t<tr><td>020713493</td><td>1</td></tr>\n",
              "\t<tr><td>023edfed0</td><td>3</td></tr>\n",
              "\t<tr><td>0250e0b59</td><td>3</td></tr>\n",
              "\t<tr><td>027651991</td><td>1</td></tr>\n",
              "\t<tr><td>029f3d736</td><td>4</td></tr>\n",
              "\t<tr><td>02a3da971</td><td>2</td></tr>\n",
              "\t<tr><td>02ae50d8f</td><td>2</td></tr>\n",
              "\t<tr><td>02e9bb4e7</td><td>3</td></tr>\n",
              "\t<tr><td>02f34e26c</td><td>6</td></tr>\n",
              "\t<tr><td>02ff93d1e</td><td>6</td></tr>\n",
              "\t<tr><td>032d9f940</td><td>6</td></tr>\n",
              "\t<tr><td>033c39c5c</td><td>4</td></tr>\n",
              "\t<tr><td>035bb4b72</td><td>6</td></tr>\n",
              "\t<tr><td>0369a5d78</td><td>3</td></tr>\n",
              "\t<tr><td>039745cbe</td><td>3</td></tr>\n",
              "\t<tr><td>03b23f2b1</td><td>4</td></tr>\n",
              "\t<tr><td>03c6bdf85</td><td>2</td></tr>\n",
              "\t<tr><td>03c78a7a9</td><td>4</td></tr>\n",
              "\t<tr><td>03d27346e</td><td>3</td></tr>\n",
              "\t<tr><td>03f00ec52</td><td>3</td></tr>\n",
              "\t<tr><td>03f4e5f4d</td><td>3</td></tr>\n",
              "\t<tr><td>043cef77c</td><td>2</td></tr>\n",
              "\t<tr><td>045038655</td><td>1</td></tr>\n",
              "\t<tr><td>0473832dd</td><td>4</td></tr>\n",
              "\t<tr><td>047659c0f</td><td>2</td></tr>\n",
              "\t<tr><td>048d64af0</td><td>2</td></tr>\n",
              "\t<tr><td>04a032c94</td><td>2</td></tr>\n",
              "\t<tr><td>04a8915f6</td><td>6</td></tr>\n",
              "\t<tr><td>04b02301b</td><td>3</td></tr>\n",
              "\t<tr><td>04b0f3f3a</td><td>3</td></tr>\n",
              "\t<tr><td>04d0d0d8f</td><td>4</td></tr>\n",
              "\t<tr><td>04d8420a2</td><td>3</td></tr>\n",
              "\t<tr><td>0511912b6</td><td>4</td></tr>\n",
              "\t<tr><td>0519a23f5</td><td>3</td></tr>\n",
              "\t<tr><td>051f67b16</td><td>4</td></tr>\n",
              "\t<tr><td>052da118c</td><td>1</td></tr>\n",
              "\t<tr><td>053f09ebb</td><td>1</td></tr>\n",
              "\t<tr><td>054074f61</td><td>6</td></tr>\n",
              "\t<tr><td>0564f49cd</td><td>3</td></tr>\n",
              "\t<tr><td>0566c116a</td><td>2</td></tr>\n",
              "\t<tr><td>058a60804</td><td>4</td></tr>\n",
              "\t<tr><td>0592dc939</td><td>7</td></tr>\n",
              "\t<tr><td>05aef4eec</td><td>5</td></tr>\n",
              "\t<tr><td>05b0d51e9</td><td>2</td></tr>\n",
              "\t<tr><td>05e1d4a10</td><td>3</td></tr>\n",
              "\t<tr><td>05e6eeead</td><td>2</td></tr>\n",
              "\t<tr><td>05eff3d5c</td><td>6</td></tr>\n",
              "\t<tr><td>060027579</td><td>3</td></tr>\n",
              "\t<tr><td>0605671a3</td><td>3</td></tr>\n",
              "\t<tr><td>06089482a</td><td>2</td></tr>\n",
              "\t<tr><td>0609006f6</td><td>2</td></tr>\n",
              "\t<tr><td>061f8ffcf</td><td>4</td></tr>\n",
              "\t<tr><td>06219c98f</td><td>5</td></tr>\n",
              "\t<tr><td>0626809c8</td><td>4</td></tr>\n",
              "\t<tr><td>06325b3e6</td><td>4</td></tr>\n",
              "\t<tr><td>0664cd4f0</td><td>5</td></tr>\n",
              "\t<tr><td>0667ebc47</td><td>2</td></tr>\n",
              "\t<tr><td>066ca7a0a</td><td>2</td></tr>\n",
              "\t<tr><td>0673a6cf3</td><td>2</td></tr>\n",
              "\t<tr><td>06749e51e</td><td>4</td></tr>\n",
              "\t<tr><td>06804be1b</td><td>5</td></tr>\n",
              "\t<tr><td>0681b11c9</td><td>1</td></tr>\n",
              "\t<tr><td>068a639e5</td><td>3</td></tr>\n",
              "\t<tr><td>06ca88023</td><td>9</td></tr>\n",
              "\t<tr><td>06dba0576</td><td>5</td></tr>\n",
              "\t<tr><td>070cdf915</td><td>3</td></tr>\n",
              "\t<tr><td>07102d194</td><td>5</td></tr>\n",
              "\t<tr><td>0723fe311</td><td>3</td></tr>\n",
              "\t<tr><td>075a0a458</td><td>4</td></tr>\n",
              "\t<tr><td>077941bc7</td><td>4</td></tr>\n",
              "\t<tr><td>078a0b6e2</td><td>4</td></tr>\n",
              "\t<tr><td>078a9a68e</td><td>5</td></tr>\n",
              "\t<tr><td>07a5de1ba</td><td>3</td></tr>\n",
              "\t<tr><td>07a6cc87c</td><td>2</td></tr>\n",
              "\t<tr><td>07b8d09c3</td><td>3</td></tr>\n",
              "\t<tr><td>07d417b1c</td><td>5</td></tr>\n",
              "\t<tr><td>07f016cb5</td><td>3</td></tr>\n",
              "\t<tr><td>07f72c01f</td><td>5</td></tr>\n",
              "\t<tr><td>⋮</td><td>⋮</td></tr>\n",
              "\t<tr><td>f9480a013</td><td> 1</td></tr>\n",
              "\t<tr><td>f954c1672</td><td> 2</td></tr>\n",
              "\t<tr><td>f95f4c3a5</td><td> 6</td></tr>\n",
              "\t<tr><td>f9634beb0</td><td> 2</td></tr>\n",
              "\t<tr><td>f97932c13</td><td> 4</td></tr>\n",
              "\t<tr><td>f99e7492c</td><td> 1</td></tr>\n",
              "\t<tr><td>f9c0a2afc</td><td> 2</td></tr>\n",
              "\t<tr><td>f9c2c1a9e</td><td> 4</td></tr>\n",
              "\t<tr><td>f9ddb6edf</td><td> 1</td></tr>\n",
              "\t<tr><td>f9ddcc4b3</td><td> 3</td></tr>\n",
              "\t<tr><td>f9ee51f96</td><td> 1</td></tr>\n",
              "\t<tr><td>f9f25ae5a</td><td> 3</td></tr>\n",
              "\t<tr><td>fa044cfe0</td><td> 2</td></tr>\n",
              "\t<tr><td>fa134e144</td><td> 2</td></tr>\n",
              "\t<tr><td>fa2b66b43</td><td> 3</td></tr>\n",
              "\t<tr><td>fa5c14ce6</td><td> 1</td></tr>\n",
              "\t<tr><td>fa67d6fd5</td><td> 5</td></tr>\n",
              "\t<tr><td>fa9d626f5</td><td> 3</td></tr>\n",
              "\t<tr><td>faa3a287f</td><td> 1</td></tr>\n",
              "\t<tr><td>faac4b5ee</td><td> 4</td></tr>\n",
              "\t<tr><td>faaebf71a</td><td> 2</td></tr>\n",
              "\t<tr><td>fab04b399</td><td> 4</td></tr>\n",
              "\t<tr><td>fabb02be9</td><td> 3</td></tr>\n",
              "\t<tr><td>fabb317fa</td><td> 2</td></tr>\n",
              "\t<tr><td>fac1bfb6c</td><td> 3</td></tr>\n",
              "\t<tr><td>fade739e1</td><td> 3</td></tr>\n",
              "\t<tr><td>fb3b48508</td><td> 3</td></tr>\n",
              "\t<tr><td>fb45e076a</td><td> 3</td></tr>\n",
              "\t<tr><td>fb4e4bed6</td><td> 4</td></tr>\n",
              "\t<tr><td>fb5f0ae6c</td><td> 4</td></tr>\n",
              "\t<tr><td>fbd0947cf</td><td> 3</td></tr>\n",
              "\t<tr><td>fbe69128f</td><td> 2</td></tr>\n",
              "\t<tr><td>fbf43e9b3</td><td> 2</td></tr>\n",
              "\t<tr><td>fc19e7999</td><td> 1</td></tr>\n",
              "\t<tr><td>fc29d47d7</td><td> 7</td></tr>\n",
              "\t<tr><td>fc366202b</td><td> 4</td></tr>\n",
              "\t<tr><td>fc54ed70a</td><td> 5</td></tr>\n",
              "\t<tr><td>fc6b3afe2</td><td> 5</td></tr>\n",
              "\t<tr><td>fc80ac809</td><td> 4</td></tr>\n",
              "\t<tr><td>fc8ad2380</td><td> 3</td></tr>\n",
              "\t<tr><td>fc96fa541</td><td> 2</td></tr>\n",
              "\t<tr><td>fca2c4361</td><td> 3</td></tr>\n",
              "\t<tr><td>fca58b10c</td><td> 1</td></tr>\n",
              "\t<tr><td>fcaaa4204</td><td> 4</td></tr>\n",
              "\t<tr><td>fcceed2b8</td><td> 3</td></tr>\n",
              "\t<tr><td>fcd753529</td><td> 4</td></tr>\n",
              "\t<tr><td>fcf75bab3</td><td> 3</td></tr>\n",
              "\t<tr><td>fd10905bc</td><td> 4</td></tr>\n",
              "\t<tr><td>fd22b4607</td><td> 4</td></tr>\n",
              "\t<tr><td>fd2369f80</td><td> 5</td></tr>\n",
              "\t<tr><td>fd40fe01a</td><td> 1</td></tr>\n",
              "\t<tr><td>fd53f7161</td><td> 6</td></tr>\n",
              "\t<tr><td>fd63efec3</td><td> 4</td></tr>\n",
              "\t<tr><td>fd69ffc71</td><td> 3</td></tr>\n",
              "\t<tr><td>fd6c635d5</td><td> 4</td></tr>\n",
              "\t<tr><td>fd750dc9b</td><td> 2</td></tr>\n",
              "\t<tr><td>fd80dfac4</td><td> 1</td></tr>\n",
              "\t<tr><td>fd89cbc8b</td><td> 1</td></tr>\n",
              "\t<tr><td>fd8a6d014</td><td>13</td></tr>\n",
              "\t<tr><td>fd8cd9fa1</td><td> 5</td></tr>\n",
              "\t<tr><td>fd94bb477</td><td> 2</td></tr>\n",
              "\t<tr><td>fda272904</td><td> 2</td></tr>\n",
              "\t<tr><td>fdb13f946</td><td> 3</td></tr>\n",
              "\t<tr><td>fdb188780</td><td> 1</td></tr>\n",
              "\t<tr><td>fdc5d6c51</td><td> 4</td></tr>\n",
              "\t<tr><td>fdd35c1ca</td><td> 1</td></tr>\n",
              "\t<tr><td>fdda791f2</td><td> 3</td></tr>\n",
              "\t<tr><td>fdf19ce0c</td><td> 1</td></tr>\n",
              "\t<tr><td>fdf2567db</td><td> 3</td></tr>\n",
              "\t<tr><td>fdfb72694</td><td> 1</td></tr>\n",
              "\t<tr><td>fdff0dc28</td><td> 2</td></tr>\n",
              "\t<tr><td>fe2384232</td><td> 2</td></tr>\n",
              "\t<tr><td>fe30320e4</td><td> 1</td></tr>\n",
              "\t<tr><td>fe30c653f</td><td> 7</td></tr>\n",
              "\t<tr><td>fe3c1f2dd</td><td> 6</td></tr>\n",
              "\t<tr><td>fe4251897</td><td> 4</td></tr>\n",
              "\t<tr><td>fe4c84768</td><td> 3</td></tr>\n",
              "\t<tr><td>fe4fe4ecc</td><td> 2</td></tr>\n",
              "\t<tr><td>fe521cbbe</td><td> 3</td></tr>\n",
              "\t<tr><td>fe5614212</td><td> 2</td></tr>\n",
              "\t<tr><td>fe7cdd65c</td><td> 3</td></tr>\n",
              "\t<tr><td>fe7dbf4cc</td><td> 3</td></tr>\n",
              "\t<tr><td>feb080b82</td><td> 1</td></tr>\n",
              "\t<tr><td>feb7c6365</td><td> 4</td></tr>\n",
              "\t<tr><td>fec89ef45</td><td> 2</td></tr>\n",
              "\t<tr><td>feccace39</td><td> 5</td></tr>\n",
              "\t<tr><td>fed4cd160</td><td> 4</td></tr>\n",
              "\t<tr><td>fed6bc0bd</td><td> 1</td></tr>\n",
              "\t<tr><td>fef7fd222</td><td> 4</td></tr>\n",
              "\t<tr><td>fef969ad9</td><td> 1</td></tr>\n",
              "\t<tr><td>ff250fd6c</td><td> 4</td></tr>\n",
              "\t<tr><td>ff31b984b</td><td> 3</td></tr>\n",
              "\t<tr><td>ff38ddef1</td><td> 3</td></tr>\n",
              "\t<tr><td>ff6d16fd0</td><td> 2</td></tr>\n",
              "\t<tr><td>ff703eed4</td><td> 6</td></tr>\n",
              "\t<tr><td>ff9343a35</td><td> 4</td></tr>\n",
              "\t<tr><td>ff9d5ab17</td><td> 3</td></tr>\n",
              "\t<tr><td>ffae4a097</td><td> 2</td></tr>\n",
              "\t<tr><td>ffe90d46f</td><td> 4</td></tr>\n",
              "\t<tr><td>fff7d6be1</td><td> 4</td></tr>\n",
              "</tbody>\n",
              "</table>\n"
            ]
          },
          "metadata": {}
        }
      ]
    },
    {
      "cell_type": "markdown",
      "metadata": {
        "id": "BFJQX7u7cqJu"
      },
      "source": [
        "Too many unique values with small frequencies \n",
        "\n",
        "Implementing label encoding"
      ]
    },
    {
      "cell_type": "code",
      "metadata": {
        "colab": {
          "base_uri": "https://localhost:8080/"
        },
        "id": "1Srly-Qlk09I",
        "outputId": "270ba55c-6673-4774-8ab2-8b4da3b9c174"
      },
      "source": [
        "install.packages('superml')"
      ],
      "execution_count": 19,
      "outputs": [
        {
          "output_type": "stream",
          "name": "stderr",
          "text": [
            "Installing package into ‘/usr/local/lib/R/site-library’\n",
            "(as ‘lib’ is unspecified)\n",
            "\n"
          ]
        }
      ]
    },
    {
      "cell_type": "code",
      "metadata": {
        "colab": {
          "base_uri": "https://localhost:8080/"
        },
        "id": "cMcN3WWpjgZZ",
        "outputId": "9d331d2c-4fe1-40e1-9833-1a0bfd618386"
      },
      "source": [
        "library(superml)\n",
        "label <- LabelEncoder$new()\n",
        "#print(label$fit(train$idhogar))\n",
        "train$idhogar <- label$fit_transform(train$idhogar)"
      ],
      "execution_count": 20,
      "outputs": [
        {
          "output_type": "stream",
          "name": "stderr",
          "text": [
            "Loading required package: R6\n",
            "\n"
          ]
        }
      ]
    },
    {
      "cell_type": "code",
      "metadata": {
        "colab": {
          "base_uri": "https://localhost:8080/",
          "height": 1000
        },
        "id": "OHAuBQalmRM2",
        "outputId": "73d96db8-73c4-4e75-9fd3-07e3b4908552"
      },
      "source": [
        "as.data.frame(table(train$idhogar))"
      ],
      "execution_count": 21,
      "outputs": [
        {
          "output_type": "display_data",
          "data": {
            "text/plain": [
              "     Var1 Freq\n",
              "1    0     1  \n",
              "2    1     1  \n",
              "3    2     1  \n",
              "4    3     4  \n",
              "5    4     4  \n",
              "6    5     2  \n",
              "7    6     2  \n",
              "8    7     4  \n",
              "9    8     2  \n",
              "10   9     2  \n",
              "11   10    3  \n",
              "12   11    1  \n",
              "13   12    3  \n",
              "14   13    2  \n",
              "15   14    5  \n",
              "16   15    3  \n",
              "17   16    2  \n",
              "18   17    3  \n",
              "19   18    2  \n",
              "20   19    3  \n",
              "21   20    4  \n",
              "22   21    4  \n",
              "23   22    1  \n",
              "24   23    2  \n",
              "25   24    3  \n",
              "26   25    1  \n",
              "27   26    5  \n",
              "28   27    4  \n",
              "29   28    3  \n",
              "30   29    3  \n",
              "31   30    3  \n",
              "32   31    3  \n",
              "33   32    2  \n",
              "34   33    4  \n",
              "35   34    1  \n",
              "36   35    5  \n",
              "37   36    3  \n",
              "38   37    3  \n",
              "39   38    3  \n",
              "40   39    1  \n",
              "41   40    1  \n",
              "42   41    2  \n",
              "43   42    6  \n",
              "44   43    4  \n",
              "45   44    5  \n",
              "46   45    4  \n",
              "47   46    4  \n",
              "48   47    2  \n",
              "49   48    4  \n",
              "50   49    2  \n",
              "51   50    2  \n",
              "52   51   10  \n",
              "53   52    5  \n",
              "54   53    7  \n",
              "55   54    7  \n",
              "56   55    6  \n",
              "57   56    4  \n",
              "58   57    1  \n",
              "59   58    2  \n",
              "60   59    9  \n",
              "61   60    4  \n",
              "62   61    3  \n",
              "63   62    1  \n",
              "64   63    3  \n",
              "65   64    4  \n",
              "66   65    3  \n",
              "67   66    2  \n",
              "68   67    2  \n",
              "69   68    3  \n",
              "70   69    4  \n",
              "71   70    2  \n",
              "72   71    3  \n",
              "73   72    1  \n",
              "74   73    1  \n",
              "75   74    1  \n",
              "76   75    1  \n",
              "77   76    1  \n",
              "78   77    3  \n",
              "79   78    1  \n",
              "80   79    2  \n",
              "81   80    5  \n",
              "82   81    2  \n",
              "83   82    3  \n",
              "84   83    1  \n",
              "85   84    4  \n",
              "86   85    3  \n",
              "87   86    6  \n",
              "88   87    4  \n",
              "89   88    4  \n",
              "90   89    6  \n",
              "91   90    4  \n",
              "92   91    3  \n",
              "93   92    6  \n",
              "94   93    6  \n",
              "95   94    5  \n",
              "96   95    3  \n",
              "97   96    4  \n",
              "98   97    3  \n",
              "99   98    4  \n",
              "100  99    2  \n",
              "⋮    ⋮    ⋮   \n",
              "2889 2888 1   \n",
              "2890 2889 3   \n",
              "2891 2890 2   \n",
              "2892 2891 4   \n",
              "2893 2892 1   \n",
              "2894 2893 3   \n",
              "2895 2894 1   \n",
              "2896 2895 5   \n",
              "2897 2896 2   \n",
              "2898 2897 2   \n",
              "2899 2898 5   \n",
              "2900 2899 7   \n",
              "2901 2900 3   \n",
              "2902 2901 1   \n",
              "2903 2902 4   \n",
              "2904 2903 1   \n",
              "2905 2904 3   \n",
              "2906 2905 3   \n",
              "2907 2906 1   \n",
              "2908 2907 2   \n",
              "2909 2908 3   \n",
              "2910 2909 6   \n",
              "2911 2910 6   \n",
              "2912 2911 2   \n",
              "2913 2912 5   \n",
              "2914 2913 3   \n",
              "2915 2914 2   \n",
              "2916 2915 3   \n",
              "2917 2916 4   \n",
              "2918 2917 7   \n",
              "2919 2918 2   \n",
              "2920 2919 4   \n",
              "2921 2920 4   \n",
              "2922 2921 4   \n",
              "2923 2922 6   \n",
              "2924 2923 3   \n",
              "2925 2924 3   \n",
              "2926 2925 6   \n",
              "2927 2926 8   \n",
              "2928 2927 3   \n",
              "2929 2928 4   \n",
              "2930 2929 3   \n",
              "2931 2930 5   \n",
              "2932 2931 4   \n",
              "2933 2932 3   \n",
              "2934 2933 2   \n",
              "2935 2934 3   \n",
              "2936 2935 3   \n",
              "2937 2936 3   \n",
              "2938 2937 3   \n",
              "2939 2938 6   \n",
              "2940 2939 3   \n",
              "2941 2940 4   \n",
              "2942 2941 4   \n",
              "2943 2942 2   \n",
              "2944 2943 4   \n",
              "2945 2944 2   \n",
              "2946 2945 2   \n",
              "2947 2946 3   \n",
              "2948 2947 2   \n",
              "2949 2948 7   \n",
              "2950 2949 1   \n",
              "2951 2950 3   \n",
              "2952 2951 1   \n",
              "2953 2952 1   \n",
              "2954 2953 3   \n",
              "2955 2954 3   \n",
              "2956 2955 5   \n",
              "2957 2956 6   \n",
              "2958 2957 1   \n",
              "2959 2958 2   \n",
              "2960 2959 4   \n",
              "2961 2960 2   \n",
              "2962 2961 1   \n",
              "2963 2962 1   \n",
              "2964 2963 3   \n",
              "2965 2964 3   \n",
              "2966 2965 1   \n",
              "2967 2966 4   \n",
              "2968 2967 2   \n",
              "2969 2968 2   \n",
              "2970 2969 1   \n",
              "2971 2970 1   \n",
              "2972 2971 2   \n",
              "2973 2972 2   \n",
              "2974 2973 2   \n",
              "2975 2974 2   \n",
              "2976 2975 3   \n",
              "2977 2976 3   \n",
              "2978 2977 2   \n",
              "2979 2978 4   \n",
              "2980 2979 1   \n",
              "2981 2980 2   \n",
              "2982 2981 3   \n",
              "2983 2982 1   \n",
              "2984 2983 5   \n",
              "2985 2984 5   \n",
              "2986 2985 5   \n",
              "2987 2986 2   \n",
              "2988 2987 5   "
            ],
            "text/latex": "A data.frame: 2988 × 2\n\\begin{tabular}{ll}\n Var1 & Freq\\\\\n <fct> & <int>\\\\\n\\hline\n\t 0  &  1\\\\\n\t 1  &  1\\\\\n\t 2  &  1\\\\\n\t 3  &  4\\\\\n\t 4  &  4\\\\\n\t 5  &  2\\\\\n\t 6  &  2\\\\\n\t 7  &  4\\\\\n\t 8  &  2\\\\\n\t 9  &  2\\\\\n\t 10 &  3\\\\\n\t 11 &  1\\\\\n\t 12 &  3\\\\\n\t 13 &  2\\\\\n\t 14 &  5\\\\\n\t 15 &  3\\\\\n\t 16 &  2\\\\\n\t 17 &  3\\\\\n\t 18 &  2\\\\\n\t 19 &  3\\\\\n\t 20 &  4\\\\\n\t 21 &  4\\\\\n\t 22 &  1\\\\\n\t 23 &  2\\\\\n\t 24 &  3\\\\\n\t 25 &  1\\\\\n\t 26 &  5\\\\\n\t 27 &  4\\\\\n\t 28 &  3\\\\\n\t 29 &  3\\\\\n\t 30 &  3\\\\\n\t 31 &  3\\\\\n\t 32 &  2\\\\\n\t 33 &  4\\\\\n\t 34 &  1\\\\\n\t 35 &  5\\\\\n\t 36 &  3\\\\\n\t 37 &  3\\\\\n\t 38 &  3\\\\\n\t 39 &  1\\\\\n\t 40 &  1\\\\\n\t 41 &  2\\\\\n\t 42 &  6\\\\\n\t 43 &  4\\\\\n\t 44 &  5\\\\\n\t 45 &  4\\\\\n\t 46 &  4\\\\\n\t 47 &  2\\\\\n\t 48 &  4\\\\\n\t 49 &  2\\\\\n\t 50 &  2\\\\\n\t 51 & 10\\\\\n\t 52 &  5\\\\\n\t 53 &  7\\\\\n\t 54 &  7\\\\\n\t 55 &  6\\\\\n\t 56 &  4\\\\\n\t 57 &  1\\\\\n\t 58 &  2\\\\\n\t 59 &  9\\\\\n\t 60 &  4\\\\\n\t 61 &  3\\\\\n\t 62 &  1\\\\\n\t 63 &  3\\\\\n\t 64 &  4\\\\\n\t 65 &  3\\\\\n\t 66 &  2\\\\\n\t 67 &  2\\\\\n\t 68 &  3\\\\\n\t 69 &  4\\\\\n\t 70 &  2\\\\\n\t 71 &  3\\\\\n\t 72 &  1\\\\\n\t 73 &  1\\\\\n\t 74 &  1\\\\\n\t 75 &  1\\\\\n\t 76 &  1\\\\\n\t 77 &  3\\\\\n\t 78 &  1\\\\\n\t 79 &  2\\\\\n\t 80 &  5\\\\\n\t 81 &  2\\\\\n\t 82 &  3\\\\\n\t 83 &  1\\\\\n\t 84 &  4\\\\\n\t 85 &  3\\\\\n\t 86 &  6\\\\\n\t 87 &  4\\\\\n\t 88 &  4\\\\\n\t 89 &  6\\\\\n\t 90 &  4\\\\\n\t 91 &  3\\\\\n\t 92 &  6\\\\\n\t 93 &  6\\\\\n\t 94 &  5\\\\\n\t 95 &  3\\\\\n\t 96 &  4\\\\\n\t 97 &  3\\\\\n\t 98 &  4\\\\\n\t 99 &  2\\\\\n\t ⋮ & ⋮\\\\\n\t 2888 & 1\\\\\n\t 2889 & 3\\\\\n\t 2890 & 2\\\\\n\t 2891 & 4\\\\\n\t 2892 & 1\\\\\n\t 2893 & 3\\\\\n\t 2894 & 1\\\\\n\t 2895 & 5\\\\\n\t 2896 & 2\\\\\n\t 2897 & 2\\\\\n\t 2898 & 5\\\\\n\t 2899 & 7\\\\\n\t 2900 & 3\\\\\n\t 2901 & 1\\\\\n\t 2902 & 4\\\\\n\t 2903 & 1\\\\\n\t 2904 & 3\\\\\n\t 2905 & 3\\\\\n\t 2906 & 1\\\\\n\t 2907 & 2\\\\\n\t 2908 & 3\\\\\n\t 2909 & 6\\\\\n\t 2910 & 6\\\\\n\t 2911 & 2\\\\\n\t 2912 & 5\\\\\n\t 2913 & 3\\\\\n\t 2914 & 2\\\\\n\t 2915 & 3\\\\\n\t 2916 & 4\\\\\n\t 2917 & 7\\\\\n\t 2918 & 2\\\\\n\t 2919 & 4\\\\\n\t 2920 & 4\\\\\n\t 2921 & 4\\\\\n\t 2922 & 6\\\\\n\t 2923 & 3\\\\\n\t 2924 & 3\\\\\n\t 2925 & 6\\\\\n\t 2926 & 8\\\\\n\t 2927 & 3\\\\\n\t 2928 & 4\\\\\n\t 2929 & 3\\\\\n\t 2930 & 5\\\\\n\t 2931 & 4\\\\\n\t 2932 & 3\\\\\n\t 2933 & 2\\\\\n\t 2934 & 3\\\\\n\t 2935 & 3\\\\\n\t 2936 & 3\\\\\n\t 2937 & 3\\\\\n\t 2938 & 6\\\\\n\t 2939 & 3\\\\\n\t 2940 & 4\\\\\n\t 2941 & 4\\\\\n\t 2942 & 2\\\\\n\t 2943 & 4\\\\\n\t 2944 & 2\\\\\n\t 2945 & 2\\\\\n\t 2946 & 3\\\\\n\t 2947 & 2\\\\\n\t 2948 & 7\\\\\n\t 2949 & 1\\\\\n\t 2950 & 3\\\\\n\t 2951 & 1\\\\\n\t 2952 & 1\\\\\n\t 2953 & 3\\\\\n\t 2954 & 3\\\\\n\t 2955 & 5\\\\\n\t 2956 & 6\\\\\n\t 2957 & 1\\\\\n\t 2958 & 2\\\\\n\t 2959 & 4\\\\\n\t 2960 & 2\\\\\n\t 2961 & 1\\\\\n\t 2962 & 1\\\\\n\t 2963 & 3\\\\\n\t 2964 & 3\\\\\n\t 2965 & 1\\\\\n\t 2966 & 4\\\\\n\t 2967 & 2\\\\\n\t 2968 & 2\\\\\n\t 2969 & 1\\\\\n\t 2970 & 1\\\\\n\t 2971 & 2\\\\\n\t 2972 & 2\\\\\n\t 2973 & 2\\\\\n\t 2974 & 2\\\\\n\t 2975 & 3\\\\\n\t 2976 & 3\\\\\n\t 2977 & 2\\\\\n\t 2978 & 4\\\\\n\t 2979 & 1\\\\\n\t 2980 & 2\\\\\n\t 2981 & 3\\\\\n\t 2982 & 1\\\\\n\t 2983 & 5\\\\\n\t 2984 & 5\\\\\n\t 2985 & 5\\\\\n\t 2986 & 2\\\\\n\t 2987 & 5\\\\\n\\end{tabular}\n",
            "text/markdown": "\nA data.frame: 2988 × 2\n\n| Var1 &lt;fct&gt; | Freq &lt;int&gt; |\n|---|---|\n| 0  |  1 |\n| 1  |  1 |\n| 2  |  1 |\n| 3  |  4 |\n| 4  |  4 |\n| 5  |  2 |\n| 6  |  2 |\n| 7  |  4 |\n| 8  |  2 |\n| 9  |  2 |\n| 10 |  3 |\n| 11 |  1 |\n| 12 |  3 |\n| 13 |  2 |\n| 14 |  5 |\n| 15 |  3 |\n| 16 |  2 |\n| 17 |  3 |\n| 18 |  2 |\n| 19 |  3 |\n| 20 |  4 |\n| 21 |  4 |\n| 22 |  1 |\n| 23 |  2 |\n| 24 |  3 |\n| 25 |  1 |\n| 26 |  5 |\n| 27 |  4 |\n| 28 |  3 |\n| 29 |  3 |\n| 30 |  3 |\n| 31 |  3 |\n| 32 |  2 |\n| 33 |  4 |\n| 34 |  1 |\n| 35 |  5 |\n| 36 |  3 |\n| 37 |  3 |\n| 38 |  3 |\n| 39 |  1 |\n| 40 |  1 |\n| 41 |  2 |\n| 42 |  6 |\n| 43 |  4 |\n| 44 |  5 |\n| 45 |  4 |\n| 46 |  4 |\n| 47 |  2 |\n| 48 |  4 |\n| 49 |  2 |\n| 50 |  2 |\n| 51 | 10 |\n| 52 |  5 |\n| 53 |  7 |\n| 54 |  7 |\n| 55 |  6 |\n| 56 |  4 |\n| 57 |  1 |\n| 58 |  2 |\n| 59 |  9 |\n| 60 |  4 |\n| 61 |  3 |\n| 62 |  1 |\n| 63 |  3 |\n| 64 |  4 |\n| 65 |  3 |\n| 66 |  2 |\n| 67 |  2 |\n| 68 |  3 |\n| 69 |  4 |\n| 70 |  2 |\n| 71 |  3 |\n| 72 |  1 |\n| 73 |  1 |\n| 74 |  1 |\n| 75 |  1 |\n| 76 |  1 |\n| 77 |  3 |\n| 78 |  1 |\n| 79 |  2 |\n| 80 |  5 |\n| 81 |  2 |\n| 82 |  3 |\n| 83 |  1 |\n| 84 |  4 |\n| 85 |  3 |\n| 86 |  6 |\n| 87 |  4 |\n| 88 |  4 |\n| 89 |  6 |\n| 90 |  4 |\n| 91 |  3 |\n| 92 |  6 |\n| 93 |  6 |\n| 94 |  5 |\n| 95 |  3 |\n| 96 |  4 |\n| 97 |  3 |\n| 98 |  4 |\n| 99 |  2 |\n| ⋮ | ⋮ |\n| 2888 | 1 |\n| 2889 | 3 |\n| 2890 | 2 |\n| 2891 | 4 |\n| 2892 | 1 |\n| 2893 | 3 |\n| 2894 | 1 |\n| 2895 | 5 |\n| 2896 | 2 |\n| 2897 | 2 |\n| 2898 | 5 |\n| 2899 | 7 |\n| 2900 | 3 |\n| 2901 | 1 |\n| 2902 | 4 |\n| 2903 | 1 |\n| 2904 | 3 |\n| 2905 | 3 |\n| 2906 | 1 |\n| 2907 | 2 |\n| 2908 | 3 |\n| 2909 | 6 |\n| 2910 | 6 |\n| 2911 | 2 |\n| 2912 | 5 |\n| 2913 | 3 |\n| 2914 | 2 |\n| 2915 | 3 |\n| 2916 | 4 |\n| 2917 | 7 |\n| 2918 | 2 |\n| 2919 | 4 |\n| 2920 | 4 |\n| 2921 | 4 |\n| 2922 | 6 |\n| 2923 | 3 |\n| 2924 | 3 |\n| 2925 | 6 |\n| 2926 | 8 |\n| 2927 | 3 |\n| 2928 | 4 |\n| 2929 | 3 |\n| 2930 | 5 |\n| 2931 | 4 |\n| 2932 | 3 |\n| 2933 | 2 |\n| 2934 | 3 |\n| 2935 | 3 |\n| 2936 | 3 |\n| 2937 | 3 |\n| 2938 | 6 |\n| 2939 | 3 |\n| 2940 | 4 |\n| 2941 | 4 |\n| 2942 | 2 |\n| 2943 | 4 |\n| 2944 | 2 |\n| 2945 | 2 |\n| 2946 | 3 |\n| 2947 | 2 |\n| 2948 | 7 |\n| 2949 | 1 |\n| 2950 | 3 |\n| 2951 | 1 |\n| 2952 | 1 |\n| 2953 | 3 |\n| 2954 | 3 |\n| 2955 | 5 |\n| 2956 | 6 |\n| 2957 | 1 |\n| 2958 | 2 |\n| 2959 | 4 |\n| 2960 | 2 |\n| 2961 | 1 |\n| 2962 | 1 |\n| 2963 | 3 |\n| 2964 | 3 |\n| 2965 | 1 |\n| 2966 | 4 |\n| 2967 | 2 |\n| 2968 | 2 |\n| 2969 | 1 |\n| 2970 | 1 |\n| 2971 | 2 |\n| 2972 | 2 |\n| 2973 | 2 |\n| 2974 | 2 |\n| 2975 | 3 |\n| 2976 | 3 |\n| 2977 | 2 |\n| 2978 | 4 |\n| 2979 | 1 |\n| 2980 | 2 |\n| 2981 | 3 |\n| 2982 | 1 |\n| 2983 | 5 |\n| 2984 | 5 |\n| 2985 | 5 |\n| 2986 | 2 |\n| 2987 | 5 |\n\n",
            "text/html": [
              "<table class=\"dataframe\">\n",
              "<caption>A data.frame: 2988 × 2</caption>\n",
              "<thead>\n",
              "\t<tr><th scope=col>Var1</th><th scope=col>Freq</th></tr>\n",
              "\t<tr><th scope=col>&lt;fct&gt;</th><th scope=col>&lt;int&gt;</th></tr>\n",
              "</thead>\n",
              "<tbody>\n",
              "\t<tr><td>0 </td><td> 1</td></tr>\n",
              "\t<tr><td>1 </td><td> 1</td></tr>\n",
              "\t<tr><td>2 </td><td> 1</td></tr>\n",
              "\t<tr><td>3 </td><td> 4</td></tr>\n",
              "\t<tr><td>4 </td><td> 4</td></tr>\n",
              "\t<tr><td>5 </td><td> 2</td></tr>\n",
              "\t<tr><td>6 </td><td> 2</td></tr>\n",
              "\t<tr><td>7 </td><td> 4</td></tr>\n",
              "\t<tr><td>8 </td><td> 2</td></tr>\n",
              "\t<tr><td>9 </td><td> 2</td></tr>\n",
              "\t<tr><td>10</td><td> 3</td></tr>\n",
              "\t<tr><td>11</td><td> 1</td></tr>\n",
              "\t<tr><td>12</td><td> 3</td></tr>\n",
              "\t<tr><td>13</td><td> 2</td></tr>\n",
              "\t<tr><td>14</td><td> 5</td></tr>\n",
              "\t<tr><td>15</td><td> 3</td></tr>\n",
              "\t<tr><td>16</td><td> 2</td></tr>\n",
              "\t<tr><td>17</td><td> 3</td></tr>\n",
              "\t<tr><td>18</td><td> 2</td></tr>\n",
              "\t<tr><td>19</td><td> 3</td></tr>\n",
              "\t<tr><td>20</td><td> 4</td></tr>\n",
              "\t<tr><td>21</td><td> 4</td></tr>\n",
              "\t<tr><td>22</td><td> 1</td></tr>\n",
              "\t<tr><td>23</td><td> 2</td></tr>\n",
              "\t<tr><td>24</td><td> 3</td></tr>\n",
              "\t<tr><td>25</td><td> 1</td></tr>\n",
              "\t<tr><td>26</td><td> 5</td></tr>\n",
              "\t<tr><td>27</td><td> 4</td></tr>\n",
              "\t<tr><td>28</td><td> 3</td></tr>\n",
              "\t<tr><td>29</td><td> 3</td></tr>\n",
              "\t<tr><td>30</td><td> 3</td></tr>\n",
              "\t<tr><td>31</td><td> 3</td></tr>\n",
              "\t<tr><td>32</td><td> 2</td></tr>\n",
              "\t<tr><td>33</td><td> 4</td></tr>\n",
              "\t<tr><td>34</td><td> 1</td></tr>\n",
              "\t<tr><td>35</td><td> 5</td></tr>\n",
              "\t<tr><td>36</td><td> 3</td></tr>\n",
              "\t<tr><td>37</td><td> 3</td></tr>\n",
              "\t<tr><td>38</td><td> 3</td></tr>\n",
              "\t<tr><td>39</td><td> 1</td></tr>\n",
              "\t<tr><td>40</td><td> 1</td></tr>\n",
              "\t<tr><td>41</td><td> 2</td></tr>\n",
              "\t<tr><td>42</td><td> 6</td></tr>\n",
              "\t<tr><td>43</td><td> 4</td></tr>\n",
              "\t<tr><td>44</td><td> 5</td></tr>\n",
              "\t<tr><td>45</td><td> 4</td></tr>\n",
              "\t<tr><td>46</td><td> 4</td></tr>\n",
              "\t<tr><td>47</td><td> 2</td></tr>\n",
              "\t<tr><td>48</td><td> 4</td></tr>\n",
              "\t<tr><td>49</td><td> 2</td></tr>\n",
              "\t<tr><td>50</td><td> 2</td></tr>\n",
              "\t<tr><td>51</td><td>10</td></tr>\n",
              "\t<tr><td>52</td><td> 5</td></tr>\n",
              "\t<tr><td>53</td><td> 7</td></tr>\n",
              "\t<tr><td>54</td><td> 7</td></tr>\n",
              "\t<tr><td>55</td><td> 6</td></tr>\n",
              "\t<tr><td>56</td><td> 4</td></tr>\n",
              "\t<tr><td>57</td><td> 1</td></tr>\n",
              "\t<tr><td>58</td><td> 2</td></tr>\n",
              "\t<tr><td>59</td><td> 9</td></tr>\n",
              "\t<tr><td>60</td><td> 4</td></tr>\n",
              "\t<tr><td>61</td><td> 3</td></tr>\n",
              "\t<tr><td>62</td><td> 1</td></tr>\n",
              "\t<tr><td>63</td><td> 3</td></tr>\n",
              "\t<tr><td>64</td><td> 4</td></tr>\n",
              "\t<tr><td>65</td><td> 3</td></tr>\n",
              "\t<tr><td>66</td><td> 2</td></tr>\n",
              "\t<tr><td>67</td><td> 2</td></tr>\n",
              "\t<tr><td>68</td><td> 3</td></tr>\n",
              "\t<tr><td>69</td><td> 4</td></tr>\n",
              "\t<tr><td>70</td><td> 2</td></tr>\n",
              "\t<tr><td>71</td><td> 3</td></tr>\n",
              "\t<tr><td>72</td><td> 1</td></tr>\n",
              "\t<tr><td>73</td><td> 1</td></tr>\n",
              "\t<tr><td>74</td><td> 1</td></tr>\n",
              "\t<tr><td>75</td><td> 1</td></tr>\n",
              "\t<tr><td>76</td><td> 1</td></tr>\n",
              "\t<tr><td>77</td><td> 3</td></tr>\n",
              "\t<tr><td>78</td><td> 1</td></tr>\n",
              "\t<tr><td>79</td><td> 2</td></tr>\n",
              "\t<tr><td>80</td><td> 5</td></tr>\n",
              "\t<tr><td>81</td><td> 2</td></tr>\n",
              "\t<tr><td>82</td><td> 3</td></tr>\n",
              "\t<tr><td>83</td><td> 1</td></tr>\n",
              "\t<tr><td>84</td><td> 4</td></tr>\n",
              "\t<tr><td>85</td><td> 3</td></tr>\n",
              "\t<tr><td>86</td><td> 6</td></tr>\n",
              "\t<tr><td>87</td><td> 4</td></tr>\n",
              "\t<tr><td>88</td><td> 4</td></tr>\n",
              "\t<tr><td>89</td><td> 6</td></tr>\n",
              "\t<tr><td>90</td><td> 4</td></tr>\n",
              "\t<tr><td>91</td><td> 3</td></tr>\n",
              "\t<tr><td>92</td><td> 6</td></tr>\n",
              "\t<tr><td>93</td><td> 6</td></tr>\n",
              "\t<tr><td>94</td><td> 5</td></tr>\n",
              "\t<tr><td>95</td><td> 3</td></tr>\n",
              "\t<tr><td>96</td><td> 4</td></tr>\n",
              "\t<tr><td>97</td><td> 3</td></tr>\n",
              "\t<tr><td>98</td><td> 4</td></tr>\n",
              "\t<tr><td>99</td><td> 2</td></tr>\n",
              "\t<tr><td>⋮</td><td>⋮</td></tr>\n",
              "\t<tr><td>2888</td><td>1</td></tr>\n",
              "\t<tr><td>2889</td><td>3</td></tr>\n",
              "\t<tr><td>2890</td><td>2</td></tr>\n",
              "\t<tr><td>2891</td><td>4</td></tr>\n",
              "\t<tr><td>2892</td><td>1</td></tr>\n",
              "\t<tr><td>2893</td><td>3</td></tr>\n",
              "\t<tr><td>2894</td><td>1</td></tr>\n",
              "\t<tr><td>2895</td><td>5</td></tr>\n",
              "\t<tr><td>2896</td><td>2</td></tr>\n",
              "\t<tr><td>2897</td><td>2</td></tr>\n",
              "\t<tr><td>2898</td><td>5</td></tr>\n",
              "\t<tr><td>2899</td><td>7</td></tr>\n",
              "\t<tr><td>2900</td><td>3</td></tr>\n",
              "\t<tr><td>2901</td><td>1</td></tr>\n",
              "\t<tr><td>2902</td><td>4</td></tr>\n",
              "\t<tr><td>2903</td><td>1</td></tr>\n",
              "\t<tr><td>2904</td><td>3</td></tr>\n",
              "\t<tr><td>2905</td><td>3</td></tr>\n",
              "\t<tr><td>2906</td><td>1</td></tr>\n",
              "\t<tr><td>2907</td><td>2</td></tr>\n",
              "\t<tr><td>2908</td><td>3</td></tr>\n",
              "\t<tr><td>2909</td><td>6</td></tr>\n",
              "\t<tr><td>2910</td><td>6</td></tr>\n",
              "\t<tr><td>2911</td><td>2</td></tr>\n",
              "\t<tr><td>2912</td><td>5</td></tr>\n",
              "\t<tr><td>2913</td><td>3</td></tr>\n",
              "\t<tr><td>2914</td><td>2</td></tr>\n",
              "\t<tr><td>2915</td><td>3</td></tr>\n",
              "\t<tr><td>2916</td><td>4</td></tr>\n",
              "\t<tr><td>2917</td><td>7</td></tr>\n",
              "\t<tr><td>2918</td><td>2</td></tr>\n",
              "\t<tr><td>2919</td><td>4</td></tr>\n",
              "\t<tr><td>2920</td><td>4</td></tr>\n",
              "\t<tr><td>2921</td><td>4</td></tr>\n",
              "\t<tr><td>2922</td><td>6</td></tr>\n",
              "\t<tr><td>2923</td><td>3</td></tr>\n",
              "\t<tr><td>2924</td><td>3</td></tr>\n",
              "\t<tr><td>2925</td><td>6</td></tr>\n",
              "\t<tr><td>2926</td><td>8</td></tr>\n",
              "\t<tr><td>2927</td><td>3</td></tr>\n",
              "\t<tr><td>2928</td><td>4</td></tr>\n",
              "\t<tr><td>2929</td><td>3</td></tr>\n",
              "\t<tr><td>2930</td><td>5</td></tr>\n",
              "\t<tr><td>2931</td><td>4</td></tr>\n",
              "\t<tr><td>2932</td><td>3</td></tr>\n",
              "\t<tr><td>2933</td><td>2</td></tr>\n",
              "\t<tr><td>2934</td><td>3</td></tr>\n",
              "\t<tr><td>2935</td><td>3</td></tr>\n",
              "\t<tr><td>2936</td><td>3</td></tr>\n",
              "\t<tr><td>2937</td><td>3</td></tr>\n",
              "\t<tr><td>2938</td><td>6</td></tr>\n",
              "\t<tr><td>2939</td><td>3</td></tr>\n",
              "\t<tr><td>2940</td><td>4</td></tr>\n",
              "\t<tr><td>2941</td><td>4</td></tr>\n",
              "\t<tr><td>2942</td><td>2</td></tr>\n",
              "\t<tr><td>2943</td><td>4</td></tr>\n",
              "\t<tr><td>2944</td><td>2</td></tr>\n",
              "\t<tr><td>2945</td><td>2</td></tr>\n",
              "\t<tr><td>2946</td><td>3</td></tr>\n",
              "\t<tr><td>2947</td><td>2</td></tr>\n",
              "\t<tr><td>2948</td><td>7</td></tr>\n",
              "\t<tr><td>2949</td><td>1</td></tr>\n",
              "\t<tr><td>2950</td><td>3</td></tr>\n",
              "\t<tr><td>2951</td><td>1</td></tr>\n",
              "\t<tr><td>2952</td><td>1</td></tr>\n",
              "\t<tr><td>2953</td><td>3</td></tr>\n",
              "\t<tr><td>2954</td><td>3</td></tr>\n",
              "\t<tr><td>2955</td><td>5</td></tr>\n",
              "\t<tr><td>2956</td><td>6</td></tr>\n",
              "\t<tr><td>2957</td><td>1</td></tr>\n",
              "\t<tr><td>2958</td><td>2</td></tr>\n",
              "\t<tr><td>2959</td><td>4</td></tr>\n",
              "\t<tr><td>2960</td><td>2</td></tr>\n",
              "\t<tr><td>2961</td><td>1</td></tr>\n",
              "\t<tr><td>2962</td><td>1</td></tr>\n",
              "\t<tr><td>2963</td><td>3</td></tr>\n",
              "\t<tr><td>2964</td><td>3</td></tr>\n",
              "\t<tr><td>2965</td><td>1</td></tr>\n",
              "\t<tr><td>2966</td><td>4</td></tr>\n",
              "\t<tr><td>2967</td><td>2</td></tr>\n",
              "\t<tr><td>2968</td><td>2</td></tr>\n",
              "\t<tr><td>2969</td><td>1</td></tr>\n",
              "\t<tr><td>2970</td><td>1</td></tr>\n",
              "\t<tr><td>2971</td><td>2</td></tr>\n",
              "\t<tr><td>2972</td><td>2</td></tr>\n",
              "\t<tr><td>2973</td><td>2</td></tr>\n",
              "\t<tr><td>2974</td><td>2</td></tr>\n",
              "\t<tr><td>2975</td><td>3</td></tr>\n",
              "\t<tr><td>2976</td><td>3</td></tr>\n",
              "\t<tr><td>2977</td><td>2</td></tr>\n",
              "\t<tr><td>2978</td><td>4</td></tr>\n",
              "\t<tr><td>2979</td><td>1</td></tr>\n",
              "\t<tr><td>2980</td><td>2</td></tr>\n",
              "\t<tr><td>2981</td><td>3</td></tr>\n",
              "\t<tr><td>2982</td><td>1</td></tr>\n",
              "\t<tr><td>2983</td><td>5</td></tr>\n",
              "\t<tr><td>2984</td><td>5</td></tr>\n",
              "\t<tr><td>2985</td><td>5</td></tr>\n",
              "\t<tr><td>2986</td><td>2</td></tr>\n",
              "\t<tr><td>2987</td><td>5</td></tr>\n",
              "</tbody>\n",
              "</table>\n"
            ]
          },
          "metadata": {}
        }
      ]
    },
    {
      "cell_type": "code",
      "metadata": {
        "colab": {
          "base_uri": "https://localhost:8080/",
          "height": 1000
        },
        "id": "5p9JBzDPB-f1",
        "outputId": "e2b8bea5-71af-48af-d68b-4b21fb129a35"
      },
      "source": [
        "as.data.frame(table(train$dependency))"
      ],
      "execution_count": 22,
      "outputs": [
        {
          "output_type": "display_data",
          "data": {
            "text/plain": [
              "   Var1      Freq\n",
              "1  .16666667    7\n",
              "2  .2          90\n",
              "3  .22222222   11\n",
              "4  .25        260\n",
              "5  .2857143     9\n",
              "6  .33333334  598\n",
              "7  .40000001   84\n",
              "8  .5        1497\n",
              "9  .60000002    8\n",
              "10 .66666669  487\n",
              "11 .71428573   12\n",
              "12 .75         98\n",
              "13 .80000001   18\n",
              "14 .83333331   11\n",
              "15 1.2         11\n",
              "16 1.25        18\n",
              "17 1.3333334   84\n",
              "18 1.5        713\n",
              "19 1.6666666    8\n",
              "20 1.75        11\n",
              "21 2          730\n",
              "22 2.25        13\n",
              "23 2.5         77\n",
              "24 3          236\n",
              "25 3.5         18\n",
              "26 4          100\n",
              "27 5           24\n",
              "28 6            7\n",
              "29 8          378\n",
              "30 no        1747\n",
              "31 yes       2192"
            ],
            "text/latex": "A data.frame: 31 × 2\n\\begin{tabular}{ll}\n Var1 & Freq\\\\\n <fct> & <int>\\\\\n\\hline\n\t .16666667 &    7\\\\\n\t .2        &   90\\\\\n\t .22222222 &   11\\\\\n\t .25       &  260\\\\\n\t .2857143  &    9\\\\\n\t .33333334 &  598\\\\\n\t .40000001 &   84\\\\\n\t .5        & 1497\\\\\n\t .60000002 &    8\\\\\n\t .66666669 &  487\\\\\n\t .71428573 &   12\\\\\n\t .75       &   98\\\\\n\t .80000001 &   18\\\\\n\t .83333331 &   11\\\\\n\t 1.2       &   11\\\\\n\t 1.25      &   18\\\\\n\t 1.3333334 &   84\\\\\n\t 1.5       &  713\\\\\n\t 1.6666666 &    8\\\\\n\t 1.75      &   11\\\\\n\t 2         &  730\\\\\n\t 2.25      &   13\\\\\n\t 2.5       &   77\\\\\n\t 3         &  236\\\\\n\t 3.5       &   18\\\\\n\t 4         &  100\\\\\n\t 5         &   24\\\\\n\t 6         &    7\\\\\n\t 8         &  378\\\\\n\t no        & 1747\\\\\n\t yes       & 2192\\\\\n\\end{tabular}\n",
            "text/markdown": "\nA data.frame: 31 × 2\n\n| Var1 &lt;fct&gt; | Freq &lt;int&gt; |\n|---|---|\n| .16666667 |    7 |\n| .2        |   90 |\n| .22222222 |   11 |\n| .25       |  260 |\n| .2857143  |    9 |\n| .33333334 |  598 |\n| .40000001 |   84 |\n| .5        | 1497 |\n| .60000002 |    8 |\n| .66666669 |  487 |\n| .71428573 |   12 |\n| .75       |   98 |\n| .80000001 |   18 |\n| .83333331 |   11 |\n| 1.2       |   11 |\n| 1.25      |   18 |\n| 1.3333334 |   84 |\n| 1.5       |  713 |\n| 1.6666666 |    8 |\n| 1.75      |   11 |\n| 2         |  730 |\n| 2.25      |   13 |\n| 2.5       |   77 |\n| 3         |  236 |\n| 3.5       |   18 |\n| 4         |  100 |\n| 5         |   24 |\n| 6         |    7 |\n| 8         |  378 |\n| no        | 1747 |\n| yes       | 2192 |\n\n",
            "text/html": [
              "<table class=\"dataframe\">\n",
              "<caption>A data.frame: 31 × 2</caption>\n",
              "<thead>\n",
              "\t<tr><th scope=col>Var1</th><th scope=col>Freq</th></tr>\n",
              "\t<tr><th scope=col>&lt;fct&gt;</th><th scope=col>&lt;int&gt;</th></tr>\n",
              "</thead>\n",
              "<tbody>\n",
              "\t<tr><td>.16666667</td><td>   7</td></tr>\n",
              "\t<tr><td>.2       </td><td>  90</td></tr>\n",
              "\t<tr><td>.22222222</td><td>  11</td></tr>\n",
              "\t<tr><td>.25      </td><td> 260</td></tr>\n",
              "\t<tr><td>.2857143 </td><td>   9</td></tr>\n",
              "\t<tr><td>.33333334</td><td> 598</td></tr>\n",
              "\t<tr><td>.40000001</td><td>  84</td></tr>\n",
              "\t<tr><td>.5       </td><td>1497</td></tr>\n",
              "\t<tr><td>.60000002</td><td>   8</td></tr>\n",
              "\t<tr><td>.66666669</td><td> 487</td></tr>\n",
              "\t<tr><td>.71428573</td><td>  12</td></tr>\n",
              "\t<tr><td>.75      </td><td>  98</td></tr>\n",
              "\t<tr><td>.80000001</td><td>  18</td></tr>\n",
              "\t<tr><td>.83333331</td><td>  11</td></tr>\n",
              "\t<tr><td>1.2      </td><td>  11</td></tr>\n",
              "\t<tr><td>1.25     </td><td>  18</td></tr>\n",
              "\t<tr><td>1.3333334</td><td>  84</td></tr>\n",
              "\t<tr><td>1.5      </td><td> 713</td></tr>\n",
              "\t<tr><td>1.6666666</td><td>   8</td></tr>\n",
              "\t<tr><td>1.75     </td><td>  11</td></tr>\n",
              "\t<tr><td>2        </td><td> 730</td></tr>\n",
              "\t<tr><td>2.25     </td><td>  13</td></tr>\n",
              "\t<tr><td>2.5      </td><td>  77</td></tr>\n",
              "\t<tr><td>3        </td><td> 236</td></tr>\n",
              "\t<tr><td>3.5      </td><td>  18</td></tr>\n",
              "\t<tr><td>4        </td><td> 100</td></tr>\n",
              "\t<tr><td>5        </td><td>  24</td></tr>\n",
              "\t<tr><td>6        </td><td>   7</td></tr>\n",
              "\t<tr><td>8        </td><td> 378</td></tr>\n",
              "\t<tr><td>no       </td><td>1747</td></tr>\n",
              "\t<tr><td>yes      </td><td>2192</td></tr>\n",
              "</tbody>\n",
              "</table>\n"
            ]
          },
          "metadata": {}
        }
      ]
    },
    {
      "cell_type": "code",
      "metadata": {
        "colab": {
          "base_uri": "https://localhost:8080/",
          "height": 791
        },
        "id": "fB1RSx1TC02N",
        "outputId": "94c061af-db13-40f3-fff0-fb32c6715118"
      },
      "source": [
        "as.data.frame(table(train$edjefe))"
      ],
      "execution_count": 23,
      "outputs": [
        {
          "output_type": "display_data",
          "data": {
            "text/plain": [
              "   Var1 Freq\n",
              "1  10    111\n",
              "2  11    751\n",
              "3  12    113\n",
              "4  13    103\n",
              "5  14    208\n",
              "6  15    285\n",
              "7  16    134\n",
              "8  17    202\n",
              "9  18     19\n",
              "10 19     14\n",
              "11 2     194\n",
              "12 20      7\n",
              "13 21     43\n",
              "14 3     307\n",
              "15 4     137\n",
              "16 5     222\n",
              "17 6    1845\n",
              "18 7     234\n",
              "19 8     257\n",
              "20 9     486\n",
              "21 no   3762\n",
              "22 yes   123"
            ],
            "text/latex": "A data.frame: 22 × 2\n\\begin{tabular}{ll}\n Var1 & Freq\\\\\n <fct> & <int>\\\\\n\\hline\n\t 10  &  111\\\\\n\t 11  &  751\\\\\n\t 12  &  113\\\\\n\t 13  &  103\\\\\n\t 14  &  208\\\\\n\t 15  &  285\\\\\n\t 16  &  134\\\\\n\t 17  &  202\\\\\n\t 18  &   19\\\\\n\t 19  &   14\\\\\n\t 2   &  194\\\\\n\t 20  &    7\\\\\n\t 21  &   43\\\\\n\t 3   &  307\\\\\n\t 4   &  137\\\\\n\t 5   &  222\\\\\n\t 6   & 1845\\\\\n\t 7   &  234\\\\\n\t 8   &  257\\\\\n\t 9   &  486\\\\\n\t no  & 3762\\\\\n\t yes &  123\\\\\n\\end{tabular}\n",
            "text/markdown": "\nA data.frame: 22 × 2\n\n| Var1 &lt;fct&gt; | Freq &lt;int&gt; |\n|---|---|\n| 10  |  111 |\n| 11  |  751 |\n| 12  |  113 |\n| 13  |  103 |\n| 14  |  208 |\n| 15  |  285 |\n| 16  |  134 |\n| 17  |  202 |\n| 18  |   19 |\n| 19  |   14 |\n| 2   |  194 |\n| 20  |    7 |\n| 21  |   43 |\n| 3   |  307 |\n| 4   |  137 |\n| 5   |  222 |\n| 6   | 1845 |\n| 7   |  234 |\n| 8   |  257 |\n| 9   |  486 |\n| no  | 3762 |\n| yes |  123 |\n\n",
            "text/html": [
              "<table class=\"dataframe\">\n",
              "<caption>A data.frame: 22 × 2</caption>\n",
              "<thead>\n",
              "\t<tr><th scope=col>Var1</th><th scope=col>Freq</th></tr>\n",
              "\t<tr><th scope=col>&lt;fct&gt;</th><th scope=col>&lt;int&gt;</th></tr>\n",
              "</thead>\n",
              "<tbody>\n",
              "\t<tr><td>10 </td><td> 111</td></tr>\n",
              "\t<tr><td>11 </td><td> 751</td></tr>\n",
              "\t<tr><td>12 </td><td> 113</td></tr>\n",
              "\t<tr><td>13 </td><td> 103</td></tr>\n",
              "\t<tr><td>14 </td><td> 208</td></tr>\n",
              "\t<tr><td>15 </td><td> 285</td></tr>\n",
              "\t<tr><td>16 </td><td> 134</td></tr>\n",
              "\t<tr><td>17 </td><td> 202</td></tr>\n",
              "\t<tr><td>18 </td><td>  19</td></tr>\n",
              "\t<tr><td>19 </td><td>  14</td></tr>\n",
              "\t<tr><td>2  </td><td> 194</td></tr>\n",
              "\t<tr><td>20 </td><td>   7</td></tr>\n",
              "\t<tr><td>21 </td><td>  43</td></tr>\n",
              "\t<tr><td>3  </td><td> 307</td></tr>\n",
              "\t<tr><td>4  </td><td> 137</td></tr>\n",
              "\t<tr><td>5  </td><td> 222</td></tr>\n",
              "\t<tr><td>6  </td><td>1845</td></tr>\n",
              "\t<tr><td>7  </td><td> 234</td></tr>\n",
              "\t<tr><td>8  </td><td> 257</td></tr>\n",
              "\t<tr><td>9  </td><td> 486</td></tr>\n",
              "\t<tr><td>no </td><td>3762</td></tr>\n",
              "\t<tr><td>yes</td><td> 123</td></tr>\n",
              "</tbody>\n",
              "</table>\n"
            ]
          },
          "metadata": {}
        }
      ]
    },
    {
      "cell_type": "code",
      "metadata": {
        "colab": {
          "base_uri": "https://localhost:8080/",
          "height": 791
        },
        "id": "bmDUqRsfDOVB",
        "outputId": "5ba1054f-9dc4-45f7-c773-fa82c735ee2b"
      },
      "source": [
        "as.data.frame(table(train$edjefa))"
      ],
      "execution_count": 24,
      "outputs": [
        {
          "output_type": "display_data",
          "data": {
            "text/plain": [
              "   Var1 Freq\n",
              "1  10     96\n",
              "2  11    399\n",
              "3  12     72\n",
              "4  13     52\n",
              "5  14    120\n",
              "6  15    188\n",
              "7  16    113\n",
              "8  17     76\n",
              "9  18      3\n",
              "10 19      4\n",
              "11 2      84\n",
              "12 20      2\n",
              "13 21      5\n",
              "14 3     152\n",
              "15 4     136\n",
              "16 5     176\n",
              "17 6     947\n",
              "18 7     179\n",
              "19 8     217\n",
              "20 9     237\n",
              "21 no   6230\n",
              "22 yes    69"
            ],
            "text/latex": "A data.frame: 22 × 2\n\\begin{tabular}{ll}\n Var1 & Freq\\\\\n <fct> & <int>\\\\\n\\hline\n\t 10  &   96\\\\\n\t 11  &  399\\\\\n\t 12  &   72\\\\\n\t 13  &   52\\\\\n\t 14  &  120\\\\\n\t 15  &  188\\\\\n\t 16  &  113\\\\\n\t 17  &   76\\\\\n\t 18  &    3\\\\\n\t 19  &    4\\\\\n\t 2   &   84\\\\\n\t 20  &    2\\\\\n\t 21  &    5\\\\\n\t 3   &  152\\\\\n\t 4   &  136\\\\\n\t 5   &  176\\\\\n\t 6   &  947\\\\\n\t 7   &  179\\\\\n\t 8   &  217\\\\\n\t 9   &  237\\\\\n\t no  & 6230\\\\\n\t yes &   69\\\\\n\\end{tabular}\n",
            "text/markdown": "\nA data.frame: 22 × 2\n\n| Var1 &lt;fct&gt; | Freq &lt;int&gt; |\n|---|---|\n| 10  |   96 |\n| 11  |  399 |\n| 12  |   72 |\n| 13  |   52 |\n| 14  |  120 |\n| 15  |  188 |\n| 16  |  113 |\n| 17  |   76 |\n| 18  |    3 |\n| 19  |    4 |\n| 2   |   84 |\n| 20  |    2 |\n| 21  |    5 |\n| 3   |  152 |\n| 4   |  136 |\n| 5   |  176 |\n| 6   |  947 |\n| 7   |  179 |\n| 8   |  217 |\n| 9   |  237 |\n| no  | 6230 |\n| yes |   69 |\n\n",
            "text/html": [
              "<table class=\"dataframe\">\n",
              "<caption>A data.frame: 22 × 2</caption>\n",
              "<thead>\n",
              "\t<tr><th scope=col>Var1</th><th scope=col>Freq</th></tr>\n",
              "\t<tr><th scope=col>&lt;fct&gt;</th><th scope=col>&lt;int&gt;</th></tr>\n",
              "</thead>\n",
              "<tbody>\n",
              "\t<tr><td>10 </td><td>  96</td></tr>\n",
              "\t<tr><td>11 </td><td> 399</td></tr>\n",
              "\t<tr><td>12 </td><td>  72</td></tr>\n",
              "\t<tr><td>13 </td><td>  52</td></tr>\n",
              "\t<tr><td>14 </td><td> 120</td></tr>\n",
              "\t<tr><td>15 </td><td> 188</td></tr>\n",
              "\t<tr><td>16 </td><td> 113</td></tr>\n",
              "\t<tr><td>17 </td><td>  76</td></tr>\n",
              "\t<tr><td>18 </td><td>   3</td></tr>\n",
              "\t<tr><td>19 </td><td>   4</td></tr>\n",
              "\t<tr><td>2  </td><td>  84</td></tr>\n",
              "\t<tr><td>20 </td><td>   2</td></tr>\n",
              "\t<tr><td>21 </td><td>   5</td></tr>\n",
              "\t<tr><td>3  </td><td> 152</td></tr>\n",
              "\t<tr><td>4  </td><td> 136</td></tr>\n",
              "\t<tr><td>5  </td><td> 176</td></tr>\n",
              "\t<tr><td>6  </td><td> 947</td></tr>\n",
              "\t<tr><td>7  </td><td> 179</td></tr>\n",
              "\t<tr><td>8  </td><td> 217</td></tr>\n",
              "\t<tr><td>9  </td><td> 237</td></tr>\n",
              "\t<tr><td>no </td><td>6230</td></tr>\n",
              "\t<tr><td>yes</td><td>  69</td></tr>\n",
              "</tbody>\n",
              "</table>\n"
            ]
          },
          "metadata": {}
        }
      ]
    },
    {
      "cell_type": "markdown",
      "metadata": {
        "id": "eIXmDucDDSTl"
      },
      "source": [
        "For 'dependency', 'edjefe', 'edjefa' : replace 'no' with zero and 'yes' with median value"
      ]
    },
    {
      "cell_type": "code",
      "metadata": {
        "colab": {
          "base_uri": "https://localhost:8080/",
          "height": 1000
        },
        "id": "I2Zh_MFEFYCV",
        "outputId": "d5f4dda7-3e02-4423-852a-9735ae126197"
      },
      "source": [
        "train$dependency[train$dependency == 'no'] = 0\n",
        "train$dependency[train$dependency == 'yes'] = median(train$dependency)\n",
        "as.data.frame(table(train$dependency))"
      ],
      "execution_count": 25,
      "outputs": [
        {
          "output_type": "display_data",
          "data": {
            "text/plain": [
              "   Var1      Freq\n",
              "1  .16666667    7\n",
              "2  .2          90\n",
              "3  .22222222   11\n",
              "4  .25        260\n",
              "5  .2857143     9\n",
              "6  .33333334  598\n",
              "7  .40000001   84\n",
              "8  .5        1497\n",
              "9  .60000002    8\n",
              "10 .66666669  487\n",
              "11 .71428573   12\n",
              "12 .75         98\n",
              "13 .80000001   18\n",
              "14 .83333331   11\n",
              "15 0         3939\n",
              "16 1.2         11\n",
              "17 1.25        18\n",
              "18 1.3333334   84\n",
              "19 1.5        713\n",
              "20 1.6666666    8\n",
              "21 1.75        11\n",
              "22 2          730\n",
              "23 2.25        13\n",
              "24 2.5         77\n",
              "25 3          236\n",
              "26 3.5         18\n",
              "27 4          100\n",
              "28 5           24\n",
              "29 6            7\n",
              "30 8          378"
            ],
            "text/latex": "A data.frame: 30 × 2\n\\begin{tabular}{ll}\n Var1 & Freq\\\\\n <fct> & <int>\\\\\n\\hline\n\t .16666667 &    7\\\\\n\t .2        &   90\\\\\n\t .22222222 &   11\\\\\n\t .25       &  260\\\\\n\t .2857143  &    9\\\\\n\t .33333334 &  598\\\\\n\t .40000001 &   84\\\\\n\t .5        & 1497\\\\\n\t .60000002 &    8\\\\\n\t .66666669 &  487\\\\\n\t .71428573 &   12\\\\\n\t .75       &   98\\\\\n\t .80000001 &   18\\\\\n\t .83333331 &   11\\\\\n\t 0         & 3939\\\\\n\t 1.2       &   11\\\\\n\t 1.25      &   18\\\\\n\t 1.3333334 &   84\\\\\n\t 1.5       &  713\\\\\n\t 1.6666666 &    8\\\\\n\t 1.75      &   11\\\\\n\t 2         &  730\\\\\n\t 2.25      &   13\\\\\n\t 2.5       &   77\\\\\n\t 3         &  236\\\\\n\t 3.5       &   18\\\\\n\t 4         &  100\\\\\n\t 5         &   24\\\\\n\t 6         &    7\\\\\n\t 8         &  378\\\\\n\\end{tabular}\n",
            "text/markdown": "\nA data.frame: 30 × 2\n\n| Var1 &lt;fct&gt; | Freq &lt;int&gt; |\n|---|---|\n| .16666667 |    7 |\n| .2        |   90 |\n| .22222222 |   11 |\n| .25       |  260 |\n| .2857143  |    9 |\n| .33333334 |  598 |\n| .40000001 |   84 |\n| .5        | 1497 |\n| .60000002 |    8 |\n| .66666669 |  487 |\n| .71428573 |   12 |\n| .75       |   98 |\n| .80000001 |   18 |\n| .83333331 |   11 |\n| 0         | 3939 |\n| 1.2       |   11 |\n| 1.25      |   18 |\n| 1.3333334 |   84 |\n| 1.5       |  713 |\n| 1.6666666 |    8 |\n| 1.75      |   11 |\n| 2         |  730 |\n| 2.25      |   13 |\n| 2.5       |   77 |\n| 3         |  236 |\n| 3.5       |   18 |\n| 4         |  100 |\n| 5         |   24 |\n| 6         |    7 |\n| 8         |  378 |\n\n",
            "text/html": [
              "<table class=\"dataframe\">\n",
              "<caption>A data.frame: 30 × 2</caption>\n",
              "<thead>\n",
              "\t<tr><th scope=col>Var1</th><th scope=col>Freq</th></tr>\n",
              "\t<tr><th scope=col>&lt;fct&gt;</th><th scope=col>&lt;int&gt;</th></tr>\n",
              "</thead>\n",
              "<tbody>\n",
              "\t<tr><td>.16666667</td><td>   7</td></tr>\n",
              "\t<tr><td>.2       </td><td>  90</td></tr>\n",
              "\t<tr><td>.22222222</td><td>  11</td></tr>\n",
              "\t<tr><td>.25      </td><td> 260</td></tr>\n",
              "\t<tr><td>.2857143 </td><td>   9</td></tr>\n",
              "\t<tr><td>.33333334</td><td> 598</td></tr>\n",
              "\t<tr><td>.40000001</td><td>  84</td></tr>\n",
              "\t<tr><td>.5       </td><td>1497</td></tr>\n",
              "\t<tr><td>.60000002</td><td>   8</td></tr>\n",
              "\t<tr><td>.66666669</td><td> 487</td></tr>\n",
              "\t<tr><td>.71428573</td><td>  12</td></tr>\n",
              "\t<tr><td>.75      </td><td>  98</td></tr>\n",
              "\t<tr><td>.80000001</td><td>  18</td></tr>\n",
              "\t<tr><td>.83333331</td><td>  11</td></tr>\n",
              "\t<tr><td>0        </td><td>3939</td></tr>\n",
              "\t<tr><td>1.2      </td><td>  11</td></tr>\n",
              "\t<tr><td>1.25     </td><td>  18</td></tr>\n",
              "\t<tr><td>1.3333334</td><td>  84</td></tr>\n",
              "\t<tr><td>1.5      </td><td> 713</td></tr>\n",
              "\t<tr><td>1.6666666</td><td>   8</td></tr>\n",
              "\t<tr><td>1.75     </td><td>  11</td></tr>\n",
              "\t<tr><td>2        </td><td> 730</td></tr>\n",
              "\t<tr><td>2.25     </td><td>  13</td></tr>\n",
              "\t<tr><td>2.5      </td><td>  77</td></tr>\n",
              "\t<tr><td>3        </td><td> 236</td></tr>\n",
              "\t<tr><td>3.5      </td><td>  18</td></tr>\n",
              "\t<tr><td>4        </td><td> 100</td></tr>\n",
              "\t<tr><td>5        </td><td>  24</td></tr>\n",
              "\t<tr><td>6        </td><td>   7</td></tr>\n",
              "\t<tr><td>8        </td><td> 378</td></tr>\n",
              "</tbody>\n",
              "</table>\n"
            ]
          },
          "metadata": {}
        }
      ]
    },
    {
      "cell_type": "code",
      "metadata": {
        "colab": {
          "base_uri": "https://localhost:8080/",
          "height": 760
        },
        "id": "plQWbYmMGrWg",
        "outputId": "baf56581-513f-4ac6-89bf-c9ba46566dbd"
      },
      "source": [
        "train$edjefa[train$edjefa == 'no'] = 0\n",
        "train$edjefa[train$edjefa == 'yes'] = median(train$edjefa)\n",
        "as.data.frame(table(train$edjefa))"
      ],
      "execution_count": 26,
      "outputs": [
        {
          "output_type": "display_data",
          "data": {
            "text/plain": [
              "   Var1 Freq\n",
              "1  0    6299\n",
              "2  10     96\n",
              "3  11    399\n",
              "4  12     72\n",
              "5  13     52\n",
              "6  14    120\n",
              "7  15    188\n",
              "8  16    113\n",
              "9  17     76\n",
              "10 18      3\n",
              "11 19      4\n",
              "12 2      84\n",
              "13 20      2\n",
              "14 21      5\n",
              "15 3     152\n",
              "16 4     136\n",
              "17 5     176\n",
              "18 6     947\n",
              "19 7     179\n",
              "20 8     217\n",
              "21 9     237"
            ],
            "text/latex": "A data.frame: 21 × 2\n\\begin{tabular}{ll}\n Var1 & Freq\\\\\n <fct> & <int>\\\\\n\\hline\n\t 0  & 6299\\\\\n\t 10 &   96\\\\\n\t 11 &  399\\\\\n\t 12 &   72\\\\\n\t 13 &   52\\\\\n\t 14 &  120\\\\\n\t 15 &  188\\\\\n\t 16 &  113\\\\\n\t 17 &   76\\\\\n\t 18 &    3\\\\\n\t 19 &    4\\\\\n\t 2  &   84\\\\\n\t 20 &    2\\\\\n\t 21 &    5\\\\\n\t 3  &  152\\\\\n\t 4  &  136\\\\\n\t 5  &  176\\\\\n\t 6  &  947\\\\\n\t 7  &  179\\\\\n\t 8  &  217\\\\\n\t 9  &  237\\\\\n\\end{tabular}\n",
            "text/markdown": "\nA data.frame: 21 × 2\n\n| Var1 &lt;fct&gt; | Freq &lt;int&gt; |\n|---|---|\n| 0  | 6299 |\n| 10 |   96 |\n| 11 |  399 |\n| 12 |   72 |\n| 13 |   52 |\n| 14 |  120 |\n| 15 |  188 |\n| 16 |  113 |\n| 17 |   76 |\n| 18 |    3 |\n| 19 |    4 |\n| 2  |   84 |\n| 20 |    2 |\n| 21 |    5 |\n| 3  |  152 |\n| 4  |  136 |\n| 5  |  176 |\n| 6  |  947 |\n| 7  |  179 |\n| 8  |  217 |\n| 9  |  237 |\n\n",
            "text/html": [
              "<table class=\"dataframe\">\n",
              "<caption>A data.frame: 21 × 2</caption>\n",
              "<thead>\n",
              "\t<tr><th scope=col>Var1</th><th scope=col>Freq</th></tr>\n",
              "\t<tr><th scope=col>&lt;fct&gt;</th><th scope=col>&lt;int&gt;</th></tr>\n",
              "</thead>\n",
              "<tbody>\n",
              "\t<tr><td>0 </td><td>6299</td></tr>\n",
              "\t<tr><td>10</td><td>  96</td></tr>\n",
              "\t<tr><td>11</td><td> 399</td></tr>\n",
              "\t<tr><td>12</td><td>  72</td></tr>\n",
              "\t<tr><td>13</td><td>  52</td></tr>\n",
              "\t<tr><td>14</td><td> 120</td></tr>\n",
              "\t<tr><td>15</td><td> 188</td></tr>\n",
              "\t<tr><td>16</td><td> 113</td></tr>\n",
              "\t<tr><td>17</td><td>  76</td></tr>\n",
              "\t<tr><td>18</td><td>   3</td></tr>\n",
              "\t<tr><td>19</td><td>   4</td></tr>\n",
              "\t<tr><td>2 </td><td>  84</td></tr>\n",
              "\t<tr><td>20</td><td>   2</td></tr>\n",
              "\t<tr><td>21</td><td>   5</td></tr>\n",
              "\t<tr><td>3 </td><td> 152</td></tr>\n",
              "\t<tr><td>4 </td><td> 136</td></tr>\n",
              "\t<tr><td>5 </td><td> 176</td></tr>\n",
              "\t<tr><td>6 </td><td> 947</td></tr>\n",
              "\t<tr><td>7 </td><td> 179</td></tr>\n",
              "\t<tr><td>8 </td><td> 217</td></tr>\n",
              "\t<tr><td>9 </td><td> 237</td></tr>\n",
              "</tbody>\n",
              "</table>\n"
            ]
          },
          "metadata": {}
        }
      ]
    },
    {
      "cell_type": "code",
      "metadata": {
        "colab": {
          "base_uri": "https://localhost:8080/",
          "height": 760
        },
        "id": "J7MARb9QG_i0",
        "outputId": "d82c8c44-8bfa-45be-9fbd-47ca9b205ae2"
      },
      "source": [
        "train$edjefe[train$edjefe == 'no'] = 0\n",
        "train$edjefe[train$edjefe == 'yes'] = median(train$edjefe)\n",
        "as.data.frame(table(train$edjefe))"
      ],
      "execution_count": 27,
      "outputs": [
        {
          "output_type": "display_data",
          "data": {
            "text/plain": [
              "   Var1 Freq\n",
              "1  0    3762\n",
              "2  10    111\n",
              "3  11    751\n",
              "4  12    113\n",
              "5  13    226\n",
              "6  14    208\n",
              "7  15    285\n",
              "8  16    134\n",
              "9  17    202\n",
              "10 18     19\n",
              "11 19     14\n",
              "12 2     194\n",
              "13 20      7\n",
              "14 21     43\n",
              "15 3     307\n",
              "16 4     137\n",
              "17 5     222\n",
              "18 6    1845\n",
              "19 7     234\n",
              "20 8     257\n",
              "21 9     486"
            ],
            "text/latex": "A data.frame: 21 × 2\n\\begin{tabular}{ll}\n Var1 & Freq\\\\\n <fct> & <int>\\\\\n\\hline\n\t 0  & 3762\\\\\n\t 10 &  111\\\\\n\t 11 &  751\\\\\n\t 12 &  113\\\\\n\t 13 &  226\\\\\n\t 14 &  208\\\\\n\t 15 &  285\\\\\n\t 16 &  134\\\\\n\t 17 &  202\\\\\n\t 18 &   19\\\\\n\t 19 &   14\\\\\n\t 2  &  194\\\\\n\t 20 &    7\\\\\n\t 21 &   43\\\\\n\t 3  &  307\\\\\n\t 4  &  137\\\\\n\t 5  &  222\\\\\n\t 6  & 1845\\\\\n\t 7  &  234\\\\\n\t 8  &  257\\\\\n\t 9  &  486\\\\\n\\end{tabular}\n",
            "text/markdown": "\nA data.frame: 21 × 2\n\n| Var1 &lt;fct&gt; | Freq &lt;int&gt; |\n|---|---|\n| 0  | 3762 |\n| 10 |  111 |\n| 11 |  751 |\n| 12 |  113 |\n| 13 |  226 |\n| 14 |  208 |\n| 15 |  285 |\n| 16 |  134 |\n| 17 |  202 |\n| 18 |   19 |\n| 19 |   14 |\n| 2  |  194 |\n| 20 |    7 |\n| 21 |   43 |\n| 3  |  307 |\n| 4  |  137 |\n| 5  |  222 |\n| 6  | 1845 |\n| 7  |  234 |\n| 8  |  257 |\n| 9  |  486 |\n\n",
            "text/html": [
              "<table class=\"dataframe\">\n",
              "<caption>A data.frame: 21 × 2</caption>\n",
              "<thead>\n",
              "\t<tr><th scope=col>Var1</th><th scope=col>Freq</th></tr>\n",
              "\t<tr><th scope=col>&lt;fct&gt;</th><th scope=col>&lt;int&gt;</th></tr>\n",
              "</thead>\n",
              "<tbody>\n",
              "\t<tr><td>0 </td><td>3762</td></tr>\n",
              "\t<tr><td>10</td><td> 111</td></tr>\n",
              "\t<tr><td>11</td><td> 751</td></tr>\n",
              "\t<tr><td>12</td><td> 113</td></tr>\n",
              "\t<tr><td>13</td><td> 226</td></tr>\n",
              "\t<tr><td>14</td><td> 208</td></tr>\n",
              "\t<tr><td>15</td><td> 285</td></tr>\n",
              "\t<tr><td>16</td><td> 134</td></tr>\n",
              "\t<tr><td>17</td><td> 202</td></tr>\n",
              "\t<tr><td>18</td><td>  19</td></tr>\n",
              "\t<tr><td>19</td><td>  14</td></tr>\n",
              "\t<tr><td>2 </td><td> 194</td></tr>\n",
              "\t<tr><td>20</td><td>   7</td></tr>\n",
              "\t<tr><td>21</td><td>  43</td></tr>\n",
              "\t<tr><td>3 </td><td> 307</td></tr>\n",
              "\t<tr><td>4 </td><td> 137</td></tr>\n",
              "\t<tr><td>5 </td><td> 222</td></tr>\n",
              "\t<tr><td>6 </td><td>1845</td></tr>\n",
              "\t<tr><td>7 </td><td> 234</td></tr>\n",
              "\t<tr><td>8 </td><td> 257</td></tr>\n",
              "\t<tr><td>9 </td><td> 486</td></tr>\n",
              "</tbody>\n",
              "</table>\n"
            ]
          },
          "metadata": {}
        }
      ]
    },
    {
      "cell_type": "markdown",
      "metadata": {
        "id": "m3xyE-pE_j7k"
      },
      "source": [
        "## **Dealing with Class Imbalance (SMOTE)**"
      ]
    },
    {
      "cell_type": "code",
      "metadata": {
        "colab": {
          "base_uri": "https://localhost:8080/",
          "height": 302
        },
        "id": "ZjTrvPgO7kJZ",
        "outputId": "5c1fc038-7911-4e33-d910-2b8289e89b0a"
      },
      "source": [
        "head(train)"
      ],
      "execution_count": 28,
      "outputs": [
        {
          "output_type": "display_data",
          "data": {
            "text/plain": [
              "  Id           v2a1   hacdor rooms hacapo v14a refrig v18q v18q1 r4h1 r4h2 r4h3\n",
              "1 ID_279628684 190000 0      3     0      1    1      0    1     0    1    1   \n",
              "2 ID_f29eb3ddd 135000 0      4     0      1    1      1    1     0    1    1   \n",
              "3 ID_68de51c94 130000 0      8     0      1    1      0    1     0    0    0   \n",
              "4 ID_d671db89c 180000 0      5     0      1    1      1    1     0    2    2   \n",
              "5 ID_d56d6f5f5 180000 0      5     0      1    1      1    1     0    2    2   \n",
              "6 ID_ec05b1a7b 180000 0      5     0      1    1      1    1     0    2    2   \n",
              "  r4m1 r4m2 r4m3 r4t1 r4t2 r4t3 tamhog tamviv escolari hhsize paredblolad\n",
              "1 0    0    0    0    1    1    1      1      10       1      1          \n",
              "2 0    0    0    0    1    1    1      1      12       1      0          \n",
              "3 0    1    1    0    1    1    1      1      11       1      0          \n",
              "4 1    1    2    1    3    4    4      4       9       4      1          \n",
              "5 1    1    2    1    3    4    4      4      11       4      1          \n",
              "6 1    1    2    1    3    4    4      4      11       4      1          \n",
              "  paredzocalo paredpreb pareddes paredmad paredzinc paredfibras paredother\n",
              "1 0           0         0        0        0         0           0         \n",
              "2 0           0         0        1        0         0           0         \n",
              "3 0           0         0        1        0         0           0         \n",
              "4 0           0         0        0        0         0           0         \n",
              "5 0           0         0        0        0         0           0         \n",
              "6 0           0         0        0        0         0           0         \n",
              "  pisomoscer pisocemento pisoother pisonatur pisonotiene pisomadera techozinc\n",
              "1 1          0           0         0         0           0          0        \n",
              "2 0          0           0         0         0           1          1        \n",
              "3 1          0           0         0         0           0          1        \n",
              "4 1          0           0         0         0           0          1        \n",
              "5 1          0           0         0         0           0          1        \n",
              "6 1          0           0         0         0           0          1        \n",
              "  techoentrepiso techocane techootro cielorazo abastaguadentro abastaguafuera\n",
              "1 1              0         0         1         1               0             \n",
              "2 0              0         0         1         1               0             \n",
              "3 0              0         0         1         1               0             \n",
              "4 0              0         0         1         1               0             \n",
              "5 0              0         0         1         1               0             \n",
              "6 0              0         0         1         1               0             \n",
              "  abastaguano public planpri noelec coopele sanitario1 sanitario2 sanitario3\n",
              "1 0           1      0       0      0       0          1          0         \n",
              "2 0           1      0       0      0       0          1          0         \n",
              "3 0           1      0       0      0       0          1          0         \n",
              "4 0           1      0       0      0       0          1          0         \n",
              "5 0           1      0       0      0       0          1          0         \n",
              "6 0           1      0       0      0       0          1          0         \n",
              "  sanitario5 sanitario6 energcocinar1 energcocinar2 energcocinar3 energcocinar4\n",
              "1 0          0          0             0             1             0            \n",
              "2 0          0          0             1             0             0            \n",
              "3 0          0          0             1             0             0            \n",
              "4 0          0          0             1             0             0            \n",
              "5 0          0          0             1             0             0            \n",
              "6 0          0          0             1             0             0            \n",
              "  elimbasu1 elimbasu2 elimbasu3 elimbasu4 elimbasu5 elimbasu6 epared1 epared2\n",
              "1 1         0         0         0         0         0         0       1      \n",
              "2 1         0         0         0         0         0         0       1      \n",
              "3 1         0         0         0         0         0         0       1      \n",
              "4 1         0         0         0         0         0         0       0      \n",
              "5 1         0         0         0         0         0         0       0      \n",
              "6 1         0         0         0         0         0         0       0      \n",
              "  epared3 etecho1 etecho2 etecho3 eviv1 eviv2 eviv3 dis male female\n",
              "1 0       1       0       0       1     0     0     0   1    0     \n",
              "2 0       0       1       0       0     1     0     0   1    0     \n",
              "3 0       0       0       1       0     0     1     1   0    1     \n",
              "4 1       0       0       1       0     0     1     0   1    0     \n",
              "5 1       0       0       1       0     0     1     0   0    1     \n",
              "6 1       0       0       1       0     0     1     0   1    0     \n",
              "  estadocivil1 estadocivil2 estadocivil3 estadocivil4 estadocivil5 estadocivil6\n",
              "1 0            0            0            1            0            0           \n",
              "2 0            0            0            1            0            0           \n",
              "3 0            0            0            0            0            1           \n",
              "4 0            0            0            0            0            0           \n",
              "5 0            1            0            0            0            0           \n",
              "6 0            1            0            0            0            0           \n",
              "  estadocivil7 parentesco1 parentesco2 parentesco3 parentesco4 parentesco5\n",
              "1 0            1           0           0           0           0          \n",
              "2 0            1           0           0           0           0          \n",
              "3 0            1           0           0           0           0          \n",
              "4 1            0           0           1           0           0          \n",
              "5 0            0           1           0           0           0          \n",
              "6 0            1           0           0           0           0          \n",
              "  parentesco6 parentesco7 parentesco8 parentesco9 parentesco10 parentesco11\n",
              "1 0           0           0           0           0            0           \n",
              "2 0           0           0           0           0            0           \n",
              "3 0           0           0           0           0            0           \n",
              "4 0           0           0           0           0            0           \n",
              "5 0           0           0           0           0            0           \n",
              "6 0           0           0           0           0            0           \n",
              "  parentesco12 idhogar hogar_nin hogar_adul hogar_mayor hogar_total dependency\n",
              "1 0            0       0         1          0           1           0         \n",
              "2 0            1       0         1          1           1           8         \n",
              "3 0            2       0         1          1           1           8         \n",
              "4 0            3       2         2          0           4           0         \n",
              "5 0            3       2         2          0           4           0         \n",
              "6 0            3       2         2          0           4           0         \n",
              "  edjefe edjefa meaneduc instlevel1 instlevel2 instlevel3 instlevel4 instlevel5\n",
              "1 10     0      10       0          0          0          1          0         \n",
              "2 12     0      12       0          0          0          0          0         \n",
              "3 0      11     11       0          0          0          0          1         \n",
              "4 11     0      11       0          0          0          1          0         \n",
              "5 11     0      11       0          0          0          0          1         \n",
              "6 11     0      11       0          0          0          0          1         \n",
              "  instlevel6 instlevel7 instlevel8 instlevel9 bedrooms overcrowding tipovivi1\n",
              "1 0          0          0          0          1        1.000000     0        \n",
              "2 0          0          1          0          1        1.000000     0        \n",
              "3 0          0          0          0          2        0.500000     1        \n",
              "4 0          0          0          0          3        1.333333     0        \n",
              "5 0          0          0          0          3        1.333333     0        \n",
              "6 0          0          0          0          3        1.333333     0        \n",
              "  tipovivi2 tipovivi3 tipovivi4 tipovivi5 computer television mobilephone\n",
              "1 0         1         0         0         0        0          1          \n",
              "2 0         1         0         0         0        0          1          \n",
              "3 0         0         0         0         0        0          0          \n",
              "4 0         1         0         0         0        0          1          \n",
              "5 0         1         0         0         0        0          1          \n",
              "6 0         1         0         0         0        0          1          \n",
              "  qmobilephone lugar1 lugar2 lugar3 lugar4 lugar5 lugar6 area1 area2 age\n",
              "1 1            1      0      0      0      0      0      1     0     43 \n",
              "2 1            1      0      0      0      0      0      1     0     67 \n",
              "3 0            1      0      0      0      0      0      1     0     92 \n",
              "4 3            1      0      0      0      0      0      1     0     17 \n",
              "5 3            1      0      0      0      0      0      1     0     37 \n",
              "6 3            1      0      0      0      0      0      1     0     38 \n",
              "  SQBescolari SQBage SQBhogar_total SQBedjefe SQBhogar_nin SQBovercrowding\n",
              "1 100         1849    1             100       0            1.000000       \n",
              "2 144         4489    1             144       0            1.000000       \n",
              "3 121         8464    1               0       0            0.250000       \n",
              "4  81          289   16             121       4            1.777778       \n",
              "5 121         1369   16             121       4            1.777778       \n",
              "6 121         1444   16             121       4            1.777778       \n",
              "  SQBdependency SQBmeaned agesq Target\n",
              "1  0            100       1849  4     \n",
              "2 64            144       4489  4     \n",
              "3 64            121       8464  4     \n",
              "4  1            121        289  4     \n",
              "5  1            121       1369  4     \n",
              "6  1            121       1444  4     "
            ],
            "text/latex": "A data.frame: 6 × 142\n\\begin{tabular}{r|llllllllllllllllllllllllllllllllllllllllllllllllllllllllllllllllllllllllllllllllllllllllllllllllllllllllllllllllllllllllllllllllllllllllllllll}\n  & Id & v2a1 & hacdor & rooms & hacapo & v14a & refrig & v18q & v18q1 & r4h1 & r4h2 & r4h3 & r4m1 & r4m2 & r4m3 & r4t1 & r4t2 & r4t3 & tamhog & tamviv & escolari & hhsize & paredblolad & paredzocalo & paredpreb & pareddes & paredmad & paredzinc & paredfibras & paredother & pisomoscer & pisocemento & pisoother & pisonatur & pisonotiene & pisomadera & techozinc & techoentrepiso & techocane & techootro & cielorazo & abastaguadentro & abastaguafuera & abastaguano & public & planpri & noelec & coopele & sanitario1 & sanitario2 & sanitario3 & sanitario5 & sanitario6 & energcocinar1 & energcocinar2 & energcocinar3 & energcocinar4 & elimbasu1 & elimbasu2 & elimbasu3 & elimbasu4 & elimbasu5 & elimbasu6 & epared1 & epared2 & epared3 & etecho1 & etecho2 & etecho3 & eviv1 & eviv2 & eviv3 & dis & male & female & estadocivil1 & estadocivil2 & estadocivil3 & estadocivil4 & estadocivil5 & estadocivil6 & estadocivil7 & parentesco1 & parentesco2 & parentesco3 & parentesco4 & parentesco5 & parentesco6 & parentesco7 & parentesco8 & parentesco9 & parentesco10 & parentesco11 & parentesco12 & idhogar & hogar\\_nin & hogar\\_adul & hogar\\_mayor & hogar\\_total & dependency & edjefe & edjefa & meaneduc & instlevel1 & instlevel2 & instlevel3 & instlevel4 & instlevel5 & instlevel6 & instlevel7 & instlevel8 & instlevel9 & bedrooms & overcrowding & tipovivi1 & tipovivi2 & tipovivi3 & tipovivi4 & tipovivi5 & computer & television & mobilephone & qmobilephone & lugar1 & lugar2 & lugar3 & lugar4 & lugar5 & lugar6 & area1 & area2 & age & SQBescolari & SQBage & SQBhogar\\_total & SQBedjefe & SQBhogar\\_nin & SQBovercrowding & SQBdependency & SQBmeaned & agesq & Target\\\\\n  & <chr> & <dbl> & <int> & <int> & <int> & <int> & <int> & <int> & <int> & <int> & <int> & <int> & <int> & <int> & <int> & <int> & <int> & <int> & <int> & <int> & <int> & <int> & <int> & <int> & <int> & <int> & <int> & <int> & <int> & <int> & <int> & <int> & <int> & <int> & <int> & <int> & <int> & <int> & <int> & <int> & <int> & <int> & <int> & <int> & <int> & <int> & <int> & <int> & <int> & <int> & <int> & <int> & <int> & <int> & <int> & <int> & <int> & <int> & <int> & <int> & <int> & <int> & <int> & <int> & <int> & <int> & <int> & <int> & <int> & <int> & <int> & <int> & <int> & <int> & <int> & <int> & <int> & <int> & <int> & <int> & <int> & <int> & <int> & <int> & <int> & <int> & <int> & <int> & <int> & <int> & <int> & <int> & <int> & <int> & <dbl> & <int> & <int> & <int> & <int> & <chr> & <chr> & <chr> & <dbl> & <int> & <int> & <int> & <int> & <int> & <int> & <int> & <int> & <int> & <int> & <dbl> & <int> & <int> & <int> & <int> & <int> & <int> & <int> & <int> & <int> & <int> & <int> & <int> & <int> & <int> & <int> & <int> & <int> & <int> & <int> & <int> & <int> & <int> & <int> & <dbl> & <dbl> & <dbl> & <int> & <int>\\\\\n\\hline\n\t1 & ID\\_279628684 & 190000 & 0 & 3 & 0 & 1 & 1 & 0 & 1 & 0 & 1 & 1 & 0 & 0 & 0 & 0 & 1 & 1 & 1 & 1 & 10 & 1 & 1 & 0 & 0 & 0 & 0 & 0 & 0 & 0 & 1 & 0 & 0 & 0 & 0 & 0 & 0 & 1 & 0 & 0 & 1 & 1 & 0 & 0 & 1 & 0 & 0 & 0 & 0 & 1 & 0 & 0 & 0 & 0 & 0 & 1 & 0 & 1 & 0 & 0 & 0 & 0 & 0 & 0 & 1 & 0 & 1 & 0 & 0 & 1 & 0 & 0 & 0 & 1 & 0 & 0 & 0 & 0 & 1 & 0 & 0 & 0 & 1 & 0 & 0 & 0 & 0 & 0 & 0 & 0 & 0 & 0 & 0 & 0 & 0 & 0 & 1 & 0 & 1 & 0 & 10 & 0  & 10 & 0 & 0 & 0 & 1 & 0 & 0 & 0 & 0 & 0 & 1 & 1.000000 & 0 & 0 & 1 & 0 & 0 & 0 & 0 & 1 & 1 & 1 & 0 & 0 & 0 & 0 & 0 & 1 & 0 & 43 & 100 & 1849 &  1 & 100 & 0 & 1.000000 &  0 & 100 & 1849 & 4\\\\\n\t2 & ID\\_f29eb3ddd & 135000 & 0 & 4 & 0 & 1 & 1 & 1 & 1 & 0 & 1 & 1 & 0 & 0 & 0 & 0 & 1 & 1 & 1 & 1 & 12 & 1 & 0 & 0 & 0 & 0 & 1 & 0 & 0 & 0 & 0 & 0 & 0 & 0 & 0 & 1 & 1 & 0 & 0 & 0 & 1 & 1 & 0 & 0 & 1 & 0 & 0 & 0 & 0 & 1 & 0 & 0 & 0 & 0 & 1 & 0 & 0 & 1 & 0 & 0 & 0 & 0 & 0 & 0 & 1 & 0 & 0 & 1 & 0 & 0 & 1 & 0 & 0 & 1 & 0 & 0 & 0 & 0 & 1 & 0 & 0 & 0 & 1 & 0 & 0 & 0 & 0 & 0 & 0 & 0 & 0 & 0 & 0 & 0 & 1 & 0 & 1 & 1 & 1 & 8 & 12 & 0  & 12 & 0 & 0 & 0 & 0 & 0 & 0 & 0 & 1 & 0 & 1 & 1.000000 & 0 & 0 & 1 & 0 & 0 & 0 & 0 & 1 & 1 & 1 & 0 & 0 & 0 & 0 & 0 & 1 & 0 & 67 & 144 & 4489 &  1 & 144 & 0 & 1.000000 & 64 & 144 & 4489 & 4\\\\\n\t3 & ID\\_68de51c94 & 130000 & 0 & 8 & 0 & 1 & 1 & 0 & 1 & 0 & 0 & 0 & 0 & 1 & 1 & 0 & 1 & 1 & 1 & 1 & 11 & 1 & 0 & 0 & 0 & 0 & 1 & 0 & 0 & 0 & 1 & 0 & 0 & 0 & 0 & 0 & 1 & 0 & 0 & 0 & 1 & 1 & 0 & 0 & 1 & 0 & 0 & 0 & 0 & 1 & 0 & 0 & 0 & 0 & 1 & 0 & 0 & 1 & 0 & 0 & 0 & 0 & 0 & 0 & 1 & 0 & 0 & 0 & 1 & 0 & 0 & 1 & 1 & 0 & 1 & 0 & 0 & 0 & 0 & 0 & 1 & 0 & 1 & 0 & 0 & 0 & 0 & 0 & 0 & 0 & 0 & 0 & 0 & 0 & 2 & 0 & 1 & 1 & 1 & 8 & 0  & 11 & 11 & 0 & 0 & 0 & 0 & 1 & 0 & 0 & 0 & 0 & 2 & 0.500000 & 1 & 0 & 0 & 0 & 0 & 0 & 0 & 0 & 0 & 1 & 0 & 0 & 0 & 0 & 0 & 1 & 0 & 92 & 121 & 8464 &  1 &   0 & 0 & 0.250000 & 64 & 121 & 8464 & 4\\\\\n\t4 & ID\\_d671db89c & 180000 & 0 & 5 & 0 & 1 & 1 & 1 & 1 & 0 & 2 & 2 & 1 & 1 & 2 & 1 & 3 & 4 & 4 & 4 &  9 & 4 & 1 & 0 & 0 & 0 & 0 & 0 & 0 & 0 & 1 & 0 & 0 & 0 & 0 & 0 & 1 & 0 & 0 & 0 & 1 & 1 & 0 & 0 & 1 & 0 & 0 & 0 & 0 & 1 & 0 & 0 & 0 & 0 & 1 & 0 & 0 & 1 & 0 & 0 & 0 & 0 & 0 & 0 & 0 & 1 & 0 & 0 & 1 & 0 & 0 & 1 & 0 & 1 & 0 & 0 & 0 & 0 & 0 & 0 & 0 & 1 & 0 & 0 & 1 & 0 & 0 & 0 & 0 & 0 & 0 & 0 & 0 & 0 & 3 & 2 & 2 & 0 & 4 & 0 & 11 & 0  & 11 & 0 & 0 & 0 & 1 & 0 & 0 & 0 & 0 & 0 & 3 & 1.333333 & 0 & 0 & 1 & 0 & 0 & 0 & 0 & 1 & 3 & 1 & 0 & 0 & 0 & 0 & 0 & 1 & 0 & 17 &  81 &  289 & 16 & 121 & 4 & 1.777778 &  1 & 121 &  289 & 4\\\\\n\t5 & ID\\_d56d6f5f5 & 180000 & 0 & 5 & 0 & 1 & 1 & 1 & 1 & 0 & 2 & 2 & 1 & 1 & 2 & 1 & 3 & 4 & 4 & 4 & 11 & 4 & 1 & 0 & 0 & 0 & 0 & 0 & 0 & 0 & 1 & 0 & 0 & 0 & 0 & 0 & 1 & 0 & 0 & 0 & 1 & 1 & 0 & 0 & 1 & 0 & 0 & 0 & 0 & 1 & 0 & 0 & 0 & 0 & 1 & 0 & 0 & 1 & 0 & 0 & 0 & 0 & 0 & 0 & 0 & 1 & 0 & 0 & 1 & 0 & 0 & 1 & 0 & 0 & 1 & 0 & 1 & 0 & 0 & 0 & 0 & 0 & 0 & 1 & 0 & 0 & 0 & 0 & 0 & 0 & 0 & 0 & 0 & 0 & 3 & 2 & 2 & 0 & 4 & 0 & 11 & 0  & 11 & 0 & 0 & 0 & 0 & 1 & 0 & 0 & 0 & 0 & 3 & 1.333333 & 0 & 0 & 1 & 0 & 0 & 0 & 0 & 1 & 3 & 1 & 0 & 0 & 0 & 0 & 0 & 1 & 0 & 37 & 121 & 1369 & 16 & 121 & 4 & 1.777778 &  1 & 121 & 1369 & 4\\\\\n\t6 & ID\\_ec05b1a7b & 180000 & 0 & 5 & 0 & 1 & 1 & 1 & 1 & 0 & 2 & 2 & 1 & 1 & 2 & 1 & 3 & 4 & 4 & 4 & 11 & 4 & 1 & 0 & 0 & 0 & 0 & 0 & 0 & 0 & 1 & 0 & 0 & 0 & 0 & 0 & 1 & 0 & 0 & 0 & 1 & 1 & 0 & 0 & 1 & 0 & 0 & 0 & 0 & 1 & 0 & 0 & 0 & 0 & 1 & 0 & 0 & 1 & 0 & 0 & 0 & 0 & 0 & 0 & 0 & 1 & 0 & 0 & 1 & 0 & 0 & 1 & 0 & 1 & 0 & 0 & 1 & 0 & 0 & 0 & 0 & 0 & 1 & 0 & 0 & 0 & 0 & 0 & 0 & 0 & 0 & 0 & 0 & 0 & 3 & 2 & 2 & 0 & 4 & 0 & 11 & 0  & 11 & 0 & 0 & 0 & 0 & 1 & 0 & 0 & 0 & 0 & 3 & 1.333333 & 0 & 0 & 1 & 0 & 0 & 0 & 0 & 1 & 3 & 1 & 0 & 0 & 0 & 0 & 0 & 1 & 0 & 38 & 121 & 1444 & 16 & 121 & 4 & 1.777778 &  1 & 121 & 1444 & 4\\\\\n\\end{tabular}\n",
            "text/markdown": "\nA data.frame: 6 × 142\n\n| <!--/--> | Id &lt;chr&gt; | v2a1 &lt;dbl&gt; | hacdor &lt;int&gt; | rooms &lt;int&gt; | hacapo &lt;int&gt; | v14a &lt;int&gt; | refrig &lt;int&gt; | v18q &lt;int&gt; | v18q1 &lt;int&gt; | r4h1 &lt;int&gt; | r4h2 &lt;int&gt; | r4h3 &lt;int&gt; | r4m1 &lt;int&gt; | r4m2 &lt;int&gt; | r4m3 &lt;int&gt; | r4t1 &lt;int&gt; | r4t2 &lt;int&gt; | r4t3 &lt;int&gt; | tamhog &lt;int&gt; | tamviv &lt;int&gt; | escolari &lt;int&gt; | hhsize &lt;int&gt; | paredblolad &lt;int&gt; | paredzocalo &lt;int&gt; | paredpreb &lt;int&gt; | pareddes &lt;int&gt; | paredmad &lt;int&gt; | paredzinc &lt;int&gt; | paredfibras &lt;int&gt; | paredother &lt;int&gt; | pisomoscer &lt;int&gt; | pisocemento &lt;int&gt; | pisoother &lt;int&gt; | pisonatur &lt;int&gt; | pisonotiene &lt;int&gt; | pisomadera &lt;int&gt; | techozinc &lt;int&gt; | techoentrepiso &lt;int&gt; | techocane &lt;int&gt; | techootro &lt;int&gt; | cielorazo &lt;int&gt; | abastaguadentro &lt;int&gt; | abastaguafuera &lt;int&gt; | abastaguano &lt;int&gt; | public &lt;int&gt; | planpri &lt;int&gt; | noelec &lt;int&gt; | coopele &lt;int&gt; | sanitario1 &lt;int&gt; | sanitario2 &lt;int&gt; | sanitario3 &lt;int&gt; | sanitario5 &lt;int&gt; | sanitario6 &lt;int&gt; | energcocinar1 &lt;int&gt; | energcocinar2 &lt;int&gt; | energcocinar3 &lt;int&gt; | energcocinar4 &lt;int&gt; | elimbasu1 &lt;int&gt; | elimbasu2 &lt;int&gt; | elimbasu3 &lt;int&gt; | elimbasu4 &lt;int&gt; | elimbasu5 &lt;int&gt; | elimbasu6 &lt;int&gt; | epared1 &lt;int&gt; | epared2 &lt;int&gt; | epared3 &lt;int&gt; | etecho1 &lt;int&gt; | etecho2 &lt;int&gt; | etecho3 &lt;int&gt; | eviv1 &lt;int&gt; | eviv2 &lt;int&gt; | eviv3 &lt;int&gt; | dis &lt;int&gt; | male &lt;int&gt; | female &lt;int&gt; | estadocivil1 &lt;int&gt; | estadocivil2 &lt;int&gt; | estadocivil3 &lt;int&gt; | estadocivil4 &lt;int&gt; | estadocivil5 &lt;int&gt; | estadocivil6 &lt;int&gt; | estadocivil7 &lt;int&gt; | parentesco1 &lt;int&gt; | parentesco2 &lt;int&gt; | parentesco3 &lt;int&gt; | parentesco4 &lt;int&gt; | parentesco5 &lt;int&gt; | parentesco6 &lt;int&gt; | parentesco7 &lt;int&gt; | parentesco8 &lt;int&gt; | parentesco9 &lt;int&gt; | parentesco10 &lt;int&gt; | parentesco11 &lt;int&gt; | parentesco12 &lt;int&gt; | idhogar &lt;dbl&gt; | hogar_nin &lt;int&gt; | hogar_adul &lt;int&gt; | hogar_mayor &lt;int&gt; | hogar_total &lt;int&gt; | dependency &lt;chr&gt; | edjefe &lt;chr&gt; | edjefa &lt;chr&gt; | meaneduc &lt;dbl&gt; | instlevel1 &lt;int&gt; | instlevel2 &lt;int&gt; | instlevel3 &lt;int&gt; | instlevel4 &lt;int&gt; | instlevel5 &lt;int&gt; | instlevel6 &lt;int&gt; | instlevel7 &lt;int&gt; | instlevel8 &lt;int&gt; | instlevel9 &lt;int&gt; | bedrooms &lt;int&gt; | overcrowding &lt;dbl&gt; | tipovivi1 &lt;int&gt; | tipovivi2 &lt;int&gt; | tipovivi3 &lt;int&gt; | tipovivi4 &lt;int&gt; | tipovivi5 &lt;int&gt; | computer &lt;int&gt; | television &lt;int&gt; | mobilephone &lt;int&gt; | qmobilephone &lt;int&gt; | lugar1 &lt;int&gt; | lugar2 &lt;int&gt; | lugar3 &lt;int&gt; | lugar4 &lt;int&gt; | lugar5 &lt;int&gt; | lugar6 &lt;int&gt; | area1 &lt;int&gt; | area2 &lt;int&gt; | age &lt;int&gt; | SQBescolari &lt;int&gt; | SQBage &lt;int&gt; | SQBhogar_total &lt;int&gt; | SQBedjefe &lt;int&gt; | SQBhogar_nin &lt;int&gt; | SQBovercrowding &lt;dbl&gt; | SQBdependency &lt;dbl&gt; | SQBmeaned &lt;dbl&gt; | agesq &lt;int&gt; | Target &lt;int&gt; |\n|---|---|---|---|---|---|---|---|---|---|---|---|---|---|---|---|---|---|---|---|---|---|---|---|---|---|---|---|---|---|---|---|---|---|---|---|---|---|---|---|---|---|---|---|---|---|---|---|---|---|---|---|---|---|---|---|---|---|---|---|---|---|---|---|---|---|---|---|---|---|---|---|---|---|---|---|---|---|---|---|---|---|---|---|---|---|---|---|---|---|---|---|---|---|---|---|---|---|---|---|---|---|---|---|---|---|---|---|---|---|---|---|---|---|---|---|---|---|---|---|---|---|---|---|---|---|---|---|---|---|---|---|---|---|---|---|---|---|---|---|---|---|---|\n| 1 | ID_279628684 | 190000 | 0 | 3 | 0 | 1 | 1 | 0 | 1 | 0 | 1 | 1 | 0 | 0 | 0 | 0 | 1 | 1 | 1 | 1 | 10 | 1 | 1 | 0 | 0 | 0 | 0 | 0 | 0 | 0 | 1 | 0 | 0 | 0 | 0 | 0 | 0 | 1 | 0 | 0 | 1 | 1 | 0 | 0 | 1 | 0 | 0 | 0 | 0 | 1 | 0 | 0 | 0 | 0 | 0 | 1 | 0 | 1 | 0 | 0 | 0 | 0 | 0 | 0 | 1 | 0 | 1 | 0 | 0 | 1 | 0 | 0 | 0 | 1 | 0 | 0 | 0 | 0 | 1 | 0 | 0 | 0 | 1 | 0 | 0 | 0 | 0 | 0 | 0 | 0 | 0 | 0 | 0 | 0 | 0 | 0 | 1 | 0 | 1 | 0 | 10 | 0  | 10 | 0 | 0 | 0 | 1 | 0 | 0 | 0 | 0 | 0 | 1 | 1.000000 | 0 | 0 | 1 | 0 | 0 | 0 | 0 | 1 | 1 | 1 | 0 | 0 | 0 | 0 | 0 | 1 | 0 | 43 | 100 | 1849 |  1 | 100 | 0 | 1.000000 |  0 | 100 | 1849 | 4 |\n| 2 | ID_f29eb3ddd | 135000 | 0 | 4 | 0 | 1 | 1 | 1 | 1 | 0 | 1 | 1 | 0 | 0 | 0 | 0 | 1 | 1 | 1 | 1 | 12 | 1 | 0 | 0 | 0 | 0 | 1 | 0 | 0 | 0 | 0 | 0 | 0 | 0 | 0 | 1 | 1 | 0 | 0 | 0 | 1 | 1 | 0 | 0 | 1 | 0 | 0 | 0 | 0 | 1 | 0 | 0 | 0 | 0 | 1 | 0 | 0 | 1 | 0 | 0 | 0 | 0 | 0 | 0 | 1 | 0 | 0 | 1 | 0 | 0 | 1 | 0 | 0 | 1 | 0 | 0 | 0 | 0 | 1 | 0 | 0 | 0 | 1 | 0 | 0 | 0 | 0 | 0 | 0 | 0 | 0 | 0 | 0 | 0 | 1 | 0 | 1 | 1 | 1 | 8 | 12 | 0  | 12 | 0 | 0 | 0 | 0 | 0 | 0 | 0 | 1 | 0 | 1 | 1.000000 | 0 | 0 | 1 | 0 | 0 | 0 | 0 | 1 | 1 | 1 | 0 | 0 | 0 | 0 | 0 | 1 | 0 | 67 | 144 | 4489 |  1 | 144 | 0 | 1.000000 | 64 | 144 | 4489 | 4 |\n| 3 | ID_68de51c94 | 130000 | 0 | 8 | 0 | 1 | 1 | 0 | 1 | 0 | 0 | 0 | 0 | 1 | 1 | 0 | 1 | 1 | 1 | 1 | 11 | 1 | 0 | 0 | 0 | 0 | 1 | 0 | 0 | 0 | 1 | 0 | 0 | 0 | 0 | 0 | 1 | 0 | 0 | 0 | 1 | 1 | 0 | 0 | 1 | 0 | 0 | 0 | 0 | 1 | 0 | 0 | 0 | 0 | 1 | 0 | 0 | 1 | 0 | 0 | 0 | 0 | 0 | 0 | 1 | 0 | 0 | 0 | 1 | 0 | 0 | 1 | 1 | 0 | 1 | 0 | 0 | 0 | 0 | 0 | 1 | 0 | 1 | 0 | 0 | 0 | 0 | 0 | 0 | 0 | 0 | 0 | 0 | 0 | 2 | 0 | 1 | 1 | 1 | 8 | 0  | 11 | 11 | 0 | 0 | 0 | 0 | 1 | 0 | 0 | 0 | 0 | 2 | 0.500000 | 1 | 0 | 0 | 0 | 0 | 0 | 0 | 0 | 0 | 1 | 0 | 0 | 0 | 0 | 0 | 1 | 0 | 92 | 121 | 8464 |  1 |   0 | 0 | 0.250000 | 64 | 121 | 8464 | 4 |\n| 4 | ID_d671db89c | 180000 | 0 | 5 | 0 | 1 | 1 | 1 | 1 | 0 | 2 | 2 | 1 | 1 | 2 | 1 | 3 | 4 | 4 | 4 |  9 | 4 | 1 | 0 | 0 | 0 | 0 | 0 | 0 | 0 | 1 | 0 | 0 | 0 | 0 | 0 | 1 | 0 | 0 | 0 | 1 | 1 | 0 | 0 | 1 | 0 | 0 | 0 | 0 | 1 | 0 | 0 | 0 | 0 | 1 | 0 | 0 | 1 | 0 | 0 | 0 | 0 | 0 | 0 | 0 | 1 | 0 | 0 | 1 | 0 | 0 | 1 | 0 | 1 | 0 | 0 | 0 | 0 | 0 | 0 | 0 | 1 | 0 | 0 | 1 | 0 | 0 | 0 | 0 | 0 | 0 | 0 | 0 | 0 | 3 | 2 | 2 | 0 | 4 | 0 | 11 | 0  | 11 | 0 | 0 | 0 | 1 | 0 | 0 | 0 | 0 | 0 | 3 | 1.333333 | 0 | 0 | 1 | 0 | 0 | 0 | 0 | 1 | 3 | 1 | 0 | 0 | 0 | 0 | 0 | 1 | 0 | 17 |  81 |  289 | 16 | 121 | 4 | 1.777778 |  1 | 121 |  289 | 4 |\n| 5 | ID_d56d6f5f5 | 180000 | 0 | 5 | 0 | 1 | 1 | 1 | 1 | 0 | 2 | 2 | 1 | 1 | 2 | 1 | 3 | 4 | 4 | 4 | 11 | 4 | 1 | 0 | 0 | 0 | 0 | 0 | 0 | 0 | 1 | 0 | 0 | 0 | 0 | 0 | 1 | 0 | 0 | 0 | 1 | 1 | 0 | 0 | 1 | 0 | 0 | 0 | 0 | 1 | 0 | 0 | 0 | 0 | 1 | 0 | 0 | 1 | 0 | 0 | 0 | 0 | 0 | 0 | 0 | 1 | 0 | 0 | 1 | 0 | 0 | 1 | 0 | 0 | 1 | 0 | 1 | 0 | 0 | 0 | 0 | 0 | 0 | 1 | 0 | 0 | 0 | 0 | 0 | 0 | 0 | 0 | 0 | 0 | 3 | 2 | 2 | 0 | 4 | 0 | 11 | 0  | 11 | 0 | 0 | 0 | 0 | 1 | 0 | 0 | 0 | 0 | 3 | 1.333333 | 0 | 0 | 1 | 0 | 0 | 0 | 0 | 1 | 3 | 1 | 0 | 0 | 0 | 0 | 0 | 1 | 0 | 37 | 121 | 1369 | 16 | 121 | 4 | 1.777778 |  1 | 121 | 1369 | 4 |\n| 6 | ID_ec05b1a7b | 180000 | 0 | 5 | 0 | 1 | 1 | 1 | 1 | 0 | 2 | 2 | 1 | 1 | 2 | 1 | 3 | 4 | 4 | 4 | 11 | 4 | 1 | 0 | 0 | 0 | 0 | 0 | 0 | 0 | 1 | 0 | 0 | 0 | 0 | 0 | 1 | 0 | 0 | 0 | 1 | 1 | 0 | 0 | 1 | 0 | 0 | 0 | 0 | 1 | 0 | 0 | 0 | 0 | 1 | 0 | 0 | 1 | 0 | 0 | 0 | 0 | 0 | 0 | 0 | 1 | 0 | 0 | 1 | 0 | 0 | 1 | 0 | 1 | 0 | 0 | 1 | 0 | 0 | 0 | 0 | 0 | 1 | 0 | 0 | 0 | 0 | 0 | 0 | 0 | 0 | 0 | 0 | 0 | 3 | 2 | 2 | 0 | 4 | 0 | 11 | 0  | 11 | 0 | 0 | 0 | 0 | 1 | 0 | 0 | 0 | 0 | 3 | 1.333333 | 0 | 0 | 1 | 0 | 0 | 0 | 0 | 1 | 3 | 1 | 0 | 0 | 0 | 0 | 0 | 1 | 0 | 38 | 121 | 1444 | 16 | 121 | 4 | 1.777778 |  1 | 121 | 1444 | 4 |\n\n",
            "text/html": [
              "<table class=\"dataframe\">\n",
              "<caption>A data.frame: 6 × 142</caption>\n",
              "<thead>\n",
              "\t<tr><th></th><th scope=col>Id</th><th scope=col>v2a1</th><th scope=col>hacdor</th><th scope=col>rooms</th><th scope=col>hacapo</th><th scope=col>v14a</th><th scope=col>refrig</th><th scope=col>v18q</th><th scope=col>v18q1</th><th scope=col>r4h1</th><th scope=col>r4h2</th><th scope=col>r4h3</th><th scope=col>r4m1</th><th scope=col>r4m2</th><th scope=col>r4m3</th><th scope=col>r4t1</th><th scope=col>r4t2</th><th scope=col>r4t3</th><th scope=col>tamhog</th><th scope=col>tamviv</th><th scope=col>escolari</th><th scope=col>hhsize</th><th scope=col>paredblolad</th><th scope=col>paredzocalo</th><th scope=col>paredpreb</th><th scope=col>pareddes</th><th scope=col>paredmad</th><th scope=col>paredzinc</th><th scope=col>paredfibras</th><th scope=col>paredother</th><th scope=col>pisomoscer</th><th scope=col>pisocemento</th><th scope=col>pisoother</th><th scope=col>pisonatur</th><th scope=col>pisonotiene</th><th scope=col>pisomadera</th><th scope=col>techozinc</th><th scope=col>techoentrepiso</th><th scope=col>techocane</th><th scope=col>techootro</th><th scope=col>cielorazo</th><th scope=col>abastaguadentro</th><th scope=col>abastaguafuera</th><th scope=col>abastaguano</th><th scope=col>public</th><th scope=col>planpri</th><th scope=col>noelec</th><th scope=col>coopele</th><th scope=col>sanitario1</th><th scope=col>sanitario2</th><th scope=col>sanitario3</th><th scope=col>sanitario5</th><th scope=col>sanitario6</th><th scope=col>energcocinar1</th><th scope=col>energcocinar2</th><th scope=col>energcocinar3</th><th scope=col>energcocinar4</th><th scope=col>elimbasu1</th><th scope=col>elimbasu2</th><th scope=col>elimbasu3</th><th scope=col>elimbasu4</th><th scope=col>elimbasu5</th><th scope=col>elimbasu6</th><th scope=col>epared1</th><th scope=col>epared2</th><th scope=col>epared3</th><th scope=col>etecho1</th><th scope=col>etecho2</th><th scope=col>etecho3</th><th scope=col>eviv1</th><th scope=col>eviv2</th><th scope=col>eviv3</th><th scope=col>dis</th><th scope=col>male</th><th scope=col>female</th><th scope=col>estadocivil1</th><th scope=col>estadocivil2</th><th scope=col>estadocivil3</th><th scope=col>estadocivil4</th><th scope=col>estadocivil5</th><th scope=col>estadocivil6</th><th scope=col>estadocivil7</th><th scope=col>parentesco1</th><th scope=col>parentesco2</th><th scope=col>parentesco3</th><th scope=col>parentesco4</th><th scope=col>parentesco5</th><th scope=col>parentesco6</th><th scope=col>parentesco7</th><th scope=col>parentesco8</th><th scope=col>parentesco9</th><th scope=col>parentesco10</th><th scope=col>parentesco11</th><th scope=col>parentesco12</th><th scope=col>idhogar</th><th scope=col>hogar_nin</th><th scope=col>hogar_adul</th><th scope=col>hogar_mayor</th><th scope=col>hogar_total</th><th scope=col>dependency</th><th scope=col>edjefe</th><th scope=col>edjefa</th><th scope=col>meaneduc</th><th scope=col>instlevel1</th><th scope=col>instlevel2</th><th scope=col>instlevel3</th><th scope=col>instlevel4</th><th scope=col>instlevel5</th><th scope=col>instlevel6</th><th scope=col>instlevel7</th><th scope=col>instlevel8</th><th scope=col>instlevel9</th><th scope=col>bedrooms</th><th scope=col>overcrowding</th><th scope=col>tipovivi1</th><th scope=col>tipovivi2</th><th scope=col>tipovivi3</th><th scope=col>tipovivi4</th><th scope=col>tipovivi5</th><th scope=col>computer</th><th scope=col>television</th><th scope=col>mobilephone</th><th scope=col>qmobilephone</th><th scope=col>lugar1</th><th scope=col>lugar2</th><th scope=col>lugar3</th><th scope=col>lugar4</th><th scope=col>lugar5</th><th scope=col>lugar6</th><th scope=col>area1</th><th scope=col>area2</th><th scope=col>age</th><th scope=col>SQBescolari</th><th scope=col>SQBage</th><th scope=col>SQBhogar_total</th><th scope=col>SQBedjefe</th><th scope=col>SQBhogar_nin</th><th scope=col>SQBovercrowding</th><th scope=col>SQBdependency</th><th scope=col>SQBmeaned</th><th scope=col>agesq</th><th scope=col>Target</th></tr>\n",
              "\t<tr><th></th><th scope=col>&lt;chr&gt;</th><th scope=col>&lt;dbl&gt;</th><th scope=col>&lt;int&gt;</th><th scope=col>&lt;int&gt;</th><th scope=col>&lt;int&gt;</th><th scope=col>&lt;int&gt;</th><th scope=col>&lt;int&gt;</th><th scope=col>&lt;int&gt;</th><th scope=col>&lt;int&gt;</th><th scope=col>&lt;int&gt;</th><th scope=col>&lt;int&gt;</th><th scope=col>&lt;int&gt;</th><th scope=col>&lt;int&gt;</th><th scope=col>&lt;int&gt;</th><th scope=col>&lt;int&gt;</th><th scope=col>&lt;int&gt;</th><th scope=col>&lt;int&gt;</th><th scope=col>&lt;int&gt;</th><th scope=col>&lt;int&gt;</th><th scope=col>&lt;int&gt;</th><th scope=col>&lt;int&gt;</th><th scope=col>&lt;int&gt;</th><th scope=col>&lt;int&gt;</th><th scope=col>&lt;int&gt;</th><th scope=col>&lt;int&gt;</th><th scope=col>&lt;int&gt;</th><th scope=col>&lt;int&gt;</th><th scope=col>&lt;int&gt;</th><th scope=col>&lt;int&gt;</th><th scope=col>&lt;int&gt;</th><th scope=col>&lt;int&gt;</th><th scope=col>&lt;int&gt;</th><th scope=col>&lt;int&gt;</th><th scope=col>&lt;int&gt;</th><th scope=col>&lt;int&gt;</th><th scope=col>&lt;int&gt;</th><th scope=col>&lt;int&gt;</th><th scope=col>&lt;int&gt;</th><th scope=col>&lt;int&gt;</th><th scope=col>&lt;int&gt;</th><th scope=col>&lt;int&gt;</th><th scope=col>&lt;int&gt;</th><th scope=col>&lt;int&gt;</th><th scope=col>&lt;int&gt;</th><th scope=col>&lt;int&gt;</th><th scope=col>&lt;int&gt;</th><th scope=col>&lt;int&gt;</th><th scope=col>&lt;int&gt;</th><th scope=col>&lt;int&gt;</th><th scope=col>&lt;int&gt;</th><th scope=col>&lt;int&gt;</th><th scope=col>&lt;int&gt;</th><th scope=col>&lt;int&gt;</th><th scope=col>&lt;int&gt;</th><th scope=col>&lt;int&gt;</th><th scope=col>&lt;int&gt;</th><th scope=col>&lt;int&gt;</th><th scope=col>&lt;int&gt;</th><th scope=col>&lt;int&gt;</th><th scope=col>&lt;int&gt;</th><th scope=col>&lt;int&gt;</th><th scope=col>&lt;int&gt;</th><th scope=col>&lt;int&gt;</th><th scope=col>&lt;int&gt;</th><th scope=col>&lt;int&gt;</th><th scope=col>&lt;int&gt;</th><th scope=col>&lt;int&gt;</th><th scope=col>&lt;int&gt;</th><th scope=col>&lt;int&gt;</th><th scope=col>&lt;int&gt;</th><th scope=col>&lt;int&gt;</th><th scope=col>&lt;int&gt;</th><th scope=col>&lt;int&gt;</th><th scope=col>&lt;int&gt;</th><th scope=col>&lt;int&gt;</th><th scope=col>&lt;int&gt;</th><th scope=col>&lt;int&gt;</th><th scope=col>&lt;int&gt;</th><th scope=col>&lt;int&gt;</th><th scope=col>&lt;int&gt;</th><th scope=col>&lt;int&gt;</th><th scope=col>&lt;int&gt;</th><th scope=col>&lt;int&gt;</th><th scope=col>&lt;int&gt;</th><th scope=col>&lt;int&gt;</th><th scope=col>&lt;int&gt;</th><th scope=col>&lt;int&gt;</th><th scope=col>&lt;int&gt;</th><th scope=col>&lt;int&gt;</th><th scope=col>&lt;int&gt;</th><th scope=col>&lt;int&gt;</th><th scope=col>&lt;int&gt;</th><th scope=col>&lt;int&gt;</th><th scope=col>&lt;int&gt;</th><th scope=col>&lt;dbl&gt;</th><th scope=col>&lt;int&gt;</th><th scope=col>&lt;int&gt;</th><th scope=col>&lt;int&gt;</th><th scope=col>&lt;int&gt;</th><th scope=col>&lt;chr&gt;</th><th scope=col>&lt;chr&gt;</th><th scope=col>&lt;chr&gt;</th><th scope=col>&lt;dbl&gt;</th><th scope=col>&lt;int&gt;</th><th scope=col>&lt;int&gt;</th><th scope=col>&lt;int&gt;</th><th scope=col>&lt;int&gt;</th><th scope=col>&lt;int&gt;</th><th scope=col>&lt;int&gt;</th><th scope=col>&lt;int&gt;</th><th scope=col>&lt;int&gt;</th><th scope=col>&lt;int&gt;</th><th scope=col>&lt;int&gt;</th><th scope=col>&lt;dbl&gt;</th><th scope=col>&lt;int&gt;</th><th scope=col>&lt;int&gt;</th><th scope=col>&lt;int&gt;</th><th scope=col>&lt;int&gt;</th><th scope=col>&lt;int&gt;</th><th scope=col>&lt;int&gt;</th><th scope=col>&lt;int&gt;</th><th scope=col>&lt;int&gt;</th><th scope=col>&lt;int&gt;</th><th scope=col>&lt;int&gt;</th><th scope=col>&lt;int&gt;</th><th scope=col>&lt;int&gt;</th><th scope=col>&lt;int&gt;</th><th scope=col>&lt;int&gt;</th><th scope=col>&lt;int&gt;</th><th scope=col>&lt;int&gt;</th><th scope=col>&lt;int&gt;</th><th scope=col>&lt;int&gt;</th><th scope=col>&lt;int&gt;</th><th scope=col>&lt;int&gt;</th><th scope=col>&lt;int&gt;</th><th scope=col>&lt;int&gt;</th><th scope=col>&lt;int&gt;</th><th scope=col>&lt;dbl&gt;</th><th scope=col>&lt;dbl&gt;</th><th scope=col>&lt;dbl&gt;</th><th scope=col>&lt;int&gt;</th><th scope=col>&lt;int&gt;</th></tr>\n",
              "</thead>\n",
              "<tbody>\n",
              "\t<tr><th scope=row>1</th><td>ID_279628684</td><td>190000</td><td>0</td><td>3</td><td>0</td><td>1</td><td>1</td><td>0</td><td>1</td><td>0</td><td>1</td><td>1</td><td>0</td><td>0</td><td>0</td><td>0</td><td>1</td><td>1</td><td>1</td><td>1</td><td>10</td><td>1</td><td>1</td><td>0</td><td>0</td><td>0</td><td>0</td><td>0</td><td>0</td><td>0</td><td>1</td><td>0</td><td>0</td><td>0</td><td>0</td><td>0</td><td>0</td><td>1</td><td>0</td><td>0</td><td>1</td><td>1</td><td>0</td><td>0</td><td>1</td><td>0</td><td>0</td><td>0</td><td>0</td><td>1</td><td>0</td><td>0</td><td>0</td><td>0</td><td>0</td><td>1</td><td>0</td><td>1</td><td>0</td><td>0</td><td>0</td><td>0</td><td>0</td><td>0</td><td>1</td><td>0</td><td>1</td><td>0</td><td>0</td><td>1</td><td>0</td><td>0</td><td>0</td><td>1</td><td>0</td><td>0</td><td>0</td><td>0</td><td>1</td><td>0</td><td>0</td><td>0</td><td>1</td><td>0</td><td>0</td><td>0</td><td>0</td><td>0</td><td>0</td><td>0</td><td>0</td><td>0</td><td>0</td><td>0</td><td>0</td><td>0</td><td>1</td><td>0</td><td>1</td><td>0</td><td>10</td><td>0 </td><td>10</td><td>0</td><td>0</td><td>0</td><td>1</td><td>0</td><td>0</td><td>0</td><td>0</td><td>0</td><td>1</td><td>1.000000</td><td>0</td><td>0</td><td>1</td><td>0</td><td>0</td><td>0</td><td>0</td><td>1</td><td>1</td><td>1</td><td>0</td><td>0</td><td>0</td><td>0</td><td>0</td><td>1</td><td>0</td><td>43</td><td>100</td><td>1849</td><td> 1</td><td>100</td><td>0</td><td>1.000000</td><td> 0</td><td>100</td><td>1849</td><td>4</td></tr>\n",
              "\t<tr><th scope=row>2</th><td>ID_f29eb3ddd</td><td>135000</td><td>0</td><td>4</td><td>0</td><td>1</td><td>1</td><td>1</td><td>1</td><td>0</td><td>1</td><td>1</td><td>0</td><td>0</td><td>0</td><td>0</td><td>1</td><td>1</td><td>1</td><td>1</td><td>12</td><td>1</td><td>0</td><td>0</td><td>0</td><td>0</td><td>1</td><td>0</td><td>0</td><td>0</td><td>0</td><td>0</td><td>0</td><td>0</td><td>0</td><td>1</td><td>1</td><td>0</td><td>0</td><td>0</td><td>1</td><td>1</td><td>0</td><td>0</td><td>1</td><td>0</td><td>0</td><td>0</td><td>0</td><td>1</td><td>0</td><td>0</td><td>0</td><td>0</td><td>1</td><td>0</td><td>0</td><td>1</td><td>0</td><td>0</td><td>0</td><td>0</td><td>0</td><td>0</td><td>1</td><td>0</td><td>0</td><td>1</td><td>0</td><td>0</td><td>1</td><td>0</td><td>0</td><td>1</td><td>0</td><td>0</td><td>0</td><td>0</td><td>1</td><td>0</td><td>0</td><td>0</td><td>1</td><td>0</td><td>0</td><td>0</td><td>0</td><td>0</td><td>0</td><td>0</td><td>0</td><td>0</td><td>0</td><td>0</td><td>1</td><td>0</td><td>1</td><td>1</td><td>1</td><td>8</td><td>12</td><td>0 </td><td>12</td><td>0</td><td>0</td><td>0</td><td>0</td><td>0</td><td>0</td><td>0</td><td>1</td><td>0</td><td>1</td><td>1.000000</td><td>0</td><td>0</td><td>1</td><td>0</td><td>0</td><td>0</td><td>0</td><td>1</td><td>1</td><td>1</td><td>0</td><td>0</td><td>0</td><td>0</td><td>0</td><td>1</td><td>0</td><td>67</td><td>144</td><td>4489</td><td> 1</td><td>144</td><td>0</td><td>1.000000</td><td>64</td><td>144</td><td>4489</td><td>4</td></tr>\n",
              "\t<tr><th scope=row>3</th><td>ID_68de51c94</td><td>130000</td><td>0</td><td>8</td><td>0</td><td>1</td><td>1</td><td>0</td><td>1</td><td>0</td><td>0</td><td>0</td><td>0</td><td>1</td><td>1</td><td>0</td><td>1</td><td>1</td><td>1</td><td>1</td><td>11</td><td>1</td><td>0</td><td>0</td><td>0</td><td>0</td><td>1</td><td>0</td><td>0</td><td>0</td><td>1</td><td>0</td><td>0</td><td>0</td><td>0</td><td>0</td><td>1</td><td>0</td><td>0</td><td>0</td><td>1</td><td>1</td><td>0</td><td>0</td><td>1</td><td>0</td><td>0</td><td>0</td><td>0</td><td>1</td><td>0</td><td>0</td><td>0</td><td>0</td><td>1</td><td>0</td><td>0</td><td>1</td><td>0</td><td>0</td><td>0</td><td>0</td><td>0</td><td>0</td><td>1</td><td>0</td><td>0</td><td>0</td><td>1</td><td>0</td><td>0</td><td>1</td><td>1</td><td>0</td><td>1</td><td>0</td><td>0</td><td>0</td><td>0</td><td>0</td><td>1</td><td>0</td><td>1</td><td>0</td><td>0</td><td>0</td><td>0</td><td>0</td><td>0</td><td>0</td><td>0</td><td>0</td><td>0</td><td>0</td><td>2</td><td>0</td><td>1</td><td>1</td><td>1</td><td>8</td><td>0 </td><td>11</td><td>11</td><td>0</td><td>0</td><td>0</td><td>0</td><td>1</td><td>0</td><td>0</td><td>0</td><td>0</td><td>2</td><td>0.500000</td><td>1</td><td>0</td><td>0</td><td>0</td><td>0</td><td>0</td><td>0</td><td>0</td><td>0</td><td>1</td><td>0</td><td>0</td><td>0</td><td>0</td><td>0</td><td>1</td><td>0</td><td>92</td><td>121</td><td>8464</td><td> 1</td><td>  0</td><td>0</td><td>0.250000</td><td>64</td><td>121</td><td>8464</td><td>4</td></tr>\n",
              "\t<tr><th scope=row>4</th><td>ID_d671db89c</td><td>180000</td><td>0</td><td>5</td><td>0</td><td>1</td><td>1</td><td>1</td><td>1</td><td>0</td><td>2</td><td>2</td><td>1</td><td>1</td><td>2</td><td>1</td><td>3</td><td>4</td><td>4</td><td>4</td><td> 9</td><td>4</td><td>1</td><td>0</td><td>0</td><td>0</td><td>0</td><td>0</td><td>0</td><td>0</td><td>1</td><td>0</td><td>0</td><td>0</td><td>0</td><td>0</td><td>1</td><td>0</td><td>0</td><td>0</td><td>1</td><td>1</td><td>0</td><td>0</td><td>1</td><td>0</td><td>0</td><td>0</td><td>0</td><td>1</td><td>0</td><td>0</td><td>0</td><td>0</td><td>1</td><td>0</td><td>0</td><td>1</td><td>0</td><td>0</td><td>0</td><td>0</td><td>0</td><td>0</td><td>0</td><td>1</td><td>0</td><td>0</td><td>1</td><td>0</td><td>0</td><td>1</td><td>0</td><td>1</td><td>0</td><td>0</td><td>0</td><td>0</td><td>0</td><td>0</td><td>0</td><td>1</td><td>0</td><td>0</td><td>1</td><td>0</td><td>0</td><td>0</td><td>0</td><td>0</td><td>0</td><td>0</td><td>0</td><td>0</td><td>3</td><td>2</td><td>2</td><td>0</td><td>4</td><td>0</td><td>11</td><td>0 </td><td>11</td><td>0</td><td>0</td><td>0</td><td>1</td><td>0</td><td>0</td><td>0</td><td>0</td><td>0</td><td>3</td><td>1.333333</td><td>0</td><td>0</td><td>1</td><td>0</td><td>0</td><td>0</td><td>0</td><td>1</td><td>3</td><td>1</td><td>0</td><td>0</td><td>0</td><td>0</td><td>0</td><td>1</td><td>0</td><td>17</td><td> 81</td><td> 289</td><td>16</td><td>121</td><td>4</td><td>1.777778</td><td> 1</td><td>121</td><td> 289</td><td>4</td></tr>\n",
              "\t<tr><th scope=row>5</th><td>ID_d56d6f5f5</td><td>180000</td><td>0</td><td>5</td><td>0</td><td>1</td><td>1</td><td>1</td><td>1</td><td>0</td><td>2</td><td>2</td><td>1</td><td>1</td><td>2</td><td>1</td><td>3</td><td>4</td><td>4</td><td>4</td><td>11</td><td>4</td><td>1</td><td>0</td><td>0</td><td>0</td><td>0</td><td>0</td><td>0</td><td>0</td><td>1</td><td>0</td><td>0</td><td>0</td><td>0</td><td>0</td><td>1</td><td>0</td><td>0</td><td>0</td><td>1</td><td>1</td><td>0</td><td>0</td><td>1</td><td>0</td><td>0</td><td>0</td><td>0</td><td>1</td><td>0</td><td>0</td><td>0</td><td>0</td><td>1</td><td>0</td><td>0</td><td>1</td><td>0</td><td>0</td><td>0</td><td>0</td><td>0</td><td>0</td><td>0</td><td>1</td><td>0</td><td>0</td><td>1</td><td>0</td><td>0</td><td>1</td><td>0</td><td>0</td><td>1</td><td>0</td><td>1</td><td>0</td><td>0</td><td>0</td><td>0</td><td>0</td><td>0</td><td>1</td><td>0</td><td>0</td><td>0</td><td>0</td><td>0</td><td>0</td><td>0</td><td>0</td><td>0</td><td>0</td><td>3</td><td>2</td><td>2</td><td>0</td><td>4</td><td>0</td><td>11</td><td>0 </td><td>11</td><td>0</td><td>0</td><td>0</td><td>0</td><td>1</td><td>0</td><td>0</td><td>0</td><td>0</td><td>3</td><td>1.333333</td><td>0</td><td>0</td><td>1</td><td>0</td><td>0</td><td>0</td><td>0</td><td>1</td><td>3</td><td>1</td><td>0</td><td>0</td><td>0</td><td>0</td><td>0</td><td>1</td><td>0</td><td>37</td><td>121</td><td>1369</td><td>16</td><td>121</td><td>4</td><td>1.777778</td><td> 1</td><td>121</td><td>1369</td><td>4</td></tr>\n",
              "\t<tr><th scope=row>6</th><td>ID_ec05b1a7b</td><td>180000</td><td>0</td><td>5</td><td>0</td><td>1</td><td>1</td><td>1</td><td>1</td><td>0</td><td>2</td><td>2</td><td>1</td><td>1</td><td>2</td><td>1</td><td>3</td><td>4</td><td>4</td><td>4</td><td>11</td><td>4</td><td>1</td><td>0</td><td>0</td><td>0</td><td>0</td><td>0</td><td>0</td><td>0</td><td>1</td><td>0</td><td>0</td><td>0</td><td>0</td><td>0</td><td>1</td><td>0</td><td>0</td><td>0</td><td>1</td><td>1</td><td>0</td><td>0</td><td>1</td><td>0</td><td>0</td><td>0</td><td>0</td><td>1</td><td>0</td><td>0</td><td>0</td><td>0</td><td>1</td><td>0</td><td>0</td><td>1</td><td>0</td><td>0</td><td>0</td><td>0</td><td>0</td><td>0</td><td>0</td><td>1</td><td>0</td><td>0</td><td>1</td><td>0</td><td>0</td><td>1</td><td>0</td><td>1</td><td>0</td><td>0</td><td>1</td><td>0</td><td>0</td><td>0</td><td>0</td><td>0</td><td>1</td><td>0</td><td>0</td><td>0</td><td>0</td><td>0</td><td>0</td><td>0</td><td>0</td><td>0</td><td>0</td><td>0</td><td>3</td><td>2</td><td>2</td><td>0</td><td>4</td><td>0</td><td>11</td><td>0 </td><td>11</td><td>0</td><td>0</td><td>0</td><td>0</td><td>1</td><td>0</td><td>0</td><td>0</td><td>0</td><td>3</td><td>1.333333</td><td>0</td><td>0</td><td>1</td><td>0</td><td>0</td><td>0</td><td>0</td><td>1</td><td>3</td><td>1</td><td>0</td><td>0</td><td>0</td><td>0</td><td>0</td><td>1</td><td>0</td><td>38</td><td>121</td><td>1444</td><td>16</td><td>121</td><td>4</td><td>1.777778</td><td> 1</td><td>121</td><td>1444</td><td>4</td></tr>\n",
              "</tbody>\n",
              "</table>\n"
            ]
          },
          "metadata": {}
        }
      ]
    },
    {
      "cell_type": "code",
      "metadata": {
        "id": "hKduuC_r6Gzp"
      },
      "source": [
        "train1 <- train\n",
        "train1$Target[train1$Target == 1] = 'Extreme Poverty'\n",
        "train1$Target[train1$Target == 2] = 'Moderate Poverty'\n",
        "train1$Target[train1$Target == 3] = 'Vulnerable Household'\n",
        "train1$Target[train1$Target == 4] = 'Non-Vulnerable Household'"
      ],
      "execution_count": 29,
      "outputs": []
    },
    {
      "cell_type": "code",
      "metadata": {
        "colab": {
          "base_uri": "https://localhost:8080/",
          "height": 437
        },
        "id": "hprCjv4lOLmU",
        "outputId": "c05088d2-b087-4ae5-a82f-4bd50b8887c6"
      },
      "source": [
        "train1 %>%\n",
        "ggplot(aes(Target))+\n",
        "geom_bar(color = 'black', fill = 'orange')+\n",
        "xlab(\"Target Classes\")+\n",
        "ylab(\"Target Classes Count\")"
      ],
      "execution_count": 30,
      "outputs": [
        {
          "output_type": "display_data",
          "data": {
            "image/png": "[encoded data removed]",
            "text/plain": [
              "plot without title"
            ]
          },
          "metadata": {
            "image/png": {
              "width": 420,
              "height": 420
            }
          }
        }
      ]
    },
    {
      "cell_type": "code",
      "metadata": {
        "colab": {
          "base_uri": "https://localhost:8080/"
        },
        "id": "di5amRfJo51S",
        "outputId": "9374ae44-7425-443d-bd86-d1c632c9bf13"
      },
      "source": [
        "library(devtools)\n",
        "remotes::install_github(\"cran/DMwR\")"
      ],
      "execution_count": 31,
      "outputs": [
        {
          "output_type": "stream",
          "name": "stderr",
          "text": [
            "Loading required package: usethis\n",
            "\n",
            "Skipping install of 'DMwR' from a github remote, the SHA1 (6fd4f0cd) has not changed since last install.\n",
            "  Use `force = TRUE` to force installation\n",
            "\n"
          ]
        }
      ]
    },
    {
      "cell_type": "code",
      "metadata": {
        "colab": {
          "base_uri": "https://localhost:8080/"
        },
        "id": "IeibBnDJnleK",
        "outputId": "3adf23af-6094-48cb-ce95-3c72639036fb"
      },
      "source": [
        "library(DMwR)"
      ],
      "execution_count": 32,
      "outputs": [
        {
          "output_type": "stream",
          "name": "stderr",
          "text": [
            "Loading required package: lattice\n",
            "\n",
            "Loading required package: grid\n",
            "\n",
            "Registered S3 method overwritten by 'quantmod':\n",
            "  method            from\n",
            "  as.zoo.data.frame zoo \n",
            "\n"
          ]
        }
      ]
    },
    {
      "cell_type": "code",
      "metadata": {
        "colab": {
          "base_uri": "https://localhost:8080/",
          "height": 34
        },
        "id": "uMbuSs3ZvHoG",
        "outputId": "f433bbe6-4d67-4006-a8d5-1e8aa7d1b691"
      },
      "source": [
        "typeof(train$Target)"
      ],
      "execution_count": 33,
      "outputs": [
        {
          "output_type": "display_data",
          "data": {
            "text/plain": [
              "[1] \"integer\""
            ],
            "text/latex": "'integer'",
            "text/markdown": "'integer'",
            "text/html": [
              "'integer'"
            ]
          },
          "metadata": {}
        }
      ]
    },
    {
      "cell_type": "code",
      "metadata": {
        "colab": {
          "base_uri": "https://localhost:8080/"
        },
        "id": "G49pZ9BRwHrW",
        "outputId": "21fcc6a6-f61f-4f11-978e-67b238128bb1"
      },
      "source": [
        "train1 <- train\n",
        "train1 <- subset(train1, select = c(-Id))\n",
        "str(train1)"
      ],
      "execution_count": 34,
      "outputs": [
        {
          "output_type": "stream",
          "name": "stdout",
          "text": [
            "'data.frame':\t9557 obs. of  141 variables:\n",
            " $ v2a1           : num  190000 135000 130000 180000 180000 180000 180000 130000 130000 130000 ...\n",
            " $ hacdor         : int  0 0 0 0 0 0 0 1 1 1 ...\n",
            " $ rooms          : int  3 4 8 5 5 5 5 2 2 2 ...\n",
            " $ hacapo         : int  0 0 0 0 0 0 0 0 0 0 ...\n",
            " $ v14a           : int  1 1 1 1 1 1 1 1 1 1 ...\n",
            " $ refrig         : int  1 1 1 1 1 1 1 1 1 1 ...\n",
            " $ v18q           : int  0 1 0 1 1 1 1 0 0 0 ...\n",
            " $ v18q1          : int  1 1 1 1 1 1 1 1 1 1 ...\n",
            " $ r4h1           : int  0 0 0 0 0 0 0 0 0 0 ...\n",
            " $ r4h2           : int  1 1 0 2 2 2 2 1 1 1 ...\n",
            " $ r4h3           : int  1 1 0 2 2 2 2 1 1 1 ...\n",
            " $ r4m1           : int  0 0 0 1 1 1 1 2 2 2 ...\n",
            " $ r4m2           : int  0 0 1 1 1 1 1 1 1 1 ...\n",
            " $ r4m3           : int  0 0 1 2 2 2 2 3 3 3 ...\n",
            " $ r4t1           : int  0 0 0 1 1 1 1 2 2 2 ...\n",
            " $ r4t2           : int  1 1 1 3 3 3 3 2 2 2 ...\n",
            " $ r4t3           : int  1 1 1 4 4 4 4 4 4 4 ...\n",
            " $ tamhog         : int  1 1 1 4 4 4 4 4 4 4 ...\n",
            " $ tamviv         : int  1 1 1 4 4 4 4 4 4 4 ...\n",
            " $ escolari       : int  10 12 11 9 11 11 2 0 9 11 ...\n",
            " $ hhsize         : int  1 1 1 4 4 4 4 4 4 4 ...\n",
            " $ paredblolad    : int  1 0 0 1 1 1 1 1 1 1 ...\n",
            " $ paredzocalo    : int  0 0 0 0 0 0 0 0 0 0 ...\n",
            " $ paredpreb      : int  0 0 0 0 0 0 0 0 0 0 ...\n",
            " $ pareddes       : int  0 0 0 0 0 0 0 0 0 0 ...\n",
            " $ paredmad       : int  0 1 1 0 0 0 0 0 0 0 ...\n",
            " $ paredzinc      : int  0 0 0 0 0 0 0 0 0 0 ...\n",
            " $ paredfibras    : int  0 0 0 0 0 0 0 0 0 0 ...\n",
            " $ paredother     : int  0 0 0 0 0 0 0 0 0 0 ...\n",
            " $ pisomoscer     : int  1 0 1 1 1 1 1 1 1 1 ...\n",
            " $ pisocemento    : int  0 0 0 0 0 0 0 0 0 0 ...\n",
            " $ pisoother      : int  0 0 0 0 0 0 0 0 0 0 ...\n",
            " $ pisonatur      : int  0 0 0 0 0 0 0 0 0 0 ...\n",
            " $ pisonotiene    : int  0 0 0 0 0 0 0 0 0 0 ...\n",
            " $ pisomadera     : int  0 1 0 0 0 0 0 0 0 0 ...\n",
            " $ techozinc      : int  0 1 1 1 1 1 1 1 1 1 ...\n",
            " $ techoentrepiso : int  1 0 0 0 0 0 0 0 0 0 ...\n",
            " $ techocane      : int  0 0 0 0 0 0 0 0 0 0 ...\n",
            " $ techootro      : int  0 0 0 0 0 0 0 0 0 0 ...\n",
            " $ cielorazo      : int  1 1 1 1 1 1 1 1 1 1 ...\n",
            " $ abastaguadentro: int  1 1 1 1 1 1 1 1 1 1 ...\n",
            " $ abastaguafuera : int  0 0 0 0 0 0 0 0 0 0 ...\n",
            " $ abastaguano    : int  0 0 0 0 0 0 0 0 0 0 ...\n",
            " $ public         : int  1 1 1 1 1 1 1 1 1 1 ...\n",
            " $ planpri        : int  0 0 0 0 0 0 0 0 0 0 ...\n",
            " $ noelec         : int  0 0 0 0 0 0 0 0 0 0 ...\n",
            " $ coopele        : int  0 0 0 0 0 0 0 0 0 0 ...\n",
            " $ sanitario1     : int  0 0 0 0 0 0 0 0 0 0 ...\n",
            " $ sanitario2     : int  1 1 1 1 1 1 1 1 1 1 ...\n",
            " $ sanitario3     : int  0 0 0 0 0 0 0 0 0 0 ...\n",
            " $ sanitario5     : int  0 0 0 0 0 0 0 0 0 0 ...\n",
            " $ sanitario6     : int  0 0 0 0 0 0 0 0 0 0 ...\n",
            " $ energcocinar1  : int  0 0 0 0 0 0 0 0 0 0 ...\n",
            " $ energcocinar2  : int  0 1 1 1 1 1 1 0 0 0 ...\n",
            " $ energcocinar3  : int  1 0 0 0 0 0 0 1 1 1 ...\n",
            " $ energcocinar4  : int  0 0 0 0 0 0 0 0 0 0 ...\n",
            " $ elimbasu1      : int  1 1 1 1 1 1 1 1 1 1 ...\n",
            " $ elimbasu2      : int  0 0 0 0 0 0 0 0 0 0 ...\n",
            " $ elimbasu3      : int  0 0 0 0 0 0 0 0 0 0 ...\n",
            " $ elimbasu4      : int  0 0 0 0 0 0 0 0 0 0 ...\n",
            " $ elimbasu5      : int  0 0 0 0 0 0 0 0 0 0 ...\n",
            " $ elimbasu6      : int  0 0 0 0 0 0 0 0 0 0 ...\n",
            " $ epared1        : int  0 0 0 0 0 0 0 1 1 1 ...\n",
            " $ epared2        : int  1 1 1 0 0 0 0 0 0 0 ...\n",
            " $ epared3        : int  0 0 0 1 1 1 1 0 0 0 ...\n",
            " $ etecho1        : int  1 0 0 0 0 0 0 1 1 1 ...\n",
            " $ etecho2        : int  0 1 0 0 0 0 0 0 0 0 ...\n",
            " $ etecho3        : int  0 0 1 1 1 1 1 0 0 0 ...\n",
            " $ eviv1          : int  1 0 0 0 0 0 0 0 0 0 ...\n",
            " $ eviv2          : int  0 1 0 0 0 0 0 1 1 1 ...\n",
            " $ eviv3          : int  0 0 1 1 1 1 1 0 0 0 ...\n",
            " $ dis            : int  0 0 1 0 0 0 0 0 0 0 ...\n",
            " $ male           : int  1 1 0 1 0 1 0 0 1 0 ...\n",
            " $ female         : int  0 0 1 0 1 0 1 1 0 1 ...\n",
            " $ estadocivil1   : int  0 0 0 0 0 0 1 1 0 0 ...\n",
            " $ estadocivil2   : int  0 0 0 0 1 1 0 0 1 1 ...\n",
            " $ estadocivil3   : int  0 0 0 0 0 0 0 0 0 0 ...\n",
            " $ estadocivil4   : int  1 1 0 0 0 0 0 0 0 0 ...\n",
            " $ estadocivil5   : int  0 0 0 0 0 0 0 0 0 0 ...\n",
            " $ estadocivil6   : int  0 0 1 0 0 0 0 0 0 0 ...\n",
            " $ estadocivil7   : int  0 0 0 1 0 0 0 0 0 0 ...\n",
            " $ parentesco1    : int  1 1 1 0 0 1 0 0 1 0 ...\n",
            " $ parentesco2    : int  0 0 0 0 1 0 0 0 0 1 ...\n",
            " $ parentesco3    : int  0 0 0 1 0 0 1 1 0 0 ...\n",
            " $ parentesco4    : int  0 0 0 0 0 0 0 0 0 0 ...\n",
            " $ parentesco5    : int  0 0 0 0 0 0 0 0 0 0 ...\n",
            " $ parentesco6    : int  0 0 0 0 0 0 0 0 0 0 ...\n",
            " $ parentesco7    : int  0 0 0 0 0 0 0 0 0 0 ...\n",
            " $ parentesco8    : int  0 0 0 0 0 0 0 0 0 0 ...\n",
            " $ parentesco9    : int  0 0 0 0 0 0 0 0 0 0 ...\n",
            " $ parentesco10   : int  0 0 0 0 0 0 0 0 0 0 ...\n",
            " $ parentesco11   : int  0 0 0 0 0 0 0 0 0 0 ...\n",
            " $ parentesco12   : int  0 0 0 0 0 0 0 0 0 0 ...\n",
            " $ idhogar        : num  0 1 2 3 3 3 3 4 4 4 ...\n",
            " $ hogar_nin      : int  0 0 0 2 2 2 2 2 2 2 ...\n",
            " $ hogar_adul     : int  1 1 1 2 2 2 2 2 2 2 ...\n",
            " $ hogar_mayor    : int  0 1 1 0 0 0 0 0 0 0 ...\n",
            " $ hogar_total    : int  1 1 1 4 4 4 4 4 4 4 ...\n",
            " $ dependency     : chr  \"0\" \"8\" \"8\" \"0\" ...\n",
            "  [list output truncated]\n"
          ]
        }
      ]
    },
    {
      "cell_type": "code",
      "metadata": {
        "colab": {
          "base_uri": "https://localhost:8080/",
          "height": 158
        },
        "id": "VZECQUpoy9Lr",
        "outputId": "fa505e85-4404-4b47-95f2-a54b15127605"
      },
      "source": [
        "train1 %>%\n",
        "  select_if(is.character) %>%\n",
        "  head(2)"
      ],
      "execution_count": 35,
      "outputs": [
        {
          "output_type": "display_data",
          "data": {
            "text/plain": [
              "  dependency edjefe edjefa\n",
              "1 0          10     0     \n",
              "2 8          12     0     "
            ],
            "text/latex": "A data.frame: 2 × 3\n\\begin{tabular}{r|lll}\n  & dependency & edjefe & edjefa\\\\\n  & <chr> & <chr> & <chr>\\\\\n\\hline\n\t1 & 0 & 10 & 0\\\\\n\t2 & 8 & 12 & 0\\\\\n\\end{tabular}\n",
            "text/markdown": "\nA data.frame: 2 × 3\n\n| <!--/--> | dependency &lt;chr&gt; | edjefe &lt;chr&gt; | edjefa &lt;chr&gt; |\n|---|---|---|---|\n| 1 | 0 | 10 | 0 |\n| 2 | 8 | 12 | 0 |\n\n",
            "text/html": [
              "<table class=\"dataframe\">\n",
              "<caption>A data.frame: 2 × 3</caption>\n",
              "<thead>\n",
              "\t<tr><th></th><th scope=col>dependency</th><th scope=col>edjefe</th><th scope=col>edjefa</th></tr>\n",
              "\t<tr><th></th><th scope=col>&lt;chr&gt;</th><th scope=col>&lt;chr&gt;</th><th scope=col>&lt;chr&gt;</th></tr>\n",
              "</thead>\n",
              "<tbody>\n",
              "\t<tr><th scope=row>1</th><td>0</td><td>10</td><td>0</td></tr>\n",
              "\t<tr><th scope=row>2</th><td>8</td><td>12</td><td>0</td></tr>\n",
              "</tbody>\n",
              "</table>\n"
            ]
          },
          "metadata": {}
        }
      ]
    },
    {
      "cell_type": "code",
      "metadata": {
        "id": "-HmG4iD-zBWO"
      },
      "source": [
        "train1$dependency <- as.integer(train1$dependency)\n",
        "train1$edjefa <- as.integer(train1$edjefa)\n",
        "train1$edjefe <- as.integer(train1$edjefe)"
      ],
      "execution_count": 36,
      "outputs": []
    },
    {
      "cell_type": "code",
      "metadata": {
        "id": "611hcKO7bkV9"
      },
      "source": [
        "train1$Target <- as.factor(train1$Target)"
      ],
      "execution_count": 37,
      "outputs": []
    },
    {
      "cell_type": "code",
      "metadata": {
        "colab": {
          "base_uri": "https://localhost:8080/",
          "height": 237
        },
        "id": "OFgpbcbkm9dD",
        "outputId": "d32ccf29-26d4-47ff-eee0-8ad629052e8b"
      },
      "source": [
        "as.data.frame(table(train$Target))"
      ],
      "execution_count": 38,
      "outputs": [
        {
          "output_type": "display_data",
          "data": {
            "text/plain": [
              "  Var1 Freq\n",
              "1 1     755\n",
              "2 2    1597\n",
              "3 3    1209\n",
              "4 4    5996"
            ],
            "text/latex": "A data.frame: 4 × 2\n\\begin{tabular}{ll}\n Var1 & Freq\\\\\n <fct> & <int>\\\\\n\\hline\n\t 1 &  755\\\\\n\t 2 & 1597\\\\\n\t 3 & 1209\\\\\n\t 4 & 5996\\\\\n\\end{tabular}\n",
            "text/markdown": "\nA data.frame: 4 × 2\n\n| Var1 &lt;fct&gt; | Freq &lt;int&gt; |\n|---|---|\n| 1 |  755 |\n| 2 | 1597 |\n| 3 | 1209 |\n| 4 | 5996 |\n\n",
            "text/html": [
              "<table class=\"dataframe\">\n",
              "<caption>A data.frame: 4 × 2</caption>\n",
              "<thead>\n",
              "\t<tr><th scope=col>Var1</th><th scope=col>Freq</th></tr>\n",
              "\t<tr><th scope=col>&lt;fct&gt;</th><th scope=col>&lt;int&gt;</th></tr>\n",
              "</thead>\n",
              "<tbody>\n",
              "\t<tr><td>1</td><td> 755</td></tr>\n",
              "\t<tr><td>2</td><td>1597</td></tr>\n",
              "\t<tr><td>3</td><td>1209</td></tr>\n",
              "\t<tr><td>4</td><td>5996</td></tr>\n",
              "</tbody>\n",
              "</table>\n"
            ]
          },
          "metadata": {}
        }
      ]
    },
    {
      "cell_type": "markdown",
      "metadata": {
        "id": "yCj2Avv_YLYX"
      },
      "source": [
        "Undersampling would decrease the proportion of your majority class until the number is similar to the minority class. \n",
        "\n",
        "At the same time, Oversampling would resample the minority class proportion following the majority class proportion.\n"
      ]
    },
    {
      "cell_type": "code",
      "metadata": {
        "id": "XBeBPyUZrbX1"
      },
      "source": [
        "balanced_train <- SMOTE(Target ~ ., train1, perc.over = 2000, perc.under=140)"
      ],
      "execution_count": 39,
      "outputs": []
    },
    {
      "cell_type": "code",
      "metadata": {
        "colab": {
          "base_uri": "https://localhost:8080/",
          "height": 237
        },
        "id": "xyn8AxNd2VGG",
        "outputId": "94a2380d-2a85-468f-97dd-2c0fcc1bed8a"
      },
      "source": [
        "as.data.frame(table(balanced_train$Target))"
      ],
      "execution_count": 40,
      "outputs": [
        {
          "output_type": "display_data",
          "data": {
            "text/plain": [
              "  Var1 Freq \n",
              "1 1    15855\n",
              "2 2     3825\n",
              "3 3     2836\n",
              "4 4    14479"
            ],
            "text/latex": "A data.frame: 4 × 2\n\\begin{tabular}{ll}\n Var1 & Freq\\\\\n <fct> & <int>\\\\\n\\hline\n\t 1 & 15855\\\\\n\t 2 &  3825\\\\\n\t 3 &  2836\\\\\n\t 4 & 14479\\\\\n\\end{tabular}\n",
            "text/markdown": "\nA data.frame: 4 × 2\n\n| Var1 &lt;fct&gt; | Freq &lt;int&gt; |\n|---|---|\n| 1 | 15855 |\n| 2 |  3825 |\n| 3 |  2836 |\n| 4 | 14479 |\n\n",
            "text/html": [
              "<table class=\"dataframe\">\n",
              "<caption>A data.frame: 4 × 2</caption>\n",
              "<thead>\n",
              "\t<tr><th scope=col>Var1</th><th scope=col>Freq</th></tr>\n",
              "\t<tr><th scope=col>&lt;fct&gt;</th><th scope=col>&lt;int&gt;</th></tr>\n",
              "</thead>\n",
              "<tbody>\n",
              "\t<tr><td>1</td><td>15855</td></tr>\n",
              "\t<tr><td>2</td><td> 3825</td></tr>\n",
              "\t<tr><td>3</td><td> 2836</td></tr>\n",
              "\t<tr><td>4</td><td>14479</td></tr>\n",
              "</tbody>\n",
              "</table>\n"
            ]
          },
          "metadata": {}
        }
      ]
    },
    {
      "cell_type": "code",
      "metadata": {
        "id": "ugLDuqF_YbMZ"
      },
      "source": [
        "balanced_train1 <- SMOTE(Target ~., balanced_train, perc.over = 1000, perc.under = 200)"
      ],
      "execution_count": 41,
      "outputs": []
    },
    {
      "cell_type": "code",
      "metadata": {
        "colab": {
          "base_uri": "https://localhost:8080/",
          "height": 237
        },
        "id": "ixvELiO4denP",
        "outputId": "bdad639c-1bff-4c16-a010-8e59176c209f"
      },
      "source": [
        "as.data.frame(table(balanced_train1$Target))"
      ],
      "execution_count": 42,
      "outputs": [
        {
          "output_type": "display_data",
          "data": {
            "text/plain": [
              "  Var1 Freq \n",
              "1 1    26580\n",
              "2 2     6230\n",
              "3 3    31196\n",
              "4 4    23910"
            ],
            "text/latex": "A data.frame: 4 × 2\n\\begin{tabular}{ll}\n Var1 & Freq\\\\\n <fct> & <int>\\\\\n\\hline\n\t 1 & 26580\\\\\n\t 2 &  6230\\\\\n\t 3 & 31196\\\\\n\t 4 & 23910\\\\\n\\end{tabular}\n",
            "text/markdown": "\nA data.frame: 4 × 2\n\n| Var1 &lt;fct&gt; | Freq &lt;int&gt; |\n|---|---|\n| 1 | 26580 |\n| 2 |  6230 |\n| 3 | 31196 |\n| 4 | 23910 |\n\n",
            "text/html": [
              "<table class=\"dataframe\">\n",
              "<caption>A data.frame: 4 × 2</caption>\n",
              "<thead>\n",
              "\t<tr><th scope=col>Var1</th><th scope=col>Freq</th></tr>\n",
              "\t<tr><th scope=col>&lt;fct&gt;</th><th scope=col>&lt;int&gt;</th></tr>\n",
              "</thead>\n",
              "<tbody>\n",
              "\t<tr><td>1</td><td>26580</td></tr>\n",
              "\t<tr><td>2</td><td> 6230</td></tr>\n",
              "\t<tr><td>3</td><td>31196</td></tr>\n",
              "\t<tr><td>4</td><td>23910</td></tr>\n",
              "</tbody>\n",
              "</table>\n"
            ]
          },
          "metadata": {}
        }
      ]
    },
    {
      "cell_type": "code",
      "metadata": {
        "id": "Qxu33suodief"
      },
      "source": [
        "balanced_train2 <- SMOTE(Target ~., balanced_train1, perc.over = 400, perc.under = 350)"
      ],
      "execution_count": 43,
      "outputs": []
    },
    {
      "cell_type": "code",
      "metadata": {
        "colab": {
          "base_uri": "https://localhost:8080/",
          "height": 237
        },
        "id": "s81KC4zLdmNZ",
        "outputId": "d3a678a3-3abe-45de-ff60-0f68d520e458"
      },
      "source": [
        "as.data.frame(table(balanced_train2$Target))"
      ],
      "execution_count": 44,
      "outputs": [
        {
          "output_type": "display_data",
          "data": {
            "text/plain": [
              "  Var1 Freq \n",
              "1 1    28301\n",
              "2 2    31150\n",
              "3 3    33103\n",
              "4 4    25816"
            ],
            "text/latex": "A data.frame: 4 × 2\n\\begin{tabular}{ll}\n Var1 & Freq\\\\\n <fct> & <int>\\\\\n\\hline\n\t 1 & 28301\\\\\n\t 2 & 31150\\\\\n\t 3 & 33103\\\\\n\t 4 & 25816\\\\\n\\end{tabular}\n",
            "text/markdown": "\nA data.frame: 4 × 2\n\n| Var1 &lt;fct&gt; | Freq &lt;int&gt; |\n|---|---|\n| 1 | 28301 |\n| 2 | 31150 |\n| 3 | 33103 |\n| 4 | 25816 |\n\n",
            "text/html": [
              "<table class=\"dataframe\">\n",
              "<caption>A data.frame: 4 × 2</caption>\n",
              "<thead>\n",
              "\t<tr><th scope=col>Var1</th><th scope=col>Freq</th></tr>\n",
              "\t<tr><th scope=col>&lt;fct&gt;</th><th scope=col>&lt;int&gt;</th></tr>\n",
              "</thead>\n",
              "<tbody>\n",
              "\t<tr><td>1</td><td>28301</td></tr>\n",
              "\t<tr><td>2</td><td>31150</td></tr>\n",
              "\t<tr><td>3</td><td>33103</td></tr>\n",
              "\t<tr><td>4</td><td>25816</td></tr>\n",
              "</tbody>\n",
              "</table>\n"
            ]
          },
          "metadata": {}
        }
      ]
    },
    {
      "cell_type": "markdown",
      "metadata": {
        "id": "iCkBM6aXKzID"
      },
      "source": [
        "## **Feature Importance (Permutation Based Variable Importance)**"
      ]
    },
    {
      "cell_type": "code",
      "metadata": {
        "colab": {
          "base_uri": "https://localhost:8080/"
        },
        "id": "nCxCMFf1iWM7",
        "outputId": "ebcbddfd-6169-4a69-b1e5-4b812bba57f8"
      },
      "source": [
        "install.packages('DALEX')\n",
        "install.packages('randomForest')"
      ],
      "execution_count": 55,
      "outputs": [
        {
          "output_type": "stream",
          "name": "stderr",
          "text": [
            "Installing package into ‘/usr/local/lib/R/site-library’\n",
            "(as ‘lib’ is unspecified)\n",
            "\n",
            "Installing package into ‘/usr/local/lib/R/site-library’\n",
            "(as ‘lib’ is unspecified)\n",
            "\n"
          ]
        }
      ]
    },
    {
      "cell_type": "code",
      "metadata": {
        "colab": {
          "base_uri": "https://localhost:8080/"
        },
        "id": "2XYFZvmMhYHn",
        "outputId": "715f0c44-66c0-405b-ff7e-82604a941bca"
      },
      "source": [
        "library('DALEX')\n",
        "library('randomForest')"
      ],
      "execution_count": 56,
      "outputs": [
        {
          "output_type": "stream",
          "name": "stderr",
          "text": [
            "Welcome to DALEX (version: 2.3.0).\n",
            "Find examples and detailed introduction at: http://ema.drwhy.ai/\n",
            "Additional features will be available after installation of: ggpubr.\n",
            "Use 'install_dependencies()' to get all suggested dependencies\n",
            "\n",
            "\n",
            "Attaching package: ‘DALEX’\n",
            "\n",
            "\n",
            "The following object is masked from ‘package:dplyr’:\n",
            "\n",
            "    explain\n",
            "\n",
            "\n",
            "randomForest 4.6-14\n",
            "\n",
            "Type rfNews() to see new features/changes/bug fixes.\n",
            "\n",
            "\n",
            "Attaching package: ‘randomForest’\n",
            "\n",
            "\n",
            "The following object is masked from ‘package:dplyr’:\n",
            "\n",
            "    combine\n",
            "\n",
            "\n",
            "The following object is masked from ‘package:ggplot2’:\n",
            "\n",
            "    margin\n",
            "\n",
            "\n"
          ]
        }
      ]
    },
    {
      "cell_type": "code",
      "metadata": {
        "colab": {
          "base_uri": "https://localhost:8080/",
          "height": 34
        },
        "id": "aFe7ZjSWjTZB",
        "outputId": "ca10804c-3e06-4259-ef46-fa2b840a2cba"
      },
      "source": [
        "dim(balanced_train2)"
      ],
      "execution_count": 57,
      "outputs": [
        {
          "output_type": "display_data",
          "data": {
            "text/plain": [
              "[1] 118370    141"
            ],
            "text/latex": "\\begin{enumerate*}\n\\item 118370\n\\item 141\n\\end{enumerate*}\n",
            "text/markdown": "1. 118370\n2. 141\n\n\n",
            "text/html": [
              "<style>\n",
              ".list-inline {list-style: none; margin:0; padding: 0}\n",
              ".list-inline>li {display: inline-block}\n",
              ".list-inline>li:not(:last-child)::after {content: \"\\00b7\"; padding: 0 .5ex}\n",
              "</style>\n",
              "<ol class=list-inline><li>118370</li><li>141</li></ol>\n"
            ]
          },
          "metadata": {}
        }
      ]
    },
    {
      "cell_type": "code",
      "metadata": {
        "id": "ovDrGTrykvrv"
      },
      "source": [
        "library('caTools')"
      ],
      "execution_count": 58,
      "outputs": []
    },
    {
      "cell_type": "code",
      "metadata": {
        "id": "PoPMjSbonmrt"
      },
      "source": [
        "balanced_train2$Target <- as.numeric(balanced_train2$Target)"
      ],
      "execution_count": 59,
      "outputs": []
    },
    {
      "cell_type": "code",
      "metadata": {
        "id": "3ml89wWSkNzJ"
      },
      "source": [
        "sample <- sample.split(balanced_train2$Target, SplitRatio = .75)\n",
        "train_data <- subset(balanced_train2, sample==TRUE)\n",
        "test_data <- subset(balanced_train2, sample==FALSE)"
      ],
      "execution_count": 60,
      "outputs": []
    },
    {
      "cell_type": "code",
      "metadata": {
        "colab": {
          "base_uri": "https://localhost:8080/",
          "height": 34
        },
        "id": "0Iqhtzksk2KE",
        "outputId": "3bc6c528-36ed-4500-9c52-1e8055e27fd0"
      },
      "source": [
        "dim(train_data)"
      ],
      "execution_count": 61,
      "outputs": [
        {
          "output_type": "display_data",
          "data": {
            "text/plain": [
              "[1] 88777   141"
            ],
            "text/latex": "\\begin{enumerate*}\n\\item 88777\n\\item 141\n\\end{enumerate*}\n",
            "text/markdown": "1. 88777\n2. 141\n\n\n",
            "text/html": [
              "<style>\n",
              ".list-inline {list-style: none; margin:0; padding: 0}\n",
              ".list-inline>li {display: inline-block}\n",
              ".list-inline>li:not(:last-child)::after {content: \"\\00b7\"; padding: 0 .5ex}\n",
              "</style>\n",
              "<ol class=list-inline><li>88777</li><li>141</li></ol>\n"
            ]
          },
          "metadata": {}
        }
      ]
    },
    {
      "cell_type": "code",
      "metadata": {
        "colab": {
          "base_uri": "https://localhost:8080/",
          "height": 34
        },
        "id": "wcb_QLHvk4Ut",
        "outputId": "cf9cfc35-29f8-4cc0-ecc3-d01fca317069"
      },
      "source": [
        "dim(test_data)"
      ],
      "execution_count": 62,
      "outputs": [
        {
          "output_type": "display_data",
          "data": {
            "text/plain": [
              "[1] 29593   141"
            ],
            "text/latex": "\\begin{enumerate*}\n\\item 29593\n\\item 141\n\\end{enumerate*}\n",
            "text/markdown": "1. 29593\n2. 141\n\n\n",
            "text/html": [
              "<style>\n",
              ".list-inline {list-style: none; margin:0; padding: 0}\n",
              ".list-inline>li {display: inline-block}\n",
              ".list-inline>li:not(:last-child)::after {content: \"\\00b7\"; padding: 0 .5ex}\n",
              "</style>\n",
              "<ol class=list-inline><li>29593</li><li>141</li></ol>\n"
            ]
          },
          "metadata": {}
        }
      ]
    },
    {
      "cell_type": "code",
      "metadata": {
        "colab": {
          "base_uri": "https://localhost:8080/"
        },
        "id": "JxPL1sQhvB1g",
        "outputId": "a72f7fbb-c017-4d13-b840-cb8c7d655411"
      },
      "source": [
        "my_rf <- randomForest(Target ~., data = train_data)"
      ],
      "execution_count": null,
      "outputs": [
        {
          "metadata": {
            "tags": null
          },
          "name": "stderr",
          "output_type": "stream",
          "text": [
            "Warning message in randomForest.default(m, y, ...):\n",
            "“The response has five or fewer unique values.  Are you sure you want to do regression?”\n"
          ]
        }
      ]
    },
    {
      "cell_type": "code",
      "metadata": {
        "id": "-k6TvV0jlbEF"
      },
      "source": [
        "explain_rf <- DALEX::explain(model = my_rf, \n",
        "                               data = test_data[,0:140], \n",
        "                               y = test_data$Target, \n",
        "                               label = \"Random Forest\")"
      ],
      "execution_count": null,
      "outputs": []
    },
    {
      "cell_type": "code",
      "metadata": {
        "id": "hQbb101w36Sv"
      },
      "source": [
        "loss_root_mean_square(observed = test_data$Target, predicted = predict(my_rf, test_data))"
      ],
      "execution_count": null,
      "outputs": []
    },
    {
      "cell_type": "code",
      "metadata": {
        "id": "dXVn8lG44KwG"
      },
      "source": [
        "set.seed(123)\n",
        "(vip.50 <- model_parts(explainer = explain_rf, \n",
        "                      loss_function = loss_root_mean_square,\n",
        "                      B = 50,\n",
        "                      type = \"difference\"))"
      ],
      "execution_count": null,
      "outputs": []
    },
    {
      "cell_type": "code",
      "metadata": {
        "id": "ZCcdfhWv4t_O"
      },
      "source": [
        "library('ggplot2')"
      ],
      "execution_count": null,
      "outputs": []
    },
    {
      "cell_type": "code",
      "metadata": {
        "id": "ELa40n-wAIoR"
      },
      "source": [
        "tail(vip.50,20)"
      ],
      "execution_count": null,
      "outputs": []
    },
    {
      "cell_type": "code",
      "metadata": {
        "id": "esI2WAUCCyrl"
      },
      "source": [
        "options(repr.plot.width = 10, repr.plot.height = 50)"
      ],
      "execution_count": null,
      "outputs": []
    },
    {
      "cell_type": "code",
      "metadata": {
        "id": "2voMX8OY4xOR"
      },
      "source": [
        "plot(vip.50) + \n",
        "  ggtitle(\"Mean variable importance over 50 permutations\")"
      ],
      "execution_count": null,
      "outputs": []
    },
    {
      "cell_type": "markdown",
      "metadata": {
        "id": "OdPAigbnwGeG"
      },
      "source": [
        "# **Analyse Correlation**"
      ]
    },
    {
      "cell_type": "code",
      "metadata": {
        "id": "MdaJVtgcwKE0",
        "colab": {
          "base_uri": "https://localhost:8080/"
        },
        "outputId": "bdf06389-8d1a-4a24-8dc7-3a0f11e63251"
      },
      "source": [
        "install.packages('Hmisc')"
      ],
      "execution_count": 45,
      "outputs": [
        {
          "output_type": "stream",
          "name": "stderr",
          "text": [
            "Installing package into ‘/usr/local/lib/R/site-library’\n",
            "(as ‘lib’ is unspecified)\n",
            "\n",
            "also installing the dependencies ‘png’, ‘jpeg’, ‘checkmate’, ‘htmlwidgets’, ‘Formula’, ‘latticeExtra’, ‘htmlTable’, ‘viridis’\n",
            "\n",
            "\n"
          ]
        }
      ]
    },
    {
      "cell_type": "code",
      "metadata": {
        "id": "rh3Y5bswwoHS",
        "colab": {
          "base_uri": "https://localhost:8080/"
        },
        "outputId": "4a4b9143-74c5-4ec1-e2f3-2f51461a3cd2"
      },
      "source": [
        "library('Hmisc')"
      ],
      "execution_count": 46,
      "outputs": [
        {
          "output_type": "stream",
          "name": "stderr",
          "text": [
            "Loading required package: survival\n",
            "\n",
            "Loading required package: Formula\n",
            "\n",
            "\n",
            "Attaching package: ‘Hmisc’\n",
            "\n",
            "\n",
            "The following objects are masked from ‘package:dplyr’:\n",
            "\n",
            "    src, summarize\n",
            "\n",
            "\n",
            "The following objects are masked from ‘package:base’:\n",
            "\n",
            "    format.pval, units\n",
            "\n",
            "\n"
          ]
        }
      ]
    },
    {
      "cell_type": "code",
      "metadata": {
        "id": "GkKw7r0kzBEi"
      },
      "source": [
        "data.rcorr = rcorr(as.matrix(balanced_train2))"
      ],
      "execution_count": 47,
      "outputs": []
    },
    {
      "cell_type": "code",
      "metadata": {
        "id": "eZzRLijozhXm"
      },
      "source": [
        "data.coeff <- data.rcorr$r\n",
        "data.p <- data.rcorr$p"
      ],
      "execution_count": 48,
      "outputs": []
    },
    {
      "cell_type": "code",
      "metadata": {
        "id": "dlNSgu7n0HVH",
        "colab": {
          "base_uri": "https://localhost:8080/",
          "height": 34
        },
        "outputId": "8c3ed7ff-470d-4b54-f2c3-856bb2623262"
      },
      "source": [
        "dim(data.coeff)"
      ],
      "execution_count": 49,
      "outputs": [
        {
          "output_type": "display_data",
          "data": {
            "text/plain": [
              "[1] 141 141"
            ],
            "text/latex": "\\begin{enumerate*}\n\\item 141\n\\item 141\n\\end{enumerate*}\n",
            "text/markdown": "1. 141\n2. 141\n\n\n",
            "text/html": [
              "<style>\n",
              ".list-inline {list-style: none; margin:0; padding: 0}\n",
              ".list-inline>li {display: inline-block}\n",
              ".list-inline>li:not(:last-child)::after {content: \"\\00b7\"; padding: 0 .5ex}\n",
              "</style>\n",
              "<ol class=list-inline><li>141</li><li>141</li></ol>\n"
            ]
          },
          "metadata": {}
        }
      ]
    },
    {
      "cell_type": "code",
      "metadata": {
        "id": "q_SXl38Vz58A",
        "colab": {
          "base_uri": "https://localhost:8080/",
          "height": 147
        },
        "outputId": "d9dd7435-12ac-4652-aaf9-346fcd5fb363"
      },
      "source": [
        "head(data.coeff,2)"
      ],
      "execution_count": 50,
      "outputs": [
        {
          "output_type": "display_data",
          "data": {
            "text/plain": [
              "       v2a1        hacdor      rooms      hacapo      v14a        refrig     \n",
              "v2a1    1.00000000 -0.03152762  0.1683743 -0.03328393  0.01929287  0.04476500\n",
              "hacdor -0.03152762  1.00000000 -0.2214814  0.62688195 -0.17004596 -0.08832384\n",
              "       v18q        v18q1       r4h1         r4h2        r4h3        r4m1      \n",
              "v2a1    0.13304744  0.16366025 -0.001942549 -0.03832616 -0.03337099 0.05082344\n",
              "hacdor -0.07956508 -0.04056971  0.247718999  0.03303747  0.17472420 0.23670074\n",
              "       r4m2        r4m3      r4t1       r4t2        r4t3        tamhog      \n",
              "v2a1   0.006288238 0.0414455 0.03285575 -0.02440508 0.003059285 -0.007665775\n",
              "hacdor 0.164623846 0.2948027 0.30794233  0.12292761 0.308693677  0.309052118\n",
              "       tamviv       escolari    hhsize       paredblolad paredzocalo\n",
              "v2a1   -0.009441175  0.12239846 -0.007665775  0.06873307 0.06252271 \n",
              "hacdor  0.363888696 -0.09235592  0.309052118 -0.13127882 0.06591928 \n",
              "       paredpreb   pareddes    paredmad    paredzinc   paredfibras  paredother \n",
              "v2a1   -0.08845287 -0.01134895 -0.06708784 -0.02493844 -0.014685684 -0.01100629\n",
              "hacdor -0.03258083  0.10081850  0.09448105  0.18094907 -0.009533233 -0.00903752\n",
              "       pisomoscer pisocemento pisoother    pisonatur   pisonotiene pisomadera \n",
              "v2a1    0.1530532 -0.13954580 -0.001873303 -0.00219123 -0.01103067 -0.04173386\n",
              "hacdor -0.1658308  0.07289939 -0.004223747  0.08546688  0.21360594  0.06796994\n",
              "       techozinc   techoentrepiso techocane    techootro    cielorazo \n",
              "v2a1   -0.01354528  0.02859005    -0.008021815 -0.002970650  0.1671043\n",
              "hacdor -0.03682620 -0.02423421    -0.012756801 -0.006697941 -0.1541648\n",
              "       abastaguadentro abastaguafuera abastaguano  public     planpri     \n",
              "v2a1    0.02263041     -0.02192474    -0.005906445 0.08588850 -0.001471303\n",
              "hacdor -0.04306608      0.05330559    -0.017176213 0.02446781 -0.003317356\n",
              "       noelec       coopele     sanitario1  sanitario2  sanitario3 \n",
              "v2a1   -0.002200482 -0.08626949 -0.01312423 0.064191934 -0.05547872\n",
              "hacdor -0.012333493 -0.02178367  0.09133318 0.008562787 -0.01087205\n",
              "       sanitario5   sanitario6   energcocinar1 energcocinar2 energcocinar3\n",
              "v2a1   -0.008590978 -0.012126797 -0.005194456   0.08009692   -0.07188025  \n",
              "hacdor -0.034683394 -0.009824127 -0.013722608  -0.05301969    0.04438032  \n",
              "       energcocinar4 elimbasu1    elimbasu2   elimbasu3   elimbasu4   elimbasu5\n",
              "v2a1   -0.01651075    0.072000496 -0.03770704 -0.05623178 -0.02121211 NaN      \n",
              "hacdor  0.02228512   -0.004767883 -0.01544445  0.01593316 -0.00932134 NaN      \n",
              "       elimbasu6    epared1     epared2     epared3    etecho1   etecho2    \n",
              "v2a1   -0.001971998 -0.04977648 -0.03697190  0.0669027 0.0746106 -0.10098620\n",
              "hacdor -0.004446275  0.14594325  0.05858722 -0.1473037 0.1214051  0.03448091\n",
              "       etecho3     eviv1       eviv2       eviv3      dis         male       \n",
              "v2a1    0.03018198 -0.06146385 -0.11001177  0.1412103 -0.02678438 -0.02202555\n",
              "hacdor -0.12996888  0.21566030  0.01141231 -0.1588187 -0.04838014 -0.00848853\n",
              "       female     estadocivil1 estadocivil2 estadocivil3 estadocivil4\n",
              "v2a1   0.02202555 0.03056847   -0.05555173   0.07590790   0.02450723 \n",
              "hacdor 0.00848853 0.11398355    0.01565696  -0.06937097  -0.03315910 \n",
              "       estadocivil5 estadocivil6 estadocivil7 parentesco1 parentesco2\n",
              "v2a1   -0.022605796 -0.04339960  -0.026546495 -0.01102960  0.01939426\n",
              "hacdor -0.004578333 -0.05546734   0.001718346 -0.07352044 -0.03767291\n",
              "       parentesco3 parentesco4 parentesco5 parentesco6 parentesco7 parentesco8 \n",
              "v2a1   0.007586485 -0.02975540 -0.01451296 -0.0254546  0.006790792 -0.007098357\n",
              "hacdor 0.025334395  0.07241812  0.03117634  0.1074913  0.006095776 -0.009957979\n",
              "       parentesco9 parentesco10 parentesco11 parentesco12 idhogar     \n",
              "v2a1   0.01053166   0.02067872  -0.002662268 0.01481038   -0.188686929\n",
              "hacdor 0.01092065  -0.01170420   0.029441723 0.04033581   -0.004659381\n",
              "       hogar_nin    hogar_adul   hogar_mayor hogar_total  dependency \n",
              "v2a1   -0.002765763 -0.008739155 -0.05305580 -0.007665775 -0.04809677\n",
              "hacdor  0.305125376  0.089264593 -0.06164179  0.309052118  0.01173151\n",
              "       edjefe      edjefa      meaneduc    instlevel1 instlevel2   instlevel3 \n",
              "v2a1    0.16355828  0.04035921  0.22206884 0.01459196 -0.073100801 -0.06032728\n",
              "hacdor -0.01183115 -0.01741402 -0.06458149 0.08407177  0.001548703 -0.02095091\n",
              "       instlevel4  instlevel5  instlevel6   instlevel7   instlevel8  instlevel9\n",
              "v2a1   -0.01748459  0.01431829 -0.003872105  0.023845475  0.14124968  0.1500835\n",
              "hacdor  0.01386128 -0.04148910 -0.029990221 -0.001591439 -0.04872319 -0.0183039\n",
              "       bedrooms   overcrowding tipovivi1   tipovivi2   tipovivi3  tipovivi4   \n",
              "v2a1    0.1036425 -0.08088441  -0.14524349  0.22920454 0.06150556 -0.003835542\n",
              "hacdor -0.1939208  0.64852053  -0.08001874 -0.05742868 0.07356159  0.158881087\n",
              "       tipovivi5    computer    television   mobilephone qmobilephone\n",
              "v2a1   -0.027757508  0.15916555  0.007302004  0.03993048 0.03166669  \n",
              "hacdor  0.009322907 -0.05456728 -0.076447983 -0.03633181 0.03474229  \n",
              "       lugar1     lugar2      lugar3      lugar4      lugar5       lugar6      \n",
              "v2a1    0.1572968 -0.02465089 -0.01111725 -0.06191996 -0.080566465 -0.078636430\n",
              "hacdor -0.0241859  0.05147712  0.02742174 -0.01615913 -0.002297243 -0.006046603\n",
              "       area1      area2       age        SQBescolari SQBage      SQBhogar_total\n",
              "v2a1   0.10685890 -0.10685890 -0.0390051  0.17790980 -0.04602033 -0.01783624   \n",
              "hacdor 0.06182982 -0.06182982 -0.1344986 -0.08408008 -0.11870416  0.36358605   \n",
              "       SQBedjefe   SQBhogar_nin SQBovercrowding SQBdependency SQBmeaned  \n",
              "v2a1    0.22283427 -0.01165191  -0.07577054     -0.04706347    0.22816624\n",
              "hacdor -0.05190463  0.37693434   0.77617617     -0.02850556   -0.06927289\n",
              "       agesq       Target     \n",
              "v2a1   -0.04602033  0.05083921\n",
              "hacdor -0.11870416 -0.13105893"
            ],
            "text/latex": "A matrix: 2 × 141 of type dbl\n\\begin{tabular}{r|lllllllllllllllllllllllllllllllllllllllllllllllllllllllllllllllllllllllllllllllllllllllllllllllllllllllllllllllllllllllllllllllllllllllllllll}\n  & v2a1 & hacdor & rooms & hacapo & v14a & refrig & v18q & v18q1 & r4h1 & r4h2 & r4h3 & r4m1 & r4m2 & r4m3 & r4t1 & r4t2 & r4t3 & tamhog & tamviv & escolari & hhsize & paredblolad & paredzocalo & paredpreb & pareddes & paredmad & paredzinc & paredfibras & paredother & pisomoscer & pisocemento & pisoother & pisonatur & pisonotiene & pisomadera & techozinc & techoentrepiso & techocane & techootro & cielorazo & abastaguadentro & abastaguafuera & abastaguano & public & planpri & noelec & coopele & sanitario1 & sanitario2 & sanitario3 & sanitario5 & sanitario6 & energcocinar1 & energcocinar2 & energcocinar3 & energcocinar4 & elimbasu1 & elimbasu2 & elimbasu3 & elimbasu4 & elimbasu5 & elimbasu6 & epared1 & epared2 & epared3 & etecho1 & etecho2 & etecho3 & eviv1 & eviv2 & eviv3 & dis & male & female & estadocivil1 & estadocivil2 & estadocivil3 & estadocivil4 & estadocivil5 & estadocivil6 & estadocivil7 & parentesco1 & parentesco2 & parentesco3 & parentesco4 & parentesco5 & parentesco6 & parentesco7 & parentesco8 & parentesco9 & parentesco10 & parentesco11 & parentesco12 & idhogar & hogar\\_nin & hogar\\_adul & hogar\\_mayor & hogar\\_total & dependency & edjefe & edjefa & meaneduc & instlevel1 & instlevel2 & instlevel3 & instlevel4 & instlevel5 & instlevel6 & instlevel7 & instlevel8 & instlevel9 & bedrooms & overcrowding & tipovivi1 & tipovivi2 & tipovivi3 & tipovivi4 & tipovivi5 & computer & television & mobilephone & qmobilephone & lugar1 & lugar2 & lugar3 & lugar4 & lugar5 & lugar6 & area1 & area2 & age & SQBescolari & SQBage & SQBhogar\\_total & SQBedjefe & SQBhogar\\_nin & SQBovercrowding & SQBdependency & SQBmeaned & agesq & Target\\\\\n\\hline\n\tv2a1 &  1.00000000 & -0.03152762 &  0.1683743 & -0.03328393 &  0.01929287 &  0.04476500 &  0.13304744 &  0.16366025 & -0.001942549 & -0.03832616 & -0.03337099 & 0.05082344 & 0.006288238 & 0.0414455 & 0.03285575 & -0.02440508 & 0.003059285 & -0.007665775 & -0.009441175 &  0.12239846 & -0.007665775 &  0.06873307 & 0.06252271 & -0.08845287 & -0.01134895 & -0.06708784 & -0.02493844 & -0.014685684 & -0.01100629 &  0.1530532 & -0.13954580 & -0.001873303 & -0.00219123 & -0.01103067 & -0.04173386 & -0.01354528 &  0.02859005 & -0.008021815 & -0.002970650 &  0.1671043 &  0.02263041 & -0.02192474 & -0.005906445 & 0.08588850 & -0.001471303 & -0.002200482 & -0.08626949 & -0.01312423 & 0.064191934 & -0.05547872 & -0.008590978 & -0.012126797 & -0.005194456 &  0.08009692 & -0.07188025 & -0.01651075 &  0.072000496 & -0.03770704 & -0.05623178 & -0.02121211 & NaN & -0.001971998 & -0.04977648 & -0.03697190 &  0.0669027 & 0.0746106 & -0.10098620 &  0.03018198 & -0.06146385 & -0.11001177 &  0.1412103 & -0.02678438 & -0.02202555 & 0.02202555 & 0.03056847 & -0.05555173 &  0.07590790 &  0.02450723 & -0.022605796 & -0.04339960 & -0.026546495 & -0.01102960 &  0.01939426 & 0.007586485 & -0.02975540 & -0.01451296 & -0.0254546 & 0.006790792 & -0.007098357 & 0.01053166 &  0.02067872 & -0.002662268 & 0.01481038 & -0.188686929 & -0.002765763 & -0.008739155 & -0.05305580 & -0.007665775 & -0.04809677 &  0.16355828 &  0.04035921 &  0.22206884 & 0.01459196 & -0.073100801 & -0.06032728 & -0.01748459 &  0.01431829 & -0.003872105 &  0.023845475 &  0.14124968 &  0.1500835 &  0.1036425 & -0.08088441 & -0.14524349 &  0.22920454 & 0.06150556 & -0.003835542 & -0.027757508 &  0.15916555 &  0.007302004 &  0.03993048 & 0.03166669 &  0.1572968 & -0.02465089 & -0.01111725 & -0.06191996 & -0.080566465 & -0.078636430 & 0.10685890 & -0.10685890 & -0.0390051 &  0.17790980 & -0.04602033 & -0.01783624 &  0.22283427 & -0.01165191 & -0.07577054 & -0.04706347 &  0.22816624 & -0.04602033 &  0.05083921\\\\\n\thacdor & -0.03152762 &  1.00000000 & -0.2214814 &  0.62688195 & -0.17004596 & -0.08832384 & -0.07956508 & -0.04056971 &  0.247718999 &  0.03303747 &  0.17472420 & 0.23670074 & 0.164623846 & 0.2948027 & 0.30794233 &  0.12292761 & 0.308693677 &  0.309052118 &  0.363888696 & -0.09235592 &  0.309052118 & -0.13127882 & 0.06591928 & -0.03258083 &  0.10081850 &  0.09448105 &  0.18094907 & -0.009533233 & -0.00903752 & -0.1658308 &  0.07289939 & -0.004223747 &  0.08546688 &  0.21360594 &  0.06796994 & -0.03682620 & -0.02423421 & -0.012756801 & -0.006697941 & -0.1541648 & -0.04306608 &  0.05330559 & -0.017176213 & 0.02446781 & -0.003317356 & -0.012333493 & -0.02178367 &  0.09133318 & 0.008562787 & -0.01087205 & -0.034683394 & -0.009824127 & -0.013722608 & -0.05301969 &  0.04438032 &  0.02228512 & -0.004767883 & -0.01544445 &  0.01593316 & -0.00932134 & NaN & -0.004446275 &  0.14594325 &  0.05858722 & -0.1473037 & 0.1214051 &  0.03448091 & -0.12996888 &  0.21566030 &  0.01141231 & -0.1588187 & -0.04838014 & -0.00848853 & 0.00848853 & 0.11398355 &  0.01565696 & -0.06937097 & -0.03315910 & -0.004578333 & -0.05546734 &  0.001718346 & -0.07352044 & -0.03767291 & 0.025334395 &  0.07241812 &  0.03117634 &  0.1074913 & 0.006095776 & -0.009957979 & 0.01092065 & -0.01170420 &  0.029441723 & 0.04033581 & -0.004659381 &  0.305125376 &  0.089264593 & -0.06164179 &  0.309052118 &  0.01173151 & -0.01183115 & -0.01741402 & -0.06458149 & 0.08407177 &  0.001548703 & -0.02095091 &  0.01386128 & -0.04148910 & -0.029990221 & -0.001591439 & -0.04872319 & -0.0183039 & -0.1939208 &  0.64852053 & -0.08001874 & -0.05742868 & 0.07356159 &  0.158881087 &  0.009322907 & -0.05456728 & -0.076447983 & -0.03633181 & 0.03474229 & -0.0241859 &  0.05147712 &  0.02742174 & -0.01615913 & -0.002297243 & -0.006046603 & 0.06182982 & -0.06182982 & -0.1344986 & -0.08408008 & -0.11870416 &  0.36358605 & -0.05190463 &  0.37693434 &  0.77617617 & -0.02850556 & -0.06927289 & -0.11870416 & -0.13105893\\\\\n\\end{tabular}\n",
            "text/markdown": "\nA matrix: 2 × 141 of type dbl\n\n| <!--/--> | v2a1 | hacdor | rooms | hacapo | v14a | refrig | v18q | v18q1 | r4h1 | r4h2 | r4h3 | r4m1 | r4m2 | r4m3 | r4t1 | r4t2 | r4t3 | tamhog | tamviv | escolari | hhsize | paredblolad | paredzocalo | paredpreb | pareddes | paredmad | paredzinc | paredfibras | paredother | pisomoscer | pisocemento | pisoother | pisonatur | pisonotiene | pisomadera | techozinc | techoentrepiso | techocane | techootro | cielorazo | abastaguadentro | abastaguafuera | abastaguano | public | planpri | noelec | coopele | sanitario1 | sanitario2 | sanitario3 | sanitario5 | sanitario6 | energcocinar1 | energcocinar2 | energcocinar3 | energcocinar4 | elimbasu1 | elimbasu2 | elimbasu3 | elimbasu4 | elimbasu5 | elimbasu6 | epared1 | epared2 | epared3 | etecho1 | etecho2 | etecho3 | eviv1 | eviv2 | eviv3 | dis | male | female | estadocivil1 | estadocivil2 | estadocivil3 | estadocivil4 | estadocivil5 | estadocivil6 | estadocivil7 | parentesco1 | parentesco2 | parentesco3 | parentesco4 | parentesco5 | parentesco6 | parentesco7 | parentesco8 | parentesco9 | parentesco10 | parentesco11 | parentesco12 | idhogar | hogar_nin | hogar_adul | hogar_mayor | hogar_total | dependency | edjefe | edjefa | meaneduc | instlevel1 | instlevel2 | instlevel3 | instlevel4 | instlevel5 | instlevel6 | instlevel7 | instlevel8 | instlevel9 | bedrooms | overcrowding | tipovivi1 | tipovivi2 | tipovivi3 | tipovivi4 | tipovivi5 | computer | television | mobilephone | qmobilephone | lugar1 | lugar2 | lugar3 | lugar4 | lugar5 | lugar6 | area1 | area2 | age | SQBescolari | SQBage | SQBhogar_total | SQBedjefe | SQBhogar_nin | SQBovercrowding | SQBdependency | SQBmeaned | agesq | Target |\n|---|---|---|---|---|---|---|---|---|---|---|---|---|---|---|---|---|---|---|---|---|---|---|---|---|---|---|---|---|---|---|---|---|---|---|---|---|---|---|---|---|---|---|---|---|---|---|---|---|---|---|---|---|---|---|---|---|---|---|---|---|---|---|---|---|---|---|---|---|---|---|---|---|---|---|---|---|---|---|---|---|---|---|---|---|---|---|---|---|---|---|---|---|---|---|---|---|---|---|---|---|---|---|---|---|---|---|---|---|---|---|---|---|---|---|---|---|---|---|---|---|---|---|---|---|---|---|---|---|---|---|---|---|---|---|---|---|---|---|---|---|---|\n| v2a1 |  1.00000000 | -0.03152762 |  0.1683743 | -0.03328393 |  0.01929287 |  0.04476500 |  0.13304744 |  0.16366025 | -0.001942549 | -0.03832616 | -0.03337099 | 0.05082344 | 0.006288238 | 0.0414455 | 0.03285575 | -0.02440508 | 0.003059285 | -0.007665775 | -0.009441175 |  0.12239846 | -0.007665775 |  0.06873307 | 0.06252271 | -0.08845287 | -0.01134895 | -0.06708784 | -0.02493844 | -0.014685684 | -0.01100629 |  0.1530532 | -0.13954580 | -0.001873303 | -0.00219123 | -0.01103067 | -0.04173386 | -0.01354528 |  0.02859005 | -0.008021815 | -0.002970650 |  0.1671043 |  0.02263041 | -0.02192474 | -0.005906445 | 0.08588850 | -0.001471303 | -0.002200482 | -0.08626949 | -0.01312423 | 0.064191934 | -0.05547872 | -0.008590978 | -0.012126797 | -0.005194456 |  0.08009692 | -0.07188025 | -0.01651075 |  0.072000496 | -0.03770704 | -0.05623178 | -0.02121211 | NaN | -0.001971998 | -0.04977648 | -0.03697190 |  0.0669027 | 0.0746106 | -0.10098620 |  0.03018198 | -0.06146385 | -0.11001177 |  0.1412103 | -0.02678438 | -0.02202555 | 0.02202555 | 0.03056847 | -0.05555173 |  0.07590790 |  0.02450723 | -0.022605796 | -0.04339960 | -0.026546495 | -0.01102960 |  0.01939426 | 0.007586485 | -0.02975540 | -0.01451296 | -0.0254546 | 0.006790792 | -0.007098357 | 0.01053166 |  0.02067872 | -0.002662268 | 0.01481038 | -0.188686929 | -0.002765763 | -0.008739155 | -0.05305580 | -0.007665775 | -0.04809677 |  0.16355828 |  0.04035921 |  0.22206884 | 0.01459196 | -0.073100801 | -0.06032728 | -0.01748459 |  0.01431829 | -0.003872105 |  0.023845475 |  0.14124968 |  0.1500835 |  0.1036425 | -0.08088441 | -0.14524349 |  0.22920454 | 0.06150556 | -0.003835542 | -0.027757508 |  0.15916555 |  0.007302004 |  0.03993048 | 0.03166669 |  0.1572968 | -0.02465089 | -0.01111725 | -0.06191996 | -0.080566465 | -0.078636430 | 0.10685890 | -0.10685890 | -0.0390051 |  0.17790980 | -0.04602033 | -0.01783624 |  0.22283427 | -0.01165191 | -0.07577054 | -0.04706347 |  0.22816624 | -0.04602033 |  0.05083921 |\n| hacdor | -0.03152762 |  1.00000000 | -0.2214814 |  0.62688195 | -0.17004596 | -0.08832384 | -0.07956508 | -0.04056971 |  0.247718999 |  0.03303747 |  0.17472420 | 0.23670074 | 0.164623846 | 0.2948027 | 0.30794233 |  0.12292761 | 0.308693677 |  0.309052118 |  0.363888696 | -0.09235592 |  0.309052118 | -0.13127882 | 0.06591928 | -0.03258083 |  0.10081850 |  0.09448105 |  0.18094907 | -0.009533233 | -0.00903752 | -0.1658308 |  0.07289939 | -0.004223747 |  0.08546688 |  0.21360594 |  0.06796994 | -0.03682620 | -0.02423421 | -0.012756801 | -0.006697941 | -0.1541648 | -0.04306608 |  0.05330559 | -0.017176213 | 0.02446781 | -0.003317356 | -0.012333493 | -0.02178367 |  0.09133318 | 0.008562787 | -0.01087205 | -0.034683394 | -0.009824127 | -0.013722608 | -0.05301969 |  0.04438032 |  0.02228512 | -0.004767883 | -0.01544445 |  0.01593316 | -0.00932134 | NaN | -0.004446275 |  0.14594325 |  0.05858722 | -0.1473037 | 0.1214051 |  0.03448091 | -0.12996888 |  0.21566030 |  0.01141231 | -0.1588187 | -0.04838014 | -0.00848853 | 0.00848853 | 0.11398355 |  0.01565696 | -0.06937097 | -0.03315910 | -0.004578333 | -0.05546734 |  0.001718346 | -0.07352044 | -0.03767291 | 0.025334395 |  0.07241812 |  0.03117634 |  0.1074913 | 0.006095776 | -0.009957979 | 0.01092065 | -0.01170420 |  0.029441723 | 0.04033581 | -0.004659381 |  0.305125376 |  0.089264593 | -0.06164179 |  0.309052118 |  0.01173151 | -0.01183115 | -0.01741402 | -0.06458149 | 0.08407177 |  0.001548703 | -0.02095091 |  0.01386128 | -0.04148910 | -0.029990221 | -0.001591439 | -0.04872319 | -0.0183039 | -0.1939208 |  0.64852053 | -0.08001874 | -0.05742868 | 0.07356159 |  0.158881087 |  0.009322907 | -0.05456728 | -0.076447983 | -0.03633181 | 0.03474229 | -0.0241859 |  0.05147712 |  0.02742174 | -0.01615913 | -0.002297243 | -0.006046603 | 0.06182982 | -0.06182982 | -0.1344986 | -0.08408008 | -0.11870416 |  0.36358605 | -0.05190463 |  0.37693434 |  0.77617617 | -0.02850556 | -0.06927289 | -0.11870416 | -0.13105893 |\n\n",
            "text/html": [
              "<table class=\"dataframe\">\n",
              "<caption>A matrix: 2 × 141 of type dbl</caption>\n",
              "<thead>\n",
              "\t<tr><th></th><th scope=col>v2a1</th><th scope=col>hacdor</th><th scope=col>rooms</th><th scope=col>hacapo</th><th scope=col>v14a</th><th scope=col>refrig</th><th scope=col>v18q</th><th scope=col>v18q1</th><th scope=col>r4h1</th><th scope=col>r4h2</th><th scope=col>r4h3</th><th scope=col>r4m1</th><th scope=col>r4m2</th><th scope=col>r4m3</th><th scope=col>r4t1</th><th scope=col>r4t2</th><th scope=col>r4t3</th><th scope=col>tamhog</th><th scope=col>tamviv</th><th scope=col>escolari</th><th scope=col>hhsize</th><th scope=col>paredblolad</th><th scope=col>paredzocalo</th><th scope=col>paredpreb</th><th scope=col>pareddes</th><th scope=col>paredmad</th><th scope=col>paredzinc</th><th scope=col>paredfibras</th><th scope=col>paredother</th><th scope=col>pisomoscer</th><th scope=col>pisocemento</th><th scope=col>pisoother</th><th scope=col>pisonatur</th><th scope=col>pisonotiene</th><th scope=col>pisomadera</th><th scope=col>techozinc</th><th scope=col>techoentrepiso</th><th scope=col>techocane</th><th scope=col>techootro</th><th scope=col>cielorazo</th><th scope=col>abastaguadentro</th><th scope=col>abastaguafuera</th><th scope=col>abastaguano</th><th scope=col>public</th><th scope=col>planpri</th><th scope=col>noelec</th><th scope=col>coopele</th><th scope=col>sanitario1</th><th scope=col>sanitario2</th><th scope=col>sanitario3</th><th scope=col>sanitario5</th><th scope=col>sanitario6</th><th scope=col>energcocinar1</th><th scope=col>energcocinar2</th><th scope=col>energcocinar3</th><th scope=col>energcocinar4</th><th scope=col>elimbasu1</th><th scope=col>elimbasu2</th><th scope=col>elimbasu3</th><th scope=col>elimbasu4</th><th scope=col>elimbasu5</th><th scope=col>elimbasu6</th><th scope=col>epared1</th><th scope=col>epared2</th><th scope=col>epared3</th><th scope=col>etecho1</th><th scope=col>etecho2</th><th scope=col>etecho3</th><th scope=col>eviv1</th><th scope=col>eviv2</th><th scope=col>eviv3</th><th scope=col>dis</th><th scope=col>male</th><th scope=col>female</th><th scope=col>estadocivil1</th><th scope=col>estadocivil2</th><th scope=col>estadocivil3</th><th scope=col>estadocivil4</th><th scope=col>estadocivil5</th><th scope=col>estadocivil6</th><th scope=col>estadocivil7</th><th scope=col>parentesco1</th><th scope=col>parentesco2</th><th scope=col>parentesco3</th><th scope=col>parentesco4</th><th scope=col>parentesco5</th><th scope=col>parentesco6</th><th scope=col>parentesco7</th><th scope=col>parentesco8</th><th scope=col>parentesco9</th><th scope=col>parentesco10</th><th scope=col>parentesco11</th><th scope=col>parentesco12</th><th scope=col>idhogar</th><th scope=col>hogar_nin</th><th scope=col>hogar_adul</th><th scope=col>hogar_mayor</th><th scope=col>hogar_total</th><th scope=col>dependency</th><th scope=col>edjefe</th><th scope=col>edjefa</th><th scope=col>meaneduc</th><th scope=col>instlevel1</th><th scope=col>instlevel2</th><th scope=col>instlevel3</th><th scope=col>instlevel4</th><th scope=col>instlevel5</th><th scope=col>instlevel6</th><th scope=col>instlevel7</th><th scope=col>instlevel8</th><th scope=col>instlevel9</th><th scope=col>bedrooms</th><th scope=col>overcrowding</th><th scope=col>tipovivi1</th><th scope=col>tipovivi2</th><th scope=col>tipovivi3</th><th scope=col>tipovivi4</th><th scope=col>tipovivi5</th><th scope=col>computer</th><th scope=col>television</th><th scope=col>mobilephone</th><th scope=col>qmobilephone</th><th scope=col>lugar1</th><th scope=col>lugar2</th><th scope=col>lugar3</th><th scope=col>lugar4</th><th scope=col>lugar5</th><th scope=col>lugar6</th><th scope=col>area1</th><th scope=col>area2</th><th scope=col>age</th><th scope=col>SQBescolari</th><th scope=col>SQBage</th><th scope=col>SQBhogar_total</th><th scope=col>SQBedjefe</th><th scope=col>SQBhogar_nin</th><th scope=col>SQBovercrowding</th><th scope=col>SQBdependency</th><th scope=col>SQBmeaned</th><th scope=col>agesq</th><th scope=col>Target</th></tr>\n",
              "</thead>\n",
              "<tbody>\n",
              "\t<tr><th scope=row>v2a1</th><td> 1.00000000</td><td>-0.03152762</td><td> 0.1683743</td><td>-0.03328393</td><td> 0.01929287</td><td> 0.04476500</td><td> 0.13304744</td><td> 0.16366025</td><td>-0.001942549</td><td>-0.03832616</td><td>-0.03337099</td><td>0.05082344</td><td>0.006288238</td><td>0.0414455</td><td>0.03285575</td><td>-0.02440508</td><td>0.003059285</td><td>-0.007665775</td><td>-0.009441175</td><td> 0.12239846</td><td>-0.007665775</td><td> 0.06873307</td><td>0.06252271</td><td>-0.08845287</td><td>-0.01134895</td><td>-0.06708784</td><td>-0.02493844</td><td>-0.014685684</td><td>-0.01100629</td><td> 0.1530532</td><td>-0.13954580</td><td>-0.001873303</td><td>-0.00219123</td><td>-0.01103067</td><td>-0.04173386</td><td>-0.01354528</td><td> 0.02859005</td><td>-0.008021815</td><td>-0.002970650</td><td> 0.1671043</td><td> 0.02263041</td><td>-0.02192474</td><td>-0.005906445</td><td>0.08588850</td><td>-0.001471303</td><td>-0.002200482</td><td>-0.08626949</td><td>-0.01312423</td><td>0.064191934</td><td>-0.05547872</td><td>-0.008590978</td><td>-0.012126797</td><td>-0.005194456</td><td> 0.08009692</td><td>-0.07188025</td><td>-0.01651075</td><td> 0.072000496</td><td>-0.03770704</td><td>-0.05623178</td><td>-0.02121211</td><td>NaN</td><td>-0.001971998</td><td>-0.04977648</td><td>-0.03697190</td><td> 0.0669027</td><td>0.0746106</td><td>-0.10098620</td><td> 0.03018198</td><td>-0.06146385</td><td>-0.11001177</td><td> 0.1412103</td><td>-0.02678438</td><td>-0.02202555</td><td>0.02202555</td><td>0.03056847</td><td>-0.05555173</td><td> 0.07590790</td><td> 0.02450723</td><td>-0.022605796</td><td>-0.04339960</td><td>-0.026546495</td><td>-0.01102960</td><td> 0.01939426</td><td>0.007586485</td><td>-0.02975540</td><td>-0.01451296</td><td>-0.0254546</td><td>0.006790792</td><td>-0.007098357</td><td>0.01053166</td><td> 0.02067872</td><td>-0.002662268</td><td>0.01481038</td><td>-0.188686929</td><td>-0.002765763</td><td>-0.008739155</td><td>-0.05305580</td><td>-0.007665775</td><td>-0.04809677</td><td> 0.16355828</td><td> 0.04035921</td><td> 0.22206884</td><td>0.01459196</td><td>-0.073100801</td><td>-0.06032728</td><td>-0.01748459</td><td> 0.01431829</td><td>-0.003872105</td><td> 0.023845475</td><td> 0.14124968</td><td> 0.1500835</td><td> 0.1036425</td><td>-0.08088441</td><td>-0.14524349</td><td> 0.22920454</td><td>0.06150556</td><td>-0.003835542</td><td>-0.027757508</td><td> 0.15916555</td><td> 0.007302004</td><td> 0.03993048</td><td>0.03166669</td><td> 0.1572968</td><td>-0.02465089</td><td>-0.01111725</td><td>-0.06191996</td><td>-0.080566465</td><td>-0.078636430</td><td>0.10685890</td><td>-0.10685890</td><td>-0.0390051</td><td> 0.17790980</td><td>-0.04602033</td><td>-0.01783624</td><td> 0.22283427</td><td>-0.01165191</td><td>-0.07577054</td><td>-0.04706347</td><td> 0.22816624</td><td>-0.04602033</td><td> 0.05083921</td></tr>\n",
              "\t<tr><th scope=row>hacdor</th><td>-0.03152762</td><td> 1.00000000</td><td>-0.2214814</td><td> 0.62688195</td><td>-0.17004596</td><td>-0.08832384</td><td>-0.07956508</td><td>-0.04056971</td><td> 0.247718999</td><td> 0.03303747</td><td> 0.17472420</td><td>0.23670074</td><td>0.164623846</td><td>0.2948027</td><td>0.30794233</td><td> 0.12292761</td><td>0.308693677</td><td> 0.309052118</td><td> 0.363888696</td><td>-0.09235592</td><td> 0.309052118</td><td>-0.13127882</td><td>0.06591928</td><td>-0.03258083</td><td> 0.10081850</td><td> 0.09448105</td><td> 0.18094907</td><td>-0.009533233</td><td>-0.00903752</td><td>-0.1658308</td><td> 0.07289939</td><td>-0.004223747</td><td> 0.08546688</td><td> 0.21360594</td><td> 0.06796994</td><td>-0.03682620</td><td>-0.02423421</td><td>-0.012756801</td><td>-0.006697941</td><td>-0.1541648</td><td>-0.04306608</td><td> 0.05330559</td><td>-0.017176213</td><td>0.02446781</td><td>-0.003317356</td><td>-0.012333493</td><td>-0.02178367</td><td> 0.09133318</td><td>0.008562787</td><td>-0.01087205</td><td>-0.034683394</td><td>-0.009824127</td><td>-0.013722608</td><td>-0.05301969</td><td> 0.04438032</td><td> 0.02228512</td><td>-0.004767883</td><td>-0.01544445</td><td> 0.01593316</td><td>-0.00932134</td><td>NaN</td><td>-0.004446275</td><td> 0.14594325</td><td> 0.05858722</td><td>-0.1473037</td><td>0.1214051</td><td> 0.03448091</td><td>-0.12996888</td><td> 0.21566030</td><td> 0.01141231</td><td>-0.1588187</td><td>-0.04838014</td><td>-0.00848853</td><td>0.00848853</td><td>0.11398355</td><td> 0.01565696</td><td>-0.06937097</td><td>-0.03315910</td><td>-0.004578333</td><td>-0.05546734</td><td> 0.001718346</td><td>-0.07352044</td><td>-0.03767291</td><td>0.025334395</td><td> 0.07241812</td><td> 0.03117634</td><td> 0.1074913</td><td>0.006095776</td><td>-0.009957979</td><td>0.01092065</td><td>-0.01170420</td><td> 0.029441723</td><td>0.04033581</td><td>-0.004659381</td><td> 0.305125376</td><td> 0.089264593</td><td>-0.06164179</td><td> 0.309052118</td><td> 0.01173151</td><td>-0.01183115</td><td>-0.01741402</td><td>-0.06458149</td><td>0.08407177</td><td> 0.001548703</td><td>-0.02095091</td><td> 0.01386128</td><td>-0.04148910</td><td>-0.029990221</td><td>-0.001591439</td><td>-0.04872319</td><td>-0.0183039</td><td>-0.1939208</td><td> 0.64852053</td><td>-0.08001874</td><td>-0.05742868</td><td>0.07356159</td><td> 0.158881087</td><td> 0.009322907</td><td>-0.05456728</td><td>-0.076447983</td><td>-0.03633181</td><td>0.03474229</td><td>-0.0241859</td><td> 0.05147712</td><td> 0.02742174</td><td>-0.01615913</td><td>-0.002297243</td><td>-0.006046603</td><td>0.06182982</td><td>-0.06182982</td><td>-0.1344986</td><td>-0.08408008</td><td>-0.11870416</td><td> 0.36358605</td><td>-0.05190463</td><td> 0.37693434</td><td> 0.77617617</td><td>-0.02850556</td><td>-0.06927289</td><td>-0.11870416</td><td>-0.13105893</td></tr>\n",
              "</tbody>\n",
              "</table>\n"
            ]
          },
          "metadata": {}
        }
      ]
    },
    {
      "cell_type": "code",
      "metadata": {
        "id": "G3lKYq_R0P1X",
        "colab": {
          "base_uri": "https://localhost:8080/",
          "height": 158
        },
        "outputId": "4c34c7ee-b987-4585-c952-cf808389904d"
      },
      "source": [
        "data.coeff1 <- as.data.frame(data.coeff[, 141])\n",
        "head(data.coeff1, 2)"
      ],
      "execution_count": 51,
      "outputs": [
        {
          "output_type": "display_data",
          "data": {
            "text/plain": [
              "       data.coeff[, 141]\n",
              "v2a1    0.05083921      \n",
              "hacdor -0.13105893      "
            ],
            "text/latex": "A data.frame: 2 × 1\n\\begin{tabular}{r|l}\n  & data.coeff{[}, 141{]}\\\\\n  & <dbl>\\\\\n\\hline\n\tv2a1 &  0.05083921\\\\\n\thacdor & -0.13105893\\\\\n\\end{tabular}\n",
            "text/markdown": "\nA data.frame: 2 × 1\n\n| <!--/--> | data.coeff[, 141] &lt;dbl&gt; |\n|---|---|\n| v2a1 |  0.05083921 |\n| hacdor | -0.13105893 |\n\n",
            "text/html": [
              "<table class=\"dataframe\">\n",
              "<caption>A data.frame: 2 × 1</caption>\n",
              "<thead>\n",
              "\t<tr><th></th><th scope=col>data.coeff[, 141]</th></tr>\n",
              "\t<tr><th></th><th scope=col>&lt;dbl&gt;</th></tr>\n",
              "</thead>\n",
              "<tbody>\n",
              "\t<tr><th scope=row>v2a1</th><td> 0.05083921</td></tr>\n",
              "\t<tr><th scope=row>hacdor</th><td>-0.13105893</td></tr>\n",
              "</tbody>\n",
              "</table>\n"
            ]
          },
          "metadata": {}
        }
      ]
    },
    {
      "cell_type": "code",
      "metadata": {
        "id": "bu0Caalm-xpe"
      },
      "source": [
        "data.coeff <- as.data.frame(data.coeff)"
      ],
      "execution_count": 52,
      "outputs": []
    },
    {
      "cell_type": "code",
      "metadata": {
        "id": "w-3MEt-q-1HV",
        "colab": {
          "base_uri": "https://localhost:8080/",
          "height": 312
        },
        "outputId": "5f9fe25d-e1a4-4f39-c77a-4896963d15b2"
      },
      "source": [
        "data.coeff %>%\n",
        "  select(Target) %>%\n",
        "  arrange(desc(Target)) %>%\n",
        "  filter(Target > 0.3)"
      ],
      "execution_count": 53,
      "outputs": [
        {
          "output_type": "display_data",
          "data": {
            "text/plain": [
              "            Target   \n",
              "Target      1.0000000\n",
              "epared3     0.4330748\n",
              "etecho3     0.4244458\n",
              "paredblolad 0.3464125\n",
              "escolari    0.3105583\n",
              "age         0.3052747\n",
              "SQBescolari 0.3011515"
            ],
            "text/latex": "A data.frame: 7 × 1\n\\begin{tabular}{r|l}\n  & Target\\\\\n  & <dbl>\\\\\n\\hline\n\tTarget & 1.0000000\\\\\n\tepared3 & 0.4330748\\\\\n\tetecho3 & 0.4244458\\\\\n\tparedblolad & 0.3464125\\\\\n\tescolari & 0.3105583\\\\\n\tage & 0.3052747\\\\\n\tSQBescolari & 0.3011515\\\\\n\\end{tabular}\n",
            "text/markdown": "\nA data.frame: 7 × 1\n\n| <!--/--> | Target &lt;dbl&gt; |\n|---|---|\n| Target | 1.0000000 |\n| epared3 | 0.4330748 |\n| etecho3 | 0.4244458 |\n| paredblolad | 0.3464125 |\n| escolari | 0.3105583 |\n| age | 0.3052747 |\n| SQBescolari | 0.3011515 |\n\n",
            "text/html": [
              "<table class=\"dataframe\">\n",
              "<caption>A data.frame: 7 × 1</caption>\n",
              "<thead>\n",
              "\t<tr><th></th><th scope=col>Target</th></tr>\n",
              "\t<tr><th></th><th scope=col>&lt;dbl&gt;</th></tr>\n",
              "</thead>\n",
              "<tbody>\n",
              "\t<tr><th scope=row>Target</th><td>1.0000000</td></tr>\n",
              "\t<tr><th scope=row>epared3</th><td>0.4330748</td></tr>\n",
              "\t<tr><th scope=row>etecho3</th><td>0.4244458</td></tr>\n",
              "\t<tr><th scope=row>paredblolad</th><td>0.3464125</td></tr>\n",
              "\t<tr><th scope=row>escolari</th><td>0.3105583</td></tr>\n",
              "\t<tr><th scope=row>age</th><td>0.3052747</td></tr>\n",
              "\t<tr><th scope=row>SQBescolari</th><td>0.3011515</td></tr>\n",
              "</tbody>\n",
              "</table>\n"
            ]
          },
          "metadata": {}
        }
      ]
    },
    {
      "cell_type": "code",
      "metadata": {
        "id": "pQVyTHZB2Q5g",
        "colab": {
          "base_uri": "https://localhost:8080/",
          "height": 374
        },
        "outputId": "15c0304e-388c-4c28-b086-218a65f8ea68"
      },
      "source": [
        "data.coeff %>%\n",
        "  select(Target) %>%\n",
        "  arrange(Target) %>%\n",
        "  filter(Target < -0.3)"
      ],
      "execution_count": 54,
      "outputs": [
        {
          "output_type": "display_data",
          "data": {
            "text/plain": [
              "             Target    \n",
              "r4t1         -0.5092123\n",
              "etecho1      -0.4365989\n",
              "r4m1         -0.4330418\n",
              "paredzocalo  -0.4299660\n",
              "hogar_nin    -0.3649528\n",
              "r4h1         -0.3634271\n",
              "epared2      -0.3590120\n",
              "estadocivil1 -0.3193920\n",
              "overcrowding -0.3146248"
            ],
            "text/latex": "A data.frame: 9 × 1\n\\begin{tabular}{r|l}\n  & Target\\\\\n  & <dbl>\\\\\n\\hline\n\tr4t1 & -0.5092123\\\\\n\tetecho1 & -0.4365989\\\\\n\tr4m1 & -0.4330418\\\\\n\tparedzocalo & -0.4299660\\\\\n\thogar\\_nin & -0.3649528\\\\\n\tr4h1 & -0.3634271\\\\\n\tepared2 & -0.3590120\\\\\n\testadocivil1 & -0.3193920\\\\\n\tovercrowding & -0.3146248\\\\\n\\end{tabular}\n",
            "text/markdown": "\nA data.frame: 9 × 1\n\n| <!--/--> | Target &lt;dbl&gt; |\n|---|---|\n| r4t1 | -0.5092123 |\n| etecho1 | -0.4365989 |\n| r4m1 | -0.4330418 |\n| paredzocalo | -0.4299660 |\n| hogar_nin | -0.3649528 |\n| r4h1 | -0.3634271 |\n| epared2 | -0.3590120 |\n| estadocivil1 | -0.3193920 |\n| overcrowding | -0.3146248 |\n\n",
            "text/html": [
              "<table class=\"dataframe\">\n",
              "<caption>A data.frame: 9 × 1</caption>\n",
              "<thead>\n",
              "\t<tr><th></th><th scope=col>Target</th></tr>\n",
              "\t<tr><th></th><th scope=col>&lt;dbl&gt;</th></tr>\n",
              "</thead>\n",
              "<tbody>\n",
              "\t<tr><th scope=row>r4t1</th><td>-0.5092123</td></tr>\n",
              "\t<tr><th scope=row>etecho1</th><td>-0.4365989</td></tr>\n",
              "\t<tr><th scope=row>r4m1</th><td>-0.4330418</td></tr>\n",
              "\t<tr><th scope=row>paredzocalo</th><td>-0.4299660</td></tr>\n",
              "\t<tr><th scope=row>hogar_nin</th><td>-0.3649528</td></tr>\n",
              "\t<tr><th scope=row>r4h1</th><td>-0.3634271</td></tr>\n",
              "\t<tr><th scope=row>epared2</th><td>-0.3590120</td></tr>\n",
              "\t<tr><th scope=row>estadocivil1</th><td>-0.3193920</td></tr>\n",
              "\t<tr><th scope=row>overcrowding</th><td>-0.3146248</td></tr>\n",
              "</tbody>\n",
              "</table>\n"
            ]
          },
          "metadata": {}
        }
      ]
    }
  ]
}
